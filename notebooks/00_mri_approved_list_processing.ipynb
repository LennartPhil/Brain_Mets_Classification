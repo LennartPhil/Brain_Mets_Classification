{
 "cells": [
  {
   "cell_type": "markdown",
   "metadata": {},
   "source": [
    "# Create list of patients with correct MRI sequences"
   ]
  },
  {
   "cell_type": "markdown",
   "metadata": {},
   "source": [
    "### Imports"
   ]
  },
  {
   "cell_type": "code",
   "execution_count": 5,
   "metadata": {},
   "outputs": [],
   "source": [
    "import os\n",
    "import sys\n",
    "sys.path.append(r\"/Users/LennartPhilipp/Desktop/Uni/Prowiss/Code/Brain_Mets_Classification\")\n",
    "\n",
    "from tqdm import tqdm\n",
    "from datetime import datetime\n",
    "import shutil\n",
    "import pandas as pd\n",
    "\n",
    "import brain_mets_classification.config as config\n",
    "import brain_mets_classification.custom_funcs as funcs"
   ]
  },
  {
   "cell_type": "code",
   "execution_count": 6,
   "metadata": {},
   "outputs": [],
   "source": [
    "path_to_folder = f\"{config.path}/originalPatientFiles\"\n",
    "#path_to_folder = f\"{config.path}/RgbBrainMetsSampleN30\"\n",
    "pathToCleanMRIList = \"\""
   ]
  },
  {
   "cell_type": "markdown",
   "metadata": {},
   "source": [
    "### Copy files of patients witht the correct sequences into new directory and create a .csv file with the IDs of said patients"
   ]
  },
  {
   "cell_type": "code",
   "execution_count": 7,
   "metadata": {},
   "outputs": [
    {
     "name": "stderr",
     "output_type": "stream",
     "text": [
      "  0%|          | 1/374 [00:04<25:25,  4.09s/it]"
     ]
    },
    {
     "name": "stdout",
     "output_type": "stream",
     "text": [
      "WARNING 02148010: 2 sequences of same type, ['T2 tse tra 3mm für fMRI Sprache - 11', 'T2 space3d ax - 9']\n"
     ]
    },
    {
     "name": "stderr",
     "output_type": "stream",
     "text": [
      "  2%|▏         | 6/374 [00:19<20:23,  3.32s/it]"
     ]
    },
    {
     "name": "stdout",
     "output_type": "stream",
     "text": [
      "WARNING 01800184: 2 sequences of same type, ['t1_tse_r_tra - 10', 't1_se_tra - 6']\n"
     ]
    },
    {
     "name": "stderr",
     "output_type": "stream",
     "text": [
      "  2%|▏         | 7/374 [00:21<16:32,  2.71s/it]"
     ]
    },
    {
     "name": "stdout",
     "output_type": "stream",
     "text": [
      "WARNING 02063373: 2 sequences of same type, ['T2 space3d ax - 4', 'T2 tse tra 3mm für fMRI Sprache - 11']\n"
     ]
    },
    {
     "name": "stderr",
     "output_type": "stream",
     "text": [
      "  2%|▏         | 9/374 [00:30<22:45,  3.74s/it]"
     ]
    },
    {
     "name": "stdout",
     "output_type": "stream",
     "text": [
      "WARNING 01410317: 2 sequences of same type, ['T1 se tra KM schnell - 11', 'T1 se tra KM schnell - 15']\n"
     ]
    },
    {
     "name": "stderr",
     "output_type": "stream",
     "text": [
      "  3%|▎         | 13/374 [00:36<11:13,  1.86s/it]"
     ]
    },
    {
     "name": "stdout",
     "output_type": "stream",
     "text": [
      "WARNING 02034046: 3 sequences of same type, ['T1 tse tra KM - 25', 'T1 tse tra KM - 24', 'T1 se tra KM schnell - 19']\n",
      "WARNING 02034046: 3 sequences of same type, ['T2 tse tra - 6', 'T2 tse tra - 16', 'T2 tse tra - 17']\n"
     ]
    },
    {
     "name": "stderr",
     "output_type": "stream",
     "text": [
      "  4%|▎         | 14/374 [00:41<15:50,  2.64s/it]"
     ]
    },
    {
     "name": "stdout",
     "output_type": "stream",
     "text": [
      "WARNING 02116290: 2 sequences of same type, ['T2 tse tra schnell - 10', 'T2 blade tra - 12']\n",
      "WARNING 02116290: 2 sequences of same type, ['T2 blade flair tra - 11', 'T2 flair tra schnell - 9']\n"
     ]
    },
    {
     "name": "stderr",
     "output_type": "stream",
     "text": [
      "  4%|▍         | 15/374 [00:44<16:41,  2.79s/it]"
     ]
    },
    {
     "name": "stdout",
     "output_type": "stream",
     "text": [
      "WARNING 01391984: 2 sequences of same type, ['3D_T1_tra KM - 503', 'T1 se tra KM schnell - 7']\n",
      "WARNING 01391984: 2 sequences of same type, ['T2 TSE tra - 401', 'T2 tse tra schnell - 3']\n",
      "WARNING 01391984: 2 sequences of same type, ['Flair tra - 301', 'T2 flair tra schnell - 2']\n"
     ]
    },
    {
     "name": "stderr",
     "output_type": "stream",
     "text": [
      "  6%|▌         | 21/374 [00:55<14:42,  2.50s/it]"
     ]
    },
    {
     "name": "stdout",
     "output_type": "stream",
     "text": [
      "WARNING 02117549: 4 sequences of same type, ['T1 tse tra KM WS - 32', 'T1 se tra KM schnell - 28', 'T1 tse tra KM WS - 31', 'T1 tse tra KM WS - 30']\n",
      "WARNING 02117549: 4 sequences of same type, ['T2 tse tra schnell - 7', 'T2 tse tra - 23', 'T2 tse tra - 22', 'T2 tse tra - 21']\n"
     ]
    },
    {
     "name": "stderr",
     "output_type": "stream",
     "text": [
      "  6%|▌         | 23/374 [01:01<15:24,  2.63s/it]"
     ]
    },
    {
     "name": "stdout",
     "output_type": "stream",
     "text": [
      "WARNING 02046093: 2 sequences of same type, ['T1 flash tra KM - 13', 'T1 se tra KM - 11']\n"
     ]
    },
    {
     "name": "stderr",
     "output_type": "stream",
     "text": [
      "  8%|▊         | 29/374 [01:28<30:59,  5.39s/it]"
     ]
    },
    {
     "name": "stdout",
     "output_type": "stream",
     "text": [
      "WARNING 01878062: 4 sequences of same type, ['T2 space3d ax - 3', 'T2 space3d ax - 4', 'T2 tse tra 3mm für fMRI Sprache - 31', 'T2 tse tra 3mm für fMRI Motorik - 11']\n"
     ]
    },
    {
     "name": "stderr",
     "output_type": "stream",
     "text": [
      "  9%|▉         | 34/374 [01:42<18:04,  3.19s/it]"
     ]
    },
    {
     "name": "stdout",
     "output_type": "stream",
     "text": [
      "WARNING 02062434: 2 sequences of same type, ['axial T2 tseRB 384 2 5mm!! - 8', 'axial T2 fl30 hemo p2 - 3']\n"
     ]
    },
    {
     "name": "stderr",
     "output_type": "stream",
     "text": [
      " 10%|▉         | 37/374 [01:53<19:26,  3.46s/it]"
     ]
    },
    {
     "name": "stdout",
     "output_type": "stream",
     "text": [
      "WARNING 01882989: 2 sequences of same type, ['T1 flash tra KM - 38', 'T1 se tra KM - 36']\n",
      "WARNING 01882989: 2 sequences of same type, ['T2 tse tra - 3', 'T2 tse tra 3mm für fMRI Motorik - 14']\n",
      "WARNING 01882989: 2 sequences of same type, ['Diffusion orthog.+-trace tra_TRACEW - 5', 'Diffusion orthog.+-trace tra - 4']\n"
     ]
    },
    {
     "name": "stderr",
     "output_type": "stream",
     "text": [
      " 10%|█         | 38/374 [02:03<30:18,  5.41s/it]"
     ]
    },
    {
     "name": "stdout",
     "output_type": "stream",
     "text": [
      "WARNING 02090584: 2 sequences of same type, ['Ax T1 2mm KM - 9', 'Ax T1 3D KM 1mm - 8']\n"
     ]
    },
    {
     "name": "stderr",
     "output_type": "stream",
     "text": [
      " 12%|█▏        | 46/374 [02:39<31:30,  5.76s/it]"
     ]
    },
    {
     "name": "stdout",
     "output_type": "stream",
     "text": [
      "WARNING 02105939: 3 sequences of same type, ['T1 se tra KM - 24', 'T1 tse tra KM - 34', 'T1 tse tra KM - 33']\n",
      "WARNING 02105939: 3 sequences of same type, ['T2 tse tra - 12', 'T2 tse tra - 13', 'T2 tse tra - 19']\n"
     ]
    },
    {
     "name": "stderr",
     "output_type": "stream",
     "text": [
      " 13%|█▎        | 49/374 [02:48<20:55,  3.86s/it]"
     ]
    },
    {
     "name": "stdout",
     "output_type": "stream",
     "text": [
      "WARNING 01190670: 2 sequences of same type, ['axial T1 320 - 7', 'axial T1 320 - 8']\n"
     ]
    },
    {
     "name": "stderr",
     "output_type": "stream",
     "text": [
      " 14%|█▍        | 52/374 [02:57<17:01,  3.17s/it]"
     ]
    },
    {
     "name": "stdout",
     "output_type": "stream",
     "text": [
      "WARNING 01013277: 2 sequences of same type, ['T1 se tra KM schnell - 11', 'T1 se tra KM Wdhg. - 13']\n"
     ]
    },
    {
     "name": "stderr",
     "output_type": "stream",
     "text": [
      " 15%|█▍        | 56/374 [03:06<12:30,  2.36s/it]"
     ]
    },
    {
     "name": "stdout",
     "output_type": "stream",
     "text": [
      "WARNING 01021714: 2 sequences of same type, ['t1_fl2d_448 _tra - 12', 't1_fl2d_448 _tra - 11']\n",
      "WARNING 01021714: 2 sequences of same type, ['ep2d_diff_3scan_trace_p2_TRACEW - 7', 'ep2d_diff_3scan_trace_p2_CALC_BVAL - 9']\n"
     ]
    },
    {
     "name": "stderr",
     "output_type": "stream",
     "text": [
      " 21%|██▏       | 80/374 [04:19<16:48,  3.43s/it]"
     ]
    },
    {
     "name": "stdout",
     "output_type": "stream",
     "text": [
      "WARNING 02173772: 2 sequences of same type, ['T2 spaced ax - 1013', 'T2 tse tra 3mm für fMRI Motorik - 10']\n"
     ]
    },
    {
     "name": "stderr",
     "output_type": "stream",
     "text": [
      " 22%|██▏       | 81/374 [04:24<18:44,  3.84s/it]"
     ]
    },
    {
     "name": "stdout",
     "output_type": "stream",
     "text": [
      "WARNING 02184584: 2 sequences of same type, ['T1 se tra schnell - 10', 'T1 se tra schnell - 11']\n"
     ]
    },
    {
     "name": "stderr",
     "output_type": "stream",
     "text": [
      " 22%|██▏       | 83/374 [04:29<15:24,  3.18s/it]"
     ]
    },
    {
     "name": "stdout",
     "output_type": "stream",
     "text": [
      "WARNING 01755816: 2 sequences of same type, ['T1 se tra KM schnell - 12', 'T1 flash tra KM schnell - 16']\n"
     ]
    },
    {
     "name": "stderr",
     "output_type": "stream",
     "text": [
      " 23%|██▎       | 86/374 [04:36<11:59,  2.50s/it]"
     ]
    },
    {
     "name": "stdout",
     "output_type": "stream",
     "text": [
      "WARNING 01943022: 2 sequences of same type, ['t1 se tra - 3', 't1 se tra - 10']\n",
      "WARNING 01943022: 2 sequences of same type, ['ep2d diff tra - 6', 'ep2d diff tra - 5']\n"
     ]
    },
    {
     "name": "stderr",
     "output_type": "stream",
     "text": [
      " 25%|██▍       | 92/374 [04:45<08:26,  1.80s/it]"
     ]
    },
    {
     "name": "stdout",
     "output_type": "stream",
     "text": [
      "WARNING 01658206: 2 sequences of same type, ['Ax T2* GRE - 6', 'Ax T2 FSE Prop - 4']\n"
     ]
    },
    {
     "name": "stderr",
     "output_type": "stream",
     "text": [
      " 28%|██▊       | 104/374 [05:13<13:36,  3.02s/it]"
     ]
    },
    {
     "name": "stdout",
     "output_type": "stream",
     "text": [
      "WARNING 02194539: 2 sequences of same type, ['T1W_FFE tra - 601', 'T1 3D cs ax - 202']\n"
     ]
    },
    {
     "name": "stderr",
     "output_type": "stream",
     "text": [
      " 32%|███▏      | 118/374 [05:53<13:08,  3.08s/it]"
     ]
    },
    {
     "name": "stdout",
     "output_type": "stream",
     "text": [
      "WARNING 01699532: 2 sequences of same type, ['Diffusion trace tra - 3', 'Diffusion trace tra - 4']\n"
     ]
    },
    {
     "name": "stderr",
     "output_type": "stream",
     "text": [
      " 33%|███▎      | 125/374 [06:12<13:19,  3.21s/it]"
     ]
    },
    {
     "name": "stdout",
     "output_type": "stream",
     "text": [
      "WARNING 01563052: 3 sequences of same type, ['t1_se_tra - 8001', 't1_se_tra - 12001', 't1_tse_r_tra - 10001']\n"
     ]
    },
    {
     "name": "stderr",
     "output_type": "stream",
     "text": [
      " 36%|███▌      | 134/374 [06:34<12:58,  3.24s/it]"
     ]
    },
    {
     "name": "stdout",
     "output_type": "stream",
     "text": [
      "WARNING 01798755: 2 sequences of same type, ['t1_tse_r_tra - 10', 't1_se_tra - 6']\n"
     ]
    },
    {
     "name": "stderr",
     "output_type": "stream",
     "text": [
      " 36%|███▌      | 135/374 [06:36<11:22,  2.85s/it]"
     ]
    },
    {
     "name": "stdout",
     "output_type": "stream",
     "text": [
      "WARNING 01760947: 2 sequences of same type, ['T1 flash tra KM - 13', 'T1 se tra KM - 11']\n"
     ]
    },
    {
     "name": "stderr",
     "output_type": "stream",
     "text": [
      " 37%|███▋      | 139/374 [06:54<15:37,  3.99s/it]"
     ]
    },
    {
     "name": "stdout",
     "output_type": "stream",
     "text": [
      "WARNING 01018613: 2 sequences of same type, ['T2 tse tra 3mm für fMRI Sprache - 14', 'T2 space3d ax - 12']\n"
     ]
    },
    {
     "name": "stderr",
     "output_type": "stream",
     "text": [
      " 37%|███▋      | 140/374 [07:00<17:32,  4.50s/it]"
     ]
    },
    {
     "name": "stdout",
     "output_type": "stream",
     "text": [
      "WARNING 01360726: 2 sequences of same type, ['t1 _tse_tra_p2_DRS - 11', 't1 _tse_tra_p2_DRS - 9']\n",
      "WARNING 01360726: 2 sequences of same type, ['t2_tse_dark-fluid_tra - 5', 't2_fl2d_tra_hemo - 8']\n"
     ]
    },
    {
     "name": "stderr",
     "output_type": "stream",
     "text": [
      " 38%|███▊      | 143/374 [07:08<12:22,  3.21s/it]"
     ]
    },
    {
     "name": "stdout",
     "output_type": "stream",
     "text": [
      "WARNING 01578955: 2 sequences of same type, ['T1W_3D_FFE tra KM - 1101', 'T1W_3D_FFE tra KM - 1201']\n",
      "WARNING 01578955: 2 sequences of same type, ['T2W_TSE_tra duenn - 801', 'T2 FFE * tra - 901']\n"
     ]
    },
    {
     "name": "stderr",
     "output_type": "stream",
     "text": [
      " 39%|███▉      | 146/374 [07:27<21:41,  5.71s/it]"
     ]
    },
    {
     "name": "stdout",
     "output_type": "stream",
     "text": [
      "WARNING 01764802: 2 sequences of same type, ['T1 se tra - 7', 'T1 se tra - 13']\n",
      "WARNING 01764802: 3 sequences of same type, ['T1 se tra KM - 8', 'T1 se tra KM - 65', 'T1 flash tra KM - 66']\n",
      "WARNING 01764802: 4 sequences of same type, ['T2 tse tra - 3', 'T2 tse tra 3mm für fMRI Sprache - 41', 'T2 tse tra 3mm für fMRI Motorik - 20', 'T2 tse tra - 8']\n",
      "WARNING 01764802: 3 sequences of same type, ['T2 flair tra - 2', 'T2 flair tra - 7', 'T2 flair space3d ax - 3']\n",
      "WARNING 01764802: 2 sequences of same type, ['Diffusion trace tra - 4', 'Diffusion orthog.+-trace tra - 9']\n",
      "WARNING 01764802: 2 sequences of same type, ['Diffusion trace tra_ADC - 5', 'Diffusion orthog.+-trace tra_ADC - 11']\n"
     ]
    },
    {
     "name": "stderr",
     "output_type": "stream",
     "text": [
      " 39%|███▉      | 147/374 [07:32<21:18,  5.63s/it]"
     ]
    },
    {
     "name": "stdout",
     "output_type": "stream",
     "text": [
      "WARNING 01781732: 2 sequences of same type, ['T2 tse tra 3mm für fMRI Sprache - 12', 'T2 space3d ax - 4']\n"
     ]
    },
    {
     "name": "stderr",
     "output_type": "stream",
     "text": [
      " 41%|████      | 153/374 [07:47<11:15,  3.06s/it]"
     ]
    },
    {
     "name": "stdout",
     "output_type": "stream",
     "text": [
      "WARNING 01072344: 2 sequences of same type, ['T1 se tra KM schnell - 17', 'T1 se fs tra KM OA - 16']\n",
      "WARNING 01072344: 2 sequences of same type, ['T2 tse tra OA - 14', 'T2 tse tra schnell - 3']\n"
     ]
    },
    {
     "name": "stderr",
     "output_type": "stream",
     "text": [
      " 42%|████▏     | 157/374 [08:04<15:06,  4.18s/it]"
     ]
    },
    {
     "name": "stdout",
     "output_type": "stream",
     "text": [
      "WARNING 02082498: 3 sequences of same type, ['T1 se tra schnell - 20', 't1_fl2d_tra_p2. - 31', 'T1 se tra schnell - 10']\n",
      "WARNING 02082498: 2 sequences of same type, ['T1 se tra KM schnell - 21', 'T1 se tra KM schnell - 11']\n",
      "WARNING 02082498: 3 sequences of same type, ['T2 tse tra schnell für CEST - 13', 'T2 tse tra schnell - 12', 'T2 tse tra schnell - 6']\n",
      "WARNING 02082498: 2 sequences of same type, ['T2 flair tra schnell - 5', 'T2 flair tra schnell - 5']\n",
      "WARNING 02082498: 2 sequences of same type, ['Diffusion trace tra schnell_TRACEW - 10', 'Diffusion trace tra schnell_TRACEW - 7']\n",
      "WARNING 02082498: 2 sequences of same type, ['Diffusion trace tra schnell_ADC - 11', 'Diffusion trace tra schnell_ADC - 8']\n"
     ]
    },
    {
     "name": "stderr",
     "output_type": "stream",
     "text": [
      " 42%|████▏     | 158/374 [08:07<13:22,  3.72s/it]"
     ]
    },
    {
     "name": "stdout",
     "output_type": "stream",
     "text": [
      "WARNING 02010452: 2 sequences of same type, ['axial FLAIR 3mm - 13', 'axial FLAIR 3mm - 5']\n"
     ]
    },
    {
     "name": "stderr",
     "output_type": "stream",
     "text": [
      " 43%|████▎     | 161/374 [08:15<12:16,  3.46s/it]"
     ]
    },
    {
     "name": "stdout",
     "output_type": "stream",
     "text": [
      "WARNING 01995695: 2 sequences of same type, ['T2 space3d ax - 17', 'T2 tse tra 3mm für fMRI Sprache - 13']\n"
     ]
    },
    {
     "name": "stderr",
     "output_type": "stream",
     "text": [
      " 45%|████▌     | 169/374 [08:37<10:04,  2.95s/it]"
     ]
    },
    {
     "name": "stdout",
     "output_type": "stream",
     "text": [
      "WARNING 02009523: 2 sequences of same type, ['T1 se tra KM schnell - 21', 'T1 tse tra KM WS - 25']\n"
     ]
    },
    {
     "name": "stderr",
     "output_type": "stream",
     "text": [
      " 45%|████▌     | 170/374 [08:39<08:21,  2.46s/it]"
     ]
    },
    {
     "name": "stdout",
     "output_type": "stream",
     "text": [
      "WARNING 02100970: 2 sequences of same type, ['t2_tse_dark-fluid_tra_5mm - 6', 'pd+t2_tse_tra_p2 - 7']\n"
     ]
    },
    {
     "name": "stderr",
     "output_type": "stream",
     "text": [
      " 46%|████▌     | 172/374 [08:48<12:04,  3.59s/it]"
     ]
    },
    {
     "name": "stdout",
     "output_type": "stream",
     "text": [
      "WARNING 01548397: 3 sequences of same type, ['t2_tse_dark-fluid_tra - 8', 't2_tse_tra_p2_s2 - 9', 't2_tse_dark-fluid_tra - 5']\n"
     ]
    },
    {
     "name": "stderr",
     "output_type": "stream",
     "text": [
      " 47%|████▋     | 174/374 [08:57<13:56,  4.18s/it]"
     ]
    },
    {
     "name": "stdout",
     "output_type": "stream",
     "text": [
      "WARNING 02066445: 2 sequences of same type, ['T1 3D cs ax - 1002', 'T1W_FFE tra - 401']\n"
     ]
    },
    {
     "name": "stderr",
     "output_type": "stream",
     "text": [
      " 47%|████▋     | 176/374 [09:06<14:44,  4.47s/it]"
     ]
    },
    {
     "name": "stdout",
     "output_type": "stream",
     "text": [
      "WARNING 02066814: 2 sequences of same type, ['Axial T1 5mm - 7', 'Axial T1 5mm - 14']\n",
      "WARNING 02066814: 4 sequences of same type, ['Axial T2 Diffusion neu_ADC - 9', 'Axial T2 hemo 5 mm - 10', 'Axial T2 Diffusion neu_TRACEW - 8', 't2_tse_tra - 6']\n"
     ]
    },
    {
     "name": "stderr",
     "output_type": "stream",
     "text": [
      " 47%|████▋     | 177/374 [09:08<11:37,  3.54s/it]"
     ]
    },
    {
     "name": "stdout",
     "output_type": "stream",
     "text": [
      "WARNING 02051037: 2 sequences of same type, ['T1W_SE tra 15 ml Dotavision i.v. - 701', 'T1W_SE tra - 401']\n",
      "WARNING 02051037: 2 sequences of same type, ['FLAIR tra - 201', 'FLAIR tra - 202']\n"
     ]
    },
    {
     "name": "stderr",
     "output_type": "stream",
     "text": [
      " 48%|████▊     | 179/374 [09:14<10:30,  3.23s/it]"
     ]
    },
    {
     "name": "stdout",
     "output_type": "stream",
     "text": [
      "WARNING 02108926: 2 sequences of same type, ['T2 tse tra schnell für CEST - 11', 'T2 tse tra schnell - 5']\n"
     ]
    },
    {
     "name": "stderr",
     "output_type": "stream",
     "text": [
      " 49%|████▊     | 182/374 [09:19<07:10,  2.24s/it]"
     ]
    },
    {
     "name": "stdout",
     "output_type": "stream",
     "text": [
      "WARNING 01792771: 2 sequences of same type, ['Diffusion trace tra - 3', 'Diffusion trace tra - 4']\n"
     ]
    },
    {
     "name": "stderr",
     "output_type": "stream",
     "text": [
      " 51%|█████     | 191/374 [09:38<05:48,  1.90s/it]"
     ]
    },
    {
     "name": "stdout",
     "output_type": "stream",
     "text": [
      "WARNING 01670714: 2 sequences of same type, ['t1_fl2d_tra_p2 - 17', 'T1 se tra schnell - 6']\n",
      "WARNING 01670714: 2 sequences of same type, ['T2 tse tra schnell für CEST - 7', 'T2 tse tra schnell - 3']\n",
      "WARNING 01670714: 2 sequences of same type, ['T2 flair tra - 6', 'T2 flair tra schnell - 2']\n"
     ]
    },
    {
     "name": "stderr",
     "output_type": "stream",
     "text": [
      " 53%|█████▎    | 197/374 [09:49<06:50,  2.32s/it]"
     ]
    },
    {
     "name": "stdout",
     "output_type": "stream",
     "text": [
      "WARNING 01257796: 2 sequences of same type, ['t1_tse_r_tra - 10', 't1_se_tra - 6']\n"
     ]
    },
    {
     "name": "stderr",
     "output_type": "stream",
     "text": [
      " 54%|█████▎    | 201/374 [09:57<07:33,  2.62s/it]"
     ]
    },
    {
     "name": "stdout",
     "output_type": "stream",
     "text": [
      "WARNING 01955868: 2 sequences of same type, ['T2 tse tra 4mm für CEST - 10', 'T2 space3d ax - 4']\n"
     ]
    },
    {
     "name": "stderr",
     "output_type": "stream",
     "text": [
      " 56%|█████▌    | 209/374 [10:16<05:41,  2.07s/it]"
     ]
    },
    {
     "name": "stdout",
     "output_type": "stream",
     "text": [
      "WARNING 01400779: 2 sequences of same type, ['axial T1 Halffourier - 9', 'axial T1 FLASH 2d - 8']\n"
     ]
    },
    {
     "name": "stderr",
     "output_type": "stream",
     "text": [
      " 56%|█████▌    | 210/374 [10:18<05:45,  2.11s/it]"
     ]
    },
    {
     "name": "stdout",
     "output_type": "stream",
     "text": [
      "WARNING 01484016: 2 sequences of same type, ['Diffusion trace tra - 5', 'Diffusion trace tra - 4']\n"
     ]
    },
    {
     "name": "stderr",
     "output_type": "stream",
     "text": [
      " 57%|█████▋    | 212/374 [10:28<10:36,  3.93s/it]"
     ]
    },
    {
     "name": "stdout",
     "output_type": "stream",
     "text": [
      "WARNING 01516702: 3 sequences of same type, ['T1 se tra schnell - 19', 't1_fl2d_tra_p2 - 25', 'T1 se tra schnell - 10']\n",
      "WARNING 01516702: 3 sequences of same type, ['T1 se tra KM schnell - 20', 'T1 se tra KM schnell für CEST - 22', 'T1 se tra KM schnell - 11']\n",
      "WARNING 01516702: 2 sequences of same type, ['T2 tse tra schnell - 12', 'T2 tse tra schnell - 6']\n",
      "WARNING 01516702: 2 sequences of same type, ['T2 flair tra schnell - 5', 'T2 flair tra schnell - 5']\n",
      "WARNING 01516702: 2 sequences of same type, ['Diffusion trace tra schnell_TRACEW - 6', 'Diffusion trace tra schnell_TRACEW - 7']\n",
      "WARNING 01516702: 2 sequences of same type, ['Diffusion trace tra schnell_ADC - 7', 'Diffusion trace tra schnell_ADC - 8']\n"
     ]
    },
    {
     "name": "stderr",
     "output_type": "stream",
     "text": [
      " 59%|█████▉    | 220/374 [10:49<10:56,  4.26s/it]"
     ]
    },
    {
     "name": "stdout",
     "output_type": "stream",
     "text": [
      "WARNING 02140670: 2 sequences of same type, ['axial T1 - 10', 'T1 se tra schnell - 10']\n",
      "WARNING 02140670: 2 sequences of same type, ['axial T1 KM - 12', 'T1 se tra KM schnell - 11']\n",
      "WARNING 02140670: 2 sequences of same type, ['axial T2 tse - 11', 'T2 tse tra schnell - 6']\n",
      "WARNING 02140670: 2 sequences of same type, ['axial Flair - 5', 'T2 flair tra schnell - 5']\n",
      "WARNING 02140670: 3 sequences of same type, ['axial diff +- ADC_ADC - 8', 'axial diff +- ADC_TRACEW - 7', 'Diffusion trace tra schnell_ADC - 8']\n"
     ]
    },
    {
     "name": "stderr",
     "output_type": "stream",
     "text": [
      " 60%|█████▉    | 224/374 [11:04<10:03,  4.02s/it]"
     ]
    },
    {
     "name": "stdout",
     "output_type": "stream",
     "text": [
      "WARNING 01321873: 2 sequences of same type, ['T2 tra - 1001', 'T2 TSE tra - 501']\n"
     ]
    },
    {
     "name": "stderr",
     "output_type": "stream",
     "text": [
      " 61%|██████    | 227/374 [11:12<07:24,  3.02s/it]"
     ]
    },
    {
     "name": "stdout",
     "output_type": "stream",
     "text": [
      "WARNING 01443624: 2 sequences of same type, ['axial T1 5mm - 10', 'axial T1 5mm - 11']\n",
      "WARNING 01443624: 2 sequences of same type, ['axial T2 TSE 5mm_512 - 8', 'axial T2 Flash 5mm - 9']\n"
     ]
    },
    {
     "name": "stderr",
     "output_type": "stream",
     "text": [
      " 61%|██████    | 229/374 [11:20<08:28,  3.51s/it]"
     ]
    },
    {
     "name": "stdout",
     "output_type": "stream",
     "text": [
      "WARNING 02092074: 2 sequences of same type, ['T2 space3d ax - 4', 'T2 tse tra 3mm für fMRI Motorik - 11']\n"
     ]
    },
    {
     "name": "stderr",
     "output_type": "stream",
     "text": [
      " 62%|██████▏   | 233/374 [11:41<11:11,  4.76s/it]"
     ]
    },
    {
     "name": "stdout",
     "output_type": "stream",
     "text": [
      "WARNING 01819252: 2 sequences of same type, ['T2 tse tra schnell - 10', 'T2 tse tra schnell - 6']\n"
     ]
    },
    {
     "name": "stderr",
     "output_type": "stream",
     "text": [
      " 63%|██████▎   | 235/374 [11:55<13:37,  5.88s/it]"
     ]
    },
    {
     "name": "stdout",
     "output_type": "stream",
     "text": [
      "WARNING 01946271: 4 sequences of same type, ['T2 tse tra - 3', 'T2 tse tra 3mm für fMRI Sprache - 15', 'T2 space3d ax - 5002', 'T2 tse tra 3mm für fMRI Motorik - 21']\n"
     ]
    },
    {
     "name": "stderr",
     "output_type": "stream",
     "text": [
      " 63%|██████▎   | 237/374 [15:08<2:12:19, 57.95s/it]"
     ]
    },
    {
     "name": "stdout",
     "output_type": "stream",
     "text": [
      "WARNING 01001917: 2 sequences of same type, ['T2 space3d ax - 3', 'T2 tse tra 3mm für fMRI Sprache - 11']\n"
     ]
    },
    {
     "name": "stderr",
     "output_type": "stream",
     "text": [
      " 64%|██████▍   | 241/374 [15:20<37:42, 17.01s/it]  "
     ]
    },
    {
     "name": "stdout",
     "output_type": "stream",
     "text": [
      "WARNING 01983233: 2 sequences of same type, ['axial Flair - 6', 'axial Flair - 5']\n"
     ]
    },
    {
     "name": "stderr",
     "output_type": "stream",
     "text": [
      " 66%|██████▌   | 246/374 [15:36<11:40,  5.47s/it]"
     ]
    },
    {
     "name": "stdout",
     "output_type": "stream",
     "text": [
      "WARNING 01641960: 2 sequences of same type, ['axial diff +- ADC_ADC - 8', 'axial diff +- ADC_TRACEW - 7']\n"
     ]
    },
    {
     "name": "stderr",
     "output_type": "stream",
     "text": [
      " 66%|██████▌   | 247/374 [15:39<09:49,  4.64s/it]"
     ]
    },
    {
     "name": "stdout",
     "output_type": "stream",
     "text": [
      "WARNING 01800439: 3 sequences of same type, ['3D T1 FSPGR KM MPR axial - 900', 'Ax T1 FSPGR 3D+12ml Dotavision - 9', 'Ax T1 PROPELLER+ 12ml Dotavision - 10']\n",
      "WARNING 01800439: 2 sequences of same type, ['Ax T2* GRE Haemosequenz - 4', 'Ax T2 PROPELLER - 8']\n"
     ]
    },
    {
     "name": "stderr",
     "output_type": "stream",
     "text": [
      " 66%|██████▋   | 248/374 [15:42<09:13,  4.39s/it]"
     ]
    },
    {
     "name": "stdout",
     "output_type": "stream",
     "text": [
      "WARNING 02145870: 3 sequences of same type, ['T2 space3d ax - 3', 'T2 tse tra 3mm für fMRI Motorik - 11', 'T2 tse tra 3mm für fMRI Sprache - 35']\n"
     ]
    },
    {
     "name": "stderr",
     "output_type": "stream",
     "text": [
      " 68%|██████▊   | 254/374 [15:51<03:05,  1.54s/it]"
     ]
    },
    {
     "name": "stdout",
     "output_type": "stream",
     "text": [
      "WARNING 01921604: 2 sequences of same type, ['t1_se_tra - 11', 't1_se_tra - 12']\n",
      "WARNING 01921604: 2 sequences of same type, ['t2_tse_tra - 9', 't2_fl2d_tra_hemo - 6']\n"
     ]
    },
    {
     "name": "stderr",
     "output_type": "stream",
     "text": [
      " 68%|██████▊   | 256/374 [16:00<06:10,  3.14s/it]"
     ]
    },
    {
     "name": "stdout",
     "output_type": "stream",
     "text": [
      "WARNING 02161647: 2 sequences of same type, ['t1 se tra - 9', 't1 se tra - 12']\n",
      "WARNING 02161647: 2 sequences of same type, ['ep2d diff tra - 7', 'ep2d diff tra - 6']\n"
     ]
    },
    {
     "name": "stderr",
     "output_type": "stream",
     "text": [
      " 69%|██████▉   | 258/374 [16:03<04:37,  2.39s/it]"
     ]
    },
    {
     "name": "stdout",
     "output_type": "stream",
     "text": [
      "WARNING 01979317: 2 sequences of same type, ['T1 flash tra KM - 13', 'T1 se tra KM - 11']\n"
     ]
    },
    {
     "name": "stderr",
     "output_type": "stream",
     "text": [
      " 70%|███████   | 263/374 [16:14<04:37,  2.50s/it]"
     ]
    },
    {
     "name": "stdout",
     "output_type": "stream",
     "text": [
      "WARNING 01482000: 2 sequences of same type, ['Ax T2 5mm DL - 3', 'Ax T2* FGRE - 5']\n"
     ]
    },
    {
     "name": "stderr",
     "output_type": "stream",
     "text": [
      " 71%|███████   | 265/374 [16:18<03:37,  1.99s/it]"
     ]
    },
    {
     "name": "stdout",
     "output_type": "stream",
     "text": [
      "WARNING 02091120: 2 sequences of same type, ['T2 space3d ax - 4', 'T2 tse tra 3mm für fMRI Motorik - 11']\n"
     ]
    },
    {
     "name": "stderr",
     "output_type": "stream",
     "text": [
      " 71%|███████▏  | 267/374 [16:23<04:35,  2.58s/it]"
     ]
    },
    {
     "name": "stdout",
     "output_type": "stream",
     "text": [
      "WARNING 02210001: 4 sequences of same type, ['T1 tse tra KM WS - 29', 'T1 tse tra KM WS - 27', 'T1 tse tra KM WS - 28', 'T1 se tra KM schnell - 23']\n",
      "WARNING 02210001: 3 sequences of same type, ['T2 tse tra - 18', 'T2 tse tra - 17', 'T2 tse tra - 19']\n"
     ]
    },
    {
     "name": "stderr",
     "output_type": "stream",
     "text": [
      " 72%|███████▏  | 271/374 [16:35<05:35,  3.25s/it]"
     ]
    },
    {
     "name": "stdout",
     "output_type": "stream",
     "text": [
      "WARNING 02126982: 3 sequences of same type, ['T2 tse tra 3mm für fMRI Sprache - 41', 'T2 space3d ax - 3', 'T2 tse tra 3mm für fMRI Motorik - 11']\n"
     ]
    },
    {
     "name": "stderr",
     "output_type": "stream",
     "text": [
      " 77%|███████▋  | 287/374 [17:07<02:28,  1.71s/it]"
     ]
    },
    {
     "name": "stdout",
     "output_type": "stream",
     "text": [
      "WARNING 01659187: 2 sequences of same type, ['Diffusion trace tra - 3', 'Diffusion trace tra - 4']\n"
     ]
    },
    {
     "name": "stderr",
     "output_type": "stream",
     "text": [
      " 77%|███████▋  | 288/374 [17:10<03:01,  2.11s/it]"
     ]
    },
    {
     "name": "stdout",
     "output_type": "stream",
     "text": [
      "WARNING 01609293: 2 sequences of same type, ['T1 flash tra schnell KM - 16', 'T1 se tra KM schnell - 12']\n",
      "WARNING 01609293: 2 sequences of same type, ['T2 tse tra schnell - 10', 'T2 tse tra schnell - 6']\n"
     ]
    },
    {
     "name": "stderr",
     "output_type": "stream",
     "text": [
      " 78%|███████▊  | 290/374 [17:14<02:59,  2.14s/it]"
     ]
    },
    {
     "name": "stdout",
     "output_type": "stream",
     "text": [
      "WARNING 02140942: 2 sequences of same type, ['T2 space3d ax - 3', 'T2 tse tra 3mm für fMRI Sprache - 11']\n"
     ]
    },
    {
     "name": "stderr",
     "output_type": "stream",
     "text": [
      " 78%|███████▊  | 293/374 [17:21<03:04,  2.28s/it]"
     ]
    },
    {
     "name": "stdout",
     "output_type": "stream",
     "text": [
      "WARNING 02173158: 2 sequences of same type, ['axial diff +- ADC 3mm_ADC - 9', 'axial diff +- ADC 3mm_TRACEW - 8']\n"
     ]
    },
    {
     "name": "stderr",
     "output_type": "stream",
     "text": [
      " 79%|███████▉  | 295/374 [17:27<03:38,  2.77s/it]"
     ]
    },
    {
     "name": "stdout",
     "output_type": "stream",
     "text": [
      "WARNING 02119712: 3 sequences of same type, ['T2 tse tra 3mm für fMRI Sprache - 25', 'T2 space3d ax - 40', 'T2 tse tra 3mm für fMRI Motorik - 3']\n"
     ]
    },
    {
     "name": "stderr",
     "output_type": "stream",
     "text": [
      " 87%|████████▋ | 326/374 [18:26<01:08,  1.42s/it]"
     ]
    },
    {
     "name": "stdout",
     "output_type": "stream",
     "text": [
      "WARNING 01021993: 2 sequences of same type, ['axial T2 fl30 hemo p2 - 9', 'axial T2 tseRB 384 - 3']\n"
     ]
    },
    {
     "name": "stderr",
     "output_type": "stream",
     "text": [
      " 87%|████████▋ | 327/374 [18:29<01:33,  1.98s/it]"
     ]
    },
    {
     "name": "stdout",
     "output_type": "stream",
     "text": [
      "WARNING 01352224: 2 sequences of same type, ['Ax T2 5mm DL - 3', 'Ax T2* FGRE - 5']\n"
     ]
    },
    {
     "name": "stderr",
     "output_type": "stream",
     "text": [
      " 89%|████████▉ | 332/374 [18:42<01:43,  2.47s/it]"
     ]
    },
    {
     "name": "stdout",
     "output_type": "stream",
     "text": [
      "WARNING 02109575: 2 sequences of same type, ['T2 space3d ax - 28', 'T2 tse tra 3mm für fMRI Sprache - 9']\n"
     ]
    },
    {
     "name": "stderr",
     "output_type": "stream",
     "text": [
      " 90%|████████▉ | 335/374 [18:46<01:05,  1.68s/it]"
     ]
    },
    {
     "name": "stdout",
     "output_type": "stream",
     "text": [
      "WARNING 01879950: 2 sequences of same type, ['T1 flash tra KM - 13', 'T1 se tra KM - 11']\n"
     ]
    },
    {
     "name": "stderr",
     "output_type": "stream",
     "text": [
      " 94%|█████████▍| 353/374 [19:16<00:48,  2.32s/it]"
     ]
    },
    {
     "name": "stdout",
     "output_type": "stream",
     "text": [
      "WARNING 02088565: 4 sequences of same type, ['T1 tse tra KM - 30', 'T1 tse tra KM - 31', 'T1 se tra KM schnell - 21', 'T1 tse tra KM - 29']\n"
     ]
    },
    {
     "name": "stderr",
     "output_type": "stream",
     "text": [
      " 95%|█████████▌| 357/374 [19:24<00:40,  2.37s/it]"
     ]
    },
    {
     "name": "stdout",
     "output_type": "stream",
     "text": [
      "WARNING 96003928: 2 sequences of same type, ['T1 tse tra KM WS comp. - 5011', 'T1 se tra KM schnell - 23']\n"
     ]
    },
    {
     "name": "stderr",
     "output_type": "stream",
     "text": [
      " 96%|█████████▌| 359/374 [19:27<00:27,  1.86s/it]"
     ]
    },
    {
     "name": "stdout",
     "output_type": "stream",
     "text": [
      "WARNING 01196212: 2 sequences of same type, ['T2 tse tra 3mm für fMRI Sprache - 28', 'T2 tse tra 3mm für fMRI Motorik - 14']\n"
     ]
    },
    {
     "name": "stderr",
     "output_type": "stream",
     "text": [
      " 97%|█████████▋| 364/374 [19:35<00:14,  1.43s/it]"
     ]
    },
    {
     "name": "stdout",
     "output_type": "stream",
     "text": [
      "WARNING 01041137: 2 sequences of same type, ['axial T1 fl90 512 - 7', 'axial T1 fl90 512 - 9']\n"
     ]
    },
    {
     "name": "stderr",
     "output_type": "stream",
     "text": [
      "100%|█████████▉| 373/374 [19:46<00:01,  1.41s/it]"
     ]
    },
    {
     "name": "stdout",
     "output_type": "stream",
     "text": [
      "WARNING 01874079: 2 sequences of same type, ['Diffusion trace tra - 3', 'Diffusion trace tra - 4']\n"
     ]
    },
    {
     "name": "stderr",
     "output_type": "stream",
     "text": [
      "100%|██████████| 374/374 [19:52<00:00,  3.19s/it]"
     ]
    },
    {
     "name": "stdout",
     "output_type": "stream",
     "text": [
      "WARNING 02180229: 2 sequences of same type, ['T2* tra (Hämo) - 2', 'T2 tra 1mm - 6']\n",
      "done\n"
     ]
    },
    {
     "name": "stderr",
     "output_type": "stream",
     "text": [
      "\n"
     ]
    }
   ],
   "source": [
    "#Example file structure\n",
    "#├── Anonymized - 01005097\n",
    "#│   └── Mrt Body\n",
    "#│       ├── Diffusion trace tra schnell_ADC - 8\n",
    "#│       │   ├── IM-2330-0001-0001.dcm\n",
    "#│       │   ├── IM-2330-0002-0001.dcm\n",
    "#...\n",
    "#│       │   ├── IM-2469-0026-0001.dcm\n",
    "#│       │   └── IM-2469-0027-0001.dcm\n",
    "#│       ├── Diffusion trace tra schnell_TRACEW - 7\n",
    "#│       │   ├── IM-2329-0001-0001.dcm\n",
    "#│       │   ├── IM-2329-0002-0001.dcm\n",
    "#...\n",
    "#│       │   ├── IM-2468-0026-0001.dcm\n",
    "#│       │   └── IM-2468-0027-0001.dcm\n",
    "#│       ├── T1 mp-rage3d we sag 1mm KM - 13\n",
    "#│       │   ├── IM-2335-0001-0001.dcm\n",
    "#│       │   ├── IM-2335-0002-0001.dcm\n",
    "#...\n",
    "#│       │   ├── IM-2474-0159-0001.dcm\n",
    "#│       │   └── IM-2474-0160-0001.dcm\n",
    "#├── Anonymized - 12345678\n",
    "#...\n",
    "\n",
    "# Creates a new directory for all the patient folders\n",
    "pathToCleanMRIList = funcs.createNewPreprocessingStepFolder(step=0)\n",
    "\n",
    "# Goes through list of files/folders at path_to_folder and only adds the directories to the list\n",
    "folderList = [\n",
    "    folder for folder in os.listdir(path_to_folder) if os.path.isdir(os.path.join(path_to_folder, folder))\n",
    "]\n",
    "\n",
    "patientIDs = []\n",
    "\n",
    "# create .txt file for sequence duplicates\n",
    "sequence_duplicates_file = open(f\"{pathToCleanMRIList}/sequence_duplicates.txt\", \"w\")\n",
    "sequence_duplicates_file.close()\n",
    "\n",
    "# Loops through all the \"Anonymized - #######\" folders\n",
    "for patient_folder in tqdm(folderList):\n",
    "\n",
    "    # sequence lists to ensure fitting white and blacklists\n",
    "    T1_sequences = []\n",
    "    T1CE_sequences = []\n",
    "    T2_sequences = []\n",
    "    FLAIR_sequences = []\n",
    "    DWI_sequences = []\n",
    "    ADC_sequences = []\n",
    "\n",
    "    # ignores the ds_folders\n",
    "    if config.dsStore in patient_folder:\n",
    "        continue\n",
    "\n",
    "    # all folders are named like \"Anonymized - 12345678\"\n",
    "    patientID = patient_folder.split(\" - \")[1]\n",
    "    \n",
    "    # adds the patientID to the list patientIDS if it hasn't been added before\n",
    "    if patientID not in patientIDs:\n",
    "        patientIDs.append(patientID)\n",
    "    \n",
    "    path_to_MRI_session_folders = os.path.join(path_to_folder, patient_folder)\n",
    "    MRI_session_folders = os.listdir(path_to_MRI_session_folders)\n",
    "\n",
    "    # loops through the different MRI sessions\n",
    "    for mri_session in MRI_session_folders:\n",
    "        \n",
    "        # ignores the ds_folders\n",
    "        if config.dsStore in mri_session:\n",
    "            continue\n",
    "\n",
    "        # get a list of all the sequences in the mri_sequences\n",
    "        path_to_mri_sequences = os.path.join(path_to_MRI_session_folders, mri_session)\n",
    "        mri_sequences = os.listdir(path_to_mri_sequences)\n",
    "\n",
    "        # loops through the different sequences created during each MRI session\n",
    "        for sequence in mri_sequences:\n",
    "\n",
    "            # ignores the ds_folders\n",
    "            if config.dsStore in sequence:\n",
    "                continue\n",
    "\n",
    "            # lower case the sequence name\n",
    "            sequences_lower_cased = sequence.lower()\n",
    "\n",
    "            if any(whiteListSeq in sequences_lower_cased for whiteListSeq in config.seq_whitelist) and not any(blackListSeq in sequences_lower_cased for blackListSeq in config.seq_blacklist):\n",
    "                # sequence fits both the whitelist as well as the blacklist\n",
    "\n",
    "                # create folder for patient\n",
    "                funcs.createFolderForPatient(\n",
    "                    path = pathToCleanMRIList,\n",
    "                    patientID = patientID\n",
    "                )\n",
    "\n",
    "                # T1 / T1CE\n",
    "                if any(sequence in sequences_lower_cased for sequence in config.T1list) and not any(subSequence in sequences_lower_cased for subSequence in config.sub):\n",
    "                \n",
    "                    # check if T1 sequences is also contrast enhanced (CE)\n",
    "                    if any(ceSequence in sequences_lower_cased for ceSequence in config.KMlist):\n",
    "\n",
    "                        # create new folder as pathToCleanMRIList/patientID/T1CE\n",
    "                        path_to_sequence = funcs.createSequenceFolder(\n",
    "                            path = os.path.join(pathToCleanMRIList, patientID),\n",
    "                            patientID = patientID,\n",
    "                            sequence = \"T1CE\",\n",
    "                            sequence_list = T1CE_sequences\n",
    "                        )\n",
    "\n",
    "                        # add the name of the sequence to the T1CE sequence list\n",
    "                        T1CE_sequences.append(sequence)\n",
    "\n",
    "                        # get list of all the dicom files for the T1CE sequence\n",
    "                        dicomFiles = os.listdir(os.path.join(path_to_mri_sequences, sequence))\n",
    "\n",
    "                        # loops through the list of dicom files\n",
    "                        for dicomFile in dicomFiles:\n",
    "                            # ignores the ds_folders\n",
    "                            if config.dsStore in dicomFile:\n",
    "                                continue\n",
    "\n",
    "                            # copy each file individually into the path_to_sequence folder\n",
    "                            shutil.copyfile(os.path.join(path_to_mri_sequences, sequence, dicomFile), os.path.join(path_to_sequence, dicomFile))\n",
    "                    \n",
    "                    else: # just regular T1 sequence\n",
    "                        \n",
    "                        # create new folder as pathToCleanMRIList/patientID/T1\n",
    "                        path_to_sequence = funcs.createSequenceFolder(\n",
    "                            path = os.path.join(pathToCleanMRIList, patientID),\n",
    "                            patientID = patientID,\n",
    "                            sequence = \"T1\",\n",
    "                            sequence_list = T1_sequences\n",
    "                        )\n",
    "\n",
    "                        # add the name of the sequence to the T1 sequence list\n",
    "                        T1_sequences.append(sequence)\n",
    "\n",
    "                        # get list of all the dicom files for the T1 sequence\n",
    "                        dicomFiles = os.listdir(os.path.join(path_to_mri_sequences, sequence))\n",
    "\n",
    "                        # loops through the list of dicom files\n",
    "                        for dicomFile in dicomFiles:\n",
    "                            # ignores the ds_folders\n",
    "                            if config.dsStore in dicomFile:\n",
    "                                continue\n",
    "\n",
    "                            # copy each file individually into the path_to_sequence folder\n",
    "                            shutil.copyfile(os.path.join(path_to_mri_sequences, sequence, dicomFile), os.path.join(path_to_sequence, dicomFile))\n",
    "\n",
    "                #T2\n",
    "                if any(T2Sequence in sequences_lower_cased for T2Sequence in config.T2list) and not any(T2SternSequence in sequences_lower_cased for T2SternSequence in config.T2STERNlist) and not any(FlairSequence in sequences_lower_cased for FlairSequence in config.FLAIRlist):\n",
    "\n",
    "                    # create new folder as pathToCleanMRIList/patientID/T2\n",
    "                    path_to_sequence = funcs.createSequenceFolder(\n",
    "                        path = os.path.join(pathToCleanMRIList, patientID),\n",
    "                        patientID = patientID,\n",
    "                        sequence = \"T2\",\n",
    "                        sequence_list = T2_sequences\n",
    "                    )\n",
    "\n",
    "                    # add the name of the sequence to the T2 sequence list\n",
    "                    T2_sequences.append(sequence)\n",
    "\n",
    "                    # get list of all the dicom files for the T2 sequence\n",
    "                    dicomFiles = os.listdir(os.path.join(path_to_mri_sequences, sequence))\n",
    "\n",
    "                    # loops through the list of dicom files\n",
    "                    for dicomFile in dicomFiles:\n",
    "                        # ignores the ds_folders\n",
    "                        if config.dsStore in dicomFile:\n",
    "                            continue\n",
    "\n",
    "                        # copy each file individually into the path_to_sequence folder\n",
    "                        shutil.copyfile(os.path.join(path_to_mri_sequences, sequence, dicomFile), os.path.join(path_to_sequence, dicomFile))\n",
    "\n",
    "                # FLAIR\n",
    "                if any(FlairSequence in sequences_lower_cased for FlairSequence in config.FLAIRlist):\n",
    "                    \n",
    "                    # create new folder as pathToCleanMRIList/patientID/FLAIR\n",
    "                    path_to_sequence = funcs.createSequenceFolder(\n",
    "                        path = os.path.join(pathToCleanMRIList, patientID),\n",
    "                        patientID = patientID,\n",
    "                        sequence = \"FLAIR\",\n",
    "                        sequence_list = FLAIR_sequences\n",
    "                    )\n",
    "\n",
    "                    # add the name of the sequence to the FLAIR sequence list\n",
    "                    FLAIR_sequences.append(sequence)\n",
    "\n",
    "                    # get list of all the dicom files for the FLAIR sequence\n",
    "                    dicomFiles = os.listdir(os.path.join(path_to_mri_sequences, sequence))\n",
    "\n",
    "                    # loops through the list of dicom files\n",
    "                    for dicomFile in dicomFiles:\n",
    "                        # ignores the ds_folders\n",
    "                        if config.dsStore in dicomFile:\n",
    "                            continue\n",
    "\n",
    "                        # copy each file individually into the path_to_sequence folder\n",
    "                        shutil.copyfile(os.path.join(path_to_mri_sequences, sequence, dicomFile), os.path.join(path_to_sequence, dicomFile))\n",
    "\n",
    "\n",
    "                # Diffusion\n",
    "                if any(diffusionSequence in sequences_lower_cased for diffusionSequence in config.DWIlist):\n",
    "                    \n",
    "                    # ADC\n",
    "                    if any(adcSequence in sequences_lower_cased for adcSequence in config.ADClist):\n",
    "\n",
    "                        # create new folder as pathToCleanMRIList/patientID/ADC\n",
    "                        path_to_sequence = funcs.createSequenceFolder(\n",
    "                            path = os.path.join(pathToCleanMRIList, patientID),\n",
    "                            patientID = patientID,\n",
    "                            sequence = \"ADC\",\n",
    "                            sequence_list = ADC_sequences\n",
    "                        )\n",
    "\n",
    "                        # add the name of the sequence to the ADC sequence list\n",
    "                        ADC_sequences.append(sequence)\n",
    "\n",
    "                        # get list of all the dicom files for the ADC sequence\n",
    "                        dicomFiles = os.listdir(os.path.join(path_to_mri_sequences, sequence))\n",
    "\n",
    "                        # loops through the list of dicom files\n",
    "                        for dicomFile in dicomFiles:\n",
    "                            # ignores the ds_folders\n",
    "                            if config.dsStore in dicomFile:\n",
    "                                continue\n",
    "\n",
    "                            # copy each file individually into the path_to_sequence folder\n",
    "                            shutil.copyfile(os.path.join(path_to_mri_sequences, sequence, dicomFile), os.path.join(path_to_sequence, dicomFile))\n",
    "                    \n",
    "                    # DWI\n",
    "                    else:\n",
    "\n",
    "                        # create new folder as pathToCleanMRIList/patientID/DWI\n",
    "                        path_to_sequence = funcs.createSequenceFolder(\n",
    "                            path = os.path.join(pathToCleanMRIList, patientID),\n",
    "                            patientID = patientID,\n",
    "                            sequence = \"DWI\",\n",
    "                            sequence_list = DWI_sequences\n",
    "                        )\n",
    "\n",
    "                        # add the name of the sequence to the DWI sequence list\n",
    "                        DWI_sequences.append(sequence)\n",
    "\n",
    "                        # get list of all the dicom files for the DWI sequence\n",
    "                        dicomFiles = os.listdir(os.path.join(path_to_mri_sequences, sequence))\n",
    "\n",
    "                        # loops through the list of dicom files\n",
    "                        for dicomFile in dicomFiles:\n",
    "                            # ignores the ds_folders\n",
    "                            if config.dsStore in dicomFile:\n",
    "                                continue\n",
    "\n",
    "                            # copy each file individually into the path_to_sequence folder\n",
    "                            shutil.copyfile(os.path.join(path_to_mri_sequences, sequence, dicomFile), os.path.join(path_to_sequence, dicomFile))\n",
    "\n",
    "               \n",
    "\n",
    "    # add different Sequence Names as .txt file\n",
    "    if (T1_sequences or T1CE_sequences or T2_sequences or FLAIR_sequences):\n",
    "        with open(f\"{pathToCleanMRIList}/{patientID}/sequences.txt\", \"x\") as f:\n",
    "            f.write(\"\"\"T1_sequences: {t1}\n",
    "T1CE_sequences: {t1ce}\n",
    "T2_sequences: {t2}\n",
    "FLAIR_sequences: {flair}\n",
    "DWI_sequences: {dwi}\n",
    "ADC_sequences: {adc}\"\"\".format(t1=T1_sequences, t1ce=T1CE_sequences, t2=T2_sequences, flair=FLAIR_sequences, dwi=DWI_sequences, adc=ADC_sequences)\n",
    "            )\n",
    "    else: # remove the empty folder if not fitting sequences have been found (e.g. 01100109)\n",
    "        if os.path.exists(f\"{pathToCleanMRIList}/{patientID}\"):\n",
    "            os.rmdir(f\"{pathToCleanMRIList}/{patientID}\")\n",
    "\n",
    "    sequences_list = [T1_sequences, T1CE_sequences, T2_sequences, FLAIR_sequences, DWI_sequences, ADC_sequences]\n",
    "    for sequence_array in sequences_list:\n",
    "        if len(sequence_array) > 1:\n",
    "            print(f\"WARNING {patientID}: {len(sequence_array)} sequences of same type, {sequence_array}\")\n",
    "\n",
    "            # append sequences to sequence_duplicates.txt\n",
    "            file = open(f\"{pathToCleanMRIList}/sequence_duplicates.txt\", \"a\")\n",
    "            file.write(f\"{patientID}: {len(sequence_array)}#, {sequence_array}\\n\")\n",
    "            file.close()\n",
    "\n",
    "\n",
    "print(\"done\")"
   ]
  },
  {
   "cell_type": "markdown",
   "metadata": {},
   "source": [
    "### Create pandas Dataframe of all Patients and Sequences\n",
    "patient:\n",
    "\n",
    "ID: int\n",
    "\n",
    "t1: bool\n",
    "\n",
    "t1ce: bool\n",
    "\n",
    "t2: bool\n",
    "\n",
    "flair: bool\n",
    "\n",
    "dwi: bool\n",
    "\n",
    "dwi adc: bool\n"
   ]
  },
  {
   "cell_type": "code",
   "execution_count": null,
   "metadata": {},
   "outputs": [],
   "source": [
    "# loop through files of each patient in preprocessing0\n",
    "# check if t1, t1ce, t2, flair, dwi, ace exist\n",
    "# create list of boolean values for the existence of each sequence\n",
    "# add list of [patientID, bool, bool, bool, bool, bool, bool] list of patients\n",
    "# create dataframe based on step above\n",
    "# ?\n",
    "# profit\n",
    "\n",
    "# run on all patients\n",
    "# check how many actually have all sequences"
   ]
  },
  {
   "cell_type": "markdown",
   "metadata": {},
   "source": [
    "Example File Structure below"
   ]
  },
  {
   "cell_type": "code",
   "execution_count": null,
   "metadata": {},
   "outputs": [],
   "source": [
    "# ├── 01001917\n",
    "# │   ├── 01001917_T2_0\n",
    "# │   │   ├── IM-1281-0001-0001.dcm\n",
    "# │   │   ├── IM-1281-0002-0001.dcm\n",
    "# ...\n",
    "# │   │   ├── IM-1420-0162-0001.dcm\n",
    "# │   │   └── IM-1420-0163-0001.dcm\n",
    "# │   ├── 01001917_T2_1\n",
    "# │   │   ├── IM-1288-0001-0001.dcm\n",
    "# │   │   ├── IM-1288-0002-0001.dcm\n",
    "# ...\n",
    "# │   │   ├── IM-1427-0030-0001.dcm\n",
    "# │   │   └── IM-1427-0031-0001.dcm\n",
    "# │   └── sequences.txt\n",
    "# ├── 01005097\n",
    "# │   ├── 01005097_ADC_0\n",
    "# │   │   ├── IM-2330-0001-0001.dcm\n",
    "# │   │   ├── IM-2330-0002-0001.dcm\n",
    "# ...\n",
    "# │   │   ├── IM-2469-0026-0001.dcm\n",
    "# │   │   └── IM-2469-0027-0001.dcm\n",
    "# │   ├── 01005097_DWI_0\n",
    "# │   │   ├── IM-2329-0001-0001.dcm\n",
    "# │   │   ├── IM-2329-0002-0001.dcm\n",
    "# ...\n",
    "# │   │   ├── IM-2468-0026-0001.dcm\n",
    "# │   │   └── IM-2468-0027-0001.dcm\n",
    "# │   ├── 01005097_FLAIR_0\n",
    "# │   │   ├── IM-2327-0001-0001.dcm\n",
    "# │   │   ├── IM-2327-0002-0001.dcm\n",
    "# ...\n",
    "# │   │   ├── IM-2466-0026-0001.dcm\n",
    "# │   │   └── IM-2466-0027-0001.dcm\n",
    "# │   ├── 01005097_T1CE_0\n",
    "# │   │   ├── IM-2333-0001-0001.dcm\n",
    "# │   │   ├── IM-2333-0002-0001.dcm\n",
    "# ...\n",
    "# │   │   ├── IM-2472-0026-0001.dcm\n",
    "# │   │   └── IM-2472-0027-0001.dcm\n",
    "# │   ├── 01005097_T1_0\n",
    "# │   │   ├── IM-2332-0001-0001.dcm\n",
    "# │   │   ├── IM-2332-0002-0001.dcm\n",
    "# ...\n",
    "# │   │   ├── IM-2467-0026-0001.dcm\n",
    "# │   │   └── IM-2467-0027-0001.dcm\n",
    "# │   └── sequences.txt\n",
    "# ├── 01009590\n",
    "# │   ├── 01009590_ADC_0\n",
    "# │   │   ├── IM-0866-0001-0001.dcm\n",
    "# │   │   ├── IM-0866-0002-0001.dcm\n",
    "# ...\n",
    "# │   │   ├── IM-0866-0020-0001.dcm\n",
    "# │   │   ├── IM-0866-0021-0001.dcm"
   ]
  },
  {
   "cell_type": "code",
   "execution_count": 13,
   "metadata": {},
   "outputs": [
    {
     "name": "stdout",
     "output_type": "stream",
     "text": [
      "Total Amount of Patients: 364\n",
      "Amount of patients with t1, t1ce, t2, flair: 283\n",
      "Amount of patients also with DWI: 276\n",
      "Amount of patients with all sequences: 257\n",
      "Duplicates IDs: ['02148010' '01800184' '02063373' '01410317' '02034046' '02116290'\n",
      " '01391984' '02117549' '02046093' '01878062' '02062434' '01882989'\n",
      " '02090584' '02105939' '01190670' '01013277' '01021714' '02173772'\n",
      " '02184584' '01755816' '01943022' '01658206' '02194539' '01699532'\n",
      " '01563052' '01798755' '01760947' '01018613' '01360726' '01578955'\n",
      " '01764802' '01781732' '01072344' '02082498' '02010452' '01995695'\n",
      " '02009523' '02100970' '01548397' '02066445' '02066814' '02051037'\n",
      " '02108926' '01792771' '01670714' '01257796' '01955868' '01400779'\n",
      " '01484016' '01516702' '02140670' '01321873' '01443624' '02092074'\n",
      " '01819252' '01946271' '01001917' '01983233' '01641960' '01800439'\n",
      " '02145870' '01921604' '02161647' '01979317' '01482000' '02091120'\n",
      " '02210001' '02126982' '01659187' '01609293' '02140942' '02173158'\n",
      " '02119712' '01021993' '01352224' '02109575' '01879950' '02088565'\n",
      " '96003928' '01196212' '01041137' '01874079' '02180229']\n"
     ]
    }
   ],
   "source": [
    "patient_folders = os.listdir(pathToCleanMRIList)\n",
    "\n",
    "list_of_patientSeqenceInfos = []\n",
    "\n",
    "patient_folders.remove(\"sequence_duplicates.txt\")\n",
    "\n",
    "for patient in patient_folders:\n",
    "\n",
    "    patientID = patient\n",
    "    has_t1 = False\n",
    "    has_t1ce = False\n",
    "    has_t2 = False\n",
    "    has_flair = False\n",
    "    has_dwi = False\n",
    "    has_adc = False\n",
    "    duplicates = False # True if one sequence exists multiple times for a patient\n",
    "\n",
    "    # get list of sequences\n",
    "    sequences = [\n",
    "        item for item in os.listdir(f\"{pathToCleanMRIList}/{patient}\") if os.path.isdir(f\"{pathToCleanMRIList}/{patient}/{item}\")\n",
    "    ]\n",
    "\n",
    "    for sequence in sequences:\n",
    "        # sequence ID = T1 or T1CE or T2 ...\n",
    "        sequenceID = sequence.split(\"_\")[1]\n",
    "        sequenceCounter = sequence.split(\"_\")[2]\n",
    "\n",
    "        # duplicates is True if more than one sequence exists\n",
    "        if int(sequenceCounter) > 0:\n",
    "            duplicates = True\n",
    "\n",
    "        #print(f\"sequence: {sequenceID}\")\n",
    "\n",
    "        if sequenceID == config.desiredSequences.T1.value:\n",
    "            has_t1 = True\n",
    "        elif sequenceID == config.desiredSequences.T1CE.value:\n",
    "            has_t1ce = True\n",
    "        elif sequenceID == config.desiredSequences.T2.value:\n",
    "            has_t2 = True\n",
    "        elif sequenceID == config.desiredSequences.FLAIR.value:\n",
    "            has_flair = True\n",
    "        elif sequenceID == config.desiredSequences.DWI.value:\n",
    "            has_dwi = True\n",
    "        elif sequenceID == config.desiredSequences.ADC.value:\n",
    "            has_adc = True\n",
    "\n",
    "    patientSequenceInfos = [has_t1, has_t1ce, has_t2, has_flair, has_dwi, has_adc, duplicates]\n",
    "    list_of_patientSeqenceInfos.append(patientSequenceInfos)\n",
    "    \n",
    "patient_sequences_df = pd.DataFrame(\n",
    "    list_of_patientSeqenceInfos,\n",
    "    columns=[config.desiredSequences.T1.value,\n",
    "             config.desiredSequences.T1CE.value,\n",
    "             config.desiredSequences.T2.value,\n",
    "             config.desiredSequences.FLAIR.value,\n",
    "             config.desiredSequences.DWI.value,\n",
    "             config.desiredSequences.ADC.value,\n",
    "             \"duplicates\"],\n",
    "    index=patient_folders\n",
    ")\n",
    "\n",
    "# Print results\n",
    "patient_total_amount = len(patient_sequences_df)\n",
    "print(f\"Total Amount of Patients: {patient_total_amount}\")\n",
    "\n",
    "# has t1, t1ce, t2, flair\n",
    "list_four_sequences = patient_sequences_df.query(\"T1 == True and T1CE == True and T2 == True and FLAIR == True\").index.values\n",
    "print(f\"Amount of patients with t1, t1ce, t2, flair: {len(list_four_sequences)}\")\n",
    "# also has dwi\n",
    "list_with_dwi_sequences = patient_sequences_df.query(\"T1 == True and T1CE == True and T2 == True and FLAIR == True and DWI == True\").index.values\n",
    "print(f\"Amount of patients also with DWI: {len(list_with_dwi_sequences)}\")\n",
    "# also has ace\n",
    "list_with_all_sequences = patient_sequences_df.query(\"T1 == True and T1CE == True and T2 == True and FLAIR == True and DWI == True and ADC == True\").index.values\n",
    "print(f\"Amount of patients with all sequences: {len(list_with_all_sequences)}\")\n",
    "\n",
    "list_of_duplicates_IDs = patient_sequences_df.query(\"duplicates == True\").index.values\n",
    "print(f\"Duplicates IDs: {list_of_duplicates_IDs}\")\n"
   ]
  }
 ],
 "metadata": {
  "kernelspec": {
   "display_name": ".brain_mets_env",
   "language": "python",
   "name": "python3"
  },
  "language_info": {
   "codemirror_mode": {
    "name": "ipython",
    "version": 3
   },
   "file_extension": ".py",
   "mimetype": "text/x-python",
   "name": "python",
   "nbconvert_exporter": "python",
   "pygments_lexer": "ipython3",
   "version": "3.11.0"
  }
 },
 "nbformat": 4,
 "nbformat_minor": 2
}
