{
 "cells": [
  {
   "cell_type": "markdown",
   "metadata": {},
   "source": [
    "# Preprocessing BRATS_METS dataset\n",
    "Alright everyone, let's do this one last time.\n",
    "\n",
    "Link to challenge: https://www.synapse.org/Synapse:syn53708249/wiki/626323\n",
    "\n",
    "Infos about the dataset:\n",
    "- the dataset contains \"only\" brain metastases of treatment-naive brain metastases mpMRI scans obtained from various institutions\n",
    "- t1, t1c, t2, flair and segmentation is included\n",
    "- no information about the patients or their primary cancers is available\n",
    "\n",
    "The dataset structure looks like this:\n",
    "```\n",
    "BraTS2024-MET-Challenge-all\n",
    "│\n",
    "│__BraTS-MET-00001-000\n",
    "    │\n",
    "    │__BraTS-MET-00001-000-seg.nii.gz\n",
    "    │__BraTS-MET-00001-000-t1c.nii.gz\n",
    "    │__BraTS-MET-00001-000-t1n.nii.gz\n",
    "    │__BraTS-MET-00001-000-t2f.nii.gz\n",
    "    │__BraTS-MET-00001-000-t2n.nii.gz\n",
    "│\n",
    "│__...\n",
    "```\n",
    "\n",
    "Note that sometimes there's a second folder for a certain patient, like ```BraTS-MET-00591-000```and ```BraTS-MET-00591-001```. If I understand correctly, that just means that during the duration of the disease multiple mri scans were done for this certain patient."
   ]
  },
  {
   "cell_type": "code",
   "execution_count": null,
   "metadata": {},
   "outputs": [],
   "source": [
    "# TO-DO:\n",
    "# [ ] Get overview of dataset\n",
    "# [ ] Percentile normalize images\n",
    "# [ ] Create png images of each visible brain metastases slice in each scan\n",
    "# [ ] Combine the four sequences and the segmentation mask into a single tfrecord file\n",
    "# [ ] Profit?"
   ]
  },
  {
   "cell_type": "code",
   "execution_count": 1,
   "metadata": {},
   "outputs": [],
   "source": [
    "import os\n",
    "import numpy as np\n",
    "import pandas as pd\n",
    "import tensorflow as tf\n",
    "import matplotlib.pyplot as plt\n",
    "import cv2\n",
    "from tqdm import tqdm\n",
    "from pathlib import Path\n",
    "import random\n",
    "import nibabel as nib"
   ]
  },
  {
   "cell_type": "code",
   "execution_count": null,
   "metadata": {},
   "outputs": [],
   "source": []
  }
 ],
 "metadata": {
  "kernelspec": {
   "display_name": "brain_mets_env",
   "language": "python",
   "name": "python3"
  },
  "language_info": {
   "codemirror_mode": {
    "name": "ipython",
    "version": 3
   },
   "file_extension": ".py",
   "mimetype": "text/x-python",
   "name": "python",
   "nbconvert_exporter": "python",
   "pygments_lexer": "ipython3",
   "version": "3.11.0"
  }
 },
 "nbformat": 4,
 "nbformat_minor": 2
}
