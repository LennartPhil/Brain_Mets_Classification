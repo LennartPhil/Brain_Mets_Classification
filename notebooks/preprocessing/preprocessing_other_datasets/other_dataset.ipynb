{
 "cells": [
  {
   "cell_type": "markdown",
   "metadata": {},
   "source": [
    "# Other Datasets\n",
    "I looked for data from similar tasks to pretrain the AIs and found 5 that we're going to use for pretraining.\n",
    "\n",
    "For the rough pretraining, we'll use the ```brain_tumor_dataset```, which contains t1c images of gliomas (1426), meningeomas (708) and pituatary tumors (930). I've already split them into a training and validation dataset that we can use.\n",
    "\n",
    "For the fine pretraining, we'll use the ```BRATS_METS dataset```, the ```eramus glioma dataset```, ```UCSF-PDGM``` and ```UPENN-GBM```. Together they contain images of brain metastases, glioblastomas, astrocytomas (IDH wildtype), astrocytomas (IDH mutated) and oligodendroglioma.\n",
    "\n",
    "The task now is to split the dataset for the fine pretraining into equal training and validation dataset."
   ]
  },
  {
   "cell_type": "code",
   "execution_count": 1,
   "metadata": {},
   "outputs": [],
   "source": [
    "import os\n",
    "import numpy as np\n",
    "import pandas as pd\n",
    "import tensorflow as tf\n",
    "import matplotlib.pyplot as plt\n",
    "import shutil\n",
    "import cv2\n",
    "from tqdm import tqdm\n",
    "from pathlib import Path\n",
    "import random\n",
    "import nibabel as nib\n",
    "from sklearn.model_selection import StratifiedGroupKFold\n",
    "import skimage.measure as measure"
   ]
  },
  {
   "cell_type": "code",
   "execution_count": 27,
   "metadata": {},
   "outputs": [],
   "source": [
    "# getting the paths to all the tfrecord files\n",
    "brats_gray_tfr_dir = Path(\"/Users/LennartPhilipp/Desktop/Uni/Prowiss/Datensätze/BRATS_2024/BraTS-MET/BraTS2024-MET-tfrecords/BRATS_gray\")\n",
    "erasmus_gray_tfr_dir = Path(\"/Users/LennartPhilipp/Desktop/Uni/Prowiss/Datensätze/Erasmus_Glioma_Dataset/EGD_tfrs/gray_tfrs\")\n",
    "ucsf_gray_tfr_dir = Path(\"/Users/LennartPhilipp/Desktop/Uni/Prowiss/Datensätze/UCSF-PDGM/UCSF-PDGM_tfrs/gray_tfrs\")\n",
    "upenn_gray_tfr_dir = Path(\"/Users/LennartPhilipp/Desktop/Uni/Prowiss/Datensätze/UPenn_GBM/upenn_gbm_tfrs/gray_tfrs\")\n",
    "\n",
    "path_to_tfr_folder = Path(\"/Users/LennartPhilipp/Desktop/Uni/Prowiss/Datensätze/tfrs/pretraining_fine_gray_2_classes\")\n",
    "path_to_train_txt = Path(\"/Users/LennartPhilipp/Desktop/Uni/Prowiss/Datensätze/tfrs/pretraining_fine_train_2_classes.txt\")\n",
    "path_to_val_txt = Path(\"/Users/LennartPhilipp/Desktop/Uni/Prowiss/Datensätze/tfrs/pretraining_fine_val_2_classes.txt\")"
   ]
  },
  {
   "cell_type": "markdown",
   "metadata": {},
   "source": [
    "Each .tfrecord file is named like this ```{Patient_ID}_label_{label}.tfrecord```. So by going through all the files in each directory, we can find out which class (label) they belong to and split the dataset accordingly."
   ]
  },
  {
   "cell_type": "code",
   "execution_count": 3,
   "metadata": {},
   "outputs": [],
   "source": [
    "# Let's first create a custom patinent class to store the path to the file, the patient ID and the label\n",
    "class Patient:\n",
    "    def __init__(self, path, patient_id, label):\n",
    "        self.path = path\n",
    "        self.patient_id = patient_id\n",
    "        self.label = label"
   ]
  },
  {
   "cell_type": "code",
   "execution_count": 16,
   "metadata": {},
   "outputs": [
    {
     "name": "stderr",
     "output_type": "stream",
     "text": [
      "151it [00:00, 116960.28it/s]\n",
      "495it [00:00, 169470.29it/s]\n",
      "526it [00:00, 214444.39it/s]\n",
      "646it [00:00, 9061.58it/s]"
     ]
    },
    {
     "name": "stdout",
     "output_type": "stream",
     "text": [
      "Total number of patients: 5235\n",
      "Total number of patients after filtering (labels 0 & 4): 5012\n"
     ]
    },
    {
     "name": "stderr",
     "output_type": "stream",
     "text": [
      "\n"
     ]
    }
   ],
   "source": [
    "all_patients = []\n",
    "\n",
    "# Let's now loop through all the tfrecord files and extract the patient ID and the label\n",
    "for tfr_file in tqdm(erasmus_gray_tfr_dir.iterdir()):\n",
    "    patient_id = tfr_file.stem.split(\"_label_\")[0]\n",
    "    label = tfr_file.stem.split(\"_label_\")[1]\n",
    "    patient = Patient(tfr_file, patient_id, label)\n",
    "    all_patients.append(patient)\n",
    "\n",
    "for tfr_file in tqdm(ucsf_gray_tfr_dir.iterdir()):\n",
    "    patient_id = tfr_file.stem.split(\"_label_\")[0]\n",
    "    label = tfr_file.stem.split(\"_label_\")[1]\n",
    "    patient = Patient(tfr_file, patient_id, label)\n",
    "    all_patients.append(patient)\n",
    "\n",
    "for tfr_file in tqdm(upenn_gray_tfr_dir.iterdir()):\n",
    "    patient_id = tfr_file.stem.split(\"_label_\")[0]\n",
    "    label = tfr_file.stem.split(\"_label_\")[1]\n",
    "    patient = Patient(tfr_file, patient_id, label)\n",
    "    all_patients.append(patient)\n",
    "\n",
    "# in the brats directory are more patient directories that I need to loop over\n",
    "for patient_dir in tqdm(brats_gray_tfr_dir.iterdir()):\n",
    "    if not patient_dir.is_dir():\n",
    "        continue\n",
    "    for tfr_file in patient_dir.iterdir():\n",
    "        patient_id = tfr_file.stem.split(\"_\")[0]\n",
    "        label = tfr_file.stem.split(\"_label_\")[1]\n",
    "        patient = Patient(tfr_file, patient_id, label)\n",
    "        all_patients.append(patient)\n",
    "\n",
    "print(f\"Total number of patients: {len(all_patients)}\")\n",
    "\n",
    "two_class_filtered_patients = [\n",
    "    patient for patient in all_patients\n",
    "    if patient.label == \"0\" or patient.label == \"4\"\n",
    "]\n",
    "\n",
    "all_patients = two_class_filtered_patients\n",
    "print(f\"Total number of patients after filtering (labels 0 & 4): {len(all_patients)}\")"
   ]
  },
  {
   "cell_type": "code",
   "execution_count": 17,
   "metadata": {},
   "outputs": [
    {
     "name": "stdout",
     "output_type": "stream",
     "text": [
      "Unique labels: ['0' '4']\n",
      "Label counts: {'0': 949, '4': 4063}\n"
     ]
    }
   ],
   "source": [
    "# Print statistics about the labels\n",
    "labels = [patient.label for patient in all_patients]\n",
    "unique_labels = np.unique(labels)\n",
    "print(f\"Unique labels: {unique_labels}\")\n",
    "label_counts = {label: labels.count(label) for label in unique_labels}\n",
    "print(f\"Label counts: {label_counts}\")"
   ]
  },
  {
   "cell_type": "markdown",
   "metadata": {},
   "source": [
    "Apply StratifiedGroupKFold"
   ]
  },
  {
   "cell_type": "code",
   "execution_count": 18,
   "metadata": {},
   "outputs": [
    {
     "data": {
      "application/vnd.microsoft.datawrangler.viewer.v0+json": {
       "columns": [
        {
         "name": "index",
         "rawType": "int64",
         "type": "integer"
        },
        {
         "name": "patient_id",
         "rawType": "object",
         "type": "string"
        },
        {
         "name": "label",
         "rawType": "object",
         "type": "string"
        },
        {
         "name": "path_to_tfr_file",
         "rawType": "object",
         "type": "unknown"
        }
       ],
       "conversionMethod": "pd.DataFrame",
       "ref": "9299c463-4e7f-4c8c-8b4f-64e8490ce9da",
       "rows": [
        [
         "0",
         "EGD-0389",
         "0",
         "/Users/LennartPhilipp/Desktop/Uni/Prowiss/Datensätze/Erasmus_Glioma_Dataset/EGD_tfrs/gray_tfrs/EGD-0389_label_0.tfrecord"
        ],
        [
         "1",
         "EGD-0531",
         "0",
         "/Users/LennartPhilipp/Desktop/Uni/Prowiss/Datensätze/Erasmus_Glioma_Dataset/EGD_tfrs/gray_tfrs/EGD-0531_label_0.tfrecord"
        ],
        [
         "2",
         "EGD-0417",
         "0",
         "/Users/LennartPhilipp/Desktop/Uni/Prowiss/Datensätze/Erasmus_Glioma_Dataset/EGD_tfrs/gray_tfrs/EGD-0417_label_0.tfrecord"
        ],
        [
         "3",
         "EGD-0600",
         "0",
         "/Users/LennartPhilipp/Desktop/Uni/Prowiss/Datensätze/Erasmus_Glioma_Dataset/EGD_tfrs/gray_tfrs/EGD-0600_label_0.tfrecord"
        ],
        [
         "4",
         "EGD-0762",
         "0",
         "/Users/LennartPhilipp/Desktop/Uni/Prowiss/Datensätze/Erasmus_Glioma_Dataset/EGD_tfrs/gray_tfrs/EGD-0762_label_0.tfrecord"
        ],
        [
         "5",
         "EGD-0479",
         "0",
         "/Users/LennartPhilipp/Desktop/Uni/Prowiss/Datensätze/Erasmus_Glioma_Dataset/EGD_tfrs/gray_tfrs/EGD-0479_label_0.tfrecord"
        ],
        [
         "6",
         "EGD-0621",
         "0",
         "/Users/LennartPhilipp/Desktop/Uni/Prowiss/Datensätze/Erasmus_Glioma_Dataset/EGD_tfrs/gray_tfrs/EGD-0621_label_0.tfrecord"
        ],
        [
         "7",
         "EGD-0625",
         "0",
         "/Users/LennartPhilipp/Desktop/Uni/Prowiss/Datensätze/Erasmus_Glioma_Dataset/EGD_tfrs/gray_tfrs/EGD-0625_label_0.tfrecord"
        ],
        [
         "8",
         "EGD-0202",
         "0",
         "/Users/LennartPhilipp/Desktop/Uni/Prowiss/Datensätze/Erasmus_Glioma_Dataset/EGD_tfrs/gray_tfrs/EGD-0202_label_0.tfrecord"
        ],
        [
         "9",
         "EGD-0753",
         "0",
         "/Users/LennartPhilipp/Desktop/Uni/Prowiss/Datensätze/Erasmus_Glioma_Dataset/EGD_tfrs/gray_tfrs/EGD-0753_label_0.tfrecord"
        ],
        [
         "10",
         "EGD-0432",
         "0",
         "/Users/LennartPhilipp/Desktop/Uni/Prowiss/Datensätze/Erasmus_Glioma_Dataset/EGD_tfrs/gray_tfrs/EGD-0432_label_0.tfrecord"
        ],
        [
         "11",
         "EGD-0736",
         "0",
         "/Users/LennartPhilipp/Desktop/Uni/Prowiss/Datensätze/Erasmus_Glioma_Dataset/EGD_tfrs/gray_tfrs/EGD-0736_label_0.tfrecord"
        ],
        [
         "12",
         "EGD-0075",
         "0",
         "/Users/LennartPhilipp/Desktop/Uni/Prowiss/Datensätze/Erasmus_Glioma_Dataset/EGD_tfrs/gray_tfrs/EGD-0075_label_0.tfrecord"
        ],
        [
         "13",
         "EGD-0226",
         "0",
         "/Users/LennartPhilipp/Desktop/Uni/Prowiss/Datensätze/Erasmus_Glioma_Dataset/EGD_tfrs/gray_tfrs/EGD-0226_label_0.tfrecord"
        ],
        [
         "14",
         "EGD-0321",
         "0",
         "/Users/LennartPhilipp/Desktop/Uni/Prowiss/Datensätze/Erasmus_Glioma_Dataset/EGD_tfrs/gray_tfrs/EGD-0321_label_0.tfrecord"
        ],
        [
         "15",
         "EGD-0344",
         "0",
         "/Users/LennartPhilipp/Desktop/Uni/Prowiss/Datensätze/Erasmus_Glioma_Dataset/EGD_tfrs/gray_tfrs/EGD-0344_label_0.tfrecord"
        ],
        [
         "16",
         "EGD-0664",
         "0",
         "/Users/LennartPhilipp/Desktop/Uni/Prowiss/Datensätze/Erasmus_Glioma_Dataset/EGD_tfrs/gray_tfrs/EGD-0664_label_0.tfrecord"
        ],
        [
         "17",
         "EGD-0505",
         "0",
         "/Users/LennartPhilipp/Desktop/Uni/Prowiss/Datensätze/Erasmus_Glioma_Dataset/EGD_tfrs/gray_tfrs/EGD-0505_label_0.tfrecord"
        ],
        [
         "18",
         "EGD-0280",
         "0",
         "/Users/LennartPhilipp/Desktop/Uni/Prowiss/Datensätze/Erasmus_Glioma_Dataset/EGD_tfrs/gray_tfrs/EGD-0280_label_0.tfrecord"
        ],
        [
         "19",
         "EGD-0247",
         "0",
         "/Users/LennartPhilipp/Desktop/Uni/Prowiss/Datensätze/Erasmus_Glioma_Dataset/EGD_tfrs/gray_tfrs/EGD-0247_label_0.tfrecord"
        ],
        [
         "20",
         "EGD-0709",
         "0",
         "/Users/LennartPhilipp/Desktop/Uni/Prowiss/Datensätze/Erasmus_Glioma_Dataset/EGD_tfrs/gray_tfrs/EGD-0709_label_0.tfrecord"
        ],
        [
         "21",
         "EGD-0176",
         "0",
         "/Users/LennartPhilipp/Desktop/Uni/Prowiss/Datensätze/Erasmus_Glioma_Dataset/EGD_tfrs/gray_tfrs/EGD-0176_label_0.tfrecord"
        ],
        [
         "22",
         "EGD-0692",
         "0",
         "/Users/LennartPhilipp/Desktop/Uni/Prowiss/Datensätze/Erasmus_Glioma_Dataset/EGD_tfrs/gray_tfrs/EGD-0692_label_0.tfrecord"
        ],
        [
         "23",
         "EGD-0728",
         "0",
         "/Users/LennartPhilipp/Desktop/Uni/Prowiss/Datensätze/Erasmus_Glioma_Dataset/EGD_tfrs/gray_tfrs/EGD-0728_label_0.tfrecord"
        ],
        [
         "24",
         "EGD-0515",
         "0",
         "/Users/LennartPhilipp/Desktop/Uni/Prowiss/Datensätze/Erasmus_Glioma_Dataset/EGD_tfrs/gray_tfrs/EGD-0515_label_0.tfrecord"
        ],
        [
         "25",
         "EGD-0014",
         "0",
         "/Users/LennartPhilipp/Desktop/Uni/Prowiss/Datensätze/Erasmus_Glioma_Dataset/EGD_tfrs/gray_tfrs/EGD-0014_label_0.tfrecord"
        ],
        [
         "26",
         "EGD-0144",
         "0",
         "/Users/LennartPhilipp/Desktop/Uni/Prowiss/Datensätze/Erasmus_Glioma_Dataset/EGD_tfrs/gray_tfrs/EGD-0144_label_0.tfrecord"
        ],
        [
         "27",
         "EGD-0482",
         "0",
         "/Users/LennartPhilipp/Desktop/Uni/Prowiss/Datensätze/Erasmus_Glioma_Dataset/EGD_tfrs/gray_tfrs/EGD-0482_label_0.tfrecord"
        ],
        [
         "28",
         "EGD-0165",
         "0",
         "/Users/LennartPhilipp/Desktop/Uni/Prowiss/Datensätze/Erasmus_Glioma_Dataset/EGD_tfrs/gray_tfrs/EGD-0165_label_0.tfrecord"
        ],
        [
         "29",
         "EGD-0401",
         "0",
         "/Users/LennartPhilipp/Desktop/Uni/Prowiss/Datensätze/Erasmus_Glioma_Dataset/EGD_tfrs/gray_tfrs/EGD-0401_label_0.tfrecord"
        ],
        [
         "30",
         "EGD-0394",
         "0",
         "/Users/LennartPhilipp/Desktop/Uni/Prowiss/Datensätze/Erasmus_Glioma_Dataset/EGD_tfrs/gray_tfrs/EGD-0394_label_0.tfrecord"
        ],
        [
         "31",
         "EGD-0197",
         "0",
         "/Users/LennartPhilipp/Desktop/Uni/Prowiss/Datensätze/Erasmus_Glioma_Dataset/EGD_tfrs/gray_tfrs/EGD-0197_label_0.tfrecord"
        ],
        [
         "32",
         "EGD-0512",
         "0",
         "/Users/LennartPhilipp/Desktop/Uni/Prowiss/Datensätze/Erasmus_Glioma_Dataset/EGD_tfrs/gray_tfrs/EGD-0512_label_0.tfrecord"
        ],
        [
         "33",
         "EGD-0357",
         "0",
         "/Users/LennartPhilipp/Desktop/Uni/Prowiss/Datensätze/Erasmus_Glioma_Dataset/EGD_tfrs/gray_tfrs/EGD-0357_label_0.tfrecord"
        ],
        [
         "34",
         "EGD-0595",
         "0",
         "/Users/LennartPhilipp/Desktop/Uni/Prowiss/Datensätze/Erasmus_Glioma_Dataset/EGD_tfrs/gray_tfrs/EGD-0595_label_0.tfrecord"
        ],
        [
         "35",
         "EGD-0390",
         "0",
         "/Users/LennartPhilipp/Desktop/Uni/Prowiss/Datensätze/Erasmus_Glioma_Dataset/EGD_tfrs/gray_tfrs/EGD-0390_label_0.tfrecord"
        ],
        [
         "36",
         "EGD-0612",
         "0",
         "/Users/LennartPhilipp/Desktop/Uni/Prowiss/Datensätze/Erasmus_Glioma_Dataset/EGD_tfrs/gray_tfrs/EGD-0612_label_0.tfrecord"
        ],
        [
         "37",
         "EGD-0516",
         "0",
         "/Users/LennartPhilipp/Desktop/Uni/Prowiss/Datensätze/Erasmus_Glioma_Dataset/EGD_tfrs/gray_tfrs/EGD-0516_label_0.tfrecord"
        ],
        [
         "38",
         "EGD-0764",
         "0",
         "/Users/LennartPhilipp/Desktop/Uni/Prowiss/Datensätze/Erasmus_Glioma_Dataset/EGD_tfrs/gray_tfrs/EGD-0764_label_0.tfrecord"
        ],
        [
         "39",
         "EGD-0486",
         "0",
         "/Users/LennartPhilipp/Desktop/Uni/Prowiss/Datensätze/Erasmus_Glioma_Dataset/EGD_tfrs/gray_tfrs/EGD-0486_label_0.tfrecord"
        ],
        [
         "40",
         "EGD-0080",
         "0",
         "/Users/LennartPhilipp/Desktop/Uni/Prowiss/Datensätze/Erasmus_Glioma_Dataset/EGD_tfrs/gray_tfrs/EGD-0080_label_0.tfrecord"
        ],
        [
         "41",
         "EGD-0198",
         "0",
         "/Users/LennartPhilipp/Desktop/Uni/Prowiss/Datensätze/Erasmus_Glioma_Dataset/EGD_tfrs/gray_tfrs/EGD-0198_label_0.tfrecord"
        ],
        [
         "42",
         "EGD-0400",
         "0",
         "/Users/LennartPhilipp/Desktop/Uni/Prowiss/Datensätze/Erasmus_Glioma_Dataset/EGD_tfrs/gray_tfrs/EGD-0400_label_0.tfrecord"
        ],
        [
         "43",
         "EGD-0085",
         "0",
         "/Users/LennartPhilipp/Desktop/Uni/Prowiss/Datensätze/Erasmus_Glioma_Dataset/EGD_tfrs/gray_tfrs/EGD-0085_label_0.tfrecord"
        ],
        [
         "44",
         "EGD-0710",
         "0",
         "/Users/LennartPhilipp/Desktop/Uni/Prowiss/Datensätze/Erasmus_Glioma_Dataset/EGD_tfrs/gray_tfrs/EGD-0710_label_0.tfrecord"
        ],
        [
         "45",
         "EGD-0115",
         "0",
         "/Users/LennartPhilipp/Desktop/Uni/Prowiss/Datensätze/Erasmus_Glioma_Dataset/EGD_tfrs/gray_tfrs/EGD-0115_label_0.tfrecord"
        ],
        [
         "46",
         "EGD-0629",
         "0",
         "/Users/LennartPhilipp/Desktop/Uni/Prowiss/Datensätze/Erasmus_Glioma_Dataset/EGD_tfrs/gray_tfrs/EGD-0629_label_0.tfrecord"
        ],
        [
         "47",
         "EGD-0196",
         "0",
         "/Users/LennartPhilipp/Desktop/Uni/Prowiss/Datensätze/Erasmus_Glioma_Dataset/EGD_tfrs/gray_tfrs/EGD-0196_label_0.tfrecord"
        ],
        [
         "48",
         "EGD-0073",
         "0",
         "/Users/LennartPhilipp/Desktop/Uni/Prowiss/Datensätze/Erasmus_Glioma_Dataset/EGD_tfrs/gray_tfrs/EGD-0073_label_0.tfrecord"
        ],
        [
         "49",
         "EGD-0192",
         "0",
         "/Users/LennartPhilipp/Desktop/Uni/Prowiss/Datensätze/Erasmus_Glioma_Dataset/EGD_tfrs/gray_tfrs/EGD-0192_label_0.tfrecord"
        ]
       ],
       "shape": {
        "columns": 3,
        "rows": 5012
       }
      },
      "text/html": [
       "<div>\n",
       "<style scoped>\n",
       "    .dataframe tbody tr th:only-of-type {\n",
       "        vertical-align: middle;\n",
       "    }\n",
       "\n",
       "    .dataframe tbody tr th {\n",
       "        vertical-align: top;\n",
       "    }\n",
       "\n",
       "    .dataframe thead th {\n",
       "        text-align: right;\n",
       "    }\n",
       "</style>\n",
       "<table border=\"1\" class=\"dataframe\">\n",
       "  <thead>\n",
       "    <tr style=\"text-align: right;\">\n",
       "      <th></th>\n",
       "      <th>patient_id</th>\n",
       "      <th>label</th>\n",
       "      <th>path_to_tfr_file</th>\n",
       "    </tr>\n",
       "  </thead>\n",
       "  <tbody>\n",
       "    <tr>\n",
       "      <th>0</th>\n",
       "      <td>EGD-0389</td>\n",
       "      <td>0</td>\n",
       "      <td>/Users/LennartPhilipp/Desktop/Uni/Prowiss/Date...</td>\n",
       "    </tr>\n",
       "    <tr>\n",
       "      <th>1</th>\n",
       "      <td>EGD-0531</td>\n",
       "      <td>0</td>\n",
       "      <td>/Users/LennartPhilipp/Desktop/Uni/Prowiss/Date...</td>\n",
       "    </tr>\n",
       "    <tr>\n",
       "      <th>2</th>\n",
       "      <td>EGD-0417</td>\n",
       "      <td>0</td>\n",
       "      <td>/Users/LennartPhilipp/Desktop/Uni/Prowiss/Date...</td>\n",
       "    </tr>\n",
       "    <tr>\n",
       "      <th>3</th>\n",
       "      <td>EGD-0600</td>\n",
       "      <td>0</td>\n",
       "      <td>/Users/LennartPhilipp/Desktop/Uni/Prowiss/Date...</td>\n",
       "    </tr>\n",
       "    <tr>\n",
       "      <th>4</th>\n",
       "      <td>EGD-0762</td>\n",
       "      <td>0</td>\n",
       "      <td>/Users/LennartPhilipp/Desktop/Uni/Prowiss/Date...</td>\n",
       "    </tr>\n",
       "    <tr>\n",
       "      <th>...</th>\n",
       "      <td>...</td>\n",
       "      <td>...</td>\n",
       "      <td>...</td>\n",
       "    </tr>\n",
       "    <tr>\n",
       "      <th>5007</th>\n",
       "      <td>BraTS-MET-00712-000</td>\n",
       "      <td>4</td>\n",
       "      <td>/Users/LennartPhilipp/Desktop/Uni/Prowiss/Date...</td>\n",
       "    </tr>\n",
       "    <tr>\n",
       "      <th>5008</th>\n",
       "      <td>BraTS-MET-00712-000</td>\n",
       "      <td>4</td>\n",
       "      <td>/Users/LennartPhilipp/Desktop/Uni/Prowiss/Date...</td>\n",
       "    </tr>\n",
       "    <tr>\n",
       "      <th>5009</th>\n",
       "      <td>BraTS-MET-00712-000</td>\n",
       "      <td>4</td>\n",
       "      <td>/Users/LennartPhilipp/Desktop/Uni/Prowiss/Date...</td>\n",
       "    </tr>\n",
       "    <tr>\n",
       "      <th>5010</th>\n",
       "      <td>BraTS-MET-00706-000</td>\n",
       "      <td>4</td>\n",
       "      <td>/Users/LennartPhilipp/Desktop/Uni/Prowiss/Date...</td>\n",
       "    </tr>\n",
       "    <tr>\n",
       "      <th>5011</th>\n",
       "      <td>BraTS-MET-00706-000</td>\n",
       "      <td>4</td>\n",
       "      <td>/Users/LennartPhilipp/Desktop/Uni/Prowiss/Date...</td>\n",
       "    </tr>\n",
       "  </tbody>\n",
       "</table>\n",
       "<p>5012 rows × 3 columns</p>\n",
       "</div>"
      ],
      "text/plain": [
       "               patient_id label  \\\n",
       "0                EGD-0389     0   \n",
       "1                EGD-0531     0   \n",
       "2                EGD-0417     0   \n",
       "3                EGD-0600     0   \n",
       "4                EGD-0762     0   \n",
       "...                   ...   ...   \n",
       "5007  BraTS-MET-00712-000     4   \n",
       "5008  BraTS-MET-00712-000     4   \n",
       "5009  BraTS-MET-00712-000     4   \n",
       "5010  BraTS-MET-00706-000     4   \n",
       "5011  BraTS-MET-00706-000     4   \n",
       "\n",
       "                                       path_to_tfr_file  \n",
       "0     /Users/LennartPhilipp/Desktop/Uni/Prowiss/Date...  \n",
       "1     /Users/LennartPhilipp/Desktop/Uni/Prowiss/Date...  \n",
       "2     /Users/LennartPhilipp/Desktop/Uni/Prowiss/Date...  \n",
       "3     /Users/LennartPhilipp/Desktop/Uni/Prowiss/Date...  \n",
       "4     /Users/LennartPhilipp/Desktop/Uni/Prowiss/Date...  \n",
       "...                                                 ...  \n",
       "5007  /Users/LennartPhilipp/Desktop/Uni/Prowiss/Date...  \n",
       "5008  /Users/LennartPhilipp/Desktop/Uni/Prowiss/Date...  \n",
       "5009  /Users/LennartPhilipp/Desktop/Uni/Prowiss/Date...  \n",
       "5010  /Users/LennartPhilipp/Desktop/Uni/Prowiss/Date...  \n",
       "5011  /Users/LennartPhilipp/Desktop/Uni/Prowiss/Date...  \n",
       "\n",
       "[5012 rows x 3 columns]"
      ]
     },
     "execution_count": 18,
     "metadata": {},
     "output_type": "execute_result"
    }
   ],
   "source": [
    "patient_ids = [patient.patient_id for patient in all_patients]\n",
    "labels = [patient.label for patient in all_patients]\n",
    "paths_to_tfr_files = [patient.path for patient in all_patients]\n",
    "\n",
    "all_patient_dict = {\n",
    "    \"patient_id\": patient_ids,\n",
    "    \"label\": labels,\n",
    "    \"path_to_tfr_file\": paths_to_tfr_files\n",
    "}\n",
    "\n",
    "# create pandas dataframe\n",
    "df = pd.DataFrame(all_patient_dict)\n",
    "df"
   ]
  },
  {
   "cell_type": "code",
   "execution_count": 22,
   "metadata": {},
   "outputs": [],
   "source": [
    "X = df.drop(columns=[\"label\", \"patient_id\"]).values\n",
    "y = df[\"label\"].values\n",
    "groups = df[\"patient_id\"].values"
   ]
  },
  {
   "cell_type": "code",
   "execution_count": 23,
   "metadata": {},
   "outputs": [],
   "source": [
    "sgkf = StratifiedGroupKFold(\n",
    "    n_splits = 10,\n",
    "    shuffle = True,\n",
    "    random_state = 44\n",
    ")\n",
    "\n",
    "train_idx, val_idx = next(sgkf.split(X, y, groups=groups))\n",
    "\n",
    "# X_train, y_train = X[train_idx], y[train_idx]\n",
    "# X_val, y_val = X[val_idx], y[val_idx]\n",
    "# IMPORTANT: Keep track of the labels corresponding to the split indices\n",
    "X_train_paths, y_train_labels = X[train_idx], y[train_idx]\n",
    "X_val_paths, y_val_labels = X[val_idx], y[val_idx]"
   ]
  },
  {
   "cell_type": "code",
   "execution_count": 24,
   "metadata": {},
   "outputs": [],
   "source": [
    "X_train = [x[0].name for x in X_train_paths]\n",
    "X_val = [x[0].name for x in X_val_paths]"
   ]
  },
  {
   "cell_type": "code",
   "execution_count": 26,
   "metadata": {},
   "outputs": [
    {
     "name": "stdout",
     "output_type": "stream",
     "text": [
      "Copying 5012 filtered tfrecord files to /Users/LennartPhilipp/Desktop/Uni/Prowiss/Datensätze/tfrs/pretraining_fine_gray_2_classes...\n"
     ]
    },
    {
     "name": "stderr",
     "output_type": "stream",
     "text": [
      "100%|██████████| 5012/5012 [00:02<00:00, 2053.57it/s]"
     ]
    },
    {
     "name": "stdout",
     "output_type": "stream",
     "text": [
      "File copying finished\n"
     ]
    },
    {
     "name": "stderr",
     "output_type": "stream",
     "text": [
      "\n"
     ]
    }
   ],
   "source": [
    "path_to_tfr_folder.mkdir(parents=True, exist_ok=True)\n",
    "\n",
    "print(f\"Copying {len(all_patients)} filtered tfrecord files to {path_to_tfr_folder}...\")\n",
    "\n",
    "# loop through all the patients paths and copy them into the tfrs folder\n",
    "for patient in tqdm(all_patients):\n",
    "    try:\n",
    "        # create destination path\n",
    "        dest_path = path_to_tfr_folder / patient.path.name\n",
    "        # Copy only if the destination doesn't exist or maybe based on modification time if needed\n",
    "        if not dest_path.exists(): # Avoid re-copying if run multiple times\n",
    "             shutil.copy(patient.path, dest_path)\n",
    "        else: \n",
    "            print(f\"Skipping copy, {dest_path} already exists.\") # Optional logging\n",
    "    except Exception as e:\n",
    "        print(f\"Error copying {patient.path} to {path_to_tfr_folder}: {e}\")\n",
    "print(\"File copying finished\")"
   ]
  },
  {
   "cell_type": "code",
   "execution_count": 28,
   "metadata": {},
   "outputs": [],
   "source": [
    "with open(path_to_train_txt, \"w\") as f:\n",
    "    for path in X_train:\n",
    "        f.write(str(path) + \"\\n\")\n",
    "\n",
    "with open(path_to_val_txt, \"w\") as f:\n",
    "    for path in X_val:\n",
    "        f.write(str(path) + \"\\n\")"
   ]
  },
  {
   "cell_type": "code",
   "execution_count": 29,
   "metadata": {},
   "outputs": [
    {
     "name": "stdout",
     "output_type": "stream",
     "text": [
      "Split overview:\n",
      "Train: 4452\n",
      "Val: 560\n",
      "Total: 5012\n"
     ]
    }
   ],
   "source": [
    "print(\"Split overview:\")\n",
    "print(f\"Train: {len(X_train)}\")\n",
    "print(f\"Val: {len(X_val)}\")\n",
    "print(f\"Total: {len(X_train) + len(X_val)}\")"
   ]
  },
  {
   "cell_type": "code",
   "execution_count": 30,
   "metadata": {},
   "outputs": [
    {
     "name": "stdout",
     "output_type": "stream",
     "text": [
      "Labels found in training set: ['0', '4']\n",
      "\n",
      "Training set label counts: {'0': 860, '4': 3592}\n",
      "Calculated Class Weights for Training Set:\n",
      "{'0': 2.588372093023256, '4': 0.6197104677060133}\n",
      "Class Weights with integer keys: {0: 2.588372093023256, 4: 0.6197104677060133}\n"
     ]
    }
   ],
   "source": [
    "from collections import Counter\n",
    "\n",
    "# Use the y_train_labels obtained from the split\n",
    "train_labels_list = y_train_labels.tolist() # Convert numpy array to list if needed\n",
    "label_counts_train = Counter(train_labels_list)\n",
    "\n",
    "# Ensure we only have the expected labels\n",
    "expected_labels = ['0', '4']\n",
    "print(f\"Labels found in training set: {list(label_counts_train.keys())}\")\n",
    "\n",
    "# Calculate weights\n",
    "total_samples_train = len(train_labels_list)\n",
    "num_classes = len(expected_labels) # Should be 2\n",
    "\n",
    "class_weights = {}\n",
    "for label in expected_labels:\n",
    "    count = label_counts_train.get(label, 0) # Get count, default to 0 if label somehow missing\n",
    "    if count > 0:\n",
    "        # Formula: total_samples / (n_classes * count)\n",
    "        weight = total_samples_train / (num_classes * count)\n",
    "        class_weights[label] = weight\n",
    "    else:\n",
    "        print(f\"Warning: Label {label} not found in training set!\")\n",
    "        class_weights[label] = 0 # Or handle as appropriate\n",
    "\n",
    "print(f\"\\nTraining set label counts: {dict(label_counts_train)}\")\n",
    "print(f\"Calculated Class Weights for Training Set:\")\n",
    "print(class_weights)\n",
    "\n",
    "# The class weights are typically needed as a dictionary mapping class *index* (int) to weight (float)\n",
    "# for frameworks like Keras/TensorFlow. Convert keys if necessary.\n",
    "class_weights_int_keys = {int(k): v for k, v in class_weights.items()}\n",
    "print(f\"Class Weights with integer keys: {class_weights_int_keys}\")"
   ]
  },
  {
   "cell_type": "code",
   "execution_count": 11,
   "metadata": {},
   "outputs": [
    {
     "name": "stdout",
     "output_type": "stream",
     "text": [
      "Train label counts:\n",
      "{'0': 861, '1': 33, '2': 119, '3': 47, '4': 3598}\n",
      "Val label counts:\n",
      "{'0': 88, '1': 2, '2': 14, '3': 8, '4': 465}\n",
      "Train label ratios:\n",
      "{'0': 0.18484328037784456, '1': 0.007084585659081151, '2': 0.025547445255474453, '3': 0.010090167453842851, '4': 0.772434521253757}\n",
      "Val label ratios:\n",
      "{'0': 0.15251299826689774, '1': 0.0034662045060658577, '2': 0.024263431542461005, '3': 0.01386481802426343, '4': 0.8058925476603119}\n"
     ]
    }
   ],
   "source": [
    "train_lines = []\n",
    "val_lines = []\n",
    "\n",
    "# check split ratios in the .txt files\n",
    "with open(path_to_train_txt, \"r\") as f:\n",
    "    train_lines = f.readlines()\n",
    "with open(path_to_val_txt, \"r\") as f:\n",
    "    val_lines = f.readlines()\n",
    "\n",
    "train_labels = [line.split(\"_label_\")[1].strip() for line in train_lines]\n",
    "train_labels = [label.split(\".\")[0] for label in train_labels]\n",
    "\n",
    "val_labels = [line.split(\"_label_\")[1].strip() for line in val_lines]\n",
    "val_labels = [label.split(\".\")[0] for label in val_labels]\n",
    "train_label_counts = {label: train_labels.count(label) for label in unique_labels}\n",
    "val_label_counts = {label: val_labels.count(label) for label in unique_labels}\n",
    "print(\"Train label counts:\")\n",
    "print(train_label_counts) \n",
    "print(\"Val label counts:\")\n",
    "print(val_label_counts)\n",
    "\n",
    "# label ratios\n",
    "train_ratio = {label: count / len(train_labels) for label, count in train_label_counts.items()}\n",
    "val_ratio = {label: count / len(val_labels) for label, count in val_label_counts.items()}\n",
    "print(\"Train label ratios:\")\n",
    "print(train_ratio)\n",
    "print(\"Val label ratios:\")\n",
    "print(val_ratio)"
   ]
  },
  {
   "cell_type": "markdown",
   "metadata": {},
   "source": [
    "## Get Class Weights for Fine Training"
   ]
  },
  {
   "cell_type": "code",
   "execution_count": null,
   "metadata": {},
   "outputs": [],
   "source": []
  }
 ],
 "metadata": {
  "kernelspec": {
   "display_name": "brain_mets_env",
   "language": "python",
   "name": "python3"
  },
  "language_info": {
   "codemirror_mode": {
    "name": "ipython",
    "version": 3
   },
   "file_extension": ".py",
   "mimetype": "text/x-python",
   "name": "python",
   "nbconvert_exporter": "python",
   "pygments_lexer": "ipython3",
   "version": "3.11.0"
  }
 },
 "nbformat": 4,
 "nbformat_minor": 2
}
