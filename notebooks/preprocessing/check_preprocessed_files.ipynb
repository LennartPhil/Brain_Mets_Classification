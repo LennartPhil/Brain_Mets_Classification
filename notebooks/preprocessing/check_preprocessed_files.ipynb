{
 "cells": [
  {
   "cell_type": "code",
   "execution_count": 1,
   "metadata": {},
   "outputs": [],
   "source": [
    "import os\n",
    "from pathlib import Path"
   ]
  },
  {
   "cell_type": "code",
   "execution_count": 4,
   "metadata": {},
   "outputs": [],
   "source": [
    "path_to_preprocessed = \"/Volumes/BrainMets/Rgb_Brain_Mets/brain_mets_classification/derivatives/preprocessed_brainlesion_20240424-151911\"\n",
    "\n",
    "missing_patients = [\"sub-02036251\"]\n",
    "\n",
    "# go through all the preprocessed folders\n",
    "# check if they're empty or not\n",
    "# if so, add to the list\n",
    "# if not ignore\n",
    "\n",
    "patients = [f for f in os.listdir(path_to_preprocessed) if os.path.isdir(os.path.join(path_to_preprocessed, f))]\n",
    "\n",
    "for patient in patients:\n",
    "    path_to_patient = Path(path_to_preprocessed) / patient\n",
    "    contents = os.listdir(path_to_patient)\n",
    "    if \"preprocessed\" not in contents:\n",
    "        missing_patients.append(patient)\n",
    "        os.rmdir(path_to_patient)\n",
    "\n",
    "\n",
    "# run preprocessing on missing patients again I guess"
   ]
  },
  {
   "cell_type": "code",
   "execution_count": 6,
   "metadata": {},
   "outputs": [
    {
     "name": "stdout",
     "output_type": "stream",
     "text": [
      "185\n",
      "['sub-02036251', 'sub-01288350', 'sub-01492723', 'sub-01673701', 'sub-01104996', 'sub-01087386', 'sub-01908576', 'sub-01713022', 'sub-01420310', 'sub-01614295', 'sub-01456959', 'sub-02000864', 'sub-01450871', 'sub-01650072', 'sub-02063398', 'sub-01575055', 'sub-01138456', 'sub-01476909', 'sub-01475524', 'sub-01419998', 'sub-01805334', 'sub-01499528', 'sub-01461078', 'sub-01853095', 'sub-01362907', 'sub-01942928', 'sub-01207036', 'sub-01465229', 'sub-01196057', 'sub-01584596', 'sub-01414540', 'sub-01496608', 'sub-01390721', 'sub-90003562', 'sub-01251946', 'sub-01709242', 'sub-01695930', 'sub-01518885', 'sub-90001992', 'sub-01754011', 'sub-01763867', 'sub-01204563', 'sub-01015961', 'sub-01513891', 'sub-01657294', 'sub-01331487', 'sub-01483116', 'sub-01373703', 'sub-01478990', 'sub-01661279', 'sub-01801060', 'sub-01502083', 'sub-01201482', 'sub-90011887', 'sub-01744565', 'sub-01099901', 'sub-01677324', 'sub-01498464', 'sub-01718213', 'sub-80004059', 'sub-01381621', 'sub-01596127', 'sub-01393875', 'sub-01288245', 'sub-01616246', 'sub-01332588', 'sub-01641510', 'sub-01309950', 'sub-01681275', 'sub-01893873', 'sub-01031243', 'sub-02012594', 'sub-01370265', 'sub-01431720', 'sub-01387984', 'sub-02014685', 'sub-01489395', 'sub-01434869', 'sub-93002557', 'sub-01131702', 'sub-01703264', 'sub-90005031', 'sub-01164986', 'sub-01933711', 'sub-01452858', 'sub-01713570', 'sub-01666008', 'sub-01409764', 'sub-01480742', 'sub-01924748', 'sub-01441531', 'sub-01216717', 'sub-01395836', 'sub-01565091', 'sub-01589112', 'sub-01696845', 'sub-01410235', 'sub-01545797', 'sub-01071055', 'sub-01415245', 'sub-80011453', 'sub-01621161', 'sub-01214172', 'sub-01188297', 'sub-93003757', 'sub-01654658', 'sub-01674416', 'sub-01707721', 'sub-01515235', 'sub-01130856', 'sub-01437004', 'sub-01957247', 'sub-01383503', 'sub-01587295', 'sub-01119720', 'sub-01130173', 'sub-01458719', 'sub-01569328', 'sub-01281168', 'sub-01583797', 'sub-01547588', 'sub-01433377', 'sub-01835095', 'sub-01530724', 'sub-01551183', 'sub-01710250', 'sub-01457167', 'sub-02063373', 'sub-95001254', 'sub-01958155', 'sub-01698789', 'sub-01384142', 'sub-01870024', 'sub-01706562', 'sub-01514331', 'sub-01732456', 'sub-01960441', 'sub-01905848', 'sub-01056884', 'sub-01434617', 'sub-01494236', 'sub-01979997', 'sub-01605537', 'sub-01516618', 'sub-01483723', 'sub-01966470', 'sub-01997658', 'sub-01391534', 'sub-01713725', 'sub-01779701', 'sub-01435731', 'sub-01025630', 'sub-01562247', 'sub-01521599', 'sub-88000225', 'sub-01064662', 'sub-01573094', 'sub-01572564', 'sub-01953116', 'sub-01961566', 'sub-01594137', 'sub-01486069', 'sub-01483526', 'sub-01455312', 'sub-01732889', 'sub-01040149', 'sub-01496804', 'sub-01274157', 'sub-01861511', 'sub-01702596', 'sub-02021781', 'sub-01542729', 'sub-01649133', 'sub-01600788', 'sub-01695173', 'sub-01550202', 'sub-01668785', 'sub-02038513', 'sub-01695094', 'sub-01357275', 'sub-01402283', 'sub-01936520', 'sub-01205745', 'sub-01852952', 'sub-01695080']\n"
     ]
    }
   ],
   "source": [
    "print(len(missing_patients))\n",
    "print(missing_patients)"
   ]
  }
 ],
 "metadata": {
  "kernelspec": {
   "display_name": "brain_mets_env",
   "language": "python",
   "name": "python3"
  },
  "language_info": {
   "codemirror_mode": {
    "name": "ipython",
    "version": 3
   },
   "file_extension": ".py",
   "mimetype": "text/x-python",
   "name": "python",
   "nbconvert_exporter": "python",
   "pygments_lexer": "ipython3",
   "version": "3.11.0"
  }
 },
 "nbformat": 4,
 "nbformat_minor": 2
}
