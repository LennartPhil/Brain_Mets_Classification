{
 "cells": [
  {
   "cell_type": "markdown",
   "metadata": {},
   "source": [
    "# Preprocessing\n",
    "https://github.com/BrainLesion/preprocessing"
   ]
  },
  {
   "cell_type": "markdown",
   "metadata": {},
   "source": [
    "## Run Preprocessing"
   ]
  },
  {
   "cell_type": "code",
   "execution_count": 1,
   "metadata": {},
   "outputs": [],
   "source": [
    "import matplotlib.pyplot as plt\n",
    "from auxiliary.normalization.percentile_normalizer import PercentileNormalizer\n",
    "from auxiliary.turbopath import turbopath\n",
    "from tqdm import tqdm\n",
    "import os\n",
    "\n",
    "from brainles_preprocessing.brain_extraction import HDBetExtractor\n",
    "from brainles_preprocessing.modality import Modality\n",
    "from brainles_preprocessing.preprocessor import Preprocessor\n",
    "from brainles_preprocessing.registration import (\n",
    "    ANTsRegistrator,\n",
    "    NiftyRegRegistrator\n",
    ")"
   ]
  },
  {
   "cell_type": "code",
   "execution_count": 2,
   "metadata": {},
   "outputs": [],
   "source": [
    "def preprocess_exam_in_brats_style(inputDir: str) -> None:\n",
    "    \"\"\"\n",
    "    Perform BRATS (Brain Tumor Segmentation) style preprocessing on MRI exam data.\n",
    "\n",
    "    Args:\n",
    "        inputDir (str): Path to the directory containing raw MRI files for an exam.\n",
    "\n",
    "    Raises:\n",
    "        Exception: If any error occurs during the preprocessing.\n",
    "\n",
    "    Example:\n",
    "        brat_style_preprocess_exam(\"/path/to/exam_directory\")\n",
    "\n",
    "    This function preprocesses MRI exam data following the BRATS style, which includes the following steps:\n",
    "    1. Normalization using a percentile normalizer.\n",
    "    2. Registration and correction using NiftyReg.\n",
    "    3. Brain extraction using HDBet.\n",
    "\n",
    "    The processed data is saved in a structured directory within the input directory.\n",
    "\n",
    "    Args:\n",
    "        inputDir (str): Path to the directory containing raw MRI files for an exam.\n",
    "\n",
    "    Returns:\n",
    "        None\n",
    "    \"\"\"\n",
    "    inputDir = turbopath(inputDir)\n",
    "    print(\"*** start ***\")\n",
    "    brainles_dir = turbopath(inputDir) + \"/\" + inputDir.name + \"_brainles\"\n",
    "    norm_bet_dir = brainles_dir / \"normalized_bet\"\n",
    "\n",
    "    t1_file = inputDir.files(\"*t1.nii.gz\")\n",
    "    t1c_file = inputDir.files(\"*t1c.nii.gz\")\n",
    "    t2_file = inputDir.files(\"*t2.nii.gz\")\n",
    "    flair_file = inputDir.files(\"*fla.nii.gz\")\n",
    "\n",
    "    # we check that we have only one file of each type\n",
    "    if len(t1_file) == len(t1c_file) == len(t2_file) == len(flair_file) == 1:\n",
    "        t1File = t1_file[0]\n",
    "        t1cFile = t1c_file[0]\n",
    "        t2File = t2_file[0]\n",
    "        flaFile = flair_file[0]\n",
    "        \n",
    "        # normalizer\n",
    "        percentile_normalizer = PercentileNormalizer(\n",
    "            lower_percentile=0.1,\n",
    "            upper_percentile=99.9,\n",
    "            lower_limit=0,\n",
    "            upper_limit=1,\n",
    "        )\n",
    "        # define modalities\n",
    "        center = Modality(\n",
    "            modality_name=\"t1c\",\n",
    "            input_path=t1cFile,\n",
    "            normalized_bet_output_path=norm_bet_dir / inputDir.name\n",
    "            + \"_t1c_bet_normalized.nii.gz\",\n",
    "            atlas_correction=True,\n",
    "            normalizer=percentile_normalizer,\n",
    "        )\n",
    "\n",
    "        moving_modalities = [\n",
    "            Modality(\n",
    "                modality_name=\"t1\",\n",
    "                input_path=t1File,\n",
    "                normalized_bet_output_path=norm_bet_dir / inputDir.name\n",
    "                + \"_t1_bet_normalized.nii.gz\",\n",
    "                atlas_correction=True,\n",
    "                normalizer=percentile_normalizer,\n",
    "            ),\n",
    "            Modality(\n",
    "                modality_name=\"t2\",\n",
    "                input_path=t2File,\n",
    "                normalized_bet_output_path=norm_bet_dir / inputDir.name\n",
    "                + \"_t2_bet_normalized.nii.gz\",\n",
    "                atlas_correction=True,\n",
    "                normalizer=percentile_normalizer,\n",
    "            ),\n",
    "            Modality(\n",
    "                modality_name=\"flair\",\n",
    "                input_path=flaFile,\n",
    "                normalized_bet_output_path=norm_bet_dir / inputDir.name\n",
    "                + \"_fla_bet_normalized.nii.gz\",\n",
    "                atlas_correction=True,\n",
    "                normalizer=percentile_normalizer,\n",
    "            ),\n",
    "        ]\n",
    "\n",
    "        preprocessor = Preprocessor(\n",
    "            center_modality=center,\n",
    "            moving_modalities=moving_modalities,\n",
    "            #registrator=NiftyRegRegistrator(),\n",
    "            registrator=ANTsRegistrator(),\n",
    "            brain_extractor=HDBetExtractor(),\n",
    "            # optional: we provide a temporary directory as a sandbox for the preprocessin\n",
    "            temp_folder=\"/Users/LennartPhilipp/Desktop/Uni/Prowiss/Code/preprocessing/temporary_directory\",\n",
    "            use_gpu=False,\n",
    "            #limit_cuda_visible_devices=\"0\",\n",
    "        )\n",
    "\n",
    "        preprocessor.run(\n",
    "            save_dir_coregistration=brainles_dir + \"/co-registration\",\n",
    "            save_dir_atlas_registration=brainles_dir + \"/atlas-registration\",\n",
    "            save_dir_atlas_correction=brainles_dir + \"/atlas-correction\",\n",
    "            save_dir_brain_extraction=brainles_dir + \"/brain-extraction\",\n",
    "        )"
   ]
  },
  {
   "cell_type": "code",
   "execution_count": 4,
   "metadata": {},
   "outputs": [
    {
     "name": "stderr",
     "output_type": "stream",
     "text": [
      "  0%|          | 0/1 [00:00<?, ?it/s]"
     ]
    },
    {
     "name": "stdout",
     "output_type": "stream",
     "text": [
      "processing: /Users/LennartPhilipp/Desktop/Uni/Prowiss/Code/preprocessing/regensburg_sample_data/regensburg_test_patient\n",
      "*** start ***\n",
      "Passed checkpoint 01\n",
      "Passed checkpoint 02\n",
      "Passed checkpoint 03\n",
      "Passed checkpoint 04\n",
      "File: /Users/LennartPhilipp/Desktop/Uni/Prowiss/Code/preprocessing/temporary_directory/atlas-space/atlas__t1c.nii.gz\n",
      "preprocessing...\n",
      "image shape after preprocessing:  (103, 160, 160)\n",
      "prediction (CNN id)...\n",
      "0\n",
      "1\n",
      "2\n",
      "3\n",
      "4\n",
      "exporting segmentation...\n",
      "Passed checkpoint 05\n",
      "current image /Users/LennartPhilipp/Desktop/Uni/Prowiss/Code/preprocessing/temporary_directory/brain-extraction/atlas_bet_t1c.nii.gz\n",
      "current image /Users/LennartPhilipp/Desktop/Uni/Prowiss/Code/preprocessing/temporary_directory/brain-extraction/brain_masked/brain_masked__t1.nii.gz\n",
      "current image /Users/LennartPhilipp/Desktop/Uni/Prowiss/Code/preprocessing/temporary_directory/brain-extraction/brain_masked/brain_masked__t2.nii.gz\n",
      "current image /Users/LennartPhilipp/Desktop/Uni/Prowiss/Code/preprocessing/temporary_directory/brain-extraction/brain_masked/brain_masked__flair.nii.gz\n"
     ]
    },
    {
     "name": "stderr",
     "output_type": "stream",
     "text": [
      "100%|██████████| 1/1 [07:44<00:00, 464.91s/it]"
     ]
    },
    {
     "name": "stdout",
     "output_type": "stream",
     "text": [
      "Passed checkpoint 06\n"
     ]
    },
    {
     "name": "stderr",
     "output_type": "stream",
     "text": [
      "\n"
     ]
    }
   ],
   "source": [
    "#EXAMPLE_DATA_DIR = turbopath(\"/Users/LennartPhilipp/Desktop/Uni/Prowiss/Code/preprocessing/sample_data\")\n",
    "\n",
    "EXAMPLE_DATA_DIR = turbopath(\"/Users/LennartPhilipp/Desktop/Uni/Prowiss/Code/preprocessing/regensburg_sample_data\")\n",
    "\n",
    "exams = EXAMPLE_DATA_DIR.dirs()\n",
    "\n",
    "for exam in tqdm(exams):\n",
    "    print(\"processing:\", exam)\n",
    "    preprocess_exam_in_brats_style(exam)"
   ]
  }
 ],
 "metadata": {
  "kernelspec": {
   "display_name": "brain_mets_env",
   "language": "python",
   "name": "python3"
  },
  "language_info": {
   "codemirror_mode": {
    "name": "ipython",
    "version": 3
   },
   "file_extension": ".py",
   "mimetype": "text/x-python",
   "name": "python",
   "nbconvert_exporter": "python",
   "pygments_lexer": "ipython3",
   "version": "3.11.0"
  }
 },
 "nbformat": 4,
 "nbformat_minor": 2
}
