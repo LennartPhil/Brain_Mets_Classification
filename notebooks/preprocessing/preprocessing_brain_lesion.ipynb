{
 "cells": [
  {
   "cell_type": "markdown",
   "metadata": {},
   "source": [
    "# Preprocessing\n",
    "https://github.com/BrainLesion/preprocessing"
   ]
  },
  {
   "cell_type": "code",
   "execution_count": 1,
   "metadata": {},
   "outputs": [
    {
     "name": "stderr",
     "output_type": "stream",
     "text": [
      "/Users/LennartPhilipp/Desktop/Uni/Prowiss/Code/Brain_Mets_Classification/brain_mets_env/lib/python3.11/site-packages/brainles_preprocessing/registration/__init__.py:6: UserWarning: ANTS package not found. If you want to use it, please install it using 'pip install brainles_preprocessing[ants]'\n",
      "  warnings.warn(\n"
     ]
    }
   ],
   "source": [
    "import matplotlib.pyplot as plt\n",
    "from auxiliary.normalization.percentile_normalizer import PercentileNormalizer\n",
    "from auxiliary.turbopath import turbopath\n",
    "from tqdm import tqdm\n",
    "import os\n",
    "\n",
    "from brainles_preprocessing.brain_extraction import HDBetExtractor\n",
    "from brainles_preprocessing.modality import Modality\n",
    "from brainles_preprocessing.preprocessor import Preprocessor\n",
    "from brainles_preprocessing.registration import NiftyRegRegistrator"
   ]
  },
  {
   "cell_type": "code",
   "execution_count": 12,
   "metadata": {},
   "outputs": [
    {
     "name": "stdout",
     "output_type": "stream",
     "text": [
      "processing: /Users/LennartPhilipp/Desktop/Uni/Prowiss/Code/preprocessing/test patient\n",
      "*** start ***\n"
     ]
    },
    {
     "ename": "FileNotFoundError",
     "evalue": "[Errno 2] No such file or directory: Path('/var/folders/by/b05bkcn50tb0fx4h3hhz0h800000gn/T/tmp3bbx3xd7/atlas-space/atlas__t1c.log')",
     "output_type": "error",
     "traceback": [
      "\u001b[0;31m---------------------------------------------------------------------------\u001b[0m",
      "\u001b[0;31mFileNotFoundError\u001b[0m                         Traceback (most recent call last)",
      "Cell \u001b[0;32mIn[12], line 112\u001b[0m\n\u001b[1;32m    108\u001b[0m exam \u001b[38;5;241m=\u001b[39m \u001b[38;5;124m\"\u001b[39m\u001b[38;5;124m/Users/LennartPhilipp/Desktop/Uni/Prowiss/Code/preprocessing/test patient\u001b[39m\u001b[38;5;124m\"\u001b[39m\n\u001b[1;32m    111\u001b[0m \u001b[38;5;28mprint\u001b[39m(\u001b[38;5;124m\"\u001b[39m\u001b[38;5;124mprocessing:\u001b[39m\u001b[38;5;124m\"\u001b[39m, exam)\n\u001b[0;32m--> 112\u001b[0m \u001b[43mpreprocess_exam_in_brats_style\u001b[49m\u001b[43m(\u001b[49m\u001b[43mexam\u001b[49m\u001b[43m)\u001b[49m\n",
      "Cell \u001b[0;32mIn[12], line 98\u001b[0m, in \u001b[0;36mpreprocess_exam_in_brats_style\u001b[0;34m(inputDir)\u001b[0m\n\u001b[1;32m     61\u001b[0m moving_modalities \u001b[38;5;241m=\u001b[39m [\n\u001b[1;32m     62\u001b[0m     Modality(\n\u001b[1;32m     63\u001b[0m         modality_name\u001b[38;5;241m=\u001b[39m\u001b[38;5;124m\"\u001b[39m\u001b[38;5;124mt1\u001b[39m\u001b[38;5;124m\"\u001b[39m,\n\u001b[0;32m   (...)\u001b[0m\n\u001b[1;32m     85\u001b[0m     ),\n\u001b[1;32m     86\u001b[0m ]\n\u001b[1;32m     88\u001b[0m preprocessor \u001b[38;5;241m=\u001b[39m Preprocessor(\n\u001b[1;32m     89\u001b[0m     center_modality\u001b[38;5;241m=\u001b[39mcenter,\n\u001b[1;32m     90\u001b[0m     moving_modalities\u001b[38;5;241m=\u001b[39mmoving_modalities,\n\u001b[0;32m   (...)\u001b[0m\n\u001b[1;32m     95\u001b[0m     limit_cuda_visible_devices\u001b[38;5;241m=\u001b[39m\u001b[38;5;124m\"\u001b[39m\u001b[38;5;124m0\u001b[39m\u001b[38;5;124m\"\u001b[39m,\n\u001b[1;32m     96\u001b[0m )\n\u001b[0;32m---> 98\u001b[0m \u001b[43mpreprocessor\u001b[49m\u001b[38;5;241;43m.\u001b[39;49m\u001b[43mrun\u001b[49m\u001b[43m(\u001b[49m\n\u001b[1;32m     99\u001b[0m \u001b[43m    \u001b[49m\u001b[43msave_dir_coregistration\u001b[49m\u001b[38;5;241;43m=\u001b[39;49m\u001b[43mbrainles_dir\u001b[49m\u001b[43m \u001b[49m\u001b[38;5;241;43m+\u001b[39;49m\u001b[43m \u001b[49m\u001b[38;5;124;43m\"\u001b[39;49m\u001b[38;5;124;43m/co-registration\u001b[39;49m\u001b[38;5;124;43m\"\u001b[39;49m\u001b[43m,\u001b[49m\n\u001b[1;32m    100\u001b[0m \u001b[43m    \u001b[49m\u001b[43msave_dir_atlas_registration\u001b[49m\u001b[38;5;241;43m=\u001b[39;49m\u001b[43mbrainles_dir\u001b[49m\u001b[43m \u001b[49m\u001b[38;5;241;43m+\u001b[39;49m\u001b[43m \u001b[49m\u001b[38;5;124;43m\"\u001b[39;49m\u001b[38;5;124;43m/atlas-registration\u001b[39;49m\u001b[38;5;124;43m\"\u001b[39;49m\u001b[43m,\u001b[49m\n\u001b[1;32m    101\u001b[0m \u001b[43m    \u001b[49m\u001b[38;5;66;43;03m# save_dir_atlas_correction=brainles_dir + \"/atlas-correction\",\u001b[39;49;00m\n\u001b[1;32m    102\u001b[0m \u001b[43m    \u001b[49m\u001b[38;5;66;43;03m# save_dir_brain_extraction=brainles_dir + \"/brain-extraction\",\u001b[39;49;00m\n\u001b[1;32m    103\u001b[0m \u001b[43m\u001b[49m\u001b[43m)\u001b[49m\n",
      "File \u001b[0;32m~/Desktop/Uni/Prowiss/Code/Brain_Mets_Classification/brain_mets_env/lib/python3.11/site-packages/brainles_preprocessing/preprocessor.py:154\u001b[0m, in \u001b[0;36mPreprocessor.run\u001b[0;34m(self, save_dir_coregistration, save_dir_atlas_registration, save_dir_atlas_correction, save_dir_brain_extraction)\u001b[0m\n\u001b[1;32m    152\u001b[0m \u001b[38;5;66;03m# Register center modality to atlas\u001b[39;00m\n\u001b[1;32m    153\u001b[0m center_file_name \u001b[38;5;241m=\u001b[39m \u001b[38;5;124mf\u001b[39m\u001b[38;5;124m\"\u001b[39m\u001b[38;5;124matlas__\u001b[39m\u001b[38;5;132;01m{\u001b[39;00m\u001b[38;5;28mself\u001b[39m\u001b[38;5;241m.\u001b[39mcenter_modality\u001b[38;5;241m.\u001b[39mmodality_name\u001b[38;5;132;01m}\u001b[39;00m\u001b[38;5;124m\"\u001b[39m\n\u001b[0;32m--> 154\u001b[0m transformation_matrix \u001b[38;5;241m=\u001b[39m \u001b[38;5;28;43mself\u001b[39;49m\u001b[38;5;241;43m.\u001b[39;49m\u001b[43mcenter_modality\u001b[49m\u001b[38;5;241;43m.\u001b[39;49m\u001b[43mregister\u001b[49m\u001b[43m(\u001b[49m\n\u001b[1;32m    155\u001b[0m \u001b[43m    \u001b[49m\u001b[43mregistrator\u001b[49m\u001b[38;5;241;43m=\u001b[39;49m\u001b[38;5;28;43mself\u001b[39;49m\u001b[38;5;241;43m.\u001b[39;49m\u001b[43mregistrator\u001b[49m\u001b[43m,\u001b[49m\n\u001b[1;32m    156\u001b[0m \u001b[43m    \u001b[49m\u001b[43mfixed_image_path\u001b[49m\u001b[38;5;241;43m=\u001b[39;49m\u001b[38;5;28;43mself\u001b[39;49m\u001b[38;5;241;43m.\u001b[39;49m\u001b[43matlas_image_path\u001b[49m\u001b[43m,\u001b[49m\n\u001b[1;32m    157\u001b[0m \u001b[43m    \u001b[49m\u001b[43mregistration_dir\u001b[49m\u001b[38;5;241;43m=\u001b[39;49m\u001b[38;5;28;43mself\u001b[39;49m\u001b[38;5;241;43m.\u001b[39;49m\u001b[43matlas_dir\u001b[49m\u001b[43m,\u001b[49m\n\u001b[1;32m    158\u001b[0m \u001b[43m    \u001b[49m\u001b[43mmoving_image_name\u001b[49m\u001b[38;5;241;43m=\u001b[39;49m\u001b[43mcenter_file_name\u001b[49m\u001b[43m,\u001b[49m\n\u001b[1;32m    159\u001b[0m \u001b[43m\u001b[49m\u001b[43m)\u001b[49m\n\u001b[1;32m    161\u001b[0m \u001b[38;5;66;03m# Transform moving modalities to atlas\u001b[39;00m\n\u001b[1;32m    162\u001b[0m \u001b[38;5;28;01mfor\u001b[39;00m moving_modality \u001b[38;5;129;01min\u001b[39;00m \u001b[38;5;28mself\u001b[39m\u001b[38;5;241m.\u001b[39mmoving_modalities:\n",
      "File \u001b[0;32m~/Desktop/Uni/Prowiss/Code/Brain_Mets_Classification/brain_mets_env/lib/python3.11/site-packages/brainles_preprocessing/modality.py:178\u001b[0m, in \u001b[0;36mModality.register\u001b[0;34m(self, registrator, fixed_image_path, registration_dir, moving_image_name)\u001b[0m\n\u001b[1;32m    173\u001b[0m registered_matrix \u001b[38;5;241m=\u001b[39m os\u001b[38;5;241m.\u001b[39mpath\u001b[38;5;241m.\u001b[39mjoin(\n\u001b[1;32m    174\u001b[0m     registration_dir, \u001b[38;5;124mf\u001b[39m\u001b[38;5;124m\"\u001b[39m\u001b[38;5;132;01m{\u001b[39;00mmoving_image_name\u001b[38;5;132;01m}\u001b[39;00m\u001b[38;5;124m\"\u001b[39m\n\u001b[1;32m    175\u001b[0m )  \u001b[38;5;66;03m# note, add file ending depending on registration backend!\u001b[39;00m\n\u001b[1;32m    176\u001b[0m registered_log \u001b[38;5;241m=\u001b[39m os\u001b[38;5;241m.\u001b[39mpath\u001b[38;5;241m.\u001b[39mjoin(registration_dir, \u001b[38;5;124mf\u001b[39m\u001b[38;5;124m\"\u001b[39m\u001b[38;5;132;01m{\u001b[39;00mmoving_image_name\u001b[38;5;132;01m}\u001b[39;00m\u001b[38;5;124m.log\u001b[39m\u001b[38;5;124m\"\u001b[39m)\n\u001b[0;32m--> 178\u001b[0m \u001b[43mregistrator\u001b[49m\u001b[38;5;241;43m.\u001b[39;49m\u001b[43mregister\u001b[49m\u001b[43m(\u001b[49m\n\u001b[1;32m    179\u001b[0m \u001b[43m    \u001b[49m\u001b[43mfixed_image_path\u001b[49m\u001b[38;5;241;43m=\u001b[39;49m\u001b[43mfixed_image_path\u001b[49m\u001b[43m,\u001b[49m\n\u001b[1;32m    180\u001b[0m \u001b[43m    \u001b[49m\u001b[43mmoving_image_path\u001b[49m\u001b[38;5;241;43m=\u001b[39;49m\u001b[38;5;28;43mself\u001b[39;49m\u001b[38;5;241;43m.\u001b[39;49m\u001b[43mcurrent\u001b[49m\u001b[43m,\u001b[49m\n\u001b[1;32m    181\u001b[0m \u001b[43m    \u001b[49m\u001b[43mtransformed_image_path\u001b[49m\u001b[38;5;241;43m=\u001b[39;49m\u001b[43mregistered\u001b[49m\u001b[43m,\u001b[49m\n\u001b[1;32m    182\u001b[0m \u001b[43m    \u001b[49m\u001b[43mmatrix_path\u001b[49m\u001b[38;5;241;43m=\u001b[39;49m\u001b[43mregistered_matrix\u001b[49m\u001b[43m,\u001b[49m\n\u001b[1;32m    183\u001b[0m \u001b[43m    \u001b[49m\u001b[43mlog_file_path\u001b[49m\u001b[38;5;241;43m=\u001b[39;49m\u001b[43mregistered_log\u001b[49m\u001b[43m,\u001b[49m\n\u001b[1;32m    184\u001b[0m \u001b[43m\u001b[49m\u001b[43m)\u001b[49m\n\u001b[1;32m    185\u001b[0m \u001b[38;5;28mself\u001b[39m\u001b[38;5;241m.\u001b[39mcurrent \u001b[38;5;241m=\u001b[39m registered\n\u001b[1;32m    186\u001b[0m \u001b[38;5;28;01mreturn\u001b[39;00m registered_matrix\n",
      "File \u001b[0;32m~/Desktop/Uni/Prowiss/Code/Brain_Mets_Classification/brain_mets_env/lib/python3.11/site-packages/brainles_preprocessing/registration/niftyreg/niftyreg.py:83\u001b[0m, in \u001b[0;36mNiftyRegRegistrator.register\u001b[0;34m(self, fixed_image_path, moving_image_path, transformed_image_path, matrix_path, log_file_path)\u001b[0m\n\u001b[1;32m     74\u001b[0m input_params \u001b[38;5;241m=\u001b[39m [\n\u001b[1;32m     75\u001b[0m     turbopath(niftyreg_executable),\n\u001b[1;32m     76\u001b[0m     turbopath(fixed_image_path),\n\u001b[0;32m   (...)\u001b[0m\n\u001b[1;32m     79\u001b[0m     turbopath(matrix_path),\n\u001b[1;32m     80\u001b[0m ]\n\u001b[1;32m     82\u001b[0m \u001b[38;5;66;03m# Call the run method to execute the script and capture the output in the log file\u001b[39;00m\n\u001b[0;32m---> 83\u001b[0m success, error \u001b[38;5;241m=\u001b[39m \u001b[43mrunner\u001b[49m\u001b[38;5;241;43m.\u001b[39;49m\u001b[43mrun\u001b[49m\u001b[43m(\u001b[49m\u001b[43minput_params\u001b[49m\u001b[43m)\u001b[49m\n",
      "File \u001b[0;32m~/Desktop/Uni/Prowiss/Code/Brain_Mets_Classification/brain_mets_env/lib/python3.11/site-packages/auxiliary/runscript.py:58\u001b[0m, in \u001b[0;36mScriptRunner.run\u001b[0;34m(self, input_params)\u001b[0m\n\u001b[1;32m     56\u001b[0m \u001b[38;5;28;01mtry\u001b[39;00m:\n\u001b[1;32m     57\u001b[0m     start_time \u001b[38;5;241m=\u001b[39m time\u001b[38;5;241m.\u001b[39mtime()\n\u001b[0;32m---> 58\u001b[0m     \u001b[38;5;28;01mwith\u001b[39;00m \u001b[38;5;28mopen\u001b[39m(\u001b[38;5;28mself\u001b[39m\u001b[38;5;241m.\u001b[39mlog_path, \u001b[38;5;124m\"\u001b[39m\u001b[38;5;124ma\u001b[39m\u001b[38;5;124m\"\u001b[39m) \u001b[38;5;28;01mas\u001b[39;00m log_file:\n\u001b[1;32m     59\u001b[0m         script_name \u001b[38;5;241m=\u001b[39m \u001b[38;5;28mself\u001b[39m\u001b[38;5;241m.\u001b[39mscript_path\u001b[38;5;241m.\u001b[39msplit(\u001b[38;5;124m\"\u001b[39m\u001b[38;5;124m/\u001b[39m\u001b[38;5;124m\"\u001b[39m)[\u001b[38;5;241m-\u001b[39m\u001b[38;5;241m1\u001b[39m]\n\u001b[1;32m     60\u001b[0m         log_file\u001b[38;5;241m.\u001b[39mwrite(\u001b[38;5;124mf\u001b[39m\u001b[38;5;124m\"\u001b[39m\u001b[38;5;130;01m\\n\u001b[39;00m\u001b[38;5;132;01m{\u001b[39;00m\u001b[38;5;124m'\u001b[39m\u001b[38;5;124m=\u001b[39m\u001b[38;5;124m'\u001b[39m\u001b[38;5;250m \u001b[39m\u001b[38;5;241m*\u001b[39m\u001b[38;5;250m \u001b[39m\u001b[38;5;241m80\u001b[39m\u001b[38;5;132;01m}\u001b[39;00m\u001b[38;5;130;01m\\n\u001b[39;00m\u001b[38;5;124m\"\u001b[39m)\n",
      "\u001b[0;31mFileNotFoundError\u001b[0m: [Errno 2] No such file or directory: Path('/var/folders/by/b05bkcn50tb0fx4h3hhz0h800000gn/T/tmp3bbx3xd7/atlas-space/atlas__t1c.log')"
     ]
    }
   ],
   "source": [
    "def preprocess_exam_in_brats_style(inputDir: str) -> None:\n",
    "    \"\"\"\n",
    "    Perform BRATS (Brain Tumor Segmentation) style preprocessing on MRI exam data.\n",
    "\n",
    "    Args:\n",
    "        inputDir (str): Path to the directory containing raw MRI files for an exam.\n",
    "\n",
    "    Raises:\n",
    "        Exception: If any error occurs during the preprocessing.\n",
    "\n",
    "    Example:\n",
    "        brat_style_preprocess_exam(\"/path/to/exam_directory\")\n",
    "\n",
    "    This function preprocesses MRI exam data following the BRATS style, which includes the following steps:\n",
    "    1. Normalization using a percentile normalizer.\n",
    "    2. Registration and correction using NiftyReg.\n",
    "    3. Brain extraction using HDBet.\n",
    "\n",
    "    The processed data is saved in a structured directory within the input directory.\n",
    "\n",
    "    Args:\n",
    "        inputDir (str): Path to the directory containing raw MRI files for an exam.\n",
    "\n",
    "    Returns:\n",
    "        None\n",
    "    \"\"\"\n",
    "    inputDir = turbopath(inputDir)\n",
    "    print(\"*** start ***\")\n",
    "    brainles_dir = turbopath(inputDir) + \"/\" + inputDir.name + \"_brainles\"\n",
    "    norm_bet_dir = brainles_dir / \"normalized_bet\"\n",
    "\n",
    "    t1_file = inputDir.files(\"*t1.nii.gz\")\n",
    "    t1c_file = inputDir.files(\"*t1c.nii.gz\")\n",
    "    t2_file = inputDir.files(\"*t2.nii.gz\")\n",
    "    flair_file = inputDir.files(\"*fla.nii.gz\")\n",
    "\n",
    "    # we check that we have only one file of each type\n",
    "    if len(t1_file) == len(t1c_file) == len(t2_file) == len(flair_file) == 1:\n",
    "        t1File = t1_file[0]\n",
    "        t1cFile = t1c_file[0]\n",
    "        t2File = t2_file[0]\n",
    "        flaFile = flair_file[0]\n",
    "        \n",
    "        # normalizer\n",
    "        percentile_normalizer = PercentileNormalizer(\n",
    "            lower_percentile=0.1,\n",
    "            upper_percentile=99.9,\n",
    "            lower_limit=0,\n",
    "            upper_limit=1,\n",
    "        )\n",
    "        # define modalities\n",
    "        center = Modality(\n",
    "            modality_name=\"t1c\",\n",
    "            input_path=t1cFile,\n",
    "            normalized_bet_output_path=norm_bet_dir / inputDir.name\n",
    "            + \"_t1c_bet_normalized.nii.gz\",\n",
    "            atlas_correction=True,\n",
    "            normalizer=percentile_normalizer,\n",
    "        )\n",
    "\n",
    "        moving_modalities = [\n",
    "            Modality(\n",
    "                modality_name=\"t1\",\n",
    "                input_path=t1File,\n",
    "                normalized_bet_output_path=norm_bet_dir / inputDir.name\n",
    "                + \"_t1_bet_normalized.nii.gz\",\n",
    "                atlas_correction=True,\n",
    "                normalizer=percentile_normalizer,\n",
    "            ),\n",
    "            Modality(\n",
    "                modality_name=\"t2\",\n",
    "                input_path=t2File,\n",
    "                normalized_bet_output_path=norm_bet_dir / inputDir.name\n",
    "                + \"_t2_bet_normalized.nii.gz\",\n",
    "                atlas_correction=True,\n",
    "                normalizer=percentile_normalizer,\n",
    "            ),\n",
    "            Modality(\n",
    "                modality_name=\"flair\",\n",
    "                input_path=flaFile,\n",
    "                normalized_bet_output_path=norm_bet_dir / inputDir.name\n",
    "                + \"_fla_bet_normalized.nii.gz\",\n",
    "                atlas_correction=True,\n",
    "                normalizer=percentile_normalizer,\n",
    "            ),\n",
    "        ]\n",
    "\n",
    "        preprocessor = Preprocessor(\n",
    "            center_modality=center,\n",
    "            moving_modalities=moving_modalities,\n",
    "            registrator=NiftyRegRegistrator(),\n",
    "            brain_extractor=HDBetExtractor(),\n",
    "            # optional: we provide a temporary directory as a sandbox for the preprocessin\n",
    "            #temp_folder=\"temporary_directory\",\n",
    "            limit_cuda_visible_devices=\"0\",\n",
    "        )\n",
    "\n",
    "        preprocessor.run(\n",
    "            save_dir_coregistration=brainles_dir + \"/co-registration\",\n",
    "            save_dir_atlas_registration=brainles_dir + \"/atlas-registration\",\n",
    "            # save_dir_atlas_correction=brainles_dir + \"/atlas-correction\",\n",
    "            # save_dir_brain_extraction=brainles_dir + \"/brain-extraction\",\n",
    "        )\n",
    "\n",
    "#EXAMPLE_DATA_DIR = turbopath(\"data\")\n",
    "\n",
    "#exams = EXAMPLE_DATA_DIR.dirs()\n",
    "exam = \"/Users/LennartPhilipp/Desktop/Uni/Prowiss/Code/preprocessing/test patient\"\n",
    "\n",
    "\n",
    "print(\"processing:\", exam)\n",
    "preprocess_exam_in_brats_style(exam)"
   ]
  }
 ],
 "metadata": {
  "kernelspec": {
   "display_name": "brain_mets_env",
   "language": "python",
   "name": "python3"
  },
  "language_info": {
   "codemirror_mode": {
    "name": "ipython",
    "version": 3
   },
   "file_extension": ".py",
   "mimetype": "text/x-python",
   "name": "python",
   "nbconvert_exporter": "python",
   "pygments_lexer": "ipython3",
   "version": "3.11.0"
  }
 },
 "nbformat": 4,
 "nbformat_minor": 2
}
