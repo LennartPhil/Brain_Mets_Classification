{
 "cells": [
  {
   "cell_type": "markdown",
   "metadata": {},
   "source": [
    "# Yale Dataset\n",
    "the dataset was already skullstripped and coregistered onto SRI24\\\n",
    "To-do:\n",
    "- n4 bias correction\n",
    "- percentile normalization"
   ]
  },
  {
   "cell_type": "code",
   "execution_count": 1,
   "metadata": {},
   "outputs": [],
   "source": [
    "from tqdm import tqdm\n",
    "from datetime import datetime\n",
    "\n",
    "import nibabel as nib\n",
    "\n",
    "#import ants\n",
    "\n",
    "import SimpleITK as sitk\n",
    "from pathlib import Path\n",
    "from intensity_normalization.normalize.zscore import ZScoreNormalize\n",
    "\n",
    "#import intensity_normalization\n",
    "\n",
    "import numpy as np\n",
    "\n",
    "import os"
   ]
  },
  {
   "cell_type": "code",
   "execution_count": 2,
   "metadata": {},
   "outputs": [],
   "source": [
    "path_to_yale_dataset = Path(\"/Users/LennartPhilipp/Desktop/Uni/Prowiss/CIA metstobrain/Pretreat-MetsToBrain-Masks\")\n",
    "path_to_output = Path(\"/Users/LennartPhilipp/Desktop/Uni/Prowiss/CIA metstobrain/yale_dataset_normalized\")"
   ]
  },
  {
   "cell_type": "code",
   "execution_count": 3,
   "metadata": {},
   "outputs": [],
   "source": [
    "# n4 bias correction\n",
    "\n",
    "def n4_bias_correction(image, path_to_output):\n",
    "    \"\"\"\n",
    "    Applies N4 bias field correction to the given image and saves the corrected image to the specified output path.\n",
    "\n",
    "    Parameters:\n",
    "        image (sitk.Image): The input image to be corrected.\n",
    "        path_to_output (str or pathlib.Path): The path to save the corrected image.\n",
    "\n",
    "    Returns:\n",
    "        None\n",
    "    \"\"\"\n",
    "\n",
    "    corrector = sitk.N4BiasFieldCorrectionImageFilter()\n",
    "    image_corrected = corrector.Execute(image)\n",
    "\n",
    "    sitk.WriteImage(image_corrected, str(path_to_output))\n",
    "\n",
    "def percentile_normalize(image: np.ndarray, lower_percentile: float = 0.0, upper_percentile: float = 100.0, lower_limit: float = 0, upper_limit: float = 1):\n",
    "    \"\"\"\n",
    "    Normalizes an image using percentile-based mapping.\n",
    "\n",
    "    Args:\n",
    "        image (numpy.ndarray): The input image.\n",
    "        lower_percentile (float, optional): The lower percentile for mapping. Defaults to 0.0.\n",
    "        upper_percentile (float, optional): The upper percentile for mapping. Defaults to 100.0.\n",
    "        lower_limit (float, optional): The lower limit for normalized values. Defaults to 0.\n",
    "        upper_limit (float, optional): The upper limit for normalized values. Defaults to 1.\n",
    "\n",
    "    Returns:\n",
    "        numpy.ndarray: The percentile-normalized image.\n",
    "\n",
    "    Description:\n",
    "        This function takes an image as input and normalizes it using percentile-based mapping. It calculates the lower\n",
    "        and upper values of the image based on the provided percentiles. The normalized image is then calculated by\n",
    "        subtracting the lower value from each pixel value, dividing the result by the difference between the upper and\n",
    "        lower values, and clipping the values between 0 and 1. Finally, the normalized image is scaled to the specified\n",
    "        lower limit and upper limit.\n",
    "\n",
    "    Example:\n",
    "        >>> image = np.array([10, 20, 30, 40, 50])\n",
    "        >>> percentile_normalize(image, lower_percentile=10, upper_percentile=90)\n",
    "        array([0.        , 0.11111111, 0.22222222, 0.33333333, 0.44444444])\n",
    "    \"\"\"\n",
    "\n",
    "\n",
    "    lower_value = np.percentile(image, lower_percentile)\n",
    "    upper_value = np.percentile(image, upper_percentile)\n",
    "\n",
    "    normalized_image = np.clip(\n",
    "        (image - lower_value) / (upper_value - lower_value), 0, 1\n",
    "    )\n",
    "    normalized_image = (\n",
    "        normalized_image * (upper_limit - lower_limit) + lower_limit\n",
    "    )\n",
    "\n",
    "    normalized_upper_value = np.percentile(normalized_image, upper_percentile)\n",
    "    normalized_lower_value = np.percentile(normalized_image, lower_percentile)\n",
    "\n",
    "    if normalized_upper_value != 1 or normalized_lower_value != 0:\n",
    "        print(f\"Percentile normalization failed. Upper value: {normalized_upper_value}, lower value: {normalized_lower_value}\")\n",
    "\n",
    "    return normalized_image"
   ]
  },
  {
   "cell_type": "code",
   "execution_count": 4,
   "metadata": {},
   "outputs": [
    {
     "name": "stdout",
     "output_type": "stream",
     "text": [
      "found 200 patients\n",
      "found 200 patients to normalize\n"
     ]
    },
    {
     "name": "stderr",
     "output_type": "stream",
     "text": [
      "  0%|          | 0/200 [00:00<?, ?it/s]"
     ]
    },
    {
     "name": "stdout",
     "output_type": "stream",
     "text": [
      "currently normalizing patient BraTS-MET-00086-000\n",
      "starting n4 bias correction for BraTS-MET-00086-000-t1c.nii.gz\n",
      "finished n4 bias correction for BraTS-MET-00086-000-t1c.nii.gz\n",
      "starting percentile correction for BraTS-MET-00086-000-t1c.nii.gz\n",
      "finished percentile normalization for BraTS-MET-00086-000-t1c.nii.gz\n",
      "starting n4 bias correction for BraTS-MET-00086-000-t2w.nii.gz\n",
      "finished n4 bias correction for BraTS-MET-00086-000-t2w.nii.gz\n",
      "starting percentile correction for BraTS-MET-00086-000-t2w.nii.gz\n",
      "finished percentile normalization for BraTS-MET-00086-000-t2w.nii.gz\n",
      "starting n4 bias correction for BraTS-MET-00086-000-t1n.nii.gz\n",
      "finished n4 bias correction for BraTS-MET-00086-000-t1n.nii.gz\n",
      "starting percentile correction for BraTS-MET-00086-000-t1n.nii.gz\n",
      "finished percentile normalization for BraTS-MET-00086-000-t1n.nii.gz\n",
      "starting n4 bias correction for BraTS-MET-00086-000-t2f.nii.gz\n",
      "finished n4 bias correction for BraTS-MET-00086-000-t2f.nii.gz\n",
      "starting percentile correction for BraTS-MET-00086-000-t2f.nii.gz\n"
     ]
    },
    {
     "name": "stderr",
     "output_type": "stream",
     "text": [
      "  0%|          | 1/200 [01:23<4:35:55, 83.19s/it]"
     ]
    },
    {
     "name": "stdout",
     "output_type": "stream",
     "text": [
      "finished percentile normalization for BraTS-MET-00086-000-t2f.nii.gz\n",
      "currently normalizing patient BraTS-MET-00284-000\n",
      "starting n4 bias correction for BraTS-MET-00284-000-t2f.nii.gz\n",
      "finished n4 bias correction for BraTS-MET-00284-000-t2f.nii.gz\n",
      "starting percentile correction for BraTS-MET-00284-000-t2f.nii.gz\n",
      "finished percentile normalization for BraTS-MET-00284-000-t2f.nii.gz\n",
      "starting n4 bias correction for BraTS-MET-00284-000-t1n.nii.gz\n",
      "finished n4 bias correction for BraTS-MET-00284-000-t1n.nii.gz\n",
      "starting percentile correction for BraTS-MET-00284-000-t1n.nii.gz\n",
      "finished percentile normalization for BraTS-MET-00284-000-t1n.nii.gz\n",
      "starting n4 bias correction for BraTS-MET-00284-000-t2w.nii.gz\n",
      "finished n4 bias correction for BraTS-MET-00284-000-t2w.nii.gz\n",
      "starting percentile correction for BraTS-MET-00284-000-t2w.nii.gz\n",
      "finished percentile normalization for BraTS-MET-00284-000-t2w.nii.gz\n",
      "starting n4 bias correction for BraTS-MET-00284-000-t1c.nii.gz\n",
      "finished n4 bias correction for BraTS-MET-00284-000-t1c.nii.gz\n",
      "starting percentile correction for BraTS-MET-00284-000-t1c.nii.gz\n"
     ]
    },
    {
     "name": "stderr",
     "output_type": "stream",
     "text": [
      "  1%|          | 2/200 [02:54<4:50:30, 88.03s/it]"
     ]
    },
    {
     "name": "stdout",
     "output_type": "stream",
     "text": [
      "finished percentile normalization for BraTS-MET-00284-000-t1c.nii.gz\n",
      "currently normalizing patient BraTS-MET-00290-000\n",
      "starting n4 bias correction for BraTS-MET-00290-000-t1n.nii.gz\n",
      "finished n4 bias correction for BraTS-MET-00290-000-t1n.nii.gz\n",
      "starting percentile correction for BraTS-MET-00290-000-t1n.nii.gz\n",
      "finished percentile normalization for BraTS-MET-00290-000-t1n.nii.gz\n",
      "starting n4 bias correction for BraTS-MET-00290-000-t2f.nii.gz\n",
      "finished n4 bias correction for BraTS-MET-00290-000-t2f.nii.gz\n",
      "starting percentile correction for BraTS-MET-00290-000-t2f.nii.gz\n",
      "finished percentile normalization for BraTS-MET-00290-000-t2f.nii.gz\n",
      "starting n4 bias correction for BraTS-MET-00290-000-t2w.nii.gz\n",
      "finished n4 bias correction for BraTS-MET-00290-000-t2w.nii.gz\n",
      "starting percentile correction for BraTS-MET-00290-000-t2w.nii.gz\n",
      "finished percentile normalization for BraTS-MET-00290-000-t2w.nii.gz\n",
      "starting n4 bias correction for BraTS-MET-00290-000-t1c.nii.gz\n",
      "finished n4 bias correction for BraTS-MET-00290-000-t1c.nii.gz\n",
      "starting percentile correction for BraTS-MET-00290-000-t1c.nii.gz\n"
     ]
    },
    {
     "name": "stderr",
     "output_type": "stream",
     "text": [
      "  2%|▏         | 3/200 [04:45<5:23:52, 98.64s/it]"
     ]
    },
    {
     "name": "stdout",
     "output_type": "stream",
     "text": [
      "finished percentile normalization for BraTS-MET-00290-000-t1c.nii.gz\n",
      "currently normalizing patient BraTS-MET-00247-000\n",
      "starting n4 bias correction for BraTS-MET-00247-000-t1c.nii.gz\n",
      "finished n4 bias correction for BraTS-MET-00247-000-t1c.nii.gz\n",
      "starting percentile correction for BraTS-MET-00247-000-t1c.nii.gz\n",
      "finished percentile normalization for BraTS-MET-00247-000-t1c.nii.gz\n",
      "starting n4 bias correction for BraTS-MET-00247-000-t2w.nii.gz\n",
      "finished n4 bias correction for BraTS-MET-00247-000-t2w.nii.gz\n",
      "starting percentile correction for BraTS-MET-00247-000-t2w.nii.gz\n",
      "finished percentile normalization for BraTS-MET-00247-000-t2w.nii.gz\n",
      "starting n4 bias correction for BraTS-MET-00247-000-t1n.nii.gz\n",
      "finished n4 bias correction for BraTS-MET-00247-000-t1n.nii.gz\n",
      "starting percentile correction for BraTS-MET-00247-000-t1n.nii.gz\n",
      "finished percentile normalization for BraTS-MET-00247-000-t1n.nii.gz\n",
      "starting n4 bias correction for BraTS-MET-00247-000-t2f.nii.gz\n",
      "finished n4 bias correction for BraTS-MET-00247-000-t2f.nii.gz\n",
      "starting percentile correction for BraTS-MET-00247-000-t2f.nii.gz\n"
     ]
    },
    {
     "name": "stderr",
     "output_type": "stream",
     "text": [
      "  2%|▏         | 4/200 [05:47<4:34:34, 84.05s/it]"
     ]
    },
    {
     "name": "stdout",
     "output_type": "stream",
     "text": [
      "finished percentile normalization for BraTS-MET-00247-000-t2f.nii.gz\n",
      "currently normalizing patient BraTS-MET-00253-000\n",
      "starting n4 bias correction for BraTS-MET-00253-000-t1c.nii.gz\n",
      "finished n4 bias correction for BraTS-MET-00253-000-t1c.nii.gz\n",
      "starting percentile correction for BraTS-MET-00253-000-t1c.nii.gz\n",
      "finished percentile normalization for BraTS-MET-00253-000-t1c.nii.gz\n",
      "starting n4 bias correction for BraTS-MET-00253-000-t2w.nii.gz\n",
      "finished n4 bias correction for BraTS-MET-00253-000-t2w.nii.gz\n",
      "starting percentile correction for BraTS-MET-00253-000-t2w.nii.gz\n",
      "finished percentile normalization for BraTS-MET-00253-000-t2w.nii.gz\n",
      "starting n4 bias correction for BraTS-MET-00253-000-t2f.nii.gz\n",
      "finished n4 bias correction for BraTS-MET-00253-000-t2f.nii.gz\n",
      "starting percentile correction for BraTS-MET-00253-000-t2f.nii.gz\n",
      "finished percentile normalization for BraTS-MET-00253-000-t2f.nii.gz\n",
      "starting n4 bias correction for BraTS-MET-00253-000-t1n.nii.gz\n",
      "finished n4 bias correction for BraTS-MET-00253-000-t1n.nii.gz\n",
      "starting percentile correction for BraTS-MET-00253-000-t1n.nii.gz\n"
     ]
    },
    {
     "name": "stderr",
     "output_type": "stream",
     "text": [
      "  2%|▎         | 5/200 [07:37<4:57:17, 91.48s/it]"
     ]
    },
    {
     "name": "stdout",
     "output_type": "stream",
     "text": [
      "finished percentile normalization for BraTS-MET-00253-000-t1n.nii.gz\n"
     ]
    },
    {
     "name": "stderr",
     "output_type": "stream",
     "text": [
      "\n"
     ]
    }
   ],
   "source": [
    "# create a testrun with 5 patients, where each step is safed to the output folder\n",
    "\n",
    "patients = [patient for patient in os.listdir(path_to_yale_dataset) if os.path.isdir(os.path.join(path_to_yale_dataset, patient))]\n",
    "print(f\"found {len(patients)} patients\")\n",
    "\n",
    "already_norm_patients = [patient for patient in os.listdir(path_to_output) if os.path.isdir(os.path.join(path_to_output, patient))]\n",
    "\n",
    "for patient in already_norm_patients:\n",
    "    # check if 4 n4 and percentile normalized files exist\n",
    "    path_to_patient_folder = Path(path_to_output) / Path(patient)\n",
    "    nifti_files = [path for path in os.listdir(path_to_patient_folder) if \".nii.gz\" in path]\n",
    "    if len(nifti_files) == 8:\n",
    "        patients.remove(patient)\n",
    "    else:\n",
    "        # remove all files in patient folder\n",
    "        for file in os.listdir(path_to_patient_folder):\n",
    "            os.remove(os.path.join(path_to_patient_folder, file))\n",
    "\n",
    "print(f\"found {len(patients)} patients to normalize\")\n",
    "\n",
    "for patient in tqdm(patients):\n",
    "\n",
    "    print(f\"currently normalizing patient {patient}\")\n",
    "\n",
    "    path_to_patient_files = Path(path_to_yale_dataset) / Path(patient)\n",
    "\n",
    "    raw_files = [file for file in os.listdir(path_to_patient_files) if \".nii.gz\" in file]\n",
    "\n",
    "    # create subfolder for each patient\n",
    "    path_to_patient_folder = Path(path_to_output) / Path(patient)\n",
    "    path_to_patient_folder.mkdir(parents=True, exist_ok=True)\n",
    "\n",
    "    for raw_file in raw_files:\n",
    "\n",
    "        if \"seg\" in raw_file:\n",
    "            continue\n",
    "\n",
    "        path_to_file = Path(path_to_patient_files) / Path(raw_file)\n",
    "        print(f\"starting n4 bias correction for {raw_file}\")\n",
    "\n",
    "        image = sitk.ReadImage(str(path_to_file), imageIO=\"NiftiImageIO\")\n",
    "        image = sitk.Cast(image, sitk.sitkFloat32)\n",
    "\n",
    "        n4_file_name = f\"n4_{raw_file}\"\n",
    "        path_to_n4_file = Path(path_to_patient_folder) / Path(n4_file_name)\n",
    "\n",
    "        n4_bias_correction(image, path_to_n4_file)\n",
    "\n",
    "        print(f\"finished n4 bias correction for {raw_file}\")\n",
    "\n",
    "        # percentile normalize\n",
    "        print(f\"starting percentile correction for {raw_file}\")\n",
    "        image = sitk.ReadImage(str(path_to_n4_file))\n",
    "\n",
    "        normalized_file_name = f\"n4_normalized_{raw_file}\"\n",
    "        path_to_normalized_file = Path(path_to_patient_folder) / Path(normalized_file_name)\n",
    "\n",
    "        # Get the original orientation information\n",
    "        original_direction = image.GetDirection()\n",
    "        original_origin = image.GetOrigin()\n",
    "        original_spacing = image.GetSpacing()\n",
    "\n",
    "        image_array = sitk.GetArrayFromImage(image)\n",
    "        image_array = percentile_normalize(image_array, lower_percentile=0.1, upper_percentile=99.9, lower_limit=0, upper_limit=1)\n",
    "\n",
    "        image = sitk.GetImageFromArray(image_array)\n",
    "\n",
    "        # Restore the original orientation information\n",
    "        image.SetDirection(original_direction)\n",
    "        image.SetOrigin(original_origin)\n",
    "        image.SetSpacing(original_spacing)\n",
    "\n",
    "        sitk.WriteImage(image, str(path_to_normalized_file))\n",
    "\n",
    "        print(f\"finished percentile normalization for {raw_file}\")"
   ]
  }
 ],
 "metadata": {
  "kernelspec": {
   "display_name": "brain_mets_env",
   "language": "python",
   "name": "python3"
  },
  "language_info": {
   "codemirror_mode": {
    "name": "ipython",
    "version": 3
   },
   "file_extension": ".py",
   "mimetype": "text/x-python",
   "name": "python",
   "nbconvert_exporter": "python",
   "pygments_lexer": "ipython3",
   "version": "3.11.0"
  }
 },
 "nbformat": 4,
 "nbformat_minor": 2
}
