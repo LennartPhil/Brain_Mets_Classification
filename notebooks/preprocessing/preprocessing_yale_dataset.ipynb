{
 "cells": [
  {
   "cell_type": "markdown",
   "metadata": {},
   "source": [
    "# Yale Dataset\n",
    "the dataset was already skullstripped and coregistered onto SRI24\\\n",
    "To-do:\n",
    "- n4 bias correction\n",
    "- percentile normalization"
   ]
  },
  {
   "cell_type": "code",
   "execution_count": 1,
   "metadata": {},
   "outputs": [],
   "source": [
    "from tqdm import tqdm\n",
    "from datetime import datetime\n",
    "\n",
    "import nibabel as nib\n",
    "\n",
    "#import ants\n",
    "\n",
    "import SimpleITK as sitk\n",
    "from pathlib import Path\n",
    "from intensity_normalization.normalize.zscore import ZScoreNormalize\n",
    "\n",
    "#import intensity_normalization\n",
    "\n",
    "import numpy as np\n",
    "\n",
    "import os"
   ]
  },
  {
   "cell_type": "code",
   "execution_count": 2,
   "metadata": {},
   "outputs": [],
   "source": [
    "path_to_yale_dataset = Path(\"/Users/LennartPhilipp/Desktop/Uni/Prowiss/CIA metstobrain/Pretreat-MetsToBrain-Masks\")\n",
    "path_to_output = Path(\"/Users/LennartPhilipp/Desktop/Uni/Prowiss/CIA metstobrain/yale_dataset_normalized\")"
   ]
  },
  {
   "cell_type": "code",
   "execution_count": 3,
   "metadata": {},
   "outputs": [],
   "source": [
    "# n4 bias correction\n",
    "\n",
    "def n4_bias_correction(image, path_to_output):\n",
    "    \"\"\"\n",
    "    Applies N4 bias field correction to the given image and saves the corrected image to the specified output path.\n",
    "\n",
    "    Parameters:\n",
    "        image (sitk.Image): The input image to be corrected.\n",
    "        path_to_output (str or pathlib.Path): The path to save the corrected image.\n",
    "\n",
    "    Returns:\n",
    "        None\n",
    "    \"\"\"\n",
    "\n",
    "    corrector = sitk.N4BiasFieldCorrectionImageFilter()\n",
    "    image_corrected = corrector.Execute(image)\n",
    "\n",
    "    sitk.WriteImage(image_corrected, str(path_to_output))\n",
    "\n",
    "def percentile_normalize(image: np.ndarray, lower_percentile: float = 0.0, upper_percentile: float = 100.0, lower_limit: float = 0, upper_limit: float = 1):\n",
    "    \"\"\"\n",
    "    Normalizes an image using percentile-based mapping.\n",
    "\n",
    "    Args:\n",
    "        image (numpy.ndarray): The input image.\n",
    "        lower_percentile (float, optional): The lower percentile for mapping. Defaults to 0.0.\n",
    "        upper_percentile (float, optional): The upper percentile for mapping. Defaults to 100.0.\n",
    "        lower_limit (float, optional): The lower limit for normalized values. Defaults to 0.\n",
    "        upper_limit (float, optional): The upper limit for normalized values. Defaults to 1.\n",
    "\n",
    "    Returns:\n",
    "        numpy.ndarray: The percentile-normalized image.\n",
    "\n",
    "    Description:\n",
    "        This function takes an image as input and normalizes it using percentile-based mapping. It calculates the lower\n",
    "        and upper values of the image based on the provided percentiles. The normalized image is then calculated by\n",
    "        subtracting the lower value from each pixel value, dividing the result by the difference between the upper and\n",
    "        lower values, and clipping the values between 0 and 1. Finally, the normalized image is scaled to the specified\n",
    "        lower limit and upper limit.\n",
    "\n",
    "    Example:\n",
    "        >>> image = np.array([10, 20, 30, 40, 50])\n",
    "        >>> percentile_normalize(image, lower_percentile=10, upper_percentile=90)\n",
    "        array([0.        , 0.11111111, 0.22222222, 0.33333333, 0.44444444])\n",
    "    \"\"\"\n",
    "\n",
    "\n",
    "    lower_value = np.percentile(image, lower_percentile)\n",
    "    upper_value = np.percentile(image, upper_percentile)\n",
    "\n",
    "    normalized_image = np.clip(\n",
    "        (image - lower_value) / (upper_value - lower_value), 0, 1\n",
    "    )\n",
    "    normalized_image = (\n",
    "        normalized_image * (upper_limit - lower_limit) + lower_limit\n",
    "    )\n",
    "\n",
    "    normalized_upper_value = np.percentile(normalized_image, upper_percentile)\n",
    "    normalized_lower_value = np.percentile(normalized_image, lower_percentile)\n",
    "\n",
    "    if normalized_upper_value != 1 or normalized_lower_value != 0:\n",
    "        print(f\"Percentile normalization failed. Upper value: {normalized_upper_value}, lower value: {normalized_lower_value}\")\n",
    "\n",
    "    return normalized_image"
   ]
  },
  {
   "cell_type": "code",
   "execution_count": 5,
   "metadata": {},
   "outputs": [
    {
     "name": "stdout",
     "output_type": "stream",
     "text": [
      "found 200 patients\n",
      "found 195 patients to normalize\n"
     ]
    },
    {
     "name": "stderr",
     "output_type": "stream",
     "text": [
      "  0%|          | 0/195 [00:00<?, ?it/s]"
     ]
    },
    {
     "name": "stdout",
     "output_type": "stream",
     "text": [
      "currently normalizing patient BraTS-MET-00119-000\n",
      "starting n4 bias correction for BraTS-MET-00119-000-t1c.nii.gz\n",
      "finished n4 bias correction for BraTS-MET-00119-000-t1c.nii.gz\n",
      "starting percentile correction for BraTS-MET-00119-000-t1c.nii.gz\n",
      "finished percentile normalization for BraTS-MET-00119-000-t1c.nii.gz\n",
      "starting n4 bias correction for BraTS-MET-00119-000-t2w.nii.gz\n",
      "finished n4 bias correction for BraTS-MET-00119-000-t2w.nii.gz\n",
      "starting percentile correction for BraTS-MET-00119-000-t2w.nii.gz\n",
      "finished percentile normalization for BraTS-MET-00119-000-t2w.nii.gz\n",
      "starting n4 bias correction for BraTS-MET-00119-000-t1n.nii.gz\n",
      "finished n4 bias correction for BraTS-MET-00119-000-t1n.nii.gz\n",
      "starting percentile correction for BraTS-MET-00119-000-t1n.nii.gz\n",
      "finished percentile normalization for BraTS-MET-00119-000-t1n.nii.gz\n",
      "starting n4 bias correction for BraTS-MET-00119-000-t2f.nii.gz\n",
      "finished n4 bias correction for BraTS-MET-00119-000-t2f.nii.gz\n",
      "starting percentile correction for BraTS-MET-00119-000-t2f.nii.gz\n"
     ]
    },
    {
     "name": "stderr",
     "output_type": "stream",
     "text": [
      "  1%|          | 1/195 [01:12<3:54:05, 72.40s/it]"
     ]
    },
    {
     "name": "stdout",
     "output_type": "stream",
     "text": [
      "finished percentile normalization for BraTS-MET-00119-000-t2f.nii.gz\n",
      "currently normalizing patient BraTS-MET-00131-000\n",
      "starting n4 bias correction for BraTS-MET-00131-000-t1n.nii.gz\n",
      "finished n4 bias correction for BraTS-MET-00131-000-t1n.nii.gz\n",
      "starting percentile correction for BraTS-MET-00131-000-t1n.nii.gz\n",
      "finished percentile normalization for BraTS-MET-00131-000-t1n.nii.gz\n",
      "starting n4 bias correction for BraTS-MET-00131-000-t2f.nii.gz\n",
      "finished n4 bias correction for BraTS-MET-00131-000-t2f.nii.gz\n",
      "starting percentile correction for BraTS-MET-00131-000-t2f.nii.gz\n",
      "finished percentile normalization for BraTS-MET-00131-000-t2f.nii.gz\n",
      "starting n4 bias correction for BraTS-MET-00131-000-t2w.nii.gz\n",
      "finished n4 bias correction for BraTS-MET-00131-000-t2w.nii.gz\n",
      "starting percentile correction for BraTS-MET-00131-000-t2w.nii.gz\n",
      "finished percentile normalization for BraTS-MET-00131-000-t2w.nii.gz\n",
      "starting n4 bias correction for BraTS-MET-00131-000-t1c.nii.gz\n",
      "finished n4 bias correction for BraTS-MET-00131-000-t1c.nii.gz\n",
      "starting percentile correction for BraTS-MET-00131-000-t1c.nii.gz\n"
     ]
    },
    {
     "name": "stderr",
     "output_type": "stream",
     "text": [
      "  1%|          | 2/195 [02:18<3:41:42, 68.92s/it]"
     ]
    },
    {
     "name": "stdout",
     "output_type": "stream",
     "text": [
      "Percentile normalization failed. Upper value: 0.9999999404549599, lower value: 0.0\n",
      "finished percentile normalization for BraTS-MET-00131-000-t1c.nii.gz\n",
      "currently normalizing patient BraTS-MET-00125-000\n",
      "starting n4 bias correction for BraTS-MET-00125-000-t2f.nii.gz\n",
      "finished n4 bias correction for BraTS-MET-00125-000-t2f.nii.gz\n",
      "starting percentile correction for BraTS-MET-00125-000-t2f.nii.gz\n",
      "finished percentile normalization for BraTS-MET-00125-000-t2f.nii.gz\n",
      "starting n4 bias correction for BraTS-MET-00125-000-t1n.nii.gz\n",
      "finished n4 bias correction for BraTS-MET-00125-000-t1n.nii.gz\n",
      "starting percentile correction for BraTS-MET-00125-000-t1n.nii.gz\n",
      "finished percentile normalization for BraTS-MET-00125-000-t1n.nii.gz\n",
      "starting n4 bias correction for BraTS-MET-00125-000-t2w.nii.gz\n",
      "finished n4 bias correction for BraTS-MET-00125-000-t2w.nii.gz\n",
      "starting percentile correction for BraTS-MET-00125-000-t2w.nii.gz\n",
      "finished percentile normalization for BraTS-MET-00125-000-t2w.nii.gz\n",
      "starting n4 bias correction for BraTS-MET-00125-000-t1c.nii.gz\n",
      "finished n4 bias correction for BraTS-MET-00125-000-t1c.nii.gz\n",
      "starting percentile correction for BraTS-MET-00125-000-t1c.nii.gz\n"
     ]
    },
    {
     "name": "stderr",
     "output_type": "stream",
     "text": [
      "  2%|▏         | 3/195 [03:33<3:48:49, 71.51s/it]"
     ]
    },
    {
     "name": "stdout",
     "output_type": "stream",
     "text": [
      "finished percentile normalization for BraTS-MET-00125-000-t1c.nii.gz\n",
      "currently normalizing patient BraTS-MET-00124-000\n",
      "starting n4 bias correction for BraTS-MET-00124-000-t1n.nii.gz\n",
      "finished n4 bias correction for BraTS-MET-00124-000-t1n.nii.gz\n",
      "starting percentile correction for BraTS-MET-00124-000-t1n.nii.gz\n",
      "finished percentile normalization for BraTS-MET-00124-000-t1n.nii.gz\n",
      "starting n4 bias correction for BraTS-MET-00124-000-t2f.nii.gz\n",
      "finished n4 bias correction for BraTS-MET-00124-000-t2f.nii.gz\n",
      "starting percentile correction for BraTS-MET-00124-000-t2f.nii.gz\n",
      "finished percentile normalization for BraTS-MET-00124-000-t2f.nii.gz\n",
      "starting n4 bias correction for BraTS-MET-00124-000-t2w.nii.gz\n",
      "finished n4 bias correction for BraTS-MET-00124-000-t2w.nii.gz\n",
      "starting percentile correction for BraTS-MET-00124-000-t2w.nii.gz\n",
      "finished percentile normalization for BraTS-MET-00124-000-t2w.nii.gz\n",
      "starting n4 bias correction for BraTS-MET-00124-000-t1c.nii.gz\n",
      "finished n4 bias correction for BraTS-MET-00124-000-t1c.nii.gz\n",
      "starting percentile correction for BraTS-MET-00124-000-t1c.nii.gz\n"
     ]
    },
    {
     "name": "stderr",
     "output_type": "stream",
     "text": [
      "  2%|▏         | 4/195 [04:18<3:14:00, 60.94s/it]"
     ]
    },
    {
     "name": "stdout",
     "output_type": "stream",
     "text": [
      "Percentile normalization failed. Upper value: 0.9999998809099198, lower value: 0.0\n",
      "finished percentile normalization for BraTS-MET-00124-000-t1c.nii.gz\n",
      "currently normalizing patient BraTS-MET-00130-000\n",
      "starting n4 bias correction for BraTS-MET-00130-000-t2f.nii.gz\n",
      "finished n4 bias correction for BraTS-MET-00130-000-t2f.nii.gz\n",
      "starting percentile correction for BraTS-MET-00130-000-t2f.nii.gz\n",
      "finished percentile normalization for BraTS-MET-00130-000-t2f.nii.gz\n",
      "starting n4 bias correction for BraTS-MET-00130-000-t1n.nii.gz\n",
      "finished n4 bias correction for BraTS-MET-00130-000-t1n.nii.gz\n",
      "starting percentile correction for BraTS-MET-00130-000-t1n.nii.gz\n",
      "finished percentile normalization for BraTS-MET-00130-000-t1n.nii.gz\n",
      "starting n4 bias correction for BraTS-MET-00130-000-t2w.nii.gz\n",
      "finished n4 bias correction for BraTS-MET-00130-000-t2w.nii.gz\n",
      "starting percentile correction for BraTS-MET-00130-000-t2w.nii.gz\n",
      "finished percentile normalization for BraTS-MET-00130-000-t2w.nii.gz\n",
      "starting n4 bias correction for BraTS-MET-00130-000-t1c.nii.gz\n",
      "finished n4 bias correction for BraTS-MET-00130-000-t1c.nii.gz\n",
      "starting percentile correction for BraTS-MET-00130-000-t1c.nii.gz\n"
     ]
    },
    {
     "name": "stderr",
     "output_type": "stream",
     "text": [
      "  3%|▎         | 5/195 [05:42<3:39:21, 69.27s/it]"
     ]
    },
    {
     "name": "stdout",
     "output_type": "stream",
     "text": [
      "finished percentile normalization for BraTS-MET-00130-000-t1c.nii.gz\n",
      "currently normalizing patient BraTS-MET-00118-000\n",
      "starting n4 bias correction for BraTS-MET-00118-000-t1c.nii.gz\n",
      "finished n4 bias correction for BraTS-MET-00118-000-t1c.nii.gz\n",
      "starting percentile correction for BraTS-MET-00118-000-t1c.nii.gz\n",
      "finished percentile normalization for BraTS-MET-00118-000-t1c.nii.gz\n",
      "starting n4 bias correction for BraTS-MET-00118-000-t2w.nii.gz\n",
      "finished n4 bias correction for BraTS-MET-00118-000-t2w.nii.gz\n",
      "starting percentile correction for BraTS-MET-00118-000-t2w.nii.gz\n",
      "finished percentile normalization for BraTS-MET-00118-000-t2w.nii.gz\n",
      "starting n4 bias correction for BraTS-MET-00118-000-t2f.nii.gz\n",
      "finished n4 bias correction for BraTS-MET-00118-000-t2f.nii.gz\n",
      "starting percentile correction for BraTS-MET-00118-000-t2f.nii.gz\n",
      "finished percentile normalization for BraTS-MET-00118-000-t2f.nii.gz\n",
      "starting n4 bias correction for BraTS-MET-00118-000-t1n.nii.gz\n",
      "finished n4 bias correction for BraTS-MET-00118-000-t1n.nii.gz\n",
      "starting percentile correction for BraTS-MET-00118-000-t1n.nii.gz\n"
     ]
    },
    {
     "name": "stderr",
     "output_type": "stream",
     "text": [
      "  3%|▎         | 6/195 [06:56<3:43:49, 71.05s/it]"
     ]
    },
    {
     "name": "stdout",
     "output_type": "stream",
     "text": [
      "finished percentile normalization for BraTS-MET-00118-000-t1n.nii.gz\n",
      "currently normalizing patient BraTS-MET-00252-000\n",
      "starting n4 bias correction for BraTS-MET-00252-000-t1c.nii.gz\n",
      "finished n4 bias correction for BraTS-MET-00252-000-t1c.nii.gz\n",
      "starting percentile correction for BraTS-MET-00252-000-t1c.nii.gz\n",
      "finished percentile normalization for BraTS-MET-00252-000-t1c.nii.gz\n",
      "starting n4 bias correction for BraTS-MET-00252-000-t2w.nii.gz\n",
      "finished n4 bias correction for BraTS-MET-00252-000-t2w.nii.gz\n",
      "starting percentile correction for BraTS-MET-00252-000-t2w.nii.gz\n",
      "finished percentile normalization for BraTS-MET-00252-000-t2w.nii.gz\n",
      "starting n4 bias correction for BraTS-MET-00252-000-t1n.nii.gz\n",
      "finished n4 bias correction for BraTS-MET-00252-000-t1n.nii.gz\n",
      "starting percentile correction for BraTS-MET-00252-000-t1n.nii.gz\n",
      "finished percentile normalization for BraTS-MET-00252-000-t1n.nii.gz\n",
      "starting n4 bias correction for BraTS-MET-00252-000-t2f.nii.gz\n",
      "finished n4 bias correction for BraTS-MET-00252-000-t2f.nii.gz\n",
      "starting percentile correction for BraTS-MET-00252-000-t2f.nii.gz\n"
     ]
    },
    {
     "name": "stderr",
     "output_type": "stream",
     "text": [
      "  4%|▎         | 7/195 [08:32<4:08:07, 79.19s/it]"
     ]
    },
    {
     "name": "stdout",
     "output_type": "stream",
     "text": [
      "finished percentile normalization for BraTS-MET-00252-000-t2f.nii.gz\n",
      "currently normalizing patient BraTS-MET-00291-000\n",
      "starting n4 bias correction for BraTS-MET-00291-000-t2f.nii.gz\n",
      "finished n4 bias correction for BraTS-MET-00291-000-t2f.nii.gz\n",
      "starting percentile correction for BraTS-MET-00291-000-t2f.nii.gz\n",
      "finished percentile normalization for BraTS-MET-00291-000-t2f.nii.gz\n",
      "starting n4 bias correction for BraTS-MET-00291-000-t1n.nii.gz\n",
      "finished n4 bias correction for BraTS-MET-00291-000-t1n.nii.gz\n",
      "starting percentile correction for BraTS-MET-00291-000-t1n.nii.gz\n",
      "finished percentile normalization for BraTS-MET-00291-000-t1n.nii.gz\n",
      "starting n4 bias correction for BraTS-MET-00291-000-t2w.nii.gz\n",
      "finished n4 bias correction for BraTS-MET-00291-000-t2w.nii.gz\n",
      "starting percentile correction for BraTS-MET-00291-000-t2w.nii.gz\n",
      "finished percentile normalization for BraTS-MET-00291-000-t2w.nii.gz\n",
      "starting n4 bias correction for BraTS-MET-00291-000-t1c.nii.gz\n",
      "finished n4 bias correction for BraTS-MET-00291-000-t1c.nii.gz\n",
      "starting percentile correction for BraTS-MET-00291-000-t1c.nii.gz\n"
     ]
    },
    {
     "name": "stderr",
     "output_type": "stream",
     "text": [
      "  4%|▍         | 8/195 [09:42<3:57:12, 76.11s/it]"
     ]
    },
    {
     "name": "stdout",
     "output_type": "stream",
     "text": [
      "Percentile normalization failed. Upper value: 0.9999998809099198, lower value: 0.0\n",
      "finished percentile normalization for BraTS-MET-00291-000-t1c.nii.gz\n",
      "currently normalizing patient BraTS-MET-00285-000\n",
      "starting n4 bias correction for BraTS-MET-00285-000-t1n.nii.gz\n",
      "finished n4 bias correction for BraTS-MET-00285-000-t1n.nii.gz\n",
      "starting percentile correction for BraTS-MET-00285-000-t1n.nii.gz\n",
      "finished percentile normalization for BraTS-MET-00285-000-t1n.nii.gz\n",
      "starting n4 bias correction for BraTS-MET-00285-000-t2f.nii.gz\n",
      "finished n4 bias correction for BraTS-MET-00285-000-t2f.nii.gz\n",
      "starting percentile correction for BraTS-MET-00285-000-t2f.nii.gz\n",
      "finished percentile normalization for BraTS-MET-00285-000-t2f.nii.gz\n",
      "starting n4 bias correction for BraTS-MET-00285-000-t2w.nii.gz\n",
      "finished n4 bias correction for BraTS-MET-00285-000-t2w.nii.gz\n",
      "starting percentile correction for BraTS-MET-00285-000-t2w.nii.gz\n",
      "finished percentile normalization for BraTS-MET-00285-000-t2w.nii.gz\n",
      "starting n4 bias correction for BraTS-MET-00285-000-t1c.nii.gz\n",
      "finished n4 bias correction for BraTS-MET-00285-000-t1c.nii.gz\n",
      "starting percentile correction for BraTS-MET-00285-000-t1c.nii.gz\n"
     ]
    },
    {
     "name": "stderr",
     "output_type": "stream",
     "text": [
      "  5%|▍         | 9/195 [11:01<3:59:28, 77.25s/it]"
     ]
    },
    {
     "name": "stdout",
     "output_type": "stream",
     "text": [
      "finished percentile normalization for BraTS-MET-00285-000-t1c.nii.gz\n",
      "currently normalizing patient BraTS-MET-00293-000\n",
      "starting n4 bias correction for BraTS-MET-00293-000-t1n.nii.gz\n",
      "finished n4 bias correction for BraTS-MET-00293-000-t1n.nii.gz\n",
      "starting percentile correction for BraTS-MET-00293-000-t1n.nii.gz\n",
      "finished percentile normalization for BraTS-MET-00293-000-t1n.nii.gz\n",
      "starting n4 bias correction for BraTS-MET-00293-000-t2f.nii.gz\n",
      "finished n4 bias correction for BraTS-MET-00293-000-t2f.nii.gz\n",
      "starting percentile correction for BraTS-MET-00293-000-t2f.nii.gz\n",
      "finished percentile normalization for BraTS-MET-00293-000-t2f.nii.gz\n",
      "starting n4 bias correction for BraTS-MET-00293-000-t1c.nii.gz\n",
      "finished n4 bias correction for BraTS-MET-00293-000-t1c.nii.gz\n",
      "starting percentile correction for BraTS-MET-00293-000-t1c.nii.gz\n",
      "Percentile normalization failed. Upper value: 0.9999999404549599, lower value: 0.0\n",
      "finished percentile normalization for BraTS-MET-00293-000-t1c.nii.gz\n",
      "starting n4 bias correction for BraTS-MET-00293-000-t2w.nii.gz\n",
      "finished n4 bias correction for BraTS-MET-00293-000-t2w.nii.gz\n",
      "starting percentile correction for BraTS-MET-00293-000-t2w.nii.gz\n"
     ]
    },
    {
     "name": "stderr",
     "output_type": "stream",
     "text": [
      "  5%|▌         | 10/195 [12:26<4:05:02, 79.47s/it]"
     ]
    },
    {
     "name": "stdout",
     "output_type": "stream",
     "text": [
      "finished percentile normalization for BraTS-MET-00293-000-t2w.nii.gz\n",
      "currently normalizing patient BraTS-MET-00278-000\n",
      "starting n4 bias correction for BraTS-MET-00278-000-t2f.nii.gz\n",
      "finished n4 bias correction for BraTS-MET-00278-000-t2f.nii.gz\n",
      "starting percentile correction for BraTS-MET-00278-000-t2f.nii.gz\n",
      "finished percentile normalization for BraTS-MET-00278-000-t2f.nii.gz\n",
      "starting n4 bias correction for BraTS-MET-00278-000-t1n.nii.gz\n",
      "finished n4 bias correction for BraTS-MET-00278-000-t1n.nii.gz\n",
      "starting percentile correction for BraTS-MET-00278-000-t1n.nii.gz\n",
      "finished percentile normalization for BraTS-MET-00278-000-t1n.nii.gz\n",
      "starting n4 bias correction for BraTS-MET-00278-000-t1c.nii.gz\n",
      "finished n4 bias correction for BraTS-MET-00278-000-t1c.nii.gz\n",
      "starting percentile correction for BraTS-MET-00278-000-t1c.nii.gz\n",
      "finished percentile normalization for BraTS-MET-00278-000-t1c.nii.gz\n",
      "starting n4 bias correction for BraTS-MET-00278-000-t2w.nii.gz\n",
      "finished n4 bias correction for BraTS-MET-00278-000-t2w.nii.gz\n",
      "starting percentile correction for BraTS-MET-00278-000-t2w.nii.gz\n"
     ]
    },
    {
     "name": "stderr",
     "output_type": "stream",
     "text": [
      "  6%|▌         | 11/195 [13:54<4:12:04, 82.20s/it]"
     ]
    },
    {
     "name": "stdout",
     "output_type": "stream",
     "text": [
      "finished percentile normalization for BraTS-MET-00278-000-t2w.nii.gz\n",
      "currently normalizing patient BraTS-MET-00250-000\n",
      "starting n4 bias correction for BraTS-MET-00250-000-t2w.nii.gz\n",
      "finished n4 bias correction for BraTS-MET-00250-000-t2w.nii.gz\n",
      "starting percentile correction for BraTS-MET-00250-000-t2w.nii.gz\n",
      "finished percentile normalization for BraTS-MET-00250-000-t2w.nii.gz\n",
      "starting n4 bias correction for BraTS-MET-00250-000-t1c.nii.gz\n",
      "finished n4 bias correction for BraTS-MET-00250-000-t1c.nii.gz\n",
      "starting percentile correction for BraTS-MET-00250-000-t1c.nii.gz\n",
      "finished percentile normalization for BraTS-MET-00250-000-t1c.nii.gz\n",
      "starting n4 bias correction for BraTS-MET-00250-000-t2f.nii.gz\n",
      "finished n4 bias correction for BraTS-MET-00250-000-t2f.nii.gz\n",
      "starting percentile correction for BraTS-MET-00250-000-t2f.nii.gz\n",
      "finished percentile normalization for BraTS-MET-00250-000-t2f.nii.gz\n",
      "starting n4 bias correction for BraTS-MET-00250-000-t1n.nii.gz\n",
      "finished n4 bias correction for BraTS-MET-00250-000-t1n.nii.gz\n",
      "starting percentile correction for BraTS-MET-00250-000-t1n.nii.gz\n"
     ]
    },
    {
     "name": "stderr",
     "output_type": "stream",
     "text": [
      "  6%|▌         | 12/195 [15:29<4:22:28, 86.06s/it]"
     ]
    },
    {
     "name": "stdout",
     "output_type": "stream",
     "text": [
      "finished percentile normalization for BraTS-MET-00250-000-t1n.nii.gz\n",
      "currently normalizing patient BraTS-MET-00244-000\n",
      "starting n4 bias correction for BraTS-MET-00244-000-t2w.nii.gz\n",
      "finished n4 bias correction for BraTS-MET-00244-000-t2w.nii.gz\n",
      "starting percentile correction for BraTS-MET-00244-000-t2w.nii.gz\n",
      "finished percentile normalization for BraTS-MET-00244-000-t2w.nii.gz\n",
      "starting n4 bias correction for BraTS-MET-00244-000-t1c.nii.gz\n",
      "finished n4 bias correction for BraTS-MET-00244-000-t1c.nii.gz\n",
      "starting percentile correction for BraTS-MET-00244-000-t1c.nii.gz\n",
      "finished percentile normalization for BraTS-MET-00244-000-t1c.nii.gz\n",
      "starting n4 bias correction for BraTS-MET-00244-000-t1n.nii.gz\n",
      "finished n4 bias correction for BraTS-MET-00244-000-t1n.nii.gz\n",
      "starting percentile correction for BraTS-MET-00244-000-t1n.nii.gz\n",
      "finished percentile normalization for BraTS-MET-00244-000-t1n.nii.gz\n",
      "starting n4 bias correction for BraTS-MET-00244-000-t2f.nii.gz\n",
      "finished n4 bias correction for BraTS-MET-00244-000-t2f.nii.gz\n",
      "starting percentile correction for BraTS-MET-00244-000-t2f.nii.gz\n"
     ]
    },
    {
     "name": "stderr",
     "output_type": "stream",
     "text": [
      "  7%|▋         | 13/195 [16:55<4:21:03, 86.06s/it]"
     ]
    },
    {
     "name": "stdout",
     "output_type": "stream",
     "text": [
      "finished percentile normalization for BraTS-MET-00244-000-t2f.nii.gz\n",
      "currently normalizing patient BraTS-MET-00126-000\n",
      "starting n4 bias correction for BraTS-MET-00126-000-t2f.nii.gz\n",
      "finished n4 bias correction for BraTS-MET-00126-000-t2f.nii.gz\n",
      "starting percentile correction for BraTS-MET-00126-000-t2f.nii.gz\n",
      "finished percentile normalization for BraTS-MET-00126-000-t2f.nii.gz\n",
      "starting n4 bias correction for BraTS-MET-00126-000-t1n.nii.gz\n",
      "finished n4 bias correction for BraTS-MET-00126-000-t1n.nii.gz\n",
      "starting percentile correction for BraTS-MET-00126-000-t1n.nii.gz\n",
      "finished percentile normalization for BraTS-MET-00126-000-t1n.nii.gz\n",
      "starting n4 bias correction for BraTS-MET-00126-000-t1c.nii.gz\n",
      "finished n4 bias correction for BraTS-MET-00126-000-t1c.nii.gz\n",
      "starting percentile correction for BraTS-MET-00126-000-t1c.nii.gz\n",
      "finished percentile normalization for BraTS-MET-00126-000-t1c.nii.gz\n",
      "starting n4 bias correction for BraTS-MET-00126-000-t2w.nii.gz\n",
      "finished n4 bias correction for BraTS-MET-00126-000-t2w.nii.gz\n",
      "starting percentile correction for BraTS-MET-00126-000-t2w.nii.gz\n"
     ]
    },
    {
     "name": "stderr",
     "output_type": "stream",
     "text": [
      "  7%|▋         | 14/195 [19:46<5:37:12, 111.78s/it]"
     ]
    },
    {
     "name": "stdout",
     "output_type": "stream",
     "text": [
      "finished percentile normalization for BraTS-MET-00126-000-t2w.nii.gz\n",
      "currently normalizing patient BraTS-MET-00132-000\n",
      "starting n4 bias correction for BraTS-MET-00132-000-t1n.nii.gz\n",
      "finished n4 bias correction for BraTS-MET-00132-000-t1n.nii.gz\n",
      "starting percentile correction for BraTS-MET-00132-000-t1n.nii.gz\n",
      "finished percentile normalization for BraTS-MET-00132-000-t1n.nii.gz\n",
      "starting n4 bias correction for BraTS-MET-00132-000-t2f.nii.gz\n",
      "finished n4 bias correction for BraTS-MET-00132-000-t2f.nii.gz\n",
      "starting percentile correction for BraTS-MET-00132-000-t2f.nii.gz\n",
      "finished percentile normalization for BraTS-MET-00132-000-t2f.nii.gz\n",
      "starting n4 bias correction for BraTS-MET-00132-000-t1c.nii.gz\n",
      "finished n4 bias correction for BraTS-MET-00132-000-t1c.nii.gz\n",
      "starting percentile correction for BraTS-MET-00132-000-t1c.nii.gz\n",
      "finished percentile normalization for BraTS-MET-00132-000-t1c.nii.gz\n",
      "starting n4 bias correction for BraTS-MET-00132-000-t2w.nii.gz\n",
      "finished n4 bias correction for BraTS-MET-00132-000-t2w.nii.gz\n",
      "starting percentile correction for BraTS-MET-00132-000-t2w.nii.gz\n"
     ]
    },
    {
     "name": "stderr",
     "output_type": "stream",
     "text": [
      "  8%|▊         | 15/195 [20:39<4:41:52, 93.96s/it] "
     ]
    },
    {
     "name": "stdout",
     "output_type": "stream",
     "text": [
      "finished percentile normalization for BraTS-MET-00132-000-t2w.nii.gz\n",
      "currently normalizing patient BraTS-MET-00133-000\n",
      "starting n4 bias correction for BraTS-MET-00133-000-t2f.nii.gz\n",
      "finished n4 bias correction for BraTS-MET-00133-000-t2f.nii.gz\n",
      "starting percentile correction for BraTS-MET-00133-000-t2f.nii.gz\n",
      "finished percentile normalization for BraTS-MET-00133-000-t2f.nii.gz\n",
      "starting n4 bias correction for BraTS-MET-00133-000-t1n.nii.gz\n",
      "finished n4 bias correction for BraTS-MET-00133-000-t1n.nii.gz\n",
      "starting percentile correction for BraTS-MET-00133-000-t1n.nii.gz\n",
      "finished percentile normalization for BraTS-MET-00133-000-t1n.nii.gz\n",
      "starting n4 bias correction for BraTS-MET-00133-000-t1c.nii.gz\n",
      "finished n4 bias correction for BraTS-MET-00133-000-t1c.nii.gz\n",
      "starting percentile correction for BraTS-MET-00133-000-t1c.nii.gz\n",
      "finished percentile normalization for BraTS-MET-00133-000-t1c.nii.gz\n",
      "starting n4 bias correction for BraTS-MET-00133-000-t2w.nii.gz\n",
      "finished n4 bias correction for BraTS-MET-00133-000-t2w.nii.gz\n",
      "starting percentile correction for BraTS-MET-00133-000-t2w.nii.gz\n"
     ]
    },
    {
     "name": "stderr",
     "output_type": "stream",
     "text": [
      "  8%|▊         | 16/195 [21:45<4:15:10, 85.53s/it]"
     ]
    },
    {
     "name": "stdout",
     "output_type": "stream",
     "text": [
      "finished percentile normalization for BraTS-MET-00133-000-t2w.nii.gz\n",
      "currently normalizing patient BraTS-MET-00127-000\n",
      "starting n4 bias correction for BraTS-MET-00127-000-t1n.nii.gz\n",
      "finished n4 bias correction for BraTS-MET-00127-000-t1n.nii.gz\n",
      "starting percentile correction for BraTS-MET-00127-000-t1n.nii.gz\n",
      "finished percentile normalization for BraTS-MET-00127-000-t1n.nii.gz\n",
      "starting n4 bias correction for BraTS-MET-00127-000-t2f.nii.gz\n",
      "finished n4 bias correction for BraTS-MET-00127-000-t2f.nii.gz\n",
      "starting percentile correction for BraTS-MET-00127-000-t2f.nii.gz\n",
      "finished percentile normalization for BraTS-MET-00127-000-t2f.nii.gz\n",
      "starting n4 bias correction for BraTS-MET-00127-000-t1c.nii.gz\n",
      "finished n4 bias correction for BraTS-MET-00127-000-t1c.nii.gz\n",
      "starting percentile correction for BraTS-MET-00127-000-t1c.nii.gz\n",
      "finished percentile normalization for BraTS-MET-00127-000-t1c.nii.gz\n",
      "starting n4 bias correction for BraTS-MET-00127-000-t2w.nii.gz\n",
      "finished n4 bias correction for BraTS-MET-00127-000-t2w.nii.gz\n",
      "starting percentile correction for BraTS-MET-00127-000-t2w.nii.gz\n"
     ]
    },
    {
     "name": "stderr",
     "output_type": "stream",
     "text": [
      "  9%|▊         | 17/195 [22:47<3:52:45, 78.46s/it]"
     ]
    },
    {
     "name": "stdout",
     "output_type": "stream",
     "text": [
      "finished percentile normalization for BraTS-MET-00127-000-t2w.nii.gz\n",
      "currently normalizing patient BraTS-MET-00245-000\n",
      "starting n4 bias correction for BraTS-MET-00245-000-t2w.nii.gz\n",
      "finished n4 bias correction for BraTS-MET-00245-000-t2w.nii.gz\n",
      "starting percentile correction for BraTS-MET-00245-000-t2w.nii.gz\n",
      "finished percentile normalization for BraTS-MET-00245-000-t2w.nii.gz\n",
      "starting n4 bias correction for BraTS-MET-00245-000-t1c.nii.gz\n",
      "finished n4 bias correction for BraTS-MET-00245-000-t1c.nii.gz\n",
      "starting percentile correction for BraTS-MET-00245-000-t1c.nii.gz\n",
      "finished percentile normalization for BraTS-MET-00245-000-t1c.nii.gz\n",
      "starting n4 bias correction for BraTS-MET-00245-000-t2f.nii.gz\n",
      "finished n4 bias correction for BraTS-MET-00245-000-t2f.nii.gz\n",
      "starting percentile correction for BraTS-MET-00245-000-t2f.nii.gz\n",
      "finished percentile normalization for BraTS-MET-00245-000-t2f.nii.gz\n",
      "starting n4 bias correction for BraTS-MET-00245-000-t1n.nii.gz\n",
      "finished n4 bias correction for BraTS-MET-00245-000-t1n.nii.gz\n",
      "starting percentile correction for BraTS-MET-00245-000-t1n.nii.gz\n"
     ]
    },
    {
     "name": "stderr",
     "output_type": "stream",
     "text": [
      "  9%|▉         | 18/195 [23:57<3:43:44, 75.85s/it]"
     ]
    },
    {
     "name": "stdout",
     "output_type": "stream",
     "text": [
      "finished percentile normalization for BraTS-MET-00245-000-t1n.nii.gz\n",
      "currently normalizing patient BraTS-MET-00251-000\n",
      "starting n4 bias correction for BraTS-MET-00251-000-t2w.nii.gz\n",
      "finished n4 bias correction for BraTS-MET-00251-000-t2w.nii.gz\n",
      "starting percentile correction for BraTS-MET-00251-000-t2w.nii.gz\n",
      "finished percentile normalization for BraTS-MET-00251-000-t2w.nii.gz\n",
      "starting n4 bias correction for BraTS-MET-00251-000-t1c.nii.gz\n",
      "finished n4 bias correction for BraTS-MET-00251-000-t1c.nii.gz\n",
      "starting percentile correction for BraTS-MET-00251-000-t1c.nii.gz\n",
      "Percentile normalization failed. Upper value: 0.9999998213648796, lower value: 0.0\n",
      "finished percentile normalization for BraTS-MET-00251-000-t1c.nii.gz\n",
      "starting n4 bias correction for BraTS-MET-00251-000-t1n.nii.gz\n",
      "finished n4 bias correction for BraTS-MET-00251-000-t1n.nii.gz\n",
      "starting percentile correction for BraTS-MET-00251-000-t1n.nii.gz\n",
      "finished percentile normalization for BraTS-MET-00251-000-t1n.nii.gz\n",
      "starting n4 bias correction for BraTS-MET-00251-000-t2f.nii.gz\n",
      "finished n4 bias correction for BraTS-MET-00251-000-t2f.nii.gz\n",
      "starting percentile correction for BraTS-MET-00251-000-t2f.nii.gz\n"
     ]
    },
    {
     "name": "stderr",
     "output_type": "stream",
     "text": [
      " 10%|▉         | 19/195 [24:53<3:25:25, 70.03s/it]"
     ]
    },
    {
     "name": "stdout",
     "output_type": "stream",
     "text": [
      "finished percentile normalization for BraTS-MET-00251-000-t2f.nii.gz\n",
      "currently normalizing patient BraTS-MET-00286-000\n",
      "starting n4 bias correction for BraTS-MET-00286-000-t1n.nii.gz\n",
      "finished n4 bias correction for BraTS-MET-00286-000-t1n.nii.gz\n",
      "starting percentile correction for BraTS-MET-00286-000-t1n.nii.gz\n",
      "finished percentile normalization for BraTS-MET-00286-000-t1n.nii.gz\n",
      "starting n4 bias correction for BraTS-MET-00286-000-t2f.nii.gz\n",
      "finished n4 bias correction for BraTS-MET-00286-000-t2f.nii.gz\n",
      "starting percentile correction for BraTS-MET-00286-000-t2f.nii.gz\n",
      "finished percentile normalization for BraTS-MET-00286-000-t2f.nii.gz\n",
      "starting n4 bias correction for BraTS-MET-00286-000-t1c.nii.gz\n",
      "finished n4 bias correction for BraTS-MET-00286-000-t1c.nii.gz\n",
      "starting percentile correction for BraTS-MET-00286-000-t1c.nii.gz\n",
      "Percentile normalization failed. Upper value: 0.9999997618198395, lower value: 0.0\n",
      "finished percentile normalization for BraTS-MET-00286-000-t1c.nii.gz\n",
      "starting n4 bias correction for BraTS-MET-00286-000-t2w.nii.gz\n",
      "finished n4 bias correction for BraTS-MET-00286-000-t2w.nii.gz\n",
      "starting percentile correction for BraTS-MET-00286-000-t2w.nii.gz\n"
     ]
    },
    {
     "name": "stderr",
     "output_type": "stream",
     "text": [
      " 10%|█         | 20/195 [26:18<3:37:02, 74.42s/it]"
     ]
    },
    {
     "name": "stdout",
     "output_type": "stream",
     "text": [
      "finished percentile normalization for BraTS-MET-00286-000-t2w.nii.gz\n",
      "currently normalizing patient BraTS-MET-00292-000\n",
      "starting n4 bias correction for BraTS-MET-00292-000-t2f.nii.gz\n",
      "finished n4 bias correction for BraTS-MET-00292-000-t2f.nii.gz\n",
      "starting percentile correction for BraTS-MET-00292-000-t2f.nii.gz\n",
      "finished percentile normalization for BraTS-MET-00292-000-t2f.nii.gz\n",
      "starting n4 bias correction for BraTS-MET-00292-000-t1n.nii.gz\n",
      "finished n4 bias correction for BraTS-MET-00292-000-t1n.nii.gz\n",
      "starting percentile correction for BraTS-MET-00292-000-t1n.nii.gz\n",
      "finished percentile normalization for BraTS-MET-00292-000-t1n.nii.gz\n",
      "starting n4 bias correction for BraTS-MET-00292-000-t1c.nii.gz\n",
      "finished n4 bias correction for BraTS-MET-00292-000-t1c.nii.gz\n",
      "starting percentile correction for BraTS-MET-00292-000-t1c.nii.gz\n",
      "finished percentile normalization for BraTS-MET-00292-000-t1c.nii.gz\n",
      "starting n4 bias correction for BraTS-MET-00292-000-t2w.nii.gz\n",
      "finished n4 bias correction for BraTS-MET-00292-000-t2w.nii.gz\n",
      "starting percentile correction for BraTS-MET-00292-000-t2w.nii.gz\n"
     ]
    },
    {
     "name": "stderr",
     "output_type": "stream",
     "text": [
      " 11%|█         | 21/195 [28:14<4:12:03, 86.92s/it]"
     ]
    },
    {
     "name": "stdout",
     "output_type": "stream",
     "text": [
      "Percentile normalization failed. Upper value: 0.9999999404549599, lower value: 0.0\n",
      "finished percentile normalization for BraTS-MET-00292-000-t2w.nii.gz\n",
      "currently normalizing patient BraTS-MET-00090-000\n",
      "starting n4 bias correction for BraTS-MET-00090-000-t2w.nii.gz\n",
      "finished n4 bias correction for BraTS-MET-00090-000-t2w.nii.gz\n",
      "starting percentile correction for BraTS-MET-00090-000-t2w.nii.gz\n",
      "Percentile normalization failed. Upper value: 0.9999999404549599, lower value: 0.0\n",
      "finished percentile normalization for BraTS-MET-00090-000-t2w.nii.gz\n",
      "starting n4 bias correction for BraTS-MET-00090-000-t1c.nii.gz\n",
      "finished n4 bias correction for BraTS-MET-00090-000-t1c.nii.gz\n",
      "starting percentile correction for BraTS-MET-00090-000-t1c.nii.gz\n",
      "Percentile normalization failed. Upper value: 0.9999998809099198, lower value: 0.0\n",
      "finished percentile normalization for BraTS-MET-00090-000-t1c.nii.gz\n",
      "starting n4 bias correction for BraTS-MET-00090-000-t1n.nii.gz\n",
      "finished n4 bias correction for BraTS-MET-00090-000-t1n.nii.gz\n",
      "starting percentile correction for BraTS-MET-00090-000-t1n.nii.gz\n",
      "finished percentile normalization for BraTS-MET-00090-000-t1n.nii.gz\n",
      "starting n4 bias correction for BraTS-MET-00090-000-t2f.nii.gz\n",
      "finished n4 bias correction for BraTS-MET-00090-000-t2f.nii.gz\n",
      "starting percentile correction for BraTS-MET-00090-000-t2f.nii.gz\n"
     ]
    },
    {
     "name": "stderr",
     "output_type": "stream",
     "text": [
      " 11%|█▏        | 22/195 [29:34<4:04:54, 84.94s/it]"
     ]
    },
    {
     "name": "stdout",
     "output_type": "stream",
     "text": [
      "finished percentile normalization for BraTS-MET-00090-000-t2f.nii.gz\n",
      "currently normalizing patient BraTS-MET-00296-000\n",
      "starting n4 bias correction for BraTS-MET-00296-000-t2f.nii.gz\n",
      "finished n4 bias correction for BraTS-MET-00296-000-t2f.nii.gz\n",
      "starting percentile correction for BraTS-MET-00296-000-t2f.nii.gz\n",
      "finished percentile normalization for BraTS-MET-00296-000-t2f.nii.gz\n",
      "starting n4 bias correction for BraTS-MET-00296-000-t1n.nii.gz\n",
      "finished n4 bias correction for BraTS-MET-00296-000-t1n.nii.gz\n",
      "starting percentile correction for BraTS-MET-00296-000-t1n.nii.gz\n",
      "finished percentile normalization for BraTS-MET-00296-000-t1n.nii.gz\n",
      "starting n4 bias correction for BraTS-MET-00296-000-t2w.nii.gz\n",
      "finished n4 bias correction for BraTS-MET-00296-000-t2w.nii.gz\n",
      "starting percentile correction for BraTS-MET-00296-000-t2w.nii.gz\n",
      "finished percentile normalization for BraTS-MET-00296-000-t2w.nii.gz\n",
      "starting n4 bias correction for BraTS-MET-00296-000-t1c.nii.gz\n",
      "finished n4 bias correction for BraTS-MET-00296-000-t1c.nii.gz\n",
      "starting percentile correction for BraTS-MET-00296-000-t1c.nii.gz\n"
     ]
    },
    {
     "name": "stderr",
     "output_type": "stream",
     "text": [
      " 12%|█▏        | 23/195 [30:52<3:57:27, 82.83s/it]"
     ]
    },
    {
     "name": "stdout",
     "output_type": "stream",
     "text": [
      "finished percentile normalization for BraTS-MET-00296-000-t1c.nii.gz\n",
      "currently normalizing patient BraTS-MET-00282-000\n",
      "starting n4 bias correction for BraTS-MET-00282-000-t1n.nii.gz\n",
      "finished n4 bias correction for BraTS-MET-00282-000-t1n.nii.gz\n",
      "starting percentile correction for BraTS-MET-00282-000-t1n.nii.gz\n",
      "finished percentile normalization for BraTS-MET-00282-000-t1n.nii.gz\n",
      "starting n4 bias correction for BraTS-MET-00282-000-t2f.nii.gz\n",
      "finished n4 bias correction for BraTS-MET-00282-000-t2f.nii.gz\n",
      "starting percentile correction for BraTS-MET-00282-000-t2f.nii.gz\n",
      "finished percentile normalization for BraTS-MET-00282-000-t2f.nii.gz\n",
      "starting n4 bias correction for BraTS-MET-00282-000-t2w.nii.gz\n",
      "finished n4 bias correction for BraTS-MET-00282-000-t2w.nii.gz\n",
      "starting percentile correction for BraTS-MET-00282-000-t2w.nii.gz\n",
      "finished percentile normalization for BraTS-MET-00282-000-t2w.nii.gz\n",
      "starting n4 bias correction for BraTS-MET-00282-000-t1c.nii.gz\n",
      "finished n4 bias correction for BraTS-MET-00282-000-t1c.nii.gz\n",
      "starting percentile correction for BraTS-MET-00282-000-t1c.nii.gz\n"
     ]
    },
    {
     "name": "stderr",
     "output_type": "stream",
     "text": [
      " 12%|█▏        | 24/195 [31:53<3:37:27, 76.30s/it]"
     ]
    },
    {
     "name": "stdout",
     "output_type": "stream",
     "text": [
      "finished percentile normalization for BraTS-MET-00282-000-t1c.nii.gz\n",
      "currently normalizing patient BraTS-MET-00255-000\n",
      "starting n4 bias correction for BraTS-MET-00255-000-t1c.nii.gz\n",
      "finished n4 bias correction for BraTS-MET-00255-000-t1c.nii.gz\n",
      "starting percentile correction for BraTS-MET-00255-000-t1c.nii.gz\n",
      "finished percentile normalization for BraTS-MET-00255-000-t1c.nii.gz\n",
      "starting n4 bias correction for BraTS-MET-00255-000-t2w.nii.gz\n",
      "finished n4 bias correction for BraTS-MET-00255-000-t2w.nii.gz\n",
      "starting percentile correction for BraTS-MET-00255-000-t2w.nii.gz\n",
      "finished percentile normalization for BraTS-MET-00255-000-t2w.nii.gz\n",
      "starting n4 bias correction for BraTS-MET-00255-000-t1n.nii.gz\n",
      "finished n4 bias correction for BraTS-MET-00255-000-t1n.nii.gz\n",
      "starting percentile correction for BraTS-MET-00255-000-t1n.nii.gz\n",
      "finished percentile normalization for BraTS-MET-00255-000-t1n.nii.gz\n",
      "starting n4 bias correction for BraTS-MET-00255-000-t2f.nii.gz\n",
      "finished n4 bias correction for BraTS-MET-00255-000-t2f.nii.gz\n",
      "starting percentile correction for BraTS-MET-00255-000-t2f.nii.gz\n"
     ]
    },
    {
     "name": "stderr",
     "output_type": "stream",
     "text": [
      " 13%|█▎        | 25/195 [32:49<3:18:51, 70.19s/it]"
     ]
    },
    {
     "name": "stdout",
     "output_type": "stream",
     "text": [
      "finished percentile normalization for BraTS-MET-00255-000-t2f.nii.gz\n",
      "currently normalizing patient BraTS-MET-00241-000\n",
      "starting n4 bias correction for BraTS-MET-00241-000-t1c.nii.gz\n",
      "finished n4 bias correction for BraTS-MET-00241-000-t1c.nii.gz\n",
      "starting percentile correction for BraTS-MET-00241-000-t1c.nii.gz\n",
      "finished percentile normalization for BraTS-MET-00241-000-t1c.nii.gz\n",
      "starting n4 bias correction for BraTS-MET-00241-000-t2w.nii.gz\n",
      "finished n4 bias correction for BraTS-MET-00241-000-t2w.nii.gz\n",
      "starting percentile correction for BraTS-MET-00241-000-t2w.nii.gz\n",
      "Percentile normalization failed. Upper value: 0.9999999404549599, lower value: 0.0\n",
      "finished percentile normalization for BraTS-MET-00241-000-t2w.nii.gz\n",
      "starting n4 bias correction for BraTS-MET-00241-000-t2f.nii.gz\n",
      "finished n4 bias correction for BraTS-MET-00241-000-t2f.nii.gz\n",
      "starting percentile correction for BraTS-MET-00241-000-t2f.nii.gz\n",
      "finished percentile normalization for BraTS-MET-00241-000-t2f.nii.gz\n",
      "starting n4 bias correction for BraTS-MET-00241-000-t1n.nii.gz\n",
      "finished n4 bias correction for BraTS-MET-00241-000-t1n.nii.gz\n",
      "starting percentile correction for BraTS-MET-00241-000-t1n.nii.gz\n"
     ]
    },
    {
     "name": "stderr",
     "output_type": "stream",
     "text": [
      " 13%|█▎        | 26/195 [34:20<3:35:03, 76.35s/it]"
     ]
    },
    {
     "name": "stdout",
     "output_type": "stream",
     "text": [
      "finished percentile normalization for BraTS-MET-00241-000-t1n.nii.gz\n",
      "currently normalizing patient BraTS-MET-00269-000\n",
      "starting n4 bias correction for BraTS-MET-00269-000-t2f.nii.gz\n",
      "finished n4 bias correction for BraTS-MET-00269-000-t2f.nii.gz\n",
      "starting percentile correction for BraTS-MET-00269-000-t2f.nii.gz\n",
      "finished percentile normalization for BraTS-MET-00269-000-t2f.nii.gz\n",
      "starting n4 bias correction for BraTS-MET-00269-000-t1n.nii.gz\n",
      "finished n4 bias correction for BraTS-MET-00269-000-t1n.nii.gz\n",
      "starting percentile correction for BraTS-MET-00269-000-t1n.nii.gz\n",
      "finished percentile normalization for BraTS-MET-00269-000-t1n.nii.gz\n",
      "starting n4 bias correction for BraTS-MET-00269-000-t2w.nii.gz\n",
      "finished n4 bias correction for BraTS-MET-00269-000-t2w.nii.gz\n",
      "starting percentile correction for BraTS-MET-00269-000-t2w.nii.gz\n",
      "finished percentile normalization for BraTS-MET-00269-000-t2w.nii.gz\n",
      "starting n4 bias correction for BraTS-MET-00269-000-t1c.nii.gz\n",
      "finished n4 bias correction for BraTS-MET-00269-000-t1c.nii.gz\n",
      "starting percentile correction for BraTS-MET-00269-000-t1c.nii.gz\n"
     ]
    },
    {
     "name": "stderr",
     "output_type": "stream",
     "text": [
      " 14%|█▍        | 27/195 [35:34<3:31:43, 75.62s/it]"
     ]
    },
    {
     "name": "stdout",
     "output_type": "stream",
     "text": [
      "finished percentile normalization for BraTS-MET-00269-000-t1c.nii.gz\n",
      "currently normalizing patient BraTS-MET-00309-000\n",
      "starting n4 bias correction for BraTS-MET-00309-000-t2f.nii.gz\n",
      "finished n4 bias correction for BraTS-MET-00309-000-t2f.nii.gz\n",
      "starting percentile correction for BraTS-MET-00309-000-t2f.nii.gz\n",
      "finished percentile normalization for BraTS-MET-00309-000-t2f.nii.gz\n",
      "starting n4 bias correction for BraTS-MET-00309-000-t1n.nii.gz\n",
      "finished n4 bias correction for BraTS-MET-00309-000-t1n.nii.gz\n",
      "starting percentile correction for BraTS-MET-00309-000-t1n.nii.gz\n",
      "finished percentile normalization for BraTS-MET-00309-000-t1n.nii.gz\n",
      "starting n4 bias correction for BraTS-MET-00309-000-t2w.nii.gz\n",
      "finished n4 bias correction for BraTS-MET-00309-000-t2w.nii.gz\n",
      "starting percentile correction for BraTS-MET-00309-000-t2w.nii.gz\n",
      "finished percentile normalization for BraTS-MET-00309-000-t2w.nii.gz\n",
      "starting n4 bias correction for BraTS-MET-00309-000-t1c.nii.gz\n",
      "finished n4 bias correction for BraTS-MET-00309-000-t1c.nii.gz\n",
      "starting percentile correction for BraTS-MET-00309-000-t1c.nii.gz\n"
     ]
    },
    {
     "name": "stderr",
     "output_type": "stream",
     "text": [
      " 14%|█▍        | 28/195 [36:33<3:16:49, 70.71s/it]"
     ]
    },
    {
     "name": "stdout",
     "output_type": "stream",
     "text": [
      "finished percentile normalization for BraTS-MET-00309-000-t1c.nii.gz\n",
      "currently normalizing patient BraTS-MET-00123-000\n",
      "starting n4 bias correction for BraTS-MET-00123-000-t1n.nii.gz\n",
      "finished n4 bias correction for BraTS-MET-00123-000-t1n.nii.gz\n",
      "starting percentile correction for BraTS-MET-00123-000-t1n.nii.gz\n",
      "finished percentile normalization for BraTS-MET-00123-000-t1n.nii.gz\n",
      "starting n4 bias correction for BraTS-MET-00123-000-t2f.nii.gz\n",
      "finished n4 bias correction for BraTS-MET-00123-000-t2f.nii.gz\n",
      "starting percentile correction for BraTS-MET-00123-000-t2f.nii.gz\n",
      "finished percentile normalization for BraTS-MET-00123-000-t2f.nii.gz\n",
      "starting n4 bias correction for BraTS-MET-00123-000-t2w.nii.gz\n",
      "finished n4 bias correction for BraTS-MET-00123-000-t2w.nii.gz\n",
      "starting percentile correction for BraTS-MET-00123-000-t2w.nii.gz\n",
      "finished percentile normalization for BraTS-MET-00123-000-t2w.nii.gz\n",
      "starting n4 bias correction for BraTS-MET-00123-000-t1c.nii.gz\n",
      "finished n4 bias correction for BraTS-MET-00123-000-t1c.nii.gz\n",
      "starting percentile correction for BraTS-MET-00123-000-t1c.nii.gz\n"
     ]
    },
    {
     "name": "stderr",
     "output_type": "stream",
     "text": [
      " 15%|█▍        | 29/195 [37:33<3:06:23, 67.37s/it]"
     ]
    },
    {
     "name": "stdout",
     "output_type": "stream",
     "text": [
      "finished percentile normalization for BraTS-MET-00123-000-t1c.nii.gz\n",
      "currently normalizing patient BraTS-MET-00137-000\n",
      "starting n4 bias correction for BraTS-MET-00137-000-t2f.nii.gz\n",
      "finished n4 bias correction for BraTS-MET-00137-000-t2f.nii.gz\n",
      "starting percentile correction for BraTS-MET-00137-000-t2f.nii.gz\n",
      "finished percentile normalization for BraTS-MET-00137-000-t2f.nii.gz\n",
      "starting n4 bias correction for BraTS-MET-00137-000-t1n.nii.gz\n",
      "finished n4 bias correction for BraTS-MET-00137-000-t1n.nii.gz\n",
      "starting percentile correction for BraTS-MET-00137-000-t1n.nii.gz\n",
      "finished percentile normalization for BraTS-MET-00137-000-t1n.nii.gz\n",
      "starting n4 bias correction for BraTS-MET-00137-000-t2w.nii.gz\n",
      "finished n4 bias correction for BraTS-MET-00137-000-t2w.nii.gz\n",
      "starting percentile correction for BraTS-MET-00137-000-t2w.nii.gz\n",
      "finished percentile normalization for BraTS-MET-00137-000-t2w.nii.gz\n",
      "starting n4 bias correction for BraTS-MET-00137-000-t1c.nii.gz\n",
      "finished n4 bias correction for BraTS-MET-00137-000-t1c.nii.gz\n",
      "starting percentile correction for BraTS-MET-00137-000-t1c.nii.gz\n"
     ]
    },
    {
     "name": "stderr",
     "output_type": "stream",
     "text": [
      " 15%|█▌        | 30/195 [38:47<3:10:39, 69.33s/it]"
     ]
    },
    {
     "name": "stdout",
     "output_type": "stream",
     "text": [
      "finished percentile normalization for BraTS-MET-00137-000-t1c.nii.gz\n",
      "currently normalizing patient BraTS-MET-00136-000\n",
      "starting n4 bias correction for BraTS-MET-00136-000-t1n.nii.gz\n",
      "finished n4 bias correction for BraTS-MET-00136-000-t1n.nii.gz\n",
      "starting percentile correction for BraTS-MET-00136-000-t1n.nii.gz\n",
      "finished percentile normalization for BraTS-MET-00136-000-t1n.nii.gz\n",
      "starting n4 bias correction for BraTS-MET-00136-000-t2f.nii.gz\n",
      "finished n4 bias correction for BraTS-MET-00136-000-t2f.nii.gz\n",
      "starting percentile correction for BraTS-MET-00136-000-t2f.nii.gz\n",
      "finished percentile normalization for BraTS-MET-00136-000-t2f.nii.gz\n",
      "starting n4 bias correction for BraTS-MET-00136-000-t2w.nii.gz\n",
      "finished n4 bias correction for BraTS-MET-00136-000-t2w.nii.gz\n",
      "starting percentile correction for BraTS-MET-00136-000-t2w.nii.gz\n",
      "finished percentile normalization for BraTS-MET-00136-000-t2w.nii.gz\n",
      "starting n4 bias correction for BraTS-MET-00136-000-t1c.nii.gz\n",
      "finished n4 bias correction for BraTS-MET-00136-000-t1c.nii.gz\n",
      "starting percentile correction for BraTS-MET-00136-000-t1c.nii.gz\n"
     ]
    },
    {
     "name": "stderr",
     "output_type": "stream",
     "text": [
      " 16%|█▌        | 31/195 [40:33<3:39:37, 80.35s/it]"
     ]
    },
    {
     "name": "stdout",
     "output_type": "stream",
     "text": [
      "finished percentile normalization for BraTS-MET-00136-000-t1c.nii.gz\n",
      "currently normalizing patient BraTS-MET-00122-000\n",
      "starting n4 bias correction for BraTS-MET-00122-000-t2f.nii.gz\n",
      "finished n4 bias correction for BraTS-MET-00122-000-t2f.nii.gz\n",
      "starting percentile correction for BraTS-MET-00122-000-t2f.nii.gz\n",
      "finished percentile normalization for BraTS-MET-00122-000-t2f.nii.gz\n",
      "starting n4 bias correction for BraTS-MET-00122-000-t1n.nii.gz\n",
      "finished n4 bias correction for BraTS-MET-00122-000-t1n.nii.gz\n",
      "starting percentile correction for BraTS-MET-00122-000-t1n.nii.gz\n",
      "finished percentile normalization for BraTS-MET-00122-000-t1n.nii.gz\n",
      "starting n4 bias correction for BraTS-MET-00122-000-t2w.nii.gz\n",
      "finished n4 bias correction for BraTS-MET-00122-000-t2w.nii.gz\n",
      "starting percentile correction for BraTS-MET-00122-000-t2w.nii.gz\n",
      "finished percentile normalization for BraTS-MET-00122-000-t2w.nii.gz\n",
      "starting n4 bias correction for BraTS-MET-00122-000-t1c.nii.gz\n",
      "finished n4 bias correction for BraTS-MET-00122-000-t1c.nii.gz\n",
      "starting percentile correction for BraTS-MET-00122-000-t1c.nii.gz\n"
     ]
    },
    {
     "name": "stderr",
     "output_type": "stream",
     "text": [
      " 16%|█▋        | 32/195 [41:15<3:07:23, 68.98s/it]"
     ]
    },
    {
     "name": "stdout",
     "output_type": "stream",
     "text": [
      "Percentile normalization failed. Upper value: 0.9999999404549599, lower value: 0.0\n",
      "finished percentile normalization for BraTS-MET-00122-000-t1c.nii.gz\n",
      "currently normalizing patient BraTS-MET-00268-000\n",
      "starting n4 bias correction for BraTS-MET-00268-000-t1n.nii.gz\n",
      "finished n4 bias correction for BraTS-MET-00268-000-t1n.nii.gz\n",
      "starting percentile correction for BraTS-MET-00268-000-t1n.nii.gz\n",
      "finished percentile normalization for BraTS-MET-00268-000-t1n.nii.gz\n",
      "starting n4 bias correction for BraTS-MET-00268-000-t2f.nii.gz\n",
      "finished n4 bias correction for BraTS-MET-00268-000-t2f.nii.gz\n",
      "starting percentile correction for BraTS-MET-00268-000-t2f.nii.gz\n",
      "finished percentile normalization for BraTS-MET-00268-000-t2f.nii.gz\n",
      "starting n4 bias correction for BraTS-MET-00268-000-t2w.nii.gz\n",
      "finished n4 bias correction for BraTS-MET-00268-000-t2w.nii.gz\n",
      "starting percentile correction for BraTS-MET-00268-000-t2w.nii.gz\n",
      "finished percentile normalization for BraTS-MET-00268-000-t2w.nii.gz\n",
      "starting n4 bias correction for BraTS-MET-00268-000-t1c.nii.gz\n",
      "finished n4 bias correction for BraTS-MET-00268-000-t1c.nii.gz\n",
      "starting percentile correction for BraTS-MET-00268-000-t1c.nii.gz\n"
     ]
    },
    {
     "name": "stderr",
     "output_type": "stream",
     "text": [
      " 17%|█▋        | 33/195 [42:34<3:14:20, 71.98s/it]"
     ]
    },
    {
     "name": "stdout",
     "output_type": "stream",
     "text": [
      "finished percentile normalization for BraTS-MET-00268-000-t1c.nii.gz\n",
      "currently normalizing patient BraTS-MET-00240-000\n",
      "starting n4 bias correction for BraTS-MET-00240-000-t1c.nii.gz\n",
      "finished n4 bias correction for BraTS-MET-00240-000-t1c.nii.gz\n",
      "starting percentile correction for BraTS-MET-00240-000-t1c.nii.gz\n",
      "Percentile normalization failed. Upper value: 0.9999998809099198, lower value: 0.0\n",
      "finished percentile normalization for BraTS-MET-00240-000-t1c.nii.gz\n",
      "starting n4 bias correction for BraTS-MET-00240-000-t2w.nii.gz\n",
      "finished n4 bias correction for BraTS-MET-00240-000-t2w.nii.gz\n",
      "starting percentile correction for BraTS-MET-00240-000-t2w.nii.gz\n",
      "finished percentile normalization for BraTS-MET-00240-000-t2w.nii.gz\n",
      "starting n4 bias correction for BraTS-MET-00240-000-t1n.nii.gz\n",
      "finished n4 bias correction for BraTS-MET-00240-000-t1n.nii.gz\n",
      "starting percentile correction for BraTS-MET-00240-000-t1n.nii.gz\n",
      "finished percentile normalization for BraTS-MET-00240-000-t1n.nii.gz\n",
      "starting n4 bias correction for BraTS-MET-00240-000-t2f.nii.gz\n",
      "finished n4 bias correction for BraTS-MET-00240-000-t2f.nii.gz\n",
      "starting percentile correction for BraTS-MET-00240-000-t2f.nii.gz\n"
     ]
    },
    {
     "name": "stderr",
     "output_type": "stream",
     "text": [
      " 17%|█▋        | 34/195 [43:35<3:03:47, 68.49s/it]"
     ]
    },
    {
     "name": "stdout",
     "output_type": "stream",
     "text": [
      "finished percentile normalization for BraTS-MET-00240-000-t2f.nii.gz\n",
      "currently normalizing patient BraTS-MET-00254-000\n",
      "starting n4 bias correction for BraTS-MET-00254-000-t1c.nii.gz\n",
      "finished n4 bias correction for BraTS-MET-00254-000-t1c.nii.gz\n",
      "starting percentile correction for BraTS-MET-00254-000-t1c.nii.gz\n",
      "finished percentile normalization for BraTS-MET-00254-000-t1c.nii.gz\n",
      "starting n4 bias correction for BraTS-MET-00254-000-t2w.nii.gz\n",
      "finished n4 bias correction for BraTS-MET-00254-000-t2w.nii.gz\n",
      "starting percentile correction for BraTS-MET-00254-000-t2w.nii.gz\n",
      "finished percentile normalization for BraTS-MET-00254-000-t2w.nii.gz\n",
      "starting n4 bias correction for BraTS-MET-00254-000-t2f.nii.gz\n",
      "finished n4 bias correction for BraTS-MET-00254-000-t2f.nii.gz\n",
      "starting percentile correction for BraTS-MET-00254-000-t2f.nii.gz\n",
      "finished percentile normalization for BraTS-MET-00254-000-t2f.nii.gz\n",
      "starting n4 bias correction for BraTS-MET-00254-000-t1n.nii.gz\n",
      "finished n4 bias correction for BraTS-MET-00254-000-t1n.nii.gz\n",
      "starting percentile correction for BraTS-MET-00254-000-t1n.nii.gz\n"
     ]
    },
    {
     "name": "stderr",
     "output_type": "stream",
     "text": [
      " 18%|█▊        | 35/195 [45:06<3:21:16, 75.48s/it]"
     ]
    },
    {
     "name": "stdout",
     "output_type": "stream",
     "text": [
      "finished percentile normalization for BraTS-MET-00254-000-t1n.nii.gz\n",
      "currently normalizing patient BraTS-MET-00283-000\n",
      "starting n4 bias correction for BraTS-MET-00283-000-t2f.nii.gz\n",
      "finished n4 bias correction for BraTS-MET-00283-000-t2f.nii.gz\n",
      "starting percentile correction for BraTS-MET-00283-000-t2f.nii.gz\n",
      "finished percentile normalization for BraTS-MET-00283-000-t2f.nii.gz\n",
      "starting n4 bias correction for BraTS-MET-00283-000-t1n.nii.gz\n",
      "finished n4 bias correction for BraTS-MET-00283-000-t1n.nii.gz\n",
      "starting percentile correction for BraTS-MET-00283-000-t1n.nii.gz\n",
      "finished percentile normalization for BraTS-MET-00283-000-t1n.nii.gz\n",
      "starting n4 bias correction for BraTS-MET-00283-000-t2w.nii.gz\n",
      "finished n4 bias correction for BraTS-MET-00283-000-t2w.nii.gz\n",
      "starting percentile correction for BraTS-MET-00283-000-t2w.nii.gz\n",
      "finished percentile normalization for BraTS-MET-00283-000-t2w.nii.gz\n",
      "starting n4 bias correction for BraTS-MET-00283-000-t1c.nii.gz\n",
      "finished n4 bias correction for BraTS-MET-00283-000-t1c.nii.gz\n",
      "starting percentile correction for BraTS-MET-00283-000-t1c.nii.gz\n"
     ]
    },
    {
     "name": "stderr",
     "output_type": "stream",
     "text": [
      " 18%|█▊        | 36/195 [46:21<3:19:21, 75.23s/it]"
     ]
    },
    {
     "name": "stdout",
     "output_type": "stream",
     "text": [
      "finished percentile normalization for BraTS-MET-00283-000-t1c.nii.gz\n",
      "currently normalizing patient BraTS-MET-00097-000\n",
      "starting n4 bias correction for BraTS-MET-00097-000-t2w.nii.gz\n",
      "finished n4 bias correction for BraTS-MET-00097-000-t2w.nii.gz\n",
      "starting percentile correction for BraTS-MET-00097-000-t2w.nii.gz\n",
      "finished percentile normalization for BraTS-MET-00097-000-t2w.nii.gz\n",
      "starting n4 bias correction for BraTS-MET-00097-000-t1c.nii.gz\n",
      "finished n4 bias correction for BraTS-MET-00097-000-t1c.nii.gz\n",
      "starting percentile correction for BraTS-MET-00097-000-t1c.nii.gz\n",
      "finished percentile normalization for BraTS-MET-00097-000-t1c.nii.gz\n",
      "starting n4 bias correction for BraTS-MET-00097-000-t1n.nii.gz\n",
      "finished n4 bias correction for BraTS-MET-00097-000-t1n.nii.gz\n",
      "starting percentile correction for BraTS-MET-00097-000-t1n.nii.gz\n",
      "finished percentile normalization for BraTS-MET-00097-000-t1n.nii.gz\n",
      "starting n4 bias correction for BraTS-MET-00097-000-t2f.nii.gz\n",
      "finished n4 bias correction for BraTS-MET-00097-000-t2f.nii.gz\n",
      "starting percentile correction for BraTS-MET-00097-000-t2f.nii.gz\n"
     ]
    },
    {
     "name": "stderr",
     "output_type": "stream",
     "text": [
      " 19%|█▉        | 37/195 [47:23<3:07:38, 71.26s/it]"
     ]
    },
    {
     "name": "stdout",
     "output_type": "stream",
     "text": [
      "finished percentile normalization for BraTS-MET-00097-000-t2f.nii.gz\n",
      "currently normalizing patient BraTS-MET-00281-000\n",
      "starting n4 bias correction for BraTS-MET-00281-000-t1n.nii.gz\n",
      "finished n4 bias correction for BraTS-MET-00281-000-t1n.nii.gz\n",
      "starting percentile correction for BraTS-MET-00281-000-t1n.nii.gz\n",
      "finished percentile normalization for BraTS-MET-00281-000-t1n.nii.gz\n",
      "starting n4 bias correction for BraTS-MET-00281-000-t2f.nii.gz\n",
      "finished n4 bias correction for BraTS-MET-00281-000-t2f.nii.gz\n",
      "starting percentile correction for BraTS-MET-00281-000-t2f.nii.gz\n",
      "finished percentile normalization for BraTS-MET-00281-000-t2f.nii.gz\n",
      "starting n4 bias correction for BraTS-MET-00281-000-t1c.nii.gz\n",
      "finished n4 bias correction for BraTS-MET-00281-000-t1c.nii.gz\n",
      "starting percentile correction for BraTS-MET-00281-000-t1c.nii.gz\n",
      "Percentile normalization failed. Upper value: 0.9999998809099198, lower value: 0.0\n",
      "finished percentile normalization for BraTS-MET-00281-000-t1c.nii.gz\n",
      "starting n4 bias correction for BraTS-MET-00281-000-t2w.nii.gz\n",
      "finished n4 bias correction for BraTS-MET-00281-000-t2w.nii.gz\n",
      "starting percentile correction for BraTS-MET-00281-000-t2w.nii.gz\n"
     ]
    },
    {
     "name": "stderr",
     "output_type": "stream",
     "text": [
      " 19%|█▉        | 38/195 [49:00<3:26:47, 79.03s/it]"
     ]
    },
    {
     "name": "stdout",
     "output_type": "stream",
     "text": [
      "finished percentile normalization for BraTS-MET-00281-000-t2w.nii.gz\n",
      "currently normalizing patient BraTS-MET-00295-000\n",
      "starting n4 bias correction for BraTS-MET-00295-000-t2f.nii.gz\n",
      "finished n4 bias correction for BraTS-MET-00295-000-t2f.nii.gz\n",
      "starting percentile correction for BraTS-MET-00295-000-t2f.nii.gz\n",
      "finished percentile normalization for BraTS-MET-00295-000-t2f.nii.gz\n",
      "starting n4 bias correction for BraTS-MET-00295-000-t1n.nii.gz\n",
      "finished n4 bias correction for BraTS-MET-00295-000-t1n.nii.gz\n",
      "starting percentile correction for BraTS-MET-00295-000-t1n.nii.gz\n",
      "finished percentile normalization for BraTS-MET-00295-000-t1n.nii.gz\n",
      "starting n4 bias correction for BraTS-MET-00295-000-t1c.nii.gz\n",
      "finished n4 bias correction for BraTS-MET-00295-000-t1c.nii.gz\n",
      "starting percentile correction for BraTS-MET-00295-000-t1c.nii.gz\n",
      "finished percentile normalization for BraTS-MET-00295-000-t1c.nii.gz\n",
      "starting n4 bias correction for BraTS-MET-00295-000-t2w.nii.gz\n",
      "finished n4 bias correction for BraTS-MET-00295-000-t2w.nii.gz\n",
      "starting percentile correction for BraTS-MET-00295-000-t2w.nii.gz\n"
     ]
    },
    {
     "name": "stderr",
     "output_type": "stream",
     "text": [
      " 20%|██        | 39/195 [50:06<3:14:57, 74.98s/it]"
     ]
    },
    {
     "name": "stdout",
     "output_type": "stream",
     "text": [
      "finished percentile normalization for BraTS-MET-00295-000-t2w.nii.gz\n",
      "currently normalizing patient BraTS-MET-00242-000\n",
      "starting n4 bias correction for BraTS-MET-00242-000-t2w.nii.gz\n",
      "finished n4 bias correction for BraTS-MET-00242-000-t2w.nii.gz\n",
      "starting percentile correction for BraTS-MET-00242-000-t2w.nii.gz\n",
      "finished percentile normalization for BraTS-MET-00242-000-t2w.nii.gz\n",
      "starting n4 bias correction for BraTS-MET-00242-000-t1c.nii.gz\n",
      "finished n4 bias correction for BraTS-MET-00242-000-t1c.nii.gz\n",
      "starting percentile correction for BraTS-MET-00242-000-t1c.nii.gz\n",
      "finished percentile normalization for BraTS-MET-00242-000-t1c.nii.gz\n",
      "starting n4 bias correction for BraTS-MET-00242-000-t2f.nii.gz\n",
      "finished n4 bias correction for BraTS-MET-00242-000-t2f.nii.gz\n",
      "starting percentile correction for BraTS-MET-00242-000-t2f.nii.gz\n",
      "finished percentile normalization for BraTS-MET-00242-000-t2f.nii.gz\n",
      "starting n4 bias correction for BraTS-MET-00242-000-t1n.nii.gz\n",
      "finished n4 bias correction for BraTS-MET-00242-000-t1n.nii.gz\n",
      "starting percentile correction for BraTS-MET-00242-000-t1n.nii.gz\n"
     ]
    },
    {
     "name": "stderr",
     "output_type": "stream",
     "text": [
      " 21%|██        | 40/195 [51:07<3:03:13, 70.92s/it]"
     ]
    },
    {
     "name": "stdout",
     "output_type": "stream",
     "text": [
      "finished percentile normalization for BraTS-MET-00242-000-t1n.nii.gz\n",
      "currently normalizing patient BraTS-MET-00256-000\n",
      "starting n4 bias correction for BraTS-MET-00256-000-t2w.nii.gz\n",
      "finished n4 bias correction for BraTS-MET-00256-000-t2w.nii.gz\n",
      "starting percentile correction for BraTS-MET-00256-000-t2w.nii.gz\n",
      "finished percentile normalization for BraTS-MET-00256-000-t2w.nii.gz\n",
      "starting n4 bias correction for BraTS-MET-00256-000-t1c.nii.gz\n",
      "finished n4 bias correction for BraTS-MET-00256-000-t1c.nii.gz\n",
      "starting percentile correction for BraTS-MET-00256-000-t1c.nii.gz\n",
      "finished percentile normalization for BraTS-MET-00256-000-t1c.nii.gz\n",
      "starting n4 bias correction for BraTS-MET-00256-000-t1n.nii.gz\n",
      "finished n4 bias correction for BraTS-MET-00256-000-t1n.nii.gz\n",
      "starting percentile correction for BraTS-MET-00256-000-t1n.nii.gz\n",
      "finished percentile normalization for BraTS-MET-00256-000-t1n.nii.gz\n",
      "starting n4 bias correction for BraTS-MET-00256-000-t2f.nii.gz\n",
      "finished n4 bias correction for BraTS-MET-00256-000-t2f.nii.gz\n",
      "starting percentile correction for BraTS-MET-00256-000-t2f.nii.gz\n"
     ]
    },
    {
     "name": "stderr",
     "output_type": "stream",
     "text": [
      " 21%|██        | 41/195 [52:09<2:55:06, 68.22s/it]"
     ]
    },
    {
     "name": "stdout",
     "output_type": "stream",
     "text": [
      "finished percentile normalization for BraTS-MET-00256-000-t2f.nii.gz\n",
      "currently normalizing patient BraTS-MET-00134-000\n",
      "starting n4 bias correction for BraTS-MET-00134-000-t2f.nii.gz\n",
      "finished n4 bias correction for BraTS-MET-00134-000-t2f.nii.gz\n",
      "starting percentile correction for BraTS-MET-00134-000-t2f.nii.gz\n",
      "finished percentile normalization for BraTS-MET-00134-000-t2f.nii.gz\n",
      "starting n4 bias correction for BraTS-MET-00134-000-t1n.nii.gz\n",
      "finished n4 bias correction for BraTS-MET-00134-000-t1n.nii.gz\n",
      "starting percentile correction for BraTS-MET-00134-000-t1n.nii.gz\n",
      "finished percentile normalization for BraTS-MET-00134-000-t1n.nii.gz\n",
      "starting n4 bias correction for BraTS-MET-00134-000-t1c.nii.gz\n",
      "finished n4 bias correction for BraTS-MET-00134-000-t1c.nii.gz\n",
      "starting percentile correction for BraTS-MET-00134-000-t1c.nii.gz\n",
      "finished percentile normalization for BraTS-MET-00134-000-t1c.nii.gz\n",
      "starting n4 bias correction for BraTS-MET-00134-000-t2w.nii.gz\n",
      "finished n4 bias correction for BraTS-MET-00134-000-t2w.nii.gz\n",
      "starting percentile correction for BraTS-MET-00134-000-t2w.nii.gz\n"
     ]
    },
    {
     "name": "stderr",
     "output_type": "stream",
     "text": [
      " 22%|██▏       | 42/195 [53:32<3:05:27, 72.73s/it]"
     ]
    },
    {
     "name": "stdout",
     "output_type": "stream",
     "text": [
      "finished percentile normalization for BraTS-MET-00134-000-t2w.nii.gz\n",
      "currently normalizing patient BraTS-MET-00120-000\n",
      "starting n4 bias correction for BraTS-MET-00120-000-t1n.nii.gz\n",
      "finished n4 bias correction for BraTS-MET-00120-000-t1n.nii.gz\n",
      "starting percentile correction for BraTS-MET-00120-000-t1n.nii.gz\n",
      "finished percentile normalization for BraTS-MET-00120-000-t1n.nii.gz\n",
      "starting n4 bias correction for BraTS-MET-00120-000-t2f.nii.gz\n",
      "finished n4 bias correction for BraTS-MET-00120-000-t2f.nii.gz\n",
      "starting percentile correction for BraTS-MET-00120-000-t2f.nii.gz\n",
      "finished percentile normalization for BraTS-MET-00120-000-t2f.nii.gz\n",
      "starting n4 bias correction for BraTS-MET-00120-000-t1c.nii.gz\n",
      "finished n4 bias correction for BraTS-MET-00120-000-t1c.nii.gz\n",
      "starting percentile correction for BraTS-MET-00120-000-t1c.nii.gz\n",
      "finished percentile normalization for BraTS-MET-00120-000-t1c.nii.gz\n",
      "starting n4 bias correction for BraTS-MET-00120-000-t2w.nii.gz\n",
      "finished n4 bias correction for BraTS-MET-00120-000-t2w.nii.gz\n",
      "starting percentile correction for BraTS-MET-00120-000-t2w.nii.gz\n"
     ]
    },
    {
     "name": "stderr",
     "output_type": "stream",
     "text": [
      " 22%|██▏       | 43/195 [54:58<3:14:15, 76.68s/it]"
     ]
    },
    {
     "name": "stdout",
     "output_type": "stream",
     "text": [
      "finished percentile normalization for BraTS-MET-00120-000-t2w.nii.gz\n",
      "currently normalizing patient BraTS-MET-00108-000\n",
      "starting n4 bias correction for BraTS-MET-00108-000-t2w.nii.gz\n",
      "finished n4 bias correction for BraTS-MET-00108-000-t2w.nii.gz\n",
      "starting percentile correction for BraTS-MET-00108-000-t2w.nii.gz\n",
      "finished percentile normalization for BraTS-MET-00108-000-t2w.nii.gz\n",
      "starting n4 bias correction for BraTS-MET-00108-000-t1c.nii.gz\n",
      "finished n4 bias correction for BraTS-MET-00108-000-t1c.nii.gz\n",
      "starting percentile correction for BraTS-MET-00108-000-t1c.nii.gz\n",
      "finished percentile normalization for BraTS-MET-00108-000-t1c.nii.gz\n",
      "starting n4 bias correction for BraTS-MET-00108-000-t1n.nii.gz\n",
      "finished n4 bias correction for BraTS-MET-00108-000-t1n.nii.gz\n",
      "starting percentile correction for BraTS-MET-00108-000-t1n.nii.gz\n",
      "finished percentile normalization for BraTS-MET-00108-000-t1n.nii.gz\n",
      "starting n4 bias correction for BraTS-MET-00108-000-t2f.nii.gz\n",
      "finished n4 bias correction for BraTS-MET-00108-000-t2f.nii.gz\n",
      "starting percentile correction for BraTS-MET-00108-000-t2f.nii.gz\n"
     ]
    },
    {
     "name": "stderr",
     "output_type": "stream",
     "text": [
      " 23%|██▎       | 44/195 [55:48<2:52:57, 68.73s/it]"
     ]
    },
    {
     "name": "stdout",
     "output_type": "stream",
     "text": [
      "finished percentile normalization for BraTS-MET-00108-000-t2f.nii.gz\n",
      "currently normalizing patient BraTS-MET-00109-000\n",
      "starting n4 bias correction for BraTS-MET-00109-000-t2w.nii.gz\n",
      "finished n4 bias correction for BraTS-MET-00109-000-t2w.nii.gz\n",
      "starting percentile correction for BraTS-MET-00109-000-t2w.nii.gz\n",
      "finished percentile normalization for BraTS-MET-00109-000-t2w.nii.gz\n",
      "starting n4 bias correction for BraTS-MET-00109-000-t1c.nii.gz\n",
      "finished n4 bias correction for BraTS-MET-00109-000-t1c.nii.gz\n",
      "starting percentile correction for BraTS-MET-00109-000-t1c.nii.gz\n",
      "finished percentile normalization for BraTS-MET-00109-000-t1c.nii.gz\n",
      "starting n4 bias correction for BraTS-MET-00109-000-t2f.nii.gz\n",
      "finished n4 bias correction for BraTS-MET-00109-000-t2f.nii.gz\n",
      "starting percentile correction for BraTS-MET-00109-000-t2f.nii.gz\n",
      "finished percentile normalization for BraTS-MET-00109-000-t2f.nii.gz\n",
      "starting n4 bias correction for BraTS-MET-00109-000-t1n.nii.gz\n",
      "finished n4 bias correction for BraTS-MET-00109-000-t1n.nii.gz\n",
      "starting percentile correction for BraTS-MET-00109-000-t1n.nii.gz\n"
     ]
    },
    {
     "name": "stderr",
     "output_type": "stream",
     "text": [
      " 23%|██▎       | 45/195 [56:42<2:40:46, 64.31s/it]"
     ]
    },
    {
     "name": "stdout",
     "output_type": "stream",
     "text": [
      "finished percentile normalization for BraTS-MET-00109-000-t1n.nii.gz\n",
      "currently normalizing patient BraTS-MET-00121-000\n",
      "starting n4 bias correction for BraTS-MET-00121-000-t2f.nii.gz\n",
      "finished n4 bias correction for BraTS-MET-00121-000-t2f.nii.gz\n",
      "starting percentile correction for BraTS-MET-00121-000-t2f.nii.gz\n",
      "finished percentile normalization for BraTS-MET-00121-000-t2f.nii.gz\n",
      "starting n4 bias correction for BraTS-MET-00121-000-t1n.nii.gz\n",
      "finished n4 bias correction for BraTS-MET-00121-000-t1n.nii.gz\n",
      "starting percentile correction for BraTS-MET-00121-000-t1n.nii.gz\n",
      "finished percentile normalization for BraTS-MET-00121-000-t1n.nii.gz\n",
      "starting n4 bias correction for BraTS-MET-00121-000-t1c.nii.gz\n",
      "finished n4 bias correction for BraTS-MET-00121-000-t1c.nii.gz\n",
      "starting percentile correction for BraTS-MET-00121-000-t1c.nii.gz\n",
      "finished percentile normalization for BraTS-MET-00121-000-t1c.nii.gz\n",
      "starting n4 bias correction for BraTS-MET-00121-000-t2w.nii.gz\n",
      "finished n4 bias correction for BraTS-MET-00121-000-t2w.nii.gz\n",
      "starting percentile correction for BraTS-MET-00121-000-t2w.nii.gz\n"
     ]
    },
    {
     "name": "stderr",
     "output_type": "stream",
     "text": [
      " 24%|██▎       | 46/195 [58:03<2:51:37, 69.11s/it]"
     ]
    },
    {
     "name": "stdout",
     "output_type": "stream",
     "text": [
      "finished percentile normalization for BraTS-MET-00121-000-t2w.nii.gz\n",
      "currently normalizing patient BraTS-MET-00135-000\n",
      "starting n4 bias correction for BraTS-MET-00135-000-t1n.nii.gz\n",
      "finished n4 bias correction for BraTS-MET-00135-000-t1n.nii.gz\n",
      "starting percentile correction for BraTS-MET-00135-000-t1n.nii.gz\n",
      "finished percentile normalization for BraTS-MET-00135-000-t1n.nii.gz\n",
      "starting n4 bias correction for BraTS-MET-00135-000-t2f.nii.gz\n",
      "finished n4 bias correction for BraTS-MET-00135-000-t2f.nii.gz\n",
      "starting percentile correction for BraTS-MET-00135-000-t2f.nii.gz\n",
      "finished percentile normalization for BraTS-MET-00135-000-t2f.nii.gz\n",
      "starting n4 bias correction for BraTS-MET-00135-000-t1c.nii.gz\n",
      "finished n4 bias correction for BraTS-MET-00135-000-t1c.nii.gz\n",
      "starting percentile correction for BraTS-MET-00135-000-t1c.nii.gz\n",
      "finished percentile normalization for BraTS-MET-00135-000-t1c.nii.gz\n",
      "starting n4 bias correction for BraTS-MET-00135-000-t2w.nii.gz\n",
      "finished n4 bias correction for BraTS-MET-00135-000-t2w.nii.gz\n",
      "starting percentile correction for BraTS-MET-00135-000-t2w.nii.gz\n"
     ]
    },
    {
     "name": "stderr",
     "output_type": "stream",
     "text": [
      " 24%|██▍       | 47/195 [59:22<2:58:00, 72.16s/it]"
     ]
    },
    {
     "name": "stdout",
     "output_type": "stream",
     "text": [
      "finished percentile normalization for BraTS-MET-00135-000-t2w.nii.gz\n",
      "currently normalizing patient BraTS-MET-00243-000\n",
      "starting n4 bias correction for BraTS-MET-00243-000-t2w.nii.gz\n",
      "finished n4 bias correction for BraTS-MET-00243-000-t2w.nii.gz\n",
      "starting percentile correction for BraTS-MET-00243-000-t2w.nii.gz\n",
      "finished percentile normalization for BraTS-MET-00243-000-t2w.nii.gz\n",
      "starting n4 bias correction for BraTS-MET-00243-000-t1c.nii.gz\n",
      "finished n4 bias correction for BraTS-MET-00243-000-t1c.nii.gz\n",
      "starting percentile correction for BraTS-MET-00243-000-t1c.nii.gz\n",
      "finished percentile normalization for BraTS-MET-00243-000-t1c.nii.gz\n",
      "starting n4 bias correction for BraTS-MET-00243-000-t1n.nii.gz\n",
      "finished n4 bias correction for BraTS-MET-00243-000-t1n.nii.gz\n",
      "starting percentile correction for BraTS-MET-00243-000-t1n.nii.gz\n",
      "finished percentile normalization for BraTS-MET-00243-000-t1n.nii.gz\n",
      "starting n4 bias correction for BraTS-MET-00243-000-t2f.nii.gz\n",
      "finished n4 bias correction for BraTS-MET-00243-000-t2f.nii.gz\n",
      "starting percentile correction for BraTS-MET-00243-000-t2f.nii.gz\n"
     ]
    },
    {
     "name": "stderr",
     "output_type": "stream",
     "text": [
      " 25%|██▍       | 48/195 [1:00:43<3:03:42, 74.98s/it]"
     ]
    },
    {
     "name": "stdout",
     "output_type": "stream",
     "text": [
      "finished percentile normalization for BraTS-MET-00243-000-t2f.nii.gz\n",
      "currently normalizing patient BraTS-MET-00294-000\n",
      "starting n4 bias correction for BraTS-MET-00294-000-t1n.nii.gz\n",
      "finished n4 bias correction for BraTS-MET-00294-000-t1n.nii.gz\n",
      "starting percentile correction for BraTS-MET-00294-000-t1n.nii.gz\n",
      "finished percentile normalization for BraTS-MET-00294-000-t1n.nii.gz\n",
      "starting n4 bias correction for BraTS-MET-00294-000-t2f.nii.gz\n",
      "finished n4 bias correction for BraTS-MET-00294-000-t2f.nii.gz\n",
      "starting percentile correction for BraTS-MET-00294-000-t2f.nii.gz\n",
      "finished percentile normalization for BraTS-MET-00294-000-t2f.nii.gz\n",
      "starting n4 bias correction for BraTS-MET-00294-000-t1c.nii.gz\n",
      "finished n4 bias correction for BraTS-MET-00294-000-t1c.nii.gz\n",
      "starting percentile correction for BraTS-MET-00294-000-t1c.nii.gz\n",
      "finished percentile normalization for BraTS-MET-00294-000-t1c.nii.gz\n",
      "starting n4 bias correction for BraTS-MET-00294-000-t2w.nii.gz\n",
      "finished n4 bias correction for BraTS-MET-00294-000-t2w.nii.gz\n",
      "starting percentile correction for BraTS-MET-00294-000-t2w.nii.gz\n"
     ]
    },
    {
     "name": "stderr",
     "output_type": "stream",
     "text": [
      " 25%|██▌       | 49/195 [1:02:13<3:13:19, 79.45s/it]"
     ]
    },
    {
     "name": "stdout",
     "output_type": "stream",
     "text": [
      "finished percentile normalization for BraTS-MET-00294-000-t2w.nii.gz\n",
      "currently normalizing patient BraTS-MET-00280-000\n",
      "starting n4 bias correction for BraTS-MET-00280-000-t2f.nii.gz\n",
      "finished n4 bias correction for BraTS-MET-00280-000-t2f.nii.gz\n",
      "starting percentile correction for BraTS-MET-00280-000-t2f.nii.gz\n",
      "finished percentile normalization for BraTS-MET-00280-000-t2f.nii.gz\n",
      "starting n4 bias correction for BraTS-MET-00280-000-t1n.nii.gz\n",
      "finished n4 bias correction for BraTS-MET-00280-000-t1n.nii.gz\n",
      "starting percentile correction for BraTS-MET-00280-000-t1n.nii.gz\n",
      "finished percentile normalization for BraTS-MET-00280-000-t1n.nii.gz\n",
      "starting n4 bias correction for BraTS-MET-00280-000-t1c.nii.gz\n",
      "finished n4 bias correction for BraTS-MET-00280-000-t1c.nii.gz\n",
      "starting percentile correction for BraTS-MET-00280-000-t1c.nii.gz\n",
      "Percentile normalization failed. Upper value: 0.9999998809099198, lower value: 0.0\n",
      "finished percentile normalization for BraTS-MET-00280-000-t1c.nii.gz\n",
      "starting n4 bias correction for BraTS-MET-00280-000-t2w.nii.gz\n",
      "finished n4 bias correction for BraTS-MET-00280-000-t2w.nii.gz\n",
      "starting percentile correction for BraTS-MET-00280-000-t2w.nii.gz\n"
     ]
    },
    {
     "name": "stderr",
     "output_type": "stream",
     "text": [
      " 26%|██▌       | 50/195 [1:03:08<2:53:45, 71.90s/it]"
     ]
    },
    {
     "name": "stdout",
     "output_type": "stream",
     "text": [
      "finished percentile normalization for BraTS-MET-00280-000-t2w.nii.gz\n",
      "currently normalizing patient BraTS-MET-00096-000\n",
      "starting n4 bias correction for BraTS-MET-00096-000-t2w.nii.gz\n",
      "finished n4 bias correction for BraTS-MET-00096-000-t2w.nii.gz\n",
      "starting percentile correction for BraTS-MET-00096-000-t2w.nii.gz\n",
      "finished percentile normalization for BraTS-MET-00096-000-t2w.nii.gz\n",
      "starting n4 bias correction for BraTS-MET-00096-000-t1c.nii.gz\n",
      "finished n4 bias correction for BraTS-MET-00096-000-t1c.nii.gz\n",
      "starting percentile correction for BraTS-MET-00096-000-t1c.nii.gz\n",
      "finished percentile normalization for BraTS-MET-00096-000-t1c.nii.gz\n",
      "starting n4 bias correction for BraTS-MET-00096-000-t2f.nii.gz\n",
      "finished n4 bias correction for BraTS-MET-00096-000-t2f.nii.gz\n",
      "starting percentile correction for BraTS-MET-00096-000-t2f.nii.gz\n",
      "finished percentile normalization for BraTS-MET-00096-000-t2f.nii.gz\n",
      "starting n4 bias correction for BraTS-MET-00096-000-t1n.nii.gz\n",
      "finished n4 bias correction for BraTS-MET-00096-000-t1n.nii.gz\n",
      "starting percentile correction for BraTS-MET-00096-000-t1n.nii.gz\n"
     ]
    },
    {
     "name": "stderr",
     "output_type": "stream",
     "text": [
      " 26%|██▌       | 51/195 [1:04:15<2:49:09, 70.49s/it]"
     ]
    },
    {
     "name": "stdout",
     "output_type": "stream",
     "text": [
      "finished percentile normalization for BraTS-MET-00096-000-t1n.nii.gz\n",
      "currently normalizing patient BraTS-MET-00224-000\n",
      "starting n4 bias correction for BraTS-MET-00224-000-t1c.nii.gz\n",
      "finished n4 bias correction for BraTS-MET-00224-000-t1c.nii.gz\n",
      "starting percentile correction for BraTS-MET-00224-000-t1c.nii.gz\n",
      "finished percentile normalization for BraTS-MET-00224-000-t1c.nii.gz\n",
      "starting n4 bias correction for BraTS-MET-00224-000-t2w.nii.gz\n",
      "finished n4 bias correction for BraTS-MET-00224-000-t2w.nii.gz\n",
      "starting percentile correction for BraTS-MET-00224-000-t2w.nii.gz\n",
      "finished percentile normalization for BraTS-MET-00224-000-t2w.nii.gz\n",
      "starting n4 bias correction for BraTS-MET-00224-000-t1n.nii.gz\n",
      "finished n4 bias correction for BraTS-MET-00224-000-t1n.nii.gz\n",
      "starting percentile correction for BraTS-MET-00224-000-t1n.nii.gz\n",
      "finished percentile normalization for BraTS-MET-00224-000-t1n.nii.gz\n",
      "starting n4 bias correction for BraTS-MET-00224-000-t2f.nii.gz\n",
      "finished n4 bias correction for BraTS-MET-00224-000-t2f.nii.gz\n",
      "starting percentile correction for BraTS-MET-00224-000-t2f.nii.gz\n"
     ]
    },
    {
     "name": "stderr",
     "output_type": "stream",
     "text": [
      " 27%|██▋       | 52/195 [1:05:26<2:48:28, 70.69s/it]"
     ]
    },
    {
     "name": "stdout",
     "output_type": "stream",
     "text": [
      "finished percentile normalization for BraTS-MET-00224-000-t2f.nii.gz\n",
      "currently normalizing patient BraTS-MET-00230-000\n",
      "starting n4 bias correction for BraTS-MET-00230-000-t1c.nii.gz\n",
      "finished n4 bias correction for BraTS-MET-00230-000-t1c.nii.gz\n",
      "starting percentile correction for BraTS-MET-00230-000-t1c.nii.gz\n",
      "finished percentile normalization for BraTS-MET-00230-000-t1c.nii.gz\n",
      "starting n4 bias correction for BraTS-MET-00230-000-t2w.nii.gz\n",
      "finished n4 bias correction for BraTS-MET-00230-000-t2w.nii.gz\n",
      "starting percentile correction for BraTS-MET-00230-000-t2w.nii.gz\n",
      "finished percentile normalization for BraTS-MET-00230-000-t2w.nii.gz\n",
      "starting n4 bias correction for BraTS-MET-00230-000-t2f.nii.gz\n",
      "finished n4 bias correction for BraTS-MET-00230-000-t2f.nii.gz\n",
      "starting percentile correction for BraTS-MET-00230-000-t2f.nii.gz\n",
      "finished percentile normalization for BraTS-MET-00230-000-t2f.nii.gz\n",
      "starting n4 bias correction for BraTS-MET-00230-000-t1n.nii.gz\n",
      "finished n4 bias correction for BraTS-MET-00230-000-t1n.nii.gz\n",
      "starting percentile correction for BraTS-MET-00230-000-t1n.nii.gz\n"
     ]
    },
    {
     "name": "stderr",
     "output_type": "stream",
     "text": [
      " 27%|██▋       | 53/195 [1:06:36<2:46:50, 70.49s/it]"
     ]
    },
    {
     "name": "stdout",
     "output_type": "stream",
     "text": [
      "finished percentile normalization for BraTS-MET-00230-000-t1n.nii.gz\n",
      "currently normalizing patient BraTS-MET-00191-000\n",
      "starting n4 bias correction for BraTS-MET-00191-000-t1c.nii.gz\n",
      "finished n4 bias correction for BraTS-MET-00191-000-t1c.nii.gz\n",
      "starting percentile correction for BraTS-MET-00191-000-t1c.nii.gz\n",
      "finished percentile normalization for BraTS-MET-00191-000-t1c.nii.gz\n",
      "starting n4 bias correction for BraTS-MET-00191-000-t2w.nii.gz\n",
      "finished n4 bias correction for BraTS-MET-00191-000-t2w.nii.gz\n",
      "starting percentile correction for BraTS-MET-00191-000-t2w.nii.gz\n",
      "finished percentile normalization for BraTS-MET-00191-000-t2w.nii.gz\n",
      "starting n4 bias correction for BraTS-MET-00191-000-t2f.nii.gz\n",
      "finished n4 bias correction for BraTS-MET-00191-000-t2f.nii.gz\n",
      "starting percentile correction for BraTS-MET-00191-000-t2f.nii.gz\n",
      "finished percentile normalization for BraTS-MET-00191-000-t2f.nii.gz\n",
      "starting n4 bias correction for BraTS-MET-00191-000-t1n.nii.gz\n",
      "finished n4 bias correction for BraTS-MET-00191-000-t1n.nii.gz\n",
      "starting percentile correction for BraTS-MET-00191-000-t1n.nii.gz\n"
     ]
    },
    {
     "name": "stderr",
     "output_type": "stream",
     "text": [
      " 28%|██▊       | 54/195 [1:07:58<2:53:25, 73.80s/it]"
     ]
    },
    {
     "name": "stdout",
     "output_type": "stream",
     "text": [
      "finished percentile normalization for BraTS-MET-00191-000-t1n.nii.gz\n",
      "currently normalizing patient BraTS-MET-00185-000\n",
      "starting n4 bias correction for BraTS-MET-00185-000-t1c.nii.gz\n",
      "finished n4 bias correction for BraTS-MET-00185-000-t1c.nii.gz\n",
      "starting percentile correction for BraTS-MET-00185-000-t1c.nii.gz\n",
      "Percentile normalization failed. Upper value: 0.9999998809099198, lower value: 0.0\n",
      "finished percentile normalization for BraTS-MET-00185-000-t1c.nii.gz\n",
      "starting n4 bias correction for BraTS-MET-00185-000-t2w.nii.gz\n",
      "finished n4 bias correction for BraTS-MET-00185-000-t2w.nii.gz\n",
      "starting percentile correction for BraTS-MET-00185-000-t2w.nii.gz\n",
      "finished percentile normalization for BraTS-MET-00185-000-t2w.nii.gz\n",
      "starting n4 bias correction for BraTS-MET-00185-000-t1n.nii.gz\n",
      "finished n4 bias correction for BraTS-MET-00185-000-t1n.nii.gz\n",
      "starting percentile correction for BraTS-MET-00185-000-t1n.nii.gz\n",
      "finished percentile normalization for BraTS-MET-00185-000-t1n.nii.gz\n",
      "starting n4 bias correction for BraTS-MET-00185-000-t2f.nii.gz\n",
      "finished n4 bias correction for BraTS-MET-00185-000-t2f.nii.gz\n",
      "starting percentile correction for BraTS-MET-00185-000-t2f.nii.gz\n"
     ]
    },
    {
     "name": "stderr",
     "output_type": "stream",
     "text": [
      " 28%|██▊       | 55/195 [1:09:11<2:52:15, 73.83s/it]"
     ]
    },
    {
     "name": "stdout",
     "output_type": "stream",
     "text": [
      "finished percentile normalization for BraTS-MET-00185-000-t2f.nii.gz\n",
      "currently normalizing patient BraTS-MET-00152-000\n",
      "starting n4 bias correction for BraTS-MET-00152-000-t1n.nii.gz\n",
      "finished n4 bias correction for BraTS-MET-00152-000-t1n.nii.gz\n",
      "starting percentile correction for BraTS-MET-00152-000-t1n.nii.gz\n",
      "finished percentile normalization for BraTS-MET-00152-000-t1n.nii.gz\n",
      "starting n4 bias correction for BraTS-MET-00152-000-t2f.nii.gz\n",
      "finished n4 bias correction for BraTS-MET-00152-000-t2f.nii.gz\n",
      "starting percentile correction for BraTS-MET-00152-000-t2f.nii.gz\n",
      "finished percentile normalization for BraTS-MET-00152-000-t2f.nii.gz\n",
      "starting n4 bias correction for BraTS-MET-00152-000-t2w.nii.gz\n",
      "finished n4 bias correction for BraTS-MET-00152-000-t2w.nii.gz\n",
      "starting percentile correction for BraTS-MET-00152-000-t2w.nii.gz\n",
      "finished percentile normalization for BraTS-MET-00152-000-t2w.nii.gz\n",
      "starting n4 bias correction for BraTS-MET-00152-000-t1c.nii.gz\n",
      "finished n4 bias correction for BraTS-MET-00152-000-t1c.nii.gz\n",
      "starting percentile correction for BraTS-MET-00152-000-t1c.nii.gz\n"
     ]
    },
    {
     "name": "stderr",
     "output_type": "stream",
     "text": [
      " 29%|██▊       | 56/195 [1:10:46<3:05:21, 80.01s/it]"
     ]
    },
    {
     "name": "stdout",
     "output_type": "stream",
     "text": [
      "finished percentile normalization for BraTS-MET-00152-000-t1c.nii.gz\n",
      "currently normalizing patient BraTS-MET-00147-000\n",
      "starting n4 bias correction for BraTS-MET-00147-000-t1n.nii.gz\n",
      "finished n4 bias correction for BraTS-MET-00147-000-t1n.nii.gz\n",
      "starting percentile correction for BraTS-MET-00147-000-t1n.nii.gz\n",
      "finished percentile normalization for BraTS-MET-00147-000-t1n.nii.gz\n",
      "starting n4 bias correction for BraTS-MET-00147-000-t2f.nii.gz\n",
      "finished n4 bias correction for BraTS-MET-00147-000-t2f.nii.gz\n",
      "starting percentile correction for BraTS-MET-00147-000-t2f.nii.gz\n",
      "finished percentile normalization for BraTS-MET-00147-000-t2f.nii.gz\n",
      "starting n4 bias correction for BraTS-MET-00147-000-t2w.nii.gz\n",
      "finished n4 bias correction for BraTS-MET-00147-000-t2w.nii.gz\n",
      "starting percentile correction for BraTS-MET-00147-000-t2w.nii.gz\n",
      "finished percentile normalization for BraTS-MET-00147-000-t2w.nii.gz\n",
      "starting n4 bias correction for BraTS-MET-00147-000-t1c.nii.gz\n",
      "finished n4 bias correction for BraTS-MET-00147-000-t1c.nii.gz\n",
      "starting percentile correction for BraTS-MET-00147-000-t1c.nii.gz\n"
     ]
    },
    {
     "name": "stderr",
     "output_type": "stream",
     "text": [
      " 29%|██▉       | 57/195 [1:12:15<3:10:17, 82.73s/it]"
     ]
    },
    {
     "name": "stdout",
     "output_type": "stream",
     "text": [
      "finished percentile normalization for BraTS-MET-00147-000-t1c.nii.gz\n",
      "currently normalizing patient BraTS-MET-00153-000\n",
      "starting n4 bias correction for BraTS-MET-00153-000-t2f.nii.gz\n",
      "finished n4 bias correction for BraTS-MET-00153-000-t2f.nii.gz\n",
      "starting percentile correction for BraTS-MET-00153-000-t2f.nii.gz\n",
      "finished percentile normalization for BraTS-MET-00153-000-t2f.nii.gz\n",
      "starting n4 bias correction for BraTS-MET-00153-000-t1n.nii.gz\n",
      "finished n4 bias correction for BraTS-MET-00153-000-t1n.nii.gz\n",
      "starting percentile correction for BraTS-MET-00153-000-t1n.nii.gz\n",
      "finished percentile normalization for BraTS-MET-00153-000-t1n.nii.gz\n",
      "starting n4 bias correction for BraTS-MET-00153-000-t2w.nii.gz\n",
      "finished n4 bias correction for BraTS-MET-00153-000-t2w.nii.gz\n",
      "starting percentile correction for BraTS-MET-00153-000-t2w.nii.gz\n",
      "finished percentile normalization for BraTS-MET-00153-000-t2w.nii.gz\n",
      "starting n4 bias correction for BraTS-MET-00153-000-t1c.nii.gz\n",
      "finished n4 bias correction for BraTS-MET-00153-000-t1c.nii.gz\n",
      "starting percentile correction for BraTS-MET-00153-000-t1c.nii.gz\n"
     ]
    },
    {
     "name": "stderr",
     "output_type": "stream",
     "text": [
      " 30%|██▉       | 58/195 [1:13:24<2:59:19, 78.54s/it]"
     ]
    },
    {
     "name": "stdout",
     "output_type": "stream",
     "text": [
      "finished percentile normalization for BraTS-MET-00153-000-t1c.nii.gz\n",
      "currently normalizing patient BraTS-MET-00184-000\n",
      "starting n4 bias correction for BraTS-MET-00184-000-t1c.nii.gz\n",
      "finished n4 bias correction for BraTS-MET-00184-000-t1c.nii.gz\n",
      "starting percentile correction for BraTS-MET-00184-000-t1c.nii.gz\n",
      "Percentile normalization failed. Upper value: 0.9999999404549599, lower value: 0.0\n",
      "finished percentile normalization for BraTS-MET-00184-000-t1c.nii.gz\n",
      "starting n4 bias correction for BraTS-MET-00184-000-t2w.nii.gz\n",
      "finished n4 bias correction for BraTS-MET-00184-000-t2w.nii.gz\n",
      "starting percentile correction for BraTS-MET-00184-000-t2w.nii.gz\n",
      "finished percentile normalization for BraTS-MET-00184-000-t2w.nii.gz\n",
      "starting n4 bias correction for BraTS-MET-00184-000-t2f.nii.gz\n",
      "finished n4 bias correction for BraTS-MET-00184-000-t2f.nii.gz\n",
      "starting percentile correction for BraTS-MET-00184-000-t2f.nii.gz\n",
      "finished percentile normalization for BraTS-MET-00184-000-t2f.nii.gz\n",
      "starting n4 bias correction for BraTS-MET-00184-000-t1n.nii.gz\n",
      "finished n4 bias correction for BraTS-MET-00184-000-t1n.nii.gz\n",
      "starting percentile correction for BraTS-MET-00184-000-t1n.nii.gz\n"
     ]
    },
    {
     "name": "stderr",
     "output_type": "stream",
     "text": [
      " 30%|███       | 59/195 [1:14:46<3:00:16, 79.53s/it]"
     ]
    },
    {
     "name": "stdout",
     "output_type": "stream",
     "text": [
      "finished percentile normalization for BraTS-MET-00184-000-t1n.nii.gz\n",
      "currently normalizing patient BraTS-MET-00190-000\n",
      "starting n4 bias correction for BraTS-MET-00190-000-t1c.nii.gz\n",
      "finished n4 bias correction for BraTS-MET-00190-000-t1c.nii.gz\n",
      "starting percentile correction for BraTS-MET-00190-000-t1c.nii.gz\n",
      "Percentile normalization failed. Upper value: 0.9999999404549599, lower value: 0.0\n",
      "finished percentile normalization for BraTS-MET-00190-000-t1c.nii.gz\n",
      "starting n4 bias correction for BraTS-MET-00190-000-t2w.nii.gz\n",
      "finished n4 bias correction for BraTS-MET-00190-000-t2w.nii.gz\n",
      "starting percentile correction for BraTS-MET-00190-000-t2w.nii.gz\n",
      "finished percentile normalization for BraTS-MET-00190-000-t2w.nii.gz\n",
      "starting n4 bias correction for BraTS-MET-00190-000-t1n.nii.gz\n",
      "finished n4 bias correction for BraTS-MET-00190-000-t1n.nii.gz\n",
      "starting percentile correction for BraTS-MET-00190-000-t1n.nii.gz\n",
      "finished percentile normalization for BraTS-MET-00190-000-t1n.nii.gz\n",
      "starting n4 bias correction for BraTS-MET-00190-000-t2f.nii.gz\n",
      "finished n4 bias correction for BraTS-MET-00190-000-t2f.nii.gz\n",
      "starting percentile correction for BraTS-MET-00190-000-t2f.nii.gz\n"
     ]
    },
    {
     "name": "stderr",
     "output_type": "stream",
     "text": [
      " 31%|███       | 60/195 [1:15:44<2:44:44, 73.22s/it]"
     ]
    },
    {
     "name": "stdout",
     "output_type": "stream",
     "text": [
      "finished percentile normalization for BraTS-MET-00190-000-t2f.nii.gz\n",
      "currently normalizing patient BraTS-MET-00231-000\n",
      "starting n4 bias correction for BraTS-MET-00231-000-t1c.nii.gz\n",
      "finished n4 bias correction for BraTS-MET-00231-000-t1c.nii.gz\n",
      "starting percentile correction for BraTS-MET-00231-000-t1c.nii.gz\n",
      "finished percentile normalization for BraTS-MET-00231-000-t1c.nii.gz\n",
      "starting n4 bias correction for BraTS-MET-00231-000-t2w.nii.gz\n",
      "finished n4 bias correction for BraTS-MET-00231-000-t2w.nii.gz\n",
      "starting percentile correction for BraTS-MET-00231-000-t2w.nii.gz\n",
      "finished percentile normalization for BraTS-MET-00231-000-t2w.nii.gz\n",
      "starting n4 bias correction for BraTS-MET-00231-000-t1n.nii.gz\n",
      "finished n4 bias correction for BraTS-MET-00231-000-t1n.nii.gz\n",
      "starting percentile correction for BraTS-MET-00231-000-t1n.nii.gz\n",
      "finished percentile normalization for BraTS-MET-00231-000-t1n.nii.gz\n",
      "starting n4 bias correction for BraTS-MET-00231-000-t2f.nii.gz\n",
      "finished n4 bias correction for BraTS-MET-00231-000-t2f.nii.gz\n",
      "starting percentile correction for BraTS-MET-00231-000-t2f.nii.gz\n"
     ]
    },
    {
     "name": "stderr",
     "output_type": "stream",
     "text": [
      " 31%|███▏      | 61/195 [1:17:49<3:18:20, 88.81s/it]"
     ]
    },
    {
     "name": "stdout",
     "output_type": "stream",
     "text": [
      "finished percentile normalization for BraTS-MET-00231-000-t2f.nii.gz\n",
      "currently normalizing patient BraTS-MET-00225-000\n",
      "starting n4 bias correction for BraTS-MET-00225-000-t1c.nii.gz\n",
      "finished n4 bias correction for BraTS-MET-00225-000-t1c.nii.gz\n",
      "starting percentile correction for BraTS-MET-00225-000-t1c.nii.gz\n",
      "finished percentile normalization for BraTS-MET-00225-000-t1c.nii.gz\n",
      "starting n4 bias correction for BraTS-MET-00225-000-t2w.nii.gz\n",
      "finished n4 bias correction for BraTS-MET-00225-000-t2w.nii.gz\n",
      "starting percentile correction for BraTS-MET-00225-000-t2w.nii.gz\n",
      "finished percentile normalization for BraTS-MET-00225-000-t2w.nii.gz\n",
      "starting n4 bias correction for BraTS-MET-00225-000-t2f.nii.gz\n",
      "finished n4 bias correction for BraTS-MET-00225-000-t2f.nii.gz\n",
      "starting percentile correction for BraTS-MET-00225-000-t2f.nii.gz\n",
      "finished percentile normalization for BraTS-MET-00225-000-t2f.nii.gz\n",
      "starting n4 bias correction for BraTS-MET-00225-000-t1n.nii.gz\n",
      "finished n4 bias correction for BraTS-MET-00225-000-t1n.nii.gz\n",
      "starting percentile correction for BraTS-MET-00225-000-t1n.nii.gz\n"
     ]
    },
    {
     "name": "stderr",
     "output_type": "stream",
     "text": [
      " 32%|███▏      | 62/195 [1:18:47<2:56:10, 79.47s/it]"
     ]
    },
    {
     "name": "stdout",
     "output_type": "stream",
     "text": [
      "finished percentile normalization for BraTS-MET-00225-000-t1n.nii.gz\n",
      "currently normalizing patient BraTS-MET-00219-000\n",
      "starting n4 bias correction for BraTS-MET-00219-000-t1n.nii.gz\n",
      "finished n4 bias correction for BraTS-MET-00219-000-t1n.nii.gz\n",
      "starting percentile correction for BraTS-MET-00219-000-t1n.nii.gz\n",
      "finished percentile normalization for BraTS-MET-00219-000-t1n.nii.gz\n",
      "starting n4 bias correction for BraTS-MET-00219-000-t2f.nii.gz\n",
      "finished n4 bias correction for BraTS-MET-00219-000-t2f.nii.gz\n",
      "starting percentile correction for BraTS-MET-00219-000-t2f.nii.gz\n",
      "finished percentile normalization for BraTS-MET-00219-000-t2f.nii.gz\n",
      "starting n4 bias correction for BraTS-MET-00219-000-t2w.nii.gz\n",
      "finished n4 bias correction for BraTS-MET-00219-000-t2w.nii.gz\n",
      "starting percentile correction for BraTS-MET-00219-000-t2w.nii.gz\n",
      "finished percentile normalization for BraTS-MET-00219-000-t2w.nii.gz\n",
      "starting n4 bias correction for BraTS-MET-00219-000-t1c.nii.gz\n",
      "finished n4 bias correction for BraTS-MET-00219-000-t1c.nii.gz\n",
      "starting percentile correction for BraTS-MET-00219-000-t1c.nii.gz\n"
     ]
    },
    {
     "name": "stderr",
     "output_type": "stream",
     "text": [
      " 32%|███▏      | 63/195 [1:19:56<2:48:12, 76.46s/it]"
     ]
    },
    {
     "name": "stdout",
     "output_type": "stream",
     "text": [
      "finished percentile normalization for BraTS-MET-00219-000-t1c.nii.gz\n",
      "currently normalizing patient BraTS-MET-00233-000\n",
      "starting n4 bias correction for BraTS-MET-00233-000-t2w.nii.gz\n",
      "finished n4 bias correction for BraTS-MET-00233-000-t2w.nii.gz\n",
      "starting percentile correction for BraTS-MET-00233-000-t2w.nii.gz\n",
      "finished percentile normalization for BraTS-MET-00233-000-t2w.nii.gz\n",
      "starting n4 bias correction for BraTS-MET-00233-000-t1c.nii.gz\n",
      "finished n4 bias correction for BraTS-MET-00233-000-t1c.nii.gz\n",
      "starting percentile correction for BraTS-MET-00233-000-t1c.nii.gz\n",
      "finished percentile normalization for BraTS-MET-00233-000-t1c.nii.gz\n",
      "starting n4 bias correction for BraTS-MET-00233-000-t2f.nii.gz\n",
      "finished n4 bias correction for BraTS-MET-00233-000-t2f.nii.gz\n",
      "starting percentile correction for BraTS-MET-00233-000-t2f.nii.gz\n",
      "finished percentile normalization for BraTS-MET-00233-000-t2f.nii.gz\n",
      "starting n4 bias correction for BraTS-MET-00233-000-t1n.nii.gz\n",
      "finished n4 bias correction for BraTS-MET-00233-000-t1n.nii.gz\n",
      "starting percentile correction for BraTS-MET-00233-000-t1n.nii.gz\n"
     ]
    },
    {
     "name": "stderr",
     "output_type": "stream",
     "text": [
      " 33%|███▎      | 64/195 [1:21:01<2:39:10, 72.91s/it]"
     ]
    },
    {
     "name": "stdout",
     "output_type": "stream",
     "text": [
      "finished percentile normalization for BraTS-MET-00233-000-t1n.nii.gz\n",
      "currently normalizing patient BraTS-MET-00227-000\n",
      "starting n4 bias correction for BraTS-MET-00227-000-t2w.nii.gz\n",
      "finished n4 bias correction for BraTS-MET-00227-000-t2w.nii.gz\n",
      "starting percentile correction for BraTS-MET-00227-000-t2w.nii.gz\n",
      "finished percentile normalization for BraTS-MET-00227-000-t2w.nii.gz\n",
      "starting n4 bias correction for BraTS-MET-00227-000-t1c.nii.gz\n",
      "finished n4 bias correction for BraTS-MET-00227-000-t1c.nii.gz\n",
      "starting percentile correction for BraTS-MET-00227-000-t1c.nii.gz\n",
      "Percentile normalization failed. Upper value: 0.9999999404549599, lower value: 0.0\n",
      "finished percentile normalization for BraTS-MET-00227-000-t1c.nii.gz\n",
      "starting n4 bias correction for BraTS-MET-00227-000-t1n.nii.gz\n",
      "finished n4 bias correction for BraTS-MET-00227-000-t1n.nii.gz\n",
      "starting percentile correction for BraTS-MET-00227-000-t1n.nii.gz\n",
      "finished percentile normalization for BraTS-MET-00227-000-t1n.nii.gz\n",
      "starting n4 bias correction for BraTS-MET-00227-000-t2f.nii.gz\n",
      "finished n4 bias correction for BraTS-MET-00227-000-t2f.nii.gz\n",
      "starting percentile correction for BraTS-MET-00227-000-t2f.nii.gz\n"
     ]
    },
    {
     "name": "stderr",
     "output_type": "stream",
     "text": [
      " 33%|███▎      | 65/195 [1:22:33<2:50:37, 78.75s/it]"
     ]
    },
    {
     "name": "stdout",
     "output_type": "stream",
     "text": [
      "finished percentile normalization for BraTS-MET-00227-000-t2f.nii.gz\n",
      "currently normalizing patient BraTS-MET-00192-000\n",
      "starting n4 bias correction for BraTS-MET-00192-000-t2w.nii.gz\n",
      "finished n4 bias correction for BraTS-MET-00192-000-t2w.nii.gz\n",
      "starting percentile correction for BraTS-MET-00192-000-t2w.nii.gz\n",
      "finished percentile normalization for BraTS-MET-00192-000-t2w.nii.gz\n",
      "starting n4 bias correction for BraTS-MET-00192-000-t1c.nii.gz\n",
      "finished n4 bias correction for BraTS-MET-00192-000-t1c.nii.gz\n",
      "starting percentile correction for BraTS-MET-00192-000-t1c.nii.gz\n",
      "finished percentile normalization for BraTS-MET-00192-000-t1c.nii.gz\n",
      "starting n4 bias correction for BraTS-MET-00192-000-t2f.nii.gz\n",
      "finished n4 bias correction for BraTS-MET-00192-000-t2f.nii.gz\n",
      "starting percentile correction for BraTS-MET-00192-000-t2f.nii.gz\n",
      "finished percentile normalization for BraTS-MET-00192-000-t2f.nii.gz\n",
      "starting n4 bias correction for BraTS-MET-00192-000-t1n.nii.gz\n",
      "finished n4 bias correction for BraTS-MET-00192-000-t1n.nii.gz\n",
      "starting percentile correction for BraTS-MET-00192-000-t1n.nii.gz\n"
     ]
    },
    {
     "name": "stderr",
     "output_type": "stream",
     "text": [
      " 34%|███▍      | 66/195 [1:23:50<2:47:57, 78.12s/it]"
     ]
    },
    {
     "name": "stdout",
     "output_type": "stream",
     "text": [
      "finished percentile normalization for BraTS-MET-00192-000-t1n.nii.gz\n",
      "currently normalizing patient BraTS-MET-00179-000\n",
      "starting n4 bias correction for BraTS-MET-00179-000-t2w.nii.gz\n",
      "finished n4 bias correction for BraTS-MET-00179-000-t2w.nii.gz\n",
      "starting percentile correction for BraTS-MET-00179-000-t2w.nii.gz\n",
      "finished percentile normalization for BraTS-MET-00179-000-t2w.nii.gz\n",
      "starting n4 bias correction for BraTS-MET-00179-000-t1c.nii.gz\n",
      "finished n4 bias correction for BraTS-MET-00179-000-t1c.nii.gz\n",
      "starting percentile correction for BraTS-MET-00179-000-t1c.nii.gz\n",
      "finished percentile normalization for BraTS-MET-00179-000-t1c.nii.gz\n",
      "starting n4 bias correction for BraTS-MET-00179-000-t1n.nii.gz\n",
      "finished n4 bias correction for BraTS-MET-00179-000-t1n.nii.gz\n",
      "starting percentile correction for BraTS-MET-00179-000-t1n.nii.gz\n",
      "finished percentile normalization for BraTS-MET-00179-000-t1n.nii.gz\n",
      "starting n4 bias correction for BraTS-MET-00179-000-t2f.nii.gz\n",
      "finished n4 bias correction for BraTS-MET-00179-000-t2f.nii.gz\n",
      "starting percentile correction for BraTS-MET-00179-000-t2f.nii.gz\n"
     ]
    },
    {
     "name": "stderr",
     "output_type": "stream",
     "text": [
      " 34%|███▍      | 67/195 [1:24:56<2:39:10, 74.62s/it]"
     ]
    },
    {
     "name": "stdout",
     "output_type": "stream",
     "text": [
      "finished percentile normalization for BraTS-MET-00179-000-t2f.nii.gz\n",
      "currently normalizing patient BraTS-MET-00145-000\n",
      "starting n4 bias correction for BraTS-MET-00145-000-t2f.nii.gz\n",
      "finished n4 bias correction for BraTS-MET-00145-000-t2f.nii.gz\n",
      "starting percentile correction for BraTS-MET-00145-000-t2f.nii.gz\n",
      "finished percentile normalization for BraTS-MET-00145-000-t2f.nii.gz\n",
      "starting n4 bias correction for BraTS-MET-00145-000-t1n.nii.gz\n",
      "finished n4 bias correction for BraTS-MET-00145-000-t1n.nii.gz\n",
      "starting percentile correction for BraTS-MET-00145-000-t1n.nii.gz\n",
      "finished percentile normalization for BraTS-MET-00145-000-t1n.nii.gz\n",
      "starting n4 bias correction for BraTS-MET-00145-000-t1c.nii.gz\n",
      "finished n4 bias correction for BraTS-MET-00145-000-t1c.nii.gz\n",
      "starting percentile correction for BraTS-MET-00145-000-t1c.nii.gz\n",
      "finished percentile normalization for BraTS-MET-00145-000-t1c.nii.gz\n",
      "starting n4 bias correction for BraTS-MET-00145-000-t2w.nii.gz\n",
      "finished n4 bias correction for BraTS-MET-00145-000-t2w.nii.gz\n",
      "starting percentile correction for BraTS-MET-00145-000-t2w.nii.gz\n"
     ]
    },
    {
     "name": "stderr",
     "output_type": "stream",
     "text": [
      " 35%|███▍      | 68/195 [1:26:20<2:43:19, 77.16s/it]"
     ]
    },
    {
     "name": "stdout",
     "output_type": "stream",
     "text": [
      "finished percentile normalization for BraTS-MET-00145-000-t2w.nii.gz\n",
      "currently normalizing patient BraTS-MET-00151-000\n",
      "starting n4 bias correction for BraTS-MET-00151-000-t1n.nii.gz\n",
      "finished n4 bias correction for BraTS-MET-00151-000-t1n.nii.gz\n",
      "starting percentile correction for BraTS-MET-00151-000-t1n.nii.gz\n",
      "finished percentile normalization for BraTS-MET-00151-000-t1n.nii.gz\n",
      "starting n4 bias correction for BraTS-MET-00151-000-t2f.nii.gz\n",
      "finished n4 bias correction for BraTS-MET-00151-000-t2f.nii.gz\n",
      "starting percentile correction for BraTS-MET-00151-000-t2f.nii.gz\n",
      "finished percentile normalization for BraTS-MET-00151-000-t2f.nii.gz\n",
      "starting n4 bias correction for BraTS-MET-00151-000-t1c.nii.gz\n",
      "finished n4 bias correction for BraTS-MET-00151-000-t1c.nii.gz\n",
      "starting percentile correction for BraTS-MET-00151-000-t1c.nii.gz\n",
      "finished percentile normalization for BraTS-MET-00151-000-t1c.nii.gz\n",
      "starting n4 bias correction for BraTS-MET-00151-000-t2w.nii.gz\n",
      "finished n4 bias correction for BraTS-MET-00151-000-t2w.nii.gz\n",
      "starting percentile correction for BraTS-MET-00151-000-t2w.nii.gz\n"
     ]
    },
    {
     "name": "stderr",
     "output_type": "stream",
     "text": [
      " 35%|███▌      | 69/195 [1:27:14<2:27:29, 70.23s/it]"
     ]
    },
    {
     "name": "stdout",
     "output_type": "stream",
     "text": [
      "finished percentile normalization for BraTS-MET-00151-000-t2w.nii.gz\n",
      "currently normalizing patient BraTS-MET-00150-000\n",
      "starting n4 bias correction for BraTS-MET-00150-000-t2f.nii.gz\n",
      "finished n4 bias correction for BraTS-MET-00150-000-t2f.nii.gz\n",
      "starting percentile correction for BraTS-MET-00150-000-t2f.nii.gz\n",
      "finished percentile normalization for BraTS-MET-00150-000-t2f.nii.gz\n",
      "starting n4 bias correction for BraTS-MET-00150-000-t1n.nii.gz\n",
      "finished n4 bias correction for BraTS-MET-00150-000-t1n.nii.gz\n",
      "starting percentile correction for BraTS-MET-00150-000-t1n.nii.gz\n",
      "finished percentile normalization for BraTS-MET-00150-000-t1n.nii.gz\n",
      "starting n4 bias correction for BraTS-MET-00150-000-t1c.nii.gz\n",
      "finished n4 bias correction for BraTS-MET-00150-000-t1c.nii.gz\n",
      "starting percentile correction for BraTS-MET-00150-000-t1c.nii.gz\n",
      "finished percentile normalization for BraTS-MET-00150-000-t1c.nii.gz\n",
      "starting n4 bias correction for BraTS-MET-00150-000-t2w.nii.gz\n",
      "finished n4 bias correction for BraTS-MET-00150-000-t2w.nii.gz\n",
      "starting percentile correction for BraTS-MET-00150-000-t2w.nii.gz\n"
     ]
    },
    {
     "name": "stderr",
     "output_type": "stream",
     "text": [
      " 36%|███▌      | 70/195 [1:28:27<2:28:23, 71.23s/it]"
     ]
    },
    {
     "name": "stdout",
     "output_type": "stream",
     "text": [
      "finished percentile normalization for BraTS-MET-00150-000-t2w.nii.gz\n",
      "currently normalizing patient BraTS-MET-00144-000\n",
      "starting n4 bias correction for BraTS-MET-00144-000-t1n.nii.gz\n",
      "finished n4 bias correction for BraTS-MET-00144-000-t1n.nii.gz\n",
      "starting percentile correction for BraTS-MET-00144-000-t1n.nii.gz\n",
      "finished percentile normalization for BraTS-MET-00144-000-t1n.nii.gz\n",
      "starting n4 bias correction for BraTS-MET-00144-000-t2f.nii.gz\n",
      "finished n4 bias correction for BraTS-MET-00144-000-t2f.nii.gz\n",
      "starting percentile correction for BraTS-MET-00144-000-t2f.nii.gz\n",
      "finished percentile normalization for BraTS-MET-00144-000-t2f.nii.gz\n",
      "starting n4 bias correction for BraTS-MET-00144-000-t1c.nii.gz\n",
      "finished n4 bias correction for BraTS-MET-00144-000-t1c.nii.gz\n",
      "starting percentile correction for BraTS-MET-00144-000-t1c.nii.gz\n",
      "finished percentile normalization for BraTS-MET-00144-000-t1c.nii.gz\n",
      "starting n4 bias correction for BraTS-MET-00144-000-t2w.nii.gz\n",
      "finished n4 bias correction for BraTS-MET-00144-000-t2w.nii.gz\n",
      "starting percentile correction for BraTS-MET-00144-000-t2w.nii.gz\n"
     ]
    },
    {
     "name": "stderr",
     "output_type": "stream",
     "text": [
      " 36%|███▋      | 71/195 [1:29:37<2:26:37, 70.95s/it]"
     ]
    },
    {
     "name": "stdout",
     "output_type": "stream",
     "text": [
      "finished percentile normalization for BraTS-MET-00144-000-t2w.nii.gz\n",
      "currently normalizing patient BraTS-MET-00178-000\n",
      "starting n4 bias correction for BraTS-MET-00178-000-t2w.nii.gz\n",
      "finished n4 bias correction for BraTS-MET-00178-000-t2w.nii.gz\n",
      "starting percentile correction for BraTS-MET-00178-000-t2w.nii.gz\n",
      "finished percentile normalization for BraTS-MET-00178-000-t2w.nii.gz\n",
      "starting n4 bias correction for BraTS-MET-00178-000-t1c.nii.gz\n",
      "finished n4 bias correction for BraTS-MET-00178-000-t1c.nii.gz\n",
      "starting percentile correction for BraTS-MET-00178-000-t1c.nii.gz\n",
      "finished percentile normalization for BraTS-MET-00178-000-t1c.nii.gz\n",
      "starting n4 bias correction for BraTS-MET-00178-000-t2f.nii.gz\n",
      "finished n4 bias correction for BraTS-MET-00178-000-t2f.nii.gz\n",
      "starting percentile correction for BraTS-MET-00178-000-t2f.nii.gz\n",
      "finished percentile normalization for BraTS-MET-00178-000-t2f.nii.gz\n",
      "starting n4 bias correction for BraTS-MET-00178-000-t1n.nii.gz\n",
      "finished n4 bias correction for BraTS-MET-00178-000-t1n.nii.gz\n",
      "starting percentile correction for BraTS-MET-00178-000-t1n.nii.gz\n"
     ]
    },
    {
     "name": "stderr",
     "output_type": "stream",
     "text": [
      " 37%|███▋      | 72/195 [1:30:35<2:17:19, 66.99s/it]"
     ]
    },
    {
     "name": "stdout",
     "output_type": "stream",
     "text": [
      "finished percentile normalization for BraTS-MET-00178-000-t1n.nii.gz\n",
      "currently normalizing patient BraTS-MET-00193-000\n",
      "starting n4 bias correction for BraTS-MET-00193-000-t2w.nii.gz\n",
      "finished n4 bias correction for BraTS-MET-00193-000-t2w.nii.gz\n",
      "starting percentile correction for BraTS-MET-00193-000-t2w.nii.gz\n",
      "finished percentile normalization for BraTS-MET-00193-000-t2w.nii.gz\n",
      "starting n4 bias correction for BraTS-MET-00193-000-t1c.nii.gz\n",
      "finished n4 bias correction for BraTS-MET-00193-000-t1c.nii.gz\n",
      "starting percentile correction for BraTS-MET-00193-000-t1c.nii.gz\n",
      "Percentile normalization failed. Upper value: 0.9999999404549599, lower value: 0.0\n",
      "finished percentile normalization for BraTS-MET-00193-000-t1c.nii.gz\n",
      "starting n4 bias correction for BraTS-MET-00193-000-t1n.nii.gz\n",
      "finished n4 bias correction for BraTS-MET-00193-000-t1n.nii.gz\n",
      "starting percentile correction for BraTS-MET-00193-000-t1n.nii.gz\n",
      "finished percentile normalization for BraTS-MET-00193-000-t1n.nii.gz\n",
      "starting n4 bias correction for BraTS-MET-00193-000-t2f.nii.gz\n",
      "finished n4 bias correction for BraTS-MET-00193-000-t2f.nii.gz\n",
      "starting percentile correction for BraTS-MET-00193-000-t2f.nii.gz\n"
     ]
    },
    {
     "name": "stderr",
     "output_type": "stream",
     "text": [
      " 37%|███▋      | 73/195 [1:31:53<2:22:39, 70.16s/it]"
     ]
    },
    {
     "name": "stdout",
     "output_type": "stream",
     "text": [
      "finished percentile normalization for BraTS-MET-00193-000-t2f.nii.gz\n",
      "currently normalizing patient BraTS-MET-00187-000\n",
      "starting n4 bias correction for BraTS-MET-00187-000-t2w.nii.gz\n",
      "finished n4 bias correction for BraTS-MET-00187-000-t2w.nii.gz\n",
      "starting percentile correction for BraTS-MET-00187-000-t2w.nii.gz\n",
      "finished percentile normalization for BraTS-MET-00187-000-t2w.nii.gz\n",
      "starting n4 bias correction for BraTS-MET-00187-000-t1c.nii.gz\n",
      "finished n4 bias correction for BraTS-MET-00187-000-t1c.nii.gz\n",
      "starting percentile correction for BraTS-MET-00187-000-t1c.nii.gz\n",
      "finished percentile normalization for BraTS-MET-00187-000-t1c.nii.gz\n",
      "starting n4 bias correction for BraTS-MET-00187-000-t2f.nii.gz\n",
      "finished n4 bias correction for BraTS-MET-00187-000-t2f.nii.gz\n",
      "starting percentile correction for BraTS-MET-00187-000-t2f.nii.gz\n",
      "finished percentile normalization for BraTS-MET-00187-000-t2f.nii.gz\n",
      "starting n4 bias correction for BraTS-MET-00187-000-t1n.nii.gz\n",
      "finished n4 bias correction for BraTS-MET-00187-000-t1n.nii.gz\n",
      "starting percentile correction for BraTS-MET-00187-000-t1n.nii.gz\n"
     ]
    },
    {
     "name": "stderr",
     "output_type": "stream",
     "text": [
      " 38%|███▊      | 74/195 [1:32:46<2:11:03, 64.99s/it]"
     ]
    },
    {
     "name": "stdout",
     "output_type": "stream",
     "text": [
      "finished percentile normalization for BraTS-MET-00187-000-t1n.nii.gz\n",
      "currently normalizing patient BraTS-MET-00226-000\n",
      "starting n4 bias correction for BraTS-MET-00226-000-t2w.nii.gz\n",
      "finished n4 bias correction for BraTS-MET-00226-000-t2w.nii.gz\n",
      "starting percentile correction for BraTS-MET-00226-000-t2w.nii.gz\n",
      "finished percentile normalization for BraTS-MET-00226-000-t2w.nii.gz\n",
      "starting n4 bias correction for BraTS-MET-00226-000-t1c.nii.gz\n",
      "finished n4 bias correction for BraTS-MET-00226-000-t1c.nii.gz\n",
      "starting percentile correction for BraTS-MET-00226-000-t1c.nii.gz\n",
      "finished percentile normalization for BraTS-MET-00226-000-t1c.nii.gz\n",
      "starting n4 bias correction for BraTS-MET-00226-000-t2f.nii.gz\n",
      "finished n4 bias correction for BraTS-MET-00226-000-t2f.nii.gz\n",
      "starting percentile correction for BraTS-MET-00226-000-t2f.nii.gz\n",
      "finished percentile normalization for BraTS-MET-00226-000-t2f.nii.gz\n",
      "starting n4 bias correction for BraTS-MET-00226-000-t1n.nii.gz\n",
      "finished n4 bias correction for BraTS-MET-00226-000-t1n.nii.gz\n",
      "starting percentile correction for BraTS-MET-00226-000-t1n.nii.gz\n"
     ]
    },
    {
     "name": "stderr",
     "output_type": "stream",
     "text": [
      " 38%|███▊      | 75/195 [1:33:52<2:10:42, 65.36s/it]"
     ]
    },
    {
     "name": "stdout",
     "output_type": "stream",
     "text": [
      "finished percentile normalization for BraTS-MET-00226-000-t1n.nii.gz\n",
      "currently normalizing patient BraTS-MET-00232-000\n",
      "starting n4 bias correction for BraTS-MET-00232-000-t2w.nii.gz\n",
      "finished n4 bias correction for BraTS-MET-00232-000-t2w.nii.gz\n",
      "starting percentile correction for BraTS-MET-00232-000-t2w.nii.gz\n",
      "finished percentile normalization for BraTS-MET-00232-000-t2w.nii.gz\n",
      "starting n4 bias correction for BraTS-MET-00232-000-t1c.nii.gz\n",
      "finished n4 bias correction for BraTS-MET-00232-000-t1c.nii.gz\n",
      "starting percentile correction for BraTS-MET-00232-000-t1c.nii.gz\n",
      "finished percentile normalization for BraTS-MET-00232-000-t1c.nii.gz\n",
      "starting n4 bias correction for BraTS-MET-00232-000-t1n.nii.gz\n",
      "finished n4 bias correction for BraTS-MET-00232-000-t1n.nii.gz\n",
      "starting percentile correction for BraTS-MET-00232-000-t1n.nii.gz\n",
      "finished percentile normalization for BraTS-MET-00232-000-t1n.nii.gz\n",
      "starting n4 bias correction for BraTS-MET-00232-000-t2f.nii.gz\n",
      "finished n4 bias correction for BraTS-MET-00232-000-t2f.nii.gz\n",
      "starting percentile correction for BraTS-MET-00232-000-t2f.nii.gz\n"
     ]
    },
    {
     "name": "stderr",
     "output_type": "stream",
     "text": [
      " 39%|███▉      | 76/195 [1:34:58<2:09:51, 65.47s/it]"
     ]
    },
    {
     "name": "stdout",
     "output_type": "stream",
     "text": [
      "finished percentile normalization for BraTS-MET-00232-000-t2f.nii.gz\n",
      "currently normalizing patient BraTS-MET-00222-000\n",
      "starting n4 bias correction for BraTS-MET-00222-000-t1c.nii.gz\n",
      "finished n4 bias correction for BraTS-MET-00222-000-t1c.nii.gz\n",
      "starting percentile correction for BraTS-MET-00222-000-t1c.nii.gz\n",
      "finished percentile normalization for BraTS-MET-00222-000-t1c.nii.gz\n",
      "starting n4 bias correction for BraTS-MET-00222-000-t2w.nii.gz\n",
      "finished n4 bias correction for BraTS-MET-00222-000-t2w.nii.gz\n",
      "starting percentile correction for BraTS-MET-00222-000-t2w.nii.gz\n",
      "finished percentile normalization for BraTS-MET-00222-000-t2w.nii.gz\n",
      "starting n4 bias correction for BraTS-MET-00222-000-t2f.nii.gz\n",
      "finished n4 bias correction for BraTS-MET-00222-000-t2f.nii.gz\n",
      "starting percentile correction for BraTS-MET-00222-000-t2f.nii.gz\n",
      "finished percentile normalization for BraTS-MET-00222-000-t2f.nii.gz\n",
      "starting n4 bias correction for BraTS-MET-00222-000-t1n.nii.gz\n",
      "finished n4 bias correction for BraTS-MET-00222-000-t1n.nii.gz\n",
      "starting percentile correction for BraTS-MET-00222-000-t1n.nii.gz\n"
     ]
    },
    {
     "name": "stderr",
     "output_type": "stream",
     "text": [
      " 39%|███▉      | 77/195 [1:35:49<2:00:27, 61.25s/it]"
     ]
    },
    {
     "name": "stdout",
     "output_type": "stream",
     "text": [
      "finished percentile normalization for BraTS-MET-00222-000-t1n.nii.gz\n",
      "currently normalizing patient BraTS-MET-00183-000\n",
      "starting n4 bias correction for BraTS-MET-00183-000-t1c.nii.gz\n",
      "finished n4 bias correction for BraTS-MET-00183-000-t1c.nii.gz\n",
      "starting percentile correction for BraTS-MET-00183-000-t1c.nii.gz\n",
      "finished percentile normalization for BraTS-MET-00183-000-t1c.nii.gz\n",
      "starting n4 bias correction for BraTS-MET-00183-000-t2w.nii.gz\n",
      "finished n4 bias correction for BraTS-MET-00183-000-t2w.nii.gz\n",
      "starting percentile correction for BraTS-MET-00183-000-t2w.nii.gz\n",
      "finished percentile normalization for BraTS-MET-00183-000-t2w.nii.gz\n",
      "starting n4 bias correction for BraTS-MET-00183-000-t2f.nii.gz\n",
      "finished n4 bias correction for BraTS-MET-00183-000-t2f.nii.gz\n",
      "starting percentile correction for BraTS-MET-00183-000-t2f.nii.gz\n",
      "finished percentile normalization for BraTS-MET-00183-000-t2f.nii.gz\n",
      "starting n4 bias correction for BraTS-MET-00183-000-t1n.nii.gz\n",
      "finished n4 bias correction for BraTS-MET-00183-000-t1n.nii.gz\n",
      "starting percentile correction for BraTS-MET-00183-000-t1n.nii.gz\n"
     ]
    },
    {
     "name": "stderr",
     "output_type": "stream",
     "text": [
      " 40%|████      | 78/195 [1:37:06<2:08:48, 66.06s/it]"
     ]
    },
    {
     "name": "stdout",
     "output_type": "stream",
     "text": [
      "finished percentile normalization for BraTS-MET-00183-000-t1n.nii.gz\n",
      "currently normalizing patient BraTS-MET-00197-000\n",
      "starting n4 bias correction for BraTS-MET-00197-000-t1c.nii.gz\n",
      "finished n4 bias correction for BraTS-MET-00197-000-t1c.nii.gz\n",
      "starting percentile correction for BraTS-MET-00197-000-t1c.nii.gz\n",
      "finished percentile normalization for BraTS-MET-00197-000-t1c.nii.gz\n",
      "starting n4 bias correction for BraTS-MET-00197-000-t2w.nii.gz\n",
      "finished n4 bias correction for BraTS-MET-00197-000-t2w.nii.gz\n",
      "starting percentile correction for BraTS-MET-00197-000-t2w.nii.gz\n",
      "finished percentile normalization for BraTS-MET-00197-000-t2w.nii.gz\n",
      "starting n4 bias correction for BraTS-MET-00197-000-t1n.nii.gz\n",
      "finished n4 bias correction for BraTS-MET-00197-000-t1n.nii.gz\n",
      "starting percentile correction for BraTS-MET-00197-000-t1n.nii.gz\n",
      "finished percentile normalization for BraTS-MET-00197-000-t1n.nii.gz\n",
      "starting n4 bias correction for BraTS-MET-00197-000-t2f.nii.gz\n",
      "finished n4 bias correction for BraTS-MET-00197-000-t2f.nii.gz\n",
      "starting percentile correction for BraTS-MET-00197-000-t2f.nii.gz\n"
     ]
    },
    {
     "name": "stderr",
     "output_type": "stream",
     "text": [
      " 41%|████      | 79/195 [1:38:55<2:32:19, 78.79s/it]"
     ]
    },
    {
     "name": "stdout",
     "output_type": "stream",
     "text": [
      "finished percentile normalization for BraTS-MET-00197-000-t2f.nii.gz\n",
      "currently normalizing patient BraTS-MET-00140-000\n",
      "starting n4 bias correction for BraTS-MET-00140-000-t1n.nii.gz\n",
      "finished n4 bias correction for BraTS-MET-00140-000-t1n.nii.gz\n",
      "starting percentile correction for BraTS-MET-00140-000-t1n.nii.gz\n",
      "finished percentile normalization for BraTS-MET-00140-000-t1n.nii.gz\n",
      "starting n4 bias correction for BraTS-MET-00140-000-t2f.nii.gz\n",
      "finished n4 bias correction for BraTS-MET-00140-000-t2f.nii.gz\n",
      "starting percentile correction for BraTS-MET-00140-000-t2f.nii.gz\n",
      "finished percentile normalization for BraTS-MET-00140-000-t2f.nii.gz\n",
      "starting n4 bias correction for BraTS-MET-00140-000-t2w.nii.gz\n",
      "finished n4 bias correction for BraTS-MET-00140-000-t2w.nii.gz\n",
      "starting percentile correction for BraTS-MET-00140-000-t2w.nii.gz\n",
      "finished percentile normalization for BraTS-MET-00140-000-t2w.nii.gz\n",
      "starting n4 bias correction for BraTS-MET-00140-000-t1c.nii.gz\n",
      "finished n4 bias correction for BraTS-MET-00140-000-t1c.nii.gz\n",
      "starting percentile correction for BraTS-MET-00140-000-t1c.nii.gz\n"
     ]
    },
    {
     "name": "stderr",
     "output_type": "stream",
     "text": [
      " 41%|████      | 80/195 [1:40:23<2:36:26, 81.63s/it]"
     ]
    },
    {
     "name": "stdout",
     "output_type": "stream",
     "text": [
      "finished percentile normalization for BraTS-MET-00140-000-t1c.nii.gz\n",
      "currently normalizing patient BraTS-MET-00154-000\n",
      "starting n4 bias correction for BraTS-MET-00154-000-t2f.nii.gz\n",
      "finished n4 bias correction for BraTS-MET-00154-000-t2f.nii.gz\n",
      "starting percentile correction for BraTS-MET-00154-000-t2f.nii.gz\n",
      "finished percentile normalization for BraTS-MET-00154-000-t2f.nii.gz\n",
      "starting n4 bias correction for BraTS-MET-00154-000-t1n.nii.gz\n",
      "finished n4 bias correction for BraTS-MET-00154-000-t1n.nii.gz\n",
      "starting percentile correction for BraTS-MET-00154-000-t1n.nii.gz\n",
      "finished percentile normalization for BraTS-MET-00154-000-t1n.nii.gz\n",
      "starting n4 bias correction for BraTS-MET-00154-000-t2w.nii.gz\n",
      "finished n4 bias correction for BraTS-MET-00154-000-t2w.nii.gz\n",
      "starting percentile correction for BraTS-MET-00154-000-t2w.nii.gz\n",
      "finished percentile normalization for BraTS-MET-00154-000-t2w.nii.gz\n",
      "starting n4 bias correction for BraTS-MET-00154-000-t1c.nii.gz\n",
      "finished n4 bias correction for BraTS-MET-00154-000-t1c.nii.gz\n",
      "starting percentile correction for BraTS-MET-00154-000-t1c.nii.gz\n"
     ]
    },
    {
     "name": "stderr",
     "output_type": "stream",
     "text": [
      " 42%|████▏     | 81/195 [1:41:17<2:19:24, 73.38s/it]"
     ]
    },
    {
     "name": "stdout",
     "output_type": "stream",
     "text": [
      "finished percentile normalization for BraTS-MET-00154-000-t1c.nii.gz\n",
      "currently normalizing patient BraTS-MET-00169-000\n",
      "starting n4 bias correction for BraTS-MET-00169-000-t1c.nii.gz\n",
      "finished n4 bias correction for BraTS-MET-00169-000-t1c.nii.gz\n",
      "starting percentile correction for BraTS-MET-00169-000-t1c.nii.gz\n",
      "Percentile normalization failed. Upper value: 0.9999998809099198, lower value: 0.0\n",
      "finished percentile normalization for BraTS-MET-00169-000-t1c.nii.gz\n",
      "starting n4 bias correction for BraTS-MET-00169-000-t2w.nii.gz\n",
      "finished n4 bias correction for BraTS-MET-00169-000-t2w.nii.gz\n",
      "starting percentile correction for BraTS-MET-00169-000-t2w.nii.gz\n",
      "finished percentile normalization for BraTS-MET-00169-000-t2w.nii.gz\n",
      "starting n4 bias correction for BraTS-MET-00169-000-t2f.nii.gz\n",
      "finished n4 bias correction for BraTS-MET-00169-000-t2f.nii.gz\n",
      "starting percentile correction for BraTS-MET-00169-000-t2f.nii.gz\n",
      "finished percentile normalization for BraTS-MET-00169-000-t2f.nii.gz\n",
      "starting n4 bias correction for BraTS-MET-00169-000-t1n.nii.gz\n",
      "finished n4 bias correction for BraTS-MET-00169-000-t1n.nii.gz\n",
      "starting percentile correction for BraTS-MET-00169-000-t1n.nii.gz\n"
     ]
    },
    {
     "name": "stderr",
     "output_type": "stream",
     "text": [
      " 42%|████▏     | 82/195 [1:42:35<2:20:54, 74.82s/it]"
     ]
    },
    {
     "name": "stdout",
     "output_type": "stream",
     "text": [
      "finished percentile normalization for BraTS-MET-00169-000-t1n.nii.gz\n",
      "currently normalizing patient BraTS-MET-00155-000\n",
      "starting n4 bias correction for BraTS-MET-00155-000-t1n.nii.gz\n",
      "finished n4 bias correction for BraTS-MET-00155-000-t1n.nii.gz\n",
      "starting percentile correction for BraTS-MET-00155-000-t1n.nii.gz\n",
      "finished percentile normalization for BraTS-MET-00155-000-t1n.nii.gz\n",
      "starting n4 bias correction for BraTS-MET-00155-000-t2f.nii.gz\n",
      "finished n4 bias correction for BraTS-MET-00155-000-t2f.nii.gz\n",
      "starting percentile correction for BraTS-MET-00155-000-t2f.nii.gz\n",
      "finished percentile normalization for BraTS-MET-00155-000-t2f.nii.gz\n",
      "starting n4 bias correction for BraTS-MET-00155-000-t2w.nii.gz\n",
      "finished n4 bias correction for BraTS-MET-00155-000-t2w.nii.gz\n",
      "starting percentile correction for BraTS-MET-00155-000-t2w.nii.gz\n",
      "finished percentile normalization for BraTS-MET-00155-000-t2w.nii.gz\n",
      "starting n4 bias correction for BraTS-MET-00155-000-t1c.nii.gz\n",
      "finished n4 bias correction for BraTS-MET-00155-000-t1c.nii.gz\n",
      "starting percentile correction for BraTS-MET-00155-000-t1c.nii.gz\n"
     ]
    },
    {
     "name": "stderr",
     "output_type": "stream",
     "text": [
      " 43%|████▎     | 83/195 [1:44:04<2:27:13, 78.87s/it]"
     ]
    },
    {
     "name": "stdout",
     "output_type": "stream",
     "text": [
      "finished percentile normalization for BraTS-MET-00155-000-t1c.nii.gz\n",
      "currently normalizing patient BraTS-MET-00141-000\n",
      "starting n4 bias correction for BraTS-MET-00141-000-t2f.nii.gz\n",
      "finished n4 bias correction for BraTS-MET-00141-000-t2f.nii.gz\n",
      "starting percentile correction for BraTS-MET-00141-000-t2f.nii.gz\n",
      "finished percentile normalization for BraTS-MET-00141-000-t2f.nii.gz\n",
      "starting n4 bias correction for BraTS-MET-00141-000-t1n.nii.gz\n",
      "finished n4 bias correction for BraTS-MET-00141-000-t1n.nii.gz\n",
      "starting percentile correction for BraTS-MET-00141-000-t1n.nii.gz\n",
      "finished percentile normalization for BraTS-MET-00141-000-t1n.nii.gz\n",
      "starting n4 bias correction for BraTS-MET-00141-000-t2w.nii.gz\n",
      "finished n4 bias correction for BraTS-MET-00141-000-t2w.nii.gz\n",
      "starting percentile correction for BraTS-MET-00141-000-t2w.nii.gz\n",
      "finished percentile normalization for BraTS-MET-00141-000-t2w.nii.gz\n",
      "starting n4 bias correction for BraTS-MET-00141-000-t1c.nii.gz\n",
      "finished n4 bias correction for BraTS-MET-00141-000-t1c.nii.gz\n",
      "starting percentile correction for BraTS-MET-00141-000-t1c.nii.gz\n"
     ]
    },
    {
     "name": "stderr",
     "output_type": "stream",
     "text": [
      " 43%|████▎     | 84/195 [1:45:05<2:16:21, 73.71s/it]"
     ]
    },
    {
     "name": "stdout",
     "output_type": "stream",
     "text": [
      "finished percentile normalization for BraTS-MET-00141-000-t1c.nii.gz\n",
      "currently normalizing patient BraTS-MET-00196-000\n",
      "starting n4 bias correction for BraTS-MET-00196-000-t1c.nii.gz\n",
      "finished n4 bias correction for BraTS-MET-00196-000-t1c.nii.gz\n",
      "starting percentile correction for BraTS-MET-00196-000-t1c.nii.gz\n",
      "finished percentile normalization for BraTS-MET-00196-000-t1c.nii.gz\n",
      "starting n4 bias correction for BraTS-MET-00196-000-t2w.nii.gz\n",
      "finished n4 bias correction for BraTS-MET-00196-000-t2w.nii.gz\n",
      "starting percentile correction for BraTS-MET-00196-000-t2w.nii.gz\n",
      "finished percentile normalization for BraTS-MET-00196-000-t2w.nii.gz\n",
      "starting n4 bias correction for BraTS-MET-00196-000-t2f.nii.gz\n",
      "finished n4 bias correction for BraTS-MET-00196-000-t2f.nii.gz\n",
      "starting percentile correction for BraTS-MET-00196-000-t2f.nii.gz\n",
      "finished percentile normalization for BraTS-MET-00196-000-t2f.nii.gz\n",
      "starting n4 bias correction for BraTS-MET-00196-000-t1n.nii.gz\n",
      "finished n4 bias correction for BraTS-MET-00196-000-t1n.nii.gz\n",
      "starting percentile correction for BraTS-MET-00196-000-t1n.nii.gz\n"
     ]
    },
    {
     "name": "stderr",
     "output_type": "stream",
     "text": [
      " 44%|████▎     | 85/195 [1:46:31<2:21:33, 77.21s/it]"
     ]
    },
    {
     "name": "stdout",
     "output_type": "stream",
     "text": [
      "finished percentile normalization for BraTS-MET-00196-000-t1n.nii.gz\n",
      "currently normalizing patient BraTS-MET-00182-000\n",
      "starting n4 bias correction for BraTS-MET-00182-000-t1c.nii.gz\n",
      "finished n4 bias correction for BraTS-MET-00182-000-t1c.nii.gz\n",
      "starting percentile correction for BraTS-MET-00182-000-t1c.nii.gz\n",
      "finished percentile normalization for BraTS-MET-00182-000-t1c.nii.gz\n",
      "starting n4 bias correction for BraTS-MET-00182-000-t2w.nii.gz\n",
      "finished n4 bias correction for BraTS-MET-00182-000-t2w.nii.gz\n",
      "starting percentile correction for BraTS-MET-00182-000-t2w.nii.gz\n",
      "finished percentile normalization for BraTS-MET-00182-000-t2w.nii.gz\n",
      "starting n4 bias correction for BraTS-MET-00182-000-t1n.nii.gz\n",
      "finished n4 bias correction for BraTS-MET-00182-000-t1n.nii.gz\n",
      "starting percentile correction for BraTS-MET-00182-000-t1n.nii.gz\n",
      "finished percentile normalization for BraTS-MET-00182-000-t1n.nii.gz\n",
      "starting n4 bias correction for BraTS-MET-00182-000-t2f.nii.gz\n",
      "finished n4 bias correction for BraTS-MET-00182-000-t2f.nii.gz\n",
      "starting percentile correction for BraTS-MET-00182-000-t2f.nii.gz\n"
     ]
    },
    {
     "name": "stderr",
     "output_type": "stream",
     "text": [
      " 44%|████▍     | 86/195 [1:47:34<2:12:48, 73.10s/it]"
     ]
    },
    {
     "name": "stdout",
     "output_type": "stream",
     "text": [
      "finished percentile normalization for BraTS-MET-00182-000-t2f.nii.gz\n",
      "currently normalizing patient BraTS-MET-00223-000\n",
      "starting n4 bias correction for BraTS-MET-00223-000-t1c.nii.gz\n",
      "finished n4 bias correction for BraTS-MET-00223-000-t1c.nii.gz\n",
      "starting percentile correction for BraTS-MET-00223-000-t1c.nii.gz\n",
      "finished percentile normalization for BraTS-MET-00223-000-t1c.nii.gz\n",
      "starting n4 bias correction for BraTS-MET-00223-000-t2w.nii.gz\n",
      "finished n4 bias correction for BraTS-MET-00223-000-t2w.nii.gz\n",
      "starting percentile correction for BraTS-MET-00223-000-t2w.nii.gz\n",
      "finished percentile normalization for BraTS-MET-00223-000-t2w.nii.gz\n",
      "starting n4 bias correction for BraTS-MET-00223-000-t1n.nii.gz\n",
      "finished n4 bias correction for BraTS-MET-00223-000-t1n.nii.gz\n",
      "starting percentile correction for BraTS-MET-00223-000-t1n.nii.gz\n",
      "finished percentile normalization for BraTS-MET-00223-000-t1n.nii.gz\n",
      "starting n4 bias correction for BraTS-MET-00223-000-t2f.nii.gz\n",
      "finished n4 bias correction for BraTS-MET-00223-000-t2f.nii.gz\n",
      "starting percentile correction for BraTS-MET-00223-000-t2f.nii.gz\n"
     ]
    },
    {
     "name": "stderr",
     "output_type": "stream",
     "text": [
      " 45%|████▍     | 87/195 [1:49:02<2:19:39, 77.59s/it]"
     ]
    },
    {
     "name": "stdout",
     "output_type": "stream",
     "text": [
      "finished percentile normalization for BraTS-MET-00223-000-t2f.nii.gz\n",
      "currently normalizing patient BraTS-MET-00237-000\n",
      "starting n4 bias correction for BraTS-MET-00237-000-t1c.nii.gz\n",
      "finished n4 bias correction for BraTS-MET-00237-000-t1c.nii.gz\n",
      "starting percentile correction for BraTS-MET-00237-000-t1c.nii.gz\n",
      "finished percentile normalization for BraTS-MET-00237-000-t1c.nii.gz\n",
      "starting n4 bias correction for BraTS-MET-00237-000-t2w.nii.gz\n",
      "finished n4 bias correction for BraTS-MET-00237-000-t2w.nii.gz\n",
      "starting percentile correction for BraTS-MET-00237-000-t2w.nii.gz\n",
      "finished percentile normalization for BraTS-MET-00237-000-t2w.nii.gz\n",
      "starting n4 bias correction for BraTS-MET-00237-000-t2f.nii.gz\n",
      "finished n4 bias correction for BraTS-MET-00237-000-t2f.nii.gz\n",
      "starting percentile correction for BraTS-MET-00237-000-t2f.nii.gz\n",
      "finished percentile normalization for BraTS-MET-00237-000-t2f.nii.gz\n",
      "starting n4 bias correction for BraTS-MET-00237-000-t1n.nii.gz\n",
      "finished n4 bias correction for BraTS-MET-00237-000-t1n.nii.gz\n",
      "starting percentile correction for BraTS-MET-00237-000-t1n.nii.gz\n"
     ]
    },
    {
     "name": "stderr",
     "output_type": "stream",
     "text": [
      " 45%|████▌     | 88/195 [1:50:28<2:22:40, 80.01s/it]"
     ]
    },
    {
     "name": "stdout",
     "output_type": "stream",
     "text": [
      "finished percentile normalization for BraTS-MET-00237-000-t1n.nii.gz\n",
      "currently normalizing patient BraTS-MET-00221-000\n",
      "starting n4 bias correction for BraTS-MET-00221-000-t2w.nii.gz\n",
      "finished n4 bias correction for BraTS-MET-00221-000-t2w.nii.gz\n",
      "starting percentile correction for BraTS-MET-00221-000-t2w.nii.gz\n",
      "finished percentile normalization for BraTS-MET-00221-000-t2w.nii.gz\n",
      "starting n4 bias correction for BraTS-MET-00221-000-t1c.nii.gz\n",
      "finished n4 bias correction for BraTS-MET-00221-000-t1c.nii.gz\n",
      "starting percentile correction for BraTS-MET-00221-000-t1c.nii.gz\n",
      "Percentile normalization failed. Upper value: 0.9999999404549599, lower value: 0.0\n",
      "finished percentile normalization for BraTS-MET-00221-000-t1c.nii.gz\n",
      "starting n4 bias correction for BraTS-MET-00221-000-t2f.nii.gz\n",
      "finished n4 bias correction for BraTS-MET-00221-000-t2f.nii.gz\n",
      "starting percentile correction for BraTS-MET-00221-000-t2f.nii.gz\n",
      "finished percentile normalization for BraTS-MET-00221-000-t2f.nii.gz\n",
      "starting n4 bias correction for BraTS-MET-00221-000-t1n.nii.gz\n",
      "finished n4 bias correction for BraTS-MET-00221-000-t1n.nii.gz\n",
      "starting percentile correction for BraTS-MET-00221-000-t1n.nii.gz\n"
     ]
    },
    {
     "name": "stderr",
     "output_type": "stream",
     "text": [
      " 46%|████▌     | 89/195 [1:51:31<2:12:35, 75.05s/it]"
     ]
    },
    {
     "name": "stdout",
     "output_type": "stream",
     "text": [
      "finished percentile normalization for BraTS-MET-00221-000-t1n.nii.gz\n",
      "currently normalizing patient BraTS-MET-00235-000\n",
      "starting n4 bias correction for BraTS-MET-00235-000-t2w.nii.gz\n",
      "finished n4 bias correction for BraTS-MET-00235-000-t2w.nii.gz\n",
      "starting percentile correction for BraTS-MET-00235-000-t2w.nii.gz\n",
      "finished percentile normalization for BraTS-MET-00235-000-t2w.nii.gz\n",
      "starting n4 bias correction for BraTS-MET-00235-000-t1c.nii.gz\n",
      "finished n4 bias correction for BraTS-MET-00235-000-t1c.nii.gz\n",
      "starting percentile correction for BraTS-MET-00235-000-t1c.nii.gz\n",
      "finished percentile normalization for BraTS-MET-00235-000-t1c.nii.gz\n",
      "starting n4 bias correction for BraTS-MET-00235-000-t1n.nii.gz\n",
      "finished n4 bias correction for BraTS-MET-00235-000-t1n.nii.gz\n",
      "starting percentile correction for BraTS-MET-00235-000-t1n.nii.gz\n",
      "finished percentile normalization for BraTS-MET-00235-000-t1n.nii.gz\n",
      "starting n4 bias correction for BraTS-MET-00235-000-t2f.nii.gz\n",
      "finished n4 bias correction for BraTS-MET-00235-000-t2f.nii.gz\n",
      "starting percentile correction for BraTS-MET-00235-000-t2f.nii.gz\n"
     ]
    },
    {
     "name": "stderr",
     "output_type": "stream",
     "text": [
      " 46%|████▌     | 90/195 [1:52:47<2:11:21, 75.06s/it]"
     ]
    },
    {
     "name": "stdout",
     "output_type": "stream",
     "text": [
      "finished percentile normalization for BraTS-MET-00235-000-t2f.nii.gz\n",
      "currently normalizing patient BraTS-MET-00209-000\n",
      "starting n4 bias correction for BraTS-MET-00209-000-t2f.nii.gz\n",
      "finished n4 bias correction for BraTS-MET-00209-000-t2f.nii.gz\n",
      "starting percentile correction for BraTS-MET-00209-000-t2f.nii.gz\n",
      "finished percentile normalization for BraTS-MET-00209-000-t2f.nii.gz\n",
      "starting n4 bias correction for BraTS-MET-00209-000-t1n.nii.gz\n",
      "finished n4 bias correction for BraTS-MET-00209-000-t1n.nii.gz\n",
      "starting percentile correction for BraTS-MET-00209-000-t1n.nii.gz\n",
      "finished percentile normalization for BraTS-MET-00209-000-t1n.nii.gz\n",
      "starting n4 bias correction for BraTS-MET-00209-000-t1c.nii.gz\n",
      "finished n4 bias correction for BraTS-MET-00209-000-t1c.nii.gz\n",
      "starting percentile correction for BraTS-MET-00209-000-t1c.nii.gz\n",
      "finished percentile normalization for BraTS-MET-00209-000-t1c.nii.gz\n",
      "starting n4 bias correction for BraTS-MET-00209-000-t2w.nii.gz\n",
      "finished n4 bias correction for BraTS-MET-00209-000-t2w.nii.gz\n",
      "starting percentile correction for BraTS-MET-00209-000-t2w.nii.gz\n"
     ]
    },
    {
     "name": "stderr",
     "output_type": "stream",
     "text": [
      " 47%|████▋     | 91/195 [1:54:21<2:20:10, 80.87s/it]"
     ]
    },
    {
     "name": "stdout",
     "output_type": "stream",
     "text": [
      "finished percentile normalization for BraTS-MET-00209-000-t2w.nii.gz\n",
      "currently normalizing patient BraTS-MET-00194-000\n",
      "starting n4 bias correction for BraTS-MET-00194-000-t2w.nii.gz\n",
      "finished n4 bias correction for BraTS-MET-00194-000-t2w.nii.gz\n",
      "starting percentile correction for BraTS-MET-00194-000-t2w.nii.gz\n",
      "finished percentile normalization for BraTS-MET-00194-000-t2w.nii.gz\n",
      "starting n4 bias correction for BraTS-MET-00194-000-t1c.nii.gz\n",
      "finished n4 bias correction for BraTS-MET-00194-000-t1c.nii.gz\n",
      "starting percentile correction for BraTS-MET-00194-000-t1c.nii.gz\n",
      "finished percentile normalization for BraTS-MET-00194-000-t1c.nii.gz\n",
      "starting n4 bias correction for BraTS-MET-00194-000-t1n.nii.gz\n",
      "finished n4 bias correction for BraTS-MET-00194-000-t1n.nii.gz\n",
      "starting percentile correction for BraTS-MET-00194-000-t1n.nii.gz\n",
      "finished percentile normalization for BraTS-MET-00194-000-t1n.nii.gz\n",
      "starting n4 bias correction for BraTS-MET-00194-000-t2f.nii.gz\n",
      "finished n4 bias correction for BraTS-MET-00194-000-t2f.nii.gz\n",
      "starting percentile correction for BraTS-MET-00194-000-t2f.nii.gz\n"
     ]
    },
    {
     "name": "stderr",
     "output_type": "stream",
     "text": [
      " 47%|████▋     | 92/195 [1:55:24<2:09:46, 75.59s/it]"
     ]
    },
    {
     "name": "stdout",
     "output_type": "stream",
     "text": [
      "finished percentile normalization for BraTS-MET-00194-000-t2f.nii.gz\n",
      "currently normalizing patient BraTS-MET-00180-000\n",
      "starting n4 bias correction for BraTS-MET-00180-000-t2w.nii.gz\n",
      "finished n4 bias correction for BraTS-MET-00180-000-t2w.nii.gz\n",
      "starting percentile correction for BraTS-MET-00180-000-t2w.nii.gz\n",
      "finished percentile normalization for BraTS-MET-00180-000-t2w.nii.gz\n",
      "starting n4 bias correction for BraTS-MET-00180-000-t1c.nii.gz\n",
      "finished n4 bias correction for BraTS-MET-00180-000-t1c.nii.gz\n",
      "starting percentile correction for BraTS-MET-00180-000-t1c.nii.gz\n",
      "finished percentile normalization for BraTS-MET-00180-000-t1c.nii.gz\n",
      "starting n4 bias correction for BraTS-MET-00180-000-t2f.nii.gz\n",
      "finished n4 bias correction for BraTS-MET-00180-000-t2f.nii.gz\n",
      "starting percentile correction for BraTS-MET-00180-000-t2f.nii.gz\n",
      "finished percentile normalization for BraTS-MET-00180-000-t2f.nii.gz\n",
      "starting n4 bias correction for BraTS-MET-00180-000-t1n.nii.gz\n",
      "finished n4 bias correction for BraTS-MET-00180-000-t1n.nii.gz\n",
      "starting percentile correction for BraTS-MET-00180-000-t1n.nii.gz\n"
     ]
    },
    {
     "name": "stderr",
     "output_type": "stream",
     "text": [
      " 48%|████▊     | 93/195 [1:56:50<2:13:51, 78.74s/it]"
     ]
    },
    {
     "name": "stdout",
     "output_type": "stream",
     "text": [
      "finished percentile normalization for BraTS-MET-00180-000-t1n.nii.gz\n",
      "currently normalizing patient BraTS-MET-00157-000\n",
      "starting n4 bias correction for BraTS-MET-00157-000-t2f.nii.gz\n",
      "finished n4 bias correction for BraTS-MET-00157-000-t2f.nii.gz\n",
      "starting percentile correction for BraTS-MET-00157-000-t2f.nii.gz\n",
      "finished percentile normalization for BraTS-MET-00157-000-t2f.nii.gz\n",
      "starting n4 bias correction for BraTS-MET-00157-000-t1n.nii.gz\n",
      "finished n4 bias correction for BraTS-MET-00157-000-t1n.nii.gz\n",
      "starting percentile correction for BraTS-MET-00157-000-t1n.nii.gz\n",
      "finished percentile normalization for BraTS-MET-00157-000-t1n.nii.gz\n",
      "starting n4 bias correction for BraTS-MET-00157-000-t1c.nii.gz\n",
      "finished n4 bias correction for BraTS-MET-00157-000-t1c.nii.gz\n",
      "starting percentile correction for BraTS-MET-00157-000-t1c.nii.gz\n",
      "finished percentile normalization for BraTS-MET-00157-000-t1c.nii.gz\n",
      "starting n4 bias correction for BraTS-MET-00157-000-t2w.nii.gz\n",
      "finished n4 bias correction for BraTS-MET-00157-000-t2w.nii.gz\n",
      "starting percentile correction for BraTS-MET-00157-000-t2w.nii.gz\n"
     ]
    },
    {
     "name": "stderr",
     "output_type": "stream",
     "text": [
      " 48%|████▊     | 94/195 [1:58:11<2:13:24, 79.26s/it]"
     ]
    },
    {
     "name": "stdout",
     "output_type": "stream",
     "text": [
      "finished percentile normalization for BraTS-MET-00157-000-t2w.nii.gz\n",
      "currently normalizing patient BraTS-MET-00143-000\n",
      "starting n4 bias correction for BraTS-MET-00143-000-t1n.nii.gz\n",
      "finished n4 bias correction for BraTS-MET-00143-000-t1n.nii.gz\n",
      "starting percentile correction for BraTS-MET-00143-000-t1n.nii.gz\n",
      "finished percentile normalization for BraTS-MET-00143-000-t1n.nii.gz\n",
      "starting n4 bias correction for BraTS-MET-00143-000-t2f.nii.gz\n",
      "finished n4 bias correction for BraTS-MET-00143-000-t2f.nii.gz\n",
      "starting percentile correction for BraTS-MET-00143-000-t2f.nii.gz\n",
      "finished percentile normalization for BraTS-MET-00143-000-t2f.nii.gz\n",
      "starting n4 bias correction for BraTS-MET-00143-000-t1c.nii.gz\n",
      "finished n4 bias correction for BraTS-MET-00143-000-t1c.nii.gz\n",
      "starting percentile correction for BraTS-MET-00143-000-t1c.nii.gz\n",
      "finished percentile normalization for BraTS-MET-00143-000-t1c.nii.gz\n",
      "starting n4 bias correction for BraTS-MET-00143-000-t2w.nii.gz\n",
      "finished n4 bias correction for BraTS-MET-00143-000-t2w.nii.gz\n",
      "starting percentile correction for BraTS-MET-00143-000-t2w.nii.gz\n"
     ]
    },
    {
     "name": "stderr",
     "output_type": "stream",
     "text": [
      " 49%|████▊     | 95/195 [1:59:27<2:10:33, 78.34s/it]"
     ]
    },
    {
     "name": "stdout",
     "output_type": "stream",
     "text": [
      "finished percentile normalization for BraTS-MET-00143-000-t2w.nii.gz\n",
      "currently normalizing patient BraTS-MET-00142-000\n",
      "starting n4 bias correction for BraTS-MET-00142-000-t2f.nii.gz\n",
      "finished n4 bias correction for BraTS-MET-00142-000-t2f.nii.gz\n",
      "starting percentile correction for BraTS-MET-00142-000-t2f.nii.gz\n",
      "finished percentile normalization for BraTS-MET-00142-000-t2f.nii.gz\n",
      "starting n4 bias correction for BraTS-MET-00142-000-t1n.nii.gz\n",
      "finished n4 bias correction for BraTS-MET-00142-000-t1n.nii.gz\n",
      "starting percentile correction for BraTS-MET-00142-000-t1n.nii.gz\n",
      "finished percentile normalization for BraTS-MET-00142-000-t1n.nii.gz\n",
      "starting n4 bias correction for BraTS-MET-00142-000-t1c.nii.gz\n",
      "finished n4 bias correction for BraTS-MET-00142-000-t1c.nii.gz\n",
      "starting percentile correction for BraTS-MET-00142-000-t1c.nii.gz\n",
      "finished percentile normalization for BraTS-MET-00142-000-t1c.nii.gz\n",
      "starting n4 bias correction for BraTS-MET-00142-000-t2w.nii.gz\n",
      "finished n4 bias correction for BraTS-MET-00142-000-t2w.nii.gz\n",
      "starting percentile correction for BraTS-MET-00142-000-t2w.nii.gz\n"
     ]
    },
    {
     "name": "stderr",
     "output_type": "stream",
     "text": [
      " 49%|████▉     | 96/195 [2:01:08<2:20:40, 85.26s/it]"
     ]
    },
    {
     "name": "stdout",
     "output_type": "stream",
     "text": [
      "finished percentile normalization for BraTS-MET-00142-000-t2w.nii.gz\n",
      "currently normalizing patient BraTS-MET-00156-000\n",
      "starting n4 bias correction for BraTS-MET-00156-000-t1n.nii.gz\n",
      "finished n4 bias correction for BraTS-MET-00156-000-t1n.nii.gz\n",
      "starting percentile correction for BraTS-MET-00156-000-t1n.nii.gz\n",
      "finished percentile normalization for BraTS-MET-00156-000-t1n.nii.gz\n",
      "starting n4 bias correction for BraTS-MET-00156-000-t2f.nii.gz\n",
      "finished n4 bias correction for BraTS-MET-00156-000-t2f.nii.gz\n",
      "starting percentile correction for BraTS-MET-00156-000-t2f.nii.gz\n",
      "finished percentile normalization for BraTS-MET-00156-000-t2f.nii.gz\n",
      "starting n4 bias correction for BraTS-MET-00156-000-t1c.nii.gz\n",
      "finished n4 bias correction for BraTS-MET-00156-000-t1c.nii.gz\n",
      "starting percentile correction for BraTS-MET-00156-000-t1c.nii.gz\n",
      "finished percentile normalization for BraTS-MET-00156-000-t1c.nii.gz\n",
      "starting n4 bias correction for BraTS-MET-00156-000-t2w.nii.gz\n",
      "finished n4 bias correction for BraTS-MET-00156-000-t2w.nii.gz\n",
      "starting percentile correction for BraTS-MET-00156-000-t2w.nii.gz\n"
     ]
    },
    {
     "name": "stderr",
     "output_type": "stream",
     "text": [
      " 50%|████▉     | 97/195 [2:02:25<2:14:56, 82.62s/it]"
     ]
    },
    {
     "name": "stdout",
     "output_type": "stream",
     "text": [
      "finished percentile normalization for BraTS-MET-00156-000-t2w.nii.gz\n",
      "currently normalizing patient BraTS-MET-00181-000\n",
      "starting n4 bias correction for BraTS-MET-00181-000-t2w.nii.gz\n",
      "finished n4 bias correction for BraTS-MET-00181-000-t2w.nii.gz\n",
      "starting percentile correction for BraTS-MET-00181-000-t2w.nii.gz\n",
      "finished percentile normalization for BraTS-MET-00181-000-t2w.nii.gz\n",
      "starting n4 bias correction for BraTS-MET-00181-000-t1c.nii.gz\n",
      "finished n4 bias correction for BraTS-MET-00181-000-t1c.nii.gz\n",
      "starting percentile correction for BraTS-MET-00181-000-t1c.nii.gz\n",
      "finished percentile normalization for BraTS-MET-00181-000-t1c.nii.gz\n",
      "starting n4 bias correction for BraTS-MET-00181-000-t1n.nii.gz\n",
      "finished n4 bias correction for BraTS-MET-00181-000-t1n.nii.gz\n",
      "starting percentile correction for BraTS-MET-00181-000-t1n.nii.gz\n",
      "finished percentile normalization for BraTS-MET-00181-000-t1n.nii.gz\n",
      "starting n4 bias correction for BraTS-MET-00181-000-t2f.nii.gz\n",
      "finished n4 bias correction for BraTS-MET-00181-000-t2f.nii.gz\n",
      "starting percentile correction for BraTS-MET-00181-000-t2f.nii.gz\n"
     ]
    },
    {
     "name": "stderr",
     "output_type": "stream",
     "text": [
      " 50%|█████     | 98/195 [2:03:15<1:57:45, 72.84s/it]"
     ]
    },
    {
     "name": "stdout",
     "output_type": "stream",
     "text": [
      "finished percentile normalization for BraTS-MET-00181-000-t2f.nii.gz\n",
      "currently normalizing patient BraTS-MET-00195-000\n",
      "starting n4 bias correction for BraTS-MET-00195-000-t2w.nii.gz\n",
      "finished n4 bias correction for BraTS-MET-00195-000-t2w.nii.gz\n",
      "starting percentile correction for BraTS-MET-00195-000-t2w.nii.gz\n",
      "finished percentile normalization for BraTS-MET-00195-000-t2w.nii.gz\n",
      "starting n4 bias correction for BraTS-MET-00195-000-t1c.nii.gz\n",
      "finished n4 bias correction for BraTS-MET-00195-000-t1c.nii.gz\n",
      "starting percentile correction for BraTS-MET-00195-000-t1c.nii.gz\n",
      "finished percentile normalization for BraTS-MET-00195-000-t1c.nii.gz\n",
      "starting n4 bias correction for BraTS-MET-00195-000-t2f.nii.gz\n",
      "finished n4 bias correction for BraTS-MET-00195-000-t2f.nii.gz\n",
      "starting percentile correction for BraTS-MET-00195-000-t2f.nii.gz\n",
      "finished percentile normalization for BraTS-MET-00195-000-t2f.nii.gz\n",
      "starting n4 bias correction for BraTS-MET-00195-000-t1n.nii.gz\n",
      "finished n4 bias correction for BraTS-MET-00195-000-t1n.nii.gz\n",
      "starting percentile correction for BraTS-MET-00195-000-t1n.nii.gz\n"
     ]
    },
    {
     "name": "stderr",
     "output_type": "stream",
     "text": [
      " 51%|█████     | 99/195 [2:04:45<2:04:39, 77.91s/it]"
     ]
    },
    {
     "name": "stdout",
     "output_type": "stream",
     "text": [
      "finished percentile normalization for BraTS-MET-00195-000-t1n.nii.gz\n",
      "currently normalizing patient BraTS-MET-00208-000\n",
      "starting n4 bias correction for BraTS-MET-00208-000-t1n.nii.gz\n",
      "finished n4 bias correction for BraTS-MET-00208-000-t1n.nii.gz\n",
      "starting percentile correction for BraTS-MET-00208-000-t1n.nii.gz\n",
      "finished percentile normalization for BraTS-MET-00208-000-t1n.nii.gz\n",
      "starting n4 bias correction for BraTS-MET-00208-000-t2f.nii.gz\n",
      "finished n4 bias correction for BraTS-MET-00208-000-t2f.nii.gz\n",
      "starting percentile correction for BraTS-MET-00208-000-t2f.nii.gz\n",
      "finished percentile normalization for BraTS-MET-00208-000-t2f.nii.gz\n",
      "starting n4 bias correction for BraTS-MET-00208-000-t1c.nii.gz\n",
      "finished n4 bias correction for BraTS-MET-00208-000-t1c.nii.gz\n",
      "starting percentile correction for BraTS-MET-00208-000-t1c.nii.gz\n",
      "finished percentile normalization for BraTS-MET-00208-000-t1c.nii.gz\n",
      "starting n4 bias correction for BraTS-MET-00208-000-t2w.nii.gz\n",
      "finished n4 bias correction for BraTS-MET-00208-000-t2w.nii.gz\n",
      "starting percentile correction for BraTS-MET-00208-000-t2w.nii.gz\n"
     ]
    },
    {
     "name": "stderr",
     "output_type": "stream",
     "text": [
      " 51%|█████▏    | 100/195 [2:06:12<2:07:39, 80.62s/it]"
     ]
    },
    {
     "name": "stdout",
     "output_type": "stream",
     "text": [
      "finished percentile normalization for BraTS-MET-00208-000-t2w.nii.gz\n",
      "currently normalizing patient BraTS-MET-00234-000\n",
      "starting n4 bias correction for BraTS-MET-00234-000-t2w.nii.gz\n",
      "finished n4 bias correction for BraTS-MET-00234-000-t2w.nii.gz\n",
      "starting percentile correction for BraTS-MET-00234-000-t2w.nii.gz\n",
      "finished percentile normalization for BraTS-MET-00234-000-t2w.nii.gz\n",
      "starting n4 bias correction for BraTS-MET-00234-000-t1c.nii.gz\n",
      "finished n4 bias correction for BraTS-MET-00234-000-t1c.nii.gz\n",
      "starting percentile correction for BraTS-MET-00234-000-t1c.nii.gz\n",
      "finished percentile normalization for BraTS-MET-00234-000-t1c.nii.gz\n",
      "starting n4 bias correction for BraTS-MET-00234-000-t2f.nii.gz\n",
      "finished n4 bias correction for BraTS-MET-00234-000-t2f.nii.gz\n",
      "starting percentile correction for BraTS-MET-00234-000-t2f.nii.gz\n",
      "finished percentile normalization for BraTS-MET-00234-000-t2f.nii.gz\n",
      "starting n4 bias correction for BraTS-MET-00234-000-t1n.nii.gz\n",
      "finished n4 bias correction for BraTS-MET-00234-000-t1n.nii.gz\n",
      "starting percentile correction for BraTS-MET-00234-000-t1n.nii.gz\n"
     ]
    },
    {
     "name": "stderr",
     "output_type": "stream",
     "text": [
      " 52%|█████▏    | 101/195 [2:08:03<2:20:49, 89.89s/it]"
     ]
    },
    {
     "name": "stdout",
     "output_type": "stream",
     "text": [
      "finished percentile normalization for BraTS-MET-00234-000-t1n.nii.gz\n",
      "currently normalizing patient BraTS-MET-00220-000\n",
      "starting n4 bias correction for BraTS-MET-00220-000-t2w.nii.gz\n",
      "finished n4 bias correction for BraTS-MET-00220-000-t2w.nii.gz\n",
      "starting percentile correction for BraTS-MET-00220-000-t2w.nii.gz\n",
      "finished percentile normalization for BraTS-MET-00220-000-t2w.nii.gz\n",
      "starting n4 bias correction for BraTS-MET-00220-000-t1c.nii.gz\n",
      "finished n4 bias correction for BraTS-MET-00220-000-t1c.nii.gz\n",
      "starting percentile correction for BraTS-MET-00220-000-t1c.nii.gz\n",
      "finished percentile normalization for BraTS-MET-00220-000-t1c.nii.gz\n",
      "starting n4 bias correction for BraTS-MET-00220-000-t1n.nii.gz\n",
      "finished n4 bias correction for BraTS-MET-00220-000-t1n.nii.gz\n",
      "starting percentile correction for BraTS-MET-00220-000-t1n.nii.gz\n",
      "finished percentile normalization for BraTS-MET-00220-000-t1n.nii.gz\n",
      "starting n4 bias correction for BraTS-MET-00220-000-t2f.nii.gz\n",
      "finished n4 bias correction for BraTS-MET-00220-000-t2f.nii.gz\n",
      "starting percentile correction for BraTS-MET-00220-000-t2f.nii.gz\n"
     ]
    },
    {
     "name": "stderr",
     "output_type": "stream",
     "text": [
      " 52%|█████▏    | 102/195 [2:08:53<2:00:47, 77.93s/it]"
     ]
    },
    {
     "name": "stdout",
     "output_type": "stream",
     "text": [
      "finished percentile normalization for BraTS-MET-00220-000-t2f.nii.gz\n",
      "currently normalizing patient BraTS-MET-00239-000\n",
      "starting n4 bias correction for BraTS-MET-00239-000-t1c.nii.gz\n",
      "finished n4 bias correction for BraTS-MET-00239-000-t1c.nii.gz\n",
      "starting percentile correction for BraTS-MET-00239-000-t1c.nii.gz\n",
      "finished percentile normalization for BraTS-MET-00239-000-t1c.nii.gz\n",
      "starting n4 bias correction for BraTS-MET-00239-000-t2w.nii.gz\n",
      "finished n4 bias correction for BraTS-MET-00239-000-t2w.nii.gz\n",
      "starting percentile correction for BraTS-MET-00239-000-t2w.nii.gz\n",
      "finished percentile normalization for BraTS-MET-00239-000-t2w.nii.gz\n",
      "starting n4 bias correction for BraTS-MET-00239-000-t1n.nii.gz\n",
      "finished n4 bias correction for BraTS-MET-00239-000-t1n.nii.gz\n",
      "starting percentile correction for BraTS-MET-00239-000-t1n.nii.gz\n",
      "finished percentile normalization for BraTS-MET-00239-000-t1n.nii.gz\n",
      "starting n4 bias correction for BraTS-MET-00239-000-t2f.nii.gz\n",
      "finished n4 bias correction for BraTS-MET-00239-000-t2f.nii.gz\n",
      "starting percentile correction for BraTS-MET-00239-000-t2f.nii.gz\n"
     ]
    },
    {
     "name": "stderr",
     "output_type": "stream",
     "text": [
      " 53%|█████▎    | 103/195 [2:10:16<2:01:41, 79.36s/it]"
     ]
    },
    {
     "name": "stdout",
     "output_type": "stream",
     "text": [
      "finished percentile normalization for BraTS-MET-00239-000-t2f.nii.gz\n",
      "currently normalizing patient BraTS-MET-00205-000\n",
      "starting n4 bias correction for BraTS-MET-00205-000-t2f.nii.gz\n",
      "finished n4 bias correction for BraTS-MET-00205-000-t2f.nii.gz\n",
      "starting percentile correction for BraTS-MET-00205-000-t2f.nii.gz\n",
      "finished percentile normalization for BraTS-MET-00205-000-t2f.nii.gz\n",
      "starting n4 bias correction for BraTS-MET-00205-000-t1n.nii.gz\n",
      "finished n4 bias correction for BraTS-MET-00205-000-t1n.nii.gz\n",
      "starting percentile correction for BraTS-MET-00205-000-t1n.nii.gz\n",
      "finished percentile normalization for BraTS-MET-00205-000-t1n.nii.gz\n",
      "starting n4 bias correction for BraTS-MET-00205-000-t2w.nii.gz\n",
      "finished n4 bias correction for BraTS-MET-00205-000-t2w.nii.gz\n",
      "starting percentile correction for BraTS-MET-00205-000-t2w.nii.gz\n",
      "finished percentile normalization for BraTS-MET-00205-000-t2w.nii.gz\n",
      "starting n4 bias correction for BraTS-MET-00205-000-t1c.nii.gz\n",
      "finished n4 bias correction for BraTS-MET-00205-000-t1c.nii.gz\n",
      "starting percentile correction for BraTS-MET-00205-000-t1c.nii.gz\n"
     ]
    },
    {
     "name": "stderr",
     "output_type": "stream",
     "text": [
      " 53%|█████▎    | 104/195 [2:13:19<2:47:37, 110.52s/it]"
     ]
    },
    {
     "name": "stdout",
     "output_type": "stream",
     "text": [
      "finished percentile normalization for BraTS-MET-00205-000-t1c.nii.gz\n",
      "currently normalizing patient BraTS-MET-00211-000\n",
      "starting n4 bias correction for BraTS-MET-00211-000-t1n.nii.gz\n",
      "finished n4 bias correction for BraTS-MET-00211-000-t1n.nii.gz\n",
      "starting percentile correction for BraTS-MET-00211-000-t1n.nii.gz\n",
      "finished percentile normalization for BraTS-MET-00211-000-t1n.nii.gz\n",
      "starting n4 bias correction for BraTS-MET-00211-000-t2f.nii.gz\n",
      "finished n4 bias correction for BraTS-MET-00211-000-t2f.nii.gz\n",
      "starting percentile correction for BraTS-MET-00211-000-t2f.nii.gz\n",
      "finished percentile normalization for BraTS-MET-00211-000-t2f.nii.gz\n",
      "starting n4 bias correction for BraTS-MET-00211-000-t2w.nii.gz\n",
      "finished n4 bias correction for BraTS-MET-00211-000-t2w.nii.gz\n",
      "starting percentile correction for BraTS-MET-00211-000-t2w.nii.gz\n",
      "finished percentile normalization for BraTS-MET-00211-000-t2w.nii.gz\n",
      "starting n4 bias correction for BraTS-MET-00211-000-t1c.nii.gz\n",
      "finished n4 bias correction for BraTS-MET-00211-000-t1c.nii.gz\n",
      "starting percentile correction for BraTS-MET-00211-000-t1c.nii.gz\n"
     ]
    },
    {
     "name": "stderr",
     "output_type": "stream",
     "text": [
      " 54%|█████▍    | 105/195 [2:14:37<2:31:21, 100.90s/it]"
     ]
    },
    {
     "name": "stdout",
     "output_type": "stream",
     "text": [
      "finished percentile normalization for BraTS-MET-00211-000-t1c.nii.gz\n",
      "currently normalizing patient BraTS-MET-00198-000\n",
      "starting n4 bias correction for BraTS-MET-00198-000-t1c.nii.gz\n",
      "finished n4 bias correction for BraTS-MET-00198-000-t1c.nii.gz\n",
      "starting percentile correction for BraTS-MET-00198-000-t1c.nii.gz\n",
      "finished percentile normalization for BraTS-MET-00198-000-t1c.nii.gz\n",
      "starting n4 bias correction for BraTS-MET-00198-000-t2w.nii.gz\n",
      "finished n4 bias correction for BraTS-MET-00198-000-t2w.nii.gz\n",
      "starting percentile correction for BraTS-MET-00198-000-t2w.nii.gz\n",
      "finished percentile normalization for BraTS-MET-00198-000-t2w.nii.gz\n",
      "starting n4 bias correction for BraTS-MET-00198-000-t1n.nii.gz\n",
      "finished n4 bias correction for BraTS-MET-00198-000-t1n.nii.gz\n",
      "starting percentile correction for BraTS-MET-00198-000-t1n.nii.gz\n",
      "finished percentile normalization for BraTS-MET-00198-000-t1n.nii.gz\n",
      "starting n4 bias correction for BraTS-MET-00198-000-t2f.nii.gz\n",
      "finished n4 bias correction for BraTS-MET-00198-000-t2f.nii.gz\n",
      "starting percentile correction for BraTS-MET-00198-000-t2f.nii.gz\n"
     ]
    },
    {
     "name": "stderr",
     "output_type": "stream",
     "text": [
      " 54%|█████▍    | 106/195 [2:16:19<2:29:49, 101.00s/it]"
     ]
    },
    {
     "name": "stdout",
     "output_type": "stream",
     "text": [
      "finished percentile normalization for BraTS-MET-00198-000-t2f.nii.gz\n",
      "currently normalizing patient BraTS-MET-00173-000\n",
      "starting n4 bias correction for BraTS-MET-00173-000-t1c.nii.gz\n",
      "finished n4 bias correction for BraTS-MET-00173-000-t1c.nii.gz\n",
      "starting percentile correction for BraTS-MET-00173-000-t1c.nii.gz\n",
      "finished percentile normalization for BraTS-MET-00173-000-t1c.nii.gz\n",
      "starting n4 bias correction for BraTS-MET-00173-000-t2w.nii.gz\n",
      "finished n4 bias correction for BraTS-MET-00173-000-t2w.nii.gz\n",
      "starting percentile correction for BraTS-MET-00173-000-t2w.nii.gz\n",
      "finished percentile normalization for BraTS-MET-00173-000-t2w.nii.gz\n",
      "starting n4 bias correction for BraTS-MET-00173-000-t2f.nii.gz\n",
      "finished n4 bias correction for BraTS-MET-00173-000-t2f.nii.gz\n",
      "starting percentile correction for BraTS-MET-00173-000-t2f.nii.gz\n",
      "finished percentile normalization for BraTS-MET-00173-000-t2f.nii.gz\n",
      "starting n4 bias correction for BraTS-MET-00173-000-t1n.nii.gz\n",
      "finished n4 bias correction for BraTS-MET-00173-000-t1n.nii.gz\n",
      "starting percentile correction for BraTS-MET-00173-000-t1n.nii.gz\n"
     ]
    },
    {
     "name": "stderr",
     "output_type": "stream",
     "text": [
      " 55%|█████▍    | 107/195 [2:17:06<2:04:42, 85.03s/it] "
     ]
    },
    {
     "name": "stdout",
     "output_type": "stream",
     "text": [
      "finished percentile normalization for BraTS-MET-00173-000-t1n.nii.gz\n",
      "currently normalizing patient BraTS-MET-00167-000\n",
      "starting n4 bias correction for BraTS-MET-00167-000-t1c.nii.gz\n",
      "finished n4 bias correction for BraTS-MET-00167-000-t1c.nii.gz\n",
      "starting percentile correction for BraTS-MET-00167-000-t1c.nii.gz\n",
      "finished percentile normalization for BraTS-MET-00167-000-t1c.nii.gz\n",
      "starting n4 bias correction for BraTS-MET-00167-000-t2w.nii.gz\n",
      "finished n4 bias correction for BraTS-MET-00167-000-t2w.nii.gz\n",
      "starting percentile correction for BraTS-MET-00167-000-t2w.nii.gz\n",
      "Percentile normalization failed. Upper value: 0.9999999404549599, lower value: 0.0\n",
      "finished percentile normalization for BraTS-MET-00167-000-t2w.nii.gz\n",
      "starting n4 bias correction for BraTS-MET-00167-000-t1n.nii.gz\n",
      "finished n4 bias correction for BraTS-MET-00167-000-t1n.nii.gz\n",
      "starting percentile correction for BraTS-MET-00167-000-t1n.nii.gz\n",
      "finished percentile normalization for BraTS-MET-00167-000-t1n.nii.gz\n",
      "starting n4 bias correction for BraTS-MET-00167-000-t2f.nii.gz\n",
      "finished n4 bias correction for BraTS-MET-00167-000-t2f.nii.gz\n",
      "starting percentile correction for BraTS-MET-00167-000-t2f.nii.gz\n"
     ]
    },
    {
     "name": "stderr",
     "output_type": "stream",
     "text": [
      " 55%|█████▌    | 108/195 [2:18:48<2:10:31, 90.02s/it]"
     ]
    },
    {
     "name": "stdout",
     "output_type": "stream",
     "text": [
      "finished percentile normalization for BraTS-MET-00167-000-t2f.nii.gz\n",
      "currently normalizing patient BraTS-MET-00166-000\n",
      "starting n4 bias correction for BraTS-MET-00166-000-t1c.nii.gz\n",
      "finished n4 bias correction for BraTS-MET-00166-000-t1c.nii.gz\n",
      "starting percentile correction for BraTS-MET-00166-000-t1c.nii.gz\n",
      "finished percentile normalization for BraTS-MET-00166-000-t1c.nii.gz\n",
      "starting n4 bias correction for BraTS-MET-00166-000-t2w.nii.gz\n",
      "finished n4 bias correction for BraTS-MET-00166-000-t2w.nii.gz\n",
      "starting percentile correction for BraTS-MET-00166-000-t2w.nii.gz\n",
      "finished percentile normalization for BraTS-MET-00166-000-t2w.nii.gz\n",
      "starting n4 bias correction for BraTS-MET-00166-000-t2f.nii.gz\n",
      "finished n4 bias correction for BraTS-MET-00166-000-t2f.nii.gz\n",
      "starting percentile correction for BraTS-MET-00166-000-t2f.nii.gz\n",
      "finished percentile normalization for BraTS-MET-00166-000-t2f.nii.gz\n",
      "starting n4 bias correction for BraTS-MET-00166-000-t1n.nii.gz\n",
      "finished n4 bias correction for BraTS-MET-00166-000-t1n.nii.gz\n",
      "starting percentile correction for BraTS-MET-00166-000-t1n.nii.gz\n"
     ]
    },
    {
     "name": "stderr",
     "output_type": "stream",
     "text": [
      " 56%|█████▌    | 109/195 [2:19:42<1:53:34, 79.24s/it]"
     ]
    },
    {
     "name": "stdout",
     "output_type": "stream",
     "text": [
      "finished percentile normalization for BraTS-MET-00166-000-t1n.nii.gz\n",
      "currently normalizing patient BraTS-MET-00172-000\n",
      "starting n4 bias correction for BraTS-MET-00172-000-t1c.nii.gz\n",
      "finished n4 bias correction for BraTS-MET-00172-000-t1c.nii.gz\n",
      "starting percentile correction for BraTS-MET-00172-000-t1c.nii.gz\n",
      "Percentile normalization failed. Upper value: 0.9999999404549599, lower value: 0.0\n",
      "finished percentile normalization for BraTS-MET-00172-000-t1c.nii.gz\n",
      "starting n4 bias correction for BraTS-MET-00172-000-t2w.nii.gz\n",
      "finished n4 bias correction for BraTS-MET-00172-000-t2w.nii.gz\n",
      "starting percentile correction for BraTS-MET-00172-000-t2w.nii.gz\n",
      "finished percentile normalization for BraTS-MET-00172-000-t2w.nii.gz\n",
      "starting n4 bias correction for BraTS-MET-00172-000-t1n.nii.gz\n",
      "finished n4 bias correction for BraTS-MET-00172-000-t1n.nii.gz\n",
      "starting percentile correction for BraTS-MET-00172-000-t1n.nii.gz\n",
      "finished percentile normalization for BraTS-MET-00172-000-t1n.nii.gz\n",
      "starting n4 bias correction for BraTS-MET-00172-000-t2f.nii.gz\n",
      "finished n4 bias correction for BraTS-MET-00172-000-t2f.nii.gz\n",
      "starting percentile correction for BraTS-MET-00172-000-t2f.nii.gz\n"
     ]
    },
    {
     "name": "stderr",
     "output_type": "stream",
     "text": [
      " 56%|█████▋    | 110/195 [2:20:37<1:42:01, 72.02s/it]"
     ]
    },
    {
     "name": "stdout",
     "output_type": "stream",
     "text": [
      "finished percentile normalization for BraTS-MET-00172-000-t2f.nii.gz\n",
      "currently normalizing patient BraTS-MET-00199-000\n",
      "starting n4 bias correction for BraTS-MET-00199-000-t1c.nii.gz\n",
      "finished n4 bias correction for BraTS-MET-00199-000-t1c.nii.gz\n",
      "starting percentile correction for BraTS-MET-00199-000-t1c.nii.gz\n",
      "finished percentile normalization for BraTS-MET-00199-000-t1c.nii.gz\n",
      "starting n4 bias correction for BraTS-MET-00199-000-t2w.nii.gz\n",
      "finished n4 bias correction for BraTS-MET-00199-000-t2w.nii.gz\n",
      "starting percentile correction for BraTS-MET-00199-000-t2w.nii.gz\n",
      "finished percentile normalization for BraTS-MET-00199-000-t2w.nii.gz\n",
      "starting n4 bias correction for BraTS-MET-00199-000-t2f.nii.gz\n",
      "finished n4 bias correction for BraTS-MET-00199-000-t2f.nii.gz\n",
      "starting percentile correction for BraTS-MET-00199-000-t2f.nii.gz\n",
      "finished percentile normalization for BraTS-MET-00199-000-t2f.nii.gz\n",
      "starting n4 bias correction for BraTS-MET-00199-000-t1n.nii.gz\n",
      "finished n4 bias correction for BraTS-MET-00199-000-t1n.nii.gz\n",
      "starting percentile correction for BraTS-MET-00199-000-t1n.nii.gz\n"
     ]
    },
    {
     "name": "stderr",
     "output_type": "stream",
     "text": [
      " 57%|█████▋    | 111/195 [2:21:33<1:33:55, 67.09s/it]"
     ]
    },
    {
     "name": "stdout",
     "output_type": "stream",
     "text": [
      "finished percentile normalization for BraTS-MET-00199-000-t1n.nii.gz\n",
      "currently normalizing patient BraTS-MET-00210-000\n",
      "starting n4 bias correction for BraTS-MET-00210-000-t2f.nii.gz\n",
      "finished n4 bias correction for BraTS-MET-00210-000-t2f.nii.gz\n",
      "starting percentile correction for BraTS-MET-00210-000-t2f.nii.gz\n",
      "finished percentile normalization for BraTS-MET-00210-000-t2f.nii.gz\n",
      "starting n4 bias correction for BraTS-MET-00210-000-t1n.nii.gz\n",
      "finished n4 bias correction for BraTS-MET-00210-000-t1n.nii.gz\n",
      "starting percentile correction for BraTS-MET-00210-000-t1n.nii.gz\n",
      "finished percentile normalization for BraTS-MET-00210-000-t1n.nii.gz\n",
      "starting n4 bias correction for BraTS-MET-00210-000-t2w.nii.gz\n",
      "finished n4 bias correction for BraTS-MET-00210-000-t2w.nii.gz\n",
      "starting percentile correction for BraTS-MET-00210-000-t2w.nii.gz\n",
      "finished percentile normalization for BraTS-MET-00210-000-t2w.nii.gz\n",
      "starting n4 bias correction for BraTS-MET-00210-000-t1c.nii.gz\n",
      "finished n4 bias correction for BraTS-MET-00210-000-t1c.nii.gz\n",
      "starting percentile correction for BraTS-MET-00210-000-t1c.nii.gz\n"
     ]
    },
    {
     "name": "stderr",
     "output_type": "stream",
     "text": [
      " 57%|█████▋    | 112/195 [2:23:03<1:42:26, 74.06s/it]"
     ]
    },
    {
     "name": "stdout",
     "output_type": "stream",
     "text": [
      "finished percentile normalization for BraTS-MET-00210-000-t1c.nii.gz\n",
      "currently normalizing patient BraTS-MET-00204-000\n",
      "starting n4 bias correction for BraTS-MET-00204-000-t1n.nii.gz\n",
      "finished n4 bias correction for BraTS-MET-00204-000-t1n.nii.gz\n",
      "starting percentile correction for BraTS-MET-00204-000-t1n.nii.gz\n",
      "finished percentile normalization for BraTS-MET-00204-000-t1n.nii.gz\n",
      "starting n4 bias correction for BraTS-MET-00204-000-t2f.nii.gz\n",
      "finished n4 bias correction for BraTS-MET-00204-000-t2f.nii.gz\n",
      "starting percentile correction for BraTS-MET-00204-000-t2f.nii.gz\n",
      "finished percentile normalization for BraTS-MET-00204-000-t2f.nii.gz\n",
      "starting n4 bias correction for BraTS-MET-00204-000-t2w.nii.gz\n",
      "finished n4 bias correction for BraTS-MET-00204-000-t2w.nii.gz\n",
      "starting percentile correction for BraTS-MET-00204-000-t2w.nii.gz\n",
      "finished percentile normalization for BraTS-MET-00204-000-t2w.nii.gz\n",
      "starting n4 bias correction for BraTS-MET-00204-000-t1c.nii.gz\n",
      "finished n4 bias correction for BraTS-MET-00204-000-t1c.nii.gz\n",
      "starting percentile correction for BraTS-MET-00204-000-t1c.nii.gz\n"
     ]
    },
    {
     "name": "stderr",
     "output_type": "stream",
     "text": [
      " 58%|█████▊    | 113/195 [2:23:58<1:33:24, 68.35s/it]"
     ]
    },
    {
     "name": "stdout",
     "output_type": "stream",
     "text": [
      "finished percentile normalization for BraTS-MET-00204-000-t1c.nii.gz\n",
      "currently normalizing patient BraTS-MET-00238-000\n",
      "starting n4 bias correction for BraTS-MET-00238-000-t1c.nii.gz\n",
      "finished n4 bias correction for BraTS-MET-00238-000-t1c.nii.gz\n",
      "starting percentile correction for BraTS-MET-00238-000-t1c.nii.gz\n",
      "Percentile normalization failed. Upper value: 0.9999998809099198, lower value: 0.0\n",
      "finished percentile normalization for BraTS-MET-00238-000-t1c.nii.gz\n",
      "starting n4 bias correction for BraTS-MET-00238-000-t2w.nii.gz\n",
      "finished n4 bias correction for BraTS-MET-00238-000-t2w.nii.gz\n",
      "starting percentile correction for BraTS-MET-00238-000-t2w.nii.gz\n",
      "finished percentile normalization for BraTS-MET-00238-000-t2w.nii.gz\n",
      "starting n4 bias correction for BraTS-MET-00238-000-t2f.nii.gz\n",
      "finished n4 bias correction for BraTS-MET-00238-000-t2f.nii.gz\n",
      "starting percentile correction for BraTS-MET-00238-000-t2f.nii.gz\n",
      "finished percentile normalization for BraTS-MET-00238-000-t2f.nii.gz\n",
      "starting n4 bias correction for BraTS-MET-00238-000-t1n.nii.gz\n",
      "finished n4 bias correction for BraTS-MET-00238-000-t1n.nii.gz\n",
      "starting percentile correction for BraTS-MET-00238-000-t1n.nii.gz\n"
     ]
    },
    {
     "name": "stderr",
     "output_type": "stream",
     "text": [
      " 58%|█████▊    | 114/195 [2:25:11<1:34:02, 69.66s/it]"
     ]
    },
    {
     "name": "stdout",
     "output_type": "stream",
     "text": [
      "finished percentile normalization for BraTS-MET-00238-000-t1n.nii.gz\n",
      "currently normalizing patient BraTS-MET-00212-000\n",
      "starting n4 bias correction for BraTS-MET-00212-000-t1n.nii.gz\n",
      "finished n4 bias correction for BraTS-MET-00212-000-t1n.nii.gz\n",
      "starting percentile correction for BraTS-MET-00212-000-t1n.nii.gz\n",
      "finished percentile normalization for BraTS-MET-00212-000-t1n.nii.gz\n",
      "starting n4 bias correction for BraTS-MET-00212-000-t2f.nii.gz\n",
      "finished n4 bias correction for BraTS-MET-00212-000-t2f.nii.gz\n",
      "starting percentile correction for BraTS-MET-00212-000-t2f.nii.gz\n",
      "finished percentile normalization for BraTS-MET-00212-000-t2f.nii.gz\n",
      "starting n4 bias correction for BraTS-MET-00212-000-t1c.nii.gz\n",
      "finished n4 bias correction for BraTS-MET-00212-000-t1c.nii.gz\n",
      "starting percentile correction for BraTS-MET-00212-000-t1c.nii.gz\n",
      "finished percentile normalization for BraTS-MET-00212-000-t1c.nii.gz\n",
      "starting n4 bias correction for BraTS-MET-00212-000-t2w.nii.gz\n",
      "finished n4 bias correction for BraTS-MET-00212-000-t2w.nii.gz\n",
      "starting percentile correction for BraTS-MET-00212-000-t2w.nii.gz\n"
     ]
    },
    {
     "name": "stderr",
     "output_type": "stream",
     "text": [
      " 59%|█████▉    | 115/195 [2:26:42<1:41:21, 76.01s/it]"
     ]
    },
    {
     "name": "stdout",
     "output_type": "stream",
     "text": [
      "finished percentile normalization for BraTS-MET-00212-000-t2w.nii.gz\n",
      "currently normalizing patient BraTS-MET-00206-000\n",
      "starting n4 bias correction for BraTS-MET-00206-000-t2f.nii.gz\n",
      "finished n4 bias correction for BraTS-MET-00206-000-t2f.nii.gz\n",
      "starting percentile correction for BraTS-MET-00206-000-t2f.nii.gz\n",
      "finished percentile normalization for BraTS-MET-00206-000-t2f.nii.gz\n",
      "starting n4 bias correction for BraTS-MET-00206-000-t1n.nii.gz\n",
      "finished n4 bias correction for BraTS-MET-00206-000-t1n.nii.gz\n",
      "starting percentile correction for BraTS-MET-00206-000-t1n.nii.gz\n",
      "finished percentile normalization for BraTS-MET-00206-000-t1n.nii.gz\n",
      "starting n4 bias correction for BraTS-MET-00206-000-t1c.nii.gz\n",
      "finished n4 bias correction for BraTS-MET-00206-000-t1c.nii.gz\n",
      "starting percentile correction for BraTS-MET-00206-000-t1c.nii.gz\n",
      "finished percentile normalization for BraTS-MET-00206-000-t1c.nii.gz\n",
      "starting n4 bias correction for BraTS-MET-00206-000-t2w.nii.gz\n",
      "finished n4 bias correction for BraTS-MET-00206-000-t2w.nii.gz\n",
      "starting percentile correction for BraTS-MET-00206-000-t2w.nii.gz\n"
     ]
    },
    {
     "name": "stderr",
     "output_type": "stream",
     "text": [
      " 59%|█████▉    | 116/195 [2:27:58<1:40:06, 76.03s/it]"
     ]
    },
    {
     "name": "stdout",
     "output_type": "stream",
     "text": [
      "finished percentile normalization for BraTS-MET-00206-000-t2w.nii.gz\n",
      "currently normalizing patient BraTS-MET-00158-000\n",
      "starting n4 bias correction for BraTS-MET-00158-000-t2f.nii.gz\n",
      "finished n4 bias correction for BraTS-MET-00158-000-t2f.nii.gz\n",
      "starting percentile correction for BraTS-MET-00158-000-t2f.nii.gz\n",
      "finished percentile normalization for BraTS-MET-00158-000-t2f.nii.gz\n",
      "starting n4 bias correction for BraTS-MET-00158-000-t1n.nii.gz\n",
      "finished n4 bias correction for BraTS-MET-00158-000-t1n.nii.gz\n",
      "starting percentile correction for BraTS-MET-00158-000-t1n.nii.gz\n",
      "finished percentile normalization for BraTS-MET-00158-000-t1n.nii.gz\n",
      "starting n4 bias correction for BraTS-MET-00158-000-t1c.nii.gz\n",
      "finished n4 bias correction for BraTS-MET-00158-000-t1c.nii.gz\n",
      "starting percentile correction for BraTS-MET-00158-000-t1c.nii.gz\n",
      "finished percentile normalization for BraTS-MET-00158-000-t1c.nii.gz\n",
      "starting n4 bias correction for BraTS-MET-00158-000-t2w.nii.gz\n",
      "finished n4 bias correction for BraTS-MET-00158-000-t2w.nii.gz\n",
      "starting percentile correction for BraTS-MET-00158-000-t2w.nii.gz\n"
     ]
    },
    {
     "name": "stderr",
     "output_type": "stream",
     "text": [
      " 60%|██████    | 117/195 [2:29:13<1:38:32, 75.81s/it]"
     ]
    },
    {
     "name": "stdout",
     "output_type": "stream",
     "text": [
      "finished percentile normalization for BraTS-MET-00158-000-t2w.nii.gz\n",
      "currently normalizing patient BraTS-MET-00164-000\n",
      "starting n4 bias correction for BraTS-MET-00164-000-t2w.nii.gz\n",
      "finished n4 bias correction for BraTS-MET-00164-000-t2w.nii.gz\n",
      "starting percentile correction for BraTS-MET-00164-000-t2w.nii.gz\n",
      "finished percentile normalization for BraTS-MET-00164-000-t2w.nii.gz\n",
      "starting n4 bias correction for BraTS-MET-00164-000-t1c.nii.gz\n",
      "finished n4 bias correction for BraTS-MET-00164-000-t1c.nii.gz\n",
      "starting percentile correction for BraTS-MET-00164-000-t1c.nii.gz\n",
      "finished percentile normalization for BraTS-MET-00164-000-t1c.nii.gz\n",
      "starting n4 bias correction for BraTS-MET-00164-000-t1n.nii.gz\n",
      "finished n4 bias correction for BraTS-MET-00164-000-t1n.nii.gz\n",
      "starting percentile correction for BraTS-MET-00164-000-t1n.nii.gz\n",
      "finished percentile normalization for BraTS-MET-00164-000-t1n.nii.gz\n",
      "starting n4 bias correction for BraTS-MET-00164-000-t2f.nii.gz\n",
      "finished n4 bias correction for BraTS-MET-00164-000-t2f.nii.gz\n",
      "starting percentile correction for BraTS-MET-00164-000-t2f.nii.gz\n"
     ]
    },
    {
     "name": "stderr",
     "output_type": "stream",
     "text": [
      " 61%|██████    | 118/195 [2:30:40<1:41:39, 79.22s/it]"
     ]
    },
    {
     "name": "stdout",
     "output_type": "stream",
     "text": [
      "finished percentile normalization for BraTS-MET-00164-000-t2f.nii.gz\n",
      "currently normalizing patient BraTS-MET-00170-000\n",
      "starting n4 bias correction for BraTS-MET-00170-000-t2w.nii.gz\n",
      "finished n4 bias correction for BraTS-MET-00170-000-t2w.nii.gz\n",
      "starting percentile correction for BraTS-MET-00170-000-t2w.nii.gz\n",
      "finished percentile normalization for BraTS-MET-00170-000-t2w.nii.gz\n",
      "starting n4 bias correction for BraTS-MET-00170-000-t1c.nii.gz\n",
      "finished n4 bias correction for BraTS-MET-00170-000-t1c.nii.gz\n",
      "starting percentile correction for BraTS-MET-00170-000-t1c.nii.gz\n",
      "finished percentile normalization for BraTS-MET-00170-000-t1c.nii.gz\n",
      "starting n4 bias correction for BraTS-MET-00170-000-t2f.nii.gz\n",
      "finished n4 bias correction for BraTS-MET-00170-000-t2f.nii.gz\n",
      "starting percentile correction for BraTS-MET-00170-000-t2f.nii.gz\n",
      "finished percentile normalization for BraTS-MET-00170-000-t2f.nii.gz\n",
      "starting n4 bias correction for BraTS-MET-00170-000-t1n.nii.gz\n",
      "finished n4 bias correction for BraTS-MET-00170-000-t1n.nii.gz\n",
      "starting percentile correction for BraTS-MET-00170-000-t1n.nii.gz\n"
     ]
    },
    {
     "name": "stderr",
     "output_type": "stream",
     "text": [
      " 61%|██████    | 119/195 [2:31:45<1:34:48, 74.85s/it]"
     ]
    },
    {
     "name": "stdout",
     "output_type": "stream",
     "text": [
      "finished percentile normalization for BraTS-MET-00170-000-t1n.nii.gz\n",
      "currently normalizing patient BraTS-MET-00171-000\n",
      "starting n4 bias correction for BraTS-MET-00171-000-t2w.nii.gz\n",
      "finished n4 bias correction for BraTS-MET-00171-000-t2w.nii.gz\n",
      "starting percentile correction for BraTS-MET-00171-000-t2w.nii.gz\n",
      "finished percentile normalization for BraTS-MET-00171-000-t2w.nii.gz\n",
      "starting n4 bias correction for BraTS-MET-00171-000-t1c.nii.gz\n",
      "finished n4 bias correction for BraTS-MET-00171-000-t1c.nii.gz\n",
      "starting percentile correction for BraTS-MET-00171-000-t1c.nii.gz\n",
      "finished percentile normalization for BraTS-MET-00171-000-t1c.nii.gz\n",
      "starting n4 bias correction for BraTS-MET-00171-000-t1n.nii.gz\n",
      "finished n4 bias correction for BraTS-MET-00171-000-t1n.nii.gz\n",
      "starting percentile correction for BraTS-MET-00171-000-t1n.nii.gz\n",
      "finished percentile normalization for BraTS-MET-00171-000-t1n.nii.gz\n",
      "starting n4 bias correction for BraTS-MET-00171-000-t2f.nii.gz\n",
      "finished n4 bias correction for BraTS-MET-00171-000-t2f.nii.gz\n",
      "starting percentile correction for BraTS-MET-00171-000-t2f.nii.gz\n"
     ]
    },
    {
     "name": "stderr",
     "output_type": "stream",
     "text": [
      " 62%|██████▏   | 120/195 [2:33:12<1:38:04, 78.46s/it]"
     ]
    },
    {
     "name": "stdout",
     "output_type": "stream",
     "text": [
      "finished percentile normalization for BraTS-MET-00171-000-t2f.nii.gz\n",
      "currently normalizing patient BraTS-MET-00165-000\n",
      "starting n4 bias correction for BraTS-MET-00165-000-t2w.nii.gz\n",
      "finished n4 bias correction for BraTS-MET-00165-000-t2w.nii.gz\n",
      "starting percentile correction for BraTS-MET-00165-000-t2w.nii.gz\n",
      "finished percentile normalization for BraTS-MET-00165-000-t2w.nii.gz\n",
      "starting n4 bias correction for BraTS-MET-00165-000-t1c.nii.gz\n",
      "finished n4 bias correction for BraTS-MET-00165-000-t1c.nii.gz\n",
      "starting percentile correction for BraTS-MET-00165-000-t1c.nii.gz\n",
      "finished percentile normalization for BraTS-MET-00165-000-t1c.nii.gz\n",
      "starting n4 bias correction for BraTS-MET-00165-000-t2f.nii.gz\n",
      "finished n4 bias correction for BraTS-MET-00165-000-t2f.nii.gz\n",
      "starting percentile correction for BraTS-MET-00165-000-t2f.nii.gz\n",
      "Percentile normalization failed. Upper value: 0.9999998809099198, lower value: 0.0\n",
      "finished percentile normalization for BraTS-MET-00165-000-t2f.nii.gz\n",
      "starting n4 bias correction for BraTS-MET-00165-000-t1n.nii.gz\n",
      "finished n4 bias correction for BraTS-MET-00165-000-t1n.nii.gz\n",
      "starting percentile correction for BraTS-MET-00165-000-t1n.nii.gz\n"
     ]
    },
    {
     "name": "stderr",
     "output_type": "stream",
     "text": [
      " 62%|██████▏   | 121/195 [2:34:16<1:31:17, 74.02s/it]"
     ]
    },
    {
     "name": "stdout",
     "output_type": "stream",
     "text": [
      "finished percentile normalization for BraTS-MET-00165-000-t1n.nii.gz\n",
      "currently normalizing patient BraTS-MET-00159-000\n",
      "starting n4 bias correction for BraTS-MET-00159-000-t1n.nii.gz\n",
      "finished n4 bias correction for BraTS-MET-00159-000-t1n.nii.gz\n",
      "starting percentile correction for BraTS-MET-00159-000-t1n.nii.gz\n",
      "finished percentile normalization for BraTS-MET-00159-000-t1n.nii.gz\n",
      "starting n4 bias correction for BraTS-MET-00159-000-t2f.nii.gz\n",
      "finished n4 bias correction for BraTS-MET-00159-000-t2f.nii.gz\n",
      "starting percentile correction for BraTS-MET-00159-000-t2f.nii.gz\n",
      "finished percentile normalization for BraTS-MET-00159-000-t2f.nii.gz\n",
      "starting n4 bias correction for BraTS-MET-00159-000-t1c.nii.gz\n",
      "finished n4 bias correction for BraTS-MET-00159-000-t1c.nii.gz\n",
      "starting percentile correction for BraTS-MET-00159-000-t1c.nii.gz\n",
      "finished percentile normalization for BraTS-MET-00159-000-t1c.nii.gz\n",
      "starting n4 bias correction for BraTS-MET-00159-000-t2w.nii.gz\n",
      "finished n4 bias correction for BraTS-MET-00159-000-t2w.nii.gz\n",
      "starting percentile correction for BraTS-MET-00159-000-t2w.nii.gz\n"
     ]
    },
    {
     "name": "stderr",
     "output_type": "stream",
     "text": [
      " 63%|██████▎   | 122/195 [2:36:15<1:46:41, 87.69s/it]"
     ]
    },
    {
     "name": "stdout",
     "output_type": "stream",
     "text": [
      "finished percentile normalization for BraTS-MET-00159-000-t2w.nii.gz\n",
      "currently normalizing patient BraTS-MET-00207-000\n",
      "starting n4 bias correction for BraTS-MET-00207-000-t1n.nii.gz\n",
      "finished n4 bias correction for BraTS-MET-00207-000-t1n.nii.gz\n",
      "starting percentile correction for BraTS-MET-00207-000-t1n.nii.gz\n",
      "finished percentile normalization for BraTS-MET-00207-000-t1n.nii.gz\n",
      "starting n4 bias correction for BraTS-MET-00207-000-t2f.nii.gz\n",
      "finished n4 bias correction for BraTS-MET-00207-000-t2f.nii.gz\n",
      "starting percentile correction for BraTS-MET-00207-000-t2f.nii.gz\n",
      "finished percentile normalization for BraTS-MET-00207-000-t2f.nii.gz\n",
      "starting n4 bias correction for BraTS-MET-00207-000-t1c.nii.gz\n",
      "finished n4 bias correction for BraTS-MET-00207-000-t1c.nii.gz\n",
      "starting percentile correction for BraTS-MET-00207-000-t1c.nii.gz\n",
      "finished percentile normalization for BraTS-MET-00207-000-t1c.nii.gz\n",
      "starting n4 bias correction for BraTS-MET-00207-000-t2w.nii.gz\n",
      "finished n4 bias correction for BraTS-MET-00207-000-t2w.nii.gz\n",
      "starting percentile correction for BraTS-MET-00207-000-t2w.nii.gz\n"
     ]
    },
    {
     "name": "stderr",
     "output_type": "stream",
     "text": [
      " 63%|██████▎   | 123/195 [2:37:23<1:38:11, 81.82s/it]"
     ]
    },
    {
     "name": "stdout",
     "output_type": "stream",
     "text": [
      "finished percentile normalization for BraTS-MET-00207-000-t2w.nii.gz\n",
      "currently normalizing patient BraTS-MET-00213-000\n",
      "starting n4 bias correction for BraTS-MET-00213-000-t2f.nii.gz\n",
      "finished n4 bias correction for BraTS-MET-00213-000-t2f.nii.gz\n",
      "starting percentile correction for BraTS-MET-00213-000-t2f.nii.gz\n",
      "finished percentile normalization for BraTS-MET-00213-000-t2f.nii.gz\n",
      "starting n4 bias correction for BraTS-MET-00213-000-t1n.nii.gz\n",
      "finished n4 bias correction for BraTS-MET-00213-000-t1n.nii.gz\n",
      "starting percentile correction for BraTS-MET-00213-000-t1n.nii.gz\n",
      "finished percentile normalization for BraTS-MET-00213-000-t1n.nii.gz\n",
      "starting n4 bias correction for BraTS-MET-00213-000-t1c.nii.gz\n",
      "finished n4 bias correction for BraTS-MET-00213-000-t1c.nii.gz\n",
      "starting percentile correction for BraTS-MET-00213-000-t1c.nii.gz\n",
      "finished percentile normalization for BraTS-MET-00213-000-t1c.nii.gz\n",
      "starting n4 bias correction for BraTS-MET-00213-000-t2w.nii.gz\n",
      "finished n4 bias correction for BraTS-MET-00213-000-t2w.nii.gz\n",
      "starting percentile correction for BraTS-MET-00213-000-t2w.nii.gz\n"
     ]
    },
    {
     "name": "stderr",
     "output_type": "stream",
     "text": [
      " 64%|██████▎   | 124/195 [2:38:45<1:36:51, 81.86s/it]"
     ]
    },
    {
     "name": "stdout",
     "output_type": "stream",
     "text": [
      "finished percentile normalization for BraTS-MET-00213-000-t2w.nii.gz\n",
      "currently normalizing patient BraTS-MET-00217-000\n",
      "starting n4 bias correction for BraTS-MET-00217-000-t2f.nii.gz\n",
      "finished n4 bias correction for BraTS-MET-00217-000-t2f.nii.gz\n",
      "starting percentile correction for BraTS-MET-00217-000-t2f.nii.gz\n",
      "finished percentile normalization for BraTS-MET-00217-000-t2f.nii.gz\n",
      "starting n4 bias correction for BraTS-MET-00217-000-t1n.nii.gz\n",
      "finished n4 bias correction for BraTS-MET-00217-000-t1n.nii.gz\n",
      "starting percentile correction for BraTS-MET-00217-000-t1n.nii.gz\n",
      "finished percentile normalization for BraTS-MET-00217-000-t1n.nii.gz\n",
      "starting n4 bias correction for BraTS-MET-00217-000-t2w.nii.gz\n",
      "finished n4 bias correction for BraTS-MET-00217-000-t2w.nii.gz\n",
      "starting percentile correction for BraTS-MET-00217-000-t2w.nii.gz\n",
      "finished percentile normalization for BraTS-MET-00217-000-t2w.nii.gz\n",
      "starting n4 bias correction for BraTS-MET-00217-000-t1c.nii.gz\n",
      "finished n4 bias correction for BraTS-MET-00217-000-t1c.nii.gz\n",
      "starting percentile correction for BraTS-MET-00217-000-t1c.nii.gz\n"
     ]
    },
    {
     "name": "stderr",
     "output_type": "stream",
     "text": [
      " 64%|██████▍   | 125/195 [2:40:43<1:48:02, 92.60s/it]"
     ]
    },
    {
     "name": "stdout",
     "output_type": "stream",
     "text": [
      "finished percentile normalization for BraTS-MET-00217-000-t1c.nii.gz\n",
      "currently normalizing patient BraTS-MET-00203-000\n",
      "starting n4 bias correction for BraTS-MET-00203-000-t1n.nii.gz\n",
      "finished n4 bias correction for BraTS-MET-00203-000-t1n.nii.gz\n",
      "starting percentile correction for BraTS-MET-00203-000-t1n.nii.gz\n",
      "finished percentile normalization for BraTS-MET-00203-000-t1n.nii.gz\n",
      "starting n4 bias correction for BraTS-MET-00203-000-t2f.nii.gz\n",
      "finished n4 bias correction for BraTS-MET-00203-000-t2f.nii.gz\n",
      "starting percentile correction for BraTS-MET-00203-000-t2f.nii.gz\n",
      "finished percentile normalization for BraTS-MET-00203-000-t2f.nii.gz\n",
      "starting n4 bias correction for BraTS-MET-00203-000-t2w.nii.gz\n",
      "finished n4 bias correction for BraTS-MET-00203-000-t2w.nii.gz\n",
      "starting percentile correction for BraTS-MET-00203-000-t2w.nii.gz\n",
      "finished percentile normalization for BraTS-MET-00203-000-t2w.nii.gz\n",
      "starting n4 bias correction for BraTS-MET-00203-000-t1c.nii.gz\n",
      "finished n4 bias correction for BraTS-MET-00203-000-t1c.nii.gz\n",
      "starting percentile correction for BraTS-MET-00203-000-t1c.nii.gz\n"
     ]
    },
    {
     "name": "stderr",
     "output_type": "stream",
     "text": [
      " 65%|██████▍   | 126/195 [2:41:53<1:38:40, 85.80s/it]"
     ]
    },
    {
     "name": "stdout",
     "output_type": "stream",
     "text": [
      "finished percentile normalization for BraTS-MET-00203-000-t1c.nii.gz\n",
      "currently normalizing patient BraTS-MET-00161-000\n",
      "starting n4 bias correction for BraTS-MET-00161-000-t1c.nii.gz\n",
      "finished n4 bias correction for BraTS-MET-00161-000-t1c.nii.gz\n",
      "starting percentile correction for BraTS-MET-00161-000-t1c.nii.gz\n",
      "finished percentile normalization for BraTS-MET-00161-000-t1c.nii.gz\n",
      "starting n4 bias correction for BraTS-MET-00161-000-t2w.nii.gz\n",
      "finished n4 bias correction for BraTS-MET-00161-000-t2w.nii.gz\n",
      "starting percentile correction for BraTS-MET-00161-000-t2w.nii.gz\n",
      "finished percentile normalization for BraTS-MET-00161-000-t2w.nii.gz\n",
      "starting n4 bias correction for BraTS-MET-00161-000-t2f.nii.gz\n",
      "finished n4 bias correction for BraTS-MET-00161-000-t2f.nii.gz\n",
      "starting percentile correction for BraTS-MET-00161-000-t2f.nii.gz\n",
      "finished percentile normalization for BraTS-MET-00161-000-t2f.nii.gz\n",
      "starting n4 bias correction for BraTS-MET-00161-000-t1n.nii.gz\n",
      "finished n4 bias correction for BraTS-MET-00161-000-t1n.nii.gz\n",
      "starting percentile correction for BraTS-MET-00161-000-t1n.nii.gz\n"
     ]
    },
    {
     "name": "stderr",
     "output_type": "stream",
     "text": [
      " 65%|██████▌   | 127/195 [2:43:11<1:34:33, 83.43s/it]"
     ]
    },
    {
     "name": "stdout",
     "output_type": "stream",
     "text": [
      "finished percentile normalization for BraTS-MET-00161-000-t1n.nii.gz\n",
      "currently normalizing patient BraTS-MET-00175-000\n",
      "starting n4 bias correction for BraTS-MET-00175-000-t1c.nii.gz\n",
      "finished n4 bias correction for BraTS-MET-00175-000-t1c.nii.gz\n",
      "starting percentile correction for BraTS-MET-00175-000-t1c.nii.gz\n",
      "Percentile normalization failed. Upper value: 0.9999999404549599, lower value: 0.0\n",
      "finished percentile normalization for BraTS-MET-00175-000-t1c.nii.gz\n",
      "starting n4 bias correction for BraTS-MET-00175-000-t2w.nii.gz\n",
      "finished n4 bias correction for BraTS-MET-00175-000-t2w.nii.gz\n",
      "starting percentile correction for BraTS-MET-00175-000-t2w.nii.gz\n",
      "finished percentile normalization for BraTS-MET-00175-000-t2w.nii.gz\n",
      "starting n4 bias correction for BraTS-MET-00175-000-t1n.nii.gz\n",
      "finished n4 bias correction for BraTS-MET-00175-000-t1n.nii.gz\n",
      "starting percentile correction for BraTS-MET-00175-000-t1n.nii.gz\n",
      "finished percentile normalization for BraTS-MET-00175-000-t1n.nii.gz\n",
      "starting n4 bias correction for BraTS-MET-00175-000-t2f.nii.gz\n",
      "finished n4 bias correction for BraTS-MET-00175-000-t2f.nii.gz\n",
      "starting percentile correction for BraTS-MET-00175-000-t2f.nii.gz\n"
     ]
    },
    {
     "name": "stderr",
     "output_type": "stream",
     "text": [
      " 66%|██████▌   | 128/195 [2:44:31<1:32:04, 82.46s/it]"
     ]
    },
    {
     "name": "stdout",
     "output_type": "stream",
     "text": [
      "finished percentile normalization for BraTS-MET-00175-000-t2f.nii.gz\n",
      "currently normalizing patient BraTS-MET-00149-000\n",
      "starting n4 bias correction for BraTS-MET-00149-000-t2f.nii.gz\n",
      "finished n4 bias correction for BraTS-MET-00149-000-t2f.nii.gz\n",
      "starting percentile correction for BraTS-MET-00149-000-t2f.nii.gz\n",
      "finished percentile normalization for BraTS-MET-00149-000-t2f.nii.gz\n",
      "starting n4 bias correction for BraTS-MET-00149-000-t1n.nii.gz\n",
      "finished n4 bias correction for BraTS-MET-00149-000-t1n.nii.gz\n",
      "starting percentile correction for BraTS-MET-00149-000-t1n.nii.gz\n",
      "finished percentile normalization for BraTS-MET-00149-000-t1n.nii.gz\n",
      "starting n4 bias correction for BraTS-MET-00149-000-t2w.nii.gz\n",
      "finished n4 bias correction for BraTS-MET-00149-000-t2w.nii.gz\n",
      "starting percentile correction for BraTS-MET-00149-000-t2w.nii.gz\n",
      "finished percentile normalization for BraTS-MET-00149-000-t2w.nii.gz\n",
      "starting n4 bias correction for BraTS-MET-00149-000-t1c.nii.gz\n",
      "finished n4 bias correction for BraTS-MET-00149-000-t1c.nii.gz\n",
      "starting percentile correction for BraTS-MET-00149-000-t1c.nii.gz\n"
     ]
    },
    {
     "name": "stderr",
     "output_type": "stream",
     "text": [
      " 66%|██████▌   | 129/195 [2:45:41<1:26:36, 78.74s/it]"
     ]
    },
    {
     "name": "stdout",
     "output_type": "stream",
     "text": [
      "finished percentile normalization for BraTS-MET-00149-000-t1c.nii.gz\n",
      "currently normalizing patient BraTS-MET-00148-000\n",
      "starting n4 bias correction for BraTS-MET-00148-000-t1n.nii.gz\n",
      "finished n4 bias correction for BraTS-MET-00148-000-t1n.nii.gz\n",
      "starting percentile correction for BraTS-MET-00148-000-t1n.nii.gz\n",
      "finished percentile normalization for BraTS-MET-00148-000-t1n.nii.gz\n",
      "starting n4 bias correction for BraTS-MET-00148-000-t2f.nii.gz\n",
      "finished n4 bias correction for BraTS-MET-00148-000-t2f.nii.gz\n",
      "starting percentile correction for BraTS-MET-00148-000-t2f.nii.gz\n",
      "finished percentile normalization for BraTS-MET-00148-000-t2f.nii.gz\n",
      "starting n4 bias correction for BraTS-MET-00148-000-t2w.nii.gz\n",
      "finished n4 bias correction for BraTS-MET-00148-000-t2w.nii.gz\n",
      "starting percentile correction for BraTS-MET-00148-000-t2w.nii.gz\n",
      "finished percentile normalization for BraTS-MET-00148-000-t2w.nii.gz\n",
      "starting n4 bias correction for BraTS-MET-00148-000-t1c.nii.gz\n",
      "finished n4 bias correction for BraTS-MET-00148-000-t1c.nii.gz\n",
      "starting percentile correction for BraTS-MET-00148-000-t1c.nii.gz\n"
     ]
    },
    {
     "name": "stderr",
     "output_type": "stream",
     "text": [
      " 67%|██████▋   | 130/195 [2:46:59<1:25:06, 78.56s/it]"
     ]
    },
    {
     "name": "stdout",
     "output_type": "stream",
     "text": [
      "finished percentile normalization for BraTS-MET-00148-000-t1c.nii.gz\n",
      "currently normalizing patient BraTS-MET-00174-000\n",
      "starting n4 bias correction for BraTS-MET-00174-000-t1c.nii.gz\n",
      "finished n4 bias correction for BraTS-MET-00174-000-t1c.nii.gz\n",
      "starting percentile correction for BraTS-MET-00174-000-t1c.nii.gz\n",
      "finished percentile normalization for BraTS-MET-00174-000-t1c.nii.gz\n",
      "starting n4 bias correction for BraTS-MET-00174-000-t2w.nii.gz\n",
      "finished n4 bias correction for BraTS-MET-00174-000-t2w.nii.gz\n",
      "starting percentile correction for BraTS-MET-00174-000-t2w.nii.gz\n",
      "finished percentile normalization for BraTS-MET-00174-000-t2w.nii.gz\n",
      "starting n4 bias correction for BraTS-MET-00174-000-t2f.nii.gz\n",
      "finished n4 bias correction for BraTS-MET-00174-000-t2f.nii.gz\n",
      "starting percentile correction for BraTS-MET-00174-000-t2f.nii.gz\n",
      "finished percentile normalization for BraTS-MET-00174-000-t2f.nii.gz\n",
      "starting n4 bias correction for BraTS-MET-00174-000-t1n.nii.gz\n",
      "finished n4 bias correction for BraTS-MET-00174-000-t1n.nii.gz\n",
      "starting percentile correction for BraTS-MET-00174-000-t1n.nii.gz\n"
     ]
    },
    {
     "name": "stderr",
     "output_type": "stream",
     "text": [
      " 67%|██████▋   | 131/195 [2:48:12<1:21:56, 76.81s/it]"
     ]
    },
    {
     "name": "stdout",
     "output_type": "stream",
     "text": [
      "finished percentile normalization for BraTS-MET-00174-000-t1n.nii.gz\n",
      "currently normalizing patient BraTS-MET-00160-000\n",
      "starting n4 bias correction for BraTS-MET-00160-000-t1c.nii.gz\n",
      "finished n4 bias correction for BraTS-MET-00160-000-t1c.nii.gz\n",
      "starting percentile correction for BraTS-MET-00160-000-t1c.nii.gz\n",
      "finished percentile normalization for BraTS-MET-00160-000-t1c.nii.gz\n",
      "starting n4 bias correction for BraTS-MET-00160-000-t2w.nii.gz\n",
      "finished n4 bias correction for BraTS-MET-00160-000-t2w.nii.gz\n",
      "starting percentile correction for BraTS-MET-00160-000-t2w.nii.gz\n",
      "finished percentile normalization for BraTS-MET-00160-000-t2w.nii.gz\n",
      "starting n4 bias correction for BraTS-MET-00160-000-t1n.nii.gz\n",
      "finished n4 bias correction for BraTS-MET-00160-000-t1n.nii.gz\n",
      "starting percentile correction for BraTS-MET-00160-000-t1n.nii.gz\n",
      "finished percentile normalization for BraTS-MET-00160-000-t1n.nii.gz\n",
      "starting n4 bias correction for BraTS-MET-00160-000-t2f.nii.gz\n",
      "finished n4 bias correction for BraTS-MET-00160-000-t2f.nii.gz\n",
      "starting percentile correction for BraTS-MET-00160-000-t2f.nii.gz\n"
     ]
    },
    {
     "name": "stderr",
     "output_type": "stream",
     "text": [
      " 68%|██████▊   | 132/195 [2:48:57<1:10:45, 67.38s/it]"
     ]
    },
    {
     "name": "stdout",
     "output_type": "stream",
     "text": [
      "finished percentile normalization for BraTS-MET-00160-000-t2f.nii.gz\n",
      "currently normalizing patient BraTS-MET-00202-000\n",
      "starting n4 bias correction for BraTS-MET-00202-000-t2f.nii.gz\n",
      "finished n4 bias correction for BraTS-MET-00202-000-t2f.nii.gz\n",
      "starting percentile correction for BraTS-MET-00202-000-t2f.nii.gz\n",
      "finished percentile normalization for BraTS-MET-00202-000-t2f.nii.gz\n",
      "starting n4 bias correction for BraTS-MET-00202-000-t1n.nii.gz\n",
      "finished n4 bias correction for BraTS-MET-00202-000-t1n.nii.gz\n",
      "starting percentile correction for BraTS-MET-00202-000-t1n.nii.gz\n",
      "finished percentile normalization for BraTS-MET-00202-000-t1n.nii.gz\n",
      "starting n4 bias correction for BraTS-MET-00202-000-t2w.nii.gz\n",
      "finished n4 bias correction for BraTS-MET-00202-000-t2w.nii.gz\n",
      "starting percentile correction for BraTS-MET-00202-000-t2w.nii.gz\n",
      "finished percentile normalization for BraTS-MET-00202-000-t2w.nii.gz\n",
      "starting n4 bias correction for BraTS-MET-00202-000-t1c.nii.gz\n",
      "finished n4 bias correction for BraTS-MET-00202-000-t1c.nii.gz\n",
      "starting percentile correction for BraTS-MET-00202-000-t1c.nii.gz\n"
     ]
    },
    {
     "name": "stderr",
     "output_type": "stream",
     "text": [
      " 68%|██████▊   | 133/195 [2:50:34<1:18:38, 76.10s/it]"
     ]
    },
    {
     "name": "stdout",
     "output_type": "stream",
     "text": [
      "Percentile normalization failed. Upper value: 0.9999998809099198, lower value: 0.0\n",
      "finished percentile normalization for BraTS-MET-00202-000-t1c.nii.gz\n",
      "currently normalizing patient BraTS-MET-00216-000\n",
      "starting n4 bias correction for BraTS-MET-00216-000-t1n.nii.gz\n",
      "finished n4 bias correction for BraTS-MET-00216-000-t1n.nii.gz\n",
      "starting percentile correction for BraTS-MET-00216-000-t1n.nii.gz\n",
      "finished percentile normalization for BraTS-MET-00216-000-t1n.nii.gz\n",
      "starting n4 bias correction for BraTS-MET-00216-000-t2f.nii.gz\n",
      "finished n4 bias correction for BraTS-MET-00216-000-t2f.nii.gz\n",
      "starting percentile correction for BraTS-MET-00216-000-t2f.nii.gz\n",
      "finished percentile normalization for BraTS-MET-00216-000-t2f.nii.gz\n",
      "starting n4 bias correction for BraTS-MET-00216-000-t2w.nii.gz\n",
      "finished n4 bias correction for BraTS-MET-00216-000-t2w.nii.gz\n",
      "starting percentile correction for BraTS-MET-00216-000-t2w.nii.gz\n",
      "finished percentile normalization for BraTS-MET-00216-000-t2w.nii.gz\n",
      "starting n4 bias correction for BraTS-MET-00216-000-t1c.nii.gz\n",
      "finished n4 bias correction for BraTS-MET-00216-000-t1c.nii.gz\n",
      "starting percentile correction for BraTS-MET-00216-000-t1c.nii.gz\n"
     ]
    },
    {
     "name": "stderr",
     "output_type": "stream",
     "text": [
      " 69%|██████▊   | 134/195 [2:51:57<1:19:26, 78.14s/it]"
     ]
    },
    {
     "name": "stdout",
     "output_type": "stream",
     "text": [
      "finished percentile normalization for BraTS-MET-00216-000-t1c.nii.gz\n",
      "currently normalizing patient BraTS-MET-00200-000\n",
      "starting n4 bias correction for BraTS-MET-00200-000-t1n.nii.gz\n",
      "finished n4 bias correction for BraTS-MET-00200-000-t1n.nii.gz\n",
      "starting percentile correction for BraTS-MET-00200-000-t1n.nii.gz\n",
      "finished percentile normalization for BraTS-MET-00200-000-t1n.nii.gz\n",
      "starting n4 bias correction for BraTS-MET-00200-000-t2f.nii.gz\n",
      "finished n4 bias correction for BraTS-MET-00200-000-t2f.nii.gz\n",
      "starting percentile correction for BraTS-MET-00200-000-t2f.nii.gz\n",
      "finished percentile normalization for BraTS-MET-00200-000-t2f.nii.gz\n",
      "starting n4 bias correction for BraTS-MET-00200-000-t1c.nii.gz\n",
      "finished n4 bias correction for BraTS-MET-00200-000-t1c.nii.gz\n",
      "starting percentile correction for BraTS-MET-00200-000-t1c.nii.gz\n",
      "finished percentile normalization for BraTS-MET-00200-000-t1c.nii.gz\n",
      "starting n4 bias correction for BraTS-MET-00200-000-t2w.nii.gz\n",
      "finished n4 bias correction for BraTS-MET-00200-000-t2w.nii.gz\n",
      "starting percentile correction for BraTS-MET-00200-000-t2w.nii.gz\n"
     ]
    },
    {
     "name": "stderr",
     "output_type": "stream",
     "text": [
      " 69%|██████▉   | 135/195 [2:54:01<1:32:00, 92.01s/it]"
     ]
    },
    {
     "name": "stdout",
     "output_type": "stream",
     "text": [
      "finished percentile normalization for BraTS-MET-00200-000-t2w.nii.gz\n",
      "currently normalizing patient BraTS-MET-00214-000\n",
      "starting n4 bias correction for BraTS-MET-00214-000-t2f.nii.gz\n",
      "finished n4 bias correction for BraTS-MET-00214-000-t2f.nii.gz\n",
      "starting percentile correction for BraTS-MET-00214-000-t2f.nii.gz\n",
      "finished percentile normalization for BraTS-MET-00214-000-t2f.nii.gz\n",
      "starting n4 bias correction for BraTS-MET-00214-000-t1n.nii.gz\n",
      "finished n4 bias correction for BraTS-MET-00214-000-t1n.nii.gz\n",
      "starting percentile correction for BraTS-MET-00214-000-t1n.nii.gz\n",
      "finished percentile normalization for BraTS-MET-00214-000-t1n.nii.gz\n",
      "starting n4 bias correction for BraTS-MET-00214-000-t1c.nii.gz\n",
      "finished n4 bias correction for BraTS-MET-00214-000-t1c.nii.gz\n",
      "starting percentile correction for BraTS-MET-00214-000-t1c.nii.gz\n",
      "finished percentile normalization for BraTS-MET-00214-000-t1c.nii.gz\n",
      "starting n4 bias correction for BraTS-MET-00214-000-t2w.nii.gz\n",
      "finished n4 bias correction for BraTS-MET-00214-000-t2w.nii.gz\n",
      "starting percentile correction for BraTS-MET-00214-000-t2w.nii.gz\n"
     ]
    },
    {
     "name": "stderr",
     "output_type": "stream",
     "text": [
      " 70%|██████▉   | 136/195 [2:55:14<1:24:46, 86.21s/it]"
     ]
    },
    {
     "name": "stdout",
     "output_type": "stream",
     "text": [
      "finished percentile normalization for BraTS-MET-00214-000-t2w.nii.gz\n",
      "currently normalizing patient BraTS-MET-00189-000\n",
      "starting n4 bias correction for BraTS-MET-00189-000-t2w.nii.gz\n",
      "finished n4 bias correction for BraTS-MET-00189-000-t2w.nii.gz\n",
      "starting percentile correction for BraTS-MET-00189-000-t2w.nii.gz\n",
      "finished percentile normalization for BraTS-MET-00189-000-t2w.nii.gz\n",
      "starting n4 bias correction for BraTS-MET-00189-000-t1c.nii.gz\n",
      "finished n4 bias correction for BraTS-MET-00189-000-t1c.nii.gz\n",
      "starting percentile correction for BraTS-MET-00189-000-t1c.nii.gz\n",
      "finished percentile normalization for BraTS-MET-00189-000-t1c.nii.gz\n",
      "starting n4 bias correction for BraTS-MET-00189-000-t1n.nii.gz\n",
      "finished n4 bias correction for BraTS-MET-00189-000-t1n.nii.gz\n",
      "starting percentile correction for BraTS-MET-00189-000-t1n.nii.gz\n",
      "finished percentile normalization for BraTS-MET-00189-000-t1n.nii.gz\n",
      "starting n4 bias correction for BraTS-MET-00189-000-t2f.nii.gz\n",
      "finished n4 bias correction for BraTS-MET-00189-000-t2f.nii.gz\n",
      "starting percentile correction for BraTS-MET-00189-000-t2f.nii.gz\n"
     ]
    },
    {
     "name": "stderr",
     "output_type": "stream",
     "text": [
      " 70%|███████   | 137/195 [2:56:30<1:20:31, 83.29s/it]"
     ]
    },
    {
     "name": "stdout",
     "output_type": "stream",
     "text": [
      "finished percentile normalization for BraTS-MET-00189-000-t2f.nii.gz\n",
      "currently normalizing patient BraTS-MET-00176-000\n",
      "starting n4 bias correction for BraTS-MET-00176-000-t2w.nii.gz\n",
      "finished n4 bias correction for BraTS-MET-00176-000-t2w.nii.gz\n",
      "starting percentile correction for BraTS-MET-00176-000-t2w.nii.gz\n",
      "finished percentile normalization for BraTS-MET-00176-000-t2w.nii.gz\n",
      "starting n4 bias correction for BraTS-MET-00176-000-t1c.nii.gz\n",
      "finished n4 bias correction for BraTS-MET-00176-000-t1c.nii.gz\n",
      "starting percentile correction for BraTS-MET-00176-000-t1c.nii.gz\n",
      "finished percentile normalization for BraTS-MET-00176-000-t1c.nii.gz\n",
      "starting n4 bias correction for BraTS-MET-00176-000-t1n.nii.gz\n",
      "finished n4 bias correction for BraTS-MET-00176-000-t1n.nii.gz\n",
      "starting percentile correction for BraTS-MET-00176-000-t1n.nii.gz\n",
      "finished percentile normalization for BraTS-MET-00176-000-t1n.nii.gz\n",
      "starting n4 bias correction for BraTS-MET-00176-000-t2f.nii.gz\n",
      "finished n4 bias correction for BraTS-MET-00176-000-t2f.nii.gz\n",
      "starting percentile correction for BraTS-MET-00176-000-t2f.nii.gz\n"
     ]
    },
    {
     "name": "stderr",
     "output_type": "stream",
     "text": [
      " 71%|███████   | 138/195 [2:58:23<1:27:35, 92.21s/it]"
     ]
    },
    {
     "name": "stdout",
     "output_type": "stream",
     "text": [
      "finished percentile normalization for BraTS-MET-00176-000-t2f.nii.gz\n",
      "currently normalizing patient BraTS-MET-00162-000\n",
      "starting n4 bias correction for BraTS-MET-00162-000-t2w.nii.gz\n",
      "finished n4 bias correction for BraTS-MET-00162-000-t2w.nii.gz\n",
      "starting percentile correction for BraTS-MET-00162-000-t2w.nii.gz\n",
      "finished percentile normalization for BraTS-MET-00162-000-t2w.nii.gz\n",
      "starting n4 bias correction for BraTS-MET-00162-000-t1c.nii.gz\n",
      "finished n4 bias correction for BraTS-MET-00162-000-t1c.nii.gz\n",
      "starting percentile correction for BraTS-MET-00162-000-t1c.nii.gz\n",
      "finished percentile normalization for BraTS-MET-00162-000-t1c.nii.gz\n",
      "starting n4 bias correction for BraTS-MET-00162-000-t2f.nii.gz\n",
      "finished n4 bias correction for BraTS-MET-00162-000-t2f.nii.gz\n",
      "starting percentile correction for BraTS-MET-00162-000-t2f.nii.gz\n",
      "finished percentile normalization for BraTS-MET-00162-000-t2f.nii.gz\n",
      "starting n4 bias correction for BraTS-MET-00162-000-t1n.nii.gz\n",
      "finished n4 bias correction for BraTS-MET-00162-000-t1n.nii.gz\n",
      "starting percentile correction for BraTS-MET-00162-000-t1n.nii.gz\n"
     ]
    },
    {
     "name": "stderr",
     "output_type": "stream",
     "text": [
      " 71%|███████▏  | 139/195 [2:59:29<1:18:37, 84.24s/it]"
     ]
    },
    {
     "name": "stdout",
     "output_type": "stream",
     "text": [
      "finished percentile normalization for BraTS-MET-00162-000-t1n.nii.gz\n",
      "currently normalizing patient BraTS-MET-00163-000\n",
      "starting n4 bias correction for BraTS-MET-00163-000-t2w.nii.gz\n",
      "finished n4 bias correction for BraTS-MET-00163-000-t2w.nii.gz\n",
      "starting percentile correction for BraTS-MET-00163-000-t2w.nii.gz\n",
      "finished percentile normalization for BraTS-MET-00163-000-t2w.nii.gz\n",
      "starting n4 bias correction for BraTS-MET-00163-000-t1c.nii.gz\n",
      "finished n4 bias correction for BraTS-MET-00163-000-t1c.nii.gz\n",
      "starting percentile correction for BraTS-MET-00163-000-t1c.nii.gz\n",
      "finished percentile normalization for BraTS-MET-00163-000-t1c.nii.gz\n",
      "starting n4 bias correction for BraTS-MET-00163-000-t1n.nii.gz\n",
      "finished n4 bias correction for BraTS-MET-00163-000-t1n.nii.gz\n",
      "starting percentile correction for BraTS-MET-00163-000-t1n.nii.gz\n",
      "finished percentile normalization for BraTS-MET-00163-000-t1n.nii.gz\n",
      "starting n4 bias correction for BraTS-MET-00163-000-t2f.nii.gz\n",
      "finished n4 bias correction for BraTS-MET-00163-000-t2f.nii.gz\n",
      "starting percentile correction for BraTS-MET-00163-000-t2f.nii.gz\n"
     ]
    },
    {
     "name": "stderr",
     "output_type": "stream",
     "text": [
      " 72%|███████▏  | 140/195 [3:00:25<1:09:36, 75.94s/it]"
     ]
    },
    {
     "name": "stdout",
     "output_type": "stream",
     "text": [
      "finished percentile normalization for BraTS-MET-00163-000-t2f.nii.gz\n",
      "currently normalizing patient BraTS-MET-00177-000\n",
      "starting n4 bias correction for BraTS-MET-00177-000-t2w.nii.gz\n",
      "finished n4 bias correction for BraTS-MET-00177-000-t2w.nii.gz\n",
      "starting percentile correction for BraTS-MET-00177-000-t2w.nii.gz\n",
      "finished percentile normalization for BraTS-MET-00177-000-t2w.nii.gz\n",
      "starting n4 bias correction for BraTS-MET-00177-000-t1c.nii.gz\n",
      "finished n4 bias correction for BraTS-MET-00177-000-t1c.nii.gz\n",
      "starting percentile correction for BraTS-MET-00177-000-t1c.nii.gz\n",
      "finished percentile normalization for BraTS-MET-00177-000-t1c.nii.gz\n",
      "starting n4 bias correction for BraTS-MET-00177-000-t2f.nii.gz\n",
      "finished n4 bias correction for BraTS-MET-00177-000-t2f.nii.gz\n",
      "starting percentile correction for BraTS-MET-00177-000-t2f.nii.gz\n",
      "finished percentile normalization for BraTS-MET-00177-000-t2f.nii.gz\n",
      "starting n4 bias correction for BraTS-MET-00177-000-t1n.nii.gz\n",
      "finished n4 bias correction for BraTS-MET-00177-000-t1n.nii.gz\n",
      "starting percentile correction for BraTS-MET-00177-000-t1n.nii.gz\n"
     ]
    },
    {
     "name": "stderr",
     "output_type": "stream",
     "text": [
      " 72%|███████▏  | 141/195 [3:01:40<1:08:03, 75.63s/it]"
     ]
    },
    {
     "name": "stdout",
     "output_type": "stream",
     "text": [
      "finished percentile normalization for BraTS-MET-00177-000-t1n.nii.gz\n",
      "currently normalizing patient BraTS-MET-00188-000\n",
      "starting n4 bias correction for BraTS-MET-00188-000-t2w.nii.gz\n",
      "finished n4 bias correction for BraTS-MET-00188-000-t2w.nii.gz\n",
      "starting percentile correction for BraTS-MET-00188-000-t2w.nii.gz\n",
      "finished percentile normalization for BraTS-MET-00188-000-t2w.nii.gz\n",
      "starting n4 bias correction for BraTS-MET-00188-000-t1c.nii.gz\n",
      "finished n4 bias correction for BraTS-MET-00188-000-t1c.nii.gz\n",
      "starting percentile correction for BraTS-MET-00188-000-t1c.nii.gz\n",
      "finished percentile normalization for BraTS-MET-00188-000-t1c.nii.gz\n",
      "starting n4 bias correction for BraTS-MET-00188-000-t2f.nii.gz\n",
      "finished n4 bias correction for BraTS-MET-00188-000-t2f.nii.gz\n",
      "starting percentile correction for BraTS-MET-00188-000-t2f.nii.gz\n",
      "finished percentile normalization for BraTS-MET-00188-000-t2f.nii.gz\n",
      "starting n4 bias correction for BraTS-MET-00188-000-t1n.nii.gz\n",
      "finished n4 bias correction for BraTS-MET-00188-000-t1n.nii.gz\n",
      "starting percentile correction for BraTS-MET-00188-000-t1n.nii.gz\n"
     ]
    },
    {
     "name": "stderr",
     "output_type": "stream",
     "text": [
      " 73%|███████▎  | 142/195 [3:02:44<1:03:41, 72.10s/it]"
     ]
    },
    {
     "name": "stdout",
     "output_type": "stream",
     "text": [
      "finished percentile normalization for BraTS-MET-00188-000-t1n.nii.gz\n",
      "currently normalizing patient BraTS-MET-00229-000\n",
      "starting n4 bias correction for BraTS-MET-00229-000-t2w.nii.gz\n",
      "finished n4 bias correction for BraTS-MET-00229-000-t2w.nii.gz\n",
      "starting percentile correction for BraTS-MET-00229-000-t2w.nii.gz\n",
      "finished percentile normalization for BraTS-MET-00229-000-t2w.nii.gz\n",
      "starting n4 bias correction for BraTS-MET-00229-000-t1c.nii.gz\n",
      "finished n4 bias correction for BraTS-MET-00229-000-t1c.nii.gz\n",
      "starting percentile correction for BraTS-MET-00229-000-t1c.nii.gz\n",
      "finished percentile normalization for BraTS-MET-00229-000-t1c.nii.gz\n",
      "starting n4 bias correction for BraTS-MET-00229-000-t2f.nii.gz\n",
      "finished n4 bias correction for BraTS-MET-00229-000-t2f.nii.gz\n",
      "starting percentile correction for BraTS-MET-00229-000-t2f.nii.gz\n",
      "finished percentile normalization for BraTS-MET-00229-000-t2f.nii.gz\n",
      "starting n4 bias correction for BraTS-MET-00229-000-t1n.nii.gz\n",
      "finished n4 bias correction for BraTS-MET-00229-000-t1n.nii.gz\n",
      "starting percentile correction for BraTS-MET-00229-000-t1n.nii.gz\n"
     ]
    },
    {
     "name": "stderr",
     "output_type": "stream",
     "text": [
      " 73%|███████▎  | 143/195 [3:04:12<1:06:39, 76.92s/it]"
     ]
    },
    {
     "name": "stdout",
     "output_type": "stream",
     "text": [
      "finished percentile normalization for BraTS-MET-00229-000-t1n.nii.gz\n",
      "currently normalizing patient BraTS-MET-00215-000\n",
      "starting n4 bias correction for BraTS-MET-00215-000-t1n.nii.gz\n",
      "finished n4 bias correction for BraTS-MET-00215-000-t1n.nii.gz\n",
      "starting percentile correction for BraTS-MET-00215-000-t1n.nii.gz\n",
      "finished percentile normalization for BraTS-MET-00215-000-t1n.nii.gz\n",
      "starting n4 bias correction for BraTS-MET-00215-000-t2f.nii.gz\n",
      "finished n4 bias correction for BraTS-MET-00215-000-t2f.nii.gz\n",
      "starting percentile correction for BraTS-MET-00215-000-t2f.nii.gz\n",
      "finished percentile normalization for BraTS-MET-00215-000-t2f.nii.gz\n",
      "starting n4 bias correction for BraTS-MET-00215-000-t1c.nii.gz\n",
      "finished n4 bias correction for BraTS-MET-00215-000-t1c.nii.gz\n",
      "starting percentile correction for BraTS-MET-00215-000-t1c.nii.gz\n",
      "Percentile normalization failed. Upper value: 0.9999998809099198, lower value: 0.0\n",
      "finished percentile normalization for BraTS-MET-00215-000-t1c.nii.gz\n",
      "starting n4 bias correction for BraTS-MET-00215-000-t2w.nii.gz\n",
      "finished n4 bias correction for BraTS-MET-00215-000-t2w.nii.gz\n",
      "starting percentile correction for BraTS-MET-00215-000-t2w.nii.gz\n"
     ]
    },
    {
     "name": "stderr",
     "output_type": "stream",
     "text": [
      " 74%|███████▍  | 144/195 [3:05:18<1:02:30, 73.54s/it]"
     ]
    },
    {
     "name": "stdout",
     "output_type": "stream",
     "text": [
      "finished percentile normalization for BraTS-MET-00215-000-t2w.nii.gz\n",
      "currently normalizing patient BraTS-MET-00201-000\n",
      "starting n4 bias correction for BraTS-MET-00201-000-t2f.nii.gz\n",
      "finished n4 bias correction for BraTS-MET-00201-000-t2f.nii.gz\n",
      "starting percentile correction for BraTS-MET-00201-000-t2f.nii.gz\n",
      "finished percentile normalization for BraTS-MET-00201-000-t2f.nii.gz\n",
      "starting n4 bias correction for BraTS-MET-00201-000-t1n.nii.gz\n",
      "finished n4 bias correction for BraTS-MET-00201-000-t1n.nii.gz\n",
      "starting percentile correction for BraTS-MET-00201-000-t1n.nii.gz\n",
      "finished percentile normalization for BraTS-MET-00201-000-t1n.nii.gz\n",
      "starting n4 bias correction for BraTS-MET-00201-000-t1c.nii.gz\n",
      "finished n4 bias correction for BraTS-MET-00201-000-t1c.nii.gz\n",
      "starting percentile correction for BraTS-MET-00201-000-t1c.nii.gz\n",
      "finished percentile normalization for BraTS-MET-00201-000-t1c.nii.gz\n",
      "starting n4 bias correction for BraTS-MET-00201-000-t2w.nii.gz\n",
      "finished n4 bias correction for BraTS-MET-00201-000-t2w.nii.gz\n",
      "starting percentile correction for BraTS-MET-00201-000-t2w.nii.gz\n"
     ]
    },
    {
     "name": "stderr",
     "output_type": "stream",
     "text": [
      " 74%|███████▍  | 145/195 [3:06:38<1:02:56, 75.52s/it]"
     ]
    },
    {
     "name": "stdout",
     "output_type": "stream",
     "text": [
      "finished percentile normalization for BraTS-MET-00201-000-t2w.nii.gz\n",
      "currently normalizing patient BraTS-MET-00299-000\n",
      "starting n4 bias correction for BraTS-MET-00299-000-t2f.nii.gz\n",
      "finished n4 bias correction for BraTS-MET-00299-000-t2f.nii.gz\n",
      "starting percentile correction for BraTS-MET-00299-000-t2f.nii.gz\n",
      "finished percentile normalization for BraTS-MET-00299-000-t2f.nii.gz\n",
      "starting n4 bias correction for BraTS-MET-00299-000-t1n.nii.gz\n",
      "finished n4 bias correction for BraTS-MET-00299-000-t1n.nii.gz\n",
      "starting percentile correction for BraTS-MET-00299-000-t1n.nii.gz\n",
      "finished percentile normalization for BraTS-MET-00299-000-t1n.nii.gz\n",
      "starting n4 bias correction for BraTS-MET-00299-000-t2w.nii.gz\n",
      "finished n4 bias correction for BraTS-MET-00299-000-t2w.nii.gz\n",
      "starting percentile correction for BraTS-MET-00299-000-t2w.nii.gz\n",
      "finished percentile normalization for BraTS-MET-00299-000-t2w.nii.gz\n",
      "starting n4 bias correction for BraTS-MET-00299-000-t1c.nii.gz\n",
      "finished n4 bias correction for BraTS-MET-00299-000-t1c.nii.gz\n",
      "starting percentile correction for BraTS-MET-00299-000-t1c.nii.gz\n"
     ]
    },
    {
     "name": "stderr",
     "output_type": "stream",
     "text": [
      " 75%|███████▍  | 146/195 [3:07:23<54:13, 66.40s/it]  "
     ]
    },
    {
     "name": "stdout",
     "output_type": "stream",
     "text": [
      "finished percentile normalization for BraTS-MET-00299-000-t1c.nii.gz\n",
      "currently normalizing patient BraTS-MET-00266-000\n",
      "starting n4 bias correction for BraTS-MET-00266-000-t2f.nii.gz\n",
      "finished n4 bias correction for BraTS-MET-00266-000-t2f.nii.gz\n",
      "starting percentile correction for BraTS-MET-00266-000-t2f.nii.gz\n",
      "finished percentile normalization for BraTS-MET-00266-000-t2f.nii.gz\n",
      "starting n4 bias correction for BraTS-MET-00266-000-t1n.nii.gz\n",
      "finished n4 bias correction for BraTS-MET-00266-000-t1n.nii.gz\n",
      "starting percentile correction for BraTS-MET-00266-000-t1n.nii.gz\n",
      "finished percentile normalization for BraTS-MET-00266-000-t1n.nii.gz\n",
      "starting n4 bias correction for BraTS-MET-00266-000-t2w.nii.gz\n",
      "finished n4 bias correction for BraTS-MET-00266-000-t2w.nii.gz\n",
      "starting percentile correction for BraTS-MET-00266-000-t2w.nii.gz\n",
      "finished percentile normalization for BraTS-MET-00266-000-t2w.nii.gz\n",
      "starting n4 bias correction for BraTS-MET-00266-000-t1c.nii.gz\n",
      "finished n4 bias correction for BraTS-MET-00266-000-t1c.nii.gz\n",
      "starting percentile correction for BraTS-MET-00266-000-t1c.nii.gz\n"
     ]
    },
    {
     "name": "stderr",
     "output_type": "stream",
     "text": [
      " 75%|███████▌  | 147/195 [3:08:45<56:44, 70.92s/it]"
     ]
    },
    {
     "name": "stdout",
     "output_type": "stream",
     "text": [
      "finished percentile normalization for BraTS-MET-00266-000-t1c.nii.gz\n",
      "currently normalizing patient BraTS-MET-00272-000\n",
      "starting n4 bias correction for BraTS-MET-00272-000-t1n.nii.gz\n",
      "finished n4 bias correction for BraTS-MET-00272-000-t1n.nii.gz\n",
      "starting percentile correction for BraTS-MET-00272-000-t1n.nii.gz\n",
      "finished percentile normalization for BraTS-MET-00272-000-t1n.nii.gz\n",
      "starting n4 bias correction for BraTS-MET-00272-000-t2f.nii.gz\n",
      "finished n4 bias correction for BraTS-MET-00272-000-t2f.nii.gz\n",
      "starting percentile correction for BraTS-MET-00272-000-t2f.nii.gz\n",
      "finished percentile normalization for BraTS-MET-00272-000-t2f.nii.gz\n",
      "starting n4 bias correction for BraTS-MET-00272-000-t2w.nii.gz\n",
      "finished n4 bias correction for BraTS-MET-00272-000-t2w.nii.gz\n",
      "starting percentile correction for BraTS-MET-00272-000-t2w.nii.gz\n",
      "finished percentile normalization for BraTS-MET-00272-000-t2w.nii.gz\n",
      "starting n4 bias correction for BraTS-MET-00272-000-t1c.nii.gz\n",
      "finished n4 bias correction for BraTS-MET-00272-000-t1c.nii.gz\n",
      "starting percentile correction for BraTS-MET-00272-000-t1c.nii.gz\n"
     ]
    },
    {
     "name": "stderr",
     "output_type": "stream",
     "text": [
      " 76%|███████▌  | 148/195 [3:10:26<1:02:35, 79.90s/it]"
     ]
    },
    {
     "name": "stdout",
     "output_type": "stream",
     "text": [
      "Percentile normalization failed. Upper value: 0.9999998809099198, lower value: 0.0\n",
      "finished percentile normalization for BraTS-MET-00272-000-t1c.nii.gz\n",
      "currently normalizing patient BraTS-MET-00306-000\n",
      "starting n4 bias correction for BraTS-MET-00306-000-t2f.nii.gz\n",
      "finished n4 bias correction for BraTS-MET-00306-000-t2f.nii.gz\n",
      "starting percentile correction for BraTS-MET-00306-000-t2f.nii.gz\n",
      "finished percentile normalization for BraTS-MET-00306-000-t2f.nii.gz\n",
      "starting n4 bias correction for BraTS-MET-00306-000-t1n.nii.gz\n",
      "finished n4 bias correction for BraTS-MET-00306-000-t1n.nii.gz\n",
      "starting percentile correction for BraTS-MET-00306-000-t1n.nii.gz\n",
      "finished percentile normalization for BraTS-MET-00306-000-t1n.nii.gz\n",
      "starting n4 bias correction for BraTS-MET-00306-000-t2w.nii.gz\n",
      "finished n4 bias correction for BraTS-MET-00306-000-t2w.nii.gz\n",
      "starting percentile correction for BraTS-MET-00306-000-t2w.nii.gz\n",
      "finished percentile normalization for BraTS-MET-00306-000-t2w.nii.gz\n",
      "starting n4 bias correction for BraTS-MET-00306-000-t1c.nii.gz\n",
      "finished n4 bias correction for BraTS-MET-00306-000-t1c.nii.gz\n",
      "starting percentile correction for BraTS-MET-00306-000-t1c.nii.gz\n"
     ]
    },
    {
     "name": "stderr",
     "output_type": "stream",
     "text": [
      " 76%|███████▋  | 149/195 [3:11:47<1:01:40, 80.44s/it]"
     ]
    },
    {
     "name": "stdout",
     "output_type": "stream",
     "text": [
      "finished percentile normalization for BraTS-MET-00306-000-t1c.nii.gz\n",
      "currently normalizing patient BraTS-MET-00138-000\n",
      "starting n4 bias correction for BraTS-MET-00138-000-t2f.nii.gz\n",
      "finished n4 bias correction for BraTS-MET-00138-000-t2f.nii.gz\n",
      "starting percentile correction for BraTS-MET-00138-000-t2f.nii.gz\n",
      "finished percentile normalization for BraTS-MET-00138-000-t2f.nii.gz\n",
      "starting n4 bias correction for BraTS-MET-00138-000-t1n.nii.gz\n",
      "finished n4 bias correction for BraTS-MET-00138-000-t1n.nii.gz\n",
      "starting percentile correction for BraTS-MET-00138-000-t1n.nii.gz\n",
      "finished percentile normalization for BraTS-MET-00138-000-t1n.nii.gz\n",
      "starting n4 bias correction for BraTS-MET-00138-000-t2w.nii.gz\n",
      "finished n4 bias correction for BraTS-MET-00138-000-t2w.nii.gz\n",
      "starting percentile correction for BraTS-MET-00138-000-t2w.nii.gz\n",
      "finished percentile normalization for BraTS-MET-00138-000-t2w.nii.gz\n",
      "starting n4 bias correction for BraTS-MET-00138-000-t1c.nii.gz\n",
      "finished n4 bias correction for BraTS-MET-00138-000-t1c.nii.gz\n",
      "starting percentile correction for BraTS-MET-00138-000-t1c.nii.gz\n"
     ]
    },
    {
     "name": "stderr",
     "output_type": "stream",
     "text": [
      " 77%|███████▋  | 150/195 [3:12:36<53:10, 70.90s/it]  "
     ]
    },
    {
     "name": "stdout",
     "output_type": "stream",
     "text": [
      "finished percentile normalization for BraTS-MET-00138-000-t1c.nii.gz\n",
      "currently normalizing patient BraTS-MET-00110-000\n",
      "starting n4 bias correction for BraTS-MET-00110-000-t1c.nii.gz\n",
      "finished n4 bias correction for BraTS-MET-00110-000-t1c.nii.gz\n",
      "starting percentile correction for BraTS-MET-00110-000-t1c.nii.gz\n",
      "Percentile normalization failed. Upper value: 0.9999999404549599, lower value: 0.0\n",
      "finished percentile normalization for BraTS-MET-00110-000-t1c.nii.gz\n",
      "starting n4 bias correction for BraTS-MET-00110-000-t2w.nii.gz\n",
      "finished n4 bias correction for BraTS-MET-00110-000-t2w.nii.gz\n",
      "starting percentile correction for BraTS-MET-00110-000-t2w.nii.gz\n",
      "finished percentile normalization for BraTS-MET-00110-000-t2w.nii.gz\n",
      "starting n4 bias correction for BraTS-MET-00110-000-t2f.nii.gz\n",
      "finished n4 bias correction for BraTS-MET-00110-000-t2f.nii.gz\n",
      "starting percentile correction for BraTS-MET-00110-000-t2f.nii.gz\n",
      "finished percentile normalization for BraTS-MET-00110-000-t2f.nii.gz\n",
      "starting n4 bias correction for BraTS-MET-00110-000-t1n.nii.gz\n",
      "finished n4 bias correction for BraTS-MET-00110-000-t1n.nii.gz\n",
      "starting percentile correction for BraTS-MET-00110-000-t1n.nii.gz\n"
     ]
    },
    {
     "name": "stderr",
     "output_type": "stream",
     "text": [
      " 77%|███████▋  | 151/195 [3:14:11<57:19, 78.18s/it]"
     ]
    },
    {
     "name": "stdout",
     "output_type": "stream",
     "text": [
      "finished percentile normalization for BraTS-MET-00110-000-t1n.nii.gz\n",
      "currently normalizing patient BraTS-MET-00104-000\n",
      "starting n4 bias correction for BraTS-MET-00104-000-t1c.nii.gz\n",
      "finished n4 bias correction for BraTS-MET-00104-000-t1c.nii.gz\n",
      "starting percentile correction for BraTS-MET-00104-000-t1c.nii.gz\n",
      "Percentile normalization failed. Upper value: 0.9999999404549599, lower value: 0.0\n",
      "finished percentile normalization for BraTS-MET-00104-000-t1c.nii.gz\n",
      "starting n4 bias correction for BraTS-MET-00104-000-t2w.nii.gz\n",
      "finished n4 bias correction for BraTS-MET-00104-000-t2w.nii.gz\n",
      "starting percentile correction for BraTS-MET-00104-000-t2w.nii.gz\n",
      "finished percentile normalization for BraTS-MET-00104-000-t2w.nii.gz\n",
      "starting n4 bias correction for BraTS-MET-00104-000-t1n.nii.gz\n",
      "finished n4 bias correction for BraTS-MET-00104-000-t1n.nii.gz\n",
      "starting percentile correction for BraTS-MET-00104-000-t1n.nii.gz\n",
      "finished percentile normalization for BraTS-MET-00104-000-t1n.nii.gz\n",
      "starting n4 bias correction for BraTS-MET-00104-000-t2f.nii.gz\n",
      "finished n4 bias correction for BraTS-MET-00104-000-t2f.nii.gz\n",
      "starting percentile correction for BraTS-MET-00104-000-t2f.nii.gz\n"
     ]
    },
    {
     "name": "stderr",
     "output_type": "stream",
     "text": [
      " 78%|███████▊  | 152/195 [3:15:12<52:18, 72.99s/it]"
     ]
    },
    {
     "name": "stdout",
     "output_type": "stream",
     "text": [
      "finished percentile normalization for BraTS-MET-00104-000-t2f.nii.gz\n",
      "currently normalizing patient BraTS-MET-00105-000\n",
      "starting n4 bias correction for BraTS-MET-00105-000-t1c.nii.gz\n",
      "finished n4 bias correction for BraTS-MET-00105-000-t1c.nii.gz\n",
      "starting percentile correction for BraTS-MET-00105-000-t1c.nii.gz\n",
      "Percentile normalization failed. Upper value: 0.9999999404549599, lower value: 0.0\n",
      "finished percentile normalization for BraTS-MET-00105-000-t1c.nii.gz\n",
      "starting n4 bias correction for BraTS-MET-00105-000-t2w.nii.gz\n",
      "finished n4 bias correction for BraTS-MET-00105-000-t2w.nii.gz\n",
      "starting percentile correction for BraTS-MET-00105-000-t2w.nii.gz\n",
      "finished percentile normalization for BraTS-MET-00105-000-t2w.nii.gz\n",
      "starting n4 bias correction for BraTS-MET-00105-000-t2f.nii.gz\n",
      "finished n4 bias correction for BraTS-MET-00105-000-t2f.nii.gz\n",
      "starting percentile correction for BraTS-MET-00105-000-t2f.nii.gz\n",
      "finished percentile normalization for BraTS-MET-00105-000-t2f.nii.gz\n",
      "starting n4 bias correction for BraTS-MET-00105-000-t1n.nii.gz\n",
      "finished n4 bias correction for BraTS-MET-00105-000-t1n.nii.gz\n",
      "starting percentile correction for BraTS-MET-00105-000-t1n.nii.gz\n"
     ]
    },
    {
     "name": "stderr",
     "output_type": "stream",
     "text": [
      " 78%|███████▊  | 153/195 [3:16:15<49:04, 70.11s/it]"
     ]
    },
    {
     "name": "stdout",
     "output_type": "stream",
     "text": [
      "finished percentile normalization for BraTS-MET-00105-000-t1n.nii.gz\n",
      "currently normalizing patient BraTS-MET-00111-000\n",
      "starting n4 bias correction for BraTS-MET-00111-000-t1c.nii.gz\n",
      "finished n4 bias correction for BraTS-MET-00111-000-t1c.nii.gz\n",
      "starting percentile correction for BraTS-MET-00111-000-t1c.nii.gz\n",
      "finished percentile normalization for BraTS-MET-00111-000-t1c.nii.gz\n",
      "starting n4 bias correction for BraTS-MET-00111-000-t2w.nii.gz\n",
      "finished n4 bias correction for BraTS-MET-00111-000-t2w.nii.gz\n",
      "starting percentile correction for BraTS-MET-00111-000-t2w.nii.gz\n",
      "finished percentile normalization for BraTS-MET-00111-000-t2w.nii.gz\n",
      "starting n4 bias correction for BraTS-MET-00111-000-t1n.nii.gz\n",
      "finished n4 bias correction for BraTS-MET-00111-000-t1n.nii.gz\n",
      "starting percentile correction for BraTS-MET-00111-000-t1n.nii.gz\n",
      "finished percentile normalization for BraTS-MET-00111-000-t1n.nii.gz\n",
      "starting n4 bias correction for BraTS-MET-00111-000-t2f.nii.gz\n",
      "finished n4 bias correction for BraTS-MET-00111-000-t2f.nii.gz\n",
      "starting percentile correction for BraTS-MET-00111-000-t2f.nii.gz\n"
     ]
    },
    {
     "name": "stderr",
     "output_type": "stream",
     "text": [
      " 79%|███████▉  | 154/195 [3:17:12<45:09, 66.08s/it]"
     ]
    },
    {
     "name": "stdout",
     "output_type": "stream",
     "text": [
      "finished percentile normalization for BraTS-MET-00111-000-t2f.nii.gz\n",
      "currently normalizing patient BraTS-MET-00139-000\n",
      "starting n4 bias correction for BraTS-MET-00139-000-t1n.nii.gz\n",
      "finished n4 bias correction for BraTS-MET-00139-000-t1n.nii.gz\n",
      "starting percentile correction for BraTS-MET-00139-000-t1n.nii.gz\n",
      "finished percentile normalization for BraTS-MET-00139-000-t1n.nii.gz\n",
      "starting n4 bias correction for BraTS-MET-00139-000-t2f.nii.gz\n",
      "finished n4 bias correction for BraTS-MET-00139-000-t2f.nii.gz\n",
      "starting percentile correction for BraTS-MET-00139-000-t2f.nii.gz\n",
      "finished percentile normalization for BraTS-MET-00139-000-t2f.nii.gz\n",
      "starting n4 bias correction for BraTS-MET-00139-000-t2w.nii.gz\n",
      "finished n4 bias correction for BraTS-MET-00139-000-t2w.nii.gz\n",
      "starting percentile correction for BraTS-MET-00139-000-t2w.nii.gz\n",
      "finished percentile normalization for BraTS-MET-00139-000-t2w.nii.gz\n",
      "starting n4 bias correction for BraTS-MET-00139-000-t1c.nii.gz\n",
      "finished n4 bias correction for BraTS-MET-00139-000-t1c.nii.gz\n",
      "starting percentile correction for BraTS-MET-00139-000-t1c.nii.gz\n"
     ]
    },
    {
     "name": "stderr",
     "output_type": "stream",
     "text": [
      " 79%|███████▉  | 155/195 [3:19:06<53:38, 80.47s/it]"
     ]
    },
    {
     "name": "stdout",
     "output_type": "stream",
     "text": [
      "finished percentile normalization for BraTS-MET-00139-000-t1c.nii.gz\n",
      "currently normalizing patient BraTS-MET-00307-000\n",
      "starting n4 bias correction for BraTS-MET-00307-000-t1n.nii.gz\n",
      "finished n4 bias correction for BraTS-MET-00307-000-t1n.nii.gz\n",
      "starting percentile correction for BraTS-MET-00307-000-t1n.nii.gz\n",
      "finished percentile normalization for BraTS-MET-00307-000-t1n.nii.gz\n",
      "starting n4 bias correction for BraTS-MET-00307-000-t2f.nii.gz\n",
      "finished n4 bias correction for BraTS-MET-00307-000-t2f.nii.gz\n",
      "starting percentile correction for BraTS-MET-00307-000-t2f.nii.gz\n",
      "finished percentile normalization for BraTS-MET-00307-000-t2f.nii.gz\n",
      "starting n4 bias correction for BraTS-MET-00307-000-t2w.nii.gz\n",
      "finished n4 bias correction for BraTS-MET-00307-000-t2w.nii.gz\n",
      "starting percentile correction for BraTS-MET-00307-000-t2w.nii.gz\n",
      "finished percentile normalization for BraTS-MET-00307-000-t2w.nii.gz\n",
      "starting n4 bias correction for BraTS-MET-00307-000-t1c.nii.gz\n",
      "finished n4 bias correction for BraTS-MET-00307-000-t1c.nii.gz\n",
      "starting percentile correction for BraTS-MET-00307-000-t1c.nii.gz\n"
     ]
    },
    {
     "name": "stderr",
     "output_type": "stream",
     "text": [
      " 80%|████████  | 156/195 [3:20:24<51:45, 79.62s/it]"
     ]
    },
    {
     "name": "stdout",
     "output_type": "stream",
     "text": [
      "finished percentile normalization for BraTS-MET-00307-000-t1c.nii.gz\n",
      "currently normalizing patient BraTS-MET-00273-000\n",
      "starting n4 bias correction for BraTS-MET-00273-000-t2f.nii.gz\n",
      "finished n4 bias correction for BraTS-MET-00273-000-t2f.nii.gz\n",
      "starting percentile correction for BraTS-MET-00273-000-t2f.nii.gz\n",
      "finished percentile normalization for BraTS-MET-00273-000-t2f.nii.gz\n",
      "starting n4 bias correction for BraTS-MET-00273-000-t1n.nii.gz\n",
      "finished n4 bias correction for BraTS-MET-00273-000-t1n.nii.gz\n",
      "starting percentile correction for BraTS-MET-00273-000-t1n.nii.gz\n",
      "finished percentile normalization for BraTS-MET-00273-000-t1n.nii.gz\n",
      "starting n4 bias correction for BraTS-MET-00273-000-t2w.nii.gz\n",
      "finished n4 bias correction for BraTS-MET-00273-000-t2w.nii.gz\n",
      "starting percentile correction for BraTS-MET-00273-000-t2w.nii.gz\n",
      "finished percentile normalization for BraTS-MET-00273-000-t2w.nii.gz\n",
      "starting n4 bias correction for BraTS-MET-00273-000-t1c.nii.gz\n",
      "finished n4 bias correction for BraTS-MET-00273-000-t1c.nii.gz\n",
      "starting percentile correction for BraTS-MET-00273-000-t1c.nii.gz\n"
     ]
    },
    {
     "name": "stderr",
     "output_type": "stream",
     "text": [
      " 81%|████████  | 157/195 [3:23:23<1:09:16, 109.38s/it]"
     ]
    },
    {
     "name": "stdout",
     "output_type": "stream",
     "text": [
      "finished percentile normalization for BraTS-MET-00273-000-t1c.nii.gz\n",
      "currently normalizing patient BraTS-MET-00267-000\n",
      "starting n4 bias correction for BraTS-MET-00267-000-t1n.nii.gz\n",
      "finished n4 bias correction for BraTS-MET-00267-000-t1n.nii.gz\n",
      "starting percentile correction for BraTS-MET-00267-000-t1n.nii.gz\n",
      "finished percentile normalization for BraTS-MET-00267-000-t1n.nii.gz\n",
      "starting n4 bias correction for BraTS-MET-00267-000-t2f.nii.gz\n",
      "finished n4 bias correction for BraTS-MET-00267-000-t2f.nii.gz\n",
      "starting percentile correction for BraTS-MET-00267-000-t2f.nii.gz\n",
      "finished percentile normalization for BraTS-MET-00267-000-t2f.nii.gz\n",
      "starting n4 bias correction for BraTS-MET-00267-000-t2w.nii.gz\n",
      "finished n4 bias correction for BraTS-MET-00267-000-t2w.nii.gz\n",
      "starting percentile correction for BraTS-MET-00267-000-t2w.nii.gz\n",
      "finished percentile normalization for BraTS-MET-00267-000-t2w.nii.gz\n",
      "starting n4 bias correction for BraTS-MET-00267-000-t1c.nii.gz\n",
      "finished n4 bias correction for BraTS-MET-00267-000-t1c.nii.gz\n",
      "starting percentile correction for BraTS-MET-00267-000-t1c.nii.gz\n"
     ]
    },
    {
     "name": "stderr",
     "output_type": "stream",
     "text": [
      " 81%|████████  | 158/195 [3:24:21<57:57, 93.99s/it]   "
     ]
    },
    {
     "name": "stdout",
     "output_type": "stream",
     "text": [
      "finished percentile normalization for BraTS-MET-00267-000-t1c.nii.gz\n",
      "currently normalizing patient BraTS-MET-00298-000\n",
      "starting n4 bias correction for BraTS-MET-00298-000-t1n.nii.gz\n",
      "finished n4 bias correction for BraTS-MET-00298-000-t1n.nii.gz\n",
      "starting percentile correction for BraTS-MET-00298-000-t1n.nii.gz\n",
      "finished percentile normalization for BraTS-MET-00298-000-t1n.nii.gz\n",
      "starting n4 bias correction for BraTS-MET-00298-000-t2f.nii.gz\n",
      "finished n4 bias correction for BraTS-MET-00298-000-t2f.nii.gz\n",
      "starting percentile correction for BraTS-MET-00298-000-t2f.nii.gz\n",
      "finished percentile normalization for BraTS-MET-00298-000-t2f.nii.gz\n",
      "starting n4 bias correction for BraTS-MET-00298-000-t2w.nii.gz\n",
      "finished n4 bias correction for BraTS-MET-00298-000-t2w.nii.gz\n",
      "starting percentile correction for BraTS-MET-00298-000-t2w.nii.gz\n",
      "finished percentile normalization for BraTS-MET-00298-000-t2w.nii.gz\n",
      "starting n4 bias correction for BraTS-MET-00298-000-t1c.nii.gz\n",
      "finished n4 bias correction for BraTS-MET-00298-000-t1c.nii.gz\n",
      "starting percentile correction for BraTS-MET-00298-000-t1c.nii.gz\n"
     ]
    },
    {
     "name": "stderr",
     "output_type": "stream",
     "text": [
      " 82%|████████▏ | 159/195 [3:25:57<56:47, 94.65s/it]"
     ]
    },
    {
     "name": "stdout",
     "output_type": "stream",
     "text": [
      "Percentile normalization failed. Upper value: 0.9999999404549599, lower value: 0.0\n",
      "finished percentile normalization for BraTS-MET-00298-000-t1c.nii.gz\n",
      "currently normalizing patient BraTS-MET-00098-000\n",
      "starting n4 bias correction for BraTS-MET-00098-000-t2w.nii.gz\n",
      "finished n4 bias correction for BraTS-MET-00098-000-t2w.nii.gz\n",
      "starting percentile correction for BraTS-MET-00098-000-t2w.nii.gz\n",
      "finished percentile normalization for BraTS-MET-00098-000-t2w.nii.gz\n",
      "starting n4 bias correction for BraTS-MET-00098-000-t1c.nii.gz\n",
      "finished n4 bias correction for BraTS-MET-00098-000-t1c.nii.gz\n",
      "starting percentile correction for BraTS-MET-00098-000-t1c.nii.gz\n",
      "finished percentile normalization for BraTS-MET-00098-000-t1c.nii.gz\n",
      "starting n4 bias correction for BraTS-MET-00098-000-t1n.nii.gz\n",
      "finished n4 bias correction for BraTS-MET-00098-000-t1n.nii.gz\n",
      "starting percentile correction for BraTS-MET-00098-000-t1n.nii.gz\n",
      "finished percentile normalization for BraTS-MET-00098-000-t1n.nii.gz\n",
      "starting n4 bias correction for BraTS-MET-00098-000-t2f.nii.gz\n",
      "finished n4 bias correction for BraTS-MET-00098-000-t2f.nii.gz\n",
      "starting percentile correction for BraTS-MET-00098-000-t2f.nii.gz\n"
     ]
    },
    {
     "name": "stderr",
     "output_type": "stream",
     "text": [
      " 82%|████████▏ | 160/195 [3:27:19<52:56, 90.76s/it]"
     ]
    },
    {
     "name": "stdout",
     "output_type": "stream",
     "text": [
      "finished percentile normalization for BraTS-MET-00098-000-t2f.nii.gz\n",
      "currently normalizing patient BraTS-MET-00271-000\n",
      "starting n4 bias correction for BraTS-MET-00271-000-t1n.nii.gz\n",
      "finished n4 bias correction for BraTS-MET-00271-000-t1n.nii.gz\n",
      "starting percentile correction for BraTS-MET-00271-000-t1n.nii.gz\n",
      "finished percentile normalization for BraTS-MET-00271-000-t1n.nii.gz\n",
      "starting n4 bias correction for BraTS-MET-00271-000-t2f.nii.gz\n",
      "finished n4 bias correction for BraTS-MET-00271-000-t2f.nii.gz\n",
      "starting percentile correction for BraTS-MET-00271-000-t2f.nii.gz\n",
      "finished percentile normalization for BraTS-MET-00271-000-t2f.nii.gz\n",
      "starting n4 bias correction for BraTS-MET-00271-000-t1c.nii.gz\n",
      "finished n4 bias correction for BraTS-MET-00271-000-t1c.nii.gz\n",
      "starting percentile correction for BraTS-MET-00271-000-t1c.nii.gz\n",
      "finished percentile normalization for BraTS-MET-00271-000-t1c.nii.gz\n",
      "starting n4 bias correction for BraTS-MET-00271-000-t2w.nii.gz\n",
      "finished n4 bias correction for BraTS-MET-00271-000-t2w.nii.gz\n",
      "starting percentile correction for BraTS-MET-00271-000-t2w.nii.gz\n"
     ]
    },
    {
     "name": "stderr",
     "output_type": "stream",
     "text": [
      " 83%|████████▎ | 161/195 [3:28:32<48:27, 85.53s/it]"
     ]
    },
    {
     "name": "stdout",
     "output_type": "stream",
     "text": [
      "finished percentile normalization for BraTS-MET-00271-000-t2w.nii.gz\n",
      "currently normalizing patient BraTS-MET-00305-000\n",
      "starting n4 bias correction for BraTS-MET-00305-000-t2f.nii.gz\n",
      "finished n4 bias correction for BraTS-MET-00305-000-t2f.nii.gz\n",
      "starting percentile correction for BraTS-MET-00305-000-t2f.nii.gz\n",
      "finished percentile normalization for BraTS-MET-00305-000-t2f.nii.gz\n",
      "starting n4 bias correction for BraTS-MET-00305-000-t1n.nii.gz\n",
      "finished n4 bias correction for BraTS-MET-00305-000-t1n.nii.gz\n",
      "starting percentile correction for BraTS-MET-00305-000-t1n.nii.gz\n",
      "finished percentile normalization for BraTS-MET-00305-000-t1n.nii.gz\n",
      "starting n4 bias correction for BraTS-MET-00305-000-t1c.nii.gz\n",
      "finished n4 bias correction for BraTS-MET-00305-000-t1c.nii.gz\n",
      "starting percentile correction for BraTS-MET-00305-000-t1c.nii.gz\n",
      "finished percentile normalization for BraTS-MET-00305-000-t1c.nii.gz\n",
      "starting n4 bias correction for BraTS-MET-00305-000-t2w.nii.gz\n",
      "finished n4 bias correction for BraTS-MET-00305-000-t2w.nii.gz\n",
      "starting percentile correction for BraTS-MET-00305-000-t2w.nii.gz\n"
     ]
    },
    {
     "name": "stderr",
     "output_type": "stream",
     "text": [
      " 83%|████████▎ | 162/195 [3:30:10<49:11, 89.45s/it]"
     ]
    },
    {
     "name": "stdout",
     "output_type": "stream",
     "text": [
      "finished percentile normalization for BraTS-MET-00305-000-t2w.nii.gz\n",
      "currently normalizing patient BraTS-MET-00107-000\n",
      "starting n4 bias correction for BraTS-MET-00107-000-t2w.nii.gz\n",
      "finished n4 bias correction for BraTS-MET-00107-000-t2w.nii.gz\n",
      "starting percentile correction for BraTS-MET-00107-000-t2w.nii.gz\n",
      "finished percentile normalization for BraTS-MET-00107-000-t2w.nii.gz\n",
      "starting n4 bias correction for BraTS-MET-00107-000-t1c.nii.gz\n",
      "finished n4 bias correction for BraTS-MET-00107-000-t1c.nii.gz\n",
      "starting percentile correction for BraTS-MET-00107-000-t1c.nii.gz\n",
      "finished percentile normalization for BraTS-MET-00107-000-t1c.nii.gz\n",
      "starting n4 bias correction for BraTS-MET-00107-000-t1n.nii.gz\n",
      "finished n4 bias correction for BraTS-MET-00107-000-t1n.nii.gz\n",
      "starting percentile correction for BraTS-MET-00107-000-t1n.nii.gz\n",
      "finished percentile normalization for BraTS-MET-00107-000-t1n.nii.gz\n",
      "starting n4 bias correction for BraTS-MET-00107-000-t2f.nii.gz\n",
      "finished n4 bias correction for BraTS-MET-00107-000-t2f.nii.gz\n",
      "starting percentile correction for BraTS-MET-00107-000-t2f.nii.gz\n"
     ]
    },
    {
     "name": "stderr",
     "output_type": "stream",
     "text": [
      " 84%|████████▎ | 163/195 [3:31:16<43:57, 82.43s/it]"
     ]
    },
    {
     "name": "stdout",
     "output_type": "stream",
     "text": [
      "finished percentile normalization for BraTS-MET-00107-000-t2f.nii.gz\n",
      "currently normalizing patient BraTS-MET-00113-000\n",
      "starting n4 bias correction for BraTS-MET-00113-000-t2w.nii.gz\n",
      "finished n4 bias correction for BraTS-MET-00113-000-t2w.nii.gz\n",
      "starting percentile correction for BraTS-MET-00113-000-t2w.nii.gz\n",
      "finished percentile normalization for BraTS-MET-00113-000-t2w.nii.gz\n",
      "starting n4 bias correction for BraTS-MET-00113-000-t1c.nii.gz\n",
      "finished n4 bias correction for BraTS-MET-00113-000-t1c.nii.gz\n",
      "starting percentile correction for BraTS-MET-00113-000-t1c.nii.gz\n",
      "finished percentile normalization for BraTS-MET-00113-000-t1c.nii.gz\n",
      "starting n4 bias correction for BraTS-MET-00113-000-t2f.nii.gz\n",
      "finished n4 bias correction for BraTS-MET-00113-000-t2f.nii.gz\n",
      "starting percentile correction for BraTS-MET-00113-000-t2f.nii.gz\n",
      "finished percentile normalization for BraTS-MET-00113-000-t2f.nii.gz\n",
      "starting n4 bias correction for BraTS-MET-00113-000-t1n.nii.gz\n",
      "finished n4 bias correction for BraTS-MET-00113-000-t1n.nii.gz\n",
      "starting percentile correction for BraTS-MET-00113-000-t1n.nii.gz\n"
     ]
    },
    {
     "name": "stderr",
     "output_type": "stream",
     "text": [
      " 84%|████████▍ | 164/195 [3:32:32<41:32, 80.41s/it]"
     ]
    },
    {
     "name": "stdout",
     "output_type": "stream",
     "text": [
      "finished percentile normalization for BraTS-MET-00113-000-t1n.nii.gz\n",
      "currently normalizing patient BraTS-MET-00112-000\n",
      "starting n4 bias correction for BraTS-MET-00112-000-t2w.nii.gz\n",
      "finished n4 bias correction for BraTS-MET-00112-000-t2w.nii.gz\n",
      "starting percentile correction for BraTS-MET-00112-000-t2w.nii.gz\n",
      "finished percentile normalization for BraTS-MET-00112-000-t2w.nii.gz\n",
      "starting n4 bias correction for BraTS-MET-00112-000-t1c.nii.gz\n",
      "finished n4 bias correction for BraTS-MET-00112-000-t1c.nii.gz\n",
      "starting percentile correction for BraTS-MET-00112-000-t1c.nii.gz\n",
      "finished percentile normalization for BraTS-MET-00112-000-t1c.nii.gz\n",
      "starting n4 bias correction for BraTS-MET-00112-000-t1n.nii.gz\n",
      "finished n4 bias correction for BraTS-MET-00112-000-t1n.nii.gz\n",
      "starting percentile correction for BraTS-MET-00112-000-t1n.nii.gz\n",
      "finished percentile normalization for BraTS-MET-00112-000-t1n.nii.gz\n",
      "starting n4 bias correction for BraTS-MET-00112-000-t2f.nii.gz\n",
      "finished n4 bias correction for BraTS-MET-00112-000-t2f.nii.gz\n",
      "starting percentile correction for BraTS-MET-00112-000-t2f.nii.gz\n"
     ]
    },
    {
     "name": "stderr",
     "output_type": "stream",
     "text": [
      " 85%|████████▍ | 165/195 [3:33:26<36:15, 72.50s/it]"
     ]
    },
    {
     "name": "stdout",
     "output_type": "stream",
     "text": [
      "finished percentile normalization for BraTS-MET-00112-000-t2f.nii.gz\n",
      "currently normalizing patient BraTS-MET-00106-000\n",
      "starting n4 bias correction for BraTS-MET-00106-000-t2w.nii.gz\n",
      "finished n4 bias correction for BraTS-MET-00106-000-t2w.nii.gz\n",
      "starting percentile correction for BraTS-MET-00106-000-t2w.nii.gz\n",
      "finished percentile normalization for BraTS-MET-00106-000-t2w.nii.gz\n",
      "starting n4 bias correction for BraTS-MET-00106-000-t1c.nii.gz\n",
      "finished n4 bias correction for BraTS-MET-00106-000-t1c.nii.gz\n",
      "starting percentile correction for BraTS-MET-00106-000-t1c.nii.gz\n",
      "finished percentile normalization for BraTS-MET-00106-000-t1c.nii.gz\n",
      "starting n4 bias correction for BraTS-MET-00106-000-t2f.nii.gz\n",
      "finished n4 bias correction for BraTS-MET-00106-000-t2f.nii.gz\n",
      "starting percentile correction for BraTS-MET-00106-000-t2f.nii.gz\n",
      "finished percentile normalization for BraTS-MET-00106-000-t2f.nii.gz\n",
      "starting n4 bias correction for BraTS-MET-00106-000-t1n.nii.gz\n",
      "finished n4 bias correction for BraTS-MET-00106-000-t1n.nii.gz\n",
      "starting percentile correction for BraTS-MET-00106-000-t1n.nii.gz\n"
     ]
    },
    {
     "name": "stderr",
     "output_type": "stream",
     "text": [
      " 85%|████████▌ | 166/195 [3:34:19<32:09, 66.54s/it]"
     ]
    },
    {
     "name": "stdout",
     "output_type": "stream",
     "text": [
      "finished percentile normalization for BraTS-MET-00106-000-t1n.nii.gz\n",
      "currently normalizing patient BraTS-MET-00310-000\n",
      "starting n4 bias correction for BraTS-MET-00310-000-t2f.nii.gz\n",
      "finished n4 bias correction for BraTS-MET-00310-000-t2f.nii.gz\n",
      "starting percentile correction for BraTS-MET-00310-000-t2f.nii.gz\n",
      "finished percentile normalization for BraTS-MET-00310-000-t2f.nii.gz\n",
      "starting n4 bias correction for BraTS-MET-00310-000-t1n.nii.gz\n",
      "finished n4 bias correction for BraTS-MET-00310-000-t1n.nii.gz\n",
      "starting percentile correction for BraTS-MET-00310-000-t1n.nii.gz\n",
      "finished percentile normalization for BraTS-MET-00310-000-t1n.nii.gz\n",
      "starting n4 bias correction for BraTS-MET-00310-000-t1c.nii.gz\n",
      "finished n4 bias correction for BraTS-MET-00310-000-t1c.nii.gz\n",
      "starting percentile correction for BraTS-MET-00310-000-t1c.nii.gz\n",
      "Percentile normalization failed. Upper value: 0.9999998809099198, lower value: 0.0\n",
      "finished percentile normalization for BraTS-MET-00310-000-t1c.nii.gz\n",
      "starting n4 bias correction for BraTS-MET-00310-000-t2w.nii.gz\n",
      "finished n4 bias correction for BraTS-MET-00310-000-t2w.nii.gz\n",
      "starting percentile correction for BraTS-MET-00310-000-t2w.nii.gz\n"
     ]
    },
    {
     "name": "stderr",
     "output_type": "stream",
     "text": [
      " 86%|████████▌ | 167/195 [3:35:43<33:33, 71.93s/it]"
     ]
    },
    {
     "name": "stdout",
     "output_type": "stream",
     "text": [
      "finished percentile normalization for BraTS-MET-00310-000-t2w.nii.gz\n",
      "currently normalizing patient BraTS-MET-00304-000\n",
      "starting n4 bias correction for BraTS-MET-00304-000-t1n.nii.gz\n",
      "finished n4 bias correction for BraTS-MET-00304-000-t1n.nii.gz\n",
      "starting percentile correction for BraTS-MET-00304-000-t1n.nii.gz\n",
      "finished percentile normalization for BraTS-MET-00304-000-t1n.nii.gz\n",
      "starting n4 bias correction for BraTS-MET-00304-000-t2f.nii.gz\n",
      "finished n4 bias correction for BraTS-MET-00304-000-t2f.nii.gz\n",
      "starting percentile correction for BraTS-MET-00304-000-t2f.nii.gz\n",
      "finished percentile normalization for BraTS-MET-00304-000-t2f.nii.gz\n",
      "starting n4 bias correction for BraTS-MET-00304-000-t1c.nii.gz\n",
      "finished n4 bias correction for BraTS-MET-00304-000-t1c.nii.gz\n",
      "starting percentile correction for BraTS-MET-00304-000-t1c.nii.gz\n",
      "finished percentile normalization for BraTS-MET-00304-000-t1c.nii.gz\n",
      "starting n4 bias correction for BraTS-MET-00304-000-t2w.nii.gz\n",
      "finished n4 bias correction for BraTS-MET-00304-000-t2w.nii.gz\n",
      "starting percentile correction for BraTS-MET-00304-000-t2w.nii.gz\n"
     ]
    },
    {
     "name": "stderr",
     "output_type": "stream",
     "text": [
      " 86%|████████▌ | 168/195 [3:36:37<29:57, 66.58s/it]"
     ]
    },
    {
     "name": "stdout",
     "output_type": "stream",
     "text": [
      "finished percentile normalization for BraTS-MET-00304-000-t2w.nii.gz\n",
      "currently normalizing patient BraTS-MET-00264-000\n",
      "starting n4 bias correction for BraTS-MET-00264-000-t1n.nii.gz\n",
      "finished n4 bias correction for BraTS-MET-00264-000-t1n.nii.gz\n",
      "starting percentile correction for BraTS-MET-00264-000-t1n.nii.gz\n",
      "finished percentile normalization for BraTS-MET-00264-000-t1n.nii.gz\n",
      "starting n4 bias correction for BraTS-MET-00264-000-t2f.nii.gz\n",
      "finished n4 bias correction for BraTS-MET-00264-000-t2f.nii.gz\n",
      "starting percentile correction for BraTS-MET-00264-000-t2f.nii.gz\n",
      "finished percentile normalization for BraTS-MET-00264-000-t2f.nii.gz\n",
      "starting n4 bias correction for BraTS-MET-00264-000-t1c.nii.gz\n",
      "finished n4 bias correction for BraTS-MET-00264-000-t1c.nii.gz\n",
      "starting percentile correction for BraTS-MET-00264-000-t1c.nii.gz\n",
      "finished percentile normalization for BraTS-MET-00264-000-t1c.nii.gz\n",
      "starting n4 bias correction for BraTS-MET-00264-000-t2w.nii.gz\n",
      "finished n4 bias correction for BraTS-MET-00264-000-t2w.nii.gz\n",
      "starting percentile correction for BraTS-MET-00264-000-t2w.nii.gz\n"
     ]
    },
    {
     "name": "stderr",
     "output_type": "stream",
     "text": [
      " 87%|████████▋ | 169/195 [3:39:11<40:07, 92.60s/it]"
     ]
    },
    {
     "name": "stdout",
     "output_type": "stream",
     "text": [
      "finished percentile normalization for BraTS-MET-00264-000-t2w.nii.gz\n",
      "currently normalizing patient BraTS-MET-00270-000\n",
      "starting n4 bias correction for BraTS-MET-00270-000-t2f.nii.gz\n",
      "finished n4 bias correction for BraTS-MET-00270-000-t2f.nii.gz\n",
      "starting percentile correction for BraTS-MET-00270-000-t2f.nii.gz\n",
      "finished percentile normalization for BraTS-MET-00270-000-t2f.nii.gz\n",
      "starting n4 bias correction for BraTS-MET-00270-000-t1n.nii.gz\n",
      "finished n4 bias correction for BraTS-MET-00270-000-t1n.nii.gz\n",
      "starting percentile correction for BraTS-MET-00270-000-t1n.nii.gz\n",
      "finished percentile normalization for BraTS-MET-00270-000-t1n.nii.gz\n",
      "starting n4 bias correction for BraTS-MET-00270-000-t1c.nii.gz\n",
      "finished n4 bias correction for BraTS-MET-00270-000-t1c.nii.gz\n",
      "starting percentile correction for BraTS-MET-00270-000-t1c.nii.gz\n",
      "Percentile normalization failed. Upper value: 0.9999999404549599, lower value: 0.0\n",
      "finished percentile normalization for BraTS-MET-00270-000-t1c.nii.gz\n",
      "starting n4 bias correction for BraTS-MET-00270-000-t2w.nii.gz\n",
      "finished n4 bias correction for BraTS-MET-00270-000-t2w.nii.gz\n",
      "starting percentile correction for BraTS-MET-00270-000-t2w.nii.gz\n"
     ]
    },
    {
     "name": "stderr",
     "output_type": "stream",
     "text": [
      " 87%|████████▋ | 170/195 [3:41:46<46:25, 111.42s/it]"
     ]
    },
    {
     "name": "stdout",
     "output_type": "stream",
     "text": [
      "finished percentile normalization for BraTS-MET-00270-000-t2w.nii.gz\n",
      "currently normalizing patient BraTS-MET-00258-000\n",
      "starting n4 bias correction for BraTS-MET-00258-000-t2w.nii.gz\n",
      "finished n4 bias correction for BraTS-MET-00258-000-t2w.nii.gz\n",
      "starting percentile correction for BraTS-MET-00258-000-t2w.nii.gz\n",
      "finished percentile normalization for BraTS-MET-00258-000-t2w.nii.gz\n",
      "starting n4 bias correction for BraTS-MET-00258-000-t1c.nii.gz\n",
      "finished n4 bias correction for BraTS-MET-00258-000-t1c.nii.gz\n",
      "starting percentile correction for BraTS-MET-00258-000-t1c.nii.gz\n",
      "finished percentile normalization for BraTS-MET-00258-000-t1c.nii.gz\n",
      "starting n4 bias correction for BraTS-MET-00258-000-t2f.nii.gz\n",
      "finished n4 bias correction for BraTS-MET-00258-000-t2f.nii.gz\n",
      "starting percentile correction for BraTS-MET-00258-000-t2f.nii.gz\n",
      "finished percentile normalization for BraTS-MET-00258-000-t2f.nii.gz\n",
      "starting n4 bias correction for BraTS-MET-00258-000-t1n.nii.gz\n",
      "finished n4 bias correction for BraTS-MET-00258-000-t1n.nii.gz\n",
      "starting percentile correction for BraTS-MET-00258-000-t1n.nii.gz\n"
     ]
    },
    {
     "name": "stderr",
     "output_type": "stream",
     "text": [
      " 88%|████████▊ | 171/195 [3:42:48<38:38, 96.58s/it] "
     ]
    },
    {
     "name": "stdout",
     "output_type": "stream",
     "text": [
      "finished percentile normalization for BraTS-MET-00258-000-t1n.nii.gz\n",
      "currently normalizing patient BraTS-MET-00089-000\n",
      "starting n4 bias correction for BraTS-MET-00089-000-t1c.nii.gz\n",
      "finished n4 bias correction for BraTS-MET-00089-000-t1c.nii.gz\n",
      "starting percentile correction for BraTS-MET-00089-000-t1c.nii.gz\n",
      "finished percentile normalization for BraTS-MET-00089-000-t1c.nii.gz\n",
      "starting n4 bias correction for BraTS-MET-00089-000-t2w.nii.gz\n",
      "finished n4 bias correction for BraTS-MET-00089-000-t2w.nii.gz\n",
      "starting percentile correction for BraTS-MET-00089-000-t2w.nii.gz\n",
      "finished percentile normalization for BraTS-MET-00089-000-t2w.nii.gz\n",
      "starting n4 bias correction for BraTS-MET-00089-000-t1n.nii.gz\n",
      "finished n4 bias correction for BraTS-MET-00089-000-t1n.nii.gz\n",
      "starting percentile correction for BraTS-MET-00089-000-t1n.nii.gz\n",
      "finished percentile normalization for BraTS-MET-00089-000-t1n.nii.gz\n",
      "starting n4 bias correction for BraTS-MET-00089-000-t2f.nii.gz\n",
      "finished n4 bias correction for BraTS-MET-00089-000-t2f.nii.gz\n",
      "starting percentile correction for BraTS-MET-00089-000-t2f.nii.gz\n"
     ]
    },
    {
     "name": "stderr",
     "output_type": "stream",
     "text": [
      " 88%|████████▊ | 172/195 [3:43:49<32:58, 86.02s/it]"
     ]
    },
    {
     "name": "stdout",
     "output_type": "stream",
     "text": [
      "finished percentile normalization for BraTS-MET-00089-000-t2f.nii.gz\n",
      "currently normalizing patient BraTS-MET-00274-000\n",
      "starting n4 bias correction for BraTS-MET-00274-000-t2f.nii.gz\n",
      "finished n4 bias correction for BraTS-MET-00274-000-t2f.nii.gz\n",
      "starting percentile correction for BraTS-MET-00274-000-t2f.nii.gz\n",
      "finished percentile normalization for BraTS-MET-00274-000-t2f.nii.gz\n",
      "starting n4 bias correction for BraTS-MET-00274-000-t1n.nii.gz\n",
      "finished n4 bias correction for BraTS-MET-00274-000-t1n.nii.gz\n",
      "starting percentile correction for BraTS-MET-00274-000-t1n.nii.gz\n",
      "finished percentile normalization for BraTS-MET-00274-000-t1n.nii.gz\n",
      "starting n4 bias correction for BraTS-MET-00274-000-t2w.nii.gz\n",
      "finished n4 bias correction for BraTS-MET-00274-000-t2w.nii.gz\n",
      "starting percentile correction for BraTS-MET-00274-000-t2w.nii.gz\n",
      "finished percentile normalization for BraTS-MET-00274-000-t2w.nii.gz\n",
      "starting n4 bias correction for BraTS-MET-00274-000-t1c.nii.gz\n",
      "finished n4 bias correction for BraTS-MET-00274-000-t1c.nii.gz\n",
      "starting percentile correction for BraTS-MET-00274-000-t1c.nii.gz\n"
     ]
    },
    {
     "name": "stderr",
     "output_type": "stream",
     "text": [
      " 89%|████████▊ | 173/195 [3:45:17<31:39, 86.34s/it]"
     ]
    },
    {
     "name": "stdout",
     "output_type": "stream",
     "text": [
      "finished percentile normalization for BraTS-MET-00274-000-t1c.nii.gz\n",
      "currently normalizing patient BraTS-MET-00260-000\n",
      "starting n4 bias correction for BraTS-MET-00260-000-t1n.nii.gz\n",
      "finished n4 bias correction for BraTS-MET-00260-000-t1n.nii.gz\n",
      "starting percentile correction for BraTS-MET-00260-000-t1n.nii.gz\n",
      "Percentile normalization failed. Upper value: 0.9999998213648796, lower value: 0.0\n",
      "finished percentile normalization for BraTS-MET-00260-000-t1n.nii.gz\n",
      "starting n4 bias correction for BraTS-MET-00260-000-t2f.nii.gz\n",
      "finished n4 bias correction for BraTS-MET-00260-000-t2f.nii.gz\n",
      "starting percentile correction for BraTS-MET-00260-000-t2f.nii.gz\n",
      "finished percentile normalization for BraTS-MET-00260-000-t2f.nii.gz\n",
      "starting n4 bias correction for BraTS-MET-00260-000-t2w.nii.gz\n",
      "finished n4 bias correction for BraTS-MET-00260-000-t2w.nii.gz\n",
      "starting percentile correction for BraTS-MET-00260-000-t2w.nii.gz\n",
      "finished percentile normalization for BraTS-MET-00260-000-t2w.nii.gz\n",
      "starting n4 bias correction for BraTS-MET-00260-000-t1c.nii.gz\n",
      "finished n4 bias correction for BraTS-MET-00260-000-t1c.nii.gz\n",
      "starting percentile correction for BraTS-MET-00260-000-t1c.nii.gz\n"
     ]
    },
    {
     "name": "stderr",
     "output_type": "stream",
     "text": [
      " 89%|████████▉ | 174/195 [3:46:35<29:24, 84.01s/it]"
     ]
    },
    {
     "name": "stdout",
     "output_type": "stream",
     "text": [
      "finished percentile normalization for BraTS-MET-00260-000-t1c.nii.gz\n",
      "currently normalizing patient BraTS-MET-00248-000\n",
      "starting n4 bias correction for BraTS-MET-00248-000-t1c.nii.gz\n",
      "finished n4 bias correction for BraTS-MET-00248-000-t1c.nii.gz\n",
      "starting percentile correction for BraTS-MET-00248-000-t1c.nii.gz\n",
      "finished percentile normalization for BraTS-MET-00248-000-t1c.nii.gz\n",
      "starting n4 bias correction for BraTS-MET-00248-000-t2w.nii.gz\n",
      "finished n4 bias correction for BraTS-MET-00248-000-t2w.nii.gz\n",
      "starting percentile correction for BraTS-MET-00248-000-t2w.nii.gz\n",
      "finished percentile normalization for BraTS-MET-00248-000-t2w.nii.gz\n",
      "starting n4 bias correction for BraTS-MET-00248-000-t1n.nii.gz\n",
      "finished n4 bias correction for BraTS-MET-00248-000-t1n.nii.gz\n",
      "starting percentile correction for BraTS-MET-00248-000-t1n.nii.gz\n",
      "finished percentile normalization for BraTS-MET-00248-000-t1n.nii.gz\n",
      "starting n4 bias correction for BraTS-MET-00248-000-t2f.nii.gz\n",
      "finished n4 bias correction for BraTS-MET-00248-000-t2f.nii.gz\n",
      "starting percentile correction for BraTS-MET-00248-000-t2f.nii.gz\n"
     ]
    },
    {
     "name": "stderr",
     "output_type": "stream",
     "text": [
      " 90%|████████▉ | 175/195 [3:47:58<27:55, 83.78s/it]"
     ]
    },
    {
     "name": "stdout",
     "output_type": "stream",
     "text": [
      "finished percentile normalization for BraTS-MET-00248-000-t2f.nii.gz\n",
      "currently normalizing patient BraTS-MET-00300-000\n",
      "starting n4 bias correction for BraTS-MET-00300-000-t1n.nii.gz\n",
      "finished n4 bias correction for BraTS-MET-00300-000-t1n.nii.gz\n",
      "starting percentile correction for BraTS-MET-00300-000-t1n.nii.gz\n",
      "finished percentile normalization for BraTS-MET-00300-000-t1n.nii.gz\n",
      "starting n4 bias correction for BraTS-MET-00300-000-t2f.nii.gz\n",
      "finished n4 bias correction for BraTS-MET-00300-000-t2f.nii.gz\n",
      "starting percentile correction for BraTS-MET-00300-000-t2f.nii.gz\n",
      "finished percentile normalization for BraTS-MET-00300-000-t2f.nii.gz\n",
      "starting n4 bias correction for BraTS-MET-00300-000-t2w.nii.gz\n",
      "finished n4 bias correction for BraTS-MET-00300-000-t2w.nii.gz\n",
      "starting percentile correction for BraTS-MET-00300-000-t2w.nii.gz\n",
      "finished percentile normalization for BraTS-MET-00300-000-t2w.nii.gz\n",
      "starting n4 bias correction for BraTS-MET-00300-000-t1c.nii.gz\n",
      "finished n4 bias correction for BraTS-MET-00300-000-t1c.nii.gz\n",
      "starting percentile correction for BraTS-MET-00300-000-t1c.nii.gz\n"
     ]
    },
    {
     "name": "stderr",
     "output_type": "stream",
     "text": [
      " 90%|█████████ | 176/195 [3:49:20<26:18, 83.08s/it]"
     ]
    },
    {
     "name": "stdout",
     "output_type": "stream",
     "text": [
      "finished percentile normalization for BraTS-MET-00300-000-t1c.nii.gz\n",
      "currently normalizing patient BraTS-MET-00102-000\n",
      "starting n4 bias correction for BraTS-MET-00102-000-t1c.nii.gz\n",
      "finished n4 bias correction for BraTS-MET-00102-000-t1c.nii.gz\n",
      "starting percentile correction for BraTS-MET-00102-000-t1c.nii.gz\n",
      "Percentile normalization failed. Upper value: 0.9999999404549599, lower value: 0.0\n",
      "finished percentile normalization for BraTS-MET-00102-000-t1c.nii.gz\n",
      "starting n4 bias correction for BraTS-MET-00102-000-t2w.nii.gz\n",
      "finished n4 bias correction for BraTS-MET-00102-000-t2w.nii.gz\n",
      "starting percentile correction for BraTS-MET-00102-000-t2w.nii.gz\n",
      "finished percentile normalization for BraTS-MET-00102-000-t2w.nii.gz\n",
      "starting n4 bias correction for BraTS-MET-00102-000-t2f.nii.gz\n",
      "finished n4 bias correction for BraTS-MET-00102-000-t2f.nii.gz\n",
      "starting percentile correction for BraTS-MET-00102-000-t2f.nii.gz\n",
      "finished percentile normalization for BraTS-MET-00102-000-t2f.nii.gz\n",
      "starting n4 bias correction for BraTS-MET-00102-000-t1n.nii.gz\n",
      "finished n4 bias correction for BraTS-MET-00102-000-t1n.nii.gz\n",
      "starting percentile correction for BraTS-MET-00102-000-t1n.nii.gz\n"
     ]
    },
    {
     "name": "stderr",
     "output_type": "stream",
     "text": [
      " 91%|█████████ | 177/195 [3:50:43<24:55, 83.09s/it]"
     ]
    },
    {
     "name": "stdout",
     "output_type": "stream",
     "text": [
      "finished percentile normalization for BraTS-MET-00102-000-t1n.nii.gz\n",
      "currently normalizing patient BraTS-MET-00116-000\n",
      "starting n4 bias correction for BraTS-MET-00116-000-t1c.nii.gz\n",
      "finished n4 bias correction for BraTS-MET-00116-000-t1c.nii.gz\n",
      "starting percentile correction for BraTS-MET-00116-000-t1c.nii.gz\n",
      "finished percentile normalization for BraTS-MET-00116-000-t1c.nii.gz\n",
      "starting n4 bias correction for BraTS-MET-00116-000-t2w.nii.gz\n",
      "finished n4 bias correction for BraTS-MET-00116-000-t2w.nii.gz\n",
      "starting percentile correction for BraTS-MET-00116-000-t2w.nii.gz\n",
      "finished percentile normalization for BraTS-MET-00116-000-t2w.nii.gz\n",
      "starting n4 bias correction for BraTS-MET-00116-000-t1n.nii.gz\n",
      "finished n4 bias correction for BraTS-MET-00116-000-t1n.nii.gz\n",
      "starting percentile correction for BraTS-MET-00116-000-t1n.nii.gz\n",
      "finished percentile normalization for BraTS-MET-00116-000-t1n.nii.gz\n",
      "starting n4 bias correction for BraTS-MET-00116-000-t2f.nii.gz\n",
      "finished n4 bias correction for BraTS-MET-00116-000-t2f.nii.gz\n",
      "starting percentile correction for BraTS-MET-00116-000-t2f.nii.gz\n"
     ]
    },
    {
     "name": "stderr",
     "output_type": "stream",
     "text": [
      " 91%|█████████▏| 178/195 [3:51:54<22:32, 79.54s/it]"
     ]
    },
    {
     "name": "stdout",
     "output_type": "stream",
     "text": [
      "finished percentile normalization for BraTS-MET-00116-000-t2f.nii.gz\n",
      "currently normalizing patient BraTS-MET-00117-000\n",
      "starting n4 bias correction for BraTS-MET-00117-000-t1c.nii.gz\n",
      "finished n4 bias correction for BraTS-MET-00117-000-t1c.nii.gz\n",
      "starting percentile correction for BraTS-MET-00117-000-t1c.nii.gz\n",
      "Percentile normalization failed. Upper value: 0.9999998809099198, lower value: 0.0\n",
      "finished percentile normalization for BraTS-MET-00117-000-t1c.nii.gz\n",
      "starting n4 bias correction for BraTS-MET-00117-000-t2w.nii.gz\n",
      "finished n4 bias correction for BraTS-MET-00117-000-t2w.nii.gz\n",
      "starting percentile correction for BraTS-MET-00117-000-t2w.nii.gz\n",
      "finished percentile normalization for BraTS-MET-00117-000-t2w.nii.gz\n",
      "starting n4 bias correction for BraTS-MET-00117-000-t2f.nii.gz\n",
      "finished n4 bias correction for BraTS-MET-00117-000-t2f.nii.gz\n",
      "starting percentile correction for BraTS-MET-00117-000-t2f.nii.gz\n",
      "finished percentile normalization for BraTS-MET-00117-000-t2f.nii.gz\n",
      "starting n4 bias correction for BraTS-MET-00117-000-t1n.nii.gz\n",
      "finished n4 bias correction for BraTS-MET-00117-000-t1n.nii.gz\n",
      "starting percentile correction for BraTS-MET-00117-000-t1n.nii.gz\n"
     ]
    },
    {
     "name": "stderr",
     "output_type": "stream",
     "text": [
      " 92%|█████████▏| 179/195 [3:52:58<19:56, 74.75s/it]"
     ]
    },
    {
     "name": "stdout",
     "output_type": "stream",
     "text": [
      "finished percentile normalization for BraTS-MET-00117-000-t1n.nii.gz\n",
      "currently normalizing patient BraTS-MET-00301-000\n",
      "starting n4 bias correction for BraTS-MET-00301-000-t2f.nii.gz\n",
      "finished n4 bias correction for BraTS-MET-00301-000-t2f.nii.gz\n",
      "starting percentile correction for BraTS-MET-00301-000-t2f.nii.gz\n",
      "finished percentile normalization for BraTS-MET-00301-000-t2f.nii.gz\n",
      "starting n4 bias correction for BraTS-MET-00301-000-t1n.nii.gz\n",
      "finished n4 bias correction for BraTS-MET-00301-000-t1n.nii.gz\n",
      "starting percentile correction for BraTS-MET-00301-000-t1n.nii.gz\n",
      "finished percentile normalization for BraTS-MET-00301-000-t1n.nii.gz\n",
      "starting n4 bias correction for BraTS-MET-00301-000-t2w.nii.gz\n",
      "finished n4 bias correction for BraTS-MET-00301-000-t2w.nii.gz\n",
      "starting percentile correction for BraTS-MET-00301-000-t2w.nii.gz\n",
      "finished percentile normalization for BraTS-MET-00301-000-t2w.nii.gz\n",
      "starting n4 bias correction for BraTS-MET-00301-000-t1c.nii.gz\n",
      "finished n4 bias correction for BraTS-MET-00301-000-t1c.nii.gz\n",
      "starting percentile correction for BraTS-MET-00301-000-t1c.nii.gz\n"
     ]
    },
    {
     "name": "stderr",
     "output_type": "stream",
     "text": [
      " 92%|█████████▏| 180/195 [3:54:19<19:12, 76.81s/it]"
     ]
    },
    {
     "name": "stdout",
     "output_type": "stream",
     "text": [
      "finished percentile normalization for BraTS-MET-00301-000-t1c.nii.gz\n",
      "currently normalizing patient BraTS-MET-00249-000\n",
      "starting n4 bias correction for BraTS-MET-00249-000-t1c.nii.gz\n",
      "finished n4 bias correction for BraTS-MET-00249-000-t1c.nii.gz\n",
      "starting percentile correction for BraTS-MET-00249-000-t1c.nii.gz\n",
      "finished percentile normalization for BraTS-MET-00249-000-t1c.nii.gz\n",
      "starting n4 bias correction for BraTS-MET-00249-000-t2w.nii.gz\n",
      "finished n4 bias correction for BraTS-MET-00249-000-t2w.nii.gz\n",
      "starting percentile correction for BraTS-MET-00249-000-t2w.nii.gz\n",
      "finished percentile normalization for BraTS-MET-00249-000-t2w.nii.gz\n",
      "starting n4 bias correction for BraTS-MET-00249-000-t2f.nii.gz\n",
      "finished n4 bias correction for BraTS-MET-00249-000-t2f.nii.gz\n",
      "starting percentile correction for BraTS-MET-00249-000-t2f.nii.gz\n",
      "finished percentile normalization for BraTS-MET-00249-000-t2f.nii.gz\n",
      "starting n4 bias correction for BraTS-MET-00249-000-t1n.nii.gz\n",
      "finished n4 bias correction for BraTS-MET-00249-000-t1n.nii.gz\n",
      "starting percentile correction for BraTS-MET-00249-000-t1n.nii.gz\n"
     ]
    },
    {
     "name": "stderr",
     "output_type": "stream",
     "text": [
      " 93%|█████████▎| 181/195 [3:56:06<20:02, 85.91s/it]"
     ]
    },
    {
     "name": "stdout",
     "output_type": "stream",
     "text": [
      "finished percentile normalization for BraTS-MET-00249-000-t1n.nii.gz\n",
      "currently normalizing patient BraTS-MET-00275-000\n",
      "starting n4 bias correction for BraTS-MET-00275-000-t1n.nii.gz\n",
      "finished n4 bias correction for BraTS-MET-00275-000-t1n.nii.gz\n",
      "starting percentile correction for BraTS-MET-00275-000-t1n.nii.gz\n",
      "finished percentile normalization for BraTS-MET-00275-000-t1n.nii.gz\n",
      "starting n4 bias correction for BraTS-MET-00275-000-t2f.nii.gz\n",
      "finished n4 bias correction for BraTS-MET-00275-000-t2f.nii.gz\n",
      "starting percentile correction for BraTS-MET-00275-000-t2f.nii.gz\n",
      "finished percentile normalization for BraTS-MET-00275-000-t2f.nii.gz\n",
      "starting n4 bias correction for BraTS-MET-00275-000-t2w.nii.gz\n",
      "finished n4 bias correction for BraTS-MET-00275-000-t2w.nii.gz\n",
      "starting percentile correction for BraTS-MET-00275-000-t2w.nii.gz\n",
      "finished percentile normalization for BraTS-MET-00275-000-t2w.nii.gz\n",
      "starting n4 bias correction for BraTS-MET-00275-000-t1c.nii.gz\n",
      "finished n4 bias correction for BraTS-MET-00275-000-t1c.nii.gz\n",
      "starting percentile correction for BraTS-MET-00275-000-t1c.nii.gz\n"
     ]
    },
    {
     "name": "stderr",
     "output_type": "stream",
     "text": [
      " 93%|█████████▎| 182/195 [3:57:37<18:53, 87.17s/it]"
     ]
    },
    {
     "name": "stdout",
     "output_type": "stream",
     "text": [
      "finished percentile normalization for BraTS-MET-00275-000-t1c.nii.gz\n",
      "currently normalizing patient BraTS-MET-00288-000\n",
      "starting n4 bias correction for BraTS-MET-00288-000-t2f.nii.gz\n",
      "finished n4 bias correction for BraTS-MET-00288-000-t2f.nii.gz\n",
      "starting percentile correction for BraTS-MET-00288-000-t2f.nii.gz\n",
      "finished percentile normalization for BraTS-MET-00288-000-t2f.nii.gz\n",
      "starting n4 bias correction for BraTS-MET-00288-000-t1n.nii.gz\n",
      "finished n4 bias correction for BraTS-MET-00288-000-t1n.nii.gz\n",
      "starting percentile correction for BraTS-MET-00288-000-t1n.nii.gz\n",
      "finished percentile normalization for BraTS-MET-00288-000-t1n.nii.gz\n",
      "starting n4 bias correction for BraTS-MET-00288-000-t1c.nii.gz\n",
      "finished n4 bias correction for BraTS-MET-00288-000-t1c.nii.gz\n",
      "starting percentile correction for BraTS-MET-00288-000-t1c.nii.gz\n",
      "finished percentile normalization for BraTS-MET-00288-000-t1c.nii.gz\n",
      "starting n4 bias correction for BraTS-MET-00288-000-t2w.nii.gz\n",
      "finished n4 bias correction for BraTS-MET-00288-000-t2w.nii.gz\n",
      "starting percentile correction for BraTS-MET-00288-000-t2w.nii.gz\n"
     ]
    },
    {
     "name": "stderr",
     "output_type": "stream",
     "text": [
      " 94%|█████████▍| 183/195 [3:59:00<17:12, 86.04s/it]"
     ]
    },
    {
     "name": "stdout",
     "output_type": "stream",
     "text": [
      "finished percentile normalization for BraTS-MET-00288-000-t2w.nii.gz\n",
      "currently normalizing patient BraTS-MET-00263-000\n",
      "starting n4 bias correction for BraTS-MET-00263-000-t1n.nii.gz\n",
      "finished n4 bias correction for BraTS-MET-00263-000-t1n.nii.gz\n",
      "starting percentile correction for BraTS-MET-00263-000-t1n.nii.gz\n",
      "finished percentile normalization for BraTS-MET-00263-000-t1n.nii.gz\n",
      "starting n4 bias correction for BraTS-MET-00263-000-t2f.nii.gz\n",
      "finished n4 bias correction for BraTS-MET-00263-000-t2f.nii.gz\n",
      "starting percentile correction for BraTS-MET-00263-000-t2f.nii.gz\n",
      "finished percentile normalization for BraTS-MET-00263-000-t2f.nii.gz\n",
      "starting n4 bias correction for BraTS-MET-00263-000-t1c.nii.gz\n",
      "finished n4 bias correction for BraTS-MET-00263-000-t1c.nii.gz\n",
      "starting percentile correction for BraTS-MET-00263-000-t1c.nii.gz\n",
      "finished percentile normalization for BraTS-MET-00263-000-t1c.nii.gz\n",
      "starting n4 bias correction for BraTS-MET-00263-000-t2w.nii.gz\n",
      "finished n4 bias correction for BraTS-MET-00263-000-t2w.nii.gz\n",
      "starting percentile correction for BraTS-MET-00263-000-t2w.nii.gz\n"
     ]
    },
    {
     "name": "stderr",
     "output_type": "stream",
     "text": [
      " 94%|█████████▍| 184/195 [4:00:02<14:27, 78.84s/it]"
     ]
    },
    {
     "name": "stdout",
     "output_type": "stream",
     "text": [
      "finished percentile normalization for BraTS-MET-00263-000-t2w.nii.gz\n",
      "currently normalizing patient BraTS-MET-00277-000\n",
      "starting n4 bias correction for BraTS-MET-00277-000-t2f.nii.gz\n",
      "finished n4 bias correction for BraTS-MET-00277-000-t2f.nii.gz\n",
      "starting percentile correction for BraTS-MET-00277-000-t2f.nii.gz\n",
      "finished percentile normalization for BraTS-MET-00277-000-t2f.nii.gz\n",
      "starting n4 bias correction for BraTS-MET-00277-000-t1n.nii.gz\n",
      "finished n4 bias correction for BraTS-MET-00277-000-t1n.nii.gz\n",
      "starting percentile correction for BraTS-MET-00277-000-t1n.nii.gz\n",
      "finished percentile normalization for BraTS-MET-00277-000-t1n.nii.gz\n",
      "starting n4 bias correction for BraTS-MET-00277-000-t1c.nii.gz\n",
      "finished n4 bias correction for BraTS-MET-00277-000-t1c.nii.gz\n",
      "starting percentile correction for BraTS-MET-00277-000-t1c.nii.gz\n",
      "finished percentile normalization for BraTS-MET-00277-000-t1c.nii.gz\n",
      "starting n4 bias correction for BraTS-MET-00277-000-t2w.nii.gz\n",
      "finished n4 bias correction for BraTS-MET-00277-000-t2w.nii.gz\n",
      "starting percentile correction for BraTS-MET-00277-000-t2w.nii.gz\n"
     ]
    },
    {
     "name": "stderr",
     "output_type": "stream",
     "text": [
      " 95%|█████████▍| 185/195 [4:01:48<14:29, 86.95s/it]"
     ]
    },
    {
     "name": "stdout",
     "output_type": "stream",
     "text": [
      "finished percentile normalization for BraTS-MET-00277-000-t2w.nii.gz\n",
      "currently normalizing patient BraTS-MET-00303-000\n",
      "starting n4 bias correction for BraTS-MET-00303-000-t1n.nii.gz\n",
      "finished n4 bias correction for BraTS-MET-00303-000-t1n.nii.gz\n",
      "starting percentile correction for BraTS-MET-00303-000-t1n.nii.gz\n",
      "finished percentile normalization for BraTS-MET-00303-000-t1n.nii.gz\n",
      "starting n4 bias correction for BraTS-MET-00303-000-t2f.nii.gz\n",
      "finished n4 bias correction for BraTS-MET-00303-000-t2f.nii.gz\n",
      "starting percentile correction for BraTS-MET-00303-000-t2f.nii.gz\n",
      "finished percentile normalization for BraTS-MET-00303-000-t2f.nii.gz\n",
      "starting n4 bias correction for BraTS-MET-00303-000-t1c.nii.gz\n",
      "finished n4 bias correction for BraTS-MET-00303-000-t1c.nii.gz\n",
      "starting percentile correction for BraTS-MET-00303-000-t1c.nii.gz\n",
      "finished percentile normalization for BraTS-MET-00303-000-t1c.nii.gz\n",
      "starting n4 bias correction for BraTS-MET-00303-000-t2w.nii.gz\n",
      "finished n4 bias correction for BraTS-MET-00303-000-t2w.nii.gz\n",
      "starting percentile correction for BraTS-MET-00303-000-t2w.nii.gz\n"
     ]
    },
    {
     "name": "stderr",
     "output_type": "stream",
     "text": [
      " 95%|█████████▌| 186/195 [4:02:51<11:57, 79.76s/it]"
     ]
    },
    {
     "name": "stdout",
     "output_type": "stream",
     "text": [
      "finished percentile normalization for BraTS-MET-00303-000-t2w.nii.gz\n",
      "currently normalizing patient BraTS-MET-00115-000\n",
      "starting n4 bias correction for BraTS-MET-00115-000-t2w.nii.gz\n",
      "finished n4 bias correction for BraTS-MET-00115-000-t2w.nii.gz\n",
      "starting percentile correction for BraTS-MET-00115-000-t2w.nii.gz\n",
      "finished percentile normalization for BraTS-MET-00115-000-t2w.nii.gz\n",
      "starting n4 bias correction for BraTS-MET-00115-000-t1c.nii.gz\n",
      "finished n4 bias correction for BraTS-MET-00115-000-t1c.nii.gz\n",
      "starting percentile correction for BraTS-MET-00115-000-t1c.nii.gz\n",
      "finished percentile normalization for BraTS-MET-00115-000-t1c.nii.gz\n",
      "starting n4 bias correction for BraTS-MET-00115-000-t1n.nii.gz\n",
      "finished n4 bias correction for BraTS-MET-00115-000-t1n.nii.gz\n",
      "starting percentile correction for BraTS-MET-00115-000-t1n.nii.gz\n",
      "finished percentile normalization for BraTS-MET-00115-000-t1n.nii.gz\n",
      "starting n4 bias correction for BraTS-MET-00115-000-t2f.nii.gz\n",
      "finished n4 bias correction for BraTS-MET-00115-000-t2f.nii.gz\n",
      "starting percentile correction for BraTS-MET-00115-000-t2f.nii.gz\n"
     ]
    },
    {
     "name": "stderr",
     "output_type": "stream",
     "text": [
      " 96%|█████████▌| 187/195 [4:03:33<09:07, 68.43s/it]"
     ]
    },
    {
     "name": "stdout",
     "output_type": "stream",
     "text": [
      "finished percentile normalization for BraTS-MET-00115-000-t2f.nii.gz\n",
      "currently normalizing patient BraTS-MET-00129-000\n",
      "starting n4 bias correction for BraTS-MET-00129-000-t2f.nii.gz\n",
      "finished n4 bias correction for BraTS-MET-00129-000-t2f.nii.gz\n",
      "starting percentile correction for BraTS-MET-00129-000-t2f.nii.gz\n",
      "finished percentile normalization for BraTS-MET-00129-000-t2f.nii.gz\n",
      "starting n4 bias correction for BraTS-MET-00129-000-t1n.nii.gz\n",
      "finished n4 bias correction for BraTS-MET-00129-000-t1n.nii.gz\n",
      "starting percentile correction for BraTS-MET-00129-000-t1n.nii.gz\n",
      "finished percentile normalization for BraTS-MET-00129-000-t1n.nii.gz\n",
      "starting n4 bias correction for BraTS-MET-00129-000-t1c.nii.gz\n",
      "finished n4 bias correction for BraTS-MET-00129-000-t1c.nii.gz\n",
      "starting percentile correction for BraTS-MET-00129-000-t1c.nii.gz\n",
      "finished percentile normalization for BraTS-MET-00129-000-t1c.nii.gz\n",
      "starting n4 bias correction for BraTS-MET-00129-000-t2w.nii.gz\n",
      "finished n4 bias correction for BraTS-MET-00129-000-t2w.nii.gz\n",
      "starting percentile correction for BraTS-MET-00129-000-t2w.nii.gz\n"
     ]
    },
    {
     "name": "stderr",
     "output_type": "stream",
     "text": [
      " 96%|█████████▋| 188/195 [4:04:51<08:19, 71.42s/it]"
     ]
    },
    {
     "name": "stdout",
     "output_type": "stream",
     "text": [
      "finished percentile normalization for BraTS-MET-00129-000-t2w.nii.gz\n",
      "currently normalizing patient BraTS-MET-00128-000\n",
      "starting n4 bias correction for BraTS-MET-00128-000-t1n.nii.gz\n",
      "finished n4 bias correction for BraTS-MET-00128-000-t1n.nii.gz\n",
      "starting percentile correction for BraTS-MET-00128-000-t1n.nii.gz\n",
      "finished percentile normalization for BraTS-MET-00128-000-t1n.nii.gz\n",
      "starting n4 bias correction for BraTS-MET-00128-000-t2f.nii.gz\n",
      "finished n4 bias correction for BraTS-MET-00128-000-t2f.nii.gz\n",
      "starting percentile correction for BraTS-MET-00128-000-t2f.nii.gz\n",
      "finished percentile normalization for BraTS-MET-00128-000-t2f.nii.gz\n",
      "starting n4 bias correction for BraTS-MET-00128-000-t1c.nii.gz\n",
      "finished n4 bias correction for BraTS-MET-00128-000-t1c.nii.gz\n",
      "starting percentile correction for BraTS-MET-00128-000-t1c.nii.gz\n",
      "finished percentile normalization for BraTS-MET-00128-000-t1c.nii.gz\n",
      "starting n4 bias correction for BraTS-MET-00128-000-t2w.nii.gz\n",
      "finished n4 bias correction for BraTS-MET-00128-000-t2w.nii.gz\n",
      "starting percentile correction for BraTS-MET-00128-000-t2w.nii.gz\n"
     ]
    },
    {
     "name": "stderr",
     "output_type": "stream",
     "text": [
      " 97%|█████████▋| 189/195 [4:05:42<06:30, 65.08s/it]"
     ]
    },
    {
     "name": "stdout",
     "output_type": "stream",
     "text": [
      "finished percentile normalization for BraTS-MET-00128-000-t2w.nii.gz\n",
      "currently normalizing patient BraTS-MET-00100-000\n",
      "starting n4 bias correction for BraTS-MET-00100-000-t2w.nii.gz\n",
      "finished n4 bias correction for BraTS-MET-00100-000-t2w.nii.gz\n",
      "starting percentile correction for BraTS-MET-00100-000-t2w.nii.gz\n",
      "finished percentile normalization for BraTS-MET-00100-000-t2w.nii.gz\n",
      "starting n4 bias correction for BraTS-MET-00100-000-t1c.nii.gz\n",
      "finished n4 bias correction for BraTS-MET-00100-000-t1c.nii.gz\n",
      "starting percentile correction for BraTS-MET-00100-000-t1c.nii.gz\n",
      "finished percentile normalization for BraTS-MET-00100-000-t1c.nii.gz\n",
      "starting n4 bias correction for BraTS-MET-00100-000-t1n.nii.gz\n",
      "finished n4 bias correction for BraTS-MET-00100-000-t1n.nii.gz\n",
      "starting percentile correction for BraTS-MET-00100-000-t1n.nii.gz\n",
      "finished percentile normalization for BraTS-MET-00100-000-t1n.nii.gz\n",
      "starting n4 bias correction for BraTS-MET-00100-000-t2f.nii.gz\n",
      "finished n4 bias correction for BraTS-MET-00100-000-t2f.nii.gz\n",
      "starting percentile correction for BraTS-MET-00100-000-t2f.nii.gz\n"
     ]
    },
    {
     "name": "stderr",
     "output_type": "stream",
     "text": [
      " 97%|█████████▋| 190/195 [4:06:48<05:26, 65.36s/it]"
     ]
    },
    {
     "name": "stdout",
     "output_type": "stream",
     "text": [
      "finished percentile normalization for BraTS-MET-00100-000-t2f.nii.gz\n",
      "currently normalizing patient BraTS-MET-00114-000\n",
      "starting n4 bias correction for BraTS-MET-00114-000-t2w.nii.gz\n",
      "finished n4 bias correction for BraTS-MET-00114-000-t2w.nii.gz\n",
      "starting percentile correction for BraTS-MET-00114-000-t2w.nii.gz\n",
      "finished percentile normalization for BraTS-MET-00114-000-t2w.nii.gz\n",
      "starting n4 bias correction for BraTS-MET-00114-000-t1c.nii.gz\n",
      "finished n4 bias correction for BraTS-MET-00114-000-t1c.nii.gz\n",
      "starting percentile correction for BraTS-MET-00114-000-t1c.nii.gz\n",
      "Percentile normalization failed. Upper value: 0.9999998809099198, lower value: 0.0\n",
      "finished percentile normalization for BraTS-MET-00114-000-t1c.nii.gz\n",
      "starting n4 bias correction for BraTS-MET-00114-000-t2f.nii.gz\n",
      "finished n4 bias correction for BraTS-MET-00114-000-t2f.nii.gz\n",
      "starting percentile correction for BraTS-MET-00114-000-t2f.nii.gz\n",
      "finished percentile normalization for BraTS-MET-00114-000-t2f.nii.gz\n",
      "starting n4 bias correction for BraTS-MET-00114-000-t1n.nii.gz\n",
      "finished n4 bias correction for BraTS-MET-00114-000-t1n.nii.gz\n",
      "starting percentile correction for BraTS-MET-00114-000-t1n.nii.gz\n"
     ]
    },
    {
     "name": "stderr",
     "output_type": "stream",
     "text": [
      " 98%|█████████▊| 191/195 [4:08:06<04:36, 69.13s/it]"
     ]
    },
    {
     "name": "stdout",
     "output_type": "stream",
     "text": [
      "finished percentile normalization for BraTS-MET-00114-000-t1n.nii.gz\n",
      "currently normalizing patient BraTS-MET-00302-000\n",
      "starting n4 bias correction for BraTS-MET-00302-000-t2f.nii.gz\n",
      "finished n4 bias correction for BraTS-MET-00302-000-t2f.nii.gz\n",
      "starting percentile correction for BraTS-MET-00302-000-t2f.nii.gz\n",
      "finished percentile normalization for BraTS-MET-00302-000-t2f.nii.gz\n",
      "starting n4 bias correction for BraTS-MET-00302-000-t1n.nii.gz\n",
      "finished n4 bias correction for BraTS-MET-00302-000-t1n.nii.gz\n",
      "starting percentile correction for BraTS-MET-00302-000-t1n.nii.gz\n",
      "finished percentile normalization for BraTS-MET-00302-000-t1n.nii.gz\n",
      "starting n4 bias correction for BraTS-MET-00302-000-t1c.nii.gz\n",
      "finished n4 bias correction for BraTS-MET-00302-000-t1c.nii.gz\n",
      "starting percentile correction for BraTS-MET-00302-000-t1c.nii.gz\n",
      "Percentile normalization failed. Upper value: 0.9999998809099198, lower value: 0.0\n",
      "finished percentile normalization for BraTS-MET-00302-000-t1c.nii.gz\n",
      "starting n4 bias correction for BraTS-MET-00302-000-t2w.nii.gz\n",
      "finished n4 bias correction for BraTS-MET-00302-000-t2w.nii.gz\n",
      "starting percentile correction for BraTS-MET-00302-000-t2w.nii.gz\n"
     ]
    },
    {
     "name": "stderr",
     "output_type": "stream",
     "text": [
      " 98%|█████████▊| 192/195 [4:09:20<03:31, 70.64s/it]"
     ]
    },
    {
     "name": "stdout",
     "output_type": "stream",
     "text": [
      "finished percentile normalization for BraTS-MET-00302-000-t2w.nii.gz\n",
      "currently normalizing patient BraTS-MET-00276-000\n",
      "starting n4 bias correction for BraTS-MET-00276-000-t1n.nii.gz\n",
      "finished n4 bias correction for BraTS-MET-00276-000-t1n.nii.gz\n",
      "starting percentile correction for BraTS-MET-00276-000-t1n.nii.gz\n",
      "finished percentile normalization for BraTS-MET-00276-000-t1n.nii.gz\n",
      "starting n4 bias correction for BraTS-MET-00276-000-t2f.nii.gz\n",
      "finished n4 bias correction for BraTS-MET-00276-000-t2f.nii.gz\n",
      "starting percentile correction for BraTS-MET-00276-000-t2f.nii.gz\n",
      "finished percentile normalization for BraTS-MET-00276-000-t2f.nii.gz\n",
      "starting n4 bias correction for BraTS-MET-00276-000-t1c.nii.gz\n",
      "finished n4 bias correction for BraTS-MET-00276-000-t1c.nii.gz\n",
      "starting percentile correction for BraTS-MET-00276-000-t1c.nii.gz\n",
      "finished percentile normalization for BraTS-MET-00276-000-t1c.nii.gz\n",
      "starting n4 bias correction for BraTS-MET-00276-000-t2w.nii.gz\n",
      "finished n4 bias correction for BraTS-MET-00276-000-t2w.nii.gz\n",
      "starting percentile correction for BraTS-MET-00276-000-t2w.nii.gz\n"
     ]
    },
    {
     "name": "stderr",
     "output_type": "stream",
     "text": [
      " 99%|█████████▉| 193/195 [4:10:32<02:22, 71.18s/it]"
     ]
    },
    {
     "name": "stdout",
     "output_type": "stream",
     "text": [
      "finished percentile normalization for BraTS-MET-00276-000-t2w.nii.gz\n",
      "currently normalizing patient BraTS-MET-00262-000\n",
      "starting n4 bias correction for BraTS-MET-00262-000-t2f.nii.gz\n",
      "finished n4 bias correction for BraTS-MET-00262-000-t2f.nii.gz\n",
      "starting percentile correction for BraTS-MET-00262-000-t2f.nii.gz\n",
      "finished percentile normalization for BraTS-MET-00262-000-t2f.nii.gz\n",
      "starting n4 bias correction for BraTS-MET-00262-000-t1n.nii.gz\n",
      "finished n4 bias correction for BraTS-MET-00262-000-t1n.nii.gz\n",
      "starting percentile correction for BraTS-MET-00262-000-t1n.nii.gz\n",
      "finished percentile normalization for BraTS-MET-00262-000-t1n.nii.gz\n",
      "starting n4 bias correction for BraTS-MET-00262-000-t1c.nii.gz\n",
      "finished n4 bias correction for BraTS-MET-00262-000-t1c.nii.gz\n",
      "starting percentile correction for BraTS-MET-00262-000-t1c.nii.gz\n",
      "finished percentile normalization for BraTS-MET-00262-000-t1c.nii.gz\n",
      "starting n4 bias correction for BraTS-MET-00262-000-t2w.nii.gz\n",
      "finished n4 bias correction for BraTS-MET-00262-000-t2w.nii.gz\n",
      "starting percentile correction for BraTS-MET-00262-000-t2w.nii.gz\n"
     ]
    },
    {
     "name": "stderr",
     "output_type": "stream",
     "text": [
      " 99%|█████████▉| 194/195 [4:11:49<01:12, 72.95s/it]"
     ]
    },
    {
     "name": "stdout",
     "output_type": "stream",
     "text": [
      "finished percentile normalization for BraTS-MET-00262-000-t2w.nii.gz\n",
      "currently normalizing patient BraTS-MET-00289-000\n",
      "starting n4 bias correction for BraTS-MET-00289-000-t1n.nii.gz\n",
      "finished n4 bias correction for BraTS-MET-00289-000-t1n.nii.gz\n",
      "starting percentile correction for BraTS-MET-00289-000-t1n.nii.gz\n",
      "finished percentile normalization for BraTS-MET-00289-000-t1n.nii.gz\n",
      "starting n4 bias correction for BraTS-MET-00289-000-t2f.nii.gz\n",
      "finished n4 bias correction for BraTS-MET-00289-000-t2f.nii.gz\n",
      "starting percentile correction for BraTS-MET-00289-000-t2f.nii.gz\n",
      "finished percentile normalization for BraTS-MET-00289-000-t2f.nii.gz\n",
      "starting n4 bias correction for BraTS-MET-00289-000-t1c.nii.gz\n",
      "finished n4 bias correction for BraTS-MET-00289-000-t1c.nii.gz\n",
      "starting percentile correction for BraTS-MET-00289-000-t1c.nii.gz\n",
      "Percentile normalization failed. Upper value: 0.9999998809099198, lower value: 0.0\n",
      "finished percentile normalization for BraTS-MET-00289-000-t1c.nii.gz\n",
      "starting n4 bias correction for BraTS-MET-00289-000-t2w.nii.gz\n",
      "finished n4 bias correction for BraTS-MET-00289-000-t2w.nii.gz\n",
      "starting percentile correction for BraTS-MET-00289-000-t2w.nii.gz\n"
     ]
    },
    {
     "name": "stderr",
     "output_type": "stream",
     "text": [
      "100%|██████████| 195/195 [4:12:56<00:00, 77.83s/it]"
     ]
    },
    {
     "name": "stdout",
     "output_type": "stream",
     "text": [
      "finished percentile normalization for BraTS-MET-00289-000-t2w.nii.gz\n"
     ]
    },
    {
     "name": "stderr",
     "output_type": "stream",
     "text": [
      "\n"
     ]
    }
   ],
   "source": [
    "patients = [patient for patient in os.listdir(path_to_yale_dataset) if os.path.isdir(os.path.join(path_to_yale_dataset, patient))]\n",
    "print(f\"found {len(patients)} patients\")\n",
    "\n",
    "already_norm_patients = [patient for patient in os.listdir(path_to_output) if os.path.isdir(os.path.join(path_to_output, patient))]\n",
    "\n",
    "for patient in already_norm_patients:\n",
    "    # check if 4 n4 and percentile normalized files exist\n",
    "    path_to_patient_folder = Path(path_to_output) / Path(patient)\n",
    "    nifti_files = [path for path in os.listdir(path_to_patient_folder) if \".nii.gz\" in path]\n",
    "    if len(nifti_files) == 8:\n",
    "        patients.remove(patient)\n",
    "    else:\n",
    "        # remove all files in patient folder\n",
    "        for file in os.listdir(path_to_patient_folder):\n",
    "            os.remove(os.path.join(path_to_patient_folder, file))\n",
    "\n",
    "print(f\"found {len(patients)} patients to normalize\")\n",
    "\n",
    "for patient in tqdm(patients):\n",
    "\n",
    "    print(f\"currently normalizing patient {patient}\")\n",
    "\n",
    "    path_to_patient_files = Path(path_to_yale_dataset) / Path(patient)\n",
    "\n",
    "    raw_files = [file for file in os.listdir(path_to_patient_files) if \".nii.gz\" in file]\n",
    "\n",
    "    # create subfolder for each patient\n",
    "    path_to_patient_folder = Path(path_to_output) / Path(patient)\n",
    "    path_to_patient_folder.mkdir(parents=True, exist_ok=True)\n",
    "\n",
    "    for raw_file in raw_files:\n",
    "\n",
    "        if \"seg\" in raw_file:\n",
    "            continue\n",
    "\n",
    "        path_to_file = Path(path_to_patient_files) / Path(raw_file)\n",
    "        print(f\"starting n4 bias correction for {raw_file}\")\n",
    "\n",
    "        image = sitk.ReadImage(str(path_to_file), imageIO=\"NiftiImageIO\")\n",
    "        image = sitk.Cast(image, sitk.sitkFloat32)\n",
    "\n",
    "        n4_file_name = f\"n4_{raw_file}\"\n",
    "        path_to_n4_file = Path(path_to_patient_folder) / Path(n4_file_name)\n",
    "\n",
    "        n4_bias_correction(image, path_to_n4_file)\n",
    "\n",
    "        print(f\"finished n4 bias correction for {raw_file}\")\n",
    "\n",
    "        # percentile normalize\n",
    "        print(f\"starting percentile correction for {raw_file}\")\n",
    "        image = sitk.ReadImage(str(path_to_n4_file))\n",
    "\n",
    "        normalized_file_name = f\"n4_normalized_{raw_file}\"\n",
    "        path_to_normalized_file = Path(path_to_patient_folder) / Path(normalized_file_name)\n",
    "\n",
    "        # Get the original orientation information\n",
    "        original_direction = image.GetDirection()\n",
    "        original_origin = image.GetOrigin()\n",
    "        original_spacing = image.GetSpacing()\n",
    "\n",
    "        image_array = sitk.GetArrayFromImage(image)\n",
    "        image_array = percentile_normalize(image_array, lower_percentile=0.1, upper_percentile=99.9, lower_limit=0, upper_limit=1)\n",
    "\n",
    "        image = sitk.GetImageFromArray(image_array)\n",
    "\n",
    "        # Restore the original orientation information\n",
    "        image.SetDirection(original_direction)\n",
    "        image.SetOrigin(original_origin)\n",
    "        image.SetSpacing(original_spacing)\n",
    "\n",
    "        sitk.WriteImage(image, str(path_to_normalized_file))\n",
    "\n",
    "        print(f\"finished percentile normalization for {raw_file}\")"
   ]
  }
 ],
 "metadata": {
  "kernelspec": {
   "display_name": "brain_mets_env",
   "language": "python",
   "name": "python3"
  },
  "language_info": {
   "codemirror_mode": {
    "name": "ipython",
    "version": 3
   },
   "file_extension": ".py",
   "mimetype": "text/x-python",
   "name": "python",
   "nbconvert_exporter": "python",
   "pygments_lexer": "ipython3",
   "version": "3.11.0"
  }
 },
 "nbformat": 4,
 "nbformat_minor": 2
}
