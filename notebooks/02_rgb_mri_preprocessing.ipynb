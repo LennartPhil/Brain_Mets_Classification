{
 "cells": [
  {
   "cell_type": "markdown",
   "metadata": {},
   "source": [
    "Sequences that will be used for this project:\n",
    "- axiale T2\n",
    "- axiale Flair\n",
    "- axiale T1 vor + nach KM\n",
    "- sagittale T1 MPRage nach KM\n",
    "- evtl. DWI (Diffsionswichtung) + ADC"
   ]
  },
  {
   "cell_type": "code",
   "execution_count": 20,
   "metadata": {},
   "outputs": [
    {
     "name": "stdout",
     "output_type": "stream",
     "text": [
      "['Anonymized - 01319244', 'Anonymized - 01005097', 'Anonymized - 01109318', 'Anonymized - 01314225', 'Anonymized - 01055292', 'Anonymized - 01288896', 'Anonymized - 01108350', 'Anonymized - 01122863', 'Anonymized - 01009590', 'Anonymized - 01022787', 'Anonymized - 01190738', 'Anonymized - 01111974', 'Anonymized - 01038520', 'Anonymized - 01321873', 'Anonymized - 01001917', 'Anonymized - 01106844', 'Anonymized - 01241505', 'Anonymized - 01307298', 'Anonymized - 01269967', 'Anonymized - 01311383', 'Anonymized - 01100109', 'Anonymized - 01243841', 'Anonymized - 01261127', 'Anonymized - 01152379', 'Anonymized - 01150136', 'Anonymized - 01199093', 'Anonymized - 01220269', 'Anonymized - 01134825', 'Anonymized - 01083248', 'Anonymized - 01189050']\n",
      "['01319244', '01005097', '01109318', '01314225', '01055292', '01288896', '01108350', '01122863', '01009590', '01022787', '01190738', '01111974', '01038520', '01321873', '01001917', '01106844', '01241505', '01307298', '01269967', '01311383', '01100109', '01243841', '01261127', '01152379', '01150136', '01199093', '01220269', '01134825', '01083248', '01189050']\n"
     ]
    }
   ],
   "source": [
    "import os\n",
    "\n",
    "path = \"/Users/LennartPhilipp/Desktop/Uni/Prowiss/Code/Rgb_Brain_Mets\"\n",
    "sampleDirectory = \"RgbBrainMetsSampleN30\"\n",
    "sampleDirectoryPath = os.path.join(path, sampleDirectory)\n",
    "\n",
    "onlyimportantSequencesPath = \"Rgb_Brain_Mets_Imp_Sequences\"\n",
    "pathToNewFolder = os.path.join(path, onlyimportantSequencesPath)\n",
    "os.mkdir(pathToNewFolder)\n",
    "\n",
    "patientFolders = os.listdir(sampleDirectoryPath)\n",
    "patientFolders.remove(\".DS_Store\") # removes the .DS_Store file\n",
    "patientsIDs = []\n",
    "print(patientFolders)\n",
    "\n",
    "for folder in patientFolders: # loops through the all folders for each patient\n",
    "\n",
    "    patientID = folder.split(\" - \")[1]\n",
    "\n",
    "    # adds the patientID to the list of patientIDs if is hasn't been added before\n",
    "    if patientID not in patientsIDs:\n",
    "        patientsIDs.append(patientID)\n",
    "    \n",
    "\n",
    "    # find correct sequenced\n",
    "    # extract niftis\n",
    "        \n",
    "    \n",
    "    # put them into new folders\n",
    "\n",
    "pathToImportantSequences = os.path.join(path, onlyimportantSequencesPath)\n",
    "\n",
    "for patientID in patientsIDs:\n",
    "    pathToPatient = os.path.join(pathToImportantSequences, patientID)\n",
    "    os.mkdir(pathToPatient)\n",
    "\n",
    "\n",
    "\n",
    "print(patientsIDs)\n"
   ]
  }
 ],
 "metadata": {
  "kernelspec": {
   "display_name": "Python 3",
   "language": "python",
   "name": "python3"
  },
  "language_info": {
   "codemirror_mode": {
    "name": "ipython",
    "version": 3
   },
   "file_extension": ".py",
   "mimetype": "text/x-python",
   "name": "python",
   "nbconvert_exporter": "python",
   "pygments_lexer": "ipython3",
   "version": "3.11.0"
  }
 },
 "nbformat": 4,
 "nbformat_minor": 2
}
