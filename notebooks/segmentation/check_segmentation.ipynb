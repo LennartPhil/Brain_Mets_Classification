{
 "cells": [
  {
   "cell_type": "markdown",
   "metadata": {},
   "source": [
    "# Check segmentation\n",
    "Makes sure that all the patients got preprocessed"
   ]
  },
  {
   "cell_type": "code",
   "execution_count": 1,
   "metadata": {},
   "outputs": [],
   "source": [
    "import os\n",
    "from pathlib import Path"
   ]
  },
  {
   "cell_type": "code",
   "execution_count": 3,
   "metadata": {},
   "outputs": [
    {
     "name": "stdout",
     "output_type": "stream",
     "text": [
      "sub-01754354 not in segmented_patients\n",
      "sub-02117549 not in segmented_patients\n"
     ]
    }
   ],
   "source": [
    "path_to_raw_data = Path(\"/Volumes/BrainMets/Rgb_Brain_Mets/brain_mets_classification/rawdata\")\n",
    "path_to_preprocessed = Path(\"/Volumes/BrainMets/Rgb_Brain_Mets/brain_mets_classification/derivatives/preprocessed_brainlesion_allpatients\")\n",
    "path_to_segmentation = Path(\"/Volumes/BrainMets/Rgb_Brain_Mets/brain_mets_classification/derivatives/segmented_AURORA_20240424-195010\")\n",
    "\n",
    "\n",
    "raw_patients = [f for f in os.listdir(path_to_raw_data) if os.path.isdir(os.path.join(path_to_raw_data, f))]\n",
    "preprocessed_patients = [f for f in os.listdir(path_to_preprocessed) if os.path.isdir(os.path.join(path_to_preprocessed, f))]\n",
    "segmented_patients = [f for f in os.listdir(path_to_segmentation) if os.path.isdir(os.path.join(path_to_segmentation, f))]\n",
    "\n",
    "for raw in raw_patients:\n",
    "    if raw not in segmented_patients:\n",
    "        print(f\"{raw} not in segmented_patients\")"
   ]
  },
  {
   "cell_type": "markdown",
   "metadata": {},
   "source": [
    "this is fine, as both of their t1c sequences are too small\\\n",
    "Hurray! All the segmentation done!"
   ]
  }
 ],
 "metadata": {
  "kernelspec": {
   "display_name": "brain_mets_env",
   "language": "python",
   "name": "python3"
  },
  "language_info": {
   "codemirror_mode": {
    "name": "ipython",
    "version": 3
   },
   "file_extension": ".py",
   "mimetype": "text/x-python",
   "name": "python",
   "nbconvert_exporter": "python",
   "pygments_lexer": "ipython3",
   "version": "3.11.0"
  }
 },
 "nbformat": 4,
 "nbformat_minor": 2
}
