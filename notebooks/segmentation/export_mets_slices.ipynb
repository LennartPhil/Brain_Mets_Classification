{
 "cells": [
  {
   "cell_type": "markdown",
   "metadata": {},
   "source": [
    "# Export slices containing metastases"
   ]
  },
  {
   "cell_type": "markdown",
   "metadata": {},
   "source": [
    "This notebook goes through each step to export images of the metastases based on the segmentation"
   ]
  },
  {
   "cell_type": "code",
   "execution_count": 2,
   "metadata": {},
   "outputs": [],
   "source": [
    "# import libraries\n",
    "\n",
    "import os\n",
    "import nibabel as nib\n",
    "import numpy as np\n",
    "import matplotlib.pyplot as plt\n",
    "from skimage.measure import label, regionprops\n",
    "from pathlib import Path\n",
    "from tqdm import tqdm\n",
    "import pandas as pd\n",
    "\n",
    "import imageio as iio\n",
    "from PIL import Image"
   ]
  },
  {
   "cell_type": "code",
   "execution_count": 3,
   "metadata": {},
   "outputs": [],
   "source": [
    "def save_slice_as_image(slice_data, output_path):\n",
    "    # print(slice_data.shape)\n",
    "    # print(np.mean(slice_data))\n",
    "    # cv2.imwrite(output_path, slice_data)\n",
    "    # plt.imsave(output_path, slice_data, cmap='gray')\n",
    "    # plt.close()\n",
    "    data = (slice_data * 255).astype(np.uint8)\n",
    "    image = Image.fromarray(data)\n",
    "    image.save(output_path)\n",
    "\n",
    "# turn images 90 degress\n",
    "def turn_image_90(image):\n",
    "    return np.rot90(image, 3)\n",
    "\n",
    "# mirror images\n",
    "def mirror_image(image):\n",
    "    return np.fliplr(image)\n",
    "\n",
    "def process_nifty_mask(mask_path, mri_path, output_dir, patient_id=None, mri_sequence=None, save_mask_image = False, save_cut_out = False, area_threshold = 0, dataset = \"regensburg\"):\n",
    "\n",
    "    # Load the NIFTI mask file\n",
    "    img = nib.load(mask_path)\n",
    "    mask_data = img.get_fdata()\n",
    "\n",
    "    mri_data = nib.load(mri_path).get_fdata()\n",
    "\n",
    "    unique_labels = np.unique(mask_data)\n",
    "    #print(unique_labels)\n",
    "\n",
    "    match dataset:\n",
    "        case \"regensburg\":\n",
    "            target_label = 1\n",
    "        case \"yale\":\n",
    "\n",
    "            if len(unique_labels) > 3:\n",
    "                if 1 in unique_labels and 3 in unique_labels:\n",
    "                    mask_data = np.where(mask_data == 3, 1, mask_data)\n",
    "                target_label = 1 #3 #1\n",
    "            else:\n",
    "                target_label = 3\n",
    "        case _:\n",
    "            raise ValueError(\"Invalid dataset specified.\")    \n",
    "\n",
    "    new_unique_labels = np.unique(mask_data)\n",
    "    #print(new_unique_labels)\n",
    "\n",
    "    # Ensure the mask data is 3D\n",
    "    if mask_data.ndim != 3:\n",
    "        raise ValueError(\"The NIFTI mask data is not 3D.\")\n",
    "\n",
    "    # Find all connected components (metastases) with the target label in 3D\n",
    "    labeled_mask = label(mask_data == target_label, connectivity=3)  # 3D connectivity\n",
    "    regions = regionprops(labeled_mask)\n",
    "    \n",
    "    largest_slices = {}\n",
    "\n",
    "    # Iterate through each region (metastasis)\n",
    "    for region in regions:\n",
    "        # Find the slice with the largest area within this region\n",
    "        coords = region.coords\n",
    "        slice_areas = {}\n",
    "        for coord in coords:\n",
    "            slice_idx = coord[2]  # Use the correct axis for slice indexing\n",
    "            if slice_idx not in slice_areas:\n",
    "                slice_areas[slice_idx] = 0\n",
    "            slice_areas[slice_idx] += 1\n",
    "\n",
    "        # Identify the slice index with the largest area for this metastasis\n",
    "        largest_slice_idx = max(slice_areas, key=slice_areas.get)\n",
    "        largest_area = slice_areas[largest_slice_idx]\n",
    "\n",
    "        # Store information about the largest slice for each region\n",
    "        slice_data = mask_data[:, :, largest_slice_idx]\n",
    "        largest_slices[region.label] = (largest_area, slice_data, largest_slice_idx, region.label, coords)\n",
    "\n",
    "    if len(largest_slices) == 0:\n",
    "        print(f\"No metastases found in {mri_path}\")\n",
    "        return\n",
    "    \n",
    "    # Save the largest slices as image files\n",
    "    for label_idx, (area, slice_data, slice_idx, region_label, coords) in largest_slices.items():\n",
    "        if area > area_threshold:\n",
    "            full_slice_data = mri_data[:, :, slice_idx]\n",
    "            mask_slice_data = np.zeros_like(slice_data)\n",
    "\n",
    "            for coord in coords:\n",
    "                if coord[2] == slice_idx:\n",
    "                    mask_slice_data[coord[0], coord[1]] = target_label\n",
    "\n",
    "            # Create the output path\n",
    "            output_path = os.path.join(output_dir, f'{patient_id}_metastasis_{slice_idx}_{region_label}_{mri_sequence}.png')            \n",
    "            save_slice_as_image(mirror_image(turn_image_90(full_slice_data)), output_path)\n",
    "\n",
    "            if save_mask_image:\n",
    "                mask_output_path = os.path.join(output_dir, f'{patient_id}_metastasis_{slice_idx}_{region_label}_{mri_sequence}_mask.png')\n",
    "\n",
    "                # Create a new array with only the pixels of the target label\n",
    "                mask_slice_data = np.zeros_like(mask_data)\n",
    "                mask_slice_data[mask_data == target_label] = target_label\n",
    "                mask_slice_data = mask_slice_data[:, :, slice_idx]\n",
    "\n",
    "                save_slice_as_image(mirror_image(turn_image_90(mask_slice_data)), mask_output_path)\n",
    "            \n",
    "\n",
    "            if save_cut_out:\n",
    "\n",
    "                for region in regions:\n",
    "                    single_metastasis_mask = np.zeros_like(mask_data[:, :, slice_idx])\n",
    "                    for coord in coords:\n",
    "                        if coord[2] == slice_idx:\n",
    "                            single_metastasis_mask[coord[0], coord[1]] = target_label\n",
    "                    \n",
    "                    masked_mri_slice = full_slice_data * (single_metastasis_mask == target_label)\n",
    "\n",
    "                    # Create the output path\n",
    "                    output_path = os.path.join(output_dir, f'{patient_id}_metastasis_{slice_idx}_{region_label}_{mri_sequence}_cutout.png')\n",
    "                    save_slice_as_image(mirror_image(turn_image_90(masked_mri_slice)), output_path)\n",
    "\n",
    "            #print(f\"Saved largest slice for metastasis (slice {slice_idx}) with area {area} to {output_path}\")\n",
    "\n",
    "# Example usage\n",
    "#mask_file_path = '/Users/LennartPhilipp/Desktop/testing_data/derivatives/segmented_AURORA_20240424-122816/sub-01009590/metastasis_unbinarized_floats.nii.gz'\n",
    "#mri_path = \"/Users/LennartPhilipp/Desktop/testing_data/derivatives/preprocessed_brainlesion_20240424-110551/sub-01009590/preprocessed/sub-01009590_fla_bet_normalized.nii.gz\"\n",
    "mask_file_path = \"/Users/LennartPhilipp/Desktop/Uni/Prowiss/CIA metstobrain/Pretreat-MetsToBrain-Masks/BraTS-MET-00100-000/BraTS-MET-00100-000-seg.nii.gz\"\n",
    "mri_path = \"/Users/LennartPhilipp/Desktop/Uni/Prowiss/CIA metstobrain/yale_dataset_normalized/BraTS-MET-00100-000/n4_normalized_BraTS-MET-00100-000-t1c.nii.gz\"\n",
    "output_directory = '/Users/LennartPhilipp/Desktop/testing_data/derivatives/met_slices'\n",
    "#os.makedirs(output_directory, exist_ok=True)\n",
    "#process_nifty_mask(mask_file_path, mri_path, output_directory, save_mask_image=True, save_cut_out=True)"
   ]
  },
  {
   "cell_type": "markdown",
   "metadata": {},
   "source": [
    "## create skript to go through all patients"
   ]
  },
  {
   "cell_type": "markdown",
   "metadata": {},
   "source": [
    "### Regensburg Dataset"
   ]
  },
  {
   "cell_type": "markdown",
   "metadata": {},
   "source": [
    "old code"
   ]
  },
  {
   "cell_type": "code",
   "execution_count": 17,
   "metadata": {},
   "outputs": [
    {
     "name": "stderr",
     "output_type": "stream",
     "text": [
      "  0%|          | 0/5 [00:00<?, ?it/s]"
     ]
    },
    {
     "name": "stdout",
     "output_type": "stream",
     "text": [
      "currently working on sub-01009590\n",
      "Saved largest slice for metastasis (slice 56) with area 424.0 to /Users/LennartPhilipp/Desktop/testing_data/derivatives/met_slices/sub-01009590/sub-01009590_metastasis_56_t2.png\n",
      "Saved largest slice for metastasis (slice 56) with area 424.0 to /Users/LennartPhilipp/Desktop/testing_data/derivatives/met_slices/sub-01009590/sub-01009590_metastasis_56_fla.png\n",
      "Saved largest slice for metastasis (slice 56) with area 424.0 to /Users/LennartPhilipp/Desktop/testing_data/derivatives/met_slices/sub-01009590/sub-01009590_metastasis_56_t1c.png\n"
     ]
    },
    {
     "name": "stderr",
     "output_type": "stream",
     "text": [
      " 20%|██        | 1/5 [00:00<00:01,  2.29it/s]"
     ]
    },
    {
     "name": "stdout",
     "output_type": "stream",
     "text": [
      "Saved largest slice for metastasis (slice 56) with area 424.0 to /Users/LennartPhilipp/Desktop/testing_data/derivatives/met_slices/sub-01009590/sub-01009590_metastasis_56_t1.png\n",
      "done with patient sub-01009590\n",
      "currently working on sub-01006290\n",
      "Saved largest slice for metastasis (slice 63) with area 41.0 to /Users/LennartPhilipp/Desktop/testing_data/derivatives/met_slices/sub-01006290/sub-01006290_metastasis_63_t2.png\n",
      "Saved largest slice for metastasis (slice 65) with area 33.0 to /Users/LennartPhilipp/Desktop/testing_data/derivatives/met_slices/sub-01006290/sub-01006290_metastasis_65_t2.png\n",
      "Saved largest slice for metastasis (slice 64) with area 39.0 to /Users/LennartPhilipp/Desktop/testing_data/derivatives/met_slices/sub-01006290/sub-01006290_metastasis_64_t2.png\n",
      "Saved largest slice for metastasis (slice 63) with area 41.0 to /Users/LennartPhilipp/Desktop/testing_data/derivatives/met_slices/sub-01006290/sub-01006290_metastasis_63_t1c.png\n",
      "Saved largest slice for metastasis (slice 65) with area 33.0 to /Users/LennartPhilipp/Desktop/testing_data/derivatives/met_slices/sub-01006290/sub-01006290_metastasis_65_t1c.png\n",
      "Saved largest slice for metastasis (slice 64) with area 39.0 to /Users/LennartPhilipp/Desktop/testing_data/derivatives/met_slices/sub-01006290/sub-01006290_metastasis_64_t1c.png\n",
      "Saved largest slice for metastasis (slice 63) with area 41.0 to /Users/LennartPhilipp/Desktop/testing_data/derivatives/met_slices/sub-01006290/sub-01006290_metastasis_63_t1.png\n",
      "Saved largest slice for metastasis (slice 65) with area 33.0 to /Users/LennartPhilipp/Desktop/testing_data/derivatives/met_slices/sub-01006290/sub-01006290_metastasis_65_t1.png\n"
     ]
    },
    {
     "name": "stderr",
     "output_type": "stream",
     "text": [
      " 40%|████      | 2/5 [00:01<00:01,  1.71it/s]"
     ]
    },
    {
     "name": "stdout",
     "output_type": "stream",
     "text": [
      "Saved largest slice for metastasis (slice 64) with area 39.0 to /Users/LennartPhilipp/Desktop/testing_data/derivatives/met_slices/sub-01006290/sub-01006290_metastasis_64_t1.png\n",
      "Saved largest slice for metastasis (slice 63) with area 41.0 to /Users/LennartPhilipp/Desktop/testing_data/derivatives/met_slices/sub-01006290/sub-01006290_metastasis_63_fla.png\n",
      "Saved largest slice for metastasis (slice 65) with area 33.0 to /Users/LennartPhilipp/Desktop/testing_data/derivatives/met_slices/sub-01006290/sub-01006290_metastasis_65_fla.png\n",
      "Saved largest slice for metastasis (slice 64) with area 39.0 to /Users/LennartPhilipp/Desktop/testing_data/derivatives/met_slices/sub-01006290/sub-01006290_metastasis_64_fla.png\n",
      "done with patient sub-01006290\n",
      "currently working on sub-01005097\n",
      "Saved largest slice for metastasis (slice 120) with area 66.0 to /Users/LennartPhilipp/Desktop/testing_data/derivatives/met_slices/sub-01005097/sub-01005097_metastasis_120_t1.png\n",
      "Saved largest slice for metastasis (slice 120) with area 66.0 to /Users/LennartPhilipp/Desktop/testing_data/derivatives/met_slices/sub-01005097/sub-01005097_metastasis_120_t1c.png\n"
     ]
    },
    {
     "name": "stderr",
     "output_type": "stream",
     "text": [
      " 60%|██████    | 3/5 [00:01<00:01,  1.87it/s]"
     ]
    },
    {
     "name": "stdout",
     "output_type": "stream",
     "text": [
      "Saved largest slice for metastasis (slice 120) with area 66.0 to /Users/LennartPhilipp/Desktop/testing_data/derivatives/met_slices/sub-01005097/sub-01005097_metastasis_120_fla.png\n",
      "Saved largest slice for metastasis (slice 120) with area 66.0 to /Users/LennartPhilipp/Desktop/testing_data/derivatives/met_slices/sub-01005097/sub-01005097_metastasis_120_t2.png\n",
      "done with patient sub-01005097\n",
      "currently working on sub-01015961\n",
      "Saved largest slice for metastasis (slice 60) with area 552.0 to /Users/LennartPhilipp/Desktop/testing_data/derivatives/met_slices/sub-01015961/sub-01015961_metastasis_60_t2.png\n",
      "Saved largest slice for metastasis (slice 43) with area 69.0 to /Users/LennartPhilipp/Desktop/testing_data/derivatives/met_slices/sub-01015961/sub-01015961_metastasis_43_t2.png\n",
      "Saved largest slice for metastasis (slice 60) with area 552.0 to /Users/LennartPhilipp/Desktop/testing_data/derivatives/met_slices/sub-01015961/sub-01015961_metastasis_60_t1c.png\n",
      "Saved largest slice for metastasis (slice 43) with area 69.0 to /Users/LennartPhilipp/Desktop/testing_data/derivatives/met_slices/sub-01015961/sub-01015961_metastasis_43_t1c.png\n"
     ]
    },
    {
     "name": "stderr",
     "output_type": "stream",
     "text": [
      " 80%|████████  | 4/5 [00:02<00:00,  1.84it/s]"
     ]
    },
    {
     "name": "stdout",
     "output_type": "stream",
     "text": [
      "Saved largest slice for metastasis (slice 60) with area 552.0 to /Users/LennartPhilipp/Desktop/testing_data/derivatives/met_slices/sub-01015961/sub-01015961_metastasis_60_fla.png\n",
      "Saved largest slice for metastasis (slice 43) with area 69.0 to /Users/LennartPhilipp/Desktop/testing_data/derivatives/met_slices/sub-01015961/sub-01015961_metastasis_43_fla.png\n",
      "Saved largest slice for metastasis (slice 60) with area 552.0 to /Users/LennartPhilipp/Desktop/testing_data/derivatives/met_slices/sub-01015961/sub-01015961_metastasis_60_t1.png\n",
      "Saved largest slice for metastasis (slice 43) with area 69.0 to /Users/LennartPhilipp/Desktop/testing_data/derivatives/met_slices/sub-01015961/sub-01015961_metastasis_43_t1.png\n",
      "done with patient sub-01015961\n",
      "currently working on sub-01005630\n",
      "Saved largest slice for metastasis (slice 41) with area 93.0 to /Users/LennartPhilipp/Desktop/testing_data/derivatives/met_slices/sub-01005630/sub-01005630_metastasis_41_t2.png\n",
      "Saved largest slice for metastasis (slice 33) with area 43.0 to /Users/LennartPhilipp/Desktop/testing_data/derivatives/met_slices/sub-01005630/sub-01005630_metastasis_33_t2.png\n",
      "Saved largest slice for metastasis (slice 41) with area 93.0 to /Users/LennartPhilipp/Desktop/testing_data/derivatives/met_slices/sub-01005630/sub-01005630_metastasis_41_t1c.png\n",
      "Saved largest slice for metastasis (slice 33) with area 43.0 to /Users/LennartPhilipp/Desktop/testing_data/derivatives/met_slices/sub-01005630/sub-01005630_metastasis_33_t1c.png\n"
     ]
    },
    {
     "name": "stderr",
     "output_type": "stream",
     "text": [
      "100%|██████████| 5/5 [00:02<00:00,  1.86it/s]"
     ]
    },
    {
     "name": "stdout",
     "output_type": "stream",
     "text": [
      "Saved largest slice for metastasis (slice 41) with area 93.0 to /Users/LennartPhilipp/Desktop/testing_data/derivatives/met_slices/sub-01005630/sub-01005630_metastasis_41_fla.png\n",
      "Saved largest slice for metastasis (slice 33) with area 43.0 to /Users/LennartPhilipp/Desktop/testing_data/derivatives/met_slices/sub-01005630/sub-01005630_metastasis_33_fla.png\n",
      "Saved largest slice for metastasis (slice 41) with area 93.0 to /Users/LennartPhilipp/Desktop/testing_data/derivatives/met_slices/sub-01005630/sub-01005630_metastasis_41_t1.png\n",
      "Saved largest slice for metastasis (slice 33) with area 43.0 to /Users/LennartPhilipp/Desktop/testing_data/derivatives/met_slices/sub-01005630/sub-01005630_metastasis_33_t1.png\n",
      "done with patient sub-01005630\n"
     ]
    },
    {
     "name": "stderr",
     "output_type": "stream",
     "text": [
      "\n"
     ]
    }
   ],
   "source": [
    "# output: create folder for each patient and save the slices there\n",
    "\n",
    "# input mri folder: path to all preprocessed patients\n",
    "# go to each patient and get all 4 mri scans\n",
    "# input segmentation folder: path to all segmented patients\n",
    "# go to each patient and get metastatis_unbinarized_floats.nii.gz\n",
    "\n",
    "path_to_output = Path(\"/Users/LennartPhilipp/Desktop/testing_data/derivatives/met_slices\")\n",
    "path_to_mri_patients = Path(\"/Users/LennartPhilipp/Desktop/testing_data/derivatives/preprocessed_brainlesion_20240424-110551\")\n",
    "path_to_segmentation_patients = Path(\"/Users/LennartPhilipp/Desktop/testing_data/derivatives/segmented_AURORA_20240424-122816\")\n",
    "\n",
    "segmentation_patients = [patient for patient in os.listdir(path_to_segmentation_patients) if os.path.isdir(os.path.join(path_to_segmentation_patients, patient))]\n",
    "\n",
    "for patient in tqdm(segmentation_patients):\n",
    "    # go through each patient\n",
    "    \n",
    "    print(f\"currently working on {patient}\")\n",
    "\n",
    "    # create new folder for output for patient\n",
    "    path_to_patient_output = Path(path_to_output) / Path(patient)\n",
    "    os.makedirs(path_to_patient_output, exist_ok=True)\n",
    "\n",
    "    # IMPORTANT!!!!!\n",
    "    # adjust path for final run\n",
    "    path_to_segmentation = Path(path_to_segmentation_patients) / Path(patient) / \"metastasis_unbinarized_floats.nii.gz\"\n",
    "\n",
    "    path_to_mri_images = Path(path_to_mri_patients) / Path(patient) / \"preprocessed\"\n",
    "    mri_images = [file for file in os.listdir(path_to_mri_images) if \".nii.gz\" in file]\n",
    "\n",
    "    for mri_image in mri_images:\n",
    "        # go through each mri image for the patient\n",
    "\n",
    "        mri_sequence = mri_image.split(\"_\")[1]\n",
    "\n",
    "        path_to_mri = Path(path_to_mri_images) / Path(mri_image)\n",
    "        process_nifty_mask(path_to_segmentation, path_to_mri, path_to_patient_output, patient, mri_sequence)\n",
    "    \n",
    "    print(f\"done with patient {patient}\")\n",
    "    "
   ]
  },
  {
   "cell_type": "markdown",
   "metadata": {},
   "source": [
    "working with actual segmented files"
   ]
  },
  {
   "cell_type": "markdown",
   "metadata": {},
   "source": [
    "# IMPORTANT\n",
    "some patients got processed multiple times, what was up with that?!"
   ]
  },
  {
   "cell_type": "code",
   "execution_count": 7,
   "metadata": {},
   "outputs": [
    {
     "name": "stderr",
     "output_type": "stream",
     "text": [
      "  0%|          | 0/484 [00:00<?, ?it/s]"
     ]
    },
    {
     "name": "stdout",
     "output_type": "stream",
     "text": [
      "currently working on sub-01134825\n"
     ]
    },
    {
     "name": "stderr",
     "output_type": "stream",
     "text": [
      "  0%|          | 1/484 [00:01<09:37,  1.20s/it]"
     ]
    },
    {
     "name": "stdout",
     "output_type": "stream",
     "text": [
      "done with patient sub-01134825\n",
      "currently working on sub-01592849\n"
     ]
    },
    {
     "name": "stderr",
     "output_type": "stream",
     "text": [
      "  0%|          | 2/484 [00:02<09:10,  1.14s/it]"
     ]
    },
    {
     "name": "stdout",
     "output_type": "stream",
     "text": [
      "done with patient sub-01592849\n",
      "currently working on sub-01732889\n"
     ]
    },
    {
     "name": "stderr",
     "output_type": "stream",
     "text": [
      "  1%|          | 3/484 [00:03<09:19,  1.16s/it]"
     ]
    },
    {
     "name": "stdout",
     "output_type": "stream",
     "text": [
      "done with patient sub-01732889\n",
      "currently working on sub-02145605\n"
     ]
    },
    {
     "name": "stderr",
     "output_type": "stream",
     "text": [
      "  1%|          | 4/484 [00:04<08:53,  1.11s/it]"
     ]
    },
    {
     "name": "stdout",
     "output_type": "stream",
     "text": [
      "done with patient sub-02145605\n",
      "currently working on sub-02035864\n"
     ]
    },
    {
     "name": "stderr",
     "output_type": "stream",
     "text": [
      "  1%|          | 5/484 [00:05<09:30,  1.19s/it]"
     ]
    },
    {
     "name": "stdout",
     "output_type": "stream",
     "text": [
      "done with patient sub-02035864\n",
      "currently working on sub-01946271\n"
     ]
    },
    {
     "name": "stderr",
     "output_type": "stream",
     "text": [
      "  1%|          | 6/484 [00:09<16:33,  2.08s/it]"
     ]
    },
    {
     "name": "stdout",
     "output_type": "stream",
     "text": [
      "done with patient sub-01946271\n",
      "currently working on sub-02047436\n"
     ]
    },
    {
     "name": "stderr",
     "output_type": "stream",
     "text": [
      "  1%|▏         | 7/484 [00:10<14:27,  1.82s/it]"
     ]
    },
    {
     "name": "stdout",
     "output_type": "stream",
     "text": [
      "done with patient sub-02047436\n",
      "currently working on sub-01921604\n"
     ]
    },
    {
     "name": "stderr",
     "output_type": "stream",
     "text": [
      "  2%|▏         | 8/484 [00:12<12:34,  1.58s/it]"
     ]
    },
    {
     "name": "stdout",
     "output_type": "stream",
     "text": [
      "done with patient sub-01921604\n",
      "currently working on sub-01779701\n"
     ]
    },
    {
     "name": "stderr",
     "output_type": "stream",
     "text": [
      "  2%|▏         | 9/484 [00:13<12:06,  1.53s/it]"
     ]
    },
    {
     "name": "stdout",
     "output_type": "stream",
     "text": [
      "done with patient sub-01779701\n",
      "currently working on sub-90005297\n"
     ]
    },
    {
     "name": "stderr",
     "output_type": "stream",
     "text": [
      "  2%|▏         | 10/484 [00:14<12:05,  1.53s/it]"
     ]
    },
    {
     "name": "stdout",
     "output_type": "stream",
     "text": [
      "done with patient sub-90005297\n",
      "currently working on sub-01924997\n"
     ]
    },
    {
     "name": "stderr",
     "output_type": "stream",
     "text": [
      "  2%|▏         | 11/484 [00:16<11:04,  1.40s/it]"
     ]
    },
    {
     "name": "stdout",
     "output_type": "stream",
     "text": [
      "done with patient sub-01924997\n",
      "currently working on sub-02012594\n"
     ]
    },
    {
     "name": "stderr",
     "output_type": "stream",
     "text": [
      "  2%|▏         | 12/484 [00:17<10:33,  1.34s/it]"
     ]
    },
    {
     "name": "stdout",
     "output_type": "stream",
     "text": [
      "done with patient sub-02012594\n",
      "currently working on sub-02090355\n"
     ]
    },
    {
     "name": "stderr",
     "output_type": "stream",
     "text": [
      "  3%|▎         | 13/484 [00:18<10:04,  1.28s/it]"
     ]
    },
    {
     "name": "stdout",
     "output_type": "stream",
     "text": [
      "done with patient sub-02090355\n",
      "currently working on sub-01321873\n"
     ]
    },
    {
     "name": "stderr",
     "output_type": "stream",
     "text": [
      "  3%|▎         | 14/484 [00:19<09:38,  1.23s/it]"
     ]
    },
    {
     "name": "stdout",
     "output_type": "stream",
     "text": [
      "done with patient sub-01321873\n",
      "currently working on sub-02155605\n"
     ]
    },
    {
     "name": "stderr",
     "output_type": "stream",
     "text": [
      "  3%|▎         | 15/484 [00:20<10:00,  1.28s/it]"
     ]
    },
    {
     "name": "stdout",
     "output_type": "stream",
     "text": [
      "done with patient sub-02155605\n",
      "currently working on sub-01214172\n"
     ]
    },
    {
     "name": "stderr",
     "output_type": "stream",
     "text": [
      "  3%|▎         | 16/484 [00:22<09:30,  1.22s/it]"
     ]
    },
    {
     "name": "stdout",
     "output_type": "stream",
     "text": [
      "done with patient sub-01214172\n",
      "currently working on sub-01840035\n"
     ]
    },
    {
     "name": "stderr",
     "output_type": "stream",
     "text": [
      "  4%|▎         | 17/484 [00:23<09:05,  1.17s/it]"
     ]
    },
    {
     "name": "stdout",
     "output_type": "stream",
     "text": [
      "done with patient sub-01840035\n",
      "currently working on sub-01479403\n"
     ]
    },
    {
     "name": "stderr",
     "output_type": "stream",
     "text": [
      "  4%|▎         | 18/484 [00:24<08:53,  1.15s/it]"
     ]
    },
    {
     "name": "stdout",
     "output_type": "stream",
     "text": [
      "done with patient sub-01479403\n",
      "currently working on sub-02020631\n"
     ]
    },
    {
     "name": "stderr",
     "output_type": "stream",
     "text": [
      "  4%|▍         | 19/484 [00:25<08:37,  1.11s/it]"
     ]
    },
    {
     "name": "stdout",
     "output_type": "stream",
     "text": [
      "done with patient sub-02020631\n",
      "currently working on sub-02184584\n"
     ]
    },
    {
     "name": "stderr",
     "output_type": "stream",
     "text": [
      "  4%|▍         | 20/484 [00:26<08:42,  1.13s/it]"
     ]
    },
    {
     "name": "stdout",
     "output_type": "stream",
     "text": [
      "done with patient sub-02184584\n",
      "currently working on sub-01018613\n"
     ]
    },
    {
     "name": "stderr",
     "output_type": "stream",
     "text": [
      "  4%|▍         | 21/484 [00:27<08:28,  1.10s/it]"
     ]
    },
    {
     "name": "stdout",
     "output_type": "stream",
     "text": [
      "done with patient sub-01018613\n",
      "currently working on sub-01398968\n"
     ]
    },
    {
     "name": "stderr",
     "output_type": "stream",
     "text": [
      "  5%|▍         | 22/484 [00:28<08:46,  1.14s/it]"
     ]
    },
    {
     "name": "stdout",
     "output_type": "stream",
     "text": [
      "done with patient sub-01398968\n",
      "currently working on sub-01966470\n"
     ]
    },
    {
     "name": "stderr",
     "output_type": "stream",
     "text": [
      "  5%|▍         | 23/484 [00:29<08:46,  1.14s/it]"
     ]
    },
    {
     "name": "stdout",
     "output_type": "stream",
     "text": [
      "done with patient sub-01966470\n",
      "currently working on sub-01055292\n"
     ]
    },
    {
     "name": "stderr",
     "output_type": "stream",
     "text": [
      "  5%|▍         | 24/484 [00:31<09:12,  1.20s/it]"
     ]
    },
    {
     "name": "stdout",
     "output_type": "stream",
     "text": [
      "done with patient sub-01055292\n",
      "currently working on sub-02036854\n"
     ]
    },
    {
     "name": "stderr",
     "output_type": "stream",
     "text": [
      "  5%|▌         | 25/484 [00:32<08:51,  1.16s/it]"
     ]
    },
    {
     "name": "stdout",
     "output_type": "stream",
     "text": [
      "done with patient sub-02036854\n",
      "currently working on sub-01812518\n"
     ]
    },
    {
     "name": "stderr",
     "output_type": "stream",
     "text": [
      "  5%|▌         | 26/484 [00:33<08:41,  1.14s/it]"
     ]
    },
    {
     "name": "stdout",
     "output_type": "stream",
     "text": [
      "done with patient sub-01812518\n",
      "currently working on sub-01621161\n"
     ]
    },
    {
     "name": "stderr",
     "output_type": "stream",
     "text": [
      "  6%|▌         | 27/484 [00:34<08:30,  1.12s/it]"
     ]
    },
    {
     "name": "stdout",
     "output_type": "stream",
     "text": [
      "done with patient sub-01621161\n",
      "currently working on sub-01947074\n"
     ]
    },
    {
     "name": "stderr",
     "output_type": "stream",
     "text": [
      "  6%|▌         | 28/484 [00:35<08:17,  1.09s/it]"
     ]
    },
    {
     "name": "stdout",
     "output_type": "stream",
     "text": [
      "done with patient sub-01947074\n",
      "currently working on sub-02145747\n"
     ]
    },
    {
     "name": "stderr",
     "output_type": "stream",
     "text": [
      "  6%|▌         | 29/484 [00:36<08:15,  1.09s/it]"
     ]
    },
    {
     "name": "stdout",
     "output_type": "stream",
     "text": [
      "done with patient sub-02145747\n",
      "currently working on sub-01698789\n"
     ]
    },
    {
     "name": "stderr",
     "output_type": "stream",
     "text": [
      "  6%|▌         | 30/484 [00:37<08:09,  1.08s/it]"
     ]
    },
    {
     "name": "stdout",
     "output_type": "stream",
     "text": [
      "done with patient sub-01698789\n",
      "currently working on sub-02173158\n"
     ]
    },
    {
     "name": "stderr",
     "output_type": "stream",
     "text": [
      "  6%|▋         | 31/484 [00:39<09:11,  1.22s/it]"
     ]
    },
    {
     "name": "stdout",
     "output_type": "stream",
     "text": [
      "done with patient sub-02173158\n",
      "currently working on sub-02046093\n"
     ]
    },
    {
     "name": "stderr",
     "output_type": "stream",
     "text": [
      "  7%|▋         | 32/484 [00:40<10:01,  1.33s/it]"
     ]
    },
    {
     "name": "stdout",
     "output_type": "stream",
     "text": [
      "done with patient sub-02046093\n",
      "currently working on sub-01870024\n"
     ]
    },
    {
     "name": "stderr",
     "output_type": "stream",
     "text": [
      "  7%|▋         | 33/484 [00:42<12:01,  1.60s/it]"
     ]
    },
    {
     "name": "stdout",
     "output_type": "stream",
     "text": [
      "done with patient sub-01870024\n",
      "currently working on sub-01952689\n"
     ]
    },
    {
     "name": "stderr",
     "output_type": "stream",
     "text": [
      "  7%|▋         | 34/484 [00:43<10:43,  1.43s/it]"
     ]
    },
    {
     "name": "stdout",
     "output_type": "stream",
     "text": [
      "done with patient sub-01952689\n",
      "currently working on sub-02038513\n"
     ]
    },
    {
     "name": "stderr",
     "output_type": "stream",
     "text": [
      "  7%|▋         | 35/484 [00:44<10:00,  1.34s/it]"
     ]
    },
    {
     "name": "stdout",
     "output_type": "stream",
     "text": [
      "done with patient sub-02038513\n",
      "currently working on sub-02014685\n"
     ]
    },
    {
     "name": "stderr",
     "output_type": "stream",
     "text": [
      "  7%|▋         | 36/484 [00:46<09:17,  1.24s/it]"
     ]
    },
    {
     "name": "stdout",
     "output_type": "stream",
     "text": [
      "done with patient sub-02014685\n",
      "currently working on sub-02152734\n"
     ]
    },
    {
     "name": "stderr",
     "output_type": "stream",
     "text": [
      "  8%|▊         | 37/484 [00:47<09:26,  1.27s/it]"
     ]
    },
    {
     "name": "stdout",
     "output_type": "stream",
     "text": [
      "done with patient sub-02152734\n",
      "currently working on sub-01056884\n"
     ]
    },
    {
     "name": "stderr",
     "output_type": "stream",
     "text": [
      "  8%|▊         | 38/484 [00:48<09:09,  1.23s/it]"
     ]
    },
    {
     "name": "stdout",
     "output_type": "stream",
     "text": [
      "done with patient sub-01056884\n",
      "currently working on sub-01861511\n"
     ]
    },
    {
     "name": "stderr",
     "output_type": "stream",
     "text": [
      "  8%|▊         | 39/484 [00:49<08:41,  1.17s/it]"
     ]
    },
    {
     "name": "stdout",
     "output_type": "stream",
     "text": [
      "done with patient sub-01861511\n",
      "currently working on sub-01991292\n"
     ]
    },
    {
     "name": "stderr",
     "output_type": "stream",
     "text": [
      "  8%|▊         | 40/484 [00:50<08:13,  1.11s/it]"
     ]
    },
    {
     "name": "stdout",
     "output_type": "stream",
     "text": [
      "done with patient sub-01991292\n",
      "currently working on sub-01505384\n"
     ]
    },
    {
     "name": "stderr",
     "output_type": "stream",
     "text": [
      "  8%|▊         | 41/484 [00:51<08:18,  1.13s/it]"
     ]
    },
    {
     "name": "stdout",
     "output_type": "stream",
     "text": [
      "done with patient sub-01505384\n",
      "currently working on sub-01771120\n"
     ]
    },
    {
     "name": "stderr",
     "output_type": "stream",
     "text": [
      "  9%|▊         | 42/484 [00:52<08:20,  1.13s/it]"
     ]
    },
    {
     "name": "stdout",
     "output_type": "stream",
     "text": [
      "done with patient sub-01771120\n",
      "currently working on sub-01274157\n"
     ]
    },
    {
     "name": "stderr",
     "output_type": "stream",
     "text": [
      "  9%|▉         | 43/484 [00:53<08:14,  1.12s/it]"
     ]
    },
    {
     "name": "stdout",
     "output_type": "stream",
     "text": [
      "done with patient sub-01274157\n",
      "currently working on sub-93003757\n"
     ]
    },
    {
     "name": "stderr",
     "output_type": "stream",
     "text": [
      "  9%|▉         | 44/484 [00:54<07:58,  1.09s/it]"
     ]
    },
    {
     "name": "stdout",
     "output_type": "stream",
     "text": [
      "done with patient sub-93003757\n",
      "currently working on sub-02140670\n"
     ]
    },
    {
     "name": "stderr",
     "output_type": "stream",
     "text": [
      "  9%|▉         | 45/484 [00:56<08:07,  1.11s/it]"
     ]
    },
    {
     "name": "stdout",
     "output_type": "stream",
     "text": [
      "done with patient sub-02140670\n",
      "currently working on sub-02120806\n"
     ]
    },
    {
     "name": "stderr",
     "output_type": "stream",
     "text": [
      " 10%|▉         | 46/484 [00:57<07:56,  1.09s/it]"
     ]
    },
    {
     "name": "stdout",
     "output_type": "stream",
     "text": [
      "done with patient sub-02120806\n",
      "currently working on sub-01764802\n"
     ]
    },
    {
     "name": "stderr",
     "output_type": "stream",
     "text": [
      " 10%|▉         | 47/484 [00:58<07:50,  1.08s/it]"
     ]
    },
    {
     "name": "stdout",
     "output_type": "stream",
     "text": [
      "done with patient sub-01764802\n",
      "currently working on sub-01942928\n"
     ]
    },
    {
     "name": "stderr",
     "output_type": "stream",
     "text": [
      " 10%|▉         | 48/484 [00:59<07:46,  1.07s/it]"
     ]
    },
    {
     "name": "stdout",
     "output_type": "stream",
     "text": [
      "done with patient sub-01942928\n",
      "currently working on sub-01216717\n"
     ]
    },
    {
     "name": "stderr",
     "output_type": "stream",
     "text": [
      " 10%|█         | 49/484 [01:00<07:49,  1.08s/it]"
     ]
    },
    {
     "name": "stdout",
     "output_type": "stream",
     "text": [
      "done with patient sub-01216717\n",
      "currently working on sub-01391984\n"
     ]
    },
    {
     "name": "stderr",
     "output_type": "stream",
     "text": [
      " 10%|█         | 50/484 [01:01<07:43,  1.07s/it]"
     ]
    },
    {
     "name": "stdout",
     "output_type": "stream",
     "text": [
      "done with patient sub-01391984\n",
      "currently working on sub-01494733\n"
     ]
    },
    {
     "name": "stderr",
     "output_type": "stream",
     "text": [
      " 11%|█         | 51/484 [01:02<07:35,  1.05s/it]"
     ]
    },
    {
     "name": "stdout",
     "output_type": "stream",
     "text": [
      "done with patient sub-01494733\n",
      "currently working on sub-01589112\n"
     ]
    },
    {
     "name": "stderr",
     "output_type": "stream",
     "text": [
      " 11%|█         | 52/484 [01:03<08:02,  1.12s/it]"
     ]
    },
    {
     "name": "stdout",
     "output_type": "stream",
     "text": [
      "done with patient sub-01589112\n",
      "currently working on sub-02075769\n"
     ]
    },
    {
     "name": "stderr",
     "output_type": "stream",
     "text": [
      " 11%|█         | 53/484 [01:04<07:56,  1.11s/it]"
     ]
    },
    {
     "name": "stdout",
     "output_type": "stream",
     "text": [
      "done with patient sub-02075769\n",
      "currently working on sub-02088565\n"
     ]
    },
    {
     "name": "stderr",
     "output_type": "stream",
     "text": [
      " 11%|█         | 54/484 [01:05<07:42,  1.08s/it]"
     ]
    },
    {
     "name": "stdout",
     "output_type": "stream",
     "text": [
      "done with patient sub-02088565\n",
      "currently working on sub-01616246\n"
     ]
    },
    {
     "name": "stderr",
     "output_type": "stream",
     "text": [
      " 11%|█▏        | 55/484 [01:06<07:35,  1.06s/it]"
     ]
    },
    {
     "name": "stdout",
     "output_type": "stream",
     "text": [
      "done with patient sub-01616246\n",
      "currently working on sub-01997658\n"
     ]
    },
    {
     "name": "stderr",
     "output_type": "stream",
     "text": [
      " 12%|█▏        | 56/484 [01:07<07:30,  1.05s/it]"
     ]
    },
    {
     "name": "stdout",
     "output_type": "stream",
     "text": [
      "done with patient sub-01997658\n",
      "currently working on sub-01795656\n"
     ]
    },
    {
     "name": "stderr",
     "output_type": "stream",
     "text": [
      " 12%|█▏        | 57/484 [01:08<07:41,  1.08s/it]"
     ]
    },
    {
     "name": "stdout",
     "output_type": "stream",
     "text": [
      "done with patient sub-01795656\n",
      "currently working on sub-01205745\n"
     ]
    },
    {
     "name": "stderr",
     "output_type": "stream",
     "text": [
      " 12%|█▏        | 58/484 [01:10<07:39,  1.08s/it]"
     ]
    },
    {
     "name": "stdout",
     "output_type": "stream",
     "text": [
      "done with patient sub-01205745\n",
      "currently working on sub-01513891\n"
     ]
    },
    {
     "name": "stderr",
     "output_type": "stream",
     "text": [
      " 12%|█▏        | 59/484 [01:11<07:38,  1.08s/it]"
     ]
    },
    {
     "name": "stdout",
     "output_type": "stream",
     "text": [
      "done with patient sub-01513891\n",
      "currently working on sub-01516702\n"
     ]
    },
    {
     "name": "stderr",
     "output_type": "stream",
     "text": [
      " 12%|█▏        | 60/484 [01:12<08:46,  1.24s/it]"
     ]
    },
    {
     "name": "stdout",
     "output_type": "stream",
     "text": [
      "done with patient sub-01516702\n",
      "currently working on sub-01717958\n"
     ]
    },
    {
     "name": "stderr",
     "output_type": "stream",
     "text": [
      " 13%|█▎        | 61/484 [01:13<08:31,  1.21s/it]"
     ]
    },
    {
     "name": "stdout",
     "output_type": "stream",
     "text": [
      "done with patient sub-01717958\n",
      "currently working on sub-01789555\n"
     ]
    },
    {
     "name": "stderr",
     "output_type": "stream",
     "text": [
      " 13%|█▎        | 62/484 [01:15<08:52,  1.26s/it]"
     ]
    },
    {
     "name": "stdout",
     "output_type": "stream",
     "text": [
      "done with patient sub-01789555\n",
      "currently working on sub-01040149\n"
     ]
    },
    {
     "name": "stderr",
     "output_type": "stream",
     "text": [
      " 13%|█▎        | 63/484 [01:16<09:06,  1.30s/it]"
     ]
    },
    {
     "name": "stdout",
     "output_type": "stream",
     "text": [
      "done with patient sub-01040149\n",
      "currently working on sub-01883957\n"
     ]
    },
    {
     "name": "stderr",
     "output_type": "stream",
     "text": [
      " 13%|█▎        | 64/484 [01:18<09:38,  1.38s/it]"
     ]
    },
    {
     "name": "stdout",
     "output_type": "stream",
     "text": [
      "done with patient sub-01883957\n",
      "currently working on sub-01335279\n"
     ]
    },
    {
     "name": "stderr",
     "output_type": "stream",
     "text": [
      " 13%|█▎        | 65/484 [01:19<08:52,  1.27s/it]"
     ]
    },
    {
     "name": "stdout",
     "output_type": "stream",
     "text": [
      "done with patient sub-01335279\n",
      "currently working on sub-01433377\n"
     ]
    },
    {
     "name": "stderr",
     "output_type": "stream",
     "text": [
      " 14%|█▎        | 66/484 [01:20<08:20,  1.20s/it]"
     ]
    },
    {
     "name": "stdout",
     "output_type": "stream",
     "text": [
      "done with patient sub-01433377\n",
      "currently working on sub-01957247\n"
     ]
    },
    {
     "name": "stderr",
     "output_type": "stream",
     "text": [
      " 14%|█▍        | 67/484 [01:21<07:57,  1.15s/it]"
     ]
    },
    {
     "name": "stdout",
     "output_type": "stream",
     "text": [
      "done with patient sub-01957247\n",
      "currently working on sub-02131818\n"
     ]
    },
    {
     "name": "stderr",
     "output_type": "stream",
     "text": [
      " 14%|█▍        | 68/484 [01:22<08:22,  1.21s/it]"
     ]
    },
    {
     "name": "stdout",
     "output_type": "stream",
     "text": [
      "done with patient sub-02131818\n",
      "currently working on sub-01190738\n"
     ]
    },
    {
     "name": "stderr",
     "output_type": "stream",
     "text": [
      " 14%|█▍        | 69/484 [01:24<09:21,  1.35s/it]"
     ]
    },
    {
     "name": "stdout",
     "output_type": "stream",
     "text": [
      "done with patient sub-01190738\n",
      "currently working on sub-02119444\n"
     ]
    },
    {
     "name": "stderr",
     "output_type": "stream",
     "text": [
      " 14%|█▍        | 70/484 [01:25<08:46,  1.27s/it]"
     ]
    },
    {
     "name": "stdout",
     "output_type": "stream",
     "text": [
      "done with patient sub-02119444\n",
      "currently working on sub-90005031\n"
     ]
    },
    {
     "name": "stderr",
     "output_type": "stream",
     "text": [
      " 15%|█▍        | 71/484 [01:26<08:16,  1.20s/it]"
     ]
    },
    {
     "name": "stdout",
     "output_type": "stream",
     "text": [
      "done with patient sub-90005031\n",
      "currently working on sub-01990699\n"
     ]
    },
    {
     "name": "stderr",
     "output_type": "stream",
     "text": [
      " 15%|█▍        | 72/484 [01:27<08:07,  1.18s/it]"
     ]
    },
    {
     "name": "stdout",
     "output_type": "stream",
     "text": [
      "done with patient sub-01990699\n",
      "currently working on sub-02015730\n"
     ]
    },
    {
     "name": "stderr",
     "output_type": "stream",
     "text": [
      " 15%|█▌        | 73/484 [01:28<07:44,  1.13s/it]"
     ]
    },
    {
     "name": "stdout",
     "output_type": "stream",
     "text": [
      "done with patient sub-02015730\n",
      "currently working on sub-01498464\n"
     ]
    },
    {
     "name": "stderr",
     "output_type": "stream",
     "text": [
      " 15%|█▌        | 74/484 [01:29<07:39,  1.12s/it]"
     ]
    },
    {
     "name": "stdout",
     "output_type": "stream",
     "text": [
      "done with patient sub-01498464\n",
      "currently working on sub-01713725\n"
     ]
    },
    {
     "name": "stderr",
     "output_type": "stream",
     "text": [
      " 15%|█▌        | 75/484 [01:30<07:51,  1.15s/it]"
     ]
    },
    {
     "name": "stdout",
     "output_type": "stream",
     "text": [
      "done with patient sub-01713725\n",
      "currently working on sub-01744565\n"
     ]
    },
    {
     "name": "stderr",
     "output_type": "stream",
     "text": [
      " 16%|█▌        | 76/484 [01:32<08:24,  1.24s/it]"
     ]
    },
    {
     "name": "stdout",
     "output_type": "stream",
     "text": [
      "done with patient sub-01744565\n",
      "currently working on sub-01414540\n"
     ]
    },
    {
     "name": "stderr",
     "output_type": "stream",
     "text": [
      " 16%|█▌        | 77/484 [01:33<07:59,  1.18s/it]"
     ]
    },
    {
     "name": "stdout",
     "output_type": "stream",
     "text": [
      "done with patient sub-01414540\n",
      "currently working on sub-01871625\n"
     ]
    },
    {
     "name": "stderr",
     "output_type": "stream",
     "text": [
      " 16%|█▌        | 78/484 [01:34<08:18,  1.23s/it]"
     ]
    },
    {
     "name": "stdout",
     "output_type": "stream",
     "text": [
      "done with patient sub-01871625\n",
      "currently working on sub-01098043\n"
     ]
    },
    {
     "name": "stderr",
     "output_type": "stream",
     "text": [
      " 16%|█▋        | 79/484 [01:35<08:08,  1.21s/it]"
     ]
    },
    {
     "name": "stdout",
     "output_type": "stream",
     "text": [
      "done with patient sub-01098043\n",
      "currently working on sub-01707721\n"
     ]
    },
    {
     "name": "stderr",
     "output_type": "stream",
     "text": [
      " 17%|█▋        | 80/484 [01:36<07:50,  1.16s/it]"
     ]
    },
    {
     "name": "stdout",
     "output_type": "stream",
     "text": [
      "done with patient sub-01707721\n",
      "currently working on sub-01874079\n"
     ]
    },
    {
     "name": "stderr",
     "output_type": "stream",
     "text": [
      " 17%|█▋        | 81/484 [01:38<07:46,  1.16s/it]"
     ]
    },
    {
     "name": "stdout",
     "output_type": "stream",
     "text": [
      "done with patient sub-01874079\n",
      "currently working on sub-01732456\n"
     ]
    },
    {
     "name": "stderr",
     "output_type": "stream",
     "text": [
      " 17%|█▋        | 82/484 [01:39<07:44,  1.16s/it]"
     ]
    },
    {
     "name": "stdout",
     "output_type": "stream",
     "text": [
      "done with patient sub-01732456\n",
      "currently working on sub-01457167\n"
     ]
    },
    {
     "name": "stderr",
     "output_type": "stream",
     "text": [
      " 17%|█▋        | 83/484 [01:40<07:37,  1.14s/it]"
     ]
    },
    {
     "name": "stdout",
     "output_type": "stream",
     "text": [
      "done with patient sub-01457167\n",
      "currently working on sub-02066445\n"
     ]
    },
    {
     "name": "stderr",
     "output_type": "stream",
     "text": [
      " 17%|█▋        | 84/484 [01:41<08:23,  1.26s/it]"
     ]
    },
    {
     "name": "stdout",
     "output_type": "stream",
     "text": [
      "done with patient sub-02066445\n",
      "currently working on sub-01391534\n"
     ]
    },
    {
     "name": "stderr",
     "output_type": "stream",
     "text": [
      " 18%|█▊        | 85/484 [01:42<07:57,  1.20s/it]"
     ]
    },
    {
     "name": "stdout",
     "output_type": "stream",
     "text": [
      "done with patient sub-01391534\n",
      "currently working on sub-01332588\n"
     ]
    },
    {
     "name": "stderr",
     "output_type": "stream",
     "text": [
      " 18%|█▊        | 86/484 [01:43<07:40,  1.16s/it]"
     ]
    },
    {
     "name": "stdout",
     "output_type": "stream",
     "text": [
      "done with patient sub-01332588\n",
      "currently working on sub-96004436\n"
     ]
    },
    {
     "name": "stderr",
     "output_type": "stream",
     "text": [
      " 18%|█▊        | 87/484 [01:45<07:26,  1.12s/it]"
     ]
    },
    {
     "name": "stdout",
     "output_type": "stream",
     "text": [
      "done with patient sub-96004436\n",
      "currently working on sub-01015961\n"
     ]
    },
    {
     "name": "stderr",
     "output_type": "stream",
     "text": [
      " 18%|█▊        | 88/484 [01:46<07:15,  1.10s/it]"
     ]
    },
    {
     "name": "stdout",
     "output_type": "stream",
     "text": [
      "done with patient sub-01015961\n",
      "currently working on sub-02190005\n"
     ]
    },
    {
     "name": "stderr",
     "output_type": "stream",
     "text": [
      " 18%|█▊        | 89/484 [01:47<07:14,  1.10s/it]"
     ]
    },
    {
     "name": "stdout",
     "output_type": "stream",
     "text": [
      "done with patient sub-02190005\n",
      "currently working on sub-01718213\n"
     ]
    },
    {
     "name": "stderr",
     "output_type": "stream",
     "text": [
      " 19%|█▉        | 91/484 [01:48<05:28,  1.20it/s]"
     ]
    },
    {
     "name": "stdout",
     "output_type": "stream",
     "text": [
      "done with patient sub-01718213\n",
      "currently working on sub-80004059\n"
     ]
    },
    {
     "name": "stderr",
     "output_type": "stream",
     "text": [
      " 19%|█▉        | 92/484 [01:49<06:21,  1.03it/s]"
     ]
    },
    {
     "name": "stdout",
     "output_type": "stream",
     "text": [
      "done with patient sub-80004059\n",
      "currently working on sub-01695173\n"
     ]
    },
    {
     "name": "stderr",
     "output_type": "stream",
     "text": [
      " 19%|█▉        | 93/484 [01:50<06:32,  1.00s/it]"
     ]
    },
    {
     "name": "stdout",
     "output_type": "stream",
     "text": [
      "done with patient sub-01695173\n",
      "currently working on sub-01117958\n"
     ]
    },
    {
     "name": "stderr",
     "output_type": "stream",
     "text": [
      " 19%|█▉        | 94/484 [01:51<06:36,  1.02s/it]"
     ]
    },
    {
     "name": "stdout",
     "output_type": "stream",
     "text": [
      "done with patient sub-01117958\n",
      "currently working on sub-01881784\n"
     ]
    },
    {
     "name": "stderr",
     "output_type": "stream",
     "text": [
      " 20%|█▉        | 95/484 [01:52<06:37,  1.02s/it]"
     ]
    },
    {
     "name": "stdout",
     "output_type": "stream",
     "text": [
      "done with patient sub-01881784\n",
      "currently working on sub-02177752\n"
     ]
    },
    {
     "name": "stderr",
     "output_type": "stream",
     "text": [
      " 20%|█▉        | 96/484 [01:53<06:54,  1.07s/it]"
     ]
    },
    {
     "name": "stdout",
     "output_type": "stream",
     "text": [
      "done with patient sub-02177752\n",
      "currently working on sub-01654658\n"
     ]
    },
    {
     "name": "stderr",
     "output_type": "stream",
     "text": [
      " 20%|██        | 97/484 [01:55<06:51,  1.06s/it]"
     ]
    },
    {
     "name": "stdout",
     "output_type": "stream",
     "text": [
      "done with patient sub-01654658\n",
      "currently working on sub-01605537\n"
     ]
    },
    {
     "name": "stderr",
     "output_type": "stream",
     "text": [
      " 20%|██        | 98/484 [01:56<06:56,  1.08s/it]"
     ]
    },
    {
     "name": "stdout",
     "output_type": "stream",
     "text": [
      "done with patient sub-01605537\n",
      "currently working on sub-01041137\n"
     ]
    },
    {
     "name": "stderr",
     "output_type": "stream",
     "text": [
      " 20%|██        | 99/484 [01:57<06:50,  1.07s/it]"
     ]
    },
    {
     "name": "stdout",
     "output_type": "stream",
     "text": [
      "done with patient sub-01041137\n",
      "currently working on sub-88000225\n"
     ]
    },
    {
     "name": "stderr",
     "output_type": "stream",
     "text": [
      " 21%|██        | 100/484 [01:58<06:49,  1.07s/it]"
     ]
    },
    {
     "name": "stdout",
     "output_type": "stream",
     "text": [
      "done with patient sub-88000225\n",
      "currently working on sub-02063398\n"
     ]
    },
    {
     "name": "stderr",
     "output_type": "stream",
     "text": [
      " 21%|██        | 101/484 [01:59<06:57,  1.09s/it]"
     ]
    },
    {
     "name": "stdout",
     "output_type": "stream",
     "text": [
      "done with patient sub-02063398\n",
      "currently working on sub-01251946\n"
     ]
    },
    {
     "name": "stderr",
     "output_type": "stream",
     "text": [
      " 21%|██        | 102/484 [02:01<09:11,  1.44s/it]"
     ]
    },
    {
     "name": "stdout",
     "output_type": "stream",
     "text": [
      "done with patient sub-01251946\n",
      "currently working on sub-01657294\n"
     ]
    },
    {
     "name": "stderr",
     "output_type": "stream",
     "text": [
      " 21%|██▏       | 103/484 [02:02<08:53,  1.40s/it]"
     ]
    },
    {
     "name": "stdout",
     "output_type": "stream",
     "text": [
      "done with patient sub-01657294\n",
      "currently working on sub-02137073\n"
     ]
    },
    {
     "name": "stderr",
     "output_type": "stream",
     "text": [
      " 21%|██▏       | 104/484 [02:04<08:16,  1.31s/it]"
     ]
    },
    {
     "name": "stdout",
     "output_type": "stream",
     "text": [
      "done with patient sub-02137073\n",
      "currently working on sub-02164825\n"
     ]
    },
    {
     "name": "stderr",
     "output_type": "stream",
     "text": [
      " 22%|██▏       | 105/484 [02:05<07:48,  1.24s/it]"
     ]
    },
    {
     "name": "stdout",
     "output_type": "stream",
     "text": [
      "done with patient sub-02164825\n",
      "currently working on sub-02119712\n"
     ]
    },
    {
     "name": "stderr",
     "output_type": "stream",
     "text": [
      " 22%|██▏       | 106/484 [02:06<08:03,  1.28s/it]"
     ]
    },
    {
     "name": "stdout",
     "output_type": "stream",
     "text": [
      "done with patient sub-02119712\n",
      "currently working on sub-01729917\n"
     ]
    },
    {
     "name": "stderr",
     "output_type": "stream",
     "text": [
      " 22%|██▏       | 107/484 [02:07<07:38,  1.22s/it]"
     ]
    },
    {
     "name": "stdout",
     "output_type": "stream",
     "text": [
      "done with patient sub-01729917\n",
      "currently working on sub-01207036\n"
     ]
    },
    {
     "name": "stderr",
     "output_type": "stream",
     "text": [
      " 22%|██▏       | 108/484 [02:08<07:19,  1.17s/it]"
     ]
    },
    {
     "name": "stdout",
     "output_type": "stream",
     "text": [
      "done with patient sub-01207036\n",
      "currently working on sub-02090169\n"
     ]
    },
    {
     "name": "stderr",
     "output_type": "stream",
     "text": [
      " 23%|██▎       | 109/484 [02:09<07:05,  1.13s/it]"
     ]
    },
    {
     "name": "stdout",
     "output_type": "stream",
     "text": [
      "done with patient sub-02090169\n",
      "currently working on sub-02137062\n"
     ]
    },
    {
     "name": "stderr",
     "output_type": "stream",
     "text": [
      " 23%|██▎       | 110/484 [02:10<06:58,  1.12s/it]"
     ]
    },
    {
     "name": "stdout",
     "output_type": "stream",
     "text": [
      "done with patient sub-02137062\n",
      "currently working on sub-01812578\n"
     ]
    },
    {
     "name": "stderr",
     "output_type": "stream",
     "text": [
      " 23%|██▎       | 111/484 [02:19<21:23,  3.44s/it]"
     ]
    },
    {
     "name": "stdout",
     "output_type": "stream",
     "text": [
      "done with patient sub-01812578\n",
      "currently working on sub-02145622\n"
     ]
    },
    {
     "name": "stderr",
     "output_type": "stream",
     "text": [
      " 23%|██▎       | 112/484 [02:20<16:48,  2.71s/it]"
     ]
    },
    {
     "name": "stdout",
     "output_type": "stream",
     "text": [
      "done with patient sub-02145622\n",
      "currently working on sub-01852952\n"
     ]
    },
    {
     "name": "stderr",
     "output_type": "stream",
     "text": [
      " 23%|██▎       | 113/484 [02:21<14:02,  2.27s/it]"
     ]
    },
    {
     "name": "stdout",
     "output_type": "stream",
     "text": [
      "done with patient sub-01852952\n",
      "currently working on sub-02199356\n"
     ]
    },
    {
     "name": "stderr",
     "output_type": "stream",
     "text": [
      " 24%|██▎       | 114/484 [02:22<11:46,  1.91s/it]"
     ]
    },
    {
     "name": "stdout",
     "output_type": "stream",
     "text": [
      "done with patient sub-02199356\n",
      "currently working on sub-01609293\n"
     ]
    },
    {
     "name": "stderr",
     "output_type": "stream",
     "text": [
      " 24%|██▍       | 115/484 [02:25<12:45,  2.08s/it]"
     ]
    },
    {
     "name": "stdout",
     "output_type": "stream",
     "text": [
      "done with patient sub-01609293\n",
      "currently working on sub-01854308\n"
     ]
    },
    {
     "name": "stderr",
     "output_type": "stream",
     "text": [
      " 24%|██▍       | 116/484 [02:26<10:53,  1.78s/it]"
     ]
    },
    {
     "name": "stdout",
     "output_type": "stream",
     "text": [
      "done with patient sub-01854308\n",
      "currently working on sub-01681275\n"
     ]
    },
    {
     "name": "stderr",
     "output_type": "stream",
     "text": [
      " 24%|██▍       | 117/484 [02:27<10:07,  1.66s/it]"
     ]
    },
    {
     "name": "stdout",
     "output_type": "stream",
     "text": [
      "done with patient sub-01681275\n",
      "currently working on sub-01961566\n"
     ]
    },
    {
     "name": "stderr",
     "output_type": "stream",
     "text": [
      " 24%|██▍       | 118/484 [02:28<08:59,  1.47s/it]"
     ]
    },
    {
     "name": "stdout",
     "output_type": "stream",
     "text": [
      "done with patient sub-01961566\n",
      "currently working on sub-02115377\n"
     ]
    },
    {
     "name": "stderr",
     "output_type": "stream",
     "text": [
      " 25%|██▍       | 119/484 [02:29<08:06,  1.33s/it]"
     ]
    },
    {
     "name": "stdout",
     "output_type": "stream",
     "text": [
      "done with patient sub-02115377\n",
      "currently working on sub-01607473\n"
     ]
    },
    {
     "name": "stderr",
     "output_type": "stream",
     "text": [
      " 25%|██▍       | 120/484 [02:30<07:36,  1.25s/it]"
     ]
    },
    {
     "name": "stdout",
     "output_type": "stream",
     "text": [
      "done with patient sub-01607473\n",
      "currently working on sub-01465229\n"
     ]
    },
    {
     "name": "stderr",
     "output_type": "stream",
     "text": [
      " 25%|██▌       | 121/484 [02:32<07:23,  1.22s/it]"
     ]
    },
    {
     "name": "stdout",
     "output_type": "stream",
     "text": [
      "done with patient sub-01465229\n",
      "currently working on sub-02116290\n"
     ]
    },
    {
     "name": "stderr",
     "output_type": "stream",
     "text": [
      " 25%|██▌       | 122/484 [02:33<07:13,  1.20s/it]"
     ]
    },
    {
     "name": "stdout",
     "output_type": "stream",
     "text": [
      "done with patient sub-02116290\n",
      "currently working on sub-01377261\n"
     ]
    },
    {
     "name": "stderr",
     "output_type": "stream",
     "text": [
      " 25%|██▌       | 123/484 [02:34<07:07,  1.18s/it]"
     ]
    },
    {
     "name": "stdout",
     "output_type": "stream",
     "text": [
      "done with patient sub-01377261\n",
      "currently working on sub-01083248\n"
     ]
    },
    {
     "name": "stderr",
     "output_type": "stream",
     "text": [
      " 26%|██▌       | 124/484 [02:35<06:55,  1.15s/it]"
     ]
    },
    {
     "name": "stdout",
     "output_type": "stream",
     "text": [
      "done with patient sub-01083248\n",
      "currently working on sub-01005097\n"
     ]
    },
    {
     "name": "stderr",
     "output_type": "stream",
     "text": [
      " 26%|██▌       | 125/484 [02:36<06:43,  1.13s/it]"
     ]
    },
    {
     "name": "stdout",
     "output_type": "stream",
     "text": [
      "done with patient sub-01005097\n",
      "currently working on sub-02172137\n"
     ]
    },
    {
     "name": "stderr",
     "output_type": "stream",
     "text": [
      " 26%|██▌       | 126/484 [02:37<07:04,  1.19s/it]"
     ]
    },
    {
     "name": "stdout",
     "output_type": "stream",
     "text": [
      "done with patient sub-02172137\n",
      "currently working on sub-01201482\n"
     ]
    },
    {
     "name": "stderr",
     "output_type": "stream",
     "text": [
      " 26%|██▌       | 127/484 [02:39<07:13,  1.22s/it]"
     ]
    },
    {
     "name": "stdout",
     "output_type": "stream",
     "text": [
      "done with patient sub-01201482\n",
      "currently working on sub-02153522\n"
     ]
    },
    {
     "name": "stderr",
     "output_type": "stream",
     "text": [
      " 27%|██▋       | 129/484 [02:40<05:13,  1.13it/s]"
     ]
    },
    {
     "name": "stdout",
     "output_type": "stream",
     "text": [
      "done with patient sub-02153522\n",
      "currently working on sub-02094837\n"
     ]
    },
    {
     "name": "stderr",
     "output_type": "stream",
     "text": [
      " 27%|██▋       | 130/484 [02:42<06:49,  1.16s/it]"
     ]
    },
    {
     "name": "stdout",
     "output_type": "stream",
     "text": [
      "done with patient sub-02094837\n",
      "currently working on sub-02063373\n"
     ]
    },
    {
     "name": "stderr",
     "output_type": "stream",
     "text": [
      " 27%|██▋       | 131/484 [02:43<06:41,  1.14s/it]"
     ]
    },
    {
     "name": "stdout",
     "output_type": "stream",
     "text": [
      "done with patient sub-02063373\n",
      "currently working on sub-01489395\n"
     ]
    },
    {
     "name": "stderr",
     "output_type": "stream",
     "text": [
      " 27%|██▋       | 132/484 [02:45<07:55,  1.35s/it]"
     ]
    },
    {
     "name": "stdout",
     "output_type": "stream",
     "text": [
      "done with patient sub-01489395\n",
      "currently working on sub-01695930\n"
     ]
    },
    {
     "name": "stderr",
     "output_type": "stream",
     "text": [
      " 27%|██▋       | 133/484 [02:46<07:23,  1.26s/it]"
     ]
    },
    {
     "name": "stdout",
     "output_type": "stream",
     "text": [
      "done with patient sub-01695930\n",
      "currently working on sub-01288036\n"
     ]
    },
    {
     "name": "stderr",
     "output_type": "stream",
     "text": [
      " 28%|██▊       | 134/484 [02:47<07:02,  1.21s/it]"
     ]
    },
    {
     "name": "stdout",
     "output_type": "stream",
     "text": [
      "done with patient sub-01288036\n",
      "currently working on sub-01387984\n"
     ]
    },
    {
     "name": "stderr",
     "output_type": "stream",
     "text": [
      " 28%|██▊       | 135/484 [02:48<06:55,  1.19s/it]"
     ]
    },
    {
     "name": "stdout",
     "output_type": "stream",
     "text": [
      "done with patient sub-01387984\n",
      "currently working on sub-01600788\n"
     ]
    },
    {
     "name": "stderr",
     "output_type": "stream",
     "text": [
      " 28%|██▊       | 136/484 [02:49<06:58,  1.20s/it]"
     ]
    },
    {
     "name": "stdout",
     "output_type": "stream",
     "text": [
      "done with patient sub-01600788\n",
      "currently working on sub-02034046\n"
     ]
    },
    {
     "name": "stderr",
     "output_type": "stream",
     "text": [
      " 28%|██▊       | 137/484 [02:50<06:42,  1.16s/it]"
     ]
    },
    {
     "name": "stdout",
     "output_type": "stream",
     "text": [
      "done with patient sub-02034046\n",
      "currently working on sub-01125016\n"
     ]
    },
    {
     "name": "stderr",
     "output_type": "stream",
     "text": [
      " 29%|██▊       | 138/484 [02:51<06:29,  1.13s/it]"
     ]
    },
    {
     "name": "stdout",
     "output_type": "stream",
     "text": [
      "done with patient sub-01125016\n",
      "currently working on sub-01311383\n"
     ]
    },
    {
     "name": "stderr",
     "output_type": "stream",
     "text": [
      " 29%|██▊       | 139/484 [02:52<06:35,  1.15s/it]"
     ]
    },
    {
     "name": "stdout",
     "output_type": "stream",
     "text": [
      "done with patient sub-01311383\n",
      "currently working on sub-01649133\n"
     ]
    },
    {
     "name": "stderr",
     "output_type": "stream",
     "text": [
      " 29%|██▉       | 140/484 [02:54<06:25,  1.12s/it]"
     ]
    },
    {
     "name": "stdout",
     "output_type": "stream",
     "text": [
      "done with patient sub-01649133\n",
      "currently working on sub-02026964\n"
     ]
    },
    {
     "name": "stderr",
     "output_type": "stream",
     "text": [
      " 29%|██▉       | 141/484 [02:55<06:31,  1.14s/it]"
     ]
    },
    {
     "name": "stdout",
     "output_type": "stream",
     "text": [
      "done with patient sub-02026964\n",
      "currently working on sub-01340749\n"
     ]
    },
    {
     "name": "stderr",
     "output_type": "stream",
     "text": [
      " 29%|██▉       | 142/484 [02:56<06:28,  1.14s/it]"
     ]
    },
    {
     "name": "stdout",
     "output_type": "stream",
     "text": [
      "done with patient sub-01340749\n",
      "currently working on sub-02015335\n"
     ]
    },
    {
     "name": "stderr",
     "output_type": "stream",
     "text": [
      " 30%|██▉       | 143/484 [02:57<06:22,  1.12s/it]"
     ]
    },
    {
     "name": "stdout",
     "output_type": "stream",
     "text": [
      "done with patient sub-02015335\n",
      "currently working on sub-02183443\n"
     ]
    },
    {
     "name": "stderr",
     "output_type": "stream",
     "text": [
      " 30%|██▉       | 144/484 [02:58<06:20,  1.12s/it]"
     ]
    },
    {
     "name": "stdout",
     "output_type": "stream",
     "text": [
      "done with patient sub-02183443\n",
      "currently working on sub-01550202\n"
     ]
    },
    {
     "name": "stderr",
     "output_type": "stream",
     "text": [
      " 30%|██▉       | 145/484 [02:59<06:15,  1.11s/it]"
     ]
    },
    {
     "name": "stdout",
     "output_type": "stream",
     "text": [
      "done with patient sub-01550202\n",
      "currently working on sub-01405609\n"
     ]
    },
    {
     "name": "stderr",
     "output_type": "stream",
     "text": [
      " 30%|███       | 146/484 [03:00<06:07,  1.09s/it]"
     ]
    },
    {
     "name": "stdout",
     "output_type": "stream",
     "text": [
      "done with patient sub-01405609\n",
      "currently working on sub-01072344\n"
     ]
    },
    {
     "name": "stderr",
     "output_type": "stream",
     "text": [
      " 30%|███       | 147/484 [03:01<06:04,  1.08s/it]"
     ]
    },
    {
     "name": "stdout",
     "output_type": "stream",
     "text": [
      "done with patient sub-01072344\n",
      "currently working on sub-02115365\n"
     ]
    },
    {
     "name": "stderr",
     "output_type": "stream",
     "text": [
      " 31%|███       | 148/484 [03:02<06:00,  1.07s/it]"
     ]
    },
    {
     "name": "stdout",
     "output_type": "stream",
     "text": [
      "done with patient sub-02115365\n",
      "currently working on sub-01373833\n"
     ]
    },
    {
     "name": "stderr",
     "output_type": "stream",
     "text": [
      " 31%|███       | 149/484 [03:07<11:23,  2.04s/it]"
     ]
    },
    {
     "name": "stdout",
     "output_type": "stream",
     "text": [
      "done with patient sub-01373833\n",
      "currently working on sub-01953116\n"
     ]
    },
    {
     "name": "stderr",
     "output_type": "stream",
     "text": [
      " 31%|███       | 150/484 [03:08<09:48,  1.76s/it]"
     ]
    },
    {
     "name": "stdout",
     "output_type": "stream",
     "text": [
      "done with patient sub-01953116\n",
      "currently working on sub-01935938\n"
     ]
    },
    {
     "name": "stderr",
     "output_type": "stream",
     "text": [
      " 31%|███       | 151/484 [03:09<08:42,  1.57s/it]"
     ]
    },
    {
     "name": "stdout",
     "output_type": "stream",
     "text": [
      "done with patient sub-01935938\n",
      "currently working on sub-02031256\n"
     ]
    },
    {
     "name": "stderr",
     "output_type": "stream",
     "text": [
      " 31%|███▏      | 152/484 [03:10<07:56,  1.44s/it]"
     ]
    },
    {
     "name": "stdout",
     "output_type": "stream",
     "text": [
      "done with patient sub-02031256\n",
      "currently working on sub-01220269\n"
     ]
    },
    {
     "name": "stderr",
     "output_type": "stream",
     "text": [
      " 32%|███▏      | 153/484 [03:11<07:22,  1.34s/it]"
     ]
    },
    {
     "name": "stdout",
     "output_type": "stream",
     "text": [
      "done with patient sub-01220269\n",
      "currently working on sub-01801060\n"
     ]
    },
    {
     "name": "stderr",
     "output_type": "stream",
     "text": [
      " 32%|███▏      | 154/484 [03:12<07:06,  1.29s/it]"
     ]
    },
    {
     "name": "stdout",
     "output_type": "stream",
     "text": [
      "done with patient sub-01801060\n",
      "currently working on sub-02086122\n"
     ]
    },
    {
     "name": "stderr",
     "output_type": "stream",
     "text": [
      " 32%|███▏      | 155/484 [03:13<06:49,  1.24s/it]"
     ]
    },
    {
     "name": "stdout",
     "output_type": "stream",
     "text": [
      "done with patient sub-02086122\n",
      "currently working on sub-01710310\n"
     ]
    },
    {
     "name": "stderr",
     "output_type": "stream",
     "text": [
      " 32%|███▏      | 156/484 [03:14<06:30,  1.19s/it]"
     ]
    },
    {
     "name": "stdout",
     "output_type": "stream",
     "text": [
      "done with patient sub-01710310\n",
      "currently working on sub-02071509\n"
     ]
    },
    {
     "name": "stderr",
     "output_type": "stream",
     "text": [
      " 32%|███▏      | 157/484 [03:16<06:25,  1.18s/it]"
     ]
    },
    {
     "name": "stdout",
     "output_type": "stream",
     "text": [
      "done with patient sub-02071509\n",
      "currently working on sub-02094018\n"
     ]
    },
    {
     "name": "stderr",
     "output_type": "stream",
     "text": [
      " 33%|███▎      | 158/484 [03:18<07:47,  1.43s/it]"
     ]
    },
    {
     "name": "stdout",
     "output_type": "stream",
     "text": [
      "done with patient sub-02094018\n",
      "currently working on sub-01331487\n"
     ]
    },
    {
     "name": "stderr",
     "output_type": "stream",
     "text": [
      " 33%|███▎      | 159/484 [03:19<07:23,  1.37s/it]"
     ]
    },
    {
     "name": "stdout",
     "output_type": "stream",
     "text": [
      "done with patient sub-01331487\n",
      "currently working on sub-02082498\n"
     ]
    },
    {
     "name": "stderr",
     "output_type": "stream",
     "text": [
      " 33%|███▎      | 160/484 [03:20<07:01,  1.30s/it]"
     ]
    },
    {
     "name": "stdout",
     "output_type": "stream",
     "text": [
      "done with patient sub-02082498\n",
      "currently working on sub-01415245\n"
     ]
    },
    {
     "name": "stderr",
     "output_type": "stream",
     "text": [
      " 33%|███▎      | 161/484 [03:21<06:36,  1.23s/it]"
     ]
    },
    {
     "name": "stdout",
     "output_type": "stream",
     "text": [
      "done with patient sub-01415245\n",
      "currently working on sub-01530724\n"
     ]
    },
    {
     "name": "stderr",
     "output_type": "stream",
     "text": [
      " 33%|███▎      | 162/484 [03:22<06:21,  1.19s/it]"
     ]
    },
    {
     "name": "stdout",
     "output_type": "stream",
     "text": [
      "done with patient sub-01530724\n",
      "currently working on sub-01423083\n"
     ]
    },
    {
     "name": "stderr",
     "output_type": "stream",
     "text": [
      " 34%|███▎      | 163/484 [03:23<06:08,  1.15s/it]"
     ]
    },
    {
     "name": "stdout",
     "output_type": "stream",
     "text": [
      "done with patient sub-01423083\n",
      "currently working on sub-01307298\n"
     ]
    },
    {
     "name": "stderr",
     "output_type": "stream",
     "text": [
      " 34%|███▍      | 164/484 [03:24<06:10,  1.16s/it]"
     ]
    },
    {
     "name": "stdout",
     "output_type": "stream",
     "text": [
      "done with patient sub-01307298\n",
      "currently working on sub-02163033\n"
     ]
    },
    {
     "name": "stderr",
     "output_type": "stream",
     "text": [
      " 34%|███▍      | 165/484 [03:25<06:07,  1.15s/it]"
     ]
    },
    {
     "name": "stdout",
     "output_type": "stream",
     "text": [
      "done with patient sub-02163033\n",
      "currently working on sub-01201117\n"
     ]
    },
    {
     "name": "stderr",
     "output_type": "stream",
     "text": [
      " 34%|███▍      | 166/484 [03:27<06:19,  1.19s/it]"
     ]
    },
    {
     "name": "stdout",
     "output_type": "stream",
     "text": [
      "done with patient sub-01201117\n",
      "currently working on sub-02167792\n"
     ]
    },
    {
     "name": "stderr",
     "output_type": "stream",
     "text": [
      " 35%|███▍      | 167/484 [03:28<06:19,  1.20s/it]"
     ]
    },
    {
     "name": "stdout",
     "output_type": "stream",
     "text": [
      "done with patient sub-02167792\n",
      "currently working on sub-01674416\n"
     ]
    },
    {
     "name": "stderr",
     "output_type": "stream",
     "text": [
      " 35%|███▍      | 168/484 [03:29<06:07,  1.16s/it]"
     ]
    },
    {
     "name": "stdout",
     "output_type": "stream",
     "text": [
      "done with patient sub-01674416\n",
      "currently working on sub-01108350\n"
     ]
    },
    {
     "name": "stderr",
     "output_type": "stream",
     "text": [
      " 35%|███▍      | 169/484 [03:30<05:57,  1.14s/it]"
     ]
    },
    {
     "name": "stdout",
     "output_type": "stream",
     "text": [
      "done with patient sub-01108350\n",
      "currently working on sub-01619086\n"
     ]
    },
    {
     "name": "stderr",
     "output_type": "stream",
     "text": [
      " 35%|███▌      | 170/484 [03:31<06:08,  1.17s/it]"
     ]
    },
    {
     "name": "stdout",
     "output_type": "stream",
     "text": [
      "done with patient sub-01619086\n",
      "currently working on sub-02092748\n"
     ]
    },
    {
     "name": "stderr",
     "output_type": "stream",
     "text": [
      " 35%|███▌      | 171/484 [03:36<10:54,  2.09s/it]"
     ]
    },
    {
     "name": "stdout",
     "output_type": "stream",
     "text": [
      "done with patient sub-02092748\n",
      "currently working on sub-01205171\n"
     ]
    },
    {
     "name": "stderr",
     "output_type": "stream",
     "text": [
      " 36%|███▌      | 172/484 [03:37<09:22,  1.80s/it]"
     ]
    },
    {
     "name": "stdout",
     "output_type": "stream",
     "text": [
      "done with patient sub-01205171\n",
      "currently working on sub-01705952\n"
     ]
    },
    {
     "name": "stderr",
     "output_type": "stream",
     "text": [
      " 36%|███▌      | 173/484 [03:39<10:00,  1.93s/it]"
     ]
    },
    {
     "name": "stdout",
     "output_type": "stream",
     "text": [
      "done with patient sub-01705952\n",
      "currently working on sub-02018743\n"
     ]
    },
    {
     "name": "stderr",
     "output_type": "stream",
     "text": [
      " 36%|███▌      | 174/484 [03:41<09:36,  1.86s/it]"
     ]
    },
    {
     "name": "stdout",
     "output_type": "stream",
     "text": [
      "done with patient sub-02018743\n",
      "currently working on sub-02073121\n"
     ]
    },
    {
     "name": "stderr",
     "output_type": "stream",
     "text": [
      " 36%|███▌      | 175/484 [03:42<08:21,  1.62s/it]"
     ]
    },
    {
     "name": "stdout",
     "output_type": "stream",
     "text": [
      "done with patient sub-02073121\n",
      "currently working on sub-01483723\n"
     ]
    },
    {
     "name": "stderr",
     "output_type": "stream",
     "text": [
      " 36%|███▋      | 176/484 [03:43<07:54,  1.54s/it]"
     ]
    },
    {
     "name": "stdout",
     "output_type": "stream",
     "text": [
      "done with patient sub-01483723\n",
      "currently working on sub-02071305\n"
     ]
    },
    {
     "name": "stderr",
     "output_type": "stream",
     "text": [
      " 37%|███▋      | 177/484 [03:44<07:10,  1.40s/it]"
     ]
    },
    {
     "name": "stdout",
     "output_type": "stream",
     "text": [
      "done with patient sub-02071305\n",
      "currently working on sub-01548397\n"
     ]
    },
    {
     "name": "stderr",
     "output_type": "stream",
     "text": [
      " 37%|███▋      | 178/484 [03:45<06:42,  1.32s/it]"
     ]
    },
    {
     "name": "stdout",
     "output_type": "stream",
     "text": [
      "done with patient sub-01548397\n",
      "currently working on sub-01109318\n"
     ]
    },
    {
     "name": "stderr",
     "output_type": "stream",
     "text": [
      " 37%|███▋      | 179/484 [03:46<06:26,  1.27s/it]"
     ]
    },
    {
     "name": "stdout",
     "output_type": "stream",
     "text": [
      "done with patient sub-01109318\n",
      "currently working on sub-01456719\n"
     ]
    },
    {
     "name": "stderr",
     "output_type": "stream",
     "text": [
      " 37%|███▋      | 180/484 [03:48<06:24,  1.26s/it]"
     ]
    },
    {
     "name": "stdout",
     "output_type": "stream",
     "text": [
      "done with patient sub-01456719\n",
      "currently working on sub-01569328\n"
     ]
    },
    {
     "name": "stderr",
     "output_type": "stream",
     "text": [
      " 37%|███▋      | 181/484 [03:49<06:25,  1.27s/it]"
     ]
    },
    {
     "name": "stdout",
     "output_type": "stream",
     "text": [
      "done with patient sub-01569328\n",
      "currently working on sub-01496608\n"
     ]
    },
    {
     "name": "stderr",
     "output_type": "stream",
     "text": [
      " 38%|███▊      | 182/484 [03:51<06:56,  1.38s/it]"
     ]
    },
    {
     "name": "stdout",
     "output_type": "stream",
     "text": [
      "done with patient sub-01496608\n",
      "currently working on sub-01400779\n"
     ]
    },
    {
     "name": "stderr",
     "output_type": "stream",
     "text": [
      " 38%|███▊      | 183/484 [03:52<06:26,  1.28s/it]"
     ]
    },
    {
     "name": "stdout",
     "output_type": "stream",
     "text": [
      "done with patient sub-01400779\n",
      "currently working on sub-01431720\n"
     ]
    },
    {
     "name": "stderr",
     "output_type": "stream",
     "text": [
      " 38%|███▊      | 184/484 [03:53<06:12,  1.24s/it]"
     ]
    },
    {
     "name": "stdout",
     "output_type": "stream",
     "text": [
      "done with patient sub-01431720\n",
      "currently working on sub-01573094\n"
     ]
    },
    {
     "name": "stderr",
     "output_type": "stream",
     "text": [
      " 38%|███▊      | 185/484 [03:54<06:21,  1.28s/it]"
     ]
    },
    {
     "name": "stdout",
     "output_type": "stream",
     "text": [
      "done with patient sub-01573094\n",
      "currently working on sub-01879950\n"
     ]
    },
    {
     "name": "stderr",
     "output_type": "stream",
     "text": [
      " 38%|███▊      | 186/484 [03:56<07:32,  1.52s/it]"
     ]
    },
    {
     "name": "stdout",
     "output_type": "stream",
     "text": [
      "done with patient sub-01879950\n",
      "currently working on sub-01420310\n"
     ]
    },
    {
     "name": "stderr",
     "output_type": "stream",
     "text": [
      " 39%|███▊      | 187/484 [03:57<07:02,  1.42s/it]"
     ]
    },
    {
     "name": "stdout",
     "output_type": "stream",
     "text": [
      "done with patient sub-01420310\n",
      "currently working on sub-01483116\n"
     ]
    },
    {
     "name": "stderr",
     "output_type": "stream",
     "text": [
      " 39%|███▉      | 188/484 [03:59<06:35,  1.34s/it]"
     ]
    },
    {
     "name": "stdout",
     "output_type": "stream",
     "text": [
      "done with patient sub-01483116\n",
      "currently working on sub-01713022\n"
     ]
    },
    {
     "name": "stderr",
     "output_type": "stream",
     "text": [
      " 39%|███▉      | 189/484 [04:00<06:47,  1.38s/it]"
     ]
    },
    {
     "name": "stdout",
     "output_type": "stream",
     "text": [
      "done with patient sub-01713022\n",
      "currently working on sub-02197683\n"
     ]
    },
    {
     "name": "stderr",
     "output_type": "stream",
     "text": [
      " 39%|███▉      | 190/484 [04:01<06:22,  1.30s/it]"
     ]
    },
    {
     "name": "stdout",
     "output_type": "stream",
     "text": [
      "done with patient sub-02197683\n",
      "currently working on sub-01499528\n"
     ]
    },
    {
     "name": "stderr",
     "output_type": "stream",
     "text": [
      " 39%|███▉      | 191/484 [04:02<06:00,  1.23s/it]"
     ]
    },
    {
     "name": "stdout",
     "output_type": "stream",
     "text": [
      "done with patient sub-01499528\n",
      "currently working on sub-01478990\n"
     ]
    },
    {
     "name": "stderr",
     "output_type": "stream",
     "text": [
      " 40%|███▉      | 192/484 [04:04<06:26,  1.32s/it]"
     ]
    },
    {
     "name": "stdout",
     "output_type": "stream",
     "text": [
      "done with patient sub-01478990\n",
      "currently working on sub-01578955\n"
     ]
    },
    {
     "name": "stderr",
     "output_type": "stream",
     "text": [
      " 40%|███▉      | 193/484 [04:05<06:03,  1.25s/it]"
     ]
    },
    {
     "name": "stdout",
     "output_type": "stream",
     "text": [
      "done with patient sub-01578955\n",
      "currently working on sub-01652130\n"
     ]
    },
    {
     "name": "stderr",
     "output_type": "stream",
     "text": [
      " 40%|████      | 194/484 [04:06<05:52,  1.21s/it]"
     ]
    },
    {
     "name": "stdout",
     "output_type": "stream",
     "text": [
      "done with patient sub-01652130\n",
      "currently working on sub-01706562\n"
     ]
    },
    {
     "name": "stderr",
     "output_type": "stream",
     "text": [
      " 40%|████      | 195/484 [04:07<05:38,  1.17s/it]"
     ]
    },
    {
     "name": "stdout",
     "output_type": "stream",
     "text": [
      "done with patient sub-01706562\n",
      "currently working on sub-01390721\n"
     ]
    },
    {
     "name": "stderr",
     "output_type": "stream",
     "text": [
      " 40%|████      | 196/484 [04:08<05:49,  1.21s/it]"
     ]
    },
    {
     "name": "stdout",
     "output_type": "stream",
     "text": [
      "done with patient sub-01390721\n",
      "currently working on sub-01985065\n"
     ]
    },
    {
     "name": "stderr",
     "output_type": "stream",
     "text": [
      " 41%|████      | 197/484 [04:09<05:31,  1.16s/it]"
     ]
    },
    {
     "name": "stdout",
     "output_type": "stream",
     "text": [
      "done with patient sub-01985065\n",
      "currently working on sub-01414189\n"
     ]
    },
    {
     "name": "stderr",
     "output_type": "stream",
     "text": [
      " 41%|████      | 198/484 [04:11<05:32,  1.16s/it]"
     ]
    },
    {
     "name": "stdout",
     "output_type": "stream",
     "text": [
      "done with patient sub-01414189\n",
      "currently working on sub-01138456\n"
     ]
    },
    {
     "name": "stderr",
     "output_type": "stream",
     "text": [
      " 41%|████      | 199/484 [04:12<05:53,  1.24s/it]"
     ]
    },
    {
     "name": "stdout",
     "output_type": "stream",
     "text": [
      "done with patient sub-01138456\n",
      "currently working on sub-02113470\n"
     ]
    },
    {
     "name": "stderr",
     "output_type": "stream",
     "text": [
      " 41%|████▏     | 200/484 [04:31<31:00,  6.55s/it]"
     ]
    },
    {
     "name": "stdout",
     "output_type": "stream",
     "text": [
      "done with patient sub-02113470\n",
      "currently working on sub-02134991\n"
     ]
    },
    {
     "name": "stderr",
     "output_type": "stream",
     "text": [
      " 42%|████▏     | 201/484 [04:34<26:02,  5.52s/it]"
     ]
    },
    {
     "name": "stdout",
     "output_type": "stream",
     "text": [
      "done with patient sub-02134991\n",
      "currently working on sub-01760947\n"
     ]
    },
    {
     "name": "stderr",
     "output_type": "stream",
     "text": [
      " 42%|████▏     | 202/484 [04:36<20:45,  4.42s/it]"
     ]
    },
    {
     "name": "stdout",
     "output_type": "stream",
     "text": [
      "done with patient sub-01760947\n",
      "currently working on sub-02070606\n"
     ]
    },
    {
     "name": "stderr",
     "output_type": "stream",
     "text": [
      " 42%|████▏     | 203/484 [04:37<16:18,  3.48s/it]"
     ]
    },
    {
     "name": "stdout",
     "output_type": "stream",
     "text": [
      "done with patient sub-02070606\n",
      "currently working on sub-02014467\n"
     ]
    },
    {
     "name": "stderr",
     "output_type": "stream",
     "text": [
      " 42%|████▏     | 204/484 [04:39<13:18,  2.85s/it]"
     ]
    },
    {
     "name": "stdout",
     "output_type": "stream",
     "text": [
      "done with patient sub-02014467\n",
      "currently working on sub-01501379\n"
     ]
    },
    {
     "name": "stderr",
     "output_type": "stream",
     "text": [
      " 42%|████▏     | 205/484 [04:40<10:48,  2.32s/it]"
     ]
    },
    {
     "name": "stdout",
     "output_type": "stream",
     "text": [
      "done with patient sub-01501379\n",
      "currently working on sub-02209727\n"
     ]
    },
    {
     "name": "stderr",
     "output_type": "stream",
     "text": [
      " 43%|████▎     | 206/484 [04:41<09:44,  2.10s/it]"
     ]
    },
    {
     "name": "stdout",
     "output_type": "stream",
     "text": [
      "done with patient sub-02209727\n",
      "currently working on sub-01979997\n"
     ]
    },
    {
     "name": "stderr",
     "output_type": "stream",
     "text": [
      " 43%|████▎     | 207/484 [04:43<08:39,  1.88s/it]"
     ]
    },
    {
     "name": "stdout",
     "output_type": "stream",
     "text": [
      "done with patient sub-01979997\n",
      "currently working on sub-01699532\n"
     ]
    },
    {
     "name": "stderr",
     "output_type": "stream",
     "text": [
      " 43%|████▎     | 208/484 [04:44<07:34,  1.65s/it]"
     ]
    },
    {
     "name": "stdout",
     "output_type": "stream",
     "text": [
      "done with patient sub-01699532\n",
      "currently working on sub-01695080\n"
     ]
    },
    {
     "name": "stderr",
     "output_type": "stream",
     "text": [
      " 43%|████▎     | 209/484 [04:45<06:59,  1.52s/it]"
     ]
    },
    {
     "name": "stdout",
     "output_type": "stream",
     "text": [
      "done with patient sub-01695080\n",
      "currently working on sub-01087386\n"
     ]
    },
    {
     "name": "stderr",
     "output_type": "stream",
     "text": [
      " 43%|████▎     | 210/484 [04:46<06:22,  1.40s/it]"
     ]
    },
    {
     "name": "stdout",
     "output_type": "stream",
     "text": [
      "done with patient sub-01087386\n",
      "currently working on sub-01122863\n"
     ]
    },
    {
     "name": "stderr",
     "output_type": "stream",
     "text": [
      " 44%|████▎     | 211/484 [04:47<06:23,  1.41s/it]"
     ]
    },
    {
     "name": "stdout",
     "output_type": "stream",
     "text": [
      "done with patient sub-01122863\n",
      "currently working on sub-02106388\n"
     ]
    },
    {
     "name": "stderr",
     "output_type": "stream",
     "text": [
      " 44%|████▍     | 212/484 [04:49<05:54,  1.30s/it]"
     ]
    },
    {
     "name": "stdout",
     "output_type": "stream",
     "text": [
      "done with patient sub-02106388\n",
      "currently working on sub-01152379\n"
     ]
    },
    {
     "name": "stderr",
     "output_type": "stream",
     "text": [
      " 44%|████▍     | 213/484 [04:50<05:32,  1.23s/it]"
     ]
    },
    {
     "name": "stdout",
     "output_type": "stream",
     "text": [
      "done with patient sub-01152379\n",
      "currently working on sub-02055312\n"
     ]
    },
    {
     "name": "stderr",
     "output_type": "stream",
     "text": [
      " 44%|████▍     | 214/484 [04:51<05:27,  1.21s/it]"
     ]
    },
    {
     "name": "stdout",
     "output_type": "stream",
     "text": [
      "done with patient sub-02055312\n",
      "currently working on sub-02145870\n"
     ]
    },
    {
     "name": "stderr",
     "output_type": "stream",
     "text": [
      " 44%|████▍     | 215/484 [04:52<05:23,  1.20s/it]"
     ]
    },
    {
     "name": "stdout",
     "output_type": "stream",
     "text": [
      "done with patient sub-02145870\n",
      "currently working on sub-02036053\n"
     ]
    },
    {
     "name": "stderr",
     "output_type": "stream",
     "text": [
      " 45%|████▍     | 216/484 [04:53<05:36,  1.26s/it]"
     ]
    },
    {
     "name": "stdout",
     "output_type": "stream",
     "text": [
      "done with patient sub-02036053\n",
      "currently working on sub-02120805\n"
     ]
    },
    {
     "name": "stderr",
     "output_type": "stream",
     "text": [
      " 45%|████▍     | 217/484 [04:55<05:51,  1.32s/it]"
     ]
    },
    {
     "name": "stdout",
     "output_type": "stream",
     "text": [
      "done with patient sub-02120805\n",
      "currently working on sub-01395836\n"
     ]
    },
    {
     "name": "stderr",
     "output_type": "stream",
     "text": [
      " 45%|████▌     | 218/484 [04:56<05:33,  1.26s/it]"
     ]
    },
    {
     "name": "stdout",
     "output_type": "stream",
     "text": [
      "done with patient sub-01395836\n",
      "currently working on sub-01914558\n"
     ]
    },
    {
     "name": "stderr",
     "output_type": "stream",
     "text": [
      " 45%|████▌     | 220/484 [04:57<04:11,  1.05it/s]"
     ]
    },
    {
     "name": "stdout",
     "output_type": "stream",
     "text": [
      "done with patient sub-01914558\n",
      "currently working on sub-01892684\n"
     ]
    },
    {
     "name": "stderr",
     "output_type": "stream",
     "text": [
      " 46%|████▌     | 221/484 [04:59<04:43,  1.08s/it]"
     ]
    },
    {
     "name": "stdout",
     "output_type": "stream",
     "text": [
      "done with patient sub-01892684\n",
      "currently working on sub-01660211\n"
     ]
    },
    {
     "name": "stderr",
     "output_type": "stream",
     "text": [
      " 46%|████▌     | 223/484 [05:00<03:43,  1.17it/s]"
     ]
    },
    {
     "name": "stdout",
     "output_type": "stream",
     "text": [
      "done with patient sub-01660211\n",
      "currently working on sub-01486069\n"
     ]
    },
    {
     "name": "stderr",
     "output_type": "stream",
     "text": [
      " 46%|████▋     | 224/484 [05:01<04:01,  1.08it/s]"
     ]
    },
    {
     "name": "stdout",
     "output_type": "stream",
     "text": [
      "done with patient sub-01486069\n",
      "currently working on sub-01583797\n"
     ]
    },
    {
     "name": "stderr",
     "output_type": "stream",
     "text": [
      " 47%|████▋     | 226/484 [05:02<03:21,  1.28it/s]"
     ]
    },
    {
     "name": "stdout",
     "output_type": "stream",
     "text": [
      "done with patient sub-01583797\n",
      "currently working on sub-01936520\n"
     ]
    },
    {
     "name": "stderr",
     "output_type": "stream",
     "text": [
      " 47%|████▋     | 227/484 [05:03<03:45,  1.14it/s]"
     ]
    },
    {
     "name": "stdout",
     "output_type": "stream",
     "text": [
      "done with patient sub-01936520\n",
      "currently working on sub-01594137\n"
     ]
    },
    {
     "name": "stderr",
     "output_type": "stream",
     "text": [
      " 47%|████▋     | 228/484 [05:04<04:01,  1.06it/s]"
     ]
    },
    {
     "name": "stdout",
     "output_type": "stream",
     "text": [
      "done with patient sub-01594137\n",
      "currently working on sub-01882989\n"
     ]
    },
    {
     "name": "stderr",
     "output_type": "stream",
     "text": [
      " 47%|████▋     | 229/484 [05:05<04:11,  1.01it/s]"
     ]
    },
    {
     "name": "stdout",
     "output_type": "stream",
     "text": [
      "done with patient sub-01882989\n",
      "currently working on sub-01021993\n"
     ]
    },
    {
     "name": "stderr",
     "output_type": "stream",
     "text": [
      " 48%|████▊     | 230/484 [05:07<04:33,  1.08s/it]"
     ]
    },
    {
     "name": "stdout",
     "output_type": "stream",
     "text": [
      "done with patient sub-01021993\n",
      "currently working on sub-02063986\n"
     ]
    },
    {
     "name": "stderr",
     "output_type": "stream",
     "text": [
      " 48%|████▊     | 231/484 [05:08<04:37,  1.10s/it]"
     ]
    },
    {
     "name": "stdout",
     "output_type": "stream",
     "text": [
      "done with patient sub-02063986\n",
      "currently working on sub-01804484\n"
     ]
    },
    {
     "name": "stderr",
     "output_type": "stream",
     "text": [
      " 48%|████▊     | 232/484 [05:11<06:31,  1.55s/it]"
     ]
    },
    {
     "name": "stdout",
     "output_type": "stream",
     "text": [
      "done with patient sub-01804484\n",
      "currently working on sub-01830168\n"
     ]
    },
    {
     "name": "stderr",
     "output_type": "stream",
     "text": [
      " 48%|████▊     | 233/484 [05:12<05:55,  1.42s/it]"
     ]
    },
    {
     "name": "stdout",
     "output_type": "stream",
     "text": [
      "done with patient sub-01830168\n",
      "currently working on sub-02015217\n"
     ]
    },
    {
     "name": "stderr",
     "output_type": "stream",
     "text": [
      " 48%|████▊     | 234/484 [05:13<06:09,  1.48s/it]"
     ]
    },
    {
     "name": "stdout",
     "output_type": "stream",
     "text": [
      "done with patient sub-02015217\n",
      "currently working on sub-01707275\n"
     ]
    },
    {
     "name": "stderr",
     "output_type": "stream",
     "text": [
      " 49%|████▊     | 235/484 [05:14<05:38,  1.36s/it]"
     ]
    },
    {
     "name": "stdout",
     "output_type": "stream",
     "text": [
      "done with patient sub-01707275\n",
      "currently working on sub-02070580\n"
     ]
    },
    {
     "name": "stderr",
     "output_type": "stream",
     "text": [
      " 49%|████▉     | 236/484 [05:15<05:16,  1.28s/it]"
     ]
    },
    {
     "name": "stdout",
     "output_type": "stream",
     "text": [
      "done with patient sub-02070580\n",
      "currently working on sub-02080563\n"
     ]
    },
    {
     "name": "stderr",
     "output_type": "stream",
     "text": [
      " 49%|████▉     | 237/484 [05:17<05:04,  1.23s/it]"
     ]
    },
    {
     "name": "stdout",
     "output_type": "stream",
     "text": [
      "done with patient sub-02080563\n",
      "currently working on sub-01483526\n"
     ]
    },
    {
     "name": "stderr",
     "output_type": "stream",
     "text": [
      " 49%|████▉     | 238/484 [05:18<04:52,  1.19s/it]"
     ]
    },
    {
     "name": "stdout",
     "output_type": "stream",
     "text": [
      "done with patient sub-01483526\n",
      "currently working on sub-02167890\n"
     ]
    },
    {
     "name": "stderr",
     "output_type": "stream",
     "text": [
      " 49%|████▉     | 239/484 [05:19<04:58,  1.22s/it]"
     ]
    },
    {
     "name": "stdout",
     "output_type": "stream",
     "text": [
      "done with patient sub-02167890\n",
      "currently working on sub-01269967\n"
     ]
    },
    {
     "name": "stderr",
     "output_type": "stream",
     "text": [
      " 50%|████▉     | 240/484 [05:20<04:53,  1.20s/it]"
     ]
    },
    {
     "name": "stdout",
     "output_type": "stream",
     "text": [
      "done with patient sub-01269967\n",
      "currently working on sub-01769144\n"
     ]
    },
    {
     "name": "stderr",
     "output_type": "stream",
     "text": [
      " 50%|████▉     | 241/484 [05:21<04:43,  1.17s/it]"
     ]
    },
    {
     "name": "stdout",
     "output_type": "stream",
     "text": [
      "done with patient sub-01769144\n",
      "currently working on sub-01452858\n"
     ]
    },
    {
     "name": "stderr",
     "output_type": "stream",
     "text": [
      " 50%|█████     | 242/484 [05:22<04:43,  1.17s/it]"
     ]
    },
    {
     "name": "stdout",
     "output_type": "stream",
     "text": [
      "done with patient sub-01452858\n",
      "currently working on sub-01890298\n"
     ]
    },
    {
     "name": "stderr",
     "output_type": "stream",
     "text": [
      " 50%|█████     | 243/484 [05:24<04:40,  1.16s/it]"
     ]
    },
    {
     "name": "stdout",
     "output_type": "stream",
     "text": [
      "done with patient sub-01890298\n",
      "currently working on sub-01064662\n"
     ]
    },
    {
     "name": "stderr",
     "output_type": "stream",
     "text": [
      " 50%|█████     | 244/484 [05:25<04:37,  1.16s/it]"
     ]
    },
    {
     "name": "stdout",
     "output_type": "stream",
     "text": [
      "done with patient sub-01064662\n",
      "currently working on sub-02064363\n"
     ]
    },
    {
     "name": "stderr",
     "output_type": "stream",
     "text": [
      " 51%|█████     | 245/484 [05:26<04:49,  1.21s/it]"
     ]
    },
    {
     "name": "stdout",
     "output_type": "stream",
     "text": [
      "done with patient sub-02064363\n",
      "currently working on sub-01456959\n"
     ]
    },
    {
     "name": "stderr",
     "output_type": "stream",
     "text": [
      " 51%|█████     | 246/484 [05:27<04:39,  1.17s/it]"
     ]
    },
    {
     "name": "stdout",
     "output_type": "stream",
     "text": [
      "done with patient sub-01456959\n",
      "currently working on sub-01666008\n"
     ]
    },
    {
     "name": "stderr",
     "output_type": "stream",
     "text": [
      " 51%|█████     | 247/484 [05:28<04:37,  1.17s/it]"
     ]
    },
    {
     "name": "stdout",
     "output_type": "stream",
     "text": [
      "done with patient sub-01666008\n",
      "currently working on sub-01710250\n"
     ]
    },
    {
     "name": "stderr",
     "output_type": "stream",
     "text": [
      " 51%|█████     | 248/484 [05:29<04:35,  1.17s/it]"
     ]
    },
    {
     "name": "stdout",
     "output_type": "stream",
     "text": [
      "done with patient sub-01710250\n",
      "currently working on sub-02135803\n"
     ]
    },
    {
     "name": "stderr",
     "output_type": "stream",
     "text": [
      " 51%|█████▏    | 249/484 [05:32<06:44,  1.72s/it]"
     ]
    },
    {
     "name": "stdout",
     "output_type": "stream",
     "text": [
      "done with patient sub-02135803\n",
      "currently working on sub-01492723\n"
     ]
    },
    {
     "name": "stderr",
     "output_type": "stream",
     "text": [
      " 52%|█████▏    | 250/484 [05:34<06:13,  1.60s/it]"
     ]
    },
    {
     "name": "stdout",
     "output_type": "stream",
     "text": [
      "done with patient sub-01492723\n",
      "currently working on sub-01516618\n"
     ]
    },
    {
     "name": "stderr",
     "output_type": "stream",
     "text": [
      " 52%|█████▏    | 251/484 [05:37<08:34,  2.21s/it]"
     ]
    },
    {
     "name": "stdout",
     "output_type": "stream",
     "text": [
      "done with patient sub-01516618\n",
      "currently working on sub-01521835\n"
     ]
    },
    {
     "name": "stderr",
     "output_type": "stream",
     "text": [
      " 52%|█████▏    | 252/484 [05:38<07:12,  1.86s/it]"
     ]
    },
    {
     "name": "stdout",
     "output_type": "stream",
     "text": [
      "done with patient sub-01521835\n",
      "currently working on sub-01641960\n"
     ]
    },
    {
     "name": "stderr",
     "output_type": "stream",
     "text": [
      " 52%|█████▏    | 253/484 [05:40<06:43,  1.75s/it]"
     ]
    },
    {
     "name": "stdout",
     "output_type": "stream",
     "text": [
      "done with patient sub-01641960\n",
      "currently working on sub-01773716\n"
     ]
    },
    {
     "name": "stderr",
     "output_type": "stream",
     "text": [
      " 52%|█████▏    | 254/484 [05:41<05:53,  1.54s/it]"
     ]
    },
    {
     "name": "stdout",
     "output_type": "stream",
     "text": [
      "done with patient sub-01773716\n",
      "currently working on sub-01584596\n"
     ]
    },
    {
     "name": "stderr",
     "output_type": "stream",
     "text": [
      " 53%|█████▎    | 255/484 [05:42<05:22,  1.41s/it]"
     ]
    },
    {
     "name": "stdout",
     "output_type": "stream",
     "text": [
      "done with patient sub-01584596\n",
      "currently working on sub-01699419\n"
     ]
    },
    {
     "name": "stderr",
     "output_type": "stream",
     "text": [
      " 53%|█████▎    | 256/484 [05:43<05:11,  1.36s/it]"
     ]
    },
    {
     "name": "stdout",
     "output_type": "stream",
     "text": [
      "done with patient sub-01699419\n",
      "currently working on sub-02090905\n"
     ]
    },
    {
     "name": "stderr",
     "output_type": "stream",
     "text": [
      " 53%|█████▎    | 257/484 [05:44<04:48,  1.27s/it]"
     ]
    },
    {
     "name": "stdout",
     "output_type": "stream",
     "text": [
      "done with patient sub-02090905\n",
      "currently working on sub-01025630\n"
     ]
    },
    {
     "name": "stderr",
     "output_type": "stream",
     "text": [
      " 53%|█████▎    | 258/484 [05:45<04:36,  1.22s/it]"
     ]
    },
    {
     "name": "stdout",
     "output_type": "stream",
     "text": [
      "done with patient sub-01025630\n",
      "currently working on sub-02127770\n"
     ]
    },
    {
     "name": "stderr",
     "output_type": "stream",
     "text": [
      " 54%|█████▎    | 259/484 [05:49<07:02,  1.88s/it]"
     ]
    },
    {
     "name": "stdout",
     "output_type": "stream",
     "text": [
      "done with patient sub-02127770\n",
      "currently working on sub-01670714\n"
     ]
    },
    {
     "name": "stderr",
     "output_type": "stream",
     "text": [
      " 54%|█████▎    | 260/484 [05:50<06:06,  1.63s/it]"
     ]
    },
    {
     "name": "stdout",
     "output_type": "stream",
     "text": [
      "done with patient sub-01670714\n",
      "currently working on sub-01393875\n"
     ]
    },
    {
     "name": "stderr",
     "output_type": "stream",
     "text": [
      " 54%|█████▍    | 261/484 [05:51<05:25,  1.46s/it]"
     ]
    },
    {
     "name": "stdout",
     "output_type": "stream",
     "text": [
      "done with patient sub-01393875\n",
      "currently working on sub-01982853\n"
     ]
    },
    {
     "name": "stderr",
     "output_type": "stream",
     "text": [
      " 54%|█████▍    | 262/484 [05:52<04:56,  1.34s/it]"
     ]
    },
    {
     "name": "stdout",
     "output_type": "stream",
     "text": [
      "done with patient sub-01982853\n",
      "currently working on sub-01673701\n"
     ]
    },
    {
     "name": "stderr",
     "output_type": "stream",
     "text": [
      " 54%|█████▍    | 263/484 [05:53<04:41,  1.27s/it]"
     ]
    },
    {
     "name": "stdout",
     "output_type": "stream",
     "text": [
      "done with patient sub-01673701\n",
      "currently working on sub-02073198\n"
     ]
    },
    {
     "name": "stderr",
     "output_type": "stream",
     "text": [
      " 55%|█████▍    | 264/484 [05:54<04:21,  1.19s/it]"
     ]
    },
    {
     "name": "stdout",
     "output_type": "stream",
     "text": [
      "done with patient sub-02073198\n",
      "currently working on sub-01673666\n"
     ]
    },
    {
     "name": "stderr",
     "output_type": "stream",
     "text": [
      " 55%|█████▍    | 265/484 [05:55<04:16,  1.17s/it]"
     ]
    },
    {
     "name": "stdout",
     "output_type": "stream",
     "text": [
      "done with patient sub-01673666\n",
      "currently working on sub-02051037\n"
     ]
    },
    {
     "name": "stderr",
     "output_type": "stream",
     "text": [
      " 55%|█████▍    | 266/484 [05:57<04:16,  1.18s/it]"
     ]
    },
    {
     "name": "stdout",
     "output_type": "stream",
     "text": [
      "done with patient sub-02051037\n",
      "currently working on sub-01005630\n"
     ]
    },
    {
     "name": "stderr",
     "output_type": "stream",
     "text": [
      " 55%|█████▌    | 267/484 [05:58<04:15,  1.18s/it]"
     ]
    },
    {
     "name": "stdout",
     "output_type": "stream",
     "text": [
      "done with patient sub-01005630\n",
      "currently working on sub-02185066\n"
     ]
    },
    {
     "name": "stderr",
     "output_type": "stream",
     "text": [
      " 55%|█████▌    | 268/484 [05:59<04:05,  1.14s/it]"
     ]
    },
    {
     "name": "stdout",
     "output_type": "stream",
     "text": [
      "done with patient sub-02185066\n",
      "currently working on sub-01021714\n"
     ]
    },
    {
     "name": "stderr",
     "output_type": "stream",
     "text": [
      " 56%|█████▌    | 269/484 [06:00<04:17,  1.20s/it]"
     ]
    },
    {
     "name": "stdout",
     "output_type": "stream",
     "text": [
      "done with patient sub-01021714\n",
      "currently working on sub-02071087\n"
     ]
    },
    {
     "name": "stderr",
     "output_type": "stream",
     "text": [
      " 56%|█████▌    | 270/484 [06:01<04:12,  1.18s/it]"
     ]
    },
    {
     "name": "stdout",
     "output_type": "stream",
     "text": [
      "done with patient sub-02071087\n",
      "currently working on sub-01188297\n"
     ]
    },
    {
     "name": "stderr",
     "output_type": "stream",
     "text": [
      " 56%|█████▌    | 271/484 [06:02<04:02,  1.14s/it]"
     ]
    },
    {
     "name": "stdout",
     "output_type": "stream",
     "text": [
      "done with patient sub-01188297\n",
      "currently working on sub-01924748\n"
     ]
    },
    {
     "name": "stderr",
     "output_type": "stream",
     "text": [
      " 56%|█████▌    | 272/484 [06:03<04:00,  1.13s/it]"
     ]
    },
    {
     "name": "stdout",
     "output_type": "stream",
     "text": [
      "done with patient sub-01924748\n",
      "currently working on sub-01476909\n"
     ]
    },
    {
     "name": "stderr",
     "output_type": "stream",
     "text": [
      " 56%|█████▋    | 273/484 [06:05<04:01,  1.15s/it]"
     ]
    },
    {
     "name": "stdout",
     "output_type": "stream",
     "text": [
      "done with patient sub-01476909\n",
      "currently working on sub-01819252\n"
     ]
    },
    {
     "name": "stderr",
     "output_type": "stream",
     "text": [
      " 57%|█████▋    | 274/484 [06:06<03:55,  1.12s/it]"
     ]
    },
    {
     "name": "stdout",
     "output_type": "stream",
     "text": [
      "done with patient sub-01819252\n",
      "currently working on sub-80011453\n"
     ]
    },
    {
     "name": "stderr",
     "output_type": "stream",
     "text": [
      " 57%|█████▋    | 275/484 [06:07<03:52,  1.11s/it]"
     ]
    },
    {
     "name": "stdout",
     "output_type": "stream",
     "text": [
      "done with patient sub-80011453\n",
      "currently working on sub-01261127\n"
     ]
    },
    {
     "name": "stderr",
     "output_type": "stream",
     "text": [
      " 57%|█████▋    | 276/484 [06:08<03:55,  1.13s/it]"
     ]
    },
    {
     "name": "stdout",
     "output_type": "stream",
     "text": [
      "done with patient sub-01261127\n",
      "currently working on sub-01696845\n"
     ]
    },
    {
     "name": "stderr",
     "output_type": "stream",
     "text": [
      " 57%|█████▋    | 277/484 [06:09<04:06,  1.19s/it]"
     ]
    },
    {
     "name": "stdout",
     "output_type": "stream",
     "text": [
      "done with patient sub-01696845\n",
      "currently working on sub-01659187\n"
     ]
    },
    {
     "name": "stderr",
     "output_type": "stream",
     "text": [
      " 57%|█████▋    | 278/484 [06:10<04:01,  1.17s/it]"
     ]
    },
    {
     "name": "stdout",
     "output_type": "stream",
     "text": [
      "done with patient sub-01659187\n",
      "currently working on sub-01650072\n"
     ]
    },
    {
     "name": "stderr",
     "output_type": "stream",
     "text": [
      " 58%|█████▊    | 279/484 [06:11<03:53,  1.14s/it]"
     ]
    },
    {
     "name": "stdout",
     "output_type": "stream",
     "text": [
      "done with patient sub-01650072\n",
      "currently working on sub-01106844\n"
     ]
    },
    {
     "name": "stderr",
     "output_type": "stream",
     "text": [
      " 58%|█████▊    | 280/484 [07:15<1:07:14, 19.78s/it]"
     ]
    },
    {
     "name": "stdout",
     "output_type": "stream",
     "text": [
      "done with patient sub-01106844\n",
      "currently working on sub-01377175\n"
     ]
    },
    {
     "name": "stderr",
     "output_type": "stream",
     "text": [
      " 58%|█████▊    | 281/484 [07:16<47:56, 14.17s/it]  "
     ]
    },
    {
     "name": "stdout",
     "output_type": "stream",
     "text": [
      "done with patient sub-01377175\n",
      "currently working on sub-02019520\n"
     ]
    },
    {
     "name": "stderr",
     "output_type": "stream",
     "text": [
      " 58%|█████▊    | 283/484 [07:17<26:23,  7.88s/it]"
     ]
    },
    {
     "name": "stdout",
     "output_type": "stream",
     "text": [
      "done with patient sub-02019520\n",
      "currently working on sub-01038520\n"
     ]
    },
    {
     "name": "stderr",
     "output_type": "stream",
     "text": [
      " 59%|█████▊    | 284/484 [07:18<20:40,  6.20s/it]"
     ]
    },
    {
     "name": "stdout",
     "output_type": "stream",
     "text": [
      "done with patient sub-01038520\n",
      "currently working on sub-93002557\n"
     ]
    },
    {
     "name": "stderr",
     "output_type": "stream",
     "text": [
      " 59%|█████▉    | 285/484 [07:19<16:07,  4.86s/it]"
     ]
    },
    {
     "name": "stdout",
     "output_type": "stream",
     "text": [
      "done with patient sub-93002557\n",
      "currently working on sub-02181503\n"
     ]
    },
    {
     "name": "stderr",
     "output_type": "stream",
     "text": [
      " 59%|█████▉    | 286/484 [07:20<12:41,  3.85s/it]"
     ]
    },
    {
     "name": "stdout",
     "output_type": "stream",
     "text": [
      "done with patient sub-02181503\n",
      "currently working on sub-02095961\n"
     ]
    },
    {
     "name": "stderr",
     "output_type": "stream",
     "text": [
      " 59%|█████▉    | 287/484 [07:23<11:46,  3.59s/it]"
     ]
    },
    {
     "name": "stdout",
     "output_type": "stream",
     "text": [
      "done with patient sub-02095961\n",
      "currently working on sub-01805334\n"
     ]
    },
    {
     "name": "stderr",
     "output_type": "stream",
     "text": [
      " 60%|█████▉    | 288/484 [07:24<09:31,  2.92s/it]"
     ]
    },
    {
     "name": "stdout",
     "output_type": "stream",
     "text": [
      "done with patient sub-01805334\n",
      "currently working on sub-01281168\n"
     ]
    },
    {
     "name": "stderr",
     "output_type": "stream",
     "text": [
      " 60%|█████▉    | 289/484 [07:25<07:49,  2.41s/it]"
     ]
    },
    {
     "name": "stdout",
     "output_type": "stream",
     "text": [
      "done with patient sub-01281168\n",
      "currently working on sub-01957841\n"
     ]
    },
    {
     "name": "stderr",
     "output_type": "stream",
     "text": [
      " 60%|█████▉    | 290/484 [07:26<06:28,  2.00s/it]"
     ]
    },
    {
     "name": "stdout",
     "output_type": "stream",
     "text": [
      "done with patient sub-01957841\n",
      "currently working on sub-02105939\n"
     ]
    },
    {
     "name": "stderr",
     "output_type": "stream",
     "text": [
      " 60%|██████    | 291/484 [07:32<09:22,  2.92s/it]"
     ]
    },
    {
     "name": "stdout",
     "output_type": "stream",
     "text": [
      "done with patient sub-02105939\n",
      "currently working on sub-01373703\n"
     ]
    },
    {
     "name": "stderr",
     "output_type": "stream",
     "text": [
      " 60%|██████    | 292/484 [07:33<07:40,  2.40s/it]"
     ]
    },
    {
     "name": "stdout",
     "output_type": "stream",
     "text": [
      "done with patient sub-01373703\n",
      "currently working on sub-01435731\n"
     ]
    },
    {
     "name": "stderr",
     "output_type": "stream",
     "text": [
      " 61%|██████    | 293/484 [07:34<06:27,  2.03s/it]"
     ]
    },
    {
     "name": "stdout",
     "output_type": "stream",
     "text": [
      "done with patient sub-01435731\n",
      "currently working on sub-01288245\n"
     ]
    },
    {
     "name": "stderr",
     "output_type": "stream",
     "text": [
      " 61%|██████    | 294/484 [07:35<05:30,  1.74s/it]"
     ]
    },
    {
     "name": "stdout",
     "output_type": "stream",
     "text": [
      "done with patient sub-01288245\n",
      "currently working on sub-02031868\n"
     ]
    },
    {
     "name": "stderr",
     "output_type": "stream",
     "text": [
      " 61%|██████    | 295/484 [07:36<04:59,  1.58s/it]"
     ]
    },
    {
     "name": "stdout",
     "output_type": "stream",
     "text": [
      "done with patient sub-02031868\n",
      "currently working on sub-01130173\n"
     ]
    },
    {
     "name": "stderr",
     "output_type": "stream",
     "text": [
      " 61%|██████    | 296/484 [07:37<04:35,  1.46s/it]"
     ]
    },
    {
     "name": "stdout",
     "output_type": "stream",
     "text": [
      "done with patient sub-01130173\n",
      "currently working on sub-01798755\n"
     ]
    },
    {
     "name": "stderr",
     "output_type": "stream",
     "text": [
      " 61%|██████▏   | 297/484 [07:39<04:24,  1.41s/it]"
     ]
    },
    {
     "name": "stdout",
     "output_type": "stream",
     "text": [
      "done with patient sub-01798755\n",
      "currently working on sub-01502083\n"
     ]
    },
    {
     "name": "stderr",
     "output_type": "stream",
     "text": [
      " 62%|██████▏   | 298/484 [07:40<04:29,  1.45s/it]"
     ]
    },
    {
     "name": "stdout",
     "output_type": "stream",
     "text": [
      "done with patient sub-01502083\n",
      "currently working on sub-01562247\n"
     ]
    },
    {
     "name": "stderr",
     "output_type": "stream",
     "text": [
      " 62%|██████▏   | 299/484 [07:41<04:16,  1.38s/it]"
     ]
    },
    {
     "name": "stdout",
     "output_type": "stream",
     "text": [
      "done with patient sub-01562247\n",
      "currently working on sub-01686968\n"
     ]
    },
    {
     "name": "stderr",
     "output_type": "stream",
     "text": [
      " 62%|██████▏   | 300/484 [07:43<04:01,  1.31s/it]"
     ]
    },
    {
     "name": "stdout",
     "output_type": "stream",
     "text": [
      "done with patient sub-01686968\n",
      "currently working on sub-01314225\n"
     ]
    },
    {
     "name": "stderr",
     "output_type": "stream",
     "text": [
      " 62%|██████▏   | 301/484 [07:44<03:45,  1.23s/it]"
     ]
    },
    {
     "name": "stdout",
     "output_type": "stream",
     "text": [
      "done with patient sub-01314225\n",
      "currently working on sub-01455312\n"
     ]
    },
    {
     "name": "stderr",
     "output_type": "stream",
     "text": [
      " 62%|██████▏   | 302/484 [07:45<04:04,  1.34s/it]"
     ]
    },
    {
     "name": "stdout",
     "output_type": "stream",
     "text": [
      "done with patient sub-01455312\n",
      "currently working on sub-02146286\n"
     ]
    },
    {
     "name": "stderr",
     "output_type": "stream",
     "text": [
      " 63%|██████▎   | 303/484 [07:46<03:48,  1.26s/it]"
     ]
    },
    {
     "name": "stdout",
     "output_type": "stream",
     "text": [
      "done with patient sub-02146286\n",
      "currently working on sub-01496804\n"
     ]
    },
    {
     "name": "stderr",
     "output_type": "stream",
     "text": [
      " 63%|██████▎   | 304/484 [07:47<03:43,  1.24s/it]"
     ]
    },
    {
     "name": "stdout",
     "output_type": "stream",
     "text": [
      "done with patient sub-01496804\n",
      "currently working on sub-90003334\n"
     ]
    },
    {
     "name": "stderr",
     "output_type": "stream",
     "text": [
      " 63%|██████▎   | 305/484 [07:49<03:32,  1.18s/it]"
     ]
    },
    {
     "name": "stdout",
     "output_type": "stream",
     "text": [
      "done with patient sub-90003334\n",
      "currently working on sub-01031243\n"
     ]
    },
    {
     "name": "stderr",
     "output_type": "stream",
     "text": [
      " 63%|██████▎   | 306/484 [07:50<03:28,  1.17s/it]"
     ]
    },
    {
     "name": "stdout",
     "output_type": "stream",
     "text": [
      "done with patient sub-01031243\n",
      "currently working on sub-02036130\n"
     ]
    },
    {
     "name": "stderr",
     "output_type": "stream",
     "text": [
      " 63%|██████▎   | 307/484 [07:51<03:27,  1.17s/it]"
     ]
    },
    {
     "name": "stdout",
     "output_type": "stream",
     "text": [
      "done with patient sub-02036130\n",
      "currently working on sub-02174928\n"
     ]
    },
    {
     "name": "stderr",
     "output_type": "stream",
     "text": [
      " 64%|██████▎   | 308/484 [08:21<28:49,  9.83s/it]"
     ]
    },
    {
     "name": "stdout",
     "output_type": "stream",
     "text": [
      "done with patient sub-02174928\n",
      "currently working on sub-01358619\n"
     ]
    },
    {
     "name": "stderr",
     "output_type": "stream",
     "text": [
      " 64%|██████▍   | 309/484 [08:22<21:24,  7.34s/it]"
     ]
    },
    {
     "name": "stdout",
     "output_type": "stream",
     "text": [
      "done with patient sub-01358619\n",
      "currently working on sub-01164986\n"
     ]
    },
    {
     "name": "stderr",
     "output_type": "stream",
     "text": [
      " 64%|██████▍   | 310/484 [08:24<15:56,  5.50s/it]"
     ]
    },
    {
     "name": "stdout",
     "output_type": "stream",
     "text": [
      "done with patient sub-01164986\n",
      "currently working on sub-02020169\n"
     ]
    },
    {
     "name": "stderr",
     "output_type": "stream",
     "text": [
      " 64%|██████▍   | 311/484 [08:25<12:00,  4.16s/it]"
     ]
    },
    {
     "name": "stdout",
     "output_type": "stream",
     "text": [
      "done with patient sub-02020169\n",
      "currently working on sub-01933711\n"
     ]
    },
    {
     "name": "stderr",
     "output_type": "stream",
     "text": [
      " 64%|██████▍   | 312/484 [08:26<09:15,  3.23s/it]"
     ]
    },
    {
     "name": "stdout",
     "output_type": "stream",
     "text": [
      "done with patient sub-01933711\n",
      "currently working on sub-01164049\n"
     ]
    },
    {
     "name": "stderr",
     "output_type": "stream",
     "text": [
      " 65%|██████▍   | 313/484 [08:27<07:21,  2.58s/it]"
     ]
    },
    {
     "name": "stdout",
     "output_type": "stream",
     "text": [
      "done with patient sub-01164049\n",
      "currently working on sub-01691369\n"
     ]
    },
    {
     "name": "stderr",
     "output_type": "stream",
     "text": [
      " 65%|██████▍   | 314/484 [08:28<06:00,  2.12s/it]"
     ]
    },
    {
     "name": "stdout",
     "output_type": "stream",
     "text": [
      "done with patient sub-01691369\n",
      "currently working on sub-02128777\n"
     ]
    },
    {
     "name": "stderr",
     "output_type": "stream",
     "text": [
      " 65%|██████▌   | 315/484 [08:29<05:08,  1.82s/it]"
     ]
    },
    {
     "name": "stdout",
     "output_type": "stream",
     "text": [
      "done with patient sub-02128777\n",
      "currently working on sub-02197114\n"
     ]
    },
    {
     "name": "stderr",
     "output_type": "stream",
     "text": [
      " 65%|██████▌   | 316/484 [08:31<04:53,  1.74s/it]"
     ]
    },
    {
     "name": "stdout",
     "output_type": "stream",
     "text": [
      "done with patient sub-02197114\n",
      "currently working on sub-01056598\n"
     ]
    },
    {
     "name": "stderr",
     "output_type": "stream",
     "text": [
      " 65%|██████▌   | 317/484 [08:34<06:40,  2.40s/it]"
     ]
    },
    {
     "name": "stdout",
     "output_type": "stream",
     "text": [
      "done with patient sub-01056598\n",
      "currently working on sub-02021781\n"
     ]
    },
    {
     "name": "stderr",
     "output_type": "stream",
     "text": [
      " 66%|██████▌   | 318/484 [08:36<05:31,  2.00s/it]"
     ]
    },
    {
     "name": "stdout",
     "output_type": "stream",
     "text": [
      "done with patient sub-02021781\n",
      "currently working on sub-01763867\n"
     ]
    },
    {
     "name": "stderr",
     "output_type": "stream",
     "text": [
      " 66%|██████▌   | 320/484 [08:37<03:39,  1.34s/it]"
     ]
    },
    {
     "name": "stdout",
     "output_type": "stream",
     "text": [
      "done with patient sub-01763867\n",
      "currently working on sub-01792771\n"
     ]
    },
    {
     "name": "stderr",
     "output_type": "stream",
     "text": [
      " 66%|██████▋   | 321/484 [08:38<03:26,  1.27s/it]"
     ]
    },
    {
     "name": "stdout",
     "output_type": "stream",
     "text": [
      "done with patient sub-01792771\n",
      "currently working on sub-01960441\n"
     ]
    },
    {
     "name": "stderr",
     "output_type": "stream",
     "text": [
      " 67%|██████▋   | 322/484 [08:39<03:18,  1.22s/it]"
     ]
    },
    {
     "name": "stdout",
     "output_type": "stream",
     "text": [
      "done with patient sub-01960441\n",
      "currently working on sub-01936903\n"
     ]
    },
    {
     "name": "stderr",
     "output_type": "stream",
     "text": [
      " 67%|██████▋   | 323/484 [08:40<03:09,  1.18s/it]"
     ]
    },
    {
     "name": "stdout",
     "output_type": "stream",
     "text": [
      "done with patient sub-01936903\n",
      "currently working on sub-02104370\n"
     ]
    },
    {
     "name": "stderr",
     "output_type": "stream",
     "text": [
      " 67%|██████▋   | 324/484 [08:41<03:15,  1.22s/it]"
     ]
    },
    {
     "name": "stdout",
     "output_type": "stream",
     "text": [
      "done with patient sub-02104370\n",
      "currently working on sub-01288896\n"
     ]
    },
    {
     "name": "stderr",
     "output_type": "stream",
     "text": [
      " 67%|██████▋   | 325/484 [08:42<03:14,  1.22s/it]"
     ]
    },
    {
     "name": "stdout",
     "output_type": "stream",
     "text": [
      "done with patient sub-01288896\n",
      "currently working on sub-01514331\n"
     ]
    },
    {
     "name": "stderr",
     "output_type": "stream",
     "text": [
      " 67%|██████▋   | 326/484 [08:43<03:06,  1.18s/it]"
     ]
    },
    {
     "name": "stdout",
     "output_type": "stream",
     "text": [
      "done with patient sub-01514331\n",
      "currently working on sub-01542729\n"
     ]
    },
    {
     "name": "stderr",
     "output_type": "stream",
     "text": [
      " 68%|██████▊   | 327/484 [08:45<03:06,  1.19s/it]"
     ]
    },
    {
     "name": "stdout",
     "output_type": "stream",
     "text": [
      "done with patient sub-01542729\n",
      "currently working on sub-01572564\n"
     ]
    },
    {
     "name": "stderr",
     "output_type": "stream",
     "text": [
      " 68%|██████▊   | 328/484 [08:46<02:59,  1.15s/it]"
     ]
    },
    {
     "name": "stdout",
     "output_type": "stream",
     "text": [
      "done with patient sub-01572564\n",
      "currently working on sub-01169240\n"
     ]
    },
    {
     "name": "stderr",
     "output_type": "stream",
     "text": [
      " 68%|██████▊   | 329/484 [08:47<02:55,  1.13s/it]"
     ]
    },
    {
     "name": "stdout",
     "output_type": "stream",
     "text": [
      "done with patient sub-01169240\n",
      "currently working on sub-95001254\n"
     ]
    },
    {
     "name": "stderr",
     "output_type": "stream",
     "text": [
      " 68%|██████▊   | 331/484 [08:48<02:11,  1.16it/s]"
     ]
    },
    {
     "name": "stdout",
     "output_type": "stream",
     "text": [
      "done with patient sub-95001254\n",
      "currently working on sub-01384142\n"
     ]
    },
    {
     "name": "stderr",
     "output_type": "stream",
     "text": [
      " 69%|██████▊   | 332/484 [08:49<02:29,  1.02it/s]"
     ]
    },
    {
     "name": "stdout",
     "output_type": "stream",
     "text": [
      "done with patient sub-01384142\n",
      "currently working on sub-02014068\n"
     ]
    },
    {
     "name": "stderr",
     "output_type": "stream",
     "text": [
      " 69%|██████▉   | 333/484 [08:50<02:33,  1.02s/it]"
     ]
    },
    {
     "name": "stdout",
     "output_type": "stream",
     "text": [
      "done with patient sub-02014068\n",
      "currently working on sub-02196769\n"
     ]
    },
    {
     "name": "stderr",
     "output_type": "stream",
     "text": [
      " 69%|██████▉   | 334/484 [08:53<03:39,  1.46s/it]"
     ]
    },
    {
     "name": "stdout",
     "output_type": "stream",
     "text": [
      "done with patient sub-02196769\n",
      "currently working on sub-02011152\n"
     ]
    },
    {
     "name": "stderr",
     "output_type": "stream",
     "text": [
      " 69%|██████▉   | 335/484 [08:54<03:20,  1.35s/it]"
     ]
    },
    {
     "name": "stdout",
     "output_type": "stream",
     "text": [
      "done with patient sub-02011152\n",
      "currently working on sub-01071055\n"
     ]
    },
    {
     "name": "stderr",
     "output_type": "stream",
     "text": [
      " 69%|██████▉   | 336/484 [08:55<03:07,  1.27s/it]"
     ]
    },
    {
     "name": "stdout",
     "output_type": "stream",
     "text": [
      "done with patient sub-01071055\n",
      "currently working on sub-01677324\n"
     ]
    },
    {
     "name": "stderr",
     "output_type": "stream",
     "text": [
      " 70%|██████▉   | 337/484 [08:57<03:31,  1.44s/it]"
     ]
    },
    {
     "name": "stdout",
     "output_type": "stream",
     "text": [
      "done with patient sub-01677324\n",
      "currently working on sub-01781732\n"
     ]
    },
    {
     "name": "stderr",
     "output_type": "stream",
     "text": [
      " 70%|██████▉   | 338/484 [08:58<03:13,  1.33s/it]"
     ]
    },
    {
     "name": "stdout",
     "output_type": "stream",
     "text": [
      "done with patient sub-01781732\n",
      "currently working on sub-02188930\n"
     ]
    },
    {
     "name": "stderr",
     "output_type": "stream",
     "text": [
      " 70%|███████   | 339/484 [08:59<03:10,  1.32s/it]"
     ]
    },
    {
     "name": "stdout",
     "output_type": "stream",
     "text": [
      "done with patient sub-02188930\n",
      "currently working on sub-02087023\n"
     ]
    },
    {
     "name": "stderr",
     "output_type": "stream",
     "text": [
      " 70%|███████   | 340/484 [09:00<02:58,  1.24s/it]"
     ]
    },
    {
     "name": "stdout",
     "output_type": "stream",
     "text": [
      "done with patient sub-02087023\n",
      "currently working on sub-01409764\n"
     ]
    },
    {
     "name": "stderr",
     "output_type": "stream",
     "text": [
      " 70%|███████   | 341/484 [09:02<02:53,  1.21s/it]"
     ]
    },
    {
     "name": "stdout",
     "output_type": "stream",
     "text": [
      "done with patient sub-01409764\n",
      "currently working on sub-01150136\n"
     ]
    },
    {
     "name": "stderr",
     "output_type": "stream",
     "text": [
      " 71%|███████   | 342/484 [09:03<03:06,  1.31s/it]"
     ]
    },
    {
     "name": "stdout",
     "output_type": "stream",
     "text": [
      "done with patient sub-01150136\n",
      "currently working on sub-01543367\n"
     ]
    },
    {
     "name": "stderr",
     "output_type": "stream",
     "text": [
      " 71%|███████   | 343/484 [09:04<02:53,  1.23s/it]"
     ]
    },
    {
     "name": "stdout",
     "output_type": "stream",
     "text": [
      "done with patient sub-01543367\n",
      "currently working on sub-01616767\n"
     ]
    },
    {
     "name": "stderr",
     "output_type": "stream",
     "text": [
      " 71%|███████   | 344/484 [09:05<02:45,  1.18s/it]"
     ]
    },
    {
     "name": "stdout",
     "output_type": "stream",
     "text": [
      "done with patient sub-01616767\n",
      "currently working on sub-01905848\n"
     ]
    },
    {
     "name": "stderr",
     "output_type": "stream",
     "text": [
      " 71%|███████▏  | 345/484 [09:06<02:38,  1.14s/it]"
     ]
    },
    {
     "name": "stdout",
     "output_type": "stream",
     "text": [
      "done with patient sub-01905848\n",
      "currently working on sub-01969755\n"
     ]
    },
    {
     "name": "stderr",
     "output_type": "stream",
     "text": [
      " 71%|███████▏  | 346/484 [09:07<02:39,  1.16s/it]"
     ]
    },
    {
     "name": "stdout",
     "output_type": "stream",
     "text": [
      "done with patient sub-01969755\n",
      "currently working on sub-01009590\n"
     ]
    },
    {
     "name": "stderr",
     "output_type": "stream",
     "text": [
      " 72%|███████▏  | 347/484 [09:09<02:34,  1.13s/it]"
     ]
    },
    {
     "name": "stdout",
     "output_type": "stream",
     "text": [
      "done with patient sub-01009590\n",
      "currently working on sub-01905692\n"
     ]
    },
    {
     "name": "stderr",
     "output_type": "stream",
     "text": [
      " 72%|███████▏  | 348/484 [09:10<02:31,  1.12s/it]"
     ]
    },
    {
     "name": "stdout",
     "output_type": "stream",
     "text": [
      "done with patient sub-01905692\n",
      "currently working on sub-90001992\n"
     ]
    },
    {
     "name": "stderr",
     "output_type": "stream",
     "text": [
      " 72%|███████▏  | 349/484 [09:11<02:32,  1.13s/it]"
     ]
    },
    {
     "name": "stdout",
     "output_type": "stream",
     "text": [
      "done with patient sub-90001992\n",
      "currently working on sub-01796937\n"
     ]
    },
    {
     "name": "stderr",
     "output_type": "stream",
     "text": [
      " 72%|███████▏  | 350/484 [09:12<02:27,  1.10s/it]"
     ]
    },
    {
     "name": "stdout",
     "output_type": "stream",
     "text": [
      "done with patient sub-01796937\n",
      "currently working on sub-01835095\n"
     ]
    },
    {
     "name": "stderr",
     "output_type": "stream",
     "text": [
      " 73%|███████▎  | 351/484 [09:13<02:25,  1.09s/it]"
     ]
    },
    {
     "name": "stdout",
     "output_type": "stream",
     "text": [
      "done with patient sub-01835095\n",
      "currently working on sub-01357275\n"
     ]
    },
    {
     "name": "stderr",
     "output_type": "stream",
     "text": [
      " 73%|███████▎  | 352/484 [09:14<02:23,  1.08s/it]"
     ]
    },
    {
     "name": "stdout",
     "output_type": "stream",
     "text": [
      "done with patient sub-01357275\n",
      "currently working on sub-02172003\n"
     ]
    },
    {
     "name": "stderr",
     "output_type": "stream",
     "text": [
      " 73%|███████▎  | 354/484 [09:15<01:49,  1.19it/s]"
     ]
    },
    {
     "name": "stdout",
     "output_type": "stream",
     "text": [
      "done with patient sub-02172003\n",
      "currently working on sub-02095181\n"
     ]
    },
    {
     "name": "stderr",
     "output_type": "stream",
     "text": [
      " 73%|███████▎  | 355/484 [09:16<02:02,  1.06it/s]"
     ]
    },
    {
     "name": "stdout",
     "output_type": "stream",
     "text": [
      "done with patient sub-02095181\n",
      "currently working on sub-02084961\n"
     ]
    },
    {
     "name": "stderr",
     "output_type": "stream",
     "text": [
      " 74%|███████▎  | 356/484 [09:17<02:05,  1.02it/s]"
     ]
    },
    {
     "name": "stdout",
     "output_type": "stream",
     "text": [
      "done with patient sub-02084961\n",
      "currently working on sub-02126982\n"
     ]
    },
    {
     "name": "stderr",
     "output_type": "stream",
     "text": [
      " 74%|███████▍  | 357/484 [09:18<02:06,  1.00it/s]"
     ]
    },
    {
     "name": "stdout",
     "output_type": "stream",
     "text": [
      "done with patient sub-02126982\n",
      "currently working on sub-01762556\n"
     ]
    },
    {
     "name": "stderr",
     "output_type": "stream",
     "text": [
      " 74%|███████▍  | 358/484 [09:19<02:07,  1.01s/it]"
     ]
    },
    {
     "name": "stdout",
     "output_type": "stream",
     "text": [
      "done with patient sub-01762556\n",
      "currently working on sub-96003928\n"
     ]
    },
    {
     "name": "stderr",
     "output_type": "stream",
     "text": [
      " 74%|███████▍  | 359/484 [09:21<02:10,  1.04s/it]"
     ]
    },
    {
     "name": "stdout",
     "output_type": "stream",
     "text": [
      "done with patient sub-96003928\n",
      "currently working on sub-01022787\n"
     ]
    },
    {
     "name": "stderr",
     "output_type": "stream",
     "text": [
      " 74%|███████▍  | 360/484 [09:22<02:11,  1.06s/it]"
     ]
    },
    {
     "name": "stdout",
     "output_type": "stream",
     "text": [
      "done with patient sub-01022787\n",
      "currently working on sub-01703264\n"
     ]
    },
    {
     "name": "stderr",
     "output_type": "stream",
     "text": [
      " 75%|███████▍  | 361/484 [09:23<02:10,  1.06s/it]"
     ]
    },
    {
     "name": "stdout",
     "output_type": "stream",
     "text": [
      "done with patient sub-01703264\n",
      "currently working on sub-01882333\n"
     ]
    },
    {
     "name": "stderr",
     "output_type": "stream",
     "text": [
      " 75%|███████▍  | 362/484 [09:24<02:24,  1.19s/it]"
     ]
    },
    {
     "name": "stdout",
     "output_type": "stream",
     "text": [
      "done with patient sub-01882333\n",
      "currently working on sub-01876862\n"
     ]
    },
    {
     "name": "stderr",
     "output_type": "stream",
     "text": [
      " 75%|███████▌  | 363/484 [09:25<02:18,  1.15s/it]"
     ]
    },
    {
     "name": "stdout",
     "output_type": "stream",
     "text": [
      "done with patient sub-01876862\n",
      "currently working on sub-01755816\n"
     ]
    },
    {
     "name": "stderr",
     "output_type": "stream",
     "text": [
      " 75%|███████▌  | 364/484 [09:27<02:28,  1.23s/it]"
     ]
    },
    {
     "name": "stdout",
     "output_type": "stream",
     "text": [
      "done with patient sub-01755816\n",
      "currently working on sub-01190670\n"
     ]
    },
    {
     "name": "stderr",
     "output_type": "stream",
     "text": [
      " 75%|███████▌  | 365/484 [09:28<02:22,  1.20s/it]"
     ]
    },
    {
     "name": "stdout",
     "output_type": "stream",
     "text": [
      "done with patient sub-01190670\n",
      "currently working on sub-02019676\n"
     ]
    },
    {
     "name": "stderr",
     "output_type": "stream",
     "text": [
      " 76%|███████▌  | 366/484 [09:29<02:18,  1.17s/it]"
     ]
    },
    {
     "name": "stdout",
     "output_type": "stream",
     "text": [
      "done with patient sub-02019676\n",
      "currently working on sub-01709242\n"
     ]
    },
    {
     "name": "stderr",
     "output_type": "stream",
     "text": [
      " 76%|███████▌  | 367/484 [09:30<02:13,  1.14s/it]"
     ]
    },
    {
     "name": "stdout",
     "output_type": "stream",
     "text": [
      "done with patient sub-01709242\n",
      "currently working on sub-01981993\n"
     ]
    },
    {
     "name": "stderr",
     "output_type": "stream",
     "text": [
      " 76%|███████▌  | 368/484 [09:31<02:11,  1.13s/it]"
     ]
    },
    {
     "name": "stdout",
     "output_type": "stream",
     "text": [
      "done with patient sub-01981993\n",
      "currently working on sub-01381621\n"
     ]
    },
    {
     "name": "stderr",
     "output_type": "stream",
     "text": [
      " 76%|███████▌  | 369/484 [09:32<02:10,  1.14s/it]"
     ]
    },
    {
     "name": "stdout",
     "output_type": "stream",
     "text": [
      "done with patient sub-01381621\n",
      "currently working on sub-01492604\n"
     ]
    },
    {
     "name": "stderr",
     "output_type": "stream",
     "text": [
      " 76%|███████▋  | 370/484 [09:39<05:30,  2.90s/it]"
     ]
    },
    {
     "name": "stdout",
     "output_type": "stream",
     "text": [
      "done with patient sub-01492604\n",
      "currently working on sub-01199093\n"
     ]
    },
    {
     "name": "stderr",
     "output_type": "stream",
     "text": [
      " 77%|███████▋  | 371/484 [09:40<04:27,  2.37s/it]"
     ]
    },
    {
     "name": "stdout",
     "output_type": "stream",
     "text": [
      "done with patient sub-01199093\n",
      "currently working on sub-01432274\n"
     ]
    },
    {
     "name": "stderr",
     "output_type": "stream",
     "text": [
      " 77%|███████▋  | 372/484 [09:42<03:42,  1.99s/it]"
     ]
    },
    {
     "name": "stdout",
     "output_type": "stream",
     "text": [
      "done with patient sub-01432274\n",
      "currently working on sub-01419998\n"
     ]
    },
    {
     "name": "stderr",
     "output_type": "stream",
     "text": [
      " 77%|███████▋  | 373/484 [09:43<03:09,  1.71s/it]"
     ]
    },
    {
     "name": "stdout",
     "output_type": "stream",
     "text": [
      "done with patient sub-01419998\n",
      "currently working on sub-01402283\n"
     ]
    },
    {
     "name": "stderr",
     "output_type": "stream",
     "text": [
      " 77%|███████▋  | 374/484 [09:44<02:52,  1.57s/it]"
     ]
    },
    {
     "name": "stdout",
     "output_type": "stream",
     "text": [
      "done with patient sub-01402283\n",
      "currently working on sub-01189050\n"
     ]
    },
    {
     "name": "stderr",
     "output_type": "stream",
     "text": [
      " 77%|███████▋  | 375/484 [09:45<02:36,  1.43s/it]"
     ]
    },
    {
     "name": "stdout",
     "output_type": "stream",
     "text": [
      "done with patient sub-01189050\n",
      "currently working on sub-01885520\n"
     ]
    },
    {
     "name": "stderr",
     "output_type": "stream",
     "text": [
      " 78%|███████▊  | 376/484 [09:46<02:24,  1.34s/it]"
     ]
    },
    {
     "name": "stdout",
     "output_type": "stream",
     "text": [
      "done with patient sub-01885520\n",
      "currently working on sub-02132336\n"
     ]
    },
    {
     "name": "stderr",
     "output_type": "stream",
     "text": [
      " 78%|███████▊  | 377/484 [09:47<02:13,  1.25s/it]"
     ]
    },
    {
     "name": "stdout",
     "output_type": "stream",
     "text": [
      "done with patient sub-02132336\n",
      "currently working on sub-01515235\n"
     ]
    },
    {
     "name": "stderr",
     "output_type": "stream",
     "text": [
      " 78%|███████▊  | 378/484 [09:48<02:13,  1.26s/it]"
     ]
    },
    {
     "name": "stdout",
     "output_type": "stream",
     "text": [
      "done with patient sub-01515235\n",
      "currently working on sub-01706146\n"
     ]
    },
    {
     "name": "stderr",
     "output_type": "stream",
     "text": [
      " 78%|███████▊  | 379/484 [09:50<02:19,  1.33s/it]"
     ]
    },
    {
     "name": "stdout",
     "output_type": "stream",
     "text": [
      "done with patient sub-01706146\n",
      "currently working on sub-02097980\n"
     ]
    },
    {
     "name": "stderr",
     "output_type": "stream",
     "text": [
      " 79%|███████▊  | 380/484 [09:51<02:11,  1.26s/it]"
     ]
    },
    {
     "name": "stdout",
     "output_type": "stream",
     "text": [
      "done with patient sub-02097980\n",
      "currently working on sub-01421533\n"
     ]
    },
    {
     "name": "stderr",
     "output_type": "stream",
     "text": [
      " 79%|███████▊  | 381/484 [09:52<02:06,  1.22s/it]"
     ]
    },
    {
     "name": "stdout",
     "output_type": "stream",
     "text": [
      "done with patient sub-01421533\n",
      "currently working on sub-01596127\n"
     ]
    },
    {
     "name": "stderr",
     "output_type": "stream",
     "text": [
      " 79%|███████▉  | 382/484 [09:54<02:11,  1.29s/it]"
     ]
    },
    {
     "name": "stdout",
     "output_type": "stream",
     "text": [
      "done with patient sub-01596127\n",
      "currently working on sub-01545797\n"
     ]
    },
    {
     "name": "stderr",
     "output_type": "stream",
     "text": [
      " 79%|███████▉  | 383/484 [09:55<02:04,  1.23s/it]"
     ]
    },
    {
     "name": "stdout",
     "output_type": "stream",
     "text": [
      "done with patient sub-01545797\n",
      "currently working on sub-01450871\n"
     ]
    },
    {
     "name": "stderr",
     "output_type": "stream",
     "text": [
      " 79%|███████▉  | 384/484 [09:56<02:00,  1.21s/it]"
     ]
    },
    {
     "name": "stdout",
     "output_type": "stream",
     "text": [
      "done with patient sub-01450871\n",
      "currently working on sub-01434869\n"
     ]
    },
    {
     "name": "stderr",
     "output_type": "stream",
     "text": [
      " 80%|███████▉  | 385/484 [09:57<01:54,  1.16s/it]"
     ]
    },
    {
     "name": "stdout",
     "output_type": "stream",
     "text": [
      "done with patient sub-01434869\n",
      "currently working on sub-01518885\n"
     ]
    },
    {
     "name": "stderr",
     "output_type": "stream",
     "text": [
      " 80%|███████▉  | 386/484 [09:58<01:50,  1.13s/it]"
     ]
    },
    {
     "name": "stdout",
     "output_type": "stream",
     "text": [
      "done with patient sub-01518885\n",
      "currently working on sub-01117914\n"
     ]
    },
    {
     "name": "stderr",
     "output_type": "stream",
     "text": [
      " 80%|███████▉  | 387/484 [09:59<01:58,  1.22s/it]"
     ]
    },
    {
     "name": "stdout",
     "output_type": "stream",
     "text": [
      "done with patient sub-01117914\n",
      "currently working on sub-01551183\n"
     ]
    },
    {
     "name": "stderr",
     "output_type": "stream",
     "text": [
      " 80%|████████  | 388/484 [10:01<02:01,  1.27s/it]"
     ]
    },
    {
     "name": "stdout",
     "output_type": "stream",
     "text": [
      "done with patient sub-01551183\n",
      "currently working on sub-02138280\n"
     ]
    },
    {
     "name": "stderr",
     "output_type": "stream",
     "text": [
      " 80%|████████  | 389/484 [10:02<02:05,  1.33s/it]"
     ]
    },
    {
     "name": "stdout",
     "output_type": "stream",
     "text": [
      "done with patient sub-02138280\n",
      "currently working on sub-02066389\n"
     ]
    },
    {
     "name": "stderr",
     "output_type": "stream",
     "text": [
      " 81%|████████  | 390/484 [10:03<01:56,  1.24s/it]"
     ]
    },
    {
     "name": "stdout",
     "output_type": "stream",
     "text": [
      "done with patient sub-02066389\n",
      "currently working on sub-01961554\n"
     ]
    },
    {
     "name": "stderr",
     "output_type": "stream",
     "text": [
      " 81%|████████  | 391/484 [10:04<01:52,  1.21s/it]"
     ]
    },
    {
     "name": "stdout",
     "output_type": "stream",
     "text": [
      "done with patient sub-01961554\n",
      "currently working on sub-02110064\n"
     ]
    },
    {
     "name": "stderr",
     "output_type": "stream",
     "text": [
      " 81%|████████  | 392/484 [10:05<01:48,  1.18s/it]"
     ]
    },
    {
     "name": "stdout",
     "output_type": "stream",
     "text": [
      "done with patient sub-02110064\n",
      "currently working on sub-01943022\n"
     ]
    },
    {
     "name": "stderr",
     "output_type": "stream",
     "text": [
      " 81%|████████  | 393/484 [10:07<02:04,  1.37s/it]"
     ]
    },
    {
     "name": "stdout",
     "output_type": "stream",
     "text": [
      "done with patient sub-01943022\n",
      "currently working on sub-01130856\n"
     ]
    },
    {
     "name": "stderr",
     "output_type": "stream",
     "text": [
      " 81%|████████▏ | 394/484 [10:08<01:55,  1.28s/it]"
     ]
    },
    {
     "name": "stdout",
     "output_type": "stream",
     "text": [
      "done with patient sub-01130856\n",
      "currently working on sub-02094355\n"
     ]
    },
    {
     "name": "stderr",
     "output_type": "stream",
     "text": [
      " 82%|████████▏ | 395/484 [10:09<01:48,  1.22s/it]"
     ]
    },
    {
     "name": "stdout",
     "output_type": "stream",
     "text": [
      "done with patient sub-02094355\n",
      "currently working on sub-01131702\n"
     ]
    },
    {
     "name": "stderr",
     "output_type": "stream",
     "text": [
      " 82%|████████▏ | 396/484 [10:11<01:44,  1.18s/it]"
     ]
    },
    {
     "name": "stdout",
     "output_type": "stream",
     "text": [
      "done with patient sub-01131702\n",
      "currently working on sub-01484016\n"
     ]
    },
    {
     "name": "stderr",
     "output_type": "stream",
     "text": [
      " 82%|████████▏ | 397/484 [10:12<01:39,  1.15s/it]"
     ]
    },
    {
     "name": "stdout",
     "output_type": "stream",
     "text": [
      "done with patient sub-01484016\n",
      "currently working on sub-01410235\n"
     ]
    },
    {
     "name": "stderr",
     "output_type": "stream",
     "text": [
      " 82%|████████▏ | 398/484 [10:17<03:30,  2.44s/it]"
     ]
    },
    {
     "name": "stdout",
     "output_type": "stream",
     "text": [
      "done with patient sub-01410235\n",
      "currently working on sub-02100576\n",
      "No metastases found in /Users/LennartPhilipp/Desktop/Uni/Prowiss/Datensatz_RGB/preprocessed_n4_brainlesion_percentile_20240612-083743/sub-02100576/perc_normalized/sub-02100576_t1c_perc_normalized.nii.gz\n",
      "No metastases found in /Users/LennartPhilipp/Desktop/Uni/Prowiss/Datensatz_RGB/preprocessed_n4_brainlesion_percentile_20240612-083743/sub-02100576/perc_normalized/sub-02100576_fla_perc_normalized.nii.gz\n",
      "No metastases found in /Users/LennartPhilipp/Desktop/Uni/Prowiss/Datensatz_RGB/preprocessed_n4_brainlesion_percentile_20240612-083743/sub-02100576/perc_normalized/sub-02100576_t2_perc_normalized.nii.gz\n"
     ]
    },
    {
     "name": "stderr",
     "output_type": "stream",
     "text": [
      " 82%|████████▏ | 399/484 [10:18<02:50,  2.01s/it]"
     ]
    },
    {
     "name": "stdout",
     "output_type": "stream",
     "text": [
      "No metastases found in /Users/LennartPhilipp/Desktop/Uni/Prowiss/Datensatz_RGB/preprocessed_n4_brainlesion_percentile_20240612-083743/sub-02100576/perc_normalized/sub-02100576_t1_perc_normalized.nii.gz\n",
      "done with patient sub-02100576\n",
      "currently working on sub-01241505\n"
     ]
    },
    {
     "name": "stderr",
     "output_type": "stream",
     "text": [
      " 83%|████████▎ | 400/484 [10:21<03:05,  2.20s/it]"
     ]
    },
    {
     "name": "stdout",
     "output_type": "stream",
     "text": [
      "done with patient sub-01241505\n",
      "currently working on sub-02142561\n"
     ]
    },
    {
     "name": "stderr",
     "output_type": "stream",
     "text": [
      " 83%|████████▎ | 401/484 [10:23<03:08,  2.27s/it]"
     ]
    },
    {
     "name": "stdout",
     "output_type": "stream",
     "text": [
      "done with patient sub-02142561\n",
      "currently working on sub-01214417\n"
     ]
    },
    {
     "name": "stderr",
     "output_type": "stream",
     "text": [
      " 83%|████████▎ | 402/484 [10:24<02:37,  1.93s/it]"
     ]
    },
    {
     "name": "stdout",
     "output_type": "stream",
     "text": [
      "done with patient sub-01214417\n",
      "currently working on sub-01668785\n"
     ]
    },
    {
     "name": "stderr",
     "output_type": "stream",
     "text": [
      " 83%|████████▎ | 403/484 [10:25<02:14,  1.67s/it]"
     ]
    },
    {
     "name": "stdout",
     "output_type": "stream",
     "text": [
      "done with patient sub-01668785\n",
      "currently working on sub-01958155\n"
     ]
    },
    {
     "name": "stderr",
     "output_type": "stream",
     "text": [
      " 83%|████████▎ | 404/484 [10:26<01:58,  1.48s/it]"
     ]
    },
    {
     "name": "stdout",
     "output_type": "stream",
     "text": [
      "done with patient sub-01958155\n",
      "currently working on sub-01521599\n"
     ]
    },
    {
     "name": "stderr",
     "output_type": "stream",
     "text": [
      " 84%|████████▎ | 405/484 [10:27<01:47,  1.36s/it]"
     ]
    },
    {
     "name": "stdout",
     "output_type": "stream",
     "text": [
      "done with patient sub-01521599\n",
      "currently working on sub-01549022\n"
     ]
    },
    {
     "name": "stderr",
     "output_type": "stream",
     "text": [
      " 84%|████████▍ | 406/484 [10:29<01:39,  1.28s/it]"
     ]
    },
    {
     "name": "stdout",
     "output_type": "stream",
     "text": [
      "done with patient sub-01549022\n",
      "currently working on sub-01099901\n"
     ]
    },
    {
     "name": "stderr",
     "output_type": "stream",
     "text": [
      " 84%|████████▍ | 407/484 [10:30<01:36,  1.25s/it]"
     ]
    },
    {
     "name": "stdout",
     "output_type": "stream",
     "text": [
      "done with patient sub-01099901\n",
      "currently working on sub-90003562\n"
     ]
    },
    {
     "name": "stderr",
     "output_type": "stream",
     "text": [
      " 84%|████████▍ | 408/484 [10:31<01:31,  1.20s/it]"
     ]
    },
    {
     "name": "stdout",
     "output_type": "stream",
     "text": [
      "done with patient sub-90003562\n",
      "currently working on sub-01288350\n"
     ]
    },
    {
     "name": "stderr",
     "output_type": "stream",
     "text": [
      " 85%|████████▍ | 409/484 [10:32<01:32,  1.23s/it]"
     ]
    },
    {
     "name": "stdout",
     "output_type": "stream",
     "text": [
      "done with patient sub-01288350\n",
      "currently working on sub-01908576\n"
     ]
    },
    {
     "name": "stderr",
     "output_type": "stream",
     "text": [
      " 85%|████████▍ | 411/484 [10:33<01:07,  1.09it/s]"
     ]
    },
    {
     "name": "stdout",
     "output_type": "stream",
     "text": [
      "done with patient sub-01908576\n",
      "currently working on sub-01349100\n"
     ]
    },
    {
     "name": "stderr",
     "output_type": "stream",
     "text": [
      " 85%|████████▌ | 412/484 [10:34<01:11,  1.01it/s]"
     ]
    },
    {
     "name": "stdout",
     "output_type": "stream",
     "text": [
      "done with patient sub-01349100\n",
      "currently working on sub-01893873\n"
     ]
    },
    {
     "name": "stderr",
     "output_type": "stream",
     "text": [
      " 85%|████████▌ | 413/484 [10:36<01:15,  1.06s/it]"
     ]
    },
    {
     "name": "stdout",
     "output_type": "stream",
     "text": [
      "done with patient sub-01893873\n",
      "currently working on sub-01111974\n"
     ]
    },
    {
     "name": "stderr",
     "output_type": "stream",
     "text": [
      " 86%|████████▌ | 414/484 [10:40<02:24,  2.06s/it]"
     ]
    },
    {
     "name": "stdout",
     "output_type": "stream",
     "text": [
      "done with patient sub-01111974\n",
      "currently working on sub-99000041\n"
     ]
    },
    {
     "name": "stderr",
     "output_type": "stream",
     "text": [
      " 86%|████████▌ | 415/484 [10:42<02:03,  1.79s/it]"
     ]
    },
    {
     "name": "stdout",
     "output_type": "stream",
     "text": [
      "done with patient sub-99000041\n",
      "currently working on sub-02026140\n"
     ]
    },
    {
     "name": "stderr",
     "output_type": "stream",
     "text": [
      " 86%|████████▌ | 416/484 [10:43<01:47,  1.58s/it]"
     ]
    },
    {
     "name": "stdout",
     "output_type": "stream",
     "text": [
      "done with patient sub-02026140\n",
      "currently working on sub-01979317\n"
     ]
    },
    {
     "name": "stderr",
     "output_type": "stream",
     "text": [
      " 86%|████████▌ | 417/484 [10:44<01:38,  1.48s/it]"
     ]
    },
    {
     "name": "stdout",
     "output_type": "stream",
     "text": [
      "done with patient sub-01979317\n",
      "currently working on sub-02178883\n"
     ]
    },
    {
     "name": "stderr",
     "output_type": "stream",
     "text": [
      " 86%|████████▋ | 418/484 [10:45<01:30,  1.37s/it]"
     ]
    },
    {
     "name": "stdout",
     "output_type": "stream",
     "text": [
      "done with patient sub-02178883\n",
      "currently working on sub-02190209\n"
     ]
    },
    {
     "name": "stderr",
     "output_type": "stream",
     "text": [
      " 87%|████████▋ | 419/484 [10:50<02:37,  2.43s/it]"
     ]
    },
    {
     "name": "stdout",
     "output_type": "stream",
     "text": [
      "done with patient sub-02190209\n",
      "currently working on sub-01262362\n"
     ]
    },
    {
     "name": "stderr",
     "output_type": "stream",
     "text": [
      " 87%|████████▋ | 420/484 [10:51<02:10,  2.03s/it]"
     ]
    },
    {
     "name": "stdout",
     "output_type": "stream",
     "text": [
      "done with patient sub-01262362\n",
      "currently working on sub-02148372\n"
     ]
    },
    {
     "name": "stderr",
     "output_type": "stream",
     "text": [
      " 87%|████████▋ | 421/484 [10:53<02:17,  2.18s/it]"
     ]
    },
    {
     "name": "stdout",
     "output_type": "stream",
     "text": [
      "done with patient sub-02148372\n",
      "currently working on sub-01702596\n"
     ]
    },
    {
     "name": "stderr",
     "output_type": "stream",
     "text": [
      " 87%|████████▋ | 422/484 [10:55<01:56,  1.87s/it]"
     ]
    },
    {
     "name": "stdout",
     "output_type": "stream",
     "text": [
      "done with patient sub-01702596\n",
      "currently working on sub-01480742\n"
     ]
    },
    {
     "name": "stderr",
     "output_type": "stream",
     "text": [
      " 87%|████████▋ | 423/484 [10:56<01:41,  1.67s/it]"
     ]
    },
    {
     "name": "stdout",
     "output_type": "stream",
     "text": [
      "done with patient sub-01480742\n",
      "currently working on sub-01443624\n"
     ]
    },
    {
     "name": "stderr",
     "output_type": "stream",
     "text": [
      " 88%|████████▊ | 424/484 [10:57<01:35,  1.60s/it]"
     ]
    },
    {
     "name": "stdout",
     "output_type": "stream",
     "text": [
      "done with patient sub-01443624\n",
      "currently working on sub-02074050\n"
     ]
    },
    {
     "name": "stderr",
     "output_type": "stream",
     "text": [
      " 88%|████████▊ | 425/484 [10:58<01:26,  1.47s/it]"
     ]
    },
    {
     "name": "stdout",
     "output_type": "stream",
     "text": [
      "done with patient sub-02074050\n",
      "currently working on sub-02085355\n"
     ]
    },
    {
     "name": "stderr",
     "output_type": "stream",
     "text": [
      " 88%|████████▊ | 426/484 [11:00<01:24,  1.46s/it]"
     ]
    },
    {
     "name": "stdout",
     "output_type": "stream",
     "text": [
      "done with patient sub-02085355\n",
      "currently working on sub-02139997\n"
     ]
    },
    {
     "name": "stderr",
     "output_type": "stream",
     "text": [
      " 88%|████████▊ | 427/484 [11:01<01:19,  1.40s/it]"
     ]
    },
    {
     "name": "stdout",
     "output_type": "stream",
     "text": [
      "done with patient sub-02139997\n",
      "currently working on sub-01147272\n"
     ]
    },
    {
     "name": "stderr",
     "output_type": "stream",
     "text": [
      " 88%|████████▊ | 428/484 [11:02<01:16,  1.36s/it]"
     ]
    },
    {
     "name": "stdout",
     "output_type": "stream",
     "text": [
      "done with patient sub-01147272\n",
      "currently working on sub-01196057\n"
     ]
    },
    {
     "name": "stderr",
     "output_type": "stream",
     "text": [
      " 89%|████████▊ | 429/484 [11:04<01:10,  1.28s/it]"
     ]
    },
    {
     "name": "stdout",
     "output_type": "stream",
     "text": [
      "done with patient sub-01196057\n",
      "currently working on sub-02010452\n"
     ]
    },
    {
     "name": "stderr",
     "output_type": "stream",
     "text": [
      " 89%|████████▉ | 430/484 [11:05<01:07,  1.24s/it]"
     ]
    },
    {
     "name": "stdout",
     "output_type": "stream",
     "text": [
      "done with patient sub-02010452\n",
      "currently working on sub-01864584\n"
     ]
    },
    {
     "name": "stderr",
     "output_type": "stream",
     "text": [
      " 89%|████████▉ | 431/484 [11:06<01:11,  1.34s/it]"
     ]
    },
    {
     "name": "stdout",
     "output_type": "stream",
     "text": [
      "done with patient sub-01864584\n",
      "currently working on sub-02088404\n"
     ]
    },
    {
     "name": "stderr",
     "output_type": "stream",
     "text": [
      " 89%|████████▉ | 432/484 [11:08<01:12,  1.39s/it]"
     ]
    },
    {
     "name": "stdout",
     "output_type": "stream",
     "text": [
      "done with patient sub-02088404\n",
      "currently working on sub-01497790\n"
     ]
    },
    {
     "name": "stderr",
     "output_type": "stream",
     "text": [
      " 89%|████████▉ | 433/484 [11:09<01:06,  1.30s/it]"
     ]
    },
    {
     "name": "stdout",
     "output_type": "stream",
     "text": [
      "done with patient sub-01497790\n",
      "currently working on sub-01547588\n"
     ]
    },
    {
     "name": "stderr",
     "output_type": "stream",
     "text": [
      " 90%|████████▉ | 434/484 [11:11<01:11,  1.44s/it]"
     ]
    },
    {
     "name": "stdout",
     "output_type": "stream",
     "text": [
      "done with patient sub-01547588\n",
      "currently working on sub-02168956\n"
     ]
    },
    {
     "name": "stderr",
     "output_type": "stream",
     "text": [
      " 90%|████████▉ | 435/484 [11:12<01:11,  1.45s/it]"
     ]
    },
    {
     "name": "stdout",
     "output_type": "stream",
     "text": [
      "done with patient sub-02168956\n",
      "currently working on sub-02089657\n"
     ]
    },
    {
     "name": "stderr",
     "output_type": "stream",
     "text": [
      " 90%|█████████ | 436/484 [11:13<01:04,  1.34s/it]"
     ]
    },
    {
     "name": "stdout",
     "output_type": "stream",
     "text": [
      "done with patient sub-02089657\n",
      "currently working on sub-01978091\n"
     ]
    },
    {
     "name": "stderr",
     "output_type": "stream",
     "text": [
      " 90%|█████████ | 437/484 [11:14<00:59,  1.26s/it]"
     ]
    },
    {
     "name": "stdout",
     "output_type": "stream",
     "text": [
      "done with patient sub-01978091\n",
      "currently working on sub-01362907\n"
     ]
    },
    {
     "name": "stderr",
     "output_type": "stream",
     "text": [
      " 90%|█████████ | 438/484 [11:15<00:56,  1.23s/it]"
     ]
    },
    {
     "name": "stdout",
     "output_type": "stream",
     "text": [
      "done with patient sub-01362907\n",
      "currently working on sub-02122538\n"
     ]
    },
    {
     "name": "stderr",
     "output_type": "stream",
     "text": [
      " 91%|█████████ | 439/484 [11:16<00:53,  1.18s/it]"
     ]
    },
    {
     "name": "stdout",
     "output_type": "stream",
     "text": [
      "done with patient sub-02122538\n",
      "currently working on sub-01410317\n"
     ]
    },
    {
     "name": "stderr",
     "output_type": "stream",
     "text": [
      " 91%|█████████ | 440/484 [11:18<00:52,  1.19s/it]"
     ]
    },
    {
     "name": "stdout",
     "output_type": "stream",
     "text": [
      "done with patient sub-01410317\n",
      "currently working on sub-01119720\n"
     ]
    },
    {
     "name": "stderr",
     "output_type": "stream",
     "text": [
      " 91%|█████████ | 441/484 [11:19<00:52,  1.22s/it]"
     ]
    },
    {
     "name": "stdout",
     "output_type": "stream",
     "text": [
      "done with patient sub-01119720\n",
      "currently working on sub-01231700\n"
     ]
    },
    {
     "name": "stderr",
     "output_type": "stream",
     "text": [
      " 91%|█████████▏| 442/484 [11:20<00:49,  1.18s/it]"
     ]
    },
    {
     "name": "stdout",
     "output_type": "stream",
     "text": [
      "done with patient sub-01231700\n",
      "currently working on sub-01441531\n"
     ]
    },
    {
     "name": "stderr",
     "output_type": "stream",
     "text": [
      " 92%|█████████▏| 443/484 [11:21<00:48,  1.19s/it]"
     ]
    },
    {
     "name": "stdout",
     "output_type": "stream",
     "text": [
      "done with patient sub-01441531\n",
      "currently working on sub-02095303\n"
     ]
    },
    {
     "name": "stderr",
     "output_type": "stream",
     "text": [
      " 92%|█████████▏| 444/484 [11:22<00:46,  1.15s/it]"
     ]
    },
    {
     "name": "stdout",
     "output_type": "stream",
     "text": [
      "done with patient sub-02095303\n",
      "currently working on sub-01006290\n"
     ]
    },
    {
     "name": "stderr",
     "output_type": "stream",
     "text": [
      " 92%|█████████▏| 445/484 [11:23<00:44,  1.14s/it]"
     ]
    },
    {
     "name": "stdout",
     "output_type": "stream",
     "text": [
      "done with patient sub-01006290\n",
      "currently working on sub-02096374\n"
     ]
    },
    {
     "name": "stderr",
     "output_type": "stream",
     "text": [
      " 92%|█████████▏| 446/484 [11:25<00:43,  1.13s/it]"
     ]
    },
    {
     "name": "stdout",
     "output_type": "stream",
     "text": [
      "done with patient sub-02096374\n",
      "currently working on sub-01792136\n"
     ]
    },
    {
     "name": "stderr",
     "output_type": "stream",
     "text": [
      " 92%|█████████▏| 447/484 [11:26<00:41,  1.12s/it]"
     ]
    },
    {
     "name": "stdout",
     "output_type": "stream",
     "text": [
      "done with patient sub-01792136\n",
      "currently working on sub-01661279\n"
     ]
    },
    {
     "name": "stderr",
     "output_type": "stream",
     "text": [
      " 93%|█████████▎| 448/484 [11:27<00:39,  1.10s/it]"
     ]
    },
    {
     "name": "stdout",
     "output_type": "stream",
     "text": [
      "done with patient sub-01661279\n",
      "currently working on sub-01309950\n"
     ]
    },
    {
     "name": "stderr",
     "output_type": "stream",
     "text": [
      " 93%|█████████▎| 449/484 [11:28<00:39,  1.13s/it]"
     ]
    },
    {
     "name": "stdout",
     "output_type": "stream",
     "text": [
      "done with patient sub-01309950\n",
      "currently working on sub-02113718\n"
     ]
    },
    {
     "name": "stderr",
     "output_type": "stream",
     "text": [
      " 93%|█████████▎| 450/484 [11:29<00:37,  1.11s/it]"
     ]
    },
    {
     "name": "stdout",
     "output_type": "stream",
     "text": [
      "done with patient sub-02113718\n",
      "currently working on sub-01461078\n"
     ]
    },
    {
     "name": "stderr",
     "output_type": "stream",
     "text": [
      " 93%|█████████▎| 451/484 [11:30<00:37,  1.14s/it]"
     ]
    },
    {
     "name": "stdout",
     "output_type": "stream",
     "text": [
      "done with patient sub-01461078\n",
      "currently working on sub-02124336\n"
     ]
    },
    {
     "name": "stderr",
     "output_type": "stream",
     "text": [
      " 93%|█████████▎| 452/484 [11:31<00:38,  1.19s/it]"
     ]
    },
    {
     "name": "stdout",
     "output_type": "stream",
     "text": [
      "done with patient sub-02124336\n",
      "currently working on sub-01695094\n"
     ]
    },
    {
     "name": "stderr",
     "output_type": "stream",
     "text": [
      " 94%|█████████▎| 453/484 [11:34<00:48,  1.56s/it]"
     ]
    },
    {
     "name": "stdout",
     "output_type": "stream",
     "text": [
      "done with patient sub-01695094\n",
      "currently working on sub-01458719\n"
     ]
    },
    {
     "name": "stderr",
     "output_type": "stream",
     "text": [
      " 94%|█████████▍| 454/484 [11:35<00:43,  1.43s/it]"
     ]
    },
    {
     "name": "stdout",
     "output_type": "stream",
     "text": [
      "done with patient sub-01458719\n",
      "currently working on sub-01204563\n"
     ]
    },
    {
     "name": "stderr",
     "output_type": "stream",
     "text": [
      " 94%|█████████▍| 455/484 [11:37<00:45,  1.56s/it]"
     ]
    },
    {
     "name": "stdout",
     "output_type": "stream",
     "text": [
      "done with patient sub-01204563\n",
      "currently working on sub-02179132\n"
     ]
    },
    {
     "name": "stderr",
     "output_type": "stream",
     "text": [
      " 94%|█████████▍| 456/484 [11:38<00:39,  1.42s/it]"
     ]
    },
    {
     "name": "stdout",
     "output_type": "stream",
     "text": [
      "done with patient sub-02179132\n",
      "currently working on sub-02000864\n"
     ]
    },
    {
     "name": "stderr",
     "output_type": "stream",
     "text": [
      " 94%|█████████▍| 457/484 [11:39<00:37,  1.39s/it]"
     ]
    },
    {
     "name": "stdout",
     "output_type": "stream",
     "text": [
      "done with patient sub-02000864\n",
      "currently working on sub-01983233\n"
     ]
    },
    {
     "name": "stderr",
     "output_type": "stream",
     "text": [
      " 95%|█████████▍| 458/484 [11:40<00:34,  1.32s/it]"
     ]
    },
    {
     "name": "stdout",
     "output_type": "stream",
     "text": [
      "done with patient sub-01983233\n",
      "currently working on sub-02009523\n"
     ]
    },
    {
     "name": "stderr",
     "output_type": "stream",
     "text": [
      " 95%|█████████▍| 459/484 [11:42<00:31,  1.27s/it]"
     ]
    },
    {
     "name": "stdout",
     "output_type": "stream",
     "text": [
      "done with patient sub-02009523\n",
      "currently working on sub-02136965\n"
     ]
    },
    {
     "name": "stderr",
     "output_type": "stream",
     "text": [
      " 95%|█████████▌| 460/484 [11:43<00:29,  1.23s/it]"
     ]
    },
    {
     "name": "stdout",
     "output_type": "stream",
     "text": [
      "done with patient sub-02136965\n",
      "currently working on sub-01243841\n"
     ]
    },
    {
     "name": "stderr",
     "output_type": "stream",
     "text": [
      " 95%|█████████▌| 461/484 [11:44<00:27,  1.20s/it]"
     ]
    },
    {
     "name": "stdout",
     "output_type": "stream",
     "text": [
      "done with patient sub-01243841\n",
      "currently working on sub-01437004\n"
     ]
    },
    {
     "name": "stderr",
     "output_type": "stream",
     "text": [
      " 95%|█████████▌| 462/484 [11:45<00:26,  1.21s/it]"
     ]
    },
    {
     "name": "stdout",
     "output_type": "stream",
     "text": [
      "done with patient sub-01437004\n",
      "currently working on sub-02165732\n"
     ]
    },
    {
     "name": "stderr",
     "output_type": "stream",
     "text": [
      " 96%|█████████▌| 463/484 [11:46<00:24,  1.17s/it]"
     ]
    },
    {
     "name": "stdout",
     "output_type": "stream",
     "text": [
      "done with patient sub-02165732\n",
      "currently working on sub-01370265\n"
     ]
    },
    {
     "name": "stderr",
     "output_type": "stream",
     "text": [
      " 96%|█████████▌| 465/484 [11:48<00:18,  1.03it/s]"
     ]
    },
    {
     "name": "stdout",
     "output_type": "stream",
     "text": [
      "done with patient sub-01370265\n",
      "currently working on sub-01946372\n"
     ]
    },
    {
     "name": "stderr",
     "output_type": "stream",
     "text": [
      " 96%|█████████▋| 466/484 [11:49<00:19,  1.08s/it]"
     ]
    },
    {
     "name": "stdout",
     "output_type": "stream",
     "text": [
      "done with patient sub-01946372\n",
      "currently working on sub-02070903\n"
     ]
    },
    {
     "name": "stderr",
     "output_type": "stream",
     "text": [
      " 96%|█████████▋| 467/484 [11:50<00:18,  1.08s/it]"
     ]
    },
    {
     "name": "stdout",
     "output_type": "stream",
     "text": [
      "done with patient sub-02070903\n",
      "currently working on sub-01754011\n"
     ]
    },
    {
     "name": "stderr",
     "output_type": "stream",
     "text": [
      " 97%|█████████▋| 468/484 [11:52<00:18,  1.17s/it]"
     ]
    },
    {
     "name": "stdout",
     "output_type": "stream",
     "text": [
      "done with patient sub-01754011\n",
      "currently working on sub-02082001\n"
     ]
    },
    {
     "name": "stderr",
     "output_type": "stream",
     "text": [
      " 97%|█████████▋| 469/484 [11:54<00:22,  1.48s/it]"
     ]
    },
    {
     "name": "stdout",
     "output_type": "stream",
     "text": [
      "done with patient sub-02082001\n",
      "currently working on sub-01425882\n"
     ]
    },
    {
     "name": "stderr",
     "output_type": "stream",
     "text": [
      " 97%|█████████▋| 470/484 [11:55<00:19,  1.38s/it]"
     ]
    },
    {
     "name": "stdout",
     "output_type": "stream",
     "text": [
      "done with patient sub-01425882\n",
      "currently working on sub-01906150\n"
     ]
    },
    {
     "name": "stderr",
     "output_type": "stream",
     "text": [
      " 97%|█████████▋| 471/484 [11:56<00:17,  1.34s/it]"
     ]
    },
    {
     "name": "stdout",
     "output_type": "stream",
     "text": [
      "done with patient sub-01906150\n",
      "currently working on sub-02154718\n"
     ]
    },
    {
     "name": "stderr",
     "output_type": "stream",
     "text": [
      " 98%|█████████▊| 472/484 [11:58<00:16,  1.35s/it]"
     ]
    },
    {
     "name": "stdout",
     "output_type": "stream",
     "text": [
      "done with patient sub-02154718\n",
      "currently working on sub-02036251\n"
     ]
    },
    {
     "name": "stderr",
     "output_type": "stream",
     "text": [
      " 98%|█████████▊| 474/484 [11:59<00:09,  1.01it/s]"
     ]
    },
    {
     "name": "stdout",
     "output_type": "stream",
     "text": [
      "done with patient sub-02036251\n",
      "currently working on sub-01797781\n"
     ]
    },
    {
     "name": "stderr",
     "output_type": "stream",
     "text": [
      " 98%|█████████▊| 475/484 [12:00<00:09,  1.01s/it]"
     ]
    },
    {
     "name": "stdout",
     "output_type": "stream",
     "text": [
      "done with patient sub-01797781\n",
      "currently working on sub-01895825\n"
     ]
    },
    {
     "name": "stderr",
     "output_type": "stream",
     "text": [
      " 98%|█████████▊| 476/484 [12:01<00:08,  1.03s/it]"
     ]
    },
    {
     "name": "stdout",
     "output_type": "stream",
     "text": [
      "done with patient sub-01895825\n",
      "currently working on sub-01713570\n"
     ]
    },
    {
     "name": "stderr",
     "output_type": "stream",
     "text": [
      " 99%|█████████▊| 477/484 [12:02<00:07,  1.09s/it]"
     ]
    },
    {
     "name": "stdout",
     "output_type": "stream",
     "text": [
      "done with patient sub-01713570\n",
      "currently working on sub-01213140\n"
     ]
    },
    {
     "name": "stderr",
     "output_type": "stream",
     "text": [
      " 99%|█████████▉| 478/484 [12:03<00:06,  1.09s/it]"
     ]
    },
    {
     "name": "stdout",
     "output_type": "stream",
     "text": [
      "done with patient sub-01213140\n",
      "currently working on sub-01696904\n"
     ]
    },
    {
     "name": "stderr",
     "output_type": "stream",
     "text": [
      " 99%|█████████▉| 479/484 [12:04<00:05,  1.10s/it]"
     ]
    },
    {
     "name": "stdout",
     "output_type": "stream",
     "text": [
      "done with patient sub-01696904\n",
      "currently working on sub-01587295\n"
     ]
    },
    {
     "name": "stderr",
     "output_type": "stream",
     "text": [
      " 99%|█████████▉| 480/484 [12:06<00:04,  1.14s/it]"
     ]
    },
    {
     "name": "stdout",
     "output_type": "stream",
     "text": [
      "done with patient sub-01587295\n",
      "currently working on sub-01494236\n"
     ]
    },
    {
     "name": "stderr",
     "output_type": "stream",
     "text": [
      " 99%|█████████▉| 481/484 [12:08<00:04,  1.58s/it]"
     ]
    },
    {
     "name": "stdout",
     "output_type": "stream",
     "text": [
      "done with patient sub-01494236\n",
      "currently working on sub-01104996\n"
     ]
    },
    {
     "name": "stderr",
     "output_type": "stream",
     "text": [
      "100%|█████████▉| 482/484 [12:09<00:02,  1.43s/it]"
     ]
    },
    {
     "name": "stdout",
     "output_type": "stream",
     "text": [
      "done with patient sub-01104996\n",
      "currently working on sub-01565091\n"
     ]
    },
    {
     "name": "stderr",
     "output_type": "stream",
     "text": [
      "100%|██████████| 484/484 [12:10<00:00,  1.51s/it]"
     ]
    },
    {
     "name": "stdout",
     "output_type": "stream",
     "text": [
      "done with patient sub-01565091\n",
      "471\n"
     ]
    },
    {
     "name": "stderr",
     "output_type": "stream",
     "text": [
      "\n"
     ]
    }
   ],
   "source": [
    "# output: create folder for each patient and save the slices there\n",
    "\n",
    "# input mri folder: path to all preprocessed patients\n",
    "# go to each patient and get all 4 mri scans\n",
    "# input segmentation folder: path to all segmented patients\n",
    "# go to each patient and get metastatis_unbinarized_floats.nii.gz\n",
    "\n",
    "path_to_output = Path(\"/Users/LennartPhilipp/Desktop/Uni/Prowiss/Datensatz_RGB/regensburg_slices\")\n",
    "path_to_mri_patients = Path(\"/Users/LennartPhilipp/Desktop/Uni/Prowiss/Datensatz_RGB/preprocessed_n4_brainlesion_percentile_20240612-083743\")\n",
    "path_to_segmentation_patients = Path(\"/Users/LennartPhilipp/Desktop/Uni/Prowiss/Datensatz_RGB/Segs_Lennart_Export\")\n",
    "\n",
    "path_to_tsv = Path(\"/Users/LennartPhilipp/Desktop/Uni/Prowiss/Dateien/participants_01_08_24.tsv\")\n",
    "\n",
    "segmentation_patients = [patient for patient in os.listdir(path_to_segmentation_patients) if \"labels\" in patient]\n",
    "\n",
    "pats_to_preprocess = pd.read_csv(path_to_tsv, sep=\"\\t\")[\"participant_id\"].tolist()\n",
    "\n",
    "already_processed_patients = [patient for patient in os.listdir(path_to_output) if os.path.isdir(os.path.join(path_to_output, patient))]\n",
    "\n",
    "counter = 0\n",
    "\n",
    "for patient in tqdm(segmentation_patients):\n",
    "    # go through each patient\n",
    "\n",
    "    # if counter >= 1:\n",
    "    #     break\n",
    "    \n",
    "    # get patient ID\n",
    "    patientID = patient.split(\"_\")[0]\n",
    "\n",
    "    # check if patient ID is in list of patients to preprocess\n",
    "    if patientID not in pats_to_preprocess:\n",
    "        continue\n",
    "\n",
    "    if patientID in already_processed_patients:\n",
    "        print(f\"patient {patientID} already processed\")\n",
    "        continue\n",
    "\n",
    "    print(f\"currently working on {patientID}\")\n",
    "\n",
    "    # create new folder for output for patient\n",
    "    path_to_patient_output = Path(path_to_output) / Path(patientID)\n",
    "    os.makedirs(path_to_patient_output, exist_ok=True)\n",
    "\n",
    "    # IMPORTANT!!!!!\n",
    "    # adjust path for final run\n",
    "    path_to_segmentation = Path(path_to_segmentation_patients) / Path(patient)\n",
    "\n",
    "    path_to_mri_images = Path(path_to_mri_patients) / Path(patientID) / \"perc_normalized\"\n",
    "    mri_images = [file for file in os.listdir(path_to_mri_images) if \".nii.gz\" in file]\n",
    "\n",
    "    if mri_images == []:\n",
    "        print(\"********************************\")\n",
    "        print(f\"patient {patientID} not complete\")\n",
    "        continue\n",
    "\n",
    "    for mri_image in mri_images:\n",
    "        # go through each mri image for the patient\n",
    "\n",
    "        mri_sequence = mri_image.split(\"_\")[1]\n",
    "\n",
    "        path_to_mri = Path(path_to_mri_images) / Path(mri_image)\n",
    "        process_nifty_mask(path_to_segmentation, path_to_mri, path_to_patient_output, patientID, mri_sequence,\n",
    "                           save_mask_image = True,\n",
    "                           save_cut_out = True,\n",
    "                           area_threshold = 10)\n",
    "    \n",
    "    print(f\"done with patient {patientID}\")\n",
    "\n",
    "    counter += 1\n",
    "\n",
    "print(counter)\n",
    "    "
   ]
  },
  {
   "cell_type": "code",
   "execution_count": 23,
   "metadata": {},
   "outputs": [
    {
     "name": "stdout",
     "output_type": "stream",
     "text": [
      "(240, 240)\n"
     ]
    }
   ],
   "source": [
    "path_to_image = Path(\"/Users/LennartPhilipp/Desktop/Uni/Prowiss/Datensatz_RGB/regensburg_test_slices/sub-01134825/sub-01134825_metastasis_105_1_t1.png\")\n",
    "\n",
    "test_image = iio.v3.imread(path_to_image)\n",
    "print(test_image.shape)"
   ]
  },
  {
   "cell_type": "markdown",
   "metadata": {},
   "source": [
    "### Yale Dataset"
   ]
  },
  {
   "cell_type": "code",
   "execution_count": 66,
   "metadata": {},
   "outputs": [
    {
     "name": "stderr",
     "output_type": "stream",
     "text": [
      "  0%|          | 0/200 [00:00<?, ?it/s]"
     ]
    },
    {
     "name": "stdout",
     "output_type": "stream",
     "text": [
      "currently working on 00086\n",
      "[0. 2. 3.]\n",
      "[0. 2. 3.]\n",
      "Saved largest slice for metastasis (slice 48) with area 33 to /Users/LennartPhilipp/Desktop/Uni/Prowiss/CIA metstobrain/yale_metastases/00086/00086_metastasis_48_1_t1c.nii.gz_cutout.png\n",
      "Saved largest slice for metastasis (slice 50) with area 29 to /Users/LennartPhilipp/Desktop/Uni/Prowiss/CIA metstobrain/yale_metastases/00086/00086_metastasis_50_2_t1c.nii.gz_cutout.png\n",
      "Saved largest slice for metastasis (slice 39) with area 43 to /Users/LennartPhilipp/Desktop/Uni/Prowiss/CIA metstobrain/yale_metastases/00086/00086_metastasis_39_3_t1c.nii.gz_cutout.png\n",
      "[0. 2. 3.]\n",
      "[0. 2. 3.]\n",
      "Saved largest slice for metastasis (slice 48) with area 33 to /Users/LennartPhilipp/Desktop/Uni/Prowiss/CIA metstobrain/yale_metastases/00086/00086_metastasis_48_1_t2w.nii.gz_cutout.png\n",
      "Saved largest slice for metastasis (slice 50) with area 29 to /Users/LennartPhilipp/Desktop/Uni/Prowiss/CIA metstobrain/yale_metastases/00086/00086_metastasis_50_2_t2w.nii.gz_cutout.png\n",
      "Saved largest slice for metastasis (slice 39) with area 43 to /Users/LennartPhilipp/Desktop/Uni/Prowiss/CIA metstobrain/yale_metastases/00086/00086_metastasis_39_3_t2w.nii.gz_cutout.png\n",
      "[0. 2. 3.]\n",
      "[0. 2. 3.]\n",
      "Saved largest slice for metastasis (slice 48) with area 33 to /Users/LennartPhilipp/Desktop/Uni/Prowiss/CIA metstobrain/yale_metastases/00086/00086_metastasis_48_1_t1n.nii.gz_cutout.png\n",
      "Saved largest slice for metastasis (slice 50) with area 29 to /Users/LennartPhilipp/Desktop/Uni/Prowiss/CIA metstobrain/yale_metastases/00086/00086_metastasis_50_2_t1n.nii.gz_cutout.png\n",
      "Saved largest slice for metastasis (slice 39) with area 43 to /Users/LennartPhilipp/Desktop/Uni/Prowiss/CIA metstobrain/yale_metastases/00086/00086_metastasis_39_3_t1n.nii.gz_cutout.png\n",
      "[0. 2. 3.]\n",
      "[0. 2. 3.]\n",
      "Saved largest slice for metastasis (slice 48) with area 33 to /Users/LennartPhilipp/Desktop/Uni/Prowiss/CIA metstobrain/yale_metastases/00086/00086_metastasis_48_1_t2f.nii.gz_cutout.png\n",
      "Saved largest slice for metastasis (slice 50) with area 29 to /Users/LennartPhilipp/Desktop/Uni/Prowiss/CIA metstobrain/yale_metastases/00086/00086_metastasis_50_2_t2f.nii.gz_cutout.png\n"
     ]
    },
    {
     "name": "stderr",
     "output_type": "stream",
     "text": [
      "  0%|          | 1/200 [00:02<08:29,  2.56s/it]"
     ]
    },
    {
     "name": "stdout",
     "output_type": "stream",
     "text": [
      "Saved largest slice for metastasis (slice 39) with area 43 to /Users/LennartPhilipp/Desktop/Uni/Prowiss/CIA metstobrain/yale_metastases/00086/00086_metastasis_39_3_t2f.nii.gz_cutout.png\n",
      "done with patient BraTS-MET-00086-000\n",
      "currently working on 00284\n",
      "[0. 1. 2. 3.]\n",
      "[0. 1. 2.]\n",
      "Saved largest slice for metastasis (slice 60) with area 390 to /Users/LennartPhilipp/Desktop/Uni/Prowiss/CIA metstobrain/yale_metastases/00284/00284_metastasis_60_1_t2f.nii.gz_cutout.png\n",
      "[0. 1. 2. 3.]\n",
      "[0. 1. 2.]\n",
      "Saved largest slice for metastasis (slice 60) with area 390 to /Users/LennartPhilipp/Desktop/Uni/Prowiss/CIA metstobrain/yale_metastases/00284/00284_metastasis_60_1_t1n.nii.gz_cutout.png\n",
      "[0. 1. 2. 3.]\n",
      "[0. 1. 2.]\n",
      "Saved largest slice for metastasis (slice 60) with area 390 to /Users/LennartPhilipp/Desktop/Uni/Prowiss/CIA metstobrain/yale_metastases/00284/00284_metastasis_60_1_t2w.nii.gz_cutout.png\n",
      "[0. 1. 2. 3.]\n",
      "[0. 1. 2.]\n"
     ]
    },
    {
     "name": "stderr",
     "output_type": "stream",
     "text": [
      "  1%|          | 2/200 [00:03<06:13,  1.89s/it]"
     ]
    },
    {
     "name": "stdout",
     "output_type": "stream",
     "text": [
      "Saved largest slice for metastasis (slice 60) with area 390 to /Users/LennartPhilipp/Desktop/Uni/Prowiss/CIA metstobrain/yale_metastases/00284/00284_metastasis_60_1_t1c.nii.gz_cutout.png\n",
      "done with patient BraTS-MET-00284-000\n",
      "currently working on 00290\n",
      "[0. 1. 2. 3.]\n",
      "[0. 1. 2.]\n",
      "Saved largest slice for metastasis (slice 71) with area 715 to /Users/LennartPhilipp/Desktop/Uni/Prowiss/CIA metstobrain/yale_metastases/00290/00290_metastasis_71_1_t1n.nii.gz_cutout.png\n",
      "[0. 1. 2. 3.]\n",
      "[0. 1. 2.]\n",
      "Saved largest slice for metastasis (slice 71) with area 715 to /Users/LennartPhilipp/Desktop/Uni/Prowiss/CIA metstobrain/yale_metastases/00290/00290_metastasis_71_1_t2f.nii.gz_cutout.png\n",
      "[0. 1. 2. 3.]\n",
      "[0. 1. 2.]\n",
      "Saved largest slice for metastasis (slice 71) with area 715 to /Users/LennartPhilipp/Desktop/Uni/Prowiss/CIA metstobrain/yale_metastases/00290/00290_metastasis_71_1_t2w.nii.gz_cutout.png\n",
      "[0. 1. 2. 3.]\n",
      "[0. 1. 2.]\n"
     ]
    },
    {
     "name": "stderr",
     "output_type": "stream",
     "text": [
      "  2%|▏         | 3/200 [00:05<05:28,  1.67s/it]"
     ]
    },
    {
     "name": "stdout",
     "output_type": "stream",
     "text": [
      "Saved largest slice for metastasis (slice 71) with area 715 to /Users/LennartPhilipp/Desktop/Uni/Prowiss/CIA metstobrain/yale_metastases/00290/00290_metastasis_71_1_t1c.nii.gz_cutout.png\n",
      "done with patient BraTS-MET-00290-000\n",
      "currently working on 00247\n",
      "[0. 1. 2. 3.]\n",
      "[0. 1. 2.]\n",
      "Saved largest slice for metastasis (slice 31) with area 79 to /Users/LennartPhilipp/Desktop/Uni/Prowiss/CIA metstobrain/yale_metastases/00247/00247_metastasis_31_1_t1c.nii.gz_cutout.png\n",
      "[0. 1. 2. 3.]\n",
      "[0. 1. 2.]\n",
      "Saved largest slice for metastasis (slice 31) with area 79 to /Users/LennartPhilipp/Desktop/Uni/Prowiss/CIA metstobrain/yale_metastases/00247/00247_metastasis_31_1_t2w.nii.gz_cutout.png\n",
      "[0. 1. 2. 3.]\n",
      "[0. 1. 2.]\n",
      "Saved largest slice for metastasis (slice 31) with area 79 to /Users/LennartPhilipp/Desktop/Uni/Prowiss/CIA metstobrain/yale_metastases/00247/00247_metastasis_31_1_t1n.nii.gz_cutout.png\n",
      "[0. 1. 2. 3.]\n",
      "[0. 1. 2.]\n"
     ]
    },
    {
     "name": "stderr",
     "output_type": "stream",
     "text": [
      "  2%|▏         | 4/200 [00:06<05:03,  1.55s/it]"
     ]
    },
    {
     "name": "stdout",
     "output_type": "stream",
     "text": [
      "Saved largest slice for metastasis (slice 31) with area 79 to /Users/LennartPhilipp/Desktop/Uni/Prowiss/CIA metstobrain/yale_metastases/00247/00247_metastasis_31_1_t2f.nii.gz_cutout.png\n",
      "done with patient BraTS-MET-00247-000\n",
      "currently working on 00253\n",
      "[0. 1. 2. 3.]\n",
      "[0. 1. 2.]\n",
      "Saved largest slice for metastasis (slice 63) with area 76 to /Users/LennartPhilipp/Desktop/Uni/Prowiss/CIA metstobrain/yale_metastases/00253/00253_metastasis_63_1_t1c.nii.gz_cutout.png\n",
      "Saved largest slice for metastasis (slice 103) with area 117 to /Users/LennartPhilipp/Desktop/Uni/Prowiss/CIA metstobrain/yale_metastases/00253/00253_metastasis_103_2_t1c.nii.gz_cutout.png\n",
      "Saved largest slice for metastasis (slice 73) with area 366 to /Users/LennartPhilipp/Desktop/Uni/Prowiss/CIA metstobrain/yale_metastases/00253/00253_metastasis_73_3_t1c.nii.gz_cutout.png\n",
      "Saved largest slice for metastasis (slice 116) with area 53 to /Users/LennartPhilipp/Desktop/Uni/Prowiss/CIA metstobrain/yale_metastases/00253/00253_metastasis_116_4_t1c.nii.gz_cutout.png\n",
      "[0. 1. 2. 3.]\n",
      "[0. 1. 2.]\n",
      "Saved largest slice for metastasis (slice 63) with area 76 to /Users/LennartPhilipp/Desktop/Uni/Prowiss/CIA metstobrain/yale_metastases/00253/00253_metastasis_63_1_t2w.nii.gz_cutout.png\n",
      "Saved largest slice for metastasis (slice 103) with area 117 to /Users/LennartPhilipp/Desktop/Uni/Prowiss/CIA metstobrain/yale_metastases/00253/00253_metastasis_103_2_t2w.nii.gz_cutout.png\n",
      "Saved largest slice for metastasis (slice 73) with area 366 to /Users/LennartPhilipp/Desktop/Uni/Prowiss/CIA metstobrain/yale_metastases/00253/00253_metastasis_73_3_t2w.nii.gz_cutout.png\n",
      "Saved largest slice for metastasis (slice 116) with area 53 to /Users/LennartPhilipp/Desktop/Uni/Prowiss/CIA metstobrain/yale_metastases/00253/00253_metastasis_116_4_t2w.nii.gz_cutout.png\n",
      "[0. 1. 2. 3.]\n",
      "[0. 1. 2.]\n",
      "Saved largest slice for metastasis (slice 63) with area 76 to /Users/LennartPhilipp/Desktop/Uni/Prowiss/CIA metstobrain/yale_metastases/00253/00253_metastasis_63_1_t2f.nii.gz_cutout.png\n",
      "Saved largest slice for metastasis (slice 103) with area 117 to /Users/LennartPhilipp/Desktop/Uni/Prowiss/CIA metstobrain/yale_metastases/00253/00253_metastasis_103_2_t2f.nii.gz_cutout.png\n",
      "Saved largest slice for metastasis (slice 73) with area 366 to /Users/LennartPhilipp/Desktop/Uni/Prowiss/CIA metstobrain/yale_metastases/00253/00253_metastasis_73_3_t2f.nii.gz_cutout.png\n",
      "Saved largest slice for metastasis (slice 116) with area 53 to /Users/LennartPhilipp/Desktop/Uni/Prowiss/CIA metstobrain/yale_metastases/00253/00253_metastasis_116_4_t2f.nii.gz_cutout.png\n",
      "[0. 1. 2. 3.]\n",
      "[0. 1. 2.]\n",
      "Saved largest slice for metastasis (slice 63) with area 76 to /Users/LennartPhilipp/Desktop/Uni/Prowiss/CIA metstobrain/yale_metastases/00253/00253_metastasis_63_1_t1n.nii.gz_cutout.png\n",
      "Saved largest slice for metastasis (slice 103) with area 117 to /Users/LennartPhilipp/Desktop/Uni/Prowiss/CIA metstobrain/yale_metastases/00253/00253_metastasis_103_2_t1n.nii.gz_cutout.png\n"
     ]
    },
    {
     "name": "stderr",
     "output_type": "stream",
     "text": [
      "  2%|▎         | 5/200 [00:10<06:33,  2.02s/it]"
     ]
    },
    {
     "name": "stdout",
     "output_type": "stream",
     "text": [
      "Saved largest slice for metastasis (slice 73) with area 366 to /Users/LennartPhilipp/Desktop/Uni/Prowiss/CIA metstobrain/yale_metastases/00253/00253_metastasis_73_3_t1n.nii.gz_cutout.png\n",
      "Saved largest slice for metastasis (slice 116) with area 53 to /Users/LennartPhilipp/Desktop/Uni/Prowiss/CIA metstobrain/yale_metastases/00253/00253_metastasis_116_4_t1n.nii.gz_cutout.png\n",
      "done with patient BraTS-MET-00253-000\n"
     ]
    },
    {
     "name": "stderr",
     "output_type": "stream",
     "text": [
      "\n"
     ]
    }
   ],
   "source": [
    "# output: create folder for each patient and save the slices there\n",
    "\n",
    "# input mri folder: path to all patient scans, including segmentations\n",
    "# go to each patient and get all 4 mri scans as well as segmentation\n",
    "\n",
    "path_to_output = Path(\"/Users/LennartPhilipp/Desktop/Uni/Prowiss/CIA metstobrain/yale_metastases\")\n",
    "path_to_yale_patients_raw = Path(\"/Users/LennartPhilipp/Desktop/Uni/Prowiss/CIA metstobrain/Pretreat-MetsToBrain-Masks\")\n",
    "path_to_yale_patients_processed = Path(\"/Users/LennartPhilipp/Desktop/Uni/Prowiss/CIA metstobrain/yale_dataset_normalized\")\n",
    "\n",
    "yale_patients = [patient for patient in os.listdir(path_to_yale_patients_raw) if os.path.isdir(os.path.join(path_to_yale_patients_raw, patient))]\n",
    "\n",
    "counter = 0\n",
    "\n",
    "for patient in tqdm(yale_patients):\n",
    "\n",
    "    if counter >= 5:\n",
    "        break\n",
    "\n",
    "    # go through each patient\n",
    "\n",
    "    pat_id = patient.split(\"-\")[2]\n",
    "    \n",
    "    print(f\"currently working on {pat_id}\")\n",
    "\n",
    "    # create new folder for output for patient\n",
    "    path_to_patient_output = Path(path_to_output) / Path(pat_id)\n",
    "    os.makedirs(path_to_patient_output, exist_ok=True)\n",
    "\n",
    "    # IMPORTANT!!!!!\n",
    "    # adjust path for final run\n",
    "    path_to_raw_patient_files = Path(path_to_yale_patients_raw) / Path(patient)\n",
    "    segmentation_file = [file for file in os.listdir(path_to_raw_patient_files) if \"seg\" in file][0]\n",
    "    path_to_segmentation = Path(path_to_raw_patient_files) / Path(segmentation_file)\n",
    "\n",
    "    path_to_mri_images = Path(path_to_yale_patients_processed) / Path(patient)\n",
    "    mri_images = [file for file in os.listdir(path_to_mri_images) if \"normalized\" in file]\n",
    "\n",
    "    if len(mri_images) != 4:\n",
    "        print(\"********************************\")\n",
    "        print(f\"patient {patient} not complete\")\n",
    "        continue\n",
    "\n",
    "    for mri_image in mri_images:\n",
    "        # go through each mri image for the patient\n",
    "\n",
    "        mri_sequence = mri_image.split(\"-\")[4].split(\".\")[0]\n",
    "\n",
    "        path_to_mri = Path(path_to_mri_images) / Path(mri_image)\n",
    "        process_nifty_mask(\n",
    "            mask_path = path_to_segmentation,\n",
    "            mri_path = path_to_mri,\n",
    "            output_dir = path_to_patient_output,\n",
    "            patient_id = pat_id,\n",
    "            mri_sequence = mri_sequence,\n",
    "            save_mask_image = True,\n",
    "            save_cut_out = True,\n",
    "            dataset = \"yale\"\n",
    "        )\n",
    "        #process_nifty_mask(path_to_segmentation, path_to_mri, path_to_patient_output, patient_id = pat_id, mri_sequence)\n",
    "    \n",
    "    counter += 1\n",
    "\n",
    "    print(f\"done with patient {patient}\")\n",
    "    "
   ]
  }
 ],
 "metadata": {
  "kernelspec": {
   "display_name": "brain_mets_env",
   "language": "python",
   "name": "python3"
  },
  "language_info": {
   "codemirror_mode": {
    "name": "ipython",
    "version": 3
   },
   "file_extension": ".py",
   "mimetype": "text/x-python",
   "name": "python",
   "nbconvert_exporter": "python",
   "pygments_lexer": "ipython3",
   "version": "3.11.0"
  }
 },
 "nbformat": 4,
 "nbformat_minor": 2
}
