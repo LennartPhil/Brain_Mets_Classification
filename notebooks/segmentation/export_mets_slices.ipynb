{
 "cells": [
  {
   "cell_type": "markdown",
   "metadata": {},
   "source": [
    "# Export slices containing metastases"
   ]
  },
  {
   "cell_type": "markdown",
   "metadata": {},
   "source": [
    "This notebook goes through each step to export images of the metastases based on the segmentation"
   ]
  },
  {
   "cell_type": "code",
   "execution_count": 1,
   "metadata": {},
   "outputs": [],
   "source": [
    "# import libraries\n",
    "\n",
    "import os\n",
    "import nibabel as nib\n",
    "import numpy as np\n",
    "import matplotlib.pyplot as plt\n",
    "from skimage.measure import label, regionprops\n",
    "from pathlib import Path\n",
    "from tqdm import tqdm\n",
    "import pandas as pd\n",
    "\n",
    "import imageio as iio\n",
    "from PIL import Image"
   ]
  },
  {
   "cell_type": "code",
   "execution_count": 1,
   "metadata": {},
   "outputs": [],
   "source": [
    "def save_slice_as_image(slice_data, output_path):\n",
    "    # print(slice_data.shape)\n",
    "    # print(np.mean(slice_data))\n",
    "    # cv2.imwrite(output_path, slice_data)\n",
    "    # plt.imsave(output_path, slice_data, cmap='gray')\n",
    "    # plt.close()\n",
    "    data = (slice_data * 255).astype(np.uint8)\n",
    "    image = Image.fromarray(data)\n",
    "    image.save(output_path)\n",
    "\n",
    "# turn images 90 degress\n",
    "def turn_image_90(image):\n",
    "    return np.rot90(image, 3)\n",
    "\n",
    "# mirror images\n",
    "def mirror_image(image):\n",
    "    return np.fliplr(image)\n",
    "\n",
    "def process_nifty_mask(mask_path, mri_path, output_dir, patient_id=None, mri_sequence=None, save_mask_image = False, save_cut_out = False, area_threshold = 0, dataset = \"regensburg\"):\n",
    "\n",
    "    # Load the NIFTI mask file\n",
    "    img = nib.load(mask_path)\n",
    "    mask_data = img.get_fdata()\n",
    "\n",
    "    mri_data = nib.load(mri_path).get_fdata()\n",
    "\n",
    "    unique_labels = np.unique(mask_data)\n",
    "    #print(unique_labels)\n",
    "\n",
    "    match dataset:\n",
    "        case \"regensburg\":\n",
    "            target_label = 1\n",
    "        case \"yale\":\n",
    "            # according to the paper\n",
    "            # 1: tumor necrosis\n",
    "            # 2: edema\n",
    "            # 3: enhancement within metastasis\n",
    "\n",
    "            if len(unique_labels) > 3:\n",
    "                if 1 in unique_labels and 3 in unique_labels:\n",
    "                    mask_data = np.where(mask_data == 3, 1, mask_data)\n",
    "                target_label = 1 #3 #1\n",
    "            else:\n",
    "                target_label = 3\n",
    "        case _:\n",
    "            raise ValueError(\"Invalid dataset specified.\")    \n",
    "\n",
    "    new_unique_labels = np.unique(mask_data)\n",
    "    #print(new_unique_labels)\n",
    "\n",
    "    # Ensure the mask data is 3D\n",
    "    if mask_data.ndim != 3:\n",
    "        raise ValueError(\"The NIFTI mask data is not 3D.\")\n",
    "\n",
    "    # Find all connected components (metastases) with the target label in 3D\n",
    "    labeled_mask = label(mask_data == target_label, connectivity=3)  # 3D connectivity\n",
    "    regions = regionprops(labeled_mask)\n",
    "\n",
    "    if not regions:\n",
    "        print(f\"No regions found for target_label {target_label} in {mask_path.name} for patient {patient_id}, seq {mri_sequence}\")\n",
    "        return\n",
    "    \n",
    "    largest_slices = {}\n",
    "\n",
    "    # Iterate through each region (metastasis)\n",
    "    for region in regions:\n",
    "        # Find the slice with the largest area within this region\n",
    "        coords = region.coords\n",
    "        slice_areas = {}\n",
    "        for coord in coords:\n",
    "            slice_idx = coord[2]  # Use the correct axis for slice indexing\n",
    "            if slice_idx not in slice_areas:\n",
    "                slice_areas[slice_idx] = 0\n",
    "            slice_areas[slice_idx] += 1\n",
    "\n",
    "        # Identify the slice index with the largest area for this metastasis\n",
    "        largest_slice_idx = max(slice_areas, key=slice_areas.get)\n",
    "        largest_area = slice_areas[largest_slice_idx]\n",
    "\n",
    "        # Store information about the largest slice for each region\n",
    "        slice_data = mask_data[:, :, largest_slice_idx]\n",
    "        largest_slices[region.label] = (largest_area, slice_data, largest_slice_idx, region.label, coords)\n",
    "\n",
    "    if len(largest_slices) == 0:\n",
    "        print(f\"No metastases found in {mri_path}\")\n",
    "        return\n",
    "    \n",
    "    # Save the largest slices as image files\n",
    "    for label_idx, (area, slice_data, slice_idx, region_label, coords) in largest_slices.items():\n",
    "        if area > area_threshold:\n",
    "            full_slice_data = mri_data[:, :, slice_idx]\n",
    "            mask_slice_data = np.zeros_like(slice_data)\n",
    "\n",
    "            for coord in coords:\n",
    "                if coord[2] == slice_idx:\n",
    "                    mask_slice_data[coord[0], coord[1]] = target_label\n",
    "\n",
    "            # Create the output path\n",
    "            output_path = os.path.join(output_dir, f'{patient_id}_metastasis_{slice_idx}_{region_label}_{mri_sequence}.png')            \n",
    "            save_slice_as_image(mirror_image(turn_image_90(full_slice_data)), output_path)\n",
    "\n",
    "            if save_mask_image:\n",
    "                mask_output_path = os.path.join(output_dir, f'{patient_id}_metastasis_{slice_idx}_{region_label}_{mri_sequence}_mask.png')\n",
    "\n",
    "                # Create a new array with only the pixels of the target label\n",
    "                mask_slice_data = np.zeros_like(mask_data)\n",
    "                mask_slice_data[mask_data == target_label] = target_label\n",
    "                mask_slice_data = mask_slice_data[:, :, slice_idx]\n",
    "\n",
    "                save_slice_as_image(mirror_image(turn_image_90(mask_slice_data)), mask_output_path)\n",
    "            \n",
    "\n",
    "            if save_cut_out:\n",
    "\n",
    "                for region in regions:\n",
    "                    single_metastasis_mask = np.zeros_like(mask_data[:, :, slice_idx])\n",
    "                    for coord in coords:\n",
    "                        if coord[2] == slice_idx:\n",
    "                            single_metastasis_mask[coord[0], coord[1]] = target_label\n",
    "                    \n",
    "                    masked_mri_slice = full_slice_data * (single_metastasis_mask == target_label)\n",
    "\n",
    "                    # Create the output path\n",
    "                    output_path = os.path.join(output_dir, f'{patient_id}_metastasis_{slice_idx}_{region_label}_{mri_sequence}_cutout.png')\n",
    "                    save_slice_as_image(mirror_image(turn_image_90(masked_mri_slice)), output_path)\n",
    "\n",
    "            #print(f\"Saved largest slice for metastasis (slice {slice_idx}) with area {area} to {output_path}\")\n",
    "        else:\n",
    "            print(f\"Metastasis (slice {slice_idx}) with area {area} is smaller than threshold {area_threshold}, skipping...\")"
   ]
  },
  {
   "cell_type": "code",
   "execution_count": null,
   "metadata": {},
   "outputs": [],
   "source": [
    "# Example usage\n",
    "#mask_file_path = '/Users/LennartPhilipp/Desktop/testing_data/derivatives/segmented_AURORA_20240424-122816/sub-01009590/metastasis_unbinarized_floats.nii.gz'\n",
    "#mri_path = \"/Users/LennartPhilipp/Desktop/testing_data/derivatives/preprocessed_brainlesion_20240424-110551/sub-01009590/preprocessed/sub-01009590_fla_bet_normalized.nii.gz\"\n",
    "mask_file_path = \"/Users/LennartPhilipp/Desktop/Uni/Prowiss/CIA metstobrain/Pretreat-MetsToBrain-Masks/BraTS-MET-00100-000/BraTS-MET-00100-000-seg.nii.gz\"\n",
    "mri_path = \"/Users/LennartPhilipp/Desktop/Uni/Prowiss/CIA metstobrain/yale_dataset_normalized/BraTS-MET-00100-000/n4_normalized_BraTS-MET-00100-000-t1c.nii.gz\"\n",
    "output_directory = '/Users/LennartPhilipp/Desktop/testing_data/derivatives/met_slices'\n",
    "#os.makedirs(output_directory, exist_ok=True)\n",
    "#process_nifty_mask(mask_file_path, mri_path, output_directory, save_mask_image=True, save_cut_out=True)"
   ]
  },
  {
   "cell_type": "markdown",
   "metadata": {},
   "source": [
    "## create skript to go through all patients"
   ]
  },
  {
   "cell_type": "markdown",
   "metadata": {},
   "source": [
    "### Regensburg Dataset"
   ]
  },
  {
   "cell_type": "markdown",
   "metadata": {},
   "source": [
    "old code"
   ]
  },
  {
   "cell_type": "code",
   "execution_count": null,
   "metadata": {},
   "outputs": [],
   "source": [
    "# output: create folder for each patient and save the slices there\n",
    "\n",
    "# input mri folder: path to all preprocessed patients\n",
    "# go to each patient and get all 4 mri scans\n",
    "# input segmentation folder: path to all segmented patients\n",
    "# go to each patient and get metastatis_unbinarized_floats.nii.gz\n",
    "\n",
    "path_to_output = Path(\"/Users/LennartPhilipp/Desktop/testing_data/derivatives/met_slices\")\n",
    "path_to_mri_patients = Path(\"/Users/LennartPhilipp/Desktop/testing_data/derivatives/preprocessed_brainlesion_20240424-110551\")\n",
    "path_to_segmentation_patients = Path(\"/Users/LennartPhilipp/Desktop/testing_data/derivatives/segmented_AURORA_20240424-122816\")\n",
    "\n",
    "segmentation_patients = [patient for patient in os.listdir(path_to_segmentation_patients) if os.path.isdir(os.path.join(path_to_segmentation_patients, patient))]\n",
    "\n",
    "for patient in tqdm(segmentation_patients):\n",
    "    # go through each patient\n",
    "    \n",
    "    print(f\"currently working on {patient}\")\n",
    "\n",
    "    # create new folder for output for patient\n",
    "    path_to_patient_output = Path(path_to_output) / Path(patient)\n",
    "    os.makedirs(path_to_patient_output, exist_ok=True)\n",
    "\n",
    "    # IMPORTANT!!!!!\n",
    "    # adjust path for final run\n",
    "    path_to_segmentation = Path(path_to_segmentation_patients) / Path(patient) / \"metastasis_unbinarized_floats.nii.gz\"\n",
    "\n",
    "    path_to_mri_images = Path(path_to_mri_patients) / Path(patient) / \"preprocessed\"\n",
    "    mri_images = [file for file in os.listdir(path_to_mri_images) if \".nii.gz\" in file]\n",
    "\n",
    "    for mri_image in mri_images:\n",
    "        # go through each mri image for the patient\n",
    "\n",
    "        mri_sequence = mri_image.split(\"_\")[1]\n",
    "\n",
    "        path_to_mri = Path(path_to_mri_images) / Path(mri_image)\n",
    "        process_nifty_mask(path_to_segmentation, path_to_mri, path_to_patient_output, patient, mri_sequence)\n",
    "    \n",
    "    print(f\"done with patient {patient}\")\n",
    "    "
   ]
  },
  {
   "cell_type": "markdown",
   "metadata": {},
   "source": [
    "working with actual segmented files"
   ]
  },
  {
   "cell_type": "markdown",
   "metadata": {},
   "source": [
    "### IMPORTANT\n",
    "some patients got processed multiple times, what was up with that?!"
   ]
  },
  {
   "cell_type": "code",
   "execution_count": null,
   "metadata": {},
   "outputs": [],
   "source": [
    "# output: create folder for each patient and save the slices there\n",
    "\n",
    "# input mri folder: path to all preprocessed patients\n",
    "# go to each patient and get all 4 mri scans\n",
    "# input segmentation folder: path to all segmented patients\n",
    "# go to each patient and get metastatis_unbinarized_floats.nii.gz\n",
    "\n",
    "path_to_output = Path(\"/Users/LennartPhilipp/Desktop/Uni/Prowiss/Datensatz_RGB/regensburg_slices\")\n",
    "path_to_mri_patients = Path(\"/Users/LennartPhilipp/Desktop/Uni/Prowiss/Datensatz_RGB/preprocessed_n4_brainlesion_percentile_20240612-083743\")\n",
    "path_to_segmentation_patients = Path(\"/Users/LennartPhilipp/Desktop/Uni/Prowiss/Datensatz_RGB/Segs_Lennart_Export\")\n",
    "\n",
    "path_to_tsv = Path(\"/Users/LennartPhilipp/Desktop/Uni/Prowiss/Dateien/participants_01_08_24.tsv\")\n",
    "\n",
    "segmentation_patients = [patient for patient in os.listdir(path_to_segmentation_patients) if \"labels\" in patient]\n",
    "\n",
    "pats_to_preprocess = pd.read_csv(path_to_tsv, sep=\"\\t\")[\"participant_id\"].tolist()\n",
    "\n",
    "already_processed_patients = [patient for patient in os.listdir(path_to_output) if os.path.isdir(os.path.join(path_to_output, patient))]\n",
    "\n",
    "counter = 0\n",
    "\n",
    "for patient in tqdm(segmentation_patients):\n",
    "    # go through each patient\n",
    "\n",
    "    # if counter >= 1:\n",
    "    #     break\n",
    "    \n",
    "    # get patient ID\n",
    "    patientID = patient.split(\"_\")[0]\n",
    "\n",
    "    # check if patient ID is in list of patients to preprocess\n",
    "    if patientID not in pats_to_preprocess:\n",
    "        continue\n",
    "\n",
    "    if patientID in already_processed_patients:\n",
    "        print(f\"patient {patientID} already processed\")\n",
    "        continue\n",
    "\n",
    "    print(f\"currently working on {patientID}\")\n",
    "\n",
    "    # create new folder for output for patient\n",
    "    path_to_patient_output = Path(path_to_output) / Path(patientID)\n",
    "    os.makedirs(path_to_patient_output, exist_ok=True)\n",
    "\n",
    "    # IMPORTANT!!!!!\n",
    "    # adjust path for final run\n",
    "    path_to_segmentation = Path(path_to_segmentation_patients) / Path(patient)\n",
    "\n",
    "    path_to_mri_images = Path(path_to_mri_patients) / Path(patientID) / \"perc_normalized\"\n",
    "    mri_images = [file for file in os.listdir(path_to_mri_images) if \".nii.gz\" in file]\n",
    "\n",
    "    if mri_images == []:\n",
    "        print(\"********************************\")\n",
    "        print(f\"patient {patientID} not complete\")\n",
    "        continue\n",
    "\n",
    "    for mri_image in mri_images:\n",
    "        # go through each mri image for the patient\n",
    "\n",
    "        mri_sequence = mri_image.split(\"_\")[1]\n",
    "\n",
    "        path_to_mri = Path(path_to_mri_images) / Path(mri_image)\n",
    "        process_nifty_mask(path_to_segmentation, path_to_mri, path_to_patient_output, patientID, mri_sequence,\n",
    "                           save_mask_image = True,\n",
    "                           save_cut_out = True,\n",
    "                           area_threshold = 10)\n",
    "    \n",
    "    print(f\"done with patient {patientID}\")\n",
    "\n",
    "    counter += 1\n",
    "\n",
    "print(counter)\n",
    "    "
   ]
  },
  {
   "cell_type": "code",
   "execution_count": 23,
   "metadata": {},
   "outputs": [
    {
     "name": "stdout",
     "output_type": "stream",
     "text": [
      "(240, 240)\n"
     ]
    }
   ],
   "source": [
    "path_to_image = Path(\"/Users/LennartPhilipp/Desktop/Uni/Prowiss/Datensatz_RGB/regensburg_test_slices/sub-01134825/sub-01134825_metastasis_105_1_t1.png\")\n",
    "\n",
    "test_image = iio.v3.imread(path_to_image)\n",
    "print(test_image.shape)"
   ]
  },
  {
   "cell_type": "markdown",
   "metadata": {},
   "source": [
    "### Yale Dataset"
   ]
  },
  {
   "cell_type": "code",
   "execution_count": 3,
   "metadata": {},
   "outputs": [],
   "source": [
    "path_to_yale_patients_raw = Path(\"/Users/LennartPhilipp/Desktop/Uni/Prowiss/CIA metstobrain/Pretreat-MetsToBrain-Masks\")\n",
    "path_to_yale_patients_processed = Path(\"/Users/LennartPhilipp/Desktop/Uni/Prowiss/CIA metstobrain/yale_dataset_normalized\")\n",
    "path_to_output = Path(\"/Users/LennartPhilipp/Desktop/Uni/Prowiss/CIA metstobrain/yale_metastases\")"
   ]
  },
  {
   "cell_type": "code",
   "execution_count": 4,
   "metadata": {},
   "outputs": [
    {
     "name": "stderr",
     "output_type": "stream",
     "text": [
      "Processing Yale Patients:   0%|          | 0/200 [00:00<?, ?it/s]"
     ]
    },
    {
     "name": "stdout",
     "output_type": "stream",
     "text": [
      "currently working on patient ID: 00086 (from folder. BraTS-MET-00086-000)\n"
     ]
    },
    {
     "name": "stderr",
     "output_type": "stream",
     "text": [
      "Processing Yale Patients:   0%|          | 1/200 [00:01<04:31,  1.36s/it]"
     ]
    },
    {
     "name": "stdout",
     "output_type": "stream",
     "text": [
      "done with patient BraTS-MET-00086-000\n",
      "currently working on patient ID: 00284 (from folder. BraTS-MET-00284-000)\n"
     ]
    },
    {
     "name": "stderr",
     "output_type": "stream",
     "text": [
      "Processing Yale Patients:   1%|          | 2/200 [00:02<04:06,  1.24s/it]"
     ]
    },
    {
     "name": "stdout",
     "output_type": "stream",
     "text": [
      "done with patient BraTS-MET-00284-000\n",
      "currently working on patient ID: 00290 (from folder. BraTS-MET-00290-000)\n"
     ]
    },
    {
     "name": "stderr",
     "output_type": "stream",
     "text": [
      "Processing Yale Patients:   2%|▏         | 3/200 [00:03<03:51,  1.18s/it]"
     ]
    },
    {
     "name": "stdout",
     "output_type": "stream",
     "text": [
      "done with patient BraTS-MET-00290-000\n",
      "currently working on patient ID: 00247 (from folder. BraTS-MET-00247-000)\n"
     ]
    },
    {
     "name": "stderr",
     "output_type": "stream",
     "text": [
      "Processing Yale Patients:   2%|▏         | 4/200 [00:04<03:47,  1.16s/it]"
     ]
    },
    {
     "name": "stdout",
     "output_type": "stream",
     "text": [
      "done with patient BraTS-MET-00247-000\n",
      "currently working on patient ID: 00253 (from folder. BraTS-MET-00253-000)\n"
     ]
    },
    {
     "name": "stderr",
     "output_type": "stream",
     "text": [
      "Processing Yale Patients:   2%|▎         | 5/200 [00:05<03:52,  1.19s/it]"
     ]
    },
    {
     "name": "stdout",
     "output_type": "stream",
     "text": [
      "done with patient BraTS-MET-00253-000\n",
      "currently working on patient ID: 00119 (from folder. BraTS-MET-00119-000)\n"
     ]
    },
    {
     "name": "stderr",
     "output_type": "stream",
     "text": [
      "Processing Yale Patients:   3%|▎         | 6/200 [00:07<03:46,  1.17s/it]"
     ]
    },
    {
     "name": "stdout",
     "output_type": "stream",
     "text": [
      "done with patient BraTS-MET-00119-000\n",
      "currently working on patient ID: 00131 (from folder. BraTS-MET-00131-000)\n"
     ]
    },
    {
     "name": "stderr",
     "output_type": "stream",
     "text": [
      "Processing Yale Patients:   4%|▎         | 7/200 [00:08<03:43,  1.16s/it]"
     ]
    },
    {
     "name": "stdout",
     "output_type": "stream",
     "text": [
      "done with patient BraTS-MET-00131-000\n",
      "currently working on patient ID: 00125 (from folder. BraTS-MET-00125-000)\n"
     ]
    },
    {
     "name": "stderr",
     "output_type": "stream",
     "text": [
      "Processing Yale Patients:   4%|▍         | 8/200 [00:09<03:44,  1.17s/it]"
     ]
    },
    {
     "name": "stdout",
     "output_type": "stream",
     "text": [
      "done with patient BraTS-MET-00125-000\n",
      "currently working on patient ID: 00124 (from folder. BraTS-MET-00124-000)\n"
     ]
    },
    {
     "name": "stderr",
     "output_type": "stream",
     "text": [
      "Processing Yale Patients:   4%|▍         | 9/200 [00:11<04:27,  1.40s/it]"
     ]
    },
    {
     "name": "stdout",
     "output_type": "stream",
     "text": [
      "done with patient BraTS-MET-00124-000\n",
      "currently working on patient ID: 00130 (from folder. BraTS-MET-00130-000)\n"
     ]
    },
    {
     "name": "stderr",
     "output_type": "stream",
     "text": [
      "Processing Yale Patients:   5%|▌         | 10/200 [00:12<04:10,  1.32s/it]"
     ]
    },
    {
     "name": "stdout",
     "output_type": "stream",
     "text": [
      "done with patient BraTS-MET-00130-000\n",
      "currently working on patient ID: 00118 (from folder. BraTS-MET-00118-000)\n"
     ]
    },
    {
     "name": "stderr",
     "output_type": "stream",
     "text": [
      "Processing Yale Patients:   6%|▌         | 11/200 [00:13<03:57,  1.25s/it]"
     ]
    },
    {
     "name": "stdout",
     "output_type": "stream",
     "text": [
      "done with patient BraTS-MET-00118-000\n",
      "currently working on patient ID: 00252 (from folder. BraTS-MET-00252-000)\n"
     ]
    },
    {
     "name": "stderr",
     "output_type": "stream",
     "text": [
      "Processing Yale Patients:   6%|▌         | 12/200 [00:14<03:54,  1.25s/it]"
     ]
    },
    {
     "name": "stdout",
     "output_type": "stream",
     "text": [
      "done with patient BraTS-MET-00252-000\n",
      "currently working on patient ID: 00291 (from folder. BraTS-MET-00291-000)\n"
     ]
    },
    {
     "name": "stderr",
     "output_type": "stream",
     "text": [
      "Processing Yale Patients:   6%|▋         | 13/200 [00:16<03:59,  1.28s/it]"
     ]
    },
    {
     "name": "stdout",
     "output_type": "stream",
     "text": [
      "done with patient BraTS-MET-00291-000\n",
      "currently working on patient ID: 00285 (from folder. BraTS-MET-00285-000)\n"
     ]
    },
    {
     "name": "stderr",
     "output_type": "stream",
     "text": [
      "Processing Yale Patients:   7%|▋         | 14/200 [00:17<03:45,  1.21s/it]"
     ]
    },
    {
     "name": "stdout",
     "output_type": "stream",
     "text": [
      "done with patient BraTS-MET-00285-000\n",
      "currently working on patient ID: 00293 (from folder. BraTS-MET-00293-000)\n"
     ]
    },
    {
     "name": "stderr",
     "output_type": "stream",
     "text": [
      "Processing Yale Patients:   8%|▊         | 15/200 [00:18<03:44,  1.21s/it]"
     ]
    },
    {
     "name": "stdout",
     "output_type": "stream",
     "text": [
      "done with patient BraTS-MET-00293-000\n",
      "currently working on patient ID: 00278 (from folder. BraTS-MET-00278-000)\n"
     ]
    },
    {
     "name": "stderr",
     "output_type": "stream",
     "text": [
      "Processing Yale Patients:   8%|▊         | 16/200 [00:19<03:44,  1.22s/it]"
     ]
    },
    {
     "name": "stdout",
     "output_type": "stream",
     "text": [
      "done with patient BraTS-MET-00278-000\n",
      "currently working on patient ID: 00250 (from folder. BraTS-MET-00250-000)\n"
     ]
    },
    {
     "name": "stderr",
     "output_type": "stream",
     "text": [
      "Processing Yale Patients:   8%|▊         | 17/200 [00:21<04:03,  1.33s/it]"
     ]
    },
    {
     "name": "stdout",
     "output_type": "stream",
     "text": [
      "done with patient BraTS-MET-00250-000\n",
      "currently working on patient ID: 00244 (from folder. BraTS-MET-00244-000)\n"
     ]
    },
    {
     "name": "stderr",
     "output_type": "stream",
     "text": [
      "Processing Yale Patients:   9%|▉         | 18/200 [00:22<03:52,  1.27s/it]"
     ]
    },
    {
     "name": "stdout",
     "output_type": "stream",
     "text": [
      "done with patient BraTS-MET-00244-000\n",
      "currently working on patient ID: 00126 (from folder. BraTS-MET-00126-000)\n"
     ]
    },
    {
     "name": "stderr",
     "output_type": "stream",
     "text": [
      "Processing Yale Patients:  10%|▉         | 19/200 [00:23<03:40,  1.22s/it]"
     ]
    },
    {
     "name": "stdout",
     "output_type": "stream",
     "text": [
      "done with patient BraTS-MET-00126-000\n",
      "currently working on patient ID: 00132 (from folder. BraTS-MET-00132-000)\n"
     ]
    },
    {
     "name": "stderr",
     "output_type": "stream",
     "text": [
      "Processing Yale Patients:  10%|█         | 20/200 [00:24<03:46,  1.26s/it]"
     ]
    },
    {
     "name": "stdout",
     "output_type": "stream",
     "text": [
      "done with patient BraTS-MET-00132-000\n",
      "currently working on patient ID: 00133 (from folder. BraTS-MET-00133-000)\n"
     ]
    },
    {
     "name": "stderr",
     "output_type": "stream",
     "text": [
      "Processing Yale Patients:  10%|█         | 21/200 [00:26<04:05,  1.37s/it]"
     ]
    },
    {
     "name": "stdout",
     "output_type": "stream",
     "text": [
      "done with patient BraTS-MET-00133-000\n",
      "currently working on patient ID: 00127 (from folder. BraTS-MET-00127-000)\n"
     ]
    },
    {
     "name": "stderr",
     "output_type": "stream",
     "text": [
      "Processing Yale Patients:  11%|█         | 22/200 [00:41<15:51,  5.34s/it]"
     ]
    },
    {
     "name": "stdout",
     "output_type": "stream",
     "text": [
      "done with patient BraTS-MET-00127-000\n",
      "currently working on patient ID: 00245 (from folder. BraTS-MET-00245-000)\n"
     ]
    },
    {
     "name": "stderr",
     "output_type": "stream",
     "text": [
      "Processing Yale Patients:  12%|█▏        | 23/200 [00:51<19:57,  6.76s/it]"
     ]
    },
    {
     "name": "stdout",
     "output_type": "stream",
     "text": [
      "done with patient BraTS-MET-00245-000\n",
      "currently working on patient ID: 00251 (from folder. BraTS-MET-00251-000)\n"
     ]
    },
    {
     "name": "stderr",
     "output_type": "stream",
     "text": [
      "Processing Yale Patients:  12%|█▏        | 24/200 [01:02<23:49,  8.12s/it]"
     ]
    },
    {
     "name": "stdout",
     "output_type": "stream",
     "text": [
      "done with patient BraTS-MET-00251-000\n",
      "currently working on patient ID: 00286 (from folder. BraTS-MET-00286-000)\n"
     ]
    },
    {
     "name": "stderr",
     "output_type": "stream",
     "text": [
      "Processing Yale Patients:  12%|█▎        | 25/200 [01:11<24:50,  8.52s/it]"
     ]
    },
    {
     "name": "stdout",
     "output_type": "stream",
     "text": [
      "done with patient BraTS-MET-00286-000\n",
      "currently working on patient ID: 00292 (from folder. BraTS-MET-00292-000)\n"
     ]
    },
    {
     "name": "stderr",
     "output_type": "stream",
     "text": [
      "Processing Yale Patients:  13%|█▎        | 26/200 [01:20<24:21,  8.40s/it]"
     ]
    },
    {
     "name": "stdout",
     "output_type": "stream",
     "text": [
      "done with patient BraTS-MET-00292-000\n",
      "currently working on patient ID: 00090 (from folder. BraTS-MET-00090-000)\n"
     ]
    },
    {
     "name": "stderr",
     "output_type": "stream",
     "text": [
      "Processing Yale Patients:  14%|█▎        | 27/200 [01:28<24:17,  8.42s/it]"
     ]
    },
    {
     "name": "stdout",
     "output_type": "stream",
     "text": [
      "done with patient BraTS-MET-00090-000\n",
      "currently working on patient ID: 00296 (from folder. BraTS-MET-00296-000)\n"
     ]
    },
    {
     "name": "stderr",
     "output_type": "stream",
     "text": [
      "Processing Yale Patients:  14%|█▍        | 28/200 [01:46<32:18, 11.27s/it]"
     ]
    },
    {
     "name": "stdout",
     "output_type": "stream",
     "text": [
      "done with patient BraTS-MET-00296-000\n",
      "currently working on patient ID: 00282 (from folder. BraTS-MET-00282-000)\n"
     ]
    },
    {
     "name": "stderr",
     "output_type": "stream",
     "text": [
      "Processing Yale Patients:  14%|█▍        | 29/200 [01:56<31:30, 11.06s/it]"
     ]
    },
    {
     "name": "stdout",
     "output_type": "stream",
     "text": [
      "done with patient BraTS-MET-00282-000\n",
      "currently working on patient ID: 00255 (from folder. BraTS-MET-00255-000)\n"
     ]
    },
    {
     "name": "stderr",
     "output_type": "stream",
     "text": [
      "Processing Yale Patients:  15%|█▌        | 30/200 [02:10<33:12, 11.72s/it]"
     ]
    },
    {
     "name": "stdout",
     "output_type": "stream",
     "text": [
      "done with patient BraTS-MET-00255-000\n",
      "currently working on patient ID: 00241 (from folder. BraTS-MET-00241-000)\n"
     ]
    },
    {
     "name": "stderr",
     "output_type": "stream",
     "text": [
      "Processing Yale Patients:  16%|█▌        | 31/200 [02:20<31:59, 11.36s/it]"
     ]
    },
    {
     "name": "stdout",
     "output_type": "stream",
     "text": [
      "done with patient BraTS-MET-00241-000\n",
      "currently working on patient ID: 00269 (from folder. BraTS-MET-00269-000)\n"
     ]
    },
    {
     "name": "stderr",
     "output_type": "stream",
     "text": [
      "Processing Yale Patients:  16%|█▌        | 32/200 [02:31<30:57, 11.06s/it]"
     ]
    },
    {
     "name": "stdout",
     "output_type": "stream",
     "text": [
      "done with patient BraTS-MET-00269-000\n",
      "currently working on patient ID: 00309 (from folder. BraTS-MET-00309-000)\n"
     ]
    },
    {
     "name": "stderr",
     "output_type": "stream",
     "text": [
      "Processing Yale Patients:  16%|█▋        | 33/200 [02:39<28:43, 10.32s/it]"
     ]
    },
    {
     "name": "stdout",
     "output_type": "stream",
     "text": [
      "done with patient BraTS-MET-00309-000\n",
      "currently working on patient ID: 00123 (from folder. BraTS-MET-00123-000)\n"
     ]
    },
    {
     "name": "stderr",
     "output_type": "stream",
     "text": [
      "Processing Yale Patients:  17%|█▋        | 34/200 [02:49<27:47, 10.05s/it]"
     ]
    },
    {
     "name": "stdout",
     "output_type": "stream",
     "text": [
      "done with patient BraTS-MET-00123-000\n",
      "currently working on patient ID: 00137 (from folder. BraTS-MET-00137-000)\n"
     ]
    },
    {
     "name": "stderr",
     "output_type": "stream",
     "text": [
      "Processing Yale Patients:  18%|█▊        | 35/200 [02:59<27:49, 10.12s/it]"
     ]
    },
    {
     "name": "stdout",
     "output_type": "stream",
     "text": [
      "done with patient BraTS-MET-00137-000\n",
      "currently working on patient ID: 00136 (from folder. BraTS-MET-00136-000)\n"
     ]
    },
    {
     "name": "stderr",
     "output_type": "stream",
     "text": [
      "Processing Yale Patients:  18%|█▊        | 36/200 [03:08<26:46,  9.79s/it]"
     ]
    },
    {
     "name": "stdout",
     "output_type": "stream",
     "text": [
      "done with patient BraTS-MET-00136-000\n",
      "currently working on patient ID: 00122 (from folder. BraTS-MET-00122-000)\n"
     ]
    },
    {
     "name": "stderr",
     "output_type": "stream",
     "text": [
      "Processing Yale Patients:  18%|█▊        | 37/200 [03:15<24:45,  9.12s/it]"
     ]
    },
    {
     "name": "stdout",
     "output_type": "stream",
     "text": [
      "done with patient BraTS-MET-00122-000\n",
      "currently working on patient ID: 00268 (from folder. BraTS-MET-00268-000)\n"
     ]
    },
    {
     "name": "stderr",
     "output_type": "stream",
     "text": [
      "Processing Yale Patients:  19%|█▉        | 38/200 [03:24<24:25,  9.04s/it]"
     ]
    },
    {
     "name": "stdout",
     "output_type": "stream",
     "text": [
      "done with patient BraTS-MET-00268-000\n",
      "currently working on patient ID: 00240 (from folder. BraTS-MET-00240-000)\n"
     ]
    },
    {
     "name": "stderr",
     "output_type": "stream",
     "text": [
      "Processing Yale Patients:  20%|█▉        | 39/200 [03:33<23:46,  8.86s/it]"
     ]
    },
    {
     "name": "stdout",
     "output_type": "stream",
     "text": [
      "done with patient BraTS-MET-00240-000\n",
      "currently working on patient ID: 00254 (from folder. BraTS-MET-00254-000)\n"
     ]
    },
    {
     "name": "stderr",
     "output_type": "stream",
     "text": [
      "Processing Yale Patients:  20%|██        | 40/200 [03:42<23:51,  8.95s/it]"
     ]
    },
    {
     "name": "stdout",
     "output_type": "stream",
     "text": [
      "done with patient BraTS-MET-00254-000\n",
      "currently working on patient ID: 00283 (from folder. BraTS-MET-00283-000)\n"
     ]
    },
    {
     "name": "stderr",
     "output_type": "stream",
     "text": [
      "Processing Yale Patients:  20%|██        | 41/200 [03:51<23:58,  9.05s/it]"
     ]
    },
    {
     "name": "stdout",
     "output_type": "stream",
     "text": [
      "done with patient BraTS-MET-00283-000\n",
      "currently working on patient ID: 00097 (from folder. BraTS-MET-00097-000)\n"
     ]
    },
    {
     "name": "stderr",
     "output_type": "stream",
     "text": [
      "Processing Yale Patients:  21%|██        | 42/200 [04:00<23:18,  8.85s/it]"
     ]
    },
    {
     "name": "stdout",
     "output_type": "stream",
     "text": [
      "done with patient BraTS-MET-00097-000\n",
      "currently working on patient ID: 00281 (from folder. BraTS-MET-00281-000)\n"
     ]
    },
    {
     "name": "stderr",
     "output_type": "stream",
     "text": [
      "Processing Yale Patients:  22%|██▏       | 43/200 [04:08<23:04,  8.82s/it]"
     ]
    },
    {
     "name": "stdout",
     "output_type": "stream",
     "text": [
      "done with patient BraTS-MET-00281-000\n",
      "currently working on patient ID: 00295 (from folder. BraTS-MET-00295-000)\n"
     ]
    },
    {
     "name": "stderr",
     "output_type": "stream",
     "text": [
      "Processing Yale Patients:  22%|██▏       | 44/200 [04:18<23:25,  9.01s/it]"
     ]
    },
    {
     "name": "stdout",
     "output_type": "stream",
     "text": [
      "done with patient BraTS-MET-00295-000\n",
      "currently working on patient ID: 00242 (from folder. BraTS-MET-00242-000)\n"
     ]
    },
    {
     "name": "stderr",
     "output_type": "stream",
     "text": [
      "Processing Yale Patients:  22%|██▎       | 45/200 [04:26<22:33,  8.73s/it]"
     ]
    },
    {
     "name": "stdout",
     "output_type": "stream",
     "text": [
      "done with patient BraTS-MET-00242-000\n",
      "currently working on patient ID: 00256 (from folder. BraTS-MET-00256-000)\n"
     ]
    },
    {
     "name": "stderr",
     "output_type": "stream",
     "text": [
      "Processing Yale Patients:  23%|██▎       | 46/200 [04:34<21:43,  8.47s/it]"
     ]
    },
    {
     "name": "stdout",
     "output_type": "stream",
     "text": [
      "done with patient BraTS-MET-00256-000\n",
      "currently working on patient ID: 00134 (from folder. BraTS-MET-00134-000)\n"
     ]
    },
    {
     "name": "stderr",
     "output_type": "stream",
     "text": [
      "Processing Yale Patients:  24%|██▎       | 47/200 [04:42<21:42,  8.51s/it]"
     ]
    },
    {
     "name": "stdout",
     "output_type": "stream",
     "text": [
      "done with patient BraTS-MET-00134-000\n",
      "currently working on patient ID: 00120 (from folder. BraTS-MET-00120-000)\n"
     ]
    },
    {
     "name": "stderr",
     "output_type": "stream",
     "text": [
      "Processing Yale Patients:  24%|██▍       | 48/200 [04:52<22:05,  8.72s/it]"
     ]
    },
    {
     "name": "stdout",
     "output_type": "stream",
     "text": [
      "done with patient BraTS-MET-00120-000\n",
      "currently working on patient ID: 00108 (from folder. BraTS-MET-00108-000)\n"
     ]
    },
    {
     "name": "stderr",
     "output_type": "stream",
     "text": [
      "Processing Yale Patients:  24%|██▍       | 49/200 [05:01<22:26,  8.92s/it]"
     ]
    },
    {
     "name": "stdout",
     "output_type": "stream",
     "text": [
      "done with patient BraTS-MET-00108-000\n",
      "currently working on patient ID: 00109 (from folder. BraTS-MET-00109-000)\n"
     ]
    },
    {
     "name": "stderr",
     "output_type": "stream",
     "text": [
      "Processing Yale Patients:  25%|██▌       | 50/200 [05:09<21:54,  8.76s/it]"
     ]
    },
    {
     "name": "stdout",
     "output_type": "stream",
     "text": [
      "done with patient BraTS-MET-00109-000\n",
      "currently working on patient ID: 00121 (from folder. BraTS-MET-00121-000)\n"
     ]
    },
    {
     "name": "stderr",
     "output_type": "stream",
     "text": [
      "Processing Yale Patients:  26%|██▌       | 51/200 [05:21<24:13,  9.75s/it]"
     ]
    },
    {
     "name": "stdout",
     "output_type": "stream",
     "text": [
      "done with patient BraTS-MET-00121-000\n",
      "currently working on patient ID: 00135 (from folder. BraTS-MET-00135-000)\n"
     ]
    },
    {
     "name": "stderr",
     "output_type": "stream",
     "text": [
      "Processing Yale Patients:  26%|██▌       | 52/200 [05:31<23:35,  9.57s/it]"
     ]
    },
    {
     "name": "stdout",
     "output_type": "stream",
     "text": [
      "done with patient BraTS-MET-00135-000\n",
      "currently working on patient ID: 00243 (from folder. BraTS-MET-00243-000)\n"
     ]
    },
    {
     "name": "stderr",
     "output_type": "stream",
     "text": [
      "Processing Yale Patients:  26%|██▋       | 53/200 [05:41<23:56,  9.77s/it]"
     ]
    },
    {
     "name": "stdout",
     "output_type": "stream",
     "text": [
      "done with patient BraTS-MET-00243-000\n",
      "currently working on patient ID: 00294 (from folder. BraTS-MET-00294-000)\n"
     ]
    },
    {
     "name": "stderr",
     "output_type": "stream",
     "text": [
      "Processing Yale Patients:  27%|██▋       | 54/200 [05:51<23:55,  9.83s/it]"
     ]
    },
    {
     "name": "stdout",
     "output_type": "stream",
     "text": [
      "done with patient BraTS-MET-00294-000\n",
      "currently working on patient ID: 00280 (from folder. BraTS-MET-00280-000)\n"
     ]
    },
    {
     "name": "stderr",
     "output_type": "stream",
     "text": [
      "Processing Yale Patients:  28%|██▊       | 55/200 [06:00<23:20,  9.66s/it]"
     ]
    },
    {
     "name": "stdout",
     "output_type": "stream",
     "text": [
      "done with patient BraTS-MET-00280-000\n",
      "currently working on patient ID: 00096 (from folder. BraTS-MET-00096-000)\n"
     ]
    },
    {
     "name": "stderr",
     "output_type": "stream",
     "text": [
      "Processing Yale Patients:  28%|██▊       | 56/200 [06:09<22:58,  9.57s/it]"
     ]
    },
    {
     "name": "stdout",
     "output_type": "stream",
     "text": [
      "done with patient BraTS-MET-00096-000\n",
      "currently working on patient ID: 00224 (from folder. BraTS-MET-00224-000)\n"
     ]
    },
    {
     "name": "stderr",
     "output_type": "stream",
     "text": [
      "Processing Yale Patients:  28%|██▊       | 57/200 [06:17<21:43,  9.12s/it]"
     ]
    },
    {
     "name": "stdout",
     "output_type": "stream",
     "text": [
      "done with patient BraTS-MET-00224-000\n",
      "currently working on patient ID: 00230 (from folder. BraTS-MET-00230-000)\n"
     ]
    },
    {
     "name": "stderr",
     "output_type": "stream",
     "text": [
      "Processing Yale Patients:  29%|██▉       | 58/200 [06:27<21:51,  9.23s/it]"
     ]
    },
    {
     "name": "stdout",
     "output_type": "stream",
     "text": [
      "done with patient BraTS-MET-00230-000\n",
      "currently working on patient ID: 00191 (from folder. BraTS-MET-00191-000)\n"
     ]
    },
    {
     "name": "stderr",
     "output_type": "stream",
     "text": [
      "Processing Yale Patients:  30%|██▉       | 59/200 [06:37<22:06,  9.41s/it]"
     ]
    },
    {
     "name": "stdout",
     "output_type": "stream",
     "text": [
      "done with patient BraTS-MET-00191-000\n",
      "currently working on patient ID: 00185 (from folder. BraTS-MET-00185-000)\n"
     ]
    },
    {
     "name": "stderr",
     "output_type": "stream",
     "text": [
      "Processing Yale Patients:  30%|███       | 60/200 [06:46<21:57,  9.41s/it]"
     ]
    },
    {
     "name": "stdout",
     "output_type": "stream",
     "text": [
      "done with patient BraTS-MET-00185-000\n",
      "currently working on patient ID: 00152 (from folder. BraTS-MET-00152-000)\n"
     ]
    },
    {
     "name": "stderr",
     "output_type": "stream",
     "text": [
      "Processing Yale Patients:  30%|███       | 61/200 [06:55<21:19,  9.21s/it]"
     ]
    },
    {
     "name": "stdout",
     "output_type": "stream",
     "text": [
      "done with patient BraTS-MET-00152-000\n",
      "currently working on patient ID: 00147 (from folder. BraTS-MET-00147-000)\n"
     ]
    },
    {
     "name": "stderr",
     "output_type": "stream",
     "text": [
      "Processing Yale Patients:  31%|███       | 62/200 [07:05<21:28,  9.34s/it]"
     ]
    },
    {
     "name": "stdout",
     "output_type": "stream",
     "text": [
      "done with patient BraTS-MET-00147-000\n",
      "currently working on patient ID: 00153 (from folder. BraTS-MET-00153-000)\n"
     ]
    },
    {
     "name": "stderr",
     "output_type": "stream",
     "text": [
      "Processing Yale Patients:  32%|███▏      | 63/200 [07:16<22:53, 10.02s/it]"
     ]
    },
    {
     "name": "stdout",
     "output_type": "stream",
     "text": [
      "done with patient BraTS-MET-00153-000\n",
      "currently working on patient ID: 00184 (from folder. BraTS-MET-00184-000)\n"
     ]
    },
    {
     "name": "stderr",
     "output_type": "stream",
     "text": [
      "Processing Yale Patients:  32%|███▏      | 64/200 [07:28<23:56, 10.56s/it]"
     ]
    },
    {
     "name": "stdout",
     "output_type": "stream",
     "text": [
      "done with patient BraTS-MET-00184-000\n",
      "currently working on patient ID: 00190 (from folder. BraTS-MET-00190-000)\n"
     ]
    },
    {
     "name": "stderr",
     "output_type": "stream",
     "text": [
      "Processing Yale Patients:  32%|███▎      | 65/200 [07:36<22:22,  9.94s/it]"
     ]
    },
    {
     "name": "stdout",
     "output_type": "stream",
     "text": [
      "done with patient BraTS-MET-00190-000\n",
      "currently working on patient ID: 00231 (from folder. BraTS-MET-00231-000)\n"
     ]
    },
    {
     "name": "stderr",
     "output_type": "stream",
     "text": [
      "Processing Yale Patients:  33%|███▎      | 66/200 [07:45<21:26,  9.60s/it]"
     ]
    },
    {
     "name": "stdout",
     "output_type": "stream",
     "text": [
      "done with patient BraTS-MET-00231-000\n",
      "currently working on patient ID: 00225 (from folder. BraTS-MET-00225-000)\n"
     ]
    },
    {
     "name": "stderr",
     "output_type": "stream",
     "text": [
      "Processing Yale Patients:  34%|███▎      | 67/200 [07:54<20:55,  9.44s/it]"
     ]
    },
    {
     "name": "stdout",
     "output_type": "stream",
     "text": [
      "done with patient BraTS-MET-00225-000\n",
      "currently working on patient ID: 00219 (from folder. BraTS-MET-00219-000)\n"
     ]
    },
    {
     "name": "stderr",
     "output_type": "stream",
     "text": [
      "Processing Yale Patients:  34%|███▍      | 68/200 [08:04<21:08,  9.61s/it]"
     ]
    },
    {
     "name": "stdout",
     "output_type": "stream",
     "text": [
      "done with patient BraTS-MET-00219-000\n",
      "currently working on patient ID: 00233 (from folder. BraTS-MET-00233-000)\n"
     ]
    },
    {
     "name": "stderr",
     "output_type": "stream",
     "text": [
      "Processing Yale Patients:  34%|███▍      | 69/200 [08:14<21:17,  9.76s/it]"
     ]
    },
    {
     "name": "stdout",
     "output_type": "stream",
     "text": [
      "done with patient BraTS-MET-00233-000\n",
      "currently working on patient ID: 00227 (from folder. BraTS-MET-00227-000)\n"
     ]
    },
    {
     "name": "stderr",
     "output_type": "stream",
     "text": [
      "Processing Yale Patients:  35%|███▌      | 70/200 [08:25<21:24,  9.88s/it]"
     ]
    },
    {
     "name": "stdout",
     "output_type": "stream",
     "text": [
      "done with patient BraTS-MET-00227-000\n",
      "currently working on patient ID: 00192 (from folder. BraTS-MET-00192-000)\n"
     ]
    },
    {
     "name": "stderr",
     "output_type": "stream",
     "text": [
      "Processing Yale Patients:  36%|███▌      | 71/200 [08:33<20:16,  9.43s/it]"
     ]
    },
    {
     "name": "stdout",
     "output_type": "stream",
     "text": [
      "done with patient BraTS-MET-00192-000\n",
      "currently working on patient ID: 00179 (from folder. BraTS-MET-00179-000)\n"
     ]
    },
    {
     "name": "stderr",
     "output_type": "stream",
     "text": [
      "Processing Yale Patients:  36%|███▌      | 72/200 [08:43<20:13,  9.48s/it]"
     ]
    },
    {
     "name": "stdout",
     "output_type": "stream",
     "text": [
      "done with patient BraTS-MET-00179-000\n",
      "currently working on patient ID: 00145 (from folder. BraTS-MET-00145-000)\n"
     ]
    },
    {
     "name": "stderr",
     "output_type": "stream",
     "text": [
      "Processing Yale Patients:  36%|███▋      | 73/200 [08:52<20:03,  9.48s/it]"
     ]
    },
    {
     "name": "stdout",
     "output_type": "stream",
     "text": [
      "done with patient BraTS-MET-00145-000\n",
      "currently working on patient ID: 00151 (from folder. BraTS-MET-00151-000)\n"
     ]
    },
    {
     "name": "stderr",
     "output_type": "stream",
     "text": [
      "Processing Yale Patients:  37%|███▋      | 74/200 [09:01<19:41,  9.38s/it]"
     ]
    },
    {
     "name": "stdout",
     "output_type": "stream",
     "text": [
      "done with patient BraTS-MET-00151-000\n",
      "currently working on patient ID: 00150 (from folder. BraTS-MET-00150-000)\n"
     ]
    },
    {
     "name": "stderr",
     "output_type": "stream",
     "text": [
      "Processing Yale Patients:  38%|███▊      | 75/200 [09:15<22:01, 10.57s/it]"
     ]
    },
    {
     "name": "stdout",
     "output_type": "stream",
     "text": [
      "done with patient BraTS-MET-00150-000\n",
      "currently working on patient ID: 00144 (from folder. BraTS-MET-00144-000)\n"
     ]
    },
    {
     "name": "stderr",
     "output_type": "stream",
     "text": [
      "Processing Yale Patients:  38%|███▊      | 76/200 [09:29<24:31, 11.87s/it]"
     ]
    },
    {
     "name": "stdout",
     "output_type": "stream",
     "text": [
      "done with patient BraTS-MET-00144-000\n",
      "currently working on patient ID: 00178 (from folder. BraTS-MET-00178-000)\n"
     ]
    },
    {
     "name": "stderr",
     "output_type": "stream",
     "text": [
      "Processing Yale Patients:  38%|███▊      | 77/200 [09:59<35:14, 17.19s/it]"
     ]
    },
    {
     "name": "stdout",
     "output_type": "stream",
     "text": [
      "done with patient BraTS-MET-00178-000\n",
      "currently working on patient ID: 00193 (from folder. BraTS-MET-00193-000)\n"
     ]
    },
    {
     "name": "stderr",
     "output_type": "stream",
     "text": [
      "Processing Yale Patients:  39%|███▉      | 78/200 [10:09<30:42, 15.10s/it]"
     ]
    },
    {
     "name": "stdout",
     "output_type": "stream",
     "text": [
      "done with patient BraTS-MET-00193-000\n",
      "currently working on patient ID: 00187 (from folder. BraTS-MET-00187-000)\n"
     ]
    },
    {
     "name": "stderr",
     "output_type": "stream",
     "text": [
      "Processing Yale Patients:  40%|███▉      | 79/200 [10:21<28:10, 13.97s/it]"
     ]
    },
    {
     "name": "stdout",
     "output_type": "stream",
     "text": [
      "done with patient BraTS-MET-00187-000\n",
      "currently working on patient ID: 00226 (from folder. BraTS-MET-00226-000)\n"
     ]
    },
    {
     "name": "stderr",
     "output_type": "stream",
     "text": [
      "Processing Yale Patients:  40%|████      | 80/200 [10:32<26:22, 13.18s/it]"
     ]
    },
    {
     "name": "stdout",
     "output_type": "stream",
     "text": [
      "done with patient BraTS-MET-00226-000\n",
      "currently working on patient ID: 00232 (from folder. BraTS-MET-00232-000)\n"
     ]
    },
    {
     "name": "stderr",
     "output_type": "stream",
     "text": [
      "Processing Yale Patients:  40%|████      | 81/200 [10:41<23:35, 11.90s/it]"
     ]
    },
    {
     "name": "stdout",
     "output_type": "stream",
     "text": [
      "done with patient BraTS-MET-00232-000\n",
      "currently working on patient ID: 00222 (from folder. BraTS-MET-00222-000)\n"
     ]
    },
    {
     "name": "stderr",
     "output_type": "stream",
     "text": [
      "Processing Yale Patients:  41%|████      | 82/200 [10:50<21:36, 10.98s/it]"
     ]
    },
    {
     "name": "stdout",
     "output_type": "stream",
     "text": [
      "done with patient BraTS-MET-00222-000\n",
      "currently working on patient ID: 00183 (from folder. BraTS-MET-00183-000)\n"
     ]
    },
    {
     "name": "stderr",
     "output_type": "stream",
     "text": [
      "Processing Yale Patients:  42%|████▏     | 83/200 [10:59<20:12, 10.36s/it]"
     ]
    },
    {
     "name": "stdout",
     "output_type": "stream",
     "text": [
      "done with patient BraTS-MET-00183-000\n",
      "currently working on patient ID: 00197 (from folder. BraTS-MET-00197-000)\n"
     ]
    },
    {
     "name": "stderr",
     "output_type": "stream",
     "text": [
      "Processing Yale Patients:  42%|████▏     | 84/200 [11:08<19:19, 10.00s/it]"
     ]
    },
    {
     "name": "stdout",
     "output_type": "stream",
     "text": [
      "done with patient BraTS-MET-00197-000\n",
      "currently working on patient ID: 00140 (from folder. BraTS-MET-00140-000)\n"
     ]
    },
    {
     "name": "stderr",
     "output_type": "stream",
     "text": [
      "Processing Yale Patients:  42%|████▎     | 85/200 [11:16<18:19,  9.56s/it]"
     ]
    },
    {
     "name": "stdout",
     "output_type": "stream",
     "text": [
      "done with patient BraTS-MET-00140-000\n",
      "currently working on patient ID: 00154 (from folder. BraTS-MET-00154-000)\n"
     ]
    },
    {
     "name": "stderr",
     "output_type": "stream",
     "text": [
      "Processing Yale Patients:  43%|████▎     | 86/200 [11:25<17:28,  9.20s/it]"
     ]
    },
    {
     "name": "stdout",
     "output_type": "stream",
     "text": [
      "done with patient BraTS-MET-00154-000\n",
      "currently working on patient ID: 00169 (from folder. BraTS-MET-00169-000)\n"
     ]
    },
    {
     "name": "stderr",
     "output_type": "stream",
     "text": [
      "Processing Yale Patients:  44%|████▎     | 87/200 [11:35<18:02,  9.58s/it]"
     ]
    },
    {
     "name": "stdout",
     "output_type": "stream",
     "text": [
      "done with patient BraTS-MET-00169-000\n",
      "currently working on patient ID: 00155 (from folder. BraTS-MET-00155-000)\n"
     ]
    },
    {
     "name": "stderr",
     "output_type": "stream",
     "text": [
      "Processing Yale Patients:  44%|████▍     | 88/200 [11:45<18:17,  9.80s/it]"
     ]
    },
    {
     "name": "stdout",
     "output_type": "stream",
     "text": [
      "done with patient BraTS-MET-00155-000\n",
      "currently working on patient ID: 00141 (from folder. BraTS-MET-00141-000)\n"
     ]
    },
    {
     "name": "stderr",
     "output_type": "stream",
     "text": [
      "Processing Yale Patients:  44%|████▍     | 89/200 [11:55<17:42,  9.57s/it]"
     ]
    },
    {
     "name": "stdout",
     "output_type": "stream",
     "text": [
      "done with patient BraTS-MET-00141-000\n",
      "currently working on patient ID: 00196 (from folder. BraTS-MET-00196-000)\n"
     ]
    },
    {
     "name": "stderr",
     "output_type": "stream",
     "text": [
      "Processing Yale Patients:  45%|████▌     | 90/200 [12:05<18:13,  9.94s/it]"
     ]
    },
    {
     "name": "stdout",
     "output_type": "stream",
     "text": [
      "done with patient BraTS-MET-00196-000\n",
      "currently working on patient ID: 00182 (from folder. BraTS-MET-00182-000)\n"
     ]
    },
    {
     "name": "stderr",
     "output_type": "stream",
     "text": [
      "Processing Yale Patients:  46%|████▌     | 91/200 [12:16<18:33, 10.21s/it]"
     ]
    },
    {
     "name": "stdout",
     "output_type": "stream",
     "text": [
      "done with patient BraTS-MET-00182-000\n",
      "currently working on patient ID: 00223 (from folder. BraTS-MET-00223-000)\n"
     ]
    },
    {
     "name": "stderr",
     "output_type": "stream",
     "text": [
      "Processing Yale Patients:  46%|████▌     | 92/200 [12:45<28:24, 15.78s/it]"
     ]
    },
    {
     "name": "stdout",
     "output_type": "stream",
     "text": [
      "done with patient BraTS-MET-00223-000\n",
      "currently working on patient ID: 00237 (from folder. BraTS-MET-00237-000)\n"
     ]
    },
    {
     "name": "stderr",
     "output_type": "stream",
     "text": [
      "Processing Yale Patients:  46%|████▋     | 93/200 [13:13<34:37, 19.42s/it]"
     ]
    },
    {
     "name": "stdout",
     "output_type": "stream",
     "text": [
      "done with patient BraTS-MET-00237-000\n",
      "currently working on patient ID: 00221 (from folder. BraTS-MET-00221-000)\n"
     ]
    },
    {
     "name": "stderr",
     "output_type": "stream",
     "text": [
      "Processing Yale Patients:  47%|████▋     | 94/200 [13:35<35:34, 20.13s/it]"
     ]
    },
    {
     "name": "stdout",
     "output_type": "stream",
     "text": [
      "done with patient BraTS-MET-00221-000\n",
      "currently working on patient ID: 00235 (from folder. BraTS-MET-00235-000)\n"
     ]
    },
    {
     "name": "stderr",
     "output_type": "stream",
     "text": [
      "Processing Yale Patients:  48%|████▊     | 95/200 [13:44<29:34, 16.90s/it]"
     ]
    },
    {
     "name": "stdout",
     "output_type": "stream",
     "text": [
      "done with patient BraTS-MET-00235-000\n",
      "currently working on patient ID: 00209 (from folder. BraTS-MET-00209-000)\n"
     ]
    },
    {
     "name": "stderr",
     "output_type": "stream",
     "text": [
      "Processing Yale Patients:  48%|████▊     | 96/200 [13:52<24:53, 14.36s/it]"
     ]
    },
    {
     "name": "stdout",
     "output_type": "stream",
     "text": [
      "done with patient BraTS-MET-00209-000\n",
      "currently working on patient ID: 00194 (from folder. BraTS-MET-00194-000)\n"
     ]
    },
    {
     "name": "stderr",
     "output_type": "stream",
     "text": [
      "Processing Yale Patients:  48%|████▊     | 97/200 [14:02<21:57, 12.79s/it]"
     ]
    },
    {
     "name": "stdout",
     "output_type": "stream",
     "text": [
      "done with patient BraTS-MET-00194-000\n",
      "currently working on patient ID: 00180 (from folder. BraTS-MET-00180-000)\n"
     ]
    },
    {
     "name": "stderr",
     "output_type": "stream",
     "text": [
      "Processing Yale Patients:  49%|████▉     | 98/200 [14:10<19:19, 11.37s/it]"
     ]
    },
    {
     "name": "stdout",
     "output_type": "stream",
     "text": [
      "done with patient BraTS-MET-00180-000\n",
      "currently working on patient ID: 00157 (from folder. BraTS-MET-00157-000)\n"
     ]
    },
    {
     "name": "stderr",
     "output_type": "stream",
     "text": [
      "Processing Yale Patients:  50%|████▉     | 99/200 [14:19<18:07, 10.77s/it]"
     ]
    },
    {
     "name": "stdout",
     "output_type": "stream",
     "text": [
      "done with patient BraTS-MET-00157-000\n",
      "currently working on patient ID: 00143 (from folder. BraTS-MET-00143-000)\n"
     ]
    },
    {
     "name": "stderr",
     "output_type": "stream",
     "text": [
      "Processing Yale Patients:  50%|█████     | 100/200 [14:29<17:37, 10.58s/it]"
     ]
    },
    {
     "name": "stdout",
     "output_type": "stream",
     "text": [
      "done with patient BraTS-MET-00143-000\n",
      "currently working on patient ID: 00142 (from folder. BraTS-MET-00142-000)\n"
     ]
    },
    {
     "name": "stderr",
     "output_type": "stream",
     "text": [
      "Processing Yale Patients:  50%|█████     | 101/200 [14:40<17:33, 10.64s/it]"
     ]
    },
    {
     "name": "stdout",
     "output_type": "stream",
     "text": [
      "done with patient BraTS-MET-00142-000\n",
      "currently working on patient ID: 00156 (from folder. BraTS-MET-00156-000)\n"
     ]
    },
    {
     "name": "stderr",
     "output_type": "stream",
     "text": [
      "Processing Yale Patients:  51%|█████     | 102/200 [14:50<17:13, 10.55s/it]"
     ]
    },
    {
     "name": "stdout",
     "output_type": "stream",
     "text": [
      "done with patient BraTS-MET-00156-000\n",
      "currently working on patient ID: 00181 (from folder. BraTS-MET-00181-000)\n"
     ]
    },
    {
     "name": "stderr",
     "output_type": "stream",
     "text": [
      "Processing Yale Patients:  52%|█████▏    | 103/200 [14:59<16:00,  9.90s/it]"
     ]
    },
    {
     "name": "stdout",
     "output_type": "stream",
     "text": [
      "done with patient BraTS-MET-00181-000\n",
      "currently working on patient ID: 00195 (from folder. BraTS-MET-00195-000)\n"
     ]
    },
    {
     "name": "stderr",
     "output_type": "stream",
     "text": [
      "Processing Yale Patients:  52%|█████▏    | 104/200 [15:07<15:19,  9.58s/it]"
     ]
    },
    {
     "name": "stdout",
     "output_type": "stream",
     "text": [
      "done with patient BraTS-MET-00195-000\n",
      "currently working on patient ID: 00208 (from folder. BraTS-MET-00208-000)\n"
     ]
    },
    {
     "name": "stderr",
     "output_type": "stream",
     "text": [
      "Processing Yale Patients:  52%|█████▎    | 105/200 [15:15<14:15,  9.01s/it]"
     ]
    },
    {
     "name": "stdout",
     "output_type": "stream",
     "text": [
      "done with patient BraTS-MET-00208-000\n",
      "currently working on patient ID: 00234 (from folder. BraTS-MET-00234-000)\n"
     ]
    },
    {
     "name": "stderr",
     "output_type": "stream",
     "text": [
      "Processing Yale Patients:  53%|█████▎    | 106/200 [15:23<13:39,  8.71s/it]"
     ]
    },
    {
     "name": "stdout",
     "output_type": "stream",
     "text": [
      "done with patient BraTS-MET-00234-000\n",
      "currently working on patient ID: 00220 (from folder. BraTS-MET-00220-000)\n"
     ]
    },
    {
     "name": "stderr",
     "output_type": "stream",
     "text": [
      "Processing Yale Patients:  54%|█████▎    | 107/200 [15:30<12:50,  8.29s/it]"
     ]
    },
    {
     "name": "stdout",
     "output_type": "stream",
     "text": [
      "done with patient BraTS-MET-00220-000\n",
      "currently working on patient ID: 00239 (from folder. BraTS-MET-00239-000)\n"
     ]
    },
    {
     "name": "stderr",
     "output_type": "stream",
     "text": [
      "Processing Yale Patients:  54%|█████▍    | 108/200 [15:39<12:54,  8.41s/it]"
     ]
    },
    {
     "name": "stdout",
     "output_type": "stream",
     "text": [
      "done with patient BraTS-MET-00239-000\n",
      "currently working on patient ID: 00205 (from folder. BraTS-MET-00205-000)\n"
     ]
    },
    {
     "name": "stderr",
     "output_type": "stream",
     "text": [
      "Processing Yale Patients:  55%|█████▍    | 109/200 [15:51<14:05,  9.29s/it]"
     ]
    },
    {
     "name": "stdout",
     "output_type": "stream",
     "text": [
      "done with patient BraTS-MET-00205-000\n",
      "currently working on patient ID: 00211 (from folder. BraTS-MET-00211-000)\n"
     ]
    },
    {
     "name": "stderr",
     "output_type": "stream",
     "text": [
      "Processing Yale Patients:  55%|█████▌    | 110/200 [16:00<14:04,  9.39s/it]"
     ]
    },
    {
     "name": "stdout",
     "output_type": "stream",
     "text": [
      "done with patient BraTS-MET-00211-000\n",
      "currently working on patient ID: 00198 (from folder. BraTS-MET-00198-000)\n"
     ]
    },
    {
     "name": "stderr",
     "output_type": "stream",
     "text": [
      "Processing Yale Patients:  56%|█████▌    | 111/200 [16:09<13:37,  9.19s/it]"
     ]
    },
    {
     "name": "stdout",
     "output_type": "stream",
     "text": [
      "done with patient BraTS-MET-00198-000\n",
      "currently working on patient ID: 00173 (from folder. BraTS-MET-00173-000)\n"
     ]
    },
    {
     "name": "stderr",
     "output_type": "stream",
     "text": [
      "Processing Yale Patients:  56%|█████▌    | 112/200 [16:18<13:31,  9.22s/it]"
     ]
    },
    {
     "name": "stdout",
     "output_type": "stream",
     "text": [
      "done with patient BraTS-MET-00173-000\n",
      "currently working on patient ID: 00167 (from folder. BraTS-MET-00167-000)\n"
     ]
    },
    {
     "name": "stderr",
     "output_type": "stream",
     "text": [
      "Processing Yale Patients:  56%|█████▋    | 113/200 [16:28<13:47,  9.51s/it]"
     ]
    },
    {
     "name": "stdout",
     "output_type": "stream",
     "text": [
      "done with patient BraTS-MET-00167-000\n",
      "currently working on patient ID: 00166 (from folder. BraTS-MET-00166-000)\n"
     ]
    },
    {
     "name": "stderr",
     "output_type": "stream",
     "text": [
      "Processing Yale Patients:  57%|█████▋    | 114/200 [16:38<13:30,  9.43s/it]"
     ]
    },
    {
     "name": "stdout",
     "output_type": "stream",
     "text": [
      "done with patient BraTS-MET-00166-000\n",
      "currently working on patient ID: 00172 (from folder. BraTS-MET-00172-000)\n"
     ]
    },
    {
     "name": "stderr",
     "output_type": "stream",
     "text": [
      "Processing Yale Patients:  57%|█████▊    | 115/200 [16:49<14:00,  9.88s/it]"
     ]
    },
    {
     "name": "stdout",
     "output_type": "stream",
     "text": [
      "done with patient BraTS-MET-00172-000\n",
      "currently working on patient ID: 00199 (from folder. BraTS-MET-00199-000)\n"
     ]
    },
    {
     "name": "stderr",
     "output_type": "stream",
     "text": [
      "Processing Yale Patients:  58%|█████▊    | 116/200 [16:59<14:01, 10.02s/it]"
     ]
    },
    {
     "name": "stdout",
     "output_type": "stream",
     "text": [
      "done with patient BraTS-MET-00199-000\n",
      "currently working on patient ID: 00210 (from folder. BraTS-MET-00210-000)\n"
     ]
    },
    {
     "name": "stderr",
     "output_type": "stream",
     "text": [
      "Processing Yale Patients:  58%|█████▊    | 117/200 [17:07<13:12,  9.55s/it]"
     ]
    },
    {
     "name": "stdout",
     "output_type": "stream",
     "text": [
      "done with patient BraTS-MET-00210-000\n",
      "currently working on patient ID: 00204 (from folder. BraTS-MET-00204-000)\n"
     ]
    },
    {
     "name": "stderr",
     "output_type": "stream",
     "text": [
      "Processing Yale Patients:  59%|█████▉    | 118/200 [17:18<13:33,  9.92s/it]"
     ]
    },
    {
     "name": "stdout",
     "output_type": "stream",
     "text": [
      "done with patient BraTS-MET-00204-000\n",
      "currently working on patient ID: 00238 (from folder. BraTS-MET-00238-000)\n"
     ]
    },
    {
     "name": "stderr",
     "output_type": "stream",
     "text": [
      "Processing Yale Patients:  60%|█████▉    | 119/200 [17:26<12:41,  9.40s/it]"
     ]
    },
    {
     "name": "stdout",
     "output_type": "stream",
     "text": [
      "done with patient BraTS-MET-00238-000\n",
      "currently working on patient ID: 00212 (from folder. BraTS-MET-00212-000)\n"
     ]
    },
    {
     "name": "stderr",
     "output_type": "stream",
     "text": [
      "Processing Yale Patients:  60%|██████    | 120/200 [17:37<12:57,  9.72s/it]"
     ]
    },
    {
     "name": "stdout",
     "output_type": "stream",
     "text": [
      "done with patient BraTS-MET-00212-000\n",
      "currently working on patient ID: 00206 (from folder. BraTS-MET-00206-000)\n"
     ]
    },
    {
     "name": "stderr",
     "output_type": "stream",
     "text": [
      "Processing Yale Patients:  60%|██████    | 121/200 [17:47<12:54,  9.80s/it]"
     ]
    },
    {
     "name": "stdout",
     "output_type": "stream",
     "text": [
      "done with patient BraTS-MET-00206-000\n",
      "currently working on patient ID: 00158 (from folder. BraTS-MET-00158-000)\n"
     ]
    },
    {
     "name": "stderr",
     "output_type": "stream",
     "text": [
      "Processing Yale Patients:  61%|██████    | 122/200 [17:57<12:44,  9.80s/it]"
     ]
    },
    {
     "name": "stdout",
     "output_type": "stream",
     "text": [
      "done with patient BraTS-MET-00158-000\n",
      "currently working on patient ID: 00164 (from folder. BraTS-MET-00164-000)\n"
     ]
    },
    {
     "name": "stderr",
     "output_type": "stream",
     "text": [
      "Processing Yale Patients:  62%|██████▏   | 123/200 [18:07<12:58, 10.10s/it]"
     ]
    },
    {
     "name": "stdout",
     "output_type": "stream",
     "text": [
      "done with patient BraTS-MET-00164-000\n",
      "currently working on patient ID: 00170 (from folder. BraTS-MET-00170-000)\n"
     ]
    },
    {
     "name": "stderr",
     "output_type": "stream",
     "text": [
      "Processing Yale Patients:  62%|██████▏   | 124/200 [18:18<12:56, 10.21s/it]"
     ]
    },
    {
     "name": "stdout",
     "output_type": "stream",
     "text": [
      "done with patient BraTS-MET-00170-000\n",
      "currently working on patient ID: 00171 (from folder. BraTS-MET-00171-000)\n"
     ]
    },
    {
     "name": "stderr",
     "output_type": "stream",
     "text": [
      "Processing Yale Patients:  62%|██████▎   | 125/200 [18:29<13:05, 10.48s/it]"
     ]
    },
    {
     "name": "stdout",
     "output_type": "stream",
     "text": [
      "done with patient BraTS-MET-00171-000\n",
      "currently working on patient ID: 00165 (from folder. BraTS-MET-00165-000)\n"
     ]
    },
    {
     "name": "stderr",
     "output_type": "stream",
     "text": [
      "Processing Yale Patients:  63%|██████▎   | 126/200 [18:39<12:47, 10.37s/it]"
     ]
    },
    {
     "name": "stdout",
     "output_type": "stream",
     "text": [
      "done with patient BraTS-MET-00165-000\n",
      "currently working on patient ID: 00159 (from folder. BraTS-MET-00159-000)\n"
     ]
    },
    {
     "name": "stderr",
     "output_type": "stream",
     "text": [
      "Processing Yale Patients:  64%|██████▎   | 127/200 [18:50<13:00, 10.69s/it]"
     ]
    },
    {
     "name": "stdout",
     "output_type": "stream",
     "text": [
      "done with patient BraTS-MET-00159-000\n",
      "currently working on patient ID: 00207 (from folder. BraTS-MET-00207-000)\n"
     ]
    },
    {
     "name": "stderr",
     "output_type": "stream",
     "text": [
      "Processing Yale Patients:  64%|██████▍   | 128/200 [18:59<11:59, 10.00s/it]"
     ]
    },
    {
     "name": "stdout",
     "output_type": "stream",
     "text": [
      "done with patient BraTS-MET-00207-000\n",
      "currently working on patient ID: 00213 (from folder. BraTS-MET-00213-000)\n"
     ]
    },
    {
     "name": "stderr",
     "output_type": "stream",
     "text": [
      "Processing Yale Patients:  64%|██████▍   | 129/200 [19:07<11:20,  9.58s/it]"
     ]
    },
    {
     "name": "stdout",
     "output_type": "stream",
     "text": [
      "done with patient BraTS-MET-00213-000\n",
      "currently working on patient ID: 00217 (from folder. BraTS-MET-00217-000)\n"
     ]
    },
    {
     "name": "stderr",
     "output_type": "stream",
     "text": [
      "Processing Yale Patients:  65%|██████▌   | 130/200 [19:18<11:35,  9.93s/it]"
     ]
    },
    {
     "name": "stdout",
     "output_type": "stream",
     "text": [
      "done with patient BraTS-MET-00217-000\n",
      "currently working on patient ID: 00203 (from folder. BraTS-MET-00203-000)\n"
     ]
    },
    {
     "name": "stderr",
     "output_type": "stream",
     "text": [
      "Processing Yale Patients:  66%|██████▌   | 131/200 [19:29<11:49, 10.28s/it]"
     ]
    },
    {
     "name": "stdout",
     "output_type": "stream",
     "text": [
      "done with patient BraTS-MET-00203-000\n",
      "currently working on patient ID: 00161 (from folder. BraTS-MET-00161-000)\n"
     ]
    },
    {
     "name": "stderr",
     "output_type": "stream",
     "text": [
      "Processing Yale Patients:  66%|██████▌   | 132/200 [19:40<11:40, 10.31s/it]"
     ]
    },
    {
     "name": "stdout",
     "output_type": "stream",
     "text": [
      "done with patient BraTS-MET-00161-000\n",
      "currently working on patient ID: 00175 (from folder. BraTS-MET-00175-000)\n"
     ]
    },
    {
     "name": "stderr",
     "output_type": "stream",
     "text": [
      "Processing Yale Patients:  66%|██████▋   | 133/200 [19:48<10:44,  9.62s/it]"
     ]
    },
    {
     "name": "stdout",
     "output_type": "stream",
     "text": [
      "done with patient BraTS-MET-00175-000\n",
      "currently working on patient ID: 00149 (from folder. BraTS-MET-00149-000)\n"
     ]
    },
    {
     "name": "stderr",
     "output_type": "stream",
     "text": [
      "Processing Yale Patients:  67%|██████▋   | 134/200 [19:57<10:20,  9.40s/it]"
     ]
    },
    {
     "name": "stdout",
     "output_type": "stream",
     "text": [
      "done with patient BraTS-MET-00149-000\n",
      "currently working on patient ID: 00148 (from folder. BraTS-MET-00148-000)\n"
     ]
    },
    {
     "name": "stderr",
     "output_type": "stream",
     "text": [
      "Processing Yale Patients:  68%|██████▊   | 135/200 [20:06<10:10,  9.39s/it]"
     ]
    },
    {
     "name": "stdout",
     "output_type": "stream",
     "text": [
      "done with patient BraTS-MET-00148-000\n",
      "currently working on patient ID: 00174 (from folder. BraTS-MET-00174-000)\n"
     ]
    },
    {
     "name": "stderr",
     "output_type": "stream",
     "text": [
      "Processing Yale Patients:  68%|██████▊   | 136/200 [20:14<09:41,  9.08s/it]"
     ]
    },
    {
     "name": "stdout",
     "output_type": "stream",
     "text": [
      "done with patient BraTS-MET-00174-000\n",
      "currently working on patient ID: 00160 (from folder. BraTS-MET-00160-000)\n"
     ]
    },
    {
     "name": "stderr",
     "output_type": "stream",
     "text": [
      "Processing Yale Patients:  68%|██████▊   | 137/200 [20:23<09:16,  8.84s/it]"
     ]
    },
    {
     "name": "stdout",
     "output_type": "stream",
     "text": [
      "done with patient BraTS-MET-00160-000\n",
      "currently working on patient ID: 00202 (from folder. BraTS-MET-00202-000)\n"
     ]
    },
    {
     "name": "stderr",
     "output_type": "stream",
     "text": [
      "Processing Yale Patients:  69%|██████▉   | 138/200 [20:32<09:17,  8.99s/it]"
     ]
    },
    {
     "name": "stdout",
     "output_type": "stream",
     "text": [
      "done with patient BraTS-MET-00202-000\n",
      "currently working on patient ID: 00216 (from folder. BraTS-MET-00216-000)\n"
     ]
    },
    {
     "name": "stderr",
     "output_type": "stream",
     "text": [
      "Processing Yale Patients:  70%|██████▉   | 139/200 [20:40<08:57,  8.81s/it]"
     ]
    },
    {
     "name": "stdout",
     "output_type": "stream",
     "text": [
      "done with patient BraTS-MET-00216-000\n",
      "currently working on patient ID: 00200 (from folder. BraTS-MET-00200-000)\n"
     ]
    },
    {
     "name": "stderr",
     "output_type": "stream",
     "text": [
      "Processing Yale Patients:  70%|███████   | 140/200 [20:51<09:22,  9.38s/it]"
     ]
    },
    {
     "name": "stdout",
     "output_type": "stream",
     "text": [
      "done with patient BraTS-MET-00200-000\n",
      "currently working on patient ID: 00214 (from folder. BraTS-MET-00214-000)\n"
     ]
    },
    {
     "name": "stderr",
     "output_type": "stream",
     "text": [
      "Processing Yale Patients:  70%|███████   | 141/200 [21:02<09:43,  9.88s/it]"
     ]
    },
    {
     "name": "stdout",
     "output_type": "stream",
     "text": [
      "done with patient BraTS-MET-00214-000\n",
      "currently working on patient ID: 00189 (from folder. BraTS-MET-00189-000)\n"
     ]
    },
    {
     "name": "stderr",
     "output_type": "stream",
     "text": [
      "Processing Yale Patients:  71%|███████   | 142/200 [21:13<09:45, 10.10s/it]"
     ]
    },
    {
     "name": "stdout",
     "output_type": "stream",
     "text": [
      "done with patient BraTS-MET-00189-000\n",
      "currently working on patient ID: 00176 (from folder. BraTS-MET-00176-000)\n"
     ]
    },
    {
     "name": "stderr",
     "output_type": "stream",
     "text": [
      "Processing Yale Patients:  72%|███████▏  | 143/200 [21:22<09:23,  9.88s/it]"
     ]
    },
    {
     "name": "stdout",
     "output_type": "stream",
     "text": [
      "done with patient BraTS-MET-00176-000\n",
      "currently working on patient ID: 00162 (from folder. BraTS-MET-00162-000)\n"
     ]
    },
    {
     "name": "stderr",
     "output_type": "stream",
     "text": [
      "Processing Yale Patients:  72%|███████▏  | 144/200 [21:32<09:11,  9.85s/it]"
     ]
    },
    {
     "name": "stdout",
     "output_type": "stream",
     "text": [
      "done with patient BraTS-MET-00162-000\n",
      "currently working on patient ID: 00163 (from folder. BraTS-MET-00163-000)\n"
     ]
    },
    {
     "name": "stderr",
     "output_type": "stream",
     "text": [
      "Processing Yale Patients:  72%|███████▎  | 145/200 [21:40<08:35,  9.38s/it]"
     ]
    },
    {
     "name": "stdout",
     "output_type": "stream",
     "text": [
      "done with patient BraTS-MET-00163-000\n",
      "currently working on patient ID: 00177 (from folder. BraTS-MET-00177-000)\n"
     ]
    },
    {
     "name": "stderr",
     "output_type": "stream",
     "text": [
      "Processing Yale Patients:  73%|███████▎  | 146/200 [21:48<08:08,  9.04s/it]"
     ]
    },
    {
     "name": "stdout",
     "output_type": "stream",
     "text": [
      "done with patient BraTS-MET-00177-000\n",
      "currently working on patient ID: 00188 (from folder. BraTS-MET-00188-000)\n"
     ]
    },
    {
     "name": "stderr",
     "output_type": "stream",
     "text": [
      "Processing Yale Patients:  74%|███████▎  | 147/200 [21:58<08:10,  9.26s/it]"
     ]
    },
    {
     "name": "stdout",
     "output_type": "stream",
     "text": [
      "done with patient BraTS-MET-00188-000\n",
      "currently working on patient ID: 00229 (from folder. BraTS-MET-00229-000)\n"
     ]
    },
    {
     "name": "stderr",
     "output_type": "stream",
     "text": [
      "Processing Yale Patients:  74%|███████▍  | 148/200 [22:07<07:54,  9.13s/it]"
     ]
    },
    {
     "name": "stdout",
     "output_type": "stream",
     "text": [
      "done with patient BraTS-MET-00229-000\n",
      "currently working on patient ID: 00215 (from folder. BraTS-MET-00215-000)\n"
     ]
    },
    {
     "name": "stderr",
     "output_type": "stream",
     "text": [
      "Processing Yale Patients:  74%|███████▍  | 149/200 [22:16<07:43,  9.08s/it]"
     ]
    },
    {
     "name": "stdout",
     "output_type": "stream",
     "text": [
      "done with patient BraTS-MET-00215-000\n",
      "currently working on patient ID: 00201 (from folder. BraTS-MET-00201-000)\n"
     ]
    },
    {
     "name": "stderr",
     "output_type": "stream",
     "text": [
      "Processing Yale Patients:  75%|███████▌  | 150/200 [22:24<07:27,  8.94s/it]"
     ]
    },
    {
     "name": "stdout",
     "output_type": "stream",
     "text": [
      "done with patient BraTS-MET-00201-000\n",
      "currently working on patient ID: 00299 (from folder. BraTS-MET-00299-000)\n"
     ]
    },
    {
     "name": "stderr",
     "output_type": "stream",
     "text": [
      "Processing Yale Patients:  76%|███████▌  | 151/200 [22:34<07:21,  9.00s/it]"
     ]
    },
    {
     "name": "stdout",
     "output_type": "stream",
     "text": [
      "done with patient BraTS-MET-00299-000\n",
      "currently working on patient ID: 00266 (from folder. BraTS-MET-00266-000)\n"
     ]
    },
    {
     "name": "stderr",
     "output_type": "stream",
     "text": [
      "Processing Yale Patients:  76%|███████▌  | 152/200 [22:42<07:02,  8.81s/it]"
     ]
    },
    {
     "name": "stdout",
     "output_type": "stream",
     "text": [
      "done with patient BraTS-MET-00266-000\n",
      "currently working on patient ID: 00272 (from folder. BraTS-MET-00272-000)\n"
     ]
    },
    {
     "name": "stderr",
     "output_type": "stream",
     "text": [
      "Processing Yale Patients:  76%|███████▋  | 153/200 [22:50<06:44,  8.61s/it]"
     ]
    },
    {
     "name": "stdout",
     "output_type": "stream",
     "text": [
      "done with patient BraTS-MET-00272-000\n",
      "currently working on patient ID: 00306 (from folder. BraTS-MET-00306-000)\n"
     ]
    },
    {
     "name": "stderr",
     "output_type": "stream",
     "text": [
      "Processing Yale Patients:  77%|███████▋  | 154/200 [22:58<06:31,  8.52s/it]"
     ]
    },
    {
     "name": "stdout",
     "output_type": "stream",
     "text": [
      "done with patient BraTS-MET-00306-000\n",
      "currently working on patient ID: 00138 (from folder. BraTS-MET-00138-000)\n"
     ]
    },
    {
     "name": "stderr",
     "output_type": "stream",
     "text": [
      "Processing Yale Patients:  78%|███████▊  | 155/200 [23:07<06:24,  8.55s/it]"
     ]
    },
    {
     "name": "stdout",
     "output_type": "stream",
     "text": [
      "done with patient BraTS-MET-00138-000\n",
      "currently working on patient ID: 00110 (from folder. BraTS-MET-00110-000)\n"
     ]
    },
    {
     "name": "stderr",
     "output_type": "stream",
     "text": [
      "Processing Yale Patients:  78%|███████▊  | 156/200 [23:15<06:12,  8.47s/it]"
     ]
    },
    {
     "name": "stdout",
     "output_type": "stream",
     "text": [
      "done with patient BraTS-MET-00110-000\n",
      "currently working on patient ID: 00104 (from folder. BraTS-MET-00104-000)\n"
     ]
    },
    {
     "name": "stderr",
     "output_type": "stream",
     "text": [
      "Processing Yale Patients:  78%|███████▊  | 157/200 [23:23<05:58,  8.34s/it]"
     ]
    },
    {
     "name": "stdout",
     "output_type": "stream",
     "text": [
      "done with patient BraTS-MET-00104-000\n",
      "currently working on patient ID: 00105 (from folder. BraTS-MET-00105-000)\n"
     ]
    },
    {
     "name": "stderr",
     "output_type": "stream",
     "text": [
      "Processing Yale Patients:  79%|███████▉  | 158/200 [23:32<05:50,  8.34s/it]"
     ]
    },
    {
     "name": "stdout",
     "output_type": "stream",
     "text": [
      "done with patient BraTS-MET-00105-000\n",
      "currently working on patient ID: 00111 (from folder. BraTS-MET-00111-000)\n"
     ]
    },
    {
     "name": "stderr",
     "output_type": "stream",
     "text": [
      "Processing Yale Patients:  80%|███████▉  | 159/200 [23:40<05:36,  8.21s/it]"
     ]
    },
    {
     "name": "stdout",
     "output_type": "stream",
     "text": [
      "done with patient BraTS-MET-00111-000\n",
      "currently working on patient ID: 00139 (from folder. BraTS-MET-00139-000)\n"
     ]
    },
    {
     "name": "stderr",
     "output_type": "stream",
     "text": [
      "Processing Yale Patients:  80%|████████  | 160/200 [23:49<05:37,  8.45s/it]"
     ]
    },
    {
     "name": "stdout",
     "output_type": "stream",
     "text": [
      "done with patient BraTS-MET-00139-000\n",
      "currently working on patient ID: 00307 (from folder. BraTS-MET-00307-000)\n"
     ]
    },
    {
     "name": "stderr",
     "output_type": "stream",
     "text": [
      "Processing Yale Patients:  80%|████████  | 161/200 [23:58<05:39,  8.71s/it]"
     ]
    },
    {
     "name": "stdout",
     "output_type": "stream",
     "text": [
      "done with patient BraTS-MET-00307-000\n",
      "currently working on patient ID: 00273 (from folder. BraTS-MET-00273-000)\n"
     ]
    },
    {
     "name": "stderr",
     "output_type": "stream",
     "text": [
      "Processing Yale Patients:  81%|████████  | 162/200 [24:07<05:33,  8.77s/it]"
     ]
    },
    {
     "name": "stdout",
     "output_type": "stream",
     "text": [
      "done with patient BraTS-MET-00273-000\n",
      "currently working on patient ID: 00267 (from folder. BraTS-MET-00267-000)\n"
     ]
    },
    {
     "name": "stderr",
     "output_type": "stream",
     "text": [
      "Processing Yale Patients:  82%|████████▏ | 163/200 [24:15<05:16,  8.56s/it]"
     ]
    },
    {
     "name": "stdout",
     "output_type": "stream",
     "text": [
      "done with patient BraTS-MET-00267-000\n",
      "currently working on patient ID: 00298 (from folder. BraTS-MET-00298-000)\n"
     ]
    },
    {
     "name": "stderr",
     "output_type": "stream",
     "text": [
      "Processing Yale Patients:  82%|████████▏ | 164/200 [24:22<04:56,  8.25s/it]"
     ]
    },
    {
     "name": "stdout",
     "output_type": "stream",
     "text": [
      "done with patient BraTS-MET-00298-000\n",
      "currently working on patient ID: 00098 (from folder. BraTS-MET-00098-000)\n"
     ]
    },
    {
     "name": "stderr",
     "output_type": "stream",
     "text": [
      "Processing Yale Patients:  82%|████████▎ | 165/200 [24:31<04:53,  8.39s/it]"
     ]
    },
    {
     "name": "stdout",
     "output_type": "stream",
     "text": [
      "done with patient BraTS-MET-00098-000\n",
      "currently working on patient ID: 00271 (from folder. BraTS-MET-00271-000)\n"
     ]
    },
    {
     "name": "stderr",
     "output_type": "stream",
     "text": [
      "Processing Yale Patients:  83%|████████▎ | 166/200 [24:41<05:03,  8.93s/it]"
     ]
    },
    {
     "name": "stdout",
     "output_type": "stream",
     "text": [
      "done with patient BraTS-MET-00271-000\n",
      "currently working on patient ID: 00305 (from folder. BraTS-MET-00305-000)\n"
     ]
    },
    {
     "name": "stderr",
     "output_type": "stream",
     "text": [
      "Processing Yale Patients:  84%|████████▎ | 167/200 [24:51<05:04,  9.22s/it]"
     ]
    },
    {
     "name": "stdout",
     "output_type": "stream",
     "text": [
      "done with patient BraTS-MET-00305-000\n",
      "currently working on patient ID: 00107 (from folder. BraTS-MET-00107-000)\n"
     ]
    },
    {
     "name": "stderr",
     "output_type": "stream",
     "text": [
      "Processing Yale Patients:  84%|████████▍ | 168/200 [25:02<05:12,  9.77s/it]"
     ]
    },
    {
     "name": "stdout",
     "output_type": "stream",
     "text": [
      "done with patient BraTS-MET-00107-000\n",
      "currently working on patient ID: 00113 (from folder. BraTS-MET-00113-000)\n"
     ]
    },
    {
     "name": "stderr",
     "output_type": "stream",
     "text": [
      "Processing Yale Patients:  84%|████████▍ | 169/200 [25:10<04:45,  9.21s/it]"
     ]
    },
    {
     "name": "stdout",
     "output_type": "stream",
     "text": [
      "done with patient BraTS-MET-00113-000\n",
      "currently working on patient ID: 00112 (from folder. BraTS-MET-00112-000)\n"
     ]
    },
    {
     "name": "stderr",
     "output_type": "stream",
     "text": [
      "Processing Yale Patients:  85%|████████▌ | 170/200 [25:19<04:35,  9.17s/it]"
     ]
    },
    {
     "name": "stdout",
     "output_type": "stream",
     "text": [
      "done with patient BraTS-MET-00112-000\n",
      "currently working on patient ID: 00106 (from folder. BraTS-MET-00106-000)\n"
     ]
    },
    {
     "name": "stderr",
     "output_type": "stream",
     "text": [
      "Processing Yale Patients:  86%|████████▌ | 171/200 [25:28<04:21,  9.02s/it]"
     ]
    },
    {
     "name": "stdout",
     "output_type": "stream",
     "text": [
      "done with patient BraTS-MET-00106-000\n",
      "currently working on patient ID: 00310 (from folder. BraTS-MET-00310-000)\n"
     ]
    },
    {
     "name": "stderr",
     "output_type": "stream",
     "text": [
      "Processing Yale Patients:  86%|████████▌ | 172/200 [25:35<03:56,  8.43s/it]"
     ]
    },
    {
     "name": "stdout",
     "output_type": "stream",
     "text": [
      "done with patient BraTS-MET-00310-000\n",
      "currently working on patient ID: 00304 (from folder. BraTS-MET-00304-000)\n"
     ]
    },
    {
     "name": "stderr",
     "output_type": "stream",
     "text": [
      "Processing Yale Patients:  86%|████████▋ | 173/200 [25:44<03:49,  8.50s/it]"
     ]
    },
    {
     "name": "stdout",
     "output_type": "stream",
     "text": [
      "done with patient BraTS-MET-00304-000\n",
      "currently working on patient ID: 00264 (from folder. BraTS-MET-00264-000)\n"
     ]
    },
    {
     "name": "stderr",
     "output_type": "stream",
     "text": [
      "Processing Yale Patients:  87%|████████▋ | 174/200 [25:53<03:43,  8.61s/it]"
     ]
    },
    {
     "name": "stdout",
     "output_type": "stream",
     "text": [
      "done with patient BraTS-MET-00264-000\n",
      "currently working on patient ID: 00270 (from folder. BraTS-MET-00270-000)\n"
     ]
    },
    {
     "name": "stderr",
     "output_type": "stream",
     "text": [
      "Processing Yale Patients:  88%|████████▊ | 175/200 [26:01<03:33,  8.55s/it]"
     ]
    },
    {
     "name": "stdout",
     "output_type": "stream",
     "text": [
      "done with patient BraTS-MET-00270-000\n",
      "currently working on patient ID: 00258 (from folder. BraTS-MET-00258-000)\n"
     ]
    },
    {
     "name": "stderr",
     "output_type": "stream",
     "text": [
      "Processing Yale Patients:  88%|████████▊ | 176/200 [26:10<03:32,  8.84s/it]"
     ]
    },
    {
     "name": "stdout",
     "output_type": "stream",
     "text": [
      "done with patient BraTS-MET-00258-000\n",
      "currently working on patient ID: 00089 (from folder. BraTS-MET-00089-000)\n"
     ]
    },
    {
     "name": "stderr",
     "output_type": "stream",
     "text": [
      "Processing Yale Patients:  88%|████████▊ | 177/200 [26:21<03:34,  9.32s/it]"
     ]
    },
    {
     "name": "stdout",
     "output_type": "stream",
     "text": [
      "done with patient BraTS-MET-00089-000\n",
      "currently working on patient ID: 00274 (from folder. BraTS-MET-00274-000)\n"
     ]
    },
    {
     "name": "stderr",
     "output_type": "stream",
     "text": [
      "Processing Yale Patients:  89%|████████▉ | 178/200 [26:30<03:23,  9.23s/it]"
     ]
    },
    {
     "name": "stdout",
     "output_type": "stream",
     "text": [
      "done with patient BraTS-MET-00274-000\n",
      "currently working on patient ID: 00260 (from folder. BraTS-MET-00260-000)\n"
     ]
    },
    {
     "name": "stderr",
     "output_type": "stream",
     "text": [
      "Processing Yale Patients:  90%|████████▉ | 179/200 [26:38<03:08,  8.98s/it]"
     ]
    },
    {
     "name": "stdout",
     "output_type": "stream",
     "text": [
      "done with patient BraTS-MET-00260-000\n",
      "currently working on patient ID: 00248 (from folder. BraTS-MET-00248-000)\n"
     ]
    },
    {
     "name": "stderr",
     "output_type": "stream",
     "text": [
      "Processing Yale Patients:  90%|█████████ | 180/200 [26:47<02:56,  8.82s/it]"
     ]
    },
    {
     "name": "stdout",
     "output_type": "stream",
     "text": [
      "done with patient BraTS-MET-00248-000\n",
      "currently working on patient ID: 00300 (from folder. BraTS-MET-00300-000)\n"
     ]
    },
    {
     "name": "stderr",
     "output_type": "stream",
     "text": [
      "Processing Yale Patients:  90%|█████████ | 181/200 [26:55<02:43,  8.61s/it]"
     ]
    },
    {
     "name": "stdout",
     "output_type": "stream",
     "text": [
      "done with patient BraTS-MET-00300-000\n",
      "currently working on patient ID: 00102 (from folder. BraTS-MET-00102-000)\n"
     ]
    },
    {
     "name": "stderr",
     "output_type": "stream",
     "text": [
      "Processing Yale Patients:  91%|█████████ | 182/200 [27:03<02:33,  8.55s/it]"
     ]
    },
    {
     "name": "stdout",
     "output_type": "stream",
     "text": [
      "done with patient BraTS-MET-00102-000\n",
      "currently working on patient ID: 00116 (from folder. BraTS-MET-00116-000)\n"
     ]
    },
    {
     "name": "stderr",
     "output_type": "stream",
     "text": [
      "Processing Yale Patients:  92%|█████████▏| 183/200 [27:12<02:27,  8.65s/it]"
     ]
    },
    {
     "name": "stdout",
     "output_type": "stream",
     "text": [
      "done with patient BraTS-MET-00116-000\n",
      "currently working on patient ID: 00117 (from folder. BraTS-MET-00117-000)\n"
     ]
    },
    {
     "name": "stderr",
     "output_type": "stream",
     "text": [
      "Processing Yale Patients:  92%|█████████▏| 184/200 [27:19<02:10,  8.18s/it]"
     ]
    },
    {
     "name": "stdout",
     "output_type": "stream",
     "text": [
      "done with patient BraTS-MET-00117-000\n",
      "currently working on patient ID: 00301 (from folder. BraTS-MET-00301-000)\n"
     ]
    },
    {
     "name": "stderr",
     "output_type": "stream",
     "text": [
      "Processing Yale Patients:  92%|█████████▎| 185/200 [27:28<02:05,  8.36s/it]"
     ]
    },
    {
     "name": "stdout",
     "output_type": "stream",
     "text": [
      "done with patient BraTS-MET-00301-000\n",
      "currently working on patient ID: 00249 (from folder. BraTS-MET-00249-000)\n"
     ]
    },
    {
     "name": "stderr",
     "output_type": "stream",
     "text": [
      "Processing Yale Patients:  93%|█████████▎| 186/200 [27:37<01:59,  8.56s/it]"
     ]
    },
    {
     "name": "stdout",
     "output_type": "stream",
     "text": [
      "done with patient BraTS-MET-00249-000\n",
      "currently working on patient ID: 00275 (from folder. BraTS-MET-00275-000)\n"
     ]
    },
    {
     "name": "stderr",
     "output_type": "stream",
     "text": [
      "Processing Yale Patients:  94%|█████████▎| 187/200 [27:45<01:50,  8.47s/it]"
     ]
    },
    {
     "name": "stdout",
     "output_type": "stream",
     "text": [
      "done with patient BraTS-MET-00275-000\n",
      "currently working on patient ID: 00288 (from folder. BraTS-MET-00288-000)\n"
     ]
    },
    {
     "name": "stderr",
     "output_type": "stream",
     "text": [
      "Processing Yale Patients:  94%|█████████▍| 188/200 [27:54<01:42,  8.53s/it]"
     ]
    },
    {
     "name": "stdout",
     "output_type": "stream",
     "text": [
      "done with patient BraTS-MET-00288-000\n",
      "currently working on patient ID: 00263 (from folder. BraTS-MET-00263-000)\n"
     ]
    },
    {
     "name": "stderr",
     "output_type": "stream",
     "text": [
      "Processing Yale Patients:  94%|█████████▍| 189/200 [28:03<01:36,  8.73s/it]"
     ]
    },
    {
     "name": "stdout",
     "output_type": "stream",
     "text": [
      "done with patient BraTS-MET-00263-000\n",
      "currently working on patient ID: 00277 (from folder. BraTS-MET-00277-000)\n"
     ]
    },
    {
     "name": "stderr",
     "output_type": "stream",
     "text": [
      "Processing Yale Patients:  95%|█████████▌| 190/200 [28:12<01:27,  8.71s/it]"
     ]
    },
    {
     "name": "stdout",
     "output_type": "stream",
     "text": [
      "done with patient BraTS-MET-00277-000\n",
      "currently working on patient ID: 00303 (from folder. BraTS-MET-00303-000)\n"
     ]
    },
    {
     "name": "stderr",
     "output_type": "stream",
     "text": [
      "Processing Yale Patients:  96%|█████████▌| 191/200 [28:20<01:17,  8.56s/it]"
     ]
    },
    {
     "name": "stdout",
     "output_type": "stream",
     "text": [
      "done with patient BraTS-MET-00303-000\n",
      "currently working on patient ID: 00115 (from folder. BraTS-MET-00115-000)\n"
     ]
    },
    {
     "name": "stderr",
     "output_type": "stream",
     "text": [
      "Processing Yale Patients:  96%|█████████▌| 192/200 [28:29<01:09,  8.74s/it]"
     ]
    },
    {
     "name": "stdout",
     "output_type": "stream",
     "text": [
      "done with patient BraTS-MET-00115-000\n",
      "currently working on patient ID: 00129 (from folder. BraTS-MET-00129-000)\n"
     ]
    },
    {
     "name": "stderr",
     "output_type": "stream",
     "text": [
      "Processing Yale Patients:  96%|█████████▋| 193/200 [28:38<01:01,  8.80s/it]"
     ]
    },
    {
     "name": "stdout",
     "output_type": "stream",
     "text": [
      "done with patient BraTS-MET-00129-000\n",
      "currently working on patient ID: 00128 (from folder. BraTS-MET-00128-000)\n"
     ]
    },
    {
     "name": "stderr",
     "output_type": "stream",
     "text": [
      "Processing Yale Patients:  97%|█████████▋| 194/200 [28:46<00:51,  8.57s/it]"
     ]
    },
    {
     "name": "stdout",
     "output_type": "stream",
     "text": [
      "done with patient BraTS-MET-00128-000\n",
      "currently working on patient ID: 00100 (from folder. BraTS-MET-00100-000)\n"
     ]
    },
    {
     "name": "stderr",
     "output_type": "stream",
     "text": [
      "Processing Yale Patients:  98%|█████████▊| 195/200 [28:55<00:42,  8.56s/it]"
     ]
    },
    {
     "name": "stdout",
     "output_type": "stream",
     "text": [
      "done with patient BraTS-MET-00100-000\n",
      "currently working on patient ID: 00114 (from folder. BraTS-MET-00114-000)\n"
     ]
    },
    {
     "name": "stderr",
     "output_type": "stream",
     "text": [
      "Processing Yale Patients:  98%|█████████▊| 196/200 [29:05<00:36,  9.06s/it]"
     ]
    },
    {
     "name": "stdout",
     "output_type": "stream",
     "text": [
      "done with patient BraTS-MET-00114-000\n",
      "currently working on patient ID: 00302 (from folder. BraTS-MET-00302-000)\n"
     ]
    },
    {
     "name": "stderr",
     "output_type": "stream",
     "text": [
      "Processing Yale Patients:  98%|█████████▊| 197/200 [29:15<00:28,  9.35s/it]"
     ]
    },
    {
     "name": "stdout",
     "output_type": "stream",
     "text": [
      "done with patient BraTS-MET-00302-000\n",
      "currently working on patient ID: 00276 (from folder. BraTS-MET-00276-000)\n"
     ]
    },
    {
     "name": "stderr",
     "output_type": "stream",
     "text": [
      "Processing Yale Patients:  99%|█████████▉| 198/200 [29:26<00:19,  9.70s/it]"
     ]
    },
    {
     "name": "stdout",
     "output_type": "stream",
     "text": [
      "done with patient BraTS-MET-00276-000\n",
      "currently working on patient ID: 00262 (from folder. BraTS-MET-00262-000)\n"
     ]
    },
    {
     "name": "stderr",
     "output_type": "stream",
     "text": [
      "Processing Yale Patients: 100%|█████████▉| 199/200 [29:33<00:09,  9.15s/it]"
     ]
    },
    {
     "name": "stdout",
     "output_type": "stream",
     "text": [
      "done with patient BraTS-MET-00262-000\n",
      "currently working on patient ID: 00289 (from folder. BraTS-MET-00289-000)\n"
     ]
    },
    {
     "name": "stderr",
     "output_type": "stream",
     "text": [
      "Processing Yale Patients: 100%|██████████| 200/200 [29:42<00:00,  8.91s/it]"
     ]
    },
    {
     "name": "stdout",
     "output_type": "stream",
     "text": [
      "done with patient BraTS-MET-00289-000\n"
     ]
    },
    {
     "name": "stderr",
     "output_type": "stream",
     "text": [
      "\n"
     ]
    }
   ],
   "source": [
    "# output: create folder for each patient and save the slices there\n",
    "\n",
    "# input mri folder: path to all patient scans, including segmentations\n",
    "# go to each patient and get all 4 mri scans as well as segmentation\n",
    "\n",
    "\n",
    "yale_patients = [\n",
    "    patient_folder for patient_folder in os.listdir(path_to_yale_patients_raw)\n",
    "    if os.path.isdir(os.path.join(path_to_yale_patients_raw, patient_folder)) and \"BraTS-MET\" in patient_folder\n",
    "]\n",
    "\n",
    "# already_processed_yale_ids = [\n",
    "#     pid for pid in os.listdir(path_to_output)\n",
    "#     if os.path.isdir(os.path.join(path_to_output, pid)) and len(os.listdir(os.path.join(path_to_output, pid))) > 4\n",
    "#]\n",
    "\n",
    "counter = 0\n",
    "\n",
    "#os.makedirs(path_to_output, exist_ok = True)\n",
    "\n",
    "for patient in tqdm(yale_patients, desc = \"Processing Yale Patients\"):\n",
    "\n",
    "    # Counter to pause the loop after 5 iterations\n",
    "    # if counter >= 5:\n",
    "    #     break\n",
    "\n",
    "    # go through each patient\n",
    "\n",
    "    pat_id_extracted = patient.split(\"-\")[2] # e.g., \"0086\" from \"BraTS-MET-0086-000\"\n",
    "    \n",
    "    print(f\"currently working on patient ID: {pat_id_extracted} (from folder. {patient})\")\n",
    "\n",
    "    # create new folder for output for patient\n",
    "    path_to_patient_output = Path(path_to_output) / Path(pat_id_extracted)\n",
    "    os.makedirs(path_to_patient_output, exist_ok=True)\n",
    "\n",
    "    # IMPORTANT!!!!!\n",
    "    # adjust path for final run\n",
    "    path_to_raw_patient_files = Path(path_to_yale_patients_raw) / Path(patient)\n",
    "    segmentation_files = [file for file in os.listdir(path_to_raw_patient_files) if file.endswith(\"-seg.nii.gz\")]\n",
    "    if not segmentation_files:\n",
    "        print(f\"Warning: No segmentation file found for {patient}. Skipping.\")\n",
    "        continue\n",
    "    path_to_segmentation = Path(path_to_raw_patient_files) / Path(segmentation_files[0])\n",
    "\n",
    "    # Get Processed MRI Images\n",
    "    path_to_mri_images = Path(path_to_yale_patients_processed) / Path(patient)\n",
    "    if not path_to_mri_images.exists():\n",
    "        print(f\"Warning: Processed MRI folder not found for {patient} at {path_to_mri_images}. Skippin.\")\n",
    "        continue\n",
    "\n",
    "    # Expecting n4_normalized_BraTS-MET-XXXXX-000-t1.nii.gz etc.\n",
    "    mri_images = [\n",
    "        file for file in os.listdir(path_to_mri_images)\n",
    "        if file.endswith(\".nii.gz\") and \"n4_normalized\" in file and \"seg\" not in file # ensure it's not a segmentation file\n",
    "    ]\n",
    "\n",
    "    if len(mri_images) != 4:\n",
    "        print(\"********************************\")\n",
    "        print(f\"Warning: Not enough normalized MRI image files found for {patient} in {path_to_mri_images}. Skipping.\")\n",
    "        continue\n",
    "\n",
    "    for mri_image_filename in mri_images:\n",
    "        # go through each mri image for the patient\n",
    "\n",
    "        try:\n",
    "            # Extract sequence type, e.g., \"t1c\" from \"n4_normalized_BraTS-MET-00100-000-t1.nii.gz\"\n",
    "            parts = mri_image_filename.split(\"-\")\n",
    "            if len(parts) >= 5:\n",
    "                mri_sequence_type = parts[4].split(\".\")[0]\n",
    "            else:\n",
    "                print(f\"Warning: Could not determine MRI sequence from filename: {mri_image_filename}. Skipping this file.\")\n",
    "                continue\n",
    "                \n",
    "            path_to_current_mri = path_to_mri_images / mri_image_filename\n",
    "\n",
    "            process_nifty_mask(\n",
    "                mask_path = path_to_segmentation,\n",
    "                mri_path = path_to_current_mri,\n",
    "                output_dir = path_to_patient_output,\n",
    "                patient_id = pat_id_extracted,\n",
    "\n",
    "                mri_sequence = mri_sequence_type,\n",
    "                save_mask_image = True,\n",
    "                save_cut_out = False,\n",
    "                \n",
    "                area_threshold = 10,\n",
    "                dataset = \"yale\"\n",
    "            )\n",
    "\n",
    "        except Exception as e:\n",
    "            print(f\"Error processing MRI file {mri_image_filename} for patient {patient}: {e}\")\n",
    "    \n",
    "    counter += 1\n",
    "\n",
    "    print(f\"done with patient {patient}\")\n",
    "    "
   ]
  }
 ],
 "metadata": {
  "kernelspec": {
   "display_name": "brain_mets_env",
   "language": "python",
   "name": "python3"
  },
  "language_info": {
   "codemirror_mode": {
    "name": "ipython",
    "version": 3
   },
   "file_extension": ".py",
   "mimetype": "text/x-python",
   "name": "python",
   "nbconvert_exporter": "python",
   "pygments_lexer": "ipython3",
   "version": "3.11.0"
  }
 },
 "nbformat": 4,
 "nbformat_minor": 2
}
