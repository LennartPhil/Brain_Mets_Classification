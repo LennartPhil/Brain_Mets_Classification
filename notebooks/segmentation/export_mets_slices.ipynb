{
 "cells": [
  {
   "cell_type": "markdown",
   "metadata": {},
   "source": [
    "# Export slices containing metastases"
   ]
  },
  {
   "cell_type": "markdown",
   "metadata": {},
   "source": [
    "This notebook goes through each step to export images of the metastases based on the segmentation"
   ]
  },
  {
   "cell_type": "code",
   "execution_count": 9,
   "metadata": {},
   "outputs": [],
   "source": [
    "# import libraries\n",
    "\n",
    "import os\n",
    "import nibabel as nib\n",
    "import numpy as np\n",
    "import matplotlib.pyplot as plt\n",
    "from skimage.measure import label, regionprops\n",
    "from pathlib import Path\n",
    "from tqdm import tqdm"
   ]
  },
  {
   "cell_type": "code",
   "execution_count": 16,
   "metadata": {},
   "outputs": [],
   "source": [
    "def save_slice_as_image(slice_data, output_path):\n",
    "    plt.imshow(slice_data, cmap='gray')\n",
    "    plt.axis('off')\n",
    "    plt.savefig(output_path, bbox_inches='tight', pad_inches=0)\n",
    "    plt.close()\n",
    "\n",
    "# turn images 90 degress\n",
    "def turn_image_90(image):\n",
    "    return np.rot90(image, 3)\n",
    "\n",
    "# mirror images\n",
    "def mirror_image(image):\n",
    "    return np.fliplr(image)\n",
    "\n",
    "def process_nifty_mask(nifty_path, mri_path, output_dir, patient_id=None, mri_sequence=None):\n",
    "    # Load the NIFTI mask file\n",
    "    img = nib.load(nifty_path)\n",
    "    mask_data = img.get_fdata()\n",
    "\n",
    "    mri_data = nib.load(mri_path).get_fdata()\n",
    "    \n",
    "    # Iterate through each slice in the 3D mask\n",
    "    largest_slices = []\n",
    "    for i in range(mask_data.shape[2]):\n",
    "        slice_data = mask_data[:, :, i]\n",
    "        mri_slice_data = mri_data[:, :, i]\n",
    "        \n",
    "        # Find all connected components (metastases)\n",
    "        labeled_slice = label(slice_data)\n",
    "        regions = regionprops(labeled_slice)\n",
    "        \n",
    "        for region in regions:\n",
    "            # Calculate the area of each metastasis\n",
    "            area = region.area\n",
    "            if len(largest_slices) <= region.label:\n",
    "                #largest_slices.append((area, slice_data, i, region.label))\n",
    "                largest_slices.append((area, mri_slice_data, i))\n",
    "            else:\n",
    "                if area > largest_slices[region.label-1][0]:\n",
    "                    #largest_slices[region.label-1] = (area, slice_data, i, region.label)\n",
    "                    largest_slices[region.label-1] = (area, mri_slice_data, i)\n",
    "    \n",
    "    # Save the largest slices as image files\n",
    "    for area, slice_data, slice_idx in largest_slices:\n",
    "        if area > 30:\n",
    "            output_path = os.path.join(output_dir, f'{patient_id}_metastasis_{slice_idx}_{mri_sequence}.png')\n",
    "            #save_slice_as_image(slice_data, output_path)\n",
    "            save_slice_as_image(mirror_image(turn_image_90(slice_data)), output_path)\n",
    "            print(f\"Saved largest slice for metastasis (slice {slice_idx}) with area {area} to {output_path}\")\n",
    "\n",
    "# Example usage\n",
    "mask_file_path = '/Users/LennartPhilipp/Desktop/testing_data/derivatives/segmented_AURORA_20240424-122816/sub-01009590/metastasis_unbinarized_floats.nii.gz'\n",
    "mri_path = \"/Users/LennartPhilipp/Desktop/testing_data/derivatives/preprocessed_brainlesion_20240424-110551/sub-01009590/preprocessed/sub-01009590_fla_bet_normalized.nii.gz\"\n",
    "output_directory = '/Users/LennartPhilipp/Desktop/testing_data/derivatives/met_slices'\n",
    "os.makedirs(output_directory, exist_ok=True)\n",
    "process_nifty_mask(mask_file_path, mri_path, output_directory)"
   ]
  },
  {
   "cell_type": "markdown",
   "metadata": {},
   "source": [
    "## create skript to go through all patients"
   ]
  },
  {
   "cell_type": "code",
   "execution_count": 17,
   "metadata": {},
   "outputs": [
    {
     "name": "stderr",
     "output_type": "stream",
     "text": [
      "  0%|          | 0/5 [00:00<?, ?it/s]"
     ]
    },
    {
     "name": "stdout",
     "output_type": "stream",
     "text": [
      "currently working on sub-01009590\n",
      "Saved largest slice for metastasis (slice 56) with area 424.0 to /Users/LennartPhilipp/Desktop/testing_data/derivatives/met_slices/sub-01009590/sub-01009590_metastasis_56_t2.png\n",
      "Saved largest slice for metastasis (slice 56) with area 424.0 to /Users/LennartPhilipp/Desktop/testing_data/derivatives/met_slices/sub-01009590/sub-01009590_metastasis_56_fla.png\n",
      "Saved largest slice for metastasis (slice 56) with area 424.0 to /Users/LennartPhilipp/Desktop/testing_data/derivatives/met_slices/sub-01009590/sub-01009590_metastasis_56_t1c.png\n"
     ]
    },
    {
     "name": "stderr",
     "output_type": "stream",
     "text": [
      " 20%|██        | 1/5 [00:00<00:01,  2.29it/s]"
     ]
    },
    {
     "name": "stdout",
     "output_type": "stream",
     "text": [
      "Saved largest slice for metastasis (slice 56) with area 424.0 to /Users/LennartPhilipp/Desktop/testing_data/derivatives/met_slices/sub-01009590/sub-01009590_metastasis_56_t1.png\n",
      "done with patient sub-01009590\n",
      "currently working on sub-01006290\n",
      "Saved largest slice for metastasis (slice 63) with area 41.0 to /Users/LennartPhilipp/Desktop/testing_data/derivatives/met_slices/sub-01006290/sub-01006290_metastasis_63_t2.png\n",
      "Saved largest slice for metastasis (slice 65) with area 33.0 to /Users/LennartPhilipp/Desktop/testing_data/derivatives/met_slices/sub-01006290/sub-01006290_metastasis_65_t2.png\n",
      "Saved largest slice for metastasis (slice 64) with area 39.0 to /Users/LennartPhilipp/Desktop/testing_data/derivatives/met_slices/sub-01006290/sub-01006290_metastasis_64_t2.png\n",
      "Saved largest slice for metastasis (slice 63) with area 41.0 to /Users/LennartPhilipp/Desktop/testing_data/derivatives/met_slices/sub-01006290/sub-01006290_metastasis_63_t1c.png\n",
      "Saved largest slice for metastasis (slice 65) with area 33.0 to /Users/LennartPhilipp/Desktop/testing_data/derivatives/met_slices/sub-01006290/sub-01006290_metastasis_65_t1c.png\n",
      "Saved largest slice for metastasis (slice 64) with area 39.0 to /Users/LennartPhilipp/Desktop/testing_data/derivatives/met_slices/sub-01006290/sub-01006290_metastasis_64_t1c.png\n",
      "Saved largest slice for metastasis (slice 63) with area 41.0 to /Users/LennartPhilipp/Desktop/testing_data/derivatives/met_slices/sub-01006290/sub-01006290_metastasis_63_t1.png\n",
      "Saved largest slice for metastasis (slice 65) with area 33.0 to /Users/LennartPhilipp/Desktop/testing_data/derivatives/met_slices/sub-01006290/sub-01006290_metastasis_65_t1.png\n"
     ]
    },
    {
     "name": "stderr",
     "output_type": "stream",
     "text": [
      " 40%|████      | 2/5 [00:01<00:01,  1.71it/s]"
     ]
    },
    {
     "name": "stdout",
     "output_type": "stream",
     "text": [
      "Saved largest slice for metastasis (slice 64) with area 39.0 to /Users/LennartPhilipp/Desktop/testing_data/derivatives/met_slices/sub-01006290/sub-01006290_metastasis_64_t1.png\n",
      "Saved largest slice for metastasis (slice 63) with area 41.0 to /Users/LennartPhilipp/Desktop/testing_data/derivatives/met_slices/sub-01006290/sub-01006290_metastasis_63_fla.png\n",
      "Saved largest slice for metastasis (slice 65) with area 33.0 to /Users/LennartPhilipp/Desktop/testing_data/derivatives/met_slices/sub-01006290/sub-01006290_metastasis_65_fla.png\n",
      "Saved largest slice for metastasis (slice 64) with area 39.0 to /Users/LennartPhilipp/Desktop/testing_data/derivatives/met_slices/sub-01006290/sub-01006290_metastasis_64_fla.png\n",
      "done with patient sub-01006290\n",
      "currently working on sub-01005097\n",
      "Saved largest slice for metastasis (slice 120) with area 66.0 to /Users/LennartPhilipp/Desktop/testing_data/derivatives/met_slices/sub-01005097/sub-01005097_metastasis_120_t1.png\n",
      "Saved largest slice for metastasis (slice 120) with area 66.0 to /Users/LennartPhilipp/Desktop/testing_data/derivatives/met_slices/sub-01005097/sub-01005097_metastasis_120_t1c.png\n"
     ]
    },
    {
     "name": "stderr",
     "output_type": "stream",
     "text": [
      " 60%|██████    | 3/5 [00:01<00:01,  1.87it/s]"
     ]
    },
    {
     "name": "stdout",
     "output_type": "stream",
     "text": [
      "Saved largest slice for metastasis (slice 120) with area 66.0 to /Users/LennartPhilipp/Desktop/testing_data/derivatives/met_slices/sub-01005097/sub-01005097_metastasis_120_fla.png\n",
      "Saved largest slice for metastasis (slice 120) with area 66.0 to /Users/LennartPhilipp/Desktop/testing_data/derivatives/met_slices/sub-01005097/sub-01005097_metastasis_120_t2.png\n",
      "done with patient sub-01005097\n",
      "currently working on sub-01015961\n",
      "Saved largest slice for metastasis (slice 60) with area 552.0 to /Users/LennartPhilipp/Desktop/testing_data/derivatives/met_slices/sub-01015961/sub-01015961_metastasis_60_t2.png\n",
      "Saved largest slice for metastasis (slice 43) with area 69.0 to /Users/LennartPhilipp/Desktop/testing_data/derivatives/met_slices/sub-01015961/sub-01015961_metastasis_43_t2.png\n",
      "Saved largest slice for metastasis (slice 60) with area 552.0 to /Users/LennartPhilipp/Desktop/testing_data/derivatives/met_slices/sub-01015961/sub-01015961_metastasis_60_t1c.png\n",
      "Saved largest slice for metastasis (slice 43) with area 69.0 to /Users/LennartPhilipp/Desktop/testing_data/derivatives/met_slices/sub-01015961/sub-01015961_metastasis_43_t1c.png\n"
     ]
    },
    {
     "name": "stderr",
     "output_type": "stream",
     "text": [
      " 80%|████████  | 4/5 [00:02<00:00,  1.84it/s]"
     ]
    },
    {
     "name": "stdout",
     "output_type": "stream",
     "text": [
      "Saved largest slice for metastasis (slice 60) with area 552.0 to /Users/LennartPhilipp/Desktop/testing_data/derivatives/met_slices/sub-01015961/sub-01015961_metastasis_60_fla.png\n",
      "Saved largest slice for metastasis (slice 43) with area 69.0 to /Users/LennartPhilipp/Desktop/testing_data/derivatives/met_slices/sub-01015961/sub-01015961_metastasis_43_fla.png\n",
      "Saved largest slice for metastasis (slice 60) with area 552.0 to /Users/LennartPhilipp/Desktop/testing_data/derivatives/met_slices/sub-01015961/sub-01015961_metastasis_60_t1.png\n",
      "Saved largest slice for metastasis (slice 43) with area 69.0 to /Users/LennartPhilipp/Desktop/testing_data/derivatives/met_slices/sub-01015961/sub-01015961_metastasis_43_t1.png\n",
      "done with patient sub-01015961\n",
      "currently working on sub-01005630\n",
      "Saved largest slice for metastasis (slice 41) with area 93.0 to /Users/LennartPhilipp/Desktop/testing_data/derivatives/met_slices/sub-01005630/sub-01005630_metastasis_41_t2.png\n",
      "Saved largest slice for metastasis (slice 33) with area 43.0 to /Users/LennartPhilipp/Desktop/testing_data/derivatives/met_slices/sub-01005630/sub-01005630_metastasis_33_t2.png\n",
      "Saved largest slice for metastasis (slice 41) with area 93.0 to /Users/LennartPhilipp/Desktop/testing_data/derivatives/met_slices/sub-01005630/sub-01005630_metastasis_41_t1c.png\n",
      "Saved largest slice for metastasis (slice 33) with area 43.0 to /Users/LennartPhilipp/Desktop/testing_data/derivatives/met_slices/sub-01005630/sub-01005630_metastasis_33_t1c.png\n"
     ]
    },
    {
     "name": "stderr",
     "output_type": "stream",
     "text": [
      "100%|██████████| 5/5 [00:02<00:00,  1.86it/s]"
     ]
    },
    {
     "name": "stdout",
     "output_type": "stream",
     "text": [
      "Saved largest slice for metastasis (slice 41) with area 93.0 to /Users/LennartPhilipp/Desktop/testing_data/derivatives/met_slices/sub-01005630/sub-01005630_metastasis_41_fla.png\n",
      "Saved largest slice for metastasis (slice 33) with area 43.0 to /Users/LennartPhilipp/Desktop/testing_data/derivatives/met_slices/sub-01005630/sub-01005630_metastasis_33_fla.png\n",
      "Saved largest slice for metastasis (slice 41) with area 93.0 to /Users/LennartPhilipp/Desktop/testing_data/derivatives/met_slices/sub-01005630/sub-01005630_metastasis_41_t1.png\n",
      "Saved largest slice for metastasis (slice 33) with area 43.0 to /Users/LennartPhilipp/Desktop/testing_data/derivatives/met_slices/sub-01005630/sub-01005630_metastasis_33_t1.png\n",
      "done with patient sub-01005630\n"
     ]
    },
    {
     "name": "stderr",
     "output_type": "stream",
     "text": [
      "\n"
     ]
    }
   ],
   "source": [
    "# output: create folder for each patient and save the slices there\n",
    "\n",
    "# input mri folder: path to all preprocessed patients\n",
    "# go to each patient and get all 4 mri scans\n",
    "# input segmentation folder: path to all segmented patients\n",
    "# go to each patient and get metastatis_unbinarized_floats.nii.gz\n",
    "\n",
    "path_to_output = Path(\"/Users/LennartPhilipp/Desktop/testing_data/derivatives/met_slices\")\n",
    "path_to_mri_patients = Path(\"/Users/LennartPhilipp/Desktop/testing_data/derivatives/preprocessed_brainlesion_20240424-110551\")\n",
    "path_to_segmentation_patients = Path(\"/Users/LennartPhilipp/Desktop/testing_data/derivatives/segmented_AURORA_20240424-122816\")\n",
    "\n",
    "segmentation_patients = [patient for patient in os.listdir(path_to_segmentation_patients) if os.path.isdir(os.path.join(path_to_segmentation_patients, patient))]\n",
    "\n",
    "for patient in tqdm(segmentation_patients):\n",
    "    # go through each patient\n",
    "    \n",
    "    print(f\"currently working on {patient}\")\n",
    "\n",
    "    # create new folder for output for patient\n",
    "    path_to_patient_output = Path(path_to_output) / Path(patient)\n",
    "    os.makedirs(path_to_patient_output, exist_ok=True)\n",
    "\n",
    "    # IMPORTANT!!!!!\n",
    "    # adjust path for final run\n",
    "    path_to_segmentation = Path(path_to_segmentation_patients) / Path(patient) / \"metastasis_unbinarized_floats.nii.gz\"\n",
    "\n",
    "    path_to_mri_images = Path(path_to_mri_patients) / Path(patient) / \"preprocessed\"\n",
    "    mri_images = [file for file in os.listdir(path_to_mri_images) if \".nii.gz\" in file]\n",
    "\n",
    "    for mri_image in mri_images:\n",
    "        # go through each mri image for the patient\n",
    "\n",
    "        mri_sequence = mri_image.split(\"_\")[1]\n",
    "\n",
    "        path_to_mri = Path(path_to_mri_images) / Path(mri_image)\n",
    "        process_nifty_mask(path_to_segmentation, path_to_mri, path_to_patient_output, patient, mri_sequence)\n",
    "    \n",
    "    print(f\"done with patient {patient}\")\n",
    "    "
   ]
  }
 ],
 "metadata": {
  "kernelspec": {
   "display_name": "brain_mets_env",
   "language": "python",
   "name": "python3"
  },
  "language_info": {
   "codemirror_mode": {
    "name": "ipython",
    "version": 3
   },
   "file_extension": ".py",
   "mimetype": "text/x-python",
   "name": "python",
   "nbconvert_exporter": "python",
   "pygments_lexer": "ipython3",
   "version": "3.11.0"
  }
 },
 "nbformat": 4,
 "nbformat_minor": 2
}
