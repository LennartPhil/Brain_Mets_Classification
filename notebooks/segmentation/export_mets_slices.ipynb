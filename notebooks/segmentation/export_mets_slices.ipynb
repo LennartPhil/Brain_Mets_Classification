{
 "cells": [
  {
   "cell_type": "markdown",
   "metadata": {},
   "source": [
    "# Export slices containing metastases"
   ]
  },
  {
   "cell_type": "markdown",
   "metadata": {},
   "source": [
    "This notebook goes through each step to export images of the metastases based on the segmentation"
   ]
  },
  {
   "cell_type": "code",
   "execution_count": 1,
   "metadata": {},
   "outputs": [],
   "source": [
    "# import libraries\n",
    "\n",
    "import os\n",
    "import nibabel as nib\n",
    "import numpy as np\n",
    "import matplotlib.pyplot as plt\n",
    "from skimage.measure import label, regionprops\n",
    "from pathlib import Path\n",
    "from tqdm import tqdm"
   ]
  },
  {
   "cell_type": "code",
   "execution_count": 15,
   "metadata": {},
   "outputs": [],
   "source": [
    "def save_slice_as_image(slice_data, output_path):\n",
    "    plt.imshow(slice_data, cmap='gray')\n",
    "    plt.axis('off')\n",
    "    plt.savefig(output_path, bbox_inches='tight', pad_inches=0)\n",
    "    plt.close()\n",
    "\n",
    "# turn images 90 degress\n",
    "def turn_image_90(image):\n",
    "    return np.rot90(image, 3)\n",
    "\n",
    "# mirror images\n",
    "def mirror_image(image):\n",
    "    return np.fliplr(image)\n",
    "\n",
    "def process_nifty_mask(mask_path, mri_path, output_dir, patient_id=None, mri_sequence=None, save_mask_image = False, save_cut_out = False, area_threshold = 0, dataset = \"regensburg\"):\n",
    "\n",
    "    # Load the NIFTI mask file\n",
    "    img = nib.load(mask_path)\n",
    "    mask_data = img.get_fdata()\n",
    "\n",
    "    mri_data = nib.load(mri_path).get_fdata()\n",
    "\n",
    "    unique_labels = np.unique(mask_data)\n",
    "    print(unique_labels)\n",
    "\n",
    "    match dataset:\n",
    "        case \"regensburg\":\n",
    "            target_label = 1\n",
    "        case \"yale\":\n",
    "\n",
    "            if len(unique_labels) > 3:\n",
    "                if 1 in unique_labels and 3 in unique_labels:\n",
    "                    mask_data = np.where(mask_data == 3, 1, mask_data)\n",
    "                target_label = 1 #3 #1\n",
    "            else:\n",
    "                target_label = 3\n",
    "        case _:\n",
    "            raise ValueError(\"Invalid dataset specified.\")    \n",
    "\n",
    "    new_unique_labels = np.unique(mask_data)\n",
    "    print(new_unique_labels)\n",
    "\n",
    "    # Ensure the mask data is 3D\n",
    "    if mask_data.ndim != 3:\n",
    "        raise ValueError(\"The NIFTI mask data is not 3D.\")\n",
    "\n",
    "    # Find all connected components (metastases) with the target label in 3D\n",
    "    labeled_mask = label(mask_data == target_label, connectivity=3)  # 3D connectivity\n",
    "    regions = regionprops(labeled_mask)\n",
    "    \n",
    "    largest_slices = {}\n",
    "\n",
    "    # Iterate through each region (metastasis)\n",
    "    for region in regions:\n",
    "        # Find the slice with the largest area within this region\n",
    "        coords = region.coords\n",
    "        slice_areas = {}\n",
    "        for coord in coords:\n",
    "            slice_idx = coord[2]  # Use the correct axis for slice indexing\n",
    "            if slice_idx not in slice_areas:\n",
    "                slice_areas[slice_idx] = 0\n",
    "            slice_areas[slice_idx] += 1\n",
    "\n",
    "        # Identify the slice index with the largest area for this metastasis\n",
    "        largest_slice_idx = max(slice_areas, key=slice_areas.get)\n",
    "        largest_area = slice_areas[largest_slice_idx]\n",
    "\n",
    "        # Store information about the largest slice for each region\n",
    "        slice_data = mask_data[:, :, largest_slice_idx]\n",
    "        largest_slices[region.label] = (largest_area, slice_data, largest_slice_idx, region.label, coords)\n",
    "\n",
    "    if len(largest_slices) == 0:\n",
    "        print(f\"No metastases found in {mri_path}\")\n",
    "        return\n",
    "    \n",
    "    # Save the largest slices as image files\n",
    "    for label_idx, (area, slice_data, slice_idx, region_label, coords) in largest_slices.items():\n",
    "        if area > area_threshold:\n",
    "            full_slice_data = mri_data[:, :, slice_idx]\n",
    "            mask_slice_data = np.zeros_like(slice_data)\n",
    "\n",
    "            for coord in coords:\n",
    "                if coord[2] == slice_idx:\n",
    "                    mask_slice_data[coord[0], coord[1]] = target_label\n",
    "\n",
    "            # Create the output path\n",
    "            output_path = os.path.join(output_dir, f'{patient_id}_metastasis_{slice_idx}_{region_label}_{mri_sequence}.png')            \n",
    "            save_slice_as_image(mirror_image(turn_image_90(full_slice_data)), output_path)\n",
    "\n",
    "            if save_mask_image:\n",
    "                mask_output_path = os.path.join(output_dir, f'{patient_id}_metastasis_{slice_idx}_{region_label}_{mri_sequence}_mask.png')\n",
    "\n",
    "                # Create a new array with only the pixels of the target label\n",
    "                mask_slice_data = np.zeros_like(mask_data)\n",
    "                mask_slice_data[mask_data == target_label] = target_label\n",
    "                mask_slice_data = mask_slice_data[:, :, slice_idx]\n",
    "\n",
    "                save_slice_as_image(mirror_image(turn_image_90(mask_slice_data)), mask_output_path)\n",
    "            \n",
    "\n",
    "            if save_cut_out:\n",
    "\n",
    "                for region in regions:\n",
    "                    single_metastasis_mask = np.zeros_like(mask_data[:, :, slice_idx])\n",
    "                    for coord in coords:\n",
    "                        if coord[2] == slice_idx:\n",
    "                            single_metastasis_mask[coord[0], coord[1]] = target_label\n",
    "                    \n",
    "                    masked_mri_slice = full_slice_data * (single_metastasis_mask == target_label)\n",
    "\n",
    "                    # Create the output path\n",
    "                    output_path = os.path.join(output_dir, f'{patient_id}_metastasis_{slice_idx}_{region_label}_{mri_sequence}_cutout.png')\n",
    "                    save_slice_as_image(mirror_image(turn_image_90(masked_mri_slice)), output_path)\n",
    "\n",
    "            print(f\"Saved largest slice for metastasis (slice {slice_idx}) with area {area} to {output_path}\")\n",
    "\n",
    "# Example usage\n",
    "#mask_file_path = '/Users/LennartPhilipp/Desktop/testing_data/derivatives/segmented_AURORA_20240424-122816/sub-01009590/metastasis_unbinarized_floats.nii.gz'\n",
    "#mri_path = \"/Users/LennartPhilipp/Desktop/testing_data/derivatives/preprocessed_brainlesion_20240424-110551/sub-01009590/preprocessed/sub-01009590_fla_bet_normalized.nii.gz\"\n",
    "mask_file_path = \"/Users/LennartPhilipp/Desktop/Uni/Prowiss/CIA metstobrain/Pretreat-MetsToBrain-Masks/BraTS-MET-00100-000/BraTS-MET-00100-000-seg.nii.gz\"\n",
    "mri_path = \"/Users/LennartPhilipp/Desktop/Uni/Prowiss/CIA metstobrain/yale_dataset_normalized/BraTS-MET-00100-000/n4_normalized_BraTS-MET-00100-000-t1c.nii.gz\"\n",
    "output_directory = '/Users/LennartPhilipp/Desktop/testing_data/derivatives/met_slices'\n",
    "#os.makedirs(output_directory, exist_ok=True)\n",
    "#process_nifty_mask(mask_file_path, mri_path, output_directory, save_mask_image=True, save_cut_out=True)"
   ]
  },
  {
   "cell_type": "markdown",
   "metadata": {},
   "source": [
    "## create skript to go through all patients"
   ]
  },
  {
   "cell_type": "markdown",
   "metadata": {},
   "source": [
    "### Regensburg Dataset"
   ]
  },
  {
   "cell_type": "markdown",
   "metadata": {},
   "source": [
    "old code"
   ]
  },
  {
   "cell_type": "code",
   "execution_count": 17,
   "metadata": {},
   "outputs": [
    {
     "name": "stderr",
     "output_type": "stream",
     "text": [
      "  0%|          | 0/5 [00:00<?, ?it/s]"
     ]
    },
    {
     "name": "stdout",
     "output_type": "stream",
     "text": [
      "currently working on sub-01009590\n",
      "Saved largest slice for metastasis (slice 56) with area 424.0 to /Users/LennartPhilipp/Desktop/testing_data/derivatives/met_slices/sub-01009590/sub-01009590_metastasis_56_t2.png\n",
      "Saved largest slice for metastasis (slice 56) with area 424.0 to /Users/LennartPhilipp/Desktop/testing_data/derivatives/met_slices/sub-01009590/sub-01009590_metastasis_56_fla.png\n",
      "Saved largest slice for metastasis (slice 56) with area 424.0 to /Users/LennartPhilipp/Desktop/testing_data/derivatives/met_slices/sub-01009590/sub-01009590_metastasis_56_t1c.png\n"
     ]
    },
    {
     "name": "stderr",
     "output_type": "stream",
     "text": [
      " 20%|██        | 1/5 [00:00<00:01,  2.29it/s]"
     ]
    },
    {
     "name": "stdout",
     "output_type": "stream",
     "text": [
      "Saved largest slice for metastasis (slice 56) with area 424.0 to /Users/LennartPhilipp/Desktop/testing_data/derivatives/met_slices/sub-01009590/sub-01009590_metastasis_56_t1.png\n",
      "done with patient sub-01009590\n",
      "currently working on sub-01006290\n",
      "Saved largest slice for metastasis (slice 63) with area 41.0 to /Users/LennartPhilipp/Desktop/testing_data/derivatives/met_slices/sub-01006290/sub-01006290_metastasis_63_t2.png\n",
      "Saved largest slice for metastasis (slice 65) with area 33.0 to /Users/LennartPhilipp/Desktop/testing_data/derivatives/met_slices/sub-01006290/sub-01006290_metastasis_65_t2.png\n",
      "Saved largest slice for metastasis (slice 64) with area 39.0 to /Users/LennartPhilipp/Desktop/testing_data/derivatives/met_slices/sub-01006290/sub-01006290_metastasis_64_t2.png\n",
      "Saved largest slice for metastasis (slice 63) with area 41.0 to /Users/LennartPhilipp/Desktop/testing_data/derivatives/met_slices/sub-01006290/sub-01006290_metastasis_63_t1c.png\n",
      "Saved largest slice for metastasis (slice 65) with area 33.0 to /Users/LennartPhilipp/Desktop/testing_data/derivatives/met_slices/sub-01006290/sub-01006290_metastasis_65_t1c.png\n",
      "Saved largest slice for metastasis (slice 64) with area 39.0 to /Users/LennartPhilipp/Desktop/testing_data/derivatives/met_slices/sub-01006290/sub-01006290_metastasis_64_t1c.png\n",
      "Saved largest slice for metastasis (slice 63) with area 41.0 to /Users/LennartPhilipp/Desktop/testing_data/derivatives/met_slices/sub-01006290/sub-01006290_metastasis_63_t1.png\n",
      "Saved largest slice for metastasis (slice 65) with area 33.0 to /Users/LennartPhilipp/Desktop/testing_data/derivatives/met_slices/sub-01006290/sub-01006290_metastasis_65_t1.png\n"
     ]
    },
    {
     "name": "stderr",
     "output_type": "stream",
     "text": [
      " 40%|████      | 2/5 [00:01<00:01,  1.71it/s]"
     ]
    },
    {
     "name": "stdout",
     "output_type": "stream",
     "text": [
      "Saved largest slice for metastasis (slice 64) with area 39.0 to /Users/LennartPhilipp/Desktop/testing_data/derivatives/met_slices/sub-01006290/sub-01006290_metastasis_64_t1.png\n",
      "Saved largest slice for metastasis (slice 63) with area 41.0 to /Users/LennartPhilipp/Desktop/testing_data/derivatives/met_slices/sub-01006290/sub-01006290_metastasis_63_fla.png\n",
      "Saved largest slice for metastasis (slice 65) with area 33.0 to /Users/LennartPhilipp/Desktop/testing_data/derivatives/met_slices/sub-01006290/sub-01006290_metastasis_65_fla.png\n",
      "Saved largest slice for metastasis (slice 64) with area 39.0 to /Users/LennartPhilipp/Desktop/testing_data/derivatives/met_slices/sub-01006290/sub-01006290_metastasis_64_fla.png\n",
      "done with patient sub-01006290\n",
      "currently working on sub-01005097\n",
      "Saved largest slice for metastasis (slice 120) with area 66.0 to /Users/LennartPhilipp/Desktop/testing_data/derivatives/met_slices/sub-01005097/sub-01005097_metastasis_120_t1.png\n",
      "Saved largest slice for metastasis (slice 120) with area 66.0 to /Users/LennartPhilipp/Desktop/testing_data/derivatives/met_slices/sub-01005097/sub-01005097_metastasis_120_t1c.png\n"
     ]
    },
    {
     "name": "stderr",
     "output_type": "stream",
     "text": [
      " 60%|██████    | 3/5 [00:01<00:01,  1.87it/s]"
     ]
    },
    {
     "name": "stdout",
     "output_type": "stream",
     "text": [
      "Saved largest slice for metastasis (slice 120) with area 66.0 to /Users/LennartPhilipp/Desktop/testing_data/derivatives/met_slices/sub-01005097/sub-01005097_metastasis_120_fla.png\n",
      "Saved largest slice for metastasis (slice 120) with area 66.0 to /Users/LennartPhilipp/Desktop/testing_data/derivatives/met_slices/sub-01005097/sub-01005097_metastasis_120_t2.png\n",
      "done with patient sub-01005097\n",
      "currently working on sub-01015961\n",
      "Saved largest slice for metastasis (slice 60) with area 552.0 to /Users/LennartPhilipp/Desktop/testing_data/derivatives/met_slices/sub-01015961/sub-01015961_metastasis_60_t2.png\n",
      "Saved largest slice for metastasis (slice 43) with area 69.0 to /Users/LennartPhilipp/Desktop/testing_data/derivatives/met_slices/sub-01015961/sub-01015961_metastasis_43_t2.png\n",
      "Saved largest slice for metastasis (slice 60) with area 552.0 to /Users/LennartPhilipp/Desktop/testing_data/derivatives/met_slices/sub-01015961/sub-01015961_metastasis_60_t1c.png\n",
      "Saved largest slice for metastasis (slice 43) with area 69.0 to /Users/LennartPhilipp/Desktop/testing_data/derivatives/met_slices/sub-01015961/sub-01015961_metastasis_43_t1c.png\n"
     ]
    },
    {
     "name": "stderr",
     "output_type": "stream",
     "text": [
      " 80%|████████  | 4/5 [00:02<00:00,  1.84it/s]"
     ]
    },
    {
     "name": "stdout",
     "output_type": "stream",
     "text": [
      "Saved largest slice for metastasis (slice 60) with area 552.0 to /Users/LennartPhilipp/Desktop/testing_data/derivatives/met_slices/sub-01015961/sub-01015961_metastasis_60_fla.png\n",
      "Saved largest slice for metastasis (slice 43) with area 69.0 to /Users/LennartPhilipp/Desktop/testing_data/derivatives/met_slices/sub-01015961/sub-01015961_metastasis_43_fla.png\n",
      "Saved largest slice for metastasis (slice 60) with area 552.0 to /Users/LennartPhilipp/Desktop/testing_data/derivatives/met_slices/sub-01015961/sub-01015961_metastasis_60_t1.png\n",
      "Saved largest slice for metastasis (slice 43) with area 69.0 to /Users/LennartPhilipp/Desktop/testing_data/derivatives/met_slices/sub-01015961/sub-01015961_metastasis_43_t1.png\n",
      "done with patient sub-01015961\n",
      "currently working on sub-01005630\n",
      "Saved largest slice for metastasis (slice 41) with area 93.0 to /Users/LennartPhilipp/Desktop/testing_data/derivatives/met_slices/sub-01005630/sub-01005630_metastasis_41_t2.png\n",
      "Saved largest slice for metastasis (slice 33) with area 43.0 to /Users/LennartPhilipp/Desktop/testing_data/derivatives/met_slices/sub-01005630/sub-01005630_metastasis_33_t2.png\n",
      "Saved largest slice for metastasis (slice 41) with area 93.0 to /Users/LennartPhilipp/Desktop/testing_data/derivatives/met_slices/sub-01005630/sub-01005630_metastasis_41_t1c.png\n",
      "Saved largest slice for metastasis (slice 33) with area 43.0 to /Users/LennartPhilipp/Desktop/testing_data/derivatives/met_slices/sub-01005630/sub-01005630_metastasis_33_t1c.png\n"
     ]
    },
    {
     "name": "stderr",
     "output_type": "stream",
     "text": [
      "100%|██████████| 5/5 [00:02<00:00,  1.86it/s]"
     ]
    },
    {
     "name": "stdout",
     "output_type": "stream",
     "text": [
      "Saved largest slice for metastasis (slice 41) with area 93.0 to /Users/LennartPhilipp/Desktop/testing_data/derivatives/met_slices/sub-01005630/sub-01005630_metastasis_41_fla.png\n",
      "Saved largest slice for metastasis (slice 33) with area 43.0 to /Users/LennartPhilipp/Desktop/testing_data/derivatives/met_slices/sub-01005630/sub-01005630_metastasis_33_fla.png\n",
      "Saved largest slice for metastasis (slice 41) with area 93.0 to /Users/LennartPhilipp/Desktop/testing_data/derivatives/met_slices/sub-01005630/sub-01005630_metastasis_41_t1.png\n",
      "Saved largest slice for metastasis (slice 33) with area 43.0 to /Users/LennartPhilipp/Desktop/testing_data/derivatives/met_slices/sub-01005630/sub-01005630_metastasis_33_t1.png\n",
      "done with patient sub-01005630\n"
     ]
    },
    {
     "name": "stderr",
     "output_type": "stream",
     "text": [
      "\n"
     ]
    }
   ],
   "source": [
    "# output: create folder for each patient and save the slices there\n",
    "\n",
    "# input mri folder: path to all preprocessed patients\n",
    "# go to each patient and get all 4 mri scans\n",
    "# input segmentation folder: path to all segmented patients\n",
    "# go to each patient and get metastatis_unbinarized_floats.nii.gz\n",
    "\n",
    "path_to_output = Path(\"/Users/LennartPhilipp/Desktop/testing_data/derivatives/met_slices\")\n",
    "path_to_mri_patients = Path(\"/Users/LennartPhilipp/Desktop/testing_data/derivatives/preprocessed_brainlesion_20240424-110551\")\n",
    "path_to_segmentation_patients = Path(\"/Users/LennartPhilipp/Desktop/testing_data/derivatives/segmented_AURORA_20240424-122816\")\n",
    "\n",
    "segmentation_patients = [patient for patient in os.listdir(path_to_segmentation_patients) if os.path.isdir(os.path.join(path_to_segmentation_patients, patient))]\n",
    "\n",
    "for patient in tqdm(segmentation_patients):\n",
    "    # go through each patient\n",
    "    \n",
    "    print(f\"currently working on {patient}\")\n",
    "\n",
    "    # create new folder for output for patient\n",
    "    path_to_patient_output = Path(path_to_output) / Path(patient)\n",
    "    os.makedirs(path_to_patient_output, exist_ok=True)\n",
    "\n",
    "    # IMPORTANT!!!!!\n",
    "    # adjust path for final run\n",
    "    path_to_segmentation = Path(path_to_segmentation_patients) / Path(patient) / \"metastasis_unbinarized_floats.nii.gz\"\n",
    "\n",
    "    path_to_mri_images = Path(path_to_mri_patients) / Path(patient) / \"preprocessed\"\n",
    "    mri_images = [file for file in os.listdir(path_to_mri_images) if \".nii.gz\" in file]\n",
    "\n",
    "    for mri_image in mri_images:\n",
    "        # go through each mri image for the patient\n",
    "\n",
    "        mri_sequence = mri_image.split(\"_\")[1]\n",
    "\n",
    "        path_to_mri = Path(path_to_mri_images) / Path(mri_image)\n",
    "        process_nifty_mask(path_to_segmentation, path_to_mri, path_to_patient_output, patient, mri_sequence)\n",
    "    \n",
    "    print(f\"done with patient {patient}\")\n",
    "    "
   ]
  },
  {
   "cell_type": "markdown",
   "metadata": {},
   "source": [
    "working with actual segmented files"
   ]
  },
  {
   "cell_type": "code",
   "execution_count": 16,
   "metadata": {},
   "outputs": [
    {
     "name": "stderr",
     "output_type": "stream",
     "text": [
      "  0%|          | 0/326 [00:00<?, ?it/s]"
     ]
    },
    {
     "name": "stdout",
     "output_type": "stream",
     "text": [
      "currently working on sub-01134825\n",
      "[0. 1. 2.]\n",
      "[0. 1. 2.]\n",
      "Saved largest slice for metastasis (slice 105) with area 240 to /Users/LennartPhilipp/Desktop/Uni/Prowiss/Datensatz_RGB/test_regensburg_slices/sub-01134825/sub-01134825_metastasis_105_1_t1_cutout.png\n",
      "[0. 1. 2.]\n",
      "[0. 1. 2.]\n",
      "Saved largest slice for metastasis (slice 105) with area 240 to /Users/LennartPhilipp/Desktop/Uni/Prowiss/Datensatz_RGB/test_regensburg_slices/sub-01134825/sub-01134825_metastasis_105_1_fla_cutout.png\n",
      "[0. 1. 2.]\n",
      "[0. 1. 2.]\n",
      "Saved largest slice for metastasis (slice 105) with area 240 to /Users/LennartPhilipp/Desktop/Uni/Prowiss/Datensatz_RGB/test_regensburg_slices/sub-01134825/sub-01134825_metastasis_105_1_t1c_cutout.png\n",
      "[0. 1. 2.]\n",
      "[0. 1. 2.]\n"
     ]
    },
    {
     "name": "stderr",
     "output_type": "stream",
     "text": [
      "  0%|          | 1/326 [00:01<09:33,  1.76s/it]"
     ]
    },
    {
     "name": "stdout",
     "output_type": "stream",
     "text": [
      "Saved largest slice for metastasis (slice 105) with area 240 to /Users/LennartPhilipp/Desktop/Uni/Prowiss/Datensatz_RGB/test_regensburg_slices/sub-01134825/sub-01134825_metastasis_105_1_t2_cutout.png\n",
      "done with patient sub-01134825_t1c_perc_normalized-labels.nii.gz\n",
      "currently working on sub-01732889\n",
      "[0. 1. 2.]\n",
      "[0. 1. 2.]\n",
      "Saved largest slice for metastasis (slice 42) with area 814 to /Users/LennartPhilipp/Desktop/Uni/Prowiss/Datensatz_RGB/test_regensburg_slices/sub-01732889/sub-01732889_metastasis_42_1_t1c_cutout.png\n",
      "Saved largest slice for metastasis (slice 80) with area 53 to /Users/LennartPhilipp/Desktop/Uni/Prowiss/Datensatz_RGB/test_regensburg_slices/sub-01732889/sub-01732889_metastasis_80_3_t1c_cutout.png\n",
      "Saved largest slice for metastasis (slice 89) with area 214 to /Users/LennartPhilipp/Desktop/Uni/Prowiss/Datensatz_RGB/test_regensburg_slices/sub-01732889/sub-01732889_metastasis_89_4_t1c_cutout.png\n",
      "[0. 1. 2.]\n",
      "[0. 1. 2.]\n",
      "Saved largest slice for metastasis (slice 42) with area 814 to /Users/LennartPhilipp/Desktop/Uni/Prowiss/Datensatz_RGB/test_regensburg_slices/sub-01732889/sub-01732889_metastasis_42_1_fla_cutout.png\n",
      "Saved largest slice for metastasis (slice 80) with area 53 to /Users/LennartPhilipp/Desktop/Uni/Prowiss/Datensatz_RGB/test_regensburg_slices/sub-01732889/sub-01732889_metastasis_80_3_fla_cutout.png\n",
      "Saved largest slice for metastasis (slice 89) with area 214 to /Users/LennartPhilipp/Desktop/Uni/Prowiss/Datensatz_RGB/test_regensburg_slices/sub-01732889/sub-01732889_metastasis_89_4_fla_cutout.png\n",
      "[0. 1. 2.]\n",
      "[0. 1. 2.]\n",
      "Saved largest slice for metastasis (slice 42) with area 814 to /Users/LennartPhilipp/Desktop/Uni/Prowiss/Datensatz_RGB/test_regensburg_slices/sub-01732889/sub-01732889_metastasis_42_1_t2_cutout.png\n",
      "Saved largest slice for metastasis (slice 80) with area 53 to /Users/LennartPhilipp/Desktop/Uni/Prowiss/Datensatz_RGB/test_regensburg_slices/sub-01732889/sub-01732889_metastasis_80_3_t2_cutout.png\n",
      "Saved largest slice for metastasis (slice 89) with area 214 to /Users/LennartPhilipp/Desktop/Uni/Prowiss/Datensatz_RGB/test_regensburg_slices/sub-01732889/sub-01732889_metastasis_89_4_t2_cutout.png\n",
      "[0. 1. 2.]\n",
      "[0. 1. 2.]\n",
      "Saved largest slice for metastasis (slice 42) with area 814 to /Users/LennartPhilipp/Desktop/Uni/Prowiss/Datensatz_RGB/test_regensburg_slices/sub-01732889/sub-01732889_metastasis_42_1_t1_cutout.png\n",
      "Saved largest slice for metastasis (slice 80) with area 53 to /Users/LennartPhilipp/Desktop/Uni/Prowiss/Datensatz_RGB/test_regensburg_slices/sub-01732889/sub-01732889_metastasis_80_3_t1_cutout.png\n"
     ]
    },
    {
     "name": "stderr",
     "output_type": "stream",
     "text": [
      "  1%|          | 2/326 [00:04<13:20,  2.47s/it]"
     ]
    },
    {
     "name": "stdout",
     "output_type": "stream",
     "text": [
      "Saved largest slice for metastasis (slice 89) with area 214 to /Users/LennartPhilipp/Desktop/Uni/Prowiss/Datensatz_RGB/test_regensburg_slices/sub-01732889/sub-01732889_metastasis_89_4_t1_cutout.png\n",
      "done with patient sub-01732889_t1c_perc_normalized-labels.nii.gz\n",
      "currently working on sub-02145605\n",
      "[0. 1. 2.]\n",
      "[0. 1. 2.]\n",
      "Saved largest slice for metastasis (slice 27) with area 196 to /Users/LennartPhilipp/Desktop/Uni/Prowiss/Datensatz_RGB/test_regensburg_slices/sub-02145605/sub-02145605_metastasis_27_1_t1_cutout.png\n",
      "[0. 1. 2.]\n",
      "[0. 1. 2.]\n",
      "Saved largest slice for metastasis (slice 27) with area 196 to /Users/LennartPhilipp/Desktop/Uni/Prowiss/Datensatz_RGB/test_regensburg_slices/sub-02145605/sub-02145605_metastasis_27_1_t2_cutout.png\n",
      "[0. 1. 2.]\n",
      "[0. 1. 2.]\n",
      "Saved largest slice for metastasis (slice 27) with area 196 to /Users/LennartPhilipp/Desktop/Uni/Prowiss/Datensatz_RGB/test_regensburg_slices/sub-02145605/sub-02145605_metastasis_27_1_t1c_cutout.png\n",
      "[0. 1. 2.]\n",
      "[0. 1. 2.]\n"
     ]
    },
    {
     "name": "stderr",
     "output_type": "stream",
     "text": [
      "  1%|          | 3/326 [00:06<11:19,  2.10s/it]"
     ]
    },
    {
     "name": "stdout",
     "output_type": "stream",
     "text": [
      "Saved largest slice for metastasis (slice 27) with area 196 to /Users/LennartPhilipp/Desktop/Uni/Prowiss/Datensatz_RGB/test_regensburg_slices/sub-02145605/sub-02145605_metastasis_27_1_fla_cutout.png\n",
      "done with patient sub-02145605_t1c_perc_normalized-labels.nii.gz\n",
      "currently working on sub-02047436\n",
      "[0. 1. 2.]\n",
      "[0. 1. 2.]\n",
      "Saved largest slice for metastasis (slice 76) with area 48 to /Users/LennartPhilipp/Desktop/Uni/Prowiss/Datensatz_RGB/test_regensburg_slices/sub-02047436/sub-02047436_metastasis_76_1_t2_cutout.png\n",
      "Saved largest slice for metastasis (slice 25) with area 1517 to /Users/LennartPhilipp/Desktop/Uni/Prowiss/Datensatz_RGB/test_regensburg_slices/sub-02047436/sub-02047436_metastasis_25_2_t2_cutout.png\n",
      "Saved largest slice for metastasis (slice 63) with area 31 to /Users/LennartPhilipp/Desktop/Uni/Prowiss/Datensatz_RGB/test_regensburg_slices/sub-02047436/sub-02047436_metastasis_63_3_t2_cutout.png\n",
      "[0. 1. 2.]\n",
      "[0. 1. 2.]\n",
      "Saved largest slice for metastasis (slice 76) with area 48 to /Users/LennartPhilipp/Desktop/Uni/Prowiss/Datensatz_RGB/test_regensburg_slices/sub-02047436/sub-02047436_metastasis_76_1_fla_cutout.png\n",
      "Saved largest slice for metastasis (slice 25) with area 1517 to /Users/LennartPhilipp/Desktop/Uni/Prowiss/Datensatz_RGB/test_regensburg_slices/sub-02047436/sub-02047436_metastasis_25_2_fla_cutout.png\n",
      "Saved largest slice for metastasis (slice 63) with area 31 to /Users/LennartPhilipp/Desktop/Uni/Prowiss/Datensatz_RGB/test_regensburg_slices/sub-02047436/sub-02047436_metastasis_63_3_fla_cutout.png\n",
      "[0. 1. 2.]\n",
      "[0. 1. 2.]\n",
      "Saved largest slice for metastasis (slice 76) with area 48 to /Users/LennartPhilipp/Desktop/Uni/Prowiss/Datensatz_RGB/test_regensburg_slices/sub-02047436/sub-02047436_metastasis_76_1_t1c_cutout.png\n",
      "Saved largest slice for metastasis (slice 25) with area 1517 to /Users/LennartPhilipp/Desktop/Uni/Prowiss/Datensatz_RGB/test_regensburg_slices/sub-02047436/sub-02047436_metastasis_25_2_t1c_cutout.png\n",
      "Saved largest slice for metastasis (slice 63) with area 31 to /Users/LennartPhilipp/Desktop/Uni/Prowiss/Datensatz_RGB/test_regensburg_slices/sub-02047436/sub-02047436_metastasis_63_3_t1c_cutout.png\n",
      "[0. 1. 2.]\n",
      "[0. 1. 2.]\n",
      "Saved largest slice for metastasis (slice 76) with area 48 to /Users/LennartPhilipp/Desktop/Uni/Prowiss/Datensatz_RGB/test_regensburg_slices/sub-02047436/sub-02047436_metastasis_76_1_t1_cutout.png\n",
      "Saved largest slice for metastasis (slice 25) with area 1517 to /Users/LennartPhilipp/Desktop/Uni/Prowiss/Datensatz_RGB/test_regensburg_slices/sub-02047436/sub-02047436_metastasis_25_2_t1_cutout.png\n"
     ]
    },
    {
     "name": "stderr",
     "output_type": "stream",
     "text": [
      "  1%|          | 4/326 [00:09<12:23,  2.31s/it]"
     ]
    },
    {
     "name": "stdout",
     "output_type": "stream",
     "text": [
      "Saved largest slice for metastasis (slice 63) with area 31 to /Users/LennartPhilipp/Desktop/Uni/Prowiss/Datensatz_RGB/test_regensburg_slices/sub-02047436/sub-02047436_metastasis_63_3_t1_cutout.png\n",
      "done with patient sub-02047436_t1c_perc_normalized-labels.nii.gz\n",
      "currently working on sub-01921604\n",
      "[0. 1. 2.]\n",
      "[0. 1. 2.]\n",
      "Saved largest slice for metastasis (slice 26) with area 13 to /Users/LennartPhilipp/Desktop/Uni/Prowiss/Datensatz_RGB/test_regensburg_slices/sub-01921604/sub-01921604_metastasis_26_1_t1c_cutout.png\n",
      "Saved largest slice for metastasis (slice 94) with area 476 to /Users/LennartPhilipp/Desktop/Uni/Prowiss/Datensatz_RGB/test_regensburg_slices/sub-01921604/sub-01921604_metastasis_94_2_t1c_cutout.png\n",
      "[0. 1. 2.]\n",
      "[0. 1. 2.]\n",
      "Saved largest slice for metastasis (slice 26) with area 13 to /Users/LennartPhilipp/Desktop/Uni/Prowiss/Datensatz_RGB/test_regensburg_slices/sub-01921604/sub-01921604_metastasis_26_1_fla_cutout.png\n",
      "Saved largest slice for metastasis (slice 94) with area 476 to /Users/LennartPhilipp/Desktop/Uni/Prowiss/Datensatz_RGB/test_regensburg_slices/sub-01921604/sub-01921604_metastasis_94_2_fla_cutout.png\n",
      "[0. 1. 2.]\n",
      "[0. 1. 2.]\n",
      "Saved largest slice for metastasis (slice 26) with area 13 to /Users/LennartPhilipp/Desktop/Uni/Prowiss/Datensatz_RGB/test_regensburg_slices/sub-01921604/sub-01921604_metastasis_26_1_t1_cutout.png\n",
      "Saved largest slice for metastasis (slice 94) with area 476 to /Users/LennartPhilipp/Desktop/Uni/Prowiss/Datensatz_RGB/test_regensburg_slices/sub-01921604/sub-01921604_metastasis_94_2_t1_cutout.png\n",
      "[0. 1. 2.]\n",
      "[0. 1. 2.]\n"
     ]
    },
    {
     "name": "stderr",
     "output_type": "stream",
     "text": [
      "  2%|▏         | 5/326 [00:10<11:44,  2.19s/it]"
     ]
    },
    {
     "name": "stdout",
     "output_type": "stream",
     "text": [
      "Saved largest slice for metastasis (slice 26) with area 13 to /Users/LennartPhilipp/Desktop/Uni/Prowiss/Datensatz_RGB/test_regensburg_slices/sub-01921604/sub-01921604_metastasis_26_1_t2_cutout.png\n",
      "Saved largest slice for metastasis (slice 94) with area 476 to /Users/LennartPhilipp/Desktop/Uni/Prowiss/Datensatz_RGB/test_regensburg_slices/sub-01921604/sub-01921604_metastasis_94_2_t2_cutout.png\n",
      "done with patient sub-01921604_t1c_perc_normalized-labels.nii.gz\n"
     ]
    },
    {
     "name": "stderr",
     "output_type": "stream",
     "text": [
      "\n"
     ]
    }
   ],
   "source": [
    "# output: create folder for each patient and save the slices there\n",
    "\n",
    "# input mri folder: path to all preprocessed patients\n",
    "# go to each patient and get all 4 mri scans\n",
    "# input segmentation folder: path to all segmented patients\n",
    "# go to each patient and get metastatis_unbinarized_floats.nii.gz\n",
    "\n",
    "path_to_output = Path(\"/Users/LennartPhilipp/Desktop/Uni/Prowiss/Datensatz_RGB/test_regensburg_slices\")\n",
    "path_to_mri_patients = Path(\"/Users/LennartPhilipp/Desktop/Uni/Prowiss/Datensatz_RGB/preprocessed_n4_brainlesion_percentile_20240612-083743\")\n",
    "path_to_segmentation_patients = Path(\"/Users/LennartPhilipp/Desktop/Uni/Prowiss/Datensatz_RGB/test_segmentation_export\")\n",
    "\n",
    "segmentation_patients = [patient for patient in os.listdir(path_to_segmentation_patients) if \"labels\" in patient]\n",
    "\n",
    "counter = 0\n",
    "\n",
    "for patient in tqdm(segmentation_patients):\n",
    "    # go through each patient\n",
    "\n",
    "    if counter >= 5:\n",
    "        break\n",
    "    \n",
    "    patientID = patient.split(\"_\")[0]\n",
    "\n",
    "    print(f\"currently working on {patientID}\")\n",
    "\n",
    "    # create new folder for output for patient\n",
    "    path_to_patient_output = Path(path_to_output) / Path(patientID)\n",
    "    os.makedirs(path_to_patient_output, exist_ok=True)\n",
    "\n",
    "    # IMPORTANT!!!!!\n",
    "    # adjust path for final run\n",
    "    path_to_segmentation = Path(path_to_segmentation_patients) / Path(patient)\n",
    "\n",
    "    path_to_mri_images = Path(path_to_mri_patients) / Path(patientID) / \"perc_normalized\"\n",
    "    mri_images = [file for file in os.listdir(path_to_mri_images) if \".nii.gz\" in file]\n",
    "\n",
    "    for mri_image in mri_images:\n",
    "        # go through each mri image for the patient\n",
    "\n",
    "        mri_sequence = mri_image.split(\"_\")[1]\n",
    "\n",
    "        path_to_mri = Path(path_to_mri_images) / Path(mri_image)\n",
    "        process_nifty_mask(path_to_segmentation, path_to_mri, path_to_patient_output, patientID, mri_sequence,\n",
    "                           save_mask_image = True,\n",
    "                           save_cut_out = True,\n",
    "                           area_threshold = 10)\n",
    "    \n",
    "    print(f\"done with patient {patient}\")\n",
    "\n",
    "    counter += 1\n",
    "    "
   ]
  },
  {
   "cell_type": "markdown",
   "metadata": {},
   "source": [
    "### Yale Dataset"
   ]
  },
  {
   "cell_type": "code",
   "execution_count": 66,
   "metadata": {},
   "outputs": [
    {
     "name": "stderr",
     "output_type": "stream",
     "text": [
      "  0%|          | 0/200 [00:00<?, ?it/s]"
     ]
    },
    {
     "name": "stdout",
     "output_type": "stream",
     "text": [
      "currently working on 00086\n",
      "[0. 2. 3.]\n",
      "[0. 2. 3.]\n",
      "Saved largest slice for metastasis (slice 48) with area 33 to /Users/LennartPhilipp/Desktop/Uni/Prowiss/CIA metstobrain/yale_metastases/00086/00086_metastasis_48_1_t1c.nii.gz_cutout.png\n",
      "Saved largest slice for metastasis (slice 50) with area 29 to /Users/LennartPhilipp/Desktop/Uni/Prowiss/CIA metstobrain/yale_metastases/00086/00086_metastasis_50_2_t1c.nii.gz_cutout.png\n",
      "Saved largest slice for metastasis (slice 39) with area 43 to /Users/LennartPhilipp/Desktop/Uni/Prowiss/CIA metstobrain/yale_metastases/00086/00086_metastasis_39_3_t1c.nii.gz_cutout.png\n",
      "[0. 2. 3.]\n",
      "[0. 2. 3.]\n",
      "Saved largest slice for metastasis (slice 48) with area 33 to /Users/LennartPhilipp/Desktop/Uni/Prowiss/CIA metstobrain/yale_metastases/00086/00086_metastasis_48_1_t2w.nii.gz_cutout.png\n",
      "Saved largest slice for metastasis (slice 50) with area 29 to /Users/LennartPhilipp/Desktop/Uni/Prowiss/CIA metstobrain/yale_metastases/00086/00086_metastasis_50_2_t2w.nii.gz_cutout.png\n",
      "Saved largest slice for metastasis (slice 39) with area 43 to /Users/LennartPhilipp/Desktop/Uni/Prowiss/CIA metstobrain/yale_metastases/00086/00086_metastasis_39_3_t2w.nii.gz_cutout.png\n",
      "[0. 2. 3.]\n",
      "[0. 2. 3.]\n",
      "Saved largest slice for metastasis (slice 48) with area 33 to /Users/LennartPhilipp/Desktop/Uni/Prowiss/CIA metstobrain/yale_metastases/00086/00086_metastasis_48_1_t1n.nii.gz_cutout.png\n",
      "Saved largest slice for metastasis (slice 50) with area 29 to /Users/LennartPhilipp/Desktop/Uni/Prowiss/CIA metstobrain/yale_metastases/00086/00086_metastasis_50_2_t1n.nii.gz_cutout.png\n",
      "Saved largest slice for metastasis (slice 39) with area 43 to /Users/LennartPhilipp/Desktop/Uni/Prowiss/CIA metstobrain/yale_metastases/00086/00086_metastasis_39_3_t1n.nii.gz_cutout.png\n",
      "[0. 2. 3.]\n",
      "[0. 2. 3.]\n",
      "Saved largest slice for metastasis (slice 48) with area 33 to /Users/LennartPhilipp/Desktop/Uni/Prowiss/CIA metstobrain/yale_metastases/00086/00086_metastasis_48_1_t2f.nii.gz_cutout.png\n",
      "Saved largest slice for metastasis (slice 50) with area 29 to /Users/LennartPhilipp/Desktop/Uni/Prowiss/CIA metstobrain/yale_metastases/00086/00086_metastasis_50_2_t2f.nii.gz_cutout.png\n"
     ]
    },
    {
     "name": "stderr",
     "output_type": "stream",
     "text": [
      "  0%|          | 1/200 [00:02<08:29,  2.56s/it]"
     ]
    },
    {
     "name": "stdout",
     "output_type": "stream",
     "text": [
      "Saved largest slice for metastasis (slice 39) with area 43 to /Users/LennartPhilipp/Desktop/Uni/Prowiss/CIA metstobrain/yale_metastases/00086/00086_metastasis_39_3_t2f.nii.gz_cutout.png\n",
      "done with patient BraTS-MET-00086-000\n",
      "currently working on 00284\n",
      "[0. 1. 2. 3.]\n",
      "[0. 1. 2.]\n",
      "Saved largest slice for metastasis (slice 60) with area 390 to /Users/LennartPhilipp/Desktop/Uni/Prowiss/CIA metstobrain/yale_metastases/00284/00284_metastasis_60_1_t2f.nii.gz_cutout.png\n",
      "[0. 1. 2. 3.]\n",
      "[0. 1. 2.]\n",
      "Saved largest slice for metastasis (slice 60) with area 390 to /Users/LennartPhilipp/Desktop/Uni/Prowiss/CIA metstobrain/yale_metastases/00284/00284_metastasis_60_1_t1n.nii.gz_cutout.png\n",
      "[0. 1. 2. 3.]\n",
      "[0. 1. 2.]\n",
      "Saved largest slice for metastasis (slice 60) with area 390 to /Users/LennartPhilipp/Desktop/Uni/Prowiss/CIA metstobrain/yale_metastases/00284/00284_metastasis_60_1_t2w.nii.gz_cutout.png\n",
      "[0. 1. 2. 3.]\n",
      "[0. 1. 2.]\n"
     ]
    },
    {
     "name": "stderr",
     "output_type": "stream",
     "text": [
      "  1%|          | 2/200 [00:03<06:13,  1.89s/it]"
     ]
    },
    {
     "name": "stdout",
     "output_type": "stream",
     "text": [
      "Saved largest slice for metastasis (slice 60) with area 390 to /Users/LennartPhilipp/Desktop/Uni/Prowiss/CIA metstobrain/yale_metastases/00284/00284_metastasis_60_1_t1c.nii.gz_cutout.png\n",
      "done with patient BraTS-MET-00284-000\n",
      "currently working on 00290\n",
      "[0. 1. 2. 3.]\n",
      "[0. 1. 2.]\n",
      "Saved largest slice for metastasis (slice 71) with area 715 to /Users/LennartPhilipp/Desktop/Uni/Prowiss/CIA metstobrain/yale_metastases/00290/00290_metastasis_71_1_t1n.nii.gz_cutout.png\n",
      "[0. 1. 2. 3.]\n",
      "[0. 1. 2.]\n",
      "Saved largest slice for metastasis (slice 71) with area 715 to /Users/LennartPhilipp/Desktop/Uni/Prowiss/CIA metstobrain/yale_metastases/00290/00290_metastasis_71_1_t2f.nii.gz_cutout.png\n",
      "[0. 1. 2. 3.]\n",
      "[0. 1. 2.]\n",
      "Saved largest slice for metastasis (slice 71) with area 715 to /Users/LennartPhilipp/Desktop/Uni/Prowiss/CIA metstobrain/yale_metastases/00290/00290_metastasis_71_1_t2w.nii.gz_cutout.png\n",
      "[0. 1. 2. 3.]\n",
      "[0. 1. 2.]\n"
     ]
    },
    {
     "name": "stderr",
     "output_type": "stream",
     "text": [
      "  2%|▏         | 3/200 [00:05<05:28,  1.67s/it]"
     ]
    },
    {
     "name": "stdout",
     "output_type": "stream",
     "text": [
      "Saved largest slice for metastasis (slice 71) with area 715 to /Users/LennartPhilipp/Desktop/Uni/Prowiss/CIA metstobrain/yale_metastases/00290/00290_metastasis_71_1_t1c.nii.gz_cutout.png\n",
      "done with patient BraTS-MET-00290-000\n",
      "currently working on 00247\n",
      "[0. 1. 2. 3.]\n",
      "[0. 1. 2.]\n",
      "Saved largest slice for metastasis (slice 31) with area 79 to /Users/LennartPhilipp/Desktop/Uni/Prowiss/CIA metstobrain/yale_metastases/00247/00247_metastasis_31_1_t1c.nii.gz_cutout.png\n",
      "[0. 1. 2. 3.]\n",
      "[0. 1. 2.]\n",
      "Saved largest slice for metastasis (slice 31) with area 79 to /Users/LennartPhilipp/Desktop/Uni/Prowiss/CIA metstobrain/yale_metastases/00247/00247_metastasis_31_1_t2w.nii.gz_cutout.png\n",
      "[0. 1. 2. 3.]\n",
      "[0. 1. 2.]\n",
      "Saved largest slice for metastasis (slice 31) with area 79 to /Users/LennartPhilipp/Desktop/Uni/Prowiss/CIA metstobrain/yale_metastases/00247/00247_metastasis_31_1_t1n.nii.gz_cutout.png\n",
      "[0. 1. 2. 3.]\n",
      "[0. 1. 2.]\n"
     ]
    },
    {
     "name": "stderr",
     "output_type": "stream",
     "text": [
      "  2%|▏         | 4/200 [00:06<05:03,  1.55s/it]"
     ]
    },
    {
     "name": "stdout",
     "output_type": "stream",
     "text": [
      "Saved largest slice for metastasis (slice 31) with area 79 to /Users/LennartPhilipp/Desktop/Uni/Prowiss/CIA metstobrain/yale_metastases/00247/00247_metastasis_31_1_t2f.nii.gz_cutout.png\n",
      "done with patient BraTS-MET-00247-000\n",
      "currently working on 00253\n",
      "[0. 1. 2. 3.]\n",
      "[0. 1. 2.]\n",
      "Saved largest slice for metastasis (slice 63) with area 76 to /Users/LennartPhilipp/Desktop/Uni/Prowiss/CIA metstobrain/yale_metastases/00253/00253_metastasis_63_1_t1c.nii.gz_cutout.png\n",
      "Saved largest slice for metastasis (slice 103) with area 117 to /Users/LennartPhilipp/Desktop/Uni/Prowiss/CIA metstobrain/yale_metastases/00253/00253_metastasis_103_2_t1c.nii.gz_cutout.png\n",
      "Saved largest slice for metastasis (slice 73) with area 366 to /Users/LennartPhilipp/Desktop/Uni/Prowiss/CIA metstobrain/yale_metastases/00253/00253_metastasis_73_3_t1c.nii.gz_cutout.png\n",
      "Saved largest slice for metastasis (slice 116) with area 53 to /Users/LennartPhilipp/Desktop/Uni/Prowiss/CIA metstobrain/yale_metastases/00253/00253_metastasis_116_4_t1c.nii.gz_cutout.png\n",
      "[0. 1. 2. 3.]\n",
      "[0. 1. 2.]\n",
      "Saved largest slice for metastasis (slice 63) with area 76 to /Users/LennartPhilipp/Desktop/Uni/Prowiss/CIA metstobrain/yale_metastases/00253/00253_metastasis_63_1_t2w.nii.gz_cutout.png\n",
      "Saved largest slice for metastasis (slice 103) with area 117 to /Users/LennartPhilipp/Desktop/Uni/Prowiss/CIA metstobrain/yale_metastases/00253/00253_metastasis_103_2_t2w.nii.gz_cutout.png\n",
      "Saved largest slice for metastasis (slice 73) with area 366 to /Users/LennartPhilipp/Desktop/Uni/Prowiss/CIA metstobrain/yale_metastases/00253/00253_metastasis_73_3_t2w.nii.gz_cutout.png\n",
      "Saved largest slice for metastasis (slice 116) with area 53 to /Users/LennartPhilipp/Desktop/Uni/Prowiss/CIA metstobrain/yale_metastases/00253/00253_metastasis_116_4_t2w.nii.gz_cutout.png\n",
      "[0. 1. 2. 3.]\n",
      "[0. 1. 2.]\n",
      "Saved largest slice for metastasis (slice 63) with area 76 to /Users/LennartPhilipp/Desktop/Uni/Prowiss/CIA metstobrain/yale_metastases/00253/00253_metastasis_63_1_t2f.nii.gz_cutout.png\n",
      "Saved largest slice for metastasis (slice 103) with area 117 to /Users/LennartPhilipp/Desktop/Uni/Prowiss/CIA metstobrain/yale_metastases/00253/00253_metastasis_103_2_t2f.nii.gz_cutout.png\n",
      "Saved largest slice for metastasis (slice 73) with area 366 to /Users/LennartPhilipp/Desktop/Uni/Prowiss/CIA metstobrain/yale_metastases/00253/00253_metastasis_73_3_t2f.nii.gz_cutout.png\n",
      "Saved largest slice for metastasis (slice 116) with area 53 to /Users/LennartPhilipp/Desktop/Uni/Prowiss/CIA metstobrain/yale_metastases/00253/00253_metastasis_116_4_t2f.nii.gz_cutout.png\n",
      "[0. 1. 2. 3.]\n",
      "[0. 1. 2.]\n",
      "Saved largest slice for metastasis (slice 63) with area 76 to /Users/LennartPhilipp/Desktop/Uni/Prowiss/CIA metstobrain/yale_metastases/00253/00253_metastasis_63_1_t1n.nii.gz_cutout.png\n",
      "Saved largest slice for metastasis (slice 103) with area 117 to /Users/LennartPhilipp/Desktop/Uni/Prowiss/CIA metstobrain/yale_metastases/00253/00253_metastasis_103_2_t1n.nii.gz_cutout.png\n"
     ]
    },
    {
     "name": "stderr",
     "output_type": "stream",
     "text": [
      "  2%|▎         | 5/200 [00:10<06:33,  2.02s/it]"
     ]
    },
    {
     "name": "stdout",
     "output_type": "stream",
     "text": [
      "Saved largest slice for metastasis (slice 73) with area 366 to /Users/LennartPhilipp/Desktop/Uni/Prowiss/CIA metstobrain/yale_metastases/00253/00253_metastasis_73_3_t1n.nii.gz_cutout.png\n",
      "Saved largest slice for metastasis (slice 116) with area 53 to /Users/LennartPhilipp/Desktop/Uni/Prowiss/CIA metstobrain/yale_metastases/00253/00253_metastasis_116_4_t1n.nii.gz_cutout.png\n",
      "done with patient BraTS-MET-00253-000\n"
     ]
    },
    {
     "name": "stderr",
     "output_type": "stream",
     "text": [
      "\n"
     ]
    }
   ],
   "source": [
    "# output: create folder for each patient and save the slices there\n",
    "\n",
    "# input mri folder: path to all patient scans, including segmentations\n",
    "# go to each patient and get all 4 mri scans as well as segmentation\n",
    "\n",
    "path_to_output = Path(\"/Users/LennartPhilipp/Desktop/Uni/Prowiss/CIA metstobrain/yale_metastases\")\n",
    "path_to_yale_patients_raw = Path(\"/Users/LennartPhilipp/Desktop/Uni/Prowiss/CIA metstobrain/Pretreat-MetsToBrain-Masks\")\n",
    "path_to_yale_patients_processed = Path(\"/Users/LennartPhilipp/Desktop/Uni/Prowiss/CIA metstobrain/yale_dataset_normalized\")\n",
    "\n",
    "yale_patients = [patient for patient in os.listdir(path_to_yale_patients_raw) if os.path.isdir(os.path.join(path_to_yale_patients_raw, patient))]\n",
    "\n",
    "counter = 0\n",
    "\n",
    "for patient in tqdm(yale_patients):\n",
    "\n",
    "    if counter >= 5:\n",
    "        break\n",
    "\n",
    "    # go through each patient\n",
    "\n",
    "    pat_id = patient.split(\"-\")[2]\n",
    "    \n",
    "    print(f\"currently working on {pat_id}\")\n",
    "\n",
    "    # create new folder for output for patient\n",
    "    path_to_patient_output = Path(path_to_output) / Path(pat_id)\n",
    "    os.makedirs(path_to_patient_output, exist_ok=True)\n",
    "\n",
    "    # IMPORTANT!!!!!\n",
    "    # adjust path for final run\n",
    "    path_to_raw_patient_files = Path(path_to_yale_patients_raw) / Path(patient)\n",
    "    segmentation_file = [file for file in os.listdir(path_to_raw_patient_files) if \"seg\" in file][0]\n",
    "    path_to_segmentation = Path(path_to_raw_patient_files) / Path(segmentation_file)\n",
    "\n",
    "    path_to_mri_images = Path(path_to_yale_patients_processed) / Path(patient)\n",
    "    mri_images = [file for file in os.listdir(path_to_mri_images) if \"normalized\" in file]\n",
    "\n",
    "    if len(mri_images) != 4:\n",
    "        print(\"********************************\")\n",
    "        print(f\"patient {patient} not complete\")\n",
    "        continue\n",
    "\n",
    "    for mri_image in mri_images:\n",
    "        # go through each mri image for the patient\n",
    "\n",
    "        mri_sequence = mri_image.split(\"-\")[4].split(\".\")[0]\n",
    "\n",
    "        path_to_mri = Path(path_to_mri_images) / Path(mri_image)\n",
    "        process_nifty_mask(\n",
    "            mask_path = path_to_segmentation,\n",
    "            mri_path = path_to_mri,\n",
    "            output_dir = path_to_patient_output,\n",
    "            patient_id = pat_id,\n",
    "            mri_sequence = mri_sequence,\n",
    "            save_mask_image = True,\n",
    "            save_cut_out = True,\n",
    "            dataset = \"yale\"\n",
    "        )\n",
    "        #process_nifty_mask(path_to_segmentation, path_to_mri, path_to_patient_output, patient_id = pat_id, mri_sequence)\n",
    "    \n",
    "    counter += 1\n",
    "\n",
    "    print(f\"done with patient {patient}\")\n",
    "    "
   ]
  }
 ],
 "metadata": {
  "kernelspec": {
   "display_name": "brain_mets_env",
   "language": "python",
   "name": "python3"
  },
  "language_info": {
   "codemirror_mode": {
    "name": "ipython",
    "version": 3
   },
   "file_extension": ".py",
   "mimetype": "text/x-python",
   "name": "python",
   "nbconvert_exporter": "python",
   "pygments_lexer": "ipython3",
   "version": "3.11.0"
  }
 },
 "nbformat": 4,
 "nbformat_minor": 2
}
