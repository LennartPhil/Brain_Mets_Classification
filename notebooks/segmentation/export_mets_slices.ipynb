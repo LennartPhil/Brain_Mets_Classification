{
 "cells": [
  {
   "cell_type": "markdown",
   "metadata": {},
   "source": [
    "# Export slices containing metastases"
   ]
  },
  {
   "cell_type": "markdown",
   "metadata": {},
   "source": [
    "This notebook goes through each step to export images of the metastases based on the segmentation"
   ]
  },
  {
   "cell_type": "code",
   "execution_count": 6,
   "metadata": {},
   "outputs": [],
   "source": [
    "# import libraries\n",
    "\n",
    "import os\n",
    "import nibabel as nib\n",
    "import numpy as np\n",
    "import matplotlib.pyplot as plt\n",
    "from skimage.measure import label, regionprops\n",
    "from pathlib import Path\n",
    "from tqdm import tqdm\n",
    "import pandas as pd\n",
    "\n",
    "import imageio as iio\n",
    "from PIL import Image"
   ]
  },
  {
   "cell_type": "code",
   "execution_count": 7,
   "metadata": {},
   "outputs": [],
   "source": [
    "def save_slice_as_image(slice_data, output_path):\n",
    "    # print(slice_data.shape)\n",
    "    # print(np.mean(slice_data))\n",
    "    # cv2.imwrite(output_path, slice_data)\n",
    "    # plt.imsave(output_path, slice_data, cmap='gray')\n",
    "    # plt.close()\n",
    "    data = (slice_data * 255).astype(np.uint8)\n",
    "    image = Image.fromarray(data)\n",
    "    image.save(output_path)\n",
    "\n",
    "# turn images 90 degress\n",
    "def turn_image_90(image):\n",
    "    return np.rot90(image, 3)\n",
    "\n",
    "# mirror images\n",
    "def mirror_image(image):\n",
    "    return np.fliplr(image)\n",
    "\n",
    "def process_nifty_mask(mask_path, mri_path, output_dir, patient_id=None, mri_sequence=None, save_mask_image = False, save_cut_out = False, area_threshold = 0, dataset = \"regensburg\"):\n",
    "\n",
    "    # Load the NIFTI mask file\n",
    "    img = nib.load(mask_path)\n",
    "    mask_data = img.get_fdata()\n",
    "\n",
    "    mri_data = nib.load(mri_path).get_fdata()\n",
    "\n",
    "    unique_labels = np.unique(mask_data)\n",
    "    #print(unique_labels)\n",
    "\n",
    "    match dataset:\n",
    "        case \"regensburg\":\n",
    "            target_label = 1\n",
    "        case \"yale\":\n",
    "            # according to the paper\n",
    "            # 1: tumor necrosis\n",
    "            # 2: edema\n",
    "            # 3: enhancement within metastasis\n",
    "\n",
    "            if len(unique_labels) > 3:\n",
    "                if 1 in unique_labels and 3 in unique_labels:\n",
    "                    mask_data = np.where(mask_data == 3, 1, mask_data)\n",
    "                target_label = 1 #3 #1\n",
    "            else:\n",
    "                target_label = 3\n",
    "        case _:\n",
    "            raise ValueError(\"Invalid dataset specified.\")    \n",
    "\n",
    "    new_unique_labels = np.unique(mask_data)\n",
    "    #print(new_unique_labels)\n",
    "\n",
    "    # Ensure the mask data is 3D\n",
    "    if mask_data.ndim != 3:\n",
    "        raise ValueError(\"The NIFTI mask data is not 3D.\")\n",
    "\n",
    "    # Find all connected components (metastases) with the target label in 3D\n",
    "    labeled_mask = label(mask_data == target_label, connectivity=3)  # 3D connectivity\n",
    "    regions = regionprops(labeled_mask)\n",
    "\n",
    "    if not regions:\n",
    "        print(f\"No regions found for target_label {target_label} in {mask_path.name} for patient {patient_id}, seq {mri_sequence}\")\n",
    "        return\n",
    "    \n",
    "    largest_slices = {}\n",
    "\n",
    "    # Iterate through each region (metastasis)\n",
    "    for region in regions:\n",
    "        # Find the slice with the largest area within this region\n",
    "        coords = region.coords\n",
    "        slice_areas = {}\n",
    "        for coord in coords:\n",
    "            slice_idx = coord[2]  # Use the correct axis for slice indexing\n",
    "            if slice_idx not in slice_areas:\n",
    "                slice_areas[slice_idx] = 0\n",
    "            slice_areas[slice_idx] += 1\n",
    "\n",
    "        # Identify the slice index with the largest area for this metastasis\n",
    "        largest_slice_idx = max(slice_areas, key=slice_areas.get)\n",
    "        largest_area = slice_areas[largest_slice_idx]\n",
    "\n",
    "        # Store information about the largest slice for each region\n",
    "        slice_data = mask_data[:, :, largest_slice_idx]\n",
    "        largest_slices[region.label] = (largest_area, slice_data, largest_slice_idx, region.label, coords)\n",
    "\n",
    "    if len(largest_slices) == 0:\n",
    "        print(f\"No metastases found in {mri_path}\")\n",
    "        return\n",
    "    \n",
    "    # Save the largest slices as image files\n",
    "    for label_idx, (area, slice_data, slice_idx, region_label, coords) in largest_slices.items():\n",
    "        if area > area_threshold:\n",
    "            full_slice_data = mri_data[:, :, slice_idx]\n",
    "            mask_slice_data = np.zeros_like(slice_data)\n",
    "\n",
    "            for coord in coords:\n",
    "                if coord[2] == slice_idx:\n",
    "                    mask_slice_data[coord[0], coord[1]] = target_label\n",
    "\n",
    "            # Create the output path\n",
    "            output_path = os.path.join(output_dir, f'{patient_id}_metastasis_{slice_idx}_{region_label}_{mri_sequence}.png')            \n",
    "            save_slice_as_image(mirror_image(turn_image_90(full_slice_data)), output_path)\n",
    "\n",
    "            if save_mask_image:\n",
    "                mask_output_path = os.path.join(output_dir, f'{patient_id}_metastasis_{slice_idx}_{region_label}_{mri_sequence}_mask.png')\n",
    "\n",
    "                # Create a new array with only the pixels of the target label\n",
    "                mask_slice_data = np.zeros_like(mask_data)\n",
    "                mask_slice_data[mask_data == target_label] = target_label\n",
    "                mask_slice_data = mask_slice_data[:, :, slice_idx]\n",
    "\n",
    "                save_slice_as_image(mirror_image(turn_image_90(mask_slice_data)), mask_output_path)\n",
    "            \n",
    "\n",
    "            if save_cut_out:\n",
    "\n",
    "                for region in regions:\n",
    "                    single_metastasis_mask = np.zeros_like(mask_data[:, :, slice_idx])\n",
    "                    for coord in coords:\n",
    "                        if coord[2] == slice_idx:\n",
    "                            single_metastasis_mask[coord[0], coord[1]] = target_label\n",
    "                    \n",
    "                    masked_mri_slice = full_slice_data * (single_metastasis_mask == target_label)\n",
    "\n",
    "                    # Create the output path\n",
    "                    output_path = os.path.join(output_dir, f'{patient_id}_metastasis_{slice_idx}_{region_label}_{mri_sequence}_cutout.png')\n",
    "                    save_slice_as_image(mirror_image(turn_image_90(masked_mri_slice)), output_path)\n",
    "\n",
    "            #print(f\"Saved largest slice for metastasis (slice {slice_idx}) with area {area} to {output_path}\")\n"
   ]
  },
  {
   "cell_type": "code",
   "execution_count": null,
   "metadata": {},
   "outputs": [],
   "source": [
    "# Example usage\n",
    "#mask_file_path = '/Users/LennartPhilipp/Desktop/testing_data/derivatives/segmented_AURORA_20240424-122816/sub-01009590/metastasis_unbinarized_floats.nii.gz'\n",
    "#mri_path = \"/Users/LennartPhilipp/Desktop/testing_data/derivatives/preprocessed_brainlesion_20240424-110551/sub-01009590/preprocessed/sub-01009590_fla_bet_normalized.nii.gz\"\n",
    "mask_file_path = \"/Users/LennartPhilipp/Desktop/Uni/Prowiss/CIA metstobrain/Pretreat-MetsToBrain-Masks/BraTS-MET-00100-000/BraTS-MET-00100-000-seg.nii.gz\"\n",
    "mri_path = \"/Users/LennartPhilipp/Desktop/Uni/Prowiss/CIA metstobrain/yale_dataset_normalized/BraTS-MET-00100-000/n4_normalized_BraTS-MET-00100-000-t1c.nii.gz\"\n",
    "output_directory = '/Users/LennartPhilipp/Desktop/testing_data/derivatives/met_slices'\n",
    "#os.makedirs(output_directory, exist_ok=True)\n",
    "#process_nifty_mask(mask_file_path, mri_path, output_directory, save_mask_image=True, save_cut_out=True)"
   ]
  },
  {
   "cell_type": "markdown",
   "metadata": {},
   "source": [
    "## create skript to go through all patients"
   ]
  },
  {
   "cell_type": "markdown",
   "metadata": {},
   "source": [
    "### Regensburg Dataset"
   ]
  },
  {
   "cell_type": "markdown",
   "metadata": {},
   "source": [
    "old code"
   ]
  },
  {
   "cell_type": "code",
   "execution_count": null,
   "metadata": {},
   "outputs": [],
   "source": [
    "# output: create folder for each patient and save the slices there\n",
    "\n",
    "# input mri folder: path to all preprocessed patients\n",
    "# go to each patient and get all 4 mri scans\n",
    "# input segmentation folder: path to all segmented patients\n",
    "# go to each patient and get metastatis_unbinarized_floats.nii.gz\n",
    "\n",
    "path_to_output = Path(\"/Users/LennartPhilipp/Desktop/testing_data/derivatives/met_slices\")\n",
    "path_to_mri_patients = Path(\"/Users/LennartPhilipp/Desktop/testing_data/derivatives/preprocessed_brainlesion_20240424-110551\")\n",
    "path_to_segmentation_patients = Path(\"/Users/LennartPhilipp/Desktop/testing_data/derivatives/segmented_AURORA_20240424-122816\")\n",
    "\n",
    "segmentation_patients = [patient for patient in os.listdir(path_to_segmentation_patients) if os.path.isdir(os.path.join(path_to_segmentation_patients, patient))]\n",
    "\n",
    "for patient in tqdm(segmentation_patients):\n",
    "    # go through each patient\n",
    "    \n",
    "    print(f\"currently working on {patient}\")\n",
    "\n",
    "    # create new folder for output for patient\n",
    "    path_to_patient_output = Path(path_to_output) / Path(patient)\n",
    "    os.makedirs(path_to_patient_output, exist_ok=True)\n",
    "\n",
    "    # IMPORTANT!!!!!\n",
    "    # adjust path for final run\n",
    "    path_to_segmentation = Path(path_to_segmentation_patients) / Path(patient) / \"metastasis_unbinarized_floats.nii.gz\"\n",
    "\n",
    "    path_to_mri_images = Path(path_to_mri_patients) / Path(patient) / \"preprocessed\"\n",
    "    mri_images = [file for file in os.listdir(path_to_mri_images) if \".nii.gz\" in file]\n",
    "\n",
    "    for mri_image in mri_images:\n",
    "        # go through each mri image for the patient\n",
    "\n",
    "        mri_sequence = mri_image.split(\"_\")[1]\n",
    "\n",
    "        path_to_mri = Path(path_to_mri_images) / Path(mri_image)\n",
    "        process_nifty_mask(path_to_segmentation, path_to_mri, path_to_patient_output, patient, mri_sequence)\n",
    "    \n",
    "    print(f\"done with patient {patient}\")\n",
    "    "
   ]
  },
  {
   "cell_type": "markdown",
   "metadata": {},
   "source": [
    "working with actual segmented files"
   ]
  },
  {
   "cell_type": "markdown",
   "metadata": {},
   "source": [
    "# IMPORTANT\n",
    "some patients got processed multiple times, what was up with that?!"
   ]
  },
  {
   "cell_type": "code",
   "execution_count": null,
   "metadata": {},
   "outputs": [],
   "source": [
    "# output: create folder for each patient and save the slices there\n",
    "\n",
    "# input mri folder: path to all preprocessed patients\n",
    "# go to each patient and get all 4 mri scans\n",
    "# input segmentation folder: path to all segmented patients\n",
    "# go to each patient and get metastatis_unbinarized_floats.nii.gz\n",
    "\n",
    "path_to_output = Path(\"/Users/LennartPhilipp/Desktop/Uni/Prowiss/Datensatz_RGB/regensburg_slices\")\n",
    "path_to_mri_patients = Path(\"/Users/LennartPhilipp/Desktop/Uni/Prowiss/Datensatz_RGB/preprocessed_n4_brainlesion_percentile_20240612-083743\")\n",
    "path_to_segmentation_patients = Path(\"/Users/LennartPhilipp/Desktop/Uni/Prowiss/Datensatz_RGB/Segs_Lennart_Export\")\n",
    "\n",
    "path_to_tsv = Path(\"/Users/LennartPhilipp/Desktop/Uni/Prowiss/Dateien/participants_01_08_24.tsv\")\n",
    "\n",
    "segmentation_patients = [patient for patient in os.listdir(path_to_segmentation_patients) if \"labels\" in patient]\n",
    "\n",
    "pats_to_preprocess = pd.read_csv(path_to_tsv, sep=\"\\t\")[\"participant_id\"].tolist()\n",
    "\n",
    "already_processed_patients = [patient for patient in os.listdir(path_to_output) if os.path.isdir(os.path.join(path_to_output, patient))]\n",
    "\n",
    "counter = 0\n",
    "\n",
    "for patient in tqdm(segmentation_patients):\n",
    "    # go through each patient\n",
    "\n",
    "    # if counter >= 1:\n",
    "    #     break\n",
    "    \n",
    "    # get patient ID\n",
    "    patientID = patient.split(\"_\")[0]\n",
    "\n",
    "    # check if patient ID is in list of patients to preprocess\n",
    "    if patientID not in pats_to_preprocess:\n",
    "        continue\n",
    "\n",
    "    if patientID in already_processed_patients:\n",
    "        print(f\"patient {patientID} already processed\")\n",
    "        continue\n",
    "\n",
    "    print(f\"currently working on {patientID}\")\n",
    "\n",
    "    # create new folder for output for patient\n",
    "    path_to_patient_output = Path(path_to_output) / Path(patientID)\n",
    "    os.makedirs(path_to_patient_output, exist_ok=True)\n",
    "\n",
    "    # IMPORTANT!!!!!\n",
    "    # adjust path for final run\n",
    "    path_to_segmentation = Path(path_to_segmentation_patients) / Path(patient)\n",
    "\n",
    "    path_to_mri_images = Path(path_to_mri_patients) / Path(patientID) / \"perc_normalized\"\n",
    "    mri_images = [file for file in os.listdir(path_to_mri_images) if \".nii.gz\" in file]\n",
    "\n",
    "    if mri_images == []:\n",
    "        print(\"********************************\")\n",
    "        print(f\"patient {patientID} not complete\")\n",
    "        continue\n",
    "\n",
    "    for mri_image in mri_images:\n",
    "        # go through each mri image for the patient\n",
    "\n",
    "        mri_sequence = mri_image.split(\"_\")[1]\n",
    "\n",
    "        path_to_mri = Path(path_to_mri_images) / Path(mri_image)\n",
    "        process_nifty_mask(path_to_segmentation, path_to_mri, path_to_patient_output, patientID, mri_sequence,\n",
    "                           save_mask_image = True,\n",
    "                           save_cut_out = True,\n",
    "                           area_threshold = 10)\n",
    "    \n",
    "    print(f\"done with patient {patientID}\")\n",
    "\n",
    "    counter += 1\n",
    "\n",
    "print(counter)\n",
    "    "
   ]
  },
  {
   "cell_type": "code",
   "execution_count": 23,
   "metadata": {},
   "outputs": [
    {
     "name": "stdout",
     "output_type": "stream",
     "text": [
      "(240, 240)\n"
     ]
    }
   ],
   "source": [
    "path_to_image = Path(\"/Users/LennartPhilipp/Desktop/Uni/Prowiss/Datensatz_RGB/regensburg_test_slices/sub-01134825/sub-01134825_metastasis_105_1_t1.png\")\n",
    "\n",
    "test_image = iio.v3.imread(path_to_image)\n",
    "print(test_image.shape)"
   ]
  },
  {
   "cell_type": "markdown",
   "metadata": {},
   "source": [
    "### Yale Dataset"
   ]
  },
  {
   "cell_type": "code",
   "execution_count": 8,
   "metadata": {},
   "outputs": [],
   "source": [
    "path_to_yale_patients_raw = Path(\"/Users/LennartPhilipp/Desktop/Uni/Prowiss/CIA metstobrain/Pretreat-MetsToBrain-Masks\")\n",
    "path_to_yale_patients_processed = Path(\"/Users/LennartPhilipp/Desktop/Uni/Prowiss/CIA metstobrain/yale_dataset_normalized\")\n",
    "path_to_output = Path(\"/Users/LennartPhilipp/Desktop/Uni/Prowiss/CIA metstobrain/yale_metastases\")"
   ]
  },
  {
   "cell_type": "code",
   "execution_count": 11,
   "metadata": {},
   "outputs": [
    {
     "name": "stderr",
     "output_type": "stream",
     "text": [
      "Processing Yale Patients:   0%|          | 0/200 [00:00<?, ?it/s]"
     ]
    },
    {
     "name": "stdout",
     "output_type": "stream",
     "text": [
      "currently working on patient ID: 00086 (from folder. BraTS-MET-00086-000)\n"
     ]
    },
    {
     "name": "stderr",
     "output_type": "stream",
     "text": [
      "Processing Yale Patients:   0%|          | 1/200 [00:01<05:33,  1.68s/it]"
     ]
    },
    {
     "name": "stdout",
     "output_type": "stream",
     "text": [
      "done with patient BraTS-MET-00086-000\n",
      "currently working on patient ID: 00284 (from folder. BraTS-MET-00284-000)\n"
     ]
    },
    {
     "name": "stderr",
     "output_type": "stream",
     "text": [
      "Processing Yale Patients:   1%|          | 2/200 [00:02<04:39,  1.41s/it]"
     ]
    },
    {
     "name": "stdout",
     "output_type": "stream",
     "text": [
      "done with patient BraTS-MET-00284-000\n",
      "currently working on patient ID: 00290 (from folder. BraTS-MET-00290-000)\n"
     ]
    },
    {
     "name": "stderr",
     "output_type": "stream",
     "text": [
      "Processing Yale Patients:   2%|▏         | 3/200 [00:04<04:17,  1.30s/it]"
     ]
    },
    {
     "name": "stdout",
     "output_type": "stream",
     "text": [
      "done with patient BraTS-MET-00290-000\n",
      "currently working on patient ID: 00247 (from folder. BraTS-MET-00247-000)\n"
     ]
    },
    {
     "name": "stderr",
     "output_type": "stream",
     "text": [
      "Processing Yale Patients:   2%|▏         | 4/200 [00:05<03:58,  1.22s/it]"
     ]
    },
    {
     "name": "stdout",
     "output_type": "stream",
     "text": [
      "done with patient BraTS-MET-00247-000\n",
      "currently working on patient ID: 00253 (from folder. BraTS-MET-00253-000)\n"
     ]
    },
    {
     "name": "stderr",
     "output_type": "stream",
     "text": [
      "Processing Yale Patients:   2%|▎         | 5/200 [00:06<04:09,  1.28s/it]"
     ]
    },
    {
     "name": "stdout",
     "output_type": "stream",
     "text": [
      "done with patient BraTS-MET-00253-000\n",
      "currently working on patient ID: 00119 (from folder. BraTS-MET-00119-000)\n"
     ]
    },
    {
     "name": "stderr",
     "output_type": "stream",
     "text": [
      "Processing Yale Patients:   3%|▎         | 6/200 [00:27<25:55,  8.02s/it]"
     ]
    },
    {
     "name": "stdout",
     "output_type": "stream",
     "text": [
      "done with patient BraTS-MET-00119-000\n",
      "currently working on patient ID: 00131 (from folder. BraTS-MET-00131-000)\n"
     ]
    },
    {
     "name": "stderr",
     "output_type": "stream",
     "text": [
      "Processing Yale Patients:   4%|▎         | 7/200 [00:56<47:45, 14.85s/it]"
     ]
    },
    {
     "name": "stdout",
     "output_type": "stream",
     "text": [
      "done with patient BraTS-MET-00131-000\n",
      "currently working on patient ID: 00125 (from folder. BraTS-MET-00125-000)\n"
     ]
    },
    {
     "name": "stderr",
     "output_type": "stream",
     "text": [
      "Processing Yale Patients:   4%|▍         | 8/200 [01:20<56:32, 17.67s/it]"
     ]
    },
    {
     "name": "stdout",
     "output_type": "stream",
     "text": [
      "done with patient BraTS-MET-00125-000\n",
      "currently working on patient ID: 00124 (from folder. BraTS-MET-00124-000)\n"
     ]
    },
    {
     "name": "stderr",
     "output_type": "stream",
     "text": [
      "Processing Yale Patients:   4%|▍         | 9/200 [01:54<1:12:52, 22.90s/it]"
     ]
    },
    {
     "name": "stdout",
     "output_type": "stream",
     "text": [
      "done with patient BraTS-MET-00124-000\n",
      "currently working on patient ID: 00130 (from folder. BraTS-MET-00130-000)\n"
     ]
    },
    {
     "name": "stderr",
     "output_type": "stream",
     "text": [
      "Processing Yale Patients:   5%|▌         | 10/200 [02:19<1:14:40, 23.58s/it]"
     ]
    },
    {
     "name": "stdout",
     "output_type": "stream",
     "text": [
      "done with patient BraTS-MET-00130-000\n",
      "currently working on patient ID: 00118 (from folder. BraTS-MET-00118-000)\n"
     ]
    },
    {
     "name": "stderr",
     "output_type": "stream",
     "text": [
      "Processing Yale Patients:   6%|▌         | 11/200 [03:12<1:42:50, 32.65s/it]"
     ]
    },
    {
     "name": "stdout",
     "output_type": "stream",
     "text": [
      "done with patient BraTS-MET-00118-000\n",
      "currently working on patient ID: 00252 (from folder. BraTS-MET-00252-000)\n"
     ]
    },
    {
     "name": "stderr",
     "output_type": "stream",
     "text": [
      "Processing Yale Patients:   6%|▌         | 12/200 [03:22<1:20:18, 25.63s/it]"
     ]
    },
    {
     "name": "stdout",
     "output_type": "stream",
     "text": [
      "done with patient BraTS-MET-00252-000\n",
      "currently working on patient ID: 00291 (from folder. BraTS-MET-00291-000)\n"
     ]
    },
    {
     "name": "stderr",
     "output_type": "stream",
     "text": [
      "Processing Yale Patients:   6%|▋         | 13/200 [03:31<1:04:19, 20.64s/it]"
     ]
    },
    {
     "name": "stdout",
     "output_type": "stream",
     "text": [
      "done with patient BraTS-MET-00291-000\n",
      "currently working on patient ID: 00285 (from folder. BraTS-MET-00285-000)\n"
     ]
    },
    {
     "name": "stderr",
     "output_type": "stream",
     "text": [
      "Processing Yale Patients:   7%|▋         | 14/200 [03:40<52:36, 16.97s/it]  "
     ]
    },
    {
     "name": "stdout",
     "output_type": "stream",
     "text": [
      "done with patient BraTS-MET-00285-000\n",
      "currently working on patient ID: 00293 (from folder. BraTS-MET-00293-000)\n"
     ]
    },
    {
     "name": "stderr",
     "output_type": "stream",
     "text": [
      "Processing Yale Patients:   8%|▊         | 15/200 [03:49<45:06, 14.63s/it]"
     ]
    },
    {
     "name": "stdout",
     "output_type": "stream",
     "text": [
      "done with patient BraTS-MET-00293-000\n",
      "currently working on patient ID: 00278 (from folder. BraTS-MET-00278-000)\n"
     ]
    },
    {
     "name": "stderr",
     "output_type": "stream",
     "text": [
      "Processing Yale Patients:   8%|▊         | 16/200 [03:58<39:48, 12.98s/it]"
     ]
    },
    {
     "name": "stdout",
     "output_type": "stream",
     "text": [
      "done with patient BraTS-MET-00278-000\n",
      "currently working on patient ID: 00250 (from folder. BraTS-MET-00250-000)\n"
     ]
    },
    {
     "name": "stderr",
     "output_type": "stream",
     "text": [
      "Processing Yale Patients:   8%|▊         | 17/200 [04:07<36:17, 11.90s/it]"
     ]
    },
    {
     "name": "stdout",
     "output_type": "stream",
     "text": [
      "done with patient BraTS-MET-00250-000\n",
      "currently working on patient ID: 00244 (from folder. BraTS-MET-00244-000)\n"
     ]
    },
    {
     "name": "stderr",
     "output_type": "stream",
     "text": [
      "Processing Yale Patients:   9%|▉         | 18/200 [04:16<33:29, 11.04s/it]"
     ]
    },
    {
     "name": "stdout",
     "output_type": "stream",
     "text": [
      "done with patient BraTS-MET-00244-000\n",
      "currently working on patient ID: 00126 (from folder. BraTS-MET-00126-000)\n"
     ]
    },
    {
     "name": "stderr",
     "output_type": "stream",
     "text": [
      "Processing Yale Patients:  10%|▉         | 19/200 [04:26<31:56, 10.59s/it]"
     ]
    },
    {
     "name": "stdout",
     "output_type": "stream",
     "text": [
      "done with patient BraTS-MET-00126-000\n",
      "currently working on patient ID: 00132 (from folder. BraTS-MET-00132-000)\n"
     ]
    },
    {
     "name": "stderr",
     "output_type": "stream",
     "text": [
      "Processing Yale Patients:  10%|█         | 20/200 [04:36<30:48, 10.27s/it]"
     ]
    },
    {
     "name": "stdout",
     "output_type": "stream",
     "text": [
      "done with patient BraTS-MET-00132-000\n",
      "currently working on patient ID: 00133 (from folder. BraTS-MET-00133-000)\n"
     ]
    },
    {
     "name": "stderr",
     "output_type": "stream",
     "text": [
      "Processing Yale Patients:  10%|█         | 20/200 [04:45<42:49, 14.27s/it]\n"
     ]
    },
    {
     "ename": "KeyboardInterrupt",
     "evalue": "",
     "output_type": "error",
     "traceback": [
      "\u001b[0;31m---------------------------------------------------------------------------\u001b[0m",
      "\u001b[0;31mKeyboardInterrupt\u001b[0m                         Traceback (most recent call last)",
      "Cell \u001b[0;32mIn[11], line 77\u001b[0m\n\u001b[1;32m     73\u001b[0m         \u001b[38;5;28;01mcontinue\u001b[39;00m\n\u001b[1;32m     75\u001b[0m     path_to_current_mri \u001b[38;5;241m=\u001b[39m path_to_mri_images \u001b[38;5;241m/\u001b[39m mri_image_filename\n\u001b[0;32m---> 77\u001b[0m     \u001b[43mprocess_nifty_mask\u001b[49m\u001b[43m(\u001b[49m\n\u001b[1;32m     78\u001b[0m \u001b[43m        \u001b[49m\u001b[43mmask_path\u001b[49m\u001b[43m \u001b[49m\u001b[38;5;241;43m=\u001b[39;49m\u001b[43m \u001b[49m\u001b[43mpath_to_segmentation\u001b[49m\u001b[43m,\u001b[49m\n\u001b[1;32m     79\u001b[0m \u001b[43m        \u001b[49m\u001b[43mmri_path\u001b[49m\u001b[43m \u001b[49m\u001b[38;5;241;43m=\u001b[39;49m\u001b[43m \u001b[49m\u001b[43mpath_to_current_mri\u001b[49m\u001b[43m,\u001b[49m\n\u001b[1;32m     80\u001b[0m \u001b[43m        \u001b[49m\u001b[43moutput_dir\u001b[49m\u001b[43m \u001b[49m\u001b[38;5;241;43m=\u001b[39;49m\u001b[43m \u001b[49m\u001b[43mpath_to_patient_output\u001b[49m\u001b[43m,\u001b[49m\n\u001b[1;32m     81\u001b[0m \u001b[43m        \u001b[49m\u001b[43mpatient_id\u001b[49m\u001b[43m \u001b[49m\u001b[38;5;241;43m=\u001b[39;49m\u001b[43m \u001b[49m\u001b[43mpat_id_extracted\u001b[49m\u001b[43m,\u001b[49m\n\u001b[1;32m     82\u001b[0m \n\u001b[1;32m     83\u001b[0m \u001b[43m        \u001b[49m\u001b[43mmri_sequence\u001b[49m\u001b[43m \u001b[49m\u001b[38;5;241;43m=\u001b[39;49m\u001b[43m \u001b[49m\u001b[43mmri_sequence_type\u001b[49m\u001b[43m,\u001b[49m\n\u001b[1;32m     84\u001b[0m \u001b[43m        \u001b[49m\u001b[43msave_mask_image\u001b[49m\u001b[43m \u001b[49m\u001b[38;5;241;43m=\u001b[39;49m\u001b[43m \u001b[49m\u001b[38;5;28;43;01mTrue\u001b[39;49;00m\u001b[43m,\u001b[49m\n\u001b[1;32m     85\u001b[0m \u001b[43m        \u001b[49m\u001b[43msave_cut_out\u001b[49m\u001b[43m \u001b[49m\u001b[38;5;241;43m=\u001b[39;49m\u001b[43m \u001b[49m\u001b[38;5;28;43;01mFalse\u001b[39;49;00m\u001b[43m,\u001b[49m\n\u001b[1;32m     86\u001b[0m \u001b[43m        \u001b[49m\n\u001b[1;32m     87\u001b[0m \u001b[43m        \u001b[49m\u001b[43marea_threshold\u001b[49m\u001b[43m \u001b[49m\u001b[38;5;241;43m=\u001b[39;49m\u001b[43m \u001b[49m\u001b[38;5;241;43m10\u001b[39;49m\u001b[43m,\u001b[49m\n\u001b[1;32m     88\u001b[0m \u001b[43m        \u001b[49m\u001b[43mdataset\u001b[49m\u001b[43m \u001b[49m\u001b[38;5;241;43m=\u001b[39;49m\u001b[43m \u001b[49m\u001b[38;5;124;43m\"\u001b[39;49m\u001b[38;5;124;43myale\u001b[39;49m\u001b[38;5;124;43m\"\u001b[39;49m\n\u001b[1;32m     89\u001b[0m \u001b[43m    \u001b[49m\u001b[43m)\u001b[49m\n\u001b[1;32m     91\u001b[0m \u001b[38;5;28;01mexcept\u001b[39;00m \u001b[38;5;167;01mException\u001b[39;00m \u001b[38;5;28;01mas\u001b[39;00m e:\n\u001b[1;32m     92\u001b[0m     \u001b[38;5;28mprint\u001b[39m(\u001b[38;5;124mf\u001b[39m\u001b[38;5;124m\"\u001b[39m\u001b[38;5;124mError processing MRI file \u001b[39m\u001b[38;5;132;01m{\u001b[39;00mmri_image_filename\u001b[38;5;132;01m}\u001b[39;00m\u001b[38;5;124m for patient \u001b[39m\u001b[38;5;132;01m{\u001b[39;00mpatient\u001b[38;5;132;01m}\u001b[39;00m\u001b[38;5;124m: \u001b[39m\u001b[38;5;132;01m{\u001b[39;00me\u001b[38;5;132;01m}\u001b[39;00m\u001b[38;5;124m\"\u001b[39m)\n",
      "Cell \u001b[0;32mIn[7], line 25\u001b[0m, in \u001b[0;36mprocess_nifty_mask\u001b[0;34m(mask_path, mri_path, output_dir, patient_id, mri_sequence, save_mask_image, save_cut_out, area_threshold, dataset)\u001b[0m\n\u001b[1;32m     22\u001b[0m img \u001b[38;5;241m=\u001b[39m nib\u001b[38;5;241m.\u001b[39mload(mask_path)\n\u001b[1;32m     23\u001b[0m mask_data \u001b[38;5;241m=\u001b[39m img\u001b[38;5;241m.\u001b[39mget_fdata()\n\u001b[0;32m---> 25\u001b[0m mri_data \u001b[38;5;241m=\u001b[39m \u001b[43mnib\u001b[49m\u001b[38;5;241;43m.\u001b[39;49m\u001b[43mload\u001b[49m\u001b[43m(\u001b[49m\u001b[43mmri_path\u001b[49m\u001b[43m)\u001b[49m\u001b[38;5;241;43m.\u001b[39;49m\u001b[43mget_fdata\u001b[49m\u001b[43m(\u001b[49m\u001b[43m)\u001b[49m\n\u001b[1;32m     27\u001b[0m unique_labels \u001b[38;5;241m=\u001b[39m np\u001b[38;5;241m.\u001b[39munique(mask_data)\n\u001b[1;32m     28\u001b[0m \u001b[38;5;66;03m#print(unique_labels)\u001b[39;00m\n",
      "File \u001b[0;32m~/Desktop/Uni/Prowiss/Code/Brain_Mets_Classification/brain_mets_env/lib/python3.11/site-packages/nibabel/dataobj_images.py:355\u001b[0m, in \u001b[0;36mDataobjImage.get_fdata\u001b[0;34m(self, caching, dtype)\u001b[0m\n\u001b[1;32m    351\u001b[0m         \u001b[38;5;28;01mreturn\u001b[39;00m \u001b[38;5;28mself\u001b[39m\u001b[38;5;241m.\u001b[39m_fdata_cache\n\u001b[1;32m    352\u001b[0m \u001b[38;5;66;03m# Always return requested data type\u001b[39;00m\n\u001b[1;32m    353\u001b[0m \u001b[38;5;66;03m# For array proxies, will attempt to confine data array to dtype\u001b[39;00m\n\u001b[1;32m    354\u001b[0m \u001b[38;5;66;03m# during scaling\u001b[39;00m\n\u001b[0;32m--> 355\u001b[0m data \u001b[38;5;241m=\u001b[39m np\u001b[38;5;241m.\u001b[39masanyarray(\u001b[38;5;28mself\u001b[39m\u001b[38;5;241m.\u001b[39m_dataobj, dtype\u001b[38;5;241m=\u001b[39mdtype)\n\u001b[1;32m    356\u001b[0m \u001b[38;5;28;01mif\u001b[39;00m caching \u001b[38;5;241m==\u001b[39m \u001b[38;5;124m'\u001b[39m\u001b[38;5;124mfill\u001b[39m\u001b[38;5;124m'\u001b[39m:\n\u001b[1;32m    357\u001b[0m     \u001b[38;5;28mself\u001b[39m\u001b[38;5;241m.\u001b[39m_fdata_cache \u001b[38;5;241m=\u001b[39m data\n",
      "File \u001b[0;32m~/Desktop/Uni/Prowiss/Code/Brain_Mets_Classification/brain_mets_env/lib/python3.11/site-packages/nibabel/arrayproxy.py:391\u001b[0m, in \u001b[0;36mArrayProxy.__array__\u001b[0;34m(self, dtype)\u001b[0m\n\u001b[1;32m    370\u001b[0m \u001b[38;5;28;01mdef\u001b[39;00m\u001b[38;5;250m \u001b[39m\u001b[38;5;21m__array__\u001b[39m(\u001b[38;5;28mself\u001b[39m, dtype\u001b[38;5;241m=\u001b[39m\u001b[38;5;28;01mNone\u001b[39;00m):\n\u001b[1;32m    371\u001b[0m \u001b[38;5;250m    \u001b[39m\u001b[38;5;124;03m\"\"\" Read data from file and apply scaling, casting to ``dtype``\u001b[39;00m\n\u001b[1;32m    372\u001b[0m \n\u001b[1;32m    373\u001b[0m \u001b[38;5;124;03m    If ``dtype`` is unspecified, the dtype of the returned array is the\u001b[39;00m\n\u001b[0;32m   (...)\u001b[0m\n\u001b[1;32m    389\u001b[0m \u001b[38;5;124;03m        Scaled image data with type `dtype`.\u001b[39;00m\n\u001b[1;32m    390\u001b[0m \u001b[38;5;124;03m    \"\"\"\u001b[39;00m\n\u001b[0;32m--> 391\u001b[0m     arr \u001b[38;5;241m=\u001b[39m \u001b[38;5;28;43mself\u001b[39;49m\u001b[38;5;241;43m.\u001b[39;49m\u001b[43m_get_scaled\u001b[49m\u001b[43m(\u001b[49m\u001b[43mdtype\u001b[49m\u001b[38;5;241;43m=\u001b[39;49m\u001b[43mdtype\u001b[49m\u001b[43m,\u001b[49m\u001b[43m \u001b[49m\u001b[43mslicer\u001b[49m\u001b[38;5;241;43m=\u001b[39;49m\u001b[43m(\u001b[49m\u001b[43m)\u001b[49m\u001b[43m)\u001b[49m\n\u001b[1;32m    392\u001b[0m     \u001b[38;5;28;01mif\u001b[39;00m dtype \u001b[38;5;129;01mis\u001b[39;00m \u001b[38;5;129;01mnot\u001b[39;00m \u001b[38;5;28;01mNone\u001b[39;00m:\n\u001b[1;32m    393\u001b[0m         arr \u001b[38;5;241m=\u001b[39m arr\u001b[38;5;241m.\u001b[39mastype(dtype, copy\u001b[38;5;241m=\u001b[39m\u001b[38;5;28;01mFalse\u001b[39;00m)\n",
      "File \u001b[0;32m~/Desktop/Uni/Prowiss/Code/Brain_Mets_Classification/brain_mets_env/lib/python3.11/site-packages/nibabel/arrayproxy.py:358\u001b[0m, in \u001b[0;36mArrayProxy._get_scaled\u001b[0;34m(self, dtype, slicer)\u001b[0m\n\u001b[1;32m    356\u001b[0m     scl_inter \u001b[38;5;241m=\u001b[39m scl_inter\u001b[38;5;241m.\u001b[39mastype(use_dtype)\n\u001b[1;32m    357\u001b[0m \u001b[38;5;66;03m# Read array and upcast as necessary for big slopes, intercepts\u001b[39;00m\n\u001b[0;32m--> 358\u001b[0m scaled \u001b[38;5;241m=\u001b[39m apply_read_scaling(\u001b[38;5;28;43mself\u001b[39;49m\u001b[38;5;241;43m.\u001b[39;49m\u001b[43m_get_unscaled\u001b[49m\u001b[43m(\u001b[49m\u001b[43mslicer\u001b[49m\u001b[38;5;241;43m=\u001b[39;49m\u001b[43mslicer\u001b[49m\u001b[43m)\u001b[49m, scl_slope, scl_inter)\n\u001b[1;32m    359\u001b[0m \u001b[38;5;28;01mif\u001b[39;00m dtype \u001b[38;5;129;01mis\u001b[39;00m \u001b[38;5;129;01mnot\u001b[39;00m \u001b[38;5;28;01mNone\u001b[39;00m:\n\u001b[1;32m    360\u001b[0m     scaled \u001b[38;5;241m=\u001b[39m scaled\u001b[38;5;241m.\u001b[39mastype(np\u001b[38;5;241m.\u001b[39mpromote_types(scaled\u001b[38;5;241m.\u001b[39mdtype, dtype), copy\u001b[38;5;241m=\u001b[39m\u001b[38;5;28;01mFalse\u001b[39;00m)\n",
      "File \u001b[0;32m~/Desktop/Uni/Prowiss/Code/Brain_Mets_Classification/brain_mets_env/lib/python3.11/site-packages/nibabel/arrayproxy.py:332\u001b[0m, in \u001b[0;36mArrayProxy._get_unscaled\u001b[0;34m(self, slicer)\u001b[0m\n\u001b[1;32m    329\u001b[0m \u001b[38;5;28;01mif\u001b[39;00m canonical_slicers(slicer, \u001b[38;5;28mself\u001b[39m\u001b[38;5;241m.\u001b[39m_shape, \u001b[38;5;28;01mFalse\u001b[39;00m) \u001b[38;5;241m==\u001b[39m \\\n\u001b[1;32m    330\u001b[0m         canonical_slicers((), \u001b[38;5;28mself\u001b[39m\u001b[38;5;241m.\u001b[39m_shape, \u001b[38;5;28;01mFalse\u001b[39;00m):\n\u001b[1;32m    331\u001b[0m     \u001b[38;5;28;01mwith\u001b[39;00m \u001b[38;5;28mself\u001b[39m\u001b[38;5;241m.\u001b[39m_get_fileobj() \u001b[38;5;28;01mas\u001b[39;00m fileobj, \u001b[38;5;28mself\u001b[39m\u001b[38;5;241m.\u001b[39m_lock:\n\u001b[0;32m--> 332\u001b[0m         \u001b[38;5;28;01mreturn\u001b[39;00m \u001b[43marray_from_file\u001b[49m\u001b[43m(\u001b[49m\u001b[38;5;28;43mself\u001b[39;49m\u001b[38;5;241;43m.\u001b[39;49m\u001b[43m_shape\u001b[49m\u001b[43m,\u001b[49m\n\u001b[1;32m    333\u001b[0m \u001b[43m                               \u001b[49m\u001b[38;5;28;43mself\u001b[39;49m\u001b[38;5;241;43m.\u001b[39;49m\u001b[43m_dtype\u001b[49m\u001b[43m,\u001b[49m\n\u001b[1;32m    334\u001b[0m \u001b[43m                               \u001b[49m\u001b[43mfileobj\u001b[49m\u001b[43m,\u001b[49m\n\u001b[1;32m    335\u001b[0m \u001b[43m                               \u001b[49m\u001b[43moffset\u001b[49m\u001b[38;5;241;43m=\u001b[39;49m\u001b[38;5;28;43mself\u001b[39;49m\u001b[38;5;241;43m.\u001b[39;49m\u001b[43m_offset\u001b[49m\u001b[43m,\u001b[49m\n\u001b[1;32m    336\u001b[0m \u001b[43m                               \u001b[49m\u001b[43morder\u001b[49m\u001b[38;5;241;43m=\u001b[39;49m\u001b[38;5;28;43mself\u001b[39;49m\u001b[38;5;241;43m.\u001b[39;49m\u001b[43morder\u001b[49m\u001b[43m,\u001b[49m\n\u001b[1;32m    337\u001b[0m \u001b[43m                               \u001b[49m\u001b[43mmmap\u001b[49m\u001b[38;5;241;43m=\u001b[39;49m\u001b[38;5;28;43mself\u001b[39;49m\u001b[38;5;241;43m.\u001b[39;49m\u001b[43m_mmap\u001b[49m\u001b[43m)\u001b[49m\n\u001b[1;32m    338\u001b[0m \u001b[38;5;28;01mwith\u001b[39;00m \u001b[38;5;28mself\u001b[39m\u001b[38;5;241m.\u001b[39m_get_fileobj() \u001b[38;5;28;01mas\u001b[39;00m fileobj:\n\u001b[1;32m    339\u001b[0m     \u001b[38;5;28;01mreturn\u001b[39;00m fileslice(fileobj,\n\u001b[1;32m    340\u001b[0m                      slicer,\n\u001b[1;32m    341\u001b[0m                      \u001b[38;5;28mself\u001b[39m\u001b[38;5;241m.\u001b[39m_shape,\n\u001b[0;32m   (...)\u001b[0m\n\u001b[1;32m    344\u001b[0m                      order\u001b[38;5;241m=\u001b[39m\u001b[38;5;28mself\u001b[39m\u001b[38;5;241m.\u001b[39morder,\n\u001b[1;32m    345\u001b[0m                      lock\u001b[38;5;241m=\u001b[39m\u001b[38;5;28mself\u001b[39m\u001b[38;5;241m.\u001b[39m_lock)\n",
      "File \u001b[0;32m~/Desktop/Uni/Prowiss/Code/Brain_Mets_Classification/brain_mets_env/lib/python3.11/site-packages/nibabel/volumeutils.py:522\u001b[0m, in \u001b[0;36marray_from_file\u001b[0;34m(shape, in_dtype, infile, offset, order, mmap)\u001b[0m\n\u001b[1;32m    520\u001b[0m \u001b[38;5;28;01mif\u001b[39;00m \u001b[38;5;28mhasattr\u001b[39m(infile, \u001b[38;5;124m'\u001b[39m\u001b[38;5;124mreadinto\u001b[39m\u001b[38;5;124m'\u001b[39m):\n\u001b[1;32m    521\u001b[0m     data_bytes \u001b[38;5;241m=\u001b[39m \u001b[38;5;28mbytearray\u001b[39m(n_bytes)\n\u001b[0;32m--> 522\u001b[0m     n_read \u001b[38;5;241m=\u001b[39m \u001b[43minfile\u001b[49m\u001b[38;5;241;43m.\u001b[39;49m\u001b[43mreadinto\u001b[49m\u001b[43m(\u001b[49m\u001b[43mdata_bytes\u001b[49m\u001b[43m)\u001b[49m\n\u001b[1;32m    523\u001b[0m     needs_copy \u001b[38;5;241m=\u001b[39m \u001b[38;5;28;01mFalse\u001b[39;00m\n\u001b[1;32m    524\u001b[0m \u001b[38;5;28;01melse\u001b[39;00m:\n",
      "File \u001b[0;32m/Library/Frameworks/Python.framework/Versions/3.11/lib/python3.11/gzip.py:301\u001b[0m, in \u001b[0;36mGzipFile.read\u001b[0;34m(self, size)\u001b[0m\n\u001b[1;32m    299\u001b[0m     \u001b[38;5;28;01mimport\u001b[39;00m\u001b[38;5;250m \u001b[39m\u001b[38;5;21;01merrno\u001b[39;00m\n\u001b[1;32m    300\u001b[0m     \u001b[38;5;28;01mraise\u001b[39;00m \u001b[38;5;167;01mOSError\u001b[39;00m(errno\u001b[38;5;241m.\u001b[39mEBADF, \u001b[38;5;124m\"\u001b[39m\u001b[38;5;124mread() on write-only GzipFile object\u001b[39m\u001b[38;5;124m\"\u001b[39m)\n\u001b[0;32m--> 301\u001b[0m \u001b[38;5;28;01mreturn\u001b[39;00m \u001b[38;5;28mself\u001b[39m\u001b[38;5;241m.\u001b[39m_buffer\u001b[38;5;241m.\u001b[39mread(size)\n",
      "File \u001b[0;32m/Library/Frameworks/Python.framework/Versions/3.11/lib/python3.11/_compression.py:68\u001b[0m, in \u001b[0;36mDecompressReader.readinto\u001b[0;34m(self, b)\u001b[0m\n\u001b[1;32m     66\u001b[0m \u001b[38;5;28;01mdef\u001b[39;00m\u001b[38;5;250m \u001b[39m\u001b[38;5;21mreadinto\u001b[39m(\u001b[38;5;28mself\u001b[39m, b):\n\u001b[1;32m     67\u001b[0m     \u001b[38;5;28;01mwith\u001b[39;00m \u001b[38;5;28mmemoryview\u001b[39m(b) \u001b[38;5;28;01mas\u001b[39;00m view, view\u001b[38;5;241m.\u001b[39mcast(\u001b[38;5;124m\"\u001b[39m\u001b[38;5;124mB\u001b[39m\u001b[38;5;124m\"\u001b[39m) \u001b[38;5;28;01mas\u001b[39;00m byte_view:\n\u001b[0;32m---> 68\u001b[0m         data \u001b[38;5;241m=\u001b[39m \u001b[38;5;28;43mself\u001b[39;49m\u001b[38;5;241;43m.\u001b[39;49m\u001b[43mread\u001b[49m\u001b[43m(\u001b[49m\u001b[38;5;28;43mlen\u001b[39;49m\u001b[43m(\u001b[49m\u001b[43mbyte_view\u001b[49m\u001b[43m)\u001b[49m\u001b[43m)\u001b[49m\n\u001b[1;32m     69\u001b[0m         byte_view[:\u001b[38;5;28mlen\u001b[39m(data)] \u001b[38;5;241m=\u001b[39m data\n\u001b[1;32m     70\u001b[0m     \u001b[38;5;28;01mreturn\u001b[39;00m \u001b[38;5;28mlen\u001b[39m(data)\n",
      "File \u001b[0;32m/Library/Frameworks/Python.framework/Versions/3.11/lib/python3.11/gzip.py:507\u001b[0m, in \u001b[0;36m_GzipReader.read\u001b[0;34m(self, size)\u001b[0m\n\u001b[1;32m    504\u001b[0m \u001b[38;5;66;03m# Read a chunk of data from the file\u001b[39;00m\n\u001b[1;32m    505\u001b[0m buf \u001b[38;5;241m=\u001b[39m \u001b[38;5;28mself\u001b[39m\u001b[38;5;241m.\u001b[39m_fp\u001b[38;5;241m.\u001b[39mread(io\u001b[38;5;241m.\u001b[39mDEFAULT_BUFFER_SIZE)\n\u001b[0;32m--> 507\u001b[0m uncompress \u001b[38;5;241m=\u001b[39m \u001b[38;5;28;43mself\u001b[39;49m\u001b[38;5;241;43m.\u001b[39;49m\u001b[43m_decompressor\u001b[49m\u001b[38;5;241;43m.\u001b[39;49m\u001b[43mdecompress\u001b[49m\u001b[43m(\u001b[49m\u001b[43mbuf\u001b[49m\u001b[43m,\u001b[49m\u001b[43m \u001b[49m\u001b[43msize\u001b[49m\u001b[43m)\u001b[49m\n\u001b[1;32m    508\u001b[0m \u001b[38;5;28;01mif\u001b[39;00m \u001b[38;5;28mself\u001b[39m\u001b[38;5;241m.\u001b[39m_decompressor\u001b[38;5;241m.\u001b[39munconsumed_tail \u001b[38;5;241m!=\u001b[39m \u001b[38;5;124mb\u001b[39m\u001b[38;5;124m\"\u001b[39m\u001b[38;5;124m\"\u001b[39m:\n\u001b[1;32m    509\u001b[0m     \u001b[38;5;28mself\u001b[39m\u001b[38;5;241m.\u001b[39m_fp\u001b[38;5;241m.\u001b[39mprepend(\u001b[38;5;28mself\u001b[39m\u001b[38;5;241m.\u001b[39m_decompressor\u001b[38;5;241m.\u001b[39munconsumed_tail)\n",
      "\u001b[0;31mKeyboardInterrupt\u001b[0m: "
     ]
    }
   ],
   "source": [
    "# output: create folder for each patient and save the slices there\n",
    "\n",
    "# input mri folder: path to all patient scans, including segmentations\n",
    "# go to each patient and get all 4 mri scans as well as segmentation\n",
    "\n",
    "\n",
    "yale_patients = [\n",
    "    patient_folder for patient_folder in os.listdir(path_to_yale_patients_raw)\n",
    "    if os.path.isdir(os.path.join(path_to_yale_patients_raw, patient_folder)) and \"BraTS-MET\" in patient_folder\n",
    "]\n",
    "\n",
    "# already_processed_yale_ids = [\n",
    "#     pid for pid in os.listdir(path_to_output)\n",
    "#     if os.path.isdir(os.path.join(path_to_output, pid)) and len(os.listdir(os.path.join(path_to_output, pid))) > 4\n",
    "#]\n",
    "\n",
    "counter = 0\n",
    "\n",
    "#os.makedirs(path_to_output, exist_ok = True)\n",
    "\n",
    "for patient in tqdm(yale_patients, desc = \"Processing Yale Patients\"):\n",
    "\n",
    "    # Counter to pause the loop after 5 iterations\n",
    "    # if counter >= 5:\n",
    "    #     break\n",
    "\n",
    "    # go through each patient\n",
    "\n",
    "    pat_id_extracted = patient.split(\"-\")[2] # e.g., \"0086\" from \"BraTS-MET-0086-000\"\n",
    "    \n",
    "    print(f\"currently working on patient ID: {pat_id_extracted} (from folder. {patient})\")\n",
    "\n",
    "    # create new folder for output for patient\n",
    "    path_to_patient_output = Path(path_to_output) / Path(pat_id_extracted)\n",
    "    os.makedirs(path_to_patient_output, exist_ok=True)\n",
    "\n",
    "    # IMPORTANT!!!!!\n",
    "    # adjust path for final run\n",
    "    path_to_raw_patient_files = Path(path_to_yale_patients_raw) / Path(patient)\n",
    "    segmentation_files = [file for file in os.listdir(path_to_raw_patient_files) if file.endswith(\"-seg.nii.gz\")]\n",
    "    if not segmentation_files:\n",
    "        print(f\"Warning: No segmentation file found for {patient}. Skipping.\")\n",
    "        continue\n",
    "    path_to_segmentation = Path(path_to_raw_patient_files) / Path(segmentation_files[0])\n",
    "\n",
    "    # Get Processed MRI Images\n",
    "    path_to_mri_images = Path(path_to_yale_patients_processed) / Path(patient)\n",
    "    if not path_to_mri_images.exists():\n",
    "        print(f\"Warning: Processed MRI folder not found for {patient} at {path_to_mri_images}. Skippin.\")\n",
    "        continue\n",
    "\n",
    "    # Expecting n4_normalized_BraTS-MET-XXXXX-000-t1.nii.gz etc.\n",
    "    mri_images = [\n",
    "        file for file in os.listdir(path_to_mri_images)\n",
    "        if file.endswith(\".nii.gz\") and \"n4_normalized\" in file and \"seg\" not in file # ensure it's not a segmentation file\n",
    "    ]\n",
    "\n",
    "    if len(mri_images) != 4:\n",
    "        print(\"********************************\")\n",
    "        print(f\"Warning: Not enough normalized MRI image files found for {patient} in {path_to_mri_images}. Skipping.\")\n",
    "        continue\n",
    "\n",
    "    for mri_image_filename in mri_images:\n",
    "        # go through each mri image for the patient\n",
    "\n",
    "        try:\n",
    "            # Extract sequence type, e.g., \"t1c\" from \"n4_normalized_BraTS-MET-00100-000-t1.nii.gz\"\n",
    "            parts = mri_image_filename.split(\"-\")\n",
    "            if len(parts) >= 5:\n",
    "                mri_sequence_type = parts[4].split(\".\")[0]\n",
    "            else:\n",
    "                print(f\"Warning: Could not determine MRI sequence from filename: {mri_image_filename}. Skipping this file.\")\n",
    "                continue\n",
    "                \n",
    "            path_to_current_mri = path_to_mri_images / mri_image_filename\n",
    "\n",
    "            process_nifty_mask(\n",
    "                mask_path = path_to_segmentation,\n",
    "                mri_path = path_to_current_mri,\n",
    "                output_dir = path_to_patient_output,\n",
    "                patient_id = pat_id_extracted,\n",
    "\n",
    "                mri_sequence = mri_sequence_type,\n",
    "                save_mask_image = True,\n",
    "                save_cut_out = False,\n",
    "                \n",
    "                area_threshold = 10,\n",
    "                dataset = \"yale\"\n",
    "            )\n",
    "\n",
    "        except Exception as e:\n",
    "            print(f\"Error processing MRI file {mri_image_filename} for patient {patient}: {e}\")\n",
    "    \n",
    "    counter += 1\n",
    "\n",
    "    print(f\"done with patient {patient}\")\n",
    "    "
   ]
  }
 ],
 "metadata": {
  "kernelspec": {
   "display_name": "brain_mets_env",
   "language": "python",
   "name": "python3"
  },
  "language_info": {
   "codemirror_mode": {
    "name": "ipython",
    "version": 3
   },
   "file_extension": ".py",
   "mimetype": "text/x-python",
   "name": "python",
   "nbconvert_exporter": "python",
   "pygments_lexer": "ipython3",
   "version": "3.11.0"
  }
 },
 "nbformat": 4,
 "nbformat_minor": 2
}
