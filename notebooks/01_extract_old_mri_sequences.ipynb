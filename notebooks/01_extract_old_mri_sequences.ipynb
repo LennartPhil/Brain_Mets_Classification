{
 "cells": [
  {
   "cell_type": "markdown",
   "metadata": {},
   "source": [
    "# Get old MRI sequences and move them into correct directory"
   ]
  },
  {
   "cell_type": "code",
   "execution_count": 40,
   "metadata": {},
   "outputs": [],
   "source": [
    "import os\n",
    "from tqdm import tqdm\n",
    "\n",
    "import sys\n",
    "sys.path.append(r\"/Users/LennartPhilipp/Desktop/Uni/Prowiss/Code/Brain_Mets_Classification\")\n",
    "\n",
    "import shutil\n",
    "import pandas as pd\n",
    "import math\n",
    "from dateutil.relativedelta import relativedelta\n",
    "\n",
    "import brain_mets_classification.config as config\n",
    "import brain_mets_classification.custom_funcs as funcs"
   ]
  },
  {
   "cell_type": "markdown",
   "metadata": {},
   "source": [
    "## Copy patient files into new directory"
   ]
  },
  {
   "cell_type": "code",
   "execution_count": 26,
   "metadata": {},
   "outputs": [],
   "source": [
    "path_to_old_patients = \"/Volumes/BrainMets/Rgb_Brain_Mets/Regensburg_BrainMetDataset_raw_20240124\"\n",
    "# files are named like this\n",
    "# [PATIENT ID]_[DATE OF RECORDING]/[PATIENT ID]_[DATE OF RECORDING]_[SEQUENCE TYPE].nii.gz\n",
    "\n",
    "path_to_bids_brain_mets_regensburg = \"/Volumes/BrainMets/Rgb_Brain_Mets/bids_old_patients\"\n",
    "# file naming scheme: sub-[PATIENT ID]/anat/sub-[PATIENT ID]_[SEQUENCE TYPE].nii.gz\n",
    "\n",
    "path_to_brain_mets_classification = \"/Volumes/BrainMets/Rgb_Brain_Mets/brain_mets_classification/rawdata\""
   ]
  },
  {
   "cell_type": "code",
   "execution_count": 20,
   "metadata": {},
   "outputs": [
    {
     "name": "stderr",
     "output_type": "stream",
     "text": [
      "100%|██████████| 231/231 [00:21<00:00, 10.77it/s]\n"
     ]
    }
   ],
   "source": [
    "# get patient folders\n",
    "patientFolders = [\n",
    "    folder for folder in os.listdir(path_to_old_patients) if os.path.isdir(os.path.join(path_to_old_patients, folder))\n",
    "]\n",
    "\n",
    "mri_date_dict = {}\n",
    "\n",
    "# loop through the patients\n",
    "for patientFolder in tqdm(patientFolders):\n",
    "\n",
    "    # ignores the ds_folders\n",
    "    if config.dsStore in patientFolder:\n",
    "        continue\n",
    "    \n",
    "    patientID = patientFolder.split(\"_\")[0]\n",
    "    time_of_recording = patientFolder.split(\"_\")[1] #yyyymmddhhmmss\n",
    "    mri_date_dict[patientID] = time_of_recording\n",
    "\n",
    "    patient = config.patient(id = patientID)\n",
    "\n",
    "    # create new folder for patient in path_to_bids\n",
    "    bids_patient = funcs.createPatientFolderBIDS(path = os.path.join(path_to_bids_brain_mets_regensburg), patientID = patientID)\n",
    "\n",
    "    # create anat folder within patientFolder\n",
    "    path_to_anat_directory = f\"{path_to_bids_brain_mets_regensburg}/{bids_patient}/anat\"\n",
    "    os.mkdir(path_to_anat_directory)\n",
    "\n",
    "    # get list of sequences\n",
    "    list_of_sequences = [\n",
    "        sequence for sequence in os.listdir(os.path.join(path_to_old_patients, patientFolder)) if (\".nii\" in sequence and not sequence.startswith(\".\"))\n",
    "    ]\n",
    "\n",
    "    for sequence in list_of_sequences:\n",
    "        # new name of sequences: T1, T1c, T2, FLAIR\n",
    "        # new file names: sub-[patientID]_[sequenceType].nii.gz\n",
    "        # only copy T1, T1c, T2 and FLAIR\n",
    "        if \"FLAIR\" in sequence:\n",
    "            new_file_name = f\"sub-{patientID}_FLAIR.nii.gz\"\n",
    "            path_to_source = f\"{path_to_old_patients}/{patientFolder}/{sequence}\"\n",
    "            path_to_destination = f\"{path_to_anat_directory}/{new_file_name}\"\n",
    "\n",
    "        elif \"T2\" in sequence:\n",
    "            new_file_name = f\"sub-{patientID}_T2w.nii.gz\"\n",
    "            path_to_source = f\"{path_to_old_patients}/{patientFolder}/{sequence}\"\n",
    "            path_to_destination = f\"{path_to_anat_directory}/{new_file_name}\"\n",
    "\n",
    "        elif \"T1CE\" in sequence:\n",
    "            new_file_name = f\"sub-{patientID}_T1c.nii.gz\"\n",
    "            path_to_source = f\"{path_to_old_patients}/{patientFolder}/{sequence}\"\n",
    "            path_to_destination = f\"{path_to_anat_directory}/{new_file_name}\"\n",
    "\n",
    "        elif \"T1\" in sequence:\n",
    "            new_file_name = f\"sub-{patientID}_T1w.nii.gz\"\n",
    "            path_to_source = f\"{path_to_old_patients}/{patientFolder}/{sequence}\"\n",
    "            path_to_destination = f\"{path_to_anat_directory}/{new_file_name}\"\n",
    "\n",
    "        else: # MPRAGE sequence can be skipped\n",
    "            continue\n",
    "\n",
    "        shutil.copy(path_to_source, path_to_destination)"
   ]
  },
  {
   "cell_type": "markdown",
   "metadata": {},
   "source": [
    "Manually copied all the files into the brain_mets_classification/rawdata directory"
   ]
  },
  {
   "cell_type": "markdown",
   "metadata": {},
   "source": [
    "## Get patient infos and update the .tsv file"
   ]
  },
  {
   "cell_type": "code",
   "execution_count": 54,
   "metadata": {},
   "outputs": [
    {
     "name": "stderr",
     "output_type": "stream",
     "text": [
      "100%|██████████| 467/467 [00:00<00:00, 255776.96it/s]"
     ]
    },
    {
     "name": "stdout",
     "output_type": "stream",
     "text": [
      "187\n"
     ]
    },
    {
     "name": "stderr",
     "output_type": "stream",
     "text": [
      "\n"
     ]
    }
   ],
   "source": [
    "path_to_patients_csv = \"/Users/LennartPhilipp/Desktop/Uni/Prowiss/Code/oldpatientsIDsexbirthdateprimary.csv\"\n",
    "excel_patients = pd.read_csv(path_to_patients_csv)\n",
    "\n",
    "path_to_tsv = \"/Volumes/BrainMets/Rgb_Brain_Mets/brain_mets_classification/rawdata/participants.tsv\"\n",
    "tsv_patients = pd.read_csv(path_to_tsv, sep=\"\\t\")\n",
    "\n",
    "# get the ids of all the patients that are already in the .tsv file\n",
    "tsv_patient_ids = tsv_patients[\"participant_id\"].values\n",
    "\n",
    "# array to store all the patient ids that arent in the .tsv file\n",
    "new_patient_ids = []\n",
    "\n",
    "# get list of all the patients that are not yet in the tsv file\n",
    "# get patient folders\n",
    "patientFolders = [\n",
    "    folder for folder in os.listdir(path_to_brain_mets_classification) if os.path.isdir(os.path.join(path_to_brain_mets_classification, folder))\n",
    "]\n",
    "\n",
    "for folder in tqdm(patientFolders):\n",
    "\n",
    "    # ignores the ds_folders\n",
    "    if config.dsStore in patientFolder:\n",
    "        continue\n",
    "\n",
    "    patientID = folder\n",
    "\n",
    "    if not patientID in tsv_patient_ids:\n",
    "        new_patient_ids.append(patientID)\n",
    "\n",
    "print(len(new_patient_ids))\n",
    "\n",
    "# find out the age that they were when the mri was taken\n",
    "excel_patients = excel_patients.drop(columns=[\"on_server\", \"Unnamed: 0\", \"in_study (0 = no, 1 = yes, 2 = tbd, 3 = remarkable)\"])\n",
    "\n",
    "# turn ID column into str with exactly 8 characters and add \"sub-\" before that\n",
    "def convert_patientID_to_str(id):\n",
    "    length_of_id = int(math.log10(id))+1\n",
    "    if length_of_id < 8:\n",
    "        num_of_zeros = 8 - length_of_id\n",
    "        bids_subject_id = num_of_zeros * \"0\" + str(int(id))\n",
    "    else:\n",
    "        bids_subject_id = str(int(id))\n",
    "    return bids_subject_id\n",
    "\n",
    "def convert_patientID_to_bids(id):\n",
    "    return \"sub-\" + id\n",
    "\n",
    "# convert the ID ints to 8 character strings\n",
    "excel_patients[\"ID\"] = excel_patients[\"ID\"].apply(convert_patientID_to_str)\n",
    "\n",
    "# add the mri_date column\n",
    "excel_patients[\"mri_date\"] = excel_patients[\"ID\"].map(mri_date_dict)\n",
    "\n",
    "# add \"sub-\" before each patientID\n",
    "excel_patients[\"ID\"] = excel_patients[\"ID\"].apply(convert_patientID_to_bids)\n",
    "\n",
    "# convert strings to datetime\n",
    "excel_patients[\"mri_date\"] = pd.to_datetime(excel_patients[\"mri_date\"])\n",
    "excel_patients[\"birthdate\"] = pd.to_datetime(excel_patients[\"birthdate\"])\n",
    "\n",
    "# remove possibly empty columns\n",
    "dataset_patients = excel_patients.loc[excel_patients.mri_date.isna() == False]\n",
    "\n",
    "# get only unique columns (some patients are listed multiple times, I really don't know why)\n",
    "dataset_patients = dataset_patients.drop_duplicates(subset=['ID'], keep='first')\n",
    "\n",
    "# create a dict with patientID : age\n",
    "age_dict = {}\n",
    "for index, row in dataset_patients.iterrows():\n",
    "    id = row[\"ID\"]\n",
    "    # calculate the age of the patient when the mri was recorded\n",
    "    age = relativedelta(row[\"mri_date\"], row[\"birthdate\"]).years\n",
    "    age_dict[id] = age\n",
    "\n",
    "# add new age column\n",
    "dataset_patients[\"age\"] = dataset_patients[\"ID\"].map(age_dict)\n",
    "\n",
    "# remove mri_date and birthdate columns to perserve anonymity\n",
    "dataset_patients = dataset_patients.drop(columns=[\"mri_date\", \"birthdate\"])\n",
    "\n",
    "dataset_patients = dataset_patients.rename(columns={\"ID\":\"participant_id\"})\n",
    "\n",
    "# add them to the tsv file\n",
    "all_classification_patients = pd.concat([tsv_patients, dataset_patients])\n",
    "\n",
    "# remove duplicates\n",
    "all_classification_patients = all_classification_patients.drop_duplicates(subset=['participant_id'], keep='first')\n",
    "\n",
    "# consider sorting the tsv file numerically\n",
    "all_classification_patients = all_classification_patients.sort_values(\"participant_id\")\n",
    "\n",
    "# replace \"w\" in sex column with \"f\"\n",
    "all_classification_patients[\"sex (m/w)\"].replace(\"w\", \"f\", inplace=True)\n",
    "\n",
    "# rename primary column\n",
    "all_classification_patients = all_classification_patients.rename(columns={\"primary_coded_newv\":\"primary\", \"sex (m/w)\":\"sex (m/f)\"})\n",
    "\n",
    "# move primary column all the way to the right\n",
    "all_classification_patients = all_classification_patients[[\"participant_id\", \"sex (m/f)\", \"age\", \"primary\"]]\n",
    "\n",
    "# congrats: you have all the patient files\n",
    "# save the new file\n",
    "all_classification_patients.to_csv(f\"{path_to_brain_mets_classification}/all_participants.tsv\", sep = \"\\t\", index = False)"
   ]
  },
  {
   "cell_type": "markdown",
   "metadata": {},
   "source": [
    "2 patients in the list are CUP patients and shouldn't be in the classification set"
   ]
  },
  {
   "cell_type": "code",
   "execution_count": 67,
   "metadata": {},
   "outputs": [
    {
     "name": "stdout",
     "output_type": "stream",
     "text": [
      "tsv count: 465\n",
      "folder count: 465\n"
     ]
    },
    {
     "name": "stderr",
     "output_type": "stream",
     "text": [
      "100%|██████████| 465/465 [00:00<00:00, 119163.64it/s]\n"
     ]
    }
   ],
   "source": [
    "all_participants_tsv = pd.read_csv(f\"{path_to_brain_mets_classification}/all_participants.tsv\", sep=\"\\t\")\n",
    "\n",
    "tsv_ids = all_participants_tsv[\"participant_id\"].values\n",
    "print(f\"tsv count: {len(tsv_ids)}\")\n",
    "\n",
    "patientFolders = [\n",
    "    folder for folder in os.listdir(path_to_brain_mets_classification) if (os.path.isdir(os.path.join(path_to_brain_mets_classification, folder)) and not folder.startswith(\".\"))\n",
    "]\n",
    "\n",
    "print(f\"folder count: {len(patientFolders)}\")\n",
    "\n",
    "for folder in tqdm(patientFolders):\n",
    "\n",
    "    if not folder in tsv_ids:\n",
    "        path_to_folder = os.path.join(path_to_brain_mets_classification, folder)\n",
    "        os.system(f\"rm -r {path_to_folder}\")"
   ]
  }
 ],
 "metadata": {
  "kernelspec": {
   "display_name": ".brain_mets_env",
   "language": "python",
   "name": "python3"
  },
  "language_info": {
   "codemirror_mode": {
    "name": "ipython",
    "version": 3
   },
   "file_extension": ".py",
   "mimetype": "text/x-python",
   "name": "python",
   "nbconvert_exporter": "python",
   "pygments_lexer": "ipython3",
   "version": "3.11.0"
  }
 },
 "nbformat": 4,
 "nbformat_minor": 2
}
