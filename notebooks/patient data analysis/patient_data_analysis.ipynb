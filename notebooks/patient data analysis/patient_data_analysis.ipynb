{
 "cells": [
  {
   "cell_type": "markdown",
   "metadata": {},
   "source": [
    "# Patient Data Analysis"
   ]
  },
  {
   "cell_type": "code",
   "execution_count": 1,
   "metadata": {},
   "outputs": [],
   "source": [
    "# import libraries\n",
    "import pandas as pd\n",
    "from pathlib import Path\n",
    "import numpy as np\n",
    "import os\n",
    "from dateutil.relativedelta import relativedelta\n",
    "import matplotlib.pyplot as plt\n",
    "\n",
    "\n",
    "import sys\n",
    "sys.path.append(r\"/Users/LennartPhilipp/Desktop/Uni/Prowiss/Code/Brain_Mets_Classification\")\n",
    "import brain_mets_classification.config as config"
   ]
  },
  {
   "cell_type": "markdown",
   "metadata": {},
   "source": [
    "### load data"
   ]
  },
  {
   "cell_type": "markdown",
   "metadata": {},
   "source": [
    "load excel sheet"
   ]
  },
  {
   "cell_type": "code",
   "execution_count": 2,
   "metadata": {},
   "outputs": [],
   "source": [
    "# reads the patient excel sheet and puts them into a pandas Dataframe\n",
    "path_to_excel = Path(\"/Users/LennartPhilipp/Desktop/Uni/Prowiss/Dateien/patient data analysis correction 31_07_24.xlsx\")\n",
    "try:\n",
    "    patientsDataFrame = pd.read_excel(path_to_excel)\n",
    "except ImportError as e:\n",
    "    print(e)\n",
    "\n",
    "modifiedPatientsDataFrame = patientsDataFrame.copy()"
   ]
  },
  {
   "cell_type": "markdown",
   "metadata": {},
   "source": [
    "load patients actually in dataset"
   ]
  },
  {
   "cell_type": "code",
   "execution_count": 3,
   "metadata": {},
   "outputs": [],
   "source": [
    "#path_to_list_of_patients_in_dataset = Path(\"/Users/LennartPhilipp/Desktop/Uni/Prowiss/Dateien/dataset_patients_05_24.tsv\")\n",
    "path_to_list_of_patients_in_dataset = Path(\"/Users/LennartPhilipp/Desktop/Uni/Prowiss/Dateien/participants_01_08_24.tsv\")\n",
    "\n",
    "dataset_patients = pd.read_csv(path_to_list_of_patients_in_dataset, sep=\"\\t\", index_col=False)"
   ]
  },
  {
   "cell_type": "code",
   "execution_count": 4,
   "metadata": {},
   "outputs": [
    {
     "name": "stdout",
     "output_type": "stream",
     "text": [
      "Before removing unfit files: 473\n",
      "After removing unfit files: 471\n"
     ]
    }
   ],
   "source": [
    "path_to_dataset_patients = Path(\"/Users/LennartPhilipp/Desktop/Uni/Prowiss/Dateien/participants.tsv\")\n",
    "path_to_preprocessed_images = Path(\"/Volumes/BrainMets/Rgb_Brain_Mets/brain_mets_classification/derivatives/preprocessed_brainlesion_allpatients\")\n",
    "\n",
    "#dataset_patients = pd.read_csv(path_to_dataset_patients, sep=\"\\t\", index_col=False)\n",
    "\n",
    "# drop patient sub-01383503\n",
    "patient_to_drop_index = dataset_patients.index[dataset_patients[\"participant_id\"] == \"sub-01383503\"]\n",
    "dataset_patients.drop(index=patient_to_drop_index, inplace=True)\n",
    "dataset_patients.reset_index(drop=True, inplace=True)\n",
    "#training_patients = training_patients.sample(frac=1) #shuffles the dataset\n",
    "\n",
    "print(f\"Before removing unfit files: {len(dataset_patients)}\")\n",
    "patient_files_list = os.listdir(path_to_preprocessed_images)\n",
    "for index, row in dataset_patients.iterrows():\n",
    "    if dataset_patients[\"participant_id\"][index] not in patient_files_list:\n",
    "        dataset_patients.drop(index=index, inplace=True)\n",
    "\n",
    "print(f\"After removing unfit files: {len(dataset_patients)}\")\n",
    "dataset_patients.reset_index(drop=True, inplace=True)"
   ]
  },
  {
   "cell_type": "markdown",
   "metadata": {},
   "source": [
    "### DON'T EXECUTE CASUALLY!"
   ]
  },
  {
   "cell_type": "code",
   "execution_count": 5,
   "metadata": {},
   "outputs": [],
   "source": [
    "# export dataset_patients\n",
    "#path_to_list_of_patients_in_dataset = Path(\"/Users/LennartPhilipp/Desktop/Uni/Prowiss/Dateien/dataset_patients_05_24.tsv\")\n",
    "#dataset_patients.to_csv(path_to_list_of_patients_in_dataset, index=False, sep=\"\\t\")"
   ]
  },
  {
   "cell_type": "markdown",
   "metadata": {},
   "source": [
    "### Data clean up"
   ]
  },
  {
   "cell_type": "code",
   "execution_count": 6,
   "metadata": {},
   "outputs": [],
   "source": [
    "# removes unused columns from dataset\n",
    "modifiedPatientsDataFrame = modifiedPatientsDataFrame.iloc[:, :50] # only keeps the columns until column 38\n",
    "modifiedPatientsDataFrame = modifiedPatientsDataFrame.drop(columns=[\"T.1\",\n",
    "                                                                    \"primary_coded\",\n",
    "                                                                    \"primary_coded_clean\",\n",
    "                                                                    \"N\",\n",
    "                                                                    \"M\",\n",
    "                                                                    \"M_number_organ_systems\",\n",
    "                                                                    \"TNM\",\n",
    "                                                                    \"Survival ab ED gesamt\",\n",
    "                                                                    \"Survival ab ED Hirnmet.\",\n",
    "                                                                    \"Survival_from_ED_Met (months)\",\n",
    "                                                                    \"Alter bei MRT (J./kalkuliert)\",\n",
    "                                                                    \"Dauer Tumorleiden\\n(kalkuliert; von ED bis ED Hirnmet.)\",\n",
    "                                                                    \"Karnofsky (%)\",\n",
    "                                                                    \"periphere Metastasen zum Zeitpunkt des MRTs ( Keine = 0, Einzelne = 1, Oligo =2, Multipel =3)\",\n",
    "                                                                    \"im Verlauf neu aufgetretene Metastasen (0 = keine bekannt)\",\n",
    "                                                                    ])\n",
    "\n",
    "# turn ID strings into ints\n",
    "modifiedPatientsDataFrame.ID = modifiedPatientsDataFrame.ID.astype(int)\n",
    "\n",
    "# drop CUP patients\n",
    "#modifiedPatientsDataFrame = modifiedPatientsDataFrame.drop(modifiedPatientsDataFrame[modifiedPatientsDataFrame.primary_coded_newv == \"29\"].index)\n",
    "\n",
    "dataset_patients[\"participant_id\"] = dataset_patients[\"participant_id\"].str.slice_replace(0, 4, \"\").astype(int)"
   ]
  },
  {
   "cell_type": "markdown",
   "metadata": {},
   "source": [
    "### patients selected by whom"
   ]
  },
  {
   "cell_type": "code",
   "execution_count": 7,
   "metadata": {},
   "outputs": [
    {
     "name": "stdout",
     "output_type": "stream",
     "text": [
      "selected by\n",
      "Lennart        483\n",
      "not Lennart    262\n",
      "Name: count, dtype: int64\n"
     ]
    }
   ],
   "source": [
    "print(modifiedPatientsDataFrame[\"selected by\"].value_counts())"
   ]
  },
  {
   "cell_type": "markdown",
   "metadata": {},
   "source": [
    "#### patients not selected by Lennart\n",
    "to do:\n",
    "- put \"MRI sequences missing\" into the \"reason\" column in excel based on unused_pats_not_Lennart"
   ]
  },
  {
   "cell_type": "code",
   "execution_count": 8,
   "metadata": {},
   "outputs": [
    {
     "name": "stdout",
     "output_type": "stream",
     "text": [
      "# of patients not selected by Lennart: 262\n",
      "# of those not used for the dataset: 46\n",
      "\n",
      "due to the following reasons:\n",
      "reason\n",
      "CUP                    12\n",
      "braintumor              2\n",
      "lymphoma                1\n",
      "no pre op images        1\n",
      "no brain metastases     1\n",
      "post resection          1\n",
      "Name: count, dtype: int64\n",
      "not correct amount of MRI sequences: 28\n"
     ]
    }
   ],
   "source": [
    "# compare patients not selected by Lennart with dataset_patients\n",
    "pats_not_used_not_Lennart = []\n",
    "#pats_not_by_Lennart = modifiedPatientsDataFrame.query(\"`selected by` == not Lennart\")[\"ID\"]\n",
    "pats_not_by_Lennart = list(modifiedPatientsDataFrame[modifiedPatientsDataFrame[\"selected by\"] == \"not Lennart\"][\"ID\"])\n",
    "\n",
    "print(f\"# of patients not selected by Lennart: {len(pats_not_by_Lennart)}\")\n",
    "\n",
    "#print(len(list(dataset_patients[\"participant_id\"])))\n",
    "\n",
    "amount_of_patients_used_not_lennart = 0\n",
    "\n",
    "for pat_id in pats_not_by_Lennart:\n",
    "    if pat_id not in list(dataset_patients[\"participant_id\"]):\n",
    "        pats_not_used_not_Lennart.append(pat_id)\n",
    "        amount_of_patients_used_not_lennart += 1\n",
    "\n",
    "unused_pats_not_Lennart = modifiedPatientsDataFrame[modifiedPatientsDataFrame.ID.isin(pats_not_used_not_Lennart)]\n",
    "\n",
    "print(f\"# of those not used for the dataset: {amount_of_patients_used_not_lennart}\")\n",
    "print(\"\\ndue to the following reasons:\")\n",
    "\n",
    "unused_value_counts = unused_pats_not_Lennart.reason.value_counts()\n",
    "print(unused_value_counts)\n",
    "amount_of_patients_not_lennart_not_used_with_reasons = 0\n",
    "for value in unused_value_counts:\n",
    "    amount_of_patients_not_lennart_not_used_with_reasons += value\n",
    "\n",
    "amount_other_reason_not_lennart = amount_of_patients_used_not_lennart - amount_of_patients_not_lennart_not_used_with_reasons\n",
    "print(f\"not correct amount of MRI sequences: {amount_other_reason_not_lennart}\")\n"
   ]
  },
  {
   "cell_type": "markdown",
   "metadata": {},
   "source": [
    "#### patients selected by Lennart"
   ]
  },
  {
   "cell_type": "code",
   "execution_count": 9,
   "metadata": {},
   "outputs": [
    {
     "name": "stdout",
     "output_type": "stream",
     "text": [
      "# of patients selected by Lennart: 483\n",
      "# of those not used for the dataset: 228\n",
      "\n",
      "due to the following reasons:\n",
      "reason\n",
      "no brain metastases            61\n",
      "brain tumor                    32\n",
      "lack of data                   23\n",
      "pre OP MRI missing             19\n",
      "lymphoma                       17\n",
      "histology unclear               8\n",
      "CUP                             7\n",
      "other tumor                     3\n",
      "meningeosis carcinomatosa       2\n",
      "braintumor                      1\n",
      "contact to sinus sagittalis     1\n",
      "dural metastasis                1\n",
      "Name: count, dtype: int64\n",
      "\n",
      "not correct amount of MRI sequences: 53\n"
     ]
    }
   ],
   "source": [
    "# get all patients selected by Lennart\n",
    "# compare with patients actually used\n",
    "# list reasons why not used\n",
    "# get funky\n",
    "\n",
    "pats_by_Lennart = list(modifiedPatientsDataFrame[modifiedPatientsDataFrame[\"selected by\"] == \"Lennart\"][\"ID\"])\n",
    "pats_not_used_Lennart = []\n",
    "\n",
    "print(f\"# of patients selected by Lennart: {len(pats_by_Lennart)}\")\n",
    "\n",
    "amount_of_patients_used_lennart = 0\n",
    "\n",
    "for pat_id in pats_by_Lennart:\n",
    "    if pat_id not in list(dataset_patients[\"participant_id\"]):\n",
    "        pats_not_used_Lennart.append(pat_id)\n",
    "        amount_of_patients_used_lennart += 1\n",
    "\n",
    "unused_pats_Lennart = modifiedPatientsDataFrame[modifiedPatientsDataFrame.ID.isin(pats_not_used_Lennart)]\n",
    "\n",
    "print(f\"# of those not used for the dataset: {amount_of_patients_used_lennart}\")\n",
    "print(\"\\ndue to the following reasons:\")\n",
    "\n",
    "unused_value_counts = unused_pats_Lennart.reason.value_counts()\n",
    "print(unused_value_counts)\n",
    "amount_of_patients_lennart_not_used_with_reasons = 0\n",
    "for value in unused_value_counts:\n",
    "    amount_of_patients_lennart_not_used_with_reasons += value\n",
    "\n",
    "amount_other_reason_lennart = amount_of_patients_used_lennart - amount_of_patients_lennart_not_used_with_reasons\n",
    "\n",
    "print()\n",
    "print(f\"not correct amount of MRI sequences: {amount_other_reason_lennart}\")\n"
   ]
  },
  {
   "cell_type": "markdown",
   "metadata": {},
   "source": [
    "acceptable reasons:\\\n",
    "no brain metastastes, brain tumor, other tumor, lymphoma, pre OP MRI missing, meningeosis carcinomatosa, CUP, missing MRI sequences, lack of data, histology unclear"
   ]
  },
  {
   "cell_type": "markdown",
   "metadata": {},
   "source": [
    "## Data Analysis"
   ]
  },
  {
   "cell_type": "markdown",
   "metadata": {},
   "source": [
    "To-do:\n",
    "- sex\n",
    "- age at MRI\n",
    "- age at first diagnosis\n",
    "- age at first diagnosis brainmet\n",
    "- did any of the following occur during their therapy: OP / Chemo / Radiatio / Immunotherapie\n",
    "- height\n",
    "- weight\n",
    "- ECOG\n",
    "- status of resection\n",
    "- status of relapse\n",
    "\n",
    "Try to display as such:\n",
    "\n",
    "CATEGORY\\\n",
    "total n=XXX, mean m: XX (n=XXX) ± STD, mean f: XX (n=XXX) ± STD"
   ]
  },
  {
   "cell_type": "code",
   "execution_count": 10,
   "metadata": {},
   "outputs": [
    {
     "data": {
      "text/html": [
       "<div>\n",
       "<style scoped>\n",
       "    .dataframe tbody tr th:only-of-type {\n",
       "        vertical-align: middle;\n",
       "    }\n",
       "\n",
       "    .dataframe tbody tr th {\n",
       "        vertical-align: top;\n",
       "    }\n",
       "\n",
       "    .dataframe thead th {\n",
       "        text-align: right;\n",
       "    }\n",
       "</style>\n",
       "<table border=\"1\" class=\"dataframe\">\n",
       "  <thead>\n",
       "    <tr style=\"text-align: right;\">\n",
       "      <th></th>\n",
       "      <th>on_server</th>\n",
       "      <th>in_study (0 = no, 1 = yes, 2 = tbd, 3 = remarkable)</th>\n",
       "      <th>reason</th>\n",
       "      <th>comment</th>\n",
       "      <th>selected by</th>\n",
       "      <th>MRI_comments</th>\n",
       "      <th>ID</th>\n",
       "      <th>birthdate</th>\n",
       "      <th>sex (m/w)</th>\n",
       "      <th>preop_MRICE_date</th>\n",
       "      <th>...</th>\n",
       "      <th>im Verlauf Rezidiv der Hirnmetastase (0 = nicht bekannt; 1 = ja)</th>\n",
       "      <th>CRP</th>\n",
       "      <th>Albumin</th>\n",
       "      <th>Kreatinin</th>\n",
       "      <th>eGFR</th>\n",
       "      <th>Hb</th>\n",
       "      <th>Leukozyten</th>\n",
       "      <th>Thrombozyten</th>\n",
       "      <th>Quick</th>\n",
       "      <th>Hirnvolumen</th>\n",
       "    </tr>\n",
       "  </thead>\n",
       "  <tbody>\n",
       "  </tbody>\n",
       "</table>\n",
       "<p>0 rows × 35 columns</p>\n",
       "</div>"
      ],
      "text/plain": [
       "Empty DataFrame\n",
       "Columns: [on_server, in_study (0 = no, 1 = yes, 2 = tbd, 3 = remarkable), reason, comment, selected by, MRI_comments, ID, birthdate, sex (m/w), preop_MRICE_date, primary_full, primary_coded_newv, T, death_date, date_first_diagnosis_primary, date_first_diagnosis_brain_met, OP, Chemotherapie, Radiatio, Immuntherapie, Größe (cm), Gewicht (kg), ECOG, AZ Beschreibung, Resektionsstatus (0 = Komplettresektion; 1 = Rest/weitere Hirnfiliae, 2 = keine Resektion, 3 = unklar), im Verlauf Rezidiv der Hirnmetastase (0 = nicht bekannt; 1 = ja), CRP, Albumin, Kreatinin, eGFR, Hb, Leukozyten, Thrombozyten, Quick, Hirnvolumen]\n",
       "Index: []\n",
       "\n",
       "[0 rows x 35 columns]"
      ]
     },
     "execution_count": 10,
     "metadata": {},
     "output_type": "execute_result"
    }
   ],
   "source": [
    "dataset_pat_ids = list(dataset_patients[\"participant_id\"])\n",
    "excel_dataset_pats = modifiedPatientsDataFrame.copy()[modifiedPatientsDataFrame.ID.isin(dataset_pat_ids)]\n",
    "#print(excel_dataset_pats)\n",
    "excel_dataset_pats[excel_dataset_pats.duplicated(subset=\"ID\")]"
   ]
  },
  {
   "cell_type": "markdown",
   "metadata": {},
   "source": [
    "removed 2nd instance of `1349100` in excel sheet\\\n",
    "removed 1st instance of `1935938` in excel sheet\\\n",
    "removed 1st instance of `1699419` in excel sheet\\\n",
    "removed 2nd instance of `1876862` in excel sheet\\\n",
    "removed 1st instance of `1764802` in excel sheet\\\n",
    "removed 1st instance of `1456719` in excel sheet\\\n",
    "removed 1st instance of `2014467` in excel sheet\\\n",
    "removed 1st instance of `1792136` in excel sheet"
   ]
  },
  {
   "cell_type": "code",
   "execution_count": 11,
   "metadata": {},
   "outputs": [],
   "source": [
    "# get list of patIDs of men and women in dataset\n",
    "men_ids = list(excel_dataset_pats[excel_dataset_pats[\"sex (m/w)\"] == \"m\"].ID)\n",
    "women_ids = list(excel_dataset_pats[excel_dataset_pats[\"sex (m/w)\"] == \"w\"].ID)"
   ]
  },
  {
   "cell_type": "markdown",
   "metadata": {},
   "source": [
    "### sex"
   ]
  },
  {
   "cell_type": "code",
   "execution_count": 12,
   "metadata": {},
   "outputs": [
    {
     "name": "stdout",
     "output_type": "stream",
     "text": [
      "m: 255/471 (54.14%)\n",
      "w: 216/471 (45.86%)\n"
     ]
    }
   ],
   "source": [
    "def percentage(part, whole):\n",
    "  Percentage = float(part)/float(whole)\n",
    "  return Percentage\n",
    "\n",
    "pat_count = len(excel_dataset_pats)\n",
    "for val, cnt in excel_dataset_pats[\"sex (m/w)\"].value_counts().items():\n",
    "    print(\"{:1s}: {:3d}/{:3d} ({:.2%})\".format(val, cnt, pat_count, percentage(cnt, pat_count)))"
   ]
  },
  {
   "cell_type": "markdown",
   "metadata": {},
   "source": [
    "### age at mri"
   ]
  },
  {
   "cell_type": "code",
   "execution_count": 13,
   "metadata": {},
   "outputs": [
    {
     "name": "stdout",
     "output_type": "stream",
     "text": [
      "      ages men      \n",
      "total: n    =   255\n",
      "mean: m     =    63.69\n",
      "median: med =    65.00\n",
      "std         =    11.62\n",
      "\n",
      "     ages women     \n",
      "total: n    =   216\n",
      "mean: m     =    60.58\n",
      "median: med =    61.00\n",
      "std         =    12.08\n"
     ]
    }
   ],
   "source": [
    "ages_men = dataset_patients.age[dataset_patients.participant_id.isin(men_ids)]\n",
    "mean_ages_men = np.mean(ages_men)\n",
    "median_ages_men = np.median(ages_men)\n",
    "std_ages_men = np.std(ages_men)\n",
    "\n",
    "ages_women = dataset_patients.age[dataset_patients.participant_id.isin(women_ids)]\n",
    "mean_ages_women = np.mean(ages_women)\n",
    "median_ages_women = np.median(ages_women)\n",
    "std_ages_women = np.std(ages_women)\n",
    "\n",
    "print(\"{:^20}\".format(\"ages men\"))\n",
    "print(\"{:12s}={:>6d}\".format(\"total: n\", len(ages_men)))\n",
    "print(\"{:12s}={:>9.2f}\".format(\"mean: m\", mean_ages_men))\n",
    "print(\"{:12s}={:>9.2f}\".format(\"median: med\", median_ages_men))\n",
    "print(\"{:12s}={:>9.2f}\".format(\"std\", std_ages_men))\n",
    "print()\n",
    "\n",
    "print(\"{:^20}\".format(\"ages women\"))\n",
    "print(\"{:12s}={:>6d}\".format(\"total: n\", len(ages_women)))\n",
    "print(\"{:12s}={:>9.2f}\".format(\"mean: m\", mean_ages_women))\n",
    "print(\"{:12s}={:>9.2f}\".format(\"median: med\", median_ages_women))\n",
    "print(\"{:12s}={:>9.2f}\".format(\"std\", std_ages_women))"
   ]
  },
  {
   "cell_type": "markdown",
   "metadata": {},
   "source": [
    "### primaries count"
   ]
  },
  {
   "cell_type": "markdown",
   "metadata": {},
   "source": [
    "#### total"
   ]
  },
  {
   "cell_type": "code",
   "execution_count": 14,
   "metadata": {},
   "outputs": [
    {
     "name": "stdout",
     "output_type": "stream",
     "text": [
      "         primaries total - detailed         \n",
      "total: 471\n",
      "adenocarcinoma of the lung               117 (24.84%)\n",
      "melanoma                                  74 (15.71%)\n",
      "small cell lung cancer                    58 (12.31%)\n",
      "breast cancer                             40 (8.49%)\n",
      "NSCLC                                     29 (6.16%)\n",
      "colorectal cancer                         23 (4.88%)\n",
      "squamous cell lung cancer                 20 (4.25%)\n",
      "lung cancer, exact histology unknown      17 (3.61%)\n",
      "renal cell carcinoma                      13 (2.76%)\n",
      "lung cancer, other                        11 (2.34%)\n",
      "prostate cancer                            8 (1.70%)\n",
      "transitional cell carcinoma                7 (1.49%)\n",
      "endometrial cancer                         4 (0.85%)\n",
      "sarcoma, other                             4 (0.85%)\n",
      "oral squamous cell carcinoma               4 (0.85%)\n",
      "esophageal cancer                          4 (0.85%)\n",
      "testicular cancer                          4 (0.85%)\n",
      "ovarian cell carcinoma                     4 (0.85%)\n",
      "large cell lung cancer                     3 (0.64%)\n",
      "laryngeal cancer                           3 (0.64%)\n",
      "liposarcoma                                2 (0.42%)\n",
      "cervical cancer                            2 (0.42%)\n",
      "gastric cancer                             2 (0.42%)\n",
      "salivary gland cancer                      2 (0.42%)\n",
      "osteosarcoma                               2 (0.42%)\n",
      "leiomyosarcoma                             2 (0.42%)\n",
      "thyroid cancer                             2 (0.42%)\n",
      "solitary fibrous tumor                     1 (0.21%)\n",
      "DSRCT                                      1 (0.21%)\n",
      "thymoma                                    1 (0.21%)\n",
      "pancreatic cancer                          1 (0.21%)\n",
      "cholangiocellular carcinoma                1 (0.21%)\n",
      "synovial sarcoma                           1 (0.21%)\n",
      "plasmacytoma                               1 (0.21%)\n",
      "rhabdomyosarcoma                           1 (0.21%)\n",
      "adenoid cystic carcinoma                   1 (0.21%)\n",
      "NET                                        1 (0.21%)\n"
     ]
    }
   ],
   "source": [
    "primaries_total = dataset_patients.primary[dataset_patients.participant_id.isin(excel_dataset_pats.ID)]\n",
    "#primaries_total = dataset_patients.primary\n",
    "print(\"{:^44}\".format(\"primaries total - detailed\"))\n",
    "\n",
    "print(f\"total: {len(primaries_total)}\")\n",
    "\n",
    "for val, cnt in primaries_total.value_counts().items():\n",
    "    primary_name = config.cancer_primaries_dict[val]\n",
    "    print(\"{:38s}{:>6d} ({:.2%})\".format(primary_name, cnt, percentage(cnt, len(primaries_total))))"
   ]
  },
  {
   "cell_type": "markdown",
   "metadata": {},
   "source": [
    "#### men"
   ]
  },
  {
   "cell_type": "code",
   "execution_count": 15,
   "metadata": {},
   "outputs": [
    {
     "name": "stdout",
     "output_type": "stream",
     "text": [
      "          primaries men - detailed          \n",
      "total: 255\n",
      "adenocarcinoma of the lung                64 (25.10%)\n",
      "melanoma                                  48 (18.82%)\n",
      "small cell lung cancer                    34 (13.33%)\n",
      "colorectal cancer                         15 (5.88%)\n",
      "lung cancer, exact histology unknown      13 (5.10%)\n",
      "NSCLC                                     13 (5.10%)\n",
      "squamous cell lung cancer                 12 (4.71%)\n",
      "renal cell carcinoma                       8 (3.14%)\n",
      "prostate cancer                            8 (3.14%)\n",
      "lung cancer, other                         7 (2.75%)\n",
      "transitional cell carcinoma                7 (2.75%)\n",
      "testicular cancer                          4 (1.57%)\n",
      "esophageal cancer                          4 (1.57%)\n",
      "oral squamous cell carcinoma               3 (1.18%)\n",
      "large cell lung cancer                     2 (0.78%)\n",
      "osteosarcoma                               2 (0.78%)\n",
      "laryngeal cancer                           2 (0.78%)\n",
      "rhabdomyosarcoma                           1 (0.39%)\n",
      "thyroid cancer                             1 (0.39%)\n",
      "breast cancer                              1 (0.39%)\n",
      "adenoid cystic carcinoma                   1 (0.39%)\n",
      "solitary fibrous tumor                     1 (0.39%)\n",
      "liposarcoma                                1 (0.39%)\n",
      "pancreatic cancer                          1 (0.39%)\n",
      "sarcoma, other                             1 (0.39%)\n",
      "NET                                        1 (0.39%)\n"
     ]
    }
   ],
   "source": [
    "primaries_men = dataset_patients.primary[dataset_patients.participant_id.isin(men_ids)]\n",
    "print(\"{:^44}\".format(\"primaries men - detailed\"))\n",
    "\n",
    "print(f\"total: {len(primaries_men)}\")\n",
    "\n",
    "\n",
    "\n",
    "for val, cnt in primaries_men.value_counts().items():\n",
    "    primary_name = config.cancer_primaries_dict[val]\n",
    "    print(\"{:38s}{:>6d} ({:.2%})\".format(primary_name, cnt, percentage(cnt, len(primaries_men))))"
   ]
  },
  {
   "cell_type": "code",
   "execution_count": 16,
   "metadata": {},
   "outputs": [
    {
     "data": {
      "text/html": [
       "<div>\n",
       "<style scoped>\n",
       "    .dataframe tbody tr th:only-of-type {\n",
       "        vertical-align: middle;\n",
       "    }\n",
       "\n",
       "    .dataframe tbody tr th {\n",
       "        vertical-align: top;\n",
       "    }\n",
       "\n",
       "    .dataframe thead th {\n",
       "        text-align: right;\n",
       "    }\n",
       "</style>\n",
       "<table border=\"1\" class=\"dataframe\">\n",
       "  <thead>\n",
       "    <tr style=\"text-align: right;\">\n",
       "      <th></th>\n",
       "      <th>on_server</th>\n",
       "      <th>in_study (0 = no, 1 = yes, 2 = tbd, 3 = remarkable)</th>\n",
       "      <th>reason</th>\n",
       "      <th>comment</th>\n",
       "      <th>selected by</th>\n",
       "      <th>MRI_comments</th>\n",
       "      <th>ID</th>\n",
       "      <th>birthdate</th>\n",
       "      <th>sex (m/w)</th>\n",
       "      <th>preop_MRICE_date</th>\n",
       "      <th>...</th>\n",
       "      <th>im Verlauf Rezidiv der Hirnmetastase (0 = nicht bekannt; 1 = ja)</th>\n",
       "      <th>CRP</th>\n",
       "      <th>Albumin</th>\n",
       "      <th>Kreatinin</th>\n",
       "      <th>eGFR</th>\n",
       "      <th>Hb</th>\n",
       "      <th>Leukozyten</th>\n",
       "      <th>Thrombozyten</th>\n",
       "      <th>Quick</th>\n",
       "      <th>Hirnvolumen</th>\n",
       "    </tr>\n",
       "  </thead>\n",
       "  <tbody>\n",
       "  </tbody>\n",
       "</table>\n",
       "<p>0 rows × 35 columns</p>\n",
       "</div>"
      ],
      "text/plain": [
       "Empty DataFrame\n",
       "Columns: [on_server, in_study (0 = no, 1 = yes, 2 = tbd, 3 = remarkable), reason, comment, selected by, MRI_comments, ID, birthdate, sex (m/w), preop_MRICE_date, primary_full, primary_coded_newv, T, death_date, date_first_diagnosis_primary, date_first_diagnosis_brain_met, OP, Chemotherapie, Radiatio, Immuntherapie, Größe (cm), Gewicht (kg), ECOG, AZ Beschreibung, Resektionsstatus (0 = Komplettresektion; 1 = Rest/weitere Hirnfiliae, 2 = keine Resektion, 3 = unklar), im Verlauf Rezidiv der Hirnmetastase (0 = nicht bekannt; 1 = ja), CRP, Albumin, Kreatinin, eGFR, Hb, Leukozyten, Thrombozyten, Quick, Hirnvolumen]\n",
       "Index: []\n",
       "\n",
       "[0 rows x 35 columns]"
      ]
     },
     "execution_count": 16,
     "metadata": {},
     "output_type": "execute_result"
    }
   ],
   "source": [
    "# find patients with cancers of unknown primareis, shouldn't be in the dataset\n",
    "# fuck\n",
    "cup_patients = excel_dataset_pats[excel_dataset_pats.primary_coded_newv == \"29\"]\n",
    "cup_patients"
   ]
  },
  {
   "cell_type": "markdown",
   "metadata": {},
   "source": [
    "#### women"
   ]
  },
  {
   "cell_type": "code",
   "execution_count": 17,
   "metadata": {},
   "outputs": [
    {
     "name": "stdout",
     "output_type": "stream",
     "text": [
      "         primaries women - detailed         \n",
      "total: 216\n",
      "adenocarcinoma of the lung                53 (24.54%)\n",
      "breast cancer                             39 (18.06%)\n",
      "melanoma                                  26 (12.04%)\n",
      "small cell lung cancer                    24 (11.11%)\n",
      "NSCLC                                     16 (7.41%)\n",
      "colorectal cancer                          8 (3.70%)\n",
      "squamous cell lung cancer                  8 (3.70%)\n",
      "renal cell carcinoma                       5 (2.31%)\n",
      "lung cancer, other                         4 (1.85%)\n",
      "lung cancer, exact histology unknown       4 (1.85%)\n",
      "ovarian cell carcinoma                     4 (1.85%)\n",
      "endometrial cancer                         4 (1.85%)\n",
      "sarcoma, other                             3 (1.39%)\n",
      "cervical cancer                            2 (0.93%)\n",
      "gastric cancer                             2 (0.93%)\n",
      "leiomyosarcoma                             2 (0.93%)\n",
      "salivary gland cancer                      2 (0.93%)\n",
      "thyroid cancer                             1 (0.46%)\n",
      "large cell lung cancer                     1 (0.46%)\n",
      "thymoma                                    1 (0.46%)\n",
      "liposarcoma                                1 (0.46%)\n",
      "synovial sarcoma                           1 (0.46%)\n",
      "oral squamous cell carcinoma               1 (0.46%)\n",
      "laryngeal cancer                           1 (0.46%)\n",
      "cholangiocellular carcinoma                1 (0.46%)\n",
      "plasmacytoma                               1 (0.46%)\n",
      "DSRCT                                      1 (0.46%)\n"
     ]
    }
   ],
   "source": [
    "primaries_women = dataset_patients.primary[dataset_patients.participant_id.isin(women_ids)]\n",
    "print(\"{:^44}\".format(\"primaries women - detailed\"))\n",
    "\n",
    "print(f\"total: {len(primaries_women)}\")\n",
    "\n",
    "\n",
    "for val, cnt in primaries_women.value_counts().items():\n",
    "    primary_name = config.cancer_primaries_dict[val]\n",
    "    print(\"{:38s}{:>6d} ({:.2%})\".format(primary_name, cnt, percentage(cnt, len(primaries_women))))"
   ]
  },
  {
   "cell_type": "markdown",
   "metadata": {},
   "source": [
    "### age at first diagnosis tumor"
   ]
  },
  {
   "cell_type": "code",
   "execution_count": 18,
   "metadata": {},
   "outputs": [
    {
     "name": "stdout",
     "output_type": "stream",
     "text": [
      "0      2003-09-01 00:00:00\n",
      "1      2005-04-01 00:00:00\n",
      "2      2004-09-01 00:00:00\n",
      "4      2005-05-01 00:00:00\n",
      "5      2003-01-01 00:00:00\n",
      "              ...         \n",
      "735    2023-10-01 00:00:00\n",
      "736    2021-01-01 00:00:00\n",
      "740    2023-10-01 00:00:00\n",
      "741    2023-02-01 00:00:00\n",
      "744    2023-10-01 00:00:00\n",
      "Name: date_first_diagnosis_primary, Length: 471, dtype: object\n"
     ]
    }
   ],
   "source": [
    "# get values of first diagnosis\n",
    "# find difficult values\n",
    "# decide wether to ignore or not\n",
    "# compute age\n",
    "# print age\n",
    "\n",
    "months = {\n",
    "    \"Januar \":\"01.01.\",\n",
    "    \"Februar \":\"01.02.\",\n",
    "    \"März \":\"01.03.\",\n",
    "    \"April \":\"01.04.\",\n",
    "    \"Mai \":\"01.05.\",\n",
    "    \"Juni \":\"01.06.\",\n",
    "    \"Juli \":\"01.07.\",\n",
    "    \"August \":\"01.08.\",\n",
    "    \"September \":\"01.09.\",\n",
    "    \"Oktober \":\"01.10.\",\n",
    "    \"November \":\"01.11.\",\n",
    "    \"Dezember \":\"01.12.\",\n",
    "    \"Jan \":\"01.01.\",\n",
    "    \"Feb \":\"01.02.\",\n",
    "    \"Apr \":\"01.03.\",\n",
    "    \"Jun \":\"01.06.\",\n",
    "    \"Jul \":\"01.07.\",\n",
    "    \"Aug \":\"01.08.\",\n",
    "    \"Sept \":\"01.09.\",\n",
    "    \"Sep \":\"01.09.\",\n",
    "    \"Okt \":\"01.10.\",\n",
    "    \"Nov \":\"01.11.\",\n",
    "    \"Dez \":\"01.12.\"\n",
    "}\n",
    "\n",
    "excel_dataset_pats.date_first_diagnosis_primary = excel_dataset_pats.date_first_diagnosis_primary.astype(\"str\")\n",
    "\n",
    "for month in months.keys():\n",
    "    excel_dataset_pats.date_first_diagnosis_primary = excel_dataset_pats.date_first_diagnosis_primary.str.replace(month, months[month])\n",
    "\n",
    "\n",
    "print(excel_dataset_pats.date_first_diagnosis_primary)\n",
    "\n",
    "#replace months with numbers\n",
    "# excel_dataset_pats.date_first_diagnosis_primary = excel_dataset_pats.date_first_diagnosis_primary.str.replace(\"Januar\", \"01\")\n",
    "\n",
    "#print(excel_dataset_pats.date_first_diagnosis_primary)\n",
    "\n",
    "excel_dataset_pats.date_first_diagnosis_primary = pd.to_datetime(excel_dataset_pats.date_first_diagnosis_primary, errors=\"raise\", format=\"mixed\")\n",
    "excel_dataset_pats.birthdate = pd.to_datetime(excel_dataset_pats.birthdate, errors=\"raise\", format=\"mixed\")\n"
   ]
  },
  {
   "cell_type": "markdown",
   "metadata": {},
   "source": [
    "#### men"
   ]
  },
  {
   "cell_type": "code",
   "execution_count": 19,
   "metadata": {},
   "outputs": [
    {
     "name": "stdout",
     "output_type": "stream",
     "text": [
      "    ages of men first diagnosed with the tumor    \n",
      "total: n    =   250\n",
      "mean: m     =    60.87\n",
      "median: med =    63.00\n",
      "std         =    14.83\n"
     ]
    }
   ],
   "source": [
    "men_age_first_diagnosis_dict = {}\n",
    "for index, row in excel_dataset_pats[excel_dataset_pats.ID.isin(men_ids)].iterrows():\n",
    "    id = row[\"ID\"]\n",
    "\n",
    "    # calculate the age of the patient when first diagnosed with tumor\n",
    "    if not pd.isnull(row.date_first_diagnosis_primary):\n",
    "        age = relativedelta(row.date_first_diagnosis_primary, row.birthdate).years\n",
    "        men_age_first_diagnosis_dict[id] = age\n",
    "    else:\n",
    "        #print(id)\n",
    "        pass\n",
    "\n",
    "\n",
    "men_age_first_diagnosis_dict = list(men_age_first_diagnosis_dict.values())\n",
    "\n",
    "mean_ages_first_diagnosis_men = np.mean(men_age_first_diagnosis_dict)\n",
    "median_ages_first_diagnosis_men = np.median(men_age_first_diagnosis_dict)\n",
    "std_ages_first_diagnosis_men = np.std(men_age_first_diagnosis_dict)\n",
    "\n",
    "print(\"{:^50}\".format(\"ages of men first diagnosed with the tumor\"))\n",
    "print(\"{:12s}={:>6d}\".format(\"total: n\", len(men_age_first_diagnosis_dict)))\n",
    "print(\"{:12s}={:>9.2f}\".format(\"mean: m\", mean_ages_first_diagnosis_men))\n",
    "print(\"{:12s}={:>9.2f}\".format(\"median: med\", median_ages_first_diagnosis_men))\n",
    "print(\"{:12s}={:>9.2f}\".format(\"std\", std_ages_first_diagnosis_men))\n"
   ]
  },
  {
   "cell_type": "markdown",
   "metadata": {},
   "source": [
    "#### women"
   ]
  },
  {
   "cell_type": "code",
   "execution_count": 20,
   "metadata": {},
   "outputs": [
    {
     "name": "stdout",
     "output_type": "stream",
     "text": [
      "   ages of women first diagnosed with the tumor   \n",
      "total: n    =   211\n",
      "mean: m     =    55.45\n",
      "median: med =    58.00\n",
      "std         =    19.49\n"
     ]
    }
   ],
   "source": [
    "women_age_first_diagnosis_dict = {}\n",
    "for index, row in excel_dataset_pats[excel_dataset_pats.ID.isin(women_ids)].iterrows():\n",
    "    id = row[\"ID\"]\n",
    "\n",
    "    # calculate the age of the patient when first diagnosed with tumor\n",
    "    if not pd.isnull(row.date_first_diagnosis_primary):\n",
    "        age = relativedelta(row.date_first_diagnosis_primary, row.birthdate).years\n",
    "        women_age_first_diagnosis_dict[id] = age\n",
    "\n",
    "\n",
    "women_age_first_diagnosis_dict = list(women_age_first_diagnosis_dict.values())\n",
    "\n",
    "mean_ages_first_diagnosis_women = np.mean(women_age_first_diagnosis_dict)\n",
    "median_ages_first_diagnosis_women = np.median(women_age_first_diagnosis_dict)\n",
    "std_ages_first_diagnosis_women = np.std(women_age_first_diagnosis_dict)\n",
    "\n",
    "print(\"{:^50}\".format(\"ages of women first diagnosed with the tumor\"))\n",
    "print(\"{:12s}={:>6d}\".format(\"total: n\", len(women_age_first_diagnosis_dict)))\n",
    "print(\"{:12s}={:>9.2f}\".format(\"mean: m\", mean_ages_first_diagnosis_women))\n",
    "print(\"{:12s}={:>9.2f}\".format(\"median: med\", median_ages_first_diagnosis_women))\n",
    "print(\"{:12s}={:>9.2f}\".format(\"std\", std_ages_first_diagnosis_women))"
   ]
  },
  {
   "cell_type": "markdown",
   "metadata": {},
   "source": [
    "### age at first diagnosis brainmet"
   ]
  },
  {
   "cell_type": "code",
   "execution_count": 21,
   "metadata": {},
   "outputs": [
    {
     "name": "stdout",
     "output_type": "stream",
     "text": [
      "0               01.09.2003\n",
      "1               01.04.2005\n",
      "2               01.04.2005\n",
      "4               01.05.2005\n",
      "5               01.05.2005\n",
      "              ...         \n",
      "735    2023-10-01 00:00:00\n",
      "736    2023-10-01 00:00:00\n",
      "740    2023-10-01 00:00:00\n",
      "741    2023-10-01 00:00:00\n",
      "744    2023-11-01 00:00:00\n",
      "Name: date_first_diagnosis_brain_met, Length: 471, dtype: object\n"
     ]
    }
   ],
   "source": [
    "# get values of first diagnosis brainmet\n",
    "# find difficult values\n",
    "# decide wether to ignore or not\n",
    "# compute age\n",
    "# print age\n",
    "\n",
    "months = {\n",
    "    \"Januar \":\"01.01.\",\n",
    "    \"Februar \":\"01.02.\",\n",
    "    \"März \":\"01.03.\",\n",
    "    \"April \":\"01.04.\",\n",
    "    \"Mai \":\"01.05.\",\n",
    "    \"Juni \":\"01.06.\",\n",
    "    \"Juli \":\"01.07.\",\n",
    "    \"August \":\"01.08.\",\n",
    "    \"September \":\"01.09.\",\n",
    "    \"Oktober \":\"01.10.\",\n",
    "    \"November \":\"01.11.\",\n",
    "    \"Dezember \":\"01.12.\",\n",
    "    \"Jan \":\"01.01.\",\n",
    "    \"Feb \":\"01.02.\",\n",
    "    \"Apr \":\"01.03.\",\n",
    "    \"Jun \":\"01.06.\",\n",
    "    \"Jul \":\"01.07.\",\n",
    "    \"Aug \":\"01.08.\",\n",
    "    \"Sept \":\"01.09.\",\n",
    "    \"Sep \":\"01.09.\",\n",
    "    \"Okt \":\"01.10.\",\n",
    "    \"Nov \":\"01.11.\",\n",
    "    \"Dez \":\"01.12.\"\n",
    "}\n",
    "\n",
    "excel_dataset_pats.date_first_diagnosis_brain_met = excel_dataset_pats.date_first_diagnosis_brain_met.astype(\"str\")\n",
    "\n",
    "for month in months.keys():\n",
    "    excel_dataset_pats.date_first_diagnosis_brain_met = excel_dataset_pats.date_first_diagnosis_brain_met.str.replace(month, months[month])\n",
    "\n",
    "\n",
    "print(excel_dataset_pats.date_first_diagnosis_brain_met)\n",
    "\n",
    "excel_dataset_pats.date_first_diagnosis_brain_met = pd.to_datetime(excel_dataset_pats.date_first_diagnosis_brain_met, errors=\"raise\", format=\"mixed\")\n",
    "#excel_dataset_pats.birthdate = pd.to_datetime(excel_dataset_pats.birthdate, errors=\"raise\", format=\"mixed\")"
   ]
  },
  {
   "cell_type": "markdown",
   "metadata": {},
   "source": [
    "for some reason patient `1616767` had for `date_first_diagnosis_brainmet` the following value: `04.11.5240`\\\n",
    "changing to `01.11.2022` as this was more reasonable considering that the MRI image was taken on the `15.12.2022` and \"neighboring\" also had `date_first_diagnosis_brainmet` of `November`oder `Dezember 2022`"
   ]
  },
  {
   "cell_type": "markdown",
   "metadata": {},
   "source": [
    "#### men"
   ]
  },
  {
   "cell_type": "code",
   "execution_count": 22,
   "metadata": {},
   "outputs": [
    {
     "name": "stdout",
     "output_type": "stream",
     "text": [
      " ages of men first diagnosed with brainmetastases \n",
      "total: n    =   255\n",
      "mean: m     =    63.37\n",
      "median: med =    65.00\n",
      "std         =    11.73\n"
     ]
    }
   ],
   "source": [
    "men_age_first_brainmet_dict = {}\n",
    "for index, row in excel_dataset_pats[excel_dataset_pats.ID.isin(men_ids)].iterrows():\n",
    "    id = row[\"ID\"]\n",
    "\n",
    "    # calculate the age of the patient when first diagnosed with tumor\n",
    "    if not pd.isnull(row.date_first_diagnosis_brain_met):\n",
    "        age = relativedelta(row.date_first_diagnosis_brain_met, row.birthdate).years\n",
    "        men_age_first_brainmet_dict[id] = age\n",
    "    else:\n",
    "        #print(id)\n",
    "        pass\n",
    "\n",
    "\n",
    "men_age_first_brainmet_dict = list(men_age_first_brainmet_dict.values())\n",
    "\n",
    "mean_ages_first_brainmet_men = np.mean(men_age_first_brainmet_dict)\n",
    "median_ages_first_brainmet_men = np.median(men_age_first_brainmet_dict)\n",
    "std_ages_first_brainmet_men = np.std(men_age_first_brainmet_dict)\n",
    "\n",
    "print(\"{:^50}\".format(\"ages of men first diagnosed with brainmetastases\"))\n",
    "print(\"{:12s}={:>6d}\".format(\"total: n\", len(men_age_first_brainmet_dict)))\n",
    "print(\"{:12s}={:>9.2f}\".format(\"mean: m\", mean_ages_first_brainmet_men))\n",
    "print(\"{:12s}={:>9.2f}\".format(\"median: med\", median_ages_first_brainmet_men))\n",
    "print(\"{:12s}={:>9.2f}\".format(\"std\", std_ages_first_brainmet_men))"
   ]
  },
  {
   "cell_type": "markdown",
   "metadata": {},
   "source": [
    "#### women"
   ]
  },
  {
   "cell_type": "code",
   "execution_count": 23,
   "metadata": {},
   "outputs": [
    {
     "name": "stdout",
     "output_type": "stream",
     "text": [
      " ages of men first diagnosed with brainmetastases \n",
      "total: n    =   215\n",
      "mean: m     =    60.15\n",
      "median: med =    61.00\n",
      "std         =    12.11\n"
     ]
    }
   ],
   "source": [
    "women_age_first_brainmet_dict = {}\n",
    "for index, row in excel_dataset_pats[excel_dataset_pats.ID.isin(women_ids)].iterrows():\n",
    "    id = row[\"ID\"]\n",
    "\n",
    "    # calculate the age of the patient when first diagnosed with tumor\n",
    "    if not pd.isnull(row.date_first_diagnosis_brain_met):\n",
    "        age = relativedelta(row.date_first_diagnosis_brain_met, row.birthdate).years\n",
    "        women_age_first_brainmet_dict[id] = age\n",
    "    else:\n",
    "        #print(id)\n",
    "        pass\n",
    "\n",
    "\n",
    "women_age_first_brainmet_dict = list(women_age_first_brainmet_dict.values())\n",
    "\n",
    "mean_ages_first_brainmet_women = np.mean(women_age_first_brainmet_dict)\n",
    "median_ages_first_brainmet_women = np.median(women_age_first_brainmet_dict)\n",
    "std_ages_first_brainmet_women = np.std(women_age_first_brainmet_dict)\n",
    "\n",
    "print(\"{:^50}\".format(\"ages of men first diagnosed with brainmetastases\"))\n",
    "print(\"{:12s}={:>6d}\".format(\"total: n\", len(women_age_first_brainmet_dict)))\n",
    "print(\"{:12s}={:>9.2f}\".format(\"mean: m\", mean_ages_first_brainmet_women))\n",
    "print(\"{:12s}={:>9.2f}\".format(\"median: med\", median_ages_first_brainmet_women))\n",
    "print(\"{:12s}={:>9.2f}\".format(\"std\", std_ages_first_brainmet_women))"
   ]
  },
  {
   "cell_type": "markdown",
   "metadata": {},
   "source": [
    "### OP / Chemotherapy / Radiatio / Immunotherapy"
   ]
  },
  {
   "cell_type": "markdown",
   "metadata": {},
   "source": [
    "##### calculate values"
   ]
  },
  {
   "cell_type": "code",
   "execution_count": 24,
   "metadata": {},
   "outputs": [],
   "source": [
    "# get value counts of OP, Chemo, Radiotio, Immunotherapy\n",
    "# Get combindations of them\n",
    "#\n",
    "\n",
    "# men\n",
    "op_men = excel_dataset_pats.OP[excel_dataset_pats.ID.isin(men_ids)]#.dropna()\n",
    "chemo_men = excel_dataset_pats.Chemotherapie[excel_dataset_pats.ID.isin(men_ids)]#.dropna()\n",
    "radiatio_men = excel_dataset_pats.Radiatio[excel_dataset_pats.ID.isin(men_ids)]#.dropna()\n",
    "immun_men = excel_dataset_pats.Immuntherapie[excel_dataset_pats.ID.isin(men_ids)]#.dropna()\n",
    "\n",
    "# women\n",
    "op_women = excel_dataset_pats.OP[excel_dataset_pats.ID.isin(women_ids)]#.dropna()\n",
    "chemo_women = excel_dataset_pats.Chemotherapie[excel_dataset_pats.ID.isin(women_ids)]#.dropna()\n",
    "radiatio_women = excel_dataset_pats.Radiatio[excel_dataset_pats.ID.isin(women_ids)]#.dropna()\n",
    "immun_women = excel_dataset_pats.Immuntherapie[excel_dataset_pats.ID.isin(women_ids)]#.dropna()"
   ]
  },
  {
   "cell_type": "markdown",
   "metadata": {},
   "source": [
    "##### display results"
   ]
  },
  {
   "cell_type": "code",
   "execution_count": 25,
   "metadata": {},
   "outputs": [
    {
     "name": "stdout",
     "output_type": "stream",
     "text": [
      "      therapy men      \n",
      "OP            =  186/255 (72.94%)\n",
      "Chemotherapy  =  144/255 (56.47%)\n",
      "Radiation     =  184/255 (72.16%)\n",
      "Immunotherapy =  111/255 (43.53%)\n",
      "\n",
      "     therapy women     \n",
      "OP            =  149/216 (68.98%)\n",
      "Chemotherapy  =  127/216 (58.80%)\n",
      "Radiation     =  148/216 (68.52%)\n",
      "Immunotherapy =   76/216 (35.19%)\n"
     ]
    }
   ],
   "source": [
    "print(\"{:^23}\".format(\"therapy men\"))\n",
    "print(\"{:14s}={:>5d}/{:>3d} ({:>2.2%})\".format(\"OP\",\n",
    "                                               len(op_men[excel_dataset_pats.OP == 1.0]),\n",
    "                                               len(op_men),\n",
    "                                               percentage(len(op_men[excel_dataset_pats.OP == 1.0]), len(op_men))))\n",
    "print(\"{:14s}={:>5d}/{:>3d} ({:>2.2%})\".format(\"Chemotherapy\",\n",
    "                                               len(chemo_men[excel_dataset_pats.Chemotherapie == 1.0]),\n",
    "                                               len(chemo_men),\n",
    "                                               percentage(len(chemo_men[excel_dataset_pats.Chemotherapie == 1.0]), len(chemo_men))))\n",
    "print(\"{:14s}={:>5d}/{:>3d} ({:>2.2%})\".format(\"Radiation\",\n",
    "                                               len(radiatio_men[excel_dataset_pats.Radiatio == 1.0]),\n",
    "                                               len(radiatio_men),\n",
    "                                               percentage(len(radiatio_men[excel_dataset_pats.Radiatio == 1.0]), len(radiatio_men))))\n",
    "print(\"{:14s}={:>5d}/{:>3d} ({:>2.2%})\".format(\"Immunotherapy\",\n",
    "                                               len(immun_men[excel_dataset_pats.Immuntherapie == 1.0]),\n",
    "                                               len(immun_men),\n",
    "                                               percentage(len(immun_men[excel_dataset_pats.Immuntherapie == 1.0]), len(immun_men))))\n",
    "print()\n",
    "\n",
    "print(\"{:^23}\".format(\"therapy women\"))\n",
    "print(\"{:14s}={:>5d}/{:>3d} ({:>2.2%})\".format(\"OP\",\n",
    "                                               len(op_women[excel_dataset_pats.OP == 1.0]),\n",
    "                                               len(op_women),\n",
    "                                               percentage(len(op_women[excel_dataset_pats.OP == 1.0]), len(op_women))))\n",
    "print(\"{:14s}={:>5d}/{:>3d} ({:>2.2%})\".format(\"Chemotherapy\",\n",
    "                                               len(chemo_women[excel_dataset_pats.Chemotherapie == 1.0]),\n",
    "                                               len(chemo_women),\n",
    "                                               percentage(len(chemo_women[excel_dataset_pats.Chemotherapie == 1.0]), len(chemo_women))))\n",
    "print(\"{:14s}={:>5d}/{:>3d} ({:>2.2%})\".format(\"Radiation\",\n",
    "                                               len(radiatio_women[excel_dataset_pats.Radiatio == 1.0]),\n",
    "                                               len(radiatio_women),\n",
    "                                               percentage(len(radiatio_women[excel_dataset_pats.Radiatio == 1.0]), len(radiatio_women))))\n",
    "print(\"{:14s}={:>5d}/{:>3d} ({:>2.2%})\".format(\"Immunotherapy\",\n",
    "                                               len(immun_women[excel_dataset_pats.Immuntherapie == 1.0]),\n",
    "                                               len(immun_women),\n",
    "                                               percentage(len(immun_women[excel_dataset_pats.Immuntherapie == 1.0]), len(immun_women))))"
   ]
  },
  {
   "cell_type": "markdown",
   "metadata": {},
   "source": [
    "### Height / Weight / ECOG"
   ]
  },
  {
   "cell_type": "markdown",
   "metadata": {},
   "source": []
  },
  {
   "cell_type": "code",
   "execution_count": 26,
   "metadata": {},
   "outputs": [],
   "source": [
    "# get vlaues of height, weight, ECOG\n",
    "# if both height and weight are available\n",
    "# calculate BMI if possible\n",
    "\n",
    "\n",
    "# Height\n",
    "height_men = excel_dataset_pats[excel_dataset_pats.ID.isin(men_ids)][\"Größe (cm)\"].dropna()\n",
    "mean_height_men = np.mean(height_men)\n",
    "median_height_men = np.median(height_men)\n",
    "std_height_men = np.std(height_men)\n",
    "\n",
    "height_women = excel_dataset_pats[excel_dataset_pats.ID.isin(women_ids)][\"Größe (cm)\"].dropna()\n",
    "mean_height_women = np.mean(height_women)\n",
    "median_height_women = np.median(height_women)\n",
    "std_height_women = np.std(height_women)\n",
    "\n",
    "\n",
    "# Weight\n",
    "weight_men = excel_dataset_pats[excel_dataset_pats.ID.isin(men_ids)][\"Gewicht (kg)\"].dropna()\n",
    "mean_weight_men = np.mean(weight_men)\n",
    "median_weight_men = np.median(weight_men)\n",
    "std_weight_men = np.std(weight_men)\n",
    "\n",
    "weight_women = excel_dataset_pats[excel_dataset_pats.ID.isin(women_ids)][\"Gewicht (kg)\"].dropna()\n",
    "mean_weight_women = np.mean(weight_women)\n",
    "median_weight_women = np.median(weight_women)\n",
    "std_weight_women = np.std(weight_women)\n",
    "\n",
    "\n",
    "# BMI\n",
    "# check if both values are available\n",
    "# MEN\n",
    "bmi_men = {}\n",
    "for index, row in excel_dataset_pats[excel_dataset_pats.ID.isin(men_ids)].iterrows():\n",
    "    id = row[\"ID\"]\n",
    "    weight = row[\"Gewicht (kg)\"]\n",
    "    height = row[\"Größe (cm)\"]\n",
    "\n",
    "    if not pd.isna(height) and not pd.isna(weight):\n",
    "        bmi = float(weight) / np.square(float(height / 100))\n",
    "        bmi_men[id] = bmi\n",
    "\n",
    "bmi_men = list(bmi_men.values())\n",
    "mean_bmi_men = np.mean(bmi_men)\n",
    "median_bmi_men = np.median(bmi_men)\n",
    "std_bmi_men = np.std(bmi_men)\n",
    "\n",
    "# WOMEN\n",
    "bmi_women = {}\n",
    "dict_bmi_women = {}\n",
    "counter = 0\n",
    "for index, row in excel_dataset_pats[excel_dataset_pats.ID.isin(women_ids)].iterrows():\n",
    "    id = row[\"ID\"]\n",
    "    weight = row[\"Gewicht (kg)\"]\n",
    "    height = row[\"Größe (cm)\"]\n",
    "\n",
    "    if not pd.isna(height) and not pd.isna(weight):\n",
    "        bmi = float(weight) / np.square(float(height / 100))\n",
    "        bmi_women[id] = bmi\n",
    "        dict_bmi_women[counter] = bmi\n",
    "        counter += 1\n",
    "\n",
    "bmi_women = list(bmi_women.values())\n",
    "mean_bmi_women = np.mean(bmi_women)\n",
    "median_bmi_women = np.median(bmi_women)\n",
    "std_bmi_women = np.std(bmi_women)\n",
    "\n",
    "\n",
    "# ECOG\n",
    "ecog_men = excel_dataset_pats[excel_dataset_pats.ID.isin(men_ids)].ECOG.dropna()\n",
    "mean_ecog_men = np.mean(ecog_men)\n",
    "median_ecog_men = np.median(ecog_men)\n",
    "std_ecog_men = np.std(ecog_men)\n",
    "\n",
    "ecog_women = excel_dataset_pats[excel_dataset_pats.ID.isin(women_ids)].ECOG.dropna()\n",
    "mean_ecog_women = np.mean(ecog_women)\n",
    "median_ecog_women = np.median(ecog_women)\n",
    "std_ecog_women = np.std(ecog_women)"
   ]
  },
  {
   "cell_type": "markdown",
   "metadata": {},
   "source": [
    "#### Height"
   ]
  },
  {
   "cell_type": "code",
   "execution_count": 27,
   "metadata": {},
   "outputs": [
    {
     "name": "stdout",
     "output_type": "stream",
     "text": [
      "     height men     \n",
      "total: n    =   179\n",
      "mean: m     =   176.05\n",
      "median: med =   176.00\n",
      "std         =     6.68\n",
      "\n",
      "    height women    \n",
      "total: n    =   157\n",
      "mean: m     =   164.29\n",
      "median: med =   165.00\n",
      "std         =     7.36\n"
     ]
    }
   ],
   "source": [
    "print(\"{:^20}\".format(\"height men\"))\n",
    "print(\"{:12s}={:>6d}\".format(\"total: n\", len(height_men)))\n",
    "print(\"{:12s}={:>9.2f}\".format(\"mean: m\", mean_height_men))\n",
    "print(\"{:12s}={:>9.2f}\".format(\"median: med\", median_height_men))\n",
    "print(\"{:12s}={:>9.2f}\".format(\"std\", std_height_men))\n",
    "print()\n",
    "\n",
    "print(\"{:^20}\".format(\"height women\"))\n",
    "print(\"{:12s}={:>6d}\".format(\"total: n\", len(height_women)))\n",
    "print(\"{:12s}={:>9.2f}\".format(\"mean: m\", mean_height_women))\n",
    "print(\"{:12s}={:>9.2f}\".format(\"median: med\", median_height_women))\n",
    "print(\"{:12s}={:>9.2f}\".format(\"std\", std_height_women))"
   ]
  },
  {
   "cell_type": "markdown",
   "metadata": {},
   "source": [
    "#### Weight"
   ]
  },
  {
   "cell_type": "code",
   "execution_count": 28,
   "metadata": {},
   "outputs": [
    {
     "name": "stdout",
     "output_type": "stream",
     "text": [
      "     weight men     \n",
      "total: n    =   180\n",
      "mean: m     =    80.88\n",
      "median: med =    80.00\n",
      "std         =    14.58\n",
      "\n",
      "    weight women    \n",
      "total: n    =   168\n",
      "mean: m     =    68.14\n",
      "median: med =    68.00\n",
      "std         =    14.27\n"
     ]
    }
   ],
   "source": [
    "print(\"{:^20}\".format(\"weight men\"))\n",
    "print(\"{:12s}={:>6d}\".format(\"total: n\", len(weight_men)))\n",
    "print(\"{:12s}={:>9.2f}\".format(\"mean: m\", mean_weight_men))\n",
    "print(\"{:12s}={:>9.2f}\".format(\"median: med\", median_weight_men))\n",
    "print(\"{:12s}={:>9.2f}\".format(\"std\", std_weight_men))\n",
    "print()\n",
    "\n",
    "print(\"{:^20}\".format(\"weight women\"))\n",
    "print(\"{:12s}={:>6d}\".format(\"total: n\", len(weight_women)))\n",
    "print(\"{:12s}={:>9.2f}\".format(\"mean: m\", mean_weight_women))\n",
    "print(\"{:12s}={:>9.2f}\".format(\"median: med\", median_weight_women))\n",
    "print(\"{:12s}={:>9.2f}\".format(\"std\", std_weight_women))"
   ]
  },
  {
   "cell_type": "markdown",
   "metadata": {},
   "source": [
    "#### BMI"
   ]
  },
  {
   "cell_type": "code",
   "execution_count": 29,
   "metadata": {},
   "outputs": [
    {
     "name": "stdout",
     "output_type": "stream",
     "text": [
      "      bmi men       \n",
      "total: n    =   178\n",
      "mean: m     =    26.11\n",
      "median: med =    25.93\n",
      "std         =     4.57\n",
      "\n",
      "     bmi women      \n",
      "total: n    =   157\n",
      "mean: m     =    25.22\n",
      "median: med =    24.97\n",
      "std         =     5.05\n"
     ]
    }
   ],
   "source": [
    "print(\"{:^20}\".format(\"bmi men\"))\n",
    "print(\"{:12s}={:>6d}\".format(\"total: n\", len(bmi_men)))\n",
    "print(\"{:12s}={:>9.2f}\".format(\"mean: m\", mean_bmi_men))\n",
    "print(\"{:12s}={:>9.2f}\".format(\"median: med\", median_bmi_men))\n",
    "print(\"{:12s}={:>9.2f}\".format(\"std\", std_bmi_men))\n",
    "print()\n",
    "\n",
    "print(\"{:^20}\".format(\"bmi women\"))\n",
    "print(\"{:12s}={:>6d}\".format(\"total: n\", len(bmi_women)))\n",
    "print(\"{:12s}={:>9.2f}\".format(\"mean: m\", mean_bmi_women))\n",
    "print(\"{:12s}={:>9.2f}\".format(\"median: med\", median_bmi_women))\n",
    "print(\"{:12s}={:>9.2f}\".format(\"std\", std_bmi_women))"
   ]
  },
  {
   "cell_type": "markdown",
   "metadata": {},
   "source": [
    "#### ECOG"
   ]
  },
  {
   "cell_type": "code",
   "execution_count": 30,
   "metadata": {},
   "outputs": [
    {
     "name": "stdout",
     "output_type": "stream",
     "text": [
      "      ECOG men      \n",
      "total: n    =   168\n",
      "mean: m     =     0.94\n",
      "median: med =     1.00\n",
      "std         =     0.97\n",
      "ECOG 0      :   69/168 (41.07%)\n",
      "ECOG 1      :   55/168 (32.74%)\n",
      "ECOG 2      :   30/168 (17.86%)\n",
      "ECOG 3      :   13/168 (7.74%)\n",
      "ECOG 4      :    1/168 (0.60%)\n",
      "ECOG 5      :    0/168 (0.00%)\n",
      "\n",
      "     ECOG women     \n",
      "total: n    =   163\n",
      "mean: m     =     1.03\n",
      "median: med =     1.00\n",
      "std         =     1.01\n",
      "ECOG 0      :   60/163 (36.81%)\n",
      "ECOG 1      :   55/163 (33.74%)\n",
      "ECOG 2      :   34/163 (20.86%)\n",
      "ECOG 3      :   11/163 (6.75%)\n",
      "ECOG 4      :    3/163 (1.84%)\n",
      "ECOG 5      :    0/163 (0.00%)\n"
     ]
    }
   ],
   "source": [
    "print(\"{:^20}\".format(\"ECOG men\"))\n",
    "print(\"{:12s}={:>6d}\".format(\"total: n\", len(ecog_men)))\n",
    "print(\"{:12s}={:>9.2f}\".format(\"mean: m\", mean_ecog_men))\n",
    "print(\"{:12s}={:>9.2f}\".format(\"median: med\", median_ecog_men))\n",
    "print(\"{:12s}={:>9.2f}\".format(\"std\", std_ecog_men))\n",
    "\n",
    "# ECOGs men\n",
    "print(\"{:12s}:{:>5d}/{:>3d} ({:>2.2%})\".format(\"ECOG 0\", list(ecog_men).count(0.0), len(ecog_men), percentage(list(ecog_men).count(0.0), len(ecog_men))))\n",
    "print(\"{:12s}:{:>5d}/{:>3d} ({:>2.2%})\".format(\"ECOG 1\", list(ecog_men).count(1.0), len(ecog_men), percentage(list(ecog_men).count(1.0), len(ecog_men))))\n",
    "print(\"{:12s}:{:>5d}/{:>3d} ({:>2.2%})\".format(\"ECOG 2\", list(ecog_men).count(2.0), len(ecog_men), percentage(list(ecog_men).count(2.0), len(ecog_men))))\n",
    "print(\"{:12s}:{:>5d}/{:>3d} ({:>2.2%})\".format(\"ECOG 3\", list(ecog_men).count(3.0), len(ecog_men), percentage(list(ecog_men).count(3.0), len(ecog_men))))\n",
    "print(\"{:12s}:{:>5d}/{:>3d} ({:>2.2%})\".format(\"ECOG 4\", list(ecog_men).count(4.0), len(ecog_men), percentage(list(ecog_men).count(4.0), len(ecog_men))))\n",
    "print(\"{:12s}:{:>5d}/{:>3d} ({:>2.2%})\".format(\"ECOG 5\", list(ecog_men).count(5.0), len(ecog_men), percentage(list(ecog_men).count(5.0), len(ecog_men))))\n",
    "print()\n",
    "\n",
    "print(\"{:^20}\".format(\"ECOG women\"))\n",
    "print(\"{:12s}={:>6d}\".format(\"total: n\", len(ecog_women)))\n",
    "print(\"{:12s}={:>9.2f}\".format(\"mean: m\", mean_ecog_women))\n",
    "print(\"{:12s}={:>9.2f}\".format(\"median: med\", median_ecog_women))\n",
    "print(\"{:12s}={:>9.2f}\".format(\"std\", std_ecog_women))\n",
    "\n",
    "# ECOGs women\n",
    "print(\"{:12s}:{:>5d}/{:>3d} ({:>2.2%})\".format(\"ECOG 0\", list(ecog_women).count(0.0), len(ecog_women), percentage(list(ecog_women).count(0.0), len(ecog_women))))\n",
    "print(\"{:12s}:{:>5d}/{:>3d} ({:>2.2%})\".format(\"ECOG 1\", list(ecog_women).count(1.0), len(ecog_women), percentage(list(ecog_women).count(1.0), len(ecog_women))))\n",
    "print(\"{:12s}:{:>5d}/{:>3d} ({:>2.2%})\".format(\"ECOG 2\", list(ecog_women).count(2.0), len(ecog_women), percentage(list(ecog_women).count(2.0), len(ecog_women))))\n",
    "print(\"{:12s}:{:>5d}/{:>3d} ({:>2.2%})\".format(\"ECOG 3\", list(ecog_women).count(3.0), len(ecog_women), percentage(list(ecog_women).count(3.0), len(ecog_women))))\n",
    "print(\"{:12s}:{:>5d}/{:>3d} ({:>2.2%})\".format(\"ECOG 4\", list(ecog_women).count(4.0), len(ecog_women), percentage(list(ecog_women).count(4.0), len(ecog_women))))\n",
    "print(\"{:12s}:{:>5d}/{:>3d} ({:>2.2%})\".format(\"ECOG 5\", list(ecog_women).count(5.0), len(ecog_women), percentage(list(ecog_women).count(5.0), len(ecog_women))))"
   ]
  },
  {
   "cell_type": "markdown",
   "metadata": {},
   "source": [
    "### Resektionstatus"
   ]
  },
  {
   "cell_type": "code",
   "execution_count": 31,
   "metadata": {},
   "outputs": [],
   "source": [
    "#Resektionsstatus (0 = Komplettresektion; 1 = Rest/weitere Hirnfiliae, 2 = keine Resektion, 3 = unklar)\n",
    "\n",
    "# MEN\n",
    "men_resections = excel_dataset_pats[\"Resektionsstatus (0 = Komplettresektion; 1 = Rest/weitere Hirnfiliae, 2 = keine Resektion, 3 = unklar)\"][excel_dataset_pats.ID.isin(men_ids)].dropna()\n",
    "\n",
    "total_r_men = len(men_resections)\n",
    "r0_men = 0\n",
    "r1_men = 0\n",
    "noR_men = 0\n",
    "\n",
    "for value, amount in men_resections.value_counts().items():\n",
    "    if value == 0.0:\n",
    "        r0_men = amount\n",
    "    elif value == 1.0:\n",
    "        r1_men = amount\n",
    "    elif value == 2.0:\n",
    "        noR_men = amount\n",
    "    elif value == 3.0:\n",
    "        total_r_men -= amount\n",
    "    else:\n",
    "        print(f\"error, unknown value {value}, {amount}\")\n",
    "\n",
    "# WOMEN\n",
    "women_resections = excel_dataset_pats[\"Resektionsstatus (0 = Komplettresektion; 1 = Rest/weitere Hirnfiliae, 2 = keine Resektion, 3 = unklar)\"][excel_dataset_pats.ID.isin(women_ids)].dropna()\n",
    "\n",
    "total_r_women = len(women_resections)\n",
    "r0_women = 0\n",
    "r1_women = 0\n",
    "noR_women = 0\n",
    "\n",
    "for value, amount in women_resections.value_counts().items():\n",
    "    if value == 0.0:\n",
    "        r0_women = amount\n",
    "    elif value == 1.0:\n",
    "        r1_women = amount\n",
    "    elif value == 2.0:\n",
    "        noR_women = amount\n",
    "    elif value == 3.0:\n",
    "        total_r_women -= amount\n",
    "    else:\n",
    "        print(f\"error, unknown value {value}, {amount}\")"
   ]
  },
  {
   "cell_type": "code",
   "execution_count": 32,
   "metadata": {},
   "outputs": [
    {
     "name": "stdout",
     "output_type": "stream",
     "text": [
      "       resection status men        \n",
      "complete resection  :   51/242 (21.07%)\n",
      "partial resection   :   98/242 (40.50%)\n",
      "no resection        :   93/242 (38.43%)\n",
      "\n",
      "      resection status women       \n",
      "complete resection  :   36/203 (17.73%)\n",
      "partial resection   :   73/203 (35.96%)\n",
      "no resection        :   94/203 (46.31%)\n"
     ]
    }
   ],
   "source": [
    "print(\"{:^35}\".format(\"resection status men\"))\n",
    "print(\"{:20s}:{:>5d}/{:>3d} ({:>2.2%})\".format(\"complete resection\", r0_men, total_r_men, percentage(r0_men, total_r_men)))\n",
    "print(\"{:20s}:{:>5d}/{:>3d} ({:>2.2%})\".format(\"partial resection\", r1_men, total_r_men, percentage(r1_men, total_r_men)))\n",
    "print(\"{:20s}:{:>5d}/{:>3d} ({:>2.2%})\".format(\"no resection\", noR_men, total_r_men, percentage(noR_men, total_r_men)))\n",
    "\n",
    "print()\n",
    "\n",
    "print(\"{:^35}\".format(\"resection status women\"))\n",
    "print(\"{:20s}:{:>5d}/{:>3d} ({:>2.2%})\".format(\"complete resection\", r0_women, total_r_women, percentage(r0_women, total_r_women)))\n",
    "print(\"{:20s}:{:>5d}/{:>3d} ({:>2.2%})\".format(\"partial resection\", r1_women, total_r_women, percentage(r1_women, total_r_women)))\n",
    "print(\"{:20s}:{:>5d}/{:>3d} ({:>2.2%})\".format(\"no resection\", noR_women, total_r_women, percentage(noR_women, total_r_women)))"
   ]
  },
  {
   "cell_type": "markdown",
   "metadata": {},
   "source": [
    "### Relapsestatus"
   ]
  },
  {
   "cell_type": "code",
   "execution_count": 33,
   "metadata": {},
   "outputs": [
    {
     "name": "stdout",
     "output_type": "stream",
     "text": [
      "       relpase status men       \n",
      "relapse          :   56/255 (21.96%)\n",
      "relapse unknown  :  199/255 (78.04%)\n",
      "\n",
      "      relpase status women      \n",
      "relapse          :   27/216 (12.50%)\n",
      "relapse unknown  :  189/216 (87.50%)\n"
     ]
    }
   ],
   "source": [
    "#im Verlauf Rezidiv der Hirnmetastase (0 = nicht bekannt; 1 = ja)\n",
    "\n",
    "men_relapse = list(excel_dataset_pats[\"im Verlauf Rezidiv der Hirnmetastase (0 = nicht bekannt; 1 = ja)\"][excel_dataset_pats.ID.isin(men_ids)].dropna())\n",
    "\n",
    "women_relapse = list(excel_dataset_pats[\"im Verlauf Rezidiv der Hirnmetastase (0 = nicht bekannt; 1 = ja)\"][excel_dataset_pats.ID.isin(women_ids)].dropna())\n",
    "\n",
    "\n",
    "print(\"{:^32}\".format(\"relpase status men\"))\n",
    "print(\"{:17s}:{:>5d}/{:>3d} ({:>2.2%})\".format(\"relapse\", men_relapse.count(1.0), len(men_ids), percentage(men_relapse.count(1.0), len(men_ids))))\n",
    "print(\"{:17s}:{:>5d}/{:>3d} ({:>2.2%})\".format(\"relapse unknown\",\n",
    "                                               len(men_ids) - men_relapse.count(1.0),\n",
    "                                               len(men_ids),\n",
    "                                               percentage(len(men_ids) - men_relapse.count(1.0), len(men_ids))))\n",
    "\n",
    "print()\n",
    "\n",
    "print(\"{:^32}\".format(\"relpase status women\"))\n",
    "print(\"{:17s}:{:>5d}/{:>3d} ({:>2.2%})\".format(\"relapse\", women_relapse.count(1.0), len(women_ids), percentage(women_relapse.count(1.0), len(women_ids))))\n",
    "print(\"{:17s}:{:>5d}/{:>3d} ({:>2.2%})\".format(\"relapse unknown\",\n",
    "                                               len(women_ids) - women_relapse.count(1.0),\n",
    "                                               len(women_ids),\n",
    "                                               percentage(len(women_ids) - women_relapse.count(1.0), len(women_ids))))"
   ]
  }
 ],
 "metadata": {
  "kernelspec": {
   "display_name": "brain_mets_env",
   "language": "python",
   "name": "python3"
  },
  "language_info": {
   "codemirror_mode": {
    "name": "ipython",
    "version": 3
   },
   "file_extension": ".py",
   "mimetype": "text/x-python",
   "name": "python",
   "nbconvert_exporter": "python",
   "pygments_lexer": "ipython3",
   "version": "3.11.0"
  }
 },
 "nbformat": 4,
 "nbformat_minor": 2
}
