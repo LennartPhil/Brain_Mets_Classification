{
 "cells": [
  {
   "cell_type": "markdown",
   "metadata": {},
   "source": [
    "# Patient Data Analysis"
   ]
  },
  {
   "cell_type": "code",
   "execution_count": 149,
   "metadata": {},
   "outputs": [],
   "source": [
    "# import libraries\n",
    "import pandas as pd\n",
    "from pathlib import Path\n",
    "import numpy as np\n",
    "import os\n",
    "from dateutil.relativedelta import relativedelta\n",
    "\n",
    "\n",
    "import sys\n",
    "sys.path.append(r\"/Users/LennartPhilipp/Desktop/Uni/Prowiss/Code/Brain_Mets_Classification\")\n",
    "import brain_mets_classification.config as config"
   ]
  },
  {
   "cell_type": "markdown",
   "metadata": {},
   "source": [
    "### load data"
   ]
  },
  {
   "cell_type": "markdown",
   "metadata": {},
   "source": [
    "load excel sheet"
   ]
  },
  {
   "cell_type": "code",
   "execution_count": 191,
   "metadata": {},
   "outputs": [],
   "source": [
    "# reads the patient excel sheet and puts them into a pandas Dataframe\n",
    "path_to_excel = Path(\"/Users/LennartPhilipp/Desktop/Uni/Prowiss/Dateien/patient data analysis.xlsx\")\n",
    "try:\n",
    "    patientsDataFrame = pd.read_excel(path_to_excel)\n",
    "except ImportError as e:\n",
    "    print(e)\n",
    "\n",
    "modifiedPatientsDataFrame = patientsDataFrame.copy()"
   ]
  },
  {
   "cell_type": "markdown",
   "metadata": {},
   "source": [
    "load patients actually in dataset"
   ]
  },
  {
   "cell_type": "code",
   "execution_count": 192,
   "metadata": {},
   "outputs": [],
   "source": [
    "path_to_list_of_patients_in_dataset = Path(\"/Users/LennartPhilipp/Desktop/Uni/Prowiss/Dateien/dataset_patients_05_24.tsv\")\n",
    "\n",
    "dataset_patients = pd.read_csv(path_to_list_of_patients_in_dataset, sep=\"\\t\", index_col=False)"
   ]
  },
  {
   "cell_type": "code",
   "execution_count": 3,
   "metadata": {},
   "outputs": [
    {
     "name": "stdout",
     "output_type": "stream",
     "text": [
      "Before removing unfit files: 493\n",
      "After removing unfit files: 491\n"
     ]
    }
   ],
   "source": [
    "path_to_dataset_patients = Path(\"/Users/LennartPhilipp/Desktop/Uni/Prowiss/Dateien/participants.tsv\")\n",
    "path_to_preprocessed_images = Path(\"/Volumes/BrainMets/Rgb_Brain_Mets/brain_mets_classification/derivatives/preprocessed_brainlesion_allpatients\")\n",
    "\n",
    "dataset_patients = pd.read_csv(path_to_dataset_patients, sep=\"\\t\", index_col=False)\n",
    "\n",
    "# drop patient sub-01383503\n",
    "patient_to_drop_index = dataset_patients.index[dataset_patients[\"participant_id\"] == \"sub-01383503\"]\n",
    "dataset_patients.drop(index=patient_to_drop_index, inplace=True)\n",
    "dataset_patients.reset_index(drop=True, inplace=True)\n",
    "#training_patients = training_patients.sample(frac=1) #shuffles the dataset\n",
    "\n",
    "print(f\"Before removing unfit files: {len(dataset_patients)}\")\n",
    "patient_files_list = os.listdir(path_to_preprocessed_images)\n",
    "for index, row in dataset_patients.iterrows():\n",
    "    if dataset_patients[\"participant_id\"][index] not in patient_files_list:\n",
    "        dataset_patients.drop(index=index, inplace=True)\n",
    "\n",
    "print(f\"After removing unfit files: {len(dataset_patients)}\")\n",
    "dataset_patients.reset_index(drop=True, inplace=True)"
   ]
  },
  {
   "cell_type": "code",
   "execution_count": 4,
   "metadata": {},
   "outputs": [],
   "source": [
    "# export dataset_patients\n",
    "path_to_list_of_patients_in_dataset = Path(\"/Users/LennartPhilipp/Desktop/Uni/Prowiss/Dateien/dataset_patients_05_24.tsv\")\n",
    "dataset_patients.to_csv(path_to_list_of_patients_in_dataset, index=False, sep=\"\\t\")"
   ]
  },
  {
   "cell_type": "markdown",
   "metadata": {},
   "source": [
    "### Data clean up"
   ]
  },
  {
   "cell_type": "code",
   "execution_count": 193,
   "metadata": {},
   "outputs": [],
   "source": [
    "# removes unused columns from dataset\n",
    "modifiedPatientsDataFrame = modifiedPatientsDataFrame.iloc[:, :39] # only keeps the columns until column 38\n",
    "modifiedPatientsDataFrame = modifiedPatientsDataFrame.drop(columns=[\"T.1\",\n",
    "                                                                    \"primary_coded\",\n",
    "                                                                    \"primary_coded_clean\",\n",
    "                                                                    \"N\",\n",
    "                                                                    \"M\",\n",
    "                                                                    \"M_number_organ_systems\",\n",
    "                                                                    \"TNM\",\n",
    "                                                                    \"Survival ab ED gesamt\",\n",
    "                                                                    \"Survival ab ED Hirnmet.\",\n",
    "                                                                    \"Survival_from_ED_Met (months)\",\n",
    "                                                                    \"Alter bei MRT (J./kalkuliert)\",\n",
    "                                                                    \"Dauer Tumorleiden\\n(kalkuliert; von ED bis ED Hirnmet.)\",\n",
    "                                                                    \"Karnofsky (%)\",\n",
    "                                                                    \"periphere Metastasen zum Zeitpunkt des MRTs ( Keine = 0, Einzelne = 1, Oligo =2, Multipel =3)\",\n",
    "                                                                    \"im Verlauf neu aufgetretene Metastasen (0 = keine bekannt)\",\n",
    "                                                                    ])\n",
    "\n",
    "# turn ID strings into ints\n",
    "modifiedPatientsDataFrame.ID = modifiedPatientsDataFrame.ID.astype(int)\n",
    "\n",
    "dataset_patients[\"participant_id\"] = dataset_patients[\"participant_id\"].str.slice_replace(0, 4, \"\").astype(int)"
   ]
  },
  {
   "cell_type": "markdown",
   "metadata": {},
   "source": [
    "### patients selected by whom"
   ]
  },
  {
   "cell_type": "code",
   "execution_count": 194,
   "metadata": {},
   "outputs": [
    {
     "name": "stdout",
     "output_type": "stream",
     "text": [
      "selected by\n",
      "Lennart        483\n",
      "not Lennart    262\n",
      "Name: count, dtype: int64\n"
     ]
    }
   ],
   "source": [
    "print(modifiedPatientsDataFrame[\"selected by\"].value_counts())"
   ]
  },
  {
   "cell_type": "markdown",
   "metadata": {},
   "source": [
    "#### patients not selected by Lennart\n",
    "to do:\n",
    "- put \"MRI sequences missing\" into the \"reason\" column in excel based on unused_pats_not_Lennart"
   ]
  },
  {
   "cell_type": "code",
   "execution_count": 195,
   "metadata": {},
   "outputs": [
    {
     "name": "stdout",
     "output_type": "stream",
     "text": [
      "# of patients not selected by Lennart: 262\n",
      "# of those not used for the dataset: 35\n",
      "\n",
      "due to the following reasons:\n",
      "reason\n",
      "braintumor             2\n",
      "CUP                    2\n",
      "lymphoma               1\n",
      "no brain metastases    1\n",
      "Name: count, dtype: int64\n",
      "not correct amount of MRI sequences: 29\n"
     ]
    }
   ],
   "source": [
    "# compare patients not selected by Lennart with dataset_patients\n",
    "pats_not_used_not_Lennart = []\n",
    "#pats_not_by_Lennart = modifiedPatientsDataFrame.query(\"`selected by` == not Lennart\")[\"ID\"]\n",
    "pats_not_by_Lennart = list(modifiedPatientsDataFrame[modifiedPatientsDataFrame[\"selected by\"] == \"not Lennart\"][\"ID\"])\n",
    "\n",
    "print(f\"# of patients not selected by Lennart: {len(pats_not_by_Lennart)}\")\n",
    "\n",
    "amount_of_patients_used_not_lennart = 0\n",
    "\n",
    "for pat_id in pats_not_by_Lennart:\n",
    "    if pat_id not in list(dataset_patients[\"participant_id\"]):\n",
    "        pats_not_used_not_Lennart.append(pat_id)\n",
    "        amount_of_patients_used_not_lennart += 1\n",
    "\n",
    "unused_pats_not_Lennart = modifiedPatientsDataFrame[modifiedPatientsDataFrame.ID.isin(pats_not_used_not_Lennart)]\n",
    "\n",
    "print(f\"# of those not used for the dataset: {amount_of_patients_used_not_lennart}\")\n",
    "print(\"\\ndue to the following reasons:\")\n",
    "\n",
    "unused_value_counts = unused_pats_not_Lennart.reason.value_counts()\n",
    "print(unused_value_counts)\n",
    "amount_of_patients_not_lennart_not_used_with_reasons = 0\n",
    "for value in unused_value_counts:\n",
    "    amount_of_patients_not_lennart_not_used_with_reasons += value\n",
    "\n",
    "amount_other_reason_not_lennart = amount_of_patients_used_not_lennart - amount_of_patients_not_lennart_not_used_with_reasons\n",
    "print(f\"not correct amount of MRI sequences: {amount_other_reason_not_lennart}\")\n"
   ]
  },
  {
   "cell_type": "markdown",
   "metadata": {},
   "source": [
    "#### patients selected by Lennart"
   ]
  },
  {
   "cell_type": "code",
   "execution_count": 113,
   "metadata": {},
   "outputs": [
    {
     "name": "stdout",
     "output_type": "stream",
     "text": [
      "# of patients selected by Lennart: 483\n",
      "# of those not used for the dataset: 219\n",
      "\n",
      "due to the following reasons:\n",
      "reason\n",
      "no brain metastases          58\n",
      "brain tumor                  32\n",
      "lack of data                 21\n",
      "pre OP MRI missing           18\n",
      "lymphoma                     17\n",
      "histology unclear             8\n",
      "CUP                           7\n",
      "other tumor                   3\n",
      "braintumor                    1\n",
      "meningeosis carcinomatosa     1\n",
      "Name: count, dtype: int64\n",
      "\n",
      "not correct amount of MRI sequences: 53\n"
     ]
    }
   ],
   "source": [
    "# get all patients selected by Lennart\n",
    "# compare with patients actually used\n",
    "# list reasons why not used\n",
    "# get funky\n",
    "\n",
    "pats_by_Lennart = list(modifiedPatientsDataFrame[modifiedPatientsDataFrame[\"selected by\"] == \"Lennart\"][\"ID\"])\n",
    "pats_not_used_Lennart = []\n",
    "\n",
    "print(f\"# of patients selected by Lennart: {len(pats_by_Lennart)}\")\n",
    "\n",
    "amount_of_patients_used_lennart = 0\n",
    "\n",
    "for pat_id in pats_by_Lennart:\n",
    "    if pat_id not in list(dataset_patients[\"participant_id\"]):\n",
    "        pats_not_used_Lennart.append(pat_id)\n",
    "        amount_of_patients_used_lennart += 1\n",
    "\n",
    "unused_pats_Lennart = modifiedPatientsDataFrame[modifiedPatientsDataFrame.ID.isin(pats_not_used_Lennart)]\n",
    "\n",
    "print(f\"# of those not used for the dataset: {amount_of_patients_used_lennart}\")\n",
    "print(\"\\ndue to the following reasons:\")\n",
    "\n",
    "unused_value_counts = unused_pats_Lennart.reason.value_counts()\n",
    "print(unused_value_counts)\n",
    "amount_of_patients_lennart_not_used_with_reasons = 0\n",
    "for value in unused_value_counts:\n",
    "    amount_of_patients_lennart_not_used_with_reasons += value\n",
    "\n",
    "amount_other_reason_lennart = amount_of_patients_used_lennart - amount_of_patients_lennart_not_used_with_reasons\n",
    "\n",
    "print()\n",
    "print(f\"not correct amount of MRI sequences: {amount_other_reason_lennart}\")\n"
   ]
  },
  {
   "cell_type": "markdown",
   "metadata": {},
   "source": [
    "acceptable reasons:\\\n",
    "no brain metastastes, brain tumor, other tumor, lymphoma, pre OP MRI missing, meningeosis carcinomatosa, CUP, missing MRI sequences, lack of data, histology unclear"
   ]
  },
  {
   "cell_type": "markdown",
   "metadata": {},
   "source": [
    "## Data Analysis"
   ]
  },
  {
   "cell_type": "markdown",
   "metadata": {},
   "source": [
    "To-do:\n",
    "- sex\n",
    "- age at MRI\n",
    "- age at first diagnosis\n",
    "- age at first diagnosis brainmet\n",
    "- did any of the following occur during their therape: OP / Chemo / Radiatio / Immunotherapie\n",
    "- height\n",
    "- weight\n",
    "- ECOG\n",
    "- status of resection\n",
    "- status of relapse\n",
    "\n",
    "Try to display as such:\n",
    "\n",
    "CATEGORY\\\n",
    "total n=XXX, mean m: XX (n=XXX) ± STD, mean f: XX (n=XXX) ± STD"
   ]
  },
  {
   "cell_type": "code",
   "execution_count": 209,
   "metadata": {},
   "outputs": [
    {
     "data": {
      "text/html": [
       "<div>\n",
       "<style scoped>\n",
       "    .dataframe tbody tr th:only-of-type {\n",
       "        vertical-align: middle;\n",
       "    }\n",
       "\n",
       "    .dataframe tbody tr th {\n",
       "        vertical-align: top;\n",
       "    }\n",
       "\n",
       "    .dataframe thead th {\n",
       "        text-align: right;\n",
       "    }\n",
       "</style>\n",
       "<table border=\"1\" class=\"dataframe\">\n",
       "  <thead>\n",
       "    <tr style=\"text-align: right;\">\n",
       "      <th></th>\n",
       "      <th>on_server</th>\n",
       "      <th>in_study (0 = no, 1 = yes, 2 = tbd, 3 = remarkable)</th>\n",
       "      <th>reason</th>\n",
       "      <th>comment</th>\n",
       "      <th>selected by</th>\n",
       "      <th>MRI_comments</th>\n",
       "      <th>ID</th>\n",
       "      <th>birthdate</th>\n",
       "      <th>sex (m/w)</th>\n",
       "      <th>preop_MRICE_date</th>\n",
       "      <th>...</th>\n",
       "      <th>date_first_diagnosis_primary</th>\n",
       "      <th>date_first_diagnosis_brain_met</th>\n",
       "      <th>OP</th>\n",
       "      <th>Chemotherapie</th>\n",
       "      <th>Radiatio</th>\n",
       "      <th>Immuntherapie</th>\n",
       "      <th>Größe (cm)</th>\n",
       "      <th>Gewicht (kg)</th>\n",
       "      <th>ECOG</th>\n",
       "      <th>AZ Beschreibung</th>\n",
       "    </tr>\n",
       "  </thead>\n",
       "  <tbody>\n",
       "  </tbody>\n",
       "</table>\n",
       "<p>0 rows × 24 columns</p>\n",
       "</div>"
      ],
      "text/plain": [
       "Empty DataFrame\n",
       "Columns: [on_server, in_study (0 = no, 1 = yes, 2 = tbd, 3 = remarkable), reason, comment, selected by, MRI_comments, ID, birthdate, sex (m/w), preop_MRICE_date, primary_full, primary_coded_newv, T, death_date, date_first_diagnosis_primary, date_first_diagnosis_brain_met, OP, Chemotherapie, Radiatio, Immuntherapie, Größe (cm), Gewicht (kg), ECOG, AZ Beschreibung]\n",
       "Index: []\n",
       "\n",
       "[0 rows x 24 columns]"
      ]
     },
     "execution_count": 209,
     "metadata": {},
     "output_type": "execute_result"
    }
   ],
   "source": [
    "dataset_pat_ids = list(dataset_patients[\"participant_id\"])\n",
    "excel_dataset_pats = modifiedPatientsDataFrame.copy()[modifiedPatientsDataFrame.ID.isin(dataset_pat_ids)]\n",
    "#print(excel_dataset_pats)\n",
    "excel_dataset_pats[excel_dataset_pats.duplicated(subset=\"ID\")]"
   ]
  },
  {
   "cell_type": "markdown",
   "metadata": {},
   "source": [
    "removed 2nd instance of `1349100` in excel sheet\\\n",
    "removed 1st instance of `1935938` in excel sheet\\\n",
    "removed 1st instance of `1699419` in excel sheet\\\n",
    "removed 2nd instance of `1876862` in excel sheet\\\n",
    "removed 1st instance of `1764802` in excel sheet\\\n",
    "removed 1st instance of `1456719` in excel sheet\\\n",
    "removed 1st instance of `2014467` in excel sheet\\\n",
    "removed 1st instance of `1792136` in excel sheet"
   ]
  },
  {
   "cell_type": "code",
   "execution_count": 197,
   "metadata": {},
   "outputs": [],
   "source": [
    "# get list of patIDs of men and women in dataset\n",
    "men_ids = list(excel_dataset_pats[excel_dataset_pats[\"sex (m/w)\"] == \"m\"].ID)\n",
    "women_ids = list(excel_dataset_pats[excel_dataset_pats[\"sex (m/w)\"] == \"w\"].ID)"
   ]
  },
  {
   "cell_type": "markdown",
   "metadata": {},
   "source": [
    "### sex"
   ]
  },
  {
   "cell_type": "code",
   "execution_count": 182,
   "metadata": {},
   "outputs": [
    {
     "name": "stdout",
     "output_type": "stream",
     "text": [
      "m: 268/491 (54.58%)\n",
      "w: 223/491 (45.42%)\n"
     ]
    }
   ],
   "source": [
    "def percentage(part, whole):\n",
    "  Percentage = float(part)/float(whole)\n",
    "  return Percentage\n",
    "\n",
    "pat_count = len(excel_dataset_pats)\n",
    "for val, cnt in excel_dataset_pats[\"sex (m/w)\"].value_counts().items():\n",
    "    print(\"{:1s}: {:3d}/{:3d} ({:.2%})\".format(val, cnt, pat_count, percentage(cnt, pat_count)))"
   ]
  },
  {
   "cell_type": "markdown",
   "metadata": {},
   "source": [
    "### age at mri"
   ]
  },
  {
   "cell_type": "code",
   "execution_count": 117,
   "metadata": {},
   "outputs": [
    {
     "name": "stdout",
     "output_type": "stream",
     "text": [
      "      ages men      \n",
      "total: n    =   268\n",
      "mean: m     =    63.69\n",
      "median: med =    65.00\n",
      "std         =    11.61\n",
      "\n",
      "     ages women     \n",
      "total: n    =   223\n",
      "mean: m     =    60.78\n",
      "median: med =    61.00\n",
      "std         =    12.10\n"
     ]
    }
   ],
   "source": [
    "ages_men = dataset_patients.age[dataset_patients.participant_id.isin(men_ids)]\n",
    "mean_ages_men = np.mean(ages_men)\n",
    "median_ages_men = np.median(ages_men)\n",
    "std_ages_men = np.std(ages_men)\n",
    "\n",
    "ages_women = dataset_patients.age[dataset_patients.participant_id.isin(women_ids)]\n",
    "mean_ages_women = np.mean(ages_women)\n",
    "median_ages_women = np.median(ages_women)\n",
    "std_ages_women = np.std(ages_women)\n",
    "\n",
    "print(\"{:^20}\".format(\"ages men\"))\n",
    "print(\"{:12s}={:>6d}\".format(\"total: n\", len(ages_men)))\n",
    "print(\"{:12s}={:>9.2f}\".format(\"mean: m\", mean_ages_men))\n",
    "print(\"{:12s}={:>9.2f}\".format(\"median: med\", median_ages_men))\n",
    "print(\"{:12s}={:>9.2f}\".format(\"std\", std_ages_men))\n",
    "print()\n",
    "\n",
    "print(\"{:^20}\".format(\"ages women\"))\n",
    "print(\"{:12s}={:>6d}\".format(\"total: n\", len(ages_women)))\n",
    "print(\"{:12s}={:>9.2f}\".format(\"mean: m\", mean_ages_women))\n",
    "print(\"{:12s}={:>9.2f}\".format(\"median: med\", median_ages_women))\n",
    "print(\"{:12s}={:>9.2f}\".format(\"std\", std_ages_women))"
   ]
  },
  {
   "cell_type": "markdown",
   "metadata": {},
   "source": [
    "### primaries count"
   ]
  },
  {
   "cell_type": "code",
   "execution_count": 118,
   "metadata": {},
   "outputs": [
    {
     "name": "stdout",
     "output_type": "stream",
     "text": [
      "          primaries men - detailed          \n",
      "adenocarcinoma of the lung                67\n",
      "melanoma                                  49\n",
      "small cell lung cancer                    34\n",
      "colorectal cancer                         15\n",
      "NSCLC                                     14\n",
      "lung cancer, exact histology unknown      13\n",
      "squamous cell lung cancer                 12\n",
      "prostate cancer                            8\n",
      "transitional cell carcinoma                8\n",
      "renal cell carcinoma                       8\n",
      "lung cancer, other                         7\n",
      "cancer of unknown primary                  5\n",
      "esophageal cancer                          4\n",
      "testicular cancer                          4\n",
      "oral squamous cell carcinoma               3\n",
      "laryngeal cancer                           2\n",
      "osteosarcoma                               2\n",
      "large cell lung cancer                     2\n",
      "thyroid cancer                             1\n",
      "breast cancer                              1\n",
      "rhabdomyosarcoma                           1\n",
      "liposarcoma                                1\n",
      "gastric cancer                             1\n",
      "adenoid cystic carcinoma                   1\n",
      "solitary fibrous tumor                     1\n",
      "pancreatic cancer                          1\n",
      "lacrimal gland carcinoma                   1\n",
      "sarcoma, other                             1\n",
      "NET                                        1\n"
     ]
    }
   ],
   "source": [
    "primaries_men = dataset_patients.primary[dataset_patients.participant_id.isin(men_ids)]\n",
    "print(\"{:^44}\".format(\"primaries men - detailed\"))\n",
    "\n",
    "for val, cnt in primaries_men.value_counts().items():\n",
    "    primary_name = config.cancer_primaries_dict[val]\n",
    "    print(\"{:38s}{:>6d}\".format(primary_name, cnt))"
   ]
  },
  {
   "cell_type": "code",
   "execution_count": 119,
   "metadata": {},
   "outputs": [
    {
     "data": {
      "text/html": [
       "<div>\n",
       "<style scoped>\n",
       "    .dataframe tbody tr th:only-of-type {\n",
       "        vertical-align: middle;\n",
       "    }\n",
       "\n",
       "    .dataframe tbody tr th {\n",
       "        vertical-align: top;\n",
       "    }\n",
       "\n",
       "    .dataframe thead th {\n",
       "        text-align: right;\n",
       "    }\n",
       "</style>\n",
       "<table border=\"1\" class=\"dataframe\">\n",
       "  <thead>\n",
       "    <tr style=\"text-align: right;\">\n",
       "      <th></th>\n",
       "      <th>on_server</th>\n",
       "      <th>in_study (0 = no, 1 = yes, 2 = tbd, 3 = remarkable)</th>\n",
       "      <th>reason</th>\n",
       "      <th>comment</th>\n",
       "      <th>selected by</th>\n",
       "      <th>MRI_comments</th>\n",
       "      <th>ID</th>\n",
       "      <th>birthdate</th>\n",
       "      <th>sex (m/w)</th>\n",
       "      <th>preop_MRICE_date</th>\n",
       "      <th>...</th>\n",
       "      <th>date_first_diagnosis_primary</th>\n",
       "      <th>date_first_diagnosis_brain_met</th>\n",
       "      <th>OP</th>\n",
       "      <th>Chemotherapie</th>\n",
       "      <th>Radiatio</th>\n",
       "      <th>Immuntherapie</th>\n",
       "      <th>Größe (cm)</th>\n",
       "      <th>Gewicht (kg)</th>\n",
       "      <th>ECOG</th>\n",
       "      <th>AZ Beschreibung</th>\n",
       "    </tr>\n",
       "  </thead>\n",
       "  <tbody>\n",
       "    <tr>\n",
       "      <th>19</th>\n",
       "      <td>0</td>\n",
       "      <td>1</td>\n",
       "      <td>NaN</td>\n",
       "      <td>NaN</td>\n",
       "      <td>not Lennart</td>\n",
       "      <td>MRI images missing</td>\n",
       "      <td>1475524</td>\n",
       "      <td>1939-04-04</td>\n",
       "      <td>w</td>\n",
       "      <td>2006-07-28 00:00:00</td>\n",
       "      <td>...</td>\n",
       "      <td>NaN</td>\n",
       "      <td>NaN</td>\n",
       "      <td>NaN</td>\n",
       "      <td>NaN</td>\n",
       "      <td>NaN</td>\n",
       "      <td>NaN</td>\n",
       "      <td>NaN</td>\n",
       "      <td>NaN</td>\n",
       "      <td>NaN</td>\n",
       "      <td>NaN</td>\n",
       "    </tr>\n",
       "    <tr>\n",
       "      <th>21</th>\n",
       "      <td>0</td>\n",
       "      <td>1</td>\n",
       "      <td>NaN</td>\n",
       "      <td>NaN</td>\n",
       "      <td>not Lennart</td>\n",
       "      <td>MRI images missing</td>\n",
       "      <td>1434617</td>\n",
       "      <td>1950-10-18</td>\n",
       "      <td>m</td>\n",
       "      <td>2006-08-18 00:00:00</td>\n",
       "      <td>...</td>\n",
       "      <td>April 2003</td>\n",
       "      <td>ca. August 2005</td>\n",
       "      <td>1.0</td>\n",
       "      <td>0.0</td>\n",
       "      <td>1.0</td>\n",
       "      <td>0.0</td>\n",
       "      <td>NaN</td>\n",
       "      <td>NaN</td>\n",
       "      <td>NaN</td>\n",
       "      <td>NaN</td>\n",
       "    </tr>\n",
       "    <tr>\n",
       "      <th>93</th>\n",
       "      <td>0</td>\n",
       "      <td>1</td>\n",
       "      <td>NaN</td>\n",
       "      <td>NaN</td>\n",
       "      <td>not Lennart</td>\n",
       "      <td>MRI images missing</td>\n",
       "      <td>1614295</td>\n",
       "      <td>1949-03-26</td>\n",
       "      <td>m</td>\n",
       "      <td>2011-03-18 00:00:00</td>\n",
       "      <td>...</td>\n",
       "      <td>März 2011</td>\n",
       "      <td>März 2011</td>\n",
       "      <td>1.0</td>\n",
       "      <td>1.0</td>\n",
       "      <td>1.0</td>\n",
       "      <td>0.0</td>\n",
       "      <td>176.0</td>\n",
       "      <td>75</td>\n",
       "      <td>NaN</td>\n",
       "      <td>NaN</td>\n",
       "    </tr>\n",
       "    <tr>\n",
       "      <th>96</th>\n",
       "      <td>0</td>\n",
       "      <td>1</td>\n",
       "      <td>NaN</td>\n",
       "      <td>NaN</td>\n",
       "      <td>not Lennart</td>\n",
       "      <td>MRI images missing</td>\n",
       "      <td>1575055</td>\n",
       "      <td>1968-06-08</td>\n",
       "      <td>m</td>\n",
       "      <td>2011-06-30 00:00:00</td>\n",
       "      <td>...</td>\n",
       "      <td>NaN</td>\n",
       "      <td>NaN</td>\n",
       "      <td>1.0</td>\n",
       "      <td>1.0</td>\n",
       "      <td>1.0</td>\n",
       "      <td>1.0</td>\n",
       "      <td>NaN</td>\n",
       "      <td>NaN</td>\n",
       "      <td>NaN</td>\n",
       "      <td>NaN</td>\n",
       "    </tr>\n",
       "    <tr>\n",
       "      <th>109</th>\n",
       "      <td>1</td>\n",
       "      <td>1</td>\n",
       "      <td>NaN</td>\n",
       "      <td>NaN</td>\n",
       "      <td>not Lennart</td>\n",
       "      <td>NaN</td>\n",
       "      <td>1668799</td>\n",
       "      <td>1952-06-17</td>\n",
       "      <td>m</td>\n",
       "      <td>2012-06-28 00:00:00</td>\n",
       "      <td>...</td>\n",
       "      <td>September 2011</td>\n",
       "      <td>Juli 2012</td>\n",
       "      <td>1.0</td>\n",
       "      <td>0.0</td>\n",
       "      <td>1.0</td>\n",
       "      <td>0.0</td>\n",
       "      <td>180.0</td>\n",
       "      <td>70</td>\n",
       "      <td>1.0</td>\n",
       "      <td>NaN</td>\n",
       "    </tr>\n",
       "    <tr>\n",
       "      <th>119</th>\n",
       "      <td>0</td>\n",
       "      <td>1</td>\n",
       "      <td>NaN</td>\n",
       "      <td>NaN</td>\n",
       "      <td>not Lennart</td>\n",
       "      <td>MRI images missing</td>\n",
       "      <td>1641510</td>\n",
       "      <td>1937-04-27</td>\n",
       "      <td>m</td>\n",
       "      <td>2012-10-30 00:00:00</td>\n",
       "      <td>...</td>\n",
       "      <td>November 2012</td>\n",
       "      <td>November 2012</td>\n",
       "      <td>1.0</td>\n",
       "      <td>0.0</td>\n",
       "      <td>0.0</td>\n",
       "      <td>0.0</td>\n",
       "      <td>174.0</td>\n",
       "      <td>78</td>\n",
       "      <td>1.0</td>\n",
       "      <td>NaN</td>\n",
       "    </tr>\n",
       "    <tr>\n",
       "      <th>171</th>\n",
       "      <td>0</td>\n",
       "      <td>1</td>\n",
       "      <td>NaN</td>\n",
       "      <td>NaN</td>\n",
       "      <td>not Lennart</td>\n",
       "      <td>MRI images missing</td>\n",
       "      <td>1853095</td>\n",
       "      <td>1951-08-09</td>\n",
       "      <td>w</td>\n",
       "      <td>2016-06-13 00:00:00</td>\n",
       "      <td>...</td>\n",
       "      <td>Mai 2007 (Vulva-Ca) oder August 2014 (Mamma-Ca)</td>\n",
       "      <td>Juni 2016</td>\n",
       "      <td>1.0</td>\n",
       "      <td>0.0</td>\n",
       "      <td>0.0</td>\n",
       "      <td>1.0</td>\n",
       "      <td>172.0</td>\n",
       "      <td>64</td>\n",
       "      <td>0.0</td>\n",
       "      <td>NaN</td>\n",
       "    </tr>\n",
       "  </tbody>\n",
       "</table>\n",
       "<p>7 rows × 24 columns</p>\n",
       "</div>"
      ],
      "text/plain": [
       "     on_server  in_study (0 = no, 1 = yes, 2 = tbd, 3 = remarkable) reason  \\\n",
       "19           0                                                  1      NaN   \n",
       "21           0                                                  1      NaN   \n",
       "93           0                                                  1      NaN   \n",
       "96           0                                                  1      NaN   \n",
       "109          1                                                  1      NaN   \n",
       "119          0                                                  1      NaN   \n",
       "171          0                                                  1      NaN   \n",
       "\n",
       "    comment  selected by        MRI_comments       ID  birthdate sex (m/w)  \\\n",
       "19      NaN  not Lennart  MRI images missing  1475524 1939-04-04         w   \n",
       "21      NaN  not Lennart  MRI images missing  1434617 1950-10-18         m   \n",
       "93      NaN  not Lennart  MRI images missing  1614295 1949-03-26         m   \n",
       "96      NaN  not Lennart  MRI images missing  1575055 1968-06-08         m   \n",
       "109     NaN  not Lennart                 NaN  1668799 1952-06-17         m   \n",
       "119     NaN  not Lennart  MRI images missing  1641510 1937-04-27         m   \n",
       "171     NaN  not Lennart  MRI images missing  1853095 1951-08-09         w   \n",
       "\n",
       "        preop_MRICE_date  ...  \\\n",
       "19   2006-07-28 00:00:00  ...   \n",
       "21   2006-08-18 00:00:00  ...   \n",
       "93   2011-03-18 00:00:00  ...   \n",
       "96   2011-06-30 00:00:00  ...   \n",
       "109  2012-06-28 00:00:00  ...   \n",
       "119  2012-10-30 00:00:00  ...   \n",
       "171  2016-06-13 00:00:00  ...   \n",
       "\n",
       "                        date_first_diagnosis_primary  \\\n",
       "19                                               NaN   \n",
       "21                                        April 2003   \n",
       "93                                         März 2011   \n",
       "96                                               NaN   \n",
       "109                                   September 2011   \n",
       "119                                    November 2012   \n",
       "171  Mai 2007 (Vulva-Ca) oder August 2014 (Mamma-Ca)   \n",
       "\n",
       "    date_first_diagnosis_brain_met   OP Chemotherapie Radiatio Immuntherapie  \\\n",
       "19                             NaN  NaN           NaN      NaN           NaN   \n",
       "21                 ca. August 2005  1.0           0.0      1.0           0.0   \n",
       "93                       März 2011  1.0           1.0      1.0           0.0   \n",
       "96                             NaN  1.0           1.0      1.0           1.0   \n",
       "109                      Juli 2012  1.0           0.0      1.0           0.0   \n",
       "119                  November 2012  1.0           0.0      0.0           0.0   \n",
       "171                      Juni 2016  1.0           0.0      0.0           1.0   \n",
       "\n",
       "     Größe (cm)  Gewicht (kg)  ECOG  AZ Beschreibung  \n",
       "19          NaN           NaN   NaN              NaN  \n",
       "21          NaN           NaN   NaN              NaN  \n",
       "93        176.0            75   NaN              NaN  \n",
       "96          NaN           NaN   NaN              NaN  \n",
       "109       180.0            70   1.0              NaN  \n",
       "119       174.0            78   1.0              NaN  \n",
       "171       172.0            64   0.0              NaN  \n",
       "\n",
       "[7 rows x 24 columns]"
      ]
     },
     "execution_count": 119,
     "metadata": {},
     "output_type": "execute_result"
    }
   ],
   "source": [
    "# find patients with cancers of unknown primareis, shouldn't be in the dataset\n",
    "# fuck\n",
    "cup_patients = excel_dataset_pats[excel_dataset_pats.primary_coded_newv == \"29\"]\n",
    "cup_patients"
   ]
  },
  {
   "cell_type": "code",
   "execution_count": 120,
   "metadata": {},
   "outputs": [
    {
     "name": "stdout",
     "output_type": "stream",
     "text": [
      "         primaries women - detailed         \n",
      "adenocarcinoma of the lung                53\n",
      "breast cancer                             40\n",
      "melanoma                                  28\n",
      "small cell lung cancer                    24\n",
      "NSCLC                                     16\n",
      "colorectal cancer                          9\n",
      "squamous cell lung cancer                  8\n",
      "renal cell carcinoma                       5\n",
      "lung cancer, exact histology unknown       4\n",
      "endometrial cancer                         4\n",
      "lung cancer, other                         4\n",
      "ovarian cell carcinoma                     4\n",
      "sarcoma, other                             3\n",
      "cancer of unknown primary                  2\n",
      "salivary gland cancer                      2\n",
      "cervical cancer                            2\n",
      "gastric cancer                             2\n",
      "leiomyosarcoma                             2\n",
      "liposarcoma                                1\n",
      "laryngeal cancer                           1\n",
      "oral squamous cell carcinoma               1\n",
      "synovial sarcoma                           1\n",
      "cholangiocellular carcinoma                1\n",
      "plasmacytoma                               1\n",
      "thymoma                                    1\n",
      "large cell lung cancer                     1\n",
      "MiNEN                                      1\n",
      "thyroid cancer                             1\n",
      "DSRCT                                      1\n"
     ]
    }
   ],
   "source": [
    "primaries_women = dataset_patients.primary[dataset_patients.participant_id.isin(women_ids)]\n",
    "print(\"{:^44}\".format(\"primaries women - detailed\"))\n",
    "\n",
    "for val, cnt in primaries_women.value_counts().items():\n",
    "    primary_name = config.cancer_primaries_dict[val]\n",
    "    print(\"{:38s}{:>6d}\".format(primary_name, cnt))"
   ]
  },
  {
   "cell_type": "markdown",
   "metadata": {},
   "source": [
    "### age at first diagnosis tumor"
   ]
  },
  {
   "cell_type": "code",
   "execution_count": 212,
   "metadata": {},
   "outputs": [
    {
     "name": "stdout",
     "output_type": "stream",
     "text": [
      "0      2003-09-01 00:00:00\n",
      "1      2005-04-01 00:00:00\n",
      "2      2004-09-01 00:00:00\n",
      "4      2005-05-01 00:00:00\n",
      "5      2003-01-01 00:00:00\n",
      "              ...         \n",
      "735    2023-10-01 00:00:00\n",
      "736    2021-01-01 00:00:00\n",
      "740    2023-10-01 00:00:00\n",
      "741    2023-02-01 00:00:00\n",
      "744    2023-10-01 00:00:00\n",
      "Name: date_first_diagnosis_primary, Length: 491, dtype: object\n"
     ]
    }
   ],
   "source": [
    "# get values of first diagnosis\n",
    "# find difficult values\n",
    "# decide wether to ignore or not\n",
    "# compute age\n",
    "# print age\n",
    "\n",
    "months = {\n",
    "    \"Januar \":\"01.01.\",\n",
    "    \"Februar \":\"01.02.\",\n",
    "    \"März \":\"01.03.\",\n",
    "    \"April \":\"01.04.\",\n",
    "    \"Mai \":\"01.05.\",\n",
    "    \"Juni \":\"01.06.\",\n",
    "    \"Juli \":\"01.07.\",\n",
    "    \"August \":\"01.08.\",\n",
    "    \"September \":\"01.09.\",\n",
    "    \"Oktober \":\"01.10.\",\n",
    "    \"November \":\"01.11.\",\n",
    "    \"Dezember \":\"01.12.\",\n",
    "    \"Jan \":\"01.01.\",\n",
    "    \"Feb \":\"01.02.\",\n",
    "    \"Apr \":\"01.03.\",\n",
    "    \"Jun \":\"01.06.\",\n",
    "    \"Jul \":\"01.07.\",\n",
    "    \"Aug \":\"01.08.\",\n",
    "    \"Sept \":\"01.09.\",\n",
    "    \"Sep \":\"01.09.\",\n",
    "    \"Okt \":\"01.10.\",\n",
    "    \"Nov \":\"01.11.\",\n",
    "    \"Dez \":\"01.12.\"\n",
    "}\n",
    "\n",
    "excel_dataset_pats.date_first_diagnosis_primary = excel_dataset_pats.date_first_diagnosis_primary.astype(\"str\")\n",
    "\n",
    "for month in months.keys():\n",
    "    excel_dataset_pats.date_first_diagnosis_primary = excel_dataset_pats.date_first_diagnosis_primary.str.replace(month, months[month])\n",
    "\n",
    "\n",
    "print(excel_dataset_pats.date_first_diagnosis_primary)\n",
    "\n",
    "#replace months with numbers\n",
    "# excel_dataset_pats.date_first_diagnosis_primary = excel_dataset_pats.date_first_diagnosis_primary.str.replace(\"Januar\", \"01\")\n",
    "\n",
    "#print(excel_dataset_pats.date_first_diagnosis_primary)\n",
    "\n",
    "excel_dataset_pats.date_first_diagnosis_primary = pd.to_datetime(excel_dataset_pats.date_first_diagnosis_primary, errors=\"raise\", format=\"mixed\")\n",
    "excel_dataset_pats.birthdate = pd.to_datetime(excel_dataset_pats.birthdate, errors=\"raise\", format=\"mixed\")\n"
   ]
  },
  {
   "cell_type": "markdown",
   "metadata": {},
   "source": [
    "#### men"
   ]
  },
  {
   "cell_type": "code",
   "execution_count": 213,
   "metadata": {},
   "outputs": [
    {
     "name": "stdout",
     "output_type": "stream",
     "text": [
      "    ages of men first diagnosed with the tumor    \n",
      "total: n    =   261\n",
      "mean: m     =    60.89\n",
      "median: med =    63.00\n",
      "std         =    14.71\n"
     ]
    }
   ],
   "source": [
    "men_age_first_diagnosis_dict = {}\n",
    "for index, row in excel_dataset_pats[excel_dataset_pats.ID.isin(men_ids)].iterrows():\n",
    "    id = row[\"ID\"]\n",
    "\n",
    "    # calculate the age of the patient when first diagnosed with tumor\n",
    "    if not pd.isnull(row.date_first_diagnosis_primary):\n",
    "        age = relativedelta(row.date_first_diagnosis_primary, row.birthdate).years\n",
    "        men_age_first_diagnosis_dict[id] = age\n",
    "    else:\n",
    "        #print(id)\n",
    "        pass\n",
    "\n",
    "\n",
    "men_age_first_diagnosis_dict = list(men_age_first_diagnosis_dict.values())\n",
    "\n",
    "mean_ages_first_diagnosis_men = np.mean(men_age_first_diagnosis_dict)\n",
    "median_ages_first_diagnosis_men = np.median(men_age_first_diagnosis_dict)\n",
    "std_ages_first_diagnosis_men = np.std(men_age_first_diagnosis_dict)\n",
    "\n",
    "print(\"{:^50}\".format(\"ages of men first diagnosed with the tumor\"))\n",
    "print(\"{:12s}={:>6d}\".format(\"total: n\", len(men_age_first_diagnosis_dict)))\n",
    "print(\"{:12s}={:>9.2f}\".format(\"mean: m\", mean_ages_first_diagnosis_men))\n",
    "print(\"{:12s}={:>9.2f}\".format(\"median: med\", median_ages_first_diagnosis_men))\n",
    "print(\"{:12s}={:>9.2f}\".format(\"std\", std_ages_first_diagnosis_men))\n"
   ]
  },
  {
   "cell_type": "markdown",
   "metadata": {},
   "source": [
    "#### women"
   ]
  },
  {
   "cell_type": "code",
   "execution_count": 214,
   "metadata": {},
   "outputs": [
    {
     "name": "stdout",
     "output_type": "stream",
     "text": [
      "     ages women     \n",
      "total: n    =   216\n",
      "mean: m     =    55.56\n",
      "median: med =    58.00\n",
      "std         =    19.49\n"
     ]
    }
   ],
   "source": [
    "women_age_first_diagnosis_dict = {}\n",
    "for index, row in excel_dataset_pats[excel_dataset_pats.ID.isin(women_ids)].iterrows():\n",
    "    id = row[\"ID\"]\n",
    "\n",
    "    # calculate the age of the patient when first diagnosed with tumor\n",
    "    if not pd.isnull(row.date_first_diagnosis_primary):\n",
    "        age = relativedelta(row.date_first_diagnosis_primary, row.birthdate).years\n",
    "        women_age_first_diagnosis_dict[id] = age\n",
    "\n",
    "\n",
    "women_age_first_diagnosis_dict = list(women_age_first_diagnosis_dict.values())\n",
    "\n",
    "mean_ages_first_diagnosis_women = np.mean(women_age_first_diagnosis_dict)\n",
    "median_ages_first_diagnosis_women = np.median(women_age_first_diagnosis_dict)\n",
    "std_ages_first_diagnosis_women = np.std(women_age_first_diagnosis_dict)\n",
    "\n",
    "print(\"{:^20}\".format(\"ages women\"))\n",
    "print(\"{:12s}={:>6d}\".format(\"total: n\", len(women_age_first_diagnosis_dict)))\n",
    "print(\"{:12s}={:>9.2f}\".format(\"mean: m\", mean_ages_first_diagnosis_women))\n",
    "print(\"{:12s}={:>9.2f}\".format(\"median: med\", median_ages_first_diagnosis_women))\n",
    "print(\"{:12s}={:>9.2f}\".format(\"std\", std_ages_first_diagnosis_women))"
   ]
  }
 ],
 "metadata": {
  "kernelspec": {
   "display_name": "brain_mets_env",
   "language": "python",
   "name": "python3"
  },
  "language_info": {
   "codemirror_mode": {
    "name": "ipython",
    "version": 3
   },
   "file_extension": ".py",
   "mimetype": "text/x-python",
   "name": "python",
   "nbconvert_exporter": "python",
   "pygments_lexer": "ipython3",
   "version": "3.11.0"
  }
 },
 "nbformat": 4,
 "nbformat_minor": 2
}
