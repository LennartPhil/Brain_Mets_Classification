{
 "cells": [
  {
   "cell_type": "markdown",
   "metadata": {},
   "source": [
    "# Preprocessing"
   ]
  },
  {
   "cell_type": "markdown",
   "metadata": {},
   "source": [
    "## Imports libraries"
   ]
  },
  {
   "cell_type": "code",
   "execution_count": null,
   "metadata": {},
   "outputs": [],
   "source": [
    "import pandas as pd\n",
    "import os\n",
    "import pathlib\n",
    "import ants\n",
    "from typing import Union, List, Tuple\n",
    "import multiprocessing\n",
    "import SimpleITK as sitk\n",
    "from nipype.interfaces.dcm2nii import Dcm2niix\n",
    "import numpy as np\n",
    "from HD_BET.run import run_hd_bet\n",
    "from nipype.interfaces import fsl\n",
    "from intensity_normalization.normalize.zscore import ZScoreNormalize"
   ]
  },
  {
   "cell_type": "markdown",
   "metadata": {},
   "source": [
    "## Step 0: Convert Dicom to Nifti Files\n",
    "using Dcm2niix, for more information: https://github.com/rordenlab/dcm2niix\n",
    "\n",
    "Li X, Morgan PS, Ashburner J, Smith J, Rorden C (2016) The first step for neuroimaging data analysis: DICOM to NIfTI conversion. J Neurosci Methods. 264:47-56. doi: 10.1016/j.jneumeth.2016.03.001. PMID: 26945974"
   ]
  },
  {
   "cell_type": "code",
   "execution_count": null,
   "metadata": {},
   "outputs": [],
   "source": [
    "path_to_folder = \"\"\n",
    "\n",
    "root = path_to_folder\n",
    "\n",
    "# goes through the list of files/folders at path_to_folder and only adds directories to dirlist\n",
    "dirlist = [\n",
    "    item for item in os.listdir(root) if os.path.isdir(os.path.join(root, item))\n",
    "]\n",
    "\n",
    "print(len(dirlist), \"subfolders found\")\n",
    "\n",
    "for dir in dirlist:\n",
    "    converter = Dcm2niix()\n",
    "    converter.inputs.source_dir = os.path.join(root, dir)\n",
    "    converter.inputs.compress = \"y\"\n",
    "    converter.inputs.merge_imgs = True\n",
    "    # converter.inputs.compression = 5\n",
    "    converter.inputs.out_filename = \"%i_%t_%n_%d_%f_%p_%q_%s_%z_%m\"\n",
    "    converter.inputs.output_dir = os.path.join(root, dir)\n",
    "    converter.run()"
   ]
  },
  {
   "cell_type": "markdown",
   "metadata": {},
   "source": [
    "## Step 1: Get Caseliste\n",
    "Reads the excel file with all the cases and returns the patient IDs as a list"
   ]
  },
  {
   "cell_type": "code",
   "execution_count": null,
   "metadata": {},
   "outputs": [],
   "source": [
    "path_to_file = \"\"\n",
    "\n",
    "cases = pd.read_excel(\n",
    "        os.path.join(path_to_file, \"Cases.xlsx\"),\n",
    "        header=0,\n",
    "        index_col=None,\n",
    "        dtype={\"ID\": str},\n",
    "    )\n",
    "\n",
    "caseList = cases.ID.to_list()"
   ]
  },
  {
   "cell_type": "markdown",
   "metadata": {},
   "source": [
    "## Step 2: Extract Brain"
   ]
  },
  {
   "cell_type": "code",
   "execution_count": null,
   "metadata": {},
   "outputs": [],
   "source": []
  }
 ],
 "metadata": {
  "kernelspec": {
   "display_name": "Python 3",
   "language": "python",
   "name": "python3"
  },
  "language_info": {
   "codemirror_mode": {
    "name": "ipython",
    "version": 3
   },
   "file_extension": ".py",
   "mimetype": "text/x-python",
   "name": "python",
   "nbconvert_exporter": "python",
   "pygments_lexer": "ipython3",
   "version": "3.11.0"
  }
 },
 "nbformat": 4,
 "nbformat_minor": 2
}
