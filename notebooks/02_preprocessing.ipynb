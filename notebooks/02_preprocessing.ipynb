{
 "cells": [
  {
   "cell_type": "markdown",
   "metadata": {},
   "source": [
    "# Preprocessing"
   ]
  },
  {
   "cell_type": "markdown",
   "metadata": {},
   "source": [
    "## Imports libraries"
   ]
  },
  {
   "cell_type": "code",
   "execution_count": 1,
   "metadata": {},
   "outputs": [],
   "source": [
    "import sys\n",
    "sys.path.append(r\"/Users/LennartPhilipp/Desktop/Uni/Prowiss/Code/Brain_Mets_Classification\")\n",
    "import brain_mets_classification.config as config\n",
    "import brain_mets_classification.custom_funcs as funcs\n",
    "\n",
    "from tqdm import tqdm\n",
    "from datetime import datetime\n",
    "import shutil\n",
    "import matplotlib.pyplot as plt\n",
    "\n",
    "import pandas as pd\n",
    "import os\n",
    "import pathlib\n",
    "import ants\n",
    "from typing import Union, List, Tuple\n",
    "import multiprocessing\n",
    "import SimpleITK as sitk\n",
    "from nipype.interfaces.dcm2nii import Dcm2niix\n",
    "import numpy as np\n",
    "#from HD_BET.run import run_hd_bet\n",
    "from nipype.interfaces import fsl\n",
    "#from intensity_normalization.normalize.zscore import ZScoreNormalize"
   ]
  },
  {
   "cell_type": "code",
   "execution_count": 4,
   "metadata": {},
   "outputs": [],
   "source": [
    "path_to_all_patients = config.path_to_ssd\n",
    "path_to_n30 = config.path_to_n30\n",
    "\n",
    "folder_to_patients = \"Rgb_Brain_Mets_Preprocessing1_20240113-163435\"\n",
    "\n",
    "path_to_preprocessing = \"/Users/LennartPhilipp/Desktop/Uni/Prowiss/Code/Brain_Mets_Classification/Rgb_Brain_Mets_Dataset/N30/preprocessing_20240115-152927\"\n",
    "\n",
    "root = f\"{path_to_n30}/{folder_to_patients}\""
   ]
  },
  {
   "cell_type": "markdown",
   "metadata": {},
   "source": [
    "## Extract Dicom Metadata from Dicom Files\n",
    "\n",
    "https://medium.com/@ashkanpakzad/reading-editing-dicom-metadata-w-python-8204223a59f6\n",
    "\n",
    "https://github.com/pydicom/pydicom"
   ]
  },
  {
   "cell_type": "code",
   "execution_count": 8,
   "metadata": {},
   "outputs": [
    {
     "name": "stderr",
     "output_type": "stream",
     "text": [
      "100%|██████████| 27/27 [00:00<00:00, 44.59it/s]\n"
     ]
    }
   ],
   "source": [
    "# Get metadata for each sequence from the first file in each sequence\n",
    "\n",
    "import pydicom\n",
    "\n",
    "path = path_to_n30\n",
    "\n",
    "# gets only the folders at path and puts them in an array \n",
    "patient_folders = [\n",
    "    folder for folder in os.listdir(os.path.join(path, folder_to_patients)) if os.path.isdir(os.path.join(path, folder_to_patients, folder))\n",
    "]\n",
    "\n",
    "# loop through patient folders\n",
    "for patient_folder in tqdm(patient_folders):\n",
    "\n",
    "    # ignores the ds_folders\n",
    "    if config.dsStore in patient_folder:\n",
    "        continue\n",
    "\n",
    "    patientID = patient_folder\n",
    "    \n",
    "    path_to_patient = os.path.join(path, folder_to_patients, patient_folder)\n",
    "\n",
    "    # get the different sequences (stored in folders) for each patient and put them in an array\n",
    "    sequences = [\n",
    "        folder for folder in os.listdir(path_to_patient) if os.path.isdir(os.path.join(path_to_patient, folder))\n",
    "    ]\n",
    "    \n",
    "    # loop through the sequences, get the first file in each folder, extract metadata and safe in the patient folder\n",
    "    for sequence in sequences:\n",
    "\n",
    "        # example sequence name: 12345678_T1_0_SEQUENCENAME\n",
    "        sequenceType = sequence.split(\"_\")[1]\n",
    "        sequenceName = sequence.split(\"_\", 3)[3]\n",
    "        \n",
    "        # get first file in the sequence folder\n",
    "        first_dicom_file_found = os.listdir(os.path.join(path_to_patient, sequence))[0]\n",
    "        path_to_dicom = os.path.join(path_to_patient, sequence, first_dicom_file_found)\n",
    "\n",
    "        # get the dicomFile metadata\n",
    "        dicomFile = pydicom.dcmread(path_to_dicom)\n",
    "\n",
    "        # puts the metadata in txt file\n",
    "        txt_file_name = f\"{path_to_patient}/{patientID}_{sequenceType}_{sequenceName}_metadata.txt\"\n",
    "        with open(txt_file_name, \"w\") as f:\n",
    "            f.writelines(str(dicomFile))\n"
   ]
  },
  {
   "cell_type": "markdown",
   "metadata": {},
   "source": [
    "## Step 00: Convert Dicom to Nifti Files\n",
    "using Dcm2niix, for more information: https://github.com/rordenlab/dcm2niix\n",
    "\n",
    "Li X, Morgan PS, Ashburner J, Smith J, Rorden C (2016) The first step for neuroimaging data analysis: DICOM to NIfTI conversion. J Neurosci Methods. 264:47-56. doi: 10.1016/j.jneumeth.2016.03.001. PMID: 26945974"
   ]
  },
  {
   "cell_type": "code",
   "execution_count": null,
   "metadata": {},
   "outputs": [],
   "source": [
    "# gets only the folders at path and puts them in an array \n",
    "patient_folders = [\n",
    "    folder for folder in os.listdir(root) if os.path.isdir(os.path.join(root, folder))\n",
    "]\n",
    "\n",
    "for patient in tqdm(patient_folders):\n",
    "\n",
    "    # ignores the ds_folders\n",
    "    if config.dsStore in patient:\n",
    "        continue\n",
    "\n",
    "    patientID = patient\n",
    "\n",
    "    # get the different sequences (stored in folders) for each patient and put them in an array\n",
    "    sequences = [\n",
    "        sequenceFolder for sequenceFolder in os.listdir(os.path.join(root, patient)) if os.path.isdir(os.path.join(root, patient, sequenceFolder))\n",
    "    ]\n",
    "\n",
    "    # loop through the different sequences\n",
    "    for sequence in sequences:\n",
    "\n",
    "        # ignores the ds_folders\n",
    "        if config.dsStore in sequence:\n",
    "            continue\n",
    "\n",
    "        # example sequence name: 12345678_T1_0_SEQUENCENAME\n",
    "        sequenceType = sequence.split(\"_\")[1]\n",
    "\n",
    "        # new sequence name: {patientID}_{sequence}_{preprocessingStep}\n",
    "        converter = Dcm2niix()\n",
    "        converter.inputs.source_dir = os.path.join(root, patient, sequence)\n",
    "        converter.inputs.compress = \"y\" # uses compression, \"y\" = yes\n",
    "        converter.inputs.merge_imgs = True\n",
    "        # converter.inputs.compression = 5\n",
    "        converter.inputs.out_filename = f\"{patientID}_{sequenceType}\"\n",
    "        converter.inputs.output_dir = os.path.join(root, patient)\n",
    "        converter.run()"
   ]
  },
  {
   "cell_type": "markdown",
   "metadata": {},
   "source": [
    "## Step 01: Copy nifti files in preprocessing directory"
   ]
  },
  {
   "cell_type": "code",
   "execution_count": 9,
   "metadata": {},
   "outputs": [
    {
     "name": "stderr",
     "output_type": "stream",
     "text": [
      "100%|██████████| 27/27 [00:00<00:00, 118.83it/s]\n"
     ]
    }
   ],
   "source": [
    "# To-do:\n",
    "# create new directory for the preprocessing steps\n",
    "# copy nifit files from old directory into preprocessing directy inside a patient folder\n",
    "# Goal:\n",
    "# 12345678\n",
    "#    12345678_T1.nii.gz\n",
    "#    12345678_T1CE.nii.gz\n",
    "#    12345678_T2.nii.gz\n",
    "#    ...\n",
    "\n",
    "# create new directory\n",
    "now = datetime.now()\n",
    "timeFormatted = now.strftime(\"%Y%m%d-%H%M%S\")\n",
    "path_to_preprocessing = f\"{path_to_n30}/preprocessing_{timeFormatted}\"\n",
    "os.mkdir(path_to_preprocessing)\n",
    "\n",
    "# gets only the folders at path and puts them in an array \n",
    "patient_folders = [\n",
    "    folder for folder in os.listdir(root) if os.path.isdir(os.path.join(root, folder))\n",
    "]\n",
    "\n",
    "for patient in tqdm(patient_folders):\n",
    "\n",
    "    # ignores the ds_folders\n",
    "    if config.dsStore in patient:\n",
    "        continue\n",
    "\n",
    "    patientID = patient\n",
    "\n",
    "    # creates a new folder in the preprocessing directory\n",
    "    funcs.createFolderForPatient(path_to_preprocessing, patientID)\n",
    "\n",
    "    # get the nifti fils for each patient and put them in an array\n",
    "    niftiFiles = [\n",
    "        niftiFile for niftiFile in os.listdir(os.path.join(root, patient)) if (\".nii.gz\" in niftiFile)\n",
    "    ]\n",
    "\n",
    "    # loop through the different sequences\n",
    "    for nifti in niftiFiles:\n",
    "            \n",
    "        # example sequence name: 12345678_T1.nii.gz\n",
    "        sequenceType = (nifti.split(\"_\")[1]).split(\".\")[0]\n",
    "\n",
    "        # copy sequence\n",
    "        shutil.copy(os.path.join(root, patientID, nifti), f\"{path_to_preprocessing}/{patientID}/{patientID}_{sequenceType}.nii.gz\")\n"
   ]
  },
  {
   "cell_type": "markdown",
   "metadata": {},
   "source": [
    "## Step 02: Extract Brain\n",
    "applies FSL.Reorient2Std() (requirement for HD-BET) and returns the extracted brain image\n",
    "\n",
    "Brain Extraction using HD-BET, for more information: https://github.com/MIC-DKFZ/HD-BET\n",
    "\n",
    "Isensee F, Schell M, Tursunova I, Brugnara G, Bonekamp D, Neuberger U, Wick A, Schlemmer HP, Heiland S, Wick W, Bendszus M, Maier-Hein KH, Kickingereder P. Automated brain extraction of multi-sequence MRI using artificial neural networks. Hum Brain Mapp. 2019; 1–13. https://doi.org/10.1002/hbm.24750"
   ]
  },
  {
   "cell_type": "markdown",
   "metadata": {},
   "source": [
    "### Step 02.1 Reorient Images"
   ]
  },
  {
   "cell_type": "code",
   "execution_count": 6,
   "metadata": {},
   "outputs": [
    {
     "name": "stderr",
     "output_type": "stream",
     "text": [
      "  0%|          | 0/27 [00:00<?, ?it/s]"
     ]
    },
    {
     "name": "stdout",
     "output_type": "stream",
     "text": [
      "240116-09:09:50,589 nipype.interface WARNING:\n",
      "\t FSLOUTPUTTYPE environment variable is not set. Setting FSLOUTPUTTYPE=NIFTI\n",
      "240116-09:09:51,153 nipype.interface WARNING:\n",
      "\t FSLOUTPUTTYPE environment variable is not set. Setting FSLOUTPUTTYPE=NIFTI\n",
      "240116-09:09:51,660 nipype.interface WARNING:\n",
      "\t FSLOUTPUTTYPE environment variable is not set. Setting FSLOUTPUTTYPE=NIFTI\n",
      "240116-09:09:52,168 nipype.interface WARNING:\n",
      "\t FSLOUTPUTTYPE environment variable is not set. Setting FSLOUTPUTTYPE=NIFTI\n",
      "240116-09:09:52,668 nipype.interface WARNING:\n",
      "\t FSLOUTPUTTYPE environment variable is not set. Setting FSLOUTPUTTYPE=NIFTI\n",
      "240116-09:09:53,125 nipype.interface WARNING:\n",
      "\t FSLOUTPUTTYPE environment variable is not set. Setting FSLOUTPUTTYPE=NIFTI\n",
      "240116-09:09:54,98 nipype.interface WARNING:\n",
      "\t FSLOUTPUTTYPE environment variable is not set. Setting FSLOUTPUTTYPE=NIFTI\n"
     ]
    },
    {
     "name": "stderr",
     "output_type": "stream",
     "text": [
      "  4%|▎         | 1/27 [00:04<01:44,  4.01s/it]"
     ]
    },
    {
     "name": "stdout",
     "output_type": "stream",
     "text": [
      "240116-09:09:54,598 nipype.interface WARNING:\n",
      "\t FSLOUTPUTTYPE environment variable is not set. Setting FSLOUTPUTTYPE=NIFTI\n",
      "240116-09:09:55,58 nipype.interface WARNING:\n",
      "\t FSLOUTPUTTYPE environment variable is not set. Setting FSLOUTPUTTYPE=NIFTI\n",
      "240116-09:09:55,505 nipype.interface WARNING:\n",
      "\t FSLOUTPUTTYPE environment variable is not set. Setting FSLOUTPUTTYPE=NIFTI\n",
      "240116-09:09:55,964 nipype.interface WARNING:\n",
      "\t FSLOUTPUTTYPE environment variable is not set. Setting FSLOUTPUTTYPE=NIFTI\n",
      "240116-09:09:56,496 nipype.interface WARNING:\n",
      "\t FSLOUTPUTTYPE environment variable is not set. Setting FSLOUTPUTTYPE=NIFTI\n",
      "240116-09:09:57,23 nipype.interface WARNING:\n",
      "\t FSLOUTPUTTYPE environment variable is not set. Setting FSLOUTPUTTYPE=NIFTI\n",
      "240116-09:09:57,516 nipype.interface WARNING:\n",
      "\t FSLOUTPUTTYPE environment variable is not set. Setting FSLOUTPUTTYPE=NIFTI\n"
     ]
    },
    {
     "name": "stderr",
     "output_type": "stream",
     "text": [
      "  7%|▋         | 2/27 [00:07<01:30,  3.63s/it]"
     ]
    },
    {
     "name": "stdout",
     "output_type": "stream",
     "text": [
      "240116-09:09:57,954 nipype.interface WARNING:\n",
      "\t FSLOUTPUTTYPE environment variable is not set. Setting FSLOUTPUTTYPE=NIFTI\n",
      "240116-09:09:58,423 nipype.interface WARNING:\n",
      "\t FSLOUTPUTTYPE environment variable is not set. Setting FSLOUTPUTTYPE=NIFTI\n",
      "240116-09:09:58,884 nipype.interface WARNING:\n",
      "\t FSLOUTPUTTYPE environment variable is not set. Setting FSLOUTPUTTYPE=NIFTI\n",
      "240116-09:09:59,334 nipype.interface WARNING:\n",
      "\t FSLOUTPUTTYPE environment variable is not set. Setting FSLOUTPUTTYPE=NIFTI\n",
      "240116-09:09:59,813 nipype.interface WARNING:\n",
      "\t FSLOUTPUTTYPE environment variable is not set. Setting FSLOUTPUTTYPE=NIFTI\n",
      "240116-09:10:00,308 nipype.interface WARNING:\n",
      "\t FSLOUTPUTTYPE environment variable is not set. Setting FSLOUTPUTTYPE=NIFTI\n",
      "240116-09:10:00,784 nipype.interface WARNING:\n",
      "\t FSLOUTPUTTYPE environment variable is not set. Setting FSLOUTPUTTYPE=NIFTI\n"
     ]
    },
    {
     "name": "stderr",
     "output_type": "stream",
     "text": [
      " 11%|█         | 3/27 [00:10<01:23,  3.46s/it]"
     ]
    },
    {
     "name": "stdout",
     "output_type": "stream",
     "text": [
      "240116-09:10:01,218 nipype.interface WARNING:\n",
      "\t FSLOUTPUTTYPE environment variable is not set. Setting FSLOUTPUTTYPE=NIFTI\n",
      "240116-09:10:01,670 nipype.interface WARNING:\n",
      "\t FSLOUTPUTTYPE environment variable is not set. Setting FSLOUTPUTTYPE=NIFTI\n",
      "240116-09:10:02,189 nipype.interface WARNING:\n",
      "\t FSLOUTPUTTYPE environment variable is not set. Setting FSLOUTPUTTYPE=NIFTI\n",
      "240116-09:10:02,695 nipype.interface WARNING:\n",
      "\t FSLOUTPUTTYPE environment variable is not set. Setting FSLOUTPUTTYPE=NIFTI\n",
      "240116-09:10:03,124 nipype.interface WARNING:\n",
      "\t FSLOUTPUTTYPE environment variable is not set. Setting FSLOUTPUTTYPE=NIFTI\n",
      "240116-09:10:03,586 nipype.interface WARNING:\n",
      "\t FSLOUTPUTTYPE environment variable is not set. Setting FSLOUTPUTTYPE=NIFTI\n",
      "240116-09:10:04,51 nipype.interface WARNING:\n",
      "\t FSLOUTPUTTYPE environment variable is not set. Setting FSLOUTPUTTYPE=NIFTI\n"
     ]
    },
    {
     "name": "stderr",
     "output_type": "stream",
     "text": [
      " 15%|█▍        | 4/27 [00:13<01:18,  3.41s/it]"
     ]
    },
    {
     "name": "stdout",
     "output_type": "stream",
     "text": [
      "240116-09:10:04,539 nipype.interface WARNING:\n",
      "\t FSLOUTPUTTYPE environment variable is not set. Setting FSLOUTPUTTYPE=NIFTI\n",
      "240116-09:10:04,954 nipype.interface WARNING:\n",
      "\t FSLOUTPUTTYPE environment variable is not set. Setting FSLOUTPUTTYPE=NIFTI\n",
      "240116-09:10:05,462 nipype.interface WARNING:\n",
      "\t FSLOUTPUTTYPE environment variable is not set. Setting FSLOUTPUTTYPE=NIFTI\n",
      "240116-09:10:05,915 nipype.interface WARNING:\n",
      "\t FSLOUTPUTTYPE environment variable is not set. Setting FSLOUTPUTTYPE=NIFTI\n",
      "240116-09:10:06,389 nipype.interface WARNING:\n",
      "\t FSLOUTPUTTYPE environment variable is not set. Setting FSLOUTPUTTYPE=NIFTI\n",
      "240116-09:10:06,911 nipype.interface WARNING:\n",
      "\t FSLOUTPUTTYPE environment variable is not set. Setting FSLOUTPUTTYPE=NIFTI\n",
      "240116-09:10:07,414 nipype.interface WARNING:\n",
      "\t FSLOUTPUTTYPE environment variable is not set. Setting FSLOUTPUTTYPE=NIFTI\n"
     ]
    },
    {
     "name": "stderr",
     "output_type": "stream",
     "text": [
      " 19%|█▊        | 5/27 [00:17<01:14,  3.38s/it]"
     ]
    },
    {
     "name": "stdout",
     "output_type": "stream",
     "text": [
      "240116-09:10:07,885 nipype.interface WARNING:\n",
      "\t FSLOUTPUTTYPE environment variable is not set. Setting FSLOUTPUTTYPE=NIFTI\n",
      "240116-09:10:08,321 nipype.interface WARNING:\n",
      "\t FSLOUTPUTTYPE environment variable is not set. Setting FSLOUTPUTTYPE=NIFTI\n",
      "240116-09:10:08,782 nipype.interface WARNING:\n",
      "\t FSLOUTPUTTYPE environment variable is not set. Setting FSLOUTPUTTYPE=NIFTI\n",
      "240116-09:10:09,262 nipype.interface WARNING:\n",
      "\t FSLOUTPUTTYPE environment variable is not set. Setting FSLOUTPUTTYPE=NIFTI\n",
      "240116-09:10:09,695 nipype.interface WARNING:\n",
      "\t FSLOUTPUTTYPE environment variable is not set. Setting FSLOUTPUTTYPE=NIFTI\n",
      "240116-09:10:10,135 nipype.interface WARNING:\n",
      "\t FSLOUTPUTTYPE environment variable is not set. Setting FSLOUTPUTTYPE=NIFTI\n",
      "240116-09:10:10,602 nipype.interface WARNING:\n",
      "\t FSLOUTPUTTYPE environment variable is not set. Setting FSLOUTPUTTYPE=NIFTI\n"
     ]
    },
    {
     "name": "stderr",
     "output_type": "stream",
     "text": [
      " 22%|██▏       | 6/27 [00:20<01:09,  3.33s/it]"
     ]
    },
    {
     "name": "stdout",
     "output_type": "stream",
     "text": [
      "240116-09:10:11,119 nipype.interface WARNING:\n",
      "\t FSLOUTPUTTYPE environment variable is not set. Setting FSLOUTPUTTYPE=NIFTI\n",
      "240116-09:10:11,574 nipype.interface WARNING:\n",
      "\t FSLOUTPUTTYPE environment variable is not set. Setting FSLOUTPUTTYPE=NIFTI\n",
      "240116-09:10:12,48 nipype.interface WARNING:\n",
      "\t FSLOUTPUTTYPE environment variable is not set. Setting FSLOUTPUTTYPE=NIFTI\n",
      "240116-09:10:12,541 nipype.interface WARNING:\n",
      "\t FSLOUTPUTTYPE environment variable is not set. Setting FSLOUTPUTTYPE=NIFTI\n",
      "240116-09:10:13,25 nipype.interface WARNING:\n",
      "\t FSLOUTPUTTYPE environment variable is not set. Setting FSLOUTPUTTYPE=NIFTI\n",
      "240116-09:10:13,562 nipype.interface WARNING:\n",
      "\t FSLOUTPUTTYPE environment variable is not set. Setting FSLOUTPUTTYPE=NIFTI\n",
      "240116-09:10:14,39 nipype.interface WARNING:\n",
      "\t FSLOUTPUTTYPE environment variable is not set. Setting FSLOUTPUTTYPE=NIFTI\n"
     ]
    },
    {
     "name": "stderr",
     "output_type": "stream",
     "text": [
      " 26%|██▌       | 7/27 [00:23<01:06,  3.35s/it]"
     ]
    },
    {
     "name": "stdout",
     "output_type": "stream",
     "text": [
      "240116-09:10:14,497 nipype.interface WARNING:\n",
      "\t FSLOUTPUTTYPE environment variable is not set. Setting FSLOUTPUTTYPE=NIFTI\n",
      "240116-09:10:14,981 nipype.interface WARNING:\n",
      "\t FSLOUTPUTTYPE environment variable is not set. Setting FSLOUTPUTTYPE=NIFTI\n",
      "240116-09:10:15,493 nipype.interface WARNING:\n",
      "\t FSLOUTPUTTYPE environment variable is not set. Setting FSLOUTPUTTYPE=NIFTI\n",
      "240116-09:10:16,6 nipype.interface WARNING:\n",
      "\t FSLOUTPUTTYPE environment variable is not set. Setting FSLOUTPUTTYPE=NIFTI\n",
      "240116-09:10:16,495 nipype.interface WARNING:\n",
      "\t FSLOUTPUTTYPE environment variable is not set. Setting FSLOUTPUTTYPE=NIFTI\n",
      "240116-09:10:17,8 nipype.interface WARNING:\n",
      "\t FSLOUTPUTTYPE environment variable is not set. Setting FSLOUTPUTTYPE=NIFTI\n",
      "240116-09:10:17,436 nipype.interface WARNING:\n",
      "\t FSLOUTPUTTYPE environment variable is not set. Setting FSLOUTPUTTYPE=NIFTI\n"
     ]
    },
    {
     "name": "stderr",
     "output_type": "stream",
     "text": [
      " 30%|██▉       | 8/27 [00:27<01:03,  3.35s/it]"
     ]
    },
    {
     "name": "stdout",
     "output_type": "stream",
     "text": [
      "240116-09:10:17,858 nipype.interface WARNING:\n",
      "\t FSLOUTPUTTYPE environment variable is not set. Setting FSLOUTPUTTYPE=NIFTI\n",
      "240116-09:10:18,348 nipype.interface WARNING:\n",
      "\t FSLOUTPUTTYPE environment variable is not set. Setting FSLOUTPUTTYPE=NIFTI\n",
      "240116-09:10:18,861 nipype.interface WARNING:\n",
      "\t FSLOUTPUTTYPE environment variable is not set. Setting FSLOUTPUTTYPE=NIFTI\n",
      "240116-09:10:19,331 nipype.interface WARNING:\n",
      "\t FSLOUTPUTTYPE environment variable is not set. Setting FSLOUTPUTTYPE=NIFTI\n",
      "240116-09:10:19,827 nipype.interface WARNING:\n",
      "\t FSLOUTPUTTYPE environment variable is not set. Setting FSLOUTPUTTYPE=NIFTI\n",
      "240116-09:10:20,321 nipype.interface WARNING:\n",
      "\t FSLOUTPUTTYPE environment variable is not set. Setting FSLOUTPUTTYPE=NIFTI\n",
      "240116-09:10:20,808 nipype.interface WARNING:\n",
      "\t FSLOUTPUTTYPE environment variable is not set. Setting FSLOUTPUTTYPE=NIFTI\n"
     ]
    },
    {
     "name": "stderr",
     "output_type": "stream",
     "text": [
      " 33%|███▎      | 9/27 [00:30<01:00,  3.38s/it]"
     ]
    },
    {
     "name": "stdout",
     "output_type": "stream",
     "text": [
      "240116-09:10:21,303 nipype.interface WARNING:\n",
      "\t FSLOUTPUTTYPE environment variable is not set. Setting FSLOUTPUTTYPE=NIFTI\n",
      "240116-09:10:21,754 nipype.interface WARNING:\n",
      "\t FSLOUTPUTTYPE environment variable is not set. Setting FSLOUTPUTTYPE=NIFTI\n",
      "240116-09:10:22,234 nipype.interface WARNING:\n",
      "\t FSLOUTPUTTYPE environment variable is not set. Setting FSLOUTPUTTYPE=NIFTI\n",
      "240116-09:10:22,750 nipype.interface WARNING:\n",
      "\t FSLOUTPUTTYPE environment variable is not set. Setting FSLOUTPUTTYPE=NIFTI\n",
      "240116-09:10:23,261 nipype.interface WARNING:\n",
      "\t FSLOUTPUTTYPE environment variable is not set. Setting FSLOUTPUTTYPE=NIFTI\n",
      "240116-09:10:23,742 nipype.interface WARNING:\n",
      "\t FSLOUTPUTTYPE environment variable is not set. Setting FSLOUTPUTTYPE=NIFTI\n",
      "240116-09:10:24,236 nipype.interface WARNING:\n",
      "\t FSLOUTPUTTYPE environment variable is not set. Setting FSLOUTPUTTYPE=NIFTI\n"
     ]
    },
    {
     "name": "stderr",
     "output_type": "stream",
     "text": [
      " 37%|███▋      | 10/27 [00:34<00:57,  3.41s/it]"
     ]
    },
    {
     "name": "stdout",
     "output_type": "stream",
     "text": [
      "240116-09:10:24,769 nipype.interface WARNING:\n",
      "\t FSLOUTPUTTYPE environment variable is not set. Setting FSLOUTPUTTYPE=NIFTI\n",
      "240116-09:10:25,320 nipype.interface WARNING:\n",
      "\t FSLOUTPUTTYPE environment variable is not set. Setting FSLOUTPUTTYPE=NIFTI\n",
      "240116-09:10:25,854 nipype.interface WARNING:\n",
      "\t FSLOUTPUTTYPE environment variable is not set. Setting FSLOUTPUTTYPE=NIFTI\n",
      "240116-09:10:26,346 nipype.interface WARNING:\n",
      "\t FSLOUTPUTTYPE environment variable is not set. Setting FSLOUTPUTTYPE=NIFTI\n",
      "240116-09:10:26,846 nipype.interface WARNING:\n",
      "\t FSLOUTPUTTYPE environment variable is not set. Setting FSLOUTPUTTYPE=NIFTI\n",
      "240116-09:10:27,374 nipype.interface WARNING:\n",
      "\t FSLOUTPUTTYPE environment variable is not set. Setting FSLOUTPUTTYPE=NIFTI\n",
      "240116-09:10:27,897 nipype.interface WARNING:\n",
      "\t FSLOUTPUTTYPE environment variable is not set. Setting FSLOUTPUTTYPE=NIFTI\n"
     ]
    },
    {
     "name": "stderr",
     "output_type": "stream",
     "text": [
      " 41%|████      | 11/27 [00:37<00:55,  3.47s/it]"
     ]
    },
    {
     "name": "stdout",
     "output_type": "stream",
     "text": [
      "240116-09:10:28,382 nipype.interface WARNING:\n",
      "\t FSLOUTPUTTYPE environment variable is not set. Setting FSLOUTPUTTYPE=NIFTI\n",
      "240116-09:10:28,842 nipype.interface WARNING:\n",
      "\t FSLOUTPUTTYPE environment variable is not set. Setting FSLOUTPUTTYPE=NIFTI\n",
      "240116-09:10:29,332 nipype.interface WARNING:\n",
      "\t FSLOUTPUTTYPE environment variable is not set. Setting FSLOUTPUTTYPE=NIFTI\n",
      "240116-09:10:29,864 nipype.interface WARNING:\n",
      "\t FSLOUTPUTTYPE environment variable is not set. Setting FSLOUTPUTTYPE=NIFTI\n",
      "240116-09:10:30,353 nipype.interface WARNING:\n",
      "\t FSLOUTPUTTYPE environment variable is not set. Setting FSLOUTPUTTYPE=NIFTI\n"
     ]
    },
    {
     "name": "stderr",
     "output_type": "stream",
     "text": [
      " 44%|████▍     | 12/27 [00:40<00:47,  3.17s/it]"
     ]
    },
    {
     "name": "stdout",
     "output_type": "stream",
     "text": [
      "240116-09:10:30,850 nipype.interface WARNING:\n",
      "\t FSLOUTPUTTYPE environment variable is not set. Setting FSLOUTPUTTYPE=NIFTI\n",
      "240116-09:10:31,362 nipype.interface WARNING:\n",
      "\t FSLOUTPUTTYPE environment variable is not set. Setting FSLOUTPUTTYPE=NIFTI\n",
      "240116-09:10:31,901 nipype.interface WARNING:\n",
      "\t FSLOUTPUTTYPE environment variable is not set. Setting FSLOUTPUTTYPE=NIFTI\n",
      "240116-09:10:32,387 nipype.interface WARNING:\n",
      "\t FSLOUTPUTTYPE environment variable is not set. Setting FSLOUTPUTTYPE=NIFTI\n",
      "240116-09:10:32,908 nipype.interface WARNING:\n",
      "\t FSLOUTPUTTYPE environment variable is not set. Setting FSLOUTPUTTYPE=NIFTI\n",
      "240116-09:10:33,398 nipype.interface WARNING:\n",
      "\t FSLOUTPUTTYPE environment variable is not set. Setting FSLOUTPUTTYPE=NIFTI\n",
      "240116-09:10:33,879 nipype.interface WARNING:\n",
      "\t FSLOUTPUTTYPE environment variable is not set. Setting FSLOUTPUTTYPE=NIFTI\n"
     ]
    },
    {
     "name": "stderr",
     "output_type": "stream",
     "text": [
      " 48%|████▊     | 13/27 [00:43<00:45,  3.27s/it]"
     ]
    },
    {
     "name": "stdout",
     "output_type": "stream",
     "text": [
      "240116-09:10:34,353 nipype.interface WARNING:\n",
      "\t FSLOUTPUTTYPE environment variable is not set. Setting FSLOUTPUTTYPE=NIFTI\n",
      "240116-09:10:34,899 nipype.interface WARNING:\n",
      "\t FSLOUTPUTTYPE environment variable is not set. Setting FSLOUTPUTTYPE=NIFTI\n",
      "240116-09:10:35,428 nipype.interface WARNING:\n",
      "\t FSLOUTPUTTYPE environment variable is not set. Setting FSLOUTPUTTYPE=NIFTI\n",
      "240116-09:10:35,902 nipype.interface WARNING:\n",
      "\t FSLOUTPUTTYPE environment variable is not set. Setting FSLOUTPUTTYPE=NIFTI\n",
      "240116-09:10:36,436 nipype.interface WARNING:\n",
      "\t FSLOUTPUTTYPE environment variable is not set. Setting FSLOUTPUTTYPE=NIFTI\n",
      "240116-09:10:36,951 nipype.interface WARNING:\n",
      "\t FSLOUTPUTTYPE environment variable is not set. Setting FSLOUTPUTTYPE=NIFTI\n",
      "240116-09:10:37,456 nipype.interface WARNING:\n",
      "\t FSLOUTPUTTYPE environment variable is not set. Setting FSLOUTPUTTYPE=NIFTI\n"
     ]
    },
    {
     "name": "stderr",
     "output_type": "stream",
     "text": [
      " 52%|█████▏    | 14/27 [00:47<00:43,  3.36s/it]"
     ]
    },
    {
     "name": "stdout",
     "output_type": "stream",
     "text": [
      "240116-09:10:37,923 nipype.interface WARNING:\n",
      "\t FSLOUTPUTTYPE environment variable is not set. Setting FSLOUTPUTTYPE=NIFTI\n",
      "240116-09:10:38,427 nipype.interface WARNING:\n",
      "\t FSLOUTPUTTYPE environment variable is not set. Setting FSLOUTPUTTYPE=NIFTI\n",
      "240116-09:10:38,897 nipype.interface WARNING:\n",
      "\t FSLOUTPUTTYPE environment variable is not set. Setting FSLOUTPUTTYPE=NIFTI\n",
      "240116-09:10:39,396 nipype.interface WARNING:\n",
      "\t FSLOUTPUTTYPE environment variable is not set. Setting FSLOUTPUTTYPE=NIFTI\n",
      "240116-09:10:39,891 nipype.interface WARNING:\n",
      "\t FSLOUTPUTTYPE environment variable is not set. Setting FSLOUTPUTTYPE=NIFTI\n",
      "240116-09:10:40,372 nipype.interface WARNING:\n",
      "\t FSLOUTPUTTYPE environment variable is not set. Setting FSLOUTPUTTYPE=NIFTI\n",
      "240116-09:10:40,885 nipype.interface WARNING:\n",
      "\t FSLOUTPUTTYPE environment variable is not set. Setting FSLOUTPUTTYPE=NIFTI\n"
     ]
    },
    {
     "name": "stderr",
     "output_type": "stream",
     "text": [
      " 56%|█████▌    | 15/27 [00:50<00:40,  3.39s/it]"
     ]
    },
    {
     "name": "stdout",
     "output_type": "stream",
     "text": [
      "240116-09:10:41,388 nipype.interface WARNING:\n",
      "\t FSLOUTPUTTYPE environment variable is not set. Setting FSLOUTPUTTYPE=NIFTI\n",
      "240116-09:10:41,868 nipype.interface WARNING:\n",
      "\t FSLOUTPUTTYPE environment variable is not set. Setting FSLOUTPUTTYPE=NIFTI\n",
      "240116-09:10:42,361 nipype.interface WARNING:\n",
      "\t FSLOUTPUTTYPE environment variable is not set. Setting FSLOUTPUTTYPE=NIFTI\n",
      "240116-09:10:42,853 nipype.interface WARNING:\n",
      "\t FSLOUTPUTTYPE environment variable is not set. Setting FSLOUTPUTTYPE=NIFTI\n",
      "240116-09:10:43,307 nipype.interface WARNING:\n",
      "\t FSLOUTPUTTYPE environment variable is not set. Setting FSLOUTPUTTYPE=NIFTI\n",
      "240116-09:10:43,803 nipype.interface WARNING:\n",
      "\t FSLOUTPUTTYPE environment variable is not set. Setting FSLOUTPUTTYPE=NIFTI\n"
     ]
    },
    {
     "name": "stderr",
     "output_type": "stream",
     "text": [
      " 59%|█████▉    | 16/27 [00:53<00:35,  3.24s/it]"
     ]
    },
    {
     "name": "stdout",
     "output_type": "stream",
     "text": [
      "240116-09:10:44,290 nipype.interface WARNING:\n",
      "\t FSLOUTPUTTYPE environment variable is not set. Setting FSLOUTPUTTYPE=NIFTI\n",
      "240116-09:10:44,804 nipype.interface WARNING:\n",
      "\t FSLOUTPUTTYPE environment variable is not set. Setting FSLOUTPUTTYPE=NIFTI\n",
      "240116-09:10:45,304 nipype.interface WARNING:\n",
      "\t FSLOUTPUTTYPE environment variable is not set. Setting FSLOUTPUTTYPE=NIFTI\n",
      "240116-09:10:45,769 nipype.interface WARNING:\n",
      "\t FSLOUTPUTTYPE environment variable is not set. Setting FSLOUTPUTTYPE=NIFTI\n",
      "240116-09:10:46,260 nipype.interface WARNING:\n",
      "\t FSLOUTPUTTYPE environment variable is not set. Setting FSLOUTPUTTYPE=NIFTI\n",
      "240116-09:10:46,757 nipype.interface WARNING:\n",
      "\t FSLOUTPUTTYPE environment variable is not set. Setting FSLOUTPUTTYPE=NIFTI\n",
      "240116-09:10:47,225 nipype.interface WARNING:\n",
      "\t FSLOUTPUTTYPE environment variable is not set. Setting FSLOUTPUTTYPE=NIFTI\n"
     ]
    },
    {
     "name": "stderr",
     "output_type": "stream",
     "text": [
      " 63%|██████▎   | 17/27 [00:57<00:32,  3.29s/it]"
     ]
    },
    {
     "name": "stdout",
     "output_type": "stream",
     "text": [
      "240116-09:10:47,697 nipype.interface WARNING:\n",
      "\t FSLOUTPUTTYPE environment variable is not set. Setting FSLOUTPUTTYPE=NIFTI\n",
      "240116-09:10:48,219 nipype.interface WARNING:\n",
      "\t FSLOUTPUTTYPE environment variable is not set. Setting FSLOUTPUTTYPE=NIFTI\n",
      "240116-09:10:49,586 nipype.interface WARNING:\n",
      "\t FSLOUTPUTTYPE environment variable is not set. Setting FSLOUTPUTTYPE=NIFTI\n",
      "240116-09:10:50,220 nipype.interface WARNING:\n",
      "\t FSLOUTPUTTYPE environment variable is not set. Setting FSLOUTPUTTYPE=NIFTI\n",
      "240116-09:10:50,777 nipype.interface WARNING:\n",
      "\t FSLOUTPUTTYPE environment variable is not set. Setting FSLOUTPUTTYPE=NIFTI\n",
      "240116-09:10:51,268 nipype.interface WARNING:\n",
      "\t FSLOUTPUTTYPE environment variable is not set. Setting FSLOUTPUTTYPE=NIFTI\n",
      "240116-09:10:51,829 nipype.interface WARNING:\n",
      "\t FSLOUTPUTTYPE environment variable is not set. Setting FSLOUTPUTTYPE=NIFTI\n",
      "240116-09:10:52,306 nipype.interface WARNING:\n",
      "\t FSLOUTPUTTYPE environment variable is not set. Setting FSLOUTPUTTYPE=NIFTI\n"
     ]
    },
    {
     "name": "stderr",
     "output_type": "stream",
     "text": [
      " 67%|██████▋   | 18/27 [01:02<00:34,  3.83s/it]"
     ]
    },
    {
     "name": "stdout",
     "output_type": "stream",
     "text": [
      "240116-09:10:52,765 nipype.interface WARNING:\n",
      "\t FSLOUTPUTTYPE environment variable is not set. Setting FSLOUTPUTTYPE=NIFTI\n",
      "240116-09:10:53,266 nipype.interface WARNING:\n",
      "\t FSLOUTPUTTYPE environment variable is not set. Setting FSLOUTPUTTYPE=NIFTI\n",
      "240116-09:10:53,732 nipype.interface WARNING:\n",
      "\t FSLOUTPUTTYPE environment variable is not set. Setting FSLOUTPUTTYPE=NIFTI\n",
      "240116-09:10:54,224 nipype.interface WARNING:\n",
      "\t FSLOUTPUTTYPE environment variable is not set. Setting FSLOUTPUTTYPE=NIFTI\n",
      "240116-09:10:54,724 nipype.interface WARNING:\n",
      "\t FSLOUTPUTTYPE environment variable is not set. Setting FSLOUTPUTTYPE=NIFTI\n",
      "240116-09:10:55,186 nipype.interface WARNING:\n",
      "\t FSLOUTPUTTYPE environment variable is not set. Setting FSLOUTPUTTYPE=NIFTI\n",
      "240116-09:10:55,645 nipype.interface WARNING:\n",
      "\t FSLOUTPUTTYPE environment variable is not set. Setting FSLOUTPUTTYPE=NIFTI\n"
     ]
    },
    {
     "name": "stderr",
     "output_type": "stream",
     "text": [
      " 70%|███████   | 19/27 [01:05<00:29,  3.69s/it]"
     ]
    },
    {
     "name": "stdout",
     "output_type": "stream",
     "text": [
      "240116-09:10:56,147 nipype.interface WARNING:\n",
      "\t FSLOUTPUTTYPE environment variable is not set. Setting FSLOUTPUTTYPE=NIFTI\n",
      "240116-09:10:56,635 nipype.interface WARNING:\n",
      "\t FSLOUTPUTTYPE environment variable is not set. Setting FSLOUTPUTTYPE=NIFTI\n",
      "240116-09:10:57,134 nipype.interface WARNING:\n",
      "\t FSLOUTPUTTYPE environment variable is not set. Setting FSLOUTPUTTYPE=NIFTI\n",
      "240116-09:10:57,639 nipype.interface WARNING:\n",
      "\t FSLOUTPUTTYPE environment variable is not set. Setting FSLOUTPUTTYPE=NIFTI\n",
      "240116-09:10:58,89 nipype.interface WARNING:\n",
      "\t FSLOUTPUTTYPE environment variable is not set. Setting FSLOUTPUTTYPE=NIFTI\n",
      "240116-09:10:58,583 nipype.interface WARNING:\n",
      "\t FSLOUTPUTTYPE environment variable is not set. Setting FSLOUTPUTTYPE=NIFTI\n",
      "240116-09:10:59,75 nipype.interface WARNING:\n",
      "\t FSLOUTPUTTYPE environment variable is not set. Setting FSLOUTPUTTYPE=NIFTI\n"
     ]
    },
    {
     "name": "stderr",
     "output_type": "stream",
     "text": [
      " 74%|███████▍  | 20/27 [01:08<00:25,  3.60s/it]"
     ]
    },
    {
     "name": "stdout",
     "output_type": "stream",
     "text": [
      "240116-09:10:59,526 nipype.interface WARNING:\n",
      "\t FSLOUTPUTTYPE environment variable is not set. Setting FSLOUTPUTTYPE=NIFTI\n",
      "240116-09:10:59,982 nipype.interface WARNING:\n",
      "\t FSLOUTPUTTYPE environment variable is not set. Setting FSLOUTPUTTYPE=NIFTI\n",
      "240116-09:11:00,440 nipype.interface WARNING:\n",
      "\t FSLOUTPUTTYPE environment variable is not set. Setting FSLOUTPUTTYPE=NIFTI\n",
      "240116-09:11:00,926 nipype.interface WARNING:\n",
      "\t FSLOUTPUTTYPE environment variable is not set. Setting FSLOUTPUTTYPE=NIFTI\n",
      "240116-09:11:01,407 nipype.interface WARNING:\n",
      "\t FSLOUTPUTTYPE environment variable is not set. Setting FSLOUTPUTTYPE=NIFTI\n",
      "240116-09:11:01,885 nipype.interface WARNING:\n",
      "\t FSLOUTPUTTYPE environment variable is not set. Setting FSLOUTPUTTYPE=NIFTI\n",
      "240116-09:11:02,377 nipype.interface WARNING:\n",
      "\t FSLOUTPUTTYPE environment variable is not set. Setting FSLOUTPUTTYPE=NIFTI\n"
     ]
    },
    {
     "name": "stderr",
     "output_type": "stream",
     "text": [
      " 78%|███████▊  | 21/27 [01:12<00:21,  3.52s/it]"
     ]
    },
    {
     "name": "stdout",
     "output_type": "stream",
     "text": [
      "240116-09:11:02,862 nipype.interface WARNING:\n",
      "\t FSLOUTPUTTYPE environment variable is not set. Setting FSLOUTPUTTYPE=NIFTI\n",
      "240116-09:11:03,379 nipype.interface WARNING:\n",
      "\t FSLOUTPUTTYPE environment variable is not set. Setting FSLOUTPUTTYPE=NIFTI\n",
      "240116-09:11:03,871 nipype.interface WARNING:\n",
      "\t FSLOUTPUTTYPE environment variable is not set. Setting FSLOUTPUTTYPE=NIFTI\n",
      "240116-09:11:04,423 nipype.interface WARNING:\n",
      "\t FSLOUTPUTTYPE environment variable is not set. Setting FSLOUTPUTTYPE=NIFTI\n",
      "240116-09:11:04,893 nipype.interface WARNING:\n",
      "\t FSLOUTPUTTYPE environment variable is not set. Setting FSLOUTPUTTYPE=NIFTI\n",
      "240116-09:11:05,373 nipype.interface WARNING:\n",
      "\t FSLOUTPUTTYPE environment variable is not set. Setting FSLOUTPUTTYPE=NIFTI\n"
     ]
    },
    {
     "name": "stderr",
     "output_type": "stream",
     "text": [
      " 81%|████████▏ | 22/27 [01:15<00:16,  3.36s/it]"
     ]
    },
    {
     "name": "stdout",
     "output_type": "stream",
     "text": [
      "240116-09:11:05,853 nipype.interface WARNING:\n",
      "\t FSLOUTPUTTYPE environment variable is not set. Setting FSLOUTPUTTYPE=NIFTI\n",
      "240116-09:11:06,318 nipype.interface WARNING:\n",
      "\t FSLOUTPUTTYPE environment variable is not set. Setting FSLOUTPUTTYPE=NIFTI\n",
      "240116-09:11:06,804 nipype.interface WARNING:\n",
      "\t FSLOUTPUTTYPE environment variable is not set. Setting FSLOUTPUTTYPE=NIFTI\n",
      "240116-09:11:07,327 nipype.interface WARNING:\n",
      "\t FSLOUTPUTTYPE environment variable is not set. Setting FSLOUTPUTTYPE=NIFTI\n",
      "240116-09:11:07,762 nipype.interface WARNING:\n",
      "\t FSLOUTPUTTYPE environment variable is not set. Setting FSLOUTPUTTYPE=NIFTI\n",
      "240116-09:11:08,240 nipype.interface WARNING:\n",
      "\t FSLOUTPUTTYPE environment variable is not set. Setting FSLOUTPUTTYPE=NIFTI\n",
      "240116-09:11:08,728 nipype.interface WARNING:\n",
      "\t FSLOUTPUTTYPE environment variable is not set. Setting FSLOUTPUTTYPE=NIFTI\n"
     ]
    },
    {
     "name": "stderr",
     "output_type": "stream",
     "text": [
      " 85%|████████▌ | 23/27 [01:18<00:13,  3.35s/it]"
     ]
    },
    {
     "name": "stdout",
     "output_type": "stream",
     "text": [
      "240116-09:11:09,189 nipype.interface WARNING:\n",
      "\t FSLOUTPUTTYPE environment variable is not set. Setting FSLOUTPUTTYPE=NIFTI\n",
      "240116-09:11:09,648 nipype.interface WARNING:\n",
      "\t FSLOUTPUTTYPE environment variable is not set. Setting FSLOUTPUTTYPE=NIFTI\n",
      "240116-09:11:10,123 nipype.interface WARNING:\n",
      "\t FSLOUTPUTTYPE environment variable is not set. Setting FSLOUTPUTTYPE=NIFTI\n",
      "240116-09:11:10,608 nipype.interface WARNING:\n",
      "\t FSLOUTPUTTYPE environment variable is not set. Setting FSLOUTPUTTYPE=NIFTI\n",
      "240116-09:11:11,86 nipype.interface WARNING:\n",
      "\t FSLOUTPUTTYPE environment variable is not set. Setting FSLOUTPUTTYPE=NIFTI\n",
      "240116-09:11:11,540 nipype.interface WARNING:\n",
      "\t FSLOUTPUTTYPE environment variable is not set. Setting FSLOUTPUTTYPE=NIFTI\n",
      "240116-09:11:12,4 nipype.interface WARNING:\n",
      "\t FSLOUTPUTTYPE environment variable is not set. Setting FSLOUTPUTTYPE=NIFTI\n"
     ]
    },
    {
     "name": "stderr",
     "output_type": "stream",
     "text": [
      " 89%|████████▉ | 24/27 [01:21<00:10,  3.35s/it]"
     ]
    },
    {
     "name": "stdout",
     "output_type": "stream",
     "text": [
      "240116-09:11:12,529 nipype.interface WARNING:\n",
      "\t FSLOUTPUTTYPE environment variable is not set. Setting FSLOUTPUTTYPE=NIFTI\n",
      "240116-09:11:13,20 nipype.interface WARNING:\n",
      "\t FSLOUTPUTTYPE environment variable is not set. Setting FSLOUTPUTTYPE=NIFTI\n",
      "240116-09:11:13,516 nipype.interface WARNING:\n",
      "\t FSLOUTPUTTYPE environment variable is not set. Setting FSLOUTPUTTYPE=NIFTI\n",
      "240116-09:11:14,2 nipype.interface WARNING:\n",
      "\t FSLOUTPUTTYPE environment variable is not set. Setting FSLOUTPUTTYPE=NIFTI\n",
      "240116-09:11:14,455 nipype.interface WARNING:\n",
      "\t FSLOUTPUTTYPE environment variable is not set. Setting FSLOUTPUTTYPE=NIFTI\n",
      "240116-09:11:14,915 nipype.interface WARNING:\n",
      "\t FSLOUTPUTTYPE environment variable is not set. Setting FSLOUTPUTTYPE=NIFTI\n",
      "240116-09:11:15,404 nipype.interface WARNING:\n",
      "\t FSLOUTPUTTYPE environment variable is not set. Setting FSLOUTPUTTYPE=NIFTI\n"
     ]
    },
    {
     "name": "stderr",
     "output_type": "stream",
     "text": [
      " 93%|█████████▎| 25/27 [01:25<00:06,  3.35s/it]"
     ]
    },
    {
     "name": "stdout",
     "output_type": "stream",
     "text": [
      "240116-09:11:15,892 nipype.interface WARNING:\n",
      "\t FSLOUTPUTTYPE environment variable is not set. Setting FSLOUTPUTTYPE=NIFTI\n",
      "240116-09:11:16,377 nipype.interface WARNING:\n",
      "\t FSLOUTPUTTYPE environment variable is not set. Setting FSLOUTPUTTYPE=NIFTI\n",
      "240116-09:11:16,820 nipype.interface WARNING:\n",
      "\t FSLOUTPUTTYPE environment variable is not set. Setting FSLOUTPUTTYPE=NIFTI\n",
      "240116-09:11:17,280 nipype.interface WARNING:\n",
      "\t FSLOUTPUTTYPE environment variable is not set. Setting FSLOUTPUTTYPE=NIFTI\n",
      "240116-09:11:17,791 nipype.interface WARNING:\n",
      "\t FSLOUTPUTTYPE environment variable is not set. Setting FSLOUTPUTTYPE=NIFTI\n",
      "240116-09:11:18,246 nipype.interface WARNING:\n",
      "\t FSLOUTPUTTYPE environment variable is not set. Setting FSLOUTPUTTYPE=NIFTI\n",
      "240116-09:11:18,705 nipype.interface WARNING:\n",
      "\t FSLOUTPUTTYPE environment variable is not set. Setting FSLOUTPUTTYPE=NIFTI\n"
     ]
    },
    {
     "name": "stderr",
     "output_type": "stream",
     "text": [
      " 96%|█████████▋| 26/27 [01:28<00:03,  3.33s/it]"
     ]
    },
    {
     "name": "stdout",
     "output_type": "stream",
     "text": [
      "240116-09:11:19,155 nipype.interface WARNING:\n",
      "\t FSLOUTPUTTYPE environment variable is not set. Setting FSLOUTPUTTYPE=NIFTI\n",
      "240116-09:11:19,694 nipype.interface WARNING:\n",
      "\t FSLOUTPUTTYPE environment variable is not set. Setting FSLOUTPUTTYPE=NIFTI\n",
      "240116-09:11:20,210 nipype.interface WARNING:\n",
      "\t FSLOUTPUTTYPE environment variable is not set. Setting FSLOUTPUTTYPE=NIFTI\n",
      "240116-09:11:20,674 nipype.interface WARNING:\n",
      "\t FSLOUTPUTTYPE environment variable is not set. Setting FSLOUTPUTTYPE=NIFTI\n",
      "240116-09:11:21,175 nipype.interface WARNING:\n",
      "\t FSLOUTPUTTYPE environment variable is not set. Setting FSLOUTPUTTYPE=NIFTI\n",
      "240116-09:11:21,695 nipype.interface WARNING:\n",
      "\t FSLOUTPUTTYPE environment variable is not set. Setting FSLOUTPUTTYPE=NIFTI\n",
      "240116-09:11:22,185 nipype.interface WARNING:\n",
      "\t FSLOUTPUTTYPE environment variable is not set. Setting FSLOUTPUTTYPE=NIFTI\n"
     ]
    },
    {
     "name": "stderr",
     "output_type": "stream",
     "text": [
      "100%|██████████| 27/27 [01:32<00:00,  3.41s/it]\n"
     ]
    }
   ],
   "source": [
    "# create new directory\n",
    "# now = datetime.now()\n",
    "# timeFormatted = now.strftime(\"%Y%m%d-%H%M%S\")\n",
    "# path_to_reoriented = f\"{path_to_n30}/preprocessing_reoriented_{timeFormatted}\"\n",
    "# os.mkdir(path_to_reoriented)\n",
    "\n",
    "# gets only the folders at path and puts them in an array \n",
    "patient_folders = [\n",
    "    folder for folder in os.listdir(path_to_preprocessing) if os.path.isdir(os.path.join(path_to_preprocessing, folder))\n",
    "]\n",
    "\n",
    "for patient in tqdm(patient_folders):\n",
    "\n",
    "    # ignores the ds_folders\n",
    "    if config.dsStore in patient:\n",
    "        continue\n",
    "\n",
    "    patientID = patient\n",
    "\n",
    "    # get the nifti fils for each patient and put them in an array\n",
    "    niftiFiles = [\n",
    "        niftiFile for niftiFile in os.listdir(os.path.join(path_to_preprocessing, patient)) if (\".nii.gz\" in niftiFile)\n",
    "    ]\n",
    "\n",
    "    # loop through the different sequences\n",
    "    for nifti in niftiFiles:\n",
    "\n",
    "        # example sequence name: 12345678_T1.nii.gz\n",
    "        sequenceType = (nifti.split(\"_\")[1]).split(\".\")[0]\n",
    "\n",
    "        now = datetime.now()\n",
    "        timeFormatted = now.strftime(\"%Y%m%d-%H%M%S\")\n",
    "\n",
    "        path_to_input_image = os.path.join(path_to_preprocessing, patient, nifti)\n",
    "        path_to_output_image = f\"{path_to_preprocessing}/{patientID}/{patientID}_{sequenceType}_reoriented_{timeFormatted}.nii\"\n",
    "\n",
    "        reorient = fsl.Reorient2Std()\n",
    "        reorient.inputs.in_file = path_to_input_image\n",
    "        reorient.inputs.out_file = path_to_output_image\n",
    "        reorient._output_type\n",
    "        reorient.run()\n",
    "\n"
   ]
  },
  {
   "cell_type": "markdown",
   "metadata": {},
   "source": [
    "### Step 02.2 Extract Brain using HD-BET"
   ]
  },
  {
   "cell_type": "markdown",
   "metadata": {},
   "source": [
    "currently not working as HD-BET is not supported for apple silicons, but trying to find another way"
   ]
  },
  {
   "cell_type": "code",
   "execution_count": null,
   "metadata": {},
   "outputs": [],
   "source": [
    "# gets only the folders at path and puts them in an array \n",
    "patient_folders = [\n",
    "    folder for folder in os.listdir(path_to_preprocessing) if os.path.isdir(os.path.join(path_to_preprocessing, folder))\n",
    "]\n",
    "\n",
    "for patient in tqdm(patient_folders):\n",
    "\n",
    "    # ignores the ds_folders\n",
    "    if config.dsStore in patient:\n",
    "        continue\n",
    "\n",
    "    patientID = patient\n",
    "\n",
    "    reorientedNiftiFiles = [\n",
    "        reorientedFile for reorientedFile in os.listdir(path_to_preprocessing, patient) if (\"reoriented\" in reorientedFile)\n",
    "    ]\n",
    "\n",
    "    # loop through the reoriented files\n",
    "    for reorientedFile in reorientedNiftiFiles:\n",
    "\n",
    "        sequenceType = (reorientedFile.split(\"_\")[1]).split(\".\")[0]\n",
    "\n",
    "        now = datetime.now()\n",
    "        timeFormatted = now.strftime(\"%Y%m%d-%H%M%S\")\n",
    "\n",
    "        path_to_input_image = os.path.join(path_to_preprocessing, patient, reorientedFile)\n",
    "        path_to_output_image = f\"{path_to_preprocessing}/{patient}/{patientID}_{sequenceType}_brainextracted_{timeFormatted}\"\n",
    "\n",
    "        # either like this\n",
    "        #run_hd_bet(mri_fnames=path_to_output_image, output_fnames=path_to_output_image)\n",
    "\n",
    "        # or like that\n",
    "        os.system(f\"hd-bet -i {path_to_input_image} -o {path_to_output_image}\")"
   ]
  },
  {
   "cell_type": "markdown",
   "metadata": {},
   "source": [
    "## Step 03: Binary Segment and Fill Holes"
   ]
  },
  {
   "cell_type": "code",
   "execution_count": 16,
   "metadata": {},
   "outputs": [
    {
     "name": "stderr",
     "output_type": "stream",
     "text": [
      "  0%|          | 0/27 [00:00<?, ?it/s]"
     ]
    },
    {
     "name": "stdout",
     "output_type": "stream",
     "text": [
      "['01199093_T1_brainextracted.nii.gz', '01199093_FLAIR_brainextracted.nii.gz', '01199093_T1CE_brainextracted.nii.gz', '01199093_DWI_brainextracted.nii.gz', '01199093_T1a_brainextracted.nii.gz', '01199093_T2_brainextracted.nii.gz']\n"
     ]
    },
    {
     "name": "stderr",
     "output_type": "stream",
     "text": [
      "  4%|▎         | 1/27 [00:13<05:47, 13.36s/it]"
     ]
    },
    {
     "name": "stdout",
     "output_type": "stream",
     "text": [
      "['01220269_T1_brainextracted.nii.gz', '01220269_STERN_brainextracted.nii.gz', '01220269_FLAIR_brainextracted.nii.gz', '01220269_T1CE_brainextracted.nii.gz', '01220269_T2_brainextracted.nii.gz', '01220269_DWI_brainextracted.nii.gz', '01220269_ADC_brainextracted.nii.gz']\n"
     ]
    },
    {
     "name": "stderr",
     "output_type": "stream",
     "text": [
      "  7%|▋         | 2/27 [00:17<03:12,  7.71s/it]"
     ]
    },
    {
     "name": "stdout",
     "output_type": "stream",
     "text": [
      "['01150136_DWI_brainextracted.nii.gz', '01150136_ADC_brainextracted.nii.gz', '01150136_STERN_brainextracted.nii.gz', '01150136_T1_brainextracted.nii.gz', '01150136_T1CE_brainextracted.nii.gz', '01150136_FLAIR_brainextracted.nii.gz', '01150136_T2_brainextracted.nii.gz']\n"
     ]
    },
    {
     "name": "stderr",
     "output_type": "stream",
     "text": [
      " 11%|█         | 3/27 [00:22<02:35,  6.50s/it]"
     ]
    },
    {
     "name": "stdout",
     "output_type": "stream",
     "text": [
      "['01134825_FLAIR_brainextracted.nii.gz', '01134825_T2_brainextracted.nii.gz', '01134825_STERN_brainextracted.nii.gz', '01134825_T1_brainextracted.nii.gz', '01134825_T1CE_brainextracted.nii.gz', '01134825_ADC_brainextracted.nii.gz']\n"
     ]
    },
    {
     "name": "stderr",
     "output_type": "stream",
     "text": [
      " 15%|█▍        | 4/27 [00:24<01:54,  4.98s/it]"
     ]
    },
    {
     "name": "stdout",
     "output_type": "stream",
     "text": [
      "['01083248_T2_brainextracted.nii.gz', '01083248_T1CE_brainextracted.nii.gz', '01083248_STERN_brainextracted.nii.gz', '01083248_T1_brainextracted.nii.gz', '01083248_FLAIR_brainextracted.nii.gz', '01083248_DWI_brainextracted.nii.gz', '01083248_ADC_brainextracted.nii.gz']\n"
     ]
    },
    {
     "name": "stderr",
     "output_type": "stream",
     "text": [
      " 19%|█▊        | 5/27 [00:29<01:43,  4.72s/it]"
     ]
    },
    {
     "name": "stdout",
     "output_type": "stream",
     "text": [
      "['01189050_T1CE_brainextracted.nii.gz', '01189050_STERN_brainextracted.nii.gz', '01189050_T2_brainextracted.nii.gz', '01189050_DWI_brainextracted.nii.gz', '01189050_ADC_brainextracted.nii.gz', '01189050_T1_brainextracted.nii.gz', '01189050_FLAIR_brainextracted.nii.gz']\n"
     ]
    },
    {
     "name": "stderr",
     "output_type": "stream",
     "text": [
      " 22%|██▏       | 6/27 [00:32<01:29,  4.27s/it]"
     ]
    },
    {
     "name": "stdout",
     "output_type": "stream",
     "text": [
      "['01311383_T1_brainextracted.nii.gz', '01311383_T1CE_brainextracted.nii.gz', '01311383_FLAIR_brainextracted.nii.gz', '01311383_DWI_brainextracted.nii.gz', '01311383_ADC_brainextracted.nii.gz', '01311383_STERN_brainextracted.nii.gz', '01311383_T2_brainextracted.nii.gz']\n"
     ]
    },
    {
     "name": "stderr",
     "output_type": "stream",
     "text": [
      " 26%|██▌       | 7/27 [00:35<01:19,  4.00s/it]"
     ]
    },
    {
     "name": "stdout",
     "output_type": "stream",
     "text": [
      "['01261127_T1CE_brainextracted.nii.gz']\n"
     ]
    },
    {
     "name": "stderr",
     "output_type": "stream",
     "text": [
      "100%|██████████| 27/27 [00:36<00:00,  1.35s/it]"
     ]
    },
    {
     "name": "stdout",
     "output_type": "stream",
     "text": [
      "[]\n",
      "[]\n",
      "[]\n",
      "[]\n",
      "[]\n",
      "[]\n",
      "[]\n",
      "[]\n",
      "[]\n",
      "[]\n",
      "[]\n",
      "[]\n",
      "[]\n",
      "[]\n",
      "[]\n",
      "[]\n",
      "[]\n",
      "[]\n",
      "[]\n"
     ]
    },
    {
     "name": "stderr",
     "output_type": "stream",
     "text": [
      "\n"
     ]
    }
   ],
   "source": [
    "# gets only the folders at path and puts them in an array \n",
    "patient_folders = [\n",
    "    folder for folder in os.listdir(path_to_preprocessing) if os.path.isdir(os.path.join(path_to_preprocessing, folder))\n",
    "]\n",
    "\n",
    "for patient in tqdm(patient_folders):\n",
    "\n",
    "    # ignores the ds_folders\n",
    "    if config.dsStore in patient:\n",
    "        continue\n",
    "\n",
    "    patientID = patient\n",
    "\n",
    "    brainExtractedFiles = [\n",
    "        extractedFile for extractedFile in os.listdir(os.path.join(path_to_preprocessing, patient)) if ((\"brainextracted\" in extractedFile) and (\"mask\" not in extractedFile))\n",
    "    ]\n",
    "\n",
    "    print(brainExtractedFiles)\n",
    "\n",
    "    # loop through the brain extracted files\n",
    "    for betFile in brainExtractedFiles:\n",
    "\n",
    "        path_to_bet_file = os.path.join(path_to_preprocessing, patient, betFile)\n",
    "        sitk_image = sitk.ReadImage(path_to_bet_file, imageIO=\"NiftiImageIO\")\n",
    "\n",
    "        otsu_filter = sitk.OtsuThresholdImageFilter()\n",
    "        otsu_filter.SetInsideValue(0)\n",
    "        otsu_filter.SetOutsideValue(1)\n",
    "        otsu_image = otsu_filter.Execute(sitk_image)\n",
    "\n",
    "        closing_filter = sitk.BinaryMorphologicalClosingImageFilter()\n",
    "        closing_filter.SetKernelRadius(3)\n",
    "        closed_image = closing_filter.Execute(otsu_image)\n",
    "\n",
    "        sequenceType = (betFile.split(\"_\")[1]).split(\".\")[0]\n",
    "\n",
    "        now = datetime.now()\n",
    "        timeFormatted = now.strftime(\"%Y%m%d-%H%M%S\")\n",
    "\n",
    "        path_to_output_image = f\"{path_to_preprocessing}/{patientID}/{patientID}_{sequenceType}_holesfilled_{timeFormatted}.nii.gz\"\n",
    "        sitk.WriteImage(closed_image, path_to_output_image, imageIO = \"NiftiImageIO\")"
   ]
  },
  {
   "cell_type": "markdown",
   "metadata": {},
   "source": [
    "## Step 05: Get and Apply Bounding Box"
   ]
  },
  {
   "cell_type": "code",
   "execution_count": 18,
   "metadata": {},
   "outputs": [
    {
     "name": "stderr",
     "output_type": "stream",
     "text": [
      "  0%|          | 0/27 [00:00<?, ?it/s]"
     ]
    },
    {
     "name": "stdout",
     "output_type": "stream",
     "text": [
      "[('01199093_T1_holesfilled_20240116-102201.nii.gz', '01199093_T1_brainextracted.nii.gz'), ('01199093_DWI_holesfilled_20240116-102204.nii.gz', '01199093_FLAIR_brainextracted.nii.gz'), ('01199093_T1a_holesfilled_20240116-102205.nii.gz', '01199093_T1CE_brainextracted.nii.gz'), ('01199093_T1CE_holesfilled_20240116-102204.nii.gz', '01199093_DWI_brainextracted.nii.gz'), ('01199093_T2_holesfilled_20240116-102207.nii.gz', '01199093_T1a_brainextracted.nii.gz'), ('01199093_FLAIR_holesfilled_20240116-102202.nii.gz', '01199093_T2_brainextracted.nii.gz')]\n"
     ]
    },
    {
     "name": "stderr",
     "output_type": "stream",
     "text": [
      "  7%|▋         | 2/27 [00:01<00:16,  1.55it/s]"
     ]
    },
    {
     "name": "stdout",
     "output_type": "stream",
     "text": [
      "[('01220269_ADC_holesfilled_20240116-102211.nii.gz', '01220269_T1_brainextracted.nii.gz'), ('01220269_T2_holesfilled_20240116-102209.nii.gz', '01220269_STERN_brainextracted.nii.gz'), ('01220269_T1CE_holesfilled_20240116-102208.nii.gz', '01220269_FLAIR_brainextracted.nii.gz'), ('01220269_FLAIR_holesfilled_20240116-102208.nii.gz', '01220269_T1CE_brainextracted.nii.gz'), ('01220269_T1_holesfilled_20240116-102207.nii.gz', '01220269_T2_brainextracted.nii.gz'), ('01220269_DWI_holesfilled_20240116-102210.nii.gz', '01220269_DWI_brainextracted.nii.gz'), ('01220269_STERN_holesfilled_20240116-102208.nii.gz', '01220269_ADC_brainextracted.nii.gz')]\n",
      "[('01150136_T2_holesfilled_20240116-102216.nii.gz', '01150136_DWI_brainextracted.nii.gz'), ('01150136_T1CE_holesfilled_20240116-102214.nii.gz', '01150136_ADC_brainextracted.nii.gz'), ('01150136_ADC_holesfilled_20240116-102212.nii.gz', '01150136_STERN_brainextracted.nii.gz'), ('01150136_FLAIR_holesfilled_20240116-102215.nii.gz', '01150136_T1_brainextracted.nii.gz'), ('01150136_DWI_holesfilled_20240116-102211.nii.gz', '01150136_T1CE_brainextracted.nii.gz'), ('01150136_T1_holesfilled_20240116-102214.nii.gz', '01150136_FLAIR_brainextracted.nii.gz'), ('01150136_STERN_holesfilled_20240116-102213.nii.gz', '01150136_T2_brainextracted.nii.gz')]\n"
     ]
    },
    {
     "name": "stderr",
     "output_type": "stream",
     "text": [
      " 15%|█▍        | 4/27 [00:01<00:07,  2.96it/s]"
     ]
    },
    {
     "name": "stdout",
     "output_type": "stream",
     "text": [
      "[('01134825_FLAIR_holesfilled_20240116-102216.nii.gz', '01134825_FLAIR_brainextracted.nii.gz'), ('01134825_T2_holesfilled_20240116-102217.nii.gz', '01134825_T2_brainextracted.nii.gz'), ('01134825_T1CE_holesfilled_20240116-102218.nii.gz', '01134825_STERN_brainextracted.nii.gz'), ('01134825_STERN_holesfilled_20240116-102217.nii.gz', '01134825_T1_brainextracted.nii.gz'), ('01134825_ADC_holesfilled_20240116-102218.nii.gz', '01134825_T1CE_brainextracted.nii.gz'), ('01134825_T1_holesfilled_20240116-102217.nii.gz', '01134825_ADC_brainextracted.nii.gz')]\n",
      "[('01083248_T2_holesfilled_20240116-102219.nii.gz', '01083248_T2_brainextracted.nii.gz'), ('01083248_DWI_holesfilled_20240116-102222.nii.gz', '01083248_T1CE_brainextracted.nii.gz'), ('01083248_T1_holesfilled_20240116-102222.nii.gz', '01083248_STERN_brainextracted.nii.gz'), ('01083248_STERN_holesfilled_20240116-102221.nii.gz', '01083248_T1_brainextracted.nii.gz'), ('01083248_T1CE_holesfilled_20240116-102220.nii.gz', '01083248_FLAIR_brainextracted.nii.gz'), ('01083248_FLAIR_holesfilled_20240116-102222.nii.gz', '01083248_DWI_brainextracted.nii.gz'), ('01083248_ADC_holesfilled_20240116-102223.nii.gz', '01083248_ADC_brainextracted.nii.gz')]\n"
     ]
    },
    {
     "name": "stderr",
     "output_type": "stream",
     "text": [
      " 22%|██▏       | 6/27 [00:02<00:05,  4.04it/s]"
     ]
    },
    {
     "name": "stdout",
     "output_type": "stream",
     "text": [
      "[('01189050_T2_holesfilled_20240116-102224.nii.gz', '01189050_T1CE_brainextracted.nii.gz'), ('01189050_STERN_holesfilled_20240116-102223.nii.gz', '01189050_STERN_brainextracted.nii.gz'), ('01189050_ADC_holesfilled_20240116-102225.nii.gz', '01189050_T2_brainextracted.nii.gz'), ('01189050_FLAIR_holesfilled_20240116-102226.nii.gz', '01189050_DWI_brainextracted.nii.gz'), ('01189050_T1CE_holesfilled_20240116-102223.nii.gz', '01189050_ADC_brainextracted.nii.gz'), ('01189050_DWI_holesfilled_20240116-102225.nii.gz', '01189050_T1_brainextracted.nii.gz'), ('01189050_T1_holesfilled_20240116-102226.nii.gz', '01189050_FLAIR_brainextracted.nii.gz')]\n",
      "[('01311383_T1_holesfilled_20240116-102226.nii.gz', '01311383_T1_brainextracted.nii.gz'), ('01311383_ADC_holesfilled_20240116-102229.nii.gz', '01311383_T1CE_brainextracted.nii.gz'), ('01311383_T2_holesfilled_20240116-102229.nii.gz', '01311383_FLAIR_brainextracted.nii.gz'), ('01311383_DWI_holesfilled_20240116-102228.nii.gz', '01311383_DWI_brainextracted.nii.gz'), ('01311383_FLAIR_holesfilled_20240116-102227.nii.gz', '01311383_ADC_brainextracted.nii.gz'), ('01311383_STERN_holesfilled_20240116-102229.nii.gz', '01311383_STERN_brainextracted.nii.gz'), ('01311383_T1CE_holesfilled_20240116-102227.nii.gz', '01311383_T2_brainextracted.nii.gz')]\n"
     ]
    },
    {
     "name": "stderr",
     "output_type": "stream",
     "text": [
      "100%|██████████| 27/27 [00:02<00:00, 10.94it/s]"
     ]
    },
    {
     "name": "stdout",
     "output_type": "stream",
     "text": [
      "[('01261127_T1CE_holesfilled_20240116-102230.nii.gz', '01261127_T1CE_brainextracted.nii.gz')]\n",
      "[]\n",
      "[]\n",
      "[]\n",
      "[]\n",
      "[]\n",
      "[]\n",
      "[]\n",
      "[]\n",
      "[]\n",
      "[]\n",
      "[]\n",
      "[]\n",
      "[]\n",
      "[]\n",
      "[]\n",
      "[]\n",
      "[]\n",
      "[]\n",
      "[]\n"
     ]
    },
    {
     "name": "stderr",
     "output_type": "stream",
     "text": [
      "\n"
     ]
    }
   ],
   "source": [
    "# gets only the folders at path and puts them in an array \n",
    "patient_folders = [\n",
    "    folder for folder in os.listdir(path_to_preprocessing) if os.path.isdir(os.path.join(path_to_preprocessing, folder))\n",
    "]\n",
    "\n",
    "for patient in tqdm(patient_folders):\n",
    "\n",
    "    # ignores the ds_folders\n",
    "    if config.dsStore in patient:\n",
    "        continue\n",
    "\n",
    "    patientID = patient\n",
    "\n",
    "    holesFilledFiles = [\n",
    "        holesFilledFile for holesFilledFile in os.listdir(os.path.join(path_to_preprocessing, patient)) if (\"holesfilled\" in holesFilledFile)\n",
    "    ]\n",
    "\n",
    "    brainExtractedFiles = [\n",
    "        extractedFile for extractedFile in os.listdir(os.path.join(path_to_preprocessing, patient)) if ((\"brainextracted\" in extractedFile) and (\"mask\" not in extractedFile))\n",
    "    ]\n",
    "\n",
    "    tupleFiles = [(holesFilledFiles[i], brainExtractedFiles[i]) for i in range(0, len(brainExtractedFiles))]\n",
    "\n",
    "    print(tupleFiles)\n",
    "\n",
    "    # loop through the holesfilled files\n",
    "    for tuple in tupleFiles:\n",
    "\n",
    "        hfFile = tuple[0]\n",
    "        brainExtractedFile = tuple[1]\n",
    "\n",
    "        path_to_hf_file = os.path.join(path_to_preprocessing, patient, hfFile)\n",
    "        mask_image = sitk.ReadImage(path_to_hf_file, imageIO=\"NiftiImageIO\")\n",
    "\n",
    "        path_to_bet_file = os.path.join(path_to_preprocessing, patient, brainExtractedFile)\n",
    "        bet_image = sitk.ReadImage(path_to_bet_file, imageIO=\"NiftiImageIO\")\n",
    "\n",
    "        lsif = sitk.LabelShapeStatisticsImageFilter()\n",
    "        lsif.Execute(mask_image)\n",
    "        bounding_box = np.array(lsif.GetBoundingBox(1))\n",
    "\n",
    "        cropped_image = bet_image[\n",
    "            bounding_box[0] : bounding_box[3] + bounding_box[0],\n",
    "            bounding_box[1] : bounding_box[4] + bounding_box[1],\n",
    "            bounding_box[2] : bounding_box[5] + bounding_box[2],\n",
    "        ]\n",
    "\n",
    "        sequenceType = (hfFile.split(\"_\")[1]).split(\".\")[0]\n",
    "\n",
    "        now = datetime.now()\n",
    "        timeFormatted = now.strftime(\"%Y%m%d-%H%M%S\")\n",
    "\n",
    "        path_to_output_image = f\"{path_to_preprocessing}/{patientID}/{patientID}_{sequenceType}_cropped_{timeFormatted}.nii.gz\"\n",
    "        sitk.WriteImage(cropped_image, path_to_output_image, imageIO = \"NiftiImageIO\")"
   ]
  },
  {
   "cell_type": "code",
   "execution_count": null,
   "metadata": {},
   "outputs": [],
   "source": [
    "def get_bounding_box(\n",
    "    image: sitk.Image,\n",
    ") -> Tuple[int]:\n",
    "    \"\"\"\n",
    "    Returns bounding box of brain-extracted scan\n",
    "\n",
    "    Keyword Arguments:\n",
    "    - image: sitk.Image = brain-extracted scan\n",
    "\n",
    "    Returns\n",
    "    - bounding_box: Tuple(int) = bounding box (startX, startY, startZ, sizeX, sizeY, sizeZ)\n",
    "    \"\"\"\n",
    "\n",
    "    mask_image = binary_segment_brain(image)\n",
    "\n",
    "    lsif = sitk.LabelShapeStatisticsImageFilter()\n",
    "    lsif.Execute(mask_image)\n",
    "    bounding_box = np.array(lsif.GetBoundingBox(1))\n",
    "\n",
    "    return bounding_box"
   ]
  },
  {
   "cell_type": "markdown",
   "metadata": {},
   "source": [
    "## Step 06: Apply Bounding Box"
   ]
  },
  {
   "cell_type": "code",
   "execution_count": null,
   "metadata": {},
   "outputs": [],
   "source": [
    "def apply_bounding_box(\n",
    "    image: sitk.Image,\n",
    "    bounding_box: Tuple[int],\n",
    ") -> sitk.Image:\n",
    "    \"\"\"\n",
    "    Returns image, cropped to bounding box\n",
    "\n",
    "    Keyword Arguments:\n",
    "    - image: sitk.Image = image\n",
    "    - bounding_box: Tuple(ing) = bounding box of kind (startX, startY, startZ, sizeX, sizeY, sizeZ)\n",
    "\n",
    "    Returns\n",
    "    - cropped_image: sitk.Image = cropped image\n",
    "    \"\"\"\n",
    "\n",
    "    cropped_image = image[\n",
    "        bounding_box[0] : bounding_box[3] + bounding_box[0],\n",
    "        bounding_box[1] : bounding_box[4] + bounding_box[1],\n",
    "        bounding_box[2] : bounding_box[5] + bounding_box[2],\n",
    "    ]\n",
    "\n",
    "    return cropped_image"
   ]
  },
  {
   "cell_type": "markdown",
   "metadata": {},
   "source": [
    "## Step 07: Apply Bias Correction"
   ]
  },
  {
   "cell_type": "code",
   "execution_count": null,
   "metadata": {},
   "outputs": [],
   "source": [
    "def apply_bias_correction(\n",
    "    image: sitk.Image,\n",
    ") -> sitk.Image:\n",
    "    \"\"\"applies N4 bias field correction to image but keeps background at zero\n",
    "\n",
    "    Keyword Arguments:\n",
    "    image: sitk.Image = image to apply bias correction to\n",
    "\n",
    "    Returns:\n",
    "    image_corrected_masked: sitk.Image = N4 bias field corrected image\n",
    "    \"\"\"\n",
    "\n",
    "    mask_image = binary_segment_brain(image)\n",
    "    corrector = sitk.N4BiasFieldCorrectionImageFilter()\n",
    "    image_corrected = corrector.Execute(image, mask_image)\n",
    "\n",
    "    mask_filter = sitk.MaskImageFilter()\n",
    "    mask_filter.SetOutsideValue(0)\n",
    "    image_corrected_masked = mask_filter.Execute(image_corrected, mask_image)\n",
    "\n",
    "    return image_corrected_masked"
   ]
  },
  {
   "cell_type": "markdown",
   "metadata": {},
   "source": [
    "## Step 08: Coregister Images"
   ]
  },
  {
   "cell_type": "code",
   "execution_count": null,
   "metadata": {},
   "outputs": [],
   "source": [
    "def coregister_antspy(\n",
    "    fixed_path: Union[str, pathlib.Path],\n",
    "    moving_path: Union[str, pathlib.Path],\n",
    "    out_path: Union[str, pathlib.Path],\n",
    "    num_threads=N_PROC,\n",
    ") -> ants.core.ants_image.ANTsImage:\n",
    "    \"\"\"\n",
    "    Coregister moving image to fixed image. Return warped image and save to disk.\n",
    "\n",
    "    Keyword Arguments:\n",
    "    fixed_path: path to fixed image\n",
    "    moving_path: path to moving image\n",
    "    out_path: path to save warped image to\n",
    "    num_threads: number of threads\n",
    "    \"\"\"\n",
    "\n",
    "    os.environ[\"ITK_GLOBAL_DEFAULT_NUMBER_OF_THREADS\"] = str(num_threads)\n",
    "\n",
    "    res = ants.registration(\n",
    "        fixed=ants.image_read(fixed_path),\n",
    "        moving=ants.image_read(moving_path),\n",
    "        type_of_transform=\"antsRegistrationSyNQuick[s]\",  # or \"SyNRA\"\n",
    "        initial_transform=None,\n",
    "        outprefix=\"\",\n",
    "        mask=None,\n",
    "        moving_mask=None,\n",
    "        mask_all_stages=False,\n",
    "        grad_step=0.2,\n",
    "        flow_sigma=3,\n",
    "        total_sigma=0,\n",
    "        aff_metric=\"mattes\",\n",
    "        aff_sampling=32,\n",
    "        aff_random_sampling_rate=0.2,\n",
    "        syn_metric=\"mattes\",\n",
    "        syn_sampling=32,\n",
    "        reg_iterations=(40, 20, 0),\n",
    "        aff_iterations=(2100, 1200, 1200, 10),\n",
    "        aff_shrink_factors=(6, 4, 2, 1),\n",
    "        aff_smoothing_sigmas=(3, 2, 1, 0),\n",
    "        write_composite_transform=False,\n",
    "        random_seed=None,\n",
    "        verbose=False,\n",
    "        multivariate_extras=None,\n",
    "        restrict_transformation=None,\n",
    "        smoothing_in_mm=False,\n",
    "    )\n",
    "\n",
    "    warped_moving = res[\"warpedmovout\"]\n",
    "\n",
    "    ants.image_write(warped_moving, out_path)\n",
    "\n",
    "    return warped_moving"
   ]
  },
  {
   "cell_type": "markdown",
   "metadata": {},
   "source": [
    "## Step 09: Resample Images"
   ]
  },
  {
   "cell_type": "code",
   "execution_count": null,
   "metadata": {},
   "outputs": [],
   "source": [
    "def resample(\n",
    "    itk_image: sitk.Image,\n",
    "    out_spacing: Tuple[float, ...],\n",
    "    is_mask: bool,\n",
    ") -> sitk.Image:\n",
    "    \"\"\"\n",
    "    Resamples sitk image to expected output spacing\n",
    "\n",
    "    Keyword Arguments:\n",
    "    itk_image: sitk.Image\n",
    "    out_spacing: Tuple\n",
    "    is_mask: bool = True if input image is label mask -> NN-interpolation\n",
    "\n",
    "    Returns\n",
    "    output_image: sitk.Image = image resampled to out_spacing\n",
    "    \"\"\"\n",
    "\n",
    "    original_spacing = itk_image.GetSpacing()\n",
    "    original_size = itk_image.GetSize()\n",
    "\n",
    "    out_size = [\n",
    "        int(round(osz * osp / nsp))\n",
    "        for osz, osp, nsp in zip(original_size, original_spacing, out_spacing)\n",
    "    ]\n",
    "\n",
    "    resample = sitk.ResampleImageFilter()\n",
    "    resample.SetOutputSpacing(out_spacing)\n",
    "    resample.SetSize(out_size)\n",
    "    resample.SetOutputDirection(itk_image.GetDirection())\n",
    "    resample.SetOutputOrigin(itk_image.GetOrigin())\n",
    "    resample.SetTransform(sitk.Transform())\n",
    "    resample.SetDefaultPixelValue(0)\n",
    "\n",
    "    if is_mask:\n",
    "        resample.SetInterpolator(sitk.sitkNearestNeighbor)\n",
    "\n",
    "    else:\n",
    "        resample.SetInterpolator(\n",
    "            sitk.sitkBSpline\n",
    "        )  # sitk.sitkLinear sitk.sitkNearestNeighbor\n",
    "\n",
    "    output_image = resample.Execute(itk_image)\n",
    "\n",
    "    return output_image"
   ]
  },
  {
   "cell_type": "markdown",
   "metadata": {},
   "source": [
    "## Step 10: Z-Score Normalize Images"
   ]
  },
  {
   "cell_type": "code",
   "execution_count": null,
   "metadata": {},
   "outputs": [],
   "source": [
    "def zscore_normalize(image: sitk.Image) -> sitk.Image:\n",
    "    \"\"\"\n",
    "    Applies z score normalization to brain scan using a brain mask\n",
    "\n",
    "    Keyword Arguments:\n",
    "    image: sitk.Image = input brain scan\n",
    "\n",
    "    Returns:\n",
    "    normalized_brain_image: sitk.Image = normalized brain scan\n",
    "    \"\"\"\n",
    "\n",
    "    brain_mask = binary_segment_brain(image)\n",
    "\n",
    "    normalizer = ZScoreNormalize()\n",
    "    normalized_brain_array = normalizer(\n",
    "        sitk.GetArrayFromImage(image),\n",
    "        sitk.GetArrayFromImage(brain_mask),\n",
    "    )\n",
    "\n",
    "    normalized_brain_image = sitk.GetImageFromArray(normalized_brain_array)\n",
    "    normalized_brain_image.CopyInformation(image)\n",
    "\n",
    "    return normalized_brain_image"
   ]
  }
 ],
 "metadata": {
  "kernelspec": {
   "display_name": "Python 3",
   "language": "python",
   "name": "python3"
  },
  "language_info": {
   "codemirror_mode": {
    "name": "ipython",
    "version": 3
   },
   "file_extension": ".py",
   "mimetype": "text/x-python",
   "name": "python",
   "nbconvert_exporter": "python",
   "pygments_lexer": "ipython3",
   "version": "3.11.0"
  }
 },
 "nbformat": 4,
 "nbformat_minor": 2
}
