{
 "cells": [
  {
   "cell_type": "code",
   "execution_count": 2,
   "metadata": {},
   "outputs": [],
   "source": [
    "import tensorflow as tf\n",
    "import tensorflow_datasets as tfds"
   ]
  },
  {
   "cell_type": "code",
   "execution_count": 11,
   "metadata": {},
   "outputs": [],
   "source": [
    "fashion_mnist = tf.keras.datasets.fashion_mnist.load_data()\n",
    "(X_train_full, y_train_full), (X_test, y_test) = fashion_mnist\n",
    "X_train, y_train = X_train_full[:-5000], y_train_full[:-5000]\n",
    "X_valid, y_valid = X_train[-5000:], y_train_full[-5000:]"
   ]
  },
  {
   "cell_type": "code",
   "execution_count": 12,
   "metadata": {},
   "outputs": [],
   "source": [
    "X_train, X_valid, X_test = X_train / 255., X_valid / 255., X_test / 255.\n",
    "class_names = [\"T-shirt/top\", \"Trouser\", \"Pullover\", \"Dress\", \"Coat\", \"Sandal\", \"Shirt\", \"Sneaker\", \"Bag\", \"Ankle boot\"]"
   ]
  },
  {
   "cell_type": "code",
   "execution_count": 61,
   "metadata": {},
   "outputs": [],
   "source": [
    "tf.keras.utils.set_random_seed(42)\n",
    "mode = tf.keras.Sequential([\n",
    "    tf.keras.layers.Input(shape=[28,28]),\n",
    "    tf.keras.layers.BatchNormalization(),\n",
    "    tf.keras.layers.Flatten(),\n",
    "    tf.keras.layers.Dense(300, activation=\"relu\"),\n",
    "    tf.keras.layers.Dense(100, activation=\"relu\"),\n",
    "    tf.keras.layers.Dense(10, activation=\"softmax\")\n",
    "])"
   ]
  },
  {
   "cell_type": "code",
   "execution_count": 102,
   "metadata": {},
   "outputs": [],
   "source": [
    "cnn_model = tf.keras.Sequential([\n",
    "    tf.keras.layers.Conv2D(\n",
    "        filters=64,\n",
    "        kernel_size = 2,\n",
    "        strides=(2,2),\n",
    "        input_shape = (28,28,1),\n",
    "        activation = \"mish\",\n",
    "        kernel_initializer=tf.keras.initializers.HeNormal()),\n",
    "    tf.keras.layers.BatchNormalization(),\n",
    "    tf.keras.layers.MaxPooling2D(),\n",
    "    tf.keras.layers.BatchNormalization(),\n",
    "    tf.keras.layers.Conv2D(\n",
    "        filters=64,\n",
    "        kernel_size = 2,\n",
    "        strides=(2,2),\n",
    "        activation = \"mish\",\n",
    "        kernel_initializer=tf.keras.initializers.HeNormal()),\n",
    "    tf.keras.layers.BatchNormalization(),\n",
    "    tf.keras.layers.MaxPooling2D(pool_size = (2,2)),\n",
    "    tf.keras.layers.BatchNormalization(),\n",
    "    tf.keras.layers.Flatten(),\n",
    "    tf.keras.layers.Dense(100, activation = \"mish\", kernel_initializer=tf.keras.initializers.HeNormal()),\n",
    "    tf.keras.layers.Dropout(0.5),\n",
    "    tf.keras.layers.Dense(100, activation = \"mish\", kernel_initializer=tf.keras.initializers.HeNormal()),\n",
    "    tf.keras.layers.Dropout(0.5),\n",
    "    tf.keras.layers.Dense(10, activation=\"softmax\")\n",
    "])"
   ]
  },
  {
   "cell_type": "code",
   "execution_count": null,
   "metadata": {},
   "outputs": [],
   "source": [
    "cnn_model.build()\n",
    "cnn_model.summary()"
   ]
  },
  {
   "cell_type": "code",
   "execution_count": 106,
   "metadata": {},
   "outputs": [
    {
     "name": "stdout",
     "output_type": "stream",
     "text": [
      "Epoch 1/30\n",
      "1719/1719 [==============================] - 7s 4ms/step - loss: 0.5171 - accuracy: 0.8162 - val_loss: 9.0964 - val_accuracy: 0.1052\n",
      "Epoch 2/30\n",
      "1719/1719 [==============================] - 6s 4ms/step - loss: 0.5150 - accuracy: 0.8168 - val_loss: 9.3810 - val_accuracy: 0.1064\n",
      "Epoch 3/30\n",
      "1719/1719 [==============================] - 6s 4ms/step - loss: 0.5124 - accuracy: 0.8175 - val_loss: 8.9794 - val_accuracy: 0.1044\n",
      "Epoch 4/30\n",
      "1719/1719 [==============================] - 6s 3ms/step - loss: 0.5136 - accuracy: 0.8182 - val_loss: 9.3411 - val_accuracy: 0.1046\n",
      "Epoch 5/30\n",
      "1719/1719 [==============================] - 6s 4ms/step - loss: 0.5119 - accuracy: 0.8187 - val_loss: 9.6778 - val_accuracy: 0.1060\n",
      "Epoch 6/30\n",
      "1719/1719 [==============================] - 7s 4ms/step - loss: 0.5157 - accuracy: 0.8162 - val_loss: 9.1390 - val_accuracy: 0.1040\n",
      "Epoch 7/30\n",
      "1719/1719 [==============================] - 6s 4ms/step - loss: 0.5112 - accuracy: 0.8186 - val_loss: 9.6934 - val_accuracy: 0.1056\n",
      "Epoch 8/30\n",
      "1719/1719 [==============================] - 6s 4ms/step - loss: 0.5119 - accuracy: 0.8191 - val_loss: 9.7218 - val_accuracy: 0.1046\n",
      "Epoch 9/30\n",
      "1719/1719 [==============================] - 6s 4ms/step - loss: 0.5108 - accuracy: 0.8202 - val_loss: 8.9604 - val_accuracy: 0.1050\n",
      "Epoch 10/30\n",
      "1719/1719 [==============================] - 6s 4ms/step - loss: 0.5074 - accuracy: 0.8193 - val_loss: 9.6025 - val_accuracy: 0.1036\n",
      "Epoch 11/30\n",
      "1719/1719 [==============================] - 6s 4ms/step - loss: 0.5098 - accuracy: 0.8206 - val_loss: 9.4638 - val_accuracy: 0.1038\n",
      "Epoch 12/30\n",
      "1719/1719 [==============================] - 6s 4ms/step - loss: 0.5039 - accuracy: 0.8219 - val_loss: 9.7405 - val_accuracy: 0.1038\n",
      "Epoch 13/30\n",
      "1719/1719 [==============================] - 6s 4ms/step - loss: 0.5039 - accuracy: 0.8218 - val_loss: 9.7269 - val_accuracy: 0.1030\n",
      "Epoch 14/30\n",
      "1719/1719 [==============================] - 6s 4ms/step - loss: 0.5000 - accuracy: 0.8229 - val_loss: 9.5793 - val_accuracy: 0.1032\n",
      "Epoch 15/30\n",
      "1719/1719 [==============================] - 6s 4ms/step - loss: 0.5023 - accuracy: 0.8223 - val_loss: 9.4611 - val_accuracy: 0.1024\n",
      "Epoch 16/30\n",
      "1719/1719 [==============================] - 6s 4ms/step - loss: 0.4983 - accuracy: 0.8233 - val_loss: 9.4916 - val_accuracy: 0.1044\n",
      "Epoch 17/30\n",
      "1719/1719 [==============================] - 6s 4ms/step - loss: 0.4950 - accuracy: 0.8241 - val_loss: 9.9297 - val_accuracy: 0.1040\n",
      "Epoch 18/30\n",
      "1719/1719 [==============================] - 6s 4ms/step - loss: 0.4939 - accuracy: 0.8236 - val_loss: 9.6099 - val_accuracy: 0.1070\n",
      "Epoch 19/30\n",
      "1719/1719 [==============================] - 6s 4ms/step - loss: 0.4926 - accuracy: 0.8256 - val_loss: 9.9626 - val_accuracy: 0.1054\n",
      "Epoch 20/30\n",
      "1719/1719 [==============================] - 7s 4ms/step - loss: 0.4902 - accuracy: 0.8259 - val_loss: 9.8587 - val_accuracy: 0.1076\n",
      "Epoch 21/30\n",
      "1719/1719 [==============================] - 7s 4ms/step - loss: 0.4891 - accuracy: 0.8265 - val_loss: 9.9318 - val_accuracy: 0.1056\n",
      "Epoch 22/30\n",
      "1719/1719 [==============================] - 6s 4ms/step - loss: 0.4908 - accuracy: 0.8265 - val_loss: 9.4851 - val_accuracy: 0.1034\n",
      "Epoch 23/30\n",
      "1719/1719 [==============================] - 6s 4ms/step - loss: 0.4877 - accuracy: 0.8261 - val_loss: 9.8301 - val_accuracy: 0.1052\n",
      "Epoch 24/30\n",
      "1719/1719 [==============================] - 6s 4ms/step - loss: 0.4893 - accuracy: 0.8269 - val_loss: 9.7384 - val_accuracy: 0.1026\n",
      "Epoch 25/30\n",
      "1719/1719 [==============================] - 6s 4ms/step - loss: 0.4835 - accuracy: 0.8271 - val_loss: 10.0005 - val_accuracy: 0.1036\n",
      "Epoch 26/30\n",
      "1719/1719 [==============================] - 6s 4ms/step - loss: 0.4817 - accuracy: 0.8285 - val_loss: 10.0712 - val_accuracy: 0.1046\n",
      "Epoch 27/30\n",
      "1719/1719 [==============================] - 6s 4ms/step - loss: 0.4827 - accuracy: 0.8292 - val_loss: 10.0849 - val_accuracy: 0.1052\n",
      "Epoch 28/30\n",
      "1719/1719 [==============================] - 6s 4ms/step - loss: 0.4789 - accuracy: 0.8292 - val_loss: 9.6196 - val_accuracy: 0.1040\n",
      "Epoch 29/30\n",
      "1719/1719 [==============================] - 6s 4ms/step - loss: 0.4801 - accuracy: 0.8300 - val_loss: 9.9701 - val_accuracy: 0.1030\n",
      "Epoch 30/30\n",
      "1719/1719 [==============================] - 6s 4ms/step - loss: 0.4785 - accuracy: 0.8288 - val_loss: 9.8447 - val_accuracy: 0.1058\n"
     ]
    }
   ],
   "source": [
    "cnn_model.compile(loss=\"sparse_categorical_crossentropy\", optimizer=tf.keras.optimizers.legacy.SGD(learning_rate=0.001, momentum=0.9, nesterov=True), metrics=[\"accuracy\"])\n",
    "history = cnn_model.fit(X_train, y_train, epochs=30, validation_data=(X_valid, y_valid))"
   ]
  },
  {
   "cell_type": "code",
   "execution_count": 107,
   "metadata": {},
   "outputs": [
    {
     "name": "stdout",
     "output_type": "stream",
     "text": [
      "313/313 [==============================] - 0s 2ms/step - loss: 0.4720 - accuracy: 0.8322\n"
     ]
    },
    {
     "data": {
      "text/plain": [
       "[0.4719814360141754, 0.8321999907493591]"
      ]
     },
     "execution_count": 107,
     "metadata": {},
     "output_type": "execute_result"
    }
   ],
   "source": [
    "cnn_model.evaluate(X_test, y_test)"
   ]
  },
  {
   "cell_type": "code",
   "execution_count": 7,
   "metadata": {},
   "outputs": [
    {
     "name": "stdout",
     "output_type": "stream",
     "text": [
      "tf.Tensor(\n",
      "[9 6 7 8 2 4 2 2 7 2 3 8 0 6 5 8 1 7 4 5 8 9 8 1 4 7 2 8 4 2 5 1 2 9 1 7 3\n",
      " 8 4 6 4 0 8 9 7 0 4 1 3 0 0 5 5 1 5 5 4 3 8 8 6 5 8 2 3 7 2 9 3 3 6 6 3 6\n",
      " 8 2 1 2 8 9 0 8 3 8 2 5 1 3 5 7 3 9 0 3 4 7 4 6 7 3], shape=(100,), dtype=int64)\n"
     ]
    }
   ],
   "source": [
    "datasets = tfds.load(name=\"mnist\")\n",
    "mnist_train, mnist_test = datasets[\"train\"], datasets[\"test\"]\n",
    "\n",
    "for batch in mnist_train.shuffle(10_000, seed=42).batch(100).prefetch(1):\n",
    "    images = batch[\"image\"]\n",
    "    labels = batch[\"label\"]\n",
    "\n",
    "train_x = images\n",
    "train_y = labels\n",
    "\n",
    "print(train_y)"
   ]
  },
  {
   "cell_type": "code",
   "execution_count": 39,
   "metadata": {},
   "outputs": [],
   "source": [
    "cnn_model_prefetched = tf.keras.Sequential([\n",
    "    tf.keras.layers.Conv2D(\n",
    "        filters=64,\n",
    "        kernel_size = 2,\n",
    "        strides=(2,2),\n",
    "        input_shape = (28,28,1),\n",
    "        activation = \"mish\",\n",
    "        padding = \"same\",\n",
    "        kernel_initializer=tf.keras.initializers.HeNormal()),\n",
    "    tf.keras.layers.BatchNormalization(),\n",
    "    tf.keras.layers.MaxPooling2D(),\n",
    "    tf.keras.layers.BatchNormalization(),\n",
    "    tf.keras.layers.Conv2D(\n",
    "        filters=64,\n",
    "        kernel_size = 2,\n",
    "        strides=(2,2),\n",
    "        activation = \"mish\",\n",
    "        padding = \"same\",\n",
    "        kernel_initializer=tf.keras.initializers.HeNormal()),\n",
    "    tf.keras.layers.Conv2D(\n",
    "        filters=64,\n",
    "        kernel_size = 2,\n",
    "        strides=(2,2),\n",
    "        activation = \"mish\",\n",
    "        padding = \"same\",\n",
    "        kernel_initializer=tf.keras.initializers.HeNormal()),\n",
    "    tf.keras.layers.BatchNormalization(),\n",
    "    tf.keras.layers.MaxPooling2D(),\n",
    "    tf.keras.layers.Conv2D(\n",
    "        filters=64,\n",
    "        kernel_size = 2,\n",
    "        strides=(2,2),\n",
    "        activation = \"mish\",\n",
    "        padding = \"same\",\n",
    "        kernel_initializer=tf.keras.initializers.HeNormal()),\n",
    "    tf.keras.layers.BatchNormalization(),\n",
    "    tf.keras.layers.Flatten(),\n",
    "    tf.keras.layers.Dense(100, activation = \"mish\", kernel_initializer=tf.keras.initializers.HeNormal()),\n",
    "    tf.keras.layers.Dropout(0.5),\n",
    "    tf.keras.layers.Dense(100, activation = \"mish\", kernel_initializer=tf.keras.initializers.HeNormal()),\n",
    "    tf.keras.layers.Dropout(0.5),\n",
    "    tf.keras.layers.Dense(10, activation=\"softmax\")\n",
    "])"
   ]
  },
  {
   "cell_type": "code",
   "execution_count": 41,
   "metadata": {},
   "outputs": [
    {
     "name": "stdout",
     "output_type": "stream",
     "text": [
      "Epoch 1/20\n",
      "1719/1719 [==============================] - 8s 5ms/step - loss: 0.2675 - accuracy: 0.9089 - val_loss: 11.8278 - val_accuracy: 0.1000\n",
      "Epoch 2/20\n",
      "1719/1719 [==============================] - 8s 4ms/step - loss: 0.2628 - accuracy: 0.9090 - val_loss: 11.8520 - val_accuracy: 0.0992\n",
      "Epoch 3/20\n",
      "1719/1719 [==============================] - 8s 5ms/step - loss: 0.2568 - accuracy: 0.9131 - val_loss: 11.9164 - val_accuracy: 0.1016\n",
      "Epoch 4/20\n",
      "1719/1719 [==============================] - 8s 4ms/step - loss: 0.2538 - accuracy: 0.9126 - val_loss: 11.7571 - val_accuracy: 0.1016\n",
      "Epoch 5/20\n",
      "1719/1719 [==============================] - 8s 5ms/step - loss: 0.2511 - accuracy: 0.9147 - val_loss: 12.0712 - val_accuracy: 0.1004\n",
      "Epoch 6/20\n",
      "1719/1719 [==============================] - 8s 5ms/step - loss: 0.2451 - accuracy: 0.9160 - val_loss: 12.4177 - val_accuracy: 0.1018\n",
      "Epoch 7/20\n",
      "1719/1719 [==============================] - 8s 4ms/step - loss: 0.2414 - accuracy: 0.9171 - val_loss: 12.4586 - val_accuracy: 0.1000\n",
      "Epoch 8/20\n",
      "1719/1719 [==============================] - 8s 5ms/step - loss: 0.2355 - accuracy: 0.9194 - val_loss: 12.4699 - val_accuracy: 0.1016\n",
      "Epoch 9/20\n",
      "1719/1719 [==============================] - 8s 5ms/step - loss: 0.2337 - accuracy: 0.9185 - val_loss: 12.6658 - val_accuracy: 0.1014\n",
      "Epoch 10/20\n",
      "1719/1719 [==============================] - 8s 5ms/step - loss: 0.2350 - accuracy: 0.9183 - val_loss: 12.4961 - val_accuracy: 0.1018\n",
      "Epoch 11/20\n",
      "1719/1719 [==============================] - 8s 5ms/step - loss: 0.2291 - accuracy: 0.9213 - val_loss: 12.6119 - val_accuracy: 0.1020\n",
      "Epoch 12/20\n",
      "1719/1719 [==============================] - 8s 5ms/step - loss: 0.2272 - accuracy: 0.9225 - val_loss: 13.1350 - val_accuracy: 0.0992\n",
      "Epoch 13/20\n",
      "1719/1719 [==============================] - 8s 5ms/step - loss: 0.2252 - accuracy: 0.9235 - val_loss: 12.5834 - val_accuracy: 0.1034\n",
      "Epoch 14/20\n",
      "1719/1719 [==============================] - 8s 5ms/step - loss: 0.2233 - accuracy: 0.9230 - val_loss: 13.1102 - val_accuracy: 0.1020\n",
      "Epoch 15/20\n",
      "1719/1719 [==============================] - 8s 5ms/step - loss: 0.2136 - accuracy: 0.9249 - val_loss: 13.1780 - val_accuracy: 0.1000\n",
      "Epoch 16/20\n",
      "1719/1719 [==============================] - 8s 5ms/step - loss: 0.2111 - accuracy: 0.9277 - val_loss: 13.1153 - val_accuracy: 0.1004\n",
      "Epoch 17/20\n",
      "1719/1719 [==============================] - 8s 5ms/step - loss: 0.2112 - accuracy: 0.9265 - val_loss: 13.5676 - val_accuracy: 0.1012\n",
      "Epoch 18/20\n",
      "1719/1719 [==============================] - 8s 5ms/step - loss: 0.2067 - accuracy: 0.9286 - val_loss: 13.2840 - val_accuracy: 0.1018\n",
      "Epoch 19/20\n",
      "1719/1719 [==============================] - 8s 5ms/step - loss: 0.2055 - accuracy: 0.9307 - val_loss: 13.4090 - val_accuracy: 0.1010\n",
      "Epoch 20/20\n",
      "1719/1719 [==============================] - 8s 5ms/step - loss: 0.2053 - accuracy: 0.9288 - val_loss: 13.8041 - val_accuracy: 0.1010\n"
     ]
    }
   ],
   "source": [
    "cnn_model_prefetched.compile(loss=\"sparse_categorical_crossentropy\", optimizer=tf.keras.optimizers.legacy.SGD(learning_rate=0.001, momentum=0.9, nesterov=True), metrics=[\"accuracy\"])\n",
    "history = cnn_model_prefetched.fit(X_train, y_train, epochs=20, validation_data=(X_valid, y_valid))"
   ]
  },
  {
   "cell_type": "code",
   "execution_count": 42,
   "metadata": {},
   "outputs": [
    {
     "name": "stdout",
     "output_type": "stream",
     "text": [
      "313/313 [==============================] - 1s 2ms/step - loss: 0.3193 - accuracy: 0.8986\n"
     ]
    },
    {
     "data": {
      "text/plain": [
       "[0.3193347752094269, 0.8985999822616577]"
      ]
     },
     "execution_count": 42,
     "metadata": {},
     "output_type": "execute_result"
    }
   ],
   "source": [
    "cnn_model_prefetched.evaluate(X_test, y_test)"
   ]
  }
 ],
 "metadata": {
  "kernelspec": {
   "display_name": ".brain_mets_env",
   "language": "python",
   "name": "python3"
  },
  "language_info": {
   "codemirror_mode": {
    "name": "ipython",
    "version": 3
   },
   "file_extension": ".py",
   "mimetype": "text/x-python",
   "name": "python",
   "nbconvert_exporter": "python",
   "pygments_lexer": "ipython3",
   "version": "3.11.0"
  }
 },
 "nbformat": 4,
 "nbformat_minor": 2
}
