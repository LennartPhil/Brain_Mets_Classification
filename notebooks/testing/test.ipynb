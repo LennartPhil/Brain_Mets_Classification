{
 "cells": [
  {
   "cell_type": "code",
   "execution_count": 1,
   "metadata": {},
   "outputs": [],
   "source": [
    "import tensorflow as tf\n",
    "import tensorflow_datasets as tfds"
   ]
  },
  {
   "cell_type": "code",
   "execution_count": 7,
   "metadata": {},
   "outputs": [],
   "source": [
    "fashion_mnist = tf.keras.datasets.fashion_mnist.load_data()\n",
    "(X_train_full, y_train_full), (X_test, y_test) = fashion_mnist\n",
    "X_train, y_train = X_train_full[:-5000], y_train_full[:-5000]\n",
    "X_valid, y_valid = X_train[-5000:], y_train_full[-5000:]"
   ]
  },
  {
   "cell_type": "code",
   "execution_count": 8,
   "metadata": {},
   "outputs": [],
   "source": [
    "X_train, X_valid, X_test = X_train / 255., X_valid / 255., X_test / 255.\n",
    "class_names = [\"T-shirt/top\", \"Trouser\", \"Pullover\", \"Dress\", \"Coat\", \"Sandal\", \"Shirt\", \"Sneaker\", \"Bag\", \"Ankle boot\"]"
   ]
  },
  {
   "cell_type": "code",
   "execution_count": 61,
   "metadata": {},
   "outputs": [],
   "source": [
    "tf.keras.utils.set_random_seed(42)\n",
    "mode = tf.keras.Sequential([\n",
    "    tf.keras.layers.Input(shape=[28,28]),\n",
    "    tf.keras.layers.BatchNormalization(),\n",
    "    tf.keras.layers.Flatten(),\n",
    "    tf.keras.layers.Dense(300, activation=\"relu\"),\n",
    "    tf.keras.layers.Dense(100, activation=\"relu\"),\n",
    "    tf.keras.layers.Dense(10, activation=\"softmax\")\n",
    "])"
   ]
  },
  {
   "cell_type": "code",
   "execution_count": 102,
   "metadata": {},
   "outputs": [],
   "source": [
    "cnn_model = tf.keras.Sequential([\n",
    "    tf.keras.layers.Conv2D(\n",
    "        filters=64,\n",
    "        kernel_size = 2,\n",
    "        strides=(2,2),\n",
    "        input_shape = (28,28,1),\n",
    "        activation = \"mish\",\n",
    "        kernel_initializer=tf.keras.initializers.HeNormal()),\n",
    "    tf.keras.layers.BatchNormalization(),\n",
    "    tf.keras.layers.MaxPooling2D(),\n",
    "    tf.keras.layers.BatchNormalization(),\n",
    "    tf.keras.layers.Conv2D(\n",
    "        filters=64,\n",
    "        kernel_size = 2,\n",
    "        strides=(2,2),\n",
    "        activation = \"mish\",\n",
    "        kernel_initializer=tf.keras.initializers.HeNormal()),\n",
    "    tf.keras.layers.BatchNormalization(),\n",
    "    tf.keras.layers.MaxPooling2D(pool_size = (2,2)),\n",
    "    tf.keras.layers.BatchNormalization(),\n",
    "    tf.keras.layers.Flatten(),\n",
    "    tf.keras.layers.Dense(100, activation = \"mish\", kernel_initializer=tf.keras.initializers.HeNormal()),\n",
    "    tf.keras.layers.Dropout(0.5),\n",
    "    tf.keras.layers.Dense(100, activation = \"mish\", kernel_initializer=tf.keras.initializers.HeNormal()),\n",
    "    tf.keras.layers.Dropout(0.5),\n",
    "    tf.keras.layers.Dense(10, activation=\"softmax\")\n",
    "])"
   ]
  },
  {
   "cell_type": "code",
   "execution_count": null,
   "metadata": {},
   "outputs": [],
   "source": [
    "cnn_model.build()\n",
    "cnn_model.summary()"
   ]
  },
  {
   "cell_type": "code",
   "execution_count": 106,
   "metadata": {},
   "outputs": [
    {
     "name": "stdout",
     "output_type": "stream",
     "text": [
      "Epoch 1/30\n",
      "1719/1719 [==============================] - 7s 4ms/step - loss: 0.5171 - accuracy: 0.8162 - val_loss: 9.0964 - val_accuracy: 0.1052\n",
      "Epoch 2/30\n",
      "1719/1719 [==============================] - 6s 4ms/step - loss: 0.5150 - accuracy: 0.8168 - val_loss: 9.3810 - val_accuracy: 0.1064\n",
      "Epoch 3/30\n",
      "1719/1719 [==============================] - 6s 4ms/step - loss: 0.5124 - accuracy: 0.8175 - val_loss: 8.9794 - val_accuracy: 0.1044\n",
      "Epoch 4/30\n",
      "1719/1719 [==============================] - 6s 3ms/step - loss: 0.5136 - accuracy: 0.8182 - val_loss: 9.3411 - val_accuracy: 0.1046\n",
      "Epoch 5/30\n",
      "1719/1719 [==============================] - 6s 4ms/step - loss: 0.5119 - accuracy: 0.8187 - val_loss: 9.6778 - val_accuracy: 0.1060\n",
      "Epoch 6/30\n",
      "1719/1719 [==============================] - 7s 4ms/step - loss: 0.5157 - accuracy: 0.8162 - val_loss: 9.1390 - val_accuracy: 0.1040\n",
      "Epoch 7/30\n",
      "1719/1719 [==============================] - 6s 4ms/step - loss: 0.5112 - accuracy: 0.8186 - val_loss: 9.6934 - val_accuracy: 0.1056\n",
      "Epoch 8/30\n",
      "1719/1719 [==============================] - 6s 4ms/step - loss: 0.5119 - accuracy: 0.8191 - val_loss: 9.7218 - val_accuracy: 0.1046\n",
      "Epoch 9/30\n",
      "1719/1719 [==============================] - 6s 4ms/step - loss: 0.5108 - accuracy: 0.8202 - val_loss: 8.9604 - val_accuracy: 0.1050\n",
      "Epoch 10/30\n",
      "1719/1719 [==============================] - 6s 4ms/step - loss: 0.5074 - accuracy: 0.8193 - val_loss: 9.6025 - val_accuracy: 0.1036\n",
      "Epoch 11/30\n",
      "1719/1719 [==============================] - 6s 4ms/step - loss: 0.5098 - accuracy: 0.8206 - val_loss: 9.4638 - val_accuracy: 0.1038\n",
      "Epoch 12/30\n",
      "1719/1719 [==============================] - 6s 4ms/step - loss: 0.5039 - accuracy: 0.8219 - val_loss: 9.7405 - val_accuracy: 0.1038\n",
      "Epoch 13/30\n",
      "1719/1719 [==============================] - 6s 4ms/step - loss: 0.5039 - accuracy: 0.8218 - val_loss: 9.7269 - val_accuracy: 0.1030\n",
      "Epoch 14/30\n",
      "1719/1719 [==============================] - 6s 4ms/step - loss: 0.5000 - accuracy: 0.8229 - val_loss: 9.5793 - val_accuracy: 0.1032\n",
      "Epoch 15/30\n",
      "1719/1719 [==============================] - 6s 4ms/step - loss: 0.5023 - accuracy: 0.8223 - val_loss: 9.4611 - val_accuracy: 0.1024\n",
      "Epoch 16/30\n",
      "1719/1719 [==============================] - 6s 4ms/step - loss: 0.4983 - accuracy: 0.8233 - val_loss: 9.4916 - val_accuracy: 0.1044\n",
      "Epoch 17/30\n",
      "1719/1719 [==============================] - 6s 4ms/step - loss: 0.4950 - accuracy: 0.8241 - val_loss: 9.9297 - val_accuracy: 0.1040\n",
      "Epoch 18/30\n",
      "1719/1719 [==============================] - 6s 4ms/step - loss: 0.4939 - accuracy: 0.8236 - val_loss: 9.6099 - val_accuracy: 0.1070\n",
      "Epoch 19/30\n",
      "1719/1719 [==============================] - 6s 4ms/step - loss: 0.4926 - accuracy: 0.8256 - val_loss: 9.9626 - val_accuracy: 0.1054\n",
      "Epoch 20/30\n",
      "1719/1719 [==============================] - 7s 4ms/step - loss: 0.4902 - accuracy: 0.8259 - val_loss: 9.8587 - val_accuracy: 0.1076\n",
      "Epoch 21/30\n",
      "1719/1719 [==============================] - 7s 4ms/step - loss: 0.4891 - accuracy: 0.8265 - val_loss: 9.9318 - val_accuracy: 0.1056\n",
      "Epoch 22/30\n",
      "1719/1719 [==============================] - 6s 4ms/step - loss: 0.4908 - accuracy: 0.8265 - val_loss: 9.4851 - val_accuracy: 0.1034\n",
      "Epoch 23/30\n",
      "1719/1719 [==============================] - 6s 4ms/step - loss: 0.4877 - accuracy: 0.8261 - val_loss: 9.8301 - val_accuracy: 0.1052\n",
      "Epoch 24/30\n",
      "1719/1719 [==============================] - 6s 4ms/step - loss: 0.4893 - accuracy: 0.8269 - val_loss: 9.7384 - val_accuracy: 0.1026\n",
      "Epoch 25/30\n",
      "1719/1719 [==============================] - 6s 4ms/step - loss: 0.4835 - accuracy: 0.8271 - val_loss: 10.0005 - val_accuracy: 0.1036\n",
      "Epoch 26/30\n",
      "1719/1719 [==============================] - 6s 4ms/step - loss: 0.4817 - accuracy: 0.8285 - val_loss: 10.0712 - val_accuracy: 0.1046\n",
      "Epoch 27/30\n",
      "1719/1719 [==============================] - 6s 4ms/step - loss: 0.4827 - accuracy: 0.8292 - val_loss: 10.0849 - val_accuracy: 0.1052\n",
      "Epoch 28/30\n",
      "1719/1719 [==============================] - 6s 4ms/step - loss: 0.4789 - accuracy: 0.8292 - val_loss: 9.6196 - val_accuracy: 0.1040\n",
      "Epoch 29/30\n",
      "1719/1719 [==============================] - 6s 4ms/step - loss: 0.4801 - accuracy: 0.8300 - val_loss: 9.9701 - val_accuracy: 0.1030\n",
      "Epoch 30/30\n",
      "1719/1719 [==============================] - 6s 4ms/step - loss: 0.4785 - accuracy: 0.8288 - val_loss: 9.8447 - val_accuracy: 0.1058\n"
     ]
    }
   ],
   "source": [
    "cnn_model.compile(loss=\"sparse_categorical_crossentropy\", optimizer=tf.keras.optimizers.legacy.SGD(learning_rate=0.001, momentum=0.9, nesterov=True), metrics=[\"accuracy\"])\n",
    "history = cnn_model.fit(X_train, y_train, epochs=30, validation_data=(X_valid, y_valid))"
   ]
  },
  {
   "cell_type": "code",
   "execution_count": 107,
   "metadata": {},
   "outputs": [
    {
     "name": "stdout",
     "output_type": "stream",
     "text": [
      "313/313 [==============================] - 0s 2ms/step - loss: 0.4720 - accuracy: 0.8322\n"
     ]
    },
    {
     "data": {
      "text/plain": [
       "[0.4719814360141754, 0.8321999907493591]"
      ]
     },
     "execution_count": 107,
     "metadata": {},
     "output_type": "execute_result"
    }
   ],
   "source": [
    "cnn_model.evaluate(X_test, y_test)"
   ]
  },
  {
   "cell_type": "code",
   "execution_count": 2,
   "metadata": {},
   "outputs": [
    {
     "name": "stdout",
     "output_type": "stream",
     "text": [
      "tf.Tensor(\n",
      "[9 6 7 8 2 4 2 2 7 2 3 8 0 6 5 8 1 7 4 5 8 9 8 1 4 7 2 8 4 2 5 1 2 9 1 7 3\n",
      " 8 4 6 4 0 8 9 7 0 4 1 3 0 0 5 5 1 5 5 4 3 8 8 6 5 8 2 3 7 2 9 3 3 6 6 3 6\n",
      " 8 2 1 2 8 9 0 8 3 8 2 5 1 3 5 7 3 9 0 3 4 7 4 6 7 3], shape=(100,), dtype=int64)\n"
     ]
    }
   ],
   "source": [
    "datasets = tfds.load(name=\"mnist\")\n",
    "mnist_train, mnist_test = datasets[\"train\"], datasets[\"test\"]\n",
    "\n",
    "for batch in mnist_train.shuffle(10_000, seed=42).batch(100).prefetch(1):\n",
    "    images = batch[\"image\"]\n",
    "    labels = batch[\"label\"]\n",
    "\n",
    "train_x = images\n",
    "train_y = labels\n",
    "\n",
    "print(train_y)"
   ]
  },
  {
   "cell_type": "code",
   "execution_count": 3,
   "metadata": {},
   "outputs": [],
   "source": [
    "cnn_model_prefetched = tf.keras.Sequential([\n",
    "    tf.keras.layers.Conv2D(\n",
    "        filters=64,\n",
    "        kernel_size = 2,\n",
    "        strides=(2,2),\n",
    "        input_shape = (28,28,1),\n",
    "        activation = \"mish\",\n",
    "        padding = \"same\",\n",
    "        kernel_initializer=tf.keras.initializers.HeNormal()),\n",
    "    tf.keras.layers.BatchNormalization(),\n",
    "    tf.keras.layers.MaxPooling2D(),\n",
    "    tf.keras.layers.BatchNormalization(),\n",
    "    tf.keras.layers.Conv2D(\n",
    "        filters=64,\n",
    "        kernel_size = 2,\n",
    "        strides=(2,2),\n",
    "        activation = \"mish\",\n",
    "        padding = \"same\",\n",
    "        kernel_initializer=tf.keras.initializers.HeNormal()),\n",
    "    tf.keras.layers.Conv2D(\n",
    "        filters=64,\n",
    "        kernel_size = 2,\n",
    "        strides=(2,2),\n",
    "        activation = \"mish\",\n",
    "        padding = \"same\",\n",
    "        kernel_initializer=tf.keras.initializers.HeNormal()),\n",
    "    tf.keras.layers.BatchNormalization(),\n",
    "    tf.keras.layers.MaxPooling2D(),\n",
    "    tf.keras.layers.Conv2D(\n",
    "        filters=64,\n",
    "        kernel_size = 2,\n",
    "        strides=(2,2),\n",
    "        activation = \"mish\",\n",
    "        padding = \"same\",\n",
    "        kernel_initializer=tf.keras.initializers.HeNormal()),\n",
    "    tf.keras.layers.BatchNormalization(),\n",
    "    tf.keras.layers.Flatten(),\n",
    "    tf.keras.layers.Dense(300, activation = \"mish\", kernel_initializer=tf.keras.initializers.HeNormal()),\n",
    "    tf.keras.layers.Dropout(0.5),\n",
    "    tf.keras.layers.Dense(300, activation = \"mish\", kernel_initializer=tf.keras.initializers.HeNormal()),\n",
    "    tf.keras.layers.Dropout(0.5),\n",
    "    tf.keras.layers.Dense(300, activation = \"mish\", kernel_initializer=tf.keras.initializers.HeNormal()),\n",
    "    tf.keras.layers.Dropout(0.5),\n",
    "    tf.keras.layers.Dense(10, activation=\"softmax\")\n",
    "])"
   ]
  },
  {
   "cell_type": "code",
   "execution_count": 14,
   "metadata": {},
   "outputs": [
    {
     "name": "stdout",
     "output_type": "stream",
     "text": [
      "Model: \"sequential\"\n",
      "_________________________________________________________________\n",
      " Layer (type)                Output Shape              Param #   \n",
      "=================================================================\n",
      " conv2d (Conv2D)             (None, 14, 14, 64)        320       \n",
      "                                                                 \n",
      " batch_normalization (Batch  (None, 14, 14, 64)        256       \n",
      " Normalization)                                                  \n",
      "                                                                 \n",
      " max_pooling2d (MaxPooling2  (None, 7, 7, 64)          0         \n",
      " D)                                                              \n",
      "                                                                 \n",
      " batch_normalization_1 (Bat  (None, 7, 7, 64)          256       \n",
      " chNormalization)                                                \n",
      "                                                                 \n",
      " conv2d_1 (Conv2D)           (None, 4, 4, 64)          16448     \n",
      "                                                                 \n",
      " conv2d_2 (Conv2D)           (None, 2, 2, 64)          16448     \n",
      "                                                                 \n",
      " batch_normalization_2 (Bat  (None, 2, 2, 64)          256       \n",
      " chNormalization)                                                \n",
      "                                                                 \n",
      " max_pooling2d_1 (MaxPoolin  (None, 1, 1, 64)          0         \n",
      " g2D)                                                            \n",
      "                                                                 \n",
      " conv2d_3 (Conv2D)           (None, 1, 1, 64)          16448     \n",
      "                                                                 \n",
      " batch_normalization_3 (Bat  (None, 1, 1, 64)          256       \n",
      " chNormalization)                                                \n",
      "                                                                 \n",
      " flatten (Flatten)           (None, 64)                0         \n",
      "                                                                 \n",
      " dense (Dense)               (None, 300)               19500     \n",
      "                                                                 \n",
      " dropout (Dropout)           (None, 300)               0         \n",
      "                                                                 \n",
      " dense_1 (Dense)             (None, 300)               90300     \n",
      "                                                                 \n",
      " dropout_1 (Dropout)         (None, 300)               0         \n",
      "                                                                 \n",
      " dense_2 (Dense)             (None, 300)               90300     \n",
      "                                                                 \n",
      " dropout_2 (Dropout)         (None, 300)               0         \n",
      "                                                                 \n",
      " dense_3 (Dense)             (None, 10)                3010      \n",
      "                                                                 \n",
      "=================================================================\n",
      "Total params: 253798 (991.40 KB)\n",
      "Trainable params: 253286 (989.40 KB)\n",
      "Non-trainable params: 512 (2.00 KB)\n",
      "_________________________________________________________________\n"
     ]
    }
   ],
   "source": [
    "cnn_model_prefetched.build()\n",
    "cnn_model_prefetched.summary()"
   ]
  },
  {
   "cell_type": "code",
   "execution_count": 1,
   "metadata": {},
   "outputs": [
    {
     "ename": "NameError",
     "evalue": "name 'cnn_model_prefetched' is not defined",
     "output_type": "error",
     "traceback": [
      "\u001b[0;31m---------------------------------------------------------------------------\u001b[0m",
      "\u001b[0;31mNameError\u001b[0m                                 Traceback (most recent call last)",
      "Cell \u001b[0;32mIn[1], line 1\u001b[0m\n\u001b[0;32m----> 1\u001b[0m \u001b[43mcnn_model_prefetched\u001b[49m\u001b[38;5;241m.\u001b[39mcompile(loss\u001b[38;5;241m=\u001b[39m\u001b[38;5;124m\"\u001b[39m\u001b[38;5;124msparse_categorical_crossentropy\u001b[39m\u001b[38;5;124m\"\u001b[39m, optimizer\u001b[38;5;241m=\u001b[39mtf\u001b[38;5;241m.\u001b[39mkeras\u001b[38;5;241m.\u001b[39moptimizers\u001b[38;5;241m.\u001b[39mlegacy\u001b[38;5;241m.\u001b[39mSGD(learning_rate\u001b[38;5;241m=\u001b[39m\u001b[38;5;241m0.0001\u001b[39m, momentum\u001b[38;5;241m=\u001b[39m\u001b[38;5;241m0.9\u001b[39m, nesterov\u001b[38;5;241m=\u001b[39m\u001b[38;5;28;01mTrue\u001b[39;00m), metrics\u001b[38;5;241m=\u001b[39m[\u001b[38;5;124m\"\u001b[39m\u001b[38;5;124maccuracy\u001b[39m\u001b[38;5;124m\"\u001b[39m])\n\u001b[1;32m      2\u001b[0m history \u001b[38;5;241m=\u001b[39m cnn_model_prefetched\u001b[38;5;241m.\u001b[39mfit(train_x, train_y, batch_size\u001b[38;5;241m=\u001b[39m\u001b[38;5;241m100\u001b[39m, epochs\u001b[38;5;241m=\u001b[39m\u001b[38;5;241m100\u001b[39m, validation_data\u001b[38;5;241m=\u001b[39m(X_valid, y_valid))\n",
      "\u001b[0;31mNameError\u001b[0m: name 'cnn_model_prefetched' is not defined"
     ]
    }
   ],
   "source": [
    "cnn_model_prefetched.compile(loss=\"sparse_categorical_crossentropy\", optimizer=tf.keras.optimizers.legacy.SGD(learning_rate=0.0001, momentum=0.9, nesterov=True), metrics=[\"accuracy\"])\n",
    "history = cnn_model_prefetched.fit(train_x, train_y, batch_size=100, epochs=100, validation_data=(X_valid, y_valid))"
   ]
  },
  {
   "cell_type": "code",
   "execution_count": 16,
   "metadata": {},
   "outputs": [
    {
     "name": "stdout",
     "output_type": "stream",
     "text": [
      "313/313 [==============================] - 1s 2ms/step - loss: 67.0497 - accuracy: 0.1175\n"
     ]
    },
    {
     "data": {
      "text/plain": [
       "[67.04971313476562, 0.11749999970197678]"
      ]
     },
     "execution_count": 16,
     "metadata": {},
     "output_type": "execute_result"
    }
   ],
   "source": [
    "cnn_model_prefetched.evaluate(X_test, y_test)"
   ]
  }
 ],
 "metadata": {
  "kernelspec": {
   "display_name": ".brain_mets_env",
   "language": "python",
   "name": "python3"
  },
  "language_info": {
   "codemirror_mode": {
    "name": "ipython",
    "version": 3
   },
   "file_extension": ".py",
   "mimetype": "text/x-python",
   "name": "python",
   "nbconvert_exporter": "python",
   "pygments_lexer": "ipython3",
   "version": "3.11.0"
  }
 },
 "nbformat": 4,
 "nbformat_minor": 2
}
