{
 "cells": [
  {
   "cell_type": "markdown",
   "metadata": {},
   "source": [
    "# TFRecord Testing Station"
   ]
  },
  {
   "cell_type": "markdown",
   "metadata": {},
   "source": [
    "To-do:\n",
    "- train, val, test split"
   ]
  },
  {
   "cell_type": "markdown",
   "metadata": {},
   "source": [
    "I'm hoping to gain more insight into TFRecord and how to properly use them, 'cause right now, it doesn't seem to really work out that well and I don't know why"
   ]
  },
  {
   "cell_type": "code",
   "execution_count": 1,
   "metadata": {},
   "outputs": [],
   "source": [
    "import tensorflow as tf\n",
    "import os\n",
    "\n",
    "from pathlib import Path\n",
    "\n",
    "import matplotlib.pyplot as plt\n",
    "\n",
    "from functools import partial"
   ]
  },
  {
   "cell_type": "code",
   "execution_count": 12,
   "metadata": {},
   "outputs": [],
   "source": [
    "path_to_tfr = Path(\"/Volumes/BrainMets/Rgb_Brain_Mets/brain_mets_classification/derivatives/TFRecords/patient_data_2classes.tfrecord\")"
   ]
  },
  {
   "cell_type": "code",
   "execution_count": 9,
   "metadata": {},
   "outputs": [],
   "source": [
    "feature_description = {\n",
    "    \"image\": tf.io.FixedLenFeature([155, 240, 240, 4], tf.float32), # formerly: [149, 185, 155, 4]\n",
    "    \"sex\": tf.io.FixedLenFeature([2], tf.int64, default_value=[0,0]),\n",
    "    \"age\": tf.io.FixedLenFeature([], tf.int64, default_value=0),\n",
    "    \"primary\": tf.io.FixedLenFeature([], tf.int64, default_value=0),\n",
    "}\n",
    "\n",
    "data = tf.data.TFRecordDataset([path_to_tfr], compression_type=\"GZIP\")\n",
    "\n",
    "def parse_record(record):\n",
    "    return tf.io.parse_single_example(record, feature_description)\n",
    "\n",
    "data = data.map(parse_record)\n",
    "\n",
    "data = data.shuffle(buffer_size=1000)\n",
    "\n",
    "data = data.batch(4)\n",
    "\n",
    "data = data.prefetch(buffer_size=1)"
   ]
  },
  {
   "cell_type": "code",
   "execution_count": 10,
   "metadata": {},
   "outputs": [
    {
     "name": "stderr",
     "output_type": "stream",
     "text": [
      "2024-06-04 12:40:11.397293: I tensorflow/core/kernels/data/shuffle_dataset_op.cc:422] ShuffleDatasetV3:21: Filling up shuffle buffer (this may take a while): 26 of 1000\n",
      "2024-06-04 12:40:31.353378: I tensorflow/core/kernels/data/shuffle_dataset_op.cc:422] ShuffleDatasetV3:21: Filling up shuffle buffer (this may take a while): 76 of 1000\n",
      "2024-06-04 12:40:41.463648: I tensorflow/core/kernels/data/shuffle_dataset_op.cc:422] ShuffleDatasetV3:21: Filling up shuffle buffer (this may take a while): 102 of 1000\n",
      "2024-06-04 12:41:01.113769: I tensorflow/core/kernels/data/shuffle_dataset_op.cc:422] ShuffleDatasetV3:21: Filling up shuffle buffer (this may take a while): 152 of 1000\n",
      "2024-06-04 12:41:11.370729: I tensorflow/core/kernels/data/shuffle_dataset_op.cc:422] ShuffleDatasetV3:21: Filling up shuffle buffer (this may take a while): 177 of 1000\n",
      "2024-06-04 12:41:31.277364: I tensorflow/core/kernels/data/shuffle_dataset_op.cc:422] ShuffleDatasetV3:21: Filling up shuffle buffer (this may take a while): 226 of 1000\n",
      "2024-06-04 12:41:51.312407: I tensorflow/core/kernels/data/shuffle_dataset_op.cc:422] ShuffleDatasetV3:21: Filling up shuffle buffer (this may take a while): 275 of 1000\n",
      "2024-06-04 12:42:11.245254: I tensorflow/core/kernels/data/shuffle_dataset_op.cc:422] ShuffleDatasetV3:21: Filling up shuffle buffer (this may take a while): 324 of 1000\n",
      "2024-06-04 12:42:21.464135: I tensorflow/core/kernels/data/shuffle_dataset_op.cc:422] ShuffleDatasetV3:21: Filling up shuffle buffer (this may take a while): 349 of 1000\n",
      "2024-06-04 12:42:41.221905: I tensorflow/core/kernels/data/shuffle_dataset_op.cc:422] ShuffleDatasetV3:21: Filling up shuffle buffer (this may take a while): 398 of 1000\n",
      "2024-06-04 12:43:01.498412: I tensorflow/core/kernels/data/shuffle_dataset_op.cc:422] ShuffleDatasetV3:21: Filling up shuffle buffer (this may take a while): 448 of 1000\n",
      "2024-06-04 12:43:19.322681: I tensorflow/core/kernels/data/shuffle_dataset_op.cc:452] Shuffle buffer filled.\n"
     ]
    },
    {
     "name": "stdout",
     "output_type": "stream",
     "text": [
      "[[0 1]\n",
      " [1 0]\n",
      " [0 1]\n",
      " [1 0]]\n",
      "[68 63 56 66]\n",
      "[0 1 0 1]\n"
     ]
    }
   ],
   "source": [
    "for record in data.take(1):\n",
    "    print(record[\"sex\"].numpy())\n",
    "    print(record[\"age\"].numpy())\n",
    "    print(record[\"primary\"].numpy())"
   ]
  },
  {
   "cell_type": "code",
   "execution_count": 18,
   "metadata": {},
   "outputs": [
    {
     "name": "stdout",
     "output_type": "stream",
     "text": [
      "[[1 0]\n",
      " [0 1]\n",
      " [1 0]\n",
      " [1 0]\n",
      " [1 0]\n",
      " [1 0]]\n",
      "[71 30 58 66 25 47]\n",
      "[1 0 0 0 0 1]\n"
     ]
    }
   ],
   "source": [
    "trainig_fold_paths = [\n",
    "    \"/Users/LennartPhilipp/Desktop/Uni/Prowiss/Data.tmp/3D_CNN_whole/fold_2.tfrecord\",\n",
    "    \"/Users/LennartPhilipp/Desktop/Uni/Prowiss/Data.tmp/3D_CNN_whole/fold_3.tfrecord\"\n",
    "]\n",
    "\n",
    "val_fold_path = \"/Users/LennartPhilipp/Desktop/Uni/Prowiss/Data.tmp/3D_CNN_whole/fold_1.tfrecord\"\n",
    "\n",
    "test_fold_path = \"/Users/LennartPhilipp/Desktop/Uni/Prowiss/Data.tmp/3D_CNN_whole/fold_0.tfrecord\"\n",
    "\n",
    "feature_description = {\n",
    "    \"image\": tf.io.FixedLenFeature([155, 240, 240, 4], tf.float32), # formerly: [149, 185, 155, 4]\n",
    "    \"sex\": tf.io.FixedLenFeature([2], tf.int64, default_value=[0,0]),\n",
    "    \"age\": tf.io.FixedLenFeature([], tf.int64, default_value=0),\n",
    "    \"primary\": tf.io.FixedLenFeature([], tf.int64, default_value=0),\n",
    "}\n",
    "\n",
    "data = tf.data.TFRecordDataset([trainig_fold_paths], compression_type=\"GZIP\")\n",
    "\n",
    "def parse_record(record):\n",
    "    return tf.io.parse_single_example(record, feature_description)\n",
    "\n",
    "data = data.map(parse_record)\n",
    "\n",
    "data = data.shuffle(buffer_size=1000)\n",
    "\n",
    "data = data.batch(10)\n",
    "\n",
    "data = data.prefetch(buffer_size=1)\n",
    "\n",
    "for record in data.take(1):\n",
    "    print(record[\"sex\"].numpy())\n",
    "    print(record[\"age\"].numpy())\n",
    "    print(record[\"primary\"].numpy())"
   ]
  },
  {
   "cell_type": "markdown",
   "metadata": {},
   "source": [
    "## one file per patient"
   ]
  },
  {
   "cell_type": "code",
   "execution_count": 15,
   "metadata": {},
   "outputs": [],
   "source": [
    "#path_to_tfr_folder = Path(\"/Users/LennartPhilipp/Desktop/testing_data/derivatives/TFRecords/all_pats_single\")\n",
    "path_to_tfr_folder = Path(\"/Users/LennartPhilipp/Desktop/testing_data/derivatives/TFRecords/remote_tfrecords\")"
   ]
  },
  {
   "cell_type": "markdown",
   "metadata": {},
   "source": [
    "### Get all tfrecord files"
   ]
  },
  {
   "cell_type": "code",
   "execution_count": 16,
   "metadata": {},
   "outputs": [
    {
     "name": "stdout",
     "output_type": "stream",
     "text": [
      "/Users/LennartPhilipp/Desktop/testing_data/derivatives/TFRecords/remote_tfrecords/sub-01005097.tfrecord\n",
      "/Users/LennartPhilipp/Desktop/testing_data/derivatives/TFRecords/remote_tfrecords/sub-02031256.tfrecord\n",
      "/Users/LennartPhilipp/Desktop/testing_data/derivatives/TFRecords/remote_tfrecords/sub-01457167.tfrecord\n",
      "/Users/LennartPhilipp/Desktop/testing_data/derivatives/TFRecords/remote_tfrecords/sub-01009590.tfrecord\n",
      "/Users/LennartPhilipp/Desktop/testing_data/derivatives/TFRecords/remote_tfrecords/sub-01997658.tfrecord\n",
      "/Users/LennartPhilipp/Desktop/testing_data/derivatives/TFRecords/remote_tfrecords/sub-01419998.tfrecord\n",
      "/Users/LennartPhilipp/Desktop/testing_data/derivatives/TFRecords/remote_tfrecords/sub-01006290.tfrecord\n",
      "/Users/LennartPhilipp/Desktop/testing_data/derivatives/TFRecords/remote_tfrecords/sub-01015961.tfrecord\n",
      "/Users/LennartPhilipp/Desktop/testing_data/derivatives/TFRecords/remote_tfrecords/sub-01542729.tfrecord\n",
      "/Users/LennartPhilipp/Desktop/testing_data/derivatives/TFRecords/remote_tfrecords/sub-01882333.tfrecord\n",
      "/Users/LennartPhilipp/Desktop/testing_data/derivatives/TFRecords/remote_tfrecords/sub-01718213.tfrecord\n",
      "/Users/LennartPhilipp/Desktop/testing_data/derivatives/TFRecords/remote_tfrecords/sub-01005630.tfrecord\n",
      "/Users/LennartPhilipp/Desktop/testing_data/derivatives/TFRecords/remote_tfrecords/sub-02063373.tfrecord\n",
      "/Users/LennartPhilipp/Desktop/testing_data/derivatives/TFRecords/remote_tfrecords/sub-01494733.tfrecord\n",
      "total: 14\n"
     ]
    }
   ],
   "source": [
    "tfr_file_names = [file for file in os.listdir(path_to_tfr_folder) if file.endswith(\".tfrecord\")]\n",
    "\n",
    "\n",
    "tfr_paths = [str(path_to_tfr_folder) + \"/\" + file for file in tfr_file_names]\n",
    "for file in tfr_paths:\n",
    "    print(file)\n",
    "\n",
    "print(f\"total: {len(tfr_paths)}\")"
   ]
  },
  {
   "cell_type": "markdown",
   "metadata": {},
   "source": [
    "### train / val / test split"
   ]
  },
  {
   "cell_type": "code",
   "execution_count": 17,
   "metadata": {},
   "outputs": [
    {
     "name": "stdout",
     "output_type": "stream",
     "text": [
      "11\n",
      "1\n",
      "2\n",
      "sum = 14\n"
     ]
    }
   ],
   "source": [
    "train_ratio = 0.8\n",
    "val_ratio = 0.1\n",
    "test_ratio = 0.1\n",
    "\n",
    "train_size = int(len(tfr_paths) * train_ratio)\n",
    "val_size = int(len(tfr_paths) * val_ratio)\n",
    "test_size = int(len(tfr_paths) * test_ratio)\n",
    "\n",
    "train_paths = tfr_paths[:train_size]\n",
    "val_paths = tfr_paths[train_size:train_size + val_size]\n",
    "test_paths = tfr_paths[train_size + val_size:]\n",
    "\n",
    "print(len(train_paths))\n",
    "print(len(val_paths))\n",
    "print(len(test_paths))\n",
    "sum = len(train_paths) + len(val_paths) + len(test_paths)\n",
    "print(f\"sum = {sum}\")"
   ]
  },
  {
   "cell_type": "markdown",
   "metadata": {},
   "source": [
    "### Data augmentation"
   ]
  },
  {
   "cell_type": "code",
   "execution_count": 20,
   "metadata": {},
   "outputs": [],
   "source": [
    "data_augmentation = tf.keras.Sequential([\n",
    "    tf.keras.layers.RandomFlip(mode = \"horizontal\"),\n",
    "    tf.keras.layers.RandomBrightness(factor = (-0.2, 0.2), value_range=(0, 1)),\n",
    "    #tf.keras.layers.RandomContrast(0.5), # consider removing the random contrast layer as that causes pixel values to go beyond 1\n",
    "    tf.keras.layers.RandomRotation(factor = (-0.07, 0.07), fill_mode = \"nearest\"),\n",
    "    tf.keras.layers.RandomTranslation(\n",
    "        height_factor = 0.05,\n",
    "        width_factor = 0.05,\n",
    "        fill_mode = \"nearest\"\n",
    "    )\n",
    "])"
   ]
  },
  {
   "cell_type": "code",
   "execution_count": 26,
   "metadata": {},
   "outputs": [],
   "source": [
    "feature_description = {\n",
    "    \"image\": tf.io.FixedLenFeature([155, 240, 240, 4], tf.float32),\n",
    "    \"sex\": tf.io.FixedLenFeature([2], tf.int64, default_value=[0,0]),\n",
    "    \"age\": tf.io.FixedLenFeature([], tf.int64, default_value=0),\n",
    "    \"primary\": tf.io.FixedLenFeature([], tf.int64, default_value=0),\n",
    "}\n",
    "\n",
    "train_data = tf.data.TFRecordDataset([tfr_paths], compression_type=\"GZIP\")\n",
    "val_data = tf.data.TFRecordDataset([val_paths], compression_type=\"GZIP\")\n",
    "test_data = tf.data.TFRecordDataset([test_paths], compression_type=\"GZIP\")\n",
    "\n",
    "def parse_record(record, labeled = False):\n",
    "    example = tf.io.parse_single_example(record, feature_description)\n",
    "    image = example[\"image\"]\n",
    "    image = tf.reshape(image, [155, 240, 240, 4])\n",
    "    image = data_augmentation(image)\n",
    "    if labeled:\n",
    "        #return image, example[\"sex\"], example[\"age\"], example[\"primary\"]\n",
    "        return image, example[\"primary\"] \n",
    "    else:\n",
    "        return image\n",
    "\n",
    "train_data = train_data.map(partial(parse_record, labeled = True))\n",
    "val_data = val_data.map(partial(parse_record, labeled = True))\n",
    "test_data = test_data.map(partial(parse_record, labeled = True))\n",
    "\n",
    "#data = data.repeat()\n",
    "\n",
    "train_data = train_data.shuffle(buffer_size=100)\n",
    "val_data = val_data.shuffle(buffer_size=100)\n",
    "test_data = test_data.shuffle(buffer_size=100)\n",
    "\n",
    "train_data = train_data.batch(1)\n",
    "val_data = val_data.batch(1)\n",
    "test_data = test_data.batch(1)\n",
    "\n",
    "train_data = train_data.prefetch(buffer_size=1)\n",
    "val_data = val_data.prefetch(buffer_size=1)\n",
    "test_data = test_data.prefetch(buffer_size=1)"
   ]
  },
  {
   "cell_type": "code",
   "execution_count": 117,
   "metadata": {},
   "outputs": [
    {
     "name": "stdout",
     "output_type": "stream",
     "text": [
      "<_TakeDataset element_spec=(TensorSpec(shape=(None, 155, 240, 240, 4), dtype=tf.float32, name=None), TensorSpec(shape=(None, 2), dtype=tf.int64, name=None), TensorSpec(shape=(None,), dtype=tf.int64, name=None), TensorSpec(shape=(None,), dtype=tf.int64, name=None))>\n",
      "[0 1]\n",
      "56\n",
      "0\n"
     ]
    },
    {
     "data": {
      "image/png": "[encoded data removed]",
      "text/plain": [
       "<Figure size 640x480 with 1 Axes>"
      ]
     },
     "metadata": {},
     "output_type": "display_data"
    }
   ],
   "source": [
    "test_data = data.take(1)\n",
    "print(test_data)\n",
    "for image, sex, age, primary in test_data:\n",
    "    print(sex.numpy()[0])\n",
    "    print(age.numpy()[0])\n",
    "    print(primary.numpy()[0])\n",
    "    numpy_image = image.numpy()\n",
    "    plt.imshow(numpy_image[0][100, :, :, 0], cmap=\"inferno\")"
   ]
  },
  {
   "cell_type": "code",
   "execution_count": 22,
   "metadata": {},
   "outputs": [],
   "source": [
    "activation_func = \"relu\"\n",
    "optimizer = tf.keras.optimizers.legacy.SGD(learning_rate=0.001, momentum=0.9, nesterov=True)"
   ]
  },
  {
   "cell_type": "code",
   "execution_count": 105,
   "metadata": {},
   "outputs": [
    {
     "data": {
      "text/plain": [
       "array([1])"
      ]
     },
     "execution_count": 105,
     "metadata": {},
     "output_type": "execute_result"
    }
   ],
   "source": [
    "train_images, others = data.take(2)\n",
    "#print(train_images)\n",
    "others[3].numpy()\n",
    "#train_images = train_images[0]"
   ]
  },
  {
   "cell_type": "code",
   "execution_count": 23,
   "metadata": {},
   "outputs": [
    {
     "name": "stdout",
     "output_type": "stream",
     "text": [
      "Model: \"model\"\n",
      "_________________________________________________________________\n",
      " Layer (type)                Output Shape              Param #   \n",
      "=================================================================\n",
      " input_1 (InputLayer)        [(None, 155, 240, 240,    0         \n",
      "                             4)]                                 \n",
      "                                                                 \n",
      " batch_normalization (Batch  (None, 155, 240, 240, 4   16        \n",
      " Normalization)              )                                   \n",
      "                                                                 \n",
      " conv3d (Conv3D)             (None, 75, 117, 117, 64   87872     \n",
      "                             )                                   \n",
      "                                                                 \n",
      " max_pooling3d (MaxPooling3  (None, 37, 58, 58, 64)    0         \n",
      " D)                                                              \n",
      "                                                                 \n",
      " conv3d_1 (Conv3D)           (None, 16, 26, 26, 64)    1404992   \n",
      "                                                                 \n",
      " max_pooling3d_1 (MaxPoolin  (None, 8, 13, 13, 64)     0         \n",
      " g3D)                                                            \n",
      "                                                                 \n",
      " dense (Dense)               (None, 8, 13, 13, 100)    6500      \n",
      "                                                                 \n",
      " dropout (Dropout)           (None, 8, 13, 13, 100)    0         \n",
      "                                                                 \n",
      " dense_1 (Dense)             (None, 8, 13, 13, 100)    10100     \n",
      "                                                                 \n",
      " dropout_1 (Dropout)         (None, 8, 13, 13, 100)    0         \n",
      "                                                                 \n",
      " dense_2 (Dense)             (None, 8, 13, 13, 2)      202       \n",
      "                                                                 \n",
      "=================================================================\n",
      "Total params: 1509682 (5.76 MB)\n",
      "Trainable params: 1509674 (5.76 MB)\n",
      "Non-trainable params: 8 (32.00 Byte)\n",
      "_________________________________________________________________\n"
     ]
    }
   ],
   "source": [
    "batch_norm_layer = tf.keras.layers.BatchNormalization()\n",
    "conv_1_layer = tf.keras.layers.Conv3D(filters = 64, kernel_size = 7, input_shape = [155, 240, 240, 4], strides=(2,2,2), activation=activation_func, kernel_initializer=tf.keras.initializers.HeNormal())\n",
    "max_pool_1_layer = tf.keras.layers.MaxPooling3D(pool_size = (2,2,2))\n",
    "conv_2_layer = tf.keras.layers.Conv3D(filters = 64, kernel_size = 7, strides=(2,2,2), activation=activation_func, kernel_initializer=tf.keras.initializers.HeNormal())\n",
    "max_pool_2_layer = tf.keras.layers.MaxPooling3D(pool_size = (2,2,2))\n",
    "dense_1_layer = tf.keras.layers.Dense(100, activation=activation_func, kernel_initializer=tf.keras.initializers.HeNormal())\n",
    "dropout_1_layer = tf.keras.layers.Dropout(0.5)\n",
    "dense_2_layer = tf.keras.layers.Dense(100, activation=activation_func, kernel_initializer=tf.keras.initializers.HeNormal())\n",
    "dropout_2_layer = tf.keras.layers.Dropout(0.5)\n",
    "output_layer = tf.keras.layers.Dense(2, activation=\"softmax\")\n",
    "\n",
    "# Define inputs\n",
    "input_image = tf.keras.layers.Input(shape=(155, 240, 240, 4))\n",
    "\n",
    "# concatenate input sex and input age\n",
    "\n",
    "batch_norm = batch_norm_layer(input_image)\n",
    "conv_1 = conv_1_layer(batch_norm)\n",
    "max_pool_1 = max_pool_1_layer(conv_1)\n",
    "conv_2 = conv_2_layer(max_pool_1)\n",
    "max_pool_2 = max_pool_2_layer(conv_2)\n",
    "dense_1 = dense_1_layer(max_pool_2)\n",
    "dropout_1 = dropout_1_layer(dense_1)\n",
    "dense_2 = dense_2_layer(dropout_1)\n",
    "dropout_2 = dropout_2_layer(dense_2)\n",
    "output = output_layer(dropout_2)\n",
    "\n",
    "\n",
    "\n",
    "model = tf.keras.Model(inputs = input_image, outputs = [output])\n",
    "model.compile(loss=\"mse\", optimizer=optimizer, metrics = [\"RootMeanSquaredError\", \"accuracy\"])\n",
    "model.summary()"
   ]
  },
  {
   "cell_type": "code",
   "execution_count": 24,
   "metadata": {},
   "outputs": [
    {
     "name": "stdout",
     "output_type": "stream",
     "text": [
      "Epoch 1/20\n"
     ]
    },
    {
     "name": "stderr",
     "output_type": "stream",
     "text": [
      "2024-06-16 15:06:48.498471: I tensorflow/core/kernels/data/shuffle_dataset_op.cc:422] ShuffleDatasetV3:12: Filling up shuffle buffer (this may take a while): 12 of 100\n",
      "2024-06-16 15:06:50.299507: I tensorflow/core/kernels/data/shuffle_dataset_op.cc:452] Shuffle buffer filled.\n"
     ]
    },
    {
     "name": "stdout",
     "output_type": "stream",
     "text": [
      "14/14 [==============================] - 74s 4s/step - loss: 0.3794 - root_mean_squared_error: 0.6159 - accuracy: 0.4325 - val_loss: 0.2545 - val_root_mean_squared_error: 0.5045 - val_accuracy: 0.1923\n",
      "Epoch 2/20\n"
     ]
    },
    {
     "name": "stderr",
     "output_type": "stream",
     "text": [
      "2024-06-16 15:08:02.359465: I tensorflow/core/kernels/data/shuffle_dataset_op.cc:422] ShuffleDatasetV3:12: Filling up shuffle buffer (this may take a while): 12 of 100\n",
      "2024-06-16 15:08:04.171403: I tensorflow/core/kernels/data/shuffle_dataset_op.cc:452] Shuffle buffer filled.\n"
     ]
    },
    {
     "name": "stdout",
     "output_type": "stream",
     "text": [
      "14/14 [==============================] - 74s 4s/step - loss: 0.3002 - root_mean_squared_error: 0.5479 - accuracy: 0.4828 - val_loss: 0.2505 - val_root_mean_squared_error: 0.5005 - val_accuracy: 0.2825\n",
      "Epoch 3/20\n"
     ]
    },
    {
     "name": "stderr",
     "output_type": "stream",
     "text": [
      "2024-06-16 15:09:15.636892: I tensorflow/core/kernels/data/shuffle_dataset_op.cc:422] ShuffleDatasetV3:12: Filling up shuffle buffer (this may take a while): 11 of 100\n",
      "2024-06-16 15:09:18.364749: I tensorflow/core/kernels/data/shuffle_dataset_op.cc:452] Shuffle buffer filled.\n"
     ]
    },
    {
     "name": "stdout",
     "output_type": "stream",
     "text": [
      "14/14 [==============================] - 75s 4s/step - loss: 0.2553 - root_mean_squared_error: 0.5052 - accuracy: 0.6155 - val_loss: 0.2501 - val_root_mean_squared_error: 0.5001 - val_accuracy: 0.7130\n",
      "Epoch 4/20\n"
     ]
    },
    {
     "name": "stderr",
     "output_type": "stream",
     "text": [
      "2024-06-16 15:10:30.205894: I tensorflow/core/kernels/data/shuffle_dataset_op.cc:422] ShuffleDatasetV3:12: Filling up shuffle buffer (this may take a while): 11 of 100\n",
      "2024-06-16 15:10:33.127019: I tensorflow/core/kernels/data/shuffle_dataset_op.cc:452] Shuffle buffer filled.\n"
     ]
    },
    {
     "name": "stdout",
     "output_type": "stream",
     "text": [
      "14/14 [==============================] - 74s 4s/step - loss: 0.2506 - root_mean_squared_error: 0.5006 - accuracy: 0.6820 - val_loss: 0.2500 - val_root_mean_squared_error: 0.5000 - val_accuracy: 0.8025\n",
      "Epoch 5/20\n"
     ]
    },
    {
     "name": "stderr",
     "output_type": "stream",
     "text": [
      "2024-06-16 15:11:44.375602: I tensorflow/core/kernels/data/shuffle_dataset_op.cc:422] ShuffleDatasetV3:12: Filling up shuffle buffer (this may take a while): 11 of 100\n",
      "2024-06-16 15:11:47.105656: I tensorflow/core/kernels/data/shuffle_dataset_op.cc:452] Shuffle buffer filled.\n"
     ]
    },
    {
     "name": "stdout",
     "output_type": "stream",
     "text": [
      "14/14 [==============================] - 74s 4s/step - loss: 0.2503 - root_mean_squared_error: 0.5003 - accuracy: 0.6942 - val_loss: 0.2500 - val_root_mean_squared_error: 0.5000 - val_accuracy: 0.8669\n",
      "Epoch 6/20\n"
     ]
    },
    {
     "name": "stderr",
     "output_type": "stream",
     "text": [
      "2024-06-16 15:12:58.165498: I tensorflow/core/kernels/data/shuffle_dataset_op.cc:422] ShuffleDatasetV3:12: Filling up shuffle buffer (this may take a while): 11 of 100\n",
      "2024-06-16 15:13:00.888691: I tensorflow/core/kernels/data/shuffle_dataset_op.cc:452] Shuffle buffer filled.\n"
     ]
    },
    {
     "name": "stdout",
     "output_type": "stream",
     "text": [
      "14/14 [==============================] - 74s 4s/step - loss: 0.2502 - root_mean_squared_error: 0.5002 - accuracy: 0.6911 - val_loss: 0.2500 - val_root_mean_squared_error: 0.5000 - val_accuracy: 0.8639\n",
      "Epoch 7/20\n"
     ]
    },
    {
     "name": "stderr",
     "output_type": "stream",
     "text": [
      "2024-06-16 15:14:12.851928: I tensorflow/core/kernels/data/shuffle_dataset_op.cc:422] ShuffleDatasetV3:12: Filling up shuffle buffer (this may take a while): 11 of 100\n",
      "2024-06-16 15:14:15.595665: I tensorflow/core/kernels/data/shuffle_dataset_op.cc:452] Shuffle buffer filled.\n"
     ]
    },
    {
     "name": "stdout",
     "output_type": "stream",
     "text": [
      "14/14 [==============================] - 74s 4s/step - loss: 0.2501 - root_mean_squared_error: 0.5001 - accuracy: 0.7000 - val_loss: 0.2500 - val_root_mean_squared_error: 0.5000 - val_accuracy: 0.9127\n",
      "Epoch 8/20\n"
     ]
    },
    {
     "name": "stderr",
     "output_type": "stream",
     "text": [
      "2024-06-16 15:15:26.944666: I tensorflow/core/kernels/data/shuffle_dataset_op.cc:422] ShuffleDatasetV3:12: Filling up shuffle buffer (this may take a while): 11 of 100\n",
      "2024-06-16 15:15:29.707534: I tensorflow/core/kernels/data/shuffle_dataset_op.cc:452] Shuffle buffer filled.\n"
     ]
    },
    {
     "name": "stdout",
     "output_type": "stream",
     "text": [
      "14/14 [==============================] - 75s 4s/step - loss: 0.2501 - root_mean_squared_error: 0.5001 - accuracy: 0.7005 - val_loss: 0.2500 - val_root_mean_squared_error: 0.5000 - val_accuracy: 0.9209\n",
      "Epoch 9/20\n"
     ]
    },
    {
     "name": "stderr",
     "output_type": "stream",
     "text": [
      "2024-06-16 15:16:41.829624: I tensorflow/core/kernels/data/shuffle_dataset_op.cc:422] ShuffleDatasetV3:12: Filling up shuffle buffer (this may take a while): 11 of 100\n",
      "2024-06-16 15:16:44.571369: I tensorflow/core/kernels/data/shuffle_dataset_op.cc:452] Shuffle buffer filled.\n"
     ]
    },
    {
     "name": "stdout",
     "output_type": "stream",
     "text": [
      "14/14 [==============================] - 73s 4s/step - loss: 0.2501 - root_mean_squared_error: 0.5001 - accuracy: 0.7014 - val_loss: 0.2500 - val_root_mean_squared_error: 0.5000 - val_accuracy: 0.9416\n",
      "Epoch 10/20\n"
     ]
    },
    {
     "name": "stderr",
     "output_type": "stream",
     "text": [
      "2024-06-16 15:17:55.063995: I tensorflow/core/kernels/data/shuffle_dataset_op.cc:422] ShuffleDatasetV3:12: Filling up shuffle buffer (this may take a while): 12 of 100\n",
      "2024-06-16 15:17:56.850438: I tensorflow/core/kernels/data/shuffle_dataset_op.cc:452] Shuffle buffer filled.\n"
     ]
    },
    {
     "name": "stdout",
     "output_type": "stream",
     "text": [
      "14/14 [==============================] - 74s 4s/step - loss: 0.2501 - root_mean_squared_error: 0.5001 - accuracy: 0.7008 - val_loss: 0.2500 - val_root_mean_squared_error: 0.5000 - val_accuracy: 0.9364\n",
      "Epoch 11/20\n"
     ]
    },
    {
     "name": "stderr",
     "output_type": "stream",
     "text": [
      "2024-06-16 15:19:08.917822: I tensorflow/core/kernels/data/shuffle_dataset_op.cc:422] ShuffleDatasetV3:12: Filling up shuffle buffer (this may take a while): 12 of 100\n",
      "2024-06-16 15:19:10.706580: I tensorflow/core/kernels/data/shuffle_dataset_op.cc:452] Shuffle buffer filled.\n"
     ]
    },
    {
     "name": "stdout",
     "output_type": "stream",
     "text": [
      "14/14 [==============================] - 75s 4s/step - loss: 0.2501 - root_mean_squared_error: 0.5001 - accuracy: 0.7038 - val_loss: 0.2500 - val_root_mean_squared_error: 0.5000 - val_accuracy: 0.9327\n",
      "Epoch 12/20\n"
     ]
    },
    {
     "name": "stderr",
     "output_type": "stream",
     "text": [
      "2024-06-16 15:20:23.594240: I tensorflow/core/kernels/data/shuffle_dataset_op.cc:422] ShuffleDatasetV3:12: Filling up shuffle buffer (this may take a while): 11 of 100\n",
      "2024-06-16 15:20:26.388888: I tensorflow/core/kernels/data/shuffle_dataset_op.cc:452] Shuffle buffer filled.\n"
     ]
    },
    {
     "name": "stdout",
     "output_type": "stream",
     "text": [
      "14/14 [==============================] - 74s 4s/step - loss: 0.2501 - root_mean_squared_error: 0.5001 - accuracy: 0.7035 - val_loss: 0.2500 - val_root_mean_squared_error: 0.5000 - val_accuracy: 0.9638\n",
      "Epoch 13/20\n"
     ]
    },
    {
     "name": "stderr",
     "output_type": "stream",
     "text": [
      "2024-06-16 15:21:38.028764: I tensorflow/core/kernels/data/shuffle_dataset_op.cc:422] ShuffleDatasetV3:12: Filling up shuffle buffer (this may take a while): 12 of 100\n",
      "2024-06-16 15:21:39.899820: I tensorflow/core/kernels/data/shuffle_dataset_op.cc:452] Shuffle buffer filled.\n"
     ]
    },
    {
     "name": "stdout",
     "output_type": "stream",
     "text": [
      "14/14 [==============================] - 73s 4s/step - loss: 0.2501 - root_mean_squared_error: 0.5001 - accuracy: 0.7038 - val_loss: 0.2500 - val_root_mean_squared_error: 0.5000 - val_accuracy: 0.9549\n",
      "Epoch 14/20\n"
     ]
    },
    {
     "name": "stderr",
     "output_type": "stream",
     "text": [
      "2024-06-16 15:22:50.126127: I tensorflow/core/kernels/data/shuffle_dataset_op.cc:422] ShuffleDatasetV3:12: Filling up shuffle buffer (this may take a while): 11 of 100\n",
      "2024-06-16 15:22:52.897116: I tensorflow/core/kernels/data/shuffle_dataset_op.cc:452] Shuffle buffer filled.\n"
     ]
    },
    {
     "name": "stdout",
     "output_type": "stream",
     "text": [
      "14/14 [==============================] - 74s 4s/step - loss: 0.2501 - root_mean_squared_error: 0.5001 - accuracy: 0.7061 - val_loss: 0.2500 - val_root_mean_squared_error: 0.5000 - val_accuracy: 0.9623\n",
      "Epoch 15/20\n"
     ]
    },
    {
     "name": "stderr",
     "output_type": "stream",
     "text": [
      "2024-06-16 15:24:04.463039: I tensorflow/core/kernels/data/shuffle_dataset_op.cc:422] ShuffleDatasetV3:12: Filling up shuffle buffer (this may take a while): 12 of 100\n",
      "2024-06-16 15:24:06.265973: I tensorflow/core/kernels/data/shuffle_dataset_op.cc:452] Shuffle buffer filled.\n"
     ]
    },
    {
     "name": "stdout",
     "output_type": "stream",
     "text": [
      "14/14 [==============================] - 73s 4s/step - loss: 0.2501 - root_mean_squared_error: 0.5001 - accuracy: 0.7057 - val_loss: 0.2500 - val_root_mean_squared_error: 0.5000 - val_accuracy: 0.9660\n",
      "Epoch 16/20\n"
     ]
    },
    {
     "name": "stderr",
     "output_type": "stream",
     "text": [
      "2024-06-16 15:25:16.135309: I tensorflow/core/kernels/data/shuffle_dataset_op.cc:422] ShuffleDatasetV3:12: Filling up shuffle buffer (this may take a while): 11 of 100\n",
      "2024-06-16 15:25:18.884540: I tensorflow/core/kernels/data/shuffle_dataset_op.cc:452] Shuffle buffer filled.\n"
     ]
    },
    {
     "name": "stdout",
     "output_type": "stream",
     "text": [
      "14/14 [==============================] - 73s 4s/step - loss: 0.2501 - root_mean_squared_error: 0.5001 - accuracy: 0.7050 - val_loss: 0.2500 - val_root_mean_squared_error: 0.5000 - val_accuracy: 0.9564\n",
      "Epoch 17/20\n"
     ]
    },
    {
     "name": "stderr",
     "output_type": "stream",
     "text": [
      "2024-06-16 15:26:29.186950: I tensorflow/core/kernels/data/shuffle_dataset_op.cc:422] ShuffleDatasetV3:12: Filling up shuffle buffer (this may take a while): 11 of 100\n",
      "2024-06-16 15:26:31.972678: I tensorflow/core/kernels/data/shuffle_dataset_op.cc:452] Shuffle buffer filled.\n"
     ]
    },
    {
     "name": "stdout",
     "output_type": "stream",
     "text": [
      "14/14 [==============================] - 75s 4s/step - loss: 0.2501 - root_mean_squared_error: 0.5001 - accuracy: 0.7024 - val_loss: 0.2500 - val_root_mean_squared_error: 0.5000 - val_accuracy: 0.9712\n",
      "Epoch 18/20\n"
     ]
    },
    {
     "name": "stderr",
     "output_type": "stream",
     "text": [
      "2024-06-16 15:27:43.643264: I tensorflow/core/kernels/data/shuffle_dataset_op.cc:422] ShuffleDatasetV3:12: Filling up shuffle buffer (this may take a while): 11 of 100\n",
      "2024-06-16 15:27:46.341291: I tensorflow/core/kernels/data/shuffle_dataset_op.cc:452] Shuffle buffer filled.\n"
     ]
    },
    {
     "name": "stdout",
     "output_type": "stream",
     "text": [
      "14/14 [==============================] - 73s 4s/step - loss: 0.2501 - root_mean_squared_error: 0.5001 - accuracy: 0.7060 - val_loss: 0.2500 - val_root_mean_squared_error: 0.5000 - val_accuracy: 0.9771\n",
      "Epoch 19/20\n"
     ]
    },
    {
     "name": "stderr",
     "output_type": "stream",
     "text": [
      "2024-06-16 15:28:56.846090: I tensorflow/core/kernels/data/shuffle_dataset_op.cc:422] ShuffleDatasetV3:12: Filling up shuffle buffer (this may take a while): 12 of 100\n",
      "2024-06-16 15:28:58.654183: I tensorflow/core/kernels/data/shuffle_dataset_op.cc:452] Shuffle buffer filled.\n"
     ]
    },
    {
     "name": "stdout",
     "output_type": "stream",
     "text": [
      "14/14 [==============================] - 73s 4s/step - loss: 0.2501 - root_mean_squared_error: 0.5001 - accuracy: 0.7048 - val_loss: 0.2500 - val_root_mean_squared_error: 0.5000 - val_accuracy: 0.9763\n",
      "Epoch 20/20\n"
     ]
    },
    {
     "name": "stderr",
     "output_type": "stream",
     "text": [
      "2024-06-16 15:30:09.954282: I tensorflow/core/kernels/data/shuffle_dataset_op.cc:422] ShuffleDatasetV3:12: Filling up shuffle buffer (this may take a while): 12 of 100\n",
      "2024-06-16 15:30:11.753438: I tensorflow/core/kernels/data/shuffle_dataset_op.cc:452] Shuffle buffer filled.\n"
     ]
    },
    {
     "name": "stdout",
     "output_type": "stream",
     "text": [
      "14/14 [==============================] - 72s 4s/step - loss: 0.2500 - root_mean_squared_error: 0.5000 - accuracy: 0.7057 - val_loss: 0.2500 - val_root_mean_squared_error: 0.5000 - val_accuracy: 0.9778\n"
     ]
    },
    {
     "data": {
      "text/plain": [
       "<keras.src.callbacks.History at 0x33bf153d0>"
      ]
     },
     "execution_count": 24,
     "metadata": {},
     "output_type": "execute_result"
    }
   ],
   "source": [
    "model.fit(train_data, validation_data = val_data, epochs=20, batch_size=1,)"
   ]
  },
  {
   "cell_type": "code",
   "execution_count": 27,
   "metadata": {},
   "outputs": [
    {
     "name": "stdout",
     "output_type": "stream",
     "text": [
      "2/2 [==============================] - 3s 529ms/step - loss: 0.2500 - root_mean_squared_error: 0.5000 - accuracy: 0.5037\n"
     ]
    }
   ],
   "source": [
    "score = model.evaluate(test_data)"
   ]
  }
 ],
 "metadata": {
  "kernelspec": {
   "display_name": "brain_mets_env",
   "language": "python",
   "name": "brain_mets_env"
  },
  "language_info": {
   "codemirror_mode": {
    "name": "ipython",
    "version": 3
   },
   "file_extension": ".py",
   "mimetype": "text/x-python",
   "name": "python",
   "nbconvert_exporter": "python",
   "pygments_lexer": "ipython3",
   "version": "3.11.6"
  }
 },
 "nbformat": 4,
 "nbformat_minor": 2
}
