{
 "cells": [
  {
   "cell_type": "markdown",
   "metadata": {},
   "source": [
    "## Preprocessing for the .xlsx file"
   ]
  },
  {
   "cell_type": "code",
   "execution_count": 8,
   "metadata": {},
   "outputs": [],
   "source": [
    "# import libraries\n",
    "import pandas as pd\n",
    "from pathlib import Path"
   ]
  },
  {
   "cell_type": "markdown",
   "metadata": {},
   "source": [
    "### Load data from excel sheet"
   ]
  },
  {
   "cell_type": "code",
   "execution_count": 9,
   "metadata": {},
   "outputs": [],
   "source": [
    "# reads the patient excel sheet and puts them into a pandas Dataframe\n",
    "path = \"/Users/LennartPhilipp/Desktop/Uni/Prowiss/Dateien/Metas_PatID_Full_SMI private Datei.xlsx\"\n",
    "try:\n",
    "    patientsDataFrame = pd.read_excel(path)\n",
    "except ImportError as e:\n",
    "    print(e)\n",
    "\n",
    "modifiedPatientsDataFrame = patientsDataFrame.copy()"
   ]
  },
  {
   "cell_type": "markdown",
   "metadata": {},
   "source": [
    "### Remove unnecessary columns"
   ]
  },
  {
   "cell_type": "code",
   "execution_count": 10,
   "metadata": {},
   "outputs": [
    {
     "name": "stderr",
     "output_type": "stream",
     "text": [
      "/var/folders/by/b05bkcn50tb0fx4h3hhz0h800000gn/T/ipykernel_97312/2285622944.py:34: UserWarning: Could not infer format, so each element will be parsed individually, falling back to `dateutil`. To ensure parsing is consistent and as-expected, please specify a format.\n",
      "  modifiedPatientsDataFrame[column] = pd.to_datetime(modifiedPatientsDataFrame[column], errors=\"coerce\")\n",
      "/var/folders/by/b05bkcn50tb0fx4h3hhz0h800000gn/T/ipykernel_97312/2285622944.py:34: UserWarning: Could not infer format, so each element will be parsed individually, falling back to `dateutil`. To ensure parsing is consistent and as-expected, please specify a format.\n",
      "  modifiedPatientsDataFrame[column] = pd.to_datetime(modifiedPatientsDataFrame[column], errors=\"coerce\")\n"
     ]
    }
   ],
   "source": [
    "# removes patients' names from dataset\n",
    "#modifiedPatientsDataFrame = modifiedPatientsDataFrame.drop(columns=[\"name\"])\n",
    "\n",
    "# removes unused columns from dataset\n",
    "modifiedPatientsDataFrame = modifiedPatientsDataFrame.iloc[:, :38] # only keeps the columns until column 38\n",
    "modifiedPatientsDataFrame = modifiedPatientsDataFrame.drop(columns=[\"T.1\",\n",
    "                                                                    \"primary_coded\",\n",
    "                                                                    \"primary_coded_clean\",\n",
    "                                                                    \"N\",\n",
    "                                                                    \"M\",\n",
    "                                                                    \"M_number_organ_systems\",\n",
    "                                                                    \"TNM\",\n",
    "                                                                    \"Survival ab ED gesamt\",\n",
    "                                                                    \"Survival ab ED Hirnmet.\",\n",
    "                                                                    \"Survival_from_ED_Met (months)\",\n",
    "                                                                    \"Alter bei MRT (J./kalkuliert)\",\n",
    "                                                                    \"Dauer Tumorleiden\\n(kalkuliert; von ED bis ED Hirnmet.)\",\n",
    "                                                                    \"Karnofsky (%)\",\n",
    "                                                                    \"periphere Metastasen zum Zeitpunkt des MRTs ( Keine = 0, Einzelne = 1, Oligo =2, Multipel =3)\",\n",
    "                                                                    \"im Verlauf neu aufgetretene Metastasen (0 = keine bekannt)\",\n",
    "                                                                    ])\n",
    "\n",
    "# removes patients that did not fit the study requirements\n",
    "modifiedPatientsDataFrame = modifiedPatientsDataFrame[modifiedPatientsDataFrame[\"in_study (0 = no, 1 = yes, 2 = tbd, 3 = remarkable)\"] != 0]\n",
    "\n",
    "# once all the MRI files are on the server change the following line to only inclue patients with MRI files: modifiedDataFrame[\"on_server\"] != 0\n",
    "modifiedPatientsDataFrame = modifiedPatientsDataFrame[modifiedPatientsDataFrame[\"on_server\"] != 0]\n",
    "\n",
    "# turn all preop_MRICE_date strings into datetime format, ignoring strings that can't be turned into dates\n",
    "modifiedPatientsDataFrame[\"preop_MRICE_date\"] = pd.to_datetime(modifiedPatientsDataFrame[\"preop_MRICE_date\"], errors=\"ignore\")\n",
    "\n",
    "# turn all brithdate, death_date, date_first_diagnosis_primary and date_first_diagnosis_brain_met strings into datetime format, setting all strings that can't be turned into dates to NaT\n",
    "for column in [\"birthdate\", \"death_date\", \"date_first_diagnosis_primary\", \"date_first_diagnosis_brain_met\"]:\n",
    "    modifiedPatientsDataFrame[column] = pd.to_datetime(modifiedPatientsDataFrame[column], errors=\"coerce\")\n",
    "\n",
    "# turn all weights into numerics\n",
    "modifiedPatientsDataFrame[\"Gewicht (kg)\"] = pd.to_numeric(modifiedPatientsDataFrame[\"Gewicht (kg)\"], errors=\"coerce\")"
   ]
  },
  {
   "cell_type": "markdown",
   "metadata": {},
   "source": [
    "### CUP patients"
   ]
  },
  {
   "cell_type": "code",
   "execution_count": 4,
   "metadata": {},
   "outputs": [],
   "source": [
    "cupPatients = modifiedPatientsDataFrame[modifiedPatientsDataFrame[\"in_study (0 = no, 1 = yes, 2 = tbd, 3 = remarkable)\"] == 3]"
   ]
  },
  {
   "cell_type": "markdown",
   "metadata": {},
   "source": [
    "### Check amount of missing values"
   ]
  },
  {
   "cell_type": "code",
   "execution_count": 9,
   "metadata": {},
   "outputs": [
    {
     "name": "stdout",
     "output_type": "stream",
     "text": [
      "# of missing values in on_server: 0\n",
      "# of missing values in in_study (0 = no, 1 = yes, 2 = tbd, 3 = remarkable): 0\n",
      "# of missing values in reason: 85\n",
      "# of missing values in MRI_comments: 340\n",
      "# of missing values in ID: 0\n",
      "# of missing values in birthdate: 0\n",
      "# of missing values in sex (m/w): 0\n",
      "# of missing values in preop_MRICE_date: 1\n",
      "# of missing values in primary_full: 1\n",
      "# of missing values in primary_coded_newv: 0\n",
      "# of missing values in T: 1\n",
      "# of missing values in death_date: 273\n",
      "# of missing values in date_first_diagnosis_primary: 35\n",
      "# of missing values in date_first_diagnosis_brain_met: 37\n",
      "# of missing values in OP: 3\n",
      "# of missing values in Chemotherapie: 3\n",
      "# of missing values in Radiatio: 3\n",
      "# of missing values in Immuntherapie: 2\n",
      "# of missing values in Größe (cm): 98\n",
      "# of missing values in Gewicht (kg): 90\n",
      "# of missing values in ECOG: 106\n",
      "# of missing values in AZ Beschreibung: 349\n",
      "# of missing values in Resektionsstatus (0 = Komplettresektion; 1 = Rest/weitere Hirnfiliae, 2 = keine Resektion, 3 = unklar): 6\n"
     ]
    }
   ],
   "source": [
    "# checks the amount of missing values for each column\n",
    "for column in modifiedPatientsDataFrame.columns:\n",
    "    amount_of_nan = modifiedPatientsDataFrame[column].isna().sum()\n",
    "    print(\"# of missing values in \" + column + \": \" + str(amount_of_nan))"
   ]
  },
  {
   "cell_type": "markdown",
   "metadata": {},
   "source": [
    "### Update ECOG values\n",
    "We assume that patients that were in good shape (\"guter AZ\") also have an ECOG value of 0, even though this was not explicitally labeled as such."
   ]
  },
  {
   "cell_type": "code",
   "execution_count": 13,
   "metadata": {},
   "outputs": [],
   "source": [
    "#counter = 0\n",
    "for index, patient in modifiedPatientsDataFrame.iterrows():\n",
    "    if pd.isna(patient[\"ECOG\"]) and patient[\"AZ Beschreibung\"] == \"guter AZ\":\n",
    "        #counter += 1\n",
    "        #print(counter)\n",
    "        patient[\"ECOG\"] = 0\n"
   ]
  },
  {
   "cell_type": "markdown",
   "metadata": {},
   "source": [
    "### Primaries Value Counts"
   ]
  },
  {
   "cell_type": "code",
   "execution_count": 10,
   "metadata": {},
   "outputs": [
    {
     "data": {
      "text/plain": [
       "primary_coded_newv\n",
       "1c     96\n",
       "12     64\n",
       "1a     49\n",
       "1e     32\n",
       "2      26\n",
       "1b     15\n",
       "1g     13\n",
       "23     12\n",
       "5       9\n",
       "29      7\n",
       "1f      5\n",
       "11g     5\n",
       "1d      4\n",
       "6       4\n",
       "19      3\n",
       "3       3\n",
       "18      3\n",
       "4       2\n",
       "11b     2\n",
       "11c     2\n",
       "10      2\n",
       "20      2\n",
       "9       2\n",
       "15      2\n",
       "24      1\n",
       "26a     1\n",
       "11f     1\n",
       "26b     1\n",
       "14      1\n",
       "27      1\n",
       "8       1\n",
       "25      1\n",
       "13      1\n",
       "21      1\n",
       "22      1\n",
       "16      1\n",
       "11a     1\n",
       "17      1\n",
       "Name: count, dtype: int64"
      ]
     },
     "execution_count": 10,
     "metadata": {},
     "output_type": "execute_result"
    }
   ],
   "source": [
    "modifiedPatientsDataFrame[\"primary_coded_newv\"].value_counts()"
   ]
  },
  {
   "cell_type": "markdown",
   "metadata": {},
   "source": [
    "### Adds a new column for the age when the images were taken"
   ]
  },
  {
   "cell_type": "code",
   "execution_count": 1,
   "metadata": {},
   "outputs": [],
   "source": [
    "# modifiedPatientsDataFrame[\"age_at_MRI\"] = pd.to_datetime(modifiedPatientsDataFrame[\"preop_MRICE_date\"]) - pd.to_datetime((modifiedPatientsDataFrame[\"birthdate\"]))"
   ]
  },
  {
   "cell_type": "markdown",
   "metadata": {},
   "source": [
    "### Export only patientID, birthdate and sex as .csv\n",
    "Get all the patients where the following list of conditions is fulfilled:\n",
    "- on_server = 1\n",
    "- in_study != (0 OR 3)"
   ]
  },
  {
   "cell_type": "code",
   "execution_count": 11,
   "metadata": {},
   "outputs": [],
   "source": [
    "exportVersion = modifiedPatientsDataFrame.copy()\n",
    "exportVersion = exportVersion[[\"on_server\", \"in_study (0 = no, 1 = yes, 2 = tbd, 3 = remarkable)\", \"ID\", \"sex (m/w)\", \"birthdate\", \"primary_coded_newv\"]]\n",
    "exportVersion = exportVersion[exportVersion[\"in_study (0 = no, 1 = yes, 2 = tbd, 3 = remarkable)\"] != (3 or 0)]"
   ]
  },
  {
   "cell_type": "code",
   "execution_count": 12,
   "metadata": {},
   "outputs": [],
   "source": [
    "exportVersion.to_csv(\"/Users/LennartPhilipp/Desktop/Uni/Prowiss/Code/patientsIDsexbirthdateprimary.csv\")"
   ]
  },
  {
   "cell_type": "markdown",
   "metadata": {},
   "source": [
    "### Compare list of patients with MRIs"
   ]
  },
  {
   "cell_type": "markdown",
   "metadata": {},
   "source": [
    "#### Load csv files"
   ]
  },
  {
   "cell_type": "code",
   "execution_count": 15,
   "metadata": {},
   "outputs": [],
   "source": [
    "MRI_patientIDs = pd.read_csv(\"/Users/LennartPhilipp/Desktop/Uni/Prowiss/Code/MRI_patientIDs.csv\")\n",
    "patientList = pd.read_csv(\"/Users/LennartPhilipp/Desktop/Uni/Prowiss/Code/patients.csv\")"
   ]
  },
  {
   "cell_type": "code",
   "execution_count": 33,
   "metadata": {},
   "outputs": [
    {
     "name": "stdout",
     "output_type": "stream",
     "text": [
      "    patientIDs\n",
      "0    1199093.0\n",
      "1    1220269.0\n",
      "2    1150136.0\n",
      "3    1134825.0\n",
      "4    1083248.0\n",
      "5    1189050.0\n",
      "6    1311383.0\n",
      "7    1261127.0\n",
      "8    1243841.0\n",
      "9    1152379.0\n",
      "10   1106844.0\n",
      "11   1241505.0\n",
      "12   1307298.0\n",
      "13   1269967.0\n",
      "14   1190738.0\n",
      "15   1111974.0\n",
      "16   1038520.0\n",
      "17   1321873.0\n",
      "18   1122863.0\n",
      "19   1108350.0\n",
      "20   1009590.0\n",
      "21   1022787.0\n",
      "22   1055292.0\n",
      "23   1314225.0\n",
      "24   1288896.0\n",
      "25   1005097.0\n",
      "26   1109318.0\n"
     ]
    }
   ],
   "source": [
    "#print(\"MRI patient IDs: \", MRI_patientIDs)\n",
    "#print(\"Patient List: \", patientList[\"ID\"])\n",
    "\n",
    "# creates a new Dataframe for the patients that meat the following criteria:  all the necessary MRI sequences exist AND patient wasn't excluded from the study\n",
    "patients_in_study_with_MRI = pd.DataFrame({\"patientIDs\":[]})\n",
    "\n",
    "# iterates through all the IDs of the patients with the necessary MRI sequences and compares them with the list of patients in the study\n",
    "for index, row in MRI_patientIDs.iterrows():\n",
    "\n",
    "    # if patientID of the MRI sequences is also in the list of patientIDS that are part of the study, then add the ID to patients_in_study_with_MRI\n",
    "    if row[\"patientIDs\"] in list(map(int, patientList[\"ID\"])):\n",
    "\n",
    "        new_row = {\"patientIDs\":row[\"patientIDs\"]}\n",
    "        patients_in_study_with_MRI = pd.concat([patients_in_study_with_MRI, pd.DataFrame([new_row])], ignore_index=True)\n",
    "    \n",
    "print(patients_in_study_with_MRI)"
   ]
  },
  {
   "cell_type": "markdown",
   "metadata": {},
   "source": [
    "## Find new patient MRIs\n",
    "The goal is to maybe find some more patient MRI scans that I can use for the dataset.\\\n",
    "First: get a list of all the patientIDs of the patients that I already have\\\n",
    "Second: get the dataframe of all the patients with in_study: 1 or 2\\\n",
    "Third: Compare the list and get all the patients that are in the excel sheet but already exported\\\n",
    "Four: Go through the list manually"
   ]
  },
  {
   "cell_type": "code",
   "execution_count": 46,
   "metadata": {},
   "outputs": [
    {
     "name": "stderr",
     "output_type": "stream",
     "text": [
      "/var/folders/by/b05bkcn50tb0fx4h3hhz0h800000gn/T/ipykernel_54471/1835813272.py:43: UserWarning: Could not infer format, so each element will be parsed individually, falling back to `dateutil`. To ensure parsing is consistent and as-expected, please specify a format.\n",
      "  modifiedPatientsDataFrame[column] = pd.to_datetime(modifiedPatientsDataFrame[column], errors=\"coerce\")\n",
      "/var/folders/by/b05bkcn50tb0fx4h3hhz0h800000gn/T/ipykernel_54471/1835813272.py:43: UserWarning: Could not infer format, so each element will be parsed individually, falling back to `dateutil`. To ensure parsing is consistent and as-expected, please specify a format.\n",
      "  modifiedPatientsDataFrame[column] = pd.to_datetime(modifiedPatientsDataFrame[column], errors=\"coerce\")\n"
     ]
    }
   ],
   "source": [
    "# First step below\n",
    "\n",
    "path_to_participants_tsv = Path(\"/Volumes/BrainMets/Rgb_Brain_Mets/brain_mets_classification/rawdata/participants.tsv\")\n",
    "\n",
    "path_to_sheets_dir = Path(\"/Users/LennartPhilipp/Desktop/Uni/Prowiss/Dateien\")\n",
    "\n",
    "participants = pd.read_csv(path_to_participants_tsv, sep=\"\\t\")\n",
    "participants.drop(columns=[\"sex (m/f)\", \"age\", \"primary\"])\n",
    "\n",
    "def get_pat_id(participant_id):\n",
    "    id = participant_id.split(\"-\")[1]\n",
    "    return int(id)\n",
    "\n",
    "patient_ids = list(participants[\"participant_id\"].apply(get_pat_id))\n",
    "\n",
    "# Second stop below\n",
    "\n",
    "modifiedPatientsDataFrame = modifiedPatientsDataFrame[modifiedPatientsDataFrame[\"in_study (0 = no, 1 = yes, 2 = tbd, 3 = remarkable)\"] != 3]\n",
    "modifiedPatientsDataFrame = modifiedPatientsDataFrame[modifiedPatientsDataFrame[\"in_study (0 = no, 1 = yes, 2 = tbd, 3 = remarkable)\"] != 0]\n",
    "modifiedPatientsDataFrame = modifiedPatientsDataFrame.iloc[:, :38] # only keeps the columns until column 38\n",
    "modifiedPatientsDataFrame = modifiedPatientsDataFrame.drop(columns=[\"T.1\",\n",
    "                                                                    \"primary_coded\",\n",
    "                                                                    \"primary_coded_clean\",\n",
    "                                                                    \"N\",\n",
    "                                                                    \"M\",\n",
    "                                                                    \"M_number_organ_systems\",\n",
    "                                                                    \"TNM\",\n",
    "                                                                    \"Survival ab ED gesamt\",\n",
    "                                                                    \"Survival ab ED Hirnmet.\",\n",
    "                                                                    \"Survival_from_ED_Met (months)\",\n",
    "                                                                    \"Alter bei MRT (J./kalkuliert)\",\n",
    "                                                                    \"Dauer Tumorleiden\\n(kalkuliert; von ED bis ED Hirnmet.)\",\n",
    "                                                                    \"Karnofsky (%)\",\n",
    "                                                                    \"periphere Metastasen zum Zeitpunkt des MRTs ( Keine = 0, Einzelne = 1, Oligo =2, Multipel =3)\",\n",
    "                                                                    \"im Verlauf neu aufgetretene Metastasen (0 = keine bekannt)\",\n",
    "                                                                    ])\n",
    "\n",
    "# turn all preop_MRICE_date strings into datetime format, ignoring strings that can't be turned into dates\n",
    "modifiedPatientsDataFrame[\"preop_MRICE_date\"] = pd.to_datetime(modifiedPatientsDataFrame[\"preop_MRICE_date\"], errors=\"ignore\")\n",
    "\n",
    "# turn all brithdate, death_date, date_first_diagnosis_primary and date_first_diagnosis_brain_met strings into datetime format, setting all strings that can't be turned into dates to NaT\n",
    "for column in [\"birthdate\", \"death_date\", \"date_first_diagnosis_primary\", \"date_first_diagnosis_brain_met\"]:\n",
    "    modifiedPatientsDataFrame[column] = pd.to_datetime(modifiedPatientsDataFrame[column], errors=\"coerce\")\n",
    "\n",
    "\n",
    "# Third step below\n",
    "\n",
    "patients_without_images = modifiedPatientsDataFrame[~modifiedPatientsDataFrame[\"ID\"].isin(patient_ids)]\n",
    "\n",
    "patients_without_images.to_excel(path_to_sheets_dir / Path(\"patients_without_images.xlsx\"), index=False)"
   ]
  }
 ],
 "metadata": {
  "kernelspec": {
   "display_name": "base",
   "language": "python",
   "name": "python3"
  },
  "language_info": {
   "codemirror_mode": {
    "name": "ipython",
    "version": 3
   },
   "file_extension": ".py",
   "mimetype": "text/x-python",
   "name": "python",
   "nbconvert_exporter": "python",
   "pygments_lexer": "ipython3",
   "version": "3.11.0"
  }
 },
 "nbformat": 4,
 "nbformat_minor": 2
}
