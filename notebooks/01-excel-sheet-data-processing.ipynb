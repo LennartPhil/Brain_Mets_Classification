{
 "cells": [
  {
   "cell_type": "markdown",
   "metadata": {},
   "source": [
    "## Preprocessing for the .xlsx file"
   ]
  },
  {
   "cell_type": "code",
   "execution_count": 1,
   "metadata": {},
   "outputs": [],
   "source": [
    "# import libraries\n",
    "import pandas as pd"
   ]
  },
  {
   "cell_type": "markdown",
   "metadata": {},
   "source": [
    "### Load data from excel sheet"
   ]
  },
  {
   "cell_type": "code",
   "execution_count": 46,
   "metadata": {},
   "outputs": [],
   "source": [
    "# reads the patient excel sheet and puts them into a pandas Dataframe\n",
    "path = \"/Users/LennartPhilipp/Desktop/Uni/Prowiss/Dateien/Metas_PatID_Full_SMI private Datei.xlsx\"\n",
    "try:\n",
    "    patientsDataFrame = pd.read_excel(path)\n",
    "except ImportError as e:\n",
    "    print(e)\n",
    "\n",
    "modifiedPatientsDataFrame = patientsDataFrame.copy()"
   ]
  },
  {
   "cell_type": "markdown",
   "metadata": {},
   "source": [
    "### Remove unnecessary columns"
   ]
  },
  {
   "cell_type": "code",
   "execution_count": 47,
   "metadata": {},
   "outputs": [],
   "source": [
    "# removes patients' names from dataset\n",
    "modifiedPatientsDataFrame = modifiedPatientsDataFrame.drop(columns=[\"name\"])\n",
    "\n",
    "# removes unused columns from dataset\n",
    "modifiedPatientsDataFrame = modifiedPatientsDataFrame.iloc[:, :38] # only keeps the columns until column 38\n",
    "modifiedPatientsDataFrame = modifiedPatientsDataFrame.drop(columns=[\"T.1\",\n",
    "                                                                    \"primary_coded\",\n",
    "                                                                    \"N\",\n",
    "                                                                    \"M\",\n",
    "                                                                    \"M_number_organ_systems\",\n",
    "                                                                    \"TNM\",\n",
    "                                                                    \"Survival ab ED gesamt\",\n",
    "                                                                    \"Survival ab ED Hirnmet.\",\n",
    "                                                                    \"Survival_from_ED_Met (months)\",\n",
    "                                                                    \"Alter bei MRT (J./kalkuliert)\",\n",
    "                                                                    \"Dauer Tumorleiden\\n(kalkuliert; von ED bis ED Hirnmet.)\",\n",
    "                                                                    \"Karnofsky (%)\",\n",
    "                                                                    \"periphere Metastasen zum Zeitpunkt des MRTs ( Keine = 0, Einzelne = 1, Oligo =2, Multipel =3)\",\n",
    "                                                                    \"im Verlauf neu aufgetretene Metastasen (0 = keine bekannt)\",\n",
    "                                                                    ])\n",
    "\n",
    "# removes patients that did not fit the study requirements\n",
    "# once all the MRI files are on the server change the following line to only inclue patients with MRI files: modifiedDataFrame[\"on_server\"] != 0\n",
    "modifiedPatientsDataFrame = modifiedPatientsDataFrame[modifiedPatientsDataFrame[\"in_study (0 = no, 1 = yes, 2 = tbd, 3 = remarkable)\"] != 0]\n",
    "\n",
    "# turn all preop_MRICE_date strings into datetime format, ignoring strings that can't be turned into dates\n",
    "modifiedPatientsDataFrame[\"preop_MRICE_date\"] = pd.to_datetime(modifiedPatientsDataFrame[\"preop_MRICE_date\"], errors=\"ignore\")\n",
    "\n",
    "# turn all brithdate, death_date, date_first_diagnosis_primary and date_first_diagnosis_brain_met strings into datetime format, setting all strings that can't be turned into dates to NaT\n",
    "for column in [\"birthdate\", \"death_date\", \"date_first_diagnosis_primary\", \"date_first_diagnosis_brain_met\"]:\n",
    "    modifiedPatientsDataFrame[column] = pd.to_datetime(modifiedPatientsDataFrame[column], errors=\"coerce\")\n",
    "\n",
    "# turn all weights into numerics\n",
    "modifiedPatientsDataFrame[\"Gewicht (kg)\"] = pd.to_numeric(modifiedPatientsDataFrame[\"Gewicht (kg)\"], errors=\"coerce\")"
   ]
  },
  {
   "cell_type": "markdown",
   "metadata": {},
   "source": [
    "### CUP patients"
   ]
  },
  {
   "cell_type": "code",
   "execution_count": 16,
   "metadata": {},
   "outputs": [],
   "source": [
    "cupPatients = modifiedPatientsDataFrame[modifiedPatientsDataFrame[\"in_study (0 = no, 1 = yes, 2 = tbd, 3 = remarkable)\"] == 3]"
   ]
  },
  {
   "cell_type": "markdown",
   "metadata": {},
   "source": [
    "### Check amount of missing values"
   ]
  },
  {
   "cell_type": "code",
   "execution_count": 94,
   "metadata": {},
   "outputs": [
    {
     "name": "stdout",
     "output_type": "stream",
     "text": [
      "# of missing values in on_server: 0\n",
      "# of missing values in in_study (0 = no, 1 = yes, 2 = tbd, 3 = remarkable): 0\n",
      "# of missing values in reason: 81\n",
      "# of missing values in MRI_comments: 567\n",
      "# of missing values in ID: 0\n",
      "# of missing values in birthdate: 2\n",
      "# of missing values in sex (m/w): 4\n",
      "# of missing values in preop_MRICE_date: 7\n",
      "# of missing values in primary_full: 6\n",
      "# of missing values in T: 33\n",
      "# of missing values in death_date: 361\n",
      "# of missing values in date_first_diagnosis_primary: 189\n",
      "# of missing values in date_first_diagnosis_brain_met: 181\n",
      "# of missing values in OP: 19\n",
      "# of missing values in Chemotherapie: 22\n",
      "# of missing values in Radiatio: 18\n",
      "# of missing values in Immuntherapie: 21\n",
      "# of missing values in Größe (cm): 205\n",
      "# of missing values in Gewicht (kg): 190\n",
      "# of missing values in ECOG: 209\n",
      "# of missing values in AZ Beschreibung: 582\n",
      "# of missing values in Resektionsstatus (0 = Komplettresektion; 1 = Rest/weitere Hirnfiliae, 2 = keine Resektion, 3 = unklar): 51\n",
      "# of missing values in im Verlauf Rezidiv der Hirnmetastase (0 = nicht bekannt; 1 = ja): 24\n"
     ]
    }
   ],
   "source": [
    "# checks the amount of missing values for each column\n",
    "for column in modifiedPatientsDataFrame.columns:\n",
    "    amount_of_nan = modifiedPatientsDataFrame[column].isna().sum()\n",
    "    print(\"# of missing values in \" + column + \": \" + str(amount_of_nan))"
   ]
  },
  {
   "cell_type": "markdown",
   "metadata": {},
   "source": [
    "### Update ECOG values\n",
    "We assume that patients that were in good shape (\"guter AZ\") also have an ECOG value of 0, even though this was not explicitally labeled as such."
   ]
  },
  {
   "cell_type": "code",
   "execution_count": 36,
   "metadata": {},
   "outputs": [],
   "source": [
    "#counter = 0\n",
    "for index, patient in modifiedPatientsDataFrame.iterrows():\n",
    "    if pd.isna(patient[\"ECOG\"]) and patient[\"AZ Beschreibung\"] == \"guter AZ\":\n",
    "        #counter += 1\n",
    "        #print(counter)\n",
    "        patient[\"ECOG\"] = 0\n"
   ]
  },
  {
   "cell_type": "markdown",
   "metadata": {},
   "source": [
    "### Adds a new column for the age when the images were taken"
   ]
  },
  {
   "cell_type": "code",
   "execution_count": 1,
   "metadata": {},
   "outputs": [],
   "source": [
    "# modifiedPatientsDataFrame[\"age_at_MRI\"] = pd.to_datetime(modifiedPatientsDataFrame[\"preop_MRICE_date\"]) - pd.to_datetime((modifiedPatientsDataFrame[\"birthdate\"]))"
   ]
  }
 ],
 "metadata": {
  "kernelspec": {
   "display_name": "Python 3",
   "language": "python",
   "name": "python3"
  },
  "language_info": {
   "codemirror_mode": {
    "name": "ipython",
    "version": 3
   },
   "file_extension": ".py",
   "mimetype": "text/x-python",
   "name": "python",
   "nbconvert_exporter": "python",
   "pygments_lexer": "ipython3",
   "version": "3.11.0"
  }
 },
 "nbformat": 4,
 "nbformat_minor": 2
}
