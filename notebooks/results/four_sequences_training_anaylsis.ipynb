{
 "cells": [
  {
   "cell_type": "markdown",
   "id": "20477743",
   "metadata": {},
   "source": [
    "# Four Sequences Training Analysis\n",
    "Base Models: ResNeXt50, ResNeXt101, ResNet152\n",
    "\n",
    "In the following file I'll note the trainings of the above mentioned Base Models with 4 MRI squences as inputs."
   ]
  },
  {
   "cell_type": "code",
   "execution_count": null,
   "id": "40f83e4c",
   "metadata": {},
   "outputs": [],
   "source": [
    "import plotting_analysis_funcs"
   ]
  },
  {
   "cell_type": "markdown",
   "id": "0d30ec6e",
   "metadata": {},
   "source": [
    "## ResNeXt50"
   ]
  },
  {
   "cell_type": "code",
   "execution_count": null,
   "id": "3ac42f16",
   "metadata": {
    "vscode": {
     "languageId": "plaintext"
    }
   },
   "outputs": [],
   "source": []
  },
  {
   "cell_type": "markdown",
   "id": "85d909f8",
   "metadata": {},
   "source": [
    "## ResNeXt101"
   ]
  },
  {
   "cell_type": "code",
   "execution_count": null,
   "id": "df7f354c",
   "metadata": {
    "vscode": {
     "languageId": "plaintext"
    }
   },
   "outputs": [],
   "source": []
  },
  {
   "cell_type": "markdown",
   "id": "939305f8",
   "metadata": {},
   "source": [
    "## ResNet152"
   ]
  },
  {
   "cell_type": "code",
   "execution_count": null,
   "id": "5abe9e55",
   "metadata": {
    "vscode": {
     "languageId": "plaintext"
    }
   },
   "outputs": [],
   "source": []
  }
 ],
 "metadata": {
  "language_info": {
   "name": "python"
  }
 },
 "nbformat": 4,
 "nbformat_minor": 5
}
