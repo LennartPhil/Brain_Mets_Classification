{
 "cells": [
  {
   "cell_type": "markdown",
   "id": "3ba73f3c",
   "metadata": {},
   "source": [
    "# K‑Fold Pretrain Fine Model Comparison Dashboard\n",
    "\n",
    "This notebook loads k‑fold training histories for **multiple models**, extracts the **best epoch per fold** (based on `val_accuracy` by default), and provides **publication‑quality** comparisons:\n",
    "\n",
    "- Summary tables per model and combined\n",
    "- Boxplot of validation accuracy across folds (per model)\n",
    "- Mean±SD bar charts for validation accuracy and overfitting gap\n",
    "- CSV export of all summarized results\n",
    "\n",
    "> **Assumptions:** Each fold's history is stored as a NumPy `.npy` (dict-like) with keys at least: `accuracy`, `loss`, `val_accuracy`, `val_loss`. Filenames contain `fold_{i}` so the fold number can be parsed.\n"
   ]
  },
  {
   "cell_type": "code",
   "execution_count": 1,
   "id": "5470205f",
   "metadata": {},
   "outputs": [],
   "source": [
    "import glob\n",
    "import re\n",
    "from pathlib import Path\n",
    "from typing import Union\n",
    "\n",
    "import numpy as np\n",
    "import pandas as pd\n",
    "import matplotlib.pyplot as plt\n",
    "\n",
    "from brainmet import plotting as brain_met_plt\n",
    "\n",
    "pd.set_option(\"display.max_rows\", 200)\n",
    "pd.set_option(\"display.float_format\", \"{:.4f}\".format)"
   ]
  },
  {
   "cell_type": "markdown",
   "id": "6a129e03",
   "metadata": {},
   "source": [
    "## 1) Configure your models and file patterns\n",
    "\n",
    "Edit the dictionary below so that each **key** is a human‑readable model name and each **value** is either a single **glob pattern (string)** or a **list of glob patterns** for runs that were split across multiple folders.\n",
    "\n",
    "**Examples**\n",
    "- **Single path:** `\"ResNet50\": \"/path/to/logs/ResNet50/history_*_fold_*.npy\"`\n",
    "- **Split run:** `\"EfficientNet\": [\"/path/part1/EffNet/history_*.npy\", \"/path/part2/EffNet/history_*.npy\"]`\n",
    "\n",
    "> The pattern must include `fold_` followed by a number (e.g., `fold_1`), which is used to map results to each fold."
   ]
  },
  {
   "cell_type": "code",
   "execution_count": 2,
   "id": "1fd36e76",
   "metadata": {},
   "outputs": [],
   "source": [
    "# === EDIT ME: map model names to their glob patterns ===\n",
    "MODEL_PATTERNS = {\n",
    "    \"ResNeXt50\": '/Users/LennartPhilipp/Desktop/Uni/Prowiss/Training/training_histories_06_25/ResNeXt50/2_classes_training/pretrain_fine/resnext50_00_2cls_slice_no_clin_no_layer_gray_seq[[]t1c[]]_normal_DA_kfold_run_2025_10_25_18_15_06/history_resnext50_00_2cls_slice_no_clin_no_layer_gray_seq[[]t1c[]]_normal_DA_kfold_fold_*_run_2025_10_25_18_15_06.npy',\n",
    "    \"ResNeXt101\": '/Users/LennartPhilipp/Desktop/Uni/Prowiss/Training/training_histories_06_25/ResNeXt101/2_classes_training/pretrain_fine/resnext101_00_2cls_slice_no_clin_no_layer_gray_seq[[]t1c[]]_normal_DA_kfold_run_2025_10_26_22_44_43/history_resnext101_00_2cls_slice_no_clin_no_layer_gray_seq[[]t1c[]]_normal_DA_kfold_fold_*_run_2025_10_26_22_44_43.npy',\n",
    "    \"ResNet152\": '/Users/LennartPhilipp/Desktop/Uni/Prowiss/Training/training_histories_06_25/ResNet152/2_classes_training/pretrain_fine/resnet152_00_2cls_slice_no_clin_no_layer_gray_seq[[]t1c[]]_normal_DA_kfold_run_2025_10_24_09_13_57/history_resnet152_00_2cls_slice_no_clin_no_layer_gray_seq[[]t1c[]]_normal_DA_kfold_fold_*_run_2025_10_24_09_13_57.npy'\n",
    "}\n",
    "\n",
    "# Metric used to pick the best epoch within each fold\n",
    "SELECTION_METRIC = \"val_accuracy\"  # change to \"val_loss\" if desired\n",
    "HIGHER_IS_BETTER = True            # set False if using \"val_loss\" or any metric where lower is better\n"
   ]
  },
  {
   "cell_type": "markdown",
   "id": "594f390a",
   "metadata": {},
   "source": [
    "## 3) Run the summary"
   ]
  },
  {
   "cell_type": "code",
   "execution_count": 3,
   "id": "a38f0ca0",
   "metadata": {},
   "outputs": [
    {
     "name": "stdout",
     "output_type": "stream",
     "text": [
      "--- Processing model: ResNeXt50 ---\n",
      "--- Processing model: ResNeXt101 ---\n",
      "--- Processing model: ResNet152 ---\n"
     ]
    },
    {
     "data": {
      "application/vnd.microsoft.datawrangler.viewer.v0+json": {
       "columns": [
        {
         "name": "index",
         "rawType": "int64",
         "type": "integer"
        },
        {
         "name": "Model",
         "rawType": "object",
         "type": "string"
        },
        {
         "name": "Fold",
         "rawType": "int64",
         "type": "integer"
        },
        {
         "name": "Best Epoch",
         "rawType": "int64",
         "type": "integer"
        },
        {
         "name": "Val Accuracy",
         "rawType": "float64",
         "type": "float"
        },
        {
         "name": "Val Loss",
         "rawType": "float64",
         "type": "float"
        },
        {
         "name": "Train Accuracy",
         "rawType": "float64",
         "type": "float"
        },
        {
         "name": "Train Loss",
         "rawType": "float64",
         "type": "float"
        },
        {
         "name": "Overfitting Gap (Acc)",
         "rawType": "float64",
         "type": "float"
        }
       ],
       "ref": "337404c9-45d7-4b7a-b985-1134e65035ee",
       "rows": [
        [
         "0",
         "ResNeXt101",
         "0",
         "363",
         "0.732824444770813",
         "0.9914332032203674",
         "0.6851008534431458",
         "0.9647963643074036",
         "-0.047723591327667236"
        ],
        [
         "1",
         "ResNeXt101",
         "1",
         "977",
         "0.6767241358757019",
         "1.2366745471954346",
         "0.8878830075263977",
         "0.4931080937385559",
         "0.2111588716506958"
        ],
        [
         "2",
         "ResNeXt101",
         "2",
         "265",
         "0.7950819730758667",
         "1.0136162042617798",
         "0.6591203212738037",
         "1.0863726139068604",
         "-0.135961651802063"
        ],
        [
         "3",
         "ResNeXt101",
         "3",
         "626",
         "0.801075279712677",
         "0.7646276950836182",
         "0.7402158975601196",
         "0.750379204750061",
         "-0.06085938215255737"
        ],
        [
         "4",
         "ResNeXt101",
         "4",
         "514",
         "0.7007874250411987",
         "0.9205349683761597",
         "0.6748864650726318",
         "0.8736578822135925",
         "-0.025900959968566895"
        ],
        [
         "5",
         "ResNeXt101",
         "5",
         "319",
         "0.7490347623825073",
         "0.9926280379295349",
         "0.6905606985092163",
         "1.01334547996521",
         "-0.058474063873291016"
        ],
        [
         "6",
         "ResNeXt101",
         "6",
         "232",
         "0.7777777910232544",
         "1.0964858531951904",
         "0.6734693646430969",
         "1.126808762550354",
         "-0.10430842638015747"
        ],
        [
         "7",
         "ResNeXt101",
         "7",
         "564",
         "0.7685185074806213",
         "0.8188127875328064",
         "0.7089743614196777",
         "0.8103777766227722",
         "-0.059544146060943604"
        ],
        [
         "8",
         "ResNeXt101",
         "8",
         "141",
         "0.7687074542045593",
         "1.2099183797836304",
         "0.6239316463470459",
         "1.2854868173599243",
         "-0.14477580785751343"
        ],
        [
         "9",
         "ResNeXt101",
         "9",
         "387",
         "0.753164529800415",
         "0.9200761914253235",
         "0.6655629277229309",
         "0.9610584378242493",
         "-0.08760160207748413"
        ],
        [
         "10",
         "ResNeXt50",
         "0",
         "816",
         "0.7480915784835815",
         "0.9410984516143799",
         "0.7839947938919067",
         "0.7799007296562195",
         "0.035903215408325195"
        ],
        [
         "11",
         "ResNeXt50",
         "1",
         "278",
         "0.7413793206214905",
         "1.574177622795105",
         "0.6685236692428589",
         "1.5994014739990234",
         "-0.07285565137863159"
        ],
        [
         "12",
         "ResNeXt50",
         "2",
         "304",
         "0.7704917788505554",
         "89.25059509277344",
         "0.6397153735160828",
         "1.5322118997573853",
         "-0.13077640533447266"
        ],
        [
         "13",
         "ResNeXt50",
         "3",
         "935",
         "0.7688171863555908",
         "0.8867294788360596",
         "0.7840755581855774",
         "0.7457982301712036",
         "0.015258371829986572"
        ],
        [
         "14",
         "ResNeXt50",
         "4",
         "791",
         "0.7322834730148315",
         "0.9551577568054199",
         "0.6872161030769348",
         "0.9382396936416626",
         "-0.04506736993789673"
        ],
        [
         "15",
         "ResNeXt50",
         "5",
         "1479",
         "0.7876448035240173",
         "0.8848789930343628",
         "0.7480482459068298",
         "0.6411163210868835",
         "-0.0395965576171875"
        ],
        [
         "16",
         "ResNeXt50",
         "6",
         "485",
         "0.7575757503509521",
         "1.1900744438171387",
         "0.7285714149475098",
         "1.163535714149475",
         "-0.029004335403442383"
        ],
        [
         "17",
         "ResNeXt50",
         "7",
         "413",
         "0.75",
         "1.281798243522644",
         "0.6737179756164551",
         "1.2843419313430786",
         "-0.07628202438354492"
        ],
        [
         "18",
         "ResNeXt50",
         "8",
         "500",
         "0.7414966225624084",
         "1.2156953811645508",
         "0.7232084274291992",
         "1.1325225830078125",
         "-0.01828819513320923"
        ],
        [
         "19",
         "ResNeXt50",
         "9",
         "865",
         "0.7405063509941101",
         "0.8714931607246399",
         "0.7019867300987244",
         "0.8284705877304077",
         "-0.03851962089538574"
        ],
        [
         "20",
         "ResNet152",
         "0",
         "182",
         "0.7404580116271973",
         "1.0425399541854858",
         "0.6493168473243713",
         "0.9928088784217834",
         "-0.09114116430282593"
        ],
        [
         "21",
         "ResNet152",
         "1",
         "209",
         "0.6853448152542114",
         "0.9380435347557068",
         "0.6824512481689453",
         "0.9753178954124451",
         "-0.0028935670852661133"
        ],
        [
         "22",
         "ResNet152",
         "2",
         "222",
         "0.8032786846160889",
         "0.9072606563568115",
         "0.6481242179870605",
         "0.9789212346076965",
         "-0.15515446662902832"
        ],
        [
         "23",
         "ResNet152",
         "3",
         "342",
         "0.8064516186714172",
         "0.8377683758735657",
         "0.6693657040596008",
         "0.9184026122093201",
         "-0.1370859146118164"
        ],
        [
         "24",
         "ResNet152",
         "4",
         "225",
         "0.6929134130477905",
         "0.9927835464477539",
         "0.654120683670044",
         "0.9669093489646912",
         "-0.03879272937774658"
        ],
        [
         "25",
         "ResNet152",
         "5",
         "930",
         "0.7760617733001709",
         "0.8066490292549133",
         "0.8552164435386658",
         "0.5488335490226746",
         "0.07915467023849487"
        ],
        [
         "26",
         "ResNet152",
         "6",
         "103",
         "0.7828282713890076",
         "1.233716368675232",
         "0.6190476417541504",
         "1.0596519708633423",
         "-0.16378062963485718"
        ],
        [
         "27",
         "ResNet152",
         "7",
         "1008",
         "0.7685185074806213",
         "0.7282958030700684",
         "0.821794867515564",
         "0.5802534222602844",
         "0.05327636003494263"
        ],
        [
         "28",
         "ResNet152",
         "8",
         "300",
         "0.7551020383834839",
         "0.8574223518371582",
         "0.6857330799102783",
         "0.9217191934585571",
         "-0.06936895847320557"
        ],
        [
         "29",
         "ResNet152",
         "9",
         "101",
         "0.6772152185440063",
         "1.0242060422897339",
         "0.6099337935447693",
         "1.0661689043045044",
         "-0.06728142499923706"
        ]
       ],
       "shape": {
        "columns": 8,
        "rows": 30
       }
      },
      "text/html": [
       "<div>\n",
       "<style scoped>\n",
       "    .dataframe tbody tr th:only-of-type {\n",
       "        vertical-align: middle;\n",
       "    }\n",
       "\n",
       "    .dataframe tbody tr th {\n",
       "        vertical-align: top;\n",
       "    }\n",
       "\n",
       "    .dataframe thead th {\n",
       "        text-align: right;\n",
       "    }\n",
       "</style>\n",
       "<table border=\"1\" class=\"dataframe\">\n",
       "  <thead>\n",
       "    <tr style=\"text-align: right;\">\n",
       "      <th></th>\n",
       "      <th>Model</th>\n",
       "      <th>Fold</th>\n",
       "      <th>Best Epoch</th>\n",
       "      <th>Val Accuracy</th>\n",
       "      <th>Val Loss</th>\n",
       "      <th>Train Accuracy</th>\n",
       "      <th>Train Loss</th>\n",
       "      <th>Overfitting Gap (Acc)</th>\n",
       "    </tr>\n",
       "  </thead>\n",
       "  <tbody>\n",
       "    <tr>\n",
       "      <th>0</th>\n",
       "      <td>ResNeXt101</td>\n",
       "      <td>0</td>\n",
       "      <td>363</td>\n",
       "      <td>0.7328</td>\n",
       "      <td>0.9914</td>\n",
       "      <td>0.6851</td>\n",
       "      <td>0.9648</td>\n",
       "      <td>-0.0477</td>\n",
       "    </tr>\n",
       "    <tr>\n",
       "      <th>1</th>\n",
       "      <td>ResNeXt101</td>\n",
       "      <td>1</td>\n",
       "      <td>977</td>\n",
       "      <td>0.6767</td>\n",
       "      <td>1.2367</td>\n",
       "      <td>0.8879</td>\n",
       "      <td>0.4931</td>\n",
       "      <td>0.2112</td>\n",
       "    </tr>\n",
       "    <tr>\n",
       "      <th>2</th>\n",
       "      <td>ResNeXt101</td>\n",
       "      <td>2</td>\n",
       "      <td>265</td>\n",
       "      <td>0.7951</td>\n",
       "      <td>1.0136</td>\n",
       "      <td>0.6591</td>\n",
       "      <td>1.0864</td>\n",
       "      <td>-0.1360</td>\n",
       "    </tr>\n",
       "    <tr>\n",
       "      <th>3</th>\n",
       "      <td>ResNeXt101</td>\n",
       "      <td>3</td>\n",
       "      <td>626</td>\n",
       "      <td>0.8011</td>\n",
       "      <td>0.7646</td>\n",
       "      <td>0.7402</td>\n",
       "      <td>0.7504</td>\n",
       "      <td>-0.0609</td>\n",
       "    </tr>\n",
       "    <tr>\n",
       "      <th>4</th>\n",
       "      <td>ResNeXt101</td>\n",
       "      <td>4</td>\n",
       "      <td>514</td>\n",
       "      <td>0.7008</td>\n",
       "      <td>0.9205</td>\n",
       "      <td>0.6749</td>\n",
       "      <td>0.8737</td>\n",
       "      <td>-0.0259</td>\n",
       "    </tr>\n",
       "    <tr>\n",
       "      <th>5</th>\n",
       "      <td>ResNeXt101</td>\n",
       "      <td>5</td>\n",
       "      <td>319</td>\n",
       "      <td>0.7490</td>\n",
       "      <td>0.9926</td>\n",
       "      <td>0.6906</td>\n",
       "      <td>1.0133</td>\n",
       "      <td>-0.0585</td>\n",
       "    </tr>\n",
       "    <tr>\n",
       "      <th>6</th>\n",
       "      <td>ResNeXt101</td>\n",
       "      <td>6</td>\n",
       "      <td>232</td>\n",
       "      <td>0.7778</td>\n",
       "      <td>1.0965</td>\n",
       "      <td>0.6735</td>\n",
       "      <td>1.1268</td>\n",
       "      <td>-0.1043</td>\n",
       "    </tr>\n",
       "    <tr>\n",
       "      <th>7</th>\n",
       "      <td>ResNeXt101</td>\n",
       "      <td>7</td>\n",
       "      <td>564</td>\n",
       "      <td>0.7685</td>\n",
       "      <td>0.8188</td>\n",
       "      <td>0.7090</td>\n",
       "      <td>0.8104</td>\n",
       "      <td>-0.0595</td>\n",
       "    </tr>\n",
       "    <tr>\n",
       "      <th>8</th>\n",
       "      <td>ResNeXt101</td>\n",
       "      <td>8</td>\n",
       "      <td>141</td>\n",
       "      <td>0.7687</td>\n",
       "      <td>1.2099</td>\n",
       "      <td>0.6239</td>\n",
       "      <td>1.2855</td>\n",
       "      <td>-0.1448</td>\n",
       "    </tr>\n",
       "    <tr>\n",
       "      <th>9</th>\n",
       "      <td>ResNeXt101</td>\n",
       "      <td>9</td>\n",
       "      <td>387</td>\n",
       "      <td>0.7532</td>\n",
       "      <td>0.9201</td>\n",
       "      <td>0.6656</td>\n",
       "      <td>0.9611</td>\n",
       "      <td>-0.0876</td>\n",
       "    </tr>\n",
       "    <tr>\n",
       "      <th>10</th>\n",
       "      <td>ResNeXt50</td>\n",
       "      <td>0</td>\n",
       "      <td>816</td>\n",
       "      <td>0.7481</td>\n",
       "      <td>0.9411</td>\n",
       "      <td>0.7840</td>\n",
       "      <td>0.7799</td>\n",
       "      <td>0.0359</td>\n",
       "    </tr>\n",
       "    <tr>\n",
       "      <th>11</th>\n",
       "      <td>ResNeXt50</td>\n",
       "      <td>1</td>\n",
       "      <td>278</td>\n",
       "      <td>0.7414</td>\n",
       "      <td>1.5742</td>\n",
       "      <td>0.6685</td>\n",
       "      <td>1.5994</td>\n",
       "      <td>-0.0729</td>\n",
       "    </tr>\n",
       "    <tr>\n",
       "      <th>12</th>\n",
       "      <td>ResNeXt50</td>\n",
       "      <td>2</td>\n",
       "      <td>304</td>\n",
       "      <td>0.7705</td>\n",
       "      <td>89.2506</td>\n",
       "      <td>0.6397</td>\n",
       "      <td>1.5322</td>\n",
       "      <td>-0.1308</td>\n",
       "    </tr>\n",
       "    <tr>\n",
       "      <th>13</th>\n",
       "      <td>ResNeXt50</td>\n",
       "      <td>3</td>\n",
       "      <td>935</td>\n",
       "      <td>0.7688</td>\n",
       "      <td>0.8867</td>\n",
       "      <td>0.7841</td>\n",
       "      <td>0.7458</td>\n",
       "      <td>0.0153</td>\n",
       "    </tr>\n",
       "    <tr>\n",
       "      <th>14</th>\n",
       "      <td>ResNeXt50</td>\n",
       "      <td>4</td>\n",
       "      <td>791</td>\n",
       "      <td>0.7323</td>\n",
       "      <td>0.9552</td>\n",
       "      <td>0.6872</td>\n",
       "      <td>0.9382</td>\n",
       "      <td>-0.0451</td>\n",
       "    </tr>\n",
       "    <tr>\n",
       "      <th>15</th>\n",
       "      <td>ResNeXt50</td>\n",
       "      <td>5</td>\n",
       "      <td>1479</td>\n",
       "      <td>0.7876</td>\n",
       "      <td>0.8849</td>\n",
       "      <td>0.7480</td>\n",
       "      <td>0.6411</td>\n",
       "      <td>-0.0396</td>\n",
       "    </tr>\n",
       "    <tr>\n",
       "      <th>16</th>\n",
       "      <td>ResNeXt50</td>\n",
       "      <td>6</td>\n",
       "      <td>485</td>\n",
       "      <td>0.7576</td>\n",
       "      <td>1.1901</td>\n",
       "      <td>0.7286</td>\n",
       "      <td>1.1635</td>\n",
       "      <td>-0.0290</td>\n",
       "    </tr>\n",
       "    <tr>\n",
       "      <th>17</th>\n",
       "      <td>ResNeXt50</td>\n",
       "      <td>7</td>\n",
       "      <td>413</td>\n",
       "      <td>0.7500</td>\n",
       "      <td>1.2818</td>\n",
       "      <td>0.6737</td>\n",
       "      <td>1.2843</td>\n",
       "      <td>-0.0763</td>\n",
       "    </tr>\n",
       "    <tr>\n",
       "      <th>18</th>\n",
       "      <td>ResNeXt50</td>\n",
       "      <td>8</td>\n",
       "      <td>500</td>\n",
       "      <td>0.7415</td>\n",
       "      <td>1.2157</td>\n",
       "      <td>0.7232</td>\n",
       "      <td>1.1325</td>\n",
       "      <td>-0.0183</td>\n",
       "    </tr>\n",
       "    <tr>\n",
       "      <th>19</th>\n",
       "      <td>ResNeXt50</td>\n",
       "      <td>9</td>\n",
       "      <td>865</td>\n",
       "      <td>0.7405</td>\n",
       "      <td>0.8715</td>\n",
       "      <td>0.7020</td>\n",
       "      <td>0.8285</td>\n",
       "      <td>-0.0385</td>\n",
       "    </tr>\n",
       "    <tr>\n",
       "      <th>20</th>\n",
       "      <td>ResNet152</td>\n",
       "      <td>0</td>\n",
       "      <td>182</td>\n",
       "      <td>0.7405</td>\n",
       "      <td>1.0425</td>\n",
       "      <td>0.6493</td>\n",
       "      <td>0.9928</td>\n",
       "      <td>-0.0911</td>\n",
       "    </tr>\n",
       "    <tr>\n",
       "      <th>21</th>\n",
       "      <td>ResNet152</td>\n",
       "      <td>1</td>\n",
       "      <td>209</td>\n",
       "      <td>0.6853</td>\n",
       "      <td>0.9380</td>\n",
       "      <td>0.6825</td>\n",
       "      <td>0.9753</td>\n",
       "      <td>-0.0029</td>\n",
       "    </tr>\n",
       "    <tr>\n",
       "      <th>22</th>\n",
       "      <td>ResNet152</td>\n",
       "      <td>2</td>\n",
       "      <td>222</td>\n",
       "      <td>0.8033</td>\n",
       "      <td>0.9073</td>\n",
       "      <td>0.6481</td>\n",
       "      <td>0.9789</td>\n",
       "      <td>-0.1552</td>\n",
       "    </tr>\n",
       "    <tr>\n",
       "      <th>23</th>\n",
       "      <td>ResNet152</td>\n",
       "      <td>3</td>\n",
       "      <td>342</td>\n",
       "      <td>0.8065</td>\n",
       "      <td>0.8378</td>\n",
       "      <td>0.6694</td>\n",
       "      <td>0.9184</td>\n",
       "      <td>-0.1371</td>\n",
       "    </tr>\n",
       "    <tr>\n",
       "      <th>24</th>\n",
       "      <td>ResNet152</td>\n",
       "      <td>4</td>\n",
       "      <td>225</td>\n",
       "      <td>0.6929</td>\n",
       "      <td>0.9928</td>\n",
       "      <td>0.6541</td>\n",
       "      <td>0.9669</td>\n",
       "      <td>-0.0388</td>\n",
       "    </tr>\n",
       "    <tr>\n",
       "      <th>25</th>\n",
       "      <td>ResNet152</td>\n",
       "      <td>5</td>\n",
       "      <td>930</td>\n",
       "      <td>0.7761</td>\n",
       "      <td>0.8066</td>\n",
       "      <td>0.8552</td>\n",
       "      <td>0.5488</td>\n",
       "      <td>0.0792</td>\n",
       "    </tr>\n",
       "    <tr>\n",
       "      <th>26</th>\n",
       "      <td>ResNet152</td>\n",
       "      <td>6</td>\n",
       "      <td>103</td>\n",
       "      <td>0.7828</td>\n",
       "      <td>1.2337</td>\n",
       "      <td>0.6190</td>\n",
       "      <td>1.0597</td>\n",
       "      <td>-0.1638</td>\n",
       "    </tr>\n",
       "    <tr>\n",
       "      <th>27</th>\n",
       "      <td>ResNet152</td>\n",
       "      <td>7</td>\n",
       "      <td>1008</td>\n",
       "      <td>0.7685</td>\n",
       "      <td>0.7283</td>\n",
       "      <td>0.8218</td>\n",
       "      <td>0.5803</td>\n",
       "      <td>0.0533</td>\n",
       "    </tr>\n",
       "    <tr>\n",
       "      <th>28</th>\n",
       "      <td>ResNet152</td>\n",
       "      <td>8</td>\n",
       "      <td>300</td>\n",
       "      <td>0.7551</td>\n",
       "      <td>0.8574</td>\n",
       "      <td>0.6857</td>\n",
       "      <td>0.9217</td>\n",
       "      <td>-0.0694</td>\n",
       "    </tr>\n",
       "    <tr>\n",
       "      <th>29</th>\n",
       "      <td>ResNet152</td>\n",
       "      <td>9</td>\n",
       "      <td>101</td>\n",
       "      <td>0.6772</td>\n",
       "      <td>1.0242</td>\n",
       "      <td>0.6099</td>\n",
       "      <td>1.0662</td>\n",
       "      <td>-0.0673</td>\n",
       "    </tr>\n",
       "  </tbody>\n",
       "</table>\n",
       "</div>"
      ],
      "text/plain": [
       "         Model  Fold  Best Epoch  Val Accuracy  Val Loss  Train Accuracy  \\\n",
       "0   ResNeXt101     0         363        0.7328    0.9914          0.6851   \n",
       "1   ResNeXt101     1         977        0.6767    1.2367          0.8879   \n",
       "2   ResNeXt101     2         265        0.7951    1.0136          0.6591   \n",
       "3   ResNeXt101     3         626        0.8011    0.7646          0.7402   \n",
       "4   ResNeXt101     4         514        0.7008    0.9205          0.6749   \n",
       "5   ResNeXt101     5         319        0.7490    0.9926          0.6906   \n",
       "6   ResNeXt101     6         232        0.7778    1.0965          0.6735   \n",
       "7   ResNeXt101     7         564        0.7685    0.8188          0.7090   \n",
       "8   ResNeXt101     8         141        0.7687    1.2099          0.6239   \n",
       "9   ResNeXt101     9         387        0.7532    0.9201          0.6656   \n",
       "10   ResNeXt50     0         816        0.7481    0.9411          0.7840   \n",
       "11   ResNeXt50     1         278        0.7414    1.5742          0.6685   \n",
       "12   ResNeXt50     2         304        0.7705   89.2506          0.6397   \n",
       "13   ResNeXt50     3         935        0.7688    0.8867          0.7841   \n",
       "14   ResNeXt50     4         791        0.7323    0.9552          0.6872   \n",
       "15   ResNeXt50     5        1479        0.7876    0.8849          0.7480   \n",
       "16   ResNeXt50     6         485        0.7576    1.1901          0.7286   \n",
       "17   ResNeXt50     7         413        0.7500    1.2818          0.6737   \n",
       "18   ResNeXt50     8         500        0.7415    1.2157          0.7232   \n",
       "19   ResNeXt50     9         865        0.7405    0.8715          0.7020   \n",
       "20   ResNet152     0         182        0.7405    1.0425          0.6493   \n",
       "21   ResNet152     1         209        0.6853    0.9380          0.6825   \n",
       "22   ResNet152     2         222        0.8033    0.9073          0.6481   \n",
       "23   ResNet152     3         342        0.8065    0.8378          0.6694   \n",
       "24   ResNet152     4         225        0.6929    0.9928          0.6541   \n",
       "25   ResNet152     5         930        0.7761    0.8066          0.8552   \n",
       "26   ResNet152     6         103        0.7828    1.2337          0.6190   \n",
       "27   ResNet152     7        1008        0.7685    0.7283          0.8218   \n",
       "28   ResNet152     8         300        0.7551    0.8574          0.6857   \n",
       "29   ResNet152     9         101        0.6772    1.0242          0.6099   \n",
       "\n",
       "    Train Loss  Overfitting Gap (Acc)  \n",
       "0       0.9648                -0.0477  \n",
       "1       0.4931                 0.2112  \n",
       "2       1.0864                -0.1360  \n",
       "3       0.7504                -0.0609  \n",
       "4       0.8737                -0.0259  \n",
       "5       1.0133                -0.0585  \n",
       "6       1.1268                -0.1043  \n",
       "7       0.8104                -0.0595  \n",
       "8       1.2855                -0.1448  \n",
       "9       0.9611                -0.0876  \n",
       "10      0.7799                 0.0359  \n",
       "11      1.5994                -0.0729  \n",
       "12      1.5322                -0.1308  \n",
       "13      0.7458                 0.0153  \n",
       "14      0.9382                -0.0451  \n",
       "15      0.6411                -0.0396  \n",
       "16      1.1635                -0.0290  \n",
       "17      1.2843                -0.0763  \n",
       "18      1.1325                -0.0183  \n",
       "19      0.8285                -0.0385  \n",
       "20      0.9928                -0.0911  \n",
       "21      0.9753                -0.0029  \n",
       "22      0.9789                -0.1552  \n",
       "23      0.9184                -0.1371  \n",
       "24      0.9669                -0.0388  \n",
       "25      0.5488                 0.0792  \n",
       "26      1.0597                -0.1638  \n",
       "27      0.5803                 0.0533  \n",
       "28      0.9217                -0.0694  \n",
       "29      1.0662                -0.0673  "
      ]
     },
     "metadata": {},
     "output_type": "display_data"
    },
    {
     "name": "stdout",
     "output_type": "stream",
     "text": [
      "\n",
      "Per-model descriptive stats (Val Accuracy):\n",
      "\n",
      "\n",
      "ResNeXt50\n",
      "count   10.0000\n",
      "mean     0.7538\n",
      "std      0.0172\n",
      "min      0.7323\n",
      "max      0.7876\n",
      "Name: Val Accuracy, dtype: float64\n",
      "\n",
      "ResNeXt101\n",
      "count   10.0000\n",
      "mean     0.7524\n",
      "std      0.0396\n",
      "min      0.6767\n",
      "max      0.8011\n",
      "Name: Val Accuracy, dtype: float64\n",
      "\n",
      "ResNet152\n",
      "count   10.0000\n",
      "mean     0.7488\n",
      "std      0.0483\n",
      "min      0.6772\n",
      "max      0.8065\n",
      "Name: Val Accuracy, dtype: float64\n"
     ]
    }
   ],
   "source": [
    "per_model_results, combined_df = brain_met_plt.summarize_all_models(\n",
    "    MODEL_PATTERNS,\n",
    "    selection_metric=SELECTION_METRIC,\n",
    "    higher_is_better=HIGHER_IS_BETTER\n",
    ")\n",
    "\n",
    "if combined_df.empty:\n",
    "    print(\"No results found. Please check your MODEL_PATTERNS and file paths.\")\n",
    "else:\n",
    "    display(combined_df.sort_values([\"Model\", \"Fold\"]).reset_index(drop=True))\n",
    "    print(\"\\nPer-model descriptive stats (Val Accuracy):\\n\")\n",
    "    for name, df in per_model_results.items():\n",
    "        if df.empty:\n",
    "            print(f\"- {name}: no data\")\n",
    "            continue\n",
    "        desc = df[\"Val Accuracy\"].describe()[[\"count\",\"mean\",\"std\",\"min\",\"max\"]]\n",
    "        print(f\"\\n{name}\\n{desc}\")"
   ]
  },
  {
   "cell_type": "markdown",
   "id": "a3866072",
   "metadata": {},
   "source": [
    "## 4) Boxplot: Validation Accuracy across folds (per model)\n",
    "\n",
    "This figure shows the **distribution** of validation accuracies across folds for each model. Use it to visually compare model stability and central tendency."
   ]
  },
  {
   "cell_type": "code",
   "execution_count": 4,
   "id": "873ca733",
   "metadata": {},
   "outputs": [
    {
     "data": {
      "image/png": "[encoded data removed]",
      "text/plain": [
       "<Figure size 1000x600 with 1 Axes>"
      ]
     },
     "metadata": {},
     "output_type": "display_data"
    },
    {
     "data": {
      "text/plain": [
       "(<Figure size 1000x600 with 1 Axes>,\n",
       " <Axes: title={'center': 'K-Fold Val Accuracy by Model'}, ylabel='Val Accuracy'>)"
      ]
     },
     "execution_count": 4,
     "metadata": {},
     "output_type": "execute_result"
    }
   ],
   "source": [
    "brain_met_plt.plot_model_comparison_boxplot(per_model_results, metric=\"Val Accuracy\", figsize=(10, 6))"
   ]
  },
  {
   "cell_type": "markdown",
   "id": "edecdb20",
   "metadata": {},
   "source": [
    "## 5) Mean ± SD: Validation Accuracy\n",
    "\n",
    "Bars show the mean validation accuracy per model with standard‑deviation error bars (across folds)."
   ]
  },
  {
   "cell_type": "code",
   "execution_count": 5,
   "id": "4ee4dcf7",
   "metadata": {},
   "outputs": [
    {
     "data": {
      "image/png": "[encoded data removed]",
      "text/plain": [
       "<Figure size 1000x600 with 1 Axes>"
      ]
     },
     "metadata": {},
     "output_type": "display_data"
    },
    {
     "name": "stdout",
     "output_type": "stream",
     "text": [
      "\n",
      "Summary statistics for Val Accuracy:\n"
     ]
    },
    {
     "data": {
      "application/vnd.microsoft.datawrangler.viewer.v0+json": {
       "columns": [
        {
         "name": "Model",
         "rawType": "object",
         "type": "string"
        },
        {
         "name": "mean",
         "rawType": "float64",
         "type": "float"
        },
        {
         "name": "std",
         "rawType": "float64",
         "type": "float"
        }
       ],
       "ref": "60b9e4fe-817e-482c-9ffa-c0c80ee1bcc1",
       "rows": [
        [
         "ResNeXt50",
         "0.7538286864757537",
         "0.01717946008913451"
        ],
        [
         "ResNeXt101",
         "0.7523696303367615",
         "0.039646496381920186"
        ],
        [
         "ResNet152",
         "0.7488172352313995",
         "0.048264475989707234"
        ]
       ],
       "shape": {
        "columns": 2,
        "rows": 3
       }
      },
      "text/html": [
       "<div>\n",
       "<style scoped>\n",
       "    .dataframe tbody tr th:only-of-type {\n",
       "        vertical-align: middle;\n",
       "    }\n",
       "\n",
       "    .dataframe tbody tr th {\n",
       "        vertical-align: top;\n",
       "    }\n",
       "\n",
       "    .dataframe thead th {\n",
       "        text-align: right;\n",
       "    }\n",
       "</style>\n",
       "<table border=\"1\" class=\"dataframe\">\n",
       "  <thead>\n",
       "    <tr style=\"text-align: right;\">\n",
       "      <th></th>\n",
       "      <th>mean</th>\n",
       "      <th>std</th>\n",
       "    </tr>\n",
       "    <tr>\n",
       "      <th>Model</th>\n",
       "      <th></th>\n",
       "      <th></th>\n",
       "    </tr>\n",
       "  </thead>\n",
       "  <tbody>\n",
       "    <tr>\n",
       "      <th>ResNeXt50</th>\n",
       "      <td>0.7538</td>\n",
       "      <td>0.0172</td>\n",
       "    </tr>\n",
       "    <tr>\n",
       "      <th>ResNeXt101</th>\n",
       "      <td>0.7524</td>\n",
       "      <td>0.0396</td>\n",
       "    </tr>\n",
       "    <tr>\n",
       "      <th>ResNet152</th>\n",
       "      <td>0.7488</td>\n",
       "      <td>0.0483</td>\n",
       "    </tr>\n",
       "  </tbody>\n",
       "</table>\n",
       "</div>"
      ],
      "text/plain": [
       "             mean    std\n",
       "Model                   \n",
       "ResNeXt50  0.7538 0.0172\n",
       "ResNeXt101 0.7524 0.0396\n",
       "ResNet152  0.7488 0.0483"
      ]
     },
     "metadata": {},
     "output_type": "display_data"
    },
    {
     "data": {
      "text/plain": [
       "(<Figure size 1000x600 with 1 Axes>,\n",
       " <Axes: title={'center': 'Mean Val Accuracy Across Folds'}, ylabel='Val Accuracy (mean ± SD)'>)"
      ]
     },
     "execution_count": 5,
     "metadata": {},
     "output_type": "execute_result"
    }
   ],
   "source": [
    "brain_met_plt.plot_model_summary_bar(combined_df, metric=\"Val Accuracy\", figsize=(10, 6))"
   ]
  },
  {
   "cell_type": "markdown",
   "id": "aaa24840",
   "metadata": {},
   "source": [
    "## 6) Mean ± SD: Overfitting Gap (Train Acc − Val Acc)\n",
    "\n",
    "Positive values indicate the model fits training data better than validation (**overfitting**)."
   ]
  },
  {
   "cell_type": "code",
   "execution_count": 6,
   "id": "42958542",
   "metadata": {},
   "outputs": [
    {
     "data": {
      "image/png": "[encoded data removed]",
      "text/plain": [
       "<Figure size 1000x600 with 1 Axes>"
      ]
     },
     "metadata": {},
     "output_type": "display_data"
    },
    {
     "name": "stdout",
     "output_type": "stream",
     "text": [
      "\n",
      "Summary statistics for Overfitting Gap (Acc):\n"
     ]
    },
    {
     "data": {
      "application/vnd.microsoft.datawrangler.viewer.v0+json": {
       "columns": [
        {
         "name": "Model",
         "rawType": "object",
         "type": "string"
        },
        {
         "name": "mean",
         "rawType": "float64",
         "type": "float"
        },
        {
         "name": "std",
         "rawType": "float64",
         "type": "float"
        }
       ],
       "ref": "1e9029b6-1583-4011-97ed-d525dcb25cd6",
       "rows": [
        [
         "ResNeXt50",
         "-0.0399228572845459",
         "0.04722440609543581"
        ],
        [
         "ResNeXt101",
         "-0.051399075984954835",
         "0.09988120695561319"
        ],
        [
         "ResNet152",
         "-0.05930678248405456",
         "0.08351928718008583"
        ]
       ],
       "shape": {
        "columns": 2,
        "rows": 3
       }
      },
      "text/html": [
       "<div>\n",
       "<style scoped>\n",
       "    .dataframe tbody tr th:only-of-type {\n",
       "        vertical-align: middle;\n",
       "    }\n",
       "\n",
       "    .dataframe tbody tr th {\n",
       "        vertical-align: top;\n",
       "    }\n",
       "\n",
       "    .dataframe thead th {\n",
       "        text-align: right;\n",
       "    }\n",
       "</style>\n",
       "<table border=\"1\" class=\"dataframe\">\n",
       "  <thead>\n",
       "    <tr style=\"text-align: right;\">\n",
       "      <th></th>\n",
       "      <th>mean</th>\n",
       "      <th>std</th>\n",
       "    </tr>\n",
       "    <tr>\n",
       "      <th>Model</th>\n",
       "      <th></th>\n",
       "      <th></th>\n",
       "    </tr>\n",
       "  </thead>\n",
       "  <tbody>\n",
       "    <tr>\n",
       "      <th>ResNeXt50</th>\n",
       "      <td>-0.0399</td>\n",
       "      <td>0.0472</td>\n",
       "    </tr>\n",
       "    <tr>\n",
       "      <th>ResNeXt101</th>\n",
       "      <td>-0.0514</td>\n",
       "      <td>0.0999</td>\n",
       "    </tr>\n",
       "    <tr>\n",
       "      <th>ResNet152</th>\n",
       "      <td>-0.0593</td>\n",
       "      <td>0.0835</td>\n",
       "    </tr>\n",
       "  </tbody>\n",
       "</table>\n",
       "</div>"
      ],
      "text/plain": [
       "              mean    std\n",
       "Model                    \n",
       "ResNeXt50  -0.0399 0.0472\n",
       "ResNeXt101 -0.0514 0.0999\n",
       "ResNet152  -0.0593 0.0835"
      ]
     },
     "metadata": {},
     "output_type": "display_data"
    },
    {
     "data": {
      "text/plain": [
       "(<Figure size 1000x600 with 1 Axes>,\n",
       " <Axes: title={'center': 'Mean Overfitting Gap (Acc) Across Folds'}, ylabel='Overfitting Gap (Acc) (mean ± SD)'>)"
      ]
     },
     "execution_count": 6,
     "metadata": {},
     "output_type": "execute_result"
    }
   ],
   "source": [
    "brain_met_plt.plot_model_summary_bar(combined_df, metric=\"Overfitting Gap (Acc)\", figsize=(10, 6))"
   ]
  },
  {
   "cell_type": "markdown",
   "id": "b60fff56",
   "metadata": {},
   "source": [
    "## 7) Export combined summary to CSV"
   ]
  },
  {
   "cell_type": "code",
   "execution_count": null,
   "id": "61e620a1",
   "metadata": {},
   "outputs": [],
   "source": [
    "brain_met_plt.save_summary_to_csv(combined_df, output_path=\"kfold_summary_experiment_01.csv\")"
   ]
  },
  {
   "cell_type": "markdown",
   "id": "314d026e",
   "metadata": {},
   "source": [
    "---\n",
    "\n",
    "### Notes\n",
    "- Replace `MODEL_PATTERNS` with the appropriate paths for your project.\n",
    "- If your model selection should be based on **minimum validation loss**, set:\n",
    "  ```python\n",
    "  SELECTION_METRIC = \"val_loss\"\n",
    "  HIGHER_IS_BETTER = False\n",
    "  ```\n",
    "- Ensure your history files contain the necessary keys. If not, adapt the code accordingly.\n",
    "- Each plot uses **matplotlib** only, with one chart per figure and default styling (no custom colors), to be compatible with strict pipelines."
   ]
  }
 ],
 "metadata": {
  "kernelspec": {
   "display_name": "brain_mets_env",
   "language": "python",
   "name": "python3"
  },
  "language_info": {
   "codemirror_mode": {
    "name": "ipython",
    "version": 3
   },
   "file_extension": ".py",
   "mimetype": "text/x-python",
   "name": "python",
   "nbconvert_exporter": "python",
   "pygments_lexer": "ipython3",
   "version": "3.12.2"
  }
 },
 "nbformat": 4,
 "nbformat_minor": 5
}
