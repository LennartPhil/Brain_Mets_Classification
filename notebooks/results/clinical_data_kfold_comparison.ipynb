{
 "cells": [
  {
   "cell_type": "markdown",
   "id": "795b47cf",
   "metadata": {},
   "source": [
    "# K‑Fold Clinical Data Model Comparison Dashboard\n",
    "\n",
    "This notebook loads k‑fold training histories for **multiple models**, extracts the **best epoch per fold** (based on `val_accuracy` by default), and provides **publication‑quality** comparisons:\n",
    "\n",
    "- Summary tables per model and combined\n",
    "- Boxplot of validation accuracy across folds (per model)\n",
    "- Mean±SD bar charts for validation accuracy and overfitting gap\n",
    "- CSV export of all summarized results\n",
    "\n",
    "> **Assumptions:** Each fold's history is stored as a NumPy `.npy` (dict-like) with keys at least: `accuracy`, `loss`, `val_accuracy`, `val_loss`. Filenames contain `fold_{i}` so the fold number can be parsed.\n"
   ]
  },
  {
   "cell_type": "code",
   "execution_count": 1,
   "id": "81fd0fa5",
   "metadata": {},
   "outputs": [],
   "source": [
    "import glob\n",
    "import re\n",
    "from pathlib import Path\n",
    "from typing import Union\n",
    "\n",
    "import numpy as np\n",
    "import pandas as pd\n",
    "import matplotlib.pyplot as plt\n",
    "\n",
    "from brainmet import plotting as brain_met_plt\n",
    "\n",
    "pd.set_option(\"display.max_rows\", 200)\n",
    "pd.set_option(\"display.float_format\", \"{:.4f}\".format)\n"
   ]
  },
  {
   "cell_type": "markdown",
   "id": "1d57e846",
   "metadata": {},
   "source": [
    "## 1) Configure your models and file patterns\n",
    "\n",
    "Edit the dictionary below so that each **key** is a human‑readable model name and each **value** is either a single **glob pattern (string)** or a **list of glob patterns** for runs that were split across multiple folders.\n",
    "\n",
    "**Examples**\n",
    "- **Single path:** `\"ResNet50\": \"/path/to/logs/ResNet50/history_*_fold_*.npy\"`\n",
    "- **Split run:** `\"EfficientNet\": [\"/path/part1/EffNet/history_*.npy\", \"/path/part2/EffNet/history_*.npy\"]`\n",
    "\n",
    "> The pattern must include `fold_` followed by a number (e.g., `fold_1`), which is used to map results to each fold."
   ]
  },
  {
   "cell_type": "code",
   "execution_count": 2,
   "id": "d95c277b",
   "metadata": {},
   "outputs": [],
   "source": [
    "# === EDIT ME: map model names to their glob patterns ===\n",
    "MODEL_PATTERNS = {\n",
    "    \"ResNeXt50\": '/Users/LennartPhilipp/Desktop/Uni/Prowiss/Training/training_histories_06_25/ResNeXt50/2_classes_training/clinical_data/resnext50_00_2cls_slice_clin_no_layer_gray_seq[[]t1c[]]_normal_DA_kfold_run_2025_10_03_14_28_34/history_resnext50_00_2cls_slice_clin_no_layer_gray_seq[[]t1c[]]_normal_DA_kfold_fold_*_run_2025_10_03_14_28_34.npy',\n",
    "    \"ResNeXt101\": '/Users/LennartPhilipp/Desktop/Uni/Prowiss/Training/training_histories_06_25/ResNeXt101/2_classes_training/clinical_data/resnext101_00_2cls_slice_clin_layer_gray_seq[[]t1c[]]_normal_DA_kfold_run_2025_10_05_01_49_24/history_resnext101_00_2cls_slice_clin_layer_gray_seq[[]t1c[]]_normal_DA_kfold_fold_*_run_2025_10_05_01_49_24.npy',\n",
    "    \"ResNet152\": '/Users/LennartPhilipp/Desktop/Uni/Prowiss/Training/training_histories_06_25/ResNet152/2_classes_training/clinical_data/resnet152_00_2cls_slice_clin_no_layer_gray_seq[[]t1c[]]_normal_DA_kfold_run_2025_10_09_10_26_28/history_resnet152_00_2cls_slice_clin_no_layer_gray_seq[[]t1c[]]_normal_DA_kfold_fold_*_run_2025_10_09_10_26_28.npy'\n",
    "}\n",
    "\n",
    "# Metric used to pick the best epoch within each fold\n",
    "SELECTION_METRIC = \"val_accuracy\"  # change to \"val_loss\" if desired\n",
    "HIGHER_IS_BETTER = True            # set False if using \"val_loss\" or any metric where lower is better\n"
   ]
  },
  {
   "cell_type": "markdown",
   "id": "b8c47638",
   "metadata": {},
   "source": [
    "## 3) Run the summary"
   ]
  },
  {
   "cell_type": "code",
   "execution_count": 3,
   "id": "cf48e747",
   "metadata": {},
   "outputs": [
    {
     "name": "stdout",
     "output_type": "stream",
     "text": [
      "--- Processing model: ResNeXt50 ---\n",
      "--- Processing model: ResNeXt101 ---\n",
      "--- Processing model: ResNet152 ---\n"
     ]
    },
    {
     "data": {
      "application/vnd.microsoft.datawrangler.viewer.v0+json": {
       "columns": [
        {
         "name": "index",
         "rawType": "int64",
         "type": "integer"
        },
        {
         "name": "Model",
         "rawType": "object",
         "type": "string"
        },
        {
         "name": "Fold",
         "rawType": "int64",
         "type": "integer"
        },
        {
         "name": "Best Epoch",
         "rawType": "int64",
         "type": "integer"
        },
        {
         "name": "Val Accuracy",
         "rawType": "float64",
         "type": "float"
        },
        {
         "name": "Val Loss",
         "rawType": "float64",
         "type": "float"
        },
        {
         "name": "Train Accuracy",
         "rawType": "float64",
         "type": "float"
        },
        {
         "name": "Train Loss",
         "rawType": "float64",
         "type": "float"
        },
        {
         "name": "Overfitting Gap (Acc)",
         "rawType": "float64",
         "type": "float"
        }
       ],
       "ref": "d6889d75-ca5d-4aea-9201-171274e70418",
       "rows": [
        [
         "0",
         "ResNeXt101",
         "0",
         "192",
         "0.7099236845970154",
         "9.765829086303711",
         "0.6421600580215454",
         "9.829134941101074",
         "-0.06776362657546997"
        ],
        [
         "1",
         "ResNeXt101",
         "1",
         "1289",
         "0.6681034564971924",
         "1.9692904949188232",
         "0.9818941354751587",
         "0.4513913094997406",
         "0.3137906789779663"
        ],
        [
         "2",
         "ResNeXt101",
         "2",
         "940",
         "0.7868852615356445",
         "1.8645384311676025",
         "0.9754204154014587",
         "0.928008496761322",
         "0.1885351538658142"
        ],
        [
         "3",
         "ResNeXt101",
         "3",
         "859",
         "0.7903226017951965",
         "2.144247055053711",
         "0.9439945816993713",
         "1.2624565362930298",
         "0.1536719799041748"
        ],
        [
         "4",
         "ResNeXt101",
         "4",
         "38",
         "0.6692913174629211",
         "16.437231063842773",
         "0.532122015953064",
         "16.566858291625977",
         "-0.13716930150985718"
        ],
        [
         "5",
         "ResNeXt101",
         "5",
         "1939",
         "0.8648648858070374",
         "0.7634049654006958",
         "0.92051100730896",
         "0.5879678130149841",
         "0.05564612150192261"
        ],
        [
         "6",
         "ResNeXt101",
         "6",
         "13",
         "0.7727272510528564",
         "18.349422454833984",
         "0.5387755036354065",
         "18.48719596862793",
         "-0.23395174741744995"
        ],
        [
         "7",
         "ResNeXt101",
         "7",
         "807",
         "0.7407407164573669",
         "2.1423985958099365",
         "0.8461538553237915",
         "1.3745564222335815",
         "0.10541313886642456"
        ],
        [
         "8",
         "ResNeXt101",
         "8",
         "104",
         "0.7482993006706238",
         "12.484612464904785",
         "0.5437212586402893",
         "12.615194320678711",
         "-0.20457804203033447"
        ],
        [
         "9",
         "ResNeXt101",
         "9",
         "98",
         "0.746835470199585",
         "14.006743431091309",
         "0.5781456828117371",
         "14.085084915161133",
         "-0.1686897873878479"
        ],
        [
         "10",
         "ResNeXt50",
         "0",
         "1602",
         "0.7557252049446106",
         "1.0571316480636597",
         "0.9837345480918884",
         "0.25850585103034973",
         "0.22800934314727783"
        ],
        [
         "11",
         "ResNeXt50",
         "1",
         "1915",
         "0.806034505367279",
         "0.6335749626159668",
         "0.9770194888114929",
         "0.24946339428424835",
         "0.17098498344421387"
        ],
        [
         "12",
         "ResNeXt50",
         "2",
         "378",
         "0.7868852615356445",
         "2.667602062225342",
         "0.8771021962165833",
         "2.2259316444396973",
         "0.09021693468093872"
        ],
        [
         "13",
         "ResNeXt50",
         "3",
         "1193",
         "0.8225806355476379",
         "1.2042239904403687",
         "0.9824561476707458",
         "0.35388410091400146",
         "0.1598755121231079"
        ],
        [
         "14",
         "ResNeXt50",
         "4",
         "103",
         "0.7244094610214233",
         "5.737410068511963",
         "0.5950681567192078",
         "5.8076043128967285",
         "-0.12934130430221558"
        ],
        [
         "15",
         "ResNeXt50",
         "5",
         "582",
         "0.8108108043670654",
         "1.5293312072753906",
         "0.8388928174972534",
         "1.5306161642074585",
         "0.02808201313018799"
        ],
        [
         "16",
         "ResNeXt50",
         "6",
         "209",
         "0.7676767706871033",
         "4.300357818603516",
         "0.7632653117179871",
         "4.185052394866943",
         "-0.004411458969116211"
        ],
        [
         "17",
         "ResNeXt50",
         "7",
         "516",
         "0.7870370149612427",
         "1.9014387130737305",
         "0.8641025424003601",
         "1.4975385665893555",
         "0.07706552743911743"
        ],
        [
         "18",
         "ResNeXt50",
         "8",
         "243",
         "0.761904776096344",
         "3.712831735610962",
         "0.6995397806167603",
         "3.6884384155273438",
         "-0.06236499547958374"
        ],
        [
         "19",
         "ResNeXt50",
         "9",
         "22",
         "0.7341772317886353",
         "7.682447910308838",
         "0.5860927104949951",
         "7.7956223487854",
         "-0.14808452129364014"
        ],
        [
         "20",
         "ResNet152",
         "0",
         "695",
         "0.7633587718009949",
         null,
         "0.8939492702484131",
         "4.170647144317627",
         "0.1305904984474182"
        ],
        [
         "21",
         "ResNet152",
         "1",
         "732",
         "0.7586206793785095",
         "4.990108013153076",
         "0.8697771430015564",
         "4.7434492111206055",
         "0.11115646362304688"
        ],
        [
         "22",
         "ResNet152",
         "2",
         "325",
         "0.7950819730758667",
         "21.34425163269043",
         "0.7050452828407288",
         "21.3726863861084",
         "-0.09003669023513794"
        ],
        [
         "23",
         "ResNet152",
         "3",
         "488",
         "0.8440860509872437",
         "7.441856384277344",
         "0.7624831199645996",
         "7.50363826751709",
         "-0.08160293102264404"
        ],
        [
         "24",
         "ResNet152",
         "4",
         "302",
         "0.7795275449752808",
         "14.713961601257324",
         "0.636599600315094",
         "14.748675346374512",
         "-0.14292794466018677"
        ],
        [
         "25",
         "ResNet152",
         "5",
         "1431",
         "0.9305019378662109",
         "1.038920521736145",
         "0.7466288208961487",
         "1.2313833236694336",
         "-0.18387311697006226"
        ],
        [
         "26",
         "ResNet152",
         "6",
         "1",
         "0.5959596037864685",
         null,
         "0.5517006516456604",
         null,
         "-0.044258952140808105"
        ],
        [
         "27",
         "ResNet152",
         "7",
         "2077",
         "0.8055555820465088",
         "0.9369556903839111",
         "0.9339743852615356",
         "0.4794502854347229",
         "0.12841880321502686"
        ],
        [
         "28",
         "ResNet152",
         "8",
         "553",
         "0.7687074542045593",
         "8.550721168518066",
         "0.870479941368103",
         "8.17642593383789",
         "0.1017724871635437"
        ],
        [
         "29",
         "ResNet152",
         "9",
         "938",
         "0.7341772317886353",
         "2.139845609664917",
         "0.7854304909706116",
         "1.9999592304229736",
         "0.05125325918197632"
        ]
       ],
       "shape": {
        "columns": 8,
        "rows": 30
       }
      },
      "text/html": [
       "<div>\n",
       "<style scoped>\n",
       "    .dataframe tbody tr th:only-of-type {\n",
       "        vertical-align: middle;\n",
       "    }\n",
       "\n",
       "    .dataframe tbody tr th {\n",
       "        vertical-align: top;\n",
       "    }\n",
       "\n",
       "    .dataframe thead th {\n",
       "        text-align: right;\n",
       "    }\n",
       "</style>\n",
       "<table border=\"1\" class=\"dataframe\">\n",
       "  <thead>\n",
       "    <tr style=\"text-align: right;\">\n",
       "      <th></th>\n",
       "      <th>Model</th>\n",
       "      <th>Fold</th>\n",
       "      <th>Best Epoch</th>\n",
       "      <th>Val Accuracy</th>\n",
       "      <th>Val Loss</th>\n",
       "      <th>Train Accuracy</th>\n",
       "      <th>Train Loss</th>\n",
       "      <th>Overfitting Gap (Acc)</th>\n",
       "    </tr>\n",
       "  </thead>\n",
       "  <tbody>\n",
       "    <tr>\n",
       "      <th>0</th>\n",
       "      <td>ResNeXt101</td>\n",
       "      <td>0</td>\n",
       "      <td>192</td>\n",
       "      <td>0.7099</td>\n",
       "      <td>9.7658</td>\n",
       "      <td>0.6422</td>\n",
       "      <td>9.8291</td>\n",
       "      <td>-0.0678</td>\n",
       "    </tr>\n",
       "    <tr>\n",
       "      <th>1</th>\n",
       "      <td>ResNeXt101</td>\n",
       "      <td>1</td>\n",
       "      <td>1289</td>\n",
       "      <td>0.6681</td>\n",
       "      <td>1.9693</td>\n",
       "      <td>0.9819</td>\n",
       "      <td>0.4514</td>\n",
       "      <td>0.3138</td>\n",
       "    </tr>\n",
       "    <tr>\n",
       "      <th>2</th>\n",
       "      <td>ResNeXt101</td>\n",
       "      <td>2</td>\n",
       "      <td>940</td>\n",
       "      <td>0.7869</td>\n",
       "      <td>1.8645</td>\n",
       "      <td>0.9754</td>\n",
       "      <td>0.9280</td>\n",
       "      <td>0.1885</td>\n",
       "    </tr>\n",
       "    <tr>\n",
       "      <th>3</th>\n",
       "      <td>ResNeXt101</td>\n",
       "      <td>3</td>\n",
       "      <td>859</td>\n",
       "      <td>0.7903</td>\n",
       "      <td>2.1442</td>\n",
       "      <td>0.9440</td>\n",
       "      <td>1.2625</td>\n",
       "      <td>0.1537</td>\n",
       "    </tr>\n",
       "    <tr>\n",
       "      <th>4</th>\n",
       "      <td>ResNeXt101</td>\n",
       "      <td>4</td>\n",
       "      <td>38</td>\n",
       "      <td>0.6693</td>\n",
       "      <td>16.4372</td>\n",
       "      <td>0.5321</td>\n",
       "      <td>16.5669</td>\n",
       "      <td>-0.1372</td>\n",
       "    </tr>\n",
       "    <tr>\n",
       "      <th>5</th>\n",
       "      <td>ResNeXt101</td>\n",
       "      <td>5</td>\n",
       "      <td>1939</td>\n",
       "      <td>0.8649</td>\n",
       "      <td>0.7634</td>\n",
       "      <td>0.9205</td>\n",
       "      <td>0.5880</td>\n",
       "      <td>0.0556</td>\n",
       "    </tr>\n",
       "    <tr>\n",
       "      <th>6</th>\n",
       "      <td>ResNeXt101</td>\n",
       "      <td>6</td>\n",
       "      <td>13</td>\n",
       "      <td>0.7727</td>\n",
       "      <td>18.3494</td>\n",
       "      <td>0.5388</td>\n",
       "      <td>18.4872</td>\n",
       "      <td>-0.2340</td>\n",
       "    </tr>\n",
       "    <tr>\n",
       "      <th>7</th>\n",
       "      <td>ResNeXt101</td>\n",
       "      <td>7</td>\n",
       "      <td>807</td>\n",
       "      <td>0.7407</td>\n",
       "      <td>2.1424</td>\n",
       "      <td>0.8462</td>\n",
       "      <td>1.3746</td>\n",
       "      <td>0.1054</td>\n",
       "    </tr>\n",
       "    <tr>\n",
       "      <th>8</th>\n",
       "      <td>ResNeXt101</td>\n",
       "      <td>8</td>\n",
       "      <td>104</td>\n",
       "      <td>0.7483</td>\n",
       "      <td>12.4846</td>\n",
       "      <td>0.5437</td>\n",
       "      <td>12.6152</td>\n",
       "      <td>-0.2046</td>\n",
       "    </tr>\n",
       "    <tr>\n",
       "      <th>9</th>\n",
       "      <td>ResNeXt101</td>\n",
       "      <td>9</td>\n",
       "      <td>98</td>\n",
       "      <td>0.7468</td>\n",
       "      <td>14.0067</td>\n",
       "      <td>0.5781</td>\n",
       "      <td>14.0851</td>\n",
       "      <td>-0.1687</td>\n",
       "    </tr>\n",
       "    <tr>\n",
       "      <th>10</th>\n",
       "      <td>ResNeXt50</td>\n",
       "      <td>0</td>\n",
       "      <td>1602</td>\n",
       "      <td>0.7557</td>\n",
       "      <td>1.0571</td>\n",
       "      <td>0.9837</td>\n",
       "      <td>0.2585</td>\n",
       "      <td>0.2280</td>\n",
       "    </tr>\n",
       "    <tr>\n",
       "      <th>11</th>\n",
       "      <td>ResNeXt50</td>\n",
       "      <td>1</td>\n",
       "      <td>1915</td>\n",
       "      <td>0.8060</td>\n",
       "      <td>0.6336</td>\n",
       "      <td>0.9770</td>\n",
       "      <td>0.2495</td>\n",
       "      <td>0.1710</td>\n",
       "    </tr>\n",
       "    <tr>\n",
       "      <th>12</th>\n",
       "      <td>ResNeXt50</td>\n",
       "      <td>2</td>\n",
       "      <td>378</td>\n",
       "      <td>0.7869</td>\n",
       "      <td>2.6676</td>\n",
       "      <td>0.8771</td>\n",
       "      <td>2.2259</td>\n",
       "      <td>0.0902</td>\n",
       "    </tr>\n",
       "    <tr>\n",
       "      <th>13</th>\n",
       "      <td>ResNeXt50</td>\n",
       "      <td>3</td>\n",
       "      <td>1193</td>\n",
       "      <td>0.8226</td>\n",
       "      <td>1.2042</td>\n",
       "      <td>0.9825</td>\n",
       "      <td>0.3539</td>\n",
       "      <td>0.1599</td>\n",
       "    </tr>\n",
       "    <tr>\n",
       "      <th>14</th>\n",
       "      <td>ResNeXt50</td>\n",
       "      <td>4</td>\n",
       "      <td>103</td>\n",
       "      <td>0.7244</td>\n",
       "      <td>5.7374</td>\n",
       "      <td>0.5951</td>\n",
       "      <td>5.8076</td>\n",
       "      <td>-0.1293</td>\n",
       "    </tr>\n",
       "    <tr>\n",
       "      <th>15</th>\n",
       "      <td>ResNeXt50</td>\n",
       "      <td>5</td>\n",
       "      <td>582</td>\n",
       "      <td>0.8108</td>\n",
       "      <td>1.5293</td>\n",
       "      <td>0.8389</td>\n",
       "      <td>1.5306</td>\n",
       "      <td>0.0281</td>\n",
       "    </tr>\n",
       "    <tr>\n",
       "      <th>16</th>\n",
       "      <td>ResNeXt50</td>\n",
       "      <td>6</td>\n",
       "      <td>209</td>\n",
       "      <td>0.7677</td>\n",
       "      <td>4.3004</td>\n",
       "      <td>0.7633</td>\n",
       "      <td>4.1851</td>\n",
       "      <td>-0.0044</td>\n",
       "    </tr>\n",
       "    <tr>\n",
       "      <th>17</th>\n",
       "      <td>ResNeXt50</td>\n",
       "      <td>7</td>\n",
       "      <td>516</td>\n",
       "      <td>0.7870</td>\n",
       "      <td>1.9014</td>\n",
       "      <td>0.8641</td>\n",
       "      <td>1.4975</td>\n",
       "      <td>0.0771</td>\n",
       "    </tr>\n",
       "    <tr>\n",
       "      <th>18</th>\n",
       "      <td>ResNeXt50</td>\n",
       "      <td>8</td>\n",
       "      <td>243</td>\n",
       "      <td>0.7619</td>\n",
       "      <td>3.7128</td>\n",
       "      <td>0.6995</td>\n",
       "      <td>3.6884</td>\n",
       "      <td>-0.0624</td>\n",
       "    </tr>\n",
       "    <tr>\n",
       "      <th>19</th>\n",
       "      <td>ResNeXt50</td>\n",
       "      <td>9</td>\n",
       "      <td>22</td>\n",
       "      <td>0.7342</td>\n",
       "      <td>7.6824</td>\n",
       "      <td>0.5861</td>\n",
       "      <td>7.7956</td>\n",
       "      <td>-0.1481</td>\n",
       "    </tr>\n",
       "    <tr>\n",
       "      <th>20</th>\n",
       "      <td>ResNet152</td>\n",
       "      <td>0</td>\n",
       "      <td>695</td>\n",
       "      <td>0.7634</td>\n",
       "      <td>NaN</td>\n",
       "      <td>0.8939</td>\n",
       "      <td>4.1706</td>\n",
       "      <td>0.1306</td>\n",
       "    </tr>\n",
       "    <tr>\n",
       "      <th>21</th>\n",
       "      <td>ResNet152</td>\n",
       "      <td>1</td>\n",
       "      <td>732</td>\n",
       "      <td>0.7586</td>\n",
       "      <td>4.9901</td>\n",
       "      <td>0.8698</td>\n",
       "      <td>4.7434</td>\n",
       "      <td>0.1112</td>\n",
       "    </tr>\n",
       "    <tr>\n",
       "      <th>22</th>\n",
       "      <td>ResNet152</td>\n",
       "      <td>2</td>\n",
       "      <td>325</td>\n",
       "      <td>0.7951</td>\n",
       "      <td>21.3443</td>\n",
       "      <td>0.7050</td>\n",
       "      <td>21.3727</td>\n",
       "      <td>-0.0900</td>\n",
       "    </tr>\n",
       "    <tr>\n",
       "      <th>23</th>\n",
       "      <td>ResNet152</td>\n",
       "      <td>3</td>\n",
       "      <td>488</td>\n",
       "      <td>0.8441</td>\n",
       "      <td>7.4419</td>\n",
       "      <td>0.7625</td>\n",
       "      <td>7.5036</td>\n",
       "      <td>-0.0816</td>\n",
       "    </tr>\n",
       "    <tr>\n",
       "      <th>24</th>\n",
       "      <td>ResNet152</td>\n",
       "      <td>4</td>\n",
       "      <td>302</td>\n",
       "      <td>0.7795</td>\n",
       "      <td>14.7140</td>\n",
       "      <td>0.6366</td>\n",
       "      <td>14.7487</td>\n",
       "      <td>-0.1429</td>\n",
       "    </tr>\n",
       "    <tr>\n",
       "      <th>25</th>\n",
       "      <td>ResNet152</td>\n",
       "      <td>5</td>\n",
       "      <td>1431</td>\n",
       "      <td>0.9305</td>\n",
       "      <td>1.0389</td>\n",
       "      <td>0.7466</td>\n",
       "      <td>1.2314</td>\n",
       "      <td>-0.1839</td>\n",
       "    </tr>\n",
       "    <tr>\n",
       "      <th>26</th>\n",
       "      <td>ResNet152</td>\n",
       "      <td>6</td>\n",
       "      <td>1</td>\n",
       "      <td>0.5960</td>\n",
       "      <td>NaN</td>\n",
       "      <td>0.5517</td>\n",
       "      <td>NaN</td>\n",
       "      <td>-0.0443</td>\n",
       "    </tr>\n",
       "    <tr>\n",
       "      <th>27</th>\n",
       "      <td>ResNet152</td>\n",
       "      <td>7</td>\n",
       "      <td>2077</td>\n",
       "      <td>0.8056</td>\n",
       "      <td>0.9370</td>\n",
       "      <td>0.9340</td>\n",
       "      <td>0.4795</td>\n",
       "      <td>0.1284</td>\n",
       "    </tr>\n",
       "    <tr>\n",
       "      <th>28</th>\n",
       "      <td>ResNet152</td>\n",
       "      <td>8</td>\n",
       "      <td>553</td>\n",
       "      <td>0.7687</td>\n",
       "      <td>8.5507</td>\n",
       "      <td>0.8705</td>\n",
       "      <td>8.1764</td>\n",
       "      <td>0.1018</td>\n",
       "    </tr>\n",
       "    <tr>\n",
       "      <th>29</th>\n",
       "      <td>ResNet152</td>\n",
       "      <td>9</td>\n",
       "      <td>938</td>\n",
       "      <td>0.7342</td>\n",
       "      <td>2.1398</td>\n",
       "      <td>0.7854</td>\n",
       "      <td>2.0000</td>\n",
       "      <td>0.0513</td>\n",
       "    </tr>\n",
       "  </tbody>\n",
       "</table>\n",
       "</div>"
      ],
      "text/plain": [
       "         Model  Fold  Best Epoch  Val Accuracy  Val Loss  Train Accuracy  \\\n",
       "0   ResNeXt101     0         192        0.7099    9.7658          0.6422   \n",
       "1   ResNeXt101     1        1289        0.6681    1.9693          0.9819   \n",
       "2   ResNeXt101     2         940        0.7869    1.8645          0.9754   \n",
       "3   ResNeXt101     3         859        0.7903    2.1442          0.9440   \n",
       "4   ResNeXt101     4          38        0.6693   16.4372          0.5321   \n",
       "5   ResNeXt101     5        1939        0.8649    0.7634          0.9205   \n",
       "6   ResNeXt101     6          13        0.7727   18.3494          0.5388   \n",
       "7   ResNeXt101     7         807        0.7407    2.1424          0.8462   \n",
       "8   ResNeXt101     8         104        0.7483   12.4846          0.5437   \n",
       "9   ResNeXt101     9          98        0.7468   14.0067          0.5781   \n",
       "10   ResNeXt50     0        1602        0.7557    1.0571          0.9837   \n",
       "11   ResNeXt50     1        1915        0.8060    0.6336          0.9770   \n",
       "12   ResNeXt50     2         378        0.7869    2.6676          0.8771   \n",
       "13   ResNeXt50     3        1193        0.8226    1.2042          0.9825   \n",
       "14   ResNeXt50     4         103        0.7244    5.7374          0.5951   \n",
       "15   ResNeXt50     5         582        0.8108    1.5293          0.8389   \n",
       "16   ResNeXt50     6         209        0.7677    4.3004          0.7633   \n",
       "17   ResNeXt50     7         516        0.7870    1.9014          0.8641   \n",
       "18   ResNeXt50     8         243        0.7619    3.7128          0.6995   \n",
       "19   ResNeXt50     9          22        0.7342    7.6824          0.5861   \n",
       "20   ResNet152     0         695        0.7634       NaN          0.8939   \n",
       "21   ResNet152     1         732        0.7586    4.9901          0.8698   \n",
       "22   ResNet152     2         325        0.7951   21.3443          0.7050   \n",
       "23   ResNet152     3         488        0.8441    7.4419          0.7625   \n",
       "24   ResNet152     4         302        0.7795   14.7140          0.6366   \n",
       "25   ResNet152     5        1431        0.9305    1.0389          0.7466   \n",
       "26   ResNet152     6           1        0.5960       NaN          0.5517   \n",
       "27   ResNet152     7        2077        0.8056    0.9370          0.9340   \n",
       "28   ResNet152     8         553        0.7687    8.5507          0.8705   \n",
       "29   ResNet152     9         938        0.7342    2.1398          0.7854   \n",
       "\n",
       "    Train Loss  Overfitting Gap (Acc)  \n",
       "0       9.8291                -0.0678  \n",
       "1       0.4514                 0.3138  \n",
       "2       0.9280                 0.1885  \n",
       "3       1.2625                 0.1537  \n",
       "4      16.5669                -0.1372  \n",
       "5       0.5880                 0.0556  \n",
       "6      18.4872                -0.2340  \n",
       "7       1.3746                 0.1054  \n",
       "8      12.6152                -0.2046  \n",
       "9      14.0851                -0.1687  \n",
       "10      0.2585                 0.2280  \n",
       "11      0.2495                 0.1710  \n",
       "12      2.2259                 0.0902  \n",
       "13      0.3539                 0.1599  \n",
       "14      5.8076                -0.1293  \n",
       "15      1.5306                 0.0281  \n",
       "16      4.1851                -0.0044  \n",
       "17      1.4975                 0.0771  \n",
       "18      3.6884                -0.0624  \n",
       "19      7.7956                -0.1481  \n",
       "20      4.1706                 0.1306  \n",
       "21      4.7434                 0.1112  \n",
       "22     21.3727                -0.0900  \n",
       "23      7.5036                -0.0816  \n",
       "24     14.7487                -0.1429  \n",
       "25      1.2314                -0.1839  \n",
       "26         NaN                -0.0443  \n",
       "27      0.4795                 0.1284  \n",
       "28      8.1764                 0.1018  \n",
       "29      2.0000                 0.0513  "
      ]
     },
     "metadata": {},
     "output_type": "display_data"
    },
    {
     "name": "stdout",
     "output_type": "stream",
     "text": [
      "\n",
      "Per-model descriptive stats (Val Accuracy):\n",
      "\n",
      "\n",
      "ResNeXt50\n",
      "count   10.0000\n",
      "mean     0.7757\n",
      "std      0.0327\n",
      "min      0.7244\n",
      "max      0.8226\n",
      "Name: Val Accuracy, dtype: float64\n",
      "\n",
      "ResNeXt101\n",
      "count   10.0000\n",
      "mean     0.7498\n",
      "std      0.0593\n",
      "min      0.6681\n",
      "max      0.8649\n",
      "Name: Val Accuracy, dtype: float64\n",
      "\n",
      "ResNet152\n",
      "count   10.0000\n",
      "mean     0.7776\n",
      "std      0.0846\n",
      "min      0.5960\n",
      "max      0.9305\n",
      "Name: Val Accuracy, dtype: float64\n"
     ]
    }
   ],
   "source": [
    "\n",
    "per_model_results, combined_df = brain_met_plt.summarize_all_models(\n",
    "    MODEL_PATTERNS,\n",
    "    selection_metric=SELECTION_METRIC,\n",
    "    higher_is_better=HIGHER_IS_BETTER\n",
    ")\n",
    "\n",
    "if combined_df.empty:\n",
    "    print(\"No results found. Please check your MODEL_PATTERNS and file paths.\")\n",
    "else:\n",
    "    display(combined_df.sort_values([\"Model\", \"Fold\"]).reset_index(drop=True))\n",
    "    print(\"\\nPer-model descriptive stats (Val Accuracy):\\n\")\n",
    "    for name, df in per_model_results.items():\n",
    "        if df.empty:\n",
    "            print(f\"- {name}: no data\")\n",
    "            continue\n",
    "        desc = df[\"Val Accuracy\"].describe()[[\"count\",\"mean\",\"std\",\"min\",\"max\"]]\n",
    "        print(f\"\\n{name}\\n{desc}\")\n"
   ]
  },
  {
   "cell_type": "markdown",
   "id": "8f967a18",
   "metadata": {},
   "source": [
    "## 4) Boxplot: Validation Accuracy across folds (per model)\n",
    "\n",
    "This figure shows the **distribution** of validation accuracies across folds for each model. Use it to visually compare model stability and central tendency.\n"
   ]
  },
  {
   "cell_type": "code",
   "execution_count": 4,
   "id": "c0b60aa8",
   "metadata": {},
   "outputs": [
    {
     "data": {
      "image/png": "[encoded data removed]",
      "text/plain": [
       "<Figure size 1000x600 with 1 Axes>"
      ]
     },
     "metadata": {},
     "output_type": "display_data"
    },
    {
     "data": {
      "text/plain": [
       "(<Figure size 1000x600 with 1 Axes>,\n",
       " <Axes: title={'center': 'K-Fold Val Accuracy by Model'}, ylabel='Val Accuracy'>)"
      ]
     },
     "execution_count": 4,
     "metadata": {},
     "output_type": "execute_result"
    }
   ],
   "source": [
    "brain_met_plt.plot_model_comparison_boxplot(per_model_results, metric=\"Val Accuracy\", figsize=(10, 6))"
   ]
  },
  {
   "cell_type": "markdown",
   "id": "d0a8d2be",
   "metadata": {},
   "source": [
    "## 5) Mean ± SD: Validation Accuracy\n",
    "\n",
    "Bars show the mean validation accuracy per model with standard‑deviation error bars (across folds)."
   ]
  },
  {
   "cell_type": "code",
   "execution_count": 5,
   "id": "6c420d17",
   "metadata": {},
   "outputs": [
    {
     "data": {
      "image/png": "[encoded data removed]",
      "text/plain": [
       "<Figure size 1000x600 with 1 Axes>"
      ]
     },
     "metadata": {},
     "output_type": "display_data"
    },
    {
     "name": "stdout",
     "output_type": "stream",
     "text": [
      "\n",
      "Summary statistics for Val Accuracy:\n"
     ]
    },
    {
     "data": {
      "application/vnd.microsoft.datawrangler.viewer.v0+json": {
       "columns": [
        {
         "name": "Model",
         "rawType": "object",
         "type": "string"
        },
        {
         "name": "mean",
         "rawType": "float64",
         "type": "float"
        },
        {
         "name": "std",
         "rawType": "float64",
         "type": "float"
        }
       ],
       "ref": "5d50fd2d-f740-4f69-9e4f-b344ddf718ac",
       "rows": [
        [
         "ResNet152",
         "0.7775576829910278",
         "0.08459780923745061"
        ],
        [
         "ResNeXt50",
         "0.7757241666316986",
         "0.03268181527909733"
        ],
        [
         "ResNeXt101",
         "0.749799394607544",
         "0.059275430107987914"
        ]
       ],
       "shape": {
        "columns": 2,
        "rows": 3
       }
      },
      "text/html": [
       "<div>\n",
       "<style scoped>\n",
       "    .dataframe tbody tr th:only-of-type {\n",
       "        vertical-align: middle;\n",
       "    }\n",
       "\n",
       "    .dataframe tbody tr th {\n",
       "        vertical-align: top;\n",
       "    }\n",
       "\n",
       "    .dataframe thead th {\n",
       "        text-align: right;\n",
       "    }\n",
       "</style>\n",
       "<table border=\"1\" class=\"dataframe\">\n",
       "  <thead>\n",
       "    <tr style=\"text-align: right;\">\n",
       "      <th></th>\n",
       "      <th>mean</th>\n",
       "      <th>std</th>\n",
       "    </tr>\n",
       "    <tr>\n",
       "      <th>Model</th>\n",
       "      <th></th>\n",
       "      <th></th>\n",
       "    </tr>\n",
       "  </thead>\n",
       "  <tbody>\n",
       "    <tr>\n",
       "      <th>ResNet152</th>\n",
       "      <td>0.7776</td>\n",
       "      <td>0.0846</td>\n",
       "    </tr>\n",
       "    <tr>\n",
       "      <th>ResNeXt50</th>\n",
       "      <td>0.7757</td>\n",
       "      <td>0.0327</td>\n",
       "    </tr>\n",
       "    <tr>\n",
       "      <th>ResNeXt101</th>\n",
       "      <td>0.7498</td>\n",
       "      <td>0.0593</td>\n",
       "    </tr>\n",
       "  </tbody>\n",
       "</table>\n",
       "</div>"
      ],
      "text/plain": [
       "             mean    std\n",
       "Model                   \n",
       "ResNet152  0.7776 0.0846\n",
       "ResNeXt50  0.7757 0.0327\n",
       "ResNeXt101 0.7498 0.0593"
      ]
     },
     "metadata": {},
     "output_type": "display_data"
    },
    {
     "data": {
      "text/plain": [
       "(<Figure size 1000x600 with 1 Axes>,\n",
       " <Axes: title={'center': 'Mean Val Accuracy Across Folds'}, ylabel='Val Accuracy (mean ± SD)'>)"
      ]
     },
     "execution_count": 5,
     "metadata": {},
     "output_type": "execute_result"
    }
   ],
   "source": [
    "brain_met_plt.plot_model_summary_bar(combined_df, metric=\"Val Accuracy\", figsize=(10, 6))"
   ]
  },
  {
   "cell_type": "markdown",
   "id": "7aee0b03",
   "metadata": {},
   "source": [
    "## 6) Mean ± SD: Overfitting Gap (Train Acc − Val Acc)\n",
    "\n",
    "Positive values indicate the model fits training data better than validation (**overfitting**)."
   ]
  },
  {
   "cell_type": "code",
   "execution_count": 6,
   "id": "0dc5f976",
   "metadata": {},
   "outputs": [
    {
     "data": {
      "image/png": "[encoded data removed]",
      "text/plain": [
       "<Figure size 1000x600 with 1 Axes>"
      ]
     },
     "metadata": {},
     "output_type": "display_data"
    },
    {
     "name": "stdout",
     "output_type": "stream",
     "text": [
      "\n",
      "Summary statistics for Overfitting Gap (Acc):\n"
     ]
    },
    {
     "data": {
      "application/vnd.microsoft.datawrangler.viewer.v0+json": {
       "columns": [
        {
         "name": "Model",
         "rawType": "object",
         "type": "string"
        },
        {
         "name": "mean",
         "rawType": "float64",
         "type": "float"
        },
        {
         "name": "std",
         "rawType": "float64",
         "type": "float"
        }
       ],
       "ref": "37e77178-19d4-48cf-a0ab-00efab48d491",
       "rows": [
        [
         "ResNeXt50",
         "0.04100320339202881",
         "0.12797808839334096"
        ],
        [
         "ResNeXt101",
         "0.0004904568195343018",
         "0.18864439008717251"
        ],
        [
         "ResNet152",
         "-0.0019508123397827149",
         "0.12009705567449429"
        ]
       ],
       "shape": {
        "columns": 2,
        "rows": 3
       }
      },
      "text/html": [
       "<div>\n",
       "<style scoped>\n",
       "    .dataframe tbody tr th:only-of-type {\n",
       "        vertical-align: middle;\n",
       "    }\n",
       "\n",
       "    .dataframe tbody tr th {\n",
       "        vertical-align: top;\n",
       "    }\n",
       "\n",
       "    .dataframe thead th {\n",
       "        text-align: right;\n",
       "    }\n",
       "</style>\n",
       "<table border=\"1\" class=\"dataframe\">\n",
       "  <thead>\n",
       "    <tr style=\"text-align: right;\">\n",
       "      <th></th>\n",
       "      <th>mean</th>\n",
       "      <th>std</th>\n",
       "    </tr>\n",
       "    <tr>\n",
       "      <th>Model</th>\n",
       "      <th></th>\n",
       "      <th></th>\n",
       "    </tr>\n",
       "  </thead>\n",
       "  <tbody>\n",
       "    <tr>\n",
       "      <th>ResNeXt50</th>\n",
       "      <td>0.0410</td>\n",
       "      <td>0.1280</td>\n",
       "    </tr>\n",
       "    <tr>\n",
       "      <th>ResNeXt101</th>\n",
       "      <td>0.0005</td>\n",
       "      <td>0.1886</td>\n",
       "    </tr>\n",
       "    <tr>\n",
       "      <th>ResNet152</th>\n",
       "      <td>-0.0020</td>\n",
       "      <td>0.1201</td>\n",
       "    </tr>\n",
       "  </tbody>\n",
       "</table>\n",
       "</div>"
      ],
      "text/plain": [
       "              mean    std\n",
       "Model                    \n",
       "ResNeXt50   0.0410 0.1280\n",
       "ResNeXt101  0.0005 0.1886\n",
       "ResNet152  -0.0020 0.1201"
      ]
     },
     "metadata": {},
     "output_type": "display_data"
    },
    {
     "data": {
      "text/plain": [
       "(<Figure size 1000x600 with 1 Axes>,\n",
       " <Axes: title={'center': 'Mean Overfitting Gap (Acc) Across Folds'}, ylabel='Overfitting Gap (Acc) (mean ± SD)'>)"
      ]
     },
     "execution_count": 6,
     "metadata": {},
     "output_type": "execute_result"
    }
   ],
   "source": [
    "brain_met_plt.plot_model_summary_bar(combined_df, metric=\"Overfitting Gap (Acc)\", figsize=(10, 6))"
   ]
  },
  {
   "cell_type": "markdown",
   "id": "ca329273",
   "metadata": {},
   "source": [
    "## 7) Export combined summary to CSV"
   ]
  },
  {
   "cell_type": "code",
   "execution_count": null,
   "id": "59b520a7",
   "metadata": {},
   "outputs": [],
   "source": [
    "brain_met_plt.save_summary_to_csv(combined_df, output_path=\"kfold_summary_experiment_01.csv\")"
   ]
  },
  {
   "cell_type": "markdown",
   "id": "7659d27b",
   "metadata": {},
   "source": [
    "---\n",
    "\n",
    "### Notes\n",
    "- Replace `MODEL_PATTERNS` with the appropriate paths for your project.\n",
    "- If your model selection should be based on **minimum validation loss**, set:\n",
    "  ```python\n",
    "  SELECTION_METRIC = \"val_loss\"\n",
    "  HIGHER_IS_BETTER = False\n",
    "  ```\n",
    "- Ensure your history files contain the necessary keys. If not, adapt the code accordingly.\n",
    "- Each plot uses **matplotlib** only, with one chart per figure and default styling (no custom colors), to be compatible with strict pipelines.\n"
   ]
  }
 ],
 "metadata": {
  "kernelspec": {
   "display_name": "brain_mets_env",
   "language": "python",
   "name": "python3"
  },
  "language_info": {
   "codemirror_mode": {
    "name": "ipython",
    "version": 3
   },
   "file_extension": ".py",
   "mimetype": "text/x-python",
   "name": "python",
   "nbconvert_exporter": "python",
   "pygments_lexer": "ipython3",
   "version": "3.12.2"
  }
 },
 "nbformat": 4,
 "nbformat_minor": 5
}
