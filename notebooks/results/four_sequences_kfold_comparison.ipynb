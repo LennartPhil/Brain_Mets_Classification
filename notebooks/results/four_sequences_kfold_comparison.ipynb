{
 "cells": [
  {
   "cell_type": "markdown",
   "id": "795b47cf",
   "metadata": {},
   "source": [
    "# K‑Fold Four Sequences Model Comparison Dashboard\n",
    "\n",
    "This notebook loads k‑fold training histories for **multiple models**, extracts the **best epoch per fold** (based on `val_accuracy` by default), and provides **publication‑quality** comparisons:\n",
    "\n",
    "- Summary tables per model and combined\n",
    "- Boxplot of validation accuracy across folds (per model)\n",
    "- Mean±SD bar charts for validation accuracy and overfitting gap\n",
    "- CSV export of all summarized results\n",
    "\n",
    "> **Assumptions:** Each fold's history is stored as a NumPy `.npy` (dict-like) with keys at least: `accuracy`, `loss`, `val_accuracy`, `val_loss`. Filenames contain `fold_{i}` so the fold number can be parsed.\n"
   ]
  },
  {
   "cell_type": "code",
   "execution_count": null,
   "id": "81fd0fa5",
   "metadata": {},
   "outputs": [],
   "source": [
    "import glob\n",
    "import re\n",
    "from pathlib import Path\n",
    "from typing import Union\n",
    "\n",
    "import numpy as np\n",
    "import pandas as pd\n",
    "import matplotlib.pyplot as plt\n",
    "\n",
    "from brainmet import plotting as brain_met_plt\n",
    "\n",
    "pd.set_option(\"display.max_rows\", 200)\n",
    "pd.set_option(\"display.float_format\", \"{:.4f}\".format)"
   ]
  },
  {
   "cell_type": "markdown",
   "id": "1d57e846",
   "metadata": {},
   "source": [
    "## 1) Configure your models and file patterns\n",
    "\n",
    "Edit the dictionary below so that each **key** is a human‑readable model name and each **value** is either a single **glob pattern (string)** or a **list of glob patterns** for runs that were split across multiple folders.\n",
    "\n",
    "**Examples**\n",
    "- **Single path:** `\"ResNet50\": \"/path/to/logs/ResNet50/history_*_fold_*.npy\"`\n",
    "- **Split run:** `\"EfficientNet\": [\"/path/part1/EffNet/history_*.npy\", \"/path/part2/EffNet/history_*.npy\"]`\n",
    "\n",
    "> The pattern must include `fold_` followed by a number (e.g., `fold_1`), which is used to map results to each fold."
   ]
  },
  {
   "cell_type": "code",
   "execution_count": 2,
   "id": "d95c277b",
   "metadata": {},
   "outputs": [],
   "source": [
    "# === EDIT ME: map model names to their glob patterns ===\n",
    "MODEL_PATTERNS = {\n",
    "    \"ResNeXt50\": '/Users/LennartPhilipp/Desktop/Uni/Prowiss/Training/training_histories_06_25/ResNeXt50/2_classes_training/four_sequences/resnext50_00_2cls_slice_no_clin_no_layer_gray_seq[[]t1-t1c-t2-flair[]]_normal_DA_kfold_run_2025_09_27_19_59_45/history_resnext50_00_2cls_slice_no_clin_no_layer_gray_seq[[]t1-t1c-t2-flair[]]_normal_DA_kfold_fold_*_run_2025_09_27_19_59_45.npy',\n",
    "    \"ResNeXt101\": '/Users/LennartPhilipp/Desktop/Uni/Prowiss/Training/training_histories_06_25/ResNeXt101/2_classes_training/four_sequences/resnext101_00_2cls_slice_no_clin_no_layer_gray_seq[[]t1-t1c-t2-flair[]]_normal_DA_kfold_run_2025_09_28_14_32_12/history_resnext101_00_2cls_slice_no_clin_no_layer_gray_seq[[]t1-t1c-t2-flair[]]_normal_DA_kfold_fold_*_run_2025_09_28_14_32_12.npy',\n",
    "    \"ResNet152\": '/Users/LennartPhilipp/Desktop/Uni/Prowiss/Training/training_histories_06_25/ResNet152/2_classes_training/fours_sequences/resnet152_00_2cls_slice_no_clin_no_layer_gray_seq[[]t1-t1c-t2-flair[]]_normal_DA_kfold_run_2025_09_26_12_47_30/history_resnet152_00_2cls_slice_no_clin_no_layer_gray_seq[[]t1-t1c-t2-flair[]]_normal_DA_kfold_fold_*_run_2025_09_26_12_47_30.npy'\n",
    "}\n",
    "\n",
    "# Metric used to pick the best epoch within each fold\n",
    "SELECTION_METRIC = \"val_accuracy\"  # change to \"val_loss\" if desired\n",
    "HIGHER_IS_BETTER = True            # set False if using \"val_loss\" or any metric where lower is better\n"
   ]
  },
  {
   "cell_type": "markdown",
   "id": "b8c47638",
   "metadata": {},
   "source": [
    "## 3) Run the summary"
   ]
  },
  {
   "cell_type": "code",
   "execution_count": 3,
   "id": "cf48e747",
   "metadata": {},
   "outputs": [
    {
     "name": "stdout",
     "output_type": "stream",
     "text": [
      "--- Processing model: ResNeXt50 ---\n",
      "--- Processing model: ResNeXt101 ---\n",
      "--- Processing model: ResNet152 ---\n"
     ]
    },
    {
     "data": {
      "application/vnd.microsoft.datawrangler.viewer.v0+json": {
       "columns": [
        {
         "name": "index",
         "rawType": "int64",
         "type": "integer"
        },
        {
         "name": "Model",
         "rawType": "object",
         "type": "string"
        },
        {
         "name": "Fold",
         "rawType": "int64",
         "type": "integer"
        },
        {
         "name": "Best Epoch",
         "rawType": "int64",
         "type": "integer"
        },
        {
         "name": "Val Accuracy",
         "rawType": "float64",
         "type": "float"
        },
        {
         "name": "Val Loss",
         "rawType": "float64",
         "type": "float"
        },
        {
         "name": "Train Accuracy",
         "rawType": "float64",
         "type": "float"
        },
        {
         "name": "Train Loss",
         "rawType": "float64",
         "type": "float"
        },
        {
         "name": "Overfitting Gap (Acc)",
         "rawType": "float64",
         "type": "float"
        }
       ],
       "ref": "6cf0822f-471e-47cc-9797-9c58edda87c1",
       "rows": [
        [
         "0",
         "ResNeXt101",
         "0",
         "435",
         "0.7862595319747925",
         "1.7224904298782349",
         "0.8692257404327393",
         "1.0432791709899902",
         "0.08296620845794678"
        ],
        [
         "1",
         "ResNeXt101",
         "1",
         "196",
         "0.767241358757019",
         "9.989900588989258",
         "0.6538997292518616",
         "10.120710372924805",
         "-0.11334162950515747"
        ],
        [
         "2",
         "ResNeXt101",
         "2",
         "739",
         "0.6475409865379333",
         "1.4469914436340332",
         "0.9320827722549438",
         "0.482949823141098",
         "0.2845417857170105"
        ],
        [
         "3",
         "ResNeXt101",
         "3",
         "1166",
         "0.774193525314331",
         "2.4664177894592285",
         "0.9750337600708008",
         "0.3404422104358673",
         "0.20084023475646973"
        ],
        [
         "4",
         "ResNeXt101",
         "4",
         "458",
         "0.7007874250411987",
         "1.1440846920013428",
         "0.7787151336669922",
         "0.9252523183822632",
         "0.07792770862579346"
        ],
        [
         "5",
         "ResNeXt101",
         "5",
         "232",
         "0.7799227833747864",
         "6.803130149841309",
         "0.692689836025238",
         "6.820772171020508",
         "-0.08723294734954834"
        ],
        [
         "6",
         "ResNeXt101",
         "6",
         "587",
         "0.7676767706871033",
         "1.2210286855697632",
         "0.9292517304420471",
         "0.594799816608429",
         "0.16157495975494385"
        ],
        [
         "7",
         "ResNeXt101",
         "7",
         "85",
         "0.7592592835426331",
         "31.58855438232422",
         "0.5923076868057251",
         "31.89311981201172",
         "-0.16695159673690796"
        ],
        [
         "8",
         "ResNeXt101",
         "8",
         "994",
         "0.7142857313156128",
         "1.2577494382858276",
         "0.953977644443512",
         "0.4081224799156189",
         "0.23969191312789917"
        ],
        [
         "9",
         "ResNeXt101",
         "9",
         "323",
         "0.7405063509941101",
         "2.1568689346313477",
         "0.6682119369506836",
         "2.198575973510742",
         "-0.07229441404342651"
        ],
        [
         "10",
         "ResNeXt50",
         "0",
         "596",
         "0.6870229244232178",
         "1.9163647890090942",
         "0.9603123068809509",
         "0.4152146577835083",
         "0.27328938245773315"
        ],
        [
         "11",
         "ResNeXt50",
         "1",
         "278",
         "0.7801724076271057",
         "2.179872989654541",
         "0.7604456543922424",
         "2.06809401512146",
         "-0.01972675323486328"
        ],
        [
         "12",
         "ResNeXt50",
         "2",
         "299",
         "0.688524603843689",
         "2.0259850025177",
         "0.7561448812484741",
         "1.518381953239441",
         "0.06762027740478516"
        ],
        [
         "13",
         "ResNeXt50",
         "3",
         "153",
         "0.8333333134651184",
         "6.5785746574401855",
         "0.689608633518219",
         "6.718038558959961",
         "-0.14372467994689941"
        ],
        [
         "14",
         "ResNeXt50",
         "4",
         "74",
         "0.7244094610214233",
         "15.357476234436035",
         "0.6080467104911804",
         "15.511449813842773",
         "-0.11636275053024292"
        ],
        [
         "15",
         "ResNeXt50",
         "5",
         "712",
         "0.7644787430763245",
         "1.2144790887832642",
         "0.9105748534202576",
         "0.5439609289169312",
         "0.1460961103439331"
        ],
        [
         "16",
         "ResNeXt50",
         "6",
         "148",
         "0.8181818127632141",
         "7.029238700866699",
         "0.6095238327980042",
         "7.211311340332031",
         "-0.20865797996520996"
        ],
        [
         "17",
         "ResNeXt50",
         "7",
         "587",
         "0.7685185074806213",
         "1.3350012302398682",
         "0.9410256147384644",
         "0.46797317266464233",
         "0.17250710725784302"
        ],
        [
         "18",
         "ResNeXt50",
         "8",
         "451",
         "0.6598639488220215",
         "1.311034917831421",
         "0.9151873588562012",
         "0.6011232733726501",
         "0.2553234100341797"
        ],
        [
         "19",
         "ResNeXt50",
         "9",
         "541",
         "0.7405063509941101",
         "0.848002016544342",
         "0.7549669146537781",
         "0.7240957021713257",
         "0.014460563659667969"
        ],
        [
         "20",
         "ResNet152",
         "0",
         "435",
         "0.7022900581359863",
         "1.8225524425506592",
         "0.7189329862594604",
         "1.7069920301437378",
         "0.01664292812347412"
        ],
        [
         "21",
         "ResNet152",
         "1",
         "747",
         "0.7370689511299133",
         "0.9615474343299866",
         "0.8175487518310547",
         "0.5678229331970215",
         "0.08047980070114136"
        ],
        [
         "22",
         "ResNet152",
         "2",
         "535",
         "0.7131147384643555",
         "1.0102261304855347",
         "0.7509702444076538",
         "0.9222792983055115",
         "0.03785550594329834"
        ],
        [
         "23",
         "ResNet152",
         "3",
         "1",
         "0.24731183052062988",
         null,
         "0.5580297112464905",
         "168.2809295654297",
         "0.3107178807258606"
        ],
        [
         "24",
         "ResNet152",
         "4",
         "517",
         "0.6929134130477905",
         "1.2973552942276",
         "0.7423750758171082",
         "1.033827304840088",
         "0.04946166276931763"
        ],
        [
         "25",
         "ResNet152",
         "5",
         "522",
         "0.8494208455085754",
         "1.1112786531448364",
         "0.654364824295044",
         "1.1746009588241577",
         "-0.1950560212135315"
        ],
        [
         "26",
         "ResNet152",
         "6",
         "63",
         "0.7727272510528564",
         "92.50628662109375",
         "0.5612244606018066",
         "93.11992645263672",
         "-0.2115027904510498"
        ],
        [
         "27",
         "ResNet152",
         "7",
         "1",
         "0.37962964177131653",
         null,
         "0.5628204941749573",
         null,
         "0.18319085240364075"
        ],
        [
         "28",
         "ResNet152",
         "8",
         "1",
         "0.40136054158210754",
         null,
         "0.5608152747154236",
         null,
         "0.15945473313331604"
        ],
        [
         "29",
         "ResNet152",
         "9",
         "694",
         "0.8101266026496887",
         "0.6690402626991272",
         "0.625165581703186",
         "0.7284297943115234",
         "-0.18496102094650269"
        ]
       ],
       "shape": {
        "columns": 8,
        "rows": 30
       }
      },
      "text/html": [
       "<div>\n",
       "<style scoped>\n",
       "    .dataframe tbody tr th:only-of-type {\n",
       "        vertical-align: middle;\n",
       "    }\n",
       "\n",
       "    .dataframe tbody tr th {\n",
       "        vertical-align: top;\n",
       "    }\n",
       "\n",
       "    .dataframe thead th {\n",
       "        text-align: right;\n",
       "    }\n",
       "</style>\n",
       "<table border=\"1\" class=\"dataframe\">\n",
       "  <thead>\n",
       "    <tr style=\"text-align: right;\">\n",
       "      <th></th>\n",
       "      <th>Model</th>\n",
       "      <th>Fold</th>\n",
       "      <th>Best Epoch</th>\n",
       "      <th>Val Accuracy</th>\n",
       "      <th>Val Loss</th>\n",
       "      <th>Train Accuracy</th>\n",
       "      <th>Train Loss</th>\n",
       "      <th>Overfitting Gap (Acc)</th>\n",
       "    </tr>\n",
       "  </thead>\n",
       "  <tbody>\n",
       "    <tr>\n",
       "      <th>0</th>\n",
       "      <td>ResNeXt101</td>\n",
       "      <td>0</td>\n",
       "      <td>435</td>\n",
       "      <td>0.7863</td>\n",
       "      <td>1.7225</td>\n",
       "      <td>0.8692</td>\n",
       "      <td>1.0433</td>\n",
       "      <td>0.0830</td>\n",
       "    </tr>\n",
       "    <tr>\n",
       "      <th>1</th>\n",
       "      <td>ResNeXt101</td>\n",
       "      <td>1</td>\n",
       "      <td>196</td>\n",
       "      <td>0.7672</td>\n",
       "      <td>9.9899</td>\n",
       "      <td>0.6539</td>\n",
       "      <td>10.1207</td>\n",
       "      <td>-0.1133</td>\n",
       "    </tr>\n",
       "    <tr>\n",
       "      <th>2</th>\n",
       "      <td>ResNeXt101</td>\n",
       "      <td>2</td>\n",
       "      <td>739</td>\n",
       "      <td>0.6475</td>\n",
       "      <td>1.4470</td>\n",
       "      <td>0.9321</td>\n",
       "      <td>0.4829</td>\n",
       "      <td>0.2845</td>\n",
       "    </tr>\n",
       "    <tr>\n",
       "      <th>3</th>\n",
       "      <td>ResNeXt101</td>\n",
       "      <td>3</td>\n",
       "      <td>1166</td>\n",
       "      <td>0.7742</td>\n",
       "      <td>2.4664</td>\n",
       "      <td>0.9750</td>\n",
       "      <td>0.3404</td>\n",
       "      <td>0.2008</td>\n",
       "    </tr>\n",
       "    <tr>\n",
       "      <th>4</th>\n",
       "      <td>ResNeXt101</td>\n",
       "      <td>4</td>\n",
       "      <td>458</td>\n",
       "      <td>0.7008</td>\n",
       "      <td>1.1441</td>\n",
       "      <td>0.7787</td>\n",
       "      <td>0.9253</td>\n",
       "      <td>0.0779</td>\n",
       "    </tr>\n",
       "    <tr>\n",
       "      <th>5</th>\n",
       "      <td>ResNeXt101</td>\n",
       "      <td>5</td>\n",
       "      <td>232</td>\n",
       "      <td>0.7799</td>\n",
       "      <td>6.8031</td>\n",
       "      <td>0.6927</td>\n",
       "      <td>6.8208</td>\n",
       "      <td>-0.0872</td>\n",
       "    </tr>\n",
       "    <tr>\n",
       "      <th>6</th>\n",
       "      <td>ResNeXt101</td>\n",
       "      <td>6</td>\n",
       "      <td>587</td>\n",
       "      <td>0.7677</td>\n",
       "      <td>1.2210</td>\n",
       "      <td>0.9293</td>\n",
       "      <td>0.5948</td>\n",
       "      <td>0.1616</td>\n",
       "    </tr>\n",
       "    <tr>\n",
       "      <th>7</th>\n",
       "      <td>ResNeXt101</td>\n",
       "      <td>7</td>\n",
       "      <td>85</td>\n",
       "      <td>0.7593</td>\n",
       "      <td>31.5886</td>\n",
       "      <td>0.5923</td>\n",
       "      <td>31.8931</td>\n",
       "      <td>-0.1670</td>\n",
       "    </tr>\n",
       "    <tr>\n",
       "      <th>8</th>\n",
       "      <td>ResNeXt101</td>\n",
       "      <td>8</td>\n",
       "      <td>994</td>\n",
       "      <td>0.7143</td>\n",
       "      <td>1.2577</td>\n",
       "      <td>0.9540</td>\n",
       "      <td>0.4081</td>\n",
       "      <td>0.2397</td>\n",
       "    </tr>\n",
       "    <tr>\n",
       "      <th>9</th>\n",
       "      <td>ResNeXt101</td>\n",
       "      <td>9</td>\n",
       "      <td>323</td>\n",
       "      <td>0.7405</td>\n",
       "      <td>2.1569</td>\n",
       "      <td>0.6682</td>\n",
       "      <td>2.1986</td>\n",
       "      <td>-0.0723</td>\n",
       "    </tr>\n",
       "    <tr>\n",
       "      <th>10</th>\n",
       "      <td>ResNeXt50</td>\n",
       "      <td>0</td>\n",
       "      <td>596</td>\n",
       "      <td>0.6870</td>\n",
       "      <td>1.9164</td>\n",
       "      <td>0.9603</td>\n",
       "      <td>0.4152</td>\n",
       "      <td>0.2733</td>\n",
       "    </tr>\n",
       "    <tr>\n",
       "      <th>11</th>\n",
       "      <td>ResNeXt50</td>\n",
       "      <td>1</td>\n",
       "      <td>278</td>\n",
       "      <td>0.7802</td>\n",
       "      <td>2.1799</td>\n",
       "      <td>0.7604</td>\n",
       "      <td>2.0681</td>\n",
       "      <td>-0.0197</td>\n",
       "    </tr>\n",
       "    <tr>\n",
       "      <th>12</th>\n",
       "      <td>ResNeXt50</td>\n",
       "      <td>2</td>\n",
       "      <td>299</td>\n",
       "      <td>0.6885</td>\n",
       "      <td>2.0260</td>\n",
       "      <td>0.7561</td>\n",
       "      <td>1.5184</td>\n",
       "      <td>0.0676</td>\n",
       "    </tr>\n",
       "    <tr>\n",
       "      <th>13</th>\n",
       "      <td>ResNeXt50</td>\n",
       "      <td>3</td>\n",
       "      <td>153</td>\n",
       "      <td>0.8333</td>\n",
       "      <td>6.5786</td>\n",
       "      <td>0.6896</td>\n",
       "      <td>6.7180</td>\n",
       "      <td>-0.1437</td>\n",
       "    </tr>\n",
       "    <tr>\n",
       "      <th>14</th>\n",
       "      <td>ResNeXt50</td>\n",
       "      <td>4</td>\n",
       "      <td>74</td>\n",
       "      <td>0.7244</td>\n",
       "      <td>15.3575</td>\n",
       "      <td>0.6080</td>\n",
       "      <td>15.5114</td>\n",
       "      <td>-0.1164</td>\n",
       "    </tr>\n",
       "    <tr>\n",
       "      <th>15</th>\n",
       "      <td>ResNeXt50</td>\n",
       "      <td>5</td>\n",
       "      <td>712</td>\n",
       "      <td>0.7645</td>\n",
       "      <td>1.2145</td>\n",
       "      <td>0.9106</td>\n",
       "      <td>0.5440</td>\n",
       "      <td>0.1461</td>\n",
       "    </tr>\n",
       "    <tr>\n",
       "      <th>16</th>\n",
       "      <td>ResNeXt50</td>\n",
       "      <td>6</td>\n",
       "      <td>148</td>\n",
       "      <td>0.8182</td>\n",
       "      <td>7.0292</td>\n",
       "      <td>0.6095</td>\n",
       "      <td>7.2113</td>\n",
       "      <td>-0.2087</td>\n",
       "    </tr>\n",
       "    <tr>\n",
       "      <th>17</th>\n",
       "      <td>ResNeXt50</td>\n",
       "      <td>7</td>\n",
       "      <td>587</td>\n",
       "      <td>0.7685</td>\n",
       "      <td>1.3350</td>\n",
       "      <td>0.9410</td>\n",
       "      <td>0.4680</td>\n",
       "      <td>0.1725</td>\n",
       "    </tr>\n",
       "    <tr>\n",
       "      <th>18</th>\n",
       "      <td>ResNeXt50</td>\n",
       "      <td>8</td>\n",
       "      <td>451</td>\n",
       "      <td>0.6599</td>\n",
       "      <td>1.3110</td>\n",
       "      <td>0.9152</td>\n",
       "      <td>0.6011</td>\n",
       "      <td>0.2553</td>\n",
       "    </tr>\n",
       "    <tr>\n",
       "      <th>19</th>\n",
       "      <td>ResNeXt50</td>\n",
       "      <td>9</td>\n",
       "      <td>541</td>\n",
       "      <td>0.7405</td>\n",
       "      <td>0.8480</td>\n",
       "      <td>0.7550</td>\n",
       "      <td>0.7241</td>\n",
       "      <td>0.0145</td>\n",
       "    </tr>\n",
       "    <tr>\n",
       "      <th>20</th>\n",
       "      <td>ResNet152</td>\n",
       "      <td>0</td>\n",
       "      <td>435</td>\n",
       "      <td>0.7023</td>\n",
       "      <td>1.8226</td>\n",
       "      <td>0.7189</td>\n",
       "      <td>1.7070</td>\n",
       "      <td>0.0166</td>\n",
       "    </tr>\n",
       "    <tr>\n",
       "      <th>21</th>\n",
       "      <td>ResNet152</td>\n",
       "      <td>1</td>\n",
       "      <td>747</td>\n",
       "      <td>0.7371</td>\n",
       "      <td>0.9615</td>\n",
       "      <td>0.8175</td>\n",
       "      <td>0.5678</td>\n",
       "      <td>0.0805</td>\n",
       "    </tr>\n",
       "    <tr>\n",
       "      <th>22</th>\n",
       "      <td>ResNet152</td>\n",
       "      <td>2</td>\n",
       "      <td>535</td>\n",
       "      <td>0.7131</td>\n",
       "      <td>1.0102</td>\n",
       "      <td>0.7510</td>\n",
       "      <td>0.9223</td>\n",
       "      <td>0.0379</td>\n",
       "    </tr>\n",
       "    <tr>\n",
       "      <th>23</th>\n",
       "      <td>ResNet152</td>\n",
       "      <td>3</td>\n",
       "      <td>1</td>\n",
       "      <td>0.2473</td>\n",
       "      <td>NaN</td>\n",
       "      <td>0.5580</td>\n",
       "      <td>168.2809</td>\n",
       "      <td>0.3107</td>\n",
       "    </tr>\n",
       "    <tr>\n",
       "      <th>24</th>\n",
       "      <td>ResNet152</td>\n",
       "      <td>4</td>\n",
       "      <td>517</td>\n",
       "      <td>0.6929</td>\n",
       "      <td>1.2974</td>\n",
       "      <td>0.7424</td>\n",
       "      <td>1.0338</td>\n",
       "      <td>0.0495</td>\n",
       "    </tr>\n",
       "    <tr>\n",
       "      <th>25</th>\n",
       "      <td>ResNet152</td>\n",
       "      <td>5</td>\n",
       "      <td>522</td>\n",
       "      <td>0.8494</td>\n",
       "      <td>1.1113</td>\n",
       "      <td>0.6544</td>\n",
       "      <td>1.1746</td>\n",
       "      <td>-0.1951</td>\n",
       "    </tr>\n",
       "    <tr>\n",
       "      <th>26</th>\n",
       "      <td>ResNet152</td>\n",
       "      <td>6</td>\n",
       "      <td>63</td>\n",
       "      <td>0.7727</td>\n",
       "      <td>92.5063</td>\n",
       "      <td>0.5612</td>\n",
       "      <td>93.1199</td>\n",
       "      <td>-0.2115</td>\n",
       "    </tr>\n",
       "    <tr>\n",
       "      <th>27</th>\n",
       "      <td>ResNet152</td>\n",
       "      <td>7</td>\n",
       "      <td>1</td>\n",
       "      <td>0.3796</td>\n",
       "      <td>NaN</td>\n",
       "      <td>0.5628</td>\n",
       "      <td>NaN</td>\n",
       "      <td>0.1832</td>\n",
       "    </tr>\n",
       "    <tr>\n",
       "      <th>28</th>\n",
       "      <td>ResNet152</td>\n",
       "      <td>8</td>\n",
       "      <td>1</td>\n",
       "      <td>0.4014</td>\n",
       "      <td>NaN</td>\n",
       "      <td>0.5608</td>\n",
       "      <td>NaN</td>\n",
       "      <td>0.1595</td>\n",
       "    </tr>\n",
       "    <tr>\n",
       "      <th>29</th>\n",
       "      <td>ResNet152</td>\n",
       "      <td>9</td>\n",
       "      <td>694</td>\n",
       "      <td>0.8101</td>\n",
       "      <td>0.6690</td>\n",
       "      <td>0.6252</td>\n",
       "      <td>0.7284</td>\n",
       "      <td>-0.1850</td>\n",
       "    </tr>\n",
       "  </tbody>\n",
       "</table>\n",
       "</div>"
      ],
      "text/plain": [
       "         Model  Fold  Best Epoch  Val Accuracy  Val Loss  Train Accuracy  \\\n",
       "0   ResNeXt101     0         435        0.7863    1.7225          0.8692   \n",
       "1   ResNeXt101     1         196        0.7672    9.9899          0.6539   \n",
       "2   ResNeXt101     2         739        0.6475    1.4470          0.9321   \n",
       "3   ResNeXt101     3        1166        0.7742    2.4664          0.9750   \n",
       "4   ResNeXt101     4         458        0.7008    1.1441          0.7787   \n",
       "5   ResNeXt101     5         232        0.7799    6.8031          0.6927   \n",
       "6   ResNeXt101     6         587        0.7677    1.2210          0.9293   \n",
       "7   ResNeXt101     7          85        0.7593   31.5886          0.5923   \n",
       "8   ResNeXt101     8         994        0.7143    1.2577          0.9540   \n",
       "9   ResNeXt101     9         323        0.7405    2.1569          0.6682   \n",
       "10   ResNeXt50     0         596        0.6870    1.9164          0.9603   \n",
       "11   ResNeXt50     1         278        0.7802    2.1799          0.7604   \n",
       "12   ResNeXt50     2         299        0.6885    2.0260          0.7561   \n",
       "13   ResNeXt50     3         153        0.8333    6.5786          0.6896   \n",
       "14   ResNeXt50     4          74        0.7244   15.3575          0.6080   \n",
       "15   ResNeXt50     5         712        0.7645    1.2145          0.9106   \n",
       "16   ResNeXt50     6         148        0.8182    7.0292          0.6095   \n",
       "17   ResNeXt50     7         587        0.7685    1.3350          0.9410   \n",
       "18   ResNeXt50     8         451        0.6599    1.3110          0.9152   \n",
       "19   ResNeXt50     9         541        0.7405    0.8480          0.7550   \n",
       "20   ResNet152     0         435        0.7023    1.8226          0.7189   \n",
       "21   ResNet152     1         747        0.7371    0.9615          0.8175   \n",
       "22   ResNet152     2         535        0.7131    1.0102          0.7510   \n",
       "23   ResNet152     3           1        0.2473       NaN          0.5580   \n",
       "24   ResNet152     4         517        0.6929    1.2974          0.7424   \n",
       "25   ResNet152     5         522        0.8494    1.1113          0.6544   \n",
       "26   ResNet152     6          63        0.7727   92.5063          0.5612   \n",
       "27   ResNet152     7           1        0.3796       NaN          0.5628   \n",
       "28   ResNet152     8           1        0.4014       NaN          0.5608   \n",
       "29   ResNet152     9         694        0.8101    0.6690          0.6252   \n",
       "\n",
       "    Train Loss  Overfitting Gap (Acc)  \n",
       "0       1.0433                 0.0830  \n",
       "1      10.1207                -0.1133  \n",
       "2       0.4829                 0.2845  \n",
       "3       0.3404                 0.2008  \n",
       "4       0.9253                 0.0779  \n",
       "5       6.8208                -0.0872  \n",
       "6       0.5948                 0.1616  \n",
       "7      31.8931                -0.1670  \n",
       "8       0.4081                 0.2397  \n",
       "9       2.1986                -0.0723  \n",
       "10      0.4152                 0.2733  \n",
       "11      2.0681                -0.0197  \n",
       "12      1.5184                 0.0676  \n",
       "13      6.7180                -0.1437  \n",
       "14     15.5114                -0.1164  \n",
       "15      0.5440                 0.1461  \n",
       "16      7.2113                -0.2087  \n",
       "17      0.4680                 0.1725  \n",
       "18      0.6011                 0.2553  \n",
       "19      0.7241                 0.0145  \n",
       "20      1.7070                 0.0166  \n",
       "21      0.5678                 0.0805  \n",
       "22      0.9223                 0.0379  \n",
       "23    168.2809                 0.3107  \n",
       "24      1.0338                 0.0495  \n",
       "25      1.1746                -0.1951  \n",
       "26     93.1199                -0.2115  \n",
       "27         NaN                 0.1832  \n",
       "28         NaN                 0.1595  \n",
       "29      0.7284                -0.1850  "
      ]
     },
     "metadata": {},
     "output_type": "display_data"
    },
    {
     "name": "stdout",
     "output_type": "stream",
     "text": [
      "\n",
      "Per-model descriptive stats (Val Accuracy):\n",
      "\n",
      "\n",
      "ResNeXt50\n",
      "count   10.0000\n",
      "mean     0.7465\n",
      "std      0.0573\n",
      "min      0.6599\n",
      "max      0.8333\n",
      "Name: Val Accuracy, dtype: float64\n",
      "\n",
      "ResNeXt101\n",
      "count   10.0000\n",
      "mean     0.7438\n",
      "std      0.0440\n",
      "min      0.6475\n",
      "max      0.7863\n",
      "Name: Val Accuracy, dtype: float64\n",
      "\n",
      "ResNet152\n",
      "count   10.0000\n",
      "mean     0.6306\n",
      "std      0.2081\n",
      "min      0.2473\n",
      "max      0.8494\n",
      "Name: Val Accuracy, dtype: float64\n"
     ]
    }
   ],
   "source": [
    "\n",
    "per_model_results, combined_df = brain_met_plt.summarize_all_models(\n",
    "    MODEL_PATTERNS,\n",
    "    selection_metric=SELECTION_METRIC,\n",
    "    higher_is_better=HIGHER_IS_BETTER\n",
    ")\n",
    "\n",
    "if combined_df.empty:\n",
    "    print(\"No results found. Please check your MODEL_PATTERNS and file paths.\")\n",
    "else:\n",
    "    display(combined_df.sort_values([\"Model\", \"Fold\"]).reset_index(drop=True))\n",
    "    print(\"\\nPer-model descriptive stats (Val Accuracy):\\n\")\n",
    "    for name, df in per_model_results.items():\n",
    "        if df.empty:\n",
    "            print(f\"- {name}: no data\")\n",
    "            continue\n",
    "        desc = df[\"Val Accuracy\"].describe()[[\"count\",\"mean\",\"std\",\"min\",\"max\"]]\n",
    "        print(f\"\\n{name}\\n{desc}\")\n"
   ]
  },
  {
   "cell_type": "markdown",
   "id": "8f967a18",
   "metadata": {},
   "source": [
    "## 4) Boxplot: Validation Accuracy across folds (per model)\n",
    "\n",
    "This figure shows the **distribution** of validation accuracies across folds for each model. Use it to visually compare model stability and central tendency.\n"
   ]
  },
  {
   "cell_type": "code",
   "execution_count": 4,
   "id": "c0b60aa8",
   "metadata": {},
   "outputs": [
    {
     "data": {
      "image/png": "[encoded data removed]",
      "text/plain": [
       "<Figure size 1000x600 with 1 Axes>"
      ]
     },
     "metadata": {},
     "output_type": "display_data"
    },
    {
     "data": {
      "text/plain": [
       "(<Figure size 1000x600 with 1 Axes>,\n",
       " <Axes: title={'center': 'K-Fold Val Accuracy by Model'}, ylabel='Val Accuracy'>)"
      ]
     },
     "execution_count": 4,
     "metadata": {},
     "output_type": "execute_result"
    }
   ],
   "source": [
    "brain_met_plt.plot_model_comparison_boxplot(per_model_results, metric=\"Val Accuracy\", figsize=(10, 6))"
   ]
  },
  {
   "cell_type": "markdown",
   "id": "d0a8d2be",
   "metadata": {},
   "source": [
    "## 5) Mean ± SD: Validation Accuracy\n",
    "\n",
    "Bars show the mean validation accuracy per model with standard‑deviation error bars (across folds)."
   ]
  },
  {
   "cell_type": "code",
   "execution_count": 6,
   "id": "6c420d17",
   "metadata": {},
   "outputs": [
    {
     "data": {
      "image/png": "[encoded data removed]",
      "text/plain": [
       "<Figure size 1000x600 with 1 Axes>"
      ]
     },
     "metadata": {},
     "output_type": "display_data"
    },
    {
     "name": "stdout",
     "output_type": "stream",
     "text": [
      "\n",
      "Summary statistics for Val Accuracy:\n"
     ]
    },
    {
     "data": {
      "application/vnd.microsoft.datawrangler.viewer.v0+json": {
       "columns": [
        {
         "name": "Model",
         "rawType": "object",
         "type": "string"
        },
        {
         "name": "mean",
         "rawType": "float64",
         "type": "float"
        },
        {
         "name": "std",
         "rawType": "float64",
         "type": "float"
        }
       ],
       "ref": "97557f84-f95c-41d2-aa98-f119d7dbe49d",
       "rows": [
        [
         "ResNeXt50",
         "0.7465012073516846",
         "0.05729899910565652"
        ],
        [
         "ResNeXt101",
         "0.743767374753952",
         "0.04395430639339828"
        ],
        [
         "ResNet152",
         "0.6305963873863221",
         "0.20814683257982364"
        ]
       ],
       "shape": {
        "columns": 2,
        "rows": 3
       }
      },
      "text/html": [
       "<div>\n",
       "<style scoped>\n",
       "    .dataframe tbody tr th:only-of-type {\n",
       "        vertical-align: middle;\n",
       "    }\n",
       "\n",
       "    .dataframe tbody tr th {\n",
       "        vertical-align: top;\n",
       "    }\n",
       "\n",
       "    .dataframe thead th {\n",
       "        text-align: right;\n",
       "    }\n",
       "</style>\n",
       "<table border=\"1\" class=\"dataframe\">\n",
       "  <thead>\n",
       "    <tr style=\"text-align: right;\">\n",
       "      <th></th>\n",
       "      <th>mean</th>\n",
       "      <th>std</th>\n",
       "    </tr>\n",
       "    <tr>\n",
       "      <th>Model</th>\n",
       "      <th></th>\n",
       "      <th></th>\n",
       "    </tr>\n",
       "  </thead>\n",
       "  <tbody>\n",
       "    <tr>\n",
       "      <th>ResNeXt50</th>\n",
       "      <td>0.7465</td>\n",
       "      <td>0.0573</td>\n",
       "    </tr>\n",
       "    <tr>\n",
       "      <th>ResNeXt101</th>\n",
       "      <td>0.7438</td>\n",
       "      <td>0.0440</td>\n",
       "    </tr>\n",
       "    <tr>\n",
       "      <th>ResNet152</th>\n",
       "      <td>0.6306</td>\n",
       "      <td>0.2081</td>\n",
       "    </tr>\n",
       "  </tbody>\n",
       "</table>\n",
       "</div>"
      ],
      "text/plain": [
       "             mean    std\n",
       "Model                   \n",
       "ResNeXt50  0.7465 0.0573\n",
       "ResNeXt101 0.7438 0.0440\n",
       "ResNet152  0.6306 0.2081"
      ]
     },
     "metadata": {},
     "output_type": "display_data"
    },
    {
     "data": {
      "text/plain": [
       "(<Figure size 1000x600 with 1 Axes>,\n",
       " <Axes: title={'center': 'Mean Val Accuracy Across Folds'}, ylabel='Val Accuracy (mean ± SD)'>)"
      ]
     },
     "execution_count": 6,
     "metadata": {},
     "output_type": "execute_result"
    }
   ],
   "source": [
    "brain_met_plt.plot_model_summary_bar(combined_df, metric=\"Val Accuracy\", figsize=(10, 6))"
   ]
  },
  {
   "cell_type": "markdown",
   "id": "7aee0b03",
   "metadata": {},
   "source": [
    "## 6) Mean ± SD: Overfitting Gap (Train Acc − Val Acc)\n",
    "\n",
    "Positive values indicate the model fits training data better than validation (**overfitting**)."
   ]
  },
  {
   "cell_type": "code",
   "execution_count": 7,
   "id": "0dc5f976",
   "metadata": {},
   "outputs": [
    {
     "data": {
      "image/png": "[encoded data removed]",
      "text/plain": [
       "<Figure size 1000x600 with 1 Axes>"
      ]
     },
     "metadata": {},
     "output_type": "display_data"
    },
    {
     "name": "stdout",
     "output_type": "stream",
     "text": [
      "\n",
      "Summary statistics for Overfitting Gap (Acc):\n"
     ]
    },
    {
     "data": {
      "application/vnd.microsoft.datawrangler.viewer.v0+json": {
       "columns": [
        {
         "name": "Model",
         "rawType": "object",
         "type": "string"
        },
        {
         "name": "mean",
         "rawType": "float64",
         "type": "float"
        },
        {
         "name": "std",
         "rawType": "float64",
         "type": "float"
        }
       ],
       "ref": "925fccd7-c361-429a-ae98-29f4d6e86558",
       "rows": [
        [
         "ResNeXt101",
         "0.06077222228050232",
         "0.1613960718578465"
        ],
        [
         "ResNeXt50",
         "0.04408246874809265",
         "0.16814452970559773"
        ],
        [
         "ResNet152",
         "0.024628353118896485",
         "0.175464173549165"
        ]
       ],
       "shape": {
        "columns": 2,
        "rows": 3
       }
      },
      "text/html": [
       "<div>\n",
       "<style scoped>\n",
       "    .dataframe tbody tr th:only-of-type {\n",
       "        vertical-align: middle;\n",
       "    }\n",
       "\n",
       "    .dataframe tbody tr th {\n",
       "        vertical-align: top;\n",
       "    }\n",
       "\n",
       "    .dataframe thead th {\n",
       "        text-align: right;\n",
       "    }\n",
       "</style>\n",
       "<table border=\"1\" class=\"dataframe\">\n",
       "  <thead>\n",
       "    <tr style=\"text-align: right;\">\n",
       "      <th></th>\n",
       "      <th>mean</th>\n",
       "      <th>std</th>\n",
       "    </tr>\n",
       "    <tr>\n",
       "      <th>Model</th>\n",
       "      <th></th>\n",
       "      <th></th>\n",
       "    </tr>\n",
       "  </thead>\n",
       "  <tbody>\n",
       "    <tr>\n",
       "      <th>ResNeXt101</th>\n",
       "      <td>0.0608</td>\n",
       "      <td>0.1614</td>\n",
       "    </tr>\n",
       "    <tr>\n",
       "      <th>ResNeXt50</th>\n",
       "      <td>0.0441</td>\n",
       "      <td>0.1681</td>\n",
       "    </tr>\n",
       "    <tr>\n",
       "      <th>ResNet152</th>\n",
       "      <td>0.0246</td>\n",
       "      <td>0.1755</td>\n",
       "    </tr>\n",
       "  </tbody>\n",
       "</table>\n",
       "</div>"
      ],
      "text/plain": [
       "             mean    std\n",
       "Model                   \n",
       "ResNeXt101 0.0608 0.1614\n",
       "ResNeXt50  0.0441 0.1681\n",
       "ResNet152  0.0246 0.1755"
      ]
     },
     "metadata": {},
     "output_type": "display_data"
    },
    {
     "data": {
      "text/plain": [
       "(<Figure size 1000x600 with 1 Axes>,\n",
       " <Axes: title={'center': 'Mean Overfitting Gap (Acc) Across Folds'}, ylabel='Overfitting Gap (Acc) (mean ± SD)'>)"
      ]
     },
     "execution_count": 7,
     "metadata": {},
     "output_type": "execute_result"
    }
   ],
   "source": [
    "brain_met_plt.plot_model_summary_bar(combined_df, metric=\"Overfitting Gap (Acc)\", figsize=(10, 6))"
   ]
  },
  {
   "cell_type": "markdown",
   "id": "ca329273",
   "metadata": {},
   "source": [
    "## 7) Export combined summary to CSV"
   ]
  },
  {
   "cell_type": "code",
   "execution_count": null,
   "id": "59b520a7",
   "metadata": {},
   "outputs": [],
   "source": [
    "brain_met_plt.save_summary_to_csv(combined_df, output_path=\"kfold_summary_experiment_01.csv\")"
   ]
  },
  {
   "cell_type": "markdown",
   "id": "7659d27b",
   "metadata": {},
   "source": [
    "---\n",
    "\n",
    "### Notes\n",
    "- Replace `MODEL_PATTERNS` with the appropriate paths for your project.\n",
    "- If your model selection should be based on **minimum validation loss**, set:\n",
    "  ```python\n",
    "  SELECTION_METRIC = \"val_loss\"\n",
    "  HIGHER_IS_BETTER = False\n",
    "  ```\n",
    "- Ensure your history files contain the necessary keys. If not, adapt the code accordingly.\n",
    "- Each plot uses **matplotlib** only, with one chart per figure and default styling (no custom colors), to be compatible with strict pipelines.\n"
   ]
  }
 ],
 "metadata": {
  "kernelspec": {
   "display_name": "brain_mets_env",
   "language": "python",
   "name": "python3"
  },
  "language_info": {
   "codemirror_mode": {
    "name": "ipython",
    "version": 3
   },
   "file_extension": ".py",
   "mimetype": "text/x-python",
   "name": "python",
   "nbconvert_exporter": "python",
   "pygments_lexer": "ipython3",
   "version": "3.12.2"
  }
 },
 "nbformat": 4,
 "nbformat_minor": 5
}
