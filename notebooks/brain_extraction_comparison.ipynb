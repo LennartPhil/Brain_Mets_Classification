{
 "cells": [
  {
   "cell_type": "markdown",
   "metadata": {},
   "source": [
    "# Brain extraction comparison\n",
    "This notebook generates two different brain extracted nifti files that can then be compared\\\n",
    "The comparison will be between the [HD-BET](https://github.com/MIC-DKFZ/HD-BET) tool, the [SynthStrip](https://surfer.nmr.mgh.harvard.edu/docs/synthstrip/) tool and the classic fsl bet tool"
   ]
  },
  {
   "cell_type": "code",
   "execution_count": null,
   "metadata": {},
   "outputs": [],
   "source": [
    "import os\n",
    "\n",
    "path_to_nifti_file = \"\"\n",
    "path_to_output_folder = \"\""
   ]
  },
  {
   "cell_type": "markdown",
   "metadata": {},
   "source": [
    "## HD-BET"
   ]
  },
  {
   "cell_type": "markdown",
   "metadata": {},
   "source": [
    "### CPU Version\n",
    "When running the HD-BET tool only on the cpu, it is generally adviced to disable the test time data augmentation and only use one model instead of five as this signifiacantly reduces the duration of the algorith"
   ]
  },
  {
   "cell_type": "code",
   "execution_count": null,
   "metadata": {},
   "outputs": [],
   "source": [
    "os.system(f\"hd-bet -i {path_to_nifti_file} -o {path_to_output_folder}/hd_bet_brain_extracted_cpu.nii.gz -device cpu -mode fast -tta 0\")"
   ]
  },
  {
   "cell_type": "markdown",
   "metadata": {},
   "source": [
    "### GPU Version"
   ]
  },
  {
   "cell_type": "code",
   "execution_count": null,
   "metadata": {},
   "outputs": [],
   "source": [
    "os.system(f\"hd-bet -i {path_to_nifti_file} -o {path_to_output_folder}/hd_bet_brain_extracted_gpu.nii.gz\")"
   ]
  },
  {
   "cell_type": "markdown",
   "metadata": {},
   "source": [
    "## SynthStrip\n",
    "In this case the synthstrip runs on docker, which needs to be launched first. For further information see https://surfer.nmr.mgh.harvard.edu/docs/synthstrip/"
   ]
  },
  {
   "cell_type": "code",
   "execution_count": null,
   "metadata": {},
   "outputs": [],
   "source": [
    "os.system(f\"synthstrip-docker -i {path_to_nifti_file} -o {path_to_output_folder}/synthstrip_brain_extracted.nii.gz\")"
   ]
  },
  {
   "cell_type": "markdown",
   "metadata": {},
   "source": [
    "## FSL BET"
   ]
  },
  {
   "cell_type": "code",
   "execution_count": null,
   "metadata": {},
   "outputs": [],
   "source": []
  }
 ],
 "metadata": {
  "kernelspec": {
   "display_name": ".brain_mets_env",
   "language": "python",
   "name": "python3"
  },
  "language_info": {
   "name": "python",
   "version": "3.11.0"
  }
 },
 "nbformat": 4,
 "nbformat_minor": 2
}
