{
 "cells": [
  {
   "cell_type": "markdown",
   "metadata": {},
   "source": [
    "# Brain extraction comparison\n",
    "This notebook generates two different brain extracted nifti files that can then be compared\\\n",
    "The comparison will be between the [HD-BET](https://github.com/MIC-DKFZ/HD-BET) tool, the [SynthStrip](https://surfer.nmr.mgh.harvard.edu/docs/synthstrip/) tool and the classic fsl bet tool"
   ]
  },
  {
   "cell_type": "code",
   "execution_count": 2,
   "metadata": {},
   "outputs": [],
   "source": [
    "import os\n",
    "from datetime import datetime\n",
    "import sys\n",
    "sys.path.append(r\"/Users/LennartPhilipp/Desktop/Uni/Prowiss/Code/Brain_Mets_Classification\")\n",
    "\n",
    "import brain_mets_classification.preprocessing_funcs as preprocessing\n",
    "from nipype.interfaces import fsl\n",
    "\n",
    "path_to_nifti_files = \"/Users/LennartPhilipp/Desktop/Uni/Prowiss/brain_extraction_test/input_images\"\n",
    "path_to_output_folder = \"/Users/LennartPhilipp/Desktop/Uni/Prowiss/brain_extraction_test\""
   ]
  },
  {
   "cell_type": "markdown",
   "metadata": {},
   "source": [
    "## HD-BET"
   ]
  },
  {
   "cell_type": "markdown",
   "metadata": {},
   "source": [
    "Reorient Image"
   ]
  },
  {
   "cell_type": "code",
   "execution_count": 4,
   "metadata": {},
   "outputs": [
    {
     "name": "stdout",
     "output_type": "stream",
     "text": [
      "240128-14:25:39,192 nipype.interface WARNING:\n",
      "\t FSLOUTPUTTYPE environment variable is not set. Setting FSLOUTPUTTYPE=NIFTI\n",
      "240128-14:25:40,950 nipype.interface WARNING:\n",
      "\t FSLOUTPUTTYPE environment variable is not set. Setting FSLOUTPUTTYPE=NIFTI\n",
      "240128-14:25:41,367 nipype.interface WARNING:\n",
      "\t FSLOUTPUTTYPE environment variable is not set. Setting FSLOUTPUTTYPE=NIFTI\n",
      "240128-14:25:41,776 nipype.interface WARNING:\n",
      "\t FSLOUTPUTTYPE environment variable is not set. Setting FSLOUTPUTTYPE=NIFTI\n"
     ]
    }
   ],
   "source": [
    "timeFormatted = datetime.now().strftime(\"%Y%m%d-%H%M%S\")\n",
    "\n",
    "input_images = os.listdir(path_to_nifti_files)\n",
    "\n",
    "path_to_reoriented_images = f\"{path_to_output_folder}/reoriented_{timeFormatted}\"\n",
    "os.mkdir(path_to_reoriented_images)\n",
    "\n",
    "for image in input_images:\n",
    "    sequence = image.split(\"_\")[1].split(\".\")[0]\n",
    "    preprocessing.reorient_brain(\n",
    "        path_to_input_image = f\"{path_to_nifti_files}/{image}\",\n",
    "        path_to_output_image = f\"{path_to_reoriented_images}/{sequence}_reoriented.nii\"\n",
    "    )"
   ]
  },
  {
   "cell_type": "markdown",
   "metadata": {},
   "source": [
    "### CPU Version\n",
    "When running the HD-BET tool only on the cpu, it is generally adviced to disable the test time data augmentation and only use one model instead of five as this signifiacantly reduces the duration of the algorith"
   ]
  },
  {
   "cell_type": "code",
   "execution_count": 6,
   "metadata": {},
   "outputs": [
    {
     "name": "stderr",
     "output_type": "stream",
     "text": [
      "/opt/homebrew/bin/hd-bet:4: DeprecationWarning: pkg_resources is deprecated as an API. See https://setuptools.pypa.io/en/latest/pkg_resources.html\n",
      "  __import__('pkg_resources').require('HD-BET==1.0')\n"
     ]
    },
    {
     "name": "stdout",
     "output_type": "stream",
     "text": [
      "\n",
      "########################\n",
      "If you are using hd-bet, please cite the following paper:\n",
      "Isensee F, Schell M, Tursunova I, Brugnara G, Bonekamp D, Neuberger U, Wick A, Schlemmer HP, Heiland S, Wick W,Bendszus M, Maier-Hein KH, Kickingereder P. Automated brain extraction of multi-sequence MRI using artificialneural networks. arXiv preprint arXiv:1901.11341, 2019.\n",
      "########################\n",
      "\n",
      "File: /Users/LennartPhilipp/Desktop/Uni/Prowiss/brain_extraction_test/reoriented_20240127-180917/T2w_reoriented.nii\n",
      "preprocessing...\n",
      "image shape after preprocessing:  (99, 153, 153)\n",
      "prediction (CNN id)...\n",
      "0\n",
      "running postprocessing... \n",
      "exporting segmentation...\n"
     ]
    },
    {
     "name": "stderr",
     "output_type": "stream",
     "text": [
      "/opt/homebrew/bin/hd-bet:4: DeprecationWarning: pkg_resources is deprecated as an API. See https://setuptools.pypa.io/en/latest/pkg_resources.html\n",
      "  __import__('pkg_resources').require('HD-BET==1.0')\n"
     ]
    },
    {
     "name": "stdout",
     "output_type": "stream",
     "text": [
      "\n",
      "########################\n",
      "If you are using hd-bet, please cite the following paper:\n",
      "Isensee F, Schell M, Tursunova I, Brugnara G, Bonekamp D, Neuberger U, Wick A, Schlemmer HP, Heiland S, Wick W,Bendszus M, Maier-Hein KH, Kickingereder P. Automated brain extraction of multi-sequence MRI using artificialneural networks. arXiv preprint arXiv:1901.11341, 2019.\n",
      "########################\n",
      "\n",
      "File: /Users/LennartPhilipp/Desktop/Uni/Prowiss/brain_extraction_test/reoriented_20240127-180917/T1c_reoriented.nii\n",
      "preprocessing...\n",
      "image shape after preprocessing:  (99, 153, 138)\n",
      "prediction (CNN id)...\n",
      "0\n",
      "running postprocessing... \n",
      "exporting segmentation...\n"
     ]
    },
    {
     "name": "stderr",
     "output_type": "stream",
     "text": [
      "/opt/homebrew/bin/hd-bet:4: DeprecationWarning: pkg_resources is deprecated as an API. See https://setuptools.pypa.io/en/latest/pkg_resources.html\n",
      "  __import__('pkg_resources').require('HD-BET==1.0')\n"
     ]
    },
    {
     "name": "stdout",
     "output_type": "stream",
     "text": [
      "\n",
      "########################\n",
      "If you are using hd-bet, please cite the following paper:\n",
      "Isensee F, Schell M, Tursunova I, Brugnara G, Bonekamp D, Neuberger U, Wick A, Schlemmer HP, Heiland S, Wick W,Bendszus M, Maier-Hein KH, Kickingereder P. Automated brain extraction of multi-sequence MRI using artificialneural networks. arXiv preprint arXiv:1901.11341, 2019.\n",
      "########################\n",
      "\n",
      "File: /Users/LennartPhilipp/Desktop/Uni/Prowiss/brain_extraction_test/reoriented_20240127-180917/T1w_reoriented.nii\n",
      "preprocessing...\n",
      "image shape after preprocessing:  (99, 153, 138)\n",
      "prediction (CNN id)...\n",
      "0\n",
      "running postprocessing... \n",
      "exporting segmentation...\n"
     ]
    },
    {
     "name": "stderr",
     "output_type": "stream",
     "text": [
      "/opt/homebrew/bin/hd-bet:4: DeprecationWarning: pkg_resources is deprecated as an API. See https://setuptools.pypa.io/en/latest/pkg_resources.html\n",
      "  __import__('pkg_resources').require('HD-BET==1.0')\n"
     ]
    },
    {
     "name": "stdout",
     "output_type": "stream",
     "text": [
      "\n",
      "########################\n",
      "If you are using hd-bet, please cite the following paper:\n",
      "Isensee F, Schell M, Tursunova I, Brugnara G, Bonekamp D, Neuberger U, Wick A, Schlemmer HP, Heiland S, Wick W,Bendszus M, Maier-Hein KH, Kickingereder P. Automated brain extraction of multi-sequence MRI using artificialneural networks. arXiv preprint arXiv:1901.11341, 2019.\n",
      "########################\n",
      "\n",
      "File: /Users/LennartPhilipp/Desktop/Uni/Prowiss/brain_extraction_test/reoriented_20240127-180917/FLAIR_reoriented.nii\n",
      "preprocessing...\n",
      "image shape after preprocessing:  (99, 153, 134)\n",
      "prediction (CNN id)...\n",
      "0\n",
      "running postprocessing... \n",
      "exporting segmentation...\n"
     ]
    }
   ],
   "source": [
    "timeFormatted = datetime.now().strftime(\"%Y%m%d-%H%M%S\")\n",
    "\n",
    "reoriented_images = os.listdir(path_to_reoriented_images)\n",
    "\n",
    "path_to_hd_bet_cpu_output_folder = f\"{path_to_output_folder}/hd_bet_cpu_{timeFormatted}\"\n",
    "os.mkdir(path_to_hd_bet_cpu_output_folder)\n",
    "\n",
    "for reoriented_image in reoriented_images:\n",
    "    sequenceType = reoriented_image.split(\"_\")[0]\n",
    "    path_to_nifti_file = os.path.join(path_to_reoriented_images, reoriented_image)\n",
    "    \n",
    "    os.system(f\"hd-bet -i {path_to_nifti_file} -o {path_to_hd_bet_cpu_output_folder}/hd_bet_brain_extracted_cpu_{sequenceType}.nii.gz -device cpu -mode fast -tta 0\")\n"
   ]
  },
  {
   "cell_type": "markdown",
   "metadata": {},
   "source": [
    "### GPU Version"
   ]
  },
  {
   "cell_type": "code",
   "execution_count": 7,
   "metadata": {},
   "outputs": [
    {
     "name": "stderr",
     "output_type": "stream",
     "text": [
      "/opt/homebrew/bin/hd-bet:4: DeprecationWarning: pkg_resources is deprecated as an API. See https://setuptools.pypa.io/en/latest/pkg_resources.html\n",
      "  __import__('pkg_resources').require('HD-BET==1.0')\n"
     ]
    },
    {
     "name": "stdout",
     "output_type": "stream",
     "text": [
      "\n",
      "########################\n",
      "If you are using hd-bet, please cite the following paper:\n",
      "Isensee F, Schell M, Tursunova I, Brugnara G, Bonekamp D, Neuberger U, Wick A, Schlemmer HP, Heiland S, Wick W,Bendszus M, Maier-Hein KH, Kickingereder P. Automated brain extraction of multi-sequence MRI using artificialneural networks. arXiv preprint arXiv:1901.11341, 2019.\n",
      "########################\n",
      "\n",
      "File: /Users/LennartPhilipp/Desktop/Uni/Prowiss/brain_extraction_test/reoriented_20240127-180917/T2w_reoriented.nii\n",
      "preprocessing...\n",
      "image shape after preprocessing:  (99, 153, 153)\n",
      "prediction (CNN id)...\n",
      "0\n",
      "1\n",
      "2\n",
      "3\n",
      "4\n",
      "running postprocessing... \n",
      "exporting segmentation...\n"
     ]
    },
    {
     "name": "stderr",
     "output_type": "stream",
     "text": [
      "/opt/homebrew/bin/hd-bet:4: DeprecationWarning: pkg_resources is deprecated as an API. See https://setuptools.pypa.io/en/latest/pkg_resources.html\n",
      "  __import__('pkg_resources').require('HD-BET==1.0')\n"
     ]
    },
    {
     "name": "stdout",
     "output_type": "stream",
     "text": [
      "\n",
      "########################\n",
      "If you are using hd-bet, please cite the following paper:\n",
      "Isensee F, Schell M, Tursunova I, Brugnara G, Bonekamp D, Neuberger U, Wick A, Schlemmer HP, Heiland S, Wick W,Bendszus M, Maier-Hein KH, Kickingereder P. Automated brain extraction of multi-sequence MRI using artificialneural networks. arXiv preprint arXiv:1901.11341, 2019.\n",
      "########################\n",
      "\n",
      "File: /Users/LennartPhilipp/Desktop/Uni/Prowiss/brain_extraction_test/reoriented_20240127-180917/T1c_reoriented.nii\n",
      "preprocessing...\n",
      "image shape after preprocessing:  (99, 153, 138)\n",
      "prediction (CNN id)...\n",
      "0\n",
      "1\n",
      "2\n",
      "3\n",
      "4\n",
      "running postprocessing... \n",
      "exporting segmentation...\n"
     ]
    },
    {
     "name": "stderr",
     "output_type": "stream",
     "text": [
      "/opt/homebrew/bin/hd-bet:4: DeprecationWarning: pkg_resources is deprecated as an API. See https://setuptools.pypa.io/en/latest/pkg_resources.html\n",
      "  __import__('pkg_resources').require('HD-BET==1.0')\n"
     ]
    },
    {
     "name": "stdout",
     "output_type": "stream",
     "text": [
      "\n",
      "########################\n",
      "If you are using hd-bet, please cite the following paper:\n",
      "Isensee F, Schell M, Tursunova I, Brugnara G, Bonekamp D, Neuberger U, Wick A, Schlemmer HP, Heiland S, Wick W,Bendszus M, Maier-Hein KH, Kickingereder P. Automated brain extraction of multi-sequence MRI using artificialneural networks. arXiv preprint arXiv:1901.11341, 2019.\n",
      "########################\n",
      "\n",
      "File: /Users/LennartPhilipp/Desktop/Uni/Prowiss/brain_extraction_test/reoriented_20240127-180917/T1w_reoriented.nii\n",
      "preprocessing...\n",
      "image shape after preprocessing:  (99, 153, 138)\n",
      "prediction (CNN id)...\n",
      "0\n",
      "1\n",
      "2\n",
      "3\n",
      "4\n",
      "running postprocessing... \n",
      "exporting segmentation...\n"
     ]
    },
    {
     "name": "stderr",
     "output_type": "stream",
     "text": [
      "/opt/homebrew/bin/hd-bet:4: DeprecationWarning: pkg_resources is deprecated as an API. See https://setuptools.pypa.io/en/latest/pkg_resources.html\n",
      "  __import__('pkg_resources').require('HD-BET==1.0')\n"
     ]
    },
    {
     "name": "stdout",
     "output_type": "stream",
     "text": [
      "\n",
      "########################\n",
      "If you are using hd-bet, please cite the following paper:\n",
      "Isensee F, Schell M, Tursunova I, Brugnara G, Bonekamp D, Neuberger U, Wick A, Schlemmer HP, Heiland S, Wick W,Bendszus M, Maier-Hein KH, Kickingereder P. Automated brain extraction of multi-sequence MRI using artificialneural networks. arXiv preprint arXiv:1901.11341, 2019.\n",
      "########################\n",
      "\n",
      "File: /Users/LennartPhilipp/Desktop/Uni/Prowiss/brain_extraction_test/reoriented_20240127-180917/FLAIR_reoriented.nii\n",
      "preprocessing...\n",
      "image shape after preprocessing:  (99, 153, 134)\n",
      "prediction (CNN id)...\n",
      "0\n",
      "1\n",
      "2\n",
      "3\n",
      "4\n",
      "running postprocessing... \n",
      "exporting segmentation...\n"
     ]
    }
   ],
   "source": [
    "timeFormatted = datetime.now().strftime(\"%Y%m%d-%H%M%S\")\n",
    "\n",
    "reoriented_images = os.listdir(path_to_reoriented_images)\n",
    "\n",
    "path_to_hd_bet_gpu_output_folder = f\"{path_to_output_folder}/hd_bet_gpu_{timeFormatted}\"\n",
    "os.mkdir(path_to_hd_bet_gpu_output_folder)\n",
    "\n",
    "for reoriented_image in reoriented_images:\n",
    "    sequenceType = reoriented_image.split(\"_\")[0]\n",
    "    path_to_nifti_file = os.path.join(path_to_reoriented_images, reoriented_image)\n",
    "    \n",
    "    os.system(f\"hd-bet -i {path_to_nifti_file} -o {path_to_hd_bet_gpu_output_folder}/hd_bet_brain_extracted_gpu_{sequenceType}.nii.gz -device cpu\")"
   ]
  },
  {
   "cell_type": "markdown",
   "metadata": {},
   "source": [
    "## SynthStrip\n",
    "In this case the synthstrip runs on docker, which needs to be launched first. For further information see https://surfer.nmr.mgh.harvard.edu/docs/synthstrip/"
   ]
  },
  {
   "cell_type": "code",
   "execution_count": 8,
   "metadata": {},
   "outputs": [
    {
     "name": "stdout",
     "output_type": "stream",
     "text": [
      "Running SynthStrip version 1.6 from Docker\n"
     ]
    },
    {
     "name": "stderr",
     "output_type": "stream",
     "text": [
      "WARNING: The requested image's platform (linux/amd64) does not match the detected host platform (linux/arm64/v8) and no specific platform was requested\n"
     ]
    },
    {
     "name": "stdout",
     "output_type": "stream",
     "text": [
      "Configuring model on the CPU\n",
      "Running SynthStrip model version 1\n",
      "Input image read from: /Users/LennartPhilipp/Desktop/Uni/Prowiss/brain_extraction_test/reoriented_20240127-180917/T2w_reoriented.nii\n",
      "Processing frame (of 1): 1 done\n",
      "Masked image saved to: /Users/LennartPhilipp/Desktop/Uni/Prowiss/brain_extraction_test/synthstrip_20240127-184340/synthstrip_brain_extracted_T2w.nii.gz\n",
      "\n",
      "If you use SynthStrip in your analysis, please cite:\n",
      "----------------------------------------------------\n",
      "SynthStrip: Skull-Stripping for Any Brain Image\n",
      "A Hoopes, JS Mora, AV Dalca, B Fischl, M Hoffmann\n",
      "NeuroImage 206 (2022), 119474\n",
      "https://doi.org/10.1016/j.neuroimage.2022.119474\n",
      "\n",
      "Website: https://w3id.org/synthstrip\n",
      "\n",
      "Running SynthStrip version 1.6 from Docker\n"
     ]
    },
    {
     "name": "stderr",
     "output_type": "stream",
     "text": [
      "WARNING: The requested image's platform (linux/amd64) does not match the detected host platform (linux/arm64/v8) and no specific platform was requested\n"
     ]
    },
    {
     "name": "stdout",
     "output_type": "stream",
     "text": [
      "Configuring model on the CPU\n",
      "Running SynthStrip model version 1\n",
      "Input image read from: /Users/LennartPhilipp/Desktop/Uni/Prowiss/brain_extraction_test/reoriented_20240127-180917/T1c_reoriented.nii\n",
      "Processing frame (of 1): 1 done\n",
      "Masked image saved to: /Users/LennartPhilipp/Desktop/Uni/Prowiss/brain_extraction_test/synthstrip_20240127-184340/synthstrip_brain_extracted_T1c.nii.gz\n",
      "\n",
      "If you use SynthStrip in your analysis, please cite:\n",
      "----------------------------------------------------\n",
      "SynthStrip: Skull-Stripping for Any Brain Image\n",
      "A Hoopes, JS Mora, AV Dalca, B Fischl, M Hoffmann\n",
      "NeuroImage 206 (2022), 119474\n",
      "https://doi.org/10.1016/j.neuroimage.2022.119474\n",
      "\n",
      "Website: https://w3id.org/synthstrip\n",
      "\n",
      "Running SynthStrip version 1.6 from Docker\n"
     ]
    },
    {
     "name": "stderr",
     "output_type": "stream",
     "text": [
      "WARNING: The requested image's platform (linux/amd64) does not match the detected host platform (linux/arm64/v8) and no specific platform was requested\n"
     ]
    },
    {
     "name": "stdout",
     "output_type": "stream",
     "text": [
      "Configuring model on the CPU\n",
      "Running SynthStrip model version 1\n",
      "Input image read from: /Users/LennartPhilipp/Desktop/Uni/Prowiss/brain_extraction_test/reoriented_20240127-180917/T1w_reoriented.nii\n",
      "Processing frame (of 1): 1 done\n",
      "Masked image saved to: /Users/LennartPhilipp/Desktop/Uni/Prowiss/brain_extraction_test/synthstrip_20240127-184340/synthstrip_brain_extracted_T1w.nii.gz\n",
      "\n",
      "If you use SynthStrip in your analysis, please cite:\n",
      "----------------------------------------------------\n",
      "SynthStrip: Skull-Stripping for Any Brain Image\n",
      "A Hoopes, JS Mora, AV Dalca, B Fischl, M Hoffmann\n",
      "NeuroImage 206 (2022), 119474\n",
      "https://doi.org/10.1016/j.neuroimage.2022.119474\n",
      "\n",
      "Website: https://w3id.org/synthstrip\n",
      "\n",
      "Running SynthStrip version 1.6 from Docker\n"
     ]
    },
    {
     "name": "stderr",
     "output_type": "stream",
     "text": [
      "WARNING: The requested image's platform (linux/amd64) does not match the detected host platform (linux/arm64/v8) and no specific platform was requested\n"
     ]
    },
    {
     "name": "stdout",
     "output_type": "stream",
     "text": [
      "Configuring model on the CPU\n",
      "Running SynthStrip model version 1\n",
      "Input image read from: /Users/LennartPhilipp/Desktop/Uni/Prowiss/brain_extraction_test/reoriented_20240127-180917/FLAIR_reoriented.nii\n",
      "Processing frame (of 1): 1 done\n",
      "Masked image saved to: /Users/LennartPhilipp/Desktop/Uni/Prowiss/brain_extraction_test/synthstrip_20240127-184340/synthstrip_brain_extracted_FLAIR.nii.gz\n",
      "\n",
      "If you use SynthStrip in your analysis, please cite:\n",
      "----------------------------------------------------\n",
      "SynthStrip: Skull-Stripping for Any Brain Image\n",
      "A Hoopes, JS Mora, AV Dalca, B Fischl, M Hoffmann\n",
      "NeuroImage 206 (2022), 119474\n",
      "https://doi.org/10.1016/j.neuroimage.2022.119474\n",
      "\n",
      "Website: https://w3id.org/synthstrip\n",
      "\n"
     ]
    }
   ],
   "source": [
    "timeFormatted = datetime.now().strftime(\"%Y%m%d-%H%M%S\")\n",
    "\n",
    "reoriented_images = os.listdir(path_to_reoriented_images)\n",
    "\n",
    "path_to_synthstrip_output_folder = f\"{path_to_output_folder}/synthstrip_{timeFormatted}\"\n",
    "os.mkdir(path_to_synthstrip_output_folder)\n",
    "\n",
    "for reoriented_image in reoriented_images:\n",
    "    sequenceType = reoriented_image.split(\"_\")[0]\n",
    "    path_to_nifti_file = os.path.join(path_to_reoriented_images, reoriented_image)\n",
    "    \n",
    "    os.system(f\"/Users/LennartPhilipp/synthstrip-docker -i {path_to_nifti_file} -o {path_to_synthstrip_output_folder}/synthstrip_brain_extracted_{sequenceType}.nii.gz\")"
   ]
  },
  {
   "cell_type": "markdown",
   "metadata": {},
   "source": [
    "## FSL BET"
   ]
  },
  {
   "cell_type": "code",
   "execution_count": 6,
   "metadata": {},
   "outputs": [
    {
     "name": "stdout",
     "output_type": "stream",
     "text": [
      "240128-14:26:12,840 nipype.interface WARNING:\n",
      "\t FSLOUTPUTTYPE environment variable is not set. Setting FSLOUTPUTTYPE=NIFTI\n",
      "240128-14:26:13,496 nipype.interface WARNING:\n",
      "\t FSLOUTPUTTYPE environment variable is not set. Setting FSLOUTPUTTYPE=NIFTI\n",
      "240128-14:26:14,55 nipype.interface WARNING:\n",
      "\t FSLOUTPUTTYPE environment variable is not set. Setting FSLOUTPUTTYPE=NIFTI\n",
      "240128-14:26:14,612 nipype.interface WARNING:\n",
      "\t FSLOUTPUTTYPE environment variable is not set. Setting FSLOUTPUTTYPE=NIFTI\n"
     ]
    }
   ],
   "source": [
    "timeFormatted = datetime.now().strftime(\"%Y%m%d-%H%M%S\")\n",
    "\n",
    "reoriented_images = os.listdir(path_to_reoriented_images)\n",
    "\n",
    "path_to_fsl_output_folder = f\"{path_to_output_folder}/fsl_{timeFormatted}\"\n",
    "os.mkdir(path_to_fsl_output_folder)\n",
    "\n",
    "for reoriented_image in reoriented_images:\n",
    "    sequenceType = reoriented_image.split(\"_\")[0]\n",
    "    path_to_nifti_file = os.path.join(path_to_reoriented_images, reoriented_image)\n",
    "    \n",
    "    brainExtraction = fsl.BET()\n",
    "    brainExtraction.inputs.in_file = path_to_nifti_file\n",
    "    brainExtraction.inputs.out_file = f\"{path_to_fsl_output_folder}/fsl_brain_extracted_{sequenceType}.nii.gz\"\n",
    "    brainExtraction.robust = True\n",
    "    brainExtraction.masking = True\n",
    "    brainExtraction.run()\n",
    "\n",
    "    #os.system(f\"bet {path_to_nifti_file} {path_to_fsl_output_folder}/fsl_brain_extracted_{sequenceType}.nii.gz -R -m\")"
   ]
  },
  {
   "cell_type": "markdown",
   "metadata": {},
   "source": [
    "## Results\n",
    "Subjectively deliver the HD-BET images with the CPU Version the highest quality"
   ]
  },
  {
   "cell_type": "markdown",
   "metadata": {},
   "source": []
  }
 ],
 "metadata": {
  "kernelspec": {
   "display_name": ".brain_mets_env",
   "language": "python",
   "name": "python3"
  },
  "language_info": {
   "codemirror_mode": {
    "name": "ipython",
    "version": 3
   },
   "file_extension": ".py",
   "mimetype": "text/x-python",
   "name": "python",
   "nbconvert_exporter": "python",
   "pygments_lexer": "ipython3",
   "version": "3.11.0"
  }
 },
 "nbformat": 4,
 "nbformat_minor": 2
}
