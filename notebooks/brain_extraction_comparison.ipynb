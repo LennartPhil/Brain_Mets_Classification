{
 "cells": [
  {
   "cell_type": "markdown",
   "metadata": {},
   "source": [
    "# Brain extraction comparison\n",
    "This notebook generates two different brain extracted nifti files that can then be compared\\\n",
    "The comparison will be between the [HD-BET](https://github.com/MIC-DKFZ/HD-BET) tool, the [SynthStrip](https://surfer.nmr.mgh.harvard.edu/docs/synthstrip/) tool and the classic fsl bet tool"
   ]
  },
  {
   "cell_type": "code",
   "execution_count": 6,
   "metadata": {},
   "outputs": [],
   "source": [
    "import os\n",
    "from datetime import datetime\n",
    "import sys\n",
    "sys.path.append(r\"/Users/LennartPhilipp/Desktop/Uni/Prowiss/Code/Brain_Mets_Classification\")\n",
    "\n",
    "import brain_mets_classification.preprocessing_funcs as preprocessing\n",
    "\n",
    "path_to_nifti_files = \"/Users/LennartPhilipp/Desktop/Uni/Prowiss/brain_extraction_test/input_images\"\n",
    "path_to_output_folder = \"/Users/LennartPhilipp/Desktop/Uni/Prowiss/brain_extraction_test\""
   ]
  },
  {
   "cell_type": "markdown",
   "metadata": {},
   "source": [
    "## HD-BET"
   ]
  },
  {
   "cell_type": "markdown",
   "metadata": {},
   "source": [
    "Reorient Image"
   ]
  },
  {
   "cell_type": "code",
   "execution_count": 7,
   "metadata": {},
   "outputs": [
    {
     "name": "stdout",
     "output_type": "stream",
     "text": [
      "240127-16:20:40,751 nipype.interface WARNING:\n",
      "\t FSLOUTPUTTYPE environment variable is not set. Setting FSLOUTPUTTYPE=NIFTI\n",
      "240127-16:20:42,402 nipype.interface WARNING:\n",
      "\t FSLOUTPUTTYPE environment variable is not set. Setting FSLOUTPUTTYPE=NIFTI\n",
      "240127-16:20:42,825 nipype.interface WARNING:\n",
      "\t FSLOUTPUTTYPE environment variable is not set. Setting FSLOUTPUTTYPE=NIFTI\n",
      "240127-16:20:43,235 nipype.interface WARNING:\n",
      "\t FSLOUTPUTTYPE environment variable is not set. Setting FSLOUTPUTTYPE=NIFTI\n"
     ]
    }
   ],
   "source": [
    "timeFormatted = datetime.now().strftime(\"%Y%m%d-%H%M%S\")\n",
    "\n",
    "input_images = os.listdir(path_to_nifti_files)\n",
    "\n",
    "path_to_reoriented_images = f\"{path_to_output_folder}/reoriented_{timeFormatted}\"\n",
    "os.mkdir(path_to_reoriented_images)\n",
    "\n",
    "for image in input_images:\n",
    "    sequence = image.split(\"_\")[1].split(\".\")[0]\n",
    "    preprocessing.reorient_brain(\n",
    "        path_to_input_image = f\"{path_to_nifti_files}/{image}\",\n",
    "        path_to_output_image = f\"{path_to_reoriented_images}/{sequence}_reoriented.nii\"\n",
    "    )"
   ]
  },
  {
   "cell_type": "markdown",
   "metadata": {},
   "source": [
    "### CPU Version\n",
    "When running the HD-BET tool only on the cpu, it is generally adviced to disable the test time data augmentation and only use one model instead of five as this signifiacantly reduces the duration of the algorith"
   ]
  },
  {
   "cell_type": "code",
   "execution_count": 8,
   "metadata": {},
   "outputs": [
    {
     "name": "stderr",
     "output_type": "stream",
     "text": [
      "/opt/homebrew/bin/hd-bet:4: DeprecationWarning: pkg_resources is deprecated as an API. See https://setuptools.pypa.io/en/latest/pkg_resources.html\n",
      "  __import__('pkg_resources').require('HD-BET==1.0')\n"
     ]
    },
    {
     "name": "stdout",
     "output_type": "stream",
     "text": [
      "\n",
      "########################\n",
      "If you are using hd-bet, please cite the following paper:\n",
      "Isensee F, Schell M, Tursunova I, Brugnara G, Bonekamp D, Neuberger U, Wick A, Schlemmer HP, Heiland S, Wick W,Bendszus M, Maier-Hein KH, Kickingereder P. Automated brain extraction of multi-sequence MRI using artificialneural networks. arXiv preprint arXiv:1901.11341, 2019.\n",
      "########################\n",
      "\n",
      "File: /Users/LennartPhilipp/Desktop/Uni/Prowiss/brain_extraction_test/reoriented_20240127-162040/T2w_reoriented.nii\n",
      "preprocessing...\n",
      "image shape after preprocessing:  (99, 153, 153)\n",
      "prediction (CNN id)...\n",
      "0\n",
      "running postprocessing... \n",
      "exporting segmentation...\n"
     ]
    },
    {
     "name": "stderr",
     "output_type": "stream",
     "text": [
      "/opt/homebrew/bin/hd-bet:4: DeprecationWarning: pkg_resources is deprecated as an API. See https://setuptools.pypa.io/en/latest/pkg_resources.html\n",
      "  __import__('pkg_resources').require('HD-BET==1.0')\n"
     ]
    },
    {
     "name": "stdout",
     "output_type": "stream",
     "text": [
      "\n",
      "########################\n",
      "If you are using hd-bet, please cite the following paper:\n",
      "Isensee F, Schell M, Tursunova I, Brugnara G, Bonekamp D, Neuberger U, Wick A, Schlemmer HP, Heiland S, Wick W,Bendszus M, Maier-Hein KH, Kickingereder P. Automated brain extraction of multi-sequence MRI using artificialneural networks. arXiv preprint arXiv:1901.11341, 2019.\n",
      "########################\n",
      "\n",
      "File: /Users/LennartPhilipp/Desktop/Uni/Prowiss/brain_extraction_test/reoriented_20240127-162040/T1c_reoriented.nii\n",
      "preprocessing...\n",
      "image shape after preprocessing:  (99, 153, 138)\n",
      "prediction (CNN id)...\n",
      "0\n",
      "running postprocessing... \n",
      "exporting segmentation...\n"
     ]
    },
    {
     "name": "stderr",
     "output_type": "stream",
     "text": [
      "/opt/homebrew/bin/hd-bet:4: DeprecationWarning: pkg_resources is deprecated as an API. See https://setuptools.pypa.io/en/latest/pkg_resources.html\n",
      "  __import__('pkg_resources').require('HD-BET==1.0')\n"
     ]
    },
    {
     "name": "stdout",
     "output_type": "stream",
     "text": [
      "\n",
      "########################\n",
      "If you are using hd-bet, please cite the following paper:\n",
      "Isensee F, Schell M, Tursunova I, Brugnara G, Bonekamp D, Neuberger U, Wick A, Schlemmer HP, Heiland S, Wick W,Bendszus M, Maier-Hein KH, Kickingereder P. Automated brain extraction of multi-sequence MRI using artificialneural networks. arXiv preprint arXiv:1901.11341, 2019.\n",
      "########################\n",
      "\n",
      "File: /Users/LennartPhilipp/Desktop/Uni/Prowiss/brain_extraction_test/reoriented_20240127-162040/T1w_reoriented.nii\n",
      "preprocessing...\n",
      "image shape after preprocessing:  (99, 153, 138)\n",
      "prediction (CNN id)...\n",
      "0\n",
      "running postprocessing... \n",
      "exporting segmentation...\n"
     ]
    },
    {
     "name": "stderr",
     "output_type": "stream",
     "text": [
      "/opt/homebrew/bin/hd-bet:4: DeprecationWarning: pkg_resources is deprecated as an API. See https://setuptools.pypa.io/en/latest/pkg_resources.html\n",
      "  __import__('pkg_resources').require('HD-BET==1.0')\n"
     ]
    },
    {
     "name": "stdout",
     "output_type": "stream",
     "text": [
      "\n",
      "########################\n",
      "If you are using hd-bet, please cite the following paper:\n",
      "Isensee F, Schell M, Tursunova I, Brugnara G, Bonekamp D, Neuberger U, Wick A, Schlemmer HP, Heiland S, Wick W,Bendszus M, Maier-Hein KH, Kickingereder P. Automated brain extraction of multi-sequence MRI using artificialneural networks. arXiv preprint arXiv:1901.11341, 2019.\n",
      "########################\n",
      "\n",
      "File: /Users/LennartPhilipp/Desktop/Uni/Prowiss/brain_extraction_test/reoriented_20240127-162040/FLAIR_reoriented.nii\n",
      "preprocessing...\n",
      "image shape after preprocessing:  (99, 153, 134)\n",
      "prediction (CNN id)...\n",
      "0\n",
      "running postprocessing... \n",
      "exporting segmentation...\n"
     ]
    }
   ],
   "source": [
    "timeFormatted = datetime.now().strftime(\"%Y%m%d-%H%M%S\")\n",
    "\n",
    "reoriented_images = os.listdir(path_to_reoriented_images)\n",
    "\n",
    "path_to_hd_bet_cpu_output_folder = f\"{path_to_output_folder}/hd_bet_cpu_{timeFormatted}\"\n",
    "os.mkdir(path_to_hd_bet_cpu_output_folder)\n",
    "\n",
    "for reoriented_image in reoriented_images:\n",
    "    sequenceType = reoriented_image.split(\"_\")[0]\n",
    "    path_to_nifti_file = os.path.join(path_to_reoriented_images, reoriented_image)\n",
    "    \n",
    "    os.system(f\"hd-bet -i {path_to_nifti_file} -o {path_to_hd_bet_cpu_output_folder}/hd_bet_brain_extracted_cpu_{sequenceType}.nii.gz -device cpu -mode fast -tta 0\")\n"
   ]
  },
  {
   "cell_type": "markdown",
   "metadata": {},
   "source": [
    "### GPU Version"
   ]
  },
  {
   "cell_type": "code",
   "execution_count": 12,
   "metadata": {},
   "outputs": [
    {
     "name": "stderr",
     "output_type": "stream",
     "text": [
      "/opt/homebrew/bin/hd-bet:4: DeprecationWarning: pkg_resources is deprecated as an API. See https://setuptools.pypa.io/en/latest/pkg_resources.html\n",
      "  __import__('pkg_resources').require('HD-BET==1.0')\n"
     ]
    },
    {
     "name": "stdout",
     "output_type": "stream",
     "text": [
      "\n",
      "########################\n",
      "If you are using hd-bet, please cite the following paper:\n",
      "Isensee F, Schell M, Tursunova I, Brugnara G, Bonekamp D, Neuberger U, Wick A, Schlemmer HP, Heiland S, Wick W,Bendszus M, Maier-Hein KH, Kickingereder P. Automated brain extraction of multi-sequence MRI using artificialneural networks. arXiv preprint arXiv:1901.11341, 2019.\n",
      "########################\n",
      "\n"
     ]
    },
    {
     "name": "stderr",
     "output_type": "stream",
     "text": [
      "Traceback (most recent call last):\n",
      "  File \"/opt/homebrew/bin/hd-bet\", line 7, in <module>\n",
      "    exec(compile(f.read(), __file__, 'exec'))\n",
      "  File \"/Users/LennartPhilipp/Desktop/Uni/Prowiss/Code/HD-BET/HD_BET/hd-bet\", line 134, in <module>\n",
      "    run_hd_bet(input_files, output_files, mode, config_file, device, pp, tta, save_mask, overwrite_existing, bet)\n",
      "  File \"/Users/LennartPhilipp/Desktop/Uni/Prowiss/Code/HD-BET/HD_BET/run.py\", line 63, in run_hd_bet\n",
      "    net.cuda(device)\n",
      "  File \"/opt/homebrew/lib/python3.11/site-packages/torch/nn/modules/module.py\", line 911, in cuda\n",
      "    return self._apply(lambda t: t.cuda(device))\n",
      "           ^^^^^^^^^^^^^^^^^^^^^^^^^^^^^^^^^^^^^\n",
      "  File \"/opt/homebrew/lib/python3.11/site-packages/torch/nn/modules/module.py\", line 802, in _apply\n",
      "    module._apply(fn)\n",
      "  File \"/opt/homebrew/lib/python3.11/site-packages/torch/nn/modules/module.py\", line 825, in _apply\n",
      "    param_applied = fn(param)\n",
      "                    ^^^^^^^^^\n",
      "  File \"/opt/homebrew/lib/python3.11/site-packages/torch/nn/modules/module.py\", line 911, in <lambda>\n",
      "    return self._apply(lambda t: t.cuda(device))\n",
      "                                 ^^^^^^^^^^^^^^\n",
      "  File \"/opt/homebrew/lib/python3.11/site-packages/torch/cuda/__init__.py\", line 307, in _lazy_init\n",
      "    raise AssertionError(\"Torch not compiled with CUDA enabled\")\n",
      "AssertionError: Torch not compiled with CUDA enabled\n",
      "/opt/homebrew/bin/hd-bet:4: DeprecationWarning: pkg_resources is deprecated as an API. See https://setuptools.pypa.io/en/latest/pkg_resources.html\n",
      "  __import__('pkg_resources').require('HD-BET==1.0')\n"
     ]
    },
    {
     "name": "stdout",
     "output_type": "stream",
     "text": [
      "\n",
      "########################\n",
      "If you are using hd-bet, please cite the following paper:\n",
      "Isensee F, Schell M, Tursunova I, Brugnara G, Bonekamp D, Neuberger U, Wick A, Schlemmer HP, Heiland S, Wick W,Bendszus M, Maier-Hein KH, Kickingereder P. Automated brain extraction of multi-sequence MRI using artificialneural networks. arXiv preprint arXiv:1901.11341, 2019.\n",
      "########################\n",
      "\n"
     ]
    },
    {
     "name": "stderr",
     "output_type": "stream",
     "text": [
      "Traceback (most recent call last):\n",
      "  File \"/opt/homebrew/bin/hd-bet\", line 7, in <module>\n",
      "    exec(compile(f.read(), __file__, 'exec'))\n",
      "  File \"/Users/LennartPhilipp/Desktop/Uni/Prowiss/Code/HD-BET/HD_BET/hd-bet\", line 134, in <module>\n",
      "    run_hd_bet(input_files, output_files, mode, config_file, device, pp, tta, save_mask, overwrite_existing, bet)\n",
      "  File \"/Users/LennartPhilipp/Desktop/Uni/Prowiss/Code/HD-BET/HD_BET/run.py\", line 63, in run_hd_bet\n",
      "    net.cuda(device)\n",
      "  File \"/opt/homebrew/lib/python3.11/site-packages/torch/nn/modules/module.py\", line 911, in cuda\n",
      "    return self._apply(lambda t: t.cuda(device))\n",
      "           ^^^^^^^^^^^^^^^^^^^^^^^^^^^^^^^^^^^^^\n",
      "  File \"/opt/homebrew/lib/python3.11/site-packages/torch/nn/modules/module.py\", line 802, in _apply\n",
      "    module._apply(fn)\n",
      "  File \"/opt/homebrew/lib/python3.11/site-packages/torch/nn/modules/module.py\", line 825, in _apply\n",
      "    param_applied = fn(param)\n",
      "                    ^^^^^^^^^\n",
      "  File \"/opt/homebrew/lib/python3.11/site-packages/torch/nn/modules/module.py\", line 911, in <lambda>\n",
      "    return self._apply(lambda t: t.cuda(device))\n",
      "                                 ^^^^^^^^^^^^^^\n",
      "  File \"/opt/homebrew/lib/python3.11/site-packages/torch/cuda/__init__.py\", line 307, in _lazy_init\n",
      "    raise AssertionError(\"Torch not compiled with CUDA enabled\")\n",
      "AssertionError: Torch not compiled with CUDA enabled\n",
      "/opt/homebrew/bin/hd-bet:4: DeprecationWarning: pkg_resources is deprecated as an API. See https://setuptools.pypa.io/en/latest/pkg_resources.html\n",
      "  __import__('pkg_resources').require('HD-BET==1.0')\n"
     ]
    },
    {
     "name": "stdout",
     "output_type": "stream",
     "text": [
      "\n",
      "########################\n",
      "If you are using hd-bet, please cite the following paper:\n",
      "Isensee F, Schell M, Tursunova I, Brugnara G, Bonekamp D, Neuberger U, Wick A, Schlemmer HP, Heiland S, Wick W,Bendszus M, Maier-Hein KH, Kickingereder P. Automated brain extraction of multi-sequence MRI using artificialneural networks. arXiv preprint arXiv:1901.11341, 2019.\n",
      "########################\n",
      "\n"
     ]
    },
    {
     "name": "stderr",
     "output_type": "stream",
     "text": [
      "Traceback (most recent call last):\n",
      "  File \"/opt/homebrew/bin/hd-bet\", line 7, in <module>\n",
      "    exec(compile(f.read(), __file__, 'exec'))\n",
      "  File \"/Users/LennartPhilipp/Desktop/Uni/Prowiss/Code/HD-BET/HD_BET/hd-bet\", line 134, in <module>\n",
      "    run_hd_bet(input_files, output_files, mode, config_file, device, pp, tta, save_mask, overwrite_existing, bet)\n",
      "  File \"/Users/LennartPhilipp/Desktop/Uni/Prowiss/Code/HD-BET/HD_BET/run.py\", line 63, in run_hd_bet\n",
      "    net.cuda(device)\n",
      "  File \"/opt/homebrew/lib/python3.11/site-packages/torch/nn/modules/module.py\", line 911, in cuda\n",
      "    return self._apply(lambda t: t.cuda(device))\n",
      "           ^^^^^^^^^^^^^^^^^^^^^^^^^^^^^^^^^^^^^\n",
      "  File \"/opt/homebrew/lib/python3.11/site-packages/torch/nn/modules/module.py\", line 802, in _apply\n",
      "    module._apply(fn)\n",
      "  File \"/opt/homebrew/lib/python3.11/site-packages/torch/nn/modules/module.py\", line 825, in _apply\n",
      "    param_applied = fn(param)\n",
      "                    ^^^^^^^^^\n",
      "  File \"/opt/homebrew/lib/python3.11/site-packages/torch/nn/modules/module.py\", line 911, in <lambda>\n",
      "    return self._apply(lambda t: t.cuda(device))\n",
      "                                 ^^^^^^^^^^^^^^\n",
      "  File \"/opt/homebrew/lib/python3.11/site-packages/torch/cuda/__init__.py\", line 307, in _lazy_init\n",
      "    raise AssertionError(\"Torch not compiled with CUDA enabled\")\n",
      "AssertionError: Torch not compiled with CUDA enabled\n",
      "/opt/homebrew/bin/hd-bet:4: DeprecationWarning: pkg_resources is deprecated as an API. See https://setuptools.pypa.io/en/latest/pkg_resources.html\n",
      "  __import__('pkg_resources').require('HD-BET==1.0')\n"
     ]
    },
    {
     "name": "stdout",
     "output_type": "stream",
     "text": [
      "\n",
      "########################\n",
      "If you are using hd-bet, please cite the following paper:\n",
      "Isensee F, Schell M, Tursunova I, Brugnara G, Bonekamp D, Neuberger U, Wick A, Schlemmer HP, Heiland S, Wick W,Bendszus M, Maier-Hein KH, Kickingereder P. Automated brain extraction of multi-sequence MRI using artificialneural networks. arXiv preprint arXiv:1901.11341, 2019.\n",
      "########################\n",
      "\n"
     ]
    },
    {
     "name": "stderr",
     "output_type": "stream",
     "text": [
      "Traceback (most recent call last):\n",
      "  File \"/opt/homebrew/bin/hd-bet\", line 7, in <module>\n",
      "    exec(compile(f.read(), __file__, 'exec'))\n",
      "  File \"/Users/LennartPhilipp/Desktop/Uni/Prowiss/Code/HD-BET/HD_BET/hd-bet\", line 134, in <module>\n",
      "    run_hd_bet(input_files, output_files, mode, config_file, device, pp, tta, save_mask, overwrite_existing, bet)\n",
      "  File \"/Users/LennartPhilipp/Desktop/Uni/Prowiss/Code/HD-BET/HD_BET/run.py\", line 63, in run_hd_bet\n",
      "    net.cuda(device)\n",
      "  File \"/opt/homebrew/lib/python3.11/site-packages/torch/nn/modules/module.py\", line 911, in cuda\n",
      "    return self._apply(lambda t: t.cuda(device))\n",
      "           ^^^^^^^^^^^^^^^^^^^^^^^^^^^^^^^^^^^^^\n",
      "  File \"/opt/homebrew/lib/python3.11/site-packages/torch/nn/modules/module.py\", line 802, in _apply\n",
      "    module._apply(fn)\n",
      "  File \"/opt/homebrew/lib/python3.11/site-packages/torch/nn/modules/module.py\", line 825, in _apply\n",
      "    param_applied = fn(param)\n",
      "                    ^^^^^^^^^\n",
      "  File \"/opt/homebrew/lib/python3.11/site-packages/torch/nn/modules/module.py\", line 911, in <lambda>\n",
      "    return self._apply(lambda t: t.cuda(device))\n",
      "                                 ^^^^^^^^^^^^^^\n",
      "  File \"/opt/homebrew/lib/python3.11/site-packages/torch/cuda/__init__.py\", line 307, in _lazy_init\n",
      "    raise AssertionError(\"Torch not compiled with CUDA enabled\")\n",
      "AssertionError: Torch not compiled with CUDA enabled\n"
     ]
    }
   ],
   "source": [
    "timeFormatted = datetime.now().strftime(\"%Y%m%d-%H%M%S\")\n",
    "\n",
    "reoriented_images = os.listdir(path_to_reoriented_images)\n",
    "\n",
    "path_to_hd_bet_gpu_output_folder = f\"{path_to_output_folder}/hd_bet_gpu_{timeFormatted}\"\n",
    "os.mkdir(path_to_hd_bet_gpu_output_folder)\n",
    "\n",
    "for reoriented_image in reoriented_images:\n",
    "    sequenceType = reoriented_image.split(\"_\")[0]\n",
    "    path_to_nifti_file = os.path.join(path_to_reoriented_images, reoriented_image)\n",
    "    \n",
    "    os.system(f\"hd-bet -i {path_to_nifti_file} -o {path_to_hd_bet_gpu_output_folder}/hd_bet_brain_extracted_gpu_{sequenceType}.nii.gz\")"
   ]
  },
  {
   "cell_type": "markdown",
   "metadata": {},
   "source": [
    "## SynthStrip\n",
    "In this case the synthstrip runs on docker, which needs to be launched first. For further information see https://surfer.nmr.mgh.harvard.edu/docs/synthstrip/"
   ]
  },
  {
   "cell_type": "code",
   "execution_count": 14,
   "metadata": {},
   "outputs": [
    {
     "name": "stderr",
     "output_type": "stream",
     "text": [
      "sh: synthstrip-docker: command not found\n",
      "sh: synthstrip-docker: command not found\n",
      "sh: synthstrip-docker: command not found\n",
      "sh: synthstrip-docker: command not found\n"
     ]
    }
   ],
   "source": [
    "timeFormatted = datetime.now().strftime(\"%Y%m%d-%H%M%S\")\n",
    "\n",
    "reoriented_images = os.listdir(path_to_reoriented_images)\n",
    "\n",
    "path_to_synthstrip_output_folder = f\"{path_to_output_folder}/synthstrip_{timeFormatted}\"\n",
    "os.mkdir(path_to_synthstrip_output_folder)\n",
    "\n",
    "for reoriented_image in reoriented_images:\n",
    "    sequenceType = reoriented_image.split(\"_\")[0]\n",
    "    path_to_nifti_file = os.path.join(path_to_reoriented_images, reoriented_image)\n",
    "    \n",
    "    os.system(f\"synthstrip-docker -i {path_to_nifti_file} -o {path_to_synthstrip_output_folder}/synthstrip_brain_extracted_{sequenceType}.nii.gz\")"
   ]
  },
  {
   "cell_type": "markdown",
   "metadata": {},
   "source": [
    "## FSL BET"
   ]
  },
  {
   "cell_type": "code",
   "execution_count": null,
   "metadata": {},
   "outputs": [],
   "source": [
    "timeFormatted = datetime.now().strftime(\"%Y%m%d-%H%M%S\")\n",
    "\n",
    "reoriented_images = os.listdir(path_to_reoriented_images)\n",
    "\n",
    "path_to_fsl_output_folder = f\"{path_to_output_folder}/fsl_{timeFormatted}\"\n",
    "os.mkdir(path_to_fsl_output_folder)\n",
    "\n",
    "for reoriented_image in reoriented_images:\n",
    "    sequenceType = reoriented_image.split(\"_\")[0]\n",
    "    path_to_nifti_file = os.path.join(path_to_reoriented_images, reoriented_image)\n",
    "    \n",
    "    os.system(f\"bet {path_to_nifti_file} {path_to_fsl_output_folder}/fsl_brain_extracted_{sequenceType}.nii.gz -R -m\")"
   ]
  }
 ],
 "metadata": {
  "kernelspec": {
   "display_name": ".brain_mets_env",
   "language": "python",
   "name": "python3"
  },
  "language_info": {
   "codemirror_mode": {
    "name": "ipython",
    "version": 3
   },
   "file_extension": ".py",
   "mimetype": "text/x-python",
   "name": "python",
   "nbconvert_exporter": "python",
   "pygments_lexer": "ipython3",
   "version": "3.11.0"
  }
 },
 "nbformat": 4,
 "nbformat_minor": 2
}
