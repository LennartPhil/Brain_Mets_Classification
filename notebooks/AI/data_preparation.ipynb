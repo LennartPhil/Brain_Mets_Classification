{
 "cells": [
  {
   "cell_type": "markdown",
   "metadata": {},
   "source": [
    "# Prepare data for training"
   ]
  },
  {
   "cell_type": "code",
   "execution_count": 1,
   "metadata": {},
   "outputs": [],
   "source": [
    "import tensorflow as tf\n",
    "\n",
    "import nibabel as nib\n",
    "import numpy as np\n",
    "import pandas as pd\n",
    "import os\n",
    "import matplotlib.pyplot as plt\n",
    "from scipy import ndimage\n",
    "from pathlib import Path\n",
    "\n",
    "from tensorflow.train import BytesList, FloatList, Int64List\n",
    "from tensorflow.train import Feature, Features, Example\n",
    "\n",
    "from sklearn.utils import class_weight\n",
    "\n",
    "import sys\n",
    "sys.path.append(r\"/Users/LennartPhilipp/Desktop/Uni/Prowiss/Code/Brain_Mets_Classification\")\n",
    "\n",
    "import brain_mets_classification.custom_funcs as funcs\n",
    "\n",
    "from tqdm import tqdm\n",
    "\n",
    "import shutil\n",
    "\n",
    "import imageio\n",
    "import cv2"
   ]
  },
  {
   "cell_type": "markdown",
   "metadata": {},
   "source": [
    "### Imfusion Lables Preparation"
   ]
  },
  {
   "cell_type": "markdown",
   "metadata": {},
   "source": [
    "export .txt file and convert segmentation masks to unsigned char for ImFusion Label annotations"
   ]
  },
  {
   "cell_type": "code",
   "execution_count": 2,
   "metadata": {},
   "outputs": [],
   "source": [
    "# move only the fully preprocessed files into new patient folders\n",
    "path_to_auto_segmented_files = Path(\"/Users/LennartPhilipp/Desktop/Uni/Prowiss/Datensatz_RGB/segmented_AURORA_n4_20240614-170748\")\n",
    "path_to_all_preprocessed_files = Path(\"/Users/LennartPhilipp/Desktop/Uni/Prowiss/Datensatz_RGB/preprocessed_n4_brainlesion_percentile_20240612-083743\")\n",
    "path_to_unsigned_segmentations = Path(\"/Users/LennartPhilipp/Desktop/Uni/Prowiss/Datensatz_RGB/unsigned_segmentations\")\n",
    "\n",
    "path_to_txt_file = \"/Users/LennartPhilipp/Desktop/Uni/Prowiss/Datensatz_RGB/files_to_segment.txt\""
   ]
  },
  {
   "cell_type": "code",
   "execution_count": 4,
   "metadata": {},
   "outputs": [
    {
     "name": "stderr",
     "output_type": "stream",
     "text": [
      "  0%|          | 0/492 [00:00<?, ?it/s]\n"
     ]
    },
    {
     "ename": "ImageFileError",
     "evalue": "Cannot work out file type of \"/Users/LennartPhilipp/Desktop/Uni/Prowiss/Datensatz_RGB/segmented_AURORA_n4_20240614-170748/sub-01812518/sub-01812518_multi-modal_segmentation.nii.gz\"",
     "output_type": "error",
     "traceback": [
      "\u001b[0;31m---------------------------------------------------------------------------\u001b[0m",
      "\u001b[0;31mImageFileError\u001b[0m                            Traceback (most recent call last)",
      "Cell \u001b[0;32mIn[4], line 24\u001b[0m\n\u001b[1;32m     21\u001b[0m multimodal_segmentation_file \u001b[38;5;241m=\u001b[39m [file \u001b[38;5;28;01mfor\u001b[39;00m file \u001b[38;5;129;01min\u001b[39;00m os\u001b[38;5;241m.\u001b[39mlistdir(\u001b[38;5;28mstr\u001b[39m(path_to_segmentation)) \u001b[38;5;28;01mif\u001b[39;00m \u001b[38;5;124m\"\u001b[39m\u001b[38;5;124mmulti-modal\u001b[39m\u001b[38;5;124m\"\u001b[39m \u001b[38;5;129;01min\u001b[39;00m file][\u001b[38;5;241m0\u001b[39m]\n\u001b[1;32m     22\u001b[0m path_to_multimodal_segmentation_file \u001b[38;5;241m=\u001b[39m path_to_segmentation \u001b[38;5;241m/\u001b[39m multimodal_segmentation_file\n\u001b[0;32m---> 24\u001b[0m mask \u001b[38;5;241m=\u001b[39m \u001b[43mnib\u001b[49m\u001b[38;5;241;43m.\u001b[39;49m\u001b[43mload\u001b[49m\u001b[43m(\u001b[49m\u001b[43mpath_to_multimodal_segmentation_file\u001b[49m\u001b[43m)\u001b[49m\n\u001b[1;32m     25\u001b[0m data \u001b[38;5;241m=\u001b[39m mask\u001b[38;5;241m.\u001b[39mget_fdata()\n\u001b[1;32m     27\u001b[0m \u001b[38;5;66;03m# Convert to unsigned bytes\u001b[39;00m\n",
      "File \u001b[0;32m~/Desktop/Uni/Prowiss/Code/Brain_Mets_Classification/brain_mets_env/lib/python3.11/site-packages/nibabel/loadsave.py:55\u001b[0m, in \u001b[0;36mload\u001b[0;34m(filename, **kwargs)\u001b[0m\n\u001b[1;32m     52\u001b[0m         img \u001b[38;5;241m=\u001b[39m image_klass\u001b[38;5;241m.\u001b[39mfrom_filename(filename, \u001b[38;5;241m*\u001b[39m\u001b[38;5;241m*\u001b[39mkwargs)\n\u001b[1;32m     53\u001b[0m         \u001b[38;5;28;01mreturn\u001b[39;00m img\n\u001b[0;32m---> 55\u001b[0m \u001b[38;5;28;01mraise\u001b[39;00m ImageFileError(\u001b[38;5;124mf\u001b[39m\u001b[38;5;124m'\u001b[39m\u001b[38;5;124mCannot work out file type of \u001b[39m\u001b[38;5;124m\"\u001b[39m\u001b[38;5;132;01m{\u001b[39;00mfilename\u001b[38;5;132;01m}\u001b[39;00m\u001b[38;5;124m\"\u001b[39m\u001b[38;5;124m'\u001b[39m)\n",
      "\u001b[0;31mImageFileError\u001b[0m: Cannot work out file type of \"/Users/LennartPhilipp/Desktop/Uni/Prowiss/Datensatz_RGB/segmented_AURORA_n4_20240614-170748/sub-01812518/sub-01812518_multi-modal_segmentation.nii.gz\""
     ]
    }
   ],
   "source": [
    "# create txt file that lists all the paths to the preprocessed t1c images and after that separated by a semi-colon the path to the multilabel segmentation\n",
    "\n",
    "preprocessed_patients = [patient for patient in os.listdir(str(path_to_all_preprocessed_files)) if os.path.isdir(os.path.join(path_to_all_preprocessed_files / patient))]\n",
    "\n",
    "for patient in tqdm(preprocessed_patients):\n",
    "\n",
    "    # go into perc_normalized dir\n",
    "    # create new patient dir in path_to_only_preprocessed\n",
    "    # copy contents\n",
    "    \n",
    "    path_to_perc_normalized = path_to_all_preprocessed_files / patient / \"perc_normalized\"\n",
    "\n",
    "    t1c_file = [file for file in os.listdir(str(path_to_perc_normalized)) if \"t1c\" in file][0]\n",
    "    path_to_t1c_file = path_to_perc_normalized / t1c_file\n",
    "\n",
    "    path_to_segmentation = path_to_auto_segmented_files / patient\n",
    "    if not path_to_segmentation.exists():\n",
    "        print(f\"directory {path_to_segmentation} does not exist\")\n",
    "        continue\n",
    "\n",
    "    multimodal_segmentation_file = [file for file in os.listdir(str(path_to_segmentation)) if \"multi-modal\" in file][0]\n",
    "    path_to_multimodal_segmentation_file = path_to_segmentation / multimodal_segmentation_file\n",
    "\n",
    "    mask = nib.load(path_to_multimodal_segmentation_file)\n",
    "    data = mask.get_fdata()\n",
    "\n",
    "    # Convert to unsigned bytes\n",
    "    data_uint8 = data.astype(np.uint8)\n",
    "\n",
    "    # Create a new Nifti1Image\n",
    "    new_img = nib.Nifti1Image(data_uint8, affine = mask.affine)\n",
    "\n",
    "    new_img.header.set_data_dtype(np.uint8)\n",
    "    new_img.header['datatype'] = 2  # 2 corresponds to unsigned char in NIfTI format\n",
    "    new_img.header['bitpix'] = 8  # 8 bits per voxel\n",
    "\n",
    "    path_to_unsinged_mask = path_to_unsigned_segmentations / multimodal_segmentation_file\n",
    "\n",
    "    nib.save(new_img, path_to_unsinged_mask)\n",
    "\n",
    "    f = open(path_to_txt_file, \"a\")\n",
    "    f.write(f\"{path_to_t1c_file};{path_to_unsinged_mask}\\n\")\n",
    "    f.close()"
   ]
  },
  {
   "cell_type": "code",
   "execution_count": 13,
   "metadata": {},
   "outputs": [
    {
     "name": "stdout",
     "output_type": "stream",
     "text": [
      "uint8\n"
     ]
    }
   ],
   "source": [
    "output_file = \"/Users/LennartPhilipp/Desktop/Uni/Prowiss/Datensatz_RGB/unsigned_segmentations/sub-01009590_multi-modal_segmentation.nii.gz\"\n",
    "\n",
    "img = nib.load(output_file)\n",
    "print(img.get_data_dtype())  # This should print uint8"
   ]
  },
  {
   "cell_type": "markdown",
   "metadata": {},
   "source": [
    "prints patients that have been removed from the training"
   ]
  },
  {
   "cell_type": "code",
   "execution_count": 4,
   "metadata": {},
   "outputs": [
    {
     "name": "stdout",
     "output_type": "stream",
     "text": [
      "['sub-01005097', 'sub-01005630', 'sub-01006290', 'sub-01009590', 'sub-01015961', 'sub-01018613', 'sub-01021714', 'sub-01021993', 'sub-01022787', 'sub-01025630', 'sub-01031243', 'sub-01038520', 'sub-01040149', 'sub-01041137', 'sub-01055292', 'sub-01056598', 'sub-01056884', 'sub-01064662', 'sub-01071055', 'sub-01072344', 'sub-01083248', 'sub-01087386', 'sub-01098043', 'sub-01099901', 'sub-01104996', 'sub-01106844', 'sub-01108350', 'sub-01109318', 'sub-01111974', 'sub-01117914', 'sub-01117958', 'sub-01119720', 'sub-01122863', 'sub-01125016', 'sub-01130173', 'sub-01130856', 'sub-01131702', 'sub-01134825', 'sub-01138456', 'sub-01147272', 'sub-01150136', 'sub-01152379', 'sub-01164049', 'sub-01164986', 'sub-01169240', 'sub-01188297', 'sub-01189050', 'sub-01190670', 'sub-01190738', 'sub-01196057', 'sub-01199093', 'sub-01201117', 'sub-01201482', 'sub-01204563', 'sub-01205171', 'sub-01205745', 'sub-01207036', 'sub-01213140', 'sub-01214172', 'sub-01214417', 'sub-01216717', 'sub-01220269', 'sub-01231700', 'sub-01241505', 'sub-01243841', 'sub-01251946', 'sub-01261127', 'sub-01262362', 'sub-01269967', 'sub-01274157', 'sub-01281168', 'sub-01288036', 'sub-01288245', 'sub-01288350', 'sub-01288896', 'sub-01307298', 'sub-01309950', 'sub-01311383', 'sub-01314225', 'sub-01321873', 'sub-01331487', 'sub-01332588', 'sub-01335279', 'sub-01340749', 'sub-01349100', 'sub-01357275', 'sub-01358619', 'sub-01362907', 'sub-01370265', 'sub-01373703', 'sub-01373833', 'sub-01377175', 'sub-01377261', 'sub-01381621', 'sub-01384142', 'sub-01387984', 'sub-01390721', 'sub-01391534', 'sub-01391984', 'sub-01393875', 'sub-01395836', 'sub-01398968', 'sub-01400779', 'sub-01402283', 'sub-01405609', 'sub-01409764', 'sub-01410235', 'sub-01410317', 'sub-01414189', 'sub-01414540', 'sub-01415245', 'sub-01419998', 'sub-01420310', 'sub-01421533', 'sub-01423083', 'sub-01425882', 'sub-01431720', 'sub-01432274', 'sub-01433377', 'sub-01434617', 'sub-01434869', 'sub-01435731', 'sub-01437004', 'sub-01441531', 'sub-01443624', 'sub-01450871', 'sub-01452858', 'sub-01455312', 'sub-01456719', 'sub-01456959', 'sub-01457167', 'sub-01458719', 'sub-01461078', 'sub-01465229', 'sub-01475524', 'sub-01476909', 'sub-01478990', 'sub-01479403', 'sub-01480742', 'sub-01483116', 'sub-01483526', 'sub-01483723', 'sub-01484016', 'sub-01486069', 'sub-01489395', 'sub-01492604', 'sub-01492723', 'sub-01494236', 'sub-01494733', 'sub-01496608', 'sub-01496804', 'sub-01497790', 'sub-01498464', 'sub-01499528', 'sub-01501379', 'sub-01502083', 'sub-01505384', 'sub-01513891', 'sub-01514331', 'sub-01515235', 'sub-01516618', 'sub-01516702', 'sub-01518885', 'sub-01521599', 'sub-01521835', 'sub-01530724', 'sub-01542729', 'sub-01543367', 'sub-01545797', 'sub-01547588', 'sub-01548397', 'sub-01549022', 'sub-01550202', 'sub-01551183', 'sub-01562247', 'sub-01565091', 'sub-01569328', 'sub-01572564', 'sub-01573094', 'sub-01575055', 'sub-01578955', 'sub-01583797', 'sub-01584596', 'sub-01587295', 'sub-01589112', 'sub-01592849', 'sub-01594137', 'sub-01596127', 'sub-01600788', 'sub-01605537', 'sub-01607473', 'sub-01609293', 'sub-01614295', 'sub-01616246', 'sub-01616767', 'sub-01619086', 'sub-01621161', 'sub-01641510', 'sub-01641960', 'sub-01649133', 'sub-01650072', 'sub-01652130', 'sub-01654658', 'sub-01657294', 'sub-01659187', 'sub-01660211', 'sub-01661279', 'sub-01666008', 'sub-01668785', 'sub-01668799', 'sub-01670714', 'sub-01673666', 'sub-01673701', 'sub-01674416', 'sub-01677324', 'sub-01681275', 'sub-01686968', 'sub-01691369', 'sub-01695080', 'sub-01695094', 'sub-01695173', 'sub-01695930', 'sub-01696845', 'sub-01696904', 'sub-01698789', 'sub-01699419', 'sub-01699532', 'sub-01702596', 'sub-01703264', 'sub-01705952', 'sub-01706146', 'sub-01706562', 'sub-01707275', 'sub-01707721', 'sub-01709242', 'sub-01710250', 'sub-01710310', 'sub-01713022', 'sub-01713570', 'sub-01713725', 'sub-01717958', 'sub-01718213', 'sub-01729917', 'sub-01732456', 'sub-01732889', 'sub-01744565', 'sub-01754011', 'sub-01755816', 'sub-01760947', 'sub-01762556', 'sub-01763867', 'sub-01764802', 'sub-01769144', 'sub-01771120', 'sub-01773716', 'sub-01779701', 'sub-01781732', 'sub-01789555', 'sub-01792136', 'sub-01792771', 'sub-01795656', 'sub-01796937', 'sub-01797781', 'sub-01798755', 'sub-01801060', 'sub-01804484', 'sub-01805334', 'sub-01812518', 'sub-01812578', 'sub-01819252', 'sub-01830168', 'sub-01835095', 'sub-01840035', 'sub-01852952', 'sub-01853095', 'sub-01854308', 'sub-01861511', 'sub-01864584', 'sub-01870024', 'sub-01871625', 'sub-01874079', 'sub-01876862', 'sub-01879950', 'sub-01881784', 'sub-01882333', 'sub-01882989', 'sub-01883957', 'sub-01885520', 'sub-01890298', 'sub-01892684', 'sub-01893873', 'sub-01895825', 'sub-01905692', 'sub-01905848', 'sub-01906150', 'sub-01908576', 'sub-01914558', 'sub-01921604', 'sub-01924748', 'sub-01924997', 'sub-01933711', 'sub-01935938', 'sub-01936520', 'sub-01936903', 'sub-01942928', 'sub-01943022', 'sub-01946271', 'sub-01946372', 'sub-01947074', 'sub-01952689', 'sub-01953116', 'sub-01957247', 'sub-01957841', 'sub-01958155', 'sub-01960441', 'sub-01961554', 'sub-01961566', 'sub-01966470', 'sub-01969755', 'sub-01978091', 'sub-01979317', 'sub-01979997', 'sub-01981993', 'sub-01982853', 'sub-01983233', 'sub-01985065', 'sub-01990699', 'sub-01991292', 'sub-01997658', 'sub-02000864', 'sub-02009523', 'sub-02010452', 'sub-02011152', 'sub-02012594', 'sub-02014068', 'sub-02014467', 'sub-02014685', 'sub-02015217', 'sub-02015335', 'sub-02015730', 'sub-02018743', 'sub-02019520', 'sub-02019676', 'sub-02020169', 'sub-02020631', 'sub-02021781', 'sub-02026140', 'sub-02026964', 'sub-02031256', 'sub-02031868', 'sub-02034046', 'sub-02035864', 'sub-02036053', 'sub-02036130', 'sub-02036251', 'sub-02036854', 'sub-02038513', 'sub-02046093', 'sub-02047436', 'sub-02051037', 'sub-02055312', 'sub-02063373', 'sub-02063398', 'sub-02063986', 'sub-02064363', 'sub-02066389', 'sub-02066445', 'sub-02070580', 'sub-02070606', 'sub-02070903', 'sub-02071087', 'sub-02071305', 'sub-02071509', 'sub-02073121', 'sub-02073198', 'sub-02074050', 'sub-02075769', 'sub-02080563', 'sub-02082001', 'sub-02082498', 'sub-02084961', 'sub-02085355', 'sub-02086122', 'sub-02087023', 'sub-02088404', 'sub-02088565', 'sub-02089657', 'sub-02090169', 'sub-02090355', 'sub-02090905', 'sub-02092748', 'sub-02094018', 'sub-02094355', 'sub-02094837', 'sub-02095181', 'sub-02095303', 'sub-02095961', 'sub-02096374', 'sub-02097980', 'sub-02100576', 'sub-02104370', 'sub-02105939', 'sub-02106388', 'sub-02110064', 'sub-02113470', 'sub-02113718', 'sub-02115365', 'sub-02115377', 'sub-02116290', 'sub-02119444', 'sub-02119712', 'sub-02120805', 'sub-02120806', 'sub-02122538', 'sub-02124336', 'sub-02126982', 'sub-02127770', 'sub-02128777', 'sub-02131818', 'sub-02132336', 'sub-02134991', 'sub-02135803', 'sub-02136965', 'sub-02137062', 'sub-02137073', 'sub-02138280', 'sub-02139997', 'sub-02140670', 'sub-02142561', 'sub-02145605', 'sub-02145622', 'sub-02145747', 'sub-02145870', 'sub-02146286', 'sub-02148372', 'sub-02152734', 'sub-02153522', 'sub-02154718', 'sub-02155605', 'sub-02163033', 'sub-02164825', 'sub-02165732', 'sub-02167792', 'sub-02167890', 'sub-02168956', 'sub-02172003', 'sub-02172137', 'sub-02173158', 'sub-02174928', 'sub-02177752', 'sub-02178883', 'sub-02179132', 'sub-02181503', 'sub-02183443', 'sub-02184584', 'sub-02185066', 'sub-02188930', 'sub-02190005', 'sub-02190209', 'sub-02196769', 'sub-02197114', 'sub-02197683', 'sub-02199356', 'sub-02209727', 'sub-80004059', 'sub-80011453', 'sub-88000225', 'sub-90001992', 'sub-90003334', 'sub-90003562', 'sub-90005031', 'sub-90005297', 'sub-93002557', 'sub-93003757', 'sub-95001254', 'sub-96003928', 'sub-96004436', 'sub-99000041']\n",
      "sub-01878754\n",
      "sub-02148184\n",
      "sub-01529963\n",
      "sub-02140009\n",
      "sub-02059459\n",
      "sub-01908872\n",
      "sub-01983705\n",
      "sub-02087621\n",
      "sub-02134230\n",
      "sub-01227960\n",
      "sub-90011887\n",
      "sub-01417614\n",
      "sub-01383503\n",
      "sub-02127867\n"
     ]
    }
   ],
   "source": [
    "path_to_tsv = \"/Users/LennartPhilipp/Desktop/Uni/Prowiss/Dateien/dataset_patients_05_24.tsv\"\n",
    "\n",
    "training_patients = pd.read_csv(path_to_tsv, sep=\"\\t\")\n",
    "\n",
    "patient_ids = training_patients[\"participant_id\"].tolist()\n",
    "print(patient_ids)\n",
    "\n",
    "preprocessed_patients = [patient for patient in os.listdir(str(path_to_all_preprocessed_files)) if os.path.isdir(os.path.join(path_to_all_preprocessed_files / patient))]\n",
    "\n",
    "for patient in preprocessed_patients:\n",
    "    if patient not in patient_ids:\n",
    "        print(patient)"
   ]
  },
  {
   "cell_type": "code",
   "execution_count": 5,
   "metadata": {},
   "outputs": [
    {
     "ename": "FileNotFoundError",
     "evalue": "No such file or no access: 'path_to_your_label.nii'",
     "output_type": "error",
     "traceback": [
      "\u001b[0;31m---------------------------------------------------------------------------\u001b[0m",
      "\u001b[0;31mFileNotFoundError\u001b[0m                         Traceback (most recent call last)",
      "File \u001b[0;32m~/Desktop/Uni/Prowiss/Code/Brain_Mets_Classification/brain_mets_env/lib/python3.11/site-packages/nibabel/loadsave.py:42\u001b[0m, in \u001b[0;36mload\u001b[0;34m(filename, **kwargs)\u001b[0m\n\u001b[1;32m     41\u001b[0m \u001b[38;5;28;01mtry\u001b[39;00m:\n\u001b[0;32m---> 42\u001b[0m     stat_result \u001b[38;5;241m=\u001b[39m \u001b[43mos\u001b[49m\u001b[38;5;241;43m.\u001b[39;49m\u001b[43mstat\u001b[49m\u001b[43m(\u001b[49m\u001b[43mfilename\u001b[49m\u001b[43m)\u001b[49m\n\u001b[1;32m     43\u001b[0m \u001b[38;5;28;01mexcept\u001b[39;00m \u001b[38;5;167;01mOSError\u001b[39;00m:\n",
      "\u001b[0;31mFileNotFoundError\u001b[0m: [Errno 2] No such file or directory: 'path_to_your_label.nii'",
      "\nDuring handling of the above exception, another exception occurred:\n",
      "\u001b[0;31mFileNotFoundError\u001b[0m                         Traceback (most recent call last)",
      "Cell \u001b[0;32mIn[5], line 5\u001b[0m\n\u001b[1;32m      2\u001b[0m \u001b[38;5;28;01mimport\u001b[39;00m\u001b[38;5;250m \u001b[39m\u001b[38;5;21;01mnumpy\u001b[39;00m\u001b[38;5;250m \u001b[39m\u001b[38;5;28;01mas\u001b[39;00m\u001b[38;5;250m \u001b[39m\u001b[38;5;21;01mnp\u001b[39;00m\n\u001b[1;32m      4\u001b[0m \u001b[38;5;66;03m# Load the .nii file\u001b[39;00m\n\u001b[0;32m----> 5\u001b[0m img \u001b[38;5;241m=\u001b[39m \u001b[43mnib\u001b[49m\u001b[38;5;241;43m.\u001b[39;49m\u001b[43mload\u001b[49m\u001b[43m(\u001b[49m\u001b[38;5;124;43m'\u001b[39;49m\u001b[38;5;124;43mpath_to_your_label.nii\u001b[39;49m\u001b[38;5;124;43m'\u001b[39;49m\u001b[43m)\u001b[49m\n\u001b[1;32m      6\u001b[0m data \u001b[38;5;241m=\u001b[39m img\u001b[38;5;241m.\u001b[39mget_fdata()\n\u001b[1;32m      8\u001b[0m \u001b[38;5;66;03m# Convert to unsigned bytes\u001b[39;00m\n",
      "File \u001b[0;32m~/Desktop/Uni/Prowiss/Code/Brain_Mets_Classification/brain_mets_env/lib/python3.11/site-packages/nibabel/loadsave.py:44\u001b[0m, in \u001b[0;36mload\u001b[0;34m(filename, **kwargs)\u001b[0m\n\u001b[1;32m     42\u001b[0m     stat_result \u001b[38;5;241m=\u001b[39m os\u001b[38;5;241m.\u001b[39mstat(filename)\n\u001b[1;32m     43\u001b[0m \u001b[38;5;28;01mexcept\u001b[39;00m \u001b[38;5;167;01mOSError\u001b[39;00m:\n\u001b[0;32m---> 44\u001b[0m     \u001b[38;5;28;01mraise\u001b[39;00m \u001b[38;5;167;01mFileNotFoundError\u001b[39;00m(\u001b[38;5;124mf\u001b[39m\u001b[38;5;124m\"\u001b[39m\u001b[38;5;124mNo such file or no access: \u001b[39m\u001b[38;5;124m'\u001b[39m\u001b[38;5;132;01m{\u001b[39;00mfilename\u001b[38;5;132;01m}\u001b[39;00m\u001b[38;5;124m'\u001b[39m\u001b[38;5;124m\"\u001b[39m)\n\u001b[1;32m     45\u001b[0m \u001b[38;5;28;01mif\u001b[39;00m stat_result\u001b[38;5;241m.\u001b[39mst_size \u001b[38;5;241m<\u001b[39m\u001b[38;5;241m=\u001b[39m \u001b[38;5;241m0\u001b[39m:\n\u001b[1;32m     46\u001b[0m     \u001b[38;5;28;01mraise\u001b[39;00m ImageFileError(\u001b[38;5;124mf\u001b[39m\u001b[38;5;124m\"\u001b[39m\u001b[38;5;124mEmpty file: \u001b[39m\u001b[38;5;124m'\u001b[39m\u001b[38;5;132;01m{\u001b[39;00mfilename\u001b[38;5;132;01m}\u001b[39;00m\u001b[38;5;124m'\u001b[39m\u001b[38;5;124m\"\u001b[39m)\n",
      "\u001b[0;31mFileNotFoundError\u001b[0m: No such file or no access: 'path_to_your_label.nii'"
     ]
    }
   ],
   "source": [
    "import nibabel as nib\n",
    "import numpy as np\n",
    "\n",
    "# Load the .nii file\n",
    "img = nib.load('path_to_your_label.nii')\n",
    "data = img.get_fdata()\n",
    "\n",
    "# Convert to unsigned bytes\n",
    "data_uint8 = data.astype(np.uint8)\n",
    "\n",
    "# Create a new Nifti1Image\n",
    "new_img = nib.Nifti1Image(data_uint8, img.affine, img.header)\n",
    "\n",
    "# Save the new .nii file\n",
    "nib.save(new_img, 'path_to_your_label_uint8.nii')"
   ]
  },
  {
   "cell_type": "code",
   "execution_count": 4,
   "metadata": {},
   "outputs": [],
   "source": [
    "# copy preprocessed files into new patient folders\n",
    "preprocessed_patients = [patient for patient in os.listdir(str(path_to_all_preprocessed_files)) if os.path.isdir(os.path.join(path_to_all_preprocessed_files / patient))]\n",
    "\n",
    "for patient in tqdm(preprocessed_patients):\n",
    "\n",
    "    # go into perc_normalized dir\n",
    "    # create new patient dir in path_to_only_preprocessed\n",
    "    # copy contents\n",
    "    \n",
    "    path_to_perc_normalized = path_to_all_preprocessed_files / patient / \"perc_normalized\"\n",
    "\n",
    "    path_to_new_patient_folder = path_to_only_preprocessed / patient\n",
    "    os.mkdir(path_to_new_patient_folder)\n",
    "\n",
    "    files_to_copy = [file for file in os.listdir(str(path_to_perc_normalized)) if not file.endswith(\".nii.gz\")]\n",
    "\n",
    "    for file in files_to_copy:\n",
    "        shutil.copy(path_to_perc_normalized / file, path_to_new_patient_folder)"
   ]
  },
  {
   "cell_type": "markdown",
   "metadata": {},
   "source": [
    "## Regensburg"
   ]
  },
  {
   "cell_type": "markdown",
   "metadata": {},
   "source": [
    "### Clean up data"
   ]
  },
  {
   "cell_type": "markdown",
   "metadata": {},
   "source": [
    "CAVE: remove patient sub-01383503 from training as the cerebellum is not fully displayed"
   ]
  },
  {
   "cell_type": "code",
   "execution_count": 15,
   "metadata": {},
   "outputs": [],
   "source": [
    "# set pandas random seed to 42\n",
    "np.random.seed(42)"
   ]
  },
  {
   "cell_type": "code",
   "execution_count": 16,
   "metadata": {},
   "outputs": [],
   "source": [
    "#path_to_patients_tsv = Path(\"/Volumes/BrainMets/Rgb_Brain_Mets/brain_mets_classification/rawdata/participants.tsv\")\n",
    "#path_to_patients_tsv = Path(\"/Users/LennartPhilipp/Desktop/Uni/Prowiss/Dateien/dataset_patients_05_24.tsv\")\n",
    "path_to_patients_tsv = Path(\"/Users/LennartPhilipp/Desktop/Uni/Prowiss/Dateien/participants_04_09_24.tsv\")\n",
    "\n",
    "# old: path_to_preprocessed_images = Path(\"/Volumes/BrainMets/Rgb_Brain_Mets/brain_mets_classification/derivatives/preprocessed_brainlesion_allpatients\")\n",
    "# path_to_preprocessed_images = Path(\"/Volumes/BrainMets/Rgb_Brain_Mets/brain_mets_classification/derivatives/preprocessed_brainlesion_allpatients\")\n",
    "#path_to_preprocessed_images = Path(\"/Users/LennartPhilipp/Desktop/testing_data/derivatives/preprocessed_n4_brainlesion_percentile_20240611-125716\")\n",
    "path_to_preprocessed_images = Path(\"/Users/LennartPhilipp/Desktop/Uni/Prowiss/Datensatz_RGB/preprocessed_n4_brainlesion_percentile_20240612-083743\")"
   ]
  },
  {
   "cell_type": "markdown",
   "metadata": {},
   "source": [
    "Read .tsv file with all the patients"
   ]
  },
  {
   "cell_type": "code",
   "execution_count": 17,
   "metadata": {},
   "outputs": [
    {
     "name": "stdout",
     "output_type": "stream",
     "text": [
      "Before removing unfit files: 472\n",
      "After removing unfit files: 470\n"
     ]
    }
   ],
   "source": [
    "training_patients = pd.read_csv(path_to_patients_tsv, sep=\"\\t\", index_col=False)\n",
    "\n",
    "# drop patient sub-01383503\n",
    "patient_to_drop_index = training_patients.index[training_patients[\"participant_id\"] == \"sub-01383503\"]\n",
    "training_patients.drop(index=patient_to_drop_index, inplace=True)\n",
    "training_patients.reset_index(drop=True, inplace=True)\n",
    "#training_patients = training_patients.sample(frac=1) #shuffles the dataset\n",
    "\n",
    "print(f\"Before removing unfit files: {len(training_patients)}\")\n",
    "patient_files_list = os.listdir(path_to_preprocessed_images)\n",
    "for index, row in training_patients.iterrows():\n",
    "    if training_patients[\"participant_id\"][index] not in patient_files_list:\n",
    "        training_patients.drop(index=index, inplace=True)\n",
    "\n",
    "print(f\"After removing unfit files: {len(training_patients)}\")\n",
    "training_patients.reset_index(drop=True, inplace=True)\n",
    "\n",
    "# shuffle dataset\n",
    "training_patients = training_patients.sample(frac=1).reset_index(drop=True)\n",
    "\n",
    "patient_ids = training_patients[\"participant_id\"].tolist()"
   ]
  },
  {
   "cell_type": "markdown",
   "metadata": {},
   "source": [
    "### Unify primary classes"
   ]
  },
  {
   "cell_type": "code",
   "execution_count": null,
   "metadata": {},
   "outputs": [],
   "source": [
    "#copy of cancer_primaries_dict from config.py (22_07_2024)\n",
    "\n",
    "# cancer_primaries_dict = {   '1a': 'small cell lung cancer',\n",
    "#                             '1b': 'squamous cell lung cancer',\n",
    "#                             '1c': 'adenocarcinoma of the lung',\n",
    "#                             '1d': 'large cell lung cancer',\n",
    "#                             '1e': 'NSCLC',\n",
    "#                             '1f': 'lung cancer, other',\n",
    "#                             '1g': 'lung cancer, exact histology unknown',\n",
    "#                             '2': 'breast cancer',\n",
    "#                             '3': 'prostate cancer',\n",
    "#                             '4': 'testicular cancer',\n",
    "#                             '5': 'renal cell carcinoma',\n",
    "#                             '6': 'transitional cell carcinoma', # also called urothelial carcinoma\n",
    "#                             '7': 'vulvar carcinoma',\n",
    "#                             '8': 'cervical cancer',\n",
    "#                             '9': 'endometrial cancer',\n",
    "#                             '10': 'ovarian cell carcinoma',\n",
    "#                             '11a': 'osteosarcoma',\n",
    "#                             '11b': 'liposarcoma',\n",
    "#                             '11c': 'leiomyosarcoma',\n",
    "#                             '11d': 'rhabdomyosarcoma',\n",
    "#                             '11e': 'synovial sarcoma',\n",
    "#                             '11f': 'solitary fibrous tumor',\n",
    "#                             '11g': 'sarcoma, other',\n",
    "#                             '11h': 'sarcoma, exact histology unknown',\n",
    "#                             '12': 'melanoma',\n",
    "#                             '13': 'lacrimal gland carcinoma',\n",
    "#                             '14': 'salivary gland cancer',\n",
    "#                             '15': 'oral squamous cell carcinoma',\n",
    "#                             '16': 'adenoid cystic carcinoma',\n",
    "#                             '17': 'laryngeal cancer',\n",
    "#                             '18': 'thyroid cancer',\n",
    "#                             '19': 'esophageal cancer',\n",
    "#                             '20': 'gastric cancer',\n",
    "#                             '21': 'pancreatic cancer',\n",
    "#                             '22': 'cholangiocellular carcinoma',\n",
    "#                             '23': 'colorectal cancer',\n",
    "#                             '24': 'NET', # = neuroendocrine tumors\n",
    "#                             '25': 'MiNEN', # = mixed neuroendocrine non-neuroendocine neuroplasms\n",
    "#                             '26a': 'DSRCT', # = Desmoplastic small-round-cell Tumor\n",
    "#                             '26b': 'mesothelioma, other',\n",
    "#                             '27': 'thymoma',\n",
    "#                             '28': 'plasmacytoma',\n",
    "#                             '29': 'cancer of unknown primary'\n",
    "# }"
   ]
  },
  {
   "cell_type": "code",
   "execution_count": null,
   "metadata": {},
   "outputs": [],
   "source": [
    "def compress_primaries_dict(primaries_dict):\n",
    "    \"\"\"Compresses primary cancer classes from discrete cancer types into broader categories.\n",
    "    Only apply this on the Regensburg dataset.\n",
    "    Input: a dictionary with keys as patient IDs and values as primary cancer types.\"\"\"\n",
    "\n",
    "    #primaries_dict_copy = primaries_dict.copy()\n",
    "\n",
    "    for key, value in primaries_dict.items():\n",
    "        clean_primary = ''.join(filter(str.isdigit, value))\n",
    "        primaries_dict[key] = clean_primary\n",
    "    \n",
    "    print(primaries_dict)\n",
    "\n",
    "    for key, value in primaries_dict.items():\n",
    "        primary_num = int(value)\n",
    "\n",
    "        renamed_primary = 0\n",
    "\n",
    "        # compress all the genitourinary cancers togehter (3-10)\n",
    "        if primary_num >= 3 and primary_num <= 10:\n",
    "            renamed_primary = 3\n",
    "        # compress all the gastrointestinal cancers together (19-25)\n",
    "        elif primary_num >= 19 and primary_num <= 25:\n",
    "            renamed_primary = 19\n",
    "        # compress all the head and neck cancers together (13-18)\n",
    "        elif primary_num >= 13 and primary_num <= 18:\n",
    "            renamed_primary = 13\n",
    "        else:\n",
    "            renamed_primary = primary_num\n",
    "\n",
    "        primaries_dict[key] = renamed_primary\n",
    "    \n",
    "    print(primaries_dict)\n",
    "    return primaries_dict\n",
    "\n",
    "\n",
    "def return_specific_primaries_dict(primaries_dict, specific_classes, dataset):\n",
    "    \"\"\"\n",
    "    Replace items in the primaries_array that are not in the specified classes with \"other\".\n",
    "    \n",
    "    Args:\n",
    "    primaries_array (array): Array of primary classes.\n",
    "    specific_classes (array): Array of specific classes to include.\n",
    "    dataset (str): Name of the dataset (\"Regensburg\" or \"Yale\").\n",
    "    \n",
    "    Returns:\n",
    "    array: Updated primaries_array with classes replaced as specified.\n",
    "    \"\"\"\n",
    "\n",
    "    # go through the list and replace each iteam that is not in the specified classes with \"other\"\n",
    "\n",
    "    if dataset == \"Regensburg\":\n",
    "\n",
    "        for specific_class in specific_classes:\n",
    "\n",
    "            match specific_class:\n",
    "                case 1: # lung\n",
    "                    \n",
    "                    for key, value in primaries_dict.items():\n",
    "                        if value == 1:\n",
    "                            primaries_dict[key] = 101\n",
    "\n",
    "                case 2: # melanoma\n",
    "\n",
    "                    for key, value in primaries_dict.items():\n",
    "                        if value == 12:\n",
    "                            primaries_dict[key] = 102\n",
    "                case 3: # breast\n",
    "\n",
    "                    for key, value in primaries_dict.items():\n",
    "                        if value == 2:\n",
    "                            primaries_dict[key] = 103\n",
    "                case 4: # genito urinary\n",
    "\n",
    "                    for key, value in primaries_dict.items():\n",
    "                        if value == 3:\n",
    "                            primaries_dict[key] = 104\n",
    "                case 5: # gastro\n",
    "\n",
    "                    for key, value in primaries_dict.items():\n",
    "                        if value == 19:\n",
    "                            primaries_dict[key] = 105\n",
    "                case _:\n",
    "                    pass\n",
    "    \n",
    "    elif dataset == \"Yale\":\n",
    "\n",
    "        for specific_class in specific_classes:\n",
    "\n",
    "            match specific_class:\n",
    "                case 1: # lung\n",
    "\n",
    "                    for key, value in primaries_dict.items():\n",
    "                        if value == 0:\n",
    "                            primaries_dict[key] = 101\n",
    "                    #primaries_array = primaries_array.replace(0, 101)\n",
    "                case 2: # melanoma\n",
    "\n",
    "                    for key, value in primaries_dict.items():\n",
    "                        if value == 4:\n",
    "                            primaries_dict[key] = 102\n",
    "                    #primaries_array = primaries_array.replace(4, 102)\n",
    "                case 3: # breast\n",
    "\n",
    "                    for key, value in primaries_dict.items():\n",
    "                        if value == 1:\n",
    "                            primaries_dict[key] = 103\n",
    "                    #primaries_array = primaries_array.replace(1, 103)\n",
    "                case 4: # genito urinary, actually in this case only renal cell carcinoma\n",
    "                    \n",
    "                    for key, value in primaries_dict.items():\n",
    "                        if value == 6:\n",
    "                            primaries_dict[key] = 104\n",
    "                    #primaries_array = primaries_array.replace(6, 104)\n",
    "                case 5: # gastro\n",
    "\n",
    "                    for key, value in primaries_dict.items():\n",
    "                        if value == 2:\n",
    "                            primaries_dict[key] = 105\n",
    "                    #primaries_array = primaries_array.replace(2, 105)\n",
    "                case _:\n",
    "                    pass\n",
    "\n",
    "    print(primaries_dict)\n",
    "\n",
    "    for key, value in primaries_dict.items():\n",
    "        if value < 100:\n",
    "            primaries_dict[key] = 0\n",
    "\n",
    "    print(primaries_dict)\n",
    "\n",
    "    counter = 0\n",
    "\n",
    "    for specific_class in specific_classes:\n",
    "        specific_class = specific_class + 100\n",
    "        counter += 1\n",
    "\n",
    "        for key, value in primaries_dict.items():\n",
    "            if value == specific_class:\n",
    "                primaries_dict[key] = counter\n",
    "    \n",
    "    print(primaries_dict)\n",
    "\n",
    "    return primaries_dict"
   ]
  },
  {
   "cell_type": "code",
   "execution_count": 18,
   "metadata": {},
   "outputs": [
    {
     "name": "stdout",
     "output_type": "stream",
     "text": [
      "Original Primaries Dict:\n",
      "{'sub-01205745': '12', 'sub-01288350': '23', 'sub-01125016': '11b', 'sub-02184584': '1c', 'sub-02146286': '1a', 'sub-01710250': '1c', 'sub-01686968': '1f', 'sub-01025630': '1a', 'sub-02055312': '1c', 'sub-01281168': '12', 'sub-01314225': '1b', 'sub-02178883': '1c', 'sub-02127770': '2', 'sub-02154718': '1c', 'sub-80011453': '2', 'sub-02139997': '1e', 'sub-01515235': '12', 'sub-01381621': '8', 'sub-02148372': '10', 'sub-01311383': '1c', 'sub-01005097': '1e', 'sub-93003757': '5', 'sub-01038520': '1a', 'sub-01771120': '1a', 'sub-01309950': '23', 'sub-01677324': '12', 'sub-02174928': '2', 'sub-01307298': '1a', 'sub-01117958': '1f', 'sub-01587295': '6', 'sub-01421533': '1c', 'sub-01732889': '1c', 'sub-01398968': '1a', 'sub-02124336': '1a', 'sub-01071055': '5', 'sub-01147272': '1a', 'sub-02095181': '15', 'sub-93002557': '23', 'sub-01947074': '23', 'sub-01484016': '12', 'sub-01895825': '12', 'sub-01773716': '1e', 'sub-01505384': '12', 'sub-01565091': '23', 'sub-02015730': '1g', 'sub-01432274': '12', 'sub-01942928': '2', 'sub-01288245': '10', 'sub-01373833': '1a', 'sub-01450871': '1b', 'sub-02137062': '1a', 'sub-01882333': '1c', 'sub-01652130': '12', 'sub-02134991': '1a', 'sub-01698789': '3', 'sub-01465229': '1g', 'sub-01321873': '1e', 'sub-02167792': '1c', 'sub-01241505': '1a', 'sub-01496804': '12', 'sub-01936903': '2', 'sub-01952689': '12', 'sub-90003562': '1c', 'sub-01572564': '19', 'sub-01335279': '1b', 'sub-01957247': '23', 'sub-01713022': '12', 'sub-02209727': '1c', 'sub-01699532': '12', 'sub-02071087': '1c', 'sub-02185066': '5', 'sub-01056598': '12', 'sub-01502083': '6', 'sub-02071509': '1a', 'sub-01072344': '11c', 'sub-02094355': '12', 'sub-01978091': '1c', 'sub-01207036': '5', 'sub-01668785': '2', 'sub-02105939': '1a', 'sub-01969755': '1c', 'sub-01870024': '2', 'sub-01943022': '12', 'sub-02116290': '1e', 'sub-01106844': '1g', 'sub-02119712': '1a', 'sub-02092748': '1a', 'sub-01513891': '1c', 'sub-01164049': '2', 'sub-02181503': '1e', 'sub-01483116': '23', 'sub-01461078': '4', 'sub-02115365': '1c', 'sub-01997658': '1b', 'sub-02136965': '1c', 'sub-01957841': '27', 'sub-01098043': '1e', 'sub-01960441': '17', 'sub-01189050': '2', 'sub-90003334': '1c', 'sub-01455312': '1f', 'sub-01921604': '3', 'sub-02082498': '1c', 'sub-01213140': '22', 'sub-01573094': '1a', 'sub-02196769': '12', 'sub-02106388': '1b', 'sub-01104996': '1c', 'sub-01064662': '5', 'sub-01261127': '11g', 'sub-01589112': '11e', 'sub-01358619': '1e', 'sub-01119720': '12', 'sub-01349100': '12', 'sub-02010452': '1c', 'sub-01812578': '2', 'sub-01659187': '1f', 'sub-02190005': '26a', 'sub-01384142': '12', 'sub-01906150': '12', 'sub-02080563': '1a', 'sub-02011152': '1c', 'sub-01979997': '6', 'sub-01763867': '1c', 'sub-01641960': '1e', 'sub-01405609': '12', 'sub-01717958': '1a', 'sub-01562247': '4', 'sub-01018613': '1c', 'sub-01431720': '1b', 'sub-01188297': '2', 'sub-01056884': '23', 'sub-96004436': '1c', 'sub-02020631': '12', 'sub-01009590': '1a', 'sub-02036251': '12', 'sub-01216717': '23', 'sub-01415245': '12', 'sub-01946271': '21', 'sub-01982853': '1c', 'sub-01117914': '1g', 'sub-01621161': '1f', 'sub-01779701': '1c', 'sub-01108350': '23', 'sub-01021993': '5', 'sub-02153522': '1g', 'sub-01414189': '1a', 'sub-01764802': '1c', 'sub-02173158': '1c', 'sub-01433377': '1c', 'sub-01423083': '1c', 'sub-02095961': '1e', 'sub-02074050': '1c', 'sub-02172137': '1d', 'sub-96003928': '1a', 'sub-02066445': '12', 'sub-01548397': '2', 'sub-01707721': '1c', 'sub-90005297': '1a', 'sub-02142561': '1a', 'sub-01486069': '2', 'sub-02152734': '12', 'sub-02082001': '1c', 'sub-01781732': '3', 'sub-02063398': '4', 'sub-01681275': '1c', 'sub-01744565': '1a', 'sub-01414540': '1c', 'sub-02031868': '1c', 'sub-01494236': '1c', 'sub-01935938': '1g', 'sub-01501379': '1a', 'sub-02100576': '1c', 'sub-02172003': '1a', 'sub-01340749': '12', 'sub-02089657': '1c', 'sub-01543367': '1f', 'sub-02020169': '1c', 'sub-02132336': '9', 'sub-01288896': '1a', 'sub-02190209': '2', 'sub-01600788': '2', 'sub-02018743': '1c', 'sub-01434869': '1b', 'sub-02120806': '6', 'sub-01885520': '19', 'sub-01985065': '5', 'sub-02019520': '1c', 'sub-01650072': '2', 'sub-01703264': '9', 'sub-01670714': '12', 'sub-02070903': '1a', 'sub-01792771': '12', 'sub-01131702': '1g', 'sub-01483723': '1d', 'sub-02070606': '1c', 'sub-01691369': '1e', 'sub-01840035': '12', 'sub-02138280': '1c', 'sub-01214417': '2', 'sub-01419998': '23', 'sub-01812518': '1c', 'sub-01732456': '1b', 'sub-01021714': '1c', 'sub-02126982': '23', 'sub-02012594': '19', 'sub-01516618': '2', 'sub-01498464': '12', 'sub-01578955': '12', 'sub-01596127': '1a', 'sub-01031243': '2', 'sub-02115377': '1d', 'sub-01402283': '1c', 'sub-01332588': '1f', 'sub-01138456': '1a', 'sub-02090169': '1c', 'sub-01547588': '1c', 'sub-02177752': '1a', 'sub-01876862': '11g', 'sub-01657294': '12', 'sub-01882989': '12', 'sub-01709242': '1c', 'sub-01706562': '1c', 'sub-01649133': '1c', 'sub-01373703': '5', 'sub-01494733': '1e', 'sub-01530724': '12', 'sub-01924748': '1c', 'sub-01496608': '12', 'sub-01006290': '2', 'sub-01377261': '1g', 'sub-02088565': '2', 'sub-01274157': '1a', 'sub-01854308': '1e', 'sub-01443624': '11b', 'sub-02036854': '1c', 'sub-01390721': '3', 'sub-01492604': '17', 'sub-02064363': '1e', 'sub-02087023': '1c', 'sub-02015217': '1e', 'sub-01391534': '1a', 'sub-01914558': '1c', 'sub-01269967': '1c', 'sub-01099901': '23', 'sub-01134825': '1c', 'sub-01492723': '12', 'sub-01441531': '12', 'sub-01594137': '1f', 'sub-01666008': '11c', 'sub-01592849': '1c', 'sub-01262362': '1e', 'sub-01769144': '11f', 'sub-01796937': '1e', 'sub-01905848': '2', 'sub-80004059': '1c', 'sub-88000225': '1c', 'sub-01890298': '1c', 'sub-02085355': '1c', 'sub-01835095': '5', 'sub-01452858': '20', 'sub-02073121': '1e', 'sub-01705952': '1e', 'sub-02110064': '1b', 'sub-01699419': '12', 'sub-01457167': '1a', 'sub-02113718': '1a', 'sub-02094018': '1a', 'sub-02104370': '1a', 'sub-02063986': '14', 'sub-01871625': '1e', 'sub-02019676': '1g', 'sub-01879950': '23', 'sub-02131818': '1g', 'sub-01991292': '12', 'sub-01420310': '2', 'sub-01584596': '12', 'sub-02063373': '1c', 'sub-02145870': '1a', 'sub-01966470': '14', 'sub-02197683': '12', 'sub-02026140': '1e', 'sub-01713725': '12', 'sub-02031256': '12', 'sub-01542729': '1c', 'sub-01480742': '1c', 'sub-01654658': '1c', 'sub-01801060': '2', 'sub-01713570': '1c', 'sub-01425882': '20', 'sub-01435731': '2', 'sub-02140670': '12', 'sub-01706146': '12', 'sub-02090355': '1c', 'sub-01983233': '1b', 'sub-01456719': '1c', 'sub-01905692': '5', 'sub-02113470': '12', 'sub-01410317': '1c', 'sub-02046093': '1c', 'sub-02145622': '2', 'sub-01476909': '11a', 'sub-02034046': '12', 'sub-01169240': '1f', 'sub-02165732': '1b', 'sub-01251946': '12', 'sub-01893873': '15', 'sub-01357275': '17', 'sub-01760947': '12', 'sub-01605537': '1a', 'sub-01516702': '1e', 'sub-01040149': '23', 'sub-01130856': '28', 'sub-01111974': '1g', 'sub-01550202': '1b', 'sub-01489395': '10', 'sub-02088404': '1c', 'sub-02000864': '1c', 'sub-01702596': '4', 'sub-01387984': '1b', 'sub-01201117': '2', 'sub-01754011': '1a', 'sub-02051037': '1a', 'sub-02066389': '23', 'sub-01583797': '3', 'sub-01152379': '1a', 'sub-02086122': '1b', 'sub-01673701': '12', 'sub-01892684': '2', 'sub-01795656': '1e', 'sub-02097980': '1a', 'sub-01015961': '1b', 'sub-01797781': '1a', 'sub-02145747': '1e', 'sub-01395836': '12', 'sub-01707275': '1a', 'sub-02120805': '1c', 'sub-01695094': '12', 'sub-01551183': '6', 'sub-01391984': '1e', 'sub-01924997': '12', 'sub-01695930': '2', 'sub-01220269': '1g', 'sub-01190670': '1c', 'sub-01122863': '12', 'sub-01852952': '3', 'sub-02014467': '1c', 'sub-01660211': '2', 'sub-02145605': '1c', 'sub-01109318': '12', 'sub-02075769': '23', 'sub-01710310': '1a', 'sub-01805334': '1g', 'sub-01908576': '23', 'sub-01521835': '1c', 'sub-02119444': '1c', 'sub-01483526': '1c', 'sub-01231700': '1c', 'sub-01479403': '1c', 'sub-01456959': '1a', 'sub-02188930': '12', 'sub-01022787': '18', 'sub-02014068': '12', 'sub-02168956': '18', 'sub-01243841': '1e', 'sub-01946372': '11a', 'sub-01055292': '1c', 'sub-01514331': '2', 'sub-01150136': '1g', 'sub-02164825': '15', 'sub-02090905': '1c', 'sub-01696845': '1c', 'sub-01883957': '1c', 'sub-02128777': '1b', 'sub-02122538': '1a', 'sub-02021781': '10', 'sub-01729917': '1b', 'sub-01674416': '1c', 'sub-01695080': '9', 'sub-01936520': '1c', 'sub-02155605': '1c', 'sub-01789555': '2', 'sub-90001992': '3', 'sub-02163033': '12', 'sub-01953116': '23', 'sub-02047436': '23', 'sub-01861511': '23', 'sub-01661279': '12', 'sub-01521599': '1a', 'sub-01164986': '12', 'sub-01696904': '1c', 'sub-01616767': '1g', 'sub-01961566': '1a', 'sub-01804484': '1c', 'sub-01409764': '1a', 'sub-01204563': '1c', 'sub-02096374': '1e', 'sub-01005630': '1a', 'sub-02137073': '6', 'sub-02199356': '1c', 'sub-01196057': '1c', 'sub-01331487': '1c', 'sub-01673666': '1b', 'sub-01130173': '12', 'sub-01819252': '12', 'sub-02073198': '11g', 'sub-01377175': '1c', 'sub-02026964': '1c', 'sub-02183443': '1e', 'sub-01201482': '1c', 'sub-02036130': '1e', 'sub-01830168': '12', 'sub-01755816': '1a', 'sub-01041137': '12', 'sub-01981993': '1c', 'sub-01370265': '12', 'sub-02095303': '1c', 'sub-01874079': '2', 'sub-01545797': '19', 'sub-02014685': '2', 'sub-90005031': '12', 'sub-01478990': '12', 'sub-01958155': '2', 'sub-02197114': '1a', 'sub-01990699': '2', 'sub-01762556': '12', 'sub-01205171': '2', 'sub-02071305': '1a', 'sub-01199093': '16', 'sub-01569328': '15', 'sub-01616246': '8', 'sub-95001254': '1f', 'sub-01607473': '1c', 'sub-01549022': '1c', 'sub-01214172': '6', 'sub-01190738': '1g', 'sub-02036053': '23', 'sub-01718213': '1c', 'sub-01792136': '1c', 'sub-01087386': '1g', 'sub-01979317': '1c', 'sub-01518885': '2', 'sub-01881784': '1a', 'sub-02179132': '1b', 'sub-01619086': '1c', 'sub-02094837': '1c', 'sub-01933711': '9', 'sub-02135803': '12', 'sub-02035864': '23', 'sub-01798755': '12', 'sub-01961554': '1c', 'sub-01497790': '1c', 'sub-01458719': '2', 'sub-01499528': '5', 'sub-02070580': '5', 'sub-01393875': '1c', 'sub-02084961': '1b', 'sub-01362907': '1c', 'sub-02015335': '1c', 'sub-01695173': '12', 'sub-01437004': '11d', 'sub-99000041': '24', 'sub-01083248': '12', 'sub-01609293': '5', 'sub-01288036': '1a', 'sub-01410235': '1c', 'sub-01864584': '1c', 'sub-02038513': '1f', 'sub-02167890': '11g', 'sub-01400779': '3'}\n",
      "\n",
      "Compress Primaries Dict Function output:\n",
      "{'sub-01205745': '12', 'sub-01288350': '23', 'sub-01125016': '11', 'sub-02184584': '1', 'sub-02146286': '1', 'sub-01710250': '1', 'sub-01686968': '1', 'sub-01025630': '1', 'sub-02055312': '1', 'sub-01281168': '12', 'sub-01314225': '1', 'sub-02178883': '1', 'sub-02127770': '2', 'sub-02154718': '1', 'sub-80011453': '2', 'sub-02139997': '1', 'sub-01515235': '12', 'sub-01381621': '8', 'sub-02148372': '10', 'sub-01311383': '1', 'sub-01005097': '1', 'sub-93003757': '5', 'sub-01038520': '1', 'sub-01771120': '1', 'sub-01309950': '23', 'sub-01677324': '12', 'sub-02174928': '2', 'sub-01307298': '1', 'sub-01117958': '1', 'sub-01587295': '6', 'sub-01421533': '1', 'sub-01732889': '1', 'sub-01398968': '1', 'sub-02124336': '1', 'sub-01071055': '5', 'sub-01147272': '1', 'sub-02095181': '15', 'sub-93002557': '23', 'sub-01947074': '23', 'sub-01484016': '12', 'sub-01895825': '12', 'sub-01773716': '1', 'sub-01505384': '12', 'sub-01565091': '23', 'sub-02015730': '1', 'sub-01432274': '12', 'sub-01942928': '2', 'sub-01288245': '10', 'sub-01373833': '1', 'sub-01450871': '1', 'sub-02137062': '1', 'sub-01882333': '1', 'sub-01652130': '12', 'sub-02134991': '1', 'sub-01698789': '3', 'sub-01465229': '1', 'sub-01321873': '1', 'sub-02167792': '1', 'sub-01241505': '1', 'sub-01496804': '12', 'sub-01936903': '2', 'sub-01952689': '12', 'sub-90003562': '1', 'sub-01572564': '19', 'sub-01335279': '1', 'sub-01957247': '23', 'sub-01713022': '12', 'sub-02209727': '1', 'sub-01699532': '12', 'sub-02071087': '1', 'sub-02185066': '5', 'sub-01056598': '12', 'sub-01502083': '6', 'sub-02071509': '1', 'sub-01072344': '11', 'sub-02094355': '12', 'sub-01978091': '1', 'sub-01207036': '5', 'sub-01668785': '2', 'sub-02105939': '1', 'sub-01969755': '1', 'sub-01870024': '2', 'sub-01943022': '12', 'sub-02116290': '1', 'sub-01106844': '1', 'sub-02119712': '1', 'sub-02092748': '1', 'sub-01513891': '1', 'sub-01164049': '2', 'sub-02181503': '1', 'sub-01483116': '23', 'sub-01461078': '4', 'sub-02115365': '1', 'sub-01997658': '1', 'sub-02136965': '1', 'sub-01957841': '27', 'sub-01098043': '1', 'sub-01960441': '17', 'sub-01189050': '2', 'sub-90003334': '1', 'sub-01455312': '1', 'sub-01921604': '3', 'sub-02082498': '1', 'sub-01213140': '22', 'sub-01573094': '1', 'sub-02196769': '12', 'sub-02106388': '1', 'sub-01104996': '1', 'sub-01064662': '5', 'sub-01261127': '11', 'sub-01589112': '11', 'sub-01358619': '1', 'sub-01119720': '12', 'sub-01349100': '12', 'sub-02010452': '1', 'sub-01812578': '2', 'sub-01659187': '1', 'sub-02190005': '26', 'sub-01384142': '12', 'sub-01906150': '12', 'sub-02080563': '1', 'sub-02011152': '1', 'sub-01979997': '6', 'sub-01763867': '1', 'sub-01641960': '1', 'sub-01405609': '12', 'sub-01717958': '1', 'sub-01562247': '4', 'sub-01018613': '1', 'sub-01431720': '1', 'sub-01188297': '2', 'sub-01056884': '23', 'sub-96004436': '1', 'sub-02020631': '12', 'sub-01009590': '1', 'sub-02036251': '12', 'sub-01216717': '23', 'sub-01415245': '12', 'sub-01946271': '21', 'sub-01982853': '1', 'sub-01117914': '1', 'sub-01621161': '1', 'sub-01779701': '1', 'sub-01108350': '23', 'sub-01021993': '5', 'sub-02153522': '1', 'sub-01414189': '1', 'sub-01764802': '1', 'sub-02173158': '1', 'sub-01433377': '1', 'sub-01423083': '1', 'sub-02095961': '1', 'sub-02074050': '1', 'sub-02172137': '1', 'sub-96003928': '1', 'sub-02066445': '12', 'sub-01548397': '2', 'sub-01707721': '1', 'sub-90005297': '1', 'sub-02142561': '1', 'sub-01486069': '2', 'sub-02152734': '12', 'sub-02082001': '1', 'sub-01781732': '3', 'sub-02063398': '4', 'sub-01681275': '1', 'sub-01744565': '1', 'sub-01414540': '1', 'sub-02031868': '1', 'sub-01494236': '1', 'sub-01935938': '1', 'sub-01501379': '1', 'sub-02100576': '1', 'sub-02172003': '1', 'sub-01340749': '12', 'sub-02089657': '1', 'sub-01543367': '1', 'sub-02020169': '1', 'sub-02132336': '9', 'sub-01288896': '1', 'sub-02190209': '2', 'sub-01600788': '2', 'sub-02018743': '1', 'sub-01434869': '1', 'sub-02120806': '6', 'sub-01885520': '19', 'sub-01985065': '5', 'sub-02019520': '1', 'sub-01650072': '2', 'sub-01703264': '9', 'sub-01670714': '12', 'sub-02070903': '1', 'sub-01792771': '12', 'sub-01131702': '1', 'sub-01483723': '1', 'sub-02070606': '1', 'sub-01691369': '1', 'sub-01840035': '12', 'sub-02138280': '1', 'sub-01214417': '2', 'sub-01419998': '23', 'sub-01812518': '1', 'sub-01732456': '1', 'sub-01021714': '1', 'sub-02126982': '23', 'sub-02012594': '19', 'sub-01516618': '2', 'sub-01498464': '12', 'sub-01578955': '12', 'sub-01596127': '1', 'sub-01031243': '2', 'sub-02115377': '1', 'sub-01402283': '1', 'sub-01332588': '1', 'sub-01138456': '1', 'sub-02090169': '1', 'sub-01547588': '1', 'sub-02177752': '1', 'sub-01876862': '11', 'sub-01657294': '12', 'sub-01882989': '12', 'sub-01709242': '1', 'sub-01706562': '1', 'sub-01649133': '1', 'sub-01373703': '5', 'sub-01494733': '1', 'sub-01530724': '12', 'sub-01924748': '1', 'sub-01496608': '12', 'sub-01006290': '2', 'sub-01377261': '1', 'sub-02088565': '2', 'sub-01274157': '1', 'sub-01854308': '1', 'sub-01443624': '11', 'sub-02036854': '1', 'sub-01390721': '3', 'sub-01492604': '17', 'sub-02064363': '1', 'sub-02087023': '1', 'sub-02015217': '1', 'sub-01391534': '1', 'sub-01914558': '1', 'sub-01269967': '1', 'sub-01099901': '23', 'sub-01134825': '1', 'sub-01492723': '12', 'sub-01441531': '12', 'sub-01594137': '1', 'sub-01666008': '11', 'sub-01592849': '1', 'sub-01262362': '1', 'sub-01769144': '11', 'sub-01796937': '1', 'sub-01905848': '2', 'sub-80004059': '1', 'sub-88000225': '1', 'sub-01890298': '1', 'sub-02085355': '1', 'sub-01835095': '5', 'sub-01452858': '20', 'sub-02073121': '1', 'sub-01705952': '1', 'sub-02110064': '1', 'sub-01699419': '12', 'sub-01457167': '1', 'sub-02113718': '1', 'sub-02094018': '1', 'sub-02104370': '1', 'sub-02063986': '14', 'sub-01871625': '1', 'sub-02019676': '1', 'sub-01879950': '23', 'sub-02131818': '1', 'sub-01991292': '12', 'sub-01420310': '2', 'sub-01584596': '12', 'sub-02063373': '1', 'sub-02145870': '1', 'sub-01966470': '14', 'sub-02197683': '12', 'sub-02026140': '1', 'sub-01713725': '12', 'sub-02031256': '12', 'sub-01542729': '1', 'sub-01480742': '1', 'sub-01654658': '1', 'sub-01801060': '2', 'sub-01713570': '1', 'sub-01425882': '20', 'sub-01435731': '2', 'sub-02140670': '12', 'sub-01706146': '12', 'sub-02090355': '1', 'sub-01983233': '1', 'sub-01456719': '1', 'sub-01905692': '5', 'sub-02113470': '12', 'sub-01410317': '1', 'sub-02046093': '1', 'sub-02145622': '2', 'sub-01476909': '11', 'sub-02034046': '12', 'sub-01169240': '1', 'sub-02165732': '1', 'sub-01251946': '12', 'sub-01893873': '15', 'sub-01357275': '17', 'sub-01760947': '12', 'sub-01605537': '1', 'sub-01516702': '1', 'sub-01040149': '23', 'sub-01130856': '28', 'sub-01111974': '1', 'sub-01550202': '1', 'sub-01489395': '10', 'sub-02088404': '1', 'sub-02000864': '1', 'sub-01702596': '4', 'sub-01387984': '1', 'sub-01201117': '2', 'sub-01754011': '1', 'sub-02051037': '1', 'sub-02066389': '23', 'sub-01583797': '3', 'sub-01152379': '1', 'sub-02086122': '1', 'sub-01673701': '12', 'sub-01892684': '2', 'sub-01795656': '1', 'sub-02097980': '1', 'sub-01015961': '1', 'sub-01797781': '1', 'sub-02145747': '1', 'sub-01395836': '12', 'sub-01707275': '1', 'sub-02120805': '1', 'sub-01695094': '12', 'sub-01551183': '6', 'sub-01391984': '1', 'sub-01924997': '12', 'sub-01695930': '2', 'sub-01220269': '1', 'sub-01190670': '1', 'sub-01122863': '12', 'sub-01852952': '3', 'sub-02014467': '1', 'sub-01660211': '2', 'sub-02145605': '1', 'sub-01109318': '12', 'sub-02075769': '23', 'sub-01710310': '1', 'sub-01805334': '1', 'sub-01908576': '23', 'sub-01521835': '1', 'sub-02119444': '1', 'sub-01483526': '1', 'sub-01231700': '1', 'sub-01479403': '1', 'sub-01456959': '1', 'sub-02188930': '12', 'sub-01022787': '18', 'sub-02014068': '12', 'sub-02168956': '18', 'sub-01243841': '1', 'sub-01946372': '11', 'sub-01055292': '1', 'sub-01514331': '2', 'sub-01150136': '1', 'sub-02164825': '15', 'sub-02090905': '1', 'sub-01696845': '1', 'sub-01883957': '1', 'sub-02128777': '1', 'sub-02122538': '1', 'sub-02021781': '10', 'sub-01729917': '1', 'sub-01674416': '1', 'sub-01695080': '9', 'sub-01936520': '1', 'sub-02155605': '1', 'sub-01789555': '2', 'sub-90001992': '3', 'sub-02163033': '12', 'sub-01953116': '23', 'sub-02047436': '23', 'sub-01861511': '23', 'sub-01661279': '12', 'sub-01521599': '1', 'sub-01164986': '12', 'sub-01696904': '1', 'sub-01616767': '1', 'sub-01961566': '1', 'sub-01804484': '1', 'sub-01409764': '1', 'sub-01204563': '1', 'sub-02096374': '1', 'sub-01005630': '1', 'sub-02137073': '6', 'sub-02199356': '1', 'sub-01196057': '1', 'sub-01331487': '1', 'sub-01673666': '1', 'sub-01130173': '12', 'sub-01819252': '12', 'sub-02073198': '11', 'sub-01377175': '1', 'sub-02026964': '1', 'sub-02183443': '1', 'sub-01201482': '1', 'sub-02036130': '1', 'sub-01830168': '12', 'sub-01755816': '1', 'sub-01041137': '12', 'sub-01981993': '1', 'sub-01370265': '12', 'sub-02095303': '1', 'sub-01874079': '2', 'sub-01545797': '19', 'sub-02014685': '2', 'sub-90005031': '12', 'sub-01478990': '12', 'sub-01958155': '2', 'sub-02197114': '1', 'sub-01990699': '2', 'sub-01762556': '12', 'sub-01205171': '2', 'sub-02071305': '1', 'sub-01199093': '16', 'sub-01569328': '15', 'sub-01616246': '8', 'sub-95001254': '1', 'sub-01607473': '1', 'sub-01549022': '1', 'sub-01214172': '6', 'sub-01190738': '1', 'sub-02036053': '23', 'sub-01718213': '1', 'sub-01792136': '1', 'sub-01087386': '1', 'sub-01979317': '1', 'sub-01518885': '2', 'sub-01881784': '1', 'sub-02179132': '1', 'sub-01619086': '1', 'sub-02094837': '1', 'sub-01933711': '9', 'sub-02135803': '12', 'sub-02035864': '23', 'sub-01798755': '12', 'sub-01961554': '1', 'sub-01497790': '1', 'sub-01458719': '2', 'sub-01499528': '5', 'sub-02070580': '5', 'sub-01393875': '1', 'sub-02084961': '1', 'sub-01362907': '1', 'sub-02015335': '1', 'sub-01695173': '12', 'sub-01437004': '11', 'sub-99000041': '24', 'sub-01083248': '12', 'sub-01609293': '5', 'sub-01288036': '1', 'sub-01410235': '1', 'sub-01864584': '1', 'sub-02038513': '1', 'sub-02167890': '11', 'sub-01400779': '3'}\n",
      "{'sub-01205745': 12, 'sub-01288350': 19, 'sub-01125016': 11, 'sub-02184584': 1, 'sub-02146286': 1, 'sub-01710250': 1, 'sub-01686968': 1, 'sub-01025630': 1, 'sub-02055312': 1, 'sub-01281168': 12, 'sub-01314225': 1, 'sub-02178883': 1, 'sub-02127770': 2, 'sub-02154718': 1, 'sub-80011453': 2, 'sub-02139997': 1, 'sub-01515235': 12, 'sub-01381621': 3, 'sub-02148372': 3, 'sub-01311383': 1, 'sub-01005097': 1, 'sub-93003757': 3, 'sub-01038520': 1, 'sub-01771120': 1, 'sub-01309950': 19, 'sub-01677324': 12, 'sub-02174928': 2, 'sub-01307298': 1, 'sub-01117958': 1, 'sub-01587295': 3, 'sub-01421533': 1, 'sub-01732889': 1, 'sub-01398968': 1, 'sub-02124336': 1, 'sub-01071055': 3, 'sub-01147272': 1, 'sub-02095181': 13, 'sub-93002557': 19, 'sub-01947074': 19, 'sub-01484016': 12, 'sub-01895825': 12, 'sub-01773716': 1, 'sub-01505384': 12, 'sub-01565091': 19, 'sub-02015730': 1, 'sub-01432274': 12, 'sub-01942928': 2, 'sub-01288245': 3, 'sub-01373833': 1, 'sub-01450871': 1, 'sub-02137062': 1, 'sub-01882333': 1, 'sub-01652130': 12, 'sub-02134991': 1, 'sub-01698789': 3, 'sub-01465229': 1, 'sub-01321873': 1, 'sub-02167792': 1, 'sub-01241505': 1, 'sub-01496804': 12, 'sub-01936903': 2, 'sub-01952689': 12, 'sub-90003562': 1, 'sub-01572564': 19, 'sub-01335279': 1, 'sub-01957247': 19, 'sub-01713022': 12, 'sub-02209727': 1, 'sub-01699532': 12, 'sub-02071087': 1, 'sub-02185066': 3, 'sub-01056598': 12, 'sub-01502083': 3, 'sub-02071509': 1, 'sub-01072344': 11, 'sub-02094355': 12, 'sub-01978091': 1, 'sub-01207036': 3, 'sub-01668785': 2, 'sub-02105939': 1, 'sub-01969755': 1, 'sub-01870024': 2, 'sub-01943022': 12, 'sub-02116290': 1, 'sub-01106844': 1, 'sub-02119712': 1, 'sub-02092748': 1, 'sub-01513891': 1, 'sub-01164049': 2, 'sub-02181503': 1, 'sub-01483116': 19, 'sub-01461078': 3, 'sub-02115365': 1, 'sub-01997658': 1, 'sub-02136965': 1, 'sub-01957841': 27, 'sub-01098043': 1, 'sub-01960441': 13, 'sub-01189050': 2, 'sub-90003334': 1, 'sub-01455312': 1, 'sub-01921604': 3, 'sub-02082498': 1, 'sub-01213140': 19, 'sub-01573094': 1, 'sub-02196769': 12, 'sub-02106388': 1, 'sub-01104996': 1, 'sub-01064662': 3, 'sub-01261127': 11, 'sub-01589112': 11, 'sub-01358619': 1, 'sub-01119720': 12, 'sub-01349100': 12, 'sub-02010452': 1, 'sub-01812578': 2, 'sub-01659187': 1, 'sub-02190005': 26, 'sub-01384142': 12, 'sub-01906150': 12, 'sub-02080563': 1, 'sub-02011152': 1, 'sub-01979997': 3, 'sub-01763867': 1, 'sub-01641960': 1, 'sub-01405609': 12, 'sub-01717958': 1, 'sub-01562247': 3, 'sub-01018613': 1, 'sub-01431720': 1, 'sub-01188297': 2, 'sub-01056884': 19, 'sub-96004436': 1, 'sub-02020631': 12, 'sub-01009590': 1, 'sub-02036251': 12, 'sub-01216717': 19, 'sub-01415245': 12, 'sub-01946271': 19, 'sub-01982853': 1, 'sub-01117914': 1, 'sub-01621161': 1, 'sub-01779701': 1, 'sub-01108350': 19, 'sub-01021993': 3, 'sub-02153522': 1, 'sub-01414189': 1, 'sub-01764802': 1, 'sub-02173158': 1, 'sub-01433377': 1, 'sub-01423083': 1, 'sub-02095961': 1, 'sub-02074050': 1, 'sub-02172137': 1, 'sub-96003928': 1, 'sub-02066445': 12, 'sub-01548397': 2, 'sub-01707721': 1, 'sub-90005297': 1, 'sub-02142561': 1, 'sub-01486069': 2, 'sub-02152734': 12, 'sub-02082001': 1, 'sub-01781732': 3, 'sub-02063398': 3, 'sub-01681275': 1, 'sub-01744565': 1, 'sub-01414540': 1, 'sub-02031868': 1, 'sub-01494236': 1, 'sub-01935938': 1, 'sub-01501379': 1, 'sub-02100576': 1, 'sub-02172003': 1, 'sub-01340749': 12, 'sub-02089657': 1, 'sub-01543367': 1, 'sub-02020169': 1, 'sub-02132336': 3, 'sub-01288896': 1, 'sub-02190209': 2, 'sub-01600788': 2, 'sub-02018743': 1, 'sub-01434869': 1, 'sub-02120806': 3, 'sub-01885520': 19, 'sub-01985065': 3, 'sub-02019520': 1, 'sub-01650072': 2, 'sub-01703264': 3, 'sub-01670714': 12, 'sub-02070903': 1, 'sub-01792771': 12, 'sub-01131702': 1, 'sub-01483723': 1, 'sub-02070606': 1, 'sub-01691369': 1, 'sub-01840035': 12, 'sub-02138280': 1, 'sub-01214417': 2, 'sub-01419998': 19, 'sub-01812518': 1, 'sub-01732456': 1, 'sub-01021714': 1, 'sub-02126982': 19, 'sub-02012594': 19, 'sub-01516618': 2, 'sub-01498464': 12, 'sub-01578955': 12, 'sub-01596127': 1, 'sub-01031243': 2, 'sub-02115377': 1, 'sub-01402283': 1, 'sub-01332588': 1, 'sub-01138456': 1, 'sub-02090169': 1, 'sub-01547588': 1, 'sub-02177752': 1, 'sub-01876862': 11, 'sub-01657294': 12, 'sub-01882989': 12, 'sub-01709242': 1, 'sub-01706562': 1, 'sub-01649133': 1, 'sub-01373703': 3, 'sub-01494733': 1, 'sub-01530724': 12, 'sub-01924748': 1, 'sub-01496608': 12, 'sub-01006290': 2, 'sub-01377261': 1, 'sub-02088565': 2, 'sub-01274157': 1, 'sub-01854308': 1, 'sub-01443624': 11, 'sub-02036854': 1, 'sub-01390721': 3, 'sub-01492604': 13, 'sub-02064363': 1, 'sub-02087023': 1, 'sub-02015217': 1, 'sub-01391534': 1, 'sub-01914558': 1, 'sub-01269967': 1, 'sub-01099901': 19, 'sub-01134825': 1, 'sub-01492723': 12, 'sub-01441531': 12, 'sub-01594137': 1, 'sub-01666008': 11, 'sub-01592849': 1, 'sub-01262362': 1, 'sub-01769144': 11, 'sub-01796937': 1, 'sub-01905848': 2, 'sub-80004059': 1, 'sub-88000225': 1, 'sub-01890298': 1, 'sub-02085355': 1, 'sub-01835095': 3, 'sub-01452858': 19, 'sub-02073121': 1, 'sub-01705952': 1, 'sub-02110064': 1, 'sub-01699419': 12, 'sub-01457167': 1, 'sub-02113718': 1, 'sub-02094018': 1, 'sub-02104370': 1, 'sub-02063986': 13, 'sub-01871625': 1, 'sub-02019676': 1, 'sub-01879950': 19, 'sub-02131818': 1, 'sub-01991292': 12, 'sub-01420310': 2, 'sub-01584596': 12, 'sub-02063373': 1, 'sub-02145870': 1, 'sub-01966470': 13, 'sub-02197683': 12, 'sub-02026140': 1, 'sub-01713725': 12, 'sub-02031256': 12, 'sub-01542729': 1, 'sub-01480742': 1, 'sub-01654658': 1, 'sub-01801060': 2, 'sub-01713570': 1, 'sub-01425882': 19, 'sub-01435731': 2, 'sub-02140670': 12, 'sub-01706146': 12, 'sub-02090355': 1, 'sub-01983233': 1, 'sub-01456719': 1, 'sub-01905692': 3, 'sub-02113470': 12, 'sub-01410317': 1, 'sub-02046093': 1, 'sub-02145622': 2, 'sub-01476909': 11, 'sub-02034046': 12, 'sub-01169240': 1, 'sub-02165732': 1, 'sub-01251946': 12, 'sub-01893873': 13, 'sub-01357275': 13, 'sub-01760947': 12, 'sub-01605537': 1, 'sub-01516702': 1, 'sub-01040149': 19, 'sub-01130856': 28, 'sub-01111974': 1, 'sub-01550202': 1, 'sub-01489395': 3, 'sub-02088404': 1, 'sub-02000864': 1, 'sub-01702596': 3, 'sub-01387984': 1, 'sub-01201117': 2, 'sub-01754011': 1, 'sub-02051037': 1, 'sub-02066389': 19, 'sub-01583797': 3, 'sub-01152379': 1, 'sub-02086122': 1, 'sub-01673701': 12, 'sub-01892684': 2, 'sub-01795656': 1, 'sub-02097980': 1, 'sub-01015961': 1, 'sub-01797781': 1, 'sub-02145747': 1, 'sub-01395836': 12, 'sub-01707275': 1, 'sub-02120805': 1, 'sub-01695094': 12, 'sub-01551183': 3, 'sub-01391984': 1, 'sub-01924997': 12, 'sub-01695930': 2, 'sub-01220269': 1, 'sub-01190670': 1, 'sub-01122863': 12, 'sub-01852952': 3, 'sub-02014467': 1, 'sub-01660211': 2, 'sub-02145605': 1, 'sub-01109318': 12, 'sub-02075769': 19, 'sub-01710310': 1, 'sub-01805334': 1, 'sub-01908576': 19, 'sub-01521835': 1, 'sub-02119444': 1, 'sub-01483526': 1, 'sub-01231700': 1, 'sub-01479403': 1, 'sub-01456959': 1, 'sub-02188930': 12, 'sub-01022787': 13, 'sub-02014068': 12, 'sub-02168956': 13, 'sub-01243841': 1, 'sub-01946372': 11, 'sub-01055292': 1, 'sub-01514331': 2, 'sub-01150136': 1, 'sub-02164825': 13, 'sub-02090905': 1, 'sub-01696845': 1, 'sub-01883957': 1, 'sub-02128777': 1, 'sub-02122538': 1, 'sub-02021781': 3, 'sub-01729917': 1, 'sub-01674416': 1, 'sub-01695080': 3, 'sub-01936520': 1, 'sub-02155605': 1, 'sub-01789555': 2, 'sub-90001992': 3, 'sub-02163033': 12, 'sub-01953116': 19, 'sub-02047436': 19, 'sub-01861511': 19, 'sub-01661279': 12, 'sub-01521599': 1, 'sub-01164986': 12, 'sub-01696904': 1, 'sub-01616767': 1, 'sub-01961566': 1, 'sub-01804484': 1, 'sub-01409764': 1, 'sub-01204563': 1, 'sub-02096374': 1, 'sub-01005630': 1, 'sub-02137073': 3, 'sub-02199356': 1, 'sub-01196057': 1, 'sub-01331487': 1, 'sub-01673666': 1, 'sub-01130173': 12, 'sub-01819252': 12, 'sub-02073198': 11, 'sub-01377175': 1, 'sub-02026964': 1, 'sub-02183443': 1, 'sub-01201482': 1, 'sub-02036130': 1, 'sub-01830168': 12, 'sub-01755816': 1, 'sub-01041137': 12, 'sub-01981993': 1, 'sub-01370265': 12, 'sub-02095303': 1, 'sub-01874079': 2, 'sub-01545797': 19, 'sub-02014685': 2, 'sub-90005031': 12, 'sub-01478990': 12, 'sub-01958155': 2, 'sub-02197114': 1, 'sub-01990699': 2, 'sub-01762556': 12, 'sub-01205171': 2, 'sub-02071305': 1, 'sub-01199093': 13, 'sub-01569328': 13, 'sub-01616246': 3, 'sub-95001254': 1, 'sub-01607473': 1, 'sub-01549022': 1, 'sub-01214172': 3, 'sub-01190738': 1, 'sub-02036053': 19, 'sub-01718213': 1, 'sub-01792136': 1, 'sub-01087386': 1, 'sub-01979317': 1, 'sub-01518885': 2, 'sub-01881784': 1, 'sub-02179132': 1, 'sub-01619086': 1, 'sub-02094837': 1, 'sub-01933711': 3, 'sub-02135803': 12, 'sub-02035864': 19, 'sub-01798755': 12, 'sub-01961554': 1, 'sub-01497790': 1, 'sub-01458719': 2, 'sub-01499528': 3, 'sub-02070580': 3, 'sub-01393875': 1, 'sub-02084961': 1, 'sub-01362907': 1, 'sub-02015335': 1, 'sub-01695173': 12, 'sub-01437004': 11, 'sub-99000041': 19, 'sub-01083248': 12, 'sub-01609293': 3, 'sub-01288036': 1, 'sub-01410235': 1, 'sub-01864584': 1, 'sub-02038513': 1, 'sub-02167890': 11, 'sub-01400779': 3}\n",
      "\n",
      "Return Specific Primaries Dict Function output:\n",
      "{'sub-01205745': 102, 'sub-01288350': 105, 'sub-01125016': 11, 'sub-02184584': 101, 'sub-02146286': 101, 'sub-01710250': 101, 'sub-01686968': 101, 'sub-01025630': 101, 'sub-02055312': 101, 'sub-01281168': 102, 'sub-01314225': 101, 'sub-02178883': 101, 'sub-02127770': 103, 'sub-02154718': 101, 'sub-80011453': 103, 'sub-02139997': 101, 'sub-01515235': 102, 'sub-01381621': 104, 'sub-02148372': 104, 'sub-01311383': 101, 'sub-01005097': 101, 'sub-93003757': 104, 'sub-01038520': 101, 'sub-01771120': 101, 'sub-01309950': 105, 'sub-01677324': 102, 'sub-02174928': 103, 'sub-01307298': 101, 'sub-01117958': 101, 'sub-01587295': 104, 'sub-01421533': 101, 'sub-01732889': 101, 'sub-01398968': 101, 'sub-02124336': 101, 'sub-01071055': 104, 'sub-01147272': 101, 'sub-02095181': 13, 'sub-93002557': 105, 'sub-01947074': 105, 'sub-01484016': 102, 'sub-01895825': 102, 'sub-01773716': 101, 'sub-01505384': 102, 'sub-01565091': 105, 'sub-02015730': 101, 'sub-01432274': 102, 'sub-01942928': 103, 'sub-01288245': 104, 'sub-01373833': 101, 'sub-01450871': 101, 'sub-02137062': 101, 'sub-01882333': 101, 'sub-01652130': 102, 'sub-02134991': 101, 'sub-01698789': 104, 'sub-01465229': 101, 'sub-01321873': 101, 'sub-02167792': 101, 'sub-01241505': 101, 'sub-01496804': 102, 'sub-01936903': 103, 'sub-01952689': 102, 'sub-90003562': 101, 'sub-01572564': 105, 'sub-01335279': 101, 'sub-01957247': 105, 'sub-01713022': 102, 'sub-02209727': 101, 'sub-01699532': 102, 'sub-02071087': 101, 'sub-02185066': 104, 'sub-01056598': 102, 'sub-01502083': 104, 'sub-02071509': 101, 'sub-01072344': 11, 'sub-02094355': 102, 'sub-01978091': 101, 'sub-01207036': 104, 'sub-01668785': 103, 'sub-02105939': 101, 'sub-01969755': 101, 'sub-01870024': 103, 'sub-01943022': 102, 'sub-02116290': 101, 'sub-01106844': 101, 'sub-02119712': 101, 'sub-02092748': 101, 'sub-01513891': 101, 'sub-01164049': 103, 'sub-02181503': 101, 'sub-01483116': 105, 'sub-01461078': 104, 'sub-02115365': 101, 'sub-01997658': 101, 'sub-02136965': 101, 'sub-01957841': 27, 'sub-01098043': 101, 'sub-01960441': 13, 'sub-01189050': 103, 'sub-90003334': 101, 'sub-01455312': 101, 'sub-01921604': 104, 'sub-02082498': 101, 'sub-01213140': 105, 'sub-01573094': 101, 'sub-02196769': 102, 'sub-02106388': 101, 'sub-01104996': 101, 'sub-01064662': 104, 'sub-01261127': 11, 'sub-01589112': 11, 'sub-01358619': 101, 'sub-01119720': 102, 'sub-01349100': 102, 'sub-02010452': 101, 'sub-01812578': 103, 'sub-01659187': 101, 'sub-02190005': 26, 'sub-01384142': 102, 'sub-01906150': 102, 'sub-02080563': 101, 'sub-02011152': 101, 'sub-01979997': 104, 'sub-01763867': 101, 'sub-01641960': 101, 'sub-01405609': 102, 'sub-01717958': 101, 'sub-01562247': 104, 'sub-01018613': 101, 'sub-01431720': 101, 'sub-01188297': 103, 'sub-01056884': 105, 'sub-96004436': 101, 'sub-02020631': 102, 'sub-01009590': 101, 'sub-02036251': 102, 'sub-01216717': 105, 'sub-01415245': 102, 'sub-01946271': 105, 'sub-01982853': 101, 'sub-01117914': 101, 'sub-01621161': 101, 'sub-01779701': 101, 'sub-01108350': 105, 'sub-01021993': 104, 'sub-02153522': 101, 'sub-01414189': 101, 'sub-01764802': 101, 'sub-02173158': 101, 'sub-01433377': 101, 'sub-01423083': 101, 'sub-02095961': 101, 'sub-02074050': 101, 'sub-02172137': 101, 'sub-96003928': 101, 'sub-02066445': 102, 'sub-01548397': 103, 'sub-01707721': 101, 'sub-90005297': 101, 'sub-02142561': 101, 'sub-01486069': 103, 'sub-02152734': 102, 'sub-02082001': 101, 'sub-01781732': 104, 'sub-02063398': 104, 'sub-01681275': 101, 'sub-01744565': 101, 'sub-01414540': 101, 'sub-02031868': 101, 'sub-01494236': 101, 'sub-01935938': 101, 'sub-01501379': 101, 'sub-02100576': 101, 'sub-02172003': 101, 'sub-01340749': 102, 'sub-02089657': 101, 'sub-01543367': 101, 'sub-02020169': 101, 'sub-02132336': 104, 'sub-01288896': 101, 'sub-02190209': 103, 'sub-01600788': 103, 'sub-02018743': 101, 'sub-01434869': 101, 'sub-02120806': 104, 'sub-01885520': 105, 'sub-01985065': 104, 'sub-02019520': 101, 'sub-01650072': 103, 'sub-01703264': 104, 'sub-01670714': 102, 'sub-02070903': 101, 'sub-01792771': 102, 'sub-01131702': 101, 'sub-01483723': 101, 'sub-02070606': 101, 'sub-01691369': 101, 'sub-01840035': 102, 'sub-02138280': 101, 'sub-01214417': 103, 'sub-01419998': 105, 'sub-01812518': 101, 'sub-01732456': 101, 'sub-01021714': 101, 'sub-02126982': 105, 'sub-02012594': 105, 'sub-01516618': 103, 'sub-01498464': 102, 'sub-01578955': 102, 'sub-01596127': 101, 'sub-01031243': 103, 'sub-02115377': 101, 'sub-01402283': 101, 'sub-01332588': 101, 'sub-01138456': 101, 'sub-02090169': 101, 'sub-01547588': 101, 'sub-02177752': 101, 'sub-01876862': 11, 'sub-01657294': 102, 'sub-01882989': 102, 'sub-01709242': 101, 'sub-01706562': 101, 'sub-01649133': 101, 'sub-01373703': 104, 'sub-01494733': 101, 'sub-01530724': 102, 'sub-01924748': 101, 'sub-01496608': 102, 'sub-01006290': 103, 'sub-01377261': 101, 'sub-02088565': 103, 'sub-01274157': 101, 'sub-01854308': 101, 'sub-01443624': 11, 'sub-02036854': 101, 'sub-01390721': 104, 'sub-01492604': 13, 'sub-02064363': 101, 'sub-02087023': 101, 'sub-02015217': 101, 'sub-01391534': 101, 'sub-01914558': 101, 'sub-01269967': 101, 'sub-01099901': 105, 'sub-01134825': 101, 'sub-01492723': 102, 'sub-01441531': 102, 'sub-01594137': 101, 'sub-01666008': 11, 'sub-01592849': 101, 'sub-01262362': 101, 'sub-01769144': 11, 'sub-01796937': 101, 'sub-01905848': 103, 'sub-80004059': 101, 'sub-88000225': 101, 'sub-01890298': 101, 'sub-02085355': 101, 'sub-01835095': 104, 'sub-01452858': 105, 'sub-02073121': 101, 'sub-01705952': 101, 'sub-02110064': 101, 'sub-01699419': 102, 'sub-01457167': 101, 'sub-02113718': 101, 'sub-02094018': 101, 'sub-02104370': 101, 'sub-02063986': 13, 'sub-01871625': 101, 'sub-02019676': 101, 'sub-01879950': 105, 'sub-02131818': 101, 'sub-01991292': 102, 'sub-01420310': 103, 'sub-01584596': 102, 'sub-02063373': 101, 'sub-02145870': 101, 'sub-01966470': 13, 'sub-02197683': 102, 'sub-02026140': 101, 'sub-01713725': 102, 'sub-02031256': 102, 'sub-01542729': 101, 'sub-01480742': 101, 'sub-01654658': 101, 'sub-01801060': 103, 'sub-01713570': 101, 'sub-01425882': 105, 'sub-01435731': 103, 'sub-02140670': 102, 'sub-01706146': 102, 'sub-02090355': 101, 'sub-01983233': 101, 'sub-01456719': 101, 'sub-01905692': 104, 'sub-02113470': 102, 'sub-01410317': 101, 'sub-02046093': 101, 'sub-02145622': 103, 'sub-01476909': 11, 'sub-02034046': 102, 'sub-01169240': 101, 'sub-02165732': 101, 'sub-01251946': 102, 'sub-01893873': 13, 'sub-01357275': 13, 'sub-01760947': 102, 'sub-01605537': 101, 'sub-01516702': 101, 'sub-01040149': 105, 'sub-01130856': 28, 'sub-01111974': 101, 'sub-01550202': 101, 'sub-01489395': 104, 'sub-02088404': 101, 'sub-02000864': 101, 'sub-01702596': 104, 'sub-01387984': 101, 'sub-01201117': 103, 'sub-01754011': 101, 'sub-02051037': 101, 'sub-02066389': 105, 'sub-01583797': 104, 'sub-01152379': 101, 'sub-02086122': 101, 'sub-01673701': 102, 'sub-01892684': 103, 'sub-01795656': 101, 'sub-02097980': 101, 'sub-01015961': 101, 'sub-01797781': 101, 'sub-02145747': 101, 'sub-01395836': 102, 'sub-01707275': 101, 'sub-02120805': 101, 'sub-01695094': 102, 'sub-01551183': 104, 'sub-01391984': 101, 'sub-01924997': 102, 'sub-01695930': 103, 'sub-01220269': 101, 'sub-01190670': 101, 'sub-01122863': 102, 'sub-01852952': 104, 'sub-02014467': 101, 'sub-01660211': 103, 'sub-02145605': 101, 'sub-01109318': 102, 'sub-02075769': 105, 'sub-01710310': 101, 'sub-01805334': 101, 'sub-01908576': 105, 'sub-01521835': 101, 'sub-02119444': 101, 'sub-01483526': 101, 'sub-01231700': 101, 'sub-01479403': 101, 'sub-01456959': 101, 'sub-02188930': 102, 'sub-01022787': 13, 'sub-02014068': 102, 'sub-02168956': 13, 'sub-01243841': 101, 'sub-01946372': 11, 'sub-01055292': 101, 'sub-01514331': 103, 'sub-01150136': 101, 'sub-02164825': 13, 'sub-02090905': 101, 'sub-01696845': 101, 'sub-01883957': 101, 'sub-02128777': 101, 'sub-02122538': 101, 'sub-02021781': 104, 'sub-01729917': 101, 'sub-01674416': 101, 'sub-01695080': 104, 'sub-01936520': 101, 'sub-02155605': 101, 'sub-01789555': 103, 'sub-90001992': 104, 'sub-02163033': 102, 'sub-01953116': 105, 'sub-02047436': 105, 'sub-01861511': 105, 'sub-01661279': 102, 'sub-01521599': 101, 'sub-01164986': 102, 'sub-01696904': 101, 'sub-01616767': 101, 'sub-01961566': 101, 'sub-01804484': 101, 'sub-01409764': 101, 'sub-01204563': 101, 'sub-02096374': 101, 'sub-01005630': 101, 'sub-02137073': 104, 'sub-02199356': 101, 'sub-01196057': 101, 'sub-01331487': 101, 'sub-01673666': 101, 'sub-01130173': 102, 'sub-01819252': 102, 'sub-02073198': 11, 'sub-01377175': 101, 'sub-02026964': 101, 'sub-02183443': 101, 'sub-01201482': 101, 'sub-02036130': 101, 'sub-01830168': 102, 'sub-01755816': 101, 'sub-01041137': 102, 'sub-01981993': 101, 'sub-01370265': 102, 'sub-02095303': 101, 'sub-01874079': 103, 'sub-01545797': 105, 'sub-02014685': 103, 'sub-90005031': 102, 'sub-01478990': 102, 'sub-01958155': 103, 'sub-02197114': 101, 'sub-01990699': 103, 'sub-01762556': 102, 'sub-01205171': 103, 'sub-02071305': 101, 'sub-01199093': 13, 'sub-01569328': 13, 'sub-01616246': 104, 'sub-95001254': 101, 'sub-01607473': 101, 'sub-01549022': 101, 'sub-01214172': 104, 'sub-01190738': 101, 'sub-02036053': 105, 'sub-01718213': 101, 'sub-01792136': 101, 'sub-01087386': 101, 'sub-01979317': 101, 'sub-01518885': 103, 'sub-01881784': 101, 'sub-02179132': 101, 'sub-01619086': 101, 'sub-02094837': 101, 'sub-01933711': 104, 'sub-02135803': 102, 'sub-02035864': 105, 'sub-01798755': 102, 'sub-01961554': 101, 'sub-01497790': 101, 'sub-01458719': 103, 'sub-01499528': 104, 'sub-02070580': 104, 'sub-01393875': 101, 'sub-02084961': 101, 'sub-01362907': 101, 'sub-02015335': 101, 'sub-01695173': 102, 'sub-01437004': 11, 'sub-99000041': 105, 'sub-01083248': 102, 'sub-01609293': 104, 'sub-01288036': 101, 'sub-01410235': 101, 'sub-01864584': 101, 'sub-02038513': 101, 'sub-02167890': 11, 'sub-01400779': 104}\n",
      "{'sub-01205745': 102, 'sub-01288350': 105, 'sub-01125016': 0, 'sub-02184584': 101, 'sub-02146286': 101, 'sub-01710250': 101, 'sub-01686968': 101, 'sub-01025630': 101, 'sub-02055312': 101, 'sub-01281168': 102, 'sub-01314225': 101, 'sub-02178883': 101, 'sub-02127770': 103, 'sub-02154718': 101, 'sub-80011453': 103, 'sub-02139997': 101, 'sub-01515235': 102, 'sub-01381621': 104, 'sub-02148372': 104, 'sub-01311383': 101, 'sub-01005097': 101, 'sub-93003757': 104, 'sub-01038520': 101, 'sub-01771120': 101, 'sub-01309950': 105, 'sub-01677324': 102, 'sub-02174928': 103, 'sub-01307298': 101, 'sub-01117958': 101, 'sub-01587295': 104, 'sub-01421533': 101, 'sub-01732889': 101, 'sub-01398968': 101, 'sub-02124336': 101, 'sub-01071055': 104, 'sub-01147272': 101, 'sub-02095181': 0, 'sub-93002557': 105, 'sub-01947074': 105, 'sub-01484016': 102, 'sub-01895825': 102, 'sub-01773716': 101, 'sub-01505384': 102, 'sub-01565091': 105, 'sub-02015730': 101, 'sub-01432274': 102, 'sub-01942928': 103, 'sub-01288245': 104, 'sub-01373833': 101, 'sub-01450871': 101, 'sub-02137062': 101, 'sub-01882333': 101, 'sub-01652130': 102, 'sub-02134991': 101, 'sub-01698789': 104, 'sub-01465229': 101, 'sub-01321873': 101, 'sub-02167792': 101, 'sub-01241505': 101, 'sub-01496804': 102, 'sub-01936903': 103, 'sub-01952689': 102, 'sub-90003562': 101, 'sub-01572564': 105, 'sub-01335279': 101, 'sub-01957247': 105, 'sub-01713022': 102, 'sub-02209727': 101, 'sub-01699532': 102, 'sub-02071087': 101, 'sub-02185066': 104, 'sub-01056598': 102, 'sub-01502083': 104, 'sub-02071509': 101, 'sub-01072344': 0, 'sub-02094355': 102, 'sub-01978091': 101, 'sub-01207036': 104, 'sub-01668785': 103, 'sub-02105939': 101, 'sub-01969755': 101, 'sub-01870024': 103, 'sub-01943022': 102, 'sub-02116290': 101, 'sub-01106844': 101, 'sub-02119712': 101, 'sub-02092748': 101, 'sub-01513891': 101, 'sub-01164049': 103, 'sub-02181503': 101, 'sub-01483116': 105, 'sub-01461078': 104, 'sub-02115365': 101, 'sub-01997658': 101, 'sub-02136965': 101, 'sub-01957841': 0, 'sub-01098043': 101, 'sub-01960441': 0, 'sub-01189050': 103, 'sub-90003334': 101, 'sub-01455312': 101, 'sub-01921604': 104, 'sub-02082498': 101, 'sub-01213140': 105, 'sub-01573094': 101, 'sub-02196769': 102, 'sub-02106388': 101, 'sub-01104996': 101, 'sub-01064662': 104, 'sub-01261127': 0, 'sub-01589112': 0, 'sub-01358619': 101, 'sub-01119720': 102, 'sub-01349100': 102, 'sub-02010452': 101, 'sub-01812578': 103, 'sub-01659187': 101, 'sub-02190005': 0, 'sub-01384142': 102, 'sub-01906150': 102, 'sub-02080563': 101, 'sub-02011152': 101, 'sub-01979997': 104, 'sub-01763867': 101, 'sub-01641960': 101, 'sub-01405609': 102, 'sub-01717958': 101, 'sub-01562247': 104, 'sub-01018613': 101, 'sub-01431720': 101, 'sub-01188297': 103, 'sub-01056884': 105, 'sub-96004436': 101, 'sub-02020631': 102, 'sub-01009590': 101, 'sub-02036251': 102, 'sub-01216717': 105, 'sub-01415245': 102, 'sub-01946271': 105, 'sub-01982853': 101, 'sub-01117914': 101, 'sub-01621161': 101, 'sub-01779701': 101, 'sub-01108350': 105, 'sub-01021993': 104, 'sub-02153522': 101, 'sub-01414189': 101, 'sub-01764802': 101, 'sub-02173158': 101, 'sub-01433377': 101, 'sub-01423083': 101, 'sub-02095961': 101, 'sub-02074050': 101, 'sub-02172137': 101, 'sub-96003928': 101, 'sub-02066445': 102, 'sub-01548397': 103, 'sub-01707721': 101, 'sub-90005297': 101, 'sub-02142561': 101, 'sub-01486069': 103, 'sub-02152734': 102, 'sub-02082001': 101, 'sub-01781732': 104, 'sub-02063398': 104, 'sub-01681275': 101, 'sub-01744565': 101, 'sub-01414540': 101, 'sub-02031868': 101, 'sub-01494236': 101, 'sub-01935938': 101, 'sub-01501379': 101, 'sub-02100576': 101, 'sub-02172003': 101, 'sub-01340749': 102, 'sub-02089657': 101, 'sub-01543367': 101, 'sub-02020169': 101, 'sub-02132336': 104, 'sub-01288896': 101, 'sub-02190209': 103, 'sub-01600788': 103, 'sub-02018743': 101, 'sub-01434869': 101, 'sub-02120806': 104, 'sub-01885520': 105, 'sub-01985065': 104, 'sub-02019520': 101, 'sub-01650072': 103, 'sub-01703264': 104, 'sub-01670714': 102, 'sub-02070903': 101, 'sub-01792771': 102, 'sub-01131702': 101, 'sub-01483723': 101, 'sub-02070606': 101, 'sub-01691369': 101, 'sub-01840035': 102, 'sub-02138280': 101, 'sub-01214417': 103, 'sub-01419998': 105, 'sub-01812518': 101, 'sub-01732456': 101, 'sub-01021714': 101, 'sub-02126982': 105, 'sub-02012594': 105, 'sub-01516618': 103, 'sub-01498464': 102, 'sub-01578955': 102, 'sub-01596127': 101, 'sub-01031243': 103, 'sub-02115377': 101, 'sub-01402283': 101, 'sub-01332588': 101, 'sub-01138456': 101, 'sub-02090169': 101, 'sub-01547588': 101, 'sub-02177752': 101, 'sub-01876862': 0, 'sub-01657294': 102, 'sub-01882989': 102, 'sub-01709242': 101, 'sub-01706562': 101, 'sub-01649133': 101, 'sub-01373703': 104, 'sub-01494733': 101, 'sub-01530724': 102, 'sub-01924748': 101, 'sub-01496608': 102, 'sub-01006290': 103, 'sub-01377261': 101, 'sub-02088565': 103, 'sub-01274157': 101, 'sub-01854308': 101, 'sub-01443624': 0, 'sub-02036854': 101, 'sub-01390721': 104, 'sub-01492604': 0, 'sub-02064363': 101, 'sub-02087023': 101, 'sub-02015217': 101, 'sub-01391534': 101, 'sub-01914558': 101, 'sub-01269967': 101, 'sub-01099901': 105, 'sub-01134825': 101, 'sub-01492723': 102, 'sub-01441531': 102, 'sub-01594137': 101, 'sub-01666008': 0, 'sub-01592849': 101, 'sub-01262362': 101, 'sub-01769144': 0, 'sub-01796937': 101, 'sub-01905848': 103, 'sub-80004059': 101, 'sub-88000225': 101, 'sub-01890298': 101, 'sub-02085355': 101, 'sub-01835095': 104, 'sub-01452858': 105, 'sub-02073121': 101, 'sub-01705952': 101, 'sub-02110064': 101, 'sub-01699419': 102, 'sub-01457167': 101, 'sub-02113718': 101, 'sub-02094018': 101, 'sub-02104370': 101, 'sub-02063986': 0, 'sub-01871625': 101, 'sub-02019676': 101, 'sub-01879950': 105, 'sub-02131818': 101, 'sub-01991292': 102, 'sub-01420310': 103, 'sub-01584596': 102, 'sub-02063373': 101, 'sub-02145870': 101, 'sub-01966470': 0, 'sub-02197683': 102, 'sub-02026140': 101, 'sub-01713725': 102, 'sub-02031256': 102, 'sub-01542729': 101, 'sub-01480742': 101, 'sub-01654658': 101, 'sub-01801060': 103, 'sub-01713570': 101, 'sub-01425882': 105, 'sub-01435731': 103, 'sub-02140670': 102, 'sub-01706146': 102, 'sub-02090355': 101, 'sub-01983233': 101, 'sub-01456719': 101, 'sub-01905692': 104, 'sub-02113470': 102, 'sub-01410317': 101, 'sub-02046093': 101, 'sub-02145622': 103, 'sub-01476909': 0, 'sub-02034046': 102, 'sub-01169240': 101, 'sub-02165732': 101, 'sub-01251946': 102, 'sub-01893873': 0, 'sub-01357275': 0, 'sub-01760947': 102, 'sub-01605537': 101, 'sub-01516702': 101, 'sub-01040149': 105, 'sub-01130856': 0, 'sub-01111974': 101, 'sub-01550202': 101, 'sub-01489395': 104, 'sub-02088404': 101, 'sub-02000864': 101, 'sub-01702596': 104, 'sub-01387984': 101, 'sub-01201117': 103, 'sub-01754011': 101, 'sub-02051037': 101, 'sub-02066389': 105, 'sub-01583797': 104, 'sub-01152379': 101, 'sub-02086122': 101, 'sub-01673701': 102, 'sub-01892684': 103, 'sub-01795656': 101, 'sub-02097980': 101, 'sub-01015961': 101, 'sub-01797781': 101, 'sub-02145747': 101, 'sub-01395836': 102, 'sub-01707275': 101, 'sub-02120805': 101, 'sub-01695094': 102, 'sub-01551183': 104, 'sub-01391984': 101, 'sub-01924997': 102, 'sub-01695930': 103, 'sub-01220269': 101, 'sub-01190670': 101, 'sub-01122863': 102, 'sub-01852952': 104, 'sub-02014467': 101, 'sub-01660211': 103, 'sub-02145605': 101, 'sub-01109318': 102, 'sub-02075769': 105, 'sub-01710310': 101, 'sub-01805334': 101, 'sub-01908576': 105, 'sub-01521835': 101, 'sub-02119444': 101, 'sub-01483526': 101, 'sub-01231700': 101, 'sub-01479403': 101, 'sub-01456959': 101, 'sub-02188930': 102, 'sub-01022787': 0, 'sub-02014068': 102, 'sub-02168956': 0, 'sub-01243841': 101, 'sub-01946372': 0, 'sub-01055292': 101, 'sub-01514331': 103, 'sub-01150136': 101, 'sub-02164825': 0, 'sub-02090905': 101, 'sub-01696845': 101, 'sub-01883957': 101, 'sub-02128777': 101, 'sub-02122538': 101, 'sub-02021781': 104, 'sub-01729917': 101, 'sub-01674416': 101, 'sub-01695080': 104, 'sub-01936520': 101, 'sub-02155605': 101, 'sub-01789555': 103, 'sub-90001992': 104, 'sub-02163033': 102, 'sub-01953116': 105, 'sub-02047436': 105, 'sub-01861511': 105, 'sub-01661279': 102, 'sub-01521599': 101, 'sub-01164986': 102, 'sub-01696904': 101, 'sub-01616767': 101, 'sub-01961566': 101, 'sub-01804484': 101, 'sub-01409764': 101, 'sub-01204563': 101, 'sub-02096374': 101, 'sub-01005630': 101, 'sub-02137073': 104, 'sub-02199356': 101, 'sub-01196057': 101, 'sub-01331487': 101, 'sub-01673666': 101, 'sub-01130173': 102, 'sub-01819252': 102, 'sub-02073198': 0, 'sub-01377175': 101, 'sub-02026964': 101, 'sub-02183443': 101, 'sub-01201482': 101, 'sub-02036130': 101, 'sub-01830168': 102, 'sub-01755816': 101, 'sub-01041137': 102, 'sub-01981993': 101, 'sub-01370265': 102, 'sub-02095303': 101, 'sub-01874079': 103, 'sub-01545797': 105, 'sub-02014685': 103, 'sub-90005031': 102, 'sub-01478990': 102, 'sub-01958155': 103, 'sub-02197114': 101, 'sub-01990699': 103, 'sub-01762556': 102, 'sub-01205171': 103, 'sub-02071305': 101, 'sub-01199093': 0, 'sub-01569328': 0, 'sub-01616246': 104, 'sub-95001254': 101, 'sub-01607473': 101, 'sub-01549022': 101, 'sub-01214172': 104, 'sub-01190738': 101, 'sub-02036053': 105, 'sub-01718213': 101, 'sub-01792136': 101, 'sub-01087386': 101, 'sub-01979317': 101, 'sub-01518885': 103, 'sub-01881784': 101, 'sub-02179132': 101, 'sub-01619086': 101, 'sub-02094837': 101, 'sub-01933711': 104, 'sub-02135803': 102, 'sub-02035864': 105, 'sub-01798755': 102, 'sub-01961554': 101, 'sub-01497790': 101, 'sub-01458719': 103, 'sub-01499528': 104, 'sub-02070580': 104, 'sub-01393875': 101, 'sub-02084961': 101, 'sub-01362907': 101, 'sub-02015335': 101, 'sub-01695173': 102, 'sub-01437004': 0, 'sub-99000041': 105, 'sub-01083248': 102, 'sub-01609293': 104, 'sub-01288036': 101, 'sub-01410235': 101, 'sub-01864584': 101, 'sub-02038513': 101, 'sub-02167890': 0, 'sub-01400779': 104}\n",
      "{'sub-01205745': 2, 'sub-01288350': 5, 'sub-01125016': 0, 'sub-02184584': 1, 'sub-02146286': 1, 'sub-01710250': 1, 'sub-01686968': 1, 'sub-01025630': 1, 'sub-02055312': 1, 'sub-01281168': 2, 'sub-01314225': 1, 'sub-02178883': 1, 'sub-02127770': 3, 'sub-02154718': 1, 'sub-80011453': 3, 'sub-02139997': 1, 'sub-01515235': 2, 'sub-01381621': 4, 'sub-02148372': 4, 'sub-01311383': 1, 'sub-01005097': 1, 'sub-93003757': 4, 'sub-01038520': 1, 'sub-01771120': 1, 'sub-01309950': 5, 'sub-01677324': 2, 'sub-02174928': 3, 'sub-01307298': 1, 'sub-01117958': 1, 'sub-01587295': 4, 'sub-01421533': 1, 'sub-01732889': 1, 'sub-01398968': 1, 'sub-02124336': 1, 'sub-01071055': 4, 'sub-01147272': 1, 'sub-02095181': 0, 'sub-93002557': 5, 'sub-01947074': 5, 'sub-01484016': 2, 'sub-01895825': 2, 'sub-01773716': 1, 'sub-01505384': 2, 'sub-01565091': 5, 'sub-02015730': 1, 'sub-01432274': 2, 'sub-01942928': 3, 'sub-01288245': 4, 'sub-01373833': 1, 'sub-01450871': 1, 'sub-02137062': 1, 'sub-01882333': 1, 'sub-01652130': 2, 'sub-02134991': 1, 'sub-01698789': 4, 'sub-01465229': 1, 'sub-01321873': 1, 'sub-02167792': 1, 'sub-01241505': 1, 'sub-01496804': 2, 'sub-01936903': 3, 'sub-01952689': 2, 'sub-90003562': 1, 'sub-01572564': 5, 'sub-01335279': 1, 'sub-01957247': 5, 'sub-01713022': 2, 'sub-02209727': 1, 'sub-01699532': 2, 'sub-02071087': 1, 'sub-02185066': 4, 'sub-01056598': 2, 'sub-01502083': 4, 'sub-02071509': 1, 'sub-01072344': 0, 'sub-02094355': 2, 'sub-01978091': 1, 'sub-01207036': 4, 'sub-01668785': 3, 'sub-02105939': 1, 'sub-01969755': 1, 'sub-01870024': 3, 'sub-01943022': 2, 'sub-02116290': 1, 'sub-01106844': 1, 'sub-02119712': 1, 'sub-02092748': 1, 'sub-01513891': 1, 'sub-01164049': 3, 'sub-02181503': 1, 'sub-01483116': 5, 'sub-01461078': 4, 'sub-02115365': 1, 'sub-01997658': 1, 'sub-02136965': 1, 'sub-01957841': 0, 'sub-01098043': 1, 'sub-01960441': 0, 'sub-01189050': 3, 'sub-90003334': 1, 'sub-01455312': 1, 'sub-01921604': 4, 'sub-02082498': 1, 'sub-01213140': 5, 'sub-01573094': 1, 'sub-02196769': 2, 'sub-02106388': 1, 'sub-01104996': 1, 'sub-01064662': 4, 'sub-01261127': 0, 'sub-01589112': 0, 'sub-01358619': 1, 'sub-01119720': 2, 'sub-01349100': 2, 'sub-02010452': 1, 'sub-01812578': 3, 'sub-01659187': 1, 'sub-02190005': 0, 'sub-01384142': 2, 'sub-01906150': 2, 'sub-02080563': 1, 'sub-02011152': 1, 'sub-01979997': 4, 'sub-01763867': 1, 'sub-01641960': 1, 'sub-01405609': 2, 'sub-01717958': 1, 'sub-01562247': 4, 'sub-01018613': 1, 'sub-01431720': 1, 'sub-01188297': 3, 'sub-01056884': 5, 'sub-96004436': 1, 'sub-02020631': 2, 'sub-01009590': 1, 'sub-02036251': 2, 'sub-01216717': 5, 'sub-01415245': 2, 'sub-01946271': 5, 'sub-01982853': 1, 'sub-01117914': 1, 'sub-01621161': 1, 'sub-01779701': 1, 'sub-01108350': 5, 'sub-01021993': 4, 'sub-02153522': 1, 'sub-01414189': 1, 'sub-01764802': 1, 'sub-02173158': 1, 'sub-01433377': 1, 'sub-01423083': 1, 'sub-02095961': 1, 'sub-02074050': 1, 'sub-02172137': 1, 'sub-96003928': 1, 'sub-02066445': 2, 'sub-01548397': 3, 'sub-01707721': 1, 'sub-90005297': 1, 'sub-02142561': 1, 'sub-01486069': 3, 'sub-02152734': 2, 'sub-02082001': 1, 'sub-01781732': 4, 'sub-02063398': 4, 'sub-01681275': 1, 'sub-01744565': 1, 'sub-01414540': 1, 'sub-02031868': 1, 'sub-01494236': 1, 'sub-01935938': 1, 'sub-01501379': 1, 'sub-02100576': 1, 'sub-02172003': 1, 'sub-01340749': 2, 'sub-02089657': 1, 'sub-01543367': 1, 'sub-02020169': 1, 'sub-02132336': 4, 'sub-01288896': 1, 'sub-02190209': 3, 'sub-01600788': 3, 'sub-02018743': 1, 'sub-01434869': 1, 'sub-02120806': 4, 'sub-01885520': 5, 'sub-01985065': 4, 'sub-02019520': 1, 'sub-01650072': 3, 'sub-01703264': 4, 'sub-01670714': 2, 'sub-02070903': 1, 'sub-01792771': 2, 'sub-01131702': 1, 'sub-01483723': 1, 'sub-02070606': 1, 'sub-01691369': 1, 'sub-01840035': 2, 'sub-02138280': 1, 'sub-01214417': 3, 'sub-01419998': 5, 'sub-01812518': 1, 'sub-01732456': 1, 'sub-01021714': 1, 'sub-02126982': 5, 'sub-02012594': 5, 'sub-01516618': 3, 'sub-01498464': 2, 'sub-01578955': 2, 'sub-01596127': 1, 'sub-01031243': 3, 'sub-02115377': 1, 'sub-01402283': 1, 'sub-01332588': 1, 'sub-01138456': 1, 'sub-02090169': 1, 'sub-01547588': 1, 'sub-02177752': 1, 'sub-01876862': 0, 'sub-01657294': 2, 'sub-01882989': 2, 'sub-01709242': 1, 'sub-01706562': 1, 'sub-01649133': 1, 'sub-01373703': 4, 'sub-01494733': 1, 'sub-01530724': 2, 'sub-01924748': 1, 'sub-01496608': 2, 'sub-01006290': 3, 'sub-01377261': 1, 'sub-02088565': 3, 'sub-01274157': 1, 'sub-01854308': 1, 'sub-01443624': 0, 'sub-02036854': 1, 'sub-01390721': 4, 'sub-01492604': 0, 'sub-02064363': 1, 'sub-02087023': 1, 'sub-02015217': 1, 'sub-01391534': 1, 'sub-01914558': 1, 'sub-01269967': 1, 'sub-01099901': 5, 'sub-01134825': 1, 'sub-01492723': 2, 'sub-01441531': 2, 'sub-01594137': 1, 'sub-01666008': 0, 'sub-01592849': 1, 'sub-01262362': 1, 'sub-01769144': 0, 'sub-01796937': 1, 'sub-01905848': 3, 'sub-80004059': 1, 'sub-88000225': 1, 'sub-01890298': 1, 'sub-02085355': 1, 'sub-01835095': 4, 'sub-01452858': 5, 'sub-02073121': 1, 'sub-01705952': 1, 'sub-02110064': 1, 'sub-01699419': 2, 'sub-01457167': 1, 'sub-02113718': 1, 'sub-02094018': 1, 'sub-02104370': 1, 'sub-02063986': 0, 'sub-01871625': 1, 'sub-02019676': 1, 'sub-01879950': 5, 'sub-02131818': 1, 'sub-01991292': 2, 'sub-01420310': 3, 'sub-01584596': 2, 'sub-02063373': 1, 'sub-02145870': 1, 'sub-01966470': 0, 'sub-02197683': 2, 'sub-02026140': 1, 'sub-01713725': 2, 'sub-02031256': 2, 'sub-01542729': 1, 'sub-01480742': 1, 'sub-01654658': 1, 'sub-01801060': 3, 'sub-01713570': 1, 'sub-01425882': 5, 'sub-01435731': 3, 'sub-02140670': 2, 'sub-01706146': 2, 'sub-02090355': 1, 'sub-01983233': 1, 'sub-01456719': 1, 'sub-01905692': 4, 'sub-02113470': 2, 'sub-01410317': 1, 'sub-02046093': 1, 'sub-02145622': 3, 'sub-01476909': 0, 'sub-02034046': 2, 'sub-01169240': 1, 'sub-02165732': 1, 'sub-01251946': 2, 'sub-01893873': 0, 'sub-01357275': 0, 'sub-01760947': 2, 'sub-01605537': 1, 'sub-01516702': 1, 'sub-01040149': 5, 'sub-01130856': 0, 'sub-01111974': 1, 'sub-01550202': 1, 'sub-01489395': 4, 'sub-02088404': 1, 'sub-02000864': 1, 'sub-01702596': 4, 'sub-01387984': 1, 'sub-01201117': 3, 'sub-01754011': 1, 'sub-02051037': 1, 'sub-02066389': 5, 'sub-01583797': 4, 'sub-01152379': 1, 'sub-02086122': 1, 'sub-01673701': 2, 'sub-01892684': 3, 'sub-01795656': 1, 'sub-02097980': 1, 'sub-01015961': 1, 'sub-01797781': 1, 'sub-02145747': 1, 'sub-01395836': 2, 'sub-01707275': 1, 'sub-02120805': 1, 'sub-01695094': 2, 'sub-01551183': 4, 'sub-01391984': 1, 'sub-01924997': 2, 'sub-01695930': 3, 'sub-01220269': 1, 'sub-01190670': 1, 'sub-01122863': 2, 'sub-01852952': 4, 'sub-02014467': 1, 'sub-01660211': 3, 'sub-02145605': 1, 'sub-01109318': 2, 'sub-02075769': 5, 'sub-01710310': 1, 'sub-01805334': 1, 'sub-01908576': 5, 'sub-01521835': 1, 'sub-02119444': 1, 'sub-01483526': 1, 'sub-01231700': 1, 'sub-01479403': 1, 'sub-01456959': 1, 'sub-02188930': 2, 'sub-01022787': 0, 'sub-02014068': 2, 'sub-02168956': 0, 'sub-01243841': 1, 'sub-01946372': 0, 'sub-01055292': 1, 'sub-01514331': 3, 'sub-01150136': 1, 'sub-02164825': 0, 'sub-02090905': 1, 'sub-01696845': 1, 'sub-01883957': 1, 'sub-02128777': 1, 'sub-02122538': 1, 'sub-02021781': 4, 'sub-01729917': 1, 'sub-01674416': 1, 'sub-01695080': 4, 'sub-01936520': 1, 'sub-02155605': 1, 'sub-01789555': 3, 'sub-90001992': 4, 'sub-02163033': 2, 'sub-01953116': 5, 'sub-02047436': 5, 'sub-01861511': 5, 'sub-01661279': 2, 'sub-01521599': 1, 'sub-01164986': 2, 'sub-01696904': 1, 'sub-01616767': 1, 'sub-01961566': 1, 'sub-01804484': 1, 'sub-01409764': 1, 'sub-01204563': 1, 'sub-02096374': 1, 'sub-01005630': 1, 'sub-02137073': 4, 'sub-02199356': 1, 'sub-01196057': 1, 'sub-01331487': 1, 'sub-01673666': 1, 'sub-01130173': 2, 'sub-01819252': 2, 'sub-02073198': 0, 'sub-01377175': 1, 'sub-02026964': 1, 'sub-02183443': 1, 'sub-01201482': 1, 'sub-02036130': 1, 'sub-01830168': 2, 'sub-01755816': 1, 'sub-01041137': 2, 'sub-01981993': 1, 'sub-01370265': 2, 'sub-02095303': 1, 'sub-01874079': 3, 'sub-01545797': 5, 'sub-02014685': 3, 'sub-90005031': 2, 'sub-01478990': 2, 'sub-01958155': 3, 'sub-02197114': 1, 'sub-01990699': 3, 'sub-01762556': 2, 'sub-01205171': 3, 'sub-02071305': 1, 'sub-01199093': 0, 'sub-01569328': 0, 'sub-01616246': 4, 'sub-95001254': 1, 'sub-01607473': 1, 'sub-01549022': 1, 'sub-01214172': 4, 'sub-01190738': 1, 'sub-02036053': 5, 'sub-01718213': 1, 'sub-01792136': 1, 'sub-01087386': 1, 'sub-01979317': 1, 'sub-01518885': 3, 'sub-01881784': 1, 'sub-02179132': 1, 'sub-01619086': 1, 'sub-02094837': 1, 'sub-01933711': 4, 'sub-02135803': 2, 'sub-02035864': 5, 'sub-01798755': 2, 'sub-01961554': 1, 'sub-01497790': 1, 'sub-01458719': 3, 'sub-01499528': 4, 'sub-02070580': 4, 'sub-01393875': 1, 'sub-02084961': 1, 'sub-01362907': 1, 'sub-02015335': 1, 'sub-01695173': 2, 'sub-01437004': 0, 'sub-99000041': 5, 'sub-01083248': 2, 'sub-01609293': 4, 'sub-01288036': 1, 'sub-01410235': 1, 'sub-01864584': 1, 'sub-02038513': 1, 'sub-02167890': 0, 'sub-01400779': 4}\n",
      "1    255\n",
      "2     74\n",
      "4     42\n",
      "3     39\n",
      "5     32\n",
      "0     28\n",
      "Name: count, dtype: int64\n"
     ]
    }
   ],
   "source": [
    "# primaries are written like this: 1e, 25, 13, 2f, etc., for the full list see config.py\n",
    "# given a certain amount of classes, e.g. 3:\n",
    "# create the following classes: lung, melanoma, other\n",
    "primaries_array_dict = pd.Series(training_patients.primary.values, index=training_patients.participant_id).to_dict()\n",
    "\n",
    "print(\"Original Primaries Dict:\")\n",
    "print(primaries_array_dict)\n",
    "print()\n",
    "\n",
    "print(\"Compress Primaries Dict Function output:\")\n",
    "compressed = compress_primaries_dict(primaries_array_dict)\n",
    "print()\n",
    "\n",
    "print(\"Return Specific Primaries Dict Function output:\")\n",
    "specific_primaries_dict = return_specific_primaries_dict(compressed, [1,2,3,4,5], \"Regensburg\")\n",
    "\n",
    "print(pd.Series(specific_primaries_dict.values()).value_counts())"
   ]
  },
  {
   "cell_type": "markdown",
   "metadata": {},
   "source": [
    "The main difference between the above code and the one below is that the above takes in a dictionary, while the code below takes in an array. It might have been redundant to code this twice. I startd out with the one only taking in an array, but got paranoid that it might mix up the primary that goes with each patient id, so I updated the code to work with dictionaries.\n",
    "\n",
    "Please ignore the code below."
   ]
  },
  {
   "cell_type": "code",
   "execution_count": 17,
   "metadata": {},
   "outputs": [
    {
     "name": "stdout",
     "output_type": "stream",
     "text": [
      "1    255\n",
      "2     74\n",
      "4     42\n",
      "3     39\n",
      "5     32\n",
      "0     28\n",
      "Name: count, dtype: int64\n",
      "{'sub-01205745': 2, 'sub-01288350': 5, 'sub-01125016': 0, 'sub-02184584': 1, 'sub-02146286': 1, 'sub-01710250': 1, 'sub-01686968': 1, 'sub-01025630': 1, 'sub-02055312': 1, 'sub-01281168': 2, 'sub-01314225': 1, 'sub-02178883': 1, 'sub-02127770': 3, 'sub-02154718': 1, 'sub-80011453': 3, 'sub-02139997': 1, 'sub-01515235': 2, 'sub-01381621': 4, 'sub-02148372': 4, 'sub-01311383': 1, 'sub-01005097': 1, 'sub-93003757': 4, 'sub-01038520': 1, 'sub-01771120': 1, 'sub-01309950': 5, 'sub-01677324': 2, 'sub-02174928': 3, 'sub-01307298': 1, 'sub-01117958': 1, 'sub-01587295': 4, 'sub-01421533': 1, 'sub-01732889': 1, 'sub-01398968': 1, 'sub-02124336': 1, 'sub-01071055': 4, 'sub-01147272': 1, 'sub-02095181': 0, 'sub-93002557': 5, 'sub-01947074': 5, 'sub-01484016': 2, 'sub-01895825': 2, 'sub-01773716': 1, 'sub-01505384': 2, 'sub-01565091': 5, 'sub-02015730': 1, 'sub-01432274': 2, 'sub-01942928': 3, 'sub-01288245': 4, 'sub-01373833': 1, 'sub-01450871': 1, 'sub-02137062': 1, 'sub-01882333': 1, 'sub-01652130': 2, 'sub-02134991': 1, 'sub-01698789': 4, 'sub-01465229': 1, 'sub-01321873': 1, 'sub-02167792': 1, 'sub-01241505': 1, 'sub-01496804': 2, 'sub-01936903': 3, 'sub-01952689': 2, 'sub-90003562': 1, 'sub-01572564': 5, 'sub-01335279': 1, 'sub-01957247': 5, 'sub-01713022': 2, 'sub-02209727': 1, 'sub-01699532': 2, 'sub-02071087': 1, 'sub-02185066': 4, 'sub-01056598': 2, 'sub-01502083': 4, 'sub-02071509': 1, 'sub-01072344': 0, 'sub-02094355': 2, 'sub-01978091': 1, 'sub-01207036': 4, 'sub-01668785': 3, 'sub-02105939': 1, 'sub-01969755': 1, 'sub-01870024': 3, 'sub-01943022': 2, 'sub-02116290': 1, 'sub-01106844': 1, 'sub-02119712': 1, 'sub-02092748': 1, 'sub-01513891': 1, 'sub-01164049': 3, 'sub-02181503': 1, 'sub-01483116': 5, 'sub-01461078': 4, 'sub-02115365': 1, 'sub-01997658': 1, 'sub-02136965': 1, 'sub-01957841': 0, 'sub-01098043': 1, 'sub-01960441': 0, 'sub-01189050': 3, 'sub-90003334': 1, 'sub-01455312': 1, 'sub-01921604': 4, 'sub-02082498': 1, 'sub-01213140': 5, 'sub-01573094': 1, 'sub-02196769': 2, 'sub-02106388': 1, 'sub-01104996': 1, 'sub-01064662': 4, 'sub-01261127': 0, 'sub-01589112': 0, 'sub-01358619': 1, 'sub-01119720': 2, 'sub-01349100': 2, 'sub-02010452': 1, 'sub-01812578': 3, 'sub-01659187': 1, 'sub-02190005': 0, 'sub-01384142': 2, 'sub-01906150': 2, 'sub-02080563': 1, 'sub-02011152': 1, 'sub-01979997': 4, 'sub-01763867': 1, 'sub-01641960': 1, 'sub-01405609': 2, 'sub-01717958': 1, 'sub-01562247': 4, 'sub-01018613': 1, 'sub-01431720': 1, 'sub-01188297': 3, 'sub-01056884': 5, 'sub-96004436': 1, 'sub-02020631': 2, 'sub-01009590': 1, 'sub-02036251': 2, 'sub-01216717': 5, 'sub-01415245': 2, 'sub-01946271': 5, 'sub-01982853': 1, 'sub-01117914': 1, 'sub-01621161': 1, 'sub-01779701': 1, 'sub-01108350': 5, 'sub-01021993': 4, 'sub-02153522': 1, 'sub-01414189': 1, 'sub-01764802': 1, 'sub-02173158': 1, 'sub-01433377': 1, 'sub-01423083': 1, 'sub-02095961': 1, 'sub-02074050': 1, 'sub-02172137': 1, 'sub-96003928': 1, 'sub-02066445': 2, 'sub-01548397': 3, 'sub-01707721': 1, 'sub-90005297': 1, 'sub-02142561': 1, 'sub-01486069': 3, 'sub-02152734': 2, 'sub-02082001': 1, 'sub-01781732': 4, 'sub-02063398': 4, 'sub-01681275': 1, 'sub-01744565': 1, 'sub-01414540': 1, 'sub-02031868': 1, 'sub-01494236': 1, 'sub-01935938': 1, 'sub-01501379': 1, 'sub-02100576': 1, 'sub-02172003': 1, 'sub-01340749': 2, 'sub-02089657': 1, 'sub-01543367': 1, 'sub-02020169': 1, 'sub-02132336': 4, 'sub-01288896': 1, 'sub-02190209': 3, 'sub-01600788': 3, 'sub-02018743': 1, 'sub-01434869': 1, 'sub-02120806': 4, 'sub-01885520': 5, 'sub-01985065': 4, 'sub-02019520': 1, 'sub-01650072': 3, 'sub-01703264': 4, 'sub-01670714': 2, 'sub-02070903': 1, 'sub-01792771': 2, 'sub-01131702': 1, 'sub-01483723': 1, 'sub-02070606': 1, 'sub-01691369': 1, 'sub-01840035': 2, 'sub-02138280': 1, 'sub-01214417': 3, 'sub-01419998': 5, 'sub-01812518': 1, 'sub-01732456': 1, 'sub-01021714': 1, 'sub-02126982': 5, 'sub-02012594': 5, 'sub-01516618': 3, 'sub-01498464': 2, 'sub-01578955': 2, 'sub-01596127': 1, 'sub-01031243': 3, 'sub-02115377': 1, 'sub-01402283': 1, 'sub-01332588': 1, 'sub-01138456': 1, 'sub-02090169': 1, 'sub-01547588': 1, 'sub-02177752': 1, 'sub-01876862': 0, 'sub-01657294': 2, 'sub-01882989': 2, 'sub-01709242': 1, 'sub-01706562': 1, 'sub-01649133': 1, 'sub-01373703': 4, 'sub-01494733': 1, 'sub-01530724': 2, 'sub-01924748': 1, 'sub-01496608': 2, 'sub-01006290': 3, 'sub-01377261': 1, 'sub-02088565': 3, 'sub-01274157': 1, 'sub-01854308': 1, 'sub-01443624': 0, 'sub-02036854': 1, 'sub-01390721': 4, 'sub-01492604': 0, 'sub-02064363': 1, 'sub-02087023': 1, 'sub-02015217': 1, 'sub-01391534': 1, 'sub-01914558': 1, 'sub-01269967': 1, 'sub-01099901': 5, 'sub-01134825': 1, 'sub-01492723': 2, 'sub-01441531': 2, 'sub-01594137': 1, 'sub-01666008': 0, 'sub-01592849': 1, 'sub-01262362': 1, 'sub-01769144': 0, 'sub-01796937': 1, 'sub-01905848': 3, 'sub-80004059': 1, 'sub-88000225': 1, 'sub-01890298': 1, 'sub-02085355': 1, 'sub-01835095': 4, 'sub-01452858': 5, 'sub-02073121': 1, 'sub-01705952': 1, 'sub-02110064': 1, 'sub-01699419': 2, 'sub-01457167': 1, 'sub-02113718': 1, 'sub-02094018': 1, 'sub-02104370': 1, 'sub-02063986': 0, 'sub-01871625': 1, 'sub-02019676': 1, 'sub-01879950': 5, 'sub-02131818': 1, 'sub-01991292': 2, 'sub-01420310': 3, 'sub-01584596': 2, 'sub-02063373': 1, 'sub-02145870': 1, 'sub-01966470': 0, 'sub-02197683': 2, 'sub-02026140': 1, 'sub-01713725': 2, 'sub-02031256': 2, 'sub-01542729': 1, 'sub-01480742': 1, 'sub-01654658': 1, 'sub-01801060': 3, 'sub-01713570': 1, 'sub-01425882': 5, 'sub-01435731': 3, 'sub-02140670': 2, 'sub-01706146': 2, 'sub-02090355': 1, 'sub-01983233': 1, 'sub-01456719': 1, 'sub-01905692': 4, 'sub-02113470': 2, 'sub-01410317': 1, 'sub-02046093': 1, 'sub-02145622': 3, 'sub-01476909': 0, 'sub-02034046': 2, 'sub-01169240': 1, 'sub-02165732': 1, 'sub-01251946': 2, 'sub-01893873': 0, 'sub-01357275': 0, 'sub-01760947': 2, 'sub-01605537': 1, 'sub-01516702': 1, 'sub-01040149': 5, 'sub-01130856': 0, 'sub-01111974': 1, 'sub-01550202': 1, 'sub-01489395': 4, 'sub-02088404': 1, 'sub-02000864': 1, 'sub-01702596': 4, 'sub-01387984': 1, 'sub-01201117': 3, 'sub-01754011': 1, 'sub-02051037': 1, 'sub-02066389': 5, 'sub-01583797': 4, 'sub-01152379': 1, 'sub-02086122': 1, 'sub-01673701': 2, 'sub-01892684': 3, 'sub-01795656': 1, 'sub-02097980': 1, 'sub-01015961': 1, 'sub-01797781': 1, 'sub-02145747': 1, 'sub-01395836': 2, 'sub-01707275': 1, 'sub-02120805': 1, 'sub-01695094': 2, 'sub-01551183': 4, 'sub-01391984': 1, 'sub-01924997': 2, 'sub-01695930': 3, 'sub-01220269': 1, 'sub-01190670': 1, 'sub-01122863': 2, 'sub-01852952': 4, 'sub-02014467': 1, 'sub-01660211': 3, 'sub-02145605': 1, 'sub-01109318': 2, 'sub-02075769': 5, 'sub-01710310': 1, 'sub-01805334': 1, 'sub-01908576': 5, 'sub-01521835': 1, 'sub-02119444': 1, 'sub-01483526': 1, 'sub-01231700': 1, 'sub-01479403': 1, 'sub-01456959': 1, 'sub-02188930': 2, 'sub-01022787': 0, 'sub-02014068': 2, 'sub-02168956': 0, 'sub-01243841': 1, 'sub-01946372': 0, 'sub-01055292': 1, 'sub-01514331': 3, 'sub-01150136': 1, 'sub-02164825': 0, 'sub-02090905': 1, 'sub-01696845': 1, 'sub-01883957': 1, 'sub-02128777': 1, 'sub-02122538': 1, 'sub-02021781': 4, 'sub-01729917': 1, 'sub-01674416': 1, 'sub-01695080': 4, 'sub-01936520': 1, 'sub-02155605': 1, 'sub-01789555': 3, 'sub-90001992': 4, 'sub-02163033': 2, 'sub-01953116': 5, 'sub-02047436': 5, 'sub-01861511': 5, 'sub-01661279': 2, 'sub-01521599': 1, 'sub-01164986': 2, 'sub-01696904': 1, 'sub-01616767': 1, 'sub-01961566': 1, 'sub-01804484': 1, 'sub-01409764': 1, 'sub-01204563': 1, 'sub-02096374': 1, 'sub-01005630': 1, 'sub-02137073': 4, 'sub-02199356': 1, 'sub-01196057': 1, 'sub-01331487': 1, 'sub-01673666': 1, 'sub-01130173': 2, 'sub-01819252': 2, 'sub-02073198': 0, 'sub-01377175': 1, 'sub-02026964': 1, 'sub-02183443': 1, 'sub-01201482': 1, 'sub-02036130': 1, 'sub-01830168': 2, 'sub-01755816': 1, 'sub-01041137': 2, 'sub-01981993': 1, 'sub-01370265': 2, 'sub-02095303': 1, 'sub-01874079': 3, 'sub-01545797': 5, 'sub-02014685': 3, 'sub-90005031': 2, 'sub-01478990': 2, 'sub-01958155': 3, 'sub-02197114': 1, 'sub-01990699': 3, 'sub-01762556': 2, 'sub-01205171': 3, 'sub-02071305': 1, 'sub-01199093': 0, 'sub-01569328': 0, 'sub-01616246': 4, 'sub-95001254': 1, 'sub-01607473': 1, 'sub-01549022': 1, 'sub-01214172': 4, 'sub-01190738': 1, 'sub-02036053': 5, 'sub-01718213': 1, 'sub-01792136': 1, 'sub-01087386': 1, 'sub-01979317': 1, 'sub-01518885': 3, 'sub-01881784': 1, 'sub-02179132': 1, 'sub-01619086': 1, 'sub-02094837': 1, 'sub-01933711': 4, 'sub-02135803': 2, 'sub-02035864': 5, 'sub-01798755': 2, 'sub-01961554': 1, 'sub-01497790': 1, 'sub-01458719': 3, 'sub-01499528': 4, 'sub-02070580': 4, 'sub-01393875': 1, 'sub-02084961': 1, 'sub-01362907': 1, 'sub-02015335': 1, 'sub-01695173': 2, 'sub-01437004': 0, 'sub-99000041': 5, 'sub-01083248': 2, 'sub-01609293': 4, 'sub-01288036': 1, 'sub-01410235': 1, 'sub-01864584': 1, 'sub-02038513': 1, 'sub-02167890': 0, 'sub-01400779': 4}\n"
     ]
    }
   ],
   "source": [
    "# primaries are written like this: 1e, 25, 13, 2f, etc., for the full list see config.py\n",
    "# given a certain amount of classes, e.g. 3:\n",
    "# create the following classes: lung, melanoma, other\n",
    "primaries_array_dict = pd.Series(training_patients.primary.values, index=training_patients.participant_id).to_dict()\n",
    "primaries_array = training_patients[\"primary\"]\n",
    "\n",
    "#print(primaries_array)\n",
    "\n",
    "#print(primaries_array.value_counts())\n",
    "\n",
    "\n",
    "\n",
    "\n",
    "def compress_primaries(primaries_array):\n",
    "    '''moves all the primaries from different subclasses into one class, e.g. 1a-f become 1 etc.'''\n",
    "    \n",
    "    letters_removed_primaries = []\n",
    "\n",
    "    # remove any letters from the list\n",
    "    for primary in primaries_array:\n",
    "        clean_primary = ''.join(filter(str.isdigit, primary))\n",
    "        letters_removed_primaries.append(clean_primary)\n",
    "\n",
    "    compressed_primaries = []\n",
    "\n",
    "    for primary in letters_removed_primaries:\n",
    "        primary_num = int(primary)\n",
    "        renamed_primary = 0\n",
    "        # compress all the genitourinary cancers togehter (3-10)\n",
    "        if primary_num >= 3 and primary_num <= 10:\n",
    "            renamed_primary = 3\n",
    "        # compress all the gastrointestinal cancers together (19-25)\n",
    "        elif primary_num >= 19 and primary_num <= 25:\n",
    "            renamed_primary = 19\n",
    "        # compress all the head and neck cancers together (13-18)\n",
    "        elif primary_num >= 13 and primary_num <= 18:\n",
    "            renamed_primary = 13\n",
    "        else:\n",
    "            renamed_primary = primary_num\n",
    "        \n",
    "        compressed_primaries.append(renamed_primary)\n",
    "        \n",
    "    return compressed_primaries\n",
    "\n",
    "compressed_list = pd.Series(compress_primaries(primaries_array))\n",
    "#print(compressed_list.value_counts())\n",
    "\n",
    "def return_specific_primaries(primaries_array, specific_classes, dataset):\n",
    "    \"\"\"\n",
    "    Replace items in the primaries_array that are not in the specified classes with \"other\".\n",
    "    \n",
    "    Args:\n",
    "    primaries_array (array): Array of primary classes.\n",
    "    specific_classes (array): Array of specific classes to include.\n",
    "    dataset (str): Name of the dataset (\"Regensburg\" or \"Yale\").\n",
    "    \n",
    "    Returns:\n",
    "    array: Updated primaries_array with classes replaced as specified.\n",
    "    \"\"\"\n",
    "\n",
    "    # go through the list and replace each iteam that is not in the specified classes with \"other\"\n",
    "\n",
    "    if dataset == \"Regensburg\":\n",
    "\n",
    "        for specific_class in specific_classes:\n",
    "\n",
    "            match specific_class:\n",
    "                case 1: # lung\n",
    "                    primaries_array = primaries_array.replace(1, 101)\n",
    "                case 2: # melanoma\n",
    "                    primaries_array = primaries_array.replace(12, 102)\n",
    "                case 3: # breast\n",
    "                    primaries_array = primaries_array.replace(2, 103)\n",
    "                case 4: # genito urinary\n",
    "                    primaries_array = primaries_array.replace(3, 104)\n",
    "                case 5: # gastro\n",
    "                    primaries_array = primaries_array.replace(19, 105)\n",
    "                case _:\n",
    "                    pass\n",
    "    \n",
    "    elif dataset == \"Yale\":\n",
    "\n",
    "        for specific_class in specific_classes:\n",
    "\n",
    "            match specific_class:\n",
    "                case 1: # lung\n",
    "                    primaries_array = primaries_array.replace(0, 101)\n",
    "                case 2: # melanoma\n",
    "                    primaries_array = primaries_array.replace(4, 102)\n",
    "                case 3: # breast\n",
    "                    primaries_array = primaries_array.replace(1, 103)\n",
    "                case 4: # genito urinary, actually in this case only renal cell carcinoma\n",
    "                    primaries_array = primaries_array.replace(6, 104)\n",
    "                case 5: # gastro\n",
    "                    primaries_array = primaries_array.replace(2, 105)\n",
    "                case _:\n",
    "                    pass\n",
    "\n",
    "    for primary in primaries_array:\n",
    "            if primary < 100:\n",
    "                primaries_array = primaries_array.replace(primary, 0)\n",
    "    \n",
    "    counter = 0\n",
    "\n",
    "    for specific_class in specific_classes:\n",
    "        \n",
    "        specific_class = specific_class + 100\n",
    "\n",
    "        counter += 1\n",
    "\n",
    "        primaries_array = primaries_array.replace(specific_class, counter)\n",
    "\n",
    "    #print(primaries_array.value_counts())\n",
    "\n",
    "    return primaries_array\n",
    "\n",
    "def return_modified_primaries(primaries_array, num_classes):\n",
    "    '''returns an array where all the items are grouped into x classes depending on num_classes\n",
    "    e.g. if num_classes = 2, then only the most frequent category (lung cancer) gets returned while all the other categories are grouped as \\'other\\''''\n",
    "    \n",
    "    # get most frequent classes\n",
    "    # go through the list and replace each item that is not in the most frequent classes with \"other\"\n",
    "    # the following code is probably one the least efficient ways to solve this problem\n",
    "    # but it works so who am I to change it\n",
    "    different_primaries = []\n",
    "\n",
    "    for primary in primaries_array:\n",
    "        if primary not in different_primaries:\n",
    "            different_primaries.append(primary)\n",
    "    \n",
    "    count_dict = {}\n",
    "\n",
    "    #print(different_primaries)\n",
    "\n",
    "    for dif_primary in different_primaries:\n",
    "        count = list(primaries_array).count(dif_primary)\n",
    "        count_dict[count] = dif_primary\n",
    "    \n",
    "    sorted_dict = sorted(count_dict, reverse=True)\n",
    "\n",
    "    white_list_count = []\n",
    "\n",
    "    for n in range(num_classes - 1):\n",
    "        white_list_count.append(sorted_dict[n])\n",
    "\n",
    "    white_list = []\n",
    "    for n in white_list_count:\n",
    "        white_list.append(count_dict[n])\n",
    "\n",
    "    modified_array = []\n",
    "\n",
    "    for primary in primaries_array:\n",
    "        modified_primary = 0\n",
    "\n",
    "        if primary not in white_list:\n",
    "            modified_primary = 0\n",
    "        else:\n",
    "            modified_primary = primary\n",
    "        \n",
    "        modified_array.append(modified_primary)\n",
    "    \n",
    "    return modified_array\n",
    "\n",
    "test_class_primaries = return_specific_primaries(compressed_list, specific_classes = [1,2,3,4,5], dataset=\"Regensburg\")\n",
    "#print(test_class_primaries)\n",
    "print(test_class_primaries.value_counts())\n",
    "# two_classes_primaries = pd.Series(return_modified_primaries(compressed_list, num_classes=2))\n",
    "\n",
    "# print(two_classes_primaries)\n",
    "# print(two_classes_primaries.value_counts())\n",
    "\n",
    "# # create dict of patient IDs to primaries\n",
    "patient_primaries_dict = dict(zip(patient_ids, test_class_primaries))\n",
    "print(patient_primaries_dict)"
   ]
  },
  {
   "cell_type": "markdown",
   "metadata": {},
   "source": [
    "### One hot encode sex"
   ]
  },
  {
   "cell_type": "code",
   "execution_count": 18,
   "metadata": {},
   "outputs": [
    {
     "name": "stdout",
     "output_type": "stream",
     "text": [
      "{'sub-01205745': 0, 'sub-01288350': 1, 'sub-01125016': 0, 'sub-02184584': 1, 'sub-02146286': 1, 'sub-01710250': 0, 'sub-01686968': 1, 'sub-01025630': 0, 'sub-02055312': 0, 'sub-01281168': 0, 'sub-01314225': 1, 'sub-02178883': 1, 'sub-02127770': 1, 'sub-02154718': 0, 'sub-80011453': 1, 'sub-02139997': 0, 'sub-01515235': 1, 'sub-01381621': 1, 'sub-02148372': 1, 'sub-01311383': 1, 'sub-01005097': 1, 'sub-93003757': 0, 'sub-01038520': 1, 'sub-01771120': 1, 'sub-01309950': 0, 'sub-01677324': 0, 'sub-02174928': 1, 'sub-01307298': 1, 'sub-01117958': 0, 'sub-01587295': 0, 'sub-01421533': 0, 'sub-01732889': 0, 'sub-01398968': 0, 'sub-02124336': 1, 'sub-01071055': 0, 'sub-01147272': 0, 'sub-02095181': 0, 'sub-93002557': 1, 'sub-01947074': 0, 'sub-01484016': 0, 'sub-01895825': 0, 'sub-01773716': 0, 'sub-01505384': 0, 'sub-01565091': 1, 'sub-02015730': 0, 'sub-01432274': 0, 'sub-01942928': 1, 'sub-01288245': 1, 'sub-01373833': 1, 'sub-01450871': 0, 'sub-02137062': 0, 'sub-01882333': 0, 'sub-01652130': 0, 'sub-02134991': 0, 'sub-01698789': 0, 'sub-01465229': 0, 'sub-01321873': 0, 'sub-02167792': 0, 'sub-01241505': 1, 'sub-01496804': 0, 'sub-01936903': 1, 'sub-01952689': 1, 'sub-90003562': 1, 'sub-01572564': 0, 'sub-01335279': 1, 'sub-01957247': 1, 'sub-01713022': 0, 'sub-02209727': 0, 'sub-01699532': 0, 'sub-02071087': 0, 'sub-02185066': 0, 'sub-01056598': 0, 'sub-01502083': 0, 'sub-02071509': 0, 'sub-01072344': 1, 'sub-02094355': 0, 'sub-01978091': 0, 'sub-01207036': 0, 'sub-01668785': 1, 'sub-02105939': 0, 'sub-01969755': 0, 'sub-01870024': 1, 'sub-01943022': 1, 'sub-02116290': 0, 'sub-01106844': 0, 'sub-02119712': 0, 'sub-02092748': 0, 'sub-01513891': 0, 'sub-01164049': 1, 'sub-02181503': 0, 'sub-01483116': 0, 'sub-01461078': 0, 'sub-02115365': 0, 'sub-01997658': 1, 'sub-02136965': 1, 'sub-01957841': 1, 'sub-01098043': 1, 'sub-01960441': 0, 'sub-01189050': 1, 'sub-90003334': 1, 'sub-01455312': 0, 'sub-01921604': 0, 'sub-02082498': 0, 'sub-01213140': 1, 'sub-01573094': 0, 'sub-02196769': 1, 'sub-02106388': 0, 'sub-01104996': 0, 'sub-01064662': 1, 'sub-01261127': 1, 'sub-01589112': 1, 'sub-01358619': 1, 'sub-01119720': 0, 'sub-01349100': 0, 'sub-02010452': 1, 'sub-01812578': 1, 'sub-01659187': 1, 'sub-02190005': 1, 'sub-01384142': 0, 'sub-01906150': 0, 'sub-02080563': 1, 'sub-02011152': 1, 'sub-01979997': 0, 'sub-01763867': 1, 'sub-01641960': 0, 'sub-01405609': 1, 'sub-01717958': 1, 'sub-01562247': 0, 'sub-01018613': 1, 'sub-01431720': 0, 'sub-01188297': 1, 'sub-01056884': 0, 'sub-96004436': 0, 'sub-02020631': 1, 'sub-01009590': 1, 'sub-02036251': 0, 'sub-01216717': 0, 'sub-01415245': 1, 'sub-01946271': 0, 'sub-01982853': 1, 'sub-01117914': 1, 'sub-01621161': 1, 'sub-01779701': 0, 'sub-01108350': 0, 'sub-01021993': 1, 'sub-02153522': 0, 'sub-01414189': 0, 'sub-01764802': 1, 'sub-02173158': 1, 'sub-01433377': 0, 'sub-01423083': 1, 'sub-02095961': 0, 'sub-02074050': 0, 'sub-02172137': 0, 'sub-96003928': 0, 'sub-02066445': 0, 'sub-01548397': 1, 'sub-01707721': 1, 'sub-90005297': 1, 'sub-02142561': 1, 'sub-01486069': 1, 'sub-02152734': 1, 'sub-02082001': 0, 'sub-01781732': 0, 'sub-02063398': 0, 'sub-01681275': 0, 'sub-01744565': 0, 'sub-01414540': 1, 'sub-02031868': 1, 'sub-01494236': 1, 'sub-01935938': 0, 'sub-01501379': 0, 'sub-02100576': 1, 'sub-02172003': 1, 'sub-01340749': 0, 'sub-02089657': 0, 'sub-01543367': 0, 'sub-02020169': 1, 'sub-02132336': 1, 'sub-01288896': 0, 'sub-02190209': 1, 'sub-01600788': 1, 'sub-02018743': 1, 'sub-01434869': 1, 'sub-02120806': 0, 'sub-01885520': 0, 'sub-01985065': 0, 'sub-02019520': 0, 'sub-01650072': 1, 'sub-01703264': 1, 'sub-01670714': 0, 'sub-02070903': 1, 'sub-01792771': 0, 'sub-01131702': 0, 'sub-01483723': 0, 'sub-02070606': 1, 'sub-01691369': 1, 'sub-01840035': 0, 'sub-02138280': 1, 'sub-01214417': 0, 'sub-01419998': 1, 'sub-01812518': 1, 'sub-01732456': 0, 'sub-01021714': 1, 'sub-02126982': 0, 'sub-02012594': 0, 'sub-01516618': 1, 'sub-01498464': 1, 'sub-01578955': 0, 'sub-01596127': 1, 'sub-01031243': 1, 'sub-02115377': 1, 'sub-01402283': 1, 'sub-01332588': 0, 'sub-01138456': 1, 'sub-02090169': 1, 'sub-01547588': 1, 'sub-02177752': 0, 'sub-01876862': 1, 'sub-01657294': 1, 'sub-01882989': 0, 'sub-01709242': 1, 'sub-01706562': 0, 'sub-01649133': 0, 'sub-01373703': 0, 'sub-01494733': 1, 'sub-01530724': 0, 'sub-01924748': 1, 'sub-01496608': 1, 'sub-01006290': 1, 'sub-01377261': 1, 'sub-02088565': 1, 'sub-01274157': 0, 'sub-01854308': 0, 'sub-01443624': 1, 'sub-02036854': 0, 'sub-01390721': 0, 'sub-01492604': 1, 'sub-02064363': 1, 'sub-02087023': 1, 'sub-02015217': 1, 'sub-01391534': 1, 'sub-01914558': 1, 'sub-01269967': 0, 'sub-01099901': 0, 'sub-01134825': 0, 'sub-01492723': 1, 'sub-01441531': 0, 'sub-01594137': 1, 'sub-01666008': 1, 'sub-01592849': 0, 'sub-01262362': 1, 'sub-01769144': 0, 'sub-01796937': 0, 'sub-01905848': 1, 'sub-80004059': 0, 'sub-88000225': 0, 'sub-01890298': 0, 'sub-02085355': 1, 'sub-01835095': 1, 'sub-01452858': 1, 'sub-02073121': 1, 'sub-01705952': 0, 'sub-02110064': 0, 'sub-01699419': 0, 'sub-01457167': 1, 'sub-02113718': 1, 'sub-02094018': 1, 'sub-02104370': 0, 'sub-02063986': 1, 'sub-01871625': 1, 'sub-02019676': 0, 'sub-01879950': 1, 'sub-02131818': 0, 'sub-01991292': 0, 'sub-01420310': 1, 'sub-01584596': 0, 'sub-02063373': 0, 'sub-02145870': 0, 'sub-01966470': 1, 'sub-02197683': 0, 'sub-02026140': 1, 'sub-01713725': 1, 'sub-02031256': 0, 'sub-01542729': 0, 'sub-01480742': 1, 'sub-01654658': 0, 'sub-01801060': 1, 'sub-01713570': 0, 'sub-01425882': 1, 'sub-01435731': 1, 'sub-02140670': 0, 'sub-01706146': 0, 'sub-02090355': 1, 'sub-01983233': 0, 'sub-01456719': 1, 'sub-01905692': 0, 'sub-02113470': 0, 'sub-01410317': 1, 'sub-02046093': 1, 'sub-02145622': 1, 'sub-01476909': 0, 'sub-02034046': 0, 'sub-01169240': 0, 'sub-02165732': 0, 'sub-01251946': 1, 'sub-01893873': 0, 'sub-01357275': 0, 'sub-01760947': 1, 'sub-01605537': 0, 'sub-01516702': 1, 'sub-01040149': 0, 'sub-01130856': 1, 'sub-01111974': 0, 'sub-01550202': 1, 'sub-01489395': 1, 'sub-02088404': 0, 'sub-02000864': 1, 'sub-01702596': 0, 'sub-01387984': 0, 'sub-01201117': 1, 'sub-01754011': 0, 'sub-02051037': 1, 'sub-02066389': 1, 'sub-01583797': 0, 'sub-01152379': 1, 'sub-02086122': 1, 'sub-01673701': 0, 'sub-01892684': 1, 'sub-01795656': 1, 'sub-02097980': 0, 'sub-01015961': 1, 'sub-01797781': 0, 'sub-02145747': 1, 'sub-01395836': 1, 'sub-01707275': 0, 'sub-02120805': 0, 'sub-01695094': 1, 'sub-01551183': 0, 'sub-01391984': 0, 'sub-01924997': 1, 'sub-01695930': 1, 'sub-01220269': 1, 'sub-01190670': 1, 'sub-01122863': 1, 'sub-01852952': 0, 'sub-02014467': 0, 'sub-01660211': 1, 'sub-02145605': 1, 'sub-01109318': 0, 'sub-02075769': 0, 'sub-01710310': 0, 'sub-01805334': 1, 'sub-01908576': 0, 'sub-01521835': 0, 'sub-02119444': 0, 'sub-01483526': 1, 'sub-01231700': 0, 'sub-01479403': 0, 'sub-01456959': 0, 'sub-02188930': 0, 'sub-01022787': 0, 'sub-02014068': 0, 'sub-02168956': 1, 'sub-01243841': 1, 'sub-01946372': 0, 'sub-01055292': 1, 'sub-01514331': 1, 'sub-01150136': 0, 'sub-02164825': 0, 'sub-02090905': 0, 'sub-01696845': 0, 'sub-01883957': 1, 'sub-02128777': 1, 'sub-02122538': 0, 'sub-02021781': 1, 'sub-01729917': 0, 'sub-01674416': 0, 'sub-01695080': 1, 'sub-01936520': 0, 'sub-02155605': 0, 'sub-01789555': 1, 'sub-90001992': 0, 'sub-02163033': 0, 'sub-01953116': 1, 'sub-02047436': 0, 'sub-01861511': 0, 'sub-01661279': 1, 'sub-01521599': 0, 'sub-01164986': 0, 'sub-01696904': 1, 'sub-01616767': 0, 'sub-01961566': 1, 'sub-01804484': 1, 'sub-01409764': 0, 'sub-01204563': 0, 'sub-02096374': 1, 'sub-01005630': 0, 'sub-02137073': 0, 'sub-02199356': 0, 'sub-01196057': 0, 'sub-01331487': 0, 'sub-01673666': 0, 'sub-01130173': 1, 'sub-01819252': 0, 'sub-02073198': 1, 'sub-01377175': 1, 'sub-02026964': 1, 'sub-02183443': 0, 'sub-01201482': 1, 'sub-02036130': 0, 'sub-01830168': 0, 'sub-01755816': 0, 'sub-01041137': 1, 'sub-01981993': 1, 'sub-01370265': 0, 'sub-02095303': 1, 'sub-01874079': 1, 'sub-01545797': 0, 'sub-02014685': 1, 'sub-90005031': 1, 'sub-01478990': 1, 'sub-01958155': 1, 'sub-02197114': 0, 'sub-01990699': 1, 'sub-01762556': 0, 'sub-01205171': 1, 'sub-02071305': 1, 'sub-01199093': 0, 'sub-01569328': 1, 'sub-01616246': 1, 'sub-95001254': 0, 'sub-01607473': 1, 'sub-01549022': 0, 'sub-01214172': 0, 'sub-01190738': 0, 'sub-02036053': 0, 'sub-01718213': 0, 'sub-01792136': 1, 'sub-01087386': 0, 'sub-01979317': 0, 'sub-01518885': 1, 'sub-01881784': 0, 'sub-02179132': 0, 'sub-01619086': 0, 'sub-02094837': 0, 'sub-01933711': 1, 'sub-02135803': 1, 'sub-02035864': 0, 'sub-01798755': 0, 'sub-01961554': 0, 'sub-01497790': 0, 'sub-01458719': 1, 'sub-01499528': 1, 'sub-02070580': 0, 'sub-01393875': 0, 'sub-02084961': 0, 'sub-01362907': 0, 'sub-02015335': 0, 'sub-01695173': 1, 'sub-01437004': 0, 'sub-99000041': 0, 'sub-01083248': 0, 'sub-01609293': 1, 'sub-01288036': 0, 'sub-01410235': 0, 'sub-01864584': 0, 'sub-02038513': 0, 'sub-02167890': 0, 'sub-01400779': 0}\n",
      "sex (m/f)\n",
      "m    255\n",
      "f    215\n",
      "Name: count, dtype: int64\n",
      "[0, 1, 0, 1, 1, 0, 1, 0, 0, 0, 1, 1, 1, 0, 1, 0, 1, 1, 1, 1, 1, 0, 1, 1, 0, 0, 1, 1, 0, 0, 0, 0, 0, 1, 0, 0, 0, 1, 0, 0, 0, 0, 0, 1, 0, 0, 1, 1, 1, 0, 0, 0, 0, 0, 0, 0, 0, 0, 1, 0, 1, 1, 1, 0, 1, 1, 0, 0, 0, 0, 0, 0, 0, 0, 1, 0, 0, 0, 1, 0, 0, 1, 1, 0, 0, 0, 0, 0, 1, 0, 0, 0, 0, 1, 1, 1, 1, 0, 1, 1, 0, 0, 0, 1, 0, 1, 0, 0, 1, 1, 1, 1, 0, 0, 1, 1, 1, 1, 0, 0, 1, 1, 0, 1, 0, 1, 1, 0, 1, 0, 1, 0, 0, 1, 1, 0, 0, 1, 0, 1, 1, 1, 0, 0, 1, 0, 0, 1, 1, 0, 1, 0, 0, 0, 0, 0, 1, 1, 1, 1, 1, 1, 0, 0, 0, 0, 0, 1, 1, 1, 0, 0, 1, 1, 0, 0, 0, 1, 1, 0, 1, 1, 1, 1, 0, 0, 0, 0, 1, 1, 0, 1, 0, 0, 0, 1, 1, 0, 1, 0, 1, 1, 0, 1, 0, 0, 1, 1, 0, 1, 1, 1, 1, 0, 1, 1, 1, 0, 1, 1, 0, 1, 0, 0, 0, 1, 0, 1, 1, 1, 1, 1, 0, 0, 1, 0, 0, 1, 1, 1, 1, 1, 1, 0, 0, 0, 1, 0, 1, 1, 0, 1, 0, 0, 1, 0, 0, 0, 1, 1, 1, 1, 0, 0, 0, 1, 1, 1, 0, 1, 1, 0, 1, 0, 0, 1, 0, 0, 0, 1, 0, 1, 1, 0, 0, 1, 0, 1, 0, 1, 1, 0, 0, 1, 0, 1, 0, 0, 1, 1, 1, 0, 0, 0, 0, 1, 0, 0, 1, 0, 1, 0, 1, 0, 1, 1, 0, 1, 0, 0, 1, 0, 1, 1, 0, 1, 1, 0, 1, 1, 0, 1, 0, 1, 1, 0, 0, 1, 0, 0, 1, 1, 1, 1, 1, 0, 0, 1, 1, 0, 0, 0, 1, 0, 0, 0, 1, 0, 0, 0, 0, 0, 0, 1, 1, 0, 1, 1, 0, 0, 0, 0, 1, 1, 0, 1, 0, 0, 1, 0, 0, 1, 0, 0, 1, 0, 0, 1, 0, 0, 1, 0, 1, 1, 0, 0, 1, 0, 0, 0, 0, 0, 0, 1, 0, 1, 1, 1, 0, 1, 0, 0, 0, 1, 1, 0, 1, 1, 0, 1, 1, 1, 1, 0, 1, 0, 1, 1, 0, 1, 1, 0, 1, 0, 0, 0, 0, 0, 1, 0, 0, 1, 0, 0, 0, 0, 1, 1, 0, 0, 0, 0, 1, 1, 0, 0, 0, 0, 0, 1, 0, 0, 0, 1, 0, 0, 0, 0, 0, 0]\n"
     ]
    }
   ],
   "source": [
    "# 0 = male\n",
    "# 1 = female\n",
    "\n",
    "sex_array_dict = pd.Series(training_patients[\"sex (m/f)\"].values, index=training_patients.participant_id).to_dict()\n",
    "\n",
    "for key, value in sex_array_dict.items():\n",
    "    if value == \"m\":\n",
    "        sex_array_dict[key] = 0\n",
    "    elif value == \"f\":\n",
    "        sex_array_dict[key] = 1\n",
    "    else:\n",
    "        print(f\"unknown sex: {value}\")\n",
    "\n",
    "print(sex_array_dict)\n",
    "\n",
    "sex_array = training_patients[\"sex (m/f)\"]\n",
    "\n",
    "print(sex_array.value_counts())\n",
    "\n",
    "# str_lookup_layer = tf.keras.layers.StringLookup(output_mode=\"one_hot\")\n",
    "# str_lookup_layer.adapt(sex_array)\n",
    "# sex_tensors = str_lookup_layer(sex_array)\n",
    "\n",
    "# sex_test = sex_tensors[0].numpy()\n",
    "# print(sex_test)\n",
    "\n",
    "sex_encoded = []\n",
    "\n",
    "for sex in sex_array:\n",
    "    if sex == \"m\":\n",
    "        sex_encoded.append(0)\n",
    "    elif sex == \"f\":\n",
    "        sex_encoded.append(1)\n",
    "    else:\n",
    "        print(f\"unknown sex: {sex}\")\n",
    "        #sex_encoded.append([0, 0])\n",
    "\n",
    "print(sex_encoded)\n",
    "sex_encoded_dict = dict(zip(patient_ids, sex_encoded))"
   ]
  },
  {
   "cell_type": "markdown",
   "metadata": {},
   "source": [
    "### 2D Images\n",
    "\n",
    "#### Prepare Images For Training\n",
    "- load png files\n",
    "- give options to load mask or cutout\n",
    "- rotate images 90 degress?\n",
    "- compress all sequences into one array "
   ]
  },
  {
   "cell_type": "code",
   "execution_count": 30,
   "metadata": {},
   "outputs": [],
   "source": [
    "path_to_sliced_images = Path(\"/Users/LennartPhilipp/Desktop/Uni/Prowiss/Datensatz_RGB/regensburg_slices\")\n",
    "#path_to_sliced_images = Path(\"/Users/LennartPhilipp/Desktop/Uni/Prowiss/Datensatz_RGB/regensburg_test_slices\")"
   ]
  },
  {
   "cell_type": "code",
   "execution_count": 169,
   "metadata": {},
   "outputs": [],
   "source": [
    "def load_2d_image(patient_id, path_to_sliced_images, include_mask = False, only_cutout = False, save_as_rgb = False, dataset = \"Regensburg\"):\n",
    "    # order of sequences t1, t1c, t2, flair, maybe mask\n",
    "\n",
    "    if save_as_rgb:\n",
    "        imread_flag = cv2.IMREAD_COLOR  # 1\n",
    "    else: # save as a single gray scale image\n",
    "        imread_flag = cv2.IMREAD_GRAYSCALE  # 0\n",
    "\n",
    "    leasions = []\n",
    "    leasion_ids = {}\n",
    "\n",
    "    if dataset == \"Regensburg\":\n",
    "        path_to_sliced_images = path_to_sliced_images\n",
    "    elif dataset == \"Yale\":\n",
    "        path_to_sliced_images = path_to_yale_met_slices\n",
    "\n",
    "\n",
    "    patient_files = [file for file in os.listdir(path_to_sliced_images / patient_id) if file.endswith(\".png\")]\n",
    "\n",
    "    leasion_layers = []\n",
    "\n",
    "    counter = 0\n",
    "\n",
    "    # adds leasions to the leasion_ids dictionary\n",
    "    for file in patient_files:\n",
    "\n",
    "        leasion = int(file.split(\"_\")[3])\n",
    "\n",
    "        if leasion not in leasion_ids.values():\n",
    "            leasion_ids[counter] = leasion\n",
    "            counter += 1\n",
    "\n",
    "\n",
    "    # goes through all the leasions\n",
    "    for leasion in range(len(leasion_ids.keys())):\n",
    "        \n",
    "        leasion_files = [\n",
    "            file for file in patient_files\n",
    "            if int(file.split(\"_\")[3]) == (leasion_ids[leasion])\n",
    "        ]\n",
    "\n",
    "        leasion_layer = int(leasion_files[0].split(\"_\")[2])\n",
    "        #print(f\"Leasion Layer = {leasion_layer}\")\n",
    "\n",
    "        leasion_layers.append(leasion_layer)\n",
    "        \n",
    "        t1_image = None\n",
    "        t1c_image = None\n",
    "        t2_image = None\n",
    "        flair_image = None\n",
    "        mask_image = None\n",
    "\n",
    "        if only_cutout == True:\n",
    "            # load only cutout of t1, t1c, t2, flair\n",
    "            leasion_files = [file for file in leasion_files if \"cutout\" in file]\n",
    "\n",
    "            for file in leasion_files:\n",
    "                sequence = file.split(\"_\")[-2]\n",
    "\n",
    "                path_to_file = str(path_to_sliced_images / patient_id / file)\n",
    "\n",
    "                bgr_img = cv2.imread(path_to_file, imread_flag)\n",
    "                # If saving as RGB, convert from BGR -> RGB\n",
    "                if save_as_rgb and bgr_img is not None:\n",
    "                    bgr_img = cv2.cvtColor(bgr_img, cv2.COLOR_BGR2RGB)\n",
    "\n",
    "                if dataset == \"Regensburg\":\n",
    "                    match sequence:\n",
    "                        case \"t1\":\n",
    "                            t1_image = bgr_img\n",
    "                        case \"t1c\":\n",
    "                            t1c_image = bgr_img\n",
    "                        case \"t2\":\n",
    "                            t2_image = bgr_img\n",
    "                        case \"fla\":\n",
    "                            flair_image = bgr_img\n",
    "                        case _:\n",
    "                            pass\n",
    "                elif dataset == \"Yale\":\n",
    "                    match sequence:\n",
    "                        case \"t1n\":\n",
    "                            t1_image = bgr_img\n",
    "                        case \"t1c\":\n",
    "                            t1c_image = bgr_img\n",
    "                        case \"t2w\":\n",
    "                            t2_image = bgr_img\n",
    "                        case \"t2f\":\n",
    "                            flair_image = bgr_img\n",
    "                        case _:\n",
    "                            pass\n",
    "\n",
    "            images = [t1_image, t1c_image, t2_image, flair_image]\n",
    "\n",
    "        elif include_mask == True:\n",
    "            # load t1, t1c, t2, flair, mask image\n",
    "\n",
    "            for file in leasion_files:\n",
    "\n",
    "                path_to_file = str(path_to_sliced_images / patient_id / file)\n",
    "\n",
    "                sequence = file.split(\"_\")[-1].split(\".\")[0]\n",
    "\n",
    "                bgr_img = cv2.imread(path_to_file, imread_flag)\n",
    "                if save_as_rgb and bgr_img is not None:\n",
    "                    bgr_img = cv2.cvtColor(bgr_img, cv2.COLOR_BGR2RGB)\n",
    "\n",
    "                \n",
    "                if dataset == \"Regensburg\":\n",
    "                    match sequence:\n",
    "                        case \"t1\":\n",
    "                            t1_image = bgr_img\n",
    "                        case \"t1c\":\n",
    "                            t1c_image = bgr_img\n",
    "                        case \"t2\":\n",
    "                            t2_image = bgr_img\n",
    "                        case \"fla\":\n",
    "                            flair_image = bgr_img\n",
    "                        case _:\n",
    "                            pass\n",
    "                elif dataset == \"Yale\":\n",
    "                    match sequence:\n",
    "                        case \"t1n\":\n",
    "                            t1_image = bgr_img\n",
    "                        case \"t1c\":\n",
    "                            t1c_image = bgr_img\n",
    "                        case \"t2w\":\n",
    "                            t2_image = bgr_img\n",
    "                        case \"t2f\":\n",
    "                            flair_image = bgr_img\n",
    "                        case _:\n",
    "                            pass\n",
    "\n",
    "\n",
    "                if file.endswith(\"mask.png\") and mask_image is None:\n",
    "                    mask_image = bgr_img #previously: mask_image = cv2.imread(path_to_file, 0)\n",
    "\n",
    "            images = [t1_image, t1c_image, t2_image, flair_image, mask_image]\n",
    "\n",
    "        else:\n",
    "            # load t1, t1c, t2, flair image\n",
    "\n",
    "            for file in leasion_files:\n",
    "\n",
    "                path_to_file = str(path_to_sliced_images / patient_id / file)\n",
    "\n",
    "                sequence = file.split(\"_\")[-1].split(\".\")[0]\n",
    "\n",
    "                bgr_img = cv2.imread(path_to_file, imread_flag)\n",
    "                if save_as_rgb and bgr_img is not None:\n",
    "                    bgr_img = cv2.cvtColor(bgr_img, cv2.COLOR_BGR2RGB)\n",
    "\n",
    "                if dataset == \"Regensburg\":\n",
    "                    match sequence:\n",
    "                        case \"t1\":\n",
    "                            t1_image = bgr_img\n",
    "                        case \"t1c\":\n",
    "                            t1c_image = bgr_img\n",
    "                        case \"t2\":\n",
    "                            t2_image = bgr_img\n",
    "                        case \"fla\":\n",
    "                            flair_image = bgr_img\n",
    "                        case _:\n",
    "                            pass\n",
    "                elif dataset == \"Yale\":\n",
    "                    match sequence:\n",
    "                        case \"t1n\":\n",
    "                            t1_image = bgr_img\n",
    "                        case \"t1c\":\n",
    "                            t1c_image = bgr_img\n",
    "                        case \"t2w\":\n",
    "                            t2_image = bgr_img\n",
    "                        case \"t2f\":\n",
    "                            flair_image = bgr_img\n",
    "                        case _:\n",
    "                            pass\n",
    "\n",
    "            images = [t1_image, t1c_image, t2_image, flair_image]\n",
    "        \n",
    "        leasions.append(images)\n",
    "    \n",
    "    # rotate the Yale images by 180 degrees\n",
    "    if dataset == \"Yale\":\n",
    "        for leasion in leasions:\n",
    "            for image in range(len(leasion)):\n",
    "                if leasion[image] is not None:\n",
    "                    leasion[image] = ndimage.rotate(leasion[image], 180, reshape=False)\n",
    "    \n",
    "    return leasions, leasion_layers\n",
    "\n",
    "def merge_2d_images(leasions):\n",
    "\n",
    "    merged = []\n",
    "\n",
    "    for leasion in leasions:\n",
    "        stacked = tf.stack(leasion, axis = -1)\n",
    "        merged.append(stacked)\n",
    "    \n",
    "    return tf.convert_to_tensor(merged)\n",
    "\n",
    "def prepare_2d_images(patient_id, include_mask = False, only_cutout = False, save_as_rgb = False, dataset = \"Regensburg\"):\n",
    "\n",
    "    leasions, leasion_layers = load_2d_image(patient_id, path_to_sliced_images, include_mask, only_cutout, save_as_rgb, dataset)\n",
    "    merged = merge_2d_images(leasions)\n",
    "\n",
    "    if len(leasions) != len(leasion_layers):\n",
    "        print(\"ERROR! Amount of leasions is not equal to the amount of leasion_layers\")\n",
    "\n",
    "    return merged, leasion_layers"
   ]
  },
  {
   "cell_type": "code",
   "execution_count": 33,
   "metadata": {},
   "outputs": [
    {
     "name": "stdout",
     "output_type": "stream",
     "text": [
      "(240, 240, 3)\n"
     ]
    },
    {
     "data": {
      "image/png": "[encoded data removed]",
      "text/plain": [
       "<Figure size 640x480 with 1 Axes>"
      ]
     },
     "metadata": {},
     "output_type": "display_data"
    }
   ],
   "source": [
    "leasions, leasion_layers = load_2d_image(\n",
    "    patient_id = \"sub-01134825\",\n",
    "    path_to_sliced_images = path_to_sliced_images,\n",
    "    include_mask = True,\n",
    "    only_cutout = False,\n",
    "    save_as_rgb = True\n",
    ")\n",
    "\n",
    "#print(leasions[0].shape)\n",
    "\n",
    "plt.imshow(leasions[0][3], cmap = \"gray\")\n",
    "\n",
    "print(leasions[0][1].shape)\n",
    "\n",
    "merged = merge_2d_rgb_images(leasions)\n",
    "\n",
    "#merged = merge_2d_rgb_images(leasions)\n",
    "# plt.imshow(merged[0][:,:,2], cmap = \"gray\")"
   ]
  },
  {
   "cell_type": "markdown",
   "metadata": {},
   "source": [
    "#### Data Augmentation"
   ]
  },
  {
   "cell_type": "markdown",
   "metadata": {},
   "source": [
    "custom layer that adjusts all pixel values to be between 0 and 1"
   ]
  },
  {
   "cell_type": "code",
   "execution_count": 44,
   "metadata": {},
   "outputs": [],
   "source": [
    "class NormalizeToRange(tf.keras.layers.Layer):\n",
    "    def __init__(self, zero_to_one=True):\n",
    "        super(NormalizeToRange, self).__init__()\n",
    "        self.zero_to_one = zero_to_one\n",
    "\n",
    "    def call(self, inputs):\n",
    "        min_val = tf.reduce_min(inputs)\n",
    "        max_val = tf.reduce_max(inputs)\n",
    "        if self.zero_to_one:\n",
    "            # Normalize to [0, 1]\n",
    "            normalized = (inputs - min_val) / (max_val - min_val)\n",
    "        else:\n",
    "            # Normalize to [-1, 1]\n",
    "            normalized = 2 * (inputs - min_val) / (max_val - min_val) - 1\n",
    "        return normalized"
   ]
  },
  {
   "cell_type": "markdown",
   "metadata": {},
   "source": [
    "Random Rescaling Custom Layer"
   ]
  },
  {
   "cell_type": "code",
   "execution_count": 43,
   "metadata": {},
   "outputs": [],
   "source": [
    "class RandomRescale(tf.keras.layers.Layer):\n",
    "    def __init__(self, scale_range=(0.8, 1.2), **kwargs):\n",
    "        \"\"\"\n",
    "        Custom layer for random rescaling of images.\n",
    "        Args:\n",
    "            scale_range (tuple): A tuple specifying the minimum and maximum scaling factors.\n",
    "                                 Values < 1.0 zoom out, and > 1.0 zoom in.\n",
    "        \"\"\"\n",
    "        super(RandomRescale, self).__init__(**kwargs)\n",
    "        self.scale_range = scale_range\n",
    "\n",
    "    def call(self, inputs, training=None):\n",
    "        if training:\n",
    "            # Randomly choose a scaling factor\n",
    "            scale = tf.random.uniform([], self.scale_range[0], self.scale_range[1])\n",
    "            \n",
    "            # Get image dimensions\n",
    "            input_shape = tf.shape(inputs)\n",
    "            #height, width = input_shape[1], input_shape[2]\n",
    "            height, width = input_shape[0], input_shape[1]\n",
    "            \n",
    "            # Compute new dimensions\n",
    "            new_height = tf.cast(tf.cast(height, tf.float32) * scale, tf.int32)\n",
    "            new_width = tf.cast(tf.cast(width, tf.float32) * scale, tf.int32)\n",
    "            \n",
    "            # Resize image to new dimensions\n",
    "            scaled_image = tf.image.resize(inputs, [new_height, new_width])\n",
    "            \n",
    "            # Crop or pad to original size\n",
    "            scaled_image = tf.image.resize_with_crop_or_pad(scaled_image, height, width)\n",
    "            \n",
    "            return scaled_image\n",
    "        else:\n",
    "            return inputs\n",
    "\n",
    "    def get_config(self):\n",
    "        config = super(RandomRescale, self).get_config()\n",
    "        config.update({\"scale_range\": self.scale_range})\n",
    "        return config\n"
   ]
  },
  {
   "cell_type": "markdown",
   "metadata": {},
   "source": [
    "a simple data augmentation protocol that includes\n",
    "- horizontal flip\n",
    "- rescaling to 0 - 1\n",
    "- random contrast\n",
    "- random brightness\n",
    "- random rotation\n",
    "- rescaling again lol\n",
    "- random translatio\n",
    "\n",
    "I had to rescale the images again using a custom layer, so that all images values are between 0 and 1 in the end"
   ]
  },
  {
   "cell_type": "code",
   "execution_count": 45,
   "metadata": {},
   "outputs": [
    {
     "name": "stdout",
     "output_type": "stream",
     "text": [
      "input shape: (240, 240, 5)\n",
      "augmented shape: (240, 240, 5)\n",
      "Max value: 1.0\n",
      "Mean value: 0.17090787\n",
      "Min value: 0.0\n"
     ]
    },
    {
     "data": {
      "image/png": "[encoded data removed]",
      "text/plain": [
       "<Figure size 640x480 with 1 Axes>"
      ]
     },
     "metadata": {},
     "output_type": "display_data"
    }
   ],
   "source": [
    "patient_images = merge_2d_images(\n",
    "    load_2d_image(\n",
    "        patient_id = \"sub-01921604\",\n",
    "        path_to_sliced_images = path_to_sliced_images,\n",
    "        include_mask = True,\n",
    "        only_cutout = False\n",
    "        )[0]\n",
    "    )[1]\n",
    "print(f\"input shape: {patient_images.shape}\")\n",
    "\n",
    "data_augmentation = tf.keras.Sequential([\n",
    "    tf.keras.layers.RandomFlip(mode = \"horizontal\"),\n",
    "    #tf.keras.layers.Rescaling(1/255),\n",
    "    tf.keras.layers.RandomContrast(0.5), # consider removing the random contrast layer as that causes pixel values to go beyond 1\n",
    "    tf.keras.layers.RandomBrightness(factor = (-0.2, 0.4)), #, value_range=(0, 1)\n",
    "    tf.keras.layers.RandomRotation(factor = (-0.14, 0.14), fill_mode = \"nearest\"),\n",
    "    NormalizeToRange(zero_to_one=True),\n",
    "    tf.keras.layers.RandomTranslation(\n",
    "        height_factor = 0.05,\n",
    "        width_factor = 0.05,\n",
    "        fill_mode = \"nearest\"\n",
    "    ),\n",
    "    RandomRescale(scale_range=(0.7, 1.2))\n",
    "])\n",
    "\n",
    "#consider adding some noise\n",
    "\n",
    "augmented_images = data_augmentation(patient_images)\n",
    "\n",
    "print(f\"augmented shape: {augmented_images.shape}\")\n",
    "\n",
    "plt.imshow(np.array(augmented_images[:,:,2]), cmap=\"inferno\")\n",
    "plt.axis(\"off\")\n",
    "\n",
    "print(\"Max value:\", np.array(augmented_images).max())\n",
    "print(\"Mean value:\", np.array(augmented_images).mean())\n",
    "print(\"Min value:\", np.array(augmented_images).min())"
   ]
  },
  {
   "cell_type": "markdown",
   "metadata": {},
   "source": [
    "#### Class weight calculation for weighted loss"
   ]
  },
  {
   "cell_type": "code",
   "execution_count": null,
   "metadata": {},
   "outputs": [
    {
     "name": "stdout",
     "output_type": "stream",
     "text": [
      "--- Calculating Lesion-Level Label Distribution ---\n"
     ]
    },
    {
     "name": "stderr",
     "output_type": "stream",
     "text": [
      "Counting lesions per patient:  23%|██▎       | 106/470 [00:01<00:06, 58.20it/s]"
     ]
    },
    {
     "name": "stdout",
     "output_type": "stream",
     "text": [
      "Warning: Patient sub-01957841 has 0 lesions. Skipping.\n"
     ]
    },
    {
     "name": "stderr",
     "output_type": "stream",
     "text": [
      "Counting lesions per patient:  34%|███▎      | 158/470 [00:02<00:03, 88.96it/s]"
     ]
    },
    {
     "name": "stdout",
     "output_type": "stream",
     "text": [
      "Warning: Patient sub-02153522 has 0 lesions. Skipping.\n"
     ]
    },
    {
     "name": "stderr",
     "output_type": "stream",
     "text": [
      "Counting lesions per patient:  42%|████▏     | 199/470 [00:02<00:02, 103.75it/s]"
     ]
    },
    {
     "name": "stdout",
     "output_type": "stream",
     "text": [
      "Warning: Patient sub-02100576 has 0 lesions. Skipping.\n",
      "Warning: Patient sub-01985065 has 0 lesions. Skipping.\n"
     ]
    },
    {
     "name": "stderr",
     "output_type": "stream",
     "text": [
      "Counting lesions per patient:  49%|████▊     | 229/470 [00:02<00:02, 119.52it/s]"
     ]
    },
    {
     "name": "stdout",
     "output_type": "stream",
     "text": [
      "Warning: Patient sub-02115377 has 0 lesions. Skipping.\n"
     ]
    },
    {
     "name": "stderr",
     "output_type": "stream",
     "text": [
      "Counting lesions per patient:  62%|██████▏   | 293/470 [00:03<00:01, 124.83it/s]"
     ]
    },
    {
     "name": "stdout",
     "output_type": "stream",
     "text": [
      "Warning: Patient sub-01991292 has 0 lesions. Skipping.\n"
     ]
    },
    {
     "name": "stderr",
     "output_type": "stream",
     "text": [
      "Counting lesions per patient:  65%|██████▌   | 307/470 [00:03<00:01, 90.65it/s] "
     ]
    },
    {
     "name": "stdout",
     "output_type": "stream",
     "text": [
      "Warning: Patient sub-02145622 has 0 lesions. Skipping.\n"
     ]
    },
    {
     "name": "stderr",
     "output_type": "stream",
     "text": [
      "Counting lesions per patient:  91%|█████████▏| 430/470 [00:04<00:00, 139.73it/s]"
     ]
    },
    {
     "name": "stdout",
     "output_type": "stream",
     "text": [
      "Warning: Patient sub-02073198 has 0 lesions. Skipping.\n"
     ]
    },
    {
     "name": "stderr",
     "output_type": "stream",
     "text": [
      "Counting lesions per patient: 100%|██████████| 470/470 [00:05<00:00, 93.84it/s] "
     ]
    },
    {
     "name": "stdout",
     "output_type": "stream",
     "text": [
      "\n",
      "Lesion-Level Label Distribution (0-5 classes, as would be in TFRecords):\n",
      "0     92\n",
      "1    973\n",
      "2    310\n",
      "3    271\n",
      "4     99\n",
      "5     80\n",
      "Name: count, dtype: int64\n",
      "Total number of lesions processed: 1825\n",
      "--- Finished Calculating Lesion-Level Label Distribution ---\n"
     ]
    },
    {
     "name": "stderr",
     "output_type": "stream",
     "text": [
      "\n"
     ]
    }
   ],
   "source": [
    "# Insert this as a new code cell (e.g., Cell 30)\n",
    "\n",
    "print(\"--- Calculating Lesion-Level Label Distribution ---\")\n",
    "\n",
    "# Ensure prerequisite variables and functions are available\n",
    "if 'specific_primaries_dict' not in locals() or 'patient_ids' not in locals():\n",
    "    raise NameError(\"ERROR: 'specific_primaries_dict' or 'patient_ids' is not defined. \"\n",
    "                    \"Please run the notebook cells that define these variables first (Cells 13 & 17).\")\n",
    "if 'load_2d_rgb_image' not in locals():\n",
    "    raise NameError(\"ERROR: 'load_2d_rgb_image' function is not defined (Cell 20).\")\n",
    "if 'path_to_sliced_images' not in locals():\n",
    "    raise NameError(\"ERROR: 'path_to_sliced_images' is not defined (Cell 19).\")\n",
    "\n",
    "\n",
    "all_lesion_labels = []\n",
    "# Get a list of patient subfolders actually present in path_to_sliced_images\n",
    "available_sliced_patients = [p for p in os.listdir(path_to_sliced_images) if os.path.isdir(os.path.join(path_to_sliced_images, p))]\n",
    "\n",
    "# Filter patient_ids to only include those present in both path_to_sliced_images AND specific_primaries_dict\n",
    "valid_patient_ids_for_lesion_count = [\n",
    "    pid for pid in patient_ids\n",
    "    if pid in available_sliced_patients and pid in specific_primaries_dict\n",
    "]\n",
    "\n",
    "# Report any discrepancies\n",
    "missing_in_slices = set(patient_ids) - set(available_sliced_patients)\n",
    "if missing_in_slices:\n",
    "    print(f\"Warning: The following patients from 'patient_ids' are not in 'path_to_sliced_images' and will be skipped: {missing_in_slices}\")\n",
    "\n",
    "missing_in_dict = set(patient_ids) - set(specific_primaries_dict.keys())\n",
    "if missing_in_dict:\n",
    "     print(f\"Warning: The following patients from 'patient_ids' are not in 'specific_primaries_dict' and will be skipped: {missing_in_dict}\")\n",
    "\n",
    "\n",
    "for pat_id in tqdm(valid_patient_ids_for_lesion_count, desc=\"Counting lesions per patient\"):\n",
    "    try:\n",
    "        # The parameters include_mask, only_cutout, save_as_rgb for load_2d_rgb_image\n",
    "        # should not affect the *number* of lesions found.\n",
    "        # We use include_mask=True as it's used in the TFRecord creation logic (Cell 22)\n",
    "        # and save_as_rgb=False as the base image loading is typically grayscale before potential RGB stacking.\n",
    "        lesions_data, _ = load_2d_image(\n",
    "            patient_id=pat_id,\n",
    "            path_to_sliced_images=path_to_sliced_images,\n",
    "            include_mask=True,\n",
    "            only_cutout=False,\n",
    "            save_as_rgb=False\n",
    "        )\n",
    "        num_lesions_for_patient = len(lesions_data)\n",
    "        \n",
    "        if num_lesions_for_patient == 0:\n",
    "            print(f\"Warning: Patient {pat_id} has 0 lesions. Skipping.\")\n",
    "            continue\n",
    "            \n",
    "        primary_class_for_patient = specific_primaries_dict[pat_id]\n",
    "        all_lesion_labels.extend([primary_class_for_patient] * num_lesions_for_patient)\n",
    "        \n",
    "    except FileNotFoundError:\n",
    "        print(f\"Warning: Sliced image data not found for patient {pat_id} in {path_to_sliced_images / pat_id}. Skipping this patient.\")\n",
    "    except Exception as e:\n",
    "        print(f\"Error processing patient {pat_id}: {e}. Skipping this patient.\")\n",
    "\n",
    "# This series now represents the primary class (0-5) for each individual lesion\n",
    "lesion_labels_in_tfrecord_series = pd.Series(all_lesion_labels)\n",
    "\n",
    "print(\"\\nLesion-Level Label Distribution (0-5 classes, as would be in TFRecords):\")\n",
    "if not lesion_labels_in_tfrecord_series.empty:\n",
    "    print(lesion_labels_in_tfrecord_series.value_counts().sort_index())\n",
    "    print(f\"Total number of lesions processed: {len(all_lesion_labels)}\")\n",
    "else:\n",
    "    print(\"No lesion labels were generated. Please check patient data and paths.\")\n",
    "\n",
    "print(\"--- Finished Calculating Lesion-Level Label Distribution ---\")"
   ]
  },
  {
   "cell_type": "code",
   "execution_count": 12,
   "metadata": {},
   "outputs": [
    {
     "name": "stdout",
     "output_type": "stream",
     "text": [
      "--- Calculating Class Weights Based on Lesion Counts (Simulating Training Script Parsing) ---\n",
      "\n",
      "Base Lesion-Level Label Distribution (used for TFRecords):\n",
      "0     92\n",
      "1    973\n",
      "2    310\n",
      "3    271\n",
      "4     99\n",
      "5     80\n",
      "Name: count, dtype: int64\n",
      "\n",
      "--- Simulating for num_classes = 2 in training script (Lesion-Based) ---\n",
      "Lesion-Level Label Distribution *After* Simulated Parsing (num_classes=2):\n",
      "0    852\n",
      "1    973\n",
      "Name: count, dtype: int64\n",
      "Unique classes present after simulation (Lesion-Based): [0 1]\n",
      "Class Weights (Lesion-Based, for training with num_classes=2): {0: 1.0710093896713615, 1: 0.9378211716341213}\n",
      "\n",
      "--- Simulating for num_classes = 3 in training script (Lesion-Based) ---\n",
      "Lesion-Level Label Distribution *After* Simulated Parsing (num_classes=3):\n",
      "0    542\n",
      "1    973\n",
      "2    310\n",
      "Name: count, dtype: int64\n",
      "Unique classes present after simulation (Lesion-Based): [0 1 2]\n",
      "Class Weights (Lesion-Based, for training with num_classes=3): {0: 1.1223862238622386, 1: 0.6252141144227475, 2: 1.9623655913978495}\n",
      "\n",
      "--- Simulating for num_classes = 4 in training script (Lesion-Based) ---\n",
      "Lesion-Level Label Distribution *After* Simulated Parsing (num_classes=4):\n",
      "0    271\n",
      "1    973\n",
      "2    310\n",
      "3    271\n",
      "Name: count, dtype: int64\n",
      "Unique classes present after simulation (Lesion-Based): [0 1 2 3]\n",
      "Class Weights (Lesion-Based, for training with num_classes=4): {0: 1.683579335793358, 1: 0.46891058581706063, 2: 1.471774193548387, 3: 1.683579335793358}\n",
      "\n",
      "--- Simulating for num_classes = 5 in training script (Lesion-Based) ---\n",
      "Lesion-Level Label Distribution *After* Simulated Parsing (num_classes=5):\n",
      "0    172\n",
      "1    973\n",
      "2    310\n",
      "3    271\n",
      "4     99\n",
      "Name: count, dtype: int64\n",
      "Unique classes present after simulation (Lesion-Based): [0 1 2 3 4]\n",
      "Class Weights (Lesion-Based, for training with num_classes=5): {0: 2.122093023255814, 1: 0.3751284686536485, 2: 1.1774193548387097, 3: 1.3468634686346863, 4: 3.686868686868687}\n",
      "\n",
      "--- Simulating for num_classes = 6 in training script (Lesion-Based) ---\n",
      "Lesion-Level Label Distribution *After* Simulated Parsing (num_classes=6):\n",
      "0     92\n",
      "1    973\n",
      "2    310\n",
      "3    271\n",
      "4     99\n",
      "5     80\n",
      "Name: count, dtype: int64\n",
      "Unique classes present after simulation (Lesion-Based): [0 1 2 3 4 5]\n",
      "Class Weights (Lesion-Based, for training with num_classes=6): {0: 3.306159420289855, 1: 0.3126070572113738, 2: 0.9811827956989247, 3: 1.1223862238622386, 4: 3.0723905723905722, 5: 3.8020833333333335}\n",
      "\n",
      "--- Finished Simulating and Calculating Lesion-Based Class Weights ---\n"
     ]
    }
   ],
   "source": [
    "# --- Class Weight Calculation Block (Simulating Training Script Parsing - LESION-BASED) ---\n",
    "\n",
    "# IMPORTANT: Ensure this block runs *after* the cell that defines\n",
    "# 'lesion_labels_in_tfrecord_series' (the new block created in Step 2)\n",
    "\n",
    "print(\"--- Calculating Class Weights Based on Lesion Counts (Simulating Training Script Parsing) ---\")\n",
    "\n",
    "# Check if lesion_labels_in_tfrecord_series exists\n",
    "if 'lesion_labels_in_tfrecord_series' not in locals() or lesion_labels_in_tfrecord_series.empty:\n",
    "    raise NameError(\"ERROR: 'lesion_labels_in_tfrecord_series' is not defined or is empty. \"\n",
    "                    \"Please run the new block that calculates lesion-level labels before this block.\")\n",
    "\n",
    "# 1. Use the base 6-class labels FOR EACH LESION (0-5)\n",
    "print(\"\\nBase Lesion-Level Label Distribution (used for TFRecords):\")\n",
    "print(lesion_labels_in_tfrecord_series.value_counts().sort_index())\n",
    "\n",
    "# 2. Dictionary to store the weights for each training scenario (2-6 classes)\n",
    "all_scenario_class_weights_lesion_based = {}\n",
    "\n",
    "# 3. Loop through the possible 'num_classes' settings in the training script\n",
    "for n_classes_scenario in range(2, 7): # n_classes_scenario is num_classes used during training (2, 3, 4, 5, 6)\n",
    "    print(f\"\\n--- Simulating for num_classes = {n_classes_scenario} in training script (Lesion-Based) ---\")\n",
    "\n",
    "    # Simulate the label collapsing that would happen during training script's parse_record\n",
    "    def simulate_parsing_for_lesions(label, target_n_classes):\n",
    "        # In your training script, class 0 is 'other'.\n",
    "        # Classes 1 to target_n_classes-1 are the specific primaries.\n",
    "        # Any original label >= target_n_classes becomes 'other' (class 0).\n",
    "        # Label 0 (original 'other') remains 'other' (class 0).\n",
    "        if 1 <= label < target_n_classes:\n",
    "            return label  # Specific primary class\n",
    "        else:\n",
    "            return 0      # 'Other' class\n",
    "\n",
    "    # Apply the simulation function to the base lesion labels\n",
    "    labels_after_parsing_series_lesion_based = lesion_labels_in_tfrecord_series.apply(\n",
    "        lambda x: simulate_parsing_for_lesions(x, n_classes_scenario)\n",
    "    )\n",
    "\n",
    "    print(f\"Lesion-Level Label Distribution *After* Simulated Parsing (num_classes={n_classes_scenario}):\")\n",
    "    print(labels_after_parsing_series_lesion_based.value_counts().sort_index())\n",
    "\n",
    "    # Determine the unique classes present AFTER simulated parsing\n",
    "    unique_parsed_classes_lesion_based = np.sort(labels_after_parsing_series_lesion_based.unique())\n",
    "    print(f\"Unique classes present after simulation (Lesion-Based): {unique_parsed_classes_lesion_based}\")\n",
    "    \n",
    "    expected_classes_in_scenario = np.arange(n_classes_scenario)\n",
    "    \n",
    "    # Check for missing classes and handle warnings\n",
    "    current_counts = labels_after_parsing_series_lesion_based.value_counts()\n",
    "    for cls_val in expected_classes_in_scenario:\n",
    "        if cls_val not in current_counts.index:\n",
    "            print(f\"Warning: Class {cls_val} has 0 lesions after simulating for num_classes={n_classes_scenario}. \"\n",
    "                  \"It will be handled by class_weight='balanced' if other classes exist.\")\n",
    "\n",
    "    weights_dict_lesion_based = {}\n",
    "    if len(unique_parsed_classes_lesion_based) == 0:\n",
    "        print(f\"Warning: No classes present after simulating for num_classes={n_classes_scenario}. Skipping weight calculation.\")\n",
    "    elif len(unique_parsed_classes_lesion_based) == 1:\n",
    "        # If only one class remains (e.g., all are 'other'), its weight is 1.0\n",
    "        weights_dict_lesion_based = {unique_parsed_classes_lesion_based[0]: 1.0}\n",
    "        print(f\"Warning: Only one class present after simulating for num_classes={n_classes_scenario}. Assigning weight of 1.0.\")\n",
    "    else:\n",
    "        # Calculate weights using sklearn based on the lesion labels *after* simulated parsing\n",
    "        weights = class_weight.compute_class_weight(\n",
    "            class_weight=\"balanced\",\n",
    "            classes=unique_parsed_classes_lesion_based, # Use the classes actually present in the data\n",
    "            y=labels_after_parsing_series_lesion_based.to_numpy()\n",
    "        )\n",
    "        # Store weights in a dictionary format {class_label: weight}\n",
    "        weights_dict_lesion_based = {label: weight for label, weight in zip(unique_parsed_classes_lesion_based, weights)}\n",
    "\n",
    "    all_scenario_class_weights_lesion_based[n_classes_scenario] = weights_dict_lesion_based\n",
    "    print(f\"Class Weights (Lesion-Based, for training with num_classes={n_classes_scenario}): {weights_dict_lesion_based}\")\n",
    "\n",
    "print(\"\\n--- Finished Simulating and Calculating Lesion-Based Class Weights ---\")\n",
    "# 'all_scenario_class_weights_lesion_based' now holds the correctly calculated weights.\n",
    "# Example: all_scenario_class_weights_lesion_based[2] has weights for {0: ..., 1: ...} for the 2-class case."
   ]
  },
  {
   "cell_type": "markdown",
   "metadata": {},
   "source": [
    "Rough Pretraining Class Weights\n",
    "\n",
    "brain_tumor_dataset"
   ]
  },
  {
   "cell_type": "code",
   "execution_count": null,
   "metadata": {},
   "outputs": [
    {
     "name": "stdout",
     "output_type": "stream",
     "text": [
      "{0: 0.7162225338943432, 1: 1.4425612052730696, 2: 1.0982078853046595}\n"
     ]
    }
   ],
   "source": [
    "# Glioma = 0 - n(1426)\n",
    "# Meningioma = 1 - n(708)\n",
    "# Pituitary = 2 - n(930)\n",
    "\n",
    "counts = {\n",
    "    0: 1426,\n",
    "    1: 708,\n",
    "    2: 930\n",
    "}\n",
    "\n",
    "total_samples = sum(counts.values())\n",
    "num_classes = len(counts)\n",
    "\n",
    "#Calculate the class weights for each class\n",
    "rough_class_weights = {}\n",
    "for class_label, class_count in counts.items():\n",
    "    rough_class_weights[class_label] = total_samples / (num_classes * class_count)\n",
    "\n",
    "print(rough_class_weights)"
   ]
  },
  {
   "cell_type": "markdown",
   "metadata": {},
   "source": [
    "Fine Pretraining Class Weights"
   ]
  },
  {
   "cell_type": "code",
   "execution_count": 3,
   "metadata": {},
   "outputs": [
    {
     "name": "stdout",
     "output_type": "stream",
     "text": [
      "Fine 5 Class Weights:\n",
      "{0: 1.1955865272938444, 1: 29.411428571428573, 2: 7.739849624060151, 3: 18.716363636363635, 4: 0.25335958651242924}\n",
      "\n",
      "Fine combined class weights\n",
      "combined class weight: 2.3740774907749076, mets class weight: 0.6333989662810731\n"
     ]
    }
   ],
   "source": [
    "# Glioblastoma = 0 - n(861)\n",
    "# Astrocytoma (IDH-wildtype) = 1 - n(35)\n",
    "# Astrocytoma (IDH-mutant) = 2 - n(133)\n",
    "# Oligodendroglioma = 3 - n(55)\n",
    "# Metastases = 4 - n(4063)\n",
    "\n",
    "counts = {\n",
    "    0: 861,\n",
    "    1: 35,\n",
    "    2: 133,\n",
    "    3: 55,\n",
    "    4: 4063\n",
    "}\n",
    "\n",
    "total_samples = sum(counts.values())\n",
    "num_classes = len(counts)\n",
    "\n",
    "# Calculate the class weights for each of the 5 class\n",
    "fine_5_class_weights = {}\n",
    "for class_label, class_count in counts.items():\n",
    "    fine_5_class_weights[class_label] = total_samples / (num_classes * class_count)\n",
    "\n",
    "print(\"Fine 5 Class Weights:\")\n",
    "print(fine_5_class_weights)\n",
    "print()\n",
    "\n",
    "# Combine classes 0 to 3 into one class and calculate the class weights\n",
    "combined_class_counts = counts[0] + counts[1] + counts[2] + counts[3]\n",
    "combined_num_classes = 2\n",
    "combined_class_weight = total_samples / (combined_num_classes * combined_class_counts)\n",
    "mets_class_weight = total_samples / (combined_num_classes * counts[4])\n",
    "\n",
    "print(\"Fine combined class weights\")\n",
    "print(f\"combined class weight: {combined_class_weight}, mets class weight: {mets_class_weight}\") # combined_class_weight)"
   ]
  },
  {
   "cell_type": "markdown",
   "metadata": {},
   "source": [
    "#### TFRecord Creation"
   ]
  },
  {
   "cell_type": "code",
   "execution_count": null,
   "metadata": {},
   "outputs": [],
   "source": [
    "path_to_derivatives = Path(\"/Users/LennartPhilipp/Desktop/Uni/Prowiss/Datensatz_RGB/regensburg_slices_tfrecords\")\n",
    "path_to_preprocessed_patients = Path(\"/Users/LennartPhilipp/Desktop/Uni/Prowiss/Datensatz_RGB/regensburg_slices\")\n",
    "\n",
    "tf.experimental.numpy.experimental_enable_numpy_behavior()\n",
    "\n",
    "def serialize_2d_patient(image_data, sex, age, layer, primary):\n",
    "\n",
    "    #print(image_data.shape)\n",
    "\n",
    "    #image_data = prepare_2d_rgb_images(patientID, include_mask = True, only_cutout = False)\n",
    "\n",
    "    patient_example = Example(\n",
    "        features = Features(\n",
    "            feature = {\n",
    "                'image': tf.train.Feature(float_list=tf.train.FloatList(value = image_data.ravel())),\n",
    "                'sex': tf.train.Feature(int64_list=tf.train.Int64List(value = [sex])),\n",
    "                'age': tf.train.Feature(int64_list=tf.train.Int64List(value = [age])),\n",
    "                'layer': tf.train.Feature(int64_list=tf.train.Int64List(value = [layer])),\n",
    "                'primary': tf.train.Feature(int64_list=tf.train.Int64List(value= [primary])),\n",
    "            }   \n",
    "        )\n",
    "    )\n",
    "\n",
    "    return patient_example.SerializeToString()\n",
    "\n",
    "# consider addng include_mask as parameter\n",
    "def writeTFRecordFiles(save_as_rgb, save_as_cutout, include_mask, only_one_patient = False):\n",
    "    # Write the dataset to TFRecord\n",
    "    options = tf.io.TFRecordOptions(compression_type=\"GZIP\") # compress the dataset\n",
    "\n",
    "    patients = [patient for patient in os.listdir(path_to_preprocessed_patients) if os.path.isdir(os.path.join(path_to_preprocessed_patients, patient))]\n",
    "\n",
    "    # write a check to compare patient_ids with patients\n",
    "    patients = set(patients).intersection(patient_ids)\n",
    "\n",
    "    slice_text = \"cutout\" if save_as_cutout else \"slice\"\n",
    "    color_text = \"rgb\" if save_as_rgb else \"gray\"\n",
    "\n",
    "    folder_text = f\"all_pats_single_{slice_text}_{color_text}\"\n",
    "\n",
    "    path_to_all_tfr = path_to_derivatives / Path(folder_text)\n",
    "\n",
    "    os.makedirs(path_to_all_tfr, exist_ok=True)\n",
    "\n",
    "    # get list of already processed patients\n",
    "    tfr_already_created_patients = [patient for patient in os.listdir(path_to_all_tfr) if os.path.isdir(os.path.join(path_to_all_tfr, patient))]\n",
    "\n",
    "    for patient in tfr_already_created_patients:\n",
    "        # check if the number of leasions equals the number of tfr files\n",
    "        path_to_patient = path_to_all_tfr / patient\n",
    "        tfr_files = [f for f in os.listdir(path_to_patient) if f.endswith(\".tfrecord\")]\n",
    "        num_leasions = len(tfr_files)\n",
    "        leasions, leasion_layers = prepare_2d_images(patient, include_mask = include_mask, only_cutout = save_as_cutout, save_as_rgb=save_as_rgb)\n",
    "        if num_leasions != len(leasions):\n",
    "            # delete the patient folder\n",
    "            shutil.rmtree(path_to_patient)\n",
    "            tfr_already_created_patients.remove(patient)\n",
    "    \n",
    "    counter = 0\n",
    "\n",
    "    # loop through patients\n",
    "    for pat in tqdm(patients):\n",
    "\n",
    "        if counter > 0 and only_one_patient:\n",
    "            break\n",
    "\n",
    "        if os.path.exists(path_to_all_tfr):\n",
    "            if pat in tfr_already_created_patients:\n",
    "                print(f\"Skipping patient {pat}\")\n",
    "                continue\n",
    "\n",
    "        # create patient folder\n",
    "        path_to_patient = path_to_all_tfr / pat\n",
    "        os.makedirs(path_to_patient, exist_ok=False)\n",
    "\n",
    "        leasions, leasion_layers = prepare_2d_images(pat, include_mask = include_mask, only_cutout = save_as_cutout, save_as_rgb = save_as_rgb)\n",
    "        print(f\"found {len(leasions)} leasion(s) and {len(leasion_layers)} layers in patient {pat}\")\n",
    "\n",
    "        for i in range(len(leasions)):\n",
    "\n",
    "            file_path = str(path_to_patient) + \"/\" + pat + \"_\" + str(i) + \".tfrecord\"\n",
    "            with tf.io.TFRecordWriter(file_path, options) as writer:\n",
    "\n",
    "                sex = sex_array_dict[pat]\n",
    "                leasion_data = leasions[i]\n",
    "                age = int(list(training_patients[training_patients[\"participant_id\"] == pat][\"age\"])[0])\n",
    "                layer = leasion_layers[i]\n",
    "                primary = specific_primaries_dict[pat]\n",
    "                # print(\"________________\")\n",
    "                # print(age)\n",
    "                example = serialize_2d_patient(leasion_data, sex, age, layer, primary)\n",
    "                writer.write(example)\n",
    "        \n",
    "        counter += 1"
   ]
  },
  {
   "cell_type": "code",
   "execution_count": null,
   "metadata": {},
   "outputs": [],
   "source": [
    "writeTFRecordFiles(save_as_rgb = False, save_as_cutout = False, include_mask = True)"
   ]
  },
  {
   "cell_type": "code",
   "execution_count": null,
   "metadata": {},
   "outputs": [],
   "source": [
    "writeTFRecordFiles(save_as_rgb = True, save_as_cutout = False, include_mask = True)"
   ]
  },
  {
   "cell_type": "code",
   "execution_count": null,
   "metadata": {},
   "outputs": [],
   "source": [
    "writeTFRecordFiles(save_as_rgb = False, save_as_cutout = True)"
   ]
  },
  {
   "cell_type": "code",
   "execution_count": null,
   "metadata": {},
   "outputs": [],
   "source": [
    "writeTFRecordFiles(save_as_rgb = True, save_as_cutout = True)"
   ]
  },
  {
   "cell_type": "markdown",
   "metadata": {},
   "source": [
    "#### Read TFRecord File"
   ]
  },
  {
   "cell_type": "code",
   "execution_count": 30,
   "metadata": {},
   "outputs": [
    {
     "name": "stdout",
     "output_type": "stream",
     "text": [
      "Sex: 1\n",
      "Age: 47\n",
      "Layer: 53\n",
      "Primary: 1\n",
      "(240, 240, 5)\n",
      "Median value: 0.0\n"
     ]
    },
    {
     "data": {
      "image/png": "[encoded data removed]",
      "text/plain": [
       "<Figure size 640x480 with 1 Axes>"
      ]
     },
     "metadata": {},
     "output_type": "display_data"
    }
   ],
   "source": [
    "path_to_testing_tfr = \"/Users/LennartPhilipp/Desktop/Uni/Prowiss/Datensatz_RGB/regensburg_slices_tfrecords/all_pats_single_slice_gray/sub-01190670/sub-01190670_1.tfrecord\"\n",
    "rgb = False\n",
    "\n",
    "num_images = 5 # 4 sequences + 1 mask\n",
    "\n",
    "image_shape = []\n",
    "\n",
    "if rgb: # rgb images need three channels\n",
    "    image_shape = [240, 240, 3, num_images]\n",
    "else: # gray scale images don't\n",
    "    image_shape = [240, 240, num_images]\n",
    "\n",
    "feature_description = {\n",
    "    \"image\": tf.io.FixedLenFeature(image_shape, tf.float32),\n",
    "    \"sex\": tf.io.FixedLenFeature([], tf.int64, default_value=[0]),\n",
    "    \"age\": tf.io.FixedLenFeature([], tf.int64, default_value=0),\n",
    "    \"layer\": tf.io.FixedLenFeature([], tf.int64, default_value=0),\n",
    "    \"primary\": tf.io.FixedLenFeature([], tf.int64, default_value=0),\n",
    "}\n",
    "\n",
    "def parse(serialize_patient):\n",
    "    example = tf.io.parse_single_example(serialize_patient, feature_description)\n",
    "    # input = [example[\"image\"], example[\"sex\"], example[\"age\"]]\n",
    "    # label = example[\"primary\"]\n",
    "    image = example[\"image\"]\n",
    "    image = tf.reshape(image, image_shape) #[149, 185, 155, 4] = old size\n",
    "    \n",
    "    return image, example[\"sex\"], example[\"age\"], example[\"layer\"], example[\"primary\"]\n",
    "\n",
    "dataset = tf.data.TFRecordDataset([path_to_testing_tfr], compression_type=\"GZIP\")\n",
    "parsed_dataset = dataset.map(parse)\n",
    "\n",
    "test_image = parsed_dataset.take(1)\n",
    "for image, sex, age, layer, primary in test_image:\n",
    "    print(f\"Sex: {sex.numpy()}\")\n",
    "    print(f\"Age: {age.numpy()}\")\n",
    "    print(f\"Layer: {layer.numpy()}\")\n",
    "    print(f\"Primary: {primary.numpy()}\")\n",
    "    numpy_image = image.numpy()\n",
    "    print(numpy_image.shape)\n",
    "    # print max and min values\n",
    "    print(f\"Median value: {np.median(numpy_image)}\")\n",
    "    plt.imshow(numpy_image[:,:,3])\n",
    "\n",
    "# sex\n",
    "# m = 1, 0\n",
    "# f = 0, 1"
   ]
  },
  {
   "cell_type": "markdown",
   "metadata": {},
   "source": [
    "#### Get Min-Max of Age and Layer Number\n",
    "Iterate over all patients to get the minimum and maximum value of the age and the layer number. This is important to normalize the values before training."
   ]
  },
  {
   "cell_type": "code",
   "execution_count": null,
   "metadata": {},
   "outputs": [],
   "source": [
    "path_to_preprocessed_patients = Path(\"/Users/LennartPhilipp/Desktop/Uni/Prowiss/Datensatz_RGB/regensburg_slices\")\n",
    "\n",
    "def get_min_max_age_layer():\n",
    "\n",
    "    patients = [patient for patient in os.listdir(path_to_preprocessed_patients) if os.path.isdir(os.path.join(path_to_preprocessed_patients, patient))]\n",
    "\n",
    "    # write a check to compare patient_ids with patients\n",
    "    patients = set(patients).intersection(patient_ids)\n",
    "\n",
    "    ages = []\n",
    "    layers = []\n",
    "    \n",
    "    # loop through patients\n",
    "    for pat in tqdm(patients):\n",
    "\n",
    "        leasions, leasion_layers = prepare_2d_images(pat, include_mask = False, only_cutout = False, save_as_rgb=False)\n",
    "\n",
    "        for i in range(len(leasions)):\n",
    "\n",
    "            age = int(list(training_patients[training_patients[\"participant_id\"] == pat][\"age\"])[0])\n",
    "            ages.append(age)\n",
    "\n",
    "            layer = leasion_layers[i]\n",
    "            layers.append(layer)\n",
    "    \n",
    "    return min(ages), max(ages), min(layers), max(layers)"
   ]
  },
  {
   "cell_type": "code",
   "execution_count": 15,
   "metadata": {},
   "outputs": [
    {
     "name": "stderr",
     "output_type": "stream",
     "text": [
      "100%|██████████| 470/470 [00:02<00:00, 168.35it/s]"
     ]
    },
    {
     "name": "stdout",
     "output_type": "stream",
     "text": [
      "Min age: 25, Max age: 93, Min layer: 0, Max layer: 138\n"
     ]
    },
    {
     "name": "stderr",
     "output_type": "stream",
     "text": [
      "\n"
     ]
    }
   ],
   "source": [
    "min_age, max_age, min_layer, max_layer = get_min_max_age_layer()\n",
    "\n",
    "print(f\"Min age: {min_age}, Max age: {max_age}, Min layer: {min_layer}, Max layer: {max_layer}\")"
   ]
  },
  {
   "cell_type": "markdown",
   "metadata": {},
   "source": [
    "## Yale Dataset\n",
    "Source: https://doi.org/10.7937/6be1-r748"
   ]
  },
  {
   "cell_type": "code",
   "execution_count": 113,
   "metadata": {},
   "outputs": [],
   "source": [
    "path_to_yale_preprocessed_images = Path(\"/Users/LennartPhilipp/Desktop/Uni/Prowiss/CIA metstobrain/yale_dataset_normalized\")\n",
    "path_to_yale_met_slices = Path(\"/Users/LennartPhilipp/Desktop/Uni/Prowiss/CIA metstobrain/yale_metastases\")\n",
    "path_to_yale_excel = Path(\"/Users/LennartPhilipp/Desktop/Uni/Prowiss/CIA metstobrain/Pretreat-MetsToBrain-Masks_clin_20240410.xlsx\")\n",
    "path_to_yale_tfrecords = Path('/Users/LennartPhilipp/Desktop/Uni/Prowiss/CIA metstobrain/yale_slices_tfrecords')"
   ]
  },
  {
   "cell_type": "code",
   "execution_count": 4,
   "metadata": {},
   "outputs": [
    {
     "name": "stdout",
     "output_type": "stream",
     "text": [
      "[86, 89, 90, 96, 97, 98, 100, 102, 104, 105, 106, 107, 108, 109, 110, 111, 112, 113, 114, 115, 116, 117, 118, 119, 120, 121, 122, 123, 124, 125, 126, 127, 128, 129, 130, 131, 132, 133, 134, 135, 136, 137, 138, 139, 140, 141, 142, 143, 144, 145, 147, 148, 149, 150, 151, 152, 153, 154, 155, 156, 157, 158, 159, 160, 161, 162, 163, 164, 165, 166, 167, 169, 170, 171, 172, 173, 174, 175, 176, 177, 178, 179, 180, 181, 182, 183, 184, 185, 187, 188, 189, 190, 191, 192, 193, 194, 195, 196, 197, 198, 199, 200, 201, 202, 203, 204, 205, 206, 207, 208, 209, 210, 211, 212, 213, 214, 215, 216, 217, 219, 220, 221, 222, 223, 224, 225, 226, 227, 229, 230, 231, 232, 233, 234, 235, 237, 238, 239, 240, 241, 242, 243, 244, 245, 247, 248, 249, 250, 251, 252, 253, 254, 255, 256, 258, 260, 262, 263, 264, 266, 267, 268, 269, 270, 271, 272, 273, 274, 275, 276, 277, 278, 280, 281, 282, 283, 284, 285, 286, 288, 289, 290, 291, 292, 293, 294, 295, 296, 298, 299, 300, 301, 302, 303, 304, 305, 306, 307, 309, 310]\n",
      "Total amount: 200\n"
     ]
    }
   ],
   "source": [
    "yale_training_patients = pd.read_excel(path_to_yale_excel, sheet_name=\"Data\")\n",
    "\n",
    "yale_patient_ids = yale_training_patients[\"BraTS_MET_ID\"].tolist()\n",
    "print(yale_patient_ids)\n",
    "print(f\"Total amount: {len(yale_training_patients)}\")\n",
    "\n",
    "# preprocessed_patients = [patient for patient in os.listdir(str(path_to_all_preprocessed_files)) if os.path.isdir(os.path.join(path_to_all_preprocessed_files / patient))]\n",
    "\n",
    "# for patient in preprocessed_patients:\n",
    "#     if patient not in patient_ids:\n",
    "#         print(patient)"
   ]
  },
  {
   "cell_type": "code",
   "execution_count": null,
   "metadata": {},
   "outputs": [],
   "source": [
    "# adjust the ids of the yale_primaries_array_dict to match the folder names\n",
    "# right now the ids are like this: 86, 89, etc.\n",
    "# I need them to be 00086, 00089, etc.\n",
    "\n",
    "def fill_keys_to_five_letters(dictionary):\n",
    "    \"\"\"Fills the keys of a dictionary with leading zeros to make them 5 characters long.\n",
    "    Ars: dictionary: A dictionary with keys that need to be padded.\n",
    "    Returns: A dictionary with keys that are 5 characters long.\n",
    "    \"\"\"\n",
    "    for key in list(dictionary.keys()):\n",
    "        new_key = str(key).zfill(5)  # Pad the key with zeros to make it 5 digits\n",
    "        dictionary[new_key] = dictionary.pop(key)\n",
    "    \n",
    "    return dictionary"
   ]
  },
  {
   "cell_type": "markdown",
   "metadata": {},
   "source": [
    "### Unify primary classes"
   ]
  },
  {
   "cell_type": "markdown",
   "metadata": {},
   "source": [
    "count different primaries that exist within the Yale Dataset. As one can see, most primaries belong to lung cancer (86 + 17 = 103), after that Melanoma (41), then Breast Cancer (26), Renal cell carcinoma (16) and lastly Gastrointestinal cancers (16)."
   ]
  },
  {
   "cell_type": "code",
   "execution_count": 5,
   "metadata": {},
   "outputs": [
    {
     "name": "stdout",
     "output_type": "stream",
     "text": [
      "Primary\n",
      "5    86\n",
      "4    41\n",
      "1    26\n",
      "3    17\n",
      "6    16\n",
      "2    14\n",
      "Name: count, dtype: int64\n"
     ]
    }
   ],
   "source": [
    "# primaries are written like this: 1, 2, 3, 4, 5\n",
    "# explanation:\n",
    "# 1 = Breast cancer; 2 = Gastrointestinal cancers;\n",
    "# 3 = Small cell lung cancer; 4 = Melanoma;\n",
    "# 5 = Non small cell lung cancer; 6 = Renal cell carcinoma; 7 = Other\n",
    "\n",
    "# given a certain amount of classes, e.g. 3:\n",
    "# create the following classes: lung, melanoma, other\n",
    "yale_primaries_array = yale_training_patients[\"Primary\"]\n",
    "print(yale_primaries_array.value_counts())"
   ]
  },
  {
   "cell_type": "markdown",
   "metadata": {},
   "source": [
    "Next we'll merge the two lung categories into one, meaning we combine category number 3 and category number 5 and turn it into a new category, 0."
   ]
  },
  {
   "cell_type": "code",
   "execution_count": 6,
   "metadata": {},
   "outputs": [
    {
     "name": "stdout",
     "output_type": "stream",
     "text": [
      "Primary\n",
      "0    103\n",
      "4     41\n",
      "1     26\n",
      "6     16\n",
      "2     14\n",
      "Name: count, dtype: int64\n"
     ]
    }
   ],
   "source": [
    "# replace each 5 and 3 in the yale_primaries_array with a 0\n",
    "\n",
    "yale_primaries_array = yale_primaries_array.replace(5, 0)\n",
    "yale_primaries_array = yale_primaries_array.replace(3, 0)\n",
    "\n",
    "print(yale_primaries_array.value_counts())"
   ]
  },
  {
   "cell_type": "code",
   "execution_count": 24,
   "metadata": {},
   "outputs": [
    {
     "name": "stdout",
     "output_type": "stream",
     "text": [
      "Original Yale Primaries Dict:\n",
      "{86: 1, 89: 4, 90: 6, 96: 0, 97: 0, 98: 6, 100: 4, 102: 1, 104: 2, 105: 0, 106: 0, 107: 6, 108: 6, 109: 4, 110: 6, 111: 0, 112: 6, 113: 1, 114: 4, 115: 4, 116: 0, 117: 0, 118: 0, 119: 0, 120: 0, 121: 1, 122: 0, 123: 0, 124: 4, 125: 6, 126: 0, 127: 4, 128: 2, 129: 2, 130: 1, 131: 0, 132: 0, 133: 6, 134: 0, 135: 0, 136: 1, 137: 1, 138: 4, 139: 1, 140: 0, 141: 2, 142: 1, 143: 4, 144: 0, 145: 0, 147: 1, 148: 0, 149: 0, 150: 6, 151: 0, 152: 0, 153: 0, 154: 0, 155: 0, 156: 6, 157: 4, 158: 4, 159: 4, 160: 0, 161: 4, 162: 0, 163: 0, 164: 0, 165: 0, 166: 4, 167: 6, 169: 4, 170: 0, 171: 0, 172: 0, 173: 2, 174: 4, 175: 0, 176: 0, 177: 0, 178: 0, 179: 0, 180: 0, 181: 0, 182: 6, 183: 0, 184: 0, 185: 4, 187: 4, 188: 2, 189: 0, 190: 4, 191: 2, 192: 0, 193: 0, 194: 1, 195: 0, 196: 1, 197: 0, 198: 4, 199: 0, 200: 1, 201: 2, 202: 4, 203: 4, 204: 4, 205: 4, 206: 1, 207: 0, 208: 2, 209: 0, 210: 1, 211: 0, 212: 0, 213: 0, 214: 0, 215: 0, 216: 0, 217: 1, 219: 1, 220: 6, 221: 0, 222: 1, 223: 0, 224: 0, 225: 0, 226: 0, 227: 0, 229: 2, 230: 0, 231: 0, 232: 0, 233: 0, 234: 0, 235: 0, 237: 0, 238: 0, 239: 0, 240: 1, 241: 0, 242: 0, 243: 4, 244: 0, 245: 0, 247: 0, 248: 0, 249: 4, 250: 0, 251: 0, 252: 0, 253: 2, 254: 4, 255: 6, 256: 0, 258: 0, 260: 1, 262: 6, 263: 1, 264: 1, 266: 0, 267: 0, 268: 4, 269: 0, 270: 4, 271: 4, 272: 4, 273: 4, 274: 6, 275: 1, 276: 0, 277: 0, 278: 2, 280: 0, 281: 1, 282: 4, 283: 4, 284: 0, 285: 2, 286: 4, 288: 1, 289: 0, 290: 0, 291: 1, 292: 0, 293: 4, 294: 4, 295: 0, 296: 4, 298: 0, 299: 4, 300: 0, 301: 4, 302: 0, 303: 0, 304: 0, 305: 0, 306: 4, 307: 0, 309: 0, 310: 2}\n",
      "\n",
      "Adjusted Yale Primaries Dict:\n",
      "{'00086': 1, '00089': 4, '00090': 6, '00096': 0, '00097': 0, '00098': 6, '00100': 4, '00102': 1, '00104': 2, '00105': 0, '00106': 0, '00107': 6, '00108': 6, '00109': 4, '00110': 6, '00111': 0, '00112': 6, '00113': 1, '00114': 4, '00115': 4, '00116': 0, '00117': 0, '00118': 0, '00119': 0, '00120': 0, '00121': 1, '00122': 0, '00123': 0, '00124': 4, '00125': 6, '00126': 0, '00127': 4, '00128': 2, '00129': 2, '00130': 1, '00131': 0, '00132': 0, '00133': 6, '00134': 0, '00135': 0, '00136': 1, '00137': 1, '00138': 4, '00139': 1, '00140': 0, '00141': 2, '00142': 1, '00143': 4, '00144': 0, '00145': 0, '00147': 1, '00148': 0, '00149': 0, '00150': 6, '00151': 0, '00152': 0, '00153': 0, '00154': 0, '00155': 0, '00156': 6, '00157': 4, '00158': 4, '00159': 4, '00160': 0, '00161': 4, '00162': 0, '00163': 0, '00164': 0, '00165': 0, '00166': 4, '00167': 6, '00169': 4, '00170': 0, '00171': 0, '00172': 0, '00173': 2, '00174': 4, '00175': 0, '00176': 0, '00177': 0, '00178': 0, '00179': 0, '00180': 0, '00181': 0, '00182': 6, '00183': 0, '00184': 0, '00185': 4, '00187': 4, '00188': 2, '00189': 0, '00190': 4, '00191': 2, '00192': 0, '00193': 0, '00194': 1, '00195': 0, '00196': 1, '00197': 0, '00198': 4, '00199': 0, '00200': 1, '00201': 2, '00202': 4, '00203': 4, '00204': 4, '00205': 4, '00206': 1, '00207': 0, '00208': 2, '00209': 0, '00210': 1, '00211': 0, '00212': 0, '00213': 0, '00214': 0, '00215': 0, '00216': 0, '00217': 1, '00219': 1, '00220': 6, '00221': 0, '00222': 1, '00223': 0, '00224': 0, '00225': 0, '00226': 0, '00227': 0, '00229': 2, '00230': 0, '00231': 0, '00232': 0, '00233': 0, '00234': 0, '00235': 0, '00237': 0, '00238': 0, '00239': 0, '00240': 1, '00241': 0, '00242': 0, '00243': 4, '00244': 0, '00245': 0, '00247': 0, '00248': 0, '00249': 4, '00250': 0, '00251': 0, '00252': 0, '00253': 2, '00254': 4, '00255': 6, '00256': 0, '00258': 0, '00260': 1, '00262': 6, '00263': 1, '00264': 1, '00266': 0, '00267': 0, '00268': 4, '00269': 0, '00270': 4, '00271': 4, '00272': 4, '00273': 4, '00274': 6, '00275': 1, '00276': 0, '00277': 0, '00278': 2, '00280': 0, '00281': 1, '00282': 4, '00283': 4, '00284': 0, '00285': 2, '00286': 4, '00288': 1, '00289': 0, '00290': 0, '00291': 1, '00292': 0, '00293': 4, '00294': 4, '00295': 0, '00296': 4, '00298': 0, '00299': 4, '00300': 0, '00301': 4, '00302': 0, '00303': 0, '00304': 0, '00305': 0, '00306': 4, '00307': 0, '00309': 0, '00310': 2}\n",
      "\n",
      "Return Specific Primaries Dict Function output:\n",
      "{'00086': 103, '00089': 102, '00090': 104, '00096': 101, '00097': 101, '00098': 104, '00100': 102, '00102': 103, '00104': 105, '00105': 101, '00106': 101, '00107': 104, '00108': 104, '00109': 102, '00110': 104, '00111': 101, '00112': 104, '00113': 103, '00114': 102, '00115': 102, '00116': 101, '00117': 101, '00118': 101, '00119': 101, '00120': 101, '00121': 103, '00122': 101, '00123': 101, '00124': 102, '00125': 104, '00126': 101, '00127': 102, '00128': 105, '00129': 105, '00130': 103, '00131': 101, '00132': 101, '00133': 104, '00134': 101, '00135': 101, '00136': 103, '00137': 103, '00138': 102, '00139': 103, '00140': 101, '00141': 105, '00142': 103, '00143': 102, '00144': 101, '00145': 101, '00147': 103, '00148': 101, '00149': 101, '00150': 104, '00151': 101, '00152': 101, '00153': 101, '00154': 101, '00155': 101, '00156': 104, '00157': 102, '00158': 102, '00159': 102, '00160': 101, '00161': 102, '00162': 101, '00163': 101, '00164': 101, '00165': 101, '00166': 102, '00167': 104, '00169': 102, '00170': 101, '00171': 101, '00172': 101, '00173': 105, '00174': 102, '00175': 101, '00176': 101, '00177': 101, '00178': 101, '00179': 101, '00180': 101, '00181': 101, '00182': 104, '00183': 101, '00184': 101, '00185': 102, '00187': 102, '00188': 105, '00189': 101, '00190': 102, '00191': 105, '00192': 101, '00193': 101, '00194': 103, '00195': 101, '00196': 103, '00197': 101, '00198': 102, '00199': 101, '00200': 103, '00201': 105, '00202': 102, '00203': 102, '00204': 102, '00205': 102, '00206': 103, '00207': 101, '00208': 105, '00209': 101, '00210': 103, '00211': 101, '00212': 101, '00213': 101, '00214': 101, '00215': 101, '00216': 101, '00217': 103, '00219': 103, '00220': 104, '00221': 101, '00222': 103, '00223': 101, '00224': 101, '00225': 101, '00226': 101, '00227': 101, '00229': 105, '00230': 101, '00231': 101, '00232': 101, '00233': 101, '00234': 101, '00235': 101, '00237': 101, '00238': 101, '00239': 101, '00240': 103, '00241': 101, '00242': 101, '00243': 102, '00244': 101, '00245': 101, '00247': 101, '00248': 101, '00249': 102, '00250': 101, '00251': 101, '00252': 101, '00253': 105, '00254': 102, '00255': 104, '00256': 101, '00258': 101, '00260': 103, '00262': 104, '00263': 103, '00264': 103, '00266': 101, '00267': 101, '00268': 102, '00269': 101, '00270': 102, '00271': 102, '00272': 102, '00273': 102, '00274': 104, '00275': 103, '00276': 101, '00277': 101, '00278': 105, '00280': 101, '00281': 103, '00282': 102, '00283': 102, '00284': 101, '00285': 105, '00286': 102, '00288': 103, '00289': 101, '00290': 101, '00291': 103, '00292': 101, '00293': 102, '00294': 102, '00295': 101, '00296': 102, '00298': 101, '00299': 102, '00300': 101, '00301': 102, '00302': 101, '00303': 101, '00304': 101, '00305': 101, '00306': 102, '00307': 101, '00309': 101, '00310': 105}\n",
      "{'00086': 103, '00089': 102, '00090': 104, '00096': 101, '00097': 101, '00098': 104, '00100': 102, '00102': 103, '00104': 105, '00105': 101, '00106': 101, '00107': 104, '00108': 104, '00109': 102, '00110': 104, '00111': 101, '00112': 104, '00113': 103, '00114': 102, '00115': 102, '00116': 101, '00117': 101, '00118': 101, '00119': 101, '00120': 101, '00121': 103, '00122': 101, '00123': 101, '00124': 102, '00125': 104, '00126': 101, '00127': 102, '00128': 105, '00129': 105, '00130': 103, '00131': 101, '00132': 101, '00133': 104, '00134': 101, '00135': 101, '00136': 103, '00137': 103, '00138': 102, '00139': 103, '00140': 101, '00141': 105, '00142': 103, '00143': 102, '00144': 101, '00145': 101, '00147': 103, '00148': 101, '00149': 101, '00150': 104, '00151': 101, '00152': 101, '00153': 101, '00154': 101, '00155': 101, '00156': 104, '00157': 102, '00158': 102, '00159': 102, '00160': 101, '00161': 102, '00162': 101, '00163': 101, '00164': 101, '00165': 101, '00166': 102, '00167': 104, '00169': 102, '00170': 101, '00171': 101, '00172': 101, '00173': 105, '00174': 102, '00175': 101, '00176': 101, '00177': 101, '00178': 101, '00179': 101, '00180': 101, '00181': 101, '00182': 104, '00183': 101, '00184': 101, '00185': 102, '00187': 102, '00188': 105, '00189': 101, '00190': 102, '00191': 105, '00192': 101, '00193': 101, '00194': 103, '00195': 101, '00196': 103, '00197': 101, '00198': 102, '00199': 101, '00200': 103, '00201': 105, '00202': 102, '00203': 102, '00204': 102, '00205': 102, '00206': 103, '00207': 101, '00208': 105, '00209': 101, '00210': 103, '00211': 101, '00212': 101, '00213': 101, '00214': 101, '00215': 101, '00216': 101, '00217': 103, '00219': 103, '00220': 104, '00221': 101, '00222': 103, '00223': 101, '00224': 101, '00225': 101, '00226': 101, '00227': 101, '00229': 105, '00230': 101, '00231': 101, '00232': 101, '00233': 101, '00234': 101, '00235': 101, '00237': 101, '00238': 101, '00239': 101, '00240': 103, '00241': 101, '00242': 101, '00243': 102, '00244': 101, '00245': 101, '00247': 101, '00248': 101, '00249': 102, '00250': 101, '00251': 101, '00252': 101, '00253': 105, '00254': 102, '00255': 104, '00256': 101, '00258': 101, '00260': 103, '00262': 104, '00263': 103, '00264': 103, '00266': 101, '00267': 101, '00268': 102, '00269': 101, '00270': 102, '00271': 102, '00272': 102, '00273': 102, '00274': 104, '00275': 103, '00276': 101, '00277': 101, '00278': 105, '00280': 101, '00281': 103, '00282': 102, '00283': 102, '00284': 101, '00285': 105, '00286': 102, '00288': 103, '00289': 101, '00290': 101, '00291': 103, '00292': 101, '00293': 102, '00294': 102, '00295': 101, '00296': 102, '00298': 101, '00299': 102, '00300': 101, '00301': 102, '00302': 101, '00303': 101, '00304': 101, '00305': 101, '00306': 102, '00307': 101, '00309': 101, '00310': 105}\n",
      "{'00086': 3, '00089': 2, '00090': 4, '00096': 1, '00097': 1, '00098': 4, '00100': 2, '00102': 3, '00104': 5, '00105': 1, '00106': 1, '00107': 4, '00108': 4, '00109': 2, '00110': 4, '00111': 1, '00112': 4, '00113': 3, '00114': 2, '00115': 2, '00116': 1, '00117': 1, '00118': 1, '00119': 1, '00120': 1, '00121': 3, '00122': 1, '00123': 1, '00124': 2, '00125': 4, '00126': 1, '00127': 2, '00128': 5, '00129': 5, '00130': 3, '00131': 1, '00132': 1, '00133': 4, '00134': 1, '00135': 1, '00136': 3, '00137': 3, '00138': 2, '00139': 3, '00140': 1, '00141': 5, '00142': 3, '00143': 2, '00144': 1, '00145': 1, '00147': 3, '00148': 1, '00149': 1, '00150': 4, '00151': 1, '00152': 1, '00153': 1, '00154': 1, '00155': 1, '00156': 4, '00157': 2, '00158': 2, '00159': 2, '00160': 1, '00161': 2, '00162': 1, '00163': 1, '00164': 1, '00165': 1, '00166': 2, '00167': 4, '00169': 2, '00170': 1, '00171': 1, '00172': 1, '00173': 5, '00174': 2, '00175': 1, '00176': 1, '00177': 1, '00178': 1, '00179': 1, '00180': 1, '00181': 1, '00182': 4, '00183': 1, '00184': 1, '00185': 2, '00187': 2, '00188': 5, '00189': 1, '00190': 2, '00191': 5, '00192': 1, '00193': 1, '00194': 3, '00195': 1, '00196': 3, '00197': 1, '00198': 2, '00199': 1, '00200': 3, '00201': 5, '00202': 2, '00203': 2, '00204': 2, '00205': 2, '00206': 3, '00207': 1, '00208': 5, '00209': 1, '00210': 3, '00211': 1, '00212': 1, '00213': 1, '00214': 1, '00215': 1, '00216': 1, '00217': 3, '00219': 3, '00220': 4, '00221': 1, '00222': 3, '00223': 1, '00224': 1, '00225': 1, '00226': 1, '00227': 1, '00229': 5, '00230': 1, '00231': 1, '00232': 1, '00233': 1, '00234': 1, '00235': 1, '00237': 1, '00238': 1, '00239': 1, '00240': 3, '00241': 1, '00242': 1, '00243': 2, '00244': 1, '00245': 1, '00247': 1, '00248': 1, '00249': 2, '00250': 1, '00251': 1, '00252': 1, '00253': 5, '00254': 2, '00255': 4, '00256': 1, '00258': 1, '00260': 3, '00262': 4, '00263': 3, '00264': 3, '00266': 1, '00267': 1, '00268': 2, '00269': 1, '00270': 2, '00271': 2, '00272': 2, '00273': 2, '00274': 4, '00275': 3, '00276': 1, '00277': 1, '00278': 5, '00280': 1, '00281': 3, '00282': 2, '00283': 2, '00284': 1, '00285': 5, '00286': 2, '00288': 3, '00289': 1, '00290': 1, '00291': 3, '00292': 1, '00293': 2, '00294': 2, '00295': 1, '00296': 2, '00298': 1, '00299': 2, '00300': 1, '00301': 2, '00302': 1, '00303': 1, '00304': 1, '00305': 1, '00306': 2, '00307': 1, '00309': 1, '00310': 5}\n",
      "1    103\n",
      "2     41\n",
      "3     26\n",
      "4     16\n",
      "5     14\n",
      "Name: count, dtype: int64\n"
     ]
    }
   ],
   "source": [
    "yale_primaries_array_dict = pd.Series(yale_primaries_array.values, index=yale_training_patients.BraTS_MET_ID).to_dict()\n",
    "\n",
    "print(\"Original Yale Primaries Dict:\")\n",
    "print(yale_primaries_array_dict)\n",
    "print()\n",
    "\n",
    "# adjust the ids of the yale_primaries_array_dict to match the folder names\n",
    "# right now the ids are like this: 86, 89, etc.\n",
    "# I need them to be 00086, 00089, etc.\n",
    "yale_primaries_array_dict = fill_keys_to_five_letters(yale_primaries_array_dict)\n",
    "\n",
    "print(\"Adjusted Yale Primaries Dict:\")\n",
    "print(yale_primaries_array_dict)\n",
    "print()\n",
    "\n",
    "print(\"Return Specific Primaries Dict Function output:\")\n",
    "yale_specific_primaries_dict = return_specific_primaries_dict(yale_primaries_array_dict, [1,2,3,4,5], \"Yale\")\n",
    "\n",
    "print(pd.Series(yale_specific_primaries_dict.values()).value_counts())"
   ]
  },
  {
   "cell_type": "markdown",
   "metadata": {},
   "source": [
    "1 stands for lung cancer in this case"
   ]
  },
  {
   "cell_type": "markdown",
   "metadata": {},
   "source": [
    "### One hot encode sex\n",
    "The sex in the yale dataset is encoded as such:\\\n",
    "0 = Male; 1 = Female\\\n",
    "Then it's time to adjust the dataset accordingly:"
   ]
  },
  {
   "cell_type": "code",
   "execution_count": 25,
   "metadata": {},
   "outputs": [
    {
     "name": "stdout",
     "output_type": "stream",
     "text": [
      "{'00086': 1, '00089': 1, '00090': 1, '00096': 0, '00097': 1, '00098': 0, '00100': 1, '00102': 1, '00104': 1, '00105': 1, '00106': 1, '00107': 0, '00108': 0, '00109': 1, '00110': 1, '00111': 1, '00112': 0, '00113': 1, '00114': 0, '00115': 0, '00116': 1, '00117': 1, '00118': 1, '00119': 1, '00120': 1, '00121': 1, '00122': 1, '00123': 1, '00124': 0, '00125': 0, '00126': 1, '00127': 0, '00128': 0, '00129': 0, '00130': 1, '00131': 1, '00132': 0, '00133': 1, '00134': 0, '00135': 1, '00136': 1, '00137': 1, '00138': 0, '00139': 1, '00140': 0, '00141': 1, '00142': 1, '00143': 1, '00144': 0, '00145': 1, '00147': 1, '00148': 1, '00149': 0, '00150': 1, '00151': 1, '00152': 1, '00153': 1, '00154': 1, '00155': 1, '00156': 1, '00157': 1, '00158': 0, '00159': 0, '00160': 0, '00161': 1, '00162': 1, '00163': 1, '00164': 0, '00165': 0, '00166': 0, '00167': 0, '00169': 0, '00170': 1, '00171': 0, '00172': 1, '00173': 0, '00174': 1, '00175': 1, '00176': 1, '00177': 0, '00178': 1, '00179': 0, '00180': 1, '00181': 1, '00182': 1, '00183': 0, '00184': 1, '00185': 0, '00187': 0, '00188': 1, '00189': 1, '00190': 0, '00191': 0, '00192': 0, '00193': 0, '00194': 1, '00195': 0, '00196': 1, '00197': 0, '00198': 0, '00199': 0, '00200': 1, '00201': 0, '00202': 1, '00203': 0, '00204': 0, '00205': 1, '00206': 1, '00207': 1, '00208': 0, '00209': 1, '00210': 1, '00211': 1, '00212': 0, '00213': 1, '00214': 1, '00215': 1, '00216': 1, '00217': 1, '00219': 1, '00220': 0, '00221': 0, '00222': 1, '00223': 1, '00224': 0, '00225': 0, '00226': 1, '00227': 1, '00229': 0, '00230': 0, '00231': 0, '00232': 1, '00233': 1, '00234': 1, '00235': 1, '00237': 0, '00238': 0, '00239': 0, '00240': 1, '00241': 1, '00242': 0, '00243': 0, '00244': 0, '00245': 1, '00247': 1, '00248': 1, '00249': 0, '00250': 0, '00251': 0, '00252': 1, '00253': 1, '00254': 1, '00255': 1, '00256': 1, '00258': 1, '00260': 1, '00262': 1, '00263': 1, '00264': 1, '00266': 1, '00267': 1, '00268': 0, '00269': 1, '00270': 1, '00271': 1, '00272': 0, '00273': 1, '00274': 0, '00275': 1, '00276': 1, '00277': 1, '00278': 1, '00280': 1, '00281': 1, '00282': 0, '00283': 1, '00284': 0, '00285': 1, '00286': 0, '00288': 1, '00289': 0, '00290': 1, '00291': 1, '00292': 1, '00293': 1, '00294': 0, '00295': 1, '00296': 0, '00298': 1, '00299': 0, '00300': 1, '00301': 1, '00302': 0, '00303': 1, '00304': 0, '00305': 1, '00306': 0, '00307': 1, '00309': 1, '00310': 1}\n",
      "1    125\n",
      "0     75\n",
      "Name: count, dtype: int64\n"
     ]
    }
   ],
   "source": [
    "yale_sex_array_dict = pd.Series(yale_training_patients[\"Sex\"].values, index=yale_training_patients.BraTS_MET_ID).to_dict()\n",
    "\n",
    "yale_sex_array_dict = fill_keys_to_five_letters(yale_sex_array_dict)\n",
    "print(yale_sex_array_dict)\n",
    "print(pd.Series(yale_sex_array_dict).value_counts())"
   ]
  },
  {
   "cell_type": "markdown",
   "metadata": {},
   "source": [
    "### 2D images\n",
    "\n",
    "#### Prepare Images For Training\n",
    "- load pngs files\n",
    "- give options to load mask or cutout\n",
    "- rotate images 90 degrees?\n",
    "- compress all sequences into one array"
   ]
  },
  {
   "cell_type": "code",
   "execution_count": 118,
   "metadata": {},
   "outputs": [
    {
     "name": "stdout",
     "output_type": "stream",
     "text": [
      "(240, 240)\n"
     ]
    },
    {
     "data": {
      "image/png": "[encoded data removed]",
      "text/plain": [
       "<Figure size 640x480 with 1 Axes>"
      ]
     },
     "metadata": {},
     "output_type": "display_data"
    }
   ],
   "source": [
    "yale_test_leasions, yale_test_leasion_layers = load_2d_image(\n",
    "    patient_id = \"00086\",\n",
    "    path_to_sliced_images = path_to_yale_met_slices,\n",
    "    dataset = \"Yale\",\n",
    "    include_mask = True,\n",
    "    only_cutout = False,\n",
    "    save_as_rgb = False\n",
    ")\n",
    "\n",
    "plt.imshow(yale_test_leasions[0][3], cmap = \"gray\")\n",
    "\n",
    "print(yale_test_leasions[0][1].shape)\n",
    "\n",
    "merged = merge_2d_images(yale_test_leasions)"
   ]
  },
  {
   "cell_type": "markdown",
   "metadata": {},
   "source": [
    "#### Data Augmentation"
   ]
  },
  {
   "cell_type": "code",
   "execution_count": 161,
   "metadata": {},
   "outputs": [
    {
     "name": "stdout",
     "output_type": "stream",
     "text": [
      "input shape: (240, 240, 5)\n",
      "augmented shape: (240, 240, 5)\n",
      "Max value: 1.0\n",
      "Mean value: 0.12883793\n",
      "Min value: 0.0\n"
     ]
    },
    {
     "data": {
      "image/png": "[encoded data removed]",
      "text/plain": [
       "<Figure size 640x480 with 1 Axes>"
      ]
     },
     "metadata": {},
     "output_type": "display_data"
    }
   ],
   "source": [
    "yale_patient_images = merge_2d_images(\n",
    "    load_2d_image(\n",
    "        patient_id = \"00086\",\n",
    "        path_to_sliced_images = path_to_yale_met_slices,\n",
    "        include_mask = True,\n",
    "        only_cutout = False,\n",
    "        save_as_rgb = False,\n",
    "        dataset = \"Yale\"\n",
    "    )[0])[1]\n",
    "\n",
    "print(f\"input shape: {yale_patient_images.shape}\")\n",
    "\n",
    "yale_augmented_images = data_augmentation(yale_patient_images)\n",
    "\n",
    "print(f\"augmented shape: {yale_augmented_images.shape}\")\n",
    "\n",
    "plt.imshow(np.array(yale_augmented_images[:,:,2]), cmap=\"inferno\")\n",
    "plt.axis(\"off\")\n",
    "\n",
    "print(\"Max value:\", np.array(yale_augmented_images).max())\n",
    "print(\"Mean value:\", np.array(yale_augmented_images).mean())\n",
    "print(\"Min value:\", np.array(yale_augmented_images).min())"
   ]
  },
  {
   "cell_type": "markdown",
   "metadata": {},
   "source": [
    "#### Class weight calculation for weighted loss"
   ]
  },
  {
   "cell_type": "code",
   "execution_count": 109,
   "metadata": {},
   "outputs": [
    {
     "name": "stdout",
     "output_type": "stream",
     "text": [
      "--- Calculating Lesion-Level Label Distribution ---\n"
     ]
    },
    {
     "name": "stderr",
     "output_type": "stream",
     "text": [
      "Counting lesions per patient:  50%|████▉     | 99/200 [00:00<00:00, 114.17it/s]"
     ]
    },
    {
     "name": "stdout",
     "output_type": "stream",
     "text": [
      "Warning: Patient 00190 has 0 lesions. Skipping.\n"
     ]
    },
    {
     "name": "stderr",
     "output_type": "stream",
     "text": [
      "Counting lesions per patient: 100%|██████████| 200/200 [00:01<00:00, 116.00it/s]"
     ]
    },
    {
     "name": "stdout",
     "output_type": "stream",
     "text": [
      "\n",
      "Lesion-Level Label Distribution (0-5 classes, as would be in TFRecords):\n",
      "1    292\n",
      "2    223\n",
      "3    140\n",
      "4     89\n",
      "5     38\n",
      "Name: count, dtype: int64\n",
      "Total number of lesions processed: 782\n",
      "--- Finished Calculating Lesion-Level Label Distribution ---\n"
     ]
    },
    {
     "name": "stderr",
     "output_type": "stream",
     "text": [
      "\n"
     ]
    }
   ],
   "source": [
    "print(\"--- Calculating Lesion-Level Label Distribution ---\")\n",
    "\n",
    "# Ensure prerequisite variables and functions are available\n",
    "if 'yale_specific_primaries_dict' not in locals() or 'yale_patient_ids' not in locals():\n",
    "    raise NameError(\"ERROR: 'yale_specific_primaries_dict' or 'yale_patient_ids' is not defined. \"\n",
    "                    \"Please run the notebook cells that define these variables first.\")\n",
    "if 'load_2d_image' not in locals():\n",
    "    raise NameError(\"ERROR: 'load_2d_image' function is not defined (Cell 20).\")\n",
    "if 'merge_2d_images' not in locals():\n",
    "    raise NameError(\"ERROR: 'merge_2d_images' function is not defined (Cell 21).\")\n",
    "\n",
    "# fill the yale_patient_ids to the correct length of 5 letters\n",
    "# current ids: 86, 89, etc.\n",
    "# correct ids: 00086, 00089, etc.\n",
    "yale_patient_ids = [str(id).zfill(5) for id in yale_patient_ids]\n",
    "\n",
    "all_lesion_labels = []\n",
    "# Get a list of patient subfolders actually present in path_to_yale_met_slices\n",
    "available_sliced_patients = [p for p in os.listdir(path_to_yale_met_slices) if os.path.isdir(os.path.join(path_to_yale_met_slices, p))]\n",
    "\n",
    "# Filter patient_ids to only include those present in both path_to_yale_met_slices AND yale_specific_primaries_dict\n",
    "valid_patient_ids_for_lesion_count = [\n",
    "    pid for pid in yale_patient_ids\n",
    "    if pid in available_sliced_patients and pid in yale_specific_primaries_dict\n",
    "]\n",
    "\n",
    "# Report any discrepancies\n",
    "missing_in_slices = set(yale_patient_ids) - set(available_sliced_patients)\n",
    "if missing_in_slices:\n",
    "    print(f\"Warning: The following patients from 'yale_patient_ids' are not in 'path_to_yale_met_slices' and will be skipped: {missing_in_slices}\")\n",
    "\n",
    "missing_in_dict = set(yale_patient_ids) - set(yale_specific_primaries_dict.keys())\n",
    "if missing_in_dict:\n",
    "     print(f\"Warning: The following patients from 'yale_patient_ids' are not in 'yale_specific_primaries_dict' and will be skipped: {missing_in_dict}\")\n",
    "\n",
    "\n",
    "for pat_id in tqdm(valid_patient_ids_for_lesion_count, desc=\"Counting lesions per patient\"):\n",
    "    try:\n",
    "        # The parameters include_mask, only_cutout, save_as_rgb for load_2d_rgb_image\n",
    "        # should not affect the *number* of lesions found.\n",
    "        # We use include_mask=True as it's used in the TFRecord creation logic (Cell 22)\n",
    "        # and save_as_rgb=False as the base image loading is typically grayscale before potential RGB stacking.\n",
    "        lesions_data, _ = load_2d_image(\n",
    "            patient_id = pat_id,\n",
    "            path_to_sliced_images = path_to_yale_met_slices,\n",
    "            include_mask = True,\n",
    "            only_cutout = False,\n",
    "            save_as_rgb = False,\n",
    "            dataset = \"Yale\"\n",
    "        )\n",
    "        num_lesions_for_patient = len(lesions_data)\n",
    "        \n",
    "        if num_lesions_for_patient == 0:\n",
    "            print(f\"Warning: Patient {pat_id} has 0 lesions. Skipping.\")\n",
    "            continue\n",
    "            \n",
    "        primary_class_for_patient = yale_specific_primaries_dict[pat_id]\n",
    "        all_lesion_labels.extend([primary_class_for_patient] * num_lesions_for_patient)\n",
    "        \n",
    "    except FileNotFoundError:\n",
    "        print(f\"Warning: Sliced image data not found for patient {pat_id} in {path_to_yale_met_slices / pat_id}. Skipping this patient.\")\n",
    "    except Exception as e:\n",
    "        print(f\"Error processing patient {pat_id}: {e}. Skipping this patient.\")\n",
    "\n",
    "# This series now represents the primary class (0-5) for each individual lesion\n",
    "yale_lesion_labels_in_tfrecord_series = pd.Series(all_lesion_labels)\n",
    "\n",
    "print(\"\\nLesion-Level Label Distribution (0-5 classes, as would be in TFRecords):\")\n",
    "if not yale_lesion_labels_in_tfrecord_series.empty:\n",
    "    print(yale_lesion_labels_in_tfrecord_series.value_counts().sort_index())\n",
    "    print(f\"Total number of lesions processed: {len(all_lesion_labels)}\")\n",
    "else:\n",
    "    print(\"No lesion labels were generated. Please check patient data and paths.\")\n",
    "\n",
    "print(\"--- Finished Calculating Lesion-Level Label Distribution ---\")"
   ]
  },
  {
   "cell_type": "code",
   "execution_count": 111,
   "metadata": {},
   "outputs": [
    {
     "name": "stdout",
     "output_type": "stream",
     "text": [
      "--- Calculating Class Weights Based on Lesion Counts (Simulating Training Script Parsing) ---\n",
      "\n",
      "Base Lesion-Level Label Distribution (used for TFRecords):\n",
      "1    292\n",
      "2    223\n",
      "3    140\n",
      "4     89\n",
      "5     38\n",
      "Name: count, dtype: int64\n",
      "\n",
      "--- Simulating for num_classes = 2 in training script (Lesion-Based) ---\n",
      "Lesion-Level Label Distribution *After* Simulated Parsing (num_classes=2):\n",
      "0    490\n",
      "1    292\n",
      "Name: count, dtype: int64\n",
      "Unique classes present after simulation (Lesion-Based): [0 1]\n",
      "Class Weights (Lesion-Based, for training with num_classes=2): {0: 0.7979591836734694, 1: 1.3390410958904109}\n",
      "\n",
      "--- Simulating for num_classes = 3 in training script (Lesion-Based) ---\n",
      "Lesion-Level Label Distribution *After* Simulated Parsing (num_classes=3):\n",
      "0    267\n",
      "1    292\n",
      "2    223\n",
      "Name: count, dtype: int64\n",
      "Unique classes present after simulation (Lesion-Based): [0 1 2]\n",
      "Class Weights (Lesion-Based, for training with num_classes=3): {0: 0.9762796504369539, 1: 0.8926940639269406, 2: 1.1689088191330343}\n",
      "\n",
      "--- Simulating for num_classes = 4 in training script (Lesion-Based) ---\n",
      "Lesion-Level Label Distribution *After* Simulated Parsing (num_classes=4):\n",
      "0    127\n",
      "1    292\n",
      "2    223\n",
      "3    140\n",
      "Name: count, dtype: int64\n",
      "Unique classes present after simulation (Lesion-Based): [0 1 2 3]\n",
      "Class Weights (Lesion-Based, for training with num_classes=4): {0: 1.5393700787401574, 1: 0.6695205479452054, 2: 0.8766816143497758, 3: 1.3964285714285714}\n",
      "\n",
      "--- Simulating for num_classes = 5 in training script (Lesion-Based) ---\n",
      "Lesion-Level Label Distribution *After* Simulated Parsing (num_classes=5):\n",
      "0     38\n",
      "1    292\n",
      "2    223\n",
      "3    140\n",
      "4     89\n",
      "Name: count, dtype: int64\n",
      "Unique classes present after simulation (Lesion-Based): [0 1 2 3 4]\n",
      "Class Weights (Lesion-Based, for training with num_classes=5): {0: 4.11578947368421, 1: 0.5356164383561643, 2: 0.7013452914798206, 3: 1.1171428571428572, 4: 1.7573033707865169}\n",
      "\n",
      "--- Simulating for num_classes = 6 in training script (Lesion-Based) ---\n",
      "Lesion-Level Label Distribution *After* Simulated Parsing (num_classes=6):\n",
      "1    292\n",
      "2    223\n",
      "3    140\n",
      "4     89\n",
      "5     38\n",
      "Name: count, dtype: int64\n",
      "Unique classes present after simulation (Lesion-Based): [1 2 3 4 5]\n",
      "Warning: Class 0 has 0 lesions after simulating for num_classes=6. It will be handled by class_weight='balanced' if other classes exist.\n",
      "Class Weights (Lesion-Based, for training with num_classes=6): {1: 0.5356164383561643, 2: 0.7013452914798206, 3: 1.1171428571428572, 4: 1.7573033707865169, 5: 4.11578947368421}\n",
      "\n",
      "--- Finished Simulating and Calculating Lesion-Based Class Weights ---\n"
     ]
    }
   ],
   "source": [
    "# --- Class Weight Calculation Block (Simulating Training Script Parsing - LESION-BASED) ---\n",
    "\n",
    "# IMPORTANT: Ensure this block runs *after* the cell that defines\n",
    "# 'yale_lesion_labels_in_tfrecord_series' (the new block created in Step 2)\n",
    "\n",
    "print(\"--- Calculating Class Weights Based on Lesion Counts (Simulating Training Script Parsing) ---\")\n",
    "\n",
    "# Check if yale_lesion_labels_in_tfrecord_series exists\n",
    "if 'yale_lesion_labels_in_tfrecord_series' not in locals() or yale_lesion_labels_in_tfrecord_series.empty:\n",
    "    raise NameError(\"ERROR: 'yale_lesion_labels_in_tfrecord_series' is not defined or is empty. \"\n",
    "                    \"Please run the new block that calculates lesion-level labels before this block.\")\n",
    "\n",
    "# 1. Use the base 6-class labels FOR EACH LESION (0-5)\n",
    "print(\"\\nBase Lesion-Level Label Distribution (used for TFRecords):\")\n",
    "print(yale_lesion_labels_in_tfrecord_series.value_counts().sort_index())\n",
    "\n",
    "# 2. Dictionary to store the weights for each training scenario (2-6 classes)\n",
    "all_scenario_class_weights_lesion_based = {}\n",
    "\n",
    "# 3. Loop through the possible 'num_classes' settings in the training script\n",
    "for n_classes_scenario in range(2, 7): # n_classes_scenario is num_classes used during training (2, 3, 4, 5, 6)\n",
    "    print(f\"\\n--- Simulating for num_classes = {n_classes_scenario} in training script (Lesion-Based) ---\")\n",
    "\n",
    "    # Simulate the label collapsing that would happen during training script's parse_record\n",
    "    def simulate_parsing_for_lesions(label, target_n_classes):\n",
    "        # In your training script, class 0 is 'other'.\n",
    "        # Classes 1 to target_n_classes-1 are the specific primaries.\n",
    "        # Any original label >= target_n_classes becomes 'other' (class 0).\n",
    "        # Label 0 (original 'other') remains 'other' (class 0).\n",
    "        if 1 <= label < target_n_classes:\n",
    "            return label  # Specific primary class\n",
    "        else:\n",
    "            return 0      # 'Other' class\n",
    "\n",
    "    # Apply the simulation function to the base lesion labels\n",
    "    labels_after_parsing_series_lesion_based = yale_lesion_labels_in_tfrecord_series.apply(\n",
    "        lambda x: simulate_parsing_for_lesions(x, n_classes_scenario)\n",
    "    )\n",
    "\n",
    "    print(f\"Lesion-Level Label Distribution *After* Simulated Parsing (num_classes={n_classes_scenario}):\")\n",
    "    print(labels_after_parsing_series_lesion_based.value_counts().sort_index())\n",
    "\n",
    "    # Determine the unique classes present AFTER simulated parsing\n",
    "    unique_parsed_classes_lesion_based = np.sort(labels_after_parsing_series_lesion_based.unique())\n",
    "    print(f\"Unique classes present after simulation (Lesion-Based): {unique_parsed_classes_lesion_based}\")\n",
    "    \n",
    "    expected_classes_in_scenario = np.arange(n_classes_scenario)\n",
    "    \n",
    "    # Check for missing classes and handle warnings\n",
    "    current_counts = labels_after_parsing_series_lesion_based.value_counts()\n",
    "    for cls_val in expected_classes_in_scenario:\n",
    "        if cls_val not in current_counts.index:\n",
    "            print(f\"Warning: Class {cls_val} has 0 lesions after simulating for num_classes={n_classes_scenario}. \"\n",
    "                  \"It will be handled by class_weight='balanced' if other classes exist.\")\n",
    "\n",
    "    weights_dict_lesion_based = {}\n",
    "    if len(unique_parsed_classes_lesion_based) == 0:\n",
    "        print(f\"Warning: No classes present after simulating for num_classes={n_classes_scenario}. Skipping weight calculation.\")\n",
    "    elif len(unique_parsed_classes_lesion_based) == 1:\n",
    "        # If only one class remains (e.g., all are 'other'), its weight is 1.0\n",
    "        weights_dict_lesion_based = {unique_parsed_classes_lesion_based[0]: 1.0}\n",
    "        print(f\"Warning: Only one class present after simulating for num_classes={n_classes_scenario}. Assigning weight of 1.0.\")\n",
    "    else:\n",
    "        # Calculate weights using sklearn based on the lesion labels *after* simulated parsing\n",
    "        weights = class_weight.compute_class_weight(\n",
    "            class_weight=\"balanced\",\n",
    "            classes=unique_parsed_classes_lesion_based, # Use the classes actually present in the data\n",
    "            y=labels_after_parsing_series_lesion_based.to_numpy()\n",
    "        )\n",
    "        # Store weights in a dictionary format {class_label: weight}\n",
    "        weights_dict_lesion_based = {label: weight for label, weight in zip(unique_parsed_classes_lesion_based, weights)}\n",
    "\n",
    "    all_scenario_class_weights_lesion_based[n_classes_scenario] = weights_dict_lesion_based\n",
    "    print(f\"Class Weights (Lesion-Based, for training with num_classes={n_classes_scenario}): {weights_dict_lesion_based}\")\n",
    "\n",
    "print(\"\\n--- Finished Simulating and Calculating Lesion-Based Class Weights ---\")\n",
    "# 'all_scenario_class_weights_lesion_based' now holds the correctly calculated weights.\n",
    "# Example: all_scenario_class_weights_lesion_based[2] has weights for {0: ..., 1: ...} for the 2-class case."
   ]
  },
  {
   "cell_type": "markdown",
   "metadata": {},
   "source": [
    "#### TFRecord Creation"
   ]
  },
  {
   "cell_type": "code",
   "execution_count": 176,
   "metadata": {},
   "outputs": [],
   "source": [
    "# using the serialization from the code above (see \"Regensburg\" -> \"TFRecord Creation\" -> first code block)\n",
    "\n",
    "def write_Yale_TFRecord_Files(save_as_rgb, save_as_cutout, include_mask, only_one_patient = False):\n",
    "\n",
    "    # write the dataset to TFRecord\n",
    "    options = tf.io.TFRecordOptions(compression_type=\"GZIP\") # compress the dataset\n",
    "\n",
    "    patients = [patient for patient in os.listdir(path_to_yale_met_slices) if os.path.isdir(os.path.join(path_to_yale_met_slices, patient))]\n",
    "\n",
    "    # write a check to compare patient_ids with patients\n",
    "    corrected_yale_patient_ids = [str(id).zfill(5) for id in yale_patient_ids]\n",
    "    patients = set(patients).intersection(corrected_yale_patient_ids)\n",
    "\n",
    "    # define folder name based on parameters\n",
    "    slice_text = \"cutout\" if save_as_cutout else \"slice\"\n",
    "    color_text = \"rgb\" if save_as_rgb else \"gray\"\n",
    "\n",
    "    folder_text = f\"all_pats_single_{slice_text}_{color_text}\"\n",
    "\n",
    "    # create new folder for Yale TFRecords\n",
    "    path_to_all_tfr = path_to_yale_tfrecords / Path(folder_text)\n",
    "    os.makedirs(path_to_all_tfr, exist_ok=True)\n",
    "\n",
    "    # get list of already processed patients\n",
    "    tfr_already_created_patients = [patient for patient in os.listdir(path_to_all_tfr) if os.path.isdir(os.path.join(path_to_all_tfr, patient))]\n",
    "\n",
    "    # check if the number of lesions equals the number of tfr files of the already created patients\n",
    "    for patient in tfr_already_created_patients:\n",
    "        # check if the number of lesions equals the number of tfr files\n",
    "        path_to_patient = path_to_all_tfr / patient\n",
    "        tfr_files = [f for f in os.listdir(path_to_patient) if f.endswith(\".tfrecord\")]\n",
    "        num_leasions = len(tfr_files)\n",
    "        lesions, lesion_layers = load_2d_image(\n",
    "            patient_id = patient,\n",
    "            path_to_sliced_images = path_to_yale_met_slices,\n",
    "            include_mask = True,\n",
    "            only_cutout = save_as_cutout,\n",
    "            save_as_rgb = save_as_rgb,\n",
    "            dataset = \"Yale\"\n",
    "        )\n",
    "        if num_leasions != len(leasions):\n",
    "            # delete the patient folder\n",
    "            shutil.rmtree(path_to_patient)\n",
    "            tfr_already_created_patients.remove(patient)\n",
    "    \n",
    "    # counter to limit the number of patients processed\n",
    "    counter = 0\n",
    "\n",
    "    # loop through patients and write a tfrecord file for each lesion\n",
    "    for patient in tqdm(patients, desc=\"Writing TFRecord files for Yale patients\"):\n",
    "\n",
    "        clean_patient_id = int(patient)  # Convert to int for consistency with Yale IDs\n",
    "\n",
    "        if counter > 0 and only_one_patient:\n",
    "            break\n",
    "        \n",
    "        # skip if the patient already has a TFRecord folder\n",
    "        if os.path.exists(path_to_all_tfr):\n",
    "            if patient in tfr_already_created_patients:\n",
    "                print(f\"Skipping patient {patient}\")\n",
    "                continue\n",
    "        \n",
    "        # create patient folder\n",
    "        path_to_patient = path_to_all_tfr / patient\n",
    "        os.makedirs(path_to_patient, exist_ok=False)\n",
    "\n",
    "        # get leasions\n",
    "        lesions, lesion_layers = prepare_2d_images(\n",
    "            patient, \n",
    "            include_mask = include_mask, \n",
    "            only_cutout = save_as_cutout, \n",
    "            save_as_rgb = save_as_rgb,\n",
    "            dataset = \"Yale\"\n",
    "        )\n",
    "        print(f\"Found {len(lesions)} lesion(s) and {len(lesion_layers)} layers in patient {patient}\")\n",
    "\n",
    "        # loop over each leasion and write a TFRecord file\n",
    "        for i in range(len(lesions)):\n",
    "            \n",
    "            # define the file path for the TFRecord file\n",
    "            file_path = str(path_to_patient) + \"/\" + patient + \"_\" + str(i) + \".tfrecord\"\n",
    "            with tf.io.TFRecordWriter(file_path, options) as writer:\n",
    "\n",
    "                # get the leasion data\n",
    "                leasion_data = lesions[i]\n",
    "                layer = lesion_layers[i]\n",
    "\n",
    "                # age\n",
    "                try:\n",
    "                    age = int(list(yale_training_patients[yale_training_patients[\"BraTS_MET_ID\"] == clean_patient_id][\"Age\"])[0])\n",
    "                    #print(f\"Age for patient {clean_patient_id}: {age}\")\n",
    "                except IndexError:\n",
    "                    raise ValueError(f\"Age not found for patient {clean_patient_id}. Please check the Yale dataset.\")\n",
    "                \n",
    "                # sex\n",
    "                sex = yale_sex_array_dict[patient]\n",
    "\n",
    "                # primary\n",
    "                primary = yale_specific_primaries_dict[patient]\n",
    "\n",
    "                # serialize the leasion data\n",
    "                example = serialize_2d_patient(leasion_data, sex, age, layer, primary)\n",
    "\n",
    "                # write the serialized data to the TFRecord file\n",
    "                writer.write(example)\n",
    "        \n",
    "        counter += 1"
   ]
  },
  {
   "cell_type": "code",
   "execution_count": 178,
   "metadata": {},
   "outputs": [
    {
     "name": "stderr",
     "output_type": "stream",
     "text": [
      "Writing TFRecord files for Yale patients:   0%|          | 0/200 [00:00<?, ?it/s]"
     ]
    },
    {
     "name": "stdout",
     "output_type": "stream",
     "text": [
      "Found 6 lesion(s) and 6 layers in patient 00291\n"
     ]
    },
    {
     "name": "stderr",
     "output_type": "stream",
     "text": [
      "Writing TFRecord files for Yale patients:   0%|          | 1/200 [01:33<5:09:58, 93.46s/it]"
     ]
    },
    {
     "name": "stdout",
     "output_type": "stream",
     "text": [
      "Found 9 lesion(s) and 9 layers in patient 00172\n"
     ]
    },
    {
     "name": "stderr",
     "output_type": "stream",
     "text": [
      "Writing TFRecord files for Yale patients:   1%|          | 2/200 [03:56<6:44:27, 122.56s/it]"
     ]
    },
    {
     "name": "stdout",
     "output_type": "stream",
     "text": [
      "Found 1 lesion(s) and 1 layers in patient 00213\n"
     ]
    },
    {
     "name": "stderr",
     "output_type": "stream",
     "text": [
      "Writing TFRecord files for Yale patients:   2%|▏         | 3/200 [04:12<4:02:15, 73.78s/it] "
     ]
    },
    {
     "name": "stdout",
     "output_type": "stream",
     "text": [
      "Found 1 lesion(s) and 1 layers in patient 00285\n"
     ]
    },
    {
     "name": "stderr",
     "output_type": "stream",
     "text": [
      "Writing TFRecord files for Yale patients:   2%|▏         | 4/200 [04:27<2:46:14, 50.89s/it]"
     ]
    },
    {
     "name": "stdout",
     "output_type": "stream",
     "text": [
      "Found 2 lesion(s) and 2 layers in patient 00235\n"
     ]
    },
    {
     "name": "stderr",
     "output_type": "stream",
     "text": [
      "Writing TFRecord files for Yale patients:   2%|▎         | 5/200 [04:59<2:22:43, 43.92s/it]"
     ]
    },
    {
     "name": "stdout",
     "output_type": "stream",
     "text": [
      "Found 1 lesion(s) and 1 layers in patient 00258\n"
     ]
    },
    {
     "name": "stderr",
     "output_type": "stream",
     "text": [
      "Writing TFRecord files for Yale patients:   3%|▎         | 6/200 [05:15<1:51:19, 34.43s/it]"
     ]
    },
    {
     "name": "stdout",
     "output_type": "stream",
     "text": [
      "Found 1 lesion(s) and 1 layers in patient 00098\n"
     ]
    },
    {
     "name": "stderr",
     "output_type": "stream",
     "text": [
      "Writing TFRecord files for Yale patients:   4%|▎         | 7/200 [05:31<1:31:36, 28.48s/it]"
     ]
    },
    {
     "name": "stdout",
     "output_type": "stream",
     "text": [
      "Found 6 lesion(s) and 6 layers in patient 00305\n"
     ]
    },
    {
     "name": "stderr",
     "output_type": "stream",
     "text": [
      "Writing TFRecord files for Yale patients:   4%|▍         | 8/200 [07:06<2:38:57, 49.67s/it]"
     ]
    },
    {
     "name": "stdout",
     "output_type": "stream",
     "text": [
      "Found 2 lesion(s) and 2 layers in patient 00221\n"
     ]
    },
    {
     "name": "stderr",
     "output_type": "stream",
     "text": [
      "Writing TFRecord files for Yale patients:   4%|▍         | 9/200 [07:38<2:20:25, 44.11s/it]"
     ]
    },
    {
     "name": "stdout",
     "output_type": "stream",
     "text": [
      "Found 2 lesion(s) and 2 layers in patient 00148\n"
     ]
    },
    {
     "name": "stderr",
     "output_type": "stream",
     "text": [
      "Writing TFRecord files for Yale patients:   5%|▌         | 10/200 [08:10<2:07:30, 40.27s/it]"
     ]
    },
    {
     "name": "stdout",
     "output_type": "stream",
     "text": [
      "Found 6 lesion(s) and 6 layers in patient 00132\n"
     ]
    },
    {
     "name": "stderr",
     "output_type": "stream",
     "text": [
      "Writing TFRecord files for Yale patients:   6%|▌         | 11/200 [09:45<2:59:22, 56.94s/it]"
     ]
    },
    {
     "name": "stdout",
     "output_type": "stream",
     "text": [
      "Found 10 lesion(s) and 10 layers in patient 00191\n"
     ]
    },
    {
     "name": "stderr",
     "output_type": "stream",
     "text": [
      "Writing TFRecord files for Yale patients:   6%|▌         | 12/200 [12:23<4:35:00, 87.77s/it]"
     ]
    },
    {
     "name": "stdout",
     "output_type": "stream",
     "text": [
      "Found 5 lesion(s) and 5 layers in patient 00153\n"
     ]
    },
    {
     "name": "stderr",
     "output_type": "stream",
     "text": [
      "Writing TFRecord files for Yale patients:   6%|▋         | 13/200 [13:42<4:25:36, 85.22s/it]"
     ]
    },
    {
     "name": "stdout",
     "output_type": "stream",
     "text": [
      "Found 5 lesion(s) and 5 layers in patient 00115\n"
     ]
    },
    {
     "name": "stderr",
     "output_type": "stream",
     "text": [
      "Writing TFRecord files for Yale patients:   7%|▋         | 14/200 [15:01<4:18:09, 83.27s/it]"
     ]
    },
    {
     "name": "stdout",
     "output_type": "stream",
     "text": [
      "Found 2 lesion(s) and 2 layers in patient 00127\n"
     ]
    },
    {
     "name": "stderr",
     "output_type": "stream",
     "text": [
      "Writing TFRecord files for Yale patients:   8%|▊         | 15/200 [15:33<3:28:45, 67.71s/it]"
     ]
    },
    {
     "name": "stdout",
     "output_type": "stream",
     "text": [
      "Found 3 lesion(s) and 3 layers in patient 00281\n"
     ]
    },
    {
     "name": "stderr",
     "output_type": "stream",
     "text": [
      "Writing TFRecord files for Yale patients:   8%|▊         | 16/200 [16:20<3:08:53, 61.59s/it]"
     ]
    },
    {
     "name": "stdout",
     "output_type": "stream",
     "text": [
      "Found 2 lesion(s) and 2 layers in patient 00131\n"
     ]
    },
    {
     "name": "stderr",
     "output_type": "stream",
     "text": [
      "Writing TFRecord files for Yale patients:   8%|▊         | 17/200 [16:52<2:40:20, 52.57s/it]"
     ]
    },
    {
     "name": "stdout",
     "output_type": "stream",
     "text": [
      "Found 1 lesion(s) and 1 layers in patient 00227\n"
     ]
    },
    {
     "name": "stderr",
     "output_type": "stream",
     "text": [
      "Writing TFRecord files for Yale patients:   9%|▉         | 18/200 [17:08<2:06:04, 41.56s/it]"
     ]
    },
    {
     "name": "stdout",
     "output_type": "stream",
     "text": [
      "Found 4 lesion(s) and 4 layers in patient 00100\n"
     ]
    },
    {
     "name": "stderr",
     "output_type": "stream",
     "text": [
      "Writing TFRecord files for Yale patients:  10%|▉         | 19/200 [18:11<2:25:22, 48.19s/it]"
     ]
    },
    {
     "name": "stdout",
     "output_type": "stream",
     "text": [
      "Found 2 lesion(s) and 2 layers in patient 00310\n"
     ]
    },
    {
     "name": "stderr",
     "output_type": "stream",
     "text": [
      "Writing TFRecord files for Yale patients:  10%|█         | 20/200 [18:44<2:10:19, 43.44s/it]"
     ]
    },
    {
     "name": "stdout",
     "output_type": "stream",
     "text": [
      "Found 4 lesion(s) and 4 layers in patient 00164\n"
     ]
    },
    {
     "name": "stderr",
     "output_type": "stream",
     "text": [
      "Writing TFRecord files for Yale patients:  10%|█         | 21/200 [19:47<2:27:09, 49.33s/it]"
     ]
    },
    {
     "name": "stdout",
     "output_type": "stream",
     "text": [
      "Found 27 lesion(s) and 27 layers in patient 00217\n"
     ]
    },
    {
     "name": "stderr",
     "output_type": "stream",
     "text": [
      "Writing TFRecord files for Yale patients:  11%|█         | 22/200 [26:53<8:02:04, 162.50s/it]"
     ]
    },
    {
     "name": "stdout",
     "output_type": "stream",
     "text": [
      "Found 1 lesion(s) and 1 layers in patient 00244\n"
     ]
    },
    {
     "name": "stderr",
     "output_type": "stream",
     "text": [
      "Writing TFRecord files for Yale patients:  12%|█▏        | 23/200 [27:09<5:49:39, 118.53s/it]"
     ]
    },
    {
     "name": "stdout",
     "output_type": "stream",
     "text": [
      "Found 1 lesion(s) and 1 layers in patient 00207\n"
     ]
    },
    {
     "name": "stderr",
     "output_type": "stream",
     "text": [
      "Writing TFRecord files for Yale patients:  12%|█▏        | 24/200 [27:25<4:17:38, 87.83s/it] "
     ]
    },
    {
     "name": "stdout",
     "output_type": "stream",
     "text": [
      "Found 1 lesion(s) and 1 layers in patient 00269\n"
     ]
    },
    {
     "name": "stderr",
     "output_type": "stream",
     "text": [
      "Writing TFRecord files for Yale patients:  12%|█▎        | 25/200 [27:41<3:13:16, 66.26s/it]"
     ]
    },
    {
     "name": "stdout",
     "output_type": "stream",
     "text": [
      "Found 1 lesion(s) and 1 layers in patient 00135\n"
     ]
    },
    {
     "name": "stderr",
     "output_type": "stream",
     "text": [
      "Writing TFRecord files for Yale patients:  13%|█▎        | 26/200 [27:57<2:28:13, 51.11s/it]"
     ]
    },
    {
     "name": "stdout",
     "output_type": "stream",
     "text": [
      "Found 33 lesion(s) and 33 layers in patient 00114\n"
     ]
    },
    {
     "name": "stderr",
     "output_type": "stream",
     "text": [
      "Writing TFRecord files for Yale patients:  14%|█▎        | 27/200 [36:37<9:13:09, 191.84s/it]"
     ]
    },
    {
     "name": "stdout",
     "output_type": "stream",
     "text": [
      "Found 2 lesion(s) and 2 layers in patient 00292\n"
     ]
    },
    {
     "name": "stderr",
     "output_type": "stream",
     "text": [
      "Writing TFRecord files for Yale patients:  14%|█▍        | 28/200 [37:09<6:52:10, 143.78s/it]"
     ]
    },
    {
     "name": "stdout",
     "output_type": "stream",
     "text": [
      "Found 4 lesion(s) and 4 layers in patient 00154\n"
     ]
    },
    {
     "name": "stderr",
     "output_type": "stream",
     "text": [
      "Writing TFRecord files for Yale patients:  14%|█▍        | 29/200 [38:15<5:43:14, 120.43s/it]"
     ]
    },
    {
     "name": "stdout",
     "output_type": "stream",
     "text": [
      "Found 1 lesion(s) and 1 layers in patient 00120\n"
     ]
    },
    {
     "name": "stderr",
     "output_type": "stream",
     "text": [
      "Writing TFRecord files for Yale patients:  15%|█▌        | 30/200 [38:30<4:12:14, 89.03s/it] "
     ]
    },
    {
     "name": "stdout",
     "output_type": "stream",
     "text": [
      "Found 8 lesion(s) and 8 layers in patient 00237\n"
     ]
    },
    {
     "name": "stderr",
     "output_type": "stream",
     "text": [
      "Writing TFRecord files for Yale patients:  16%|█▌        | 31/200 [40:37<4:42:16, 100.22s/it]"
     ]
    },
    {
     "name": "stdout",
     "output_type": "stream",
     "text": [
      "Found 8 lesion(s) and 8 layers in patient 00202\n"
     ]
    },
    {
     "name": "stderr",
     "output_type": "stream",
     "text": [
      "Writing TFRecord files for Yale patients:  16%|█▌        | 32/200 [42:44<5:03:09, 108.27s/it]"
     ]
    },
    {
     "name": "stdout",
     "output_type": "stream",
     "text": [
      "Found 1 lesion(s) and 1 layers in patient 00209\n"
     ]
    },
    {
     "name": "stderr",
     "output_type": "stream",
     "text": [
      "Writing TFRecord files for Yale patients:  16%|█▋        | 33/200 [43:00<3:44:22, 80.61s/it] "
     ]
    },
    {
     "name": "stdout",
     "output_type": "stream",
     "text": [
      "Found 4 lesion(s) and 4 layers in patient 00241\n"
     ]
    },
    {
     "name": "stderr",
     "output_type": "stream",
     "text": [
      "Writing TFRecord files for Yale patients:  17%|█▋        | 34/200 [44:03<3:28:32, 75.38s/it]"
     ]
    },
    {
     "name": "stdout",
     "output_type": "stream",
     "text": [
      "Found 6 lesion(s) and 6 layers in patient 00306\n"
     ]
    },
    {
     "name": "stderr",
     "output_type": "stream",
     "text": [
      "Writing TFRecord files for Yale patients:  18%|█▊        | 35/200 [45:38<3:43:05, 81.13s/it]"
     ]
    },
    {
     "name": "stdout",
     "output_type": "stream",
     "text": [
      "Found 2 lesion(s) and 2 layers in patient 00096\n"
     ]
    },
    {
     "name": "stderr",
     "output_type": "stream",
     "text": [
      "Writing TFRecord files for Yale patients:  18%|█▊        | 36/200 [46:09<3:01:02, 66.23s/it]"
     ]
    },
    {
     "name": "stdout",
     "output_type": "stream",
     "text": [
      "Found 6 lesion(s) and 6 layers in patient 00105\n"
     ]
    },
    {
     "name": "stderr",
     "output_type": "stream",
     "text": [
      "Writing TFRecord files for Yale patients:  18%|█▊        | 37/200 [47:43<3:22:30, 74.54s/it]"
     ]
    },
    {
     "name": "stdout",
     "output_type": "stream",
     "text": [
      "Found 15 lesion(s) and 15 layers in patient 00155\n"
     ]
    },
    {
     "name": "stderr",
     "output_type": "stream",
     "text": [
      "Writing TFRecord files for Yale patients:  19%|█▉        | 38/200 [51:37<5:30:02, 122.24s/it]"
     ]
    },
    {
     "name": "stdout",
     "output_type": "stream",
     "text": [
      "Found 15 lesion(s) and 15 layers in patient 00193\n"
     ]
    },
    {
     "name": "stderr",
     "output_type": "stream",
     "text": [
      "Writing TFRecord files for Yale patients:  20%|█▉        | 39/200 [55:30<6:57:41, 155.66s/it]"
     ]
    },
    {
     "name": "stdout",
     "output_type": "stream",
     "text": [
      "Found 1 lesion(s) and 1 layers in patient 00204\n"
     ]
    },
    {
     "name": "stderr",
     "output_type": "stream",
     "text": [
      "Writing TFRecord files for Yale patients:  20%|██        | 40/200 [55:46<5:03:04, 113.66s/it]"
     ]
    },
    {
     "name": "stdout",
     "output_type": "stream",
     "text": [
      "Found 2 lesion(s) and 2 layers in patient 00170\n"
     ]
    },
    {
     "name": "stderr",
     "output_type": "stream",
     "text": [
      "Writing TFRecord files for Yale patients:  20%|██        | 41/200 [56:17<3:55:38, 88.92s/it] "
     ]
    },
    {
     "name": "stdout",
     "output_type": "stream",
     "text": [
      "Found 4 lesion(s) and 4 layers in patient 00196\n"
     ]
    },
    {
     "name": "stderr",
     "output_type": "stream",
     "text": [
      "Writing TFRecord files for Yale patients:  21%|██        | 42/200 [57:19<3:33:04, 80.91s/it]"
     ]
    },
    {
     "name": "stdout",
     "output_type": "stream",
     "text": [
      "Found 1 lesion(s) and 1 layers in patient 00242\n"
     ]
    },
    {
     "name": "stderr",
     "output_type": "stream",
     "text": [
      "Writing TFRecord files for Yale patients:  22%|██▏       | 43/200 [57:35<2:40:28, 61.33s/it]"
     ]
    },
    {
     "name": "stdout",
     "output_type": "stream",
     "text": [
      "Found 4 lesion(s) and 4 layers in patient 00249\n"
     ]
    },
    {
     "name": "stderr",
     "output_type": "stream",
     "text": [
      "Writing TFRecord files for Yale patients:  22%|██▏       | 44/200 [58:37<2:40:01, 61.55s/it]"
     ]
    },
    {
     "name": "stdout",
     "output_type": "stream",
     "text": [
      "Found 1 lesion(s) and 1 layers in patient 00296\n"
     ]
    },
    {
     "name": "stderr",
     "output_type": "stream",
     "text": [
      "Writing TFRecord files for Yale patients:  22%|██▎       | 45/200 [58:53<2:03:23, 47.77s/it]"
     ]
    },
    {
     "name": "stdout",
     "output_type": "stream",
     "text": [
      "Found 3 lesion(s) and 3 layers in patient 00143\n"
     ]
    },
    {
     "name": "stderr",
     "output_type": "stream",
     "text": [
      "Writing TFRecord files for Yale patients:  23%|██▎       | 46/200 [59:39<2:01:54, 47.49s/it]"
     ]
    },
    {
     "name": "stdout",
     "output_type": "stream",
     "text": [
      "Found 1 lesion(s) and 1 layers in patient 00195\n"
     ]
    },
    {
     "name": "stderr",
     "output_type": "stream",
     "text": [
      "Writing TFRecord files for Yale patients:  24%|██▎       | 47/200 [59:55<1:36:41, 37.92s/it]"
     ]
    },
    {
     "name": "stdout",
     "output_type": "stream",
     "text": [
      "Found 4 lesion(s) and 4 layers in patient 00214\n"
     ]
    },
    {
     "name": "stderr",
     "output_type": "stream",
     "text": [
      "Writing TFRecord files for Yale patients:  24%|██▍       | 48/200 [1:00:57<1:54:24, 45.16s/it]"
     ]
    },
    {
     "name": "stdout",
     "output_type": "stream",
     "text": [
      "Found 5 lesion(s) and 5 layers in patient 00171\n"
     ]
    },
    {
     "name": "stderr",
     "output_type": "stream",
     "text": [
      "Writing TFRecord files for Yale patients:  24%|██▍       | 49/200 [1:02:15<2:18:36, 55.08s/it]"
     ]
    },
    {
     "name": "stdout",
     "output_type": "stream",
     "text": [
      "Found 2 lesion(s) and 2 layers in patient 00215\n"
     ]
    },
    {
     "name": "stderr",
     "output_type": "stream",
     "text": [
      "Writing TFRecord files for Yale patients:  25%|██▌       | 50/200 [1:02:46<1:59:46, 47.91s/it]"
     ]
    },
    {
     "name": "stdout",
     "output_type": "stream",
     "text": [
      "Found 2 lesion(s) and 2 layers in patient 00097\n"
     ]
    },
    {
     "name": "stderr",
     "output_type": "stream",
     "text": [
      "Writing TFRecord files for Yale patients:  26%|██▌       | 51/200 [1:03:18<1:46:29, 42.88s/it]"
     ]
    },
    {
     "name": "stdout",
     "output_type": "stream",
     "text": [
      "Found 11 lesion(s) and 11 layers in patient 00102\n"
     ]
    },
    {
     "name": "stderr",
     "output_type": "stream",
     "text": [
      "Writing TFRecord files for Yale patients:  26%|██▌       | 52/200 [1:06:09<3:20:44, 81.38s/it]"
     ]
    },
    {
     "name": "stdout",
     "output_type": "stream",
     "text": [
      "Found 5 lesion(s) and 5 layers in patient 00208\n"
     ]
    },
    {
     "name": "stderr",
     "output_type": "stream",
     "text": [
      "Writing TFRecord files for Yale patients:  26%|██▋       | 53/200 [1:07:27<3:16:52, 80.35s/it]"
     ]
    },
    {
     "name": "stdout",
     "output_type": "stream",
     "text": [
      "Found 26 lesion(s) and 26 layers in patient 00200\n"
     ]
    },
    {
     "name": "stderr",
     "output_type": "stream",
     "text": [
      "Writing TFRecord files for Yale patients:  27%|██▋       | 54/200 [1:14:10<7:11:35, 177.36s/it]"
     ]
    },
    {
     "name": "stdout",
     "output_type": "stream",
     "text": [
      "Found 3 lesion(s) and 3 layers in patient 00293\n"
     ]
    },
    {
     "name": "stderr",
     "output_type": "stream",
     "text": [
      "Writing TFRecord files for Yale patients:  28%|██▊       | 55/200 [1:14:57<5:33:55, 138.18s/it]"
     ]
    },
    {
     "name": "stdout",
     "output_type": "stream",
     "text": [
      "Found 1 lesion(s) and 1 layers in patient 00229\n"
     ]
    },
    {
     "name": "stderr",
     "output_type": "stream",
     "text": [
      "Writing TFRecord files for Yale patients:  28%|██▊       | 56/200 [1:15:13<4:03:16, 101.36s/it]"
     ]
    },
    {
     "name": "stdout",
     "output_type": "stream",
     "text": [
      "Found 1 lesion(s) and 1 layers in patient 00216\n"
     ]
    },
    {
     "name": "stderr",
     "output_type": "stream",
     "text": [
      "Writing TFRecord files for Yale patients:  28%|██▊       | 57/200 [1:15:28<3:00:19, 75.66s/it] "
     ]
    },
    {
     "name": "stdout",
     "output_type": "stream",
     "text": [
      "Found 4 lesion(s) and 4 layers in patient 00231\n"
     ]
    },
    {
     "name": "stderr",
     "output_type": "stream",
     "text": [
      "Writing TFRecord files for Yale patients:  29%|██▉       | 58/200 [1:16:31<2:49:36, 71.66s/it]"
     ]
    },
    {
     "name": "stdout",
     "output_type": "stream",
     "text": [
      "Found 1 lesion(s) and 1 layers in patient 00256\n"
     ]
    },
    {
     "name": "stderr",
     "output_type": "stream",
     "text": [
      "Writing TFRecord files for Yale patients:  30%|██▉       | 59/200 [1:16:46<2:08:55, 54.86s/it]"
     ]
    },
    {
     "name": "stdout",
     "output_type": "stream",
     "text": [
      "Found 2 lesion(s) and 2 layers in patient 00129\n"
     ]
    },
    {
     "name": "stderr",
     "output_type": "stream",
     "text": [
      "Writing TFRecord files for Yale patients:  30%|███       | 60/200 [1:17:17<1:51:18, 47.70s/it]"
     ]
    },
    {
     "name": "stdout",
     "output_type": "stream",
     "text": [
      "Found 2 lesion(s) and 2 layers in patient 00272\n"
     ]
    },
    {
     "name": "stderr",
     "output_type": "stream",
     "text": [
      "Writing TFRecord files for Yale patients:  30%|███       | 61/200 [1:17:48<1:38:54, 42.70s/it]"
     ]
    },
    {
     "name": "stdout",
     "output_type": "stream",
     "text": [
      "Found 7 lesion(s) and 7 layers in patient 00157\n"
     ]
    },
    {
     "name": "stderr",
     "output_type": "stream",
     "text": [
      "Writing TFRecord files for Yale patients:  31%|███       | 62/200 [1:19:37<2:23:46, 62.51s/it]"
     ]
    },
    {
     "name": "stdout",
     "output_type": "stream",
     "text": [
      "Found 5 lesion(s) and 5 layers in patient 00301\n"
     ]
    },
    {
     "name": "stderr",
     "output_type": "stream",
     "text": [
      "Writing TFRecord files for Yale patients:  32%|███▏      | 63/200 [1:20:55<2:33:07, 67.06s/it]"
     ]
    },
    {
     "name": "stdout",
     "output_type": "stream",
     "text": [
      "Found 1 lesion(s) and 1 layers in patient 00130\n"
     ]
    },
    {
     "name": "stderr",
     "output_type": "stream",
     "text": [
      "Writing TFRecord files for Yale patients:  32%|███▏      | 64/200 [1:21:10<1:56:56, 51.59s/it]"
     ]
    },
    {
     "name": "stdout",
     "output_type": "stream",
     "text": [
      "Found 4 lesion(s) and 4 layers in patient 00162\n"
     ]
    },
    {
     "name": "stderr",
     "output_type": "stream",
     "text": [
      "Writing TFRecord files for Yale patients:  32%|███▎      | 65/200 [1:22:13<2:03:22, 54.84s/it]"
     ]
    },
    {
     "name": "stdout",
     "output_type": "stream",
     "text": [
      "Found 3 lesion(s) and 3 layers in patient 00303\n"
     ]
    },
    {
     "name": "stderr",
     "output_type": "stream",
     "text": [
      "Writing TFRecord files for Yale patients:  33%|███▎      | 66/200 [1:22:59<1:56:44, 52.27s/it]"
     ]
    },
    {
     "name": "stdout",
     "output_type": "stream",
     "text": [
      "Found 1 lesion(s) and 1 layers in patient 00110\n"
     ]
    },
    {
     "name": "stderr",
     "output_type": "stream",
     "text": [
      "Writing TFRecord files for Yale patients:  34%|███▎      | 67/200 [1:23:15<1:31:29, 41.27s/it]"
     ]
    },
    {
     "name": "stdout",
     "output_type": "stream",
     "text": [
      "Found 3 lesion(s) and 3 layers in patient 00255\n"
     ]
    },
    {
     "name": "stderr",
     "output_type": "stream",
     "text": [
      "Writing TFRecord files for Yale patients:  34%|███▍      | 68/200 [1:24:01<1:34:21, 42.89s/it]"
     ]
    },
    {
     "name": "stdout",
     "output_type": "stream",
     "text": [
      "Found 2 lesion(s) and 2 layers in patient 00199\n"
     ]
    },
    {
     "name": "stderr",
     "output_type": "stream",
     "text": [
      "Writing TFRecord files for Yale patients:  34%|███▍      | 69/200 [1:24:32<1:25:57, 39.37s/it]"
     ]
    },
    {
     "name": "stdout",
     "output_type": "stream",
     "text": [
      "Found 1 lesion(s) and 1 layers in patient 00290\n"
     ]
    },
    {
     "name": "stderr",
     "output_type": "stream",
     "text": [
      "Writing TFRecord files for Yale patients:  35%|███▌      | 70/200 [1:24:48<1:09:50, 32.23s/it]"
     ]
    },
    {
     "name": "stdout",
     "output_type": "stream",
     "text": [
      "Found 1 lesion(s) and 1 layers in patient 00174\n"
     ]
    },
    {
     "name": "stderr",
     "output_type": "stream",
     "text": [
      "Writing TFRecord files for Yale patients:  36%|███▌      | 71/200 [1:25:04<58:32, 27.23s/it]  "
     ]
    },
    {
     "name": "stdout",
     "output_type": "stream",
     "text": [
      "Found 3 lesion(s) and 3 layers in patient 00304\n"
     ]
    },
    {
     "name": "stderr",
     "output_type": "stream",
     "text": [
      "Writing TFRecord files for Yale patients:  36%|███▌      | 72/200 [1:25:50<1:10:31, 33.06s/it]"
     ]
    },
    {
     "name": "stdout",
     "output_type": "stream",
     "text": [
      "Found 1 lesion(s) and 1 layers in patient 00234\n"
     ]
    },
    {
     "name": "stderr",
     "output_type": "stream",
     "text": [
      "Writing TFRecord files for Yale patients:  36%|███▋      | 73/200 [1:26:06<58:52, 27.82s/it]  "
     ]
    },
    {
     "name": "stdout",
     "output_type": "stream",
     "text": [
      "Found 1 lesion(s) and 1 layers in patient 00268\n"
     ]
    },
    {
     "name": "stderr",
     "output_type": "stream",
     "text": [
      "Writing TFRecord files for Yale patients:  37%|███▋      | 74/200 [1:26:21<50:44, 24.17s/it]"
     ]
    },
    {
     "name": "stdout",
     "output_type": "stream",
     "text": [
      "Found 2 lesion(s) and 2 layers in patient 00152\n"
     ]
    },
    {
     "name": "stderr",
     "output_type": "stream",
     "text": [
      "Writing TFRecord files for Yale patients:  38%|███▊      | 75/200 [1:26:53<54:49, 26.31s/it]"
     ]
    },
    {
     "name": "stdout",
     "output_type": "stream",
     "text": [
      "Found 1 lesion(s) and 1 layers in patient 00260\n"
     ]
    },
    {
     "name": "stderr",
     "output_type": "stream",
     "text": [
      "Writing TFRecord files for Yale patients:  38%|███▊      | 76/200 [1:27:08<47:46, 23.11s/it]"
     ]
    },
    {
     "name": "stdout",
     "output_type": "stream",
     "text": [
      "Found 1 lesion(s) and 1 layers in patient 00118\n"
     ]
    },
    {
     "name": "stderr",
     "output_type": "stream",
     "text": [
      "Writing TFRecord files for Yale patients:  38%|███▊      | 77/200 [1:27:24<42:41, 20.83s/it]"
     ]
    },
    {
     "name": "stdout",
     "output_type": "stream",
     "text": [
      "Found 2 lesion(s) and 2 layers in patient 00159\n"
     ]
    },
    {
     "name": "stderr",
     "output_type": "stream",
     "text": [
      "Writing TFRecord files for Yale patients:  39%|███▉      | 78/200 [1:27:55<48:30, 23.86s/it]"
     ]
    },
    {
     "name": "stdout",
     "output_type": "stream",
     "text": [
      "Found 2 lesion(s) and 2 layers in patient 00252\n"
     ]
    },
    {
     "name": "stderr",
     "output_type": "stream",
     "text": [
      "Writing TFRecord files for Yale patients:  40%|███▉      | 79/200 [1:28:26<52:32, 26.06s/it]"
     ]
    },
    {
     "name": "stdout",
     "output_type": "stream",
     "text": [
      "Found 2 lesion(s) and 2 layers in patient 00278\n"
     ]
    },
    {
     "name": "stderr",
     "output_type": "stream",
     "text": [
      "Writing TFRecord files for Yale patients:  40%|████      | 80/200 [1:28:57<55:08, 27.57s/it]"
     ]
    },
    {
     "name": "stdout",
     "output_type": "stream",
     "text": [
      "Found 1 lesion(s) and 1 layers in patient 00245\n"
     ]
    },
    {
     "name": "stderr",
     "output_type": "stream",
     "text": [
      "Writing TFRecord files for Yale patients:  40%|████      | 81/200 [1:29:13<47:34, 23.98s/it]"
     ]
    },
    {
     "name": "stdout",
     "output_type": "stream",
     "text": [
      "Found 1 lesion(s) and 1 layers in patient 00116\n"
     ]
    },
    {
     "name": "stderr",
     "output_type": "stream",
     "text": [
      "Writing TFRecord files for Yale patients:  41%|████      | 82/200 [1:29:28<42:13, 21.47s/it]"
     ]
    },
    {
     "name": "stdout",
     "output_type": "stream",
     "text": [
      "Found 2 lesion(s) and 2 layers in patient 00275\n"
     ]
    },
    {
     "name": "stderr",
     "output_type": "stream",
     "text": [
      "Writing TFRecord files for Yale patients:  42%|████▏     | 83/200 [1:30:00<47:32, 24.38s/it]"
     ]
    },
    {
     "name": "stdout",
     "output_type": "stream",
     "text": [
      "Found 4 lesion(s) and 4 layers in patient 00151\n"
     ]
    },
    {
     "name": "stderr",
     "output_type": "stream",
     "text": [
      "Writing TFRecord files for Yale patients:  42%|████▏     | 84/200 [1:31:02<1:09:09, 35.78s/it]"
     ]
    },
    {
     "name": "stdout",
     "output_type": "stream",
     "text": [
      "Found 1 lesion(s) and 1 layers in patient 00222\n"
     ]
    },
    {
     "name": "stderr",
     "output_type": "stream",
     "text": [
      "Writing TFRecord files for Yale patients:  42%|████▎     | 85/200 [1:31:17<56:57, 29.72s/it]  "
     ]
    },
    {
     "name": "stdout",
     "output_type": "stream",
     "text": [
      "Found 6 lesion(s) and 6 layers in patient 00144\n"
     ]
    },
    {
     "name": "stderr",
     "output_type": "stream",
     "text": [
      "Writing TFRecord files for Yale patients:  43%|████▎     | 86/200 [1:32:51<1:32:40, 48.78s/it]"
     ]
    },
    {
     "name": "stdout",
     "output_type": "stream",
     "text": [
      "Found 1 lesion(s) and 1 layers in patient 00161\n"
     ]
    },
    {
     "name": "stderr",
     "output_type": "stream",
     "text": [
      "Writing TFRecord files for Yale patients:  44%|████▎     | 87/200 [1:33:06<1:13:02, 38.79s/it]"
     ]
    },
    {
     "name": "stdout",
     "output_type": "stream",
     "text": [
      "Found 2 lesion(s) and 2 layers in patient 00145\n"
     ]
    },
    {
     "name": "stderr",
     "output_type": "stream",
     "text": [
      "Writing TFRecord files for Yale patients:  44%|████▍     | 88/200 [1:33:37<1:08:09, 36.52s/it]"
     ]
    },
    {
     "name": "stdout",
     "output_type": "stream",
     "text": [
      "Found 2 lesion(s) and 2 layers in patient 00119\n"
     ]
    },
    {
     "name": "stderr",
     "output_type": "stream",
     "text": [
      "Writing TFRecord files for Yale patients:  44%|████▍     | 89/200 [1:34:08<1:04:30, 34.87s/it]"
     ]
    },
    {
     "name": "stdout",
     "output_type": "stream",
     "text": [
      "Found 1 lesion(s) and 1 layers in patient 00212\n"
     ]
    },
    {
     "name": "stderr",
     "output_type": "stream",
     "text": [
      "Writing TFRecord files for Yale patients:  45%|████▌     | 90/200 [1:34:24<53:20, 29.09s/it]  "
     ]
    },
    {
     "name": "stdout",
     "output_type": "stream",
     "text": [
      "Found 1 lesion(s) and 1 layers in patient 00128\n"
     ]
    },
    {
     "name": "stderr",
     "output_type": "stream",
     "text": [
      "Writing TFRecord files for Yale patients:  46%|████▌     | 91/200 [1:34:40<45:29, 25.04s/it]"
     ]
    },
    {
     "name": "stdout",
     "output_type": "stream",
     "text": [
      "Found 1 lesion(s) and 1 layers in patient 00240\n"
     ]
    },
    {
     "name": "stderr",
     "output_type": "stream",
     "text": [
      "Writing TFRecord files for Yale patients:  46%|████▌     | 92/200 [1:34:55<40:00, 22.22s/it]"
     ]
    },
    {
     "name": "stdout",
     "output_type": "stream",
     "text": [
      "Found 21 lesion(s) and 21 layers in patient 00271\n"
     ]
    },
    {
     "name": "stderr",
     "output_type": "stream",
     "text": [
      "Writing TFRecord files for Yale patients:  46%|████▋     | 93/200 [1:40:21<3:22:07, 113.34s/it]"
     ]
    },
    {
     "name": "stdout",
     "output_type": "stream",
     "text": [
      "Found 5 lesion(s) and 5 layers in patient 00160\n"
     ]
    },
    {
     "name": "stderr",
     "output_type": "stream",
     "text": [
      "Writing TFRecord files for Yale patients:  47%|████▋     | 94/200 [1:41:39<3:01:20, 102.64s/it]"
     ]
    },
    {
     "name": "stdout",
     "output_type": "stream",
     "text": [
      "Found 1 lesion(s) and 1 layers in patient 00282\n"
     ]
    },
    {
     "name": "stderr",
     "output_type": "stream",
     "text": [
      "Writing TFRecord files for Yale patients:  48%|████▊     | 95/200 [1:41:54<2:13:52, 76.50s/it] "
     ]
    },
    {
     "name": "stdout",
     "output_type": "stream",
     "text": [
      "Found 2 lesion(s) and 2 layers in patient 00112\n"
     ]
    },
    {
     "name": "stderr",
     "output_type": "stream",
     "text": [
      "Writing TFRecord files for Yale patients:  48%|████▊     | 96/200 [1:42:26<1:48:59, 62.88s/it]"
     ]
    },
    {
     "name": "stdout",
     "output_type": "stream",
     "text": [
      "Found 1 lesion(s) and 1 layers in patient 00277\n"
     ]
    },
    {
     "name": "stderr",
     "output_type": "stream",
     "text": [
      "Writing TFRecord files for Yale patients:  48%|████▊     | 97/200 [1:42:41<1:23:31, 48.65s/it]"
     ]
    },
    {
     "name": "stdout",
     "output_type": "stream",
     "text": [
      "Found 1 lesion(s) and 1 layers in patient 00134\n"
     ]
    },
    {
     "name": "stderr",
     "output_type": "stream",
     "text": [
      "Writing TFRecord files for Yale patients:  49%|████▉     | 98/200 [1:42:57<1:05:49, 38.72s/it]"
     ]
    },
    {
     "name": "stdout",
     "output_type": "stream",
     "text": [
      "Found 5 lesion(s) and 5 layers in patient 00286\n"
     ]
    },
    {
     "name": "stderr",
     "output_type": "stream",
     "text": [
      "Writing TFRecord files for Yale patients:  50%|████▉     | 99/200 [1:44:14<1:24:51, 50.41s/it]"
     ]
    },
    {
     "name": "stdout",
     "output_type": "stream",
     "text": [
      "Found 1 lesion(s) and 1 layers in patient 00194\n"
     ]
    },
    {
     "name": "stderr",
     "output_type": "stream",
     "text": [
      "Writing TFRecord files for Yale patients:  50%|█████     | 100/200 [1:44:30<1:06:37, 39.97s/it]"
     ]
    },
    {
     "name": "stdout",
     "output_type": "stream",
     "text": [
      "Found 1 lesion(s) and 1 layers in patient 00104\n"
     ]
    },
    {
     "name": "stderr",
     "output_type": "stream",
     "text": [
      "Writing TFRecord files for Yale patients:  50%|█████     | 101/200 [1:44:45<53:52, 32.65s/it]  "
     ]
    },
    {
     "name": "stdout",
     "output_type": "stream",
     "text": [
      "Found 1 lesion(s) and 1 layers in patient 00280\n"
     ]
    },
    {
     "name": "stderr",
     "output_type": "stream",
     "text": [
      "Writing TFRecord files for Yale patients:  51%|█████     | 102/200 [1:45:01<45:00, 27.56s/it]"
     ]
    },
    {
     "name": "stdout",
     "output_type": "stream",
     "text": [
      "Found 17 lesion(s) and 17 layers in patient 00124\n"
     ]
    },
    {
     "name": "stderr",
     "output_type": "stream",
     "text": [
      "Writing TFRecord files for Yale patients:  52%|█████▏    | 103/200 [1:49:25<2:39:24, 98.61s/it]"
     ]
    },
    {
     "name": "stdout",
     "output_type": "stream",
     "text": [
      "Found 9 lesion(s) and 9 layers in patient 00203\n"
     ]
    },
    {
     "name": "stderr",
     "output_type": "stream",
     "text": [
      "Writing TFRecord files for Yale patients:  52%|█████▏    | 104/200 [1:51:45<2:57:38, 111.02s/it]"
     ]
    },
    {
     "name": "stdout",
     "output_type": "stream",
     "text": [
      "Found 1 lesion(s) and 1 layers in patient 00225\n"
     ]
    },
    {
     "name": "stderr",
     "output_type": "stream",
     "text": [
      "Writing TFRecord files for Yale patients:  52%|█████▎    | 105/200 [1:52:01<2:10:24, 82.37s/it] "
     ]
    },
    {
     "name": "stdout",
     "output_type": "stream",
     "text": [
      "Found 3 lesion(s) and 3 layers in patient 00086\n"
     ]
    },
    {
     "name": "stderr",
     "output_type": "stream",
     "text": [
      "Writing TFRecord files for Yale patients:  53%|█████▎    | 106/200 [1:52:49<1:52:47, 72.00s/it]"
     ]
    },
    {
     "name": "stdout",
     "output_type": "stream",
     "text": [
      "Found 1 lesion(s) and 1 layers in patient 00107\n"
     ]
    },
    {
     "name": "stderr",
     "output_type": "stream",
     "text": [
      "Writing TFRecord files for Yale patients:  54%|█████▎    | 107/200 [1:53:05<1:25:46, 55.34s/it]"
     ]
    },
    {
     "name": "stdout",
     "output_type": "stream",
     "text": [
      "Found 6 lesion(s) and 6 layers in patient 00123\n"
     ]
    },
    {
     "name": "stderr",
     "output_type": "stream",
     "text": [
      "Writing TFRecord files for Yale patients:  54%|█████▍    | 108/200 [1:54:39<1:42:26, 66.81s/it]"
     ]
    },
    {
     "name": "stdout",
     "output_type": "stream",
     "text": [
      "Found 6 lesion(s) and 6 layers in patient 00179\n"
     ]
    },
    {
     "name": "stderr",
     "output_type": "stream",
     "text": [
      "Writing TFRecord files for Yale patients:  55%|█████▍    | 109/200 [1:56:12<1:53:22, 74.75s/it]"
     ]
    },
    {
     "name": "stdout",
     "output_type": "stream",
     "text": [
      "Found 1 lesion(s) and 1 layers in patient 00192\n"
     ]
    },
    {
     "name": "stderr",
     "output_type": "stream",
     "text": [
      "Writing TFRecord files for Yale patients:  55%|█████▌    | 110/200 [1:56:28<1:25:26, 56.97s/it]"
     ]
    },
    {
     "name": "stdout",
     "output_type": "stream",
     "text": [
      "Found 1 lesion(s) and 1 layers in patient 00184\n"
     ]
    },
    {
     "name": "stderr",
     "output_type": "stream",
     "text": [
      "Writing TFRecord files for Yale patients:  56%|█████▌    | 111/200 [1:56:43<1:06:06, 44.57s/it]"
     ]
    },
    {
     "name": "stdout",
     "output_type": "stream",
     "text": [
      "Found 5 lesion(s) and 5 layers in patient 00141\n"
     ]
    },
    {
     "name": "stderr",
     "output_type": "stream",
     "text": [
      "Writing TFRecord files for Yale patients:  56%|█████▌    | 112/200 [1:58:01<1:20:03, 54.59s/it]"
     ]
    },
    {
     "name": "stdout",
     "output_type": "stream",
     "text": [
      "Found 5 lesion(s) and 5 layers in patient 00113\n"
     ]
    },
    {
     "name": "stderr",
     "output_type": "stream",
     "text": [
      "Writing TFRecord files for Yale patients:  56%|█████▋    | 113/200 [1:59:19<1:29:18, 61.59s/it]"
     ]
    },
    {
     "name": "stdout",
     "output_type": "stream",
     "text": [
      "Found 1 lesion(s) and 1 layers in patient 00226\n"
     ]
    },
    {
     "name": "stderr",
     "output_type": "stream",
     "text": [
      "Writing TFRecord files for Yale patients:  57%|█████▋    | 114/200 [1:59:35<1:08:27, 47.77s/it]"
     ]
    },
    {
     "name": "stdout",
     "output_type": "stream",
     "text": [
      "Found 2 lesion(s) and 2 layers in patient 00176\n"
     ]
    },
    {
     "name": "stderr",
     "output_type": "stream",
     "text": [
      "Writing TFRecord files for Yale patients:  57%|█████▊    | 115/200 [2:00:06<1:00:34, 42.75s/it]"
     ]
    },
    {
     "name": "stdout",
     "output_type": "stream",
     "text": [
      "Found 1 lesion(s) and 1 layers in patient 00197\n"
     ]
    },
    {
     "name": "stderr",
     "output_type": "stream",
     "text": [
      "Writing TFRecord files for Yale patients:  58%|█████▊    | 116/200 [2:00:21<48:27, 34.61s/it]  "
     ]
    },
    {
     "name": "stdout",
     "output_type": "stream",
     "text": [
      "Found 1 lesion(s) and 1 layers in patient 00136\n"
     ]
    },
    {
     "name": "stderr",
     "output_type": "stream",
     "text": [
      "Writing TFRecord files for Yale patients:  58%|█████▊    | 117/200 [2:00:37<40:04, 28.97s/it]"
     ]
    },
    {
     "name": "stdout",
     "output_type": "stream",
     "text": [
      "Found 2 lesion(s) and 2 layers in patient 00224\n"
     ]
    },
    {
     "name": "stderr",
     "output_type": "stream",
     "text": [
      "Writing TFRecord files for Yale patients:  59%|█████▉    | 118/200 [2:01:09<40:53, 29.92s/it]"
     ]
    },
    {
     "name": "stdout",
     "output_type": "stream",
     "text": [
      "Found 1 lesion(s) and 1 layers in patient 00089\n"
     ]
    },
    {
     "name": "stderr",
     "output_type": "stream",
     "text": [
      "Writing TFRecord files for Yale patients:  60%|█████▉    | 119/200 [2:01:25<34:47, 25.77s/it]"
     ]
    },
    {
     "name": "stdout",
     "output_type": "stream",
     "text": [
      "Found 14 lesion(s) and 14 layers in patient 00243\n"
     ]
    },
    {
     "name": "stderr",
     "output_type": "stream",
     "text": [
      "Writing TFRecord files for Yale patients:  60%|██████    | 120/200 [2:05:06<1:52:18, 84.23s/it]"
     ]
    },
    {
     "name": "stdout",
     "output_type": "stream",
     "text": [
      "Found 5 lesion(s) and 5 layers in patient 00254\n"
     ]
    },
    {
     "name": "stderr",
     "output_type": "stream",
     "text": [
      "Writing TFRecord files for Yale patients:  60%|██████    | 121/200 [2:06:25<1:48:47, 82.63s/it]"
     ]
    },
    {
     "name": "stdout",
     "output_type": "stream",
     "text": [
      "Found 1 lesion(s) and 1 layers in patient 00147\n"
     ]
    },
    {
     "name": "stderr",
     "output_type": "stream",
     "text": [
      "Writing TFRecord files for Yale patients:  61%|██████    | 122/200 [2:06:41<1:21:22, 62.60s/it]"
     ]
    },
    {
     "name": "stdout",
     "output_type": "stream",
     "text": [
      "Found 5 lesion(s) and 5 layers in patient 00165\n"
     ]
    },
    {
     "name": "stderr",
     "output_type": "stream",
     "text": [
      "Writing TFRecord files for Yale patients:  62%|██████▏   | 123/200 [2:08:00<1:26:42, 67.56s/it]"
     ]
    },
    {
     "name": "stdout",
     "output_type": "stream",
     "text": [
      "Found 1 lesion(s) and 1 layers in patient 00178\n"
     ]
    },
    {
     "name": "stderr",
     "output_type": "stream",
     "text": [
      "Writing TFRecord files for Yale patients:  62%|██████▏   | 124/200 [2:08:16<1:05:51, 52.00s/it]"
     ]
    },
    {
     "name": "stdout",
     "output_type": "stream",
     "text": [
      "Found 1 lesion(s) and 1 layers in patient 00106\n"
     ]
    },
    {
     "name": "stderr",
     "output_type": "stream",
     "text": [
      "Writing TFRecord files for Yale patients:  62%|██████▎   | 125/200 [2:08:31<51:22, 41.10s/it]  "
     ]
    },
    {
     "name": "stdout",
     "output_type": "stream",
     "text": [
      "Found 3 lesion(s) and 3 layers in patient 00211\n"
     ]
    },
    {
     "name": "stderr",
     "output_type": "stream",
     "text": [
      "Writing TFRecord files for Yale patients:  63%|██████▎   | 126/200 [2:09:18<52:52, 42.87s/it]"
     ]
    },
    {
     "name": "stdout",
     "output_type": "stream",
     "text": [
      "Found 4 lesion(s) and 4 layers in patient 00253\n"
     ]
    },
    {
     "name": "stderr",
     "output_type": "stream",
     "text": [
      "Writing TFRecord files for Yale patients:  64%|██████▎   | 127/200 [2:10:21<59:28, 48.89s/it]"
     ]
    },
    {
     "name": "stdout",
     "output_type": "stream",
     "text": [
      "Found 15 lesion(s) and 15 layers in patient 00233\n"
     ]
    },
    {
     "name": "stderr",
     "output_type": "stream",
     "text": [
      "Writing TFRecord files for Yale patients:  64%|██████▍   | 128/200 [2:14:17<2:05:54, 104.92s/it]"
     ]
    },
    {
     "name": "stdout",
     "output_type": "stream",
     "text": [
      "Found 2 lesion(s) and 2 layers in patient 00263\n"
     ]
    },
    {
     "name": "stderr",
     "output_type": "stream",
     "text": [
      "Writing TFRecord files for Yale patients:  64%|██████▍   | 129/200 [2:14:48<1:38:05, 82.89s/it] "
     ]
    },
    {
     "name": "stdout",
     "output_type": "stream",
     "text": [
      "Found 3 lesion(s) and 3 layers in patient 00158\n"
     ]
    },
    {
     "name": "stderr",
     "output_type": "stream",
     "text": [
      "Writing TFRecord files for Yale patients:  65%|██████▌   | 130/200 [2:15:35<1:24:05, 72.08s/it]"
     ]
    },
    {
     "name": "stdout",
     "output_type": "stream",
     "text": [
      "Found 1 lesion(s) and 1 layers in patient 00264\n"
     ]
    },
    {
     "name": "stderr",
     "output_type": "stream",
     "text": [
      "Writing TFRecord files for Yale patients:  66%|██████▌   | 131/200 [2:15:51<1:03:24, 55.14s/it]"
     ]
    },
    {
     "name": "stdout",
     "output_type": "stream",
     "text": [
      "Found 4 lesion(s) and 4 layers in patient 00169\n"
     ]
    },
    {
     "name": "stderr",
     "output_type": "stream",
     "text": [
      "Writing TFRecord files for Yale patients:  66%|██████▌   | 132/200 [2:16:53<1:05:01, 57.38s/it]"
     ]
    },
    {
     "name": "stdout",
     "output_type": "stream",
     "text": [
      "Found 3 lesion(s) and 3 layers in patient 00248\n"
     ]
    },
    {
     "name": "stderr",
     "output_type": "stream",
     "text": [
      "Writing TFRecord files for Yale patients:  66%|██████▋   | 133/200 [2:17:40<1:00:34, 54.25s/it]"
     ]
    },
    {
     "name": "stdout",
     "output_type": "stream",
     "text": [
      "Found 1 lesion(s) and 1 layers in patient 00219\n"
     ]
    },
    {
     "name": "stderr",
     "output_type": "stream",
     "text": [
      "Writing TFRecord files for Yale patients:  67%|██████▋   | 134/200 [2:17:56<46:59, 42.72s/it]  "
     ]
    },
    {
     "name": "stdout",
     "output_type": "stream",
     "text": [
      "Found 3 lesion(s) and 3 layers in patient 00220\n"
     ]
    },
    {
     "name": "stderr",
     "output_type": "stream",
     "text": [
      "Writing TFRecord files for Yale patients:  68%|██████▊   | 135/200 [2:18:43<47:39, 43.99s/it]"
     ]
    },
    {
     "name": "stdout",
     "output_type": "stream",
     "text": [
      "Found 1 lesion(s) and 1 layers in patient 00126\n"
     ]
    },
    {
     "name": "stderr",
     "output_type": "stream",
     "text": [
      "Writing TFRecord files for Yale patients:  68%|██████▊   | 136/200 [2:18:59<37:53, 35.52s/it]"
     ]
    },
    {
     "name": "stdout",
     "output_type": "stream",
     "text": [
      "Found 2 lesion(s) and 2 layers in patient 00175\n"
     ]
    },
    {
     "name": "stderr",
     "output_type": "stream",
     "text": [
      "Writing TFRecord files for Yale patients:  68%|██████▊   | 137/200 [2:19:30<36:01, 34.31s/it]"
     ]
    },
    {
     "name": "stdout",
     "output_type": "stream",
     "text": [
      "Found 8 lesion(s) and 8 layers in patient 00205\n"
     ]
    },
    {
     "name": "stderr",
     "output_type": "stream",
     "text": [
      "Writing TFRecord files for Yale patients:  69%|██████▉   | 138/200 [2:21:37<1:03:57, 61.89s/it]"
     ]
    },
    {
     "name": "stdout",
     "output_type": "stream",
     "text": [
      "Found 1 lesion(s) and 1 layers in patient 00273\n"
     ]
    },
    {
     "name": "stderr",
     "output_type": "stream",
     "text": [
      "Writing TFRecord files for Yale patients:  70%|██████▉   | 139/200 [2:21:52<48:52, 48.08s/it]  "
     ]
    },
    {
     "name": "stdout",
     "output_type": "stream",
     "text": [
      "Found 2 lesion(s) and 2 layers in patient 00309\n"
     ]
    },
    {
     "name": "stderr",
     "output_type": "stream",
     "text": [
      "Writing TFRecord files for Yale patients:  70%|███████   | 140/200 [2:22:24<43:07, 43.13s/it]"
     ]
    },
    {
     "name": "stdout",
     "output_type": "stream",
     "text": [
      "Found 0 lesion(s) and 0 layers in patient 00190\n",
      "Found 1 lesion(s) and 1 layers in patient 00262\n"
     ]
    },
    {
     "name": "stderr",
     "output_type": "stream",
     "text": [
      "Writing TFRecord files for Yale patients:  71%|███████   | 142/200 [2:22:40<25:58, 26.87s/it]"
     ]
    },
    {
     "name": "stdout",
     "output_type": "stream",
     "text": [
      "Found 4 lesion(s) and 4 layers in patient 00187\n"
     ]
    },
    {
     "name": "stderr",
     "output_type": "stream",
     "text": [
      "Writing TFRecord files for Yale patients:  72%|███████▏  | 143/200 [2:23:43<34:06, 35.91s/it]"
     ]
    },
    {
     "name": "stdout",
     "output_type": "stream",
     "text": [
      "Found 2 lesion(s) and 2 layers in patient 00295\n"
     ]
    },
    {
     "name": "stderr",
     "output_type": "stream",
     "text": [
      "Writing TFRecord files for Yale patients:  72%|███████▏  | 144/200 [2:24:15<32:31, 34.85s/it]"
     ]
    },
    {
     "name": "stdout",
     "output_type": "stream",
     "text": [
      "Found 3 lesion(s) and 3 layers in patient 00206\n"
     ]
    },
    {
     "name": "stderr",
     "output_type": "stream",
     "text": [
      "Writing TFRecord files for Yale patients:  72%|███████▎  | 145/200 [2:25:02<34:59, 38.18s/it]"
     ]
    },
    {
     "name": "stdout",
     "output_type": "stream",
     "text": [
      "Found 9 lesion(s) and 9 layers in patient 00250\n"
     ]
    },
    {
     "name": "stderr",
     "output_type": "stream",
     "text": [
      "Writing TFRecord files for Yale patients:  73%|███████▎  | 146/200 [2:27:21<59:51, 66.51s/it]"
     ]
    },
    {
     "name": "stdout",
     "output_type": "stream",
     "text": [
      "Found 3 lesion(s) and 3 layers in patient 00276\n"
     ]
    },
    {
     "name": "stderr",
     "output_type": "stream",
     "text": [
      "Writing TFRecord files for Yale patients:  74%|███████▎  | 147/200 [2:28:08<53:39, 60.75s/it]"
     ]
    },
    {
     "name": "stdout",
     "output_type": "stream",
     "text": [
      "Found 7 lesion(s) and 7 layers in patient 00299\n"
     ]
    },
    {
     "name": "stderr",
     "output_type": "stream",
     "text": [
      "Writing TFRecord files for Yale patients:  74%|███████▍  | 148/200 [2:29:56<1:04:41, 74.64s/it]"
     ]
    },
    {
     "name": "stdout",
     "output_type": "stream",
     "text": [
      "Found 12 lesion(s) and 12 layers in patient 00149\n"
     ]
    },
    {
     "name": "stderr",
     "output_type": "stream",
     "text": [
      "Writing TFRecord files for Yale patients:  74%|███████▍  | 149/200 [2:33:03<1:31:18, 107.43s/it]"
     ]
    },
    {
     "name": "stdout",
     "output_type": "stream",
     "text": [
      "Found 8 lesion(s) and 8 layers in patient 00288\n"
     ]
    },
    {
     "name": "stderr",
     "output_type": "stream",
     "text": [
      "Writing TFRecord files for Yale patients:  75%|███████▌  | 150/200 [2:35:10<1:34:21, 113.24s/it]"
     ]
    },
    {
     "name": "stdout",
     "output_type": "stream",
     "text": [
      "Found 5 lesion(s) and 5 layers in patient 00138\n"
     ]
    },
    {
     "name": "stderr",
     "output_type": "stream",
     "text": [
      "Writing TFRecord files for Yale patients:  76%|███████▌  | 151/200 [2:36:29<1:24:08, 103.03s/it]"
     ]
    },
    {
     "name": "stdout",
     "output_type": "stream",
     "text": [
      "Found 3 lesion(s) and 3 layers in patient 00185\n"
     ]
    },
    {
     "name": "stderr",
     "output_type": "stream",
     "text": [
      "Writing TFRecord files for Yale patients:  76%|███████▌  | 152/200 [2:37:17<1:09:12, 86.51s/it] "
     ]
    },
    {
     "name": "stdout",
     "output_type": "stream",
     "text": [
      "Found 8 lesion(s) and 8 layers in patient 00230\n"
     ]
    },
    {
     "name": "stderr",
     "output_type": "stream",
     "text": [
      "Writing TFRecord files for Yale patients:  76%|███████▋  | 153/200 [2:39:23<1:16:59, 98.29s/it]"
     ]
    },
    {
     "name": "stdout",
     "output_type": "stream",
     "text": [
      "Found 1 lesion(s) and 1 layers in patient 00140\n"
     ]
    },
    {
     "name": "stderr",
     "output_type": "stream",
     "text": [
      "Writing TFRecord files for Yale patients:  77%|███████▋  | 154/200 [2:39:38<56:27, 73.64s/it]  "
     ]
    },
    {
     "name": "stdout",
     "output_type": "stream",
     "text": [
      "Found 4 lesion(s) and 4 layers in patient 00181\n"
     ]
    },
    {
     "name": "stderr",
     "output_type": "stream",
     "text": [
      "Writing TFRecord files for Yale patients:  78%|███████▊  | 155/200 [2:40:42<52:56, 70.59s/it]"
     ]
    },
    {
     "name": "stdout",
     "output_type": "stream",
     "text": [
      "Found 4 lesion(s) and 4 layers in patient 00167\n"
     ]
    },
    {
     "name": "stderr",
     "output_type": "stream",
     "text": [
      "Writing TFRecord files for Yale patients:  78%|███████▊  | 156/200 [2:41:45<50:11, 68.45s/it]"
     ]
    },
    {
     "name": "stdout",
     "output_type": "stream",
     "text": [
      "Found 18 lesion(s) and 18 layers in patient 00139\n"
     ]
    },
    {
     "name": "stderr",
     "output_type": "stream",
     "text": [
      "Writing TFRecord files for Yale patients:  78%|███████▊  | 157/200 [2:46:25<1:34:22, 131.69s/it]"
     ]
    },
    {
     "name": "stdout",
     "output_type": "stream",
     "text": [
      "Found 1 lesion(s) and 1 layers in patient 00238\n"
     ]
    },
    {
     "name": "stderr",
     "output_type": "stream",
     "text": [
      "Writing TFRecord files for Yale patients:  79%|███████▉  | 158/200 [2:46:40<1:07:47, 96.84s/it] "
     ]
    },
    {
     "name": "stdout",
     "output_type": "stream",
     "text": [
      "Found 1 lesion(s) and 1 layers in patient 00239\n"
     ]
    },
    {
     "name": "stderr",
     "output_type": "stream",
     "text": [
      "Writing TFRecord files for Yale patients:  80%|███████▉  | 159/200 [2:46:56<49:31, 72.49s/it]  "
     ]
    },
    {
     "name": "stdout",
     "output_type": "stream",
     "text": [
      "Found 1 lesion(s) and 1 layers in patient 00266\n"
     ]
    },
    {
     "name": "stderr",
     "output_type": "stream",
     "text": [
      "Writing TFRecord files for Yale patients:  80%|████████  | 160/200 [2:47:11<36:55, 55.39s/it]"
     ]
    },
    {
     "name": "stdout",
     "output_type": "stream",
     "text": [
      "Found 1 lesion(s) and 1 layers in patient 00284\n"
     ]
    },
    {
     "name": "stderr",
     "output_type": "stream",
     "text": [
      "Writing TFRecord files for Yale patients:  80%|████████  | 161/200 [2:47:27<28:13, 43.42s/it]"
     ]
    },
    {
     "name": "stdout",
     "output_type": "stream",
     "text": [
      "Found 5 lesion(s) and 5 layers in patient 00294\n"
     ]
    },
    {
     "name": "stderr",
     "output_type": "stream",
     "text": [
      "Writing TFRecord files for Yale patients:  81%|████████  | 162/200 [2:48:44<33:50, 53.44s/it]"
     ]
    },
    {
     "name": "stdout",
     "output_type": "stream",
     "text": [
      "Found 1 lesion(s) and 1 layers in patient 00307\n"
     ]
    },
    {
     "name": "stderr",
     "output_type": "stream",
     "text": [
      "Writing TFRecord files for Yale patients:  82%|████████▏ | 163/200 [2:48:59<25:57, 42.10s/it]"
     ]
    },
    {
     "name": "stdout",
     "output_type": "stream",
     "text": [
      "Found 1 lesion(s) and 1 layers in patient 00117\n"
     ]
    },
    {
     "name": "stderr",
     "output_type": "stream",
     "text": [
      "Writing TFRecord files for Yale patients:  82%|████████▏ | 164/200 [2:49:15<20:29, 34.16s/it]"
     ]
    },
    {
     "name": "stdout",
     "output_type": "stream",
     "text": [
      "Found 2 lesion(s) and 2 layers in patient 00189\n"
     ]
    },
    {
     "name": "stderr",
     "output_type": "stream",
     "text": [
      "Writing TFRecord files for Yale patients:  82%|████████▎ | 165/200 [2:49:46<19:23, 33.24s/it]"
     ]
    },
    {
     "name": "stdout",
     "output_type": "stream",
     "text": [
      "Found 1 lesion(s) and 1 layers in patient 00201\n"
     ]
    },
    {
     "name": "stderr",
     "output_type": "stream",
     "text": [
      "Writing TFRecord files for Yale patients:  83%|████████▎ | 166/200 [2:50:01<15:48, 27.90s/it]"
     ]
    },
    {
     "name": "stdout",
     "output_type": "stream",
     "text": [
      "Found 4 lesion(s) and 4 layers in patient 00283\n"
     ]
    },
    {
     "name": "stderr",
     "output_type": "stream",
     "text": [
      "Writing TFRecord files for Yale patients:  84%|████████▎ | 167/200 [2:51:03<20:58, 38.13s/it]"
     ]
    },
    {
     "name": "stdout",
     "output_type": "stream",
     "text": [
      "Found 2 lesion(s) and 2 layers in patient 00142\n"
     ]
    },
    {
     "name": "stderr",
     "output_type": "stream",
     "text": [
      "Writing TFRecord files for Yale patients:  84%|████████▍ | 168/200 [2:51:34<19:12, 36.01s/it]"
     ]
    },
    {
     "name": "stdout",
     "output_type": "stream",
     "text": [
      "Found 4 lesion(s) and 4 layers in patient 00183\n"
     ]
    },
    {
     "name": "stderr",
     "output_type": "stream",
     "text": [
      "Writing TFRecord files for Yale patients:  84%|████████▍ | 169/200 [2:52:36<22:35, 43.72s/it]"
     ]
    },
    {
     "name": "stdout",
     "output_type": "stream",
     "text": [
      "Found 1 lesion(s) and 1 layers in patient 00251\n"
     ]
    },
    {
     "name": "stderr",
     "output_type": "stream",
     "text": [
      "Writing TFRecord files for Yale patients:  85%|████████▌ | 170/200 [2:52:52<17:38, 35.28s/it]"
     ]
    },
    {
     "name": "stdout",
     "output_type": "stream",
     "text": [
      "Found 1 lesion(s) and 1 layers in patient 00223\n"
     ]
    },
    {
     "name": "stderr",
     "output_type": "stream",
     "text": [
      "Writing TFRecord files for Yale patients:  86%|████████▌ | 171/200 [2:53:07<14:12, 29.38s/it]"
     ]
    },
    {
     "name": "stdout",
     "output_type": "stream",
     "text": [
      "Found 1 lesion(s) and 1 layers in patient 00267\n"
     ]
    },
    {
     "name": "stderr",
     "output_type": "stream",
     "text": [
      "Writing TFRecord files for Yale patients:  86%|████████▌ | 172/200 [2:53:23<11:47, 25.26s/it]"
     ]
    },
    {
     "name": "stdout",
     "output_type": "stream",
     "text": [
      "Found 1 lesion(s) and 1 layers in patient 00156\n"
     ]
    },
    {
     "name": "stderr",
     "output_type": "stream",
     "text": [
      "Writing TFRecord files for Yale patients:  86%|████████▋ | 173/200 [2:53:38<10:02, 22.32s/it]"
     ]
    },
    {
     "name": "stdout",
     "output_type": "stream",
     "text": [
      "Found 2 lesion(s) and 2 layers in patient 00298\n"
     ]
    },
    {
     "name": "stderr",
     "output_type": "stream",
     "text": [
      "Writing TFRecord files for Yale patients:  87%|████████▋ | 174/200 [2:54:09<10:47, 24.91s/it]"
     ]
    },
    {
     "name": "stdout",
     "output_type": "stream",
     "text": [
      "Found 1 lesion(s) and 1 layers in patient 00232\n"
     ]
    },
    {
     "name": "stderr",
     "output_type": "stream",
     "text": [
      "Writing TFRecord files for Yale patients:  88%|████████▊ | 175/200 [2:54:25<09:12, 22.10s/it]"
     ]
    },
    {
     "name": "stdout",
     "output_type": "stream",
     "text": [
      "Found 11 lesion(s) and 11 layers in patient 00133\n"
     ]
    },
    {
     "name": "stderr",
     "output_type": "stream",
     "text": [
      "Writing TFRecord files for Yale patients:  88%|████████▊ | 176/200 [2:57:15<26:35, 66.49s/it]"
     ]
    },
    {
     "name": "stdout",
     "output_type": "stream",
     "text": [
      "Found 1 lesion(s) and 1 layers in patient 00302\n"
     ]
    },
    {
     "name": "stderr",
     "output_type": "stream",
     "text": [
      "Writing TFRecord files for Yale patients:  88%|████████▊ | 177/200 [2:57:31<23:04, 60.18s/it]"
     ]
    },
    {
     "name": "stdout",
     "output_type": "stream",
     "text": [
      "Found 1 lesion(s) and 1 layers in patient 00247\n"
     ]
    },
    {
     "name": "stderr",
     "output_type": "stream",
     "text": [
      "\n"
     ]
    },
    {
     "ename": "ValueError",
     "evalue": "cannot convert float NaN to integer",
     "output_type": "error",
     "traceback": [
      "\u001b[0;31m---------------------------------------------------------------------------\u001b[0m",
      "\u001b[0;31mValueError\u001b[0m                                Traceback (most recent call last)",
      "Cell \u001b[0;32mIn[178], line 1\u001b[0m\n\u001b[0;32m----> 1\u001b[0m \u001b[43mwrite_Yale_TFRecord_Files\u001b[49m\u001b[43m(\u001b[49m\u001b[43msave_as_rgb\u001b[49m\u001b[43m \u001b[49m\u001b[38;5;241;43m=\u001b[39;49m\u001b[43m \u001b[49m\u001b[38;5;28;43;01mFalse\u001b[39;49;00m\u001b[43m,\u001b[49m\u001b[43m \u001b[49m\u001b[43msave_as_cutout\u001b[49m\u001b[43m \u001b[49m\u001b[38;5;241;43m=\u001b[39;49m\u001b[43m \u001b[49m\u001b[38;5;28;43;01mFalse\u001b[39;49;00m\u001b[43m,\u001b[49m\u001b[43m \u001b[49m\u001b[43minclude_mask\u001b[49m\u001b[43m \u001b[49m\u001b[38;5;241;43m=\u001b[39;49m\u001b[43m \u001b[49m\u001b[38;5;28;43;01mTrue\u001b[39;49;00m\u001b[43m)\u001b[49m\n",
      "Cell \u001b[0;32mIn[176], line 90\u001b[0m, in \u001b[0;36mwrite_Yale_TFRecord_Files\u001b[0;34m(save_as_rgb, save_as_cutout, include_mask, only_one_patient)\u001b[0m\n\u001b[1;32m     88\u001b[0m \u001b[38;5;66;03m# age\u001b[39;00m\n\u001b[1;32m     89\u001b[0m \u001b[38;5;28;01mtry\u001b[39;00m:\n\u001b[0;32m---> 90\u001b[0m     age \u001b[38;5;241m=\u001b[39m \u001b[38;5;28;43mint\u001b[39;49m\u001b[43m(\u001b[49m\u001b[38;5;28;43mlist\u001b[39;49m\u001b[43m(\u001b[49m\u001b[43myale_training_patients\u001b[49m\u001b[43m[\u001b[49m\u001b[43myale_training_patients\u001b[49m\u001b[43m[\u001b[49m\u001b[38;5;124;43m\"\u001b[39;49m\u001b[38;5;124;43mBraTS_MET_ID\u001b[39;49m\u001b[38;5;124;43m\"\u001b[39;49m\u001b[43m]\u001b[49m\u001b[43m \u001b[49m\u001b[38;5;241;43m==\u001b[39;49m\u001b[43m \u001b[49m\u001b[43mclean_patient_id\u001b[49m\u001b[43m]\u001b[49m\u001b[43m[\u001b[49m\u001b[38;5;124;43m\"\u001b[39;49m\u001b[38;5;124;43mAge\u001b[39;49m\u001b[38;5;124;43m\"\u001b[39;49m\u001b[43m]\u001b[49m\u001b[43m)\u001b[49m\u001b[43m[\u001b[49m\u001b[38;5;241;43m0\u001b[39;49m\u001b[43m]\u001b[49m\u001b[43m)\u001b[49m\n\u001b[1;32m     91\u001b[0m     \u001b[38;5;66;03m#print(f\"Age for patient {clean_patient_id}: {age}\")\u001b[39;00m\n\u001b[1;32m     92\u001b[0m \u001b[38;5;28;01mexcept\u001b[39;00m \u001b[38;5;167;01mIndexError\u001b[39;00m:\n",
      "\u001b[0;31mValueError\u001b[0m: cannot convert float NaN to integer"
     ]
    }
   ],
   "source": [
    "write_Yale_TFRecord_Files(save_as_rgb = False, save_as_cutout = False, include_mask = True)"
   ]
  },
  {
   "cell_type": "markdown",
   "metadata": {},
   "source": [
    "#### Read TFRecord File"
   ]
  },
  {
   "cell_type": "code",
   "execution_count": 175,
   "metadata": {},
   "outputs": [
    {
     "name": "stdout",
     "output_type": "stream",
     "text": [
      "Sex: 1\n",
      "Age: 67\n",
      "Layer: 93\n",
      "Primary: 1\n",
      "(240, 240, 5)\n",
      "Median value: 0.0\n"
     ]
    },
    {
     "data": {
      "image/png": "[encoded data removed]",
      "text/plain": [
       "<Figure size 640x480 with 1 Axes>"
      ]
     },
     "metadata": {},
     "output_type": "display_data"
    }
   ],
   "source": [
    "path_to_testing_tfr = \"/Users/LennartPhilipp/Desktop/Uni/Prowiss/CIA metstobrain/yale_slices_tfrecords/all_pats_single_slice_gray/00172/00172_2.tfrecord\"\n",
    "rgb = False\n",
    "\n",
    "num_images = 5 # 4 sequences + 1 mask\n",
    "\n",
    "image_shape = []\n",
    "\n",
    "if rgb: # rgb images need three channels\n",
    "    image_shape = [240, 240, 3, num_images]\n",
    "else: # gray scale images don't\n",
    "    image_shape = [240, 240, num_images]\n",
    "\n",
    "feature_description = {\n",
    "    \"image\": tf.io.FixedLenFeature(image_shape, tf.float32),\n",
    "    \"sex\": tf.io.FixedLenFeature([], tf.int64, default_value=[0]),\n",
    "    \"age\": tf.io.FixedLenFeature([], tf.int64, default_value=0),\n",
    "    \"layer\": tf.io.FixedLenFeature([], tf.int64, default_value=0),\n",
    "    \"primary\": tf.io.FixedLenFeature([], tf.int64, default_value=0),\n",
    "}\n",
    "\n",
    "def parse(serialize_patient):\n",
    "    example = tf.io.parse_single_example(serialize_patient, feature_description)\n",
    "    # input = [example[\"image\"], example[\"sex\"], example[\"age\"]]\n",
    "    # label = example[\"primary\"]\n",
    "    image = example[\"image\"]\n",
    "    image = tf.reshape(image, image_shape) #[149, 185, 155, 4] = old size\n",
    "    \n",
    "    return image, example[\"sex\"], example[\"age\"], example[\"layer\"], example[\"primary\"]\n",
    "\n",
    "dataset = tf.data.TFRecordDataset([path_to_testing_tfr], compression_type=\"GZIP\")\n",
    "parsed_dataset = dataset.map(parse)\n",
    "\n",
    "test_image = parsed_dataset.take(1)\n",
    "for image, sex, age, layer, primary in test_image:\n",
    "    print(f\"Sex: {sex.numpy()}\")\n",
    "    print(f\"Age: {age.numpy()}\")\n",
    "    print(f\"Layer: {layer.numpy()}\")\n",
    "    print(f\"Primary: {primary.numpy()}\")\n",
    "    numpy_image = image.numpy()\n",
    "    print(numpy_image.shape)\n",
    "    # print max and min values\n",
    "    print(f\"Median value: {np.median(numpy_image)}\")\n",
    "    plt.imshow(numpy_image[:,:,3])\n",
    "\n",
    "# sex\n",
    "# m = 1, 0\n",
    "# f = 0, 1"
   ]
  }
 ],
 "metadata": {
  "kernelspec": {
   "display_name": "brain_mets_env",
   "language": "python",
   "name": "python3"
  },
  "language_info": {
   "codemirror_mode": {
    "name": "ipython",
    "version": 3
   },
   "file_extension": ".py",
   "mimetype": "text/x-python",
   "name": "python",
   "nbconvert_exporter": "python",
   "pygments_lexer": "ipython3",
   "version": "3.11.0"
  }
 },
 "nbformat": 4,
 "nbformat_minor": 2
}
