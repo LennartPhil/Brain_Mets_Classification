{
 "cells": [
  {
   "cell_type": "markdown",
   "metadata": {},
   "source": [
    "# Preprocessing"
   ]
  },
  {
   "cell_type": "markdown",
   "metadata": {},
   "source": [
    "## Imports libraries"
   ]
  },
  {
   "cell_type": "code",
   "execution_count": null,
   "metadata": {},
   "outputs": [],
   "source": [
    "import sys\n",
    "sys.path.append(r\"/Users/LennartPhilipp/Desktop/Uni/Prowiss/Code/Brain_Mets_Classification\")\n",
    "import brain_mets_classification.config as config\n",
    "import brain_mets_classification.custom_funcs as funcs\n",
    "\n",
    "from tqdm import tqdm\n",
    "from datetime import datetime\n",
    "import shutil\n",
    "import matplotlib.pyplot as plt\n",
    "\n",
    "import pandas as pd\n",
    "import os\n",
    "import pathlib\n",
    "import ants\n",
    "from typing import Union, List, Tuple\n",
    "import multiprocessing\n",
    "import SimpleITK as sitk\n",
    "from nipype.interfaces.dcm2nii import Dcm2niix\n",
    "import numpy as np\n",
    "#from HD_BET.run import run_hd_bet\n",
    "from nipype.interfaces import fsl\n",
    "from intensity_normalization.normalize.zscore import ZScoreNormalize"
   ]
  },
  {
   "cell_type": "code",
   "execution_count": 11,
   "metadata": {},
   "outputs": [],
   "source": [
    "N_PROC = multiprocessing.cpu_count() - 1\n",
    "\n",
    "path_to_all_patients = config.path_to_ssd\n",
    "path_to_n30 = config.path_to_n30\n",
    "\n",
    "folder_to_patients = \"Rgb_Brain_Mets_Preprocessing1_20240113-163435\"\n",
    "\n",
    "path_to_preprocessing = \"/Users/LennartPhilipp/Desktop/Uni/Prowiss/Code/Brain_Mets_Classification/Rgb_Brain_Mets_Dataset/N30/preprocessing_20240115-152927\"\n",
    "path_to_nifti_files = \"\"\n",
    "path_to_extracted_images = \"/Users/LennartPhilipp/Desktop/Uni/Prowiss/Code/Brain_Mets_Classification/Rgb_Brain_Mets_Dataset/N30/Rgb_Brain_Mets_Preprocessing_extracted_20240116-110600\"\n",
    "path_to_cropped_images = \"/Users/LennartPhilipp/Desktop/Uni/Prowiss/Code/Brain_Mets_Classification/Rgb_Brain_Mets_Dataset/N30/Rgb_Brain_Mets_Preprocessing_4cropped_20240116-115012\"\n",
    "\n",
    "root = f\"{path_to_n30}/{folder_to_patients}\""
   ]
  },
  {
   "cell_type": "markdown",
   "metadata": {},
   "source": [
    "## Extract Dicom Metadata from Dicom Files\n",
    "\n",
    "https://medium.com/@ashkanpakzad/reading-editing-dicom-metadata-w-python-8204223a59f6\n",
    "\n",
    "https://github.com/pydicom/pydicom"
   ]
  },
  {
   "cell_type": "code",
   "execution_count": 8,
   "metadata": {},
   "outputs": [
    {
     "name": "stderr",
     "output_type": "stream",
     "text": [
      "100%|██████████| 27/27 [00:00<00:00, 44.59it/s]\n"
     ]
    }
   ],
   "source": [
    "# Get metadata for each sequence from the first file in each sequence\n",
    "\n",
    "import pydicom\n",
    "\n",
    "path = path_to_n30\n",
    "\n",
    "# gets only the folders at path and puts them in an array \n",
    "patient_folders = [\n",
    "    folder for folder in os.listdir(os.path.join(path, folder_to_patients)) if os.path.isdir(os.path.join(path, folder_to_patients, folder))\n",
    "]\n",
    "\n",
    "# loop through patient folders\n",
    "for patient_folder in tqdm(patient_folders):\n",
    "\n",
    "    # ignores the ds_folders\n",
    "    if config.dsStore in patient_folder:\n",
    "        continue\n",
    "\n",
    "    patientID = patient_folder\n",
    "    \n",
    "    path_to_patient = os.path.join(path, folder_to_patients, patient_folder)\n",
    "\n",
    "    # get the different sequences (stored in folders) for each patient and put them in an array\n",
    "    sequences = [\n",
    "        folder for folder in os.listdir(path_to_patient) if os.path.isdir(os.path.join(path_to_patient, folder))\n",
    "    ]\n",
    "    \n",
    "    # loop through the sequences, get the first file in each folder, extract metadata and safe in the patient folder\n",
    "    for sequence in sequences:\n",
    "\n",
    "        # example sequence name: 12345678_T1_0_SEQUENCENAME\n",
    "        sequenceType = sequence.split(\"_\")[1]\n",
    "        sequenceName = sequence.split(\"_\", 3)[3]\n",
    "        \n",
    "        # get first file in the sequence folder\n",
    "        first_dicom_file_found = os.listdir(os.path.join(path_to_patient, sequence))[0]\n",
    "        path_to_dicom = os.path.join(path_to_patient, sequence, first_dicom_file_found)\n",
    "\n",
    "        # get the dicomFile metadata\n",
    "        dicomFile = pydicom.dcmread(path_to_dicom)\n",
    "\n",
    "        # puts the metadata in txt file\n",
    "        txt_file_name = f\"{path_to_patient}/{patientID}_{sequenceType}_{sequenceName}_metadata.txt\"\n",
    "        with open(txt_file_name, \"w\") as f:\n",
    "            f.writelines(str(dicomFile))\n"
   ]
  },
  {
   "cell_type": "markdown",
   "metadata": {},
   "source": [
    "## Step 00: Convert Dicom to Nifti Files\n",
    "using Dcm2niix, for more information: https://github.com/rordenlab/dcm2niix\n",
    "\n",
    "Li X, Morgan PS, Ashburner J, Smith J, Rorden C (2016) The first step for neuroimaging data analysis: DICOM to NIfTI conversion. J Neurosci Methods. 264:47-56. doi: 10.1016/j.jneumeth.2016.03.001. PMID: 26945974"
   ]
  },
  {
   "cell_type": "code",
   "execution_count": null,
   "metadata": {},
   "outputs": [],
   "source": [
    "# gets only the folders at path and puts them in an array \n",
    "patient_folders = [\n",
    "    folder for folder in os.listdir(root) if os.path.isdir(os.path.join(root, folder))\n",
    "]\n",
    "\n",
    "for patient in tqdm(patient_folders):\n",
    "\n",
    "    # ignores the ds_folders\n",
    "    if config.dsStore in patient:\n",
    "        continue\n",
    "\n",
    "    patientID = patient\n",
    "\n",
    "    # get the different sequences (stored in folders) for each patient and put them in an array\n",
    "    sequences = [\n",
    "        sequenceFolder for sequenceFolder in os.listdir(os.path.join(root, patient)) if os.path.isdir(os.path.join(root, patient, sequenceFolder))\n",
    "    ]\n",
    "\n",
    "    # loop through the different sequences\n",
    "    for sequence in sequences:\n",
    "\n",
    "        # ignores the ds_folders\n",
    "        if config.dsStore in sequence:\n",
    "            continue\n",
    "\n",
    "        # example sequence name: 12345678_T1_0_SEQUENCENAME\n",
    "        sequenceType = sequence.split(\"_\")[1]\n",
    "\n",
    "        # new sequence name: {patientID}_{sequence}_{preprocessingStep}\n",
    "        converter = Dcm2niix()\n",
    "        converter.inputs.source_dir = os.path.join(root, patient, sequence)\n",
    "        converter.inputs.compress = \"y\" # uses compression, \"y\" = yes\n",
    "        converter.inputs.merge_imgs = True\n",
    "        # converter.inputs.compression = 5\n",
    "        converter.inputs.out_filename = f\"{patientID}_{sequenceType}\"\n",
    "        converter.inputs.output_dir = os.path.join(root, patient)\n",
    "        converter.run()"
   ]
  },
  {
   "cell_type": "markdown",
   "metadata": {},
   "source": [
    "## Step 01: Copy nifti files in preprocessing directory"
   ]
  },
  {
   "cell_type": "code",
   "execution_count": 4,
   "metadata": {},
   "outputs": [
    {
     "name": "stderr",
     "output_type": "stream",
     "text": [
      "  0%|          | 0/27 [00:00<?, ?it/s]"
     ]
    },
    {
     "name": "stderr",
     "output_type": "stream",
     "text": [
      "100%|██████████| 27/27 [00:00<00:00, 178.65it/s]\n"
     ]
    }
   ],
   "source": [
    "# To-do:\n",
    "# create new directory for the preprocessing steps\n",
    "# copy nifit files from old directory into preprocessing directy inside a patient folder\n",
    "# Goal:\n",
    "# 12345678\n",
    "#    12345678_T1.nii.gz\n",
    "#    12345678_T1CE.nii.gz\n",
    "#    12345678_T2.nii.gz\n",
    "#    ...\n",
    "\n",
    "# create new directory\n",
    "path_to_nifti_files = funcs.createNewPreprocessingStepFolder(\"0nifti\")\n",
    "\n",
    "# gets only the folders at path and puts them in an array \n",
    "patient_folders = [\n",
    "    folder for folder in os.listdir(root) if os.path.isdir(os.path.join(root, folder))\n",
    "]\n",
    "\n",
    "for patient in tqdm(patient_folders):\n",
    "\n",
    "    # ignores the ds_folders\n",
    "    if config.dsStore in patient:\n",
    "        continue\n",
    "\n",
    "    patientID = patient\n",
    "\n",
    "    # creates a new folder in the preprocessing directory\n",
    "    funcs.createFolderForPatient(path_to_nifti_files, patientID)\n",
    "\n",
    "    # get the nifti fils for each patient and put them in an array\n",
    "    niftiFiles = [\n",
    "        niftiFile for niftiFile in os.listdir(os.path.join(root, patient)) if (\".nii.gz\" in niftiFile)\n",
    "    ]\n",
    "\n",
    "    # loop through the different sequences\n",
    "    for nifti in niftiFiles:\n",
    "            \n",
    "        # example sequence name: 12345678_T1.nii.gz\n",
    "        sequenceType = (nifti.split(\"_\")[1]).split(\".\")[0]\n",
    "\n",
    "        # copy sequence\n",
    "        shutil.copy(os.path.join(root, patientID, nifti), f\"{path_to_nifti_files}/{patientID}/{patientID}_{sequenceType}.nii.gz\")\n"
   ]
  },
  {
   "cell_type": "markdown",
   "metadata": {},
   "source": [
    "## Step 02: Extract Brain\n",
    "applies FSL.Reorient2Std() (requirement for HD-BET) and returns the extracted brain image\n",
    "\n",
    "Brain Extraction using HD-BET, for more information: https://github.com/MIC-DKFZ/HD-BET\n",
    "\n",
    "Isensee F, Schell M, Tursunova I, Brugnara G, Bonekamp D, Neuberger U, Wick A, Schlemmer HP, Heiland S, Wick W, Bendszus M, Maier-Hein KH, Kickingereder P. Automated brain extraction of multi-sequence MRI using artificial neural networks. Hum Brain Mapp. 2019; 1–13. https://doi.org/10.1002/hbm.24750"
   ]
  },
  {
   "cell_type": "markdown",
   "metadata": {},
   "source": [
    "### Step 02.1 Reorient Images"
   ]
  },
  {
   "cell_type": "code",
   "execution_count": 5,
   "metadata": {},
   "outputs": [
    {
     "name": "stderr",
     "output_type": "stream",
     "text": [
      "  0%|          | 0/27 [00:00<?, ?it/s]"
     ]
    },
    {
     "name": "stdout",
     "output_type": "stream",
     "text": [
      "240116-11:04:14,333 nipype.interface WARNING:\n",
      "\t FSLOUTPUTTYPE environment variable is not set. Setting FSLOUTPUTTYPE=NIFTI\n",
      "240116-11:04:16,770 nipype.interface WARNING:\n",
      "\t FSLOUTPUTTYPE environment variable is not set. Setting FSLOUTPUTTYPE=NIFTI\n",
      "240116-11:04:17,335 nipype.interface WARNING:\n",
      "\t FSLOUTPUTTYPE environment variable is not set. Setting FSLOUTPUTTYPE=NIFTI\n",
      "240116-11:04:17,857 nipype.interface WARNING:\n",
      "\t FSLOUTPUTTYPE environment variable is not set. Setting FSLOUTPUTTYPE=NIFTI\n",
      "240116-11:04:18,346 nipype.interface WARNING:\n",
      "\t FSLOUTPUTTYPE environment variable is not set. Setting FSLOUTPUTTYPE=NIFTI\n",
      "240116-11:04:18,791 nipype.interface WARNING:\n",
      "\t FSLOUTPUTTYPE environment variable is not set. Setting FSLOUTPUTTYPE=NIFTI\n",
      "240116-11:04:19,646 nipype.interface WARNING:\n",
      "\t FSLOUTPUTTYPE environment variable is not set. Setting FSLOUTPUTTYPE=NIFTI\n"
     ]
    },
    {
     "name": "stderr",
     "output_type": "stream",
     "text": [
      "  4%|▎         | 1/27 [00:05<02:30,  5.79s/it]"
     ]
    },
    {
     "name": "stdout",
     "output_type": "stream",
     "text": [
      "240116-11:04:20,122 nipype.interface WARNING:\n",
      "\t FSLOUTPUTTYPE environment variable is not set. Setting FSLOUTPUTTYPE=NIFTI\n",
      "240116-11:04:20,591 nipype.interface WARNING:\n",
      "\t FSLOUTPUTTYPE environment variable is not set. Setting FSLOUTPUTTYPE=NIFTI\n",
      "240116-11:04:21,57 nipype.interface WARNING:\n",
      "\t FSLOUTPUTTYPE environment variable is not set. Setting FSLOUTPUTTYPE=NIFTI\n",
      "240116-11:04:21,554 nipype.interface WARNING:\n",
      "\t FSLOUTPUTTYPE environment variable is not set. Setting FSLOUTPUTTYPE=NIFTI\n",
      "240116-11:04:22,43 nipype.interface WARNING:\n",
      "\t FSLOUTPUTTYPE environment variable is not set. Setting FSLOUTPUTTYPE=NIFTI\n",
      "240116-11:04:22,500 nipype.interface WARNING:\n",
      "\t FSLOUTPUTTYPE environment variable is not set. Setting FSLOUTPUTTYPE=NIFTI\n",
      "240116-11:04:22,960 nipype.interface WARNING:\n",
      "\t FSLOUTPUTTYPE environment variable is not set. Setting FSLOUTPUTTYPE=NIFTI\n"
     ]
    },
    {
     "name": "stderr",
     "output_type": "stream",
     "text": [
      "  7%|▋         | 2/27 [00:09<01:48,  4.33s/it]"
     ]
    },
    {
     "name": "stdout",
     "output_type": "stream",
     "text": [
      "240116-11:04:23,422 nipype.interface WARNING:\n",
      "\t FSLOUTPUTTYPE environment variable is not set. Setting FSLOUTPUTTYPE=NIFTI\n",
      "240116-11:04:23,922 nipype.interface WARNING:\n",
      "\t FSLOUTPUTTYPE environment variable is not set. Setting FSLOUTPUTTYPE=NIFTI\n",
      "240116-11:04:24,399 nipype.interface WARNING:\n",
      "\t FSLOUTPUTTYPE environment variable is not set. Setting FSLOUTPUTTYPE=NIFTI\n",
      "240116-11:04:24,974 nipype.interface WARNING:\n",
      "\t FSLOUTPUTTYPE environment variable is not set. Setting FSLOUTPUTTYPE=NIFTI\n",
      "240116-11:04:25,553 nipype.interface WARNING:\n",
      "\t FSLOUTPUTTYPE environment variable is not set. Setting FSLOUTPUTTYPE=NIFTI\n",
      "240116-11:04:26,69 nipype.interface WARNING:\n",
      "\t FSLOUTPUTTYPE environment variable is not set. Setting FSLOUTPUTTYPE=NIFTI\n",
      "240116-11:04:26,528 nipype.interface WARNING:\n",
      "\t FSLOUTPUTTYPE environment variable is not set. Setting FSLOUTPUTTYPE=NIFTI\n"
     ]
    },
    {
     "name": "stderr",
     "output_type": "stream",
     "text": [
      " 11%|█         | 3/27 [00:12<01:35,  3.97s/it]"
     ]
    },
    {
     "name": "stdout",
     "output_type": "stream",
     "text": [
      "240116-11:04:26,980 nipype.interface WARNING:\n",
      "\t FSLOUTPUTTYPE environment variable is not set. Setting FSLOUTPUTTYPE=NIFTI\n",
      "240116-11:04:27,430 nipype.interface WARNING:\n",
      "\t FSLOUTPUTTYPE environment variable is not set. Setting FSLOUTPUTTYPE=NIFTI\n",
      "240116-11:04:27,891 nipype.interface WARNING:\n",
      "\t FSLOUTPUTTYPE environment variable is not set. Setting FSLOUTPUTTYPE=NIFTI\n",
      "240116-11:04:28,439 nipype.interface WARNING:\n",
      "\t FSLOUTPUTTYPE environment variable is not set. Setting FSLOUTPUTTYPE=NIFTI\n",
      "240116-11:04:28,966 nipype.interface WARNING:\n",
      "\t FSLOUTPUTTYPE environment variable is not set. Setting FSLOUTPUTTYPE=NIFTI\n",
      "240116-11:04:29,441 nipype.interface WARNING:\n",
      "\t FSLOUTPUTTYPE environment variable is not set. Setting FSLOUTPUTTYPE=NIFTI\n",
      "240116-11:04:29,879 nipype.interface WARNING:\n",
      "\t FSLOUTPUTTYPE environment variable is not set. Setting FSLOUTPUTTYPE=NIFTI\n"
     ]
    },
    {
     "name": "stderr",
     "output_type": "stream",
     "text": [
      " 15%|█▍        | 4/27 [00:16<01:25,  3.73s/it]"
     ]
    },
    {
     "name": "stdout",
     "output_type": "stream",
     "text": [
      "240116-11:04:30,345 nipype.interface WARNING:\n",
      "\t FSLOUTPUTTYPE environment variable is not set. Setting FSLOUTPUTTYPE=NIFTI\n",
      "240116-11:04:30,819 nipype.interface WARNING:\n",
      "\t FSLOUTPUTTYPE environment variable is not set. Setting FSLOUTPUTTYPE=NIFTI\n",
      "240116-11:04:31,367 nipype.interface WARNING:\n",
      "\t FSLOUTPUTTYPE environment variable is not set. Setting FSLOUTPUTTYPE=NIFTI\n",
      "240116-11:04:31,787 nipype.interface WARNING:\n",
      "\t FSLOUTPUTTYPE environment variable is not set. Setting FSLOUTPUTTYPE=NIFTI\n",
      "240116-11:04:32,251 nipype.interface WARNING:\n",
      "\t FSLOUTPUTTYPE environment variable is not set. Setting FSLOUTPUTTYPE=NIFTI\n",
      "240116-11:04:32,745 nipype.interface WARNING:\n",
      "\t FSLOUTPUTTYPE environment variable is not set. Setting FSLOUTPUTTYPE=NIFTI\n",
      "240116-11:04:33,218 nipype.interface WARNING:\n",
      "\t FSLOUTPUTTYPE environment variable is not set. Setting FSLOUTPUTTYPE=NIFTI\n"
     ]
    },
    {
     "name": "stderr",
     "output_type": "stream",
     "text": [
      " 19%|█▊        | 5/27 [00:19<01:19,  3.61s/it]"
     ]
    },
    {
     "name": "stdout",
     "output_type": "stream",
     "text": [
      "240116-11:04:33,728 nipype.interface WARNING:\n",
      "\t FSLOUTPUTTYPE environment variable is not set. Setting FSLOUTPUTTYPE=NIFTI\n",
      "240116-11:04:34,198 nipype.interface WARNING:\n",
      "\t FSLOUTPUTTYPE environment variable is not set. Setting FSLOUTPUTTYPE=NIFTI\n",
      "240116-11:04:34,630 nipype.interface WARNING:\n",
      "\t FSLOUTPUTTYPE environment variable is not set. Setting FSLOUTPUTTYPE=NIFTI\n",
      "240116-11:04:35,70 nipype.interface WARNING:\n",
      "\t FSLOUTPUTTYPE environment variable is not set. Setting FSLOUTPUTTYPE=NIFTI\n",
      "240116-11:04:35,506 nipype.interface WARNING:\n",
      "\t FSLOUTPUTTYPE environment variable is not set. Setting FSLOUTPUTTYPE=NIFTI\n",
      "240116-11:04:35,932 nipype.interface WARNING:\n",
      "\t FSLOUTPUTTYPE environment variable is not set. Setting FSLOUTPUTTYPE=NIFTI\n",
      "240116-11:04:36,359 nipype.interface WARNING:\n",
      "\t FSLOUTPUTTYPE environment variable is not set. Setting FSLOUTPUTTYPE=NIFTI\n"
     ]
    },
    {
     "name": "stderr",
     "output_type": "stream",
     "text": [
      " 22%|██▏       | 6/27 [00:22<01:12,  3.43s/it]"
     ]
    },
    {
     "name": "stdout",
     "output_type": "stream",
     "text": [
      "240116-11:04:36,825 nipype.interface WARNING:\n",
      "\t FSLOUTPUTTYPE environment variable is not set. Setting FSLOUTPUTTYPE=NIFTI\n",
      "240116-11:04:37,311 nipype.interface WARNING:\n",
      "\t FSLOUTPUTTYPE environment variable is not set. Setting FSLOUTPUTTYPE=NIFTI\n",
      "240116-11:04:37,811 nipype.interface WARNING:\n",
      "\t FSLOUTPUTTYPE environment variable is not set. Setting FSLOUTPUTTYPE=NIFTI\n",
      "240116-11:04:38,251 nipype.interface WARNING:\n",
      "\t FSLOUTPUTTYPE environment variable is not set. Setting FSLOUTPUTTYPE=NIFTI\n",
      "240116-11:04:38,679 nipype.interface WARNING:\n",
      "\t FSLOUTPUTTYPE environment variable is not set. Setting FSLOUTPUTTYPE=NIFTI\n",
      "240116-11:04:39,139 nipype.interface WARNING:\n",
      "\t FSLOUTPUTTYPE environment variable is not set. Setting FSLOUTPUTTYPE=NIFTI\n",
      "240116-11:04:39,576 nipype.interface WARNING:\n",
      "\t FSLOUTPUTTYPE environment variable is not set. Setting FSLOUTPUTTYPE=NIFTI\n"
     ]
    },
    {
     "name": "stderr",
     "output_type": "stream",
     "text": [
      " 26%|██▌       | 7/27 [00:25<01:07,  3.35s/it]"
     ]
    },
    {
     "name": "stdout",
     "output_type": "stream",
     "text": [
      "240116-11:04:40,13 nipype.interface WARNING:\n",
      "\t FSLOUTPUTTYPE environment variable is not set. Setting FSLOUTPUTTYPE=NIFTI\n",
      "240116-11:04:40,501 nipype.interface WARNING:\n",
      "\t FSLOUTPUTTYPE environment variable is not set. Setting FSLOUTPUTTYPE=NIFTI\n",
      "240116-11:04:40,990 nipype.interface WARNING:\n",
      "\t FSLOUTPUTTYPE environment variable is not set. Setting FSLOUTPUTTYPE=NIFTI\n",
      "240116-11:04:41,476 nipype.interface WARNING:\n",
      "\t FSLOUTPUTTYPE environment variable is not set. Setting FSLOUTPUTTYPE=NIFTI\n",
      "240116-11:04:41,978 nipype.interface WARNING:\n",
      "\t FSLOUTPUTTYPE environment variable is not set. Setting FSLOUTPUTTYPE=NIFTI\n",
      "240116-11:04:42,509 nipype.interface WARNING:\n",
      "\t FSLOUTPUTTYPE environment variable is not set. Setting FSLOUTPUTTYPE=NIFTI\n",
      "240116-11:04:42,966 nipype.interface WARNING:\n",
      "\t FSLOUTPUTTYPE environment variable is not set. Setting FSLOUTPUTTYPE=NIFTI\n"
     ]
    },
    {
     "name": "stderr",
     "output_type": "stream",
     "text": [
      " 30%|██▉       | 8/27 [00:29<01:03,  3.36s/it]"
     ]
    },
    {
     "name": "stdout",
     "output_type": "stream",
     "text": [
      "240116-11:04:43,382 nipype.interface WARNING:\n",
      "\t FSLOUTPUTTYPE environment variable is not set. Setting FSLOUTPUTTYPE=NIFTI\n",
      "240116-11:04:43,815 nipype.interface WARNING:\n",
      "\t FSLOUTPUTTYPE environment variable is not set. Setting FSLOUTPUTTYPE=NIFTI\n",
      "240116-11:04:44,293 nipype.interface WARNING:\n",
      "\t FSLOUTPUTTYPE environment variable is not set. Setting FSLOUTPUTTYPE=NIFTI\n",
      "240116-11:04:44,797 nipype.interface WARNING:\n",
      "\t FSLOUTPUTTYPE environment variable is not set. Setting FSLOUTPUTTYPE=NIFTI\n",
      "240116-11:04:45,280 nipype.interface WARNING:\n",
      "\t FSLOUTPUTTYPE environment variable is not set. Setting FSLOUTPUTTYPE=NIFTI\n",
      "240116-11:04:45,758 nipype.interface WARNING:\n",
      "\t FSLOUTPUTTYPE environment variable is not set. Setting FSLOUTPUTTYPE=NIFTI\n",
      "240116-11:04:46,204 nipype.interface WARNING:\n",
      "\t FSLOUTPUTTYPE environment variable is not set. Setting FSLOUTPUTTYPE=NIFTI\n"
     ]
    },
    {
     "name": "stderr",
     "output_type": "stream",
     "text": [
      " 33%|███▎      | 9/27 [00:32<00:59,  3.33s/it]"
     ]
    },
    {
     "name": "stdout",
     "output_type": "stream",
     "text": [
      "240116-11:04:46,659 nipype.interface WARNING:\n",
      "\t FSLOUTPUTTYPE environment variable is not set. Setting FSLOUTPUTTYPE=NIFTI\n",
      "240116-11:04:47,138 nipype.interface WARNING:\n",
      "\t FSLOUTPUTTYPE environment variable is not set. Setting FSLOUTPUTTYPE=NIFTI\n",
      "240116-11:04:47,641 nipype.interface WARNING:\n",
      "\t FSLOUTPUTTYPE environment variable is not set. Setting FSLOUTPUTTYPE=NIFTI\n",
      "240116-11:04:48,116 nipype.interface WARNING:\n",
      "\t FSLOUTPUTTYPE environment variable is not set. Setting FSLOUTPUTTYPE=NIFTI\n",
      "240116-11:04:48,608 nipype.interface WARNING:\n",
      "\t FSLOUTPUTTYPE environment variable is not set. Setting FSLOUTPUTTYPE=NIFTI\n",
      "240116-11:04:49,70 nipype.interface WARNING:\n",
      "\t FSLOUTPUTTYPE environment variable is not set. Setting FSLOUTPUTTYPE=NIFTI\n",
      "240116-11:04:49,543 nipype.interface WARNING:\n",
      "\t FSLOUTPUTTYPE environment variable is not set. Setting FSLOUTPUTTYPE=NIFTI\n"
     ]
    },
    {
     "name": "stderr",
     "output_type": "stream",
     "text": [
      " 37%|███▋      | 10/27 [00:35<00:56,  3.35s/it]"
     ]
    },
    {
     "name": "stdout",
     "output_type": "stream",
     "text": [
      "240116-11:04:50,49 nipype.interface WARNING:\n",
      "\t FSLOUTPUTTYPE environment variable is not set. Setting FSLOUTPUTTYPE=NIFTI\n",
      "240116-11:04:50,528 nipype.interface WARNING:\n",
      "\t FSLOUTPUTTYPE environment variable is not set. Setting FSLOUTPUTTYPE=NIFTI\n",
      "240116-11:04:51,19 nipype.interface WARNING:\n",
      "\t FSLOUTPUTTYPE environment variable is not set. Setting FSLOUTPUTTYPE=NIFTI\n",
      "240116-11:04:51,490 nipype.interface WARNING:\n",
      "\t FSLOUTPUTTYPE environment variable is not set. Setting FSLOUTPUTTYPE=NIFTI\n",
      "240116-11:04:51,951 nipype.interface WARNING:\n",
      "\t FSLOUTPUTTYPE environment variable is not set. Setting FSLOUTPUTTYPE=NIFTI\n",
      "240116-11:04:52,394 nipype.interface WARNING:\n",
      "\t FSLOUTPUTTYPE environment variable is not set. Setting FSLOUTPUTTYPE=NIFTI\n",
      "240116-11:04:52,852 nipype.interface WARNING:\n",
      "\t FSLOUTPUTTYPE environment variable is not set. Setting FSLOUTPUTTYPE=NIFTI\n"
     ]
    },
    {
     "name": "stderr",
     "output_type": "stream",
     "text": [
      " 41%|████      | 11/27 [00:38<00:53,  3.33s/it]"
     ]
    },
    {
     "name": "stdout",
     "output_type": "stream",
     "text": [
      "240116-11:04:53,321 nipype.interface WARNING:\n",
      "\t FSLOUTPUTTYPE environment variable is not set. Setting FSLOUTPUTTYPE=NIFTI\n",
      "240116-11:04:53,794 nipype.interface WARNING:\n",
      "\t FSLOUTPUTTYPE environment variable is not set. Setting FSLOUTPUTTYPE=NIFTI\n",
      "240116-11:04:54,292 nipype.interface WARNING:\n",
      "\t FSLOUTPUTTYPE environment variable is not set. Setting FSLOUTPUTTYPE=NIFTI\n",
      "240116-11:04:54,730 nipype.interface WARNING:\n",
      "\t FSLOUTPUTTYPE environment variable is not set. Setting FSLOUTPUTTYPE=NIFTI\n",
      "240116-11:04:55,170 nipype.interface WARNING:\n",
      "\t FSLOUTPUTTYPE environment variable is not set. Setting FSLOUTPUTTYPE=NIFTI\n"
     ]
    },
    {
     "name": "stderr",
     "output_type": "stream",
     "text": [
      " 44%|████▍     | 12/27 [00:41<00:45,  3.02s/it]"
     ]
    },
    {
     "name": "stdout",
     "output_type": "stream",
     "text": [
      "240116-11:04:55,649 nipype.interface WARNING:\n",
      "\t FSLOUTPUTTYPE environment variable is not set. Setting FSLOUTPUTTYPE=NIFTI\n",
      "240116-11:04:56,164 nipype.interface WARNING:\n",
      "\t FSLOUTPUTTYPE environment variable is not set. Setting FSLOUTPUTTYPE=NIFTI\n",
      "240116-11:04:56,677 nipype.interface WARNING:\n",
      "\t FSLOUTPUTTYPE environment variable is not set. Setting FSLOUTPUTTYPE=NIFTI\n",
      "240116-11:04:57,150 nipype.interface WARNING:\n",
      "\t FSLOUTPUTTYPE environment variable is not set. Setting FSLOUTPUTTYPE=NIFTI\n",
      "240116-11:04:57,666 nipype.interface WARNING:\n",
      "\t FSLOUTPUTTYPE environment variable is not set. Setting FSLOUTPUTTYPE=NIFTI\n",
      "240116-11:04:58,113 nipype.interface WARNING:\n",
      "\t FSLOUTPUTTYPE environment variable is not set. Setting FSLOUTPUTTYPE=NIFTI\n",
      "240116-11:04:58,544 nipype.interface WARNING:\n",
      "\t FSLOUTPUTTYPE environment variable is not set. Setting FSLOUTPUTTYPE=NIFTI\n"
     ]
    },
    {
     "name": "stderr",
     "output_type": "stream",
     "text": [
      " 48%|████▊     | 13/27 [00:44<00:43,  3.12s/it]"
     ]
    },
    {
     "name": "stdout",
     "output_type": "stream",
     "text": [
      "240116-11:04:58,985 nipype.interface WARNING:\n",
      "\t FSLOUTPUTTYPE environment variable is not set. Setting FSLOUTPUTTYPE=NIFTI\n",
      "240116-11:04:59,490 nipype.interface WARNING:\n",
      "\t FSLOUTPUTTYPE environment variable is not set. Setting FSLOUTPUTTYPE=NIFTI\n",
      "240116-11:04:59,980 nipype.interface WARNING:\n",
      "\t FSLOUTPUTTYPE environment variable is not set. Setting FSLOUTPUTTYPE=NIFTI\n",
      "240116-11:05:00,423 nipype.interface WARNING:\n",
      "\t FSLOUTPUTTYPE environment variable is not set. Setting FSLOUTPUTTYPE=NIFTI\n",
      "240116-11:05:00,866 nipype.interface WARNING:\n",
      "\t FSLOUTPUTTYPE environment variable is not set. Setting FSLOUTPUTTYPE=NIFTI\n",
      "240116-11:05:01,329 nipype.interface WARNING:\n",
      "\t FSLOUTPUTTYPE environment variable is not set. Setting FSLOUTPUTTYPE=NIFTI\n",
      "240116-11:05:01,823 nipype.interface WARNING:\n",
      "\t FSLOUTPUTTYPE environment variable is not set. Setting FSLOUTPUTTYPE=NIFTI\n"
     ]
    },
    {
     "name": "stderr",
     "output_type": "stream",
     "text": [
      " 52%|█████▏    | 14/27 [00:47<00:41,  3.17s/it]"
     ]
    },
    {
     "name": "stdout",
     "output_type": "stream",
     "text": [
      "240116-11:05:02,278 nipype.interface WARNING:\n",
      "\t FSLOUTPUTTYPE environment variable is not set. Setting FSLOUTPUTTYPE=NIFTI\n",
      "240116-11:05:02,772 nipype.interface WARNING:\n",
      "\t FSLOUTPUTTYPE environment variable is not set. Setting FSLOUTPUTTYPE=NIFTI\n",
      "240116-11:05:03,250 nipype.interface WARNING:\n",
      "\t FSLOUTPUTTYPE environment variable is not set. Setting FSLOUTPUTTYPE=NIFTI\n",
      "240116-11:05:03,741 nipype.interface WARNING:\n",
      "\t FSLOUTPUTTYPE environment variable is not set. Setting FSLOUTPUTTYPE=NIFTI\n",
      "240116-11:05:04,191 nipype.interface WARNING:\n",
      "\t FSLOUTPUTTYPE environment variable is not set. Setting FSLOUTPUTTYPE=NIFTI\n",
      "240116-11:05:04,653 nipype.interface WARNING:\n",
      "\t FSLOUTPUTTYPE environment variable is not set. Setting FSLOUTPUTTYPE=NIFTI\n",
      "240116-11:05:05,150 nipype.interface WARNING:\n",
      "\t FSLOUTPUTTYPE environment variable is not set. Setting FSLOUTPUTTYPE=NIFTI\n"
     ]
    },
    {
     "name": "stderr",
     "output_type": "stream",
     "text": [
      " 56%|█████▌    | 15/27 [00:51<00:38,  3.23s/it]"
     ]
    },
    {
     "name": "stdout",
     "output_type": "stream",
     "text": [
      "240116-11:05:05,632 nipype.interface WARNING:\n",
      "\t FSLOUTPUTTYPE environment variable is not set. Setting FSLOUTPUTTYPE=NIFTI\n",
      "240116-11:05:06,66 nipype.interface WARNING:\n",
      "\t FSLOUTPUTTYPE environment variable is not set. Setting FSLOUTPUTTYPE=NIFTI\n",
      "240116-11:05:06,510 nipype.interface WARNING:\n",
      "\t FSLOUTPUTTYPE environment variable is not set. Setting FSLOUTPUTTYPE=NIFTI\n",
      "240116-11:05:06,956 nipype.interface WARNING:\n",
      "\t FSLOUTPUTTYPE environment variable is not set. Setting FSLOUTPUTTYPE=NIFTI\n",
      "240116-11:05:07,394 nipype.interface WARNING:\n",
      "\t FSLOUTPUTTYPE environment variable is not set. Setting FSLOUTPUTTYPE=NIFTI\n",
      "240116-11:05:07,909 nipype.interface WARNING:\n",
      "\t FSLOUTPUTTYPE environment variable is not set. Setting FSLOUTPUTTYPE=NIFTI\n"
     ]
    },
    {
     "name": "stderr",
     "output_type": "stream",
     "text": [
      " 59%|█████▉    | 16/27 [00:54<00:33,  3.09s/it]"
     ]
    },
    {
     "name": "stdout",
     "output_type": "stream",
     "text": [
      "240116-11:05:08,398 nipype.interface WARNING:\n",
      "\t FSLOUTPUTTYPE environment variable is not set. Setting FSLOUTPUTTYPE=NIFTI\n",
      "240116-11:05:08,854 nipype.interface WARNING:\n",
      "\t FSLOUTPUTTYPE environment variable is not set. Setting FSLOUTPUTTYPE=NIFTI\n",
      "240116-11:05:09,329 nipype.interface WARNING:\n",
      "\t FSLOUTPUTTYPE environment variable is not set. Setting FSLOUTPUTTYPE=NIFTI\n",
      "240116-11:05:09,802 nipype.interface WARNING:\n",
      "\t FSLOUTPUTTYPE environment variable is not set. Setting FSLOUTPUTTYPE=NIFTI\n",
      "240116-11:05:10,300 nipype.interface WARNING:\n",
      "\t FSLOUTPUTTYPE environment variable is not set. Setting FSLOUTPUTTYPE=NIFTI\n",
      "240116-11:05:10,752 nipype.interface WARNING:\n",
      "\t FSLOUTPUTTYPE environment variable is not set. Setting FSLOUTPUTTYPE=NIFTI\n",
      "240116-11:05:11,189 nipype.interface WARNING:\n",
      "\t FSLOUTPUTTYPE environment variable is not set. Setting FSLOUTPUTTYPE=NIFTI\n"
     ]
    },
    {
     "name": "stderr",
     "output_type": "stream",
     "text": [
      " 63%|██████▎   | 17/27 [00:57<00:31,  3.13s/it]"
     ]
    },
    {
     "name": "stdout",
     "output_type": "stream",
     "text": [
      "240116-11:05:11,641 nipype.interface WARNING:\n",
      "\t FSLOUTPUTTYPE environment variable is not set. Setting FSLOUTPUTTYPE=NIFTI\n",
      "240116-11:05:12,133 nipype.interface WARNING:\n",
      "\t FSLOUTPUTTYPE environment variable is not set. Setting FSLOUTPUTTYPE=NIFTI\n",
      "240116-11:05:13,460 nipype.interface WARNING:\n",
      "\t FSLOUTPUTTYPE environment variable is not set. Setting FSLOUTPUTTYPE=NIFTI\n",
      "240116-11:05:14,28 nipype.interface WARNING:\n",
      "\t FSLOUTPUTTYPE environment variable is not set. Setting FSLOUTPUTTYPE=NIFTI\n",
      "240116-11:05:14,515 nipype.interface WARNING:\n",
      "\t FSLOUTPUTTYPE environment variable is not set. Setting FSLOUTPUTTYPE=NIFTI\n",
      "240116-11:05:14,944 nipype.interface WARNING:\n",
      "\t FSLOUTPUTTYPE environment variable is not set. Setting FSLOUTPUTTYPE=NIFTI\n",
      "240116-11:05:15,440 nipype.interface WARNING:\n",
      "\t FSLOUTPUTTYPE environment variable is not set. Setting FSLOUTPUTTYPE=NIFTI\n",
      "240116-11:05:15,868 nipype.interface WARNING:\n",
      "\t FSLOUTPUTTYPE environment variable is not set. Setting FSLOUTPUTTYPE=NIFTI\n"
     ]
    },
    {
     "name": "stderr",
     "output_type": "stream",
     "text": [
      " 67%|██████▋   | 18/27 [01:01<00:32,  3.59s/it]"
     ]
    },
    {
     "name": "stdout",
     "output_type": "stream",
     "text": [
      "240116-11:05:16,299 nipype.interface WARNING:\n",
      "\t FSLOUTPUTTYPE environment variable is not set. Setting FSLOUTPUTTYPE=NIFTI\n",
      "240116-11:05:16,766 nipype.interface WARNING:\n",
      "\t FSLOUTPUTTYPE environment variable is not set. Setting FSLOUTPUTTYPE=NIFTI\n",
      "240116-11:05:17,198 nipype.interface WARNING:\n",
      "\t FSLOUTPUTTYPE environment variable is not set. Setting FSLOUTPUTTYPE=NIFTI\n",
      "240116-11:05:17,636 nipype.interface WARNING:\n",
      "\t FSLOUTPUTTYPE environment variable is not set. Setting FSLOUTPUTTYPE=NIFTI\n",
      "240116-11:05:18,78 nipype.interface WARNING:\n",
      "\t FSLOUTPUTTYPE environment variable is not set. Setting FSLOUTPUTTYPE=NIFTI\n",
      "240116-11:05:18,511 nipype.interface WARNING:\n",
      "\t FSLOUTPUTTYPE environment variable is not set. Setting FSLOUTPUTTYPE=NIFTI\n",
      "240116-11:05:18,916 nipype.interface WARNING:\n",
      "\t FSLOUTPUTTYPE environment variable is not set. Setting FSLOUTPUTTYPE=NIFTI\n"
     ]
    },
    {
     "name": "stderr",
     "output_type": "stream",
     "text": [
      " 70%|███████   | 19/27 [01:05<00:27,  3.43s/it]"
     ]
    },
    {
     "name": "stdout",
     "output_type": "stream",
     "text": [
      "240116-11:05:19,362 nipype.interface WARNING:\n",
      "\t FSLOUTPUTTYPE environment variable is not set. Setting FSLOUTPUTTYPE=NIFTI\n",
      "240116-11:05:19,817 nipype.interface WARNING:\n",
      "\t FSLOUTPUTTYPE environment variable is not set. Setting FSLOUTPUTTYPE=NIFTI\n",
      "240116-11:05:20,259 nipype.interface WARNING:\n",
      "\t FSLOUTPUTTYPE environment variable is not set. Setting FSLOUTPUTTYPE=NIFTI\n",
      "240116-11:05:20,692 nipype.interface WARNING:\n",
      "\t FSLOUTPUTTYPE environment variable is not set. Setting FSLOUTPUTTYPE=NIFTI\n",
      "240116-11:05:21,117 nipype.interface WARNING:\n",
      "\t FSLOUTPUTTYPE environment variable is not set. Setting FSLOUTPUTTYPE=NIFTI\n",
      "240116-11:05:21,553 nipype.interface WARNING:\n",
      "\t FSLOUTPUTTYPE environment variable is not set. Setting FSLOUTPUTTYPE=NIFTI\n",
      "240116-11:05:21,983 nipype.interface WARNING:\n",
      "\t FSLOUTPUTTYPE environment variable is not set. Setting FSLOUTPUTTYPE=NIFTI\n"
     ]
    },
    {
     "name": "stderr",
     "output_type": "stream",
     "text": [
      " 74%|███████▍  | 20/27 [01:08<00:23,  3.32s/it]"
     ]
    },
    {
     "name": "stdout",
     "output_type": "stream",
     "text": [
      "240116-11:05:22,417 nipype.interface WARNING:\n",
      "\t FSLOUTPUTTYPE environment variable is not set. Setting FSLOUTPUTTYPE=NIFTI\n",
      "240116-11:05:22,854 nipype.interface WARNING:\n",
      "\t FSLOUTPUTTYPE environment variable is not set. Setting FSLOUTPUTTYPE=NIFTI\n",
      "240116-11:05:23,322 nipype.interface WARNING:\n",
      "\t FSLOUTPUTTYPE environment variable is not set. Setting FSLOUTPUTTYPE=NIFTI\n",
      "240116-11:05:23,810 nipype.interface WARNING:\n",
      "\t FSLOUTPUTTYPE environment variable is not set. Setting FSLOUTPUTTYPE=NIFTI\n",
      "240116-11:05:24,245 nipype.interface WARNING:\n",
      "\t FSLOUTPUTTYPE environment variable is not set. Setting FSLOUTPUTTYPE=NIFTI\n",
      "240116-11:05:24,706 nipype.interface WARNING:\n",
      "\t FSLOUTPUTTYPE environment variable is not set. Setting FSLOUTPUTTYPE=NIFTI\n",
      "240116-11:05:25,140 nipype.interface WARNING:\n",
      "\t FSLOUTPUTTYPE environment variable is not set. Setting FSLOUTPUTTYPE=NIFTI\n"
     ]
    },
    {
     "name": "stderr",
     "output_type": "stream",
     "text": [
      " 78%|███████▊  | 21/27 [01:11<00:19,  3.27s/it]"
     ]
    },
    {
     "name": "stdout",
     "output_type": "stream",
     "text": [
      "240116-11:05:25,582 nipype.interface WARNING:\n",
      "\t FSLOUTPUTTYPE environment variable is not set. Setting FSLOUTPUTTYPE=NIFTI\n",
      "240116-11:05:26,25 nipype.interface WARNING:\n",
      "\t FSLOUTPUTTYPE environment variable is not set. Setting FSLOUTPUTTYPE=NIFTI\n",
      "240116-11:05:26,488 nipype.interface WARNING:\n",
      "\t FSLOUTPUTTYPE environment variable is not set. Setting FSLOUTPUTTYPE=NIFTI\n",
      "240116-11:05:26,971 nipype.interface WARNING:\n",
      "\t FSLOUTPUTTYPE environment variable is not set. Setting FSLOUTPUTTYPE=NIFTI\n",
      "240116-11:05:27,374 nipype.interface WARNING:\n",
      "\t FSLOUTPUTTYPE environment variable is not set. Setting FSLOUTPUTTYPE=NIFTI\n",
      "240116-11:05:27,835 nipype.interface WARNING:\n",
      "\t FSLOUTPUTTYPE environment variable is not set. Setting FSLOUTPUTTYPE=NIFTI\n"
     ]
    },
    {
     "name": "stderr",
     "output_type": "stream",
     "text": [
      " 81%|████████▏ | 22/27 [01:13<00:15,  3.11s/it]"
     ]
    },
    {
     "name": "stdout",
     "output_type": "stream",
     "text": [
      "240116-11:05:28,303 nipype.interface WARNING:\n",
      "\t FSLOUTPUTTYPE environment variable is not set. Setting FSLOUTPUTTYPE=NIFTI\n",
      "240116-11:05:28,787 nipype.interface WARNING:\n",
      "\t FSLOUTPUTTYPE environment variable is not set. Setting FSLOUTPUTTYPE=NIFTI\n",
      "240116-11:05:29,236 nipype.interface WARNING:\n",
      "\t FSLOUTPUTTYPE environment variable is not set. Setting FSLOUTPUTTYPE=NIFTI\n",
      "240116-11:05:29,821 nipype.interface WARNING:\n",
      "\t FSLOUTPUTTYPE environment variable is not set. Setting FSLOUTPUTTYPE=NIFTI\n",
      "240116-11:05:30,327 nipype.interface WARNING:\n",
      "\t FSLOUTPUTTYPE environment variable is not set. Setting FSLOUTPUTTYPE=NIFTI\n",
      "240116-11:05:30,812 nipype.interface WARNING:\n",
      "\t FSLOUTPUTTYPE environment variable is not set. Setting FSLOUTPUTTYPE=NIFTI\n",
      "240116-11:05:31,314 nipype.interface WARNING:\n",
      "\t FSLOUTPUTTYPE environment variable is not set. Setting FSLOUTPUTTYPE=NIFTI\n"
     ]
    },
    {
     "name": "stderr",
     "output_type": "stream",
     "text": [
      " 85%|████████▌ | 23/27 [01:17<00:12,  3.23s/it]"
     ]
    },
    {
     "name": "stdout",
     "output_type": "stream",
     "text": [
      "240116-11:05:31,808 nipype.interface WARNING:\n",
      "\t FSLOUTPUTTYPE environment variable is not set. Setting FSLOUTPUTTYPE=NIFTI\n",
      "240116-11:05:32,286 nipype.interface WARNING:\n",
      "\t FSLOUTPUTTYPE environment variable is not set. Setting FSLOUTPUTTYPE=NIFTI\n",
      "240116-11:05:32,788 nipype.interface WARNING:\n",
      "\t FSLOUTPUTTYPE environment variable is not set. Setting FSLOUTPUTTYPE=NIFTI\n",
      "240116-11:05:33,287 nipype.interface WARNING:\n",
      "\t FSLOUTPUTTYPE environment variable is not set. Setting FSLOUTPUTTYPE=NIFTI\n",
      "240116-11:05:33,761 nipype.interface WARNING:\n",
      "\t FSLOUTPUTTYPE environment variable is not set. Setting FSLOUTPUTTYPE=NIFTI\n",
      "240116-11:05:34,228 nipype.interface WARNING:\n",
      "\t FSLOUTPUTTYPE environment variable is not set. Setting FSLOUTPUTTYPE=NIFTI\n",
      "240116-11:05:34,715 nipype.interface WARNING:\n",
      "\t FSLOUTPUTTYPE environment variable is not set. Setting FSLOUTPUTTYPE=NIFTI\n"
     ]
    },
    {
     "name": "stderr",
     "output_type": "stream",
     "text": [
      " 89%|████████▉ | 24/27 [01:20<00:09,  3.30s/it]"
     ]
    },
    {
     "name": "stdout",
     "output_type": "stream",
     "text": [
      "240116-11:05:35,284 nipype.interface WARNING:\n",
      "\t FSLOUTPUTTYPE environment variable is not set. Setting FSLOUTPUTTYPE=NIFTI\n",
      "240116-11:05:35,796 nipype.interface WARNING:\n",
      "\t FSLOUTPUTTYPE environment variable is not set. Setting FSLOUTPUTTYPE=NIFTI\n",
      "240116-11:05:36,291 nipype.interface WARNING:\n",
      "\t FSLOUTPUTTYPE environment variable is not set. Setting FSLOUTPUTTYPE=NIFTI\n",
      "240116-11:05:36,761 nipype.interface WARNING:\n",
      "\t FSLOUTPUTTYPE environment variable is not set. Setting FSLOUTPUTTYPE=NIFTI\n",
      "240116-11:05:37,210 nipype.interface WARNING:\n",
      "\t FSLOUTPUTTYPE environment variable is not set. Setting FSLOUTPUTTYPE=NIFTI\n",
      "240116-11:05:37,669 nipype.interface WARNING:\n",
      "\t FSLOUTPUTTYPE environment variable is not set. Setting FSLOUTPUTTYPE=NIFTI\n",
      "240116-11:05:38,185 nipype.interface WARNING:\n",
      "\t FSLOUTPUTTYPE environment variable is not set. Setting FSLOUTPUTTYPE=NIFTI\n"
     ]
    },
    {
     "name": "stderr",
     "output_type": "stream",
     "text": [
      " 93%|█████████▎| 25/27 [01:24<00:06,  3.34s/it]"
     ]
    },
    {
     "name": "stdout",
     "output_type": "stream",
     "text": [
      "240116-11:05:38,711 nipype.interface WARNING:\n",
      "\t FSLOUTPUTTYPE environment variable is not set. Setting FSLOUTPUTTYPE=NIFTI\n",
      "240116-11:05:39,186 nipype.interface WARNING:\n",
      "\t FSLOUTPUTTYPE environment variable is not set. Setting FSLOUTPUTTYPE=NIFTI\n",
      "240116-11:05:39,662 nipype.interface WARNING:\n",
      "\t FSLOUTPUTTYPE environment variable is not set. Setting FSLOUTPUTTYPE=NIFTI\n",
      "240116-11:05:40,99 nipype.interface WARNING:\n",
      "\t FSLOUTPUTTYPE environment variable is not set. Setting FSLOUTPUTTYPE=NIFTI\n",
      "240116-11:05:40,571 nipype.interface WARNING:\n",
      "\t FSLOUTPUTTYPE environment variable is not set. Setting FSLOUTPUTTYPE=NIFTI\n",
      "240116-11:05:40,983 nipype.interface WARNING:\n",
      "\t FSLOUTPUTTYPE environment variable is not set. Setting FSLOUTPUTTYPE=NIFTI\n",
      "240116-11:05:41,429 nipype.interface WARNING:\n",
      "\t FSLOUTPUTTYPE environment variable is not set. Setting FSLOUTPUTTYPE=NIFTI\n"
     ]
    },
    {
     "name": "stderr",
     "output_type": "stream",
     "text": [
      " 96%|█████████▋| 26/27 [01:27<00:03,  3.28s/it]"
     ]
    },
    {
     "name": "stdout",
     "output_type": "stream",
     "text": [
      "240116-11:05:41,844 nipype.interface WARNING:\n",
      "\t FSLOUTPUTTYPE environment variable is not set. Setting FSLOUTPUTTYPE=NIFTI\n",
      "240116-11:05:42,356 nipype.interface WARNING:\n",
      "\t FSLOUTPUTTYPE environment variable is not set. Setting FSLOUTPUTTYPE=NIFTI\n",
      "240116-11:05:42,888 nipype.interface WARNING:\n",
      "\t FSLOUTPUTTYPE environment variable is not set. Setting FSLOUTPUTTYPE=NIFTI\n",
      "240116-11:05:43,333 nipype.interface WARNING:\n",
      "\t FSLOUTPUTTYPE environment variable is not set. Setting FSLOUTPUTTYPE=NIFTI\n",
      "240116-11:05:43,790 nipype.interface WARNING:\n",
      "\t FSLOUTPUTTYPE environment variable is not set. Setting FSLOUTPUTTYPE=NIFTI\n",
      "240116-11:05:44,257 nipype.interface WARNING:\n",
      "\t FSLOUTPUTTYPE environment variable is not set. Setting FSLOUTPUTTYPE=NIFTI\n",
      "240116-11:05:44,761 nipype.interface WARNING:\n",
      "\t FSLOUTPUTTYPE environment variable is not set. Setting FSLOUTPUTTYPE=NIFTI\n"
     ]
    },
    {
     "name": "stderr",
     "output_type": "stream",
     "text": [
      "100%|██████████| 27/27 [01:30<00:00,  3.37s/it]\n"
     ]
    }
   ],
   "source": [
    "# create new directory\n",
    "path_to_reoriented_images = funcs.createNewPreprocessingStepFolder(\"1reoriented\")\n",
    "\n",
    "# gets only the folders at path and puts them in an array \n",
    "patient_folders = [\n",
    "    folder for folder in os.listdir(path_to_nifti_files) if os.path.isdir(os.path.join(path_to_nifti_files, folder))\n",
    "]\n",
    "\n",
    "for patient in tqdm(patient_folders):\n",
    "\n",
    "    # ignores the ds_folders\n",
    "    if config.dsStore in patient:\n",
    "        continue\n",
    "\n",
    "    patientID = patient\n",
    "\n",
    "    # creates a new folder in the preprocessing directory\n",
    "    funcs.createFolderForPatient(path_to_reoriented_images, patientID)\n",
    "\n",
    "    # get the nifti fils for each patient and put them in an array\n",
    "    niftiFiles = [\n",
    "        niftiFile for niftiFile in os.listdir(os.path.join(path_to_nifti_files, patient)) if (\".nii.gz\" in niftiFile)\n",
    "    ]\n",
    "\n",
    "    # loop through the different sequences\n",
    "    for nifti in niftiFiles:\n",
    "\n",
    "        # example sequence name: 12345678_T1.nii.gz\n",
    "        sequenceType = (nifti.split(\"_\")[1]).split(\".\")[0]\n",
    "\n",
    "        now = datetime.now()\n",
    "        timeFormatted = now.strftime(\"%Y%m%d-%H%M%S\")\n",
    "\n",
    "        path_to_input_image = os.path.join(path_to_nifti_files, patient, nifti)\n",
    "        path_to_output_image = f\"{path_to_reoriented_images}/{patientID}/{patientID}_{sequenceType}_reoriented_{timeFormatted}.nii\"\n",
    "\n",
    "        reorient = fsl.Reorient2Std()\n",
    "        reorient.inputs.in_file = path_to_input_image\n",
    "        reorient.inputs.out_file = path_to_output_image\n",
    "        #reorient._output_type\n",
    "        reorient.run()\n",
    "\n"
   ]
  },
  {
   "cell_type": "markdown",
   "metadata": {},
   "source": [
    "### Step 02.2 Extract Brain using HD-BET"
   ]
  },
  {
   "cell_type": "markdown",
   "metadata": {},
   "source": [
    "currently not working as HD-BET is not supported for apple silicons, but trying to find another way"
   ]
  },
  {
   "cell_type": "code",
   "execution_count": null,
   "metadata": {},
   "outputs": [],
   "source": [
    "path_to_extracted_images = funcs.createNewPreprocessingStepFolder(\"2extracted\")\n",
    "\n",
    "# gets only the folders at path and puts them in an array \n",
    "patient_folders = [\n",
    "    folder for folder in os.listdir(path_to_reoriented_images) if os.path.isdir(os.path.join(path_to_reoriented_images, folder))\n",
    "]\n",
    "\n",
    "for patient in tqdm(patient_folders):\n",
    "\n",
    "    # ignores the ds_folders\n",
    "    if config.dsStore in patient:\n",
    "        continue\n",
    "\n",
    "    patientID = patient\n",
    "\n",
    "    # creates a new folder in the preprocessing directory\n",
    "    funcs.createFolderForPatient(path_to_extracted_images, patientID)\n",
    "\n",
    "    reorientedNiftiFiles = [\n",
    "        reorientedFile for reorientedFile in os.listdir(path_to_reoriented_images, patient) if (\"reoriented\" in reorientedFile)\n",
    "    ]\n",
    "\n",
    "    # loop through the reoriented files\n",
    "    for reorientedFile in reorientedNiftiFiles:\n",
    "\n",
    "        sequenceType = (reorientedFile.split(\"_\")[1]).split(\".\")[0]\n",
    "\n",
    "        now = datetime.now()\n",
    "        timeFormatted = now.strftime(\"%Y%m%d-%H%M%S\")\n",
    "\n",
    "        path_to_input_image = os.path.join(path_to_preprocessing, patient, reorientedFile)\n",
    "        path_to_output_image = f\"{path_to_extracted_images}/{patient}/{patientID}_{sequenceType}_brainextracted_{timeFormatted}\"\n",
    "\n",
    "        # either like this\n",
    "        #run_hd_bet(mri_fnames=path_to_output_image, output_fnames=path_to_output_image)\n",
    "\n",
    "        # or like that\n",
    "        os.system(f\"hd-bet -i {path_to_input_image} -o {path_to_output_image}\")"
   ]
  },
  {
   "cell_type": "markdown",
   "metadata": {},
   "source": [
    "## Step 03: Binary Segment and Fill Holes"
   ]
  },
  {
   "cell_type": "code",
   "execution_count": 9,
   "metadata": {},
   "outputs": [
    {
     "name": "stderr",
     "output_type": "stream",
     "text": [
      "  0%|          | 0/8 [00:00<?, ?it/s]"
     ]
    },
    {
     "name": "stdout",
     "output_type": "stream",
     "text": [
      "['01199093_T1_brainextracted.nii.gz', '01199093_FLAIR_brainextracted.nii.gz', '01199093_T1CE_brainextracted.nii.gz', '01199093_DWI_brainextracted.nii.gz', '01199093_T1a_brainextracted.nii.gz', '01199093_T2_brainextracted.nii.gz']\n"
     ]
    },
    {
     "name": "stderr",
     "output_type": "stream",
     "text": [
      " 12%|█▎        | 1/8 [00:13<01:33, 13.30s/it]"
     ]
    },
    {
     "name": "stdout",
     "output_type": "stream",
     "text": [
      "['01220269_T1_brainextracted.nii.gz', '01220269_STERN_brainextracted.nii.gz', '01220269_FLAIR_brainextracted.nii.gz', '01220269_T1CE_brainextracted.nii.gz', '01220269_T2_brainextracted.nii.gz', '01220269_DWI_brainextracted.nii.gz', '01220269_ADC_brainextracted.nii.gz']\n"
     ]
    },
    {
     "name": "stderr",
     "output_type": "stream",
     "text": [
      " 25%|██▌       | 2/8 [00:16<00:45,  7.64s/it]"
     ]
    },
    {
     "name": "stdout",
     "output_type": "stream",
     "text": [
      "['01150136_DWI_brainextracted.nii.gz', '01150136_ADC_brainextracted.nii.gz', '01150136_STERN_brainextracted.nii.gz', '01150136_T1_brainextracted.nii.gz', '01150136_T1CE_brainextracted.nii.gz', '01150136_FLAIR_brainextracted.nii.gz', '01150136_T2_brainextracted.nii.gz']\n"
     ]
    },
    {
     "name": "stderr",
     "output_type": "stream",
     "text": [
      " 38%|███▊      | 3/8 [00:22<00:32,  6.46s/it]"
     ]
    },
    {
     "name": "stdout",
     "output_type": "stream",
     "text": [
      "['01134825_FLAIR_brainextracted.nii.gz', '01134825_T2_brainextracted.nii.gz', '01134825_STERN_brainextracted.nii.gz', '01134825_T1_brainextracted.nii.gz', '01134825_T1CE_brainextracted.nii.gz', '01134825_ADC_brainextracted.nii.gz']\n"
     ]
    },
    {
     "name": "stderr",
     "output_type": "stream",
     "text": [
      " 50%|█████     | 4/8 [00:24<00:19,  4.97s/it]"
     ]
    },
    {
     "name": "stdout",
     "output_type": "stream",
     "text": [
      "['01083248_T2_brainextracted.nii.gz', '01083248_T1CE_brainextracted.nii.gz', '01083248_STERN_brainextracted.nii.gz', '01083248_T1_brainextracted.nii.gz', '01083248_FLAIR_brainextracted.nii.gz', '01083248_DWI_brainextracted.nii.gz', '01083248_ADC_brainextracted.nii.gz']\n"
     ]
    },
    {
     "name": "stderr",
     "output_type": "stream",
     "text": [
      " 62%|██████▎   | 5/8 [00:28<00:14,  4.70s/it]"
     ]
    },
    {
     "name": "stdout",
     "output_type": "stream",
     "text": [
      "['01189050_T1CE_brainextracted.nii.gz', '01189050_STERN_brainextracted.nii.gz', '01189050_T2_brainextracted.nii.gz', '01189050_DWI_brainextracted.nii.gz', '01189050_ADC_brainextracted.nii.gz', '01189050_T1_brainextracted.nii.gz', '01189050_FLAIR_brainextracted.nii.gz']\n"
     ]
    },
    {
     "name": "stderr",
     "output_type": "stream",
     "text": [
      " 75%|███████▌  | 6/8 [00:32<00:08,  4.25s/it]"
     ]
    },
    {
     "name": "stdout",
     "output_type": "stream",
     "text": [
      "['01311383_T1_brainextracted.nii.gz', '01311383_T1CE_brainextracted.nii.gz', '01311383_FLAIR_brainextracted.nii.gz', '01311383_DWI_brainextracted.nii.gz', '01311383_ADC_brainextracted.nii.gz', '01311383_STERN_brainextracted.nii.gz', '01311383_T2_brainextracted.nii.gz']\n"
     ]
    },
    {
     "name": "stderr",
     "output_type": "stream",
     "text": [
      " 88%|████████▊ | 7/8 [00:35<00:03,  3.97s/it]"
     ]
    },
    {
     "name": "stdout",
     "output_type": "stream",
     "text": [
      "['01261127_T1CE_brainextracted.nii.gz']\n"
     ]
    },
    {
     "name": "stderr",
     "output_type": "stream",
     "text": [
      "100%|██████████| 8/8 [00:36<00:00,  4.52s/it]\n"
     ]
    }
   ],
   "source": [
    "path_to_filled_holes_files = funcs.createNewPreprocessingStepFolder(\"3filledHoles\")\n",
    "\n",
    "# gets only the folders at path and puts them in an array \n",
    "patient_folders = [\n",
    "    folder for folder in os.listdir(path_to_extracted_images) if os.path.isdir(os.path.join(path_to_extracted_images, folder))\n",
    "]\n",
    "\n",
    "for patient in tqdm(patient_folders):\n",
    "\n",
    "    # ignores the ds_folders\n",
    "    if config.dsStore in patient:\n",
    "        continue\n",
    "\n",
    "    patientID = patient\n",
    "\n",
    "    # creates a new folder in the preprocessing directory\n",
    "    funcs.createFolderForPatient(path_to_filled_holes_files, patientID)\n",
    "\n",
    "    brainExtractedFiles = [\n",
    "        extractedFile for extractedFile in os.listdir(os.path.join(path_to_extracted_images, patient)) if ((\"brainextracted\" in extractedFile) and (\"mask\" not in extractedFile))\n",
    "    ]\n",
    "\n",
    "    print(brainExtractedFiles)\n",
    "\n",
    "    # loop through the brain extracted files\n",
    "    for betFile in brainExtractedFiles:\n",
    "\n",
    "        path_to_bet_file = os.path.join(path_to_extracted_images, patient, betFile)\n",
    "        sitk_image = sitk.ReadImage(path_to_bet_file, imageIO=\"NiftiImageIO\")\n",
    "\n",
    "        otsu_filter = sitk.OtsuThresholdImageFilter()\n",
    "        otsu_filter.SetInsideValue(0)\n",
    "        otsu_filter.SetOutsideValue(1)\n",
    "        otsu_image = otsu_filter.Execute(sitk_image)\n",
    "\n",
    "        closing_filter = sitk.BinaryMorphologicalClosingImageFilter()\n",
    "        closing_filter.SetKernelRadius(3)\n",
    "        closed_image = closing_filter.Execute(otsu_image)\n",
    "\n",
    "        sequenceType = (betFile.split(\"_\")[1]).split(\".\")[0]\n",
    "\n",
    "        now = datetime.now()\n",
    "        timeFormatted = now.strftime(\"%Y%m%d-%H%M%S\")\n",
    "\n",
    "        path_to_output_image = f\"{path_to_filled_holes_files}/{patientID}/{patientID}_{sequenceType}_holesfilled_{timeFormatted}.nii.gz\"\n",
    "        sitk.WriteImage(closed_image, path_to_output_image, imageIO = \"NiftiImageIO\")"
   ]
  },
  {
   "cell_type": "code",
   "execution_count": 3,
   "metadata": {},
   "outputs": [],
   "source": [
    "def fill_holes(\n",
    "    binary_image: sitk.Image,\n",
    "    radius: int = 3,\n",
    ") -> sitk.Image:\n",
    "    \"\"\"\n",
    "    Fills holes in binary segmentation\n",
    "\n",
    "    Keyword Arguments:\n",
    "    - binary_image: sitk.Image = binary brain segmentation\n",
    "    - radius: int = kernel radius\n",
    "\n",
    "    Returns:\n",
    "    - closed_image: sitk.Image = binary brain segmentation with holes filled\n",
    "    \"\"\"\n",
    "\n",
    "    closing_filter = sitk.BinaryMorphologicalClosingImageFilter()\n",
    "    closing_filter.SetKernelRadius(radius)\n",
    "    closed_image = closing_filter.Execute(binary_image)\n",
    "\n",
    "    return closed_image\n",
    "\n",
    "\n",
    "def binary_segment_brain(\n",
    "    image: sitk.Image,\n",
    ") -> sitk.Image:\n",
    "    \"\"\"\n",
    "    Returns binary segmentation of brain from brain-extracted scan via otsu thresholding\n",
    "\n",
    "    Keyword Arguments:\n",
    "    - image: sitk.Image = brain-extracted scan\n",
    "\n",
    "    Returns:\n",
    "    - sitk.Image = binary segmentation of brain scan with filled holes\n",
    "    \"\"\"\n",
    "\n",
    "    otsu_filter = sitk.OtsuThresholdImageFilter()\n",
    "    otsu_filter.SetInsideValue(0)\n",
    "    otsu_filter.SetOutsideValue(1)\n",
    "    binary_mask = otsu_filter.Execute(image)\n",
    "\n",
    "    return fill_holes(binary_mask)"
   ]
  },
  {
   "cell_type": "markdown",
   "metadata": {},
   "source": [
    "## Step 05: Get and Apply Bounding Box\n",
    "create a bounding box based on the binary segmented and filled image and apply it to the brain extracted image"
   ]
  },
  {
   "cell_type": "code",
   "execution_count": 13,
   "metadata": {},
   "outputs": [
    {
     "name": "stderr",
     "output_type": "stream",
     "text": [
      "  0%|          | 0/8 [00:00<?, ?it/s]"
     ]
    },
    {
     "name": "stdout",
     "output_type": "stream",
     "text": [
      "The following lines should show the same patientID and sequence:\n",
      "01199093_DWI_holesfilled_20240116-111453.nii.gz\n",
      "01199093_DWI_brainextracted.nii.gz\n",
      "The following lines should show the same patientID and sequence:\n",
      "01199093_T1a_holesfilled_20240116-111454.nii.gz\n",
      "01199093_T1a_brainextracted.nii.gz\n",
      "The following lines should show the same patientID and sequence:\n",
      "01199093_T1_holesfilled_20240116-111450.nii.gz\n",
      "01199093_T1_brainextracted.nii.gz\n",
      "The following lines should show the same patientID and sequence:\n",
      "01199093_FLAIR_holesfilled_20240116-111451.nii.gz\n",
      "01199093_FLAIR_brainextracted.nii.gz\n",
      "The following lines should show the same patientID and sequence:\n",
      "01199093_T1CE_holesfilled_20240116-111453.nii.gz\n",
      "01199093_T1CE_brainextracted.nii.gz\n"
     ]
    },
    {
     "name": "stderr",
     "output_type": "stream",
     "text": [
      " 12%|█▎        | 1/8 [00:01<00:10,  1.48s/it]"
     ]
    },
    {
     "name": "stdout",
     "output_type": "stream",
     "text": [
      "The following lines should show the same patientID and sequence:\n",
      "01199093_T2_holesfilled_20240116-111456.nii.gz\n",
      "01199093_T2_brainextracted.nii.gz\n",
      "The following lines should show the same patientID and sequence:\n",
      "01220269_T2_holesfilled_20240116-111458.nii.gz\n",
      "01220269_T2_brainextracted.nii.gz\n"
     ]
    },
    {
     "name": "stderr",
     "output_type": "stream",
     "text": [
      " 25%|██▌       | 2/8 [00:01<00:04,  1.37it/s]"
     ]
    },
    {
     "name": "stdout",
     "output_type": "stream",
     "text": [
      "The following lines should show the same patientID and sequence:\n",
      "01220269_T1CE_holesfilled_20240116-111457.nii.gz\n",
      "01220269_T1CE_brainextracted.nii.gz\n",
      "The following lines should show the same patientID and sequence:\n",
      "01220269_ADC_holesfilled_20240116-111500.nii.gz\n",
      "01220269_ADC_brainextracted.nii.gz\n",
      "The following lines should show the same patientID and sequence:\n",
      "01220269_DWI_holesfilled_20240116-111459.nii.gz\n",
      "01220269_DWI_brainextracted.nii.gz\n",
      "The following lines should show the same patientID and sequence:\n",
      "01220269_FLAIR_holesfilled_20240116-111457.nii.gz\n",
      "01220269_FLAIR_brainextracted.nii.gz\n",
      "The following lines should show the same patientID and sequence:\n",
      "01220269_T1_holesfilled_20240116-111456.nii.gz\n",
      "01220269_T1_brainextracted.nii.gz\n",
      "The following lines should show the same patientID and sequence:\n",
      "01220269_STERN_holesfilled_20240116-111457.nii.gz\n",
      "01220269_STERN_brainextracted.nii.gz\n",
      "The following lines should show the same patientID and sequence:\n",
      "01150136_DWI_holesfilled_20240116-111500.nii.gz\n",
      "01150136_DWI_brainextracted.nii.gz\n",
      "The following lines should show the same patientID and sequence:\n",
      "01150136_FLAIR_holesfilled_20240116-111504.nii.gz\n",
      "01150136_FLAIR_brainextracted.nii.gz\n",
      "The following lines should show the same patientID and sequence:\n",
      "01150136_T1_holesfilled_20240116-111503.nii.gz\n",
      "01150136_T1_brainextracted.nii.gz\n",
      "The following lines should show the same patientID and sequence:\n",
      "01150136_STERN_holesfilled_20240116-111502.nii.gz\n",
      "01150136_STERN_brainextracted.nii.gz\n",
      "The following lines should show the same patientID and sequence:\n",
      "01150136_ADC_holesfilled_20240116-111501.nii.gz\n",
      "01150136_ADC_brainextracted.nii.gz\n",
      "The following lines should show the same patientID and sequence:\n",
      "01150136_T2_holesfilled_20240116-111505.nii.gz\n",
      "01150136_T2_brainextracted.nii.gz\n"
     ]
    },
    {
     "name": "stderr",
     "output_type": "stream",
     "text": [
      " 38%|███▊      | 3/8 [00:01<00:02,  1.90it/s]"
     ]
    },
    {
     "name": "stdout",
     "output_type": "stream",
     "text": [
      "The following lines should show the same patientID and sequence:\n",
      "01150136_T1CE_holesfilled_20240116-111503.nii.gz\n",
      "01150136_T1CE_brainextracted.nii.gz\n",
      "The following lines should show the same patientID and sequence:\n",
      "01134825_STERN_holesfilled_20240116-111506.nii.gz\n",
      "01134825_STERN_brainextracted.nii.gz\n",
      "The following lines should show the same patientID and sequence:\n",
      "01134825_ADC_holesfilled_20240116-111507.nii.gz\n",
      "01134825_ADC_brainextracted.nii.gz\n",
      "The following lines should show the same patientID and sequence:\n",
      "01134825_T1_holesfilled_20240116-111506.nii.gz\n",
      "01134825_T1_brainextracted.nii.gz\n",
      "The following lines should show the same patientID and sequence:\n",
      "01134825_T1CE_holesfilled_20240116-111506.nii.gz\n",
      "01134825_T1CE_brainextracted.nii.gz\n",
      "The following lines should show the same patientID and sequence:\n",
      "01134825_FLAIR_holesfilled_20240116-111505.nii.gz\n",
      "01134825_FLAIR_brainextracted.nii.gz\n",
      "The following lines should show the same patientID and sequence:\n",
      "01134825_T2_holesfilled_20240116-111506.nii.gz\n",
      "01134825_T2_brainextracted.nii.gz\n"
     ]
    },
    {
     "name": "stderr",
     "output_type": "stream",
     "text": [
      " 50%|█████     | 4/8 [00:02<00:01,  2.59it/s]"
     ]
    },
    {
     "name": "stdout",
     "output_type": "stream",
     "text": [
      "The following lines should show the same patientID and sequence:\n",
      "01083248_FLAIR_holesfilled_20240116-111511.nii.gz\n",
      "01083248_FLAIR_brainextracted.nii.gz\n",
      "The following lines should show the same patientID and sequence:\n",
      "01083248_T1CE_holesfilled_20240116-111509.nii.gz\n",
      "01083248_T1CE_brainextracted.nii.gz\n",
      "The following lines should show the same patientID and sequence:\n",
      "01083248_ADC_holesfilled_20240116-111512.nii.gz\n",
      "01083248_ADC_brainextracted.nii.gz\n",
      "The following lines should show the same patientID and sequence:\n",
      "01083248_T2_holesfilled_20240116-111508.nii.gz\n",
      "01083248_T2_brainextracted.nii.gz\n",
      "The following lines should show the same patientID and sequence:\n",
      "01083248_STERN_holesfilled_20240116-111510.nii.gz\n",
      "01083248_STERN_brainextracted.nii.gz\n"
     ]
    },
    {
     "name": "stderr",
     "output_type": "stream",
     "text": [
      " 62%|██████▎   | 5/8 [00:02<00:01,  2.96it/s]"
     ]
    },
    {
     "name": "stdout",
     "output_type": "stream",
     "text": [
      "The following lines should show the same patientID and sequence:\n",
      "01083248_T1_holesfilled_20240116-111511.nii.gz\n",
      "01083248_T1_brainextracted.nii.gz\n",
      "The following lines should show the same patientID and sequence:\n",
      "01083248_DWI_holesfilled_20240116-111511.nii.gz\n",
      "01083248_DWI_brainextracted.nii.gz\n",
      "The following lines should show the same patientID and sequence:\n",
      "01189050_T1_holesfilled_20240116-111515.nii.gz\n",
      "01189050_T1_brainextracted.nii.gz\n",
      "The following lines should show the same patientID and sequence:\n",
      "01189050_ADC_holesfilled_20240116-111514.nii.gz\n",
      "01189050_ADC_brainextracted.nii.gz\n",
      "The following lines should show the same patientID and sequence:\n",
      "01189050_T1CE_holesfilled_20240116-111512.nii.gz\n",
      "01189050_T1CE_brainextracted.nii.gz\n",
      "The following lines should show the same patientID and sequence:\n",
      "01189050_FLAIR_holesfilled_20240116-111515.nii.gz\n",
      "01189050_FLAIR_brainextracted.nii.gz\n",
      "The following lines should show the same patientID and sequence:\n",
      "01189050_STERN_holesfilled_20240116-111512.nii.gz\n",
      "01189050_STERN_brainextracted.nii.gz\n",
      "The following lines should show the same patientID and sequence:\n",
      "01189050_DWI_holesfilled_20240116-111513.nii.gz\n",
      "01189050_DWI_brainextracted.nii.gz\n",
      "The following lines should show the same patientID and sequence:\n",
      "01189050_T2_holesfilled_20240116-111513.nii.gz\n",
      "01189050_T2_brainextracted.nii.gz\n"
     ]
    },
    {
     "name": "stderr",
     "output_type": "stream",
     "text": [
      " 88%|████████▊ | 7/8 [00:02<00:00,  3.93it/s]"
     ]
    },
    {
     "name": "stdout",
     "output_type": "stream",
     "text": [
      "The following lines should show the same patientID and sequence:\n",
      "01311383_T1CE_holesfilled_20240116-111516.nii.gz\n",
      "01311383_T1CE_brainextracted.nii.gz\n",
      "The following lines should show the same patientID and sequence:\n",
      "01311383_ADC_holesfilled_20240116-111517.nii.gz\n",
      "01311383_ADC_brainextracted.nii.gz\n",
      "The following lines should show the same patientID and sequence:\n",
      "01311383_DWI_holesfilled_20240116-111517.nii.gz\n",
      "01311383_DWI_brainextracted.nii.gz\n",
      "The following lines should show the same patientID and sequence:\n",
      "01311383_FLAIR_holesfilled_20240116-111516.nii.gz\n",
      "01311383_FLAIR_brainextracted.nii.gz\n",
      "The following lines should show the same patientID and sequence:\n",
      "01311383_STERN_holesfilled_20240116-111518.nii.gz\n",
      "01311383_STERN_brainextracted.nii.gz\n",
      "The following lines should show the same patientID and sequence:\n",
      "01311383_T2_holesfilled_20240116-111518.nii.gz\n",
      "01311383_T2_brainextracted.nii.gz\n",
      "The following lines should show the same patientID and sequence:\n",
      "01311383_T1_holesfilled_20240116-111515.nii.gz\n",
      "01311383_T1_brainextracted.nii.gz\n",
      "The following lines should show the same patientID and sequence:\n",
      "01261127_T1CE_holesfilled_20240116-111519.nii.gz\n",
      "01261127_T1CE_brainextracted.nii.gz\n"
     ]
    },
    {
     "name": "stderr",
     "output_type": "stream",
     "text": [
      "100%|██████████| 8/8 [00:02<00:00,  2.86it/s]\n"
     ]
    }
   ],
   "source": [
    "path_to_cropped_images = funcs.createNewPreprocessingStepFolder(\"4cropped\")\n",
    "\n",
    "# get an array of all the patients in the filled images and the extracted images\n",
    "# go through the list of filled images, find the corresponding extracted images\n",
    "# create bounding box and apply it to the extracted image\n",
    "# save extracted image\n",
    "\n",
    "# gets only the folders at path and puts them in an array \n",
    "patient_folders = [\n",
    "    folder for folder in os.listdir(path_to_filled_holes_files) if os.path.isdir(os.path.join(path_to_filled_holes_files, folder))\n",
    "]\n",
    "\n",
    "extracted_patients = [\n",
    "    folder for folder in os.listdir(path_to_extracted_images) if os.path.isdir(os.path.join(path_to_extracted_images, folder))\n",
    "]\n",
    "\n",
    "for patient in tqdm(patient_folders):\n",
    "\n",
    "    # ignores the ds_folders\n",
    "    if config.dsStore in patient:\n",
    "        continue\n",
    "\n",
    "    patientID = patient\n",
    "\n",
    "    # creates a new folder in the preprocessing directory\n",
    "    funcs.createFolderForPatient(path_to_cropped_images, patientID)\n",
    "\n",
    "    holesFilledFiles = [\n",
    "        holesFilledFile for holesFilledFile in os.listdir(os.path.join(path_to_filled_holes_files, patient)) if (\"holesfilled\" in holesFilledFile)\n",
    "    ]\n",
    "\n",
    "    # check if there are files for the same patient in the extracted patients dir\n",
    "    if patientID in extracted_patients:\n",
    "\n",
    "        # get extracted images for the patient\n",
    "        brainExtractedFiles = [\n",
    "            extractedFile for extractedFile in os.listdir(os.path.join(path_to_extracted_images, patient)) if ((\"brainextracted\" in extractedFile) and (\"mask\" not in extractedFile))\n",
    "        ]\n",
    "\n",
    "        for filledFile in holesFilledFiles:\n",
    "\n",
    "            # get sequence type\n",
    "            sequenceType = (filledFile.split(\"_\")[1]).split(\".\")[0]\n",
    "\n",
    "            if any(sequenceType in extractedFile for extractedFile in brainExtractedFiles):\n",
    "\n",
    "                brainExtractedFileName = \"\"\n",
    "\n",
    "                matchingFiles = [extractedFile for extractedFile in brainExtractedFiles if (f\"_{sequenceType}_\") in extractedFile]\n",
    "\n",
    "                if len(matchingFiles) > 1:\n",
    "                    print(\"Warning: more than one file matching\")\n",
    "                    print(matchingFiles)\n",
    "                elif len(matchingFiles) == 1:\n",
    "                    brainExtractedFileName = matchingFiles[0]\n",
    "                else:\n",
    "                    print(\"No matching files found, continuing loop\")\n",
    "                    continue\n",
    "                \n",
    "                #print(\"The following lines should show the same patientID and sequence:\")\n",
    "                #print(filledFile)\n",
    "                #print(brainExtractedFileName)\n",
    "                \n",
    "                path_to_hf_file = os.path.join(path_to_filled_holes_files, patient, filledFile)\n",
    "                hf_mask_image = sitk.ReadImage(path_to_hf_file, imageIO=\"NiftiImageIO\")\n",
    "\n",
    "                path_to_bet_file = os.path.join(path_to_extracted_images, patient, brainExtractedFileName)\n",
    "                bet_image = sitk.ReadImage(path_to_bet_file, imageIO=\"NiftiImageIO\")\n",
    "\n",
    "                lsif = sitk.LabelShapeStatisticsImageFilter()\n",
    "                lsif.Execute(hf_mask_image)\n",
    "                bounding_box = np.array(lsif.GetBoundingBox(1))\n",
    "\n",
    "                cropped_image = bet_image[\n",
    "                    bounding_box[0] : bounding_box[3] + bounding_box[0],\n",
    "                    bounding_box[1] : bounding_box[4] + bounding_box[1],\n",
    "                    bounding_box[2] : bounding_box[5] + bounding_box[2],\n",
    "                ]\n",
    "\n",
    "                now = datetime.now()\n",
    "                timeFormatted = now.strftime(\"%Y%m%d-%H%M%S\")\n",
    "\n",
    "                path_to_output_image = f\"{path_to_cropped_images}/{patientID}/{patientID}_{sequenceType}_cropped_{timeFormatted}.nii.gz\"\n",
    "                sitk.WriteImage(cropped_image, path_to_output_image, imageIO = \"NiftiImageIO\")"
   ]
  },
  {
   "cell_type": "markdown",
   "metadata": {},
   "source": [
    "## Step 07: Apply Bias Correction"
   ]
  },
  {
   "cell_type": "code",
   "execution_count": 9,
   "metadata": {},
   "outputs": [
    {
     "name": "stderr",
     "output_type": "stream",
     "text": [
      "100%|██████████| 8/8 [11:51<00:00, 88.96s/it] \n"
     ]
    }
   ],
   "source": [
    "path_to_n4_corrected_images = funcs.createNewPreprocessingStepFolder(\"5n4corrected\")\n",
    "\n",
    "# gets only the folders at path and puts them in an array \n",
    "patient_folders = [\n",
    "    folder for folder in os.listdir(path_to_cropped_images) if os.path.isdir(os.path.join(path_to_cropped_images, folder))\n",
    "]\n",
    "\n",
    "for patient in tqdm(patient_folders):\n",
    "\n",
    "    # ignores the ds_folders\n",
    "    if config.dsStore in patient:\n",
    "        continue\n",
    "\n",
    "    patientID = patient\n",
    "\n",
    "    # creates a new folder in the preprocessing directory\n",
    "    funcs.createFolderForPatient(path_to_n4_corrected_images, patientID)\n",
    "\n",
    "    croppedFiles = [\n",
    "        croppedFile for croppedFile in os.listdir(os.path.join(path_to_cropped_images, patient)) if (\"cropped\" in croppedFile)\n",
    "    ]\n",
    "\n",
    "    for croppedFile in croppedFiles:\n",
    "\n",
    "        path_to_cropped_file = os.path.join(path_to_cropped_images, patient, croppedFile)\n",
    "        cropped_image = sitk.ReadImage(path_to_cropped_file, imageIO=\"NiftiImageIO\")\n",
    "\n",
    "        mask_image = binary_segment_brain(cropped_image)\n",
    "        floatImage = sitk.Cast(cropped_image, sitk.sitkFloat32) # apparently n4biasfieldcorrectionimagefilter doesn't take int16, that's why i added this line\n",
    "        corrector = sitk.N4BiasFieldCorrectionImageFilter()\n",
    "        image_corrected = corrector.Execute(floatImage, mask_image) # originally corrector.Execute(cropped_image, mask_image)\n",
    "\n",
    "        mask_filter = sitk.MaskImageFilter()\n",
    "        mask_filter.SetOutsideValue(0)\n",
    "        image_corrected_masked = mask_filter.Execute(image_corrected, mask_image)\n",
    "\n",
    "        sequenceType = (croppedFile.split(\"_\")[1])# .split(\".\")[0]\n",
    "\n",
    "        now = datetime.now()\n",
    "        timeFormatted = now.strftime(\"%Y%m%d-%H%M%S\")\n",
    "\n",
    "        path_to_output_image = f\"{path_to_n4_corrected_images}/{patientID}/{patientID}_{sequenceType}_n4corrected_{timeFormatted}.nii.gz\"\n",
    "        sitk.WriteImage(image_corrected_masked, path_to_output_image, imageIO = \"NiftiImageIO\")\n",
    "\n",
    "        "
   ]
  },
  {
   "cell_type": "markdown",
   "metadata": {},
   "source": [
    "## Step 08: Coregister Images"
   ]
  },
  {
   "cell_type": "code",
   "execution_count": 12,
   "metadata": {},
   "outputs": [],
   "source": [
    "def coregister_antspy(\n",
    "    fixed_path: Union[str, pathlib.Path],\n",
    "    moving_path: Union[str, pathlib.Path],\n",
    "    out_path: Union[str, pathlib.Path],\n",
    "    num_threads=N_PROC,\n",
    ") -> ants.core.ants_image.ANTsImage:\n",
    "    \"\"\"\n",
    "    Coregister moving image to fixed image. Return warped image and save to disk.\n",
    "\n",
    "    Keyword Arguments:\n",
    "    fixed_path: path to fixed image\n",
    "    moving_path: path to moving image\n",
    "    out_path: path to save warped image to\n",
    "    num_threads: number of threads\n",
    "    \"\"\"\n",
    "\n",
    "    os.environ[\"ITK_GLOBAL_DEFAULT_NUMBER_OF_THREADS\"] = str(num_threads)\n",
    "\n",
    "    res = ants.registration(\n",
    "        fixed=ants.image_read(fixed_path),\n",
    "        moving=ants.image_read(moving_path),\n",
    "        type_of_transform=\"antsRegistrationSyNQuick[s]\",  # or \"SyNRA\"\n",
    "        initial_transform=None,\n",
    "        outprefix=\"\",\n",
    "        mask=None,\n",
    "        moving_mask=None,\n",
    "        mask_all_stages=False,\n",
    "        grad_step=0.2,\n",
    "        flow_sigma=3,\n",
    "        total_sigma=0,\n",
    "        aff_metric=\"mattes\",\n",
    "        aff_sampling=32,\n",
    "        aff_random_sampling_rate=0.2,\n",
    "        syn_metric=\"mattes\",\n",
    "        syn_sampling=32,\n",
    "        reg_iterations=(40, 20, 0),\n",
    "        aff_iterations=(2100, 1200, 1200, 10),\n",
    "        aff_shrink_factors=(6, 4, 2, 1),\n",
    "        aff_smoothing_sigmas=(3, 2, 1, 0),\n",
    "        write_composite_transform=False,\n",
    "        random_seed=None,\n",
    "        verbose=False,\n",
    "        multivariate_extras=None,\n",
    "        restrict_transformation=None,\n",
    "        smoothing_in_mm=False,\n",
    "    )\n",
    "\n",
    "    warped_moving = res[\"warpedmovout\"]\n",
    "\n",
    "    ants.image_write(warped_moving, out_path)\n",
    "\n",
    "    return warped_moving"
   ]
  },
  {
   "cell_type": "code",
   "execution_count": 13,
   "metadata": {},
   "outputs": [
    {
     "name": "stderr",
     "output_type": "stream",
     "text": [
      "100%|██████████| 5/5 [05:24<00:00, 64.95s/it]\n",
      "100%|██████████| 6/6 [00:20<00:00,  3.44s/it]]\n",
      "100%|██████████| 6/6 [00:31<00:00,  5.30s/it]]\n",
      "100%|██████████| 5/5 [00:18<00:00,  3.72s/it] \n",
      "100%|██████████| 6/6 [00:38<00:00,  6.49s/it]\n",
      "100%|██████████| 6/6 [00:20<00:00,  3.45s/it]\n",
      "100%|██████████| 6/6 [00:21<00:00,  3.59s/it]\n",
      "100%|██████████| 7/7 [07:56<00:00, 68.14s/it]\n"
     ]
    }
   ],
   "source": [
    "# To-do:\n",
    "# get t1 for every patient\n",
    "# apply coregistration on other sequences\n",
    "# save in new folder\n",
    "\n",
    "path_to_coregistered_images = funcs.createNewPreprocessingStepFolder(\"6coregistered\")\n",
    "\n",
    "# gets only the folders at path and puts them in an array \n",
    "patient_folders = [\n",
    "    folder for folder in os.listdir(path_to_n4_corrected_images) if os.path.isdir(os.path.join(path_to_n4_corrected_images, folder))\n",
    "]\n",
    "\n",
    "for patient in tqdm(patient_folders):\n",
    "\n",
    "    # ignores the ds_folders\n",
    "    if config.dsStore in patient:\n",
    "        continue\n",
    "\n",
    "    patientID = patient\n",
    "\n",
    "    # creates a new folder in the preprocessing directory\n",
    "    funcs.createFolderForPatient(path_to_coregistered_images, patientID)\n",
    "\n",
    "    n4correctedImages = [\n",
    "        n4correctedImage for n4correctedImage in os.listdir(os.path.join(path_to_n4_corrected_images, patient)) if (\"n4corrected\" in n4correctedImage)\n",
    "    ]\n",
    "\n",
    "    # get t1 sequences\n",
    "    t1_sequences_list = [\n",
    "        t1 for t1 in n4correctedImages if \"_T1_\" in t1\n",
    "    ]\n",
    "\n",
    "    other_sequences_list = [\n",
    "        sequence for sequence in n4correctedImages if (\"_T1_\" not in sequence)\n",
    "    ]\n",
    "\n",
    "    if len(t1_sequences_list) > 1:\n",
    "        print(\"Warning: multiple t1 sequences found\")\n",
    "    elif len(t1_sequences_list) == 0:\n",
    "        print(\"Warning: no T1 sequences found\")\n",
    "    else: # exactly 1 sequence\n",
    "        path_to_t1_sequence = os.path.join(path_to_n4_corrected_images, patientID, t1_sequences_list[0])\n",
    "        # copy t1 sequence into new folder\n",
    "        now = datetime.now()\n",
    "        timeFormatted = now.strftime(\"%Y%m%d-%H%M%S\")\n",
    "        shutil.copy(path_to_t1_sequence, f\"{path_to_coregistered_images}/{patientID}/{patientID}_T1_coregistered_{timeFormatted}.nii.gz\")\n",
    "\n",
    "        for other_sequence in tqdm(other_sequences_list):\n",
    "\n",
    "            moving_path = os.path.join(path_to_n4_corrected_images, patientID, other_sequence)\n",
    "\n",
    "            sequenceType = (other_sequence.split(\"_\")[1])\n",
    "\n",
    "            now = datetime.now()\n",
    "            timeFormatted = now.strftime(\"%Y%m%d-%H%M%S\")\n",
    "\n",
    "            path_to_output_image = f\"{path_to_coregistered_images}/{patientID}/{patientID}_{sequenceType}_coregistered_{timeFormatted}.nii.gz\"\n",
    "            \n",
    "            warped_moving_image = coregister_antspy(fixed_path=path_to_t1_sequence, moving_path=moving_path, out_path=path_to_output_image)\n"
   ]
  },
  {
   "cell_type": "markdown",
   "metadata": {},
   "source": [
    "## Step 09: Resample Images"
   ]
  },
  {
   "cell_type": "code",
   "execution_count": 14,
   "metadata": {},
   "outputs": [],
   "source": [
    "def resample(\n",
    "    itk_image: sitk.Image,\n",
    "    out_spacing: Tuple[float, ...],\n",
    "    is_mask: bool,\n",
    ") -> sitk.Image:\n",
    "    \"\"\"\n",
    "    Resamples sitk image to expected output spacing\n",
    "\n",
    "    Keyword Arguments:\n",
    "    itk_image: sitk.Image\n",
    "    out_spacing: Tuple\n",
    "    is_mask: bool = True if input image is label mask -> NN-interpolation\n",
    "\n",
    "    Returns\n",
    "    output_image: sitk.Image = image resampled to out_spacing\n",
    "    \"\"\"\n",
    "\n",
    "    original_spacing = itk_image.GetSpacing()\n",
    "    original_size = itk_image.GetSize()\n",
    "\n",
    "    out_size = [\n",
    "        int(round(osz * osp / nsp))\n",
    "        for osz, osp, nsp in zip(original_size, original_spacing, out_spacing)\n",
    "    ]\n",
    "\n",
    "    resample = sitk.ResampleImageFilter()\n",
    "    resample.SetOutputSpacing(out_spacing)\n",
    "    resample.SetSize(out_size)\n",
    "    resample.SetOutputDirection(itk_image.GetDirection())\n",
    "    resample.SetOutputOrigin(itk_image.GetOrigin())\n",
    "    resample.SetTransform(sitk.Transform())\n",
    "    resample.SetDefaultPixelValue(0)\n",
    "\n",
    "    if is_mask:\n",
    "        resample.SetInterpolator(sitk.sitkNearestNeighbor)\n",
    "\n",
    "    else:\n",
    "        resample.SetInterpolator(\n",
    "            sitk.sitkBSpline\n",
    "        )  # sitk.sitkLinear sitk.sitkNearestNeighbor\n",
    "\n",
    "    output_image = resample.Execute(itk_image)\n",
    "\n",
    "    return output_image"
   ]
  },
  {
   "cell_type": "code",
   "execution_count": 19,
   "metadata": {},
   "outputs": [
    {
     "name": "stderr",
     "output_type": "stream",
     "text": [
      "100%|██████████| 6/6 [00:04<00:00,  1.23it/s]\n",
      "100%|██████████| 7/7 [00:02<00:00,  3.29it/s]\n",
      "100%|██████████| 7/7 [00:02<00:00,  3.26it/s]\n",
      "100%|██████████| 6/6 [00:01<00:00,  3.21it/s]\n",
      "100%|██████████| 7/7 [00:02<00:00,  2.59it/s]\n",
      "100%|██████████| 7/7 [00:01<00:00,  3.50it/s]\n",
      "100%|██████████| 7/7 [00:02<00:00,  3.23it/s]\n",
      "100%|██████████| 7/7 [00:17<00:00,  2.56s/it]\n"
     ]
    }
   ],
   "source": [
    "path_to_resampled_images = funcs.createNewPreprocessingStepFolder(\"7resampled\")\n",
    "\n",
    "# gets only the folders at path and puts them in an array \n",
    "patient_folders = [\n",
    "    folder for folder in os.listdir(path_to_coregistered_images) if os.path.isdir(os.path.join(path_to_coregistered_images, folder))\n",
    "]\n",
    "\n",
    "for patient in tqdm(patient_folders):\n",
    "\n",
    "    # ignores the ds_folders\n",
    "    if config.dsStore in patient:\n",
    "        continue\n",
    "\n",
    "    patientID = patient\n",
    "\n",
    "    # creates a new folder in the preprocessing directory\n",
    "    funcs.createFolderForPatient(path_to_resampled_images, patientID)\n",
    "\n",
    "    coregisteredImages = os.listdir(os.path.join(path_to_coregistered_images, patient))\n",
    "\n",
    "    for coregisteredImage in tqdm(coregisteredImages):\n",
    "\n",
    "        path_to_coregistered_image = os.path.join(path_to_coregistered_images, patientID, coregisteredImage)\n",
    "        sitk_coregisteredImage = sitk.ReadImage(path_to_coregistered_image, imageIO=\"NiftiImageIO\")\n",
    "\n",
    "        sequenceType = (coregisteredImage.split(\"_\")[1])\n",
    "\n",
    "        now = datetime.now()\n",
    "        timeFormatted = now.strftime(\"%Y%m%d-%H%M%S\")\n",
    "\n",
    "        path_to_output_image = f\"{path_to_resampled_images}/{patientID}/{patientID}_{sequenceType}_resampled_{timeFormatted}.nii.gz\"\n",
    "        sitk.WriteImage(resample(itk_image=sitk_coregisteredImage, out_spacing=(1,1,1), is_mask=False), path_to_output_image, imageIO = \"NiftiImageIO\")"
   ]
  },
  {
   "cell_type": "markdown",
   "metadata": {},
   "source": [
    "## Step 10: Z-Score Normalize Images\n",
    "using intensity-normalization https://pypi.org/project/intensity-normalization/\n",
    "\n",
    "```@inproceedings{reinhold2019evaluating,\n",
    "  title={Evaluating the impact of intensity normalization on {MR} image synthesis},\n",
    "  author={Reinhold, Jacob C and Dewey, Blake E and Carass, Aaron and Prince, Jerry L},\n",
    "  booktitle={Medical Imaging 2019: Image Processing},\n",
    "  volume={10949},\n",
    "  pages={109493H},\n",
    "  year={2019},\n",
    "  organization={International Society for Optics and Photonics}}\n",
    "``````\n",
    "The code didn't seem to change the images, wtf"
   ]
  },
  {
   "cell_type": "code",
   "execution_count": 21,
   "metadata": {},
   "outputs": [],
   "source": [
    "def zscore_normalize(image: sitk.Image) -> sitk.Image:\n",
    "    \"\"\"\n",
    "    Applies z score normalization to brain scan using a brain mask\n",
    "\n",
    "    Keyword Arguments:\n",
    "    image: sitk.Image = input brain scan\n",
    "\n",
    "    Returns:\n",
    "    normalized_brain_image: sitk.Image = normalized brain scan\n",
    "    \"\"\"\n",
    "\n",
    "    brain_mask = binary_segment_brain(image)\n",
    "\n",
    "    normalizer = ZScoreNormalize()\n",
    "    normalized_brain_array = normalizer(\n",
    "        sitk.GetArrayFromImage(image),\n",
    "        sitk.GetArrayFromImage(brain_mask),\n",
    "    )\n",
    "\n",
    "    normalized_brain_image = sitk.GetImageFromArray(normalized_brain_array)\n",
    "    normalized_brain_image.CopyInformation(image)\n",
    "\n",
    "    return normalized_brain_image"
   ]
  },
  {
   "cell_type": "code",
   "execution_count": 22,
   "metadata": {},
   "outputs": [
    {
     "name": "stderr",
     "output_type": "stream",
     "text": [
      "100%|██████████| 6/6 [00:03<00:00,  1.53it/s]\n",
      "100%|██████████| 7/7 [00:04<00:00,  1.63it/s]\n",
      "100%|██████████| 7/7 [00:04<00:00,  1.63it/s]\n",
      "100%|██████████| 6/6 [00:03<00:00,  1.59it/s]\n",
      "100%|██████████| 7/7 [00:05<00:00,  1.34it/s]\n",
      "100%|██████████| 7/7 [00:04<00:00,  1.74it/s]\n",
      "100%|██████████| 7/7 [00:04<00:00,  1.55it/s]\n",
      "100%|██████████| 7/7 [00:30<00:00,  4.30s/it]\n"
     ]
    }
   ],
   "source": [
    "path_to_znormalized_images = funcs.createNewPreprocessingStepFolder(\"8znormalized\")\n",
    "\n",
    "# gets only the folders at path and puts them in an array \n",
    "patient_folders = [\n",
    "    folder for folder in os.listdir(path_to_resampled_images) if os.path.isdir(os.path.join(path_to_resampled_images, folder))\n",
    "]\n",
    "\n",
    "for patient in tqdm(patient_folders):\n",
    "\n",
    "    # ignores the ds_folders\n",
    "    if config.dsStore in patient:\n",
    "        continue\n",
    "\n",
    "    patientID = patient\n",
    "\n",
    "    # creates a new folder in the preprocessing directory\n",
    "    funcs.createFolderForPatient(path_to_znormalized_images, patientID)\n",
    "\n",
    "    resampledImages = os.listdir(os.path.join(path_to_resampled_images, patient))\n",
    "\n",
    "    for resampledImage in tqdm(resampledImages):\n",
    "\n",
    "        path_to_resampled_image = os.path.join(path_to_resampled_images, patientID, resampledImage)\n",
    "        sitk_resampledImage = sitk.ReadImage(path_to_resampled_image, imageIO=\"NiftiImageIO\")\n",
    "\n",
    "        sequenceType = (resampledImage.split(\"_\")[1])\n",
    "\n",
    "        now = datetime.now()\n",
    "        timeFormatted = now.strftime(\"%Y%m%d-%H%M%S\")\n",
    "\n",
    "        path_to_output_image = f\"{path_to_znormalized_images}/{patientID}/{patientID}_{sequenceType}_zscorenormalized_{timeFormatted}.nii.gz\"\n",
    "        sitk.WriteImage(zscore_normalize(sitk_resampledImage), path_to_output_image, imageIO = \"NiftiImageIO\")"
   ]
  }
 ],
 "metadata": {
  "kernelspec": {
   "display_name": "Python 3",
   "language": "python",
   "name": "python3"
  },
  "language_info": {
   "codemirror_mode": {
    "name": "ipython",
    "version": 3
   },
   "file_extension": ".py",
   "mimetype": "text/x-python",
   "name": "python",
   "nbconvert_exporter": "python",
   "pygments_lexer": "ipython3",
   "version": "3.11.0"
  }
 },
 "nbformat": 4,
 "nbformat_minor": 2
}
